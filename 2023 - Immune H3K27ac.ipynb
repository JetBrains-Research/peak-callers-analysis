{
 "cells": [
  {
   "cell_type": "markdown",
   "metadata": {},
   "source": [
    "# 2023 Immune dataset H3K27ac\n",
    "\n",
    "Data:\n",
    "https://www.encodeproject.org/immune-cells/?type=Experiment&replicates.library.biosample.donor.organism.scientific_name=Homo+sapiens&biosample_ontology.cell_slims=hematopoietic+cell&biosample_ontology.classification=primary+cell&control_type!=*&status!=replaced&status!=revoked&status!=archived&biosample_ontology.system_slims=immune+system&biosample_ontology.system_slims=circulatory+system&config=immune"
   ]
  },
  {
   "cell_type": "code",
   "execution_count": null,
   "metadata": {
    "ExecuteTime": {
     "end_time": "2019-01-24T09:42:05.555231Z",
     "start_time": "2019-01-24T09:42:03.994631Z"
    }
   },
   "outputs": [],
   "source": [
    "%matplotlib inline\n",
    "%config InlineBackend.figure_format='retina'\n",
    "\n",
    "from IPython.display import display\n",
    "import pandas as pd\n",
    "from tqdm.auto import tqdm\n",
    "import seaborn as sns\n",
    "\n",
    "sns.set_style(\"whitegrid\")\n",
    "import matplotlib.pyplot as plt\n",
    "from matplotlib.backends.backend_pdf import PdfPages\n",
    "import numpy as np\n",
    "import scipy as sp\n",
    "import os"
   ]
  },
  {
   "cell_type": "code",
   "execution_count": null,
   "outputs": [],
   "source": [
    "def bedl(file):\n",
    "    try:\n",
    "        tf = pd.read_csv(file, sep='\\t', header=None)\n",
    "        return tf[2] - tf[1]\n",
    "    except:\n",
    "        return np.zeros(0)  # Empty file\n",
    "\n",
    "\n",
    "def lines(file):\n",
    "    try:\n",
    "        tf = pd.read_csv(file, sep='\\t', header=None)\n",
    "        return len(tf)\n",
    "    except:\n",
    "        return 0  # Empty file\n",
    "\n",
    "def d(a, b):\n",
    "    return a / b if b != 0 else 0\n"
   ],
   "metadata": {
    "collapsed": false
   }
  },
  {
   "cell_type": "markdown",
   "source": [
    "## Load peaks"
   ],
   "metadata": {
    "collapsed": false
   }
  },
  {
   "cell_type": "code",
   "execution_count": null,
   "outputs": [],
   "source": [
    "PATH = os.path.expanduser('~/data/2023_Immune')\n",
    "IMMUNE_CELLS = ['BCell', 'TCell']\n",
    "MODIFICATIONS = ['H3K27ac']\n",
    "\n",
    "def load_peaks_fdr(path, suffix, fdrs):\n",
    "    df_fdr = pd.DataFrame(columns=['file', 'modification', 'cell', 'fdr', 'peaks', 'avlength'],\n",
    "                          dtype=object)\n",
    "    for f in tqdm(os.listdir(path)):\n",
    "        if suffix not in f:\n",
    "            continue\n",
    "        fdr = next((fdr for fdr in fdrs if fdr in f), None)\n",
    "        cell = next((cc for cc in IMMUNE_CELLS if cc in f), None)\n",
    "        mod = next((m for m in MODIFICATIONS if m in f), None)\n",
    "        # print(f, fdr, cell, mod)\n",
    "        if fdr and cell and mod:\n",
    "            peaks_path = os.path.join(path, f)\n",
    "            ps, ls = lines(peaks_path), bedl(peaks_path)\n",
    "            avls = 0 if ps == 0 else sum(ls) / ps\n",
    "            df_fdr.loc[len(df_fdr)] = (f, mod, cell, fdr, ps, avls)\n",
    "    return df_fdr"
   ],
   "metadata": {
    "collapsed": false
   }
  },
  {
   "cell_type": "code",
   "execution_count": null,
   "outputs": [],
   "source": [
    "df_fdr_macs2 = load_peaks_fdr(os.path.join(PATH, 'macs2'), '.narrowPeak', ['0.05'])\n",
    "df_fdr_macs2['file'] = [f'{PATH}/macs2/{f}' for f in df_fdr_macs2['file']]\n",
    "df_fdr_macs2['tool'] = 'MACS2'\n",
    "print('MACS2', len(df_fdr_macs2))\n",
    "\n",
    "df_fdr_macs2broad = load_peaks_fdr(os.path.join(PATH, 'macs2'), '.broadPeak', ['0.1'])\n",
    "df_fdr_macs2broad['file'] = [f'{PATH}/macs2/{f}' for f in df_fdr_macs2broad['file']]\n",
    "df_fdr_macs2broad['tool'] = 'MACS2 broad'\n",
    "print('MACS2 broad', len(df_fdr_macs2broad))\n",
    "\n",
    "df_fdr_sicer = load_peaks_fdr(os.path.join(PATH, 'sicer'), 'summary-FDR', ['0.01'])\n",
    "df_fdr_sicer['file'] = [f'{PATH}/sicer/{f}' for f in df_fdr_sicer['file']]\n",
    "df_fdr_sicer['tool'] = 'SICER'\n",
    "print('SICER', len(df_fdr_sicer))\n",
    "\n",
    "df_fdr_span = load_peaks_fdr(os.path.join(PATH, 'span'), '.peak', ['0.05'])\n",
    "df_fdr_span['file'] = [f'{PATH}/span/{f}' for f in df_fdr_span['file']]\n",
    "df_fdr_span['tool'] = 'SPAN'\n",
    "print('SPAN', len(df_fdr_span))\n",
    "\n",
    "df_fdr_peaks = pd.concat([df_fdr_macs2, df_fdr_macs2broad, df_fdr_sicer, df_fdr_span])\n",
    "df_fdr_peaks.sample(5)"
   ],
   "metadata": {
    "collapsed": false
   }
  },
  {
   "cell_type": "code",
   "execution_count": null,
   "outputs": [],
   "source": [
    "TOOLS = ['MACS2', 'MACS2 broad', 'SICER', 'SPAN', 'DNAse']\n",
    "palette = plt.cm.get_cmap('tab10')\n",
    "TOOLS_PALETTE = {t: palette(i) for i, t in enumerate(TOOLS)}"
   ],
   "metadata": {
    "collapsed": false
   }
  },
  {
   "cell_type": "markdown",
   "source": [
    "## Peaks number and lengths"
   ],
   "metadata": {
    "collapsed": false
   }
  },
  {
   "cell_type": "code",
   "execution_count": null,
   "outputs": [],
   "source": [
    "plt.figure(figsize=(4, 4))\n",
    "ax = plt.axes()\n",
    "g_results = sns.barplot(data=df_fdr_peaks, x='tool', y='peaks', ax=ax,\n",
    "                        capsize=.2, errwidth=2, edgecolor=\"black\",\n",
    "                        palette=TOOLS_PALETTE)\n",
    "ax.xaxis.set_tick_params(rotation=90)\n",
    "ax.title.set_text('H3K27ac peaks number')\n",
    "plt.show()"
   ],
   "metadata": {
    "collapsed": false
   }
  },
  {
   "cell_type": "code",
   "execution_count": null,
   "outputs": [],
   "source": [
    "DNASE = {\n",
    "    'BCell': PATH + '/dnaseq/BCell_DNAseq_hg38_ENCFF963BED.bed',\n",
    "    'TCell': PATH + '/dnaseq/TCell_DNAseq_hg38_ENCFF762IIH.bed',\n",
    "    'Monocyte': PATH + '/dnaseq/Monocyte_DNAseq_hg38_ENCFF087SET.bed',\n",
    "}\n",
    "\n",
    "for cell, dnase_file in DNASE.items():\n",
    "    print(cell, lines(dnase_file))"
   ],
   "metadata": {
    "collapsed": false
   }
  },
  {
   "cell_type": "code",
   "execution_count": null,
   "outputs": [],
   "source": [
    "ts = []\n",
    "for dnase_file in DNASE.values():\n",
    "    t = pd.read_csv(dnase_file, sep='\\t', header=None)\n",
    "    ts.append(pd.DataFrame(dict(name=['DNAse'] * len(t), length=t[2]-t[1])))\n",
    "for file, tool in tqdm(zip(df_fdr_peaks['file'], df_fdr_peaks['tool'])):\n",
    "    lengths = bedl(file)\n",
    "    t = pd.DataFrame(dict(name=[tool] * len(lengths), length=lengths))\n",
    "    ts.append(t.sample(min(len(t), 10_000)))\n",
    "t = pd.concat(ts).reset_index(drop=True)\n",
    "del ts\n",
    "t.sample(10)"
   ],
   "metadata": {
    "collapsed": false
   }
  },
  {
   "cell_type": "code",
   "execution_count": null,
   "outputs": [],
   "source": [
    "plt.figure(figsize=(4, 4))\n",
    "ax = plt.axes()\n",
    "g_results = sns.boxplot(data=t, x='name', y='length', ax=ax, palette=TOOLS_PALETTE)\n",
    "ax.title.set_text('H3K27ac peaks length')\n",
    "ax.xaxis.set_tick_params(rotation=90)\n",
    "ax.set_ylim([0, 10_000])\n",
    "plt.show()"
   ],
   "metadata": {
    "collapsed": false
   }
  },
  {
   "cell_type": "code",
   "execution_count": null,
   "outputs": [],
   "source": [
    "plt.figure(figsize=(8, 5))\n",
    "ax = plt.axes()\n",
    "g_results = sns.histplot(data=t, x='length', hue='name', ax=ax,\n",
    "                         stat='density', common_bins=False, common_norm=False,\n",
    "                         bins=50, kde=True, log_scale=True, alpha=0.2,\n",
    "                         palette=TOOLS_PALETTE)\n",
    "g_results.set(xscale='log')\n",
    "g_results.set_ylim(0, 4.1)\n",
    "g_results.set_xlim(1e2, 3e4)\n",
    "ax.title.set_text('H3K27ac peaks length')\n",
    "plt.show()"
   ],
   "metadata": {
    "collapsed": false
   }
  },
  {
   "cell_type": "code",
   "execution_count": null,
   "outputs": [],
   "source": [
    "# Randomly tweak SPAN, SICER lengths for visualization purposes\n",
    "tsicer = t['name'] == 'SICER'\n",
    "t.loc[tsicer, 'length'] += np.random.normal(0, 50, size=sum(tsicer))\n",
    "tspan = t['name'] == 'SPAN'\n",
    "t.loc[tspan, 'length'] += np.random.normal(0, 50, size=sum(tspan))"
   ],
   "metadata": {
    "collapsed": false
   }
  },
  {
   "cell_type": "code",
   "execution_count": null,
   "outputs": [],
   "source": [
    "plt.figure(figsize=(8, 5))\n",
    "ax = plt.axes()\n",
    "g_results = sns.histplot(data=t, x='length', hue='name', ax=ax,\n",
    "                         stat='density', common_bins=False, common_norm=False,\n",
    "                         bins=200, kde=True, log_scale=True, alpha=0.2,\n",
    "                         palette=TOOLS_PALETTE)\n",
    "g_results.set(xscale='log')\n",
    "g_results.set_ylim(0, 2)\n",
    "g_results.set_xlim(1e2, 3e4)\n",
    "ax.title.set_text('H3K27ac peaks length')\n",
    "plt.show()"
   ],
   "metadata": {
    "collapsed": false
   }
  },
  {
   "cell_type": "markdown",
   "source": [
    "## Overlap H3K27ac vs DHS"
   ],
   "metadata": {
    "collapsed": false
   }
  },
  {
   "cell_type": "code",
   "execution_count": null,
   "outputs": [],
   "source": [
    "import tempfile\n",
    "tf = tempfile.mktemp()\n",
    "\n",
    "bench_df = pd.DataFrame(\n",
    "    columns=['cell', 'name', 'peaks', 'dnase', 'peaks_overlap', 'dnase_overlap'],\n",
    "    dtype=object\n",
    ")\n",
    "\n",
    "for c in tqdm(IMMUNE_CELLS):\n",
    "    dnase_file = DNASE[c]\n",
    "    dnase_peaks = lines(dnase_file)\n",
    "    print(f'Cell {c} dnase {dnase_peaks}')\n",
    "    for tool in set(df_fdr_peaks['tool']):\n",
    "        t = df_fdr_peaks[(df_fdr_peaks['tool'] == tool) &\n",
    "                         (df_fdr_peaks['modification'] == 'H3K27ac') &\n",
    "                         (df_fdr_peaks['cell'] == c)]\n",
    "        if len(t) == 0:\n",
    "            continue\n",
    "        peaks_file = t['file'].values[0]\n",
    "        peaks = lines(peaks_file)\n",
    "        !bedtools intersect -a {peaks_file} -b {dnase_file} -wa -u > {tf}\n",
    "        peaks_overlap = lines(tf)\n",
    "        !bedtools intersect -b {peaks_file} -a {dnase_file} -wa -u > {tf}\n",
    "        dnase_overlap = lines(tf)\n",
    "        bench_df.loc[len(bench_df)] = (c, tool, peaks, dnase_peaks, peaks_overlap, dnase_overlap)\n",
    "bench_df"
   ],
   "metadata": {
    "collapsed": false
   }
  },
  {
   "cell_type": "code",
   "execution_count": null,
   "outputs": [],
   "source": [
    "bench_df['precision'] = [d(a, b) for a, b in zip(bench_df['peaks_overlap'], bench_df['peaks'])]\n",
    "bench_df['sensitivity'] = [d(a, b) for a, b in zip(bench_df['dnase_overlap'], bench_df['dnase'])]\n",
    "bench_df['f1'] = [d(2, d(1, s + 1e-10) + d(1, p + 1e-10))\n",
    "                  for s, p in zip(bench_df['sensitivity'], bench_df['precision'])]"
   ],
   "metadata": {
    "collapsed": false
   }
  },
  {
   "cell_type": "code",
   "execution_count": null,
   "outputs": [],
   "source": [
    "# print('Ignore outliers')\n",
    "# print(len(bench_df[bench_df['precision'] < 0.1]))\n",
    "# bench_df = bench_df[bench_df['precision'] >= 0.1]"
   ],
   "metadata": {
    "collapsed": false
   }
  },
  {
   "cell_type": "code",
   "execution_count": null,
   "outputs": [],
   "source": [
    "import seaborn as sns\n",
    "\n",
    "plt.figure(figsize=(6, 4))\n",
    "g_results = sns.scatterplot(data=bench_df, x='precision', y='sensitivity', hue='name',\n",
    "                            palette=TOOLS_PALETTE)\n",
    "# Put a legend to the right of the current axis\n",
    "g_results.axes.legend(loc='center left', bbox_to_anchor=(1, 0.5))\n",
    "g_results.axes.set_xlabel('Peaks overlapping with dnase (precision)')\n",
    "g_results.axes.set_ylabel('Dnase overlapping with peaks (sensitivity)')\n",
    "plt.tight_layout()\n",
    "plt.show()"
   ],
   "metadata": {
    "collapsed": false
   }
  },
  {
   "cell_type": "code",
   "execution_count": null,
   "outputs": [],
   "source": [
    "plt.figure(figsize=(4, 4))\n",
    "g_results = sns.boxplot(data=bench_df, x='name', y='sensitivity',\n",
    "                        palette=TOOLS_PALETTE)\n",
    "g_results.axes.set_ylabel('Dnase overlapping with peaks (sensitivity)')\n",
    "plt.show()"
   ],
   "metadata": {
    "collapsed": false
   }
  },
  {
   "cell_type": "code",
   "execution_count": null,
   "outputs": [],
   "source": [
    "plt.figure(figsize=(4, 4))\n",
    "g_results = sns.boxplot(data=bench_df, x='name', y='precision',\n",
    "                        palette=TOOLS_PALETTE)\n",
    "g_results.axes.set_ylabel('Peaks overlapping with dnase (precision)')\n",
    "plt.show()"
   ],
   "metadata": {
    "collapsed": false
   }
  },
  {
   "cell_type": "code",
   "execution_count": null,
   "outputs": [],
   "source": [
    "plt.figure(figsize=(4, 4))\n",
    "sns.boxplot(data=bench_df, x='name', y='f1', palette=TOOLS_PALETTE)\n",
    "plt.show()"
   ],
   "metadata": {
    "collapsed": false
   }
  },
  {
   "cell_type": "markdown",
   "source": [
    "## Overlap H3K27ac diff vs DHS"
   ],
   "metadata": {
    "collapsed": false
   }
  },
  {
   "cell_type": "code",
   "execution_count": null,
   "outputs": [],
   "source": [
    "TOOLS = list(sorted(set(bench_df['name'])))\n",
    "\n",
    "diff_bench_df = pd.DataFrame(\n",
    "    columns=['cell', 'name', 'peaks', 'peaks_overlap', 'dnase', 'dnase_overlap'],\n",
    "    dtype=object\n",
    ")\n",
    "\n",
    "tf = tempfile.mktemp()\n",
    "tf2 = tempfile.mktemp()\n",
    "\n",
    "\n",
    "for c in tqdm(IMMUNE_CELLS):\n",
    "    print(c)\n",
    "    dnase_file = DNASE[c]\n",
    "    t = df_fdr_peaks[(df_fdr_peaks['tool'] == 'SPAN') &\n",
    "                     (df_fdr_peaks['modification'] == 'H3K27ac') &\n",
    "                     (df_fdr_peaks['cell'] == c)]\n",
    "    if len(t) == 0:\n",
    "        continue\n",
    "    span_file = t['file'].values[0]\n",
    "    dnase_peaks = lines(dnase_file)\n",
    "    # Processing single tools information\n",
    "    for tool in TOOLS:\n",
    "        if tool == 'SPAN':\n",
    "            continue\n",
    "        t = df_fdr_peaks[(df_fdr_peaks['tool'] == tool) &\n",
    "                         (df_fdr_peaks['modification'] == 'H3K27ac') &\n",
    "                         (df_fdr_peaks['cell'] == c)]\n",
    "        if len(t) == 0:\n",
    "            continue\n",
    "        peaks_file = t['file'].values[0]\n",
    "        for name, args in [\n",
    "            (f'SPAN - {tool}', f' -a {span_file} -b {peaks_file} '),\n",
    "            (f'{tool} - SPAN', f' -b {span_file} -a {peaks_file} ')]:\n",
    "            !bedtools intersect {args} -wa -v > {tf}\n",
    "            peaks = lines(tf)\n",
    "            !bedtools intersect -a {tf} -b {dnase_file} -wa -u > {tf2}\n",
    "            peaks_overlap = lines(tf2)\n",
    "            !bedtools intersect -b {tf} -a {dnase_file} -wa -u > {tf2}\n",
    "            dnase_overlap = lines(tf2)\n",
    "            diff_bench_df.loc[len(diff_bench_df)] = \\\n",
    "                (c, name, peaks, peaks_overlap, dnase_peaks, dnase_overlap)\n",
    "\n",
    "display(diff_bench_df.head())"
   ],
   "metadata": {
    "collapsed": false
   }
  },
  {
   "cell_type": "code",
   "execution_count": null,
   "outputs": [],
   "source": [
    "diff_bench_df['precision'] = [d(a, b) for a, b in zip(diff_bench_df['peaks_overlap'], diff_bench_df['peaks'])]\n",
    "diff_bench_df['sensitivity'] = [d(a, b) for a, b in zip(diff_bench_df['dnase_overlap'], diff_bench_df['dnase'])]\n",
    "diff_bench_df['f1'] = [d(2, d(1, s + 1e-10) + d(1, p + 1e-10))\n",
    "                  for s, p in zip(diff_bench_df['sensitivity'], diff_bench_df['precision'])]"
   ],
   "metadata": {
    "collapsed": false
   }
  },
  {
   "cell_type": "code",
   "execution_count": null,
   "outputs": [],
   "source": [
    "full_diff_bench_df = pd.concat([bench_df, diff_bench_df]).reset_index(drop=True)\n",
    "full_diff_bench_df"
   ],
   "metadata": {
    "collapsed": false
   }
  },
  {
   "cell_type": "code",
   "execution_count": null,
   "outputs": [],
   "source": [
    "plt.figure(figsize=(4, 4))\n",
    "ax = plt.axes()\n",
    "ax.title.set_text('Number of peaks')\n",
    "g_results = sns.barplot(data=full_diff_bench_df, x='name', y='peaks',\n",
    "                        capsize=.2, errwidth=1, ax=ax,\n",
    "                        order=['MACS2', 'MACS2 broad', 'SICER', 'SPAN',\n",
    "                               'SPAN - MACS2', 'SPAN - MACS2 broad', 'SPAN - SICER',\n",
    "                               'MACS2 - SPAN', 'MACS2 broad - SPAN', 'SICER - SPAN',\n",
    "                               ])\n",
    "ax.xaxis.set_tick_params(rotation=90)\n",
    "ax.set_ylim(top=60_000)  # Limit for visual aesthetics\n",
    "ax.set_ylabel('Number')\n",
    "plt.tight_layout()\n",
    "plt.show()"
   ],
   "metadata": {
    "collapsed": false
   }
  },
  {
   "cell_type": "code",
   "execution_count": null,
   "outputs": [],
   "source": [
    "plt.figure(figsize=(6, 4))\n",
    "ax = plt.axes()\n",
    "ax.title.set_text('Peaks overlapping with dnase (precision)')\n",
    "g_results = sns.barplot(data=full_diff_bench_df, x='name', y='precision',\n",
    "                        capsize=.2, errwidth=1, ax=ax,\n",
    "                        order=['MACS2', 'MACS2 broad', 'SICER', 'SPAN',\n",
    "                               'SPAN - MACS2', 'SPAN - MACS2 broad', 'SPAN - SICER',\n",
    "                               'MACS2 - SPAN', 'MACS2 broad - SPAN', 'SICER - SPAN',\n",
    "                               ])\n",
    "ax.xaxis.set_tick_params(rotation=90)\n",
    "ax.set_ylabel('Fraction')\n",
    "# Put a legend to the right of the current axis\n",
    "# ax.legend(loc='center left', bbox_to_anchor=(1, 0.5))\n",
    "plt.tight_layout()\n",
    "plt.show()"
   ],
   "metadata": {
    "collapsed": false
   }
  },
  {
   "cell_type": "code",
   "execution_count": null,
   "outputs": [],
   "source": [
    "plt.figure(figsize=(6, 4))\n",
    "ax = plt.axes()\n",
    "ax.title.set_text('Dnase overlapping with peaks (sensitivity)')\n",
    "g_results = sns.barplot(data=full_diff_bench_df, x='name', y='sensitivity',\n",
    "                        capsize=.2, errwidth=1, ax=ax,\n",
    "                        order=['MACS2', 'MACS2 broad', 'SICER', 'SPAN',\n",
    "                               'SPAN - MACS2', 'SPAN - MACS2 broad', 'SPAN - SICER',\n",
    "                               'MACS2 - SPAN', 'MACS2 broad - SPAN', 'SICER - SPAN',\n",
    "                               ])\n",
    "ax.xaxis.set_tick_params(rotation=90)\n",
    "ax.set_ylabel('Fraction')\n",
    "# Put a legend to the right of the current axis\n",
    "# ax.legend(loc='center left', bbox_to_anchor=(1, 0.5))\n",
    "plt.tight_layout()\n",
    "plt.show()"
   ],
   "metadata": {
    "collapsed": false
   }
  },
  {
   "cell_type": "code",
   "execution_count": null,
   "outputs": [],
   "source": [
    "plt.figure(figsize=(4, 4))\n",
    "ax = plt.axes()\n",
    "ax.title.set_text('Peaks overlapping with DNAse')\n",
    "g_results = sns.barplot(data=full_diff_bench_df, x='name', y='precision',\n",
    "                        capsize=.2, errwidth=1, ax=ax,\n",
    "                        order=['MACS2', 'MACS2 broad', 'SICER', 'SPAN',\n",
    "                               'SPAN - MACS2', 'SPAN - MACS2 broad', 'SPAN - SICER',\n",
    "                               'MACS2 - SPAN', 'MACS2 broad - SPAN', 'SICER - SPAN',\n",
    "                               ])\n",
    "ax.xaxis.set_tick_params(rotation=90)\n",
    "ax.set_ylabel('Fraction')\n",
    "plt.tight_layout()\n",
    "plt.show()"
   ],
   "metadata": {
    "collapsed": false
   }
  },
  {
   "cell_type": "code",
   "execution_count": null,
   "outputs": [],
   "source": [
    "plt.figure(figsize=(4, 4))\n",
    "ax = plt.axes()\n",
    "ax.title.set_text('Dnase overlapping with peaks')\n",
    "g_results = sns.barplot(data=full_diff_bench_df, x='name', y='sensitivity',\n",
    "                        capsize=.2, errwidth=1, ax=ax,\n",
    "                        order=['MACS2', 'MACS2 broad', 'SICER', 'SPAN',\n",
    "                               'SPAN - MACS2', 'SPAN - MACS2 broad', 'SPAN - SICER',\n",
    "                               'MACS2 - SPAN', 'MACS2 broad - SPAN', 'SICER - SPAN',\n",
    "                               ])\n",
    "ax.xaxis.set_tick_params(rotation=90)\n",
    "ax.set_ylabel('Fraction')\n",
    "plt.tight_layout()\n",
    "plt.show()"
   ],
   "metadata": {
    "collapsed": false
   }
  },
  {
   "cell_type": "markdown",
   "source": [
    "# Hg38 Top peaks overlap with DHS"
   ],
   "metadata": {
    "collapsed": false
   }
  },
  {
   "cell_type": "code",
   "execution_count": null,
   "outputs": [],
   "source": [
    "import tempfile\n",
    "from itertools import product\n",
    "\n",
    "tf = tempfile.mktemp()\n",
    "tf2 = tempfile.mktemp()\n",
    "\n",
    "benchmark_top_df = pd.DataFrame(\n",
    "    columns=['cell', 'top', 'dnase', 'peaks_file', 'peaks', 'pg', 'gp', 'tool'],\n",
    "    dtype=object\n",
    ")\n",
    "\n",
    "for c in tqdm(IMMUNE_CELLS):\n",
    "    print(c)\n",
    "    if c not in DNASE:\n",
    "        continue\n",
    "    dnase_file = DNASE[c]\n",
    "    dnase_peaks = lines(dnase_file)\n",
    "    for tool in set(df_fdr_peaks['tool']):\n",
    "        t = df_fdr_peaks[(df_fdr_peaks['tool'] == tool) &\n",
    "                         (df_fdr_peaks['modification'] == 'H3K27ac') &\n",
    "                         (df_fdr_peaks['cell'] == c)]\n",
    "        if len(t) == 0:\n",
    "            continue\n",
    "        peaks_file = t['file'].values[0]\n",
    "        peaks = lines(peaks_file)\n",
    "        t = pd.read_csv(peaks_file, sep='\\t', header=None)\n",
    "        t.sort_values(by=[8] if len(t.columns) >= 9 else [4], ascending=False, inplace=True)\n",
    "        for top in np.linspace(1000, 30000, 30):\n",
    "            t.head(int(top)).sort_values(by=[0, 1]).to_csv(tf, sep='\\t', index=False, header=None)\n",
    "            peaks = lines(tf)\n",
    "            ! bedtools intersect -a {tf} -b {dnase_file} -wa -u > {tf2}\n",
    "            peaks_overlap = lines(tf2)\n",
    "            ! bedtools intersect -b {tf} -a {dnase_file} -wa -u > {tf2}\n",
    "            dnase_overlap = lines(tf2)\n",
    "            benchmark_top_df.loc[len(benchmark_top_df)] = \\\n",
    "                (c, top, dnase_peaks, peaks_file, peaks, peaks_overlap, dnase_overlap, tool)\n",
    "\n",
    "benchmark_top_df"
   ],
   "metadata": {
    "collapsed": false
   }
  },
  {
   "cell_type": "code",
   "execution_count": null,
   "outputs": [],
   "source": [
    "benchmark_top_df['p'] = (benchmark_top_df['pg'] + benchmark_top_df['gp']) / 2\n",
    "benchmark_top_df['precision'] = [d(x, y) for x, y in zip(benchmark_top_df['pg'], benchmark_top_df['peaks'])]\n",
    "benchmark_top_df['sensitivity'] = [d(x, y) for x, y in zip(benchmark_top_df['gp'], benchmark_top_df['dnase'])]\n",
    "benchmark_top_df['f1'] = [2 / (d(1, s + 1e-10) + d(1, p + 1e-10)) for s, p in zip(benchmark_top_df['sensitivity'], benchmark_top_df['precision'])]\n",
    "benchmark_top_df"
   ],
   "metadata": {
    "collapsed": false
   }
  },
  {
   "cell_type": "code",
   "execution_count": null,
   "outputs": [],
   "source": [
    "def rgb2hex(color):\n",
    "    r, g, b, _ = color\n",
    "    return \"#{0:02x}{1:02x}{2:02x}\".format(int(r * 255), int(g * 255), int(b * 255))\n",
    "\n",
    "PLOTLY_TOOLS_PALETTE = {k: rgb2hex(v) for k, v in TOOLS_PALETTE.items()}"
   ],
   "metadata": {
    "collapsed": false
   }
  },
  {
   "cell_type": "code",
   "execution_count": null,
   "outputs": [],
   "source": [
    "import plotly.graph_objects as go\n",
    "\n",
    "def plot_top(benchmark_top_df):\n",
    "    tools_legend_shown = set()\n",
    "    fig = go.Figure()\n",
    "\n",
    "    for c, t in product(IMMUNE_CELLS, df_fdr_peaks['tool'].unique()):\n",
    "        dft = benchmark_top_df[(benchmark_top_df['cell'] == c) &\n",
    "                           (benchmark_top_df['tool'] == t)]\n",
    "        if len(dft) == 0:\n",
    "            continue\n",
    "        fig.add_trace(go.Scatter(\n",
    "            x=dft[\"precision\"], y=dft[\"sensitivity\"], mode='lines+markers', name=t,\n",
    "            hovertext=dft['top'].astype(str) + ' ' + t,\n",
    "            showlegend=t not in tools_legend_shown,\n",
    "            marker_color=PLOTLY_TOOLS_PALETTE[t],\n",
    "            opacity=0.3,\n",
    "        ))\n",
    "        tools_legend_shown.add(t)\n",
    "\n",
    "\n",
    "    fig.update_xaxes(range=[-0.1, 1.1], title='Peaks overlapping dnase (sensitivity)')\n",
    "    fig.update_yaxes(range=[-0.1, 1.1], title='Dnase overlapping peaks (precision)')\n",
    "\n",
    "    fig.layout.template = 'plotly_white'\n",
    "    fig.update_layout(\n",
    "        autosize=False,\n",
    "        width=800,\n",
    "        height=600,)\n",
    "    fig.show()\n"
   ],
   "metadata": {
    "collapsed": false
   }
  },
  {
   "cell_type": "code",
   "execution_count": null,
   "outputs": [],
   "source": [
    "plot_top(benchmark_top_df)"
   ],
   "metadata": {
    "collapsed": false
   }
  },
  {
   "cell_type": "code",
   "execution_count": null,
   "outputs": [],
   "source": [
    "plot_top(benchmark_top_df[benchmark_top_df['cell'] == 'TCell'])"
   ],
   "metadata": {
    "collapsed": false
   }
  },
  {
   "cell_type": "code",
   "execution_count": null,
   "outputs": [],
   "source": [],
   "metadata": {
    "collapsed": false
   }
  }
 ],
 "metadata": {
  "anaconda-cloud": {},
  "kernelspec": {
   "display_name": "Python 3",
   "language": "python",
   "name": "python3"
  },
  "language_info": {
   "codemirror_mode": {
    "name": "ipython",
    "version": 3
   },
   "file_extension": ".py",
   "mimetype": "text/x-python",
   "name": "python",
   "nbconvert_exporter": "python",
   "pygments_lexer": "ipython3",
   "version": "3.8.5"
  },
  "toc": {
   "nav_menu": {},
   "number_sections": true,
   "sideBar": true,
   "skip_h1_title": false,
   "toc_cell": false,
   "toc_position": {},
   "toc_section_display": "block",
   "toc_window_display": false
  }
 },
 "nbformat": 4,
 "nbformat_minor": 2
}
