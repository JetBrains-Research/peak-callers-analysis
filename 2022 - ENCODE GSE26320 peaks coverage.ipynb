{
 "cells": [
  {
   "cell_type": "markdown",
   "metadata": {
    "heading_collapsed": true,
    "pycharm": {
     "name": "#%% md\n"
    }
   },
   "source": [
    "# 2022 - ENCODE GSE26320 peaks coverage.ipynb\n",
    "\n",
    "\n",
    "See logbook: https://docs.google.com/document/d/1hjkhjo6cB4_AykuQVSDTU07IPD0t6988ZfXwmBb8q0A/edit#\n",
    "\n",
    "1. Process peaks\n",
    "\n",
    "```\n",
    "WORK_DIR=/data/2022_GSE26320\n",
    "GENOME=hg38\n",
    "\n",
    "echo \"MACS2 narrow\"\n",
    "snakemake --printshellcmds -s ~/work/chipseq-smk-pipeline/Snakefile \\\n",
    "  all --cores 24 --use-conda --directory $WORK_DIR --config genome=$GENOME \\\n",
    "  fastq_dir=$WORK_DIR/fastq fastq_ext=fastq macs2_mode=narrow macs2_params=\"-q 0.05\" macs2_suffix=q0.05 \\\n",
    "  --rerun-incomplete;\n",
    "\n",
    "echo \"MACS2 broad\"\n",
    "snakemake --printshellcmds -s ~/work/chipseq-smk-pipeline/Snakefile \\\n",
    "  all --cores 24 --use-conda --directory $WORK_DIR --config genome=$GENOME \\\n",
    "  fastq_dir=$WORK_DIR/fastq fastq_ext=fastq macs2_mode=broad macs2_params=\"--broad --broad-cutoff 0.1\" macs2_suffix=broad0.1 \\\n",
    "  --rerun-incomplete;\n",
    "```\n",
    "\n",
    "2. Estimate fragment size from MACS2 output = `241.381`\n",
    "\n",
    "```\n",
    "T=$'\\t'\n",
    "for F in macs2/*q0.05*.xls; do \n",
    "    NAME=$(basename $F | sed 's/_q.*//g'); D=$(cat $F | grep '# d =' | sed 's/.*= //g'); \n",
    "    echo \"$NAME$T$D\" >> fragment.tsv; \n",
    "done\n",
    "cat fragment.tsv | awk '{D+=$2; N+=1} END {print(D/N)}'\n",
    "```\n",
    "\n",
    "3. Compute tags for coverage using `bash GSE26320_analyze.sh`"
   ]
  },
  {
   "cell_type": "code",
   "execution_count": null,
   "metadata": {
    "ExecuteTime": {
     "end_time": "2019-03-07T11:38:12.254230Z",
     "start_time": "2019-03-07T11:38:04.952806Z"
    },
    "hidden": true,
    "pycharm": {
     "name": "#%%\n"
    }
   },
   "outputs": [],
   "source": [
    "%matplotlib inline\n",
    "%config InlineBackend.figure_format='retina'\n",
    "\n",
    "import pandas as pd\n",
    "import seaborn as sns\n",
    "from IPython.display import display\n",
    "\n",
    "sns.set_style(\"whitegrid\")\n",
    "import matplotlib.pyplot as plt\n",
    "import numpy as np\n",
    "import os, re\n",
    "import glob\n",
    "from tqdm.auto import tqdm\n",
    "from itertools import product"
   ]
  },
  {
   "cell_type": "code",
   "execution_count": null,
   "metadata": {
    "pycharm": {
     "name": "#%%\n"
    }
   },
   "outputs": [],
   "source": [
    "def bedl(file):\n",
    "    try:\n",
    "        tf = pd.read_csv(file, sep='\\t', header=None)\n",
    "        return tf[2] - tf[1]\n",
    "    except:\n",
    "        return np.zeros(0) # Empty file\n",
    "\n",
    "def lines(file):\n",
    "    try:\n",
    "        tf = pd.read_csv(file, sep='\\t', header=None)\n",
    "        return len(tf)\n",
    "    except:\n",
    "        return 0 # Empty file\n",
    "\n",
    "def d(a, b):\n",
    "    return a / b if b != 0 else 0"
   ]
  },
  {
   "cell_type": "markdown",
   "metadata": {
    "pycharm": {
     "name": "#%% md\n"
    }
   },
   "source": [
    "# Peaks analysis"
   ]
  },
  {
   "cell_type": "code",
   "execution_count": null,
   "metadata": {
    "pycharm": {
     "name": "#%%\n"
    }
   },
   "outputs": [],
   "source": [
    "PATH = os.path.expanduser('~/data/2022_GSE26320')\n",
    "# Don't have H1 H3K27ac rep2\n",
    "# Don't have Huvec H3K4me3 rep1 \n",
    "# Don't have HepG2 H3K4me1 rep2\n",
    "# CELLS = ['GM12878', 'HMEC', 'HSMM', 'K562', 'NHEK', 'NHLF']  # Ignore H1, Huvec, HepG2\n",
    "CELLS = ['GM12878']\n",
    "MODIFICATIONS = ['H3K27ac', 'H3K27me3', 'H3K36me3', 'H3K4me1', 'H3K4me3']\n",
    "REPS = ['rep1', 'rep2']"
   ]
  },
  {
   "cell_type": "code",
   "execution_count": null,
   "metadata": {
    "pycharm": {
     "name": "#%%\n"
    }
   },
   "outputs": [],
   "source": [
    "def load_peaks_fdr(path, suffix, fdrs):\n",
    "    df_fdr = pd.DataFrame(columns=['file', 'modification', 'cell', 'replicate', 'fdr', 'peaks', 'avlength'],\n",
    "                      dtype=object)\n",
    "    for f in tqdm(os.listdir(path)):\n",
    "        if suffix not in f:\n",
    "            continue\n",
    "        fdr = next((fdr for fdr in fdrs if fdr in f), None)\n",
    "        cell = next((cc for cc in CELLS if cc in f), None)\n",
    "        mod = next((m for m in MODIFICATIONS if m in f), None)\n",
    "        rep = 'rep1' if 'rep1' in f else 'rep2'\n",
    "        if fdr and cell and rep and mod:\n",
    "            ps, ls = lines(os.path.join(path, f)), bedl(os.path.join(path, f))\n",
    "            avls = 0 if ps == 0 else sum(ls) / ps\n",
    "            df_fdr.loc[len(df_fdr)] = (f, mod, cell, rep, fdr, ps, avls)\n",
    "    return df_fdr"
   ]
  },
  {
   "cell_type": "code",
   "execution_count": null,
   "metadata": {
    "pycharm": {
     "name": "#%%\n"
    }
   },
   "outputs": [],
   "source": [
    "def plotdf(df, tool, title):\n",
    "    plt.figure(figsize=(3 * len(MODIFICATIONS), 4))\n",
    "    for i, m in enumerate(MODIFICATIONS):\n",
    "        t = df.loc[df['modification'] == m].copy()\n",
    "        t['fdr'] = t['fdr'].astype(float)\n",
    "        # Plot \n",
    "        ax = plt.subplot(1, len(MODIFICATIONS), i + 1)\n",
    "        ax.title.set_text(m)\n",
    "#         sns.boxplot(data=t, x=\"fdr\", y=title, ax = ax)\n",
    "        sns.barplot(data=t, x=\"fdr\", y=title, ax = ax, capsize=.2, errwidth=2, edgecolor=\"black\")\n",
    "        ax.xaxis.set_tick_params(rotation=90)\n",
    "        ax.set_ylabel(title)\n",
    "\n",
    "    plt.tight_layout()\n",
    "    plt.savefig(f'{PATH}/analysis/fdr_{tool}_{title}.png', bbox_inches='tight', dpi=300)\n",
    "    plt.show()"
   ]
  },
  {
   "cell_type": "code",
   "execution_count": null,
   "metadata": {
    "pycharm": {
     "name": "#%%\n"
    }
   },
   "outputs": [],
   "source": [
    "! mkdir ~/data/2022_GSE26320/analysis"
   ]
  },
  {
   "cell_type": "markdown",
   "metadata": {
    "pycharm": {
     "name": "#%% md\n"
    }
   },
   "source": [
    "### SPAN"
   ]
  },
  {
   "cell_type": "code",
   "execution_count": null,
   "metadata": {
    "pycharm": {
     "name": "#%%\n"
    }
   },
   "outputs": [],
   "source": [
    "# SPAN_FDRS = ['0.1', '0.01', '0.05', '0.001', '0.0001', '1e-06', '1e-08', '1e-10']\n",
    "SPAN_FDRS = ['0.05']\n",
    "df_fdr_span = load_peaks_fdr(os.path.expanduser('~/data/2022_GSE26320/span'), '.peak', SPAN_FDRS)"
   ]
  },
  {
   "cell_type": "code",
   "execution_count": null,
   "metadata": {
    "pycharm": {
     "name": "#%%\n"
    }
   },
   "outputs": [],
   "source": [
    "df_fdr_span"
   ]
  },
  {
   "cell_type": "code",
   "execution_count": null,
   "metadata": {
    "pycharm": {
     "name": "#%%\n"
    }
   },
   "outputs": [],
   "source": [
    "print('Peaks')\n",
    "plotdf(df_fdr_span, 'span', 'peaks')\n",
    "\n",
    "print('Average length')\n",
    "plotdf(df_fdr_span, 'span', 'avlength')"
   ]
  },
  {
   "cell_type": "code",
   "execution_count": null,
   "metadata": {
    "pycharm": {
     "name": "#%%\n"
    }
   },
   "outputs": [],
   "source": [
    "# Troubleshooting\n",
    "display(df_fdr_span[(df_fdr_span['modification'] == 'H3K36me3') &\n",
    "                    (df_fdr_span['fdr'] == '1e-06') &\n",
    "                    (df_fdr_span['peaks'] > 60000)])\n",
    "display(df_fdr_span[(df_fdr_span['modification'] == 'H3K36me3') &\n",
    "                    (df_fdr_span['replicate'] == 'rep1') &\n",
    "                    (df_fdr_span['cell'] == 'HSMM')])"
   ]
  },
  {
   "cell_type": "markdown",
   "metadata": {
    "pycharm": {
     "name": "#%% md\n"
    }
   },
   "source": [
    "### MACS narrow"
   ]
  },
  {
   "cell_type": "code",
   "execution_count": null,
   "metadata": {
    "pycharm": {
     "name": "#%%\n"
    }
   },
   "outputs": [],
   "source": [
    "# MACS2_FDRS = ['0.1', '0.01', '0.05', '1e-3', '1-e4', '1e-6', '1e-8', '1e-10']\n",
    "MACS2_FDRS = ['0.05']\n",
    "df_fdr_macs2 = load_peaks_fdr(os.path.expanduser('~/data/2022_GSE26320/macs2'), '.narrowPeak', MACS2_FDRS)"
   ]
  },
  {
   "cell_type": "code",
   "execution_count": null,
   "metadata": {
    "pycharm": {
     "name": "#%%\n"
    }
   },
   "outputs": [],
   "source": [
    "print('Peaks')\n",
    "plotdf(df_fdr_macs2, 'macs2', 'peaks')\n",
    "\n",
    "print('Average length')\n",
    "plotdf(df_fdr_macs2, 'macs2', 'avlength')"
   ]
  },
  {
   "cell_type": "markdown",
   "metadata": {
    "pycharm": {
     "name": "#%% md\n"
    }
   },
   "source": [
    "### MACS2 broad"
   ]
  },
  {
   "cell_type": "code",
   "execution_count": null,
   "metadata": {
    "pycharm": {
     "name": "#%%\n"
    }
   },
   "outputs": [],
   "source": [
    "# MACS2BROAD_FDRS = ['0.1', '0.05', '1e-2', '1e-3', '1e-4', '1e-6', '1e-8', '1e-10']\n",
    "MACS2BROAD_FDRS = ['0.1']\n",
    "df_fdr_macs2broad = load_peaks_fdr(os.path.expanduser('~/data/2022_GSE26320/macs2'), '.broadPeak', MACS2BROAD_FDRS)"
   ]
  },
  {
   "cell_type": "code",
   "execution_count": null,
   "metadata": {
    "pycharm": {
     "name": "#%%\n"
    }
   },
   "outputs": [],
   "source": [
    "print('Peaks')\n",
    "plotdf(df_fdr_macs2broad, 'macs2broad', 'peaks')\n",
    "\n",
    "print('Average length')\n",
    "plotdf(df_fdr_macs2broad, 'macs2broad', 'avlength')"
   ]
  },
  {
   "cell_type": "markdown",
   "metadata": {
    "pycharm": {
     "name": "#%% md\n"
    }
   },
   "source": [
    "### SICER"
   ]
  },
  {
   "cell_type": "code",
   "execution_count": null,
   "metadata": {
    "pycharm": {
     "name": "#%%\n"
    }
   },
   "outputs": [],
   "source": [
    "# SICER_FDRS = ['0.1', '0.05', '0.01', '0.001', '0.0001', '1e-06', '1e-08', '1e-10']\n",
    "SICER_FDRS = ['0.01']\n",
    "df_fdr_sicer = load_peaks_fdr(os.path.expanduser('~/data/2022_GSE26320/sicer'), 'summary-FDR', SICER_FDRS)"
   ]
  },
  {
   "cell_type": "code",
   "execution_count": null,
   "metadata": {
    "pycharm": {
     "name": "#%%\n"
    }
   },
   "outputs": [],
   "source": [
    "print('Peaks')\n",
    "plotdf(df_fdr_sicer, 'sicer', 'peaks')\n",
    "\n",
    "print('Average length')\n",
    "plotdf(df_fdr_sicer, 'sicer', 'avlength')"
   ]
  },
  {
   "cell_type": "markdown",
   "metadata": {
    "pycharm": {
     "name": "#%% md\n"
    }
   },
   "source": [
    "# Coverage analysis"
   ]
  },
  {
   "cell_type": "code",
   "execution_count": null,
   "metadata": {
    "pycharm": {
     "name": "#%%\n"
    }
   },
   "outputs": [],
   "source": [
    "print('Load coverages files')\n",
    "FILES = os.listdir(os.path.join(PATH, 'covs'))\n",
    "\n",
    "reps = []\n",
    "TOOLS = []\n",
    "cells = []\n",
    "mods = []\n",
    "files = []\n",
    "\n",
    "for f in FILES:\n",
    "    rep, tool, cell, mod = None, None, None, None\n",
    "    rep = 'rep1' if 'rep1' in f else 'rep2'\n",
    "\n",
    "    if '.peak' in f:\n",
    "        tool = 'SPAN'\n",
    "    elif 'FDR' in f:\n",
    "        tool = 'SICER'\n",
    "    elif 'narrowPeak' in f:\n",
    "        tool = 'MACS2'\n",
    "    elif 'broadPeak' in f:\n",
    "        tool = 'MACS2 broad'\n",
    "\n",
    "    cell = next((cc for cc in CELLS if cc in f), None)\n",
    "    mod = next((m for m in MODIFICATIONS if m in f), None)\n",
    "\n",
    "    if rep and tool and cell and mod:\n",
    "        reps.append(rep)\n",
    "        TOOLS.append(tool)\n",
    "        cells.append(cell)\n",
    "        mods.append(mod)\n",
    "        files.append(f'{PATH}/covs/{f}')\n",
    "\n",
    "df = pd.DataFrame(dict(cell=cells, modification=mods, rep=reps, file=files, tool=TOOLS))\n",
    "df.groupby(['modification', 'tool']).count()"
   ]
  },
  {
   "cell_type": "code",
   "execution_count": null,
   "metadata": {
    "pycharm": {
     "name": "#%%\n"
    }
   },
   "outputs": [],
   "source": [
    "peaks = []\n",
    "lengths = []\n",
    "avlengths = []\n",
    "\n",
    "for f in df['file']:\n",
    "    ps, ls = lines(f), bedl(f)\n",
    "    avls = 0 if ps == 0 else sum(ls) / ps\n",
    "    peaks.append(ps)\n",
    "    lengths.append(sum(ls))\n",
    "    avlengths.append(avls)\n",
    "\n",
    "df['peaks'] = peaks\n",
    "df['length'] = lengths\n",
    "df['average length'] = avlengths\n",
    "df.head()"
   ]
  },
  {
   "cell_type": "markdown",
   "metadata": {
    "pycharm": {
     "name": "#%% md\n"
    }
   },
   "source": [
    "## Load libraries tags coverage"
   ]
  },
  {
   "cell_type": "code",
   "execution_count": null,
   "metadata": {
    "pycharm": {
     "name": "#%%\n"
    }
   },
   "outputs": [],
   "source": [
    "coverage_df = pd.DataFrame(columns=['cell', 'replicate', 'modification', 'tags'], dtype=object)\n",
    "for c, r in tqdm(product(CELLS, REPS)):\n",
    "    cc = lines(f'{PATH}/tags/' + next((f for f in os.listdir(f'{PATH}/tags/') if f'{c}_Input_{r}' in f), None))\n",
    "    coverage_df.loc[len(coverage_df)] = (c, r, 'Input', cc)\n",
    "    for m in MODIFICATIONS:\n",
    "        ct = lines(f'{PATH}/tags/' + next((f for f in os.listdir(f'{PATH}/tags/') if f'{c}_{m}_{r}' in f), None))\n",
    "        coverage_df.loc[len(coverage_df)] = (c, r, m, ct)\n",
    "\n",
    "\n",
    "def libcoverage_t(m, c, r):\n",
    "    return coverage_df[(coverage_df['modification'] == m) &\n",
    "                       (coverage_df['cell'] == c) &\n",
    "                      (coverage_df['replicate'] == r)]['tags'].values[0]\n",
    "def libcoverage_c(c, r):\n",
    "    return libcoverage_t('Input', c, r)"
   ]
  },
  {
   "cell_type": "code",
   "execution_count": null,
   "metadata": {
    "pycharm": {
     "name": "#%%\n"
    }
   },
   "outputs": [],
   "source": [
    "print('Libraries tags x10mln')\n",
    "fig = plt.figure(figsize=(3 * (len(MODIFICATIONS) + 1), 4))\n",
    "for i, m in enumerate(MODIFICATIONS + ['Input']):\n",
    "    t = coverage_df.loc[coverage_df['modification'] == m].copy()\n",
    "    t['name'] = t['cell'] + ' ' + t['replicate']\n",
    "    ax = plt.subplot(1, len(MODIFICATIONS) + 1, i + 1)\n",
    "    ax.title.set_text(m)\n",
    "    sns.barplot(data=t, x='name', y='tags', ax=ax, color='blue')\n",
    "    ax.set_ylim(bottom = 0, top = 1.8e7)\n",
    "    ax.xaxis.set_tick_params(rotation=90)\n",
    "    ax.set_ylabel('Tags')\n",
    "\n",
    "plt.tight_layout()\n",
    "plt.savefig(f'{PATH}/analysis/libraries.png', bbox_inches='tight', dpi=300)\n",
    "plt.show()"
   ]
  },
  {
   "cell_type": "markdown",
   "metadata": {
    "pycharm": {
     "name": "#%% md\n"
    }
   },
   "source": [
    "# Loading detailed peaks information"
   ]
  },
  {
   "cell_type": "code",
   "execution_count": null,
   "metadata": {
    "pycharm": {
     "name": "#%%\n"
    }
   },
   "outputs": [],
   "source": [
    "def scores(file):\n",
    "    try:\n",
    "        tf = pd.read_csv(file, sep='\\t', header=None)\n",
    "        return tf[4]\n",
    "    except:\n",
    "        return np.zeros(0) # Empty file\n",
    "\n",
    "def positions(file):\n",
    "    try:\n",
    "        tf = pd.read_csv(file, sep='\\t', header=None)\n",
    "        return tf[0] + \":\" + tf[1].astype(str) + \"-\" + tf[2].astype(str)\n",
    "    except:\n",
    "        return [] # Empty file\n",
    "\n",
    "\n",
    "def coverage_t(file):\n",
    "    try:\n",
    "        tf = pd.read_csv(file, sep='\\t', header=None)\n",
    "        return tf[4]\n",
    "    except:\n",
    "        return [] # Empty file\n",
    "\n",
    "def coverage_c(file):\n",
    "    try:\n",
    "        tf = pd.read_csv(file, sep='\\t', header=None)\n",
    "        return tf[5]\n",
    "    except:\n",
    "        return [] # Empty file"
   ]
  },
  {
   "cell_type": "code",
   "execution_count": null,
   "outputs": [],
   "source": [
    "df"
   ],
   "metadata": {
    "collapsed": false,
    "pycharm": {
     "name": "#%%\n"
    }
   }
  },
  {
   "cell_type": "code",
   "execution_count": null,
   "metadata": {
    "scrolled": true,
    "pycharm": {
     "name": "#%%\n"
    }
   },
   "outputs": [],
   "source": [
    "print('Processing peaks files')\n",
    "! mkdir {PATH}/analysis/bed\n",
    "\n",
    "TOOLS = list(sorted(set(df['tool'])))\n",
    "\n",
    "peaks_info = []\n",
    "for m, c, r in tqdm(product(MODIFICATIONS, CELLS, REPS)):\n",
    "    print(m, c, r)\n",
    "\n",
    "    # Processing single tools information\n",
    "    for tool in TOOLS:\n",
    "        t = df.loc[(df['cell'] == c) & (df['modification'] == m) & (df['rep'].str.contains(r)) & (df['tool']==tool)]\n",
    "        file = t['file'].values[0]\n",
    "        peaks_info.extend((m, c, r, tool, 'tool', p, s, l, ct, cc)\n",
    "                          for p, s, l, ct, cc in zip(positions(file), scores(file), bedl(file), coverage_t(file), coverage_c(file)))\n",
    "\n",
    "    # Processing SPAN vs others\n",
    "    for tool in TOOLS:\n",
    "        if tool == 'SPAN':\n",
    "            continue\n",
    "\n",
    "        t_s = df.loc[\n",
    "            (df['cell'] == c) & (df['modification'] == m) & (df['rep'].str.contains(r)) & (df['tool'] == 'SPAN')]\n",
    "        t_o = df.loc[(df['cell'] == c) & (df['modification'] == m) & (df['rep'].str.contains(r)) & (df['tool'] == tool)]\n",
    "        file_span, file_other = t_s['file'].values[0], t_o['file'].values[0]\n",
    "\n",
    "        # Overlap span_vs_other\n",
    "        tf = f'{PATH}/analysis/bed/{m}_{c}_{r}_overlap_SPAN_vs_{tool}.bed'.replace(' ', '_')\n",
    "        !bedtools intersect -a {file_span} -b {file_other} -wa -u > {tf}\n",
    "        peaks_info.extend((m, c, r, tool, 'overlap_span_vs_other', p, s, l, ct, cc)\n",
    "                          for p, s, l, ct, cc in zip(positions(tf), scores(tf), bedl(tf), coverage_t(tf), coverage_c(tf)))\n",
    "\n",
    "        # Overlap other_vs_span\n",
    "        tf = f'{PATH}/analysis/bed/{m}_{c}_{r}_overlap_{tool}_vs_SPAN.bed'.replace(' ', '_')\n",
    "        !bedtools intersect -b {file_span} -a {file_other} -wa -u > {tf}\n",
    "        peaks_info.extend((m, c, r, tool, 'overlap_other_vs_span', p, s, l, ct, cc)\n",
    "                          for p, s, l, ct, cc in zip(positions(tf), scores(tf), bedl(tf), coverage_t(tf), coverage_c(tf)))\n",
    "\n",
    "        # Diff span_vs_other\n",
    "        tf = f'{PATH}/analysis/bed/{m}_{c}_{r}_diff_SPAN_vs_{tool}.bed'.replace(' ', '_')\n",
    "        !bedtools intersect -a {file_span} -b {file_other} -v > {tf}\n",
    "        peaks_info.extend((m, c, r, tool, 'diff_span_vs_other', p, s, l, ct, cc)\n",
    "                          for p, s, l, ct, cc in zip(positions(tf), scores(tf), bedl(tf), coverage_t(tf), coverage_c(tf)))\n",
    "\n",
    "        # Diff other_vs_span\n",
    "        tf = f'{PATH}/analysis/bed/{m}_{c}_{r}_diff_{tool}_vs_SPAN.bed'.replace(' ', '_')\n",
    "        !bedtools intersect -b {file_span} -a {file_other} -v > {tf}\n",
    "        peaks_info.extend((m, c, r, tool, 'diff_other_vs_span', p, s, l, ct, cc)\n",
    "                          for p, s, l, ct, cc in zip(positions(tf), scores(tf), bedl(tf), coverage_t(tf), coverage_c(tf)))\n",
    "df_peaks = pd.DataFrame(peaks_info, columns=[\n",
    "    'modification', 'cell', 'replicate', 'tool', 'type', 'position', 'score', 'length', 'coveraget', 'coveragec'\n",
    "])\n",
    "del peaks_info\n",
    "display(df_peaks.head())"
   ]
  },
  {
   "cell_type": "code",
   "execution_count": null,
   "metadata": {
    "pycharm": {
     "name": "#%%\n"
    }
   },
   "outputs": [],
   "source": [
    "print('Compute RPM and RPKM for peaks')\n",
    "for m, c, r in tqdm(product(MODIFICATIONS, CELLS, REPS)):\n",
    "    print(m, c, r)\n",
    "    lct = libcoverage_t(m, c, r) * 1e-6\n",
    "    lcc = libcoverage_c(c, r) * 1e-6\n",
    "    t = df_peaks.loc[(df_peaks['modification'] == m) & (df_peaks['cell']==c) & (df_peaks['replicate']==r)].copy()\n",
    "    t['rpmt'] = t['coveraget'] / lct\n",
    "    t['rpmc'] = t['coveragec'] / lcc\n",
    "    t['rpkmt'] = t['rpmt'] / t['length'] * 1e3\n",
    "    t['rpkmc'] = t['rpmc'] / t['length'] * 1e3\n",
    "    for col in ['rpmt', 'rpmc', 'rpkmt', 'rpkmc']:\n",
    "        df_peaks.loc[(df_peaks['modification'] == m) & (df_peaks['cell']==c) & (df_peaks['replicate']==r), col] = list(t[col])\n",
    "    del t\n",
    "\n",
    "display(df_peaks.sample(5))\n",
    "df_peaks.describe()"
   ]
  },
  {
   "cell_type": "markdown",
   "metadata": {
    "pycharm": {
     "name": "#%% md\n"
    }
   },
   "source": [
    "## Aggregated for all tools"
   ]
  },
  {
   "cell_type": "code",
   "execution_count": null,
   "metadata": {
    "pycharm": {
     "name": "#%%\n"
    }
   },
   "outputs": [],
   "source": [
    "PLOT_TYPES = ['peaks', 'length', 'rpm', 'rpkm']\n",
    "TOOLS = ['MACS2', 'MACS2 broad', 'SICER', 'SPAN']\n",
    "\n",
    "def process_type(df_peaks, m, peaks_type, tool, plot_type, name, show_control=False):\n",
    "    t = df_peaks[(df_peaks['modification'] == m) & (df_peaks['type']==peaks_type) & (df_peaks['tool']==tool)]\n",
    "    if plot_type == 'peaks':\n",
    "        t = t.groupby(['cell', 'replicate']).size().reset_index(name='value')[['value']].copy()\n",
    "    elif plot_type in ['score', 'length']:\n",
    "        t = t.groupby(['cell', 'replicate'])[plot_type].mean().reset_index(name='value')[['value']].copy()\n",
    "    elif plot_type in ['rpm', 'rpkm']:\n",
    "        ts = []\n",
    "        tt = t.groupby(['cell', 'replicate'])[plot_type + 't'].mean().reset_index(name='value')[['value']].copy()\n",
    "        tt['type'] = 'treatment'\n",
    "        ts.append(tt)\n",
    "        if show_control:\n",
    "            tt = t.groupby(['cell', 'replicate'])[plot_type + 'c'].mean().reset_index(name='value')[['value']].copy()\n",
    "            tt['type'] = 'control'\n",
    "            ts.append(tt)\n",
    "        t = pd.concat(ts)\n",
    "    t['variable'] = name\n",
    "    return t\n",
    "\n",
    "def plot_tools_summary_type(df_peaks, title, plot_type=PLOT_TYPES[0], tools=TOOLS,\n",
    "                            show_tool=True, show_overlap=True, show_diff=True,\n",
    "                            show_control=True, use_bar=False):\n",
    "    if plot_type not in PLOT_TYPES:\n",
    "        raise Exception(f'Unknown plot type {plot_type}, expected one of {PLOT_TYPES}')\n",
    "    width = (1 if show_tool else 0) + (1 if show_overlap else 0) + (1 if show_diff else 0)\n",
    "    plt.figure(figsize=(width * len(MODIFICATIONS) * 2, 5))\n",
    "\n",
    "    for k, m in enumerate(MODIFICATIONS):\n",
    "        tts = []\n",
    "\n",
    "        # Processing tool\n",
    "        if show_tool:\n",
    "            for tool in tools:\n",
    "                tts.append(process_type(df_peaks, m, 'tool', tool, plot_type, tool, show_control))\n",
    "\n",
    "        # Overlap processing\n",
    "        if show_overlap:\n",
    "            if 'SPAN' not in tools:\n",
    "                continue  # Cannot show overlap without SPAN\n",
    "            for tool in tools:\n",
    "                if tool != 'SPAN':\n",
    "                    tts.append(process_type(df_peaks, m, 'overlap_span_vs_other', tool, plot_type, f'SPAN ∩ {tool}', show_control))\n",
    "            for tool in tools:\n",
    "                if tool != 'SPAN':\n",
    "                    tts.append(process_type(df_peaks, m, 'overlap_other_vs_span', tool, plot_type, f'{tool} ∩ SPAN', show_control))\n",
    "\n",
    "        # Difference processing\n",
    "        if show_diff:\n",
    "            if 'SPAN' not in tools:\n",
    "                continue  # Cannot show overlap without SPAN\n",
    "            for tool in tools:\n",
    "                if tool != 'SPAN':\n",
    "                    tts.append(process_type(df_peaks, m, 'diff_span_vs_other', tool, plot_type, f'SPAN - {tool}', show_control))\n",
    "            for tool in tools:\n",
    "                if tool != 'SPAN':\n",
    "                    tts.append(process_type(df_peaks, m, 'diff_other_vs_span', tool, plot_type, f'{tool} - SPAN', show_control))\n",
    "\n",
    "        t = pd.concat(tts)\n",
    "        t['value'] = t['value'].astype(float)\n",
    "\n",
    "        # Process variables\n",
    "        for var in set(t['variable']):\n",
    "            # Add mean variables\n",
    "            tm = t[t['variable'] == var]['value'].mean()\n",
    "            if plot_type in ['peaks', 'length']:\n",
    "                t.loc[t['variable'] == var, 'variable'] = f'{var} ({int(tm)})'\n",
    "            else:\n",
    "                t.loc[t['variable'] == var, 'variable'] = f'{var} ({tm:.3f})'\n",
    "\n",
    "        # Plot \n",
    "        ax = plt.subplot(1, len(MODIFICATIONS), k + 1)\n",
    "        ax.title.set_text(m)\n",
    "        if plot_type in ['rpm', 'rpkm']:\n",
    "            if use_bar:\n",
    "                sns.barplot(data=t, x='variable', y='value', hue='type', capsize=.2, errwidth=2, ax=ax)\n",
    "            else:\n",
    "                sns.boxplot(data=t, x='variable', y='value', hue='type', ax=ax)\n",
    "        else:\n",
    "            if use_bar:\n",
    "                sns.barplot(data=t, x='variable', y='value', capsize=.2, errwidth=2, ax=ax)\n",
    "            else:\n",
    "                sns.boxplot(data=t, x='variable', y='value', ax=ax)\n",
    "        ax.xaxis.set_tick_params(rotation=90)\n",
    "        ax.set_ylabel(title)\n",
    "        if k > 0:\n",
    "            ax.set_ylabel('')\n",
    "\n",
    "    plt.tight_layout()\n",
    "    plt.savefig(f'{PATH}/analysis/{plot_type}.png', bbox_inches='tight', dpi=300)\n",
    "    plt.show()"
   ]
  },
  {
   "cell_type": "code",
   "execution_count": null,
   "metadata": {
    "pycharm": {
     "name": "#%%\n"
    },
    "scrolled": true
   },
   "outputs": [],
   "source": [
    "! mkdir {PATH}/analysis\n",
    "print('Peaks number')\n",
    "plot_tools_summary_type(df_peaks, 'Peaks number', 'peaks', show_tool=True, show_overlap=False, show_diff=True, use_bar=True)\n",
    "print('Peaks length')\n",
    "plot_tools_summary_type(df_peaks, 'Length', 'length', show_tool=True, show_overlap=False, show_diff=True, use_bar=False)\n",
    "print('RPM')\n",
    "plot_tools_summary_type(df_peaks, 'RPM', 'rpm', show_tool=True, show_overlap=False, show_diff=True, show_control=True, use_bar=False)\n",
    "print('RPKM')\n",
    "plot_tools_summary_type(df_peaks, 'RPKM', 'rpkm', show_tool=True, show_overlap=False, show_diff=True, show_control=True, use_bar=False)"
   ]
  },
  {
   "cell_type": "markdown",
   "metadata": {
    "pycharm": {
     "name": "#%% md\n"
    }
   },
   "source": [
    "# Save most significant peaks from difference with SPAN"
   ]
  },
  {
   "cell_type": "code",
   "execution_count": null,
   "metadata": {
    "pycharm": {
     "name": "#%%\n"
    }
   },
   "outputs": [],
   "source": [
    "BW_PATH = f'{PATH}/bw'\n",
    "print('BW_PATH', BW_PATH)\n",
    "\n",
    "BED4_PATH = f'{PATH}/bed4'\n",
    "print('BED4_PATH', BED4_PATH)\n",
    "\n",
    "JBR_PATH = f'{PATH}/jbr-1.0.beta.build.jar'\n",
    "print('JBR_PATH', JBR_PATH)\n",
    "\n",
    "! mkdir {PATH}/analysis/diff\n",
    "print('DIFF_PATH', f'{PATH}/analysis/diff')\n",
    "\n",
    "def find_bw_file(m, c, r):\n",
    "    return glob.glob(f'{BW_PATH}/*{c}_{m}_{r}*.bw')[0]\n",
    "\n",
    "def find_bw_input_file(c, r):\n",
    "    return glob.glob(f'{BW_PATH}/*{c}_Input_{r}*.bw')[0]\n",
    "\n",
    "\n",
    "def find_peaks_file(m, c, r, tool):\n",
    "    if tool == 'SPAN':\n",
    "        ext = '.peak'\n",
    "    elif tool == 'MACS2':\n",
    "        ext = '.narrowPeak'\n",
    "    elif tool == 'MACS2 broad':\n",
    "        ext = '.broadPeak'\n",
    "    elif tool == 'SICER':\n",
    "        ext = '-FDR0.01'\n",
    "    else:\n",
    "        raise f'Unexpected tool {tool}'\n",
    "    return glob.glob(f'{BED4_PATH}/*{c}_{m}_{r}*{ext}.bed4')[0]\n",
    "\n",
    "def save_span_diff_screenshots(df_peaks, tools=TOOLS, metrics='rpkmt', n=1):\n",
    "    \"\"\" Save most significant differential peaks with SPAN\"\"\"\n",
    "    if 'SPAN' not in tools:\n",
    "        raise Exception('Cannot show overlap without SPAN')\n",
    "\n",
    "    for m in tqdm(MODIFICATIONS):\n",
    "        print(f'Processing {m}')\n",
    "\n",
    "        # Difference processing\n",
    "        for tool in tools:\n",
    "            if tool != 'SPAN':\n",
    "                print(tool)\n",
    "                t = df_peaks[(df_peaks['modification'] == m) & (df_peaks['type']=='diff_span_vs_other') & (df_peaks['tool'] == tool)]\n",
    "                t = t[[re.match('^chr[0-9]+:[0-9]+\\\\-[0-9]+$', p) is not None for p in t['position']]].copy()\n",
    "                t = t.sort_values(by=[metrics], ascending=False).head(n).copy().reset_index()\n",
    "                for i, row in t.iterrows():\n",
    "                    c, r, p, mt = row['cell'], row['replicate'], row['position'], row[metrics]\n",
    "                    bw_file = find_bw_file(m, c, r)\n",
    "                    bw_input_file = find_bw_input_file(c, r)\n",
    "                    span_peaks_file = find_peaks_file(m, c, r, 'SPAN')\n",
    "                    tool_peaks_file = find_peaks_file(m, c, r, tool)\n",
    "                    other_peaks = ''\n",
    "                    for t in [t for t in tools if t != tool and t != 'SPAN']:\n",
    "                        other_peaks += f',{find_peaks_file(m, c, r, t)}'\n",
    "                    screenshot = f'{metrics}_{m}_diff_span_vs_{tool}_{i}_{mt:.3f}_{c}_{r}_{p}'.replace(' ', '_').replace(':', '_').replace('-', '_')\n",
    "                    ! java -jar {JBR_PATH} --screenshot {PATH}/analysis/diff/{screenshot}_1.png --genome hg38 --screenshot_tracks {bw_file},{bw_input_file},{span_peaks_file},{tool_peaks_file}{other_peaks} --screenshot_position {p} --screenshot_zoomout 30 --screenshot_scalegroup 1,2 --screenshot_retina --quiet\n",
    "                    ! java -jar {JBR_PATH} --screenshot {PATH}/analysis/diff/{screenshot}_2.png --genome hg38 --screenshot_tracks {bw_file},{bw_input_file},{span_peaks_file},{tool_peaks_file}{other_peaks} --screenshot_position {p} --screenshot_zoomout 300 --screenshot_scalegroup 1,2 --screenshot_retina --quiet\n"
   ]
  },
  {
   "cell_type": "code",
   "execution_count": null,
   "metadata": {
    "pycharm": {
     "name": "#%%\n"
    }
   },
   "outputs": [],
   "source": [
    "save_span_diff_screenshots(df_peaks, tools=TOOLS, metrics='rpkmt', n=5)"
   ]
  },
  {
   "cell_type": "code",
   "execution_count": null,
   "metadata": {
    "pycharm": {
     "name": "#%%\n"
    }
   },
   "outputs": [],
   "source": [
    "# save_span_diff_screenshots(df_peaks, tools=TOOLS, metrics='score')"
   ]
  },
  {
   "cell_type": "markdown",
   "metadata": {
    "pycharm": {
     "name": "#%% md\n"
    }
   },
   "source": [
    "# Peaks density vs length scatterplot"
   ]
  },
  {
   "cell_type": "code",
   "execution_count": null,
   "metadata": {
    "scrolled": true,
    "pycharm": {
     "name": "#%%\n"
    }
   },
   "outputs": [],
   "source": [
    "N = 100000\n",
    "for m in MODIFICATIONS:\n",
    "    print(m)\n",
    "    plt.figure(figsize=(14, 4))\n",
    "    k = 1\n",
    "    t_span = df_peaks[(df_peaks['modification'] == m) & (df_peaks['type'] == 'tool') & (df_peaks['tool'] == 'SPAN')]\n",
    "    t_span = t_span.sample(min(len(t_span), N))[['rpkmt', 'length', 'tool']].copy()\n",
    "    for tool in tqdm(TOOLS):\n",
    "        if tool == 'SPAN':\n",
    "            continue\n",
    "        # Use stratified sampling for performance reasons\n",
    "        t = df_peaks[(df_peaks['modification'] == m) & (df_peaks['type'] == 'tool') & (df_peaks['tool'] == tool)]\n",
    "        tst = pd.concat([t_span, t.sample(min(len(t), N))[['rpkmt', 'length', 'tool']].copy()])\n",
    "\n",
    "        # Plot\n",
    "        ax = plt.subplot(1, 3, k)\n",
    "        k += 1\n",
    "        # Clip for aesthetics\n",
    "        sns.kdeplot(x=tst['length'].clip(upper=20000).values,\n",
    "                    y=tst['rpkmt'].clip(upper=30.0).values,\n",
    "                    hue=tst['tool'].values,\n",
    "                    fill=True, alpha=0.4, ax=ax)\n",
    "        ax.title.set_text(f'{m} SPAN vs {tool}')\n",
    "        ax.set_xlabel('Length')\n",
    "        ax.set_ylabel('RPKM')\n",
    "\n",
    "    plt.tight_layout()\n",
    "    plt.savefig(f'{PATH}/analysis/density_vs_len_{m}.png', bbox_inches='tight', dpi=300)\n",
    "    plt.show"
   ]
  },
  {
   "cell_type": "markdown",
   "metadata": {
    "pycharm": {
     "name": "#%% md\n"
    }
   },
   "source": [
    "# Pairwise peaks number venn diagrams vs SPAN for each cell and replicate"
   ]
  },
  {
   "cell_type": "code",
   "execution_count": null,
   "metadata": {
    "pycharm": {
     "name": "#%%\n"
    }
   },
   "outputs": [],
   "source": [
    "from matplotlib_venn import venn2, venn2_circles\n",
    "\n",
    "\n",
    "def venn_overlap(ax, peaks1, peaks2, overlap12, overlap21):\n",
    "    # Tweak subsets to avoid empty areas\n",
    "    subsets = (max(0.15 * max(peaks1, peaks2), peaks1 - overlap12),\n",
    "               max(0.15 * max(peaks1, peaks2), peaks2 - overlap21),\n",
    "               max(0.3 * max(peaks1, peaks2), overlap12, overlap21))\n",
    "    v = venn2(subsets=subsets, set_labels=('SPAN', tool), set_colors=('r', 'g'), alpha=0.5, ax=ax)\n",
    "    venn2_circles(subsets=subsets, color='grey')\n",
    "    v.get_label_by_id('10').set_text(str(peaks1 - overlap12))\n",
    "    v.get_label_by_id('01').set_text(str(peaks2 - overlap21))\n",
    "    if overlap12 != 0 and overlap21 != 0:\n",
    "        prop = f'{overlap12 / overlap21:.1f} : 1' if overlap12 > overlap21 else f'1 : {overlap21 / overlap12:.1f}'\n",
    "        prop = prop.replace('.0', '')  # Cosmetics\n",
    "    else:\n",
    "        prop = ''\n",
    "    v.get_label_by_id('11').set_text(f'{overlap12} : {overlap21}\\n{prop}')\n",
    "    for text in v.set_labels:\n",
    "        text.set_fontsize(7)\n",
    "    for text in v.subset_labels:\n",
    "        text.set_fontsize(5)\n",
    "\n",
    "\n",
    "for m in MODIFICATIONS:\n",
    "    print(m)\n",
    "    plt.figure(figsize=(15 * len(CELLS), 15 * len(TOOLS) * (len(TOOLS) - 1)))\n",
    "    k = 1\n",
    "    for c, r in tqdm(product(CELLS, REPS)):\n",
    "        t = df_peaks[(df_peaks['modification'] == m) & (df_peaks['cell'] == c) &(df_peaks['replicate'] == r)]\n",
    "        for tool in TOOLS:\n",
    "            if tool == 'SPAN':\n",
    "                continue\n",
    "            peaks1 = len(t[(t['type'] == 'tool') & (t['tool'] == 'SPAN')])\n",
    "            peaks2 = len(t[(t['type'] == 'tool') & (t['tool'] == tool)])\n",
    "            overlap12 = len(t[(t['type'] == 'overlap_span_vs_other') & (t['tool'] == tool)])\n",
    "            overlap21 = len(t[(t['type'] == 'overlap_other_vs_span') & (t['tool'] == tool)])\n",
    "\n",
    "            # Plot\n",
    "            ax = plt.subplot(len(CELLS), len(TOOLS) * (len(TOOLS) - 1), k)\n",
    "            k += 1\n",
    "\n",
    "            venn_overlap(ax, peaks1, peaks2, overlap12, overlap21)\n",
    "            ax.title.set_text(f'{m} {c} {r}')\n",
    "\n",
    "    plt.tight_layout()\n",
    "    plt.savefig(f'{PATH}/analysis/venn_{m}.png', bbox_inches='tight', dpi=300)\n",
    "    plt.show()"
   ]
  },
  {
   "cell_type": "markdown",
   "metadata": {
    "pycharm": {
     "name": "#%% md\n"
    }
   },
   "source": [
    "# Peaks length and density distributions analysis"
   ]
  },
  {
   "cell_type": "code",
   "execution_count": null,
   "metadata": {
    "pycharm": {
     "name": "#%%\n"
    }
   },
   "outputs": [],
   "source": [
    "PALETTE = {'MACS2': 'green', 'MACS2 broad': 'blue', 'SICER': 'orange', 'SPAN': 'brown'}\n",
    "N = 100000\n",
    "\n",
    "def plot_distribution(df_peaks, value, tools=TOOLS, threshold=None, log_scale_after_threshold=False):\n",
    "    plt.figure(figsize=(16 if threshold is not None else 14, 6 if threshold is not None else 4))\n",
    "    for i, m in enumerate(MODIFICATIONS):\n",
    "        print(m)\n",
    "        ts = df_peaks[(df_peaks['modification'] == m) & (df_peaks['type'] == 'tool')][[value, 'tool']].copy()\n",
    "\n",
    "        # Use stratified sampling for performance reasons\n",
    "        tss = []\n",
    "        for tool in tools:\n",
    "            tst = ts[ts['tool'] == tool]\n",
    "            tss.append(tst.sample(min(len(tst), N)))\n",
    "        tst = pd.concat(tss)\n",
    "\n",
    "        # Plot\n",
    "        if threshold is not None:\n",
    "            ax = plt.subplot(2, len(MODIFICATIONS), i + 1)\n",
    "            sns.histplot(data=tst.loc[tst[value] <= threshold], x=value, hue='tool', palette=PALETTE, element=\"poly\", ax=ax)\n",
    "            ax.title.set_text(m)\n",
    "            if i > 0:\n",
    "                ax.set_ylabel('')\n",
    "            else:\n",
    "                ax.set_ylabel(f'{value} <= {threshold}')\n",
    "\n",
    "            ax = plt.subplot(2, len(MODIFICATIONS), i + 1 + len(MODIFICATIONS))\n",
    "            sns.histplot(data=tst.loc[tst[value] > threshold], x=value, hue='tool', log_scale=log_scale_after_threshold, element=\"poly\", palette=PALETTE, ax=ax)\n",
    "            if i > 0:\n",
    "                ax.set_ylabel('')\n",
    "            else:\n",
    "                ax.set_ylabel(f'{value} > {threshold}')\n",
    "        else:\n",
    "            ax = plt.subplot(2, len(MODIFICATIONS), i + 1)\n",
    "            sns.histplot(data=tst, x=value, hue='tool', palette=PALETTE, element=\"poly\", ax=ax)\n",
    "            ax.title.set_text(m)\n",
    "            if i > 0:\n",
    "                ax.set_ylabel('')\n",
    "            else:\n",
    "                ax.set_ylabel(value)\n",
    "\n",
    "            ax.title.set_text(m)\n",
    "    plt.tight_layout()\n",
    "    plt.savefig(f'{PATH}/analysis/hist_{value}_{\"_\".join(tools)}_{threshold}.png', bbox_inches='tight', dpi=300)\n",
    "    plt.show()"
   ]
  },
  {
   "cell_type": "code",
   "execution_count": null,
   "metadata": {
    "pycharm": {
     "name": "#%%\n"
    }
   },
   "outputs": [],
   "source": [
    "print('Length distribution with 10k separation without SPAN')\n",
    "plot_distribution(df_peaks, 'length', tools=['MACS2', 'MACS2 broad', 'SICER'], threshold=10000, log_scale_after_threshold=True)"
   ]
  },
  {
   "cell_type": "code",
   "execution_count": null,
   "metadata": {
    "pycharm": {
     "name": "#%%\n"
    }
   },
   "outputs": [],
   "source": [
    "print('RPKM distribution')\n",
    "plot_distribution(df_peaks, 'rpkmt', tools=['MACS2', 'MACS2 broad', 'SICER', 'SPAN'], threshold=None)"
   ]
  },
  {
   "cell_type": "code",
   "execution_count": null,
   "outputs": [],
   "source": [
    "__BREAK___"
   ],
   "metadata": {
    "collapsed": false,
    "pycharm": {
     "name": "#%%\n"
    }
   }
  },
  {
   "cell_type": "markdown",
   "metadata": {
    "pycharm": {
     "name": "#%% md\n"
    }
   },
   "source": [
    "# Detailed peaks information for each modification, cell line and replicates"
   ]
  },
  {
   "cell_type": "code",
   "execution_count": null,
   "metadata": {
    "scrolled": true,
    "pycharm": {
     "name": "#%%\n"
    }
   },
   "outputs": [],
   "source": [
    "TOOLS_OTHER = [t for t in TOOLS if t != 'SPAN']\n",
    "\n",
    "def process_file(df_peaks_mcr, m, peaks_type, tool, plot_type, name, show_control=False):\n",
    "    t = df_peaks_mcr[(df_peaks_mcr['modification'] == m) & (df_peaks_mcr['type'] == peaks_type) & (df_peaks_mcr['tool'] == tool)]\n",
    "    if plot_type == 'peaks':\n",
    "        return pd.DataFrame(dict(variable=[name], value=[len(t)]))\n",
    "    elif plot_type in ['score', 'length']:\n",
    "        return pd.DataFrame(dict(variable=[name]*len(t), value=t[plot_type].values))\n",
    "    elif plot_type in ['rpm', 'rpkm']:\n",
    "        ts = [pd.DataFrame(dict(variable=[name] * len(t), value=t[plot_type + 't'].values, type=['treatment'] * len(t)))]\n",
    "        if show_control:\n",
    "            ts.append(pd.DataFrame(dict(variable=[name] * len(t), value=t[plot_type + 'c'].values, type=['control'] * len(t))))\n",
    "        return pd.concat(ts)\n",
    "    else:\n",
    "        raise Exception(f'Unexpected peaks_type {peaks_type}')\n",
    "\n",
    "\n",
    "for m, c, r in tqdm(product(MODIFICATIONS, CELLS, REPS)):\n",
    "    print(m, c, r)\n",
    "    t = df_peaks.loc[(df_peaks['modification'] == m) & (df_peaks['cell'] == c) & (df_peaks['replicate'] == r)]\n",
    "    # Plot\n",
    "    plt.figure(figsize=(15, 5))\n",
    "\n",
    "    for i, plot_type in enumerate(['peaks', 'length', 'rpkm']):\n",
    "        ts = []\n",
    "        for tool in TOOLS:\n",
    "            ts.append(process_file(t, m, 'tool', tool, plot_type, tool, True))\n",
    "        for tool in TOOLS_OTHER:\n",
    "            ts.append(process_file(t, m, 'overlap_span_vs_other', tool, plot_type, f'Overlap SPAN vs {tool}', True))\n",
    "        for tool in TOOLS_OTHER:\n",
    "            ts.append(process_file(t, m, 'overlap_other_vs_span', tool, plot_type, f'Overlap {tool} vs SPAN', True))\n",
    "        for tool in TOOLS_OTHER:\n",
    "            ts.append(process_file(t, m, 'diff_span_vs_other', tool, plot_type, f'Diff SPAN vs {tool}', True))\n",
    "        for tool in TOOLS_OTHER:\n",
    "            ts.append(process_file(t, m, 'diff_other_vs_span', tool, plot_type, f'Diff {tool} vs SPAN', True))\n",
    "        tst = pd.concat(ts)\n",
    "        tst['value'] = tst['value'].astype(float)\n",
    "\n",
    "        # Plot\n",
    "        ax = plt.subplot(1, 3, i + 1)\n",
    "        if plot_type == 'peaks':\n",
    "            sns.barplot(data=tst, x='variable', y='value', capsize=.2, errwidth=2, ax=ax)\n",
    "        elif plot_type == 'length':\n",
    "            tst['value'].clip(upper=20000, inplace=True)  # Clip for aesthetics\n",
    "            sns.boxplot(data=tst, x='variable', y='value', ax=ax)\n",
    "        elif plot_type == 'rpkm':\n",
    "            tst['value'].clip(upper=20, inplace=True)  # Clip for aesthetics\n",
    "            sns.boxplot(data=tst, x='variable', y='value', hue='type', ax=ax)\n",
    "        ax.title.set_text(f'{plot_type} {m} {c} {r}')\n",
    "        ax.set_ylabel(plot_type)\n",
    "        ax.set_xlabel('type')\n",
    "        ax.xaxis.set_tick_params(rotation=90)\n",
    "\n",
    "    plt.tight_layout()\n",
    "    plt.savefig(f'{PATH}/analysis/details_{m}_{c}_{r}.png', bbox_inches='tight', dpi=300)\n",
    "    plt.show()\n"
   ]
  },
  {
   "cell_type": "code",
   "execution_count": null,
   "outputs": [],
   "source": [],
   "metadata": {
    "collapsed": false,
    "pycharm": {
     "name": "#%%\n"
    }
   }
  }
 ],
 "metadata": {
  "kernelspec": {
   "display_name": "Python 3",
   "language": "python",
   "name": "python3"
  },
  "language_info": {
   "codemirror_mode": {
    "name": "ipython",
    "version": 3
   },
   "file_extension": ".py",
   "mimetype": "text/x-python",
   "name": "python",
   "nbconvert_exporter": "python",
   "pygments_lexer": "ipython3",
   "version": "3.8.5"
  },
  "toc": {
   "nav_menu": {},
   "number_sections": true,
   "sideBar": true,
   "skip_h1_title": false,
   "toc_cell": false,
   "toc_position": {},
   "toc_section_display": "block",
   "toc_window_display": true
  }
 },
 "nbformat": 4,
 "nbformat_minor": 2
}