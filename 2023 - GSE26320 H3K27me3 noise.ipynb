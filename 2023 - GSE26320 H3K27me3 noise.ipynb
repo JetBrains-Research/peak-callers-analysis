{
 "cells": [
  {
   "cell_type": "code",
   "execution_count": null,
   "metadata": {},
   "outputs": [],
   "source": [
    "%matplotlib inline\n",
    "%config InlineBackend.figure_format='retina'\n",
    "\n",
    "import pandas as pd\n",
    "import seaborn as sns\n",
    "from IPython.display import display\n",
    "from tqdm.auto import tqdm\n",
    "\n",
    "sns.set_style(\"whitegrid\")\n",
    "import matplotlib.pyplot as plt\n",
    "import numpy as np\n",
    "import os"
   ]
  },
  {
   "cell_type": "code",
   "execution_count": null,
   "outputs": [],
   "source": [
    "def bedl(file):\n",
    "    try:\n",
    "        tf = pd.read_csv(file, sep='\\t', header=None)\n",
    "        return tf[2] - tf[1]\n",
    "    except:\n",
    "        return np.zeros(0)  # Empty file\n",
    "\n",
    "\n",
    "def lines(file):\n",
    "    try:\n",
    "        tf = pd.read_csv(file, sep='\\t', header=None)\n",
    "        return len(tf)\n",
    "    except:\n",
    "        return 0  # Empty file\n",
    "\n",
    "def d(a, b):\n",
    "    return a / b if b != 0 else 0\n",
    "\n",
    "def sorted_file(file):\n",
    "    ts = tempfile.mktemp()\n",
    "    !cat {file} | sort -k1,1 -k2,2n > {ts}\n",
    "    return ts\n",
    "\n",
    "def last_col(file):\n",
    "    try:\n",
    "        cols = len(pd.read_csv(file, sep='\\t', nrows=1, header=None).columns)\n",
    "        return pd.read_csv(file, sep='\\t', header=None, usecols=[cols - 1])[cols - 1]\n",
    "    except:\n",
    "        return np.zeros(0)  # Empty file"
   ],
   "metadata": {
    "collapsed": false
   }
  },
  {
   "cell_type": "markdown",
   "source": [
    "## Load peaks"
   ],
   "metadata": {
    "collapsed": false
   }
  },
  {
   "cell_type": "code",
   "execution_count": null,
   "outputs": [],
   "source": [
    "GSE26320_PATH_HG38 = os.path.expanduser('~/data/2023_GSE26320_noise')\n",
    "GSE26320_CELLS = ['GM12878', 'HMEC', 'HSMM', 'K562', 'NHEK', 'NHLF', 'H1', 'Huvec', 'HepG2']\n",
    "# GSE26320_CELLS = ['GM12878',  'K562', 'H1']\n",
    "# GSE26320_MODIFICATIONS = ['CTCF', 'H3K27ac', 'H3K27me3', 'H3K36me3', 'H3K27me3', 'H3K4me2', 'H3K27me3', 'H3K9ac', 'H4K20me1']\n",
    "GSE26320_MODIFICATIONS = ['H3K27me3']\n",
    "GSE26320_REPS = ['rep1', 'rep2']\n",
    "\n",
    "! mkdir -p {GSE26320_PATH_HG38}/pics"
   ],
   "metadata": {
    "collapsed": false
   }
  },
  {
   "cell_type": "code",
   "execution_count": null,
   "outputs": [],
   "source": [
    "def load_peaks_fdr(path, suffix, fdrs):\n",
    "    df_fdr = pd.DataFrame(columns=['file', 'modification', 'cell', 'replicate', 'fdr', 'peaks', 'avlength'],\n",
    "                          dtype=object)\n",
    "    for f in tqdm(os.listdir(path)):\n",
    "        if suffix not in f:\n",
    "            continue\n",
    "        fdr = next((fdr for fdr in fdrs if fdr in f), None)\n",
    "        cell = next((cc for cc in GSE26320_CELLS if cc in f), None)\n",
    "        mod = next((m for m in GSE26320_MODIFICATIONS if m in f), None)\n",
    "        rep = next((r for r in GSE26320_REPS if r in f), None)\n",
    "        if fdr and cell and rep and mod:\n",
    "            peaks_path = os.path.join(path, f)\n",
    "            ps, ls = lines(peaks_path), bedl(peaks_path)\n",
    "            avls = 0 if ps == 0 else sum(ls) / ps\n",
    "            df_fdr.loc[len(df_fdr)] = (peaks_path, mod, cell, rep, fdr, ps, avls)\n",
    "    return df_fdr"
   ],
   "metadata": {
    "collapsed": false
   }
  },
  {
   "cell_type": "code",
   "execution_count": null,
   "outputs": [],
   "source": [
    "def load_peaks(path):\n",
    "    df_fdr_macs2 = load_peaks_fdr(os.path.join(path, 'macs2'), '.narrowPeak', ['0.05'])\n",
    "    df_fdr_macs2['tool'] = 'MACS2'\n",
    "    print('MACS2', len(df_fdr_macs2))\n",
    "\n",
    "    df_fdr_macs2broad = load_peaks_fdr(os.path.join(path, 'macs2'), '.broadPeak', ['0.1'])\n",
    "    df_fdr_macs2broad['tool'] = 'MACS2 broad'\n",
    "    print('MACS2 broad', len(df_fdr_macs2broad))\n",
    "\n",
    "    df_fdr_sicer = load_peaks_fdr(os.path.join(path, 'sicer'), 'summary-FDR', ['0.01'])\n",
    "    df_fdr_sicer['tool'] = 'SICER'\n",
    "    print('SICER', len(df_fdr_sicer))\n",
    "\n",
    "    df_fdr_span = load_peaks_fdr(os.path.join(path, 'span'), '.peak', ['0.05'])\n",
    "    df_fdr_span['tool'] = 'SPAN'\n",
    "    print('SPAN', len(df_fdr_span))\n",
    "\n",
    "    return pd.concat([df_fdr_macs2, df_fdr_macs2broad, df_fdr_sicer, df_fdr_span]).reset_index(drop=True)"
   ],
   "metadata": {
    "collapsed": false
   }
  },
  {
   "cell_type": "code",
   "execution_count": null,
   "outputs": [],
   "source": [
    "df_fdr_peaks_noise = load_peaks(GSE26320_PATH_HG38)\n",
    "df_fdr_peaks_noise['quality'] = 0\n",
    "for mln in [5, 2, 1]:\n",
    "    df_fdr_peaks_noise.loc[[f'{mln}mln' in file for file in df_fdr_peaks_noise['file']], 'quality'] = mln\n",
    "df_fdr_original_peaks = load_peaks(os.path.expanduser('~/data/2023_GSE26320'))\n",
    "df_fdr_original_peaks['quality'] = 10\n",
    "df_fdr_peaks = pd.concat([df_fdr_peaks_noise, df_fdr_original_peaks]).reset_index(drop=True)"
   ],
   "metadata": {
    "collapsed": false
   }
  },
  {
   "cell_type": "code",
   "execution_count": null,
   "outputs": [],
   "source": [
    "df_fdr_peaks[df_fdr_peaks['tool'] == 'SICER']"
   ],
   "metadata": {
    "collapsed": false
   }
  },
  {
   "cell_type": "code",
   "execution_count": null,
   "outputs": [],
   "source": [
    "TOOLS = ['MACS2', 'MACS2 broad', 'SPAN', 'SICER']\n",
    "palette = plt.cm.get_cmap('tab10')\n",
    "TOOLS_PALETTE = {t: palette(i) for i, t in enumerate(TOOLS)}"
   ],
   "metadata": {
    "collapsed": false
   }
  },
  {
   "cell_type": "markdown",
   "source": [
    "## Peaks number and lengths"
   ],
   "metadata": {
    "collapsed": false
   }
  },
  {
   "cell_type": "code",
   "execution_count": null,
   "outputs": [],
   "source": [
    "plt.figure(figsize=(8, 3))\n",
    "axs = [plt.subplot(1, 4, i + 1) for i in range(4)]\n",
    "\n",
    "for i, mln in enumerate([10, 5, 2, 1]):\n",
    "    ax = axs[i]\n",
    "    g_results = sns.barplot(data=df_fdr_peaks[df_fdr_peaks['quality']==mln],\n",
    "                            x='tool', y='peaks', ax=ax,\n",
    "                            capsize=.2, errwidth=2, edgecolor=\"black\",\n",
    "                            palette=TOOLS_PALETTE,\n",
    "                            order=['MACS2', 'MACS2 broad', 'SPAN', 'SICER'])\n",
    "    ax.set_ylim(0, 45_000)\n",
    "    ax.xaxis.set_tick_params(rotation=90)\n",
    "    ax.title.set_text(f'H3K27me3 {mln}M')\n",
    "plt.tight_layout()\n",
    "plt.savefig(f'{GSE26320_PATH_HG38}/pics/H3K27me3_peaks.pdf', bbox_inches='tight', dpi=300)\n",
    "plt.show()"
   ],
   "metadata": {
    "collapsed": false
   }
  },
  {
   "cell_type": "code",
   "execution_count": null,
   "outputs": [],
   "source": [
    "df_fdr_peaks['q'] = 0\n",
    "for i, mln in enumerate([10, 5, 2, 1]):\n",
    "    df_fdr_peaks.loc[df_fdr_peaks['quality'] == mln, 'q'] = i\n",
    "\n",
    "plt.figure(figsize=(6, 3))\n",
    "g_results = sns.lineplot(data=df_fdr_peaks,\n",
    "                         x='q', y='peaks', hue='tool',\n",
    "                         hue_order=['MACS2', 'MACS2 broad', 'SICER', 'SPAN'],\n",
    "                         palette=TOOLS_PALETTE,\n",
    "                         errorbar='se', marker='o', markersize=8)\n",
    "g_results.axes.set_xticks(range(4), minor=False)\n",
    "g_results.axes.set_xticklabels(['10M', '5M', '2M', '1M'])\n",
    "g_results.axes.set_xlabel('quality')\n",
    "g_results.axes.title.set_text(f'H3K27me3 peaks')\n",
    "g_results.axes.legend(loc='center left', bbox_to_anchor=(1, 0.5))\n",
    "plt.tight_layout()\n",
    "plt.savefig(f'{GSE26320_PATH_HG38}/pics/H3K27me3_peaks2.pdf', bbox_inches='tight', dpi=300)\n",
    "plt.show()"
   ],
   "metadata": {
    "collapsed": false
   }
  },
  {
   "cell_type": "code",
   "execution_count": null,
   "outputs": [],
   "source": [
    "ts = []\n",
    "for mln, file, tool in tqdm(zip(df_fdr_peaks['quality'], df_fdr_peaks['file'], df_fdr_peaks['tool'])):\n",
    "    lengths = bedl(file)\n",
    "    t = pd.DataFrame(dict(length=lengths))\n",
    "    t = t.sample(min(len(t), 10_000))\n",
    "    t['quality'] = mln\n",
    "    t['name'] = tool\n",
    "    ts.append(t)\n",
    "t = pd.concat(ts).reset_index(drop=True)\n",
    "del ts\n",
    "t.sample(10)"
   ],
   "metadata": {
    "collapsed": false
   }
  },
  {
   "cell_type": "code",
   "execution_count": null,
   "outputs": [],
   "source": [
    "plt.figure(figsize=(8, 3))\n",
    "axs = [plt.subplot(1, 4, i + 1) for i in range(4)]\n",
    "for i, mln in enumerate([10, 5, 2, 1]):\n",
    "    ax = axs[i]\n",
    "    g_results = sns.boxplot(data=t[t['quality']==mln], x='name', y='length', ax=ax,\n",
    "                            palette=TOOLS_PALETTE,\n",
    "                            order=['MACS2', 'MACS2 broad', 'SPAN', 'SICER'],\n",
    "                            showfliers=False)\n",
    "    ax.title.set_text(f'H3K27me3 {mln}M')\n",
    "    ax.xaxis.set_tick_params(rotation=90)\n",
    "    ax.set_ylim([-10, 27_000])\n",
    "plt.tight_layout()\n",
    "plt.savefig(f'{GSE26320_PATH_HG38}/pics/H3K27me3_lengths.pdf', bbox_inches='tight', dpi=300)\n",
    "plt.show()"
   ],
   "metadata": {
    "collapsed": false
   }
  },
  {
   "cell_type": "code",
   "execution_count": null,
   "outputs": [],
   "source": [
    "t['q'] = 0\n",
    "for i, mln in enumerate([10, 5, 2, 1]):\n",
    "    t.loc[t['quality'] == mln, 'q'] = i\n",
    "\n",
    "plt.figure(figsize=(6, 3))\n",
    "g_results = sns.lineplot(data=t,\n",
    "                         x='q', y='length', hue='name',\n",
    "                         hue_order=['MACS2', 'MACS2 broad', 'SICER', 'SPAN'],\n",
    "                         palette=TOOLS_PALETTE,\n",
    "                         errorbar='se', marker='o', markersize=8)\n",
    "g_results.axes.set_xticks(range(4), minor=False)\n",
    "g_results.axes.set_xticklabels(['10M', '5M', '2M', '1M'])\n",
    "g_results.axes.set_xlabel('quality')\n",
    "g_results.axes.title.set_text(f'H3K27me3 peaks length')\n",
    "g_results.axes.legend(loc='center left', bbox_to_anchor=(1, 0.5))\n",
    "plt.tight_layout()\n",
    "plt.savefig(f'{GSE26320_PATH_HG38}/pics/H3K27me3_lengths2.pdf', bbox_inches='tight', dpi=300)\n",
    "plt.show()"
   ],
   "metadata": {
    "collapsed": false
   }
  },
  {
   "cell_type": "markdown",
   "source": [
    "## Footprint"
   ],
   "metadata": {
    "collapsed": false
   }
  },
  {
   "cell_type": "code",
   "execution_count": null,
   "outputs": [],
   "source": [
    "ts = []\n",
    "for mln, file, tool in tqdm(zip(df_fdr_peaks['quality'], df_fdr_peaks['file'], df_fdr_peaks['tool'])):\n",
    "    coverage = bedl(file).sum()\n",
    "    ts.append((mln, tool, coverage))\n",
    "t = pd.DataFrame(data=ts, columns=['quality', 'name', 'coverage'])\n",
    "del ts\n",
    "t.sample(1)"
   ],
   "metadata": {
    "collapsed": false
   }
  },
  {
   "cell_type": "code",
   "execution_count": null,
   "outputs": [],
   "source": [
    "plt.figure(figsize=(8, 3))\n",
    "axs = [plt.subplot(1, 4, i + 1) for i in range(4)]\n",
    "for i, mln in enumerate([10, 5, 2, 1]):\n",
    "    ax = axs[i]\n",
    "    g_results = sns.barplot(data=t[t['quality']==mln], x='name', y='coverage', ax=ax,\n",
    "                            palette=TOOLS_PALETTE,\n",
    "                            order=['MACS2', 'MACS2 broad', 'SPAN', 'SICER'])\n",
    "    ax.title.set_text(f'{mln}M')\n",
    "    ax.set_ylabel('Basepairs')\n",
    "    ax.set_ylim([0, 3.3e8])\n",
    "    ax.xaxis.set_tick_params(rotation=90)\n",
    "plt.tight_layout()\n",
    "plt.savefig(f'{GSE26320_PATH_HG38}/pics/H3K27me3_sumlength.pdf', bbox_inches='tight', dpi=300)\n",
    "plt.show()"
   ],
   "metadata": {
    "collapsed": false
   }
  },
  {
   "cell_type": "code",
   "execution_count": null,
   "outputs": [],
   "source": [
    "t['q'] = 0\n",
    "for i, mln in enumerate([10, 5, 2, 1]):\n",
    "    t.loc[t['quality'] == mln, 'q'] = i\n",
    "\n",
    "plt.figure(figsize=(6, 3))\n",
    "g_results = sns.lineplot(data=t,\n",
    "                         x='q', y='coverage', hue='name',\n",
    "                         hue_order=['MACS2', 'MACS2 broad', 'SICER', 'SPAN'],\n",
    "                         palette=TOOLS_PALETTE,\n",
    "                         errorbar='se', marker='o', markersize=8)\n",
    "g_results.axes.set_xticks(range(4), minor=False)\n",
    "g_results.axes.set_xticklabels(['10M', '5M', '2M', '1M'])\n",
    "g_results.axes.set_xlabel('quality')\n",
    "g_results.axes.title.set_text(f'H3K27me3 peaks footprint')\n",
    "g_results.axes.legend(loc='center left', bbox_to_anchor=(1, 0.5))\n",
    "plt.tight_layout()\n",
    "plt.savefig(f'{GSE26320_PATH_HG38}/pics/H3K27me3_sumlength2.pdf', bbox_inches='tight', dpi=300)\n",
    "plt.show()"
   ],
   "metadata": {
    "collapsed": false
   }
  },
  {
   "cell_type": "markdown",
   "source": [
    "## Jaccard vs original peaks"
   ],
   "metadata": {
    "collapsed": false
   }
  },
  {
   "cell_type": "code",
   "execution_count": null,
   "outputs": [],
   "source": [
    "import tempfile\n",
    "from itertools import product\n",
    "\n",
    "mln_bench_df = pd.DataFrame(\n",
    "    columns=['cell', 'replicate', 'name', 'full_peaks', 'full_peaks_len',\n",
    "             'quality', 'mln_peaks', 'mln_peaks_len',\n",
    "             'full_overlap', 'mln_overlap',\n",
    "             'overlap_len'],\n",
    "    dtype=object\n",
    ")\n",
    "\n",
    "tf = tempfile.mktemp()\n",
    "\n",
    "for c, r, tool in tqdm(product(GSE26320_CELLS, GSE26320_REPS, TOOLS)):\n",
    "    print(c, r, tool)\n",
    "    t = df_fdr_peaks[(df_fdr_peaks['tool'] == tool) &\n",
    "                     (df_fdr_peaks['modification'] == 'H3K27me3') &\n",
    "                     (df_fdr_peaks['cell'] == c) &\n",
    "                     (df_fdr_peaks['replicate'] == r) &\n",
    "                     (df_fdr_peaks['quality'] == 10)]\n",
    "    if len(t) == 0:\n",
    "        continue\n",
    "    full_file = sorted_file(t['file'].values[0])\n",
    "    full_peaks = lines(full_file)\n",
    "    full_peaks_len = int(bedl(full_file).sum())\n",
    "    for mln in [5, 2, 1]:\n",
    "        t = df_fdr_peaks[(df_fdr_peaks['tool'] == tool) &\n",
    "                         (df_fdr_peaks['modification'] == 'H3K27me3') &\n",
    "                         (df_fdr_peaks['cell'] == c) &\n",
    "                         (df_fdr_peaks['replicate'] == r) &\n",
    "                         (df_fdr_peaks['quality'] == mln)]\n",
    "        if len(t) == 0:\n",
    "            continue\n",
    "        mln_file = sorted_file(t['file'].values[0])\n",
    "        mln_peaks = lines(mln_file)\n",
    "        mln_peaks_len = int(bedl(mln_file).sum())\n",
    "        !bedtools intersect -a {full_file} -b {mln_file} -wa -u > {tf}\n",
    "        full_peaks_overlap = lines(tf)\n",
    "        !bedtools intersect -b {full_file} -a {mln_file} -wa -u > {tf}\n",
    "        mln_peaks_overlap = lines(tf)\n",
    "        !bedtools intersect -a {full_file} -b {mln_file} -wo > {tf}\n",
    "        overlap_len = int(last_col(tf).sum())\n",
    "        mln_bench_df.loc[len(mln_bench_df)] = \\\n",
    "            (c, r, tool,\n",
    "             full_peaks, full_peaks_len,\n",
    "             mln, mln_peaks, mln_peaks_len,\n",
    "             full_peaks_overlap, mln_peaks_overlap,\n",
    "             overlap_len)\n",
    "\n",
    "display(mln_bench_df.sample())"
   ],
   "metadata": {
    "collapsed": false
   }
  },
  {
   "cell_type": "code",
   "execution_count": null,
   "outputs": [],
   "source": [
    "mln_bench_df['precision'] = [d(a, b) for a, b in zip(mln_bench_df['mln_overlap'], mln_bench_df['mln_peaks'])]\n",
    "mln_bench_df['sensitivity'] = [d(a, b) for a, b in zip(mln_bench_df['full_overlap'], mln_bench_df['full_peaks'])]\n",
    "mln_bench_df['f1'] = [d(2, d(1, s + 1e-10) + d(1, p + 1e-10))\n",
    "                      for s, p in zip(mln_bench_df['sensitivity'], mln_bench_df['precision'])]\n",
    "\n",
    "mln_bench_df['precision_len'] = [d(a, b) for a, b in zip(mln_bench_df['overlap_len'], mln_bench_df['mln_peaks_len'])]\n",
    "mln_bench_df['sensitivity_len'] = [d(a, b) for a, b in zip(mln_bench_df['overlap_len'], mln_bench_df['full_peaks_len'])]\n",
    "mln_bench_df['f1_len'] = [d(2, d(1, s + 1e-10) + d(1, p + 1e-10))\n",
    "                          for s, p in zip(mln_bench_df['sensitivity_len'], mln_bench_df['precision_len'])]\n",
    "\n",
    "mln_bench_df['jaccard'] = [\n",
    "    d(o, p + g -o)\n",
    "    for p, g, o in zip(mln_bench_df['full_peaks_len'], mln_bench_df['mln_peaks_len'], mln_bench_df['overlap_len'])\n",
    "]\n",
    "mln_bench_df.sample(1)"
   ],
   "metadata": {
    "collapsed": false
   }
  },
  {
   "cell_type": "code",
   "execution_count": null,
   "outputs": [],
   "source": [
    "plt.figure(figsize=(6, 3))\n",
    "axs = [plt.subplot(1, 3, i + 1) for i in range(3)]\n",
    "for i, mln in enumerate([5, 2, 1]):\n",
    "    ax = axs[i]\n",
    "    g_results = sns.barplot(data=mln_bench_df[mln_bench_df['quality']==mln],\n",
    "                            x='name', y='jaccard', ax=ax,\n",
    "                            capsize=.2, errwidth=2, edgecolor=\"black\",\n",
    "                            palette=TOOLS_PALETTE,\n",
    "                            order=['MACS2', 'MACS2 broad', 'SPAN', 'SICER'])\n",
    "    ax.title.set_text(f'H3K27me3 {mln}M')\n",
    "    ax.xaxis.set_tick_params(rotation=90)\n",
    "    ax.set_ylim([0, 0.7])\n",
    "plt.tight_layout()\n",
    "plt.savefig(f'{GSE26320_PATH_HG38}/pics/H3K27me3_jaccard.pdf', bbox_inches='tight', dpi=300)\n",
    "plt.show()"
   ],
   "metadata": {
    "collapsed": false
   }
  },
  {
   "cell_type": "code",
   "execution_count": null,
   "outputs": [],
   "source": [
    "mln_bench_df['q'] = 0\n",
    "for i, mln in enumerate([5, 2, 1]):\n",
    "    mln_bench_df.loc[mln_bench_df['quality'] == mln, 'q'] = i\n",
    "\n",
    "plt.figure(figsize=(4.5, 3))\n",
    "g_results = sns.lineplot(data=mln_bench_df,\n",
    "                         x='q', y='jaccard', hue='name',\n",
    "                         hue_order=['MACS2', 'MACS2 broad', 'SICER', 'SPAN'],\n",
    "                         palette=TOOLS_PALETTE,\n",
    "                         errorbar='se', marker='o', markersize=8)\n",
    "g_results.axes.set_xticks(range(3), minor=False)\n",
    "g_results.axes.set_xticklabels(['5M', '2M', '1M'])\n",
    "g_results.axes.set_xlabel('quality')\n",
    "g_results.axes.title.set_text(f'H3K27me3 jaccard vs 20M')\n",
    "# g_results.axes.legend(loc='center left', bbox_to_anchor=(1, 0.5))\n",
    "plt.tight_layout()\n",
    "plt.savefig(f'{GSE26320_PATH_HG38}/pics/H3K27me3_jaccard2.pdf', bbox_inches='tight', dpi=300)\n",
    "plt.show()"
   ],
   "metadata": {
    "collapsed": false
   }
  },
  {
   "cell_type": "code",
   "execution_count": null,
   "outputs": [],
   "source": [
    "mln_bench_df['modification'] = 'H3K27me3'\n",
    "mln_bench_df.to_csv(GSE26320_PATH_HG38 + '/H3K27me3_mln_bench_df.csv', index=False)"
   ],
   "metadata": {
    "collapsed": false
   }
  },
  {
   "cell_type": "markdown",
   "source": [
    "## Average precision\n",
    "AP summarizes a precision-recall curve as the weighted mean of precisions achieved at each threshold, with the increase in recall from the previous threshold used as the weight:\n",
    "\n",
    "AP = ∑(Rn−Rn−1)*Pn, where  Pn and Rn are the precision and recall at the nth threshold.\n",
    "\n",
    "This implementation is not interpolated and is different from computing the area under the precision-recall curve with the trapezoidal rule, which uses linear interpolation and can be too optimistic."
   ],
   "metadata": {
    "collapsed": false
   }
  },
  {
   "cell_type": "code",
   "execution_count": null,
   "outputs": [],
   "source": [
    "plt.figure(figsize=(4, 4))\n",
    "for c, r, tool in tqdm(product(mln_bench_df['cell'].unique(),\n",
    "                               mln_bench_df['replicate'].unique(),\n",
    "                               mln_bench_df['name'].unique())):\n",
    "    # print(c, r, tool)\n",
    "    dft = mln_bench_df[(mln_bench_df['cell'] == c) &\n",
    "                       (mln_bench_df['replicate'] == r) &\n",
    "                       (mln_bench_df['name'] == tool)].copy()\n",
    "    dft = dft[dft['sensitivity'] + dft['precision'] > 0]\n",
    "    dft.sort_values(by=['sensitivity', 'quality'], inplace=True)\n",
    "    plt.plot(dft['precision'], dft['sensitivity'], marker='o', label=tool, color=TOOLS_PALETTE[tool])\n",
    "plt.title('Overlap vs good quality')\n",
    "plt.xlabel('precision')\n",
    "plt.ylabel('sensitivity')\n",
    "plt.tight_layout()\n",
    "plt.savefig(f'{GSE26320_PATH_HG38}/pics/H3K27me3_auc.pdf', bbox_inches='tight', dpi=300)\n",
    "plt.show()"
   ],
   "metadata": {
    "collapsed": false
   }
  },
  {
   "cell_type": "code",
   "execution_count": null,
   "outputs": [],
   "source": [
    "plt.figure(figsize=(4, 4))\n",
    "for c, r, tool in tqdm(product(mln_bench_df['cell'].unique(),\n",
    "                               mln_bench_df['replicate'].unique(),\n",
    "                               mln_bench_df['name'].unique())):\n",
    "    # print(c, r, tool)\n",
    "    dft = mln_bench_df[(mln_bench_df['cell'] == c) &\n",
    "                       (mln_bench_df['replicate'] == r) &\n",
    "                       (mln_bench_df['name'] == tool)].copy()\n",
    "    dft = dft[dft['sensitivity_len'] + dft['precision_len'] > 0]\n",
    "    dft.sort_values(by=['sensitivity_len', 'quality'], inplace=True)\n",
    "    plt.plot(dft['precision_len'], dft['sensitivity_len'], marker='o', label=tool, color=TOOLS_PALETTE[tool])\n",
    "plt.title('Overlap vs good quality')\n",
    "plt.xlabel('precision')\n",
    "plt.ylabel('sensitivity')\n",
    "plt.tight_layout()\n",
    "plt.savefig(f'{GSE26320_PATH_HG38}/pics/H3K27me3_auc_len.pdf', bbox_inches='tight', dpi=300)\n",
    "plt.show()"
   ],
   "metadata": {
    "collapsed": false
   }
  },
  {
   "cell_type": "code",
   "execution_count": null,
   "outputs": [],
   "source": [
    "t = []\n",
    "for c, r, tool in tqdm(product(mln_bench_df['cell'].unique(),\n",
    "                               mln_bench_df['replicate'].unique(),\n",
    "                               mln_bench_df['name'].unique())):\n",
    "    # print(c, r, tool)\n",
    "    dft = mln_bench_df[(mln_bench_df['cell'] == c) &\n",
    "                       (mln_bench_df['replicate'] == r) &\n",
    "                       (mln_bench_df['name'] == tool)].copy()\n",
    "    dft = dft[dft['sensitivity'] + dft['precision'] > 0]\n",
    "    dft.sort_values(by=['sensitivity', 'quality'], inplace=True)\n",
    "    ap = 0\n",
    "    rprev = 0\n",
    "    for _, row in dft.iterrows():\n",
    "        ap += (row['sensitivity'] - rprev) * row['precision']\n",
    "        rprev = row['sensitivity']\n",
    "    t.append((c, tool, ap))\n",
    "dfap = pd.DataFrame(data=t, columns=['cell', 'tool', 'AP'])\n",
    "dfap"
   ],
   "metadata": {
    "collapsed": false
   }
  },
  {
   "cell_type": "code",
   "execution_count": null,
   "outputs": [],
   "source": [
    "fig = plt.figure(figsize=(4, 4))\n",
    "g_result = sns.barplot(data=dfap, x=\"tool\", y=\"AP\", capsize=.05, errwidth=2)\n",
    "g_result.axes.xaxis.set_tick_params(rotation=45)\n",
    "# g_result.axes.legend(loc='center left', bbox_to_anchor=(1, 0.5))\n",
    "plt.title('Overlap vs peaks good quality AUC')\n",
    "plt.ylabel('AUC')\n",
    "plt.tight_layout()\n",
    "plt.savefig(f'{GSE26320_PATH_HG38}/pics/H3K27me3_ap.pdf', bbox_inches='tight', dpi=300)\n",
    "plt.show()"
   ],
   "metadata": {
    "collapsed": false
   }
  },
  {
   "cell_type": "code",
   "execution_count": null,
   "outputs": [],
   "source": [
    "t = []\n",
    "for c, r, tool in tqdm(product(mln_bench_df['cell'].unique(),\n",
    "                               mln_bench_df['replicate'].unique(),\n",
    "                               mln_bench_df['name'].unique())):\n",
    "    # print(c, r, tool)\n",
    "    dft = mln_bench_df[(mln_bench_df['cell'] == c) &\n",
    "                       (mln_bench_df['replicate'] == r) &\n",
    "                       (mln_bench_df['name'] == tool)].copy()\n",
    "    dft = dft[dft['sensitivity_len'] + dft['precision_len'] > 0]\n",
    "    dft.sort_values(by=['sensitivity_len', 'quality'], inplace=True)\n",
    "    ap = 0\n",
    "    rprev = 0\n",
    "    for _, row in dft.iterrows():\n",
    "        ap += (row['sensitivity_len'] - rprev) * row['precision_len']\n",
    "        rprev = row['sensitivity_len']\n",
    "    t.append((c, tool, ap))\n",
    "dfapl = pd.DataFrame(data=t, columns=['cell', 'tool', 'APL'])\n",
    "dfapl"
   ],
   "metadata": {
    "collapsed": false
   }
  },
  {
   "cell_type": "code",
   "execution_count": null,
   "outputs": [],
   "source": [
    "fig = plt.figure(figsize=(4, 4))\n",
    "g_result = sns.barplot(data=dfapl, x=\"tool\", y=\"APL\", capsize=.05, errwidth=2)\n",
    "g_result.axes.xaxis.set_tick_params(rotation=45)\n",
    "# g_result.axes.legend(loc='center left', bbox_to_anchor=(1, 0.5))\n",
    "plt.title('Overlap vs peaks good quality AUC')\n",
    "plt.ylabel('AUC')\n",
    "plt.tight_layout()\n",
    "plt.savefig(f'{GSE26320_PATH_HG38}/pics/H3K27me3_apl.pdf', bbox_inches='tight', dpi=300)\n",
    "plt.show()"
   ],
   "metadata": {
    "collapsed": false
   }
  },
  {
   "cell_type": "markdown",
   "source": [
    "## Overlap H3K27me3"
   ],
   "metadata": {
    "collapsed": false
   }
  },
  {
   "cell_type": "code",
   "execution_count": null,
   "outputs": [],
   "source": [
    "import tempfile\n",
    "tf = tempfile.mktemp()\n",
    "\n",
    "ts = []\n",
    "for mln, c, r in tqdm(product([10, 5, 2, 1], GSE26320_CELLS, GSE26320_REPS)):\n",
    "    for tool in TOOLS:\n",
    "        t = df_fdr_peaks[(df_fdr_peaks['quality'] == mln) &\n",
    "                         (df_fdr_peaks['tool'] == tool) &\n",
    "                         (df_fdr_peaks['modification'] == 'H3K27me3') &\n",
    "                         (df_fdr_peaks['cell'] == c) &\n",
    "                         (df_fdr_peaks['replicate'] == r)]\n",
    "        if len(t) == 0:\n",
    "            continue\n",
    "        peaks_file = sorted_file(t['file'].values[0])\n",
    "        peaks = lines(peaks_file)\n",
    "        peaks_len = int(bedl(peaks_file).sum())\n",
    "        ts.append((c, r, mln, tool, peaks, peaks_len))\n",
    "        if tool == 'SPAN':\n",
    "            span_file = sorted_file(t['file'].values[0])\n",
    "    # Processing single tools information\n",
    "    for tool in TOOLS:\n",
    "        if tool == 'SPAN':\n",
    "            continue\n",
    "        t = df_fdr_peaks[(df_fdr_peaks['quality'] == mln) &\n",
    "                         (df_fdr_peaks['tool'] == tool) &\n",
    "                         (df_fdr_peaks['modification'] == 'H3K27me3') &\n",
    "                         (df_fdr_peaks['cell'] == c) &\n",
    "                         (df_fdr_peaks['replicate'] == r)]\n",
    "        if len(t) == 0:\n",
    "            continue\n",
    "        peaks_file = sorted_file(t['file'].values[0])\n",
    "        for name, args in [\n",
    "            (f'SPAN - {tool}', f' -a {span_file} -b {peaks_file} '),\n",
    "            (f'{tool} - SPAN', f' -b {span_file} -a {peaks_file} ')\n",
    "        ]:\n",
    "            !bedtools intersect {args} -wa -v > {tf}\n",
    "            peaks = lines(tf)\n",
    "            peaks_len = int(bedl(tf).sum())\n",
    "            ts.append((c, r, mln, name, peaks, peaks_len))\n",
    "\n",
    "bench_df = pd.DataFrame(data=ts, columns=['cell', 'replicate', 'quality', 'name', 'peaks', 'length'])\n",
    "del ts\n",
    "bench_df.sample(3)"
   ],
   "metadata": {
    "collapsed": false
   }
  },
  {
   "cell_type": "code",
   "execution_count": null,
   "outputs": [],
   "source": [
    "plt.figure(figsize=(11, 5))\n",
    "ax = plt.axes()\n",
    "g_results = sns.barplot(data=bench_df, hue='quality',\n",
    "                        x='name', y='peaks', ax=ax,\n",
    "                        hue_order=[10, 5, 2, 1],\n",
    "                        capsize=.05, errwidth=2,\n",
    "                        order=['MACS2', 'MACS2 broad', 'SPAN', 'SICER',\n",
    "                               'SPAN - MACS2', 'SPAN - MACS2 broad', 'SPAN - SICER',\n",
    "                               'MACS2 - SPAN', 'MACS2 broad - SPAN', 'SICER - SPAN',\n",
    "                               ])\n",
    "ax.title.set_text('H3K27me3 peaks overlap on different quality')\n",
    "ax.set_ylabel('Peaks')\n",
    "ax.set_ylim([0, 45_000])\n",
    "ax.xaxis.set_tick_params(rotation=90)\n",
    "plt.tight_layout()\n",
    "plt.savefig(f'{GSE26320_PATH_HG38}/pics/H3K27me3_overlap.pdf', bbox_inches='tight', dpi=300)\n",
    "plt.show()"
   ],
   "metadata": {
    "collapsed": false
   }
  },
  {
   "cell_type": "code",
   "execution_count": null,
   "outputs": [],
   "source": [
    "plt.figure(figsize=(6, 4))\n",
    "ax = plt.axes()\n",
    "g_results = sns.barplot(data=bench_df, hue='quality',\n",
    "                        x='name', y='peaks', ax=ax,\n",
    "                        hue_order=[10, 5, 2, 1],\n",
    "                        capsize=.05, errwidth=2,\n",
    "                        order=['SPAN - MACS2', 'SPAN - MACS2 broad', 'SPAN - SICER',\n",
    "                               'MACS2 - SPAN', 'MACS2 broad - SPAN', 'SICER - SPAN',\n",
    "                               ])\n",
    "ax.title.set_text('H3K27me3 peaks difference for different quality')\n",
    "ax.set_ylabel('Peaks')\n",
    "# ax.set_ylim([0, 20_000])\n",
    "ax.xaxis.set_tick_params(rotation=90)\n",
    "plt.tight_layout()\n",
    "plt.savefig(f'{GSE26320_PATH_HG38}/pics/H3K27me3_overlap_diff.pdf', bbox_inches='tight', dpi=300)\n",
    "plt.show()"
   ],
   "metadata": {
    "collapsed": false
   }
  },
  {
   "cell_type": "code",
   "execution_count": null,
   "outputs": [],
   "source": [
    "plt.figure(figsize=(13, 4))\n",
    "axs = [plt.subplot(1, 4, i + 1) for i in range(4)]\n",
    "for i, mln in enumerate([10, 5, 2, 1]):\n",
    "    ax = axs[i]\n",
    "    g_results = sns.barplot(data=bench_df[bench_df['quality']==mln],\n",
    "                            x='name', y='peaks', ax=ax,\n",
    "                            capsize=.2, errwidth=2,\n",
    "                            order=['MACS2', 'MACS2 broad', 'SPAN', 'SICER',\n",
    "                                   'SPAN - MACS2', 'SPAN - MACS2 broad', 'SPAN - SICER',\n",
    "                                   'MACS2 - SPAN', 'MACS2 broad - SPAN', 'SICER - SPAN',\n",
    "                                   ])\n",
    "    ax.title.set_text(f'{mln}M')\n",
    "    ax.set_ylabel('Peaks')\n",
    "    ax.set_ylim([0, 45_000])\n",
    "    ax.xaxis.set_tick_params(rotation=90)\n",
    "plt.tight_layout()\n",
    "plt.savefig(f'{GSE26320_PATH_HG38}/pics/H3K27me3_overlap_2.pdf', bbox_inches='tight', dpi=300)\n",
    "plt.show()"
   ],
   "metadata": {
    "collapsed": false
   }
  },
  {
   "cell_type": "markdown",
   "source": [
    "# Coverage"
   ],
   "metadata": {
    "collapsed": false
   }
  },
  {
   "cell_type": "code",
   "execution_count": null,
   "outputs": [],
   "source": [
    "# Fraction of reads in peaks\n",
    "IMMUNE_HG38_PATH_BW = os.path.expanduser('~/data/2023_GSE26320') + '/bw'\n",
    "\n",
    "\n",
    "def load_bws(path, m):\n",
    "    df_bws = pd.DataFrame(columns=['file', 'modification', 'cell', 'replicate'], dtype=object)\n",
    "    for f in tqdm(os.listdir(path)):\n",
    "        if '.bw' not in f:\n",
    "            continue\n",
    "        cell = next((cc for cc in GSE26320_CELLS if cc in f), None)\n",
    "        r = next((rr for rr in GSE26320_REPS if rr in f), None)\n",
    "        if cell and r and m in f:\n",
    "            df_bws.loc[len(df_bws)] = ((os.path.join(path, f)), m, cell, r)\n",
    "    return df_bws"
   ],
   "metadata": {
    "collapsed": false
   }
  },
  {
   "cell_type": "code",
   "execution_count": null,
   "outputs": [],
   "source": [
    "bws_df = load_bws(IMMUNE_HG38_PATH_BW, 'H3K27me3')\n",
    "display(bws_df.sample(2))\n",
    "bws_control_df = load_bws(IMMUNE_HG38_PATH_BW, 'Input')\n",
    "display(bws_control_df.sample(2))"
   ],
   "metadata": {
    "collapsed": false
   }
  },
  {
   "cell_type": "code",
   "execution_count": null,
   "outputs": [],
   "source": [
    "CHROM_SIZES = {\n",
    "    c: s for _, (c, s) in pd.read_csv(os.path.join(GSE26320_PATH_HG38, 'hg38.chrom.sizes'),\n",
    "                                      sep='\\t', names=['chr', 'size']).iterrows() if '_' not in c\n",
    "}\n",
    "CHROM_SIZES"
   ],
   "metadata": {
    "collapsed": false
   }
  },
  {
   "cell_type": "code",
   "execution_count": null,
   "outputs": [],
   "source": [
    "import pyBigWig\n",
    "import tempfile\n",
    "from itertools import product\n",
    "\n",
    "tf = tempfile.mktemp()\n",
    "\n",
    "coverage_data = []\n",
    "\n",
    "for mln, c, r in tqdm(product([10, 5, 2, 1], GSE26320_CELLS, GSE26320_REPS)):\n",
    "    print(mln, c, r)\n",
    "    t = bws_df[(bws_df['modification'] == 'H3K27me3') &\n",
    "               (bws_df['cell'] == c) &\n",
    "               (bws_df['replicate'] == r)]\n",
    "    if len(t) == 0:\n",
    "        continue\n",
    "    bw_file = t['file'].values[0]\n",
    "    t = bws_control_df[bws_control_df['cell'] == c]\n",
    "    if len(t) == 0:\n",
    "        continue\n",
    "    bw_control_file = t['file'].values[0]\n",
    "\n",
    "    for tool in TOOLS:\n",
    "        t = df_fdr_peaks[(df_fdr_peaks['quality'] == mln) &\n",
    "                         (df_fdr_peaks['tool'] == tool) &\n",
    "                         (df_fdr_peaks['modification'] == 'H3K27me3') &\n",
    "                         (df_fdr_peaks['cell'] == c) &\n",
    "                         (df_fdr_peaks['replicate'] == r)]\n",
    "        if len(t) == 0:\n",
    "            continue\n",
    "        peaks_file = sorted_file(t['file'].values[0])\n",
    "        if lines(peaks_file) > 0:\n",
    "            t = pd.read_csv(peaks_file, sep='\\t', header=None)\n",
    "            positions = [f'{chr}:{start}-{end}' for chr, start, end in zip(t[0], t[1], t[2]) if chr in CHROM_SIZES]\n",
    "            lengths = [end - start for chr, start, end in zip(t[0], t[1], t[2]) if chr in CHROM_SIZES]\n",
    "            with pyBigWig.open(bw_file) as bw:\n",
    "                total_coverage = sum(bw.stats(chr, type='sum', exact=True)[0] for chr in t[0].unique() if chr in CHROM_SIZES)\n",
    "                peaks_coverage = [bw.stats(chr, start, end, type='sum', exact=True)[0]\n",
    "                                  for chr, start, end in zip(t[0], t[1], t[2]) if chr in CHROM_SIZES]\n",
    "            for pos, length, peak_coverage in zip(positions, lengths, peaks_coverage):\n",
    "                coverage_data.append(('H3K27me3', mln, c, r, tool, pos, length, 'treatment', peak_coverage, total_coverage))\n",
    "            with pyBigWig.open(bw_control_file) as bwc:\n",
    "                total_coverage = sum(bwc.stats(chr, type='sum', exact=True)[0] for chr in t[0].unique())\n",
    "                peaks_coverage = [bwc.stats(chr, start, end, type='sum', exact=True)[0]\n",
    "                                  for chr, start, end in zip(t[0], t[1], t[2])]\n",
    "            for pos, length, peak_coverage in zip(positions, lengths, peaks_coverage):\n",
    "                coverage_data.append(('H3K27me3', mln, c, r, tool, pos, length, 'control', peak_coverage, total_coverage))\n",
    "        if tool == 'SPAN':\n",
    "            span_file = peaks_file\n",
    "\n",
    "    # Processing single tools information\n",
    "    for tool in TOOLS:\n",
    "        if tool == 'SPAN':\n",
    "            continue\n",
    "        t = df_fdr_peaks[(df_fdr_peaks['quality'] == mln) &\n",
    "                         (df_fdr_peaks['tool'] == tool) &\n",
    "                         (df_fdr_peaks['modification'] == 'H3K27me3') &\n",
    "                         (df_fdr_peaks['cell'] == c) &\n",
    "                         (df_fdr_peaks['replicate'] == r)]\n",
    "        if len(t) == 0:\n",
    "            continue\n",
    "        peaks_file = sorted_file(t['file'].values[0])\n",
    "        for name, args in [\n",
    "            (f'SPAN - {tool}', f' -a {span_file} -b {peaks_file} '),\n",
    "            (f'{tool} - SPAN', f' -b {span_file} -a {peaks_file} ')\n",
    "        ]:\n",
    "            !bedtools intersect {args} -wa -v > {tf}\n",
    "            if lines(tf) > 0:\n",
    "                t = pd.read_csv(tf, sep='\\t', header=None)\n",
    "                positions = [f'{chr}:{start}-{end}' for chr, start, end in zip(t[0], t[1], t[2]) if chr in CHROM_SIZES]\n",
    "                lengths = [end - start for chr, start, end in zip(t[0], t[1], t[2]) if chr in CHROM_SIZES]\n",
    "                with pyBigWig.open(bw_file) as bw:\n",
    "                    total_coverage = sum(bw.stats(chr, type='sum', exact=True)[0] for chr in t[0].unique() if chr in CHROM_SIZES)\n",
    "                    peaks_coverage = [bw.stats(chr, start, end, type='sum', exact=True)[0]\n",
    "                                      for chr, start, end in zip(t[0], t[1], t[2]) if chr in CHROM_SIZES]\n",
    "                for pos, length, peak_coverage in zip(positions, lengths, peaks_coverage):\n",
    "                    coverage_data.append(('H3K27me3', mln, c, r, name, pos, length, 'treatment', peak_coverage, total_coverage))\n",
    "                with pyBigWig.open(bw_control_file) as bwc:\n",
    "                    total_coverage = sum(bwc.stats(chr, type='sum', exact=True)[0] for chr in t[0].unique())\n",
    "                    peaks_coverage = [bwc.stats(chr, start, end, type='sum', exact=True)[0]\n",
    "                                      for chr, start, end in zip(t[0], t[1], t[2])]\n",
    "                for pos, length, peak_coverage in zip(positions, lengths, peaks_coverage):\n",
    "                    coverage_data.append(('H3K27me3', mln, c, r, name, pos, length, 'control', peak_coverage, total_coverage))\n",
    "\n",
    "df_coverage = pd.DataFrame(\n",
    "    coverage_data,\n",
    "    columns=['modification', 'quality', 'cell', 'replicate',\n",
    "             'name', 'position', 'length', 'type', 'coverage', 'total_coverage']\n",
    ")\n",
    "del coverage_data\n",
    "df_coverage.sample(5)"
   ],
   "metadata": {
    "collapsed": false
   }
  },
  {
   "cell_type": "code",
   "execution_count": null,
   "outputs": [],
   "source": [
    "df_coverage['rpm'] = df_coverage['coverage'] / (df_coverage['total_coverage'] / 1e6)\n",
    "df_coverage['rpkm'] = df_coverage['rpm'] / (df_coverage['length'] / 1e3)"
   ],
   "metadata": {
    "collapsed": false
   }
  },
  {
   "cell_type": "code",
   "execution_count": null,
   "outputs": [],
   "source": [
    "plt.figure(figsize=(16, 6))\n",
    "axs = [plt.subplot(1, 4, i + 1) for i in range(4)]\n",
    "for i, mln in enumerate([10, 5, 2, 1]):\n",
    "    ax = axs[i]\n",
    "    g_results = sns.boxplot(data=df_coverage[df_coverage['quality'] == mln],\n",
    "                            x='name', y='rpkm', hue='type',\n",
    "                            order=['MACS2', 'MACS2 broad', 'SPAN', 'SICER',\n",
    "                                   'SPAN - MACS2', 'SPAN - MACS2 broad', 'SPAN - SICER',\n",
    "                                   'MACS2 - SPAN', 'MACS2 broad - SPAN', 'SICER - SPAN',\n",
    "                                   ],\n",
    "                            showfliers=False, ax=ax)\n",
    "    ax.xaxis.set_tick_params(rotation=90)\n",
    "    ax.set_ylabel('RPKM')\n",
    "    ax.set_ylim(-1, 52)\n",
    "    ax.title.set_text(f'{mln}M')\n",
    "\n",
    "plt.tight_layout()\n",
    "plt.savefig(f'{GSE26320_PATH_HG38}/pics/H3K27me3_coverage.pdf', bbox_inches='tight', dpi=300)\n",
    "plt.show()"
   ],
   "metadata": {
    "collapsed": false
   }
  },
  {
   "cell_type": "code",
   "execution_count": null,
   "outputs": [],
   "source": [
    "t = df_coverage[(df_coverage['name'].isin(['MACS2', 'MACS2 broad', 'SPAN', 'SICER'])) &\n",
    "                (df_coverage['type'] == 'treatment')].copy()\n",
    "t['q'] = 0\n",
    "for i, mln in enumerate([10, 5, 2, 1]):\n",
    "    t.loc[t['quality'] == mln, 'q'] = i\n",
    "\n",
    "plt.figure(figsize=(6, 3))\n",
    "g_results = sns.lineplot(data=t,\n",
    "                         x='q', y='rpkm', hue='name',\n",
    "                         hue_order=['MACS2', 'MACS2 broad', 'SICER', 'SPAN'],\n",
    "                         palette=TOOLS_PALETTE,\n",
    "                         errorbar='se', marker='o', markersize=8)\n",
    "g_results.axes.set_xticks(range(4), minor=False)\n",
    "g_results.axes.set_xticklabels(['10M', '5M', '2M', '1M'])\n",
    "g_results.axes.set_xlabel('quality')\n",
    "g_results.axes.set_ylabel('RPKM')\n",
    "g_results.axes.title.set_text(f'H3K27me3 peaks signal')\n",
    "g_results.axes.legend(loc='center left', bbox_to_anchor=(1, 0.5))\n",
    "plt.tight_layout()\n",
    "plt.savefig(f'{GSE26320_PATH_HG38}/pics/H3K27me3_coverage2.pdf', bbox_inches='tight', dpi=300)\n",
    "plt.show()"
   ],
   "metadata": {
    "collapsed": false
   }
  },
  {
   "cell_type": "markdown",
   "source": [
    "# Ratio on SPAN and other tool peaks overlap"
   ],
   "metadata": {
    "collapsed": false
   }
  },
  {
   "cell_type": "code",
   "execution_count": null,
   "outputs": [],
   "source": [
    "import tempfile\n",
    "\n",
    "tf = tempfile.mktemp()\n",
    "\n",
    "ratio_df = pd.DataFrame(columns=['cell', 'replicate', 'quality', 'tool', 'span_overlap_peaks', 'tool_overlap_peaks'], dtype=object)\n",
    "\n",
    "for mln, c, r in tqdm(product([10, 5, 2, 1], GSE26320_CELLS, GSE26320_REPS)):\n",
    "    t = df_fdr_peaks[(df_fdr_peaks['quality'] == mln) &\n",
    "                     (df_fdr_peaks['tool'] == 'SPAN') &\n",
    "                     (df_fdr_peaks['modification'] == 'H3K27me3') &\n",
    "                     (df_fdr_peaks['cell'] == c) &\n",
    "                     (df_fdr_peaks['replicate'] == r)]\n",
    "    if len(t) == 0:\n",
    "        continue\n",
    "    span_file = sorted_file(t['file'].values[0])\n",
    "\n",
    "    # Processing single tools information\n",
    "    for tool in TOOLS:\n",
    "        if tool == 'SPAN':\n",
    "            continue\n",
    "        t = df_fdr_peaks[(df_fdr_peaks['quality'] == mln) &\n",
    "                         (df_fdr_peaks['tool'] == tool) &\n",
    "                         (df_fdr_peaks['modification'] == 'H3K27me3') &\n",
    "                         (df_fdr_peaks['cell'] == c) &\n",
    "                         (df_fdr_peaks['replicate'] == r)]\n",
    "        if len(t) == 0:\n",
    "            continue\n",
    "        peaks_file = sorted_file(t['file'].values[0])\n",
    "        if lines(span_file) == 0 or lines(peaks_file) == 0:\n",
    "            continue\n",
    "        span_cols = len(pd.read_csv(span_file, sep='\\t', header=None, nrows=1).columns)\n",
    "        !bedtools intersect -a {span_file} -b {peaks_file} -wa -wb > {tf}\n",
    "        try:\n",
    "            overlap = pd.read_csv(tf, sep='\\t', header=None)\n",
    "            span_overlap_peaks = len(overlap.groupby([0, 1, 2]).count())\n",
    "            tool_overlap_peaks = len(overlap.groupby([span_cols, span_cols + 1, span_cols + 2]).count())\n",
    "            ratio_df.loc[len(ratio_df)] = (c, r, mln, tool, span_overlap_peaks, tool_overlap_peaks)\n",
    "        except:\n",
    "            pass\n",
    "ratio_df"
   ],
   "metadata": {
    "collapsed": false
   }
  },
  {
   "cell_type": "code",
   "execution_count": null,
   "outputs": [],
   "source": [
    "ratio_df['tool_to_span'] = ratio_df['tool_overlap_peaks'] / ratio_df['span_overlap_peaks']"
   ],
   "metadata": {
    "collapsed": false
   }
  },
  {
   "cell_type": "code",
   "execution_count": null,
   "outputs": [],
   "source": [
    "plt.figure(figsize=(6, 4))\n",
    "ax = plt.axes()\n",
    "g_results = sns.boxplot(data=ratio_df, y='tool_to_span', x='tool', ax=ax, hue='quality',\n",
    "                        # palette=TOOLS_PALETTE,\n",
    "                        order=['MACS2', 'MACS2 broad', 'SICER'])\n",
    "ax.title.set_text('H3K27me3 Ratio of overlap with SPAN')\n",
    "plt.tight_layout()\n",
    "plt.savefig(f'{GSE26320_PATH_HG38}/pics/H3K27me3_ratio_overlap.pdf', bbox_inches='tight', dpi=300)\n",
    "plt.show()"
   ],
   "metadata": {
    "collapsed": false
   }
  },
  {
   "cell_type": "code",
   "execution_count": null,
   "outputs": [],
   "source": [
    "plt.figure(figsize=(10, 3))\n",
    "axs = [plt.subplot(1, 3, i + 1) for i in range(3)]\n",
    "for i, tool in enumerate(['MACS2', 'MACS2 broad', 'SICER']):\n",
    "    ax = axs[i]\n",
    "    for cell, r in product(GSE26320_CELLS, GSE26320_REPS):\n",
    "        tt = ratio_df[(ratio_df['cell'] == cell) &\n",
    "                      (ratio_df['replicate'] == r) &\n",
    "                      (ratio_df['tool'] == tool)]\n",
    "        ax.plot(tt['quality'], tt['tool_to_span'], marker='o', label=t)\n",
    "    ax.title.set_text(f'H3K27me3 {tool}')\n",
    "    ax.set_ylabel('Ratio of peaks to SPAN')\n",
    "    ax.set_xlabel('M')\n",
    "plt.tight_layout()\n",
    "plt.savefig(f'{GSE26320_PATH_HG38}/pics/H3K27me3_ratio_overlap2.pdf', bbox_inches='tight', dpi=300)\n",
    "plt.show()"
   ],
   "metadata": {
    "collapsed": false
   }
  },
  {
   "cell_type": "code",
   "execution_count": null,
   "outputs": [],
   "source": [
    "plt.figure(figsize=(10, 3))\n",
    "axs = [plt.subplot(1, 3, i + 1) for i in range(3)]\n",
    "for i, tool in enumerate(['MACS2', 'MACS2 broad', 'SICER']):\n",
    "    ax = axs[i]\n",
    "    for cell, r in product(GSE26320_CELLS, GSE26320_REPS):\n",
    "        tt = ratio_df[(ratio_df['cell'] == cell) &\n",
    "                      (ratio_df['replicate'] == r) &\n",
    "                      (ratio_df['tool'] == tool)]\n",
    "        ax.plot(tt['span_overlap_peaks'], tt['tool_to_span'], marker='o', label=t)\n",
    "    ax.title.set_text(f'H3K27me3 {tool}')\n",
    "    ax.set_xlabel('SPAN peaks in overlap')\n",
    "    ax.set_ylabel('Tool to SPAN ratio')\n",
    "plt.tight_layout()\n",
    "plt.savefig(f'{GSE26320_PATH_HG38}/pics/H3K27me3_ratio_overlap3.pdf', bbox_inches='tight', dpi=300)\n",
    "plt.show()"
   ],
   "metadata": {
    "collapsed": false
   }
  },
  {
   "cell_type": "code",
   "execution_count": null,
   "outputs": [],
   "source": [],
   "metadata": {
    "collapsed": false
   }
  }
 ],
 "metadata": {
  "anaconda-cloud": {},
  "kernelspec": {
   "display_name": "Python 3",
   "language": "python",
   "name": "python3"
  },
  "language_info": {
   "codemirror_mode": {
    "name": "ipython",
    "version": 3
   },
   "file_extension": ".py",
   "mimetype": "text/x-python",
   "name": "python",
   "nbconvert_exporter": "python",
   "pygments_lexer": "ipython3",
   "version": "3.8.5"
  },
  "toc": {
   "nav_menu": {},
   "number_sections": true,
   "sideBar": true,
   "skip_h1_title": false,
   "toc_cell": false,
   "toc_position": {},
   "toc_section_display": "block",
   "toc_window_display": false
  }
 },
 "nbformat": 4,
 "nbformat_minor": 2
}
