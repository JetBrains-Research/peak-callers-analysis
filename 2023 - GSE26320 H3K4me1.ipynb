{
 "cells": [
  {
   "cell_type": "markdown",
   "metadata": {},
   "source": [
    "# SPAN Benchmarks H3K4me1"
   ]
  },
  {
   "cell_type": "code",
   "execution_count": null,
   "metadata": {
    "ExecuteTime": {
     "start_time": "2023-04-19T17:30:14.086651Z",
     "end_time": "2023-04-19T17:30:14.088812Z"
    }
   },
   "outputs": [],
   "source": [
    "%matplotlib inline\n",
    "%config InlineBackend.figure_format='retina'\n",
    "\n",
    "from IPython.display import display\n",
    "import pandas as pd\n",
    "from tqdm.auto import tqdm\n",
    "import seaborn as sns\n",
    "\n",
    "sns.set_style(\"whitegrid\")\n",
    "import matplotlib.pyplot as plt\n",
    "from matplotlib.backends.backend_pdf import PdfPages\n",
    "import numpy as np\n",
    "import scipy as sp\n",
    "import os\n",
    "import tempfile\n",
    "from itertools import product\n"
   ]
  },
  {
   "cell_type": "code",
   "execution_count": null,
   "outputs": [],
   "source": [
    "def bedl(file):\n",
    "    try:\n",
    "        tf = pd.read_csv(file, sep='\\t', header=None)\n",
    "        return tf[2] - tf[1]\n",
    "    except:\n",
    "        return np.zeros(0)  # Empty file\n",
    "\n",
    "\n",
    "def lines(file):\n",
    "    try:\n",
    "        tf = pd.read_csv(file, sep='\\t', header=None)\n",
    "        return len(tf)\n",
    "    except:\n",
    "        return 0  # Empty file\n",
    "\n",
    "def d(a, b):\n",
    "    return a / b if b != 0 else 0\n",
    "\n",
    "def last_col(file):\n",
    "    try:\n",
    "        cols = len(pd.read_csv(file, sep='\\t', nrows=1, header=None).columns)\n",
    "        return pd.read_csv(file, sep='\\t', header=None, usecols=[cols - 1])[cols - 1]\n",
    "    except:\n",
    "        return np.zeros(0)  # Empty file\n",
    "\n",
    "def sorted_file(file):\n",
    "    ts = tempfile.mktemp()\n",
    "    !cat {file} | sort -k1,1 -k2,2n > {ts}\n",
    "    return ts\n"
   ],
   "metadata": {
    "collapsed": false,
    "ExecuteTime": {
     "start_time": "2023-04-19T17:28:54.278111Z",
     "end_time": "2023-04-19T17:28:54.318919Z"
    }
   }
  },
  {
   "cell_type": "markdown",
   "source": [
    "# Hg38 load peaks"
   ],
   "metadata": {
    "collapsed": false
   }
  },
  {
   "cell_type": "code",
   "execution_count": null,
   "outputs": [],
   "source": [
    "GSE26320_PATH_HG38 = os.path.expanduser('~/data/2023_GSE26320')\n",
    "GSE26320_CELLS = ['GM12878', 'HMEC', 'HSMM', 'K562', 'NHEK', 'NHLF', 'H1', 'Huvec', 'HepG2']\n",
    "# GSE26320_CELLS = ['GM12878',  'K562', 'H1']\n",
    "# GSE26320_MODIFICATIONS = ['CTCF', 'H3K27ac', 'H3K27me3', 'H3K36me3', 'H3K4me1', 'H3K4me2', 'H3K4me3', 'H3K9ac', 'H4K20me1']\n",
    "GSE26320_MODIFICATIONS = ['H3K4me1']\n",
    "GSE26320_REPS = ['rep1', 'rep2']"
   ],
   "metadata": {
    "collapsed": false,
    "ExecuteTime": {
     "start_time": "2023-04-19T17:28:59.817179Z",
     "end_time": "2023-04-19T17:28:59.820844Z"
    }
   }
  },
  {
   "cell_type": "code",
   "execution_count": null,
   "outputs": [],
   "source": [
    "def load_peaks_fdr(path, suffix, fdrs):\n",
    "    df_fdr = pd.DataFrame(columns=['file', 'modification', 'cell', 'replicate', 'fdr', 'peaks', 'avlength'],\n",
    "                          dtype=object)\n",
    "    for f in tqdm(os.listdir(path)):\n",
    "        if suffix not in f:\n",
    "            continue\n",
    "        fdr = next((fdr for fdr in fdrs if fdr in f), None)\n",
    "        cell = next((cc for cc in GSE26320_CELLS if cc in f), None)\n",
    "        mod = next((m for m in GSE26320_MODIFICATIONS if m in f), None)\n",
    "        rep = 'rep1' if 'rep1' in f else 'rep2'\n",
    "        if fdr and cell and rep and mod:\n",
    "            peaks_path = os.path.join(path, f)\n",
    "            ps, ls = lines(peaks_path), bedl(peaks_path)\n",
    "            avls = 0 if ps == 0 else sum(ls) / ps\n",
    "            df_fdr.loc[len(df_fdr)] = (f, mod, cell, rep, fdr, ps, avls)\n",
    "    return df_fdr"
   ],
   "metadata": {
    "collapsed": false,
    "ExecuteTime": {
     "start_time": "2023-04-19T17:29:01.115849Z",
     "end_time": "2023-04-19T17:29:01.118945Z"
    }
   }
  },
  {
   "cell_type": "code",
   "execution_count": null,
   "outputs": [],
   "source": [
    "df_fdr_macs2 = load_peaks_fdr(os.path.join(GSE26320_PATH_HG38, 'macs2'), '.narrowPeak', ['0.05'])\n",
    "df_fdr_macs2['file'] = [f'{GSE26320_PATH_HG38}/macs2/{f}' for f in df_fdr_macs2['file']]\n",
    "df_fdr_macs2['tool'] = 'MACS2'\n",
    "print('MACS2', len(df_fdr_macs2))\n",
    "\n",
    "df_fdr_macs2broad = load_peaks_fdr(os.path.join(GSE26320_PATH_HG38, 'macs2'), '.broadPeak', ['0.1'])\n",
    "df_fdr_macs2broad['file'] = [f'{GSE26320_PATH_HG38}/macs2/{f}' for f in df_fdr_macs2broad['file']]\n",
    "df_fdr_macs2broad['tool'] = 'MACS2 broad'\n",
    "print('MACS2 broad', len(df_fdr_macs2broad))\n",
    "\n",
    "df_fdr_sicer = load_peaks_fdr(os.path.join(GSE26320_PATH_HG38, 'sicer'), 'summary-FDR', ['0.01'])\n",
    "df_fdr_sicer['file'] = [f'{GSE26320_PATH_HG38}/sicer/{f}' for f in df_fdr_sicer['file']]\n",
    "df_fdr_sicer['tool'] = 'SICER'\n",
    "print('SICER', len(df_fdr_sicer))\n",
    "\n",
    "df_fdr_span = load_peaks_fdr(os.path.join(GSE26320_PATH_HG38, 'span'), '.peak', ['0.05'])\n",
    "df_fdr_span['file'] = [f'{GSE26320_PATH_HG38}/span/{f}' for f in df_fdr_span['file']]\n",
    "df_fdr_span['tool'] = 'SPAN'\n",
    "print('SPAN', len(df_fdr_span))\n",
    "\n",
    "df_fdr_peaks = pd.concat([df_fdr_macs2, df_fdr_macs2broad, df_fdr_sicer, df_fdr_span])\n",
    "df_fdr_peaks.sample(5)"
   ],
   "metadata": {
    "collapsed": false,
    "ExecuteTime": {
     "start_time": "2023-04-19T17:29:01.978109Z",
     "end_time": "2023-04-19T17:29:10.931069Z"
    }
   }
  },
  {
   "cell_type": "code",
   "execution_count": null,
   "outputs": [],
   "source": [
    "# TOOLS_PALETTE = {'MACS2': 'blue', 'MACS2 broad': 'orange', 'SICER': 'green', 'SPAN': 'red', 'Genes': 'brown'}\n",
    "TOOLS = ['MACS2', 'MACS2 broad', 'SICER', 'SPAN', 'Genes']\n",
    "palette = plt.cm.get_cmap('tab10')\n",
    "TOOLS_PALETTE = {t: palette(i) for i, t in enumerate(TOOLS)}"
   ],
   "metadata": {
    "collapsed": false,
    "ExecuteTime": {
     "start_time": "2023-04-19T17:29:12.381057Z",
     "end_time": "2023-04-19T17:29:12.384376Z"
    }
   }
  },
  {
   "cell_type": "code",
   "execution_count": null,
   "outputs": [],
   "source": [
    "plt.figure(figsize=(4, 4))\n",
    "ax = plt.axes()\n",
    "g_results = sns.barplot(data=df_fdr_peaks, x='tool', y='peaks', ax=ax,\n",
    "                        capsize=.2, errwidth=2, edgecolor=\"black\",\n",
    "                        palette=TOOLS_PALETTE)\n",
    "ax.xaxis.set_tick_params(rotation=90)\n",
    "ax.title.set_text('H3K4me1 peaks number')\n",
    "plt.show()"
   ],
   "metadata": {
    "collapsed": false,
    "ExecuteTime": {
     "start_time": "2023-04-19T17:29:13.112724Z",
     "end_time": "2023-04-19T17:29:13.319520Z"
    }
   }
  },
  {
   "cell_type": "code",
   "execution_count": null,
   "outputs": [],
   "source": [
    "print('Load lengths')\n",
    "ts = []\n",
    "for file, tool in tqdm(zip(df_fdr_peaks['file'], df_fdr_peaks['tool'])):\n",
    "    lengths = bedl(file)\n",
    "    t = pd.DataFrame(dict(tool=[tool] * len(lengths), length=lengths))\n",
    "    ts.append(t.sample(min(len(t), 10_000)))\n",
    "t = pd.concat(ts).reset_index(drop=True)\n",
    "del ts\n",
    "t.sample(10)"
   ],
   "metadata": {
    "collapsed": false,
    "ExecuteTime": {
     "start_time": "2023-04-19T17:35:57.850357Z",
     "end_time": "2023-04-19T17:36:01.681141Z"
    }
   }
  },
  {
   "cell_type": "code",
   "execution_count": null,
   "outputs": [],
   "source": [
    "plt.figure(figsize=(4, 4))\n",
    "ax = plt.axes()\n",
    "g_results = sns.boxplot(data=t, x='tool', y='length', ax=ax)\n",
    "ax.title.set_text('H3K4me1 peaks length')\n",
    "ax.xaxis.set_tick_params(rotation=90)\n",
    "ax.set_ylim([0, 10_000])\n",
    "plt.show()"
   ],
   "metadata": {
    "collapsed": false,
    "ExecuteTime": {
     "start_time": "2023-04-19T17:36:01.689071Z",
     "end_time": "2023-04-19T17:36:02.009317Z"
    }
   }
  },
  {
   "cell_type": "code",
   "execution_count": null,
   "outputs": [],
   "source": [
    "plt.figure(figsize=(8, 5))\n",
    "ax = plt.axes()\n",
    "g_results = sns.histplot(data=t, x='length', hue='tool', ax=ax,\n",
    "                         stat='density', common_bins=False, common_norm=False,\n",
    "                         bins=50, kde=True, log_scale=True, alpha=0.2,\n",
    "                         palette=TOOLS_PALETTE)\n",
    "g_results.set(xscale='log')\n",
    "g_results.set_ylim(0, 3)\n",
    "g_results.set_xlim(1e2, 2e4)\n",
    "ax.title.set_text('H3K4me1 peaks length')\n",
    "plt.show()"
   ],
   "metadata": {
    "collapsed": false,
    "ExecuteTime": {
     "start_time": "2023-04-19T17:36:55.845408Z",
     "end_time": "2023-04-19T17:36:58.408523Z"
    }
   }
  },
  {
   "cell_type": "code",
   "execution_count": null,
   "outputs": [],
   "source": [
    "# Randomly tweak SPAN, SICER lengths for visualization purposes\n",
    "tspan = t['tool'] == 'SPAN'\n",
    "t.loc[tspan, 'length'] += np.random.normal(0, 100, size=sum(tspan))\n",
    "tsicer = t['tool'] == 'SICER'\n",
    "t.loc[tsicer, 'length'] += np.random.normal(0, 100, size=sum(tsicer))"
   ],
   "metadata": {
    "collapsed": false,
    "ExecuteTime": {
     "start_time": "2023-04-19T17:29:38.706501Z",
     "end_time": "2023-04-19T17:29:38.859922Z"
    }
   }
  },
  {
   "cell_type": "code",
   "execution_count": null,
   "outputs": [],
   "source": [
    "plt.figure(figsize=(8, 5))\n",
    "ax = plt.axes()\n",
    "g_results = sns.histplot(data=t, x='length', hue='tool', ax=ax,\n",
    "                         stat='density', common_bins=False, common_norm=False,\n",
    "                         kde=True, log_scale=True, alpha=0.2,\n",
    "                         palette=TOOLS_PALETTE)\n",
    "g_results.set(xscale='log')\n",
    "g_results.set_ylim(0, 3)\n",
    "g_results.set_xlim(1e2, 2e4)\n",
    "ax.title.set_text('H3K4me1 peaks length')\n",
    "plt.show()"
   ],
   "metadata": {
    "collapsed": false,
    "ExecuteTime": {
     "start_time": "2023-04-19T17:29:39.196384Z",
     "end_time": "2023-04-19T17:29:42.727627Z"
    }
   }
  },
  {
   "cell_type": "markdown",
   "source": [
    "## Consistency analysis between replicates"
   ],
   "metadata": {
    "collapsed": false
   }
  },
  {
   "cell_type": "code",
   "execution_count": null,
   "outputs": [],
   "source": [
    "reps_overlap = pd.DataFrame(columns=['modification', 'cell', 'tool', 'rep1', 'rep2',\n",
    "                                     'peaks1', 'peaks1_len', 'peaks2', 'peaks2_len',\n",
    "                                     'peaks1_overlap', 'peaks1_overlap_len',\n",
    "                                     'peaks2_overlap', 'peaks2_overlap_len'], dtype=object)\n",
    "\n",
    "tf = tempfile.mktemp()\n",
    "\n",
    "tools = list(sorted(set(df_fdr_peaks['tool'])))\n",
    "for c, m in tqdm(product(GSE26320_CELLS, GSE26320_MODIFICATIONS)):\n",
    "    print(c, m)\n",
    "    tm = df_fdr_peaks[(df_fdr_peaks['cell'] == c) & (df_fdr_peaks['modification'] == m)]\n",
    "    reps = list(sorted(set(tm['replicate'])))\n",
    "    for tool in tools:\n",
    "        for i in range(len(reps)):\n",
    "            for j in range(i + 1, len(reps)):\n",
    "                rep1, rep2 = reps[i], reps[j]\n",
    "                t1 = tm[(tm['tool'] == tool) & (tm['replicate'] == rep1)]\n",
    "                t2 = tm[(tm['tool'] == tool) & (tm['replicate'] == rep2)]\n",
    "                file1 = sorted_file(t1['file'].values[0])\n",
    "                file2 = sorted_file(t2['file'].values[0])\n",
    "                peaks1 = t1['peaks'].values[0]\n",
    "                peaks1_len = int(bedl(file1).sum())\n",
    "                peaks2 = t2['peaks'].values[0]\n",
    "                peaks2_len = int(bedl(file2).sum())\n",
    "                !bedtools intersect -a {file1} -b {file2} -wa -u > {tf}\n",
    "                overlap1 = lines(tf)\n",
    "                !bedtools intersect -b {file1} -a {file2} -wa -u > {tf}\n",
    "                overlap2 = lines(tf)\n",
    "                !bedtools intersect -a {file1} -b {file2} -wo > {tf}\n",
    "                overlap1_len = overlap2_len = int(last_col(tf).sum())\n",
    "\n",
    "                reps_overlap.loc[len(reps_overlap)] = \\\n",
    "                    (m, c, tool, rep1, rep2, peaks1, peaks1_len, peaks2, peaks2_len,\n",
    "                     overlap1, overlap1_len, overlap2, overlap2_len)\n",
    "reps_overlap.sample(5)"
   ],
   "metadata": {
    "collapsed": false,
    "ExecuteTime": {
     "start_time": "2023-04-19T17:30:22.068135Z",
     "end_time": "2023-04-19T17:31:09.412598Z"
    }
   }
  },
  {
   "cell_type": "code",
   "execution_count": null,
   "outputs": [],
   "source": [
    "reps_overlap['jaccard'] = [\n",
    "    d(lo, l1 + l2 - lo)\n",
    "    for l1, l2, lo in zip(reps_overlap['peaks1_len'], reps_overlap['peaks2_len'], reps_overlap['peaks1_overlap_len'])\n",
    "]\n",
    "\n",
    "plt.figure(figsize=(6, 2))\n",
    "\n",
    "g_result = sns.boxplot(data=reps_overlap, y='tool', x='jaccard', palette=TOOLS_PALETTE)\n",
    "ax = g_result.axes\n",
    "ax.set_title('Jaccard between H3K4me1 replicates (length)')\n",
    "ax.set_xlabel('Jaccard')\n",
    "ax.set_ylabel('Tool')\n",
    "\n",
    "\n",
    "plt.tight_layout()\n",
    "plt.show()"
   ],
   "metadata": {
    "collapsed": false,
    "ExecuteTime": {
     "start_time": "2023-04-19T17:34:50.109268Z",
     "end_time": "2023-04-19T17:34:50.236416Z"
    }
   }
  },
  {
   "cell_type": "code",
   "execution_count": null,
   "outputs": [],
   "source": [
    "reps_overlap['peak1_overlap_fraction'] = [d(x, y) for x, y in zip(reps_overlap['peaks1_overlap'], reps_overlap['peaks1'])]\n",
    "reps_overlap['peak2_overlap_fraction'] = [d(x, y) for x, y in zip(reps_overlap['peaks2_overlap'], reps_overlap['peaks2'])]\n",
    "\n",
    "reps_overlap['peak1_overlap_fraction_len'] = [\n",
    "    d(x, y) for x, y in zip(reps_overlap['peaks1_overlap_len'], reps_overlap['peaks1_len'])\n",
    "]\n",
    "reps_overlap['peak2_overlap_fraction_len'] = [\n",
    "    d(x, y) for x, y in zip(reps_overlap['peaks2_overlap_len'], reps_overlap['peaks2_len'])\n",
    "]\n",
    "reps_overlap.sample(5)"
   ],
   "metadata": {
    "collapsed": false,
    "ExecuteTime": {
     "start_time": "2023-04-19T17:34:55.008020Z",
     "end_time": "2023-04-19T17:34:55.008813Z"
    }
   }
  },
  {
   "cell_type": "code",
   "execution_count": null,
   "outputs": [],
   "source": [
    "t = pd.concat([\n",
    "    reps_overlap[\n",
    "        ['modification', 'cell', 'tool', 'peak1_overlap_fraction', 'peak1_overlap_fraction_len']\n",
    "    ].copy().rename(dict(peak1_overlap_fraction='overlap', peak1_overlap_fraction_len='overlap_len'), axis=1),\n",
    "    reps_overlap[\n",
    "        ['modification', 'cell', 'tool', 'peak2_overlap_fraction', 'peak2_overlap_fraction_len']\n",
    "    ].copy().rename(dict(peak2_overlap_fraction='overlap', peak2_overlap_fraction_len='overlap_len'), axis=1)\n",
    "]).reset_index(drop=True)\n",
    "# t"
   ],
   "metadata": {
    "collapsed": false,
    "ExecuteTime": {
     "start_time": "2023-04-19T17:34:55.923855Z",
     "end_time": "2023-04-19T17:34:55.926098Z"
    }
   }
  },
  {
   "cell_type": "code",
   "execution_count": null,
   "outputs": [],
   "source": [
    "plt.figure(figsize=(6, 4))\n",
    "axs = [plt.subplot(2, 1, i + 1) for i in range(2)]\n",
    "\n",
    "g_result = sns.boxplot(data=t, y='tool', x='overlap', ax=axs[0], palette=TOOLS_PALETTE)\n",
    "ax = g_result.axes\n",
    "ax.set_title('Overlap between H3K4me1 replicates (peaks)')\n",
    "ax.set_xlabel('Fraction')\n",
    "ax.set_ylabel('Tool')\n",
    "\n",
    "g_result = sns.boxplot(data=t, y='tool', x='overlap_len', ax=axs[1], palette=TOOLS_PALETTE)\n",
    "ax = g_result.axes\n",
    "ax.set_title('Overlap between H3K4me1 replicates (length)')\n",
    "ax.set_xlabel('Fraction')\n",
    "ax.set_ylabel('Tool')\n",
    "\n",
    "plt.tight_layout()\n",
    "plt.show()"
   ],
   "metadata": {
    "collapsed": false,
    "ExecuteTime": {
     "start_time": "2023-04-19T17:34:56.873872Z",
     "end_time": "2023-04-19T17:34:57.201538Z"
    }
   }
  },
  {
   "cell_type": "markdown",
   "source": [
    "## Analyze peaks and diffs"
   ],
   "metadata": {
    "collapsed": false
   }
  },
  {
   "cell_type": "code",
   "execution_count": null,
   "outputs": [],
   "source": [
    "import tempfile\n",
    "from itertools import product\n",
    "\n",
    "tf = tempfile.mktemp()\n",
    "\n",
    "bench_df = pd.DataFrame(\n",
    "    columns=['cell', 'replicate', 'name', 'peaks'],\n",
    "    dtype=object\n",
    ")\n",
    "\n",
    "for c, r in tqdm(product(GSE26320_CELLS, GSE26320_REPS)):\n",
    "    print(c, r)\n",
    "    for tool in set(df_fdr_peaks['tool']):\n",
    "        t = df_fdr_peaks[(df_fdr_peaks['tool'] == tool) & (df_fdr_peaks['modification'] == 'H3K4me1') &\n",
    "                         (df_fdr_peaks['cell'] == c) & (df_fdr_peaks['replicate'] == r)]\n",
    "        if len(t) == 0:\n",
    "            continue\n",
    "        peaks_file = t['file'].values[0]\n",
    "        peaks = lines(peaks_file)\n",
    "        bench_df.loc[len(bench_df)] = (c, r, tool, peaks)\n",
    "# bench_df"
   ],
   "metadata": {
    "collapsed": false,
    "ExecuteTime": {
     "start_time": "2023-04-19T17:35:04.003997Z",
     "end_time": "2023-04-19T17:35:07.702785Z"
    }
   }
  },
  {
   "cell_type": "code",
   "execution_count": null,
   "outputs": [],
   "source": [
    "TOOLS = list(sorted(set(bench_df['name'])))\n",
    "\n",
    "diff_bench_df = pd.DataFrame(\n",
    "    columns=['cell', 'replicate', 'name', 'peaks'],\n",
    "    dtype=object\n",
    ")\n",
    "\n",
    "tf = tempfile.mktemp()\n",
    "tf2 = tempfile.mktemp()\n",
    "\n",
    "for c, r in tqdm(product(GSE26320_CELLS, GSE26320_REPS)):\n",
    "    print(c, r)\n",
    "    t = df_fdr_peaks[(df_fdr_peaks['tool'] == 'SPAN') & (df_fdr_peaks['modification'] == 'H3K4me1') &\n",
    "                     (df_fdr_peaks['cell'] == c) & (df_fdr_peaks['replicate'] == r)]\n",
    "    if len(t) == 0:\n",
    "        continue\n",
    "    span_file = sorted_file(t['file'].values[0])\n",
    "    # Processing single tools information\n",
    "    for tool in TOOLS:\n",
    "        if tool == 'SPAN':\n",
    "            continue\n",
    "        t = df_fdr_peaks[(df_fdr_peaks['tool'] == tool) & (df_fdr_peaks['modification'] == 'H3K4me1') &\n",
    "                         (df_fdr_peaks['cell'] == c) & (df_fdr_peaks['replicate'] == r)]\n",
    "        if len(t) == 0:\n",
    "            continue\n",
    "        peaks_file = sorted_file(t['file'].values[0])\n",
    "        for name, args in [\n",
    "            (f'SPAN - {tool}', f' -a {span_file} -b {peaks_file} '),\n",
    "            (f'{tool} - SPAN', f' -b {span_file} -a {peaks_file} ')]:\n",
    "            !bedtools intersect {args} -wa -v > {tf}\n",
    "            peaks = lines(tf)\n",
    "            diff_bench_df.loc[len(diff_bench_df)] = (c, r, name, peaks)\n",
    "\n",
    "# display(diff_bench_df.head())"
   ],
   "metadata": {
    "collapsed": false,
    "ExecuteTime": {
     "start_time": "2023-04-19T17:35:08.987067Z",
     "end_time": "2023-04-19T17:35:52.614794Z"
    }
   }
  },
  {
   "cell_type": "code",
   "execution_count": null,
   "outputs": [],
   "source": [
    "full_bench_df = pd.concat([\n",
    "    bench_df[['cell', 'replicate', 'name', 'peaks']],\n",
    "    diff_bench_df[['cell', 'replicate', 'name', 'peaks']]]).reset_index(drop=True)\n",
    "full_bench_df.sample(10)"
   ],
   "metadata": {
    "collapsed": false,
    "ExecuteTime": {
     "start_time": "2023-04-19T17:35:52.626528Z",
     "end_time": "2023-04-19T17:35:52.630857Z"
    }
   }
  },
  {
   "cell_type": "code",
   "execution_count": null,
   "outputs": [],
   "source": [
    "plt.figure(figsize=(4, 4))\n",
    "ax = plt.axes()\n",
    "ax.title.set_text('Peaks number')\n",
    "g_results = sns.barplot(data=full_bench_df, x='name', y='peaks',\n",
    "                        ax=ax,\n",
    "                        capsize=.2, errwidth=2,\n",
    "                        order=['MACS2', 'MACS2 broad', 'SICER', 'SPAN',\n",
    "                               'SPAN - MACS2', 'SPAN - MACS2 broad', 'SPAN - SICER',\n",
    "                               'MACS2 - SPAN', 'MACS2 broad - SPAN', 'SICER - SPAN',\n",
    "                               ]\n",
    "                        )\n",
    "ax.xaxis.set_tick_params(rotation=90)\n",
    "ax.set_ylabel('Peaks number')\n",
    "plt.tight_layout()\n",
    "plt.show()"
   ],
   "metadata": {
    "collapsed": false,
    "ExecuteTime": {
     "start_time": "2023-04-19T17:35:52.633199Z",
     "end_time": "2023-04-19T17:35:52.997044Z"
    }
   }
  },
  {
   "cell_type": "markdown",
   "source": [
    "# Functional annotation"
   ],
   "metadata": {
    "collapsed": false
   }
  },
  {
   "cell_type": "code",
   "execution_count": null,
   "outputs": [],
   "source": [
    "import tempfile\n",
    "from itertools import product\n",
    "\n",
    "tf = tempfile.mktemp()\n",
    "\n",
    "! rm -r {GSE26320_PATH_HG38}/summary_H3K4me1\n",
    "! mkdir -p {GSE26320_PATH_HG38}/summary_H3K4me1\n",
    "\n",
    "for c, r in tqdm(product(GSE26320_CELLS, GSE26320_REPS)):\n",
    "    print(c, r)\n",
    "    for tool in set(df_fdr_peaks['tool']):\n",
    "        t = df_fdr_peaks[(df_fdr_peaks['tool'] == tool) &\n",
    "                         (df_fdr_peaks['modification'] == 'H3K4me1') &\n",
    "                         (df_fdr_peaks['cell'] == c) &\n",
    "                         (df_fdr_peaks['replicate'] == r)]\n",
    "        if len(t) == 0:\n",
    "            continue\n",
    "        peaks_file = sorted_file(t['file'].values[0])\n",
    "        filename = tool.replace(' ', '_')\n",
    "        ! cat {peaks_file} >> \"{GSE26320_PATH_HG38}/summary_H3K4me1/{filename}.bed_\"\n",
    "        if tool == 'SPAN':\n",
    "            span_file = peaks_file\n",
    "\n",
    "    # Processing single tools information\n",
    "    for tool in TOOLS:\n",
    "        if tool == 'SPAN':\n",
    "            continue\n",
    "        t = df_fdr_peaks[(df_fdr_peaks['tool'] == tool) &\n",
    "                         (df_fdr_peaks['modification'] == 'H3K4me1') &\n",
    "                         (df_fdr_peaks['cell'] == c) &\n",
    "                         (df_fdr_peaks['replicate'] == r)]\n",
    "        if len(t) == 0:\n",
    "            continue\n",
    "        peaks_file = sorted_file(t['file'].values[0])\n",
    "        for name, args in [\n",
    "            (f'SPAN - {tool}', f' -a {span_file} -b {peaks_file} '),\n",
    "            (f'{tool} - SPAN', f' -b {span_file} -a {peaks_file} ')\n",
    "        ]:\n",
    "            !bedtools intersect {args} -wa -v > {tf}\n",
    "            filename = name.replace(' ', '_')\n",
    "            ! cat {tf} >> \"{GSE26320_PATH_HG38}/summary_H3K4me1/{filename}.bed_\"\n",
    "\n",
    "for f in os.listdir(GSE26320_PATH_HG38 + '/summary_H3K4me1'):\n",
    "    f_sorted = f[:len(f) - 1]\n",
    "    ! sort -k1,1 -k2,2n -k3,3n \"{GSE26320_PATH_HG38}/summary_H3K4me1/{f}\" | cut -f1-3> \"{GSE26320_PATH_HG38}/summary_H3K4me1/{f_sorted}\"\n",
    "    ! rm \"{GSE26320_PATH_HG38}/summary_H3K4me1/{f}\""
   ],
   "metadata": {
    "collapsed": false,
    "ExecuteTime": {
     "start_time": "2023-04-20T12:09:27.400931Z",
     "end_time": "2023-04-20T12:10:51.103906Z"
    }
   }
  },
  {
   "cell_type": "markdown",
   "source": [
    "# Coverage"
   ],
   "metadata": {
    "collapsed": false
   }
  },
  {
   "cell_type": "code",
   "execution_count": null,
   "outputs": [],
   "source": [
    "# Fraction of reads in peaks\n",
    "GSE26320_PATH_HG38_BW = GSE26320_PATH_HG38 + '/bw'\n",
    "\n",
    "\n",
    "def load_bws(path, m):\n",
    "    df_bws = pd.DataFrame(columns=['file', 'modification', 'cell', 'replicate'], dtype=object)\n",
    "    for f in tqdm(os.listdir(path)):\n",
    "        if '.bw' not in f:\n",
    "            continue\n",
    "        cell = next((cc for cc in GSE26320_CELLS if cc in f), None)\n",
    "        rep = next((r for r in GSE26320_REPS if r in f), None)\n",
    "        if cell and rep and m in f:\n",
    "            df_bws.loc[len(df_bws)] = ((os.path.join(path, f)), m, cell, rep)\n",
    "    return df_bws"
   ],
   "metadata": {
    "collapsed": false,
    "ExecuteTime": {
     "start_time": "2023-04-20T12:10:51.114513Z",
     "end_time": "2023-04-20T12:10:51.132297Z"
    }
   }
  },
  {
   "cell_type": "code",
   "execution_count": null,
   "outputs": [],
   "source": [
    "bws_df = load_bws(GSE26320_PATH_HG38_BW, 'H3K4me1')\n",
    "display(bws_df.sample(3))\n",
    "bws_control_df = load_bws(GSE26320_PATH_HG38_BW, 'Input')\n",
    "display(bws_control_df.sample(3))"
   ],
   "metadata": {
    "collapsed": false,
    "ExecuteTime": {
     "start_time": "2023-04-20T12:10:51.135338Z",
     "end_time": "2023-04-20T12:10:51.317837Z"
    }
   }
  },
  {
   "cell_type": "code",
   "execution_count": null,
   "outputs": [],
   "source": [
    "CHROM_SIZES = {\n",
    "    c: s for _, (c, s) in pd.read_csv(os.path.join(GSE26320_PATH_HG38, 'hg38.chrom.sizes'),\n",
    "                                      sep='\\t', names=['chr', 'size']).iterrows() if '_' not in c\n",
    "}\n",
    "CHROM_SIZES"
   ],
   "metadata": {
    "collapsed": false,
    "ExecuteTime": {
     "start_time": "2023-04-20T12:10:51.260988Z",
     "end_time": "2023-04-20T12:10:51.318120Z"
    }
   }
  },
  {
   "cell_type": "code",
   "execution_count": null,
   "outputs": [],
   "source": [
    "import pyBigWig\n",
    "import tempfile\n",
    "from itertools import product\n",
    "\n",
    "tf = tempfile.mktemp()\n",
    "\n",
    "coverage_data = []\n",
    "\n",
    "for c, r in tqdm(product(GSE26320_CELLS, GSE26320_REPS)):\n",
    "    print(c, r)\n",
    "    t = bws_df[(bws_df['modification'] == 'H3K4me1') &\n",
    "               (bws_df['cell'] == c) &\n",
    "               (bws_df['replicate'] == r)]\n",
    "    if len(t) == 0:\n",
    "        continue\n",
    "    bw_file = t['file'].values[0]\n",
    "    t = bws_control_df[(bws_control_df['cell'] == c) & (bws_control_df['replicate'] == r)]\n",
    "    if len(t) == 0:\n",
    "        continue\n",
    "    bw_control_file = t['file'].values[0]\n",
    "    for tool in set(df_fdr_peaks['tool']):\n",
    "        t = df_fdr_peaks[(df_fdr_peaks['tool'] == tool) &\n",
    "                         (df_fdr_peaks['modification'] == 'H3K4me1') &\n",
    "                         (df_fdr_peaks['cell'] == c) &\n",
    "                         (df_fdr_peaks['replicate'] == r)]\n",
    "        if len(t) == 0:\n",
    "            continue\n",
    "        peaks_file = sorted_file(t['file'].values[0])\n",
    "        if lines(peaks_file) > 0:\n",
    "            t = pd.read_csv(peaks_file, sep='\\t', header=None)\n",
    "            positions = [f'{chr}:{start}-{end}' for chr, start, end in zip(t[0], t[1], t[2]) if chr in CHROM_SIZES]\n",
    "            lengths = [end - start for chr, start, end in zip(t[0], t[1], t[2]) if chr in CHROM_SIZES]\n",
    "            with pyBigWig.open(bw_file) as bw:\n",
    "                total_coverage = sum(bw.stats(chr, type='sum', exact=True)[0] for chr in t[0].unique() if chr in CHROM_SIZES)\n",
    "                peaks_coverage = [bw.stats(chr, start, end, type='sum', exact=True)[0]\n",
    "                                  for chr, start, end in zip(t[0], t[1], t[2]) if chr in CHROM_SIZES]\n",
    "            for pos, length, peak_coverage in zip(positions, lengths, peaks_coverage):\n",
    "                coverage_data.append(('H3K4me1', c, r, tool, pos, length, 'treatment', peak_coverage, total_coverage))\n",
    "            with pyBigWig.open(bw_control_file) as bwc:\n",
    "                total_coverage = sum(bwc.stats(chr, type='sum', exact=True)[0] for chr in t[0].unique())\n",
    "                peaks_coverage = [bwc.stats(chr, start, end, type='sum', exact=True)[0]\n",
    "                                  for chr, start, end in zip(t[0], t[1], t[2])]\n",
    "            for pos, length, peak_coverage in zip(positions, lengths, peaks_coverage):\n",
    "                coverage_data.append(('H3K4me1', c, r, tool, pos, length, 'control', peak_coverage, total_coverage))\n",
    "        if tool == 'SPAN':\n",
    "            span_file = peaks_file\n",
    "\n",
    "    # Processing single tools information\n",
    "    for tool in TOOLS:\n",
    "        if tool == 'SPAN':\n",
    "            continue\n",
    "        t = df_fdr_peaks[(df_fdr_peaks['tool'] == tool) &\n",
    "                         (df_fdr_peaks['modification'] == 'H3K4me1') &\n",
    "                         (df_fdr_peaks['cell'] == c) &\n",
    "                         (df_fdr_peaks['replicate'] == r)]\n",
    "        if len(t) == 0:\n",
    "            continue\n",
    "        peaks_file = sorted_file(t['file'].values[0])\n",
    "        for name, args in [\n",
    "            (f'SPAN - {tool}', f' -a {span_file} -b {peaks_file} '),\n",
    "            (f'{tool} - SPAN', f' -b {span_file} -a {peaks_file} ')\n",
    "        ]:\n",
    "            !bedtools intersect {args} -wa -v > {tf}\n",
    "            if lines(tf) > 0:\n",
    "                t = pd.read_csv(tf, sep='\\t', header=None)\n",
    "                positions = [f'{chr}:{start}-{end}' for chr, start, end in zip(t[0], t[1], t[2]) if chr in CHROM_SIZES]\n",
    "                lengths = [end - start for chr, start, end in zip(t[0], t[1], t[2]) if chr in CHROM_SIZES]\n",
    "                with pyBigWig.open(bw_file) as bw:\n",
    "                    total_coverage = sum(bw.stats(chr, type='sum', exact=True)[0] for chr in t[0].unique() if chr in CHROM_SIZES)\n",
    "                    peaks_coverage = [bw.stats(chr, start, end, type='sum', exact=True)[0]\n",
    "                                      for chr, start, end in zip(t[0], t[1], t[2]) if chr in CHROM_SIZES]\n",
    "                for pos, length, peak_coverage in zip(positions, lengths, peaks_coverage):\n",
    "                    coverage_data.append(('H3K4me1', c, r, name, pos, length, 'treatment', peak_coverage, total_coverage))\n",
    "                with pyBigWig.open(bw_control_file) as bwc:\n",
    "                    total_coverage = sum(bwc.stats(chr, type='sum', exact=True)[0] for chr in t[0].unique())\n",
    "                    peaks_coverage = [bwc.stats(chr, start, end, type='sum', exact=True)[0]\n",
    "                                      for chr, start, end in zip(t[0], t[1], t[2])]\n",
    "                for pos, length, peak_coverage in zip(positions, lengths, peaks_coverage):\n",
    "                    coverage_data.append(('H3K4me1', c, r, name, pos, length, 'control', peak_coverage, total_coverage))\n",
    "\n",
    "df_coverage = pd.DataFrame(\n",
    "    coverage_data,\n",
    "    columns=['modification', 'cell', 'replicate', 'name', 'position', 'length', 'type', 'coverage', 'total_coverage']\n",
    ")\n",
    "del coverage_data\n",
    "df_coverage.sample(5)"
   ],
   "metadata": {
    "collapsed": false,
    "ExecuteTime": {
     "start_time": "2023-04-20T12:11:05.044671Z",
     "end_time": "2023-04-20T12:35:55.872146Z"
    }
   }
  },
  {
   "cell_type": "code",
   "execution_count": null,
   "outputs": [],
   "source": [
    "df_coverage['rpm'] = df_coverage['coverage'] / (df_coverage['total_coverage'] / 1e6)\n",
    "df_coverage['rpkm'] = df_coverage['rpm'] / (df_coverage['length'] / 1e3)\n",
    "\n",
    "plt.figure(figsize=(8, 5))\n",
    "g_results = sns.boxplot(data=df_coverage, x='name', y='rpkm', hue='type',\n",
    "                        order=['MACS2', 'MACS2 broad', 'SICER', 'SPAN',\n",
    "                               'SPAN - MACS2', 'SPAN - MACS2 broad', 'SPAN - SICER',\n",
    "                               'MACS2 - SPAN', 'MACS2 broad - SPAN', 'SICER - SPAN',\n",
    "                               ])\n",
    "ax = g_results.axes\n",
    "ax.xaxis.set_tick_params(rotation=90)\n",
    "ax.set_ylabel('RPKM')\n",
    "ax.set_ylim(-1, 15)\n",
    "# Put a legend to the right of the current axis\n",
    "ax.legend(loc='center left', bbox_to_anchor=(1, 0.81))\n",
    "plt.tight_layout()\n",
    "plt.show()"
   ],
   "metadata": {
    "collapsed": false,
    "ExecuteTime": {
     "start_time": "2023-04-20T12:50:25.990152Z",
     "end_time": "2023-04-20T12:50:32.659172Z"
    }
   }
  },
  {
   "cell_type": "markdown",
   "source": [
    "# ChromHMM"
   ],
   "metadata": {
    "collapsed": false
   }
  },
  {
   "cell_type": "code",
   "execution_count": null,
   "outputs": [],
   "source": [
    "CHROMHMM_MAP = {\n",
    "    'GM12878': GSE26320_PATH_HG38 + '/chromhmm/GM12878_chromhmm_hg38_ENCFF338RIC.bed',\n",
    "    'H1': GSE26320_PATH_HG38 + '/chromhmm/H1_chromhmm_hg38_ENCFF323HNB.bed',\n",
    "    'HepG2': GSE26320_PATH_HG38 + '/chromhmm/HepG2_chromhmm_hg38_ENCFF808IZE.bed',\n",
    "    'K562': GSE26320_PATH_HG38 + '/chromhmm/K562_chromhmm_hg38_ENCFF649FCE.bed',\n",
    "}\n",
    "\n",
    "print('Split chromHMM into separate files')\n",
    "CHROMM_STATES = set()\n",
    "for c, chromhmm in CHROMHMM_MAP.items():\n",
    "    print(c)\n",
    "    t = pd.read_csv(chromhmm, sep='\\t', header=None, usecols=[3])[3]\n",
    "    for state in t.unique():\n",
    "        # print(state)\n",
    "        state = state.replace('/', '_')\n",
    "        CHROMM_STATES.add(state)\n",
    "        f = chromhmm.replace('.bed', f'_{state}.bed')\n",
    "        ! cat {chromhmm} | grep {state} > {f}\n",
    "CHROMM_STATES = list(sorted(CHROMM_STATES))\n",
    "print(CHROMM_STATES)"
   ],
   "metadata": {
    "collapsed": false,
    "ExecuteTime": {
     "start_time": "2023-04-20T15:16:30.297274Z",
     "end_time": "2023-04-20T15:16:45.711227Z"
    }
   }
  },
  {
   "cell_type": "code",
   "execution_count": null,
   "outputs": [],
   "source": [
    "import tempfile\n",
    "from itertools import product\n",
    "\n",
    "tf = tempfile.mktemp()\n",
    "tf2 = tempfile.mktemp()\n",
    "\n",
    "data = []\n",
    "\n",
    "for c, r in tqdm(product(GSE26320_CELLS, GSE26320_REPS)):\n",
    "    print(c, r)\n",
    "    if c not in CHROMHMM_MAP:\n",
    "        continue\n",
    "    chromhmm = CHROMHMM_MAP[c]\n",
    "    for tool in set(df_fdr_peaks['tool']):\n",
    "        t = df_fdr_peaks[(df_fdr_peaks['tool'] == tool) &\n",
    "                         (df_fdr_peaks['modification'] == 'H3K4me1') &\n",
    "                         (df_fdr_peaks['cell'] == c) &\n",
    "                         (df_fdr_peaks['replicate'] == r)]\n",
    "        if len(t) == 0:\n",
    "            continue\n",
    "        peaks_file = sorted_file(t['file'].values[0])\n",
    "        peaks = lines(peaks_file)\n",
    "        row = [c, r, tool]\n",
    "        for state in CHROMM_STATES:\n",
    "            state_file = sorted_file(chromhmm.replace('.bed', f'_{state}.bed'))\n",
    "            !bedtools intersect -a {peaks_file} -b {state_file} -wa -u > {tf}\n",
    "            state_peaks = lines(tf)\n",
    "            row.append(1.0 * state_peaks / peaks)\n",
    "        data.append(row)\n",
    "\n",
    "        if tool == 'SPAN':\n",
    "            span_file = peaks_file\n",
    "\n",
    "    # Processing single tools information\n",
    "    for tool in TOOLS:\n",
    "        if tool == 'SPAN':\n",
    "            continue\n",
    "        t = df_fdr_peaks[(df_fdr_peaks['tool'] == tool) &\n",
    "                         (df_fdr_peaks['modification'] == 'H3K4me1') &\n",
    "                         (df_fdr_peaks['cell'] == c) &\n",
    "                         (df_fdr_peaks['replicate'] == r)]\n",
    "        if len(t) == 0:\n",
    "            continue\n",
    "        peaks_file = sorted_file(t['file'].values[0])\n",
    "        for name, args in [\n",
    "            (f'SPAN - {tool}', f' -a {span_file} -b {peaks_file} '),\n",
    "            (f'{tool} - SPAN', f' -b {span_file} -a {peaks_file} ')\n",
    "        ]:\n",
    "            !bedtools intersect {args} -wa -v > {tf}\n",
    "            peaks = lines(tf)\n",
    "            row = [c, r, name]\n",
    "            for state in CHROMM_STATES:\n",
    "                state_file = sorted_file(chromhmm.replace('.bed', f'_{state}.bed'))\n",
    "                !bedtools intersect -a {tf} -b {state_file} -wa -u > {tf2}\n",
    "                state_peaks = lines(tf2)\n",
    "                row.append(1.0 * state_peaks / peaks if peaks > 0 else 0)\n",
    "            data.append(row)\n",
    "\n",
    "chromhmm_df = pd.DataFrame(data, columns=['cell', 'replicate', 'name'] + CHROMM_STATES)\n",
    "chromhmm_df"
   ],
   "metadata": {
    "collapsed": false,
    "ExecuteTime": {
     "start_time": "2023-04-20T15:16:48.411089Z",
     "end_time": "2023-04-20T15:26:42.699480Z"
    }
   }
  },
  {
   "cell_type": "code",
   "execution_count": null,
   "outputs": [],
   "source": [
    "chromhmm_df_mean = chromhmm_df[['name'] + CHROMM_STATES].groupby('name').mean()\n",
    "chromhmm_df_mean = chromhmm_df_mean.loc[['MACS2', 'MACS2 broad', 'SICER', 'SPAN',\n",
    "                                         'SPAN - MACS2', 'SPAN - MACS2 broad', 'SPAN - SICER',\n",
    "                                         'MACS2 - SPAN', 'MACS2 broad - SPAN', 'SICER - SPAN',\n",
    "                                         ]]\n",
    "chromhmm_df_mean"
   ],
   "metadata": {
    "collapsed": false,
    "ExecuteTime": {
     "start_time": "2023-04-20T15:26:42.699305Z",
     "end_time": "2023-04-20T15:26:42.716315Z"
    }
   }
  },
  {
   "cell_type": "code",
   "execution_count": null,
   "outputs": [],
   "source": [
    "plt.figure(figsize=(8, 3))\n",
    "sns.heatmap(chromhmm_df_mean, cmap='coolwarm')\n",
    "plt.show()"
   ],
   "metadata": {
    "collapsed": false,
    "ExecuteTime": {
     "start_time": "2023-04-20T15:26:42.716589Z",
     "end_time": "2023-04-20T15:26:42.956291Z"
    }
   }
  },
  {
   "cell_type": "code",
   "execution_count": null,
   "outputs": [],
   "source": [],
   "metadata": {
    "collapsed": false
   }
  }
 ],
 "metadata": {
  "anaconda-cloud": {},
  "kernelspec": {
   "display_name": "Python 3",
   "language": "python",
   "name": "python3"
  },
  "language_info": {
   "codemirror_mode": {
    "name": "ipython",
    "version": 3
   },
   "file_extension": ".py",
   "mimetype": "text/x-python",
   "name": "python",
   "nbconvert_exporter": "python",
   "pygments_lexer": "ipython3",
   "version": "3.8.5"
  },
  "toc": {
   "nav_menu": {},
   "number_sections": true,
   "sideBar": true,
   "skip_h1_title": false,
   "toc_cell": false,
   "toc_position": {},
   "toc_section_display": "block",
   "toc_window_display": false
  }
 },
 "nbformat": 4,
 "nbformat_minor": 2
}
