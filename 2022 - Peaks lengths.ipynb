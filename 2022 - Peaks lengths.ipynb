{
 "cells": [
  {
   "cell_type": "markdown",
   "source": [
    "# Peaks length"
   ],
   "metadata": {
    "collapsed": false
   }
  },
  {
   "cell_type": "code",
   "execution_count": null,
   "outputs": [],
   "source": [
    "# % matplotlib inline\n",
    "# % config InlineBackend.figure_format='retina'\n",
    "\n",
    "import pandas as pd\n",
    "import seaborn as sns\n",
    "from IPython.display import display\n",
    "\n",
    "sns.set_style(\"whitegrid\")\n",
    "import matplotlib.pyplot as plt\n",
    "import numpy as np\n",
    "import os\n",
    "from tqdm.auto import tqdm"
   ],
   "metadata": {
    "collapsed": false
   }
  },
  {
   "cell_type": "code",
   "execution_count": null,
   "outputs": [],
   "source": [
    "def bedl(file):\n",
    "    try:\n",
    "        tf = pd.read_csv(file, sep='\\t', header=None)\n",
    "        return tf[2] - tf[1]\n",
    "    except:\n",
    "        return np.zeros(0)  # Empty file\n",
    "\n",
    "\n",
    "def lines(file):\n",
    "    try:\n",
    "        tf = pd.read_csv(file, sep='\\t', header=None)\n",
    "        return len(tf)\n",
    "    except:\n",
    "        return 0  # Empty file\n",
    "\n",
    "\n",
    "def scores(file):\n",
    "    try:\n",
    "        tf = pd.read_csv(file, sep='\\t', header=None)\n",
    "        return tf[4]\n",
    "    except:\n",
    "        return np.zeros(0)  # Empty file\n",
    "\n",
    "def positions(file):\n",
    "    try:\n",
    "        tf = pd.read_csv(file, sep='\\t', header=None)\n",
    "        return tf[0], tf[1], tf[2]\n",
    "    except:\n",
    "        return [], [], []  # Empty file"
   ],
   "metadata": {
    "collapsed": false
   }
  },
  {
   "cell_type": "code",
   "execution_count": null,
   "outputs": [],
   "source": [
    "def find_peak_files(path, suffix, cells, modifications, fdrs):\n",
    "    df = pd.DataFrame(\n",
    "        columns=['file', 'modification', 'cell', 'replicate', 'fdr', 'peaks', 'avlength'],\n",
    "        dtype=object\n",
    "    )\n",
    "    for f in tqdm(os.listdir(path)):\n",
    "        if suffix not in f:\n",
    "            continue\n",
    "        fdr = next((fdr for fdr in fdrs if fdr in f), None)\n",
    "        cell = next((cc for cc in cells if cc in f), None)\n",
    "        mod = next((m for m in modifications if m in f), None)\n",
    "        rep = 'rep1' if 'rep1' in f else 'rep2' if 'rep2' in f else None\n",
    "        if mod:\n",
    "            ps, ls = lines(os.path.join(path, f)), bedl(os.path.join(path, f))\n",
    "            avls = 0 if ps == 0 else sum(ls) / ps\n",
    "            df.loc[len(df)] = (f, mod, cell, rep, fdr, ps, avls)\n",
    "    return df"
   ],
   "metadata": {
    "collapsed": false
   }
  },
  {
   "cell_type": "code",
   "execution_count": null,
   "outputs": [],
   "source": [
    "def load_peaks(df, lowq=.01, highq=.99):\n",
    "    dfs = []\n",
    "    for _, (f, m, t, d) in tqdm(df[['file', 'modification', 'tool', 'dir']].iterrows()):\n",
    "        peaks_info = []\n",
    "        file = os.path.join(d, f)\n",
    "        chromosomes, starts, ends = positions(file)\n",
    "        peaks_info.extend((m, t, f, chr, start, end, score, length)\n",
    "                          for chr, start, end, score, length in zip(chromosomes, starts, ends, scores(file), bedl(file)))\n",
    "        t = pd.DataFrame(\n",
    "            peaks_info,\n",
    "            columns=['modification', 'tool', 'file', 'chromosome', 'start', 'end', 'score', 'length']\n",
    "        )\n",
    "        t['length'] = t['length'].astype(int)\n",
    "        t['score'] = t['score'].astype(int)\n",
    "        # Ignore extreme peaks\n",
    "        t = t[(t['length'].quantile(lowq) <= t['length']) &\n",
    "              (t['length'] <= t['length'].quantile(highq))].copy()\n",
    "        dfs.append(t)\n",
    "    return pd.concat(dfs, ignore_index=True)"
   ],
   "metadata": {
    "collapsed": false
   }
  },
  {
   "cell_type": "markdown",
   "source": [
    "# Encodeproject.org ATAC/TFs/ChIPseq"
   ],
   "metadata": {
    "collapsed": false
   }
  },
  {
   "cell_type": "markdown",
   "source": [
    "`xargs -L 1 curl -O -J -L < files.txt` and rename using `metadata.csv`\n",
    "```\n",
    "cd ~/data/2022_atacseq\n",
    "for F in *.bed; do echo $F; mv $F $(grep \"^${F/.bed/}\" metadata.tsv | awk  -v FS='\\t' '{printf(\"%s_%s_%s\", $1, $11, \"ATAC\")}'  | sed 's# #_#g').bed; done\n",
    "\n",
    "cd ~/data/2022_chipseq_narrow\n",
    "for F in *.bed; do echo $F; mv $F $(grep \"^${F/.bed/}\" metadata.tsv | awk  -v FS='\\t' '{printf(\"%s_%s_%s\", $1, $11, $23)}'  | sed -E 's#[^a-zA-Z0-9]+#_#g').bed; done\n",
    "\n",
    "cd ~/data/2022_chipseq_broad\n",
    "for F in *.bed; do echo $F; mv $F $(grep \"^${F/.bed/}\" metadata.tsv | awk  -v FS='\\t' '{printf(\"%s_%s_%s\", $1, $11, $23)}'  | sed -E 's#[^a-zA-Z0-9]+#_#g').bed; done\n",
    "\n",
    "# Simple analysis\n",
    "for F in *.bed; do echo $(cat $F | awk '{N+=1;L+=$3-$2} END {printf(\"%d\\n\", L/N)}') $F; done | sort -k1,1n\n",
    "```"
   ],
   "metadata": {
    "collapsed": false
   }
  },
  {
   "cell_type": "code",
   "execution_count": null,
   "outputs": [],
   "source": [
    "print('Encodeproject.org ATAC/TFs/ChIPseq ATAC')\n",
    "ATAC_PATH = os.path.expanduser('~/data/2022_atacseq')\n",
    "ATAC_CELLS = ['']\n",
    "ATAC_MODIFICATIONS = ['ATAC']\n",
    "\n",
    "FDRS = ['']\n",
    "df_encodeprojectorg_atacseq = find_peak_files(ATAC_PATH, '.bed', ATAC_CELLS, ATAC_MODIFICATIONS, FDRS)\n",
    "df_encodeprojectorg_atacseq['tool'] = 'Macs2'\n",
    "df_encodeprojectorg_atacseq['dir'] = ATAC_PATH\n",
    "# df_atacseq.sample(3)"
   ],
   "metadata": {
    "collapsed": false
   }
  },
  {
   "cell_type": "code",
   "execution_count": null,
   "outputs": [],
   "source": [
    "print('Encodeproject.org ATAC/TFs/ChIPseq Narrow Chipseq')\n",
    "CHIP_NARROW_PATH = os.path.expanduser('~/data/2022_chipseq_narrow')\n",
    "CHIP_NARROW_MODIFICATIONS = ['H3K27ac', 'H3K4me3', 'CTCF', 'H2AFZ']\n",
    "CHIP_CELLS = ['']\n",
    "\n",
    "FDRS = ['']\n",
    "df_encodeprojectorg_narrow = find_peak_files(CHIP_NARROW_PATH, '.bed', CHIP_CELLS, CHIP_NARROW_MODIFICATIONS, FDRS)\n",
    "df_encodeprojectorg_narrow['tool'] = 'Macs2'\n",
    "df_encodeprojectorg_narrow['dir'] = CHIP_NARROW_PATH\n",
    "# df_chipseq_narrow.sample(3)"
   ],
   "metadata": {
    "collapsed": false
   }
  },
  {
   "cell_type": "code",
   "execution_count": null,
   "outputs": [],
   "source": [
    "print('Encodeproject.org ATAC/TFs/ChIPseq Broad Chipseq')\n",
    "CHIP_BROAD_PATH = os.path.expanduser('~/data/2022_chipseq_broad')\n",
    "CHIP_BROAD_MODIFICATIONS = ['H3K27me3', 'H3K36me3', 'H3K4me1']\n",
    "CHIP_CELLS = ['']\n",
    "\n",
    "FDRS = ['']\n",
    "df_encodeprojectorg_broad = find_peak_files(CHIP_BROAD_PATH, '.bed', CHIP_CELLS, CHIP_BROAD_MODIFICATIONS, FDRS)\n",
    "df_encodeprojectorg_broad['tool'] = 'Macs2Broad'\n",
    "df_encodeprojectorg_broad['dir'] = CHIP_BROAD_PATH\n",
    "# df_chipseq_broad.sample(3)"
   ],
   "metadata": {
    "collapsed": false
   }
  },
  {
   "cell_type": "code",
   "execution_count": null,
   "outputs": [],
   "source": [
    "df_encodeprojectorg_peaks = load_peaks(\n",
    "    pd.concat([df_encodeprojectorg_atacseq, df_encodeprojectorg_narrow, df_encodeprojectorg_broad]))\n",
    "display(df_encodeprojectorg_peaks.sample(5))"
   ],
   "metadata": {
    "collapsed": false
   }
  },
  {
   "cell_type": "code",
   "execution_count": null,
   "outputs": [],
   "source": [
    "print('Encodeproject.org ATAC/TFs/ChIPseq downloaded peaks')\n",
    "# plot_distribution_by_tool(df_encode_peaks, value='length')"
   ],
   "metadata": {
    "collapsed": false
   }
  },
  {
   "cell_type": "code",
   "execution_count": null,
   "outputs": [],
   "source": [
    "print('Encodeproject.org ATAC/TFs/ChIPseq downloaded peaks')\n",
    "# t = df_encode_peaks.copy()\n",
    "# t['tool'] = 'all'\n",
    "# plot_distribution_by_tool(t, value='length', maxx=1e4)"
   ],
   "metadata": {
    "collapsed": false
   }
  },
  {
   "cell_type": "code",
   "execution_count": null,
   "outputs": [],
   "source": [
    "print('Encodeproject.org ATAC/TFs/ChIPseq long peaks')\n",
    "t = df_encodeprojectorg_peaks[(df_encodeprojectorg_peaks['length'] > 1e4)].copy()\n",
    "t['count'] = 1\n",
    "t[['modification', 'tool', 'count']].groupby(['modification', 'tool']).count()"
   ],
   "metadata": {
    "collapsed": false
   }
  },
  {
   "cell_type": "code",
   "execution_count": null,
   "outputs": [],
   "source": [
    "def plot_boxes(df, value, title, hue='modification', violin=True, log=False, minx=50, maxx=1e4, order=None):\n",
    "    plt.figure(figsize=(20, int(2 + 0.3 * len(set(df[hue])))))\n",
    "    ax = plt.axes()\n",
    "    if violin:\n",
    "        g_results = sns.violinplot(data=df, y=hue, x=value, ax=ax, scale='width', order=order)\n",
    "    else:\n",
    "        g_results = sns.boxplot(data=df, y=hue, x=value, ax=ax, order=order)\n",
    "    sample_count = list(\n",
    "        filter(lambda x: minx <= x <= maxx,\n",
    "               [10, 20, 50, 100, 200, 500, 1000, 2000, 5000,\n",
    "                10_000, 20_000, 50_000, 100_000, 200_000, 500_000, 1_000_000])\n",
    "    )\n",
    "    if log:\n",
    "        g_results.set(xscale='log')\n",
    "        g_results.set(xticks=sample_count)\n",
    "        g_results.set(xticklabels=sample_count)\n",
    "    ax.set_xlim(minx, maxx)\n",
    "    ax.title.set_text(title)\n",
    "    plt.tight_layout()"
   ],
   "metadata": {
    "collapsed": false
   }
  },
  {
   "cell_type": "code",
   "execution_count": null,
   "outputs": [],
   "source": [
    "print('Encodeproject.org ATAC/TFs/ChIPseq Length of modifications')\n",
    "plot_boxes(df_encodeprojectorg_peaks, 'length', 'Length by modification',\n",
    "           violin=False, log=True, minx=50, maxx=5e5,\n",
    "           order=['CTCF', 'ATAC', 'H2AFZ', 'H3K27ac', 'H3K4me3', 'H3K4me1', 'H3K27me3', 'H3K36me3'])\n",
    "plt.show()"
   ],
   "metadata": {
    "collapsed": false
   }
  },
  {
   "cell_type": "code",
   "execution_count": null,
   "outputs": [],
   "source": [
    "def plot_length_per_file(df, value):\n",
    "    for t, m in product(set(df['tool']), set(df['modification'])):\n",
    "        ts = df[(df['tool'] == t) & (df['modification'] == m)]\n",
    "        if len(ts) == 0:\n",
    "            continue\n",
    "        print(t, m, len(set(ts['file'])))\n",
    "        plt.figure(figsize=(12, 8))\n",
    "        # Plot\n",
    "        ax = plt.axes()\n",
    "        sns.violinplot(data=ts, x='file', y=value, ax=ax, scale='width')\n",
    "        ax.title.set_text(f'{m} {t}')\n",
    "        plt.xticks(rotation=90, fontsize=7)\n",
    "        plt.xlabel('file')\n",
    "        plt.tight_layout()\n",
    "        plt.show()"
   ],
   "metadata": {
    "collapsed": false
   }
  },
  {
   "cell_type": "code",
   "execution_count": null,
   "outputs": [],
   "source": [
    "print('Encodeproject.org ATAC/TFs/ChIPseq Length of modifications per file')\n",
    "# plot_length_per_file(df_encodeprojectorg_peaks, 'length')"
   ],
   "metadata": {
    "collapsed": false
   }
  },
  {
   "cell_type": "markdown",
   "source": [
    "# Filtered peaks"
   ],
   "metadata": {
    "collapsed": false
   }
  },
  {
   "cell_type": "code",
   "execution_count": null,
   "outputs": [],
   "source": [
    "ATAC_GOOD = [\n",
    "    'ENCFF883YXV_GM19468_ATAC.bed',\n",
    "    'ENCFF089MEL_HG03575_ATAC.bed',\n",
    "    'ENCFF861UUN_HG03558_ATAC.bed'\n",
    "]\n",
    "\n",
    "CHIP_NARROW_GOOD = [\n",
    "    'ENCFF664CQH_endothelial_cell_of_umbilical_vein_CTCF_human.bed',\n",
    "    'ENCFF028IIR_keratinocyte_CTCF_human.bed',\n",
    "    'ENCFF833DGJ_keratinocyte_CTCF_human.bed',\n",
    "\n",
    "    'ENCFF298YTQ_peripheral_blood_mononuclear_cell_H3K4me3_human.bed',\n",
    "    'ENCFF641FUA_CD4_positive_alpha_beta_memory_T_cell_H3K4me3_human.bed',\n",
    "    'ENCFF207ZEY_B_cell_H3K4me3_human.bed',\n",
    "\n",
    "    'ENCFF332IIF_fibroblast_of_lung_H2AFZ_human.bed',\n",
    "    'ENCFF637SMB_keratinocyte_H2AFZ_human.bed',\n",
    "    'ENCFF155PLT_skeletal_muscle_myoblast_H2AFZ_human.bed',\n",
    "\n",
    "    'ENCFF200EDZ_foreskin_melanocyte_H3K27ac_human.bed',\n",
    "    'ENCFF962SXN_foreskin_fibroblast_H3K27ac_human.bed',\n",
    "    'ENCFF832RWT_peripheral_blood_mononuclear_cell_H3K27ac_human.bed'\n",
    "]\n",
    "\n",
    "CHIP_BROAD_GOOD = [\n",
    "    'ENCFF001TBK_fibroblast_of_dermis_H3K4me1_human.bed',\n",
    "    'ENCFF001SXL_skeletal_muscle_myoblast_H3K4me1_human.bed',\n",
    "    'ENCFF001TCP_fibroblast_of_lung_H3K4me1_human.bed',\n",
    "\n",
    "    'ENCFF001TBN_fibroblast_of_dermis_H3K36me3_human.bed',\n",
    "    'ENCFF001SXK_skeletal_muscle_myoblast_H3K36me3_human.bed',\n",
    "    'ENCFF001SWY_mammary_epithelial_cell_H3K36me3_human.bed',\n",
    "\n",
    "    'ENCFF001TCN_fibroblast_of_lung_H3K27me3_human.bed',\n",
    "    'ENCFF001SWX_mammary_epithelial_cell_H3K27me3_human.bed',\n",
    "    'ENCFF001SXJ_skeletal_muscle_myoblast_H3K27me3_human.bed'\n",
    "]\n",
    "ENCODE_GOOD = set(ATAC_GOOD + CHIP_NARROW_GOOD + CHIP_BROAD_GOOD)"
   ],
   "metadata": {
    "collapsed": false
   }
  },
  {
   "cell_type": "code",
   "execution_count": null,
   "outputs": [],
   "source": [
    "df_encodeprojectorg_good = df_encodeprojectorg_peaks[df_encodeprojectorg_peaks['file'].isin(ENCODE_GOOD)]"
   ],
   "metadata": {
    "collapsed": false
   }
  },
  {
   "cell_type": "code",
   "execution_count": null,
   "outputs": [],
   "source": [
    "print('Encodeproject.org ATAC/TFs/ChIPseq SELECTED Length of selected modifications')\n",
    "plot_boxes(df_encodeprojectorg_good, 'length', 'Length by modification',\n",
    "           violin=False, log=True, minx=50, maxx=5e5,\n",
    "           order=['CTCF', 'ATAC', 'H2AFZ', 'H3K27ac', 'H3K4me3', 'H3K4me1', 'H3K27me3', 'H3K36me3'])\n",
    "plt.show()"
   ],
   "metadata": {
    "collapsed": false
   }
  },
  {
   "cell_type": "code",
   "execution_count": null,
   "outputs": [],
   "source": [
    "print('Encodeproject.org ATAC/TFs/ChIPseq SELECTED length of modifications')\n",
    "# t = df_encode_peaks_good.copy()\n",
    "# t['tool'] = 'all'\n",
    "# plot_distribution_by_tool(t, value='length', maxx=1e5)"
   ],
   "metadata": {
    "collapsed": false
   }
  },
  {
   "cell_type": "markdown",
   "source": [
    "# Reprocessed with MACS2"
   ],
   "metadata": {
    "collapsed": false
   }
  },
  {
   "cell_type": "code",
   "execution_count": null,
   "outputs": [],
   "source": [
    "ENCODE_REPROCESSED_PATH = os.path.expanduser('~/data/2022_atac_chipseq_encode/macs2')\n",
    "ENCODE_REPROCESSED_CELLS = ['']\n",
    "ENCODE_REPROCESSED_MODIFICATIONS = [\n",
    "    'ATAC', 'CTCF', 'H2AFZ', 'H3K27ac', 'H3K4me3', 'H3K4me1', 'H3K27me3', 'H3K36me3'\n",
    "]\n",
    "\n",
    "FDRS = ['']\n",
    "df_encodeprojectorg_reprocessed = pd.concat(\n",
    "    [\n",
    "        find_peak_files(\n",
    "            ENCODE_REPROCESSED_PATH, '.narrowPeak', ENCODE_REPROCESSED_CELLS, ENCODE_REPROCESSED_MODIFICATIONS, FDRS\n",
    "        ),\n",
    "        find_peak_files(\n",
    "            ENCODE_REPROCESSED_PATH, '.broadPeak', ENCODE_REPROCESSED_CELLS, ENCODE_REPROCESSED_MODIFICATIONS, FDRS\n",
    "        )]\n",
    ")\n",
    "df_encodeprojectorg_reprocessed['tool'] = 'Macs2'\n",
    "df_encodeprojectorg_reprocessed['dir'] = ENCODE_REPROCESSED_PATH\n",
    "# df_encode_reprocessed.sample(3)"
   ],
   "metadata": {
    "collapsed": false
   }
  },
  {
   "cell_type": "code",
   "execution_count": null,
   "outputs": [],
   "source": [
    "df_encodeprojectorg_reprocessed_peaks = load_peaks(df_encodeprojectorg_reprocessed)\n",
    "display(df_encodeprojectorg_reprocessed_peaks.sample(5))"
   ],
   "metadata": {
    "collapsed": false
   }
  },
  {
   "cell_type": "code",
   "execution_count": null,
   "outputs": [],
   "source": [
    "print('Encodeproject.org ATAC/TFs/ChIPseq SELECTED REPROCESSED MACS2')\n",
    "plot_boxes(df_encodeprojectorg_reprocessed_peaks, 'length', 'Length by modification',\n",
    "           violin=False, log=True, minx=30, maxx=2e5,\n",
    "           order=['CTCF', 'ATAC', 'H2AFZ', 'H3K27ac', 'H3K4me3', 'H3K4me1', 'H3K27me3', 'H3K36me3'])\n",
    "plt.show()"
   ],
   "metadata": {
    "collapsed": false
   }
  },
  {
   "cell_type": "markdown",
   "source": [
    "# Encode reprocessed with SPAN"
   ],
   "metadata": {
    "collapsed": false
   }
  },
  {
   "cell_type": "code",
   "execution_count": null,
   "outputs": [],
   "source": [
    "ENCODE_REPROCESSED_SPAN_PATH = os.path.expanduser('~/data/2022_atac_chipseq_encode/span')\n",
    "df_encodeprojectorg_reprocessed_span = find_peak_files(\n",
    "    ENCODE_REPROCESSED_SPAN_PATH, '.peak', ENCODE_REPROCESSED_CELLS, ENCODE_REPROCESSED_MODIFICATIONS, FDRS\n",
    ")\n",
    "df_encodeprojectorg_reprocessed_span['tool'] = 'Span'\n",
    "df_encodeprojectorg_reprocessed_span['dir'] = ENCODE_REPROCESSED_SPAN_PATH\n",
    "df_encodeprojectorg_reprocessed_span.sample(3)"
   ],
   "metadata": {
    "collapsed": false
   }
  },
  {
   "cell_type": "code",
   "execution_count": null,
   "outputs": [],
   "source": [
    "df_encodeprojectorg_reprocessed_span_peaks = load_peaks(df_encodeprojectorg_reprocessed_span)\n",
    "display(df_encodeprojectorg_reprocessed_span_peaks.sample(5))"
   ],
   "metadata": {
    "collapsed": false
   }
  },
  {
   "cell_type": "code",
   "execution_count": null,
   "outputs": [],
   "source": [
    "print('Encodeproject.org ATAC/TFs/ChIPseq SELECTED REPROCESSED SPAN')\n",
    "plot_boxes(df_encodeprojectorg_reprocessed_span_peaks, 'length', 'Length by modification',\n",
    "           violin=False, log=True, minx=30, maxx=2e5,\n",
    "           order=['CTCF', 'ATAC', 'H2AFZ', 'H3K27ac', 'H3K4me3', 'H3K4me1', 'H3K27me3', 'H3K36me3'])\n",
    "plt.show()"
   ],
   "metadata": {
    "collapsed": false
   }
  },
  {
   "cell_type": "markdown",
   "source": [
    "# GSE26320_RAW reprocessed"
   ],
   "metadata": {
    "collapsed": false
   }
  },
  {
   "cell_type": "code",
   "execution_count": null,
   "outputs": [],
   "source": [
    "# Don't have H1 H3K27ac rep2\n",
    "# Don't have Huvec H3K4me3 rep1\n",
    "# Don't have HepG2 H3K4me1 rep2\n",
    "GSE26320_PATH = os.path.expanduser('~/data/GSE26320_RAW')\n",
    "GSE26320_CELLS = ['GM12878', 'HMEC', 'HSMM', 'K562', 'NHEK', 'NHLF', 'H1', 'Huvec', 'HepG2']\n",
    "GSE26320_MODIFICATIONS = ['CTCF', 'H3K27ac', 'H3K27me3', 'H3K36me3', 'H3K4me1', 'H3K4me3']\n",
    "GSE26320_REPS = ['rep1', 'rep2']"
   ],
   "metadata": {
    "collapsed": false
   }
  },
  {
   "cell_type": "code",
   "execution_count": null,
   "outputs": [],
   "source": [
    "GSE26320_MACS2_DIR = os.path.join(GSE26320_PATH, os.path.expanduser('macs2'))\n",
    "\n",
    "MACS2_FDRS = ['0.05']\n",
    "df_gse26320_macs2 = pd.concat([\n",
    "    find_peak_files(GSE26320_MACS2_DIR, '.narrowPeak', GSE26320_CELLS, GSE26320_MODIFICATIONS, MACS2_FDRS),\n",
    "    find_peak_files(GSE26320_MACS2_DIR, '.broadPeak', GSE26320_CELLS, GSE26320_MODIFICATIONS, MACS2_FDRS)\n",
    "])\n",
    "df_gse26320_macs2['tool'] = 'Macs2'\n",
    "df_gse26320_macs2['dir'] = GSE26320_MACS2_DIR\n",
    "df_gse26320_macs2.sample(5)"
   ],
   "metadata": {
    "collapsed": false
   }
  },
  {
   "cell_type": "code",
   "execution_count": null,
   "outputs": [],
   "source": [
    "# GSE26320_SICER_DIR = os.path.join(GSE26320_PATH, os.path.expanduser('sicer'))\n",
    "# # GSE26320_SICER_FDRS = ['0.1', '0.05', '0.01', '0.001', '0.0001', '1e-06', '1e-08', '1e-10']\n",
    "# GSE26320_SICER_FDRS = ['0.01']\n",
    "# df_gse26320_sicer = find_peak_files(\n",
    "#     GSE26320_SICER_DIR, 'summary-FDR', GSE26320_CELLS, GSE26320_MODIFICATIONS, GSE26320_SICER_FDRS\n",
    "# )\n",
    "# df_gse26320_sicer['tool'] = 'Sicer'\n",
    "# df_gse26320_sicer['dir'] = GSE26320_SICER_DIR\n",
    "# df_gse26320_sicer.sample(5)"
   ],
   "metadata": {
    "collapsed": false
   }
  },
  {
   "cell_type": "code",
   "execution_count": null,
   "outputs": [],
   "source": [
    "GSE26320_SPAN_DIR = os.path.join(GSE26320_PATH, os.path.expanduser('span'))\n",
    "GSE26320_SPAN_FDRS = ['0.05']\n",
    "df_gse26320_span = find_peak_files(\n",
    "    GSE26320_SPAN_DIR, '.peak', GSE26320_CELLS, GSE26320_MODIFICATIONS, GSE26320_SPAN_FDRS\n",
    ")\n",
    "df_gse26320_span['tool'] = 'Span'\n",
    "df_gse26320_span['dir'] = GSE26320_SPAN_DIR\n",
    "df_gse26320_span.sample(5)"
   ],
   "metadata": {
    "collapsed": false
   }
  },
  {
   "cell_type": "code",
   "execution_count": null,
   "outputs": [],
   "source": [
    "df_gse26320 = pd.concat([df_gse26320_macs2, df_gse26320_span])\n",
    "df_gse26320.sample(10)"
   ],
   "metadata": {
    "collapsed": false
   }
  },
  {
   "cell_type": "code",
   "execution_count": null,
   "outputs": [],
   "source": [
    "df_gse26320_peaks = load_peaks(df_gse26320)\n",
    "df_gse26320_peaks"
   ],
   "metadata": {
    "collapsed": false
   }
  },
  {
   "cell_type": "code",
   "execution_count": null,
   "outputs": [],
   "source": [
    "print('GSE26320 REPROCESSED Macs2 Length of peaks')\n",
    "plot_boxes(df_gse26320_peaks[df_gse26320_peaks['tool'] == 'Macs2'], 'length', 'Length by modification',\n",
    "           log=True, violin=False, minx=20, maxx=2e5,\n",
    "           order=['CTCF', 'H3K27ac', 'H3K4me3', 'H3K4me1', 'H3K27me3', 'H3K36me3'])\n",
    "plt.show()"
   ],
   "metadata": {
    "collapsed": false
   }
  },
  {
   "cell_type": "code",
   "execution_count": null,
   "outputs": [],
   "source": [
    "print('GSE26320 REPROCESSED SPAN Length of peaks')\n",
    "plot_boxes(df_gse26320_peaks[df_gse26320_peaks['tool'] == 'Span'], 'length', 'Length by modification',\n",
    "           log=True, violin=False, minx=20, maxx=2e5,\n",
    "           order=['CTCF', 'H3K27ac', 'H3K4me3', 'H3K4me1', 'H3K27me3', 'H3K36me3'])\n",
    "plt.show()"
   ],
   "metadata": {
    "collapsed": false
   }
  },
  {
   "cell_type": "code",
   "execution_count": null,
   "outputs": [],
   "source": [
    "print('GSE26320 K562 rep1 REPROCESSED Macs2 Length of peaks')\n",
    "ts = df_gse26320_peaks[(df_gse26320_peaks['tool'] == 'Macs2') &\n",
    "                       (df_gse26320_peaks['file'].str.contains('K562')) &\n",
    "                       (df_gse26320_peaks['file'].str.contains('rep1'))]\n",
    "plot_boxes(ts, 'length', 'Length by modification',\n",
    "           log=True, violin=False, minx=150, maxx=2e5,\n",
    "           order=['CTCF', 'H3K27ac', 'H3K4me3', 'H3K4me1', 'H3K27me3', 'H3K36me3'])\n",
    "plt.show()"
   ],
   "metadata": {
    "collapsed": false
   }
  },
  {
   "cell_type": "code",
   "execution_count": null,
   "outputs": [],
   "source": [
    "def plot_log(df, value, title, hue='modification', minx=100, maxx=5e4, order=None):\n",
    "    plt.figure(figsize=(20, 5))\n",
    "    ax = plt.axes()\n",
    "    if order is not None:\n",
    "        g_results = sns.histplot(data=df, x=value, hue=hue, ax=ax,\n",
    "                                 stat='density', common_norm=False, log_scale=True, kde=True, alpha=0.2,\n",
    "                                 hue_order=order)\n",
    "    else:\n",
    "        g_results = sns.histplot(data=df, x=value, ax=ax,\n",
    "                                 stat='density', log_scale=True, kde=True, alpha=0.5)\n",
    "    sample_count = list(\n",
    "        filter(lambda x: minx <= x <= maxx,\n",
    "               [50, 100, 200, 500, 1000, 2000, 5000,\n",
    "                10_000, 20_000, 50_000, 100_000, 200_000, 500_000, 1_000_000])\n",
    "    )\n",
    "    g_results.set(xscale='log')\n",
    "    g_results.set(xticks=sample_count)\n",
    "    g_results.set(xticklabels=sample_count)\n",
    "    ax.set_xlim(minx, maxx)\n",
    "    ax.title.set_text(title)"
   ],
   "metadata": {
    "collapsed": false
   }
  },
  {
   "cell_type": "code",
   "execution_count": null,
   "outputs": [],
   "source": [
    "print('GSE26320 K562 rep1 REPROCESSED Macs2 Length of peaks')\n",
    "plot_log(ts, 'length', 'MACS2 Peaks lengths',\n",
    "         order=['CTCF', 'H3K27ac', 'H3K4me3', 'H3K4me1', 'H3K27me3', 'H3K36me3'])\n",
    "plt.show()"
   ],
   "metadata": {
    "collapsed": false
   }
  },
  {
   "cell_type": "code",
   "execution_count": null,
   "outputs": [],
   "source": [
    "from math import floor\n",
    "\n",
    "def compute_length_percentiles(ts, steps = 10):\n",
    "    percentiles = []\n",
    "    for m in set(ts['modification']):\n",
    "        tm = ts[ts['modification'] == m].copy()\n",
    "        tm.sort_values(by=['length'], inplace=True)\n",
    "        tmn = int(floor(len(tm) / steps))\n",
    "        for i in range(steps):\n",
    "            p = int(100 / steps * (i + 1))\n",
    "            percentiles.extend((m, p, v) for v in tm['length'].values[i * tmn: (i + 1) * tmn])\n",
    "\n",
    "    return pd.DataFrame(columns=['modification', 'percentile', 'length'], data=percentiles)\n",
    "\n",
    "def plot_percentiles(df, title, miny=10, maxy=1e5):\n",
    "    percentiles_df = compute_length_percentiles(df)\n",
    "    plt.figure(figsize=(10, 8))\n",
    "    ax = plt.axes()\n",
    "    g_results = sns.boxplot(data=percentiles_df, x=\"percentile\", y=\"length\", hue=\"modification\",\n",
    "                            hue_order=['CTCF', 'H3K27ac', 'H3K4me3', 'H3K4me1', 'H3K27me3', 'H3K36me3'])\n",
    "    sample_count = list(\n",
    "        filter(lambda y: miny <= y <= maxy,\n",
    "               [10, 20, 50, 100, 200, 500, 1000, 2000, 5000,\n",
    "                10_000, 20_000, 50_000, 100_000, 200_000, 500_000, 1_000_000])\n",
    "    )\n",
    "    g_results.set(yscale='log')\n",
    "    g_results.set(yticks=sample_count)\n",
    "    g_results.set(yticklabels=sample_count)\n",
    "    ax.set_ylim(miny, maxy)\n",
    "    ax.title.set_text(title)"
   ],
   "metadata": {
    "collapsed": false
   }
  },
  {
   "cell_type": "code",
   "execution_count": null,
   "outputs": [],
   "source": [
    "plot_percentiles(ts, 'MACS2 Percentile average lengths')\n",
    "plt.show()"
   ],
   "metadata": {
    "collapsed": false
   }
  },
  {
   "cell_type": "code",
   "execution_count": null,
   "outputs": [],
   "source": [
    "print('GSE26320 K562 rep1 REPROCESSED SPAN Length of peaks')\n",
    "ts = df_gse26320_peaks[(df_gse26320_peaks['tool'] == 'Span') &\n",
    "                       (df_gse26320_peaks['file'].str.contains('K562')) &\n",
    "                       (df_gse26320_peaks['file'].str.contains('rep1'))]\n",
    "plot_boxes(ts, 'length', 'Length by modification',\n",
    "           log=True, violin=False, minx=150, maxx=2e5,\n",
    "           order=['CTCF', 'H3K27ac', 'H3K4me3', 'H3K4me1', 'H3K27me3', 'H3K36me3'])\n",
    "plt.show()"
   ],
   "metadata": {
    "collapsed": false
   }
  },
  {
   "cell_type": "code",
   "execution_count": null,
   "outputs": [],
   "source": [
    "print('GSE26320 K562 rep1 REPROCESSED SPAN Length of peaks')\n",
    "plot_log(ts, 'length', 'SPAN Peaks lengths',\n",
    "         order=['CTCF', 'H3K27ac', 'H3K4me3', 'H3K4me1', 'H3K27me3', 'H3K36me3'])\n",
    "plt.show()"
   ],
   "metadata": {
    "collapsed": false
   }
  },
  {
   "cell_type": "code",
   "execution_count": null,
   "outputs": [],
   "source": [
    "plot_percentiles(ts, 'SPAN Percentile average lengths')\n",
    "plt.show()"
   ],
   "metadata": {
    "collapsed": false
   }
  },
  {
   "cell_type": "markdown",
   "source": [
    "# Distance between peaks"
   ],
   "metadata": {
    "collapsed": false
   }
  },
  {
   "cell_type": "code",
   "execution_count": null,
   "outputs": [],
   "source": [
    "from itertools import product\n",
    "\n",
    "def distance_between_peaks(df, hue='modification'):\n",
    "    distances = []\n",
    "    for (m, t, f), dft in tqdm(df.groupby([hue, 'tool', 'file'])):\n",
    "        for chr in sorted(set(dft['chromosome'])):\n",
    "            dftc = dft[dft['chromosome'] == chr].copy().sort_values(by=['start'])\n",
    "            starts = dftc['start']\n",
    "            ends = dftc['end']\n",
    "            ends = np.roll(ends, 1)\n",
    "            ds = starts - ends\n",
    "            # Ignore first and last\n",
    "            distances.extend((m, t, f, chr, d) for d in ds[1: ds.size - 1])\n",
    "    return pd.DataFrame(columns=[hue, 'tool', 'file', 'chr', 'distance'], data=distances)"
   ],
   "metadata": {
    "collapsed": false
   }
  },
  {
   "cell_type": "code",
   "execution_count": null,
   "outputs": [],
   "source": [
    "df_gse26320_distances = distance_between_peaks(df_gse26320_peaks)\n",
    "df_gse26320_distances"
   ],
   "metadata": {
    "collapsed": false
   }
  },
  {
   "cell_type": "code",
   "execution_count": null,
   "outputs": [],
   "source": [
    "print('GSE26320 K562 rep1 REPROCESSED MACS2 Distance of peaks')\n",
    "ts = df_gse26320_distances[(df_gse26320_distances['tool'] == 'Macs2') &\n",
    "                           (df_gse26320_distances['file'].str.contains('K562')) &\n",
    "                           (df_gse26320_distances['file'].str.contains('rep1'))].copy()\n",
    "plot_boxes(ts, 'distance', 'Distance between peaks by modification',\n",
    "           log=True, violin=False, minx=100, maxx=1e6,\n",
    "           order=['CTCF', 'H3K27ac', 'H3K4me3', 'H3K4me1', 'H3K27me3', 'H3K36me3'])\n",
    "plt.show()"
   ],
   "metadata": {
    "collapsed": false
   }
  },
  {
   "cell_type": "code",
   "execution_count": null,
   "outputs": [],
   "source": [
    "print('GSE26320 K562 rep1 REPROCESSED Macs2 Distance between of peaks')\n",
    "plot_log(ts, 'distance', 'MACS2 Peaks distance', maxx=1e6,\n",
    "         order=['CTCF', 'H3K27ac', 'H3K4me3', 'H3K4me1', 'H3K27me3', 'H3K36me3'])\n",
    "plt.show()"
   ],
   "metadata": {
    "collapsed": false
   }
  },
  {
   "cell_type": "code",
   "execution_count": null,
   "outputs": [],
   "source": [
    "print(f'Filter distance <= 5e4 {int(100 * sum(ts[\"distance\"] <= 5e4) / len(ts))}%')\n",
    "plot_boxes(ts.loc[ts['distance'] <= 5e4], 'distance', 'Distance between peaks by modification',\n",
    "           log=False, violin=True,\n",
    "           minx=-1e4, maxx=6e4,\n",
    "           order=['CTCF', 'H3K27ac', 'H3K4me3', 'H3K4me1', 'H3K27me3', 'H3K36me3'])\n",
    "plt.show()"
   ],
   "metadata": {
    "collapsed": false
   }
  },
  {
   "cell_type": "code",
   "execution_count": null,
   "outputs": [],
   "source": [
    "print('GSE26320 K562 rep1 REPROCESSED SPAN Distance between peaks')\n",
    "ts = df_gse26320_distances[(df_gse26320_distances['tool'] == 'Span') &\n",
    "                           (df_gse26320_distances['file'].str.contains('K562')) &\n",
    "                           (df_gse26320_distances['file'].str.contains('rep1'))]\n",
    "plot_boxes(ts, 'distance', 'Distance between peaks by modification',\n",
    "           log=True, violin=False, minx=100, maxx=1e6,\n",
    "           order=['CTCF', 'H3K27ac', 'H3K4me3', 'H3K4me1', 'H3K27me3', 'H3K36me3'])\n",
    "plt.show()"
   ],
   "metadata": {
    "collapsed": false
   }
  },
  {
   "cell_type": "code",
   "execution_count": null,
   "outputs": [],
   "source": [
    "print('GSE26320 K562 rep1 REPROCESSED SPAN Distance between of peaks')\n",
    "plot_log(ts, 'distance', 'SPAN Peaks distance', maxx=1e6,\n",
    "         order=['CTCF', 'H3K27ac', 'H3K4me3', 'H3K4me1', 'H3K27me3', 'H3K36me3'])\n",
    "plt.show()"
   ],
   "metadata": {
    "collapsed": false
   }
  },
  {
   "cell_type": "code",
   "execution_count": null,
   "outputs": [],
   "source": [
    "print(f'Filter distance <= 5e4 {int(100 * sum(ts[\"distance\"] <= 5e4) / len(ts))}%')\n",
    "plot_boxes(ts.loc[ts['distance'] <= 5e4], 'distance', 'Distance between peaks by modification',\n",
    "           log=False, violin=True,\n",
    "           minx=-1e4, maxx=6e4,\n",
    "           order=['CTCF', 'H3K27ac', 'H3K4me3', 'H3K4me1', 'H3K27me3', 'H3K36me3'])\n",
    "plt.show()"
   ],
   "metadata": {
    "collapsed": false
   }
  },
  {
   "cell_type": "markdown",
   "source": [
    "# hg19 genes length and distance between genes"
   ],
   "metadata": {
    "collapsed": false
   }
  },
  {
   "cell_type": "code",
   "execution_count": null,
   "outputs": [],
   "source": [
    "GTF = 'gencode.v19.annotation.gtf.gz'\n",
    "gtf_df = pd.read_csv(os.path.join(GSE26320_PATH, GTF), sep='\\t', comment='#',\n",
    "                     names=['chromosome', 'db', 'type', 'start', 'end', 'point1', 'strand', 'point2', 'aux'])\n",
    "gtf_df.sample(10)"
   ],
   "metadata": {
    "collapsed": false
   }
  },
  {
   "cell_type": "code",
   "execution_count": null,
   "outputs": [],
   "source": [
    "print('Parse GTF aux data')\n",
    "auxes = {}\n",
    "for i, aux in enumerate(tqdm(gtf_df['aux'])):\n",
    "    for pair in aux.split(';'):\n",
    "        kv = pair.strip().split(' ')\n",
    "        if len(kv) != 2:\n",
    "            continue\n",
    "        k, v = kv\n",
    "        if k not in auxes:\n",
    "            auxes[k] = vs = []\n",
    "        else:\n",
    "            vs = auxes[k]\n",
    "        vs.append(v.strip('\"'))\n",
    "\n",
    "for k, vs in auxes.items():\n",
    "    if len(vs) == len(gtf_df):\n",
    "        gtf_df[k] = vs\n",
    "    else:\n",
    "        print(f'Ignoring {k}')\n",
    "del auxes\n",
    "gtf_df.drop('aux', axis=1, inplace=True)\n",
    "gtf_df.sample(3)"
   ],
   "metadata": {
    "collapsed": false
   }
  },
  {
   "cell_type": "code",
   "execution_count": null,
   "outputs": [],
   "source": [
    "gtf_df['length'] = gtf_df['end'] - gtf_df['start']\n",
    "gtf_df[gtf_df['type'] == 'gene'].sample(5)"
   ],
   "metadata": {
    "collapsed": false
   }
  },
  {
   "cell_type": "code",
   "execution_count": null,
   "outputs": [],
   "source": [
    "print('GTF all genes lengths')\n",
    "gtf_genes_df = gtf_df[gtf_df['type'] == 'gene'].copy()\n",
    "plot_boxes(gtf_genes_df, 'length', 'Length of genes',\n",
    "           hue='gene_type',\n",
    "           log=True, violin=False, minx=5, maxx=2_000_000)\n",
    "plt.show()"
   ],
   "metadata": {
    "collapsed": false
   }
  },
  {
   "cell_type": "code",
   "execution_count": null,
   "outputs": [],
   "source": [
    "print('GTF all genes lengths')\n",
    "plot_log(gtf_genes_df, 'length', 'Length of genes', hue='gene_type', minx=5, maxx=2_000_000)\n",
    "plt.show()"
   ],
   "metadata": {
    "collapsed": false
   }
  },
  {
   "cell_type": "code",
   "execution_count": null,
   "outputs": [],
   "source": [
    "GENES_TYPES = ['protein_coding', 'pseudogene']\n",
    "# GENES_TYPES = ['protein_coding']\n",
    "print('GTF genes lengths')\n",
    "gtf_genes_df2 = gtf_genes_df[gtf_genes_df['gene_type'].isin(GENES_TYPES)].copy()\n",
    "plot_boxes(gtf_genes_df2, 'length', 'Length of genes', hue='gene_type',\n",
    "           log=True, violin=False, minx=10, maxx=2_000_000,\n",
    "           order=['protein_coding', 'pseudogene'])\n",
    "gtf_genes_df2['file'] = 'gtf'\n",
    "gtf_genes_df2['tool'] = 'gtf'\n",
    "plt.show()"
   ],
   "metadata": {
    "collapsed": false
   }
  },
  {
   "cell_type": "code",
   "execution_count": null,
   "outputs": [],
   "source": [
    "print('GTF genes lengths')\n",
    "plot_log(gtf_genes_df2, 'length', 'Length of genes', hue='gene_type', minx=100, maxx=1_000_000,\n",
    "         order=GENES_TYPES)\n",
    "plt.show()"
   ],
   "metadata": {
    "collapsed": false
   }
  },
  {
   "cell_type": "code",
   "execution_count": null,
   "outputs": [],
   "source": [
    "print('GSE26320 K562 rep1 Lengths of MACS2 peaks and genes')\n",
    "ts = df_gse26320_peaks[(df_gse26320_peaks['tool'] == 'Macs2') &\n",
    "                       (df_gse26320_peaks['file'].str.contains('K562')) &\n",
    "                       (df_gse26320_peaks['file'].str.contains('rep1'))]\n",
    "tss = pd.concat([ts, gtf_genes_df2.rename({'gene_type': 'modification'}, axis=1)]).reset_index()\n",
    "plot_log(tss, 'length', 'Lengths of MACS2 peaks and genes',\n",
    "         minx=100, maxx=1_000_000,\n",
    "         order=['CTCF', 'H3K27ac', 'H3K4me3', 'H3K4me1', 'H3K27me3', 'H3K36me3'] + GENES_TYPES)\n",
    "plt.show()"
   ],
   "metadata": {
    "collapsed": false
   }
  },
  {
   "cell_type": "code",
   "execution_count": null,
   "outputs": [],
   "source": [
    "print('GSE26320 K562 rep1 Lengths of SPAN peaks and genes')\n",
    "ts = df_gse26320_peaks[(df_gse26320_peaks['tool'] == 'Span') &\n",
    "                       (df_gse26320_peaks['file'].str.contains('K562')) &\n",
    "                       (df_gse26320_peaks['file'].str.contains('rep1'))]\n",
    "tss = pd.concat([ts, gtf_genes_df2.rename({'gene_type': 'modification'}, axis=1)]).reset_index()\n",
    "plot_log(tss, 'length', 'Lengths of SPAN peaks and genes',\n",
    "         minx=100, maxx=1_000_000,\n",
    "         order=['CTCF', 'H3K27ac', 'H3K4me3', 'H3K4me1', 'H3K27me3', 'H3K36me3'] + GENES_TYPES)\n",
    "plt.show()"
   ],
   "metadata": {
    "collapsed": false
   }
  },
  {
   "cell_type": "code",
   "execution_count": null,
   "outputs": [],
   "source": [
    "gtf_genes_df_distances = distance_between_peaks(gtf_genes_df2, hue='gene_type')\n",
    "gtf_genes_df_distances"
   ],
   "metadata": {
    "collapsed": false
   }
  },
  {
   "cell_type": "code",
   "execution_count": null,
   "outputs": [],
   "source": [
    "print('Distance between genes')\n",
    "plot_boxes(gtf_genes_df_distances, 'distance', 'Distance between genes', hue='gene_type',\n",
    "           log=True, violin=False, minx=1, maxx=5e6,\n",
    "           order=GENES_TYPES)\n",
    "plt.show()"
   ],
   "metadata": {
    "collapsed": false
   }
  },
  {
   "cell_type": "code",
   "execution_count": null,
   "outputs": [],
   "source": [
    "print('Distance between genes')\n",
    "plot_log(gtf_genes_df_distances[gtf_genes_df_distances['distance'] > 10],\n",
    "         'distance', 'Distance between genes', hue='gene_type',\n",
    "         order=GENES_TYPES,\n",
    "         minx=10, maxx=5e6)\n",
    "plt.show()"
   ],
   "metadata": {
    "collapsed": false
   }
  },
  {
   "cell_type": "code",
   "execution_count": null,
   "outputs": [],
   "source": [
    "print('GSE26320 K562 rep1 Distance between MACS2 peaks and genes')\n",
    "ts = df_gse26320_distances[(df_gse26320_distances['tool'] == 'Macs2') &\n",
    "                           (df_gse26320_distances['file'].str.contains('K562')) &\n",
    "                           (df_gse26320_distances['file'].str.contains('rep1'))].copy()\n",
    "tss = pd.concat([ts, gtf_genes_df_distances.rename({'gene_type': 'modification'}, axis=1)]).reset_index()\n",
    "tss = tss[tss['distance'] > 10]\n",
    "plot_log(tss, 'distance', 'Distance between MACS2 peaks and genes', maxx=5e6,\n",
    "         order=['CTCF', 'H3K27ac', 'H3K4me3', 'H3K4me1', 'H3K27me3', 'H3K36me3'] + GENES_TYPES)\n",
    "plt.show()"
   ],
   "metadata": {
    "collapsed": false
   }
  },
  {
   "cell_type": "code",
   "execution_count": null,
   "outputs": [],
   "source": [
    "print('GSE26320 K562 rep1 Distance between SPAN peaks and genes')\n",
    "ts = df_gse26320_distances[(df_gse26320_distances['tool'] == 'Span') &\n",
    "                           (df_gse26320_distances['file'].str.contains('K562')) &\n",
    "                           (df_gse26320_distances['file'].str.contains('rep1'))].copy()\n",
    "tss = pd.concat([ts, gtf_genes_df_distances.rename({'gene_type': 'modification'}, axis=1)]).reset_index()\n",
    "tss = tss[tss['distance'] > 10]\n",
    "plot_log(tss, 'distance', 'Distance between SPAN peaks and genes', maxx=5e6,\n",
    "         order=['CTCF', 'H3K27ac', 'H3K4me3', 'H3K4me1', 'H3K27me3', 'H3K36me3'] + GENES_TYPES)\n",
    "plt.show()"
   ],
   "metadata": {
    "collapsed": false
   }
  },
  {
   "cell_type": "markdown",
   "source": [
    "# Immgen ATAC-seq reprocessed"
   ],
   "metadata": {
    "collapsed": false
   }
  },
  {
   "cell_type": "code",
   "execution_count": null,
   "outputs": [],
   "source": [
    "IMMGEN_PATH = os.path.expanduser('~/data/2022_Immgen')\n",
    "IMMGEN_CELLS = ['Monocyte']\n",
    "IMMGEN_MODIFICATIONS = ['ATAC']\n",
    "\n",
    "IMMGEN_MACS2_DIR = os.path.join(IMMGEN_PATH, os.path.expanduser('macs2'))\n",
    "# MACS2_FDRS = ['0.1', '0.01', '0.05', '1e-3', '1-e4', '1e-6', '1e-8', '1e-10']\n",
    "MACS2_FDRS = ['0.05']\n",
    "df_immgen = find_peak_files(IMMGEN_MACS2_DIR, '.narrowPeak', IMMGEN_CELLS, IMMGEN_MODIFICATIONS, MACS2_FDRS)\n",
    "df_immgen['tool'] = 'Macs2'\n",
    "df_immgen['dir'] = IMMGEN_MACS2_DIR\n",
    "df_immgen.sample(3)"
   ],
   "metadata": {
    "collapsed": false
   }
  },
  {
   "cell_type": "code",
   "execution_count": null,
   "outputs": [],
   "source": [
    "ts = load_peaks(df_immgen)\n",
    "ts"
   ],
   "metadata": {
    "collapsed": false
   }
  },
  {
   "cell_type": "code",
   "execution_count": null,
   "outputs": [],
   "source": [
    "print('Immgen MACS2 REPROCESSED Length of peaks')\n",
    "plot_boxes(ts, 'length', 'Length by modification',\n",
    "           log=True, violin=False, minx=10, maxx=2000)\n",
    "plt.show()"
   ],
   "metadata": {
    "collapsed": false
   }
  },
  {
   "cell_type": "code",
   "execution_count": null,
   "outputs": [],
   "source": [
    "print('Immgen MACS2 REPROCESSED Length of peaks')\n",
    "plot_log(ts, 'length', 'MACS2 Peaks lengths', minx=10, maxx=2000)\n",
    "plt.show()"
   ],
   "metadata": {
    "collapsed": false
   }
  },
  {
   "cell_type": "code",
   "execution_count": null,
   "outputs": [],
   "source": [
    "IMMGEN_SPAN_DIR = os.path.join(IMMGEN_PATH, os.path.expanduser('span50'))\n",
    "# MACS2_FDRS = ['0.1', '0.01', '0.05', '1e-3', '1-e4', '1e-6', '1e-8', '1e-10']\n",
    "df_immgen_span = find_peak_files(IMMGEN_SPAN_DIR, '.peak', IMMGEN_CELLS, IMMGEN_MODIFICATIONS, MACS2_FDRS)\n",
    "df_immgen_span['tool'] = 'SPAN'\n",
    "df_immgen_span['dir'] = IMMGEN_SPAN_DIR\n",
    "df_immgen_span"
   ],
   "metadata": {
    "collapsed": false
   }
  },
  {
   "cell_type": "code",
   "execution_count": null,
   "outputs": [],
   "source": [
    "ts = load_peaks(df_immgen_span)\n",
    "ts"
   ],
   "metadata": {
    "collapsed": false
   }
  },
  {
   "cell_type": "code",
   "execution_count": null,
   "outputs": [],
   "source": [
    "print('Immgen SPAN 100 REPROCESSED Length of peaks')\n",
    "plot_boxes(ts, 'length', 'Length by modification',\n",
    "           log=True, violin=False, minx=10, maxx=2000)\n",
    "plt.show()"
   ],
   "metadata": {
    "collapsed": false
   }
  },
  {
   "cell_type": "code",
   "execution_count": null,
   "outputs": [],
   "source": [
    "print('Immgen SPAN 100 REPROCESSED Length of peaks')\n",
    "plot_log(ts, 'length', 'MACS2 Peaks lengths', minx=10, maxx=2000)\n",
    "plt.show()"
   ],
   "metadata": {
    "collapsed": false
   }
  },
  {
   "cell_type": "markdown",
   "source": [
    "# 2022_GSE35583_RAW downloaded"
   ],
   "metadata": {
    "collapsed": false
   }
  },
  {
   "cell_type": "code",
   "execution_count": null,
   "outputs": [],
   "source": [
    "GSE35583_PATH = os.path.expanduser('~/data/2022_GSE35583_RAW')\n",
    "GSE35583_CELLS = ['']\n",
    "GSE35583_MODIFICATIONS = ['H3k4me3', 'H3k36me3', 'H3k27ac', 'H3k27me3', 'H3k09me3']\n",
    "\n",
    "df_gse35583 = pd.concat([\n",
    "    find_peak_files(GSE35583_PATH, '.narrowPeak', GSE35583_CELLS, GSE35583_MODIFICATIONS, FDRS),\n",
    "    find_peak_files(GSE35583_PATH, '.broadPeak', GSE35583_CELLS, GSE35583_MODIFICATIONS, FDRS)\n",
    "])\n",
    "df_gse35583['tool'] = 'Macs2'\n",
    "df_gse35583['dir'] = GSE35583_PATH\n",
    "df_gse35583.sample(3)"
   ],
   "metadata": {
    "collapsed": false
   }
  },
  {
   "cell_type": "code",
   "execution_count": null,
   "outputs": [],
   "source": [
    "df_gse35583_peaks = load_peaks(df_gse35583)\n",
    "display(df_gse35583_peaks.sample(5))"
   ],
   "metadata": {
    "collapsed": false
   }
  },
  {
   "cell_type": "code",
   "execution_count": null,
   "outputs": [],
   "source": [
    "print('2022_GSE35583_RAW DOWNLOADED Length of peaks')\n",
    "plot_boxes(df_gse35583_peaks, 'length', 'Length by modification',\n",
    "           violin=False, log=True, minx=10, maxx=1e4)\n",
    "plt.show()"
   ],
   "metadata": {
    "collapsed": false
   }
  },
  {
   "cell_type": "markdown",
   "source": [
    "# GSE29911 downloaded"
   ],
   "metadata": {
    "collapsed": false
   }
  },
  {
   "cell_type": "code",
   "execution_count": null,
   "outputs": [],
   "source": [
    "GSE29911_PATH = os.path.expanduser('~/data/GSE29611_RAW')\n",
    "GSE29911_CELLS = ['']\n",
    "GSE29911_MODIFICATIONS = ['Ctcf', 'Pol2b', 'H2az', 'H3k09me3', 'H3k79me2', 'H4k20me1', 'H3k4me1', 'H3k4me2', 'H3k4me3',\n",
    "                          'H3k36me3', 'H3k27ac', 'H3k27me3', 'H3k9me1', 'H3k9ac']\n",
    "\n",
    "df_gse29911 = find_peak_files(GSE29911_PATH, '.broadPeak', GSE29911_CELLS, GSE29911_MODIFICATIONS, FDRS)\n",
    "df_gse29911['tool'] = 'Macs2'\n",
    "df_gse29911['dir'] = GSE29911_PATH\n",
    "\n",
    "df_gse29911_peaks = load_peaks(df_gse29911)"
   ],
   "metadata": {
    "collapsed": false
   }
  },
  {
   "cell_type": "code",
   "execution_count": null,
   "outputs": [],
   "source": [
    "print('GSE29911_RAW DOWNLOADED Length of modifications')\n",
    "plot_boxes(df_gse29911_peaks, 'length', 'Length by modification',\n",
    "           violin=False, log=True, minx=80, maxx=1e6,\n",
    "           order=['Ctcf', 'H2az', 'Pol2b', 'H3k27ac', 'H3k4me3', 'H3k4me2', 'H3k9ac',\n",
    "                    'H3k4me1', 'H3k9me1', 'H3k09me3', 'H3k27me3', 'H3k36me3', 'H3k79me2', 'H4k20me1'])\n",
    "plt.show()"
   ],
   "metadata": {
    "collapsed": false
   }
  },
  {
   "cell_type": "markdown",
   "source": [
    "# END"
   ],
   "metadata": {
    "collapsed": false
   }
  },
  {
   "cell_type": "code",
   "execution_count": null,
   "outputs": [],
   "source": [],
   "metadata": {
    "collapsed": false
   }
  }
 ],
 "metadata": {
  "kernelspec": {
   "display_name": "Python 3",
   "language": "python",
   "name": "python3"
  },
  "language_info": {
   "codemirror_mode": {
    "name": "ipython",
    "version": 2
   },
   "file_extension": ".py",
   "mimetype": "text/x-python",
   "name": "python",
   "nbconvert_exporter": "python",
   "pygments_lexer": "ipython2",
   "version": "2.7.6"
  }
 },
 "nbformat": 4,
 "nbformat_minor": 0
}
