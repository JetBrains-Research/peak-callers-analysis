{
 "cells": [
  {
   "metadata": {},
   "cell_type": "markdown",
   "source": [
    "# Benchmark speed\n",
    "# Benchmark Speed Analysis\n",
    "\n",
    "## Data Collection\n",
    "Launch the script with logging `benchmark.sh 2>&1 | tee benchmark.txt`\n",
    "\n",
    "Launch the script with logging to capture benchmark data:\n",
    "```bash\n",
    "benchmark.sh 2>&1 | tee benchmark.txt\n",
    "```\n",
    "\n"
   ],
   "id": "d2a3fc175629d154"
  },
  {
   "metadata": {
    "ExecuteTime": {
     "end_time": "2025-06-06T09:29:36.571010Z",
     "start_time": "2025-06-06T09:29:36.565765Z"
    }
   },
   "cell_type": "code",
   "source": [
    "%matplotlib inline\n",
    "%config InlineBackend.figure_format='retina'\n",
    "\n",
    "import pandas as pd\n",
    "import seaborn as sns\n",
    "from tqdm.auto import tqdm\n",
    "\n",
    "import matplotlib.pyplot as plt\n",
    "import numpy as np\n",
    "import os\n",
    "import re\n",
    "import tempfile\n",
    "sns.set_theme(style=\"whitegrid\")\n"
   ],
   "id": "initial_id",
   "outputs": [],
   "execution_count": 16
  },
  {
   "metadata": {
    "ExecuteTime": {
     "end_time": "2025-06-06T07:55:41.691940Z",
     "start_time": "2025-06-06T07:55:41.689680Z"
    }
   },
   "cell_type": "code",
   "source": "BENCHMARK_FILE = os.path.expanduser('~/data/2025_benchmark/benchmark.txt')",
   "id": "d8439093543df472",
   "outputs": [],
   "execution_count": 2
  },
  {
   "metadata": {
    "ExecuteTime": {
     "end_time": "2025-06-06T09:36:51.909319Z",
     "start_time": "2025-06-06T09:36:51.903926Z"
    }
   },
   "cell_type": "code",
   "source": [
    "def parse_benchmark_file(file_path):\n",
    "    results = []\n",
    "    current_block = None\n",
    "    in_job_section = False\n",
    "    current_job = None\n",
    "\n",
    "    with open(file_path, 'r') as f:\n",
    "        for line in f:\n",
    "            line = line.strip()\n",
    "\n",
    "            # Start of a new bam block\n",
    "            if re.match('^bams[1-5]$', line.strip()):\n",
    "                current_stats = []\n",
    "                current_block = {'name': line, 'stats': current_stats}\n",
    "                results.append(current_block)\n",
    "                in_job_section = False\n",
    "                continue\n",
    "\n",
    "            # Start of job stats section\n",
    "            if line.startswith('Job stats:'):\n",
    "                in_job_section = True\n",
    "                current_job = {}\n",
    "                current_stats.append(current_job)\n",
    "                continue\n",
    "\n",
    "            # Handle stats section\n",
    "            if in_job_section:\n",
    "                if line.startswith('total'):\n",
    "                    in_job_section = False\n",
    "                elif line.startswith(\"call_\"):\n",
    "                    current_job['name'] = line.split(' ')[0]\n",
    "                continue\n",
    "\n",
    "            # Look for real time\n",
    "            if line.startswith('real'):\n",
    "                current_job['real_time'] = re.sub(',[0-9]+', '', line.split('\\t')[1].strip())\n",
    "                continue\n",
    "\n",
    "    return results"
   ],
   "id": "e35403e09b3256e5",
   "outputs": [],
   "execution_count": 23
  },
  {
   "metadata": {
    "ExecuteTime": {
     "end_time": "2025-06-06T09:36:52.784876Z",
     "start_time": "2025-06-06T09:36:52.773698Z"
    }
   },
   "cell_type": "code",
   "source": [
    "results = parse_benchmark_file(BENCHMARK_FILE)\n",
    "results"
   ],
   "id": "2666325e368ee099",
   "outputs": [
    {
     "data": {
      "text/plain": [
       "[{'name': 'bams1',\n",
       "  'stats': [{'name': 'call_peaks_macs2', 'real_time': '1m2s'},\n",
       "   {'name': 'call_peaks_macs2', 'real_time': '1m14s'},\n",
       "   {'name': 'call_peaks_sicer', 'real_time': '4m28s'},\n",
       "   {'name': 'call_peaks_span', 'real_time': '7m57s'},\n",
       "   {'name': 'call_peaks_macs3', 'real_time': '1m33s'},\n",
       "   {'name': 'call_peaks_macs3', 'real_time': '1m44s'},\n",
       "   {'name': 'call_peaks_sicer2', 'real_time': '1m2s'},\n",
       "   {'name': 'call_peaks_homer', 'real_time': '1m9s'},\n",
       "   {'name': 'call_peaks_hotspot', 'real_time': '1m11s'},\n",
       "   {'name': 'call_peaks_peakseq', 'real_time': '11m52s'},\n",
       "   {'name': 'call_peaks_fseq2', 'real_time': '10m1s'}]},\n",
       " {'name': 'bams2',\n",
       "  'stats': [{'name': 'call_peaks_macs2', 'real_time': '1m12s'},\n",
       "   {'name': 'call_peaks_macs2', 'real_time': '1m12s'},\n",
       "   {'name': 'call_peaks_sicer', 'real_time': '6m40s'},\n",
       "   {'name': 'call_peaks_span', 'real_time': '8m51s'},\n",
       "   {'name': 'call_peaks_macs3', 'real_time': '1m47s'},\n",
       "   {'name': 'call_peaks_macs3', 'real_time': '1m46s'},\n",
       "   {'name': 'call_peaks_sicer2', 'real_time': '1m33s'},\n",
       "   {'name': 'call_peaks_homer', 'real_time': '1m31s'},\n",
       "   {'name': 'call_peaks_hotspot', 'real_time': '2m56s'},\n",
       "   {'name': 'call_peaks_peakseq', 'real_time': '16m58s'},\n",
       "   {'name': 'call_peaks_fseq2', 'real_time': '10m0s'}]},\n",
       " {'name': 'bams3',\n",
       "  'stats': [{'name': 'call_peaks_macs2', 'real_time': '1m13s'},\n",
       "   {'name': 'call_peaks_macs2', 'real_time': '1m14s'},\n",
       "   {'name': 'call_peaks_sicer', 'real_time': '6m33s'},\n",
       "   {'name': 'call_peaks_span', 'real_time': '8m41s'},\n",
       "   {'name': 'call_peaks_macs3', 'real_time': '1m48s'},\n",
       "   {'name': 'call_peaks_macs3', 'real_time': '1m47s'},\n",
       "   {'name': 'call_peaks_sicer2', 'real_time': '1m30s'},\n",
       "   {'name': 'call_peaks_homer', 'real_time': '1m34s'},\n",
       "   {'name': 'call_peaks_hotspot', 'real_time': '2m36s'},\n",
       "   {'name': 'call_peaks_peakseq', 'real_time': '16m29s'},\n",
       "   {'name': 'call_peaks_fseq2', 'real_time': '9m25s'}]},\n",
       " {'name': 'bams4',\n",
       "  'stats': [{'name': 'call_peaks_macs2', 'real_time': '1m13s'},\n",
       "   {'name': 'call_peaks_macs2', 'real_time': '1m21s'},\n",
       "   {'name': 'call_peaks_sicer', 'real_time': '6m21s'},\n",
       "   {'name': 'call_peaks_span', 'real_time': '8m18s'},\n",
       "   {'name': 'call_peaks_macs3', 'real_time': '1m47s'},\n",
       "   {'name': 'call_peaks_macs3', 'real_time': '1m50s'},\n",
       "   {'name': 'call_peaks_sicer2', 'real_time': '1m19s'},\n",
       "   {'name': 'call_peaks_homer', 'real_time': '1m39s'},\n",
       "   {'name': 'call_peaks_hotspot', 'real_time': '2m35s'},\n",
       "   {'name': 'call_peaks_peakseq', 'real_time': '17m35s'},\n",
       "   {'name': 'call_peaks_fseq2', 'real_time': '9m37s'}]},\n",
       " {'name': 'bams5',\n",
       "  'stats': [{'name': 'call_peaks_macs2', 'real_time': '0m58s'},\n",
       "   {'name': 'call_peaks_macs2', 'real_time': '1m4s'},\n",
       "   {'name': 'call_peaks_sicer', 'real_time': '4m18s'},\n",
       "   {'name': 'call_peaks_span', 'real_time': '8m5s'},\n",
       "   {'name': 'call_peaks_macs3', 'real_time': '1m26s'},\n",
       "   {'name': 'call_peaks_macs3', 'real_time': '1m32s'},\n",
       "   {'name': 'call_peaks_sicer2', 'real_time': '0m55s'},\n",
       "   {'name': 'call_peaks_homer', 'real_time': '1m2s'},\n",
       "   {'name': 'call_peaks_hotspot', 'real_time': '0m55s'},\n",
       "   {'name': 'call_peaks_peakseq', 'real_time': '10m26s'},\n",
       "   {'name': 'call_peaks_fseq2', 'real_time': '9m0s'}]}]"
      ]
     },
     "execution_count": 24,
     "metadata": {},
     "output_type": "execute_result"
    }
   ],
   "execution_count": 24
  },
  {
   "metadata": {
    "ExecuteTime": {
     "end_time": "2025-06-06T09:47:12.203906Z",
     "start_time": "2025-06-06T09:47:12.186279Z"
    }
   },
   "cell_type": "code",
   "source": [
    "rows = []\n",
    "for block in results:\n",
    "    name = block['name']\n",
    "    for job in block['stats']:\n",
    "        peak_caller = job['name'].replace('call_peaks_', '')\n",
    "        real_time = job['real_time']\n",
    "        time = re.split('[ms]', real_time)\n",
    "        time_sec = 60 * int(time[0]) + int(time[1])\n",
    "        rows.append((name, peak_caller, time_sec))\n",
    "    rows.append((name, 'bayespeak', 1.5 * 60 * 60))  # 1.5 hours\n",
    "    rows.append((name, 'gps', 2 * 60 * 60))  # 2 hours\n",
    "df = pd.DataFrame(rows, columns=['block', 'tool', 'time'])\n",
    "df"
   ],
   "id": "d8c1b6dde5afabdb",
   "outputs": [
    {
     "data": {
      "text/plain": [
       "    block       tool    time\n",
       "0   bams1      macs2    62.0\n",
       "1   bams1      macs2    74.0\n",
       "2   bams1      sicer   268.0\n",
       "3   bams1       span   477.0\n",
       "4   bams1      macs3    93.0\n",
       "..    ...        ...     ...\n",
       "60  bams5    hotspot    55.0\n",
       "61  bams5    peakseq   626.0\n",
       "62  bams5      fseq2   540.0\n",
       "63  bams5  bayespeak  5400.0\n",
       "64  bams5        gps  7200.0\n",
       "\n",
       "[65 rows x 3 columns]"
      ],
      "text/html": [
       "<div>\n",
       "<style scoped>\n",
       "    .dataframe tbody tr th:only-of-type {\n",
       "        vertical-align: middle;\n",
       "    }\n",
       "\n",
       "    .dataframe tbody tr th {\n",
       "        vertical-align: top;\n",
       "    }\n",
       "\n",
       "    .dataframe thead th {\n",
       "        text-align: right;\n",
       "    }\n",
       "</style>\n",
       "<table border=\"1\" class=\"dataframe\">\n",
       "  <thead>\n",
       "    <tr style=\"text-align: right;\">\n",
       "      <th></th>\n",
       "      <th>block</th>\n",
       "      <th>tool</th>\n",
       "      <th>time</th>\n",
       "    </tr>\n",
       "  </thead>\n",
       "  <tbody>\n",
       "    <tr>\n",
       "      <th>0</th>\n",
       "      <td>bams1</td>\n",
       "      <td>macs2</td>\n",
       "      <td>62.0</td>\n",
       "    </tr>\n",
       "    <tr>\n",
       "      <th>1</th>\n",
       "      <td>bams1</td>\n",
       "      <td>macs2</td>\n",
       "      <td>74.0</td>\n",
       "    </tr>\n",
       "    <tr>\n",
       "      <th>2</th>\n",
       "      <td>bams1</td>\n",
       "      <td>sicer</td>\n",
       "      <td>268.0</td>\n",
       "    </tr>\n",
       "    <tr>\n",
       "      <th>3</th>\n",
       "      <td>bams1</td>\n",
       "      <td>span</td>\n",
       "      <td>477.0</td>\n",
       "    </tr>\n",
       "    <tr>\n",
       "      <th>4</th>\n",
       "      <td>bams1</td>\n",
       "      <td>macs3</td>\n",
       "      <td>93.0</td>\n",
       "    </tr>\n",
       "    <tr>\n",
       "      <th>...</th>\n",
       "      <td>...</td>\n",
       "      <td>...</td>\n",
       "      <td>...</td>\n",
       "    </tr>\n",
       "    <tr>\n",
       "      <th>60</th>\n",
       "      <td>bams5</td>\n",
       "      <td>hotspot</td>\n",
       "      <td>55.0</td>\n",
       "    </tr>\n",
       "    <tr>\n",
       "      <th>61</th>\n",
       "      <td>bams5</td>\n",
       "      <td>peakseq</td>\n",
       "      <td>626.0</td>\n",
       "    </tr>\n",
       "    <tr>\n",
       "      <th>62</th>\n",
       "      <td>bams5</td>\n",
       "      <td>fseq2</td>\n",
       "      <td>540.0</td>\n",
       "    </tr>\n",
       "    <tr>\n",
       "      <th>63</th>\n",
       "      <td>bams5</td>\n",
       "      <td>bayespeak</td>\n",
       "      <td>5400.0</td>\n",
       "    </tr>\n",
       "    <tr>\n",
       "      <th>64</th>\n",
       "      <td>bams5</td>\n",
       "      <td>gps</td>\n",
       "      <td>7200.0</td>\n",
       "    </tr>\n",
       "  </tbody>\n",
       "</table>\n",
       "<p>65 rows × 3 columns</p>\n",
       "</div>"
      ]
     },
     "execution_count": 33,
     "metadata": {},
     "output_type": "execute_result"
    }
   ],
   "execution_count": 33
  },
  {
   "metadata": {
    "ExecuteTime": {
     "end_time": "2025-06-06T09:50:13.886826Z",
     "start_time": "2025-06-06T09:50:13.398060Z"
    }
   },
   "cell_type": "code",
   "source": [
    "print('Time')\n",
    "plt.figure(figsize=(4, 4))\n",
    "ax = plt.axes()\n",
    "ax.title.set_text('Time')\n",
    "g_results = sns.barplot(data=df, x='tool', y='time',\n",
    "                        order=['macs2', 'macs3', 'sicer', 'sicer2', 'homer', 'hotspot', 'peakseq', 'fseq2', 'bayespeak', 'gps', 'span'],\n",
    "                        capsize=.2,\n",
    "                        ax=ax)\n",
    "ax.xaxis.set_tick_params(rotation=90)\n",
    "ax.set(yscale='log')\n",
    "ax.set_ylim((10, 10_000))\n",
    "ax.set_ylabel('Peak caller')\n",
    "ax.set_ylabel('Seconds')\n",
    "plt.tight_layout()\n",
    "plt.show()"
   ],
   "id": "cb8916762e79aa02",
   "outputs": [
    {
     "name": "stdout",
     "output_type": "stream",
     "text": [
      "Time\n"
     ]
    },
    {
     "data": {
      "text/plain": [
       "<Figure size 400x400 with 1 Axes>"
      ],
      "image/png": "[encoded data removed]"
     },
     "metadata": {
      "image/png": {
       "width": 384,
       "height": 386
      }
     },
     "output_type": "display_data"
    }
   ],
   "execution_count": 44
  }
 ],
 "metadata": {
  "kernelspec": {
   "display_name": "Python 3",
   "language": "python",
   "name": "python3"
  },
  "language_info": {
   "codemirror_mode": {
    "name": "ipython",
    "version": 2
   },
   "file_extension": ".py",
   "mimetype": "text/x-python",
   "name": "python",
   "nbconvert_exporter": "python",
   "pygments_lexer": "ipython2",
   "version": "2.7.6"
  }
 },
 "nbformat": 4,
 "nbformat_minor": 5
}
