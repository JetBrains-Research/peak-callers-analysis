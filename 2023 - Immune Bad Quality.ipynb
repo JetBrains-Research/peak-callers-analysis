{
 "cells": [
  {
   "cell_type": "markdown",
   "metadata": {},
   "source": [
    "# 2023 Immune dataset\n",
    "\n",
    "Analyze peak calling quality on tracks with artificially lowered quality either via subsampling or with noise mixture.\n",
    "\n",
    "Data:\n",
    "https://www.encodeproject.org/immune-cells/?type=Experiment&replicates.library.biosample.donor.organism.scientific_name=Homo+sapiens&biosample_ontology.cell_slims=hematopoietic+cell&biosample_ontology.classification=primary+cell&control_type!=*&status!=replaced&status!=revoked&status!=archived&biosample_ontology.system_slims=immune+system&biosample_ontology.system_slims=circulatory+system&config=immune\n"
   ]
  },
  {
   "cell_type": "code",
   "execution_count": null,
   "metadata": {
    "ExecuteTime": {
     "end_time": "2019-01-24T09:42:05.555231Z",
     "start_time": "2019-01-24T09:42:03.994631Z"
    }
   },
   "outputs": [],
   "source": [
    "%matplotlib inline\n",
    "%config InlineBackend.figure_format='retina'\n",
    "\n",
    "from IPython.display import display\n",
    "import pandas as pd\n",
    "from tqdm.auto import tqdm\n",
    "import seaborn as sns\n",
    "\n",
    "sns.set_style(\"whitegrid\")\n",
    "import matplotlib.pyplot as plt\n",
    "from matplotlib.backends.backend_pdf import PdfPages\n",
    "import numpy as np\n",
    "import scipy as sp\n",
    "import os"
   ]
  },
  {
   "cell_type": "code",
   "execution_count": null,
   "outputs": [],
   "source": [
    "def bedl(file):\n",
    "    try:\n",
    "        tf = pd.read_csv(file, sep='\\t', header=None)\n",
    "        return tf[2] - tf[1]\n",
    "    except:\n",
    "        return np.zeros(0)  # Empty file\n",
    "\n",
    "\n",
    "def lines(file):\n",
    "    try:\n",
    "        tf = pd.read_csv(file, sep='\\t', header=None)\n",
    "        return len(tf)\n",
    "    except:\n",
    "        return 0  # Empty file\n",
    "\n",
    "def d(a, b):\n",
    "    return a / b if b != 0 else 0\n",
    "\n",
    "def last_col(file):\n",
    "    try:\n",
    "        cols = len(pd.read_csv(file, sep='\\t', nrows=1, header=None).columns)\n",
    "        return pd.read_csv(file, sep='\\t', header=None, usecols=[cols - 1])[cols - 1]\n",
    "    except:\n",
    "        return np.zeros(0)  # Empty file\n",
    "\n",
    "def sorted_file(file):\n",
    "    ts = tempfile.mktemp()\n",
    "    !cat {file} | sort -k1,1 -k2,2n > {ts}\n",
    "    return ts"
   ],
   "metadata": {
    "collapsed": false
   }
  },
  {
   "cell_type": "markdown",
   "source": [
    "# Load peaks"
   ],
   "metadata": {
    "collapsed": false
   }
  },
  {
   "cell_type": "code",
   "execution_count": null,
   "outputs": [],
   "source": [
    "import re\n",
    "\n",
    "PATH = os.path.expanduser('~/data/2023_Immune')\n",
    "\n",
    "IMMUNE_CELLS = ['BCell', 'TCell', 'Monocyte']\n",
    "M='H3K27ac'\n",
    "# METHOD = 'mln_control'\n",
    "METHOD = 'noise'\n",
    "PATH_BAD_QUALITY = os.path.expanduser(f'~/data/2023_Immune_{METHOD}')\n",
    "\n",
    "MODIFICATIONS = [M]\n",
    "\n",
    "def load_peaks_fdr(path, suffix, fdrs):\n",
    "    df_fdr = pd.DataFrame(columns=['file', 'modification', 'cell', 'fdr', 'peaks', 'avlength'],\n",
    "                          dtype=object)\n",
    "    for f in tqdm(os.listdir(path)):\n",
    "        if suffix not in f:\n",
    "            continue\n",
    "        fdr = next((fdr for fdr in fdrs if fdr in f), None)\n",
    "        cell = next((cc for cc in IMMUNE_CELLS if cc in f), None)\n",
    "        mod = next((m for m in MODIFICATIONS if m in f), None)\n",
    "        # print(f, fdr, cell, mod)\n",
    "        if fdr and cell and mod:\n",
    "            peaks_path = os.path.join(path, f)\n",
    "            ps, ls = lines(peaks_path), bedl(peaks_path)\n",
    "            avls = 0 if ps == 0 else sum(ls) / ps\n",
    "            df_fdr.loc[len(df_fdr)] = (f, mod, cell, fdr, ps, avls)\n",
    "    return df_fdr"
   ],
   "metadata": {
    "collapsed": false
   }
  },
  {
   "cell_type": "code",
   "execution_count": null,
   "outputs": [],
   "source": [
    "df_fdr_macs2 = load_peaks_fdr(os.path.join(PATH, 'macs2'), '.narrowPeak', ['0.05'])\n",
    "df_fdr_macs2['file'] = [f'{PATH}/macs2/{f}' for f in df_fdr_macs2['file']]\n",
    "df_fdr_macs2['tool'] = 'MACS2'\n",
    "print('MACS2', len(df_fdr_macs2))\n",
    "\n",
    "df_fdr_macs2broad = load_peaks_fdr(os.path.join(PATH, 'macs2'), '.broadPeak', ['0.1'])\n",
    "df_fdr_macs2broad['file'] = [f'{PATH}/macs2/{f}' for f in df_fdr_macs2broad['file']]\n",
    "df_fdr_macs2broad['tool'] = 'MACS2 broad'\n",
    "print('MACS2 broad', len(df_fdr_macs2broad))\n",
    "\n",
    "df_fdr_sicer = load_peaks_fdr(os.path.join(PATH, 'sicer'), 'summary-FDR', ['0.01'])\n",
    "df_fdr_sicer['file'] = [f'{PATH}/sicer/{f}' for f in df_fdr_sicer['file']]\n",
    "df_fdr_sicer['tool'] = 'SICER'\n",
    "print('SICER', len(df_fdr_sicer))\n",
    "\n",
    "df_fdr_span = load_peaks_fdr(os.path.join(PATH, 'span'), '.peak', ['0.05'])\n",
    "df_fdr_span['file'] = [f'{PATH}/span/{f}' for f in df_fdr_span['file']]\n",
    "df_fdr_span['tool'] = 'SPAN'\n",
    "print('SPAN', len(df_fdr_span))\n",
    "\n",
    "df_fdr_peaks = pd.concat([df_fdr_macs2, df_fdr_macs2broad, df_fdr_sicer, df_fdr_span])\n",
    "df_fdr_peaks.sample(5)"
   ],
   "metadata": {
    "collapsed": false
   }
  },
  {
   "cell_type": "code",
   "execution_count": null,
   "outputs": [],
   "source": [
    "TOOLS = ['MACS2', 'MACS2 broad', 'SICER', 'SPAN', 'Genes']\n",
    "palette = plt.cm.get_cmap('tab10')\n",
    "TOOLS_PALETTE = {t: palette(i) for i, t in enumerate(TOOLS)}"
   ],
   "metadata": {
    "collapsed": false
   }
  },
  {
   "cell_type": "code",
   "execution_count": null,
   "outputs": [],
   "source": [
    "plt.figure(figsize=(4, 4))\n",
    "ax = plt.axes()\n",
    "g_results = sns.barplot(data=df_fdr_peaks, x='tool', y='peaks', ax=ax,\n",
    "                        capsize=.2, errwidth=2, edgecolor=\"black\",\n",
    "                        palette=TOOLS_PALETTE)\n",
    "ax.xaxis.set_tick_params(rotation=90)\n",
    "ax.title.set_text(f'{M} Peaks number')\n",
    "plt.show()"
   ],
   "metadata": {
    "collapsed": false
   }
  },
  {
   "cell_type": "markdown",
   "source": [
    "# Bad quality tracks"
   ],
   "metadata": {
    "collapsed": false
   }
  },
  {
   "cell_type": "code",
   "execution_count": null,
   "outputs": [],
   "source": [
    "MLNS = [10, 5, 2, 1]\n",
    "\n",
    "def load_peaks_mln(path, suffix, mlns):\n",
    "    df_mln = pd.DataFrame(columns=['file', 'modification', 'cell', 'mln', 'peaks', 'avlength'],\n",
    "                          dtype=object)\n",
    "    for f in tqdm(os.listdir(path)):\n",
    "        if suffix not in f:\n",
    "            continue\n",
    "        mln = next((mln for mln in mlns if f'{mln}mln' in f), None)\n",
    "        cell = next((cc for cc in IMMUNE_CELLS if cc in f), None)\n",
    "        mod = next((m for m in MODIFICATIONS if m in f), None)\n",
    "        if mln and cell and mod:\n",
    "            peaks_path = os.path.join(path, f)\n",
    "            ps, ls = lines(peaks_path), bedl(peaks_path)\n",
    "            avls = 0 if ps == 0 else sum(ls) / ps\n",
    "            df_mln.loc[len(df_mln)] = (f, mod, cell, mln, ps, avls)\n",
    "    return df_mln"
   ],
   "metadata": {
    "collapsed": false
   }
  },
  {
   "cell_type": "code",
   "execution_count": null,
   "outputs": [],
   "source": [
    "df_mln_macs2 = load_peaks_mln(os.path.join(PATH_BAD_QUALITY, 'macs2'), '.narrowPeak', MLNS)\n",
    "df_mln_macs2['file'] = [f'{PATH_BAD_QUALITY}/macs2/{f}' for f in df_mln_macs2['file']]\n",
    "df_mln_macs2['tool'] = 'MACS2'\n",
    "print('MACS2', len(df_mln_macs2))\n",
    "\n",
    "df_mln_macs2broad = load_peaks_mln(os.path.join(PATH_BAD_QUALITY, 'macs2'), '.broadPeak', MLNS)\n",
    "df_mln_macs2broad['file'] = [f'{PATH_BAD_QUALITY}/macs2/{f}' for f in df_mln_macs2broad['file']]\n",
    "df_mln_macs2broad['tool'] = 'MACS2 broad'\n",
    "print('MACS2 broad', len(df_mln_macs2broad))\n",
    "\n",
    "df_mln_sicer = load_peaks_mln(os.path.join(PATH_BAD_QUALITY, 'sicer'), 'summary-FDR', MLNS)\n",
    "df_mln_sicer['file'] = [f'{PATH_BAD_QUALITY}/sicer/{f}' for f in df_mln_sicer['file']]\n",
    "df_mln_sicer['tool'] = 'SICER'\n",
    "print('SICER', len(df_mln_sicer))\n",
    "\n",
    "df_mln_span = load_peaks_mln(os.path.join(PATH_BAD_QUALITY, 'span'), '.peak', MLNS)\n",
    "df_mln_span['file'] = [f'{PATH_BAD_QUALITY}/span/{f}' for f in df_mln_span['file']]\n",
    "df_mln_span['tool'] = 'SPAN'\n",
    "print('SPAN', len(df_mln_span))"
   ],
   "metadata": {
    "collapsed": false
   }
  },
  {
   "cell_type": "code",
   "execution_count": null,
   "outputs": [],
   "source": [
    "t = df_fdr_peaks.copy().rename(dict(fdr='mln'), axis=1)\n",
    "t['mln'] = 20\n",
    "df_mln_peaks = pd.concat([df_mln_macs2, df_mln_macs2broad, df_mln_sicer, df_mln_span, t]).reset_index(drop=True)\n",
    "df_mln_peaks.sort_values(by=['tool', 'mln'], inplace=True)\n",
    "df_mln_peaks.sample(5)"
   ],
   "metadata": {
    "collapsed": false
   }
  },
  {
   "cell_type": "code",
   "execution_count": null,
   "outputs": [],
   "source": [
    "plt.figure(figsize=(4, 4))\n",
    "ax = plt.axes()\n",
    "g_results = sns.barplot(data=df_mln_peaks, x='mln', y='peaks', hue='tool', ax=ax,\n",
    "                        capsize=.2, errwidth=2, edgecolor=\"black\",\n",
    "                        palette=TOOLS_PALETTE)\n",
    "ax.title.set_text(f'{M} {METHOD} Peaks number')\n",
    "ax.set_ylabel('Peaks number')\n",
    "# ax.xaxis.set_tick_params(rotation=90)\n",
    "# ax.set_ylim([0, 5e4]) # Limited for visual aesthetics\n",
    "plt.tight_layout()\n",
    "plt.show()"
   ],
   "metadata": {
    "collapsed": false
   }
  },
  {
   "cell_type": "code",
   "execution_count": null,
   "outputs": [],
   "source": [
    "plt.figure(figsize=(4, 4))\n",
    "ax = plt.axes()\n",
    "g_results = sns.barplot(data=df_mln_peaks, x='mln', y='avlength', hue='tool', ax=ax,\n",
    "                        capsize=.2, errwidth=2, edgecolor=\"black\",\n",
    "                        palette=TOOLS_PALETTE)\n",
    "ax.title.set_text(f'{M} {METHOD} Average length')\n",
    "ax.set_ylabel('Average length')\n",
    "# ax.xaxis.set_tick_params(rotation=90)\n",
    "# ax.set_ylim([0, 5e4]) # Limited for visual aesthetics\n",
    "plt.tight_layout()\n",
    "plt.show()"
   ],
   "metadata": {
    "collapsed": false
   }
  },
  {
   "cell_type": "code",
   "execution_count": null,
   "outputs": [],
   "source": [
    "import tempfile\n",
    "from itertools import product\n",
    "\n",
    "TOOLS = list(sorted(df_fdr_peaks['tool'].unique()))\n",
    "\n",
    "mln_bench_df = pd.DataFrame(\n",
    "    columns=['cell', 'name', 'full_peaks', 'full_peaks_len',\n",
    "             'mln', 'mln_peaks', 'mln_peaks_len',\n",
    "             'full_overlap', 'mln_overlap',\n",
    "             'overlap_len'],\n",
    "    dtype=object\n",
    ")\n",
    "\n",
    "tf = tempfile.mktemp()\n",
    "\n",
    "for c, tool in tqdm(product(IMMUNE_CELLS, TOOLS)):\n",
    "    print(c, tool)\n",
    "    t = df_mln_peaks[(df_mln_peaks['tool'] == tool) &\n",
    "                     (df_mln_peaks['modification'] == M) &\n",
    "                     (df_mln_peaks['cell'] == c) &\n",
    "                     (df_mln_peaks['mln'] == 20)]\n",
    "    if len(t) == 0:\n",
    "        continue\n",
    "    full_file = sorted_file(t['file'].values[0])\n",
    "    full_peaks = lines(full_file)\n",
    "    full_peaks_len = int(bedl(full_file).sum())\n",
    "    for mln in MLNS:\n",
    "        t = df_mln_peaks[(df_mln_peaks['tool'] == tool) &\n",
    "                         (df_mln_peaks['modification'] == M) &\n",
    "                         (df_mln_peaks['cell'] == c) &\n",
    "                         (df_mln_peaks['mln'] == mln)]\n",
    "        if len(t) == 0:\n",
    "            continue\n",
    "        mln_file = sorted_file(t['file'].values[0])\n",
    "        mln_peaks = lines(mln_file)\n",
    "        mln_peaks_len = int(bedl(mln_file).sum())\n",
    "        !bedtools intersect -a {full_file} -b {mln_file} -wa -u > {tf}\n",
    "        full_peaks_overlap = lines(tf)\n",
    "        !bedtools intersect -b {full_file} -a {mln_file} -wa -u > {tf}\n",
    "        mln_peaks_overlap = lines(tf)\n",
    "        !bedtools intersect -a {full_file} -b {mln_file} -wo > {tf}\n",
    "        overlap_len = int(last_col(tf).sum())\n",
    "        mln_bench_df.loc[len(mln_bench_df)] = \\\n",
    "            (c, tool,\n",
    "             full_peaks, full_peaks_len,\n",
    "             mln, mln_peaks, mln_peaks_len,\n",
    "             full_peaks_overlap, mln_peaks_overlap,\n",
    "             overlap_len)\n",
    "\n",
    "display(mln_bench_df.sample())"
   ],
   "metadata": {
    "collapsed": false
   }
  },
  {
   "cell_type": "code",
   "execution_count": null,
   "outputs": [],
   "source": [
    "mln_bench_df['precision'] = [d(a, b) for a, b in zip(mln_bench_df['mln_overlap'], mln_bench_df['mln_peaks'])]\n",
    "mln_bench_df['sensitivity'] = [d(a, b) for a, b in zip(mln_bench_df['full_overlap'], mln_bench_df['full_peaks'])]\n",
    "mln_bench_df['f1'] = [d(2, d(1, s + 1e-10) + d(1, p + 1e-10))\n",
    "                  for s, p in zip(mln_bench_df['sensitivity'], mln_bench_df['precision'])]\n",
    "\n",
    "mln_bench_df['precision_len'] = [d(a, b) for a, b in zip(mln_bench_df['overlap_len'], mln_bench_df['mln_peaks_len'])]\n",
    "mln_bench_df['sensitivity_len'] = [d(a, b) for a, b in zip(mln_bench_df['overlap_len'], mln_bench_df['full_peaks_len'])]\n",
    "mln_bench_df['f1_len'] = [d(2, d(1, s + 1e-10) + d(1, p + 1e-10))\n",
    "                      for s, p in zip(mln_bench_df['sensitivity_len'], mln_bench_df['precision_len'])]\n",
    "\n",
    "mln_bench_df['jaccard'] = [\n",
    "    d(o, p + g -o)\n",
    "    for p, g, o in zip(mln_bench_df['full_peaks_len'], mln_bench_df['mln_peaks_len'], mln_bench_df['overlap_len'])\n",
    "]"
   ],
   "metadata": {
    "collapsed": false
   }
  },
  {
   "cell_type": "code",
   "execution_count": null,
   "outputs": [],
   "source": [
    "import seaborn as sns\n",
    "\n",
    "plt.figure(figsize=(8, 3))\n",
    "axs = [plt.subplot(1, 2, i + 1) for i in range(2)]\n",
    "\n",
    "ax = axs[0]\n",
    "g_results = sns.scatterplot(data=mln_bench_df, x='precision', y='sensitivity', hue='name', style='mln',\n",
    "                            palette=TOOLS_PALETTE, ax=ax)\n",
    "g_results.axes.set_xlabel('Mln vs full (peaks)')\n",
    "g_results.axes.set_ylabel('Full vs mln (peaks)')\n",
    "g_results.axes.set_xlim([-0.1, 1.1])\n",
    "g_results.axes.set_ylim([-0.1, 1.1])\n",
    "ax.legend().set_visible(False)\n",
    "\n",
    "ax = axs[1]\n",
    "g_results = sns.scatterplot(data=mln_bench_df, x='precision_len', y='sensitivity_len', hue='name', style='mln',\n",
    "                            palette=TOOLS_PALETTE, ax=ax)\n",
    "g_results.axes.set_xlabel('Mln vs full (length)')\n",
    "g_results.axes.set_ylabel('Full vs mln (length)')\n",
    "g_results.axes.set_xlim([-0.1, 1.1])\n",
    "g_results.axes.set_ylim([-0.1, 1.1])\n",
    "# Put a legend to the right of the current axis\n",
    "g_results.axes.legend(loc='center left', bbox_to_anchor=(1, 0.5))\n",
    "\n",
    "plt.tight_layout()\n",
    "plt.show()"
   ],
   "metadata": {
    "collapsed": false
   }
  },
  {
   "cell_type": "code",
   "execution_count": null,
   "outputs": [],
   "source": [
    "ts = []\n",
    "for name in mln_bench_df['name'].unique():\n",
    "    tn = mln_bench_df[mln_bench_df['name'] == name]\n",
    "    for variable in ['sensitivity', 'precision', 'f1']:\n",
    "        ts.append(pd.DataFrame(dict(name=[name] * len(tn), type=[variable] * len(tn),\n",
    "                                    benchmark=['peak'] * len(tn),\n",
    "                                    mln=tn['mln'],\n",
    "                                    value=tn[variable])))\n",
    "        ts.append(pd.DataFrame(dict(name=[name] * len(tn), type=[variable] * len(tn),\n",
    "                                    benchmark=['length'] * len(tn),\n",
    "                                    mln=tn['mln'],\n",
    "                                    value=tn[f'{variable}_len'])))\n",
    "\n",
    "t = pd.concat(ts).reset_index(drop=True)\n",
    "del ts"
   ],
   "metadata": {
    "collapsed": false
   }
  },
  {
   "cell_type": "code",
   "execution_count": null,
   "outputs": [],
   "source": [
    "plt.figure(figsize=(12, 6))\n",
    "axs = [plt.subplot(2, len(MLNS), i + 1) for i in range(2 * len(MLNS))]\n",
    "for i, (benchmark, mln) in enumerate(product(['peak', 'length'], MLNS)):\n",
    "    g_results = sns.boxplot(data=t[(t['benchmark'] == benchmark) & (t['mln'] == mln)],\n",
    "                            x='type', y='value', hue='name', palette=TOOLS_PALETTE, ax=axs[i])\n",
    "    ax = g_results.axes\n",
    "    ax.set_title(f'{mln}mln vs full ({benchmark})')\n",
    "    # Put a legend to the right of the current axis\n",
    "    if i == len(MLNS) - 1:\n",
    "        ax.legend(loc='center left', bbox_to_anchor=(1, 0.5))\n",
    "    else:\n",
    "        ax.legend().set_visible(False)\n",
    "    ax.set_ylim([-0.1, 1.1])\n",
    "\n",
    "plt.tight_layout()\n",
    "plt.show()"
   ],
   "metadata": {
    "collapsed": false
   }
  },
  {
   "cell_type": "code",
   "execution_count": null,
   "outputs": [],
   "source": [],
   "metadata": {
    "collapsed": false
   }
  }
 ],
 "metadata": {
  "anaconda-cloud": {},
  "kernelspec": {
   "display_name": "Python 3",
   "language": "python",
   "name": "python3"
  },
  "language_info": {
   "codemirror_mode": {
    "name": "ipython",
    "version": 3
   },
   "file_extension": ".py",
   "mimetype": "text/x-python",
   "name": "python",
   "nbconvert_exporter": "python",
   "pygments_lexer": "ipython3",
   "version": "3.8.5"
  },
  "toc": {
   "nav_menu": {},
   "number_sections": true,
   "sideBar": true,
   "skip_h1_title": false,
   "toc_cell": false,
   "toc_position": {},
   "toc_section_display": "block",
   "toc_window_display": false
  }
 },
 "nbformat": 4,
 "nbformat_minor": 2
}
