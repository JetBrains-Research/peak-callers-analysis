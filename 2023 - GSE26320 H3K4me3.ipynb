{
 "cells": [
  {
   "cell_type": "markdown",
   "metadata": {},
   "source": [
    "# SPAN Benchmarks H3K4me3 vs RNA-seq\n",
    "\n",
    "See https://pubmed.ncbi.nlm.nih.gov/27169896/"
   ]
  },
  {
   "cell_type": "code",
   "execution_count": null,
   "metadata": {
    "ExecuteTime": {
     "start_time": "2023-05-17T06:50:06.403313Z",
     "end_time": "2023-05-17T06:50:07.370377Z"
    }
   },
   "outputs": [],
   "source": [
    "%matplotlib inline\n",
    "%config InlineBackend.figure_format='retina'\n",
    "\n",
    "import pandas as pd\n",
    "import seaborn as sns\n",
    "from IPython.display import display\n",
    "from tqdm.auto import tqdm\n",
    "\n",
    "sns.set_style(\"whitegrid\")\n",
    "import matplotlib.pyplot as plt\n",
    "import numpy as np\n",
    "import os"
   ]
  },
  {
   "cell_type": "code",
   "execution_count": null,
   "outputs": [],
   "source": [
    "def bedl(file):\n",
    "    try:\n",
    "        tf = pd.read_csv(file, sep='\\t', header=None)\n",
    "        return tf[2] - tf[1]\n",
    "    except:\n",
    "        return np.zeros(0)  # Empty file\n",
    "\n",
    "\n",
    "def lines(file):\n",
    "    try:\n",
    "        tf = pd.read_csv(file, sep='\\t', header=None)\n",
    "        return len(tf)\n",
    "    except:\n",
    "        return 0  # Empty file\n",
    "\n",
    "def d(a, b):\n",
    "    return a / b if b != 0 else 0\n",
    "\n",
    "def last_col(file):\n",
    "    try:\n",
    "        cols = len(pd.read_csv(file, sep='\\t', nrows=1, header=None).columns)\n",
    "        return pd.read_csv(file, sep='\\t', header=None, usecols=[cols - 1])[cols - 1]\n",
    "    except:\n",
    "        return np.zeros(0)  # Empty file\n",
    "\n",
    "\n",
    "def sorted_file(file):\n",
    "    ts = tempfile.mktemp()\n",
    "    !cat {file} | sort -k1,1 -k2,2n > {ts}\n",
    "    return ts"
   ],
   "metadata": {
    "collapsed": false,
    "ExecuteTime": {
     "start_time": "2023-05-17T06:50:06.422678Z",
     "end_time": "2023-05-17T06:50:07.370493Z"
    }
   }
  },
  {
   "cell_type": "markdown",
   "source": [
    "# Hg38 load peaks"
   ],
   "metadata": {
    "collapsed": false
   }
  },
  {
   "cell_type": "code",
   "execution_count": null,
   "outputs": [],
   "source": [
    "GSE26320_PATH_HG38 = os.path.expanduser('~/data/2023_GSE26320')\n",
    "GSE26320_CELLS = ['GM12878', 'HMEC', 'HSMM', 'K562', 'NHEK', 'NHLF', 'H1', 'Huvec', 'HepG2']\n",
    "# GSE26320_CELLS = ['GM12878']\n",
    "# GSE26320_MODIFICATIONS = ['CTCF', 'H3K27ac', 'H3K27me3', 'H3K36me3', 'H3K4me1', 'H3K4me2', 'H3K4me3', 'H3K9ac', 'H4K20me1']\n",
    "GSE26320_MODIFICATIONS = ['H3K4me3']\n",
    "GSE26320_REPS = ['rep1', 'rep2']\n",
    "# GSE26320_REPS = ['rep1']\n",
    "\n",
    "! mkdir -p {GSE26320_PATH_HG38}/pics"
   ],
   "metadata": {
    "collapsed": false,
    "ExecuteTime": {
     "start_time": "2023-05-17T06:50:06.442238Z",
     "end_time": "2023-05-17T06:50:07.641971Z"
    }
   }
  },
  {
   "cell_type": "code",
   "execution_count": null,
   "outputs": [],
   "source": [
    "def load_peaks_fdr(path, suffix, fdrs):\n",
    "    df_fdr = pd.DataFrame(columns=['file', 'modification', 'cell', 'replicate', 'fdr', 'peaks', 'avlength'],\n",
    "                          dtype=object)\n",
    "    for f in tqdm(os.listdir(path)):\n",
    "        if suffix not in f:\n",
    "            continue\n",
    "        fdr = next((fdr for fdr in fdrs if fdr in f), None)\n",
    "        cell = next((c for c in GSE26320_CELLS if c in f), None)\n",
    "        mod = next((m for m in GSE26320_MODIFICATIONS if m in f), None)\n",
    "        rep = next((r for r in GSE26320_REPS if r in f), None)\n",
    "        if fdr and cell and rep and mod:\n",
    "            peaks_path = os.path.join(path, f)\n",
    "            ps, ls = lines(peaks_path), bedl(peaks_path)\n",
    "            avls = 0 if ps == 0 else sum(ls) / ps\n",
    "            df_fdr.loc[len(df_fdr)] = (f, mod, cell, rep, fdr, ps, avls)\n",
    "    return df_fdr"
   ],
   "metadata": {
    "collapsed": false,
    "ExecuteTime": {
     "start_time": "2023-05-17T06:50:06.707889Z",
     "end_time": "2023-05-17T06:50:07.642093Z"
    }
   }
  },
  {
   "cell_type": "code",
   "execution_count": null,
   "outputs": [],
   "source": [
    "df_fdr_macs2 = load_peaks_fdr(os.path.join(GSE26320_PATH_HG38, 'macs2'), '.narrowPeak', ['0.05'])\n",
    "df_fdr_macs2['file'] = [f'{GSE26320_PATH_HG38}/macs2/{f}' for f in df_fdr_macs2['file']]\n",
    "df_fdr_macs2['tool'] = 'MACS2'\n",
    "print('MACS2', len(df_fdr_macs2))\n",
    "\n",
    "df_fdr_macs2broad = load_peaks_fdr(os.path.join(GSE26320_PATH_HG38, 'macs2'), '.broadPeak', ['0.1'])\n",
    "df_fdr_macs2broad['file'] = [f'{GSE26320_PATH_HG38}/macs2/{f}' for f in df_fdr_macs2broad['file']]\n",
    "df_fdr_macs2broad['tool'] = 'MACS2 broad'\n",
    "print('MACS2 broad', len(df_fdr_macs2broad))\n",
    "\n",
    "df_fdr_sicer = load_peaks_fdr(os.path.join(GSE26320_PATH_HG38, 'sicer'), 'summary-FDR', ['0.01'])\n",
    "df_fdr_sicer['file'] = [f'{GSE26320_PATH_HG38}/sicer/{f}' for f in df_fdr_sicer['file']]\n",
    "df_fdr_sicer['tool'] = 'SICER'\n",
    "print('SICER', len(df_fdr_sicer))\n",
    "\n",
    "df_fdr_span = load_peaks_fdr(os.path.join(GSE26320_PATH_HG38, 'span'), '.peak', ['0.05'])\n",
    "df_fdr_span['file'] = [f'{GSE26320_PATH_HG38}/span/{f}' for f in df_fdr_span['file']]\n",
    "df_fdr_span['tool'] = 'SPAN'\n",
    "print('SPAN', len(df_fdr_span))\n",
    "\n",
    "df_fdr_peaks = pd.concat([df_fdr_macs2, df_fdr_macs2broad, df_fdr_sicer, df_fdr_span])\n",
    "df_fdr_peaks.sample(2)"
   ],
   "metadata": {
    "collapsed": false,
    "ExecuteTime": {
     "start_time": "2023-05-17T06:50:06.707920Z",
     "end_time": "2023-05-17T06:50:10.046364Z"
    }
   }
  },
  {
   "cell_type": "code",
   "execution_count": null,
   "outputs": [],
   "source": [
    "# TOOLS_PALETTE = {'MACS2': 'blue', 'MACS2 broad': 'orange', 'SICER': 'green', 'SPAN': 'red', 'Genes': 'brown'}\n",
    "TOOLS = ['MACS2', 'MACS2 broad', 'SPAN', 'SICER', 'Genes']\n",
    "palette = plt.cm.get_cmap('tab10')\n",
    "TOOLS_PALETTE = {t: palette(i) for i, t in enumerate(TOOLS)}"
   ],
   "metadata": {
    "collapsed": false,
    "ExecuteTime": {
     "start_time": "2023-05-17T06:50:10.044538Z",
     "end_time": "2023-05-17T06:50:10.048301Z"
    }
   }
  },
  {
   "cell_type": "code",
   "execution_count": null,
   "outputs": [],
   "source": [
    "plt.figure(figsize=(4, 4))\n",
    "ax = plt.axes()\n",
    "g_results = sns.barplot(data=df_fdr_peaks, x='tool', y='peaks', ax=ax,\n",
    "                        capsize=.2, errwidth=2, edgecolor=\"black\",\n",
    "                        palette=TOOLS_PALETTE,\n",
    "                        order=['MACS2', 'MACS2 broad', 'SPAN', 'SICER'])\n",
    "ax.xaxis.set_tick_params(rotation=90)\n",
    "ax.title.set_text('H3K4me3 peaks number')\n",
    "plt.show()"
   ],
   "metadata": {
    "collapsed": false,
    "ExecuteTime": {
     "start_time": "2023-05-17T06:50:10.071778Z",
     "end_time": "2023-05-17T06:50:10.309979Z"
    }
   }
  },
  {
   "cell_type": "code",
   "execution_count": null,
   "outputs": [],
   "source": [
    "print('Load lengths')\n",
    "ts = []\n",
    "for file, tool in tqdm(zip(df_fdr_peaks['file'], df_fdr_peaks['tool'])):\n",
    "    lengths = bedl(file)\n",
    "    t = pd.DataFrame(dict(tool=[tool] * len(lengths), length=lengths))\n",
    "    ts.append(t.sample(min(len(t), 10_000)))\n",
    "t = pd.concat(ts).reset_index(drop=True)\n",
    "del ts\n",
    "t.sample(10)"
   ],
   "metadata": {
    "collapsed": false,
    "ExecuteTime": {
     "start_time": "2023-05-17T06:50:10.309454Z",
     "end_time": "2023-05-17T06:50:11.855232Z"
    }
   }
  },
  {
   "cell_type": "code",
   "execution_count": null,
   "outputs": [],
   "source": [
    "plt.figure(figsize=(4, 4))\n",
    "ax = plt.axes()\n",
    "g_results = sns.boxplot(data=t, x='tool', y='length', ax=ax, order=['MACS2', 'MACS2 broad', 'SPAN', 'SICER'])\n",
    "ax.title.set_text('H3K4me3 peaks length')\n",
    "ax.xaxis.set_tick_params(rotation=90)\n",
    "ax.set_ylim([0, 10_000])\n",
    "plt.show()"
   ],
   "metadata": {
    "collapsed": false,
    "ExecuteTime": {
     "start_time": "2023-05-17T06:50:11.853556Z",
     "end_time": "2023-05-17T06:50:12.163842Z"
    }
   }
  },
  {
   "cell_type": "code",
   "execution_count": null,
   "outputs": [],
   "source": [
    "plt.figure(figsize=(4, 3))\n",
    "ax = plt.axes()\n",
    "g_results = sns.histplot(data=t, x='length', hue='tool', ax=ax,\n",
    "                         stat='density', common_bins=False, common_norm=False,\n",
    "                         bins=50, kde=True, log_scale=True, alpha=0.2,\n",
    "                         palette=TOOLS_PALETTE,\n",
    "                         hue_order=['MACS2', 'MACS2 broad', 'SPAN', 'SICER'])\n",
    "g_results.set(xscale='log')\n",
    "g_results.set_ylim(0, 3)\n",
    "g_results.set_xlim(1e2, 2e4)\n",
    "ax.title.set_text('Peaks length')\n",
    "plt.tight_layout()\n",
    "plt.savefig(f'{GSE26320_PATH_HG38}/pics/H3K4me3_lengths.pdf', bbox_inches='tight', dpi=300)\n",
    "plt.show()"
   ],
   "metadata": {
    "collapsed": false,
    "ExecuteTime": {
     "start_time": "2023-05-17T06:50:12.149662Z",
     "end_time": "2023-05-17T06:50:15.795686Z"
    }
   }
  },
  {
   "cell_type": "code",
   "execution_count": null,
   "outputs": [],
   "source": [
    "# Randomly tweak SPAN,SICER lengths for visualization purposes\n",
    "tspan = t['tool'] == 'SPAN'\n",
    "t.loc[tspan, 'length'] += np.random.normal(0, 100, size=sum(tspan))\n",
    "tsicer = t['tool'] == 'SICER'\n",
    "t.loc[tsicer, 'length'] += np.random.normal(0, 100, size=sum(tsicer))"
   ],
   "metadata": {
    "collapsed": false,
    "ExecuteTime": {
     "start_time": "2023-05-17T06:50:15.795758Z",
     "end_time": "2023-05-17T06:50:15.839500Z"
    }
   }
  },
  {
   "cell_type": "code",
   "execution_count": null,
   "outputs": [],
   "source": [
    "plt.figure(figsize=(6, 4))\n",
    "ax = plt.axes()\n",
    "g_results = sns.histplot(data=t, x='length', hue='tool', ax=ax,\n",
    "                         stat='density', common_bins=False, common_norm=False,\n",
    "                         kde=True, log_scale=True, alpha=0.2,\n",
    "                         palette=TOOLS_PALETTE)\n",
    "g_results.set(xscale='log')\n",
    "g_results.set_ylim(0, 3)\n",
    "g_results.set_xlim(1e2, 2e4)\n",
    "ax.title.set_text('H3K4me3 peaks length')\n",
    "plt.show()"
   ],
   "metadata": {
    "collapsed": false,
    "ExecuteTime": {
     "start_time": "2023-05-17T06:50:15.825737Z",
     "end_time": "2023-05-17T06:50:19.247434Z"
    }
   }
  },
  {
   "cell_type": "code",
   "execution_count": null,
   "outputs": [],
   "source": [
    "t = []\n",
    "for file, tool in tqdm(zip(df_fdr_peaks['file'], df_fdr_peaks['tool'])):\n",
    "    coverage = bedl(file).sum()\n",
    "    t.append((tool, coverage))\n",
    "t = pd.DataFrame(data=t, columns=['tool', 'coverage'])\n",
    "t.sample(10)"
   ],
   "metadata": {
    "collapsed": false,
    "ExecuteTime": {
     "start_time": "2023-05-17T06:50:19.247236Z",
     "end_time": "2023-05-17T06:50:20.629417Z"
    }
   }
  },
  {
   "cell_type": "code",
   "execution_count": null,
   "outputs": [],
   "source": [
    "plt.figure(figsize=(3, 4))\n",
    "ax = plt.axes()\n",
    "g_results = sns.barplot(data=t, x='tool', y='coverage', ax=ax,\n",
    "                        capsize=.2, errwidth=2, edgecolor=\"black\",\n",
    "                        palette=TOOLS_PALETTE,\n",
    "                        order=['MACS2', 'MACS2 broad', 'SPAN', 'SICER'])\n",
    "ax.xaxis.set_tick_params(rotation=90)\n",
    "ax.title.set_text('Peaks footprint')\n",
    "ax.set_ylabel('Basepairs')\n",
    "plt.tight_layout()\n",
    "plt.savefig(f'{GSE26320_PATH_HG38}/pics/H3K4me3_sumlength.pdf', bbox_inches='tight', dpi=300)\n",
    "plt.show()"
   ],
   "metadata": {
    "collapsed": false,
    "ExecuteTime": {
     "start_time": "2023-05-17T06:50:20.630046Z",
     "end_time": "2023-05-17T06:50:20.889166Z"
    }
   }
  },
  {
   "cell_type": "markdown",
   "source": [
    "## Consistency analysis between replicates"
   ],
   "metadata": {
    "collapsed": false
   }
  },
  {
   "cell_type": "code",
   "execution_count": null,
   "outputs": [],
   "source": [
    "import tempfile\n",
    "from itertools import product\n",
    "\n",
    "reps_overlap = pd.DataFrame(columns=['modification', 'cell', 'tool', 'rep1', 'rep2',\n",
    "                                     'peaks1', 'peaks1_len', 'peaks2', 'peaks2_len',\n",
    "                                     'peaks1_overlap', 'peaks1_overlap_len',\n",
    "                                     'peaks2_overlap', 'peaks2_overlap_len'], dtype=object)\n",
    "\n",
    "tf = tempfile.mktemp()\n",
    "\n",
    "tools = list(sorted(set(df_fdr_peaks['tool'])))\n",
    "for c, m in tqdm(product(GSE26320_CELLS, GSE26320_MODIFICATIONS)):\n",
    "    print(c, m)\n",
    "    tm = df_fdr_peaks[(df_fdr_peaks['cell'] == c) & (df_fdr_peaks['modification'] == m)]\n",
    "    reps = list(sorted(set(tm['replicate'])))\n",
    "    for tool in tools:\n",
    "        for i in range(len(reps)):\n",
    "            for j in range(i + 1, len(reps)):\n",
    "                rep1, rep2 = reps[i], reps[j]\n",
    "                t1 = tm[(tm['tool'] == tool) & (tm['replicate'] == rep1)]\n",
    "                t2 = tm[(tm['tool'] == tool) & (tm['replicate'] == rep2)]\n",
    "                file1 = sorted_file(t1['file'].values[0])\n",
    "                file2 = sorted_file(t2['file'].values[0])\n",
    "                peaks1 = t1['peaks'].values[0]\n",
    "                peaks1_len = int(bedl(file1).sum())\n",
    "                peaks2 = t2['peaks'].values[0]\n",
    "                peaks2_len = int(bedl(file2).sum())\n",
    "                !bedtools intersect -a {file1} -b {file2} -wa -u > {tf}\n",
    "                overlap1 = lines(tf)\n",
    "                !bedtools intersect -b {file1} -a {file2} -wa -u > {tf}\n",
    "                overlap2 = lines(tf)\n",
    "                !bedtools intersect -a {file1} -b {file2} -wo > {tf}\n",
    "                overlap1_len = overlap2_len = int(last_col(tf).sum())\n",
    "\n",
    "                reps_overlap.loc[len(reps_overlap)] = \\\n",
    "                    (m, c, tool, rep1, rep2, peaks1, peaks1_len, peaks2, peaks2_len,\n",
    "                     overlap1, overlap1_len, overlap2, overlap2_len)\n",
    "reps_overlap.sample(5)"
   ],
   "metadata": {
    "collapsed": false,
    "ExecuteTime": {
     "start_time": "2023-05-17T06:50:20.875136Z",
     "end_time": "2023-05-17T06:51:04.743624Z"
    }
   }
  },
  {
   "cell_type": "code",
   "execution_count": null,
   "outputs": [],
   "source": [
    "reps_overlap['jaccard'] = [\n",
    "    d(lo, l1 + l2 - lo)\n",
    "    for l1, l2, lo in zip(reps_overlap['peaks1_len'], reps_overlap['peaks2_len'], reps_overlap['peaks1_overlap_len'])\n",
    "]\n",
    "\n",
    "plt.figure(figsize=(6, 2))\n",
    "\n",
    "g_result = sns.boxplot(data=reps_overlap, y='tool', x='jaccard',\n",
    "                       palette=TOOLS_PALETTE,\n",
    "                       order=['MACS2', 'MACS2 broad', 'SPAN', 'SICER'],\n",
    "                       showfliers=False)\n",
    "ax = g_result.axes\n",
    "ax.set_title('Jaccard between H3K4me3 replicates')\n",
    "ax.set_xlabel('Jaccard')\n",
    "ax.set_ylabel('Tool')\n",
    "plt.tight_layout()\n",
    "plt.savefig(f'{GSE26320_PATH_HG38}/pics/H3K4me3_replicates.pdf', bbox_inches='tight', dpi=300)\n",
    "plt.show()"
   ],
   "metadata": {
    "collapsed": false,
    "ExecuteTime": {
     "start_time": "2023-05-17T06:51:04.746486Z",
     "end_time": "2023-05-17T06:51:05.005553Z"
    }
   }
  },
  {
   "cell_type": "code",
   "execution_count": null,
   "outputs": [],
   "source": [
    "from scipy.stats import wilcoxon\n",
    "from scipy.stats import mannwhitneyu\n",
    "\n",
    "jaccard_macs2 = reps_overlap[reps_overlap['tool'] == 'MACS2']['jaccard'].values\n",
    "jaccard_macs2broad = reps_overlap[reps_overlap['tool'] == 'MACS2 broad']['jaccard'].values\n",
    "jaccard_sicer = reps_overlap[reps_overlap['tool'] == 'SICER']['jaccard'].values\n",
    "jaccard_span = reps_overlap[reps_overlap['tool'] == 'SPAN']['jaccard'].values\n",
    "\n",
    "print(wilcoxon(jaccard_span, jaccard_macs2))\n",
    "print(wilcoxon(jaccard_span, jaccard_macs2broad))\n",
    "print(wilcoxon(jaccard_span, jaccard_sicer))\n",
    "\n",
    "print(mannwhitneyu(jaccard_span, jaccard_macs2))\n",
    "print(mannwhitneyu(jaccard_span, jaccard_macs2broad))\n",
    "print(mannwhitneyu(jaccard_span, jaccard_sicer))"
   ],
   "metadata": {
    "collapsed": false,
    "ExecuteTime": {
     "start_time": "2023-05-17T06:51:05.005334Z",
     "end_time": "2023-05-17T06:51:05.005661Z"
    }
   }
  },
  {
   "cell_type": "code",
   "execution_count": null,
   "outputs": [],
   "source": [
    "reps_overlap['peak1_overlap_fraction'] = [d(x, y) for x, y in zip(reps_overlap['peaks1_overlap'], reps_overlap['peaks1'])]\n",
    "reps_overlap['peak2_overlap_fraction'] = [d(x, y) for x, y in zip(reps_overlap['peaks2_overlap'], reps_overlap['peaks2'])]\n",
    "\n",
    "reps_overlap['peak1_overlap_fraction_len'] = [\n",
    "    d(x, y) for x, y in zip(reps_overlap['peaks1_overlap_len'], reps_overlap['peaks1_len'])\n",
    "]\n",
    "reps_overlap['peak2_overlap_fraction_len'] = [\n",
    "    d(x, y) for x, y in zip(reps_overlap['peaks2_overlap_len'], reps_overlap['peaks2_len'])\n",
    "]\n",
    "reps_overlap.sample(5)"
   ],
   "metadata": {
    "collapsed": false,
    "ExecuteTime": {
     "start_time": "2023-05-17T06:51:05.005366Z",
     "end_time": "2023-05-17T06:51:05.028798Z"
    }
   }
  },
  {
   "cell_type": "code",
   "execution_count": null,
   "outputs": [],
   "source": [
    "t = pd.concat([\n",
    "    reps_overlap[\n",
    "        ['modification', 'cell', 'tool', 'peak1_overlap_fraction', 'peak1_overlap_fraction_len']\n",
    "    ].copy().rename(dict(peak1_overlap_fraction='overlap', peak1_overlap_fraction_len='overlap_len'), axis=1),\n",
    "    reps_overlap[\n",
    "        ['modification', 'cell', 'tool', 'peak2_overlap_fraction', 'peak2_overlap_fraction_len']\n",
    "    ].copy().rename(dict(peak2_overlap_fraction='overlap', peak2_overlap_fraction_len='overlap_len'), axis=1)\n",
    "]).reset_index(drop=True)\n",
    "# t"
   ],
   "metadata": {
    "collapsed": false,
    "ExecuteTime": {
     "start_time": "2023-05-17T06:51:05.032278Z",
     "end_time": "2023-05-17T06:51:05.050545Z"
    }
   }
  },
  {
   "cell_type": "code",
   "execution_count": null,
   "outputs": [],
   "source": [
    "plt.figure(figsize=(6, 4))\n",
    "axs = [plt.subplot(2, 1, i + 1) for i in range(2)]\n",
    "\n",
    "g_result = sns.boxplot(data=t, y='tool', x='overlap', ax=axs[0],\n",
    "                       palette=TOOLS_PALETTE,\n",
    "                       order=['MACS2', 'MACS2 broad', 'SPAN', 'SICER'],\n",
    "                       showfliers=False)\n",
    "ax = g_result.axes\n",
    "ax.set_title('Overlap between H3K4me3 replicates (peaks)')\n",
    "ax.set_xlabel('Fraction')\n",
    "ax.set_ylabel('Tool')\n",
    "\n",
    "g_result = sns.boxplot(data=t, y='tool', x='overlap_len', ax=axs[1],\n",
    "                       palette=TOOLS_PALETTE,\n",
    "                       order=['MACS2', 'MACS2 broad', 'SPAN', 'SICER'],\n",
    "                       showfliers=False)\n",
    "ax = g_result.axes\n",
    "ax.set_title('Overlap between H3K4me3 replicates (length)')\n",
    "ax.set_xlabel('Fraction')\n",
    "ax.set_ylabel('Tool')\n",
    "\n",
    "plt.tight_layout()\n",
    "plt.show()"
   ],
   "metadata": {
    "collapsed": false,
    "ExecuteTime": {
     "start_time": "2023-05-17T06:51:05.032304Z",
     "end_time": "2023-05-17T06:51:05.374746Z"
    }
   }
  },
  {
   "cell_type": "markdown",
   "source": [
    "# H3K4me3 vs RNA-seq\n",
    "\n",
    "Benchmark according to the paper https://doi.org/10.1093/bib/bbw035\n",
    "Features that define the best ChIP-seq peak calling algorithms\n",
    "\n",
    "We considered a peak as positive if it overlaps the promoter of an expressed gene (RPKM > 0.5).\n",
    "The top 15 000 peak calls from the different methods are ranked by their significance or by their fold enrichment for the thresholding method. We plotted the correct peak fraction (fraction of the top 1000xn peaks that overlap with active promoters) detected as a function of the correct promoter fraction (fraction of the active promoters that overlap with the top 1000xn peaks)."
   ],
   "metadata": {
    "collapsed": false
   }
  },
  {
   "cell_type": "markdown",
   "source": [
    "## Load hg38 gtf"
   ],
   "metadata": {
    "collapsed": false
   }
  },
  {
   "cell_type": "code",
   "execution_count": null,
   "outputs": [],
   "source": [
    "gtf_df = pd.read_csv(os.path.expanduser(\n",
    "    '~/data/2023_Immune/gencode.GRCh38.p13.v41.annotation.gtf'),\n",
    "    sep='\\t', comment='#',\n",
    "    names=['chromosome', 'db', 'type', 'start', 'end', 'point1', 'strand', 'point2', 'aux'])\n",
    "gtf_df.sample(10)"
   ],
   "metadata": {
    "collapsed": false,
    "ExecuteTime": {
     "start_time": "2023-05-17T06:51:05.379557Z",
     "end_time": "2023-05-17T06:51:15.718273Z"
    }
   }
  },
  {
   "cell_type": "code",
   "execution_count": null,
   "outputs": [],
   "source": [
    "import re\n",
    "\n",
    "print('Parse GTF aux data')\n",
    "auxes = {}\n",
    "for i, aux in enumerate(tqdm(gtf_df['aux'])):\n",
    "    for pair in aux.split(';'):\n",
    "        kv = pair.strip().split(' ')\n",
    "        if len(kv) != 2:\n",
    "            continue\n",
    "        k, v = kv\n",
    "        if k not in auxes:\n",
    "            auxes[k] = vs = []\n",
    "        else:\n",
    "            vs = auxes[k]\n",
    "        vs.append(v.strip('\"'))\n",
    "\n",
    "for k, vs in auxes.items():\n",
    "    if len(vs) == len(gtf_df):\n",
    "        gtf_df[k] = vs\n",
    "    else:\n",
    "        print(f'Ignoring {k}')\n",
    "del auxes\n",
    "gtf_df.drop('aux', axis=1, inplace=True)\n",
    "\n",
    "# Fix . in gene_id\n",
    "gtf_df['gene_id'] = [re.sub('\\..*', '', id) for id in gtf_df['gene_id']]"
   ],
   "metadata": {
    "collapsed": false,
    "ExecuteTime": {
     "start_time": "2023-05-17T06:51:15.713112Z",
     "end_time": "2023-05-17T06:51:51.322838Z"
    }
   }
  },
  {
   "cell_type": "code",
   "execution_count": null,
   "outputs": [],
   "source": [
    "print(f'Total hg38 records {len(gtf_df)}')\n",
    "print(f'Total hg38 genes {sum(gtf_df[\"type\"] == \"gene\")}')\n",
    "print(f'Total hg38 protein_coding genes {sum((gtf_df[\"type\"] == \"gene\") & (gtf_df[\"gene_type\"] == \"protein_coding\"))}')\n",
    "\n",
    "gtf_genes_df = gtf_df[gtf_df['type'] == 'gene']\n",
    "gtf_genes_df.sample(5)"
   ],
   "metadata": {
    "collapsed": false,
    "ExecuteTime": {
     "start_time": "2023-05-17T06:51:51.966448Z",
     "end_time": "2023-05-17T06:51:53.110259Z"
    }
   }
  },
  {
   "cell_type": "markdown",
   "source": [
    "## Annotate quanitified RNA-seq with TSS positions"
   ],
   "metadata": {
    "collapsed": false
   }
  },
  {
   "cell_type": "code",
   "execution_count": null,
   "outputs": [],
   "source": [
    "def merge_genes(full_df):\n",
    "    print('Merging overlapping regions', len(full_df))\n",
    "    ts = []\n",
    "    for chr in full_df['chromosome'].unique():\n",
    "        t = full_df[full_df['chromosome'] == chr].sort_values(by=['start', 'end']).copy()\n",
    "        cols = t.columns.difference(['start', 'end'])\n",
    "        grps = t['start'].sub(t['end'].shift()).gt(1).cumsum()\n",
    "        gpby = t.groupby(grps)\n",
    "        t = gpby.agg(dict(start='min', end='max')).join(gpby[cols].mean())\n",
    "        t['chromosome'] = chr\n",
    "        t['gene_id'] = 'merged'\n",
    "        t['strand'] = '.'\n",
    "        t = t[['chromosome', 'start', 'end', 'gene_id', 'strand', 'TPM', 'LTPM']]\n",
    "        ts.append(t)\n",
    "    ts = pd.concat(ts).reset_index(drop=True)\n",
    "    print('Reduced to', len(ts))\n",
    "    return ts"
   ],
   "metadata": {
    "collapsed": false,
    "ExecuteTime": {
     "start_time": "2023-05-17T06:51:53.106292Z",
     "end_time": "2023-05-17T06:51:53.110500Z"
    }
   }
  },
  {
   "cell_type": "code",
   "execution_count": null,
   "outputs": [],
   "source": [
    "import re\n",
    "\n",
    "GSE26320_RNASEQ_PATH = os.path.expanduser('~/data/2023_GSE26320_rnaseq')\n",
    "\n",
    "EXPRESSION_TSV = {\n",
    "    ('GM12878', 'rep1') : 'GM12878_rep1_RNAseq_hg38_ENCFF723ICA.tsv',\n",
    "    ('GM12878', 'rep2'): 'GM12878_rep2_RNAseq_hg38_ENCFF418FIT.tsv',\n",
    "    ('H1', 'rep1') : 'H1_rep1_RNAseq_hg38_ENCFF093NEQ.tsv',\n",
    "    ('H1', 'rep2') : 'H1_rep1_RNAseq_hg38_ENCFF093NEQ.tsv',\n",
    "    ('HMEC', 'rep1') : 'HMEC_rep1_RNAseq_hg38_ENCFF292FVY.tsv',\n",
    "    ('HMEC', 'rep2') : 'HMEC_rep2_RNAseq_hg38_ENCFF219EZH.tsv',\n",
    "    ('HSMM', 'rep1') : 'HSMM_rep1_RNAseq_hg38_ENCFF551YKI.tsv',\n",
    "    ('HSMM', 'rep2') : 'HSMM_rep2_RNAseq_hg38_ENCFF497BUG.tsv',\n",
    "    ('HepG2', 'rep1') : 'HepG2_rep1_RNAseq_hg38_ENCFF773JNC.tsv',\n",
    "    ('HepG2', 'rep2') : 'HepG2_rep2_RNAseq_hg38_ENCFF570ZOT.tsv',\n",
    "    ('Huvec', 'rep1') : 'Huvec_rep1_RNAseq_hg38_ENCFF454MTF.tsv',\n",
    "    ('Huvec', 'rep2') : 'Huvec_rep2_RNAseq_hg38_ENCFF134FYP.tsv',\n",
    "    ('K562', 'rep1') : 'K562_rep1_RNAseq_hg38_ENCFF139IXQ.tsv',\n",
    "    ('K562', 'rep2') : 'K562_rep2_RNAseq_hg38_ENCFF088RDE.tsv',\n",
    "    ('NHEK', 'rep1') : 'NHEK_rep1_RNAseq_hg38_ENCFF004JWA.tsv',\n",
    "    ('NHEK', 'rep2') : 'NHEK_rep1_RNAseq_hg38_ENCFF004JWA.tsv',\n",
    "    ('NHLF', 'rep1') : 'NHLF_rep1_RNAseq_hg38_ENCFF577DEC.tsv',\n",
    "    ('NHLF', 'rep2') : 'NHLF_rep2_RNAseq_hg38_ENCFF412KNK.tsv'\n",
    "}\n",
    "\n",
    "EXPRESSION_TSS_BED = {}\n",
    "TSS = 500\n",
    "THRESHOLD = 0.1\n",
    "\n",
    "for (cell, rep), path in tqdm(EXPRESSION_TSV.items()):\n",
    "    print(cell, rep, path)\n",
    "    t = pd.read_csv(GSE26320_RNASEQ_PATH + '/' + path, sep='\\t')\n",
    "    # Fix . in gene_id\n",
    "    t['gene_id'] = [re.sub('\\..*', '', id) for id in t['gene_id']]\n",
    "    t['LTPM'] = np.log1p(t['TPM'])\n",
    "\n",
    "    # Plot expression\n",
    "    plt.figure(figsize=(10, 1))\n",
    "    ax = plt.axes()\n",
    "    g_results = sns.histplot(data=t, x='LTPM', ax=ax,\n",
    "                             stat = 'density',\n",
    "                             bins = 500, kde = True, alpha = 0.4)\n",
    "    ax.axvline(x=THRESHOLD, color='green')\n",
    "    ax.title.set_text(f'{cell} {rep} expression')\n",
    "    plt.show()\n",
    "\n",
    "    # Save expressed genes\n",
    "    full_df = pd.merge(left=t, right=gtf_genes_df, left_on='gene_id', right_on='gene_id')\n",
    "    print(f'Total genes with positions {len(full_df)}')\n",
    "    full_df = full_df[full_df['LTPM'] > THRESHOLD]\n",
    "    print(f'Genes logTPM > {THRESHOLD} {len(full_df)}')\n",
    "\n",
    "    starts = [\n",
    "        max(1, start - TSS if strand == '+' else end - TSS)\n",
    "        for start, end, strand in zip(full_df['start'], full_df['end'], full_df['strand'])\n",
    "    ]\n",
    "    ends = [\n",
    "        start + TSS if strand == '+' else end + TSS\n",
    "        for start, end, strand in zip(full_df['start'], full_df['end'], full_df['strand'])\n",
    "    ]\n",
    "    full_df['start'] = starts\n",
    "    full_df['end'] = ends\n",
    "    full_df = full_df[['chromosome', 'start', 'end', 'gene_id', 'strand', 'TPM', 'LTPM']]\n",
    "    full_df.sort_values(by=['chromosome', 'start'], inplace=True)\n",
    "    full_df = merge_genes(full_df)\n",
    "    # Plot expressed genes lengths\n",
    "    # plt.figure(figsize=(4, 2))\n",
    "    # ax = plt.axes()\n",
    "    # g_results = sns.histplot(x=full_df['end']-full_df['start'], ax=ax,\n",
    "    #                          stat='density',\n",
    "    #                          bins=100, log_scale=True, kde=True, alpha=0.4)\n",
    "    # g_results.set(xscale='log')\n",
    "    # ax.title.set_text(f'{cell} genes lengths')\n",
    "    # plt.show()\n",
    "\n",
    "    expr_path = GSE26320_RNASEQ_PATH + '/' + path.replace('.tsv', f'_tpm{THRESHOLD}_tss{TSS}.bed')\n",
    "    full_df.to_csv(expr_path, sep='\\t', index=False, header=None)\n",
    "    print(f'Saved expressed genes fom {cell} to {expr_path}')\n",
    "    EXPRESSION_TSS_BED[(cell, rep)] = expr_path\n"
   ],
   "metadata": {
    "collapsed": false,
    "ExecuteTime": {
     "start_time": "2023-05-17T06:51:53.114813Z",
     "end_time": "2023-05-17T06:52:15.210840Z"
    }
   }
  },
  {
   "cell_type": "markdown",
   "source": [
    "## Overlap H3K4me3 vs TSS expressed genes"
   ],
   "metadata": {
    "collapsed": false
   }
  },
  {
   "cell_type": "code",
   "execution_count": null,
   "outputs": [],
   "source": [
    "import tempfile\n",
    "from itertools import product\n",
    "\n",
    "tf = tempfile.mktemp()\n",
    "\n",
    "bench_df = pd.DataFrame(\n",
    "    columns=['cell', 'replicate', 'name',\n",
    "             'peaks', 'peaks_len', 'tss', 'tss_len',\n",
    "             'peaks_overlap', 'peaks_overlap_len', 'tss_overlap', 'tss_overlap_len'],\n",
    "    dtype=object\n",
    ")\n",
    "\n",
    "for c, r in tqdm(product(GSE26320_CELLS, GSE26320_REPS)):\n",
    "    print(c, r)\n",
    "    if (c, r) not in EXPRESSION_TSS_BED:\n",
    "        continue\n",
    "    tss_file = sorted_file(EXPRESSION_TSS_BED[c, r])\n",
    "    tss = lines(tss_file)\n",
    "    tss_length = int(bedl(tss_file).sum())\n",
    "    for tool in set(df_fdr_peaks['tool']):\n",
    "        t = df_fdr_peaks[(df_fdr_peaks['tool'] == tool) & (df_fdr_peaks['modification'] == 'H3K4me3') &\n",
    "                         (df_fdr_peaks['cell'] == c) & (df_fdr_peaks['replicate'] == r)]\n",
    "        if len(t) == 0:\n",
    "            continue\n",
    "        peaks_file = sorted_file(t['file'].values[0])\n",
    "        peaks = lines(peaks_file)\n",
    "        peaks_len = int(bedl(peaks_file).sum())\n",
    "        !bedtools intersect -a {peaks_file} -b {tss_file} -wa -u > {tf}\n",
    "        peaks_overlap = lines(tf)\n",
    "        !bedtools intersect -b {peaks_file} -a {tss_file} -wa -u > {tf}\n",
    "        tss_overlap = lines(tf)\n",
    "        !bedtools intersect -a {peaks_file} -b {tss_file} -wo > {tf}\n",
    "        peaks_overlap_len = tss_overlap_len = int(last_col(tf).sum())\n",
    "\n",
    "        bench_df.loc[len(bench_df)] = (c, r, tool, peaks, peaks_len, tss, tss_length,\n",
    "                                       peaks_overlap, peaks_overlap_len, tss_overlap, tss_overlap_len)\n",
    "# bench_df"
   ],
   "metadata": {
    "collapsed": false,
    "ExecuteTime": {
     "start_time": "2023-05-17T06:52:15.222188Z",
     "end_time": "2023-05-17T06:53:39.762211Z"
    }
   }
  },
  {
   "cell_type": "code",
   "execution_count": null,
   "outputs": [],
   "source": [
    "bench_df['precision'] = [d(a, b) for a, b in zip(bench_df['peaks_overlap'], bench_df['peaks'])]\n",
    "bench_df['sensitivity'] = [d(a, b) for a, b in zip(bench_df['tss_overlap'], bench_df['tss'])]\n",
    "bench_df['f1'] = [d(2, d(1, s + 1e-10) + d(1, p + 1e-10))\n",
    "                  for s, p in zip(bench_df['sensitivity'], bench_df['precision'])]\n",
    "\n",
    "bench_df['sensitivity_len'] = [d(a, b) for a, b in zip(bench_df['tss_overlap_len'], bench_df['tss_len'])]\n",
    "bench_df['precision_len'] = [d(a, b) for a, b in zip(bench_df['peaks_overlap_len'], bench_df['peaks_len'])]\n",
    "bench_df['f1_len'] = [d(2, d(1, s + 1e-10) + d(1, p + 1e-10))\n",
    "                      for s, p in zip(bench_df['sensitivity_len'], bench_df['precision_len'])]\n",
    "\n",
    "bench_df['jaccard'] = [\n",
    "    d(o, p + g -o)\n",
    "    for p, g, o in zip(bench_df['peaks_len'], bench_df['tss_len'], bench_df['tss_overlap_len'])\n",
    "]"
   ],
   "metadata": {
    "collapsed": false,
    "ExecuteTime": {
     "start_time": "2023-05-17T06:53:39.760682Z",
     "end_time": "2023-05-17T06:53:39.770134Z"
    }
   }
  },
  {
   "cell_type": "code",
   "execution_count": null,
   "outputs": [],
   "source": [
    "import seaborn as sns\n",
    "\n",
    "plt.figure(figsize=(8, 3))\n",
    "axs = [plt.subplot(1, 2, i + 1) for i in range(2)]\n",
    "\n",
    "ax = axs[0]\n",
    "g_results = sns.scatterplot(data=bench_df, x='precision', y='sensitivity', hue='name',\n",
    "                            palette=TOOLS_PALETTE,\n",
    "                            # order=['MACS2', 'MACS2 broad', 'SPAN', 'SICER'],\n",
    "                            ax=ax)\n",
    "g_results.axes.set_xlabel('Peaks vs TSS expressed genes (peaks)')\n",
    "g_results.axes.set_ylabel('TSS expressed genes vs peaks (peaks)')\n",
    "g_results.axes.set_xlim([-0.1, 1.1])\n",
    "g_results.axes.set_ylim([-0.1, 1.1])\n",
    "ax.legend().set_visible(False)\n",
    "\n",
    "ax = axs[1]\n",
    "g_results = sns.scatterplot(data=bench_df, x='precision_len', y='sensitivity_len', hue='name',\n",
    "                            palette=TOOLS_PALETTE,\n",
    "                            order=['MACS2', 'MACS2 broad', 'SPAN', 'SICER'],\n",
    "                            ax=ax)\n",
    "g_results.axes.set_xlabel('Peaks vs TSS expressed genes (length)')\n",
    "g_results.axes.set_ylabel('TSS expressed genes vs peaks (length)')\n",
    "g_results.axes.set_xlim([-0.1, 1.1])\n",
    "g_results.axes.set_ylim([-0.1, 1.1])\n",
    "# Put a legend to the right of the current axis\n",
    "g_results.axes.legend(loc='center left', bbox_to_anchor=(1, 0.5))\n",
    "\n",
    "plt.tight_layout()\n",
    "plt.show()"
   ],
   "metadata": {
    "collapsed": false
   }
  },
  {
   "cell_type": "code",
   "execution_count": null,
   "outputs": [],
   "source": [
    "ts = []\n",
    "for name in bench_df['name'].unique():\n",
    "    tn = bench_df[bench_df['name'] == name]\n",
    "    for variable in ['sensitivity', 'precision', 'f1']:\n",
    "        ts.append(pd.DataFrame(dict(name=[name] * len(tn), type=[variable] * len(tn),\n",
    "                                    benchmark=['peak'] * len(tn),\n",
    "                                    value=tn[variable])))\n",
    "        ts.append(pd.DataFrame(dict(name=[name] * len(tn), type=[variable] * len(tn),\n",
    "                                    benchmark=['length'] * len(tn),\n",
    "                                    value=tn[f'{variable}_len'])))\n",
    "\n",
    "t = pd.concat(ts).reset_index(drop=True)\n",
    "t.sort_values(by=['name'], inplace=True)\n",
    "del ts"
   ],
   "metadata": {
    "collapsed": false,
    "ExecuteTime": {
     "start_time": "2023-05-17T06:55:21.484725Z",
     "end_time": "2023-05-17T06:55:21.511336Z"
    }
   }
  },
  {
   "cell_type": "code",
   "execution_count": null,
   "outputs": [],
   "source": [
    "plt.figure(figsize=(8, 3))\n",
    "axs = [plt.subplot(1, 2, i + 1) for i in range(2)]\n",
    "for i, benchmark in enumerate(['peak', 'length']):\n",
    "    g_results = sns.boxplot(data=t[t['benchmark'] == benchmark], x='type', y='value', hue='name',\n",
    "                            palette=TOOLS_PALETTE,\n",
    "                            order=['MACS2', 'MACS2 broad', 'SPAN', 'SICER'],\n",
    "                            ax=axs[i])\n",
    "    ax = g_results.axes\n",
    "    ax.set_title(f'Peaks vs TSS expressed genes ({benchmark})')\n",
    "    # Put a legend to the right of the current axis\n",
    "    if i == 1:\n",
    "        ax.legend(loc='center left', bbox_to_anchor=(1, 0.5))\n",
    "    else:\n",
    "        ax.legend().set_visible(False)\n",
    "    ax.set_ylim([-0.1, 1.1])\n",
    "\n",
    "plt.tight_layout()\n",
    "plt.show()"
   ],
   "metadata": {
    "collapsed": false,
    "ExecuteTime": {
     "start_time": "2023-05-17T06:55:21.698908Z",
     "end_time": "2023-05-17T06:55:21.924727Z"
    }
   }
  },
  {
   "cell_type": "markdown",
   "source": [
    "## Overlap H3K4me3 diff vs TSS expressed genes"
   ],
   "metadata": {
    "collapsed": false
   }
  },
  {
   "cell_type": "code",
   "execution_count": null,
   "outputs": [],
   "source": [
    "TOOLS = list(sorted(set(bench_df['name'])))\n",
    "\n",
    "diff_bench_df = pd.DataFrame(\n",
    "    columns=['cell', 'replicate', 'name',\n",
    "             'peaks', 'peaks_len',\n",
    "             'tss', 'tss_len',\n",
    "             'peaks_overlap', 'peaks_overlap_len',\n",
    "             'tss_overlap', 'tss_overlap_len'],\n",
    "    dtype=object\n",
    ")\n",
    "\n",
    "tf = tempfile.mktemp()\n",
    "tf2 = tempfile.mktemp()\n",
    "\n",
    "for c, r in tqdm(product(GSE26320_CELLS, GSE26320_REPS)):\n",
    "    if (c, r) not in EXPRESSION_TSS_BED:\n",
    "        continue\n",
    "    print(c, r)\n",
    "    tss_file = sorted_file(EXPRESSION_TSS_BED[(c, r)])\n",
    "    t = df_fdr_peaks[(df_fdr_peaks['tool'] == 'SPAN') & (df_fdr_peaks['modification'] == 'H3K4me3') &\n",
    "                     (df_fdr_peaks['cell'] == c) & (df_fdr_peaks['replicate'] == r)]\n",
    "    if len(t) == 0:\n",
    "        continue\n",
    "    span_file = sorted_file(t['file'].values[0])\n",
    "    tss = lines(tss_file)\n",
    "    tss_len = int(bedl(tss_file).sum())\n",
    "    # Processing single tools information\n",
    "    for tool in TOOLS:\n",
    "        if tool == 'SPAN':\n",
    "            continue\n",
    "        t = df_fdr_peaks[(df_fdr_peaks['tool'] == tool) & (df_fdr_peaks['modification'] == 'H3K4me3') &\n",
    "                         (df_fdr_peaks['cell'] == c) & (df_fdr_peaks['replicate'] == r)]\n",
    "        if len(t) == 0:\n",
    "            continue\n",
    "        peaks_file = sorted_file(t['file'].values[0])\n",
    "        for name, args in [\n",
    "            (f'SPAN - {tool}', f' -a {span_file} -b {peaks_file} '),\n",
    "            (f'{tool} - SPAN', f' -b {span_file} -a {peaks_file} ')\n",
    "        ]:\n",
    "            !bedtools intersect {args} -wa -v > {tf}\n",
    "            peaks = lines(tf)\n",
    "            peaks_len = int(bedl(tf).sum())\n",
    "            !bedtools intersect -a {tf} -b {tss_file} -wa -u > {tf2}\n",
    "            peaks_overlap = lines(tf2)\n",
    "            !bedtools intersect -b {tf} -a {tss_file} -wa -u > {tf2}\n",
    "            tss_overlap = lines(tf2)\n",
    "            !bedtools intersect -a {tf} -b {tss_file} -wo > {tf2}\n",
    "            peaks_overlap_len = tss_overlap_len = int(last_col(tf2).sum())\n",
    "\n",
    "            diff_bench_df.loc[len(diff_bench_df)] = \\\n",
    "                (c, r, name,\n",
    "                 peaks, peaks_len,\n",
    "                 tss, tss_len,\n",
    "                 peaks_overlap, peaks_overlap_len,\n",
    "                 tss_overlap, tss_overlap_len)\n",
    "\n",
    "display(diff_bench_df.sample())"
   ],
   "metadata": {
    "collapsed": false,
    "ExecuteTime": {
     "start_time": "2023-05-17T06:55:22.439834Z",
     "end_time": "2023-05-17T06:57:24.153355Z"
    }
   }
  },
  {
   "cell_type": "code",
   "execution_count": null,
   "outputs": [],
   "source": [
    "diff_bench_df['precision'] = [d(a, b) for a, b in zip(diff_bench_df['peaks_overlap'], diff_bench_df['peaks'])]\n",
    "diff_bench_df['sensitivity'] = [d(a, b) for a, b in zip(diff_bench_df['tss_overlap'], diff_bench_df['tss'])]\n",
    "diff_bench_df['f1'] = [d(2, d(1, s + 1e-10) + d(1, p + 1e-10))\n",
    "                       for s, p in zip(diff_bench_df['sensitivity'], diff_bench_df['precision'])]\n",
    "\n",
    "diff_bench_df['precision_len'] = [d(a, b) for a, b in zip(diff_bench_df['peaks_overlap_len'], diff_bench_df['peaks_len'])]\n",
    "diff_bench_df['sensitivity_len'] = [d(a, b) for a, b in zip(diff_bench_df['tss_overlap_len'], diff_bench_df['tss_len'])]\n",
    "diff_bench_df['f1_len'] = [d(2, d(1, s + 1e-10) + d(1, p + 1e-10))\n",
    "                           for s, p in zip(diff_bench_df['sensitivity_len'], diff_bench_df['precision_len'])]\n",
    "\n",
    "diff_bench_df['jaccard'] = [\n",
    "    d(o, p + g -o)\n",
    "    for p, g, o in zip(diff_bench_df['peaks_len'], diff_bench_df['tss_len'], diff_bench_df['tss_overlap_len'])\n",
    "]"
   ],
   "metadata": {
    "collapsed": false,
    "ExecuteTime": {
     "start_time": "2023-05-17T06:57:24.151229Z",
     "end_time": "2023-05-17T06:57:24.153548Z"
    }
   }
  },
  {
   "cell_type": "code",
   "execution_count": null,
   "outputs": [],
   "source": [
    "full_bench_df = pd.concat([bench_df,diff_bench_df]).reset_index(drop=True)\n",
    "full_bench_df.sample(5)"
   ],
   "metadata": {
    "collapsed": false,
    "ExecuteTime": {
     "start_time": "2023-05-17T06:57:24.151608Z",
     "end_time": "2023-05-17T06:57:24.170833Z"
    }
   }
  },
  {
   "cell_type": "code",
   "execution_count": null,
   "outputs": [],
   "source": [
    "plt.figure(figsize=(4, 4))\n",
    "ax = plt.axes()\n",
    "ax.title.set_text('Peaks number')\n",
    "g_results = sns.barplot(data=full_bench_df, x='name', y='peaks',\n",
    "                        ax=ax,\n",
    "                        capsize=.2, errwidth=2,\n",
    "                        order=['MACS2', 'MACS2 broad', 'SPAN', 'SICER',\n",
    "                               'SPAN - MACS2', 'SPAN - MACS2 broad', 'SPAN - SICER',\n",
    "                               'MACS2 - SPAN', 'MACS2 broad - SPAN', 'SICER - SPAN',\n",
    "                               ]\n",
    "                        )\n",
    "ax.xaxis.set_tick_params(rotation=90)\n",
    "ax.set_ylabel('Peaks number')\n",
    "plt.tight_layout()\n",
    "plt.savefig(f'{GSE26320_PATH_HG38}/pics/H3K4me3_peaks.pdf', bbox_inches='tight', dpi=300)\n",
    "plt.show()"
   ],
   "metadata": {
    "collapsed": false,
    "ExecuteTime": {
     "start_time": "2023-05-17T06:57:24.170138Z",
     "end_time": "2023-05-17T06:57:24.692987Z"
    }
   }
  },
  {
   "cell_type": "code",
   "execution_count": null,
   "outputs": [],
   "source": [
    "plt.figure(figsize=(4, 5))\n",
    "ax = plt.axes()\n",
    "ax.title.set_text('Jaccard vs TSS expressed genes')\n",
    "g_results = sns.barplot(data=full_bench_df, x='name', y='jaccard',\n",
    "                        ax=ax,\n",
    "                        capsize=.2, errwidth=2,\n",
    "                        order=['MACS2', 'MACS2 broad', 'SPAN', 'SICER']\n",
    "                        )\n",
    "ax.xaxis.set_tick_params(rotation=90)\n",
    "ax.set_ylabel('Jaccard')\n",
    "plt.tight_layout()\n",
    "plt.show()"
   ],
   "metadata": {
    "collapsed": false,
    "ExecuteTime": {
     "start_time": "2023-05-17T06:57:24.675107Z",
     "end_time": "2023-05-17T06:57:24.749186Z"
    }
   }
  },
  {
   "cell_type": "code",
   "execution_count": null,
   "outputs": [],
   "source": [
    "ts = []\n",
    "for name in full_bench_df['name'].unique():\n",
    "    tn = full_bench_df[full_bench_df['name'] == name]\n",
    "    for variable in ['sensitivity', 'precision', 'f1']:\n",
    "        ts.append(pd.DataFrame(dict(name=[name] * len(tn), type=[variable] * len(tn),\n",
    "                                    benchmark=['peak'] * len(tn),\n",
    "                                    value=tn[variable])))\n",
    "        ts.append(pd.DataFrame(dict(name=[name] * len(tn), type=[variable] * len(tn),\n",
    "                                    benchmark=['length'] * len(tn),\n",
    "                                    value=tn[f'{variable}_len'])))\n",
    "t = pd.concat(ts).reset_index(drop=True)\n",
    "del ts"
   ],
   "metadata": {
    "collapsed": false,
    "ExecuteTime": {
     "start_time": "2023-05-17T06:57:24.749010Z",
     "end_time": "2023-05-17T06:57:24.750820Z"
    }
   }
  },
  {
   "cell_type": "code",
   "execution_count": null,
   "outputs": [],
   "source": [
    "plt.figure(figsize=(12, 8))\n",
    "axs = [plt.subplot(2, 3, i + 1) for i in range(6)]\n",
    "for i, (benchmark, type) in enumerate(product(['peak', 'length'], ['precision', 'sensitivity', 'f1'])):\n",
    "    ax = axs[i]\n",
    "    if type == 'precision':\n",
    "        ax.title.set_text(f'Peaks in TSS expressed genes ({benchmark})')\n",
    "    elif type == 'sensitivity':\n",
    "        ax.title.set_text(f'TSS expressed genes in peaks ({benchmark})')\n",
    "    else:\n",
    "        ax.title.set_text(f'F1 precision and sensitivity ({benchmark})')\n",
    "    sns.barplot(data=t[(t['benchmark'] == benchmark) & (t['type'] == type)], x='name', y='value',\n",
    "                capsize=.2, errwidth=2, ax=ax,\n",
    "                order=['MACS2', 'MACS2 broad', 'SPAN', 'SICER',\n",
    "                       'SPAN - MACS2', 'SPAN - MACS2 broad', 'SPAN - SICER',\n",
    "                       'MACS2 - SPAN', 'MACS2 broad - SPAN', 'SICER - SPAN',\n",
    "                       ])\n",
    "    ax.xaxis.set_tick_params(rotation=90)\n",
    "    ax.set_ylabel('Fraction')\n",
    "plt.tight_layout()\n",
    "plt.show()"
   ],
   "metadata": {
    "collapsed": false,
    "ExecuteTime": {
     "start_time": "2023-05-17T06:57:24.749401Z",
     "end_time": "2023-05-17T06:57:26.681228Z"
    }
   }
  },
  {
   "cell_type": "markdown",
   "source": [
    "# Venn diagram"
   ],
   "metadata": {
    "collapsed": false
   }
  },
  {
   "cell_type": "code",
   "execution_count": null,
   "outputs": [],
   "source": [
    "from matplotlib_venn import venn2, venn3\n",
    "\n",
    "\n",
    "def num_format(x, engineer):\n",
    "    if x <= 0:\n",
    "        return ''\n",
    "    elif engineer:\n",
    "        return f'{x:.0e}'\n",
    "    else:\n",
    "        return str(x)\n",
    "\n",
    "num_format(1.3e10, True)\n",
    "\n",
    "VENN2_SUBSETS = ['1', '2', '1,2']\n",
    "VENN2_LABELS = ['10', '01', '11']\n",
    "\n",
    "def venn2_overlap(ax, peaks1, peaks2, overlap12, overlap21, name1, name2,\n",
    "                  show_numbers=True, engineer=False, add_proportion=False,\n",
    "                  set_font=15, subset_font=10):\n",
    "    max_peaks = max(peaks1, peaks2)\n",
    "    max_overlap = max(overlap12, overlap21)\n",
    "    # Tweak subsets to avoid empty areas\n",
    "    if show_numbers:\n",
    "        subsets = (\n",
    "            max(0.1 * max_peaks, min(0.9 * max_peaks, peaks1 - overlap12)) if peaks1 > overlap12 else 0,\n",
    "            max(0.1 * max_peaks, min(0.9 * max_peaks, peaks2 - overlap21)) if peaks2 > overlap21 else 0,\n",
    "            max(0.1 * max_peaks, min(0.9 * max_peaks, max_overlap))\n",
    "        )\n",
    "    else:\n",
    "        subsets = (peaks1 - overlap12, peaks2 - overlap21, max_overlap)\n",
    "    v = venn2(subsets=subsets, set_labels=(name1, name2), alpha=0.3, ax=ax)\n",
    "    # venn2_circles(subsets=subsets, color='grey', ax=ax)\n",
    "\n",
    "    if show_numbers:\n",
    "        v.get_label_by_id('10').set_text(num_format(peaks1 - overlap12, engineer))\n",
    "        v.get_label_by_id('01').set_text(num_format(peaks2 - overlap21, engineer))\n",
    "        if add_proportion:\n",
    "            if overlap12 != 0 and overlap21 != 0:\n",
    "                if overlap12 > overlap21:\n",
    "                    prop = f'{overlap12 / overlap21:.1f} : 1'\n",
    "                else:\n",
    "                    prop = f'1 : {overlap21 / overlap12:.1f}'\n",
    "                prop = prop.replace('.0', '')  # Cosmetics\n",
    "            else:\n",
    "                prop = ''\n",
    "            v.get_label_by_id('11').set_text(f'{overlap12} : {overlap21}\\n{prop}')\n",
    "        else:\n",
    "            v.get_label_by_id('11').set_text(num_format(max_overlap, engineer))\n",
    "    for text in v.set_labels:\n",
    "        if text is not None:\n",
    "            text.set_fontsize(set_font)\n",
    "    for text in v.subset_labels:\n",
    "        if text is not None:\n",
    "            text.set_fontsize(subset_font)\n",
    "    if not show_numbers:\n",
    "        for l in VENN2_LABELS:\n",
    "            label = v.get_label_by_id(l)\n",
    "            if label is not None:\n",
    "                label.set_text('')\n",
    "\n",
    "VENN3_SUBSETS = ['1', '2', '1,2', '3', '1,3', '2,3', '1,2,3']\n",
    "VENN3_LABELS = ['100', '010', '110', '001', '101', '011', '111']\n",
    "\n",
    "def venn3_overlap(ax, v1, v2, v12, v3, v13, v23, v123, name1, name2, name3,\n",
    "                  show_numbers=True, engineer=False,\n",
    "                  set_font=15, subset_font=10):\n",
    "    subsets=(v1, v2, v12, v3, v13, v23, v123)\n",
    "    t = {l: s for l, s in zip(VENN3_LABELS, subsets)}\n",
    "    v = venn3(subsets=subsets,\n",
    "              set_labels=(name1, name2, name3),\n",
    "              alpha=0.3,\n",
    "              ax=ax)\n",
    "    for text in v.set_labels:\n",
    "        if text is not None:\n",
    "            text.set_fontsize(set_font)\n",
    "    for text in v.subset_labels:\n",
    "        if text is not None:\n",
    "            text.set_fontsize(subset_font)\n",
    "    for l in VENN3_LABELS:\n",
    "        label = v.get_label_by_id(l)\n",
    "        if label is not None:\n",
    "            if not show_numbers:\n",
    "                label.set_text('')\n",
    "            else:\n",
    "                label.set_text(num_format(t[l], engineer))"
   ],
   "metadata": {
    "collapsed": false,
    "ExecuteTime": {
     "start_time": "2023-05-17T06:57:26.679636Z",
     "end_time": "2023-05-17T06:57:26.681518Z"
    }
   }
  },
  {
   "cell_type": "code",
   "execution_count": null,
   "outputs": [],
   "source": [
    "other_tools = list(sorted(filter(lambda t: t != 'SPAN', bench_df['name'].unique())))\n",
    "\n",
    "tf = tempfile.mktemp()\n",
    "tf2 = tempfile.mktemp()\n",
    "\n",
    "for c, r in tqdm(product(['GM12878'], ['rep1'])):\n",
    "    if (c, r) not in EXPRESSION_TSS_BED:\n",
    "        continue\n",
    "    print(c, r)\n",
    "    tss_file = sorted_file(EXPRESSION_TSS_BED[(c,r)])\n",
    "    t = df_fdr_peaks[(df_fdr_peaks['tool'] == 'SPAN') & (df_fdr_peaks['modification'] == 'H3K4me3') &\n",
    "                     (df_fdr_peaks['cell'] == c) & (df_fdr_peaks['replicate'] == r)]\n",
    "    if len(t) == 0:\n",
    "        continue\n",
    "    span_file = sorted_file(t['file'].values[0])\n",
    "    span_peaks = lines(span_file)\n",
    "    span_len = int(bedl(span_file).sum())\n",
    "    tss_peaks = lines(tss_file)\n",
    "    tss_length = int(bedl(tss_file).sum())\n",
    "\n",
    "    print('Venn diagrams of SPAN vs other tools (peaks)')\n",
    "    plt.figure(figsize=(4 * len(other_tools), 4))\n",
    "    axs = [plt.subplot(1, len(other_tools), i + 1) for i in range(len(other_tools))]\n",
    "    for i, tool in enumerate(other_tools):\n",
    "        t = df_fdr_peaks[(df_fdr_peaks['tool'] == tool) & (df_fdr_peaks['modification'] == 'H3K4me3') &\n",
    "                         (df_fdr_peaks['cell'] == c) & (df_fdr_peaks['replicate'] == r)]\n",
    "        if len(t) == 0:\n",
    "            continue\n",
    "        peaks_file = sorted_file(t['file'].values[0])\n",
    "        peaks_number = lines(peaks_file)\n",
    "        !bedtools intersect -a {span_file} -b {peaks_file} -wa -u > {tf}\n",
    "        span_overlap = lines(tf)\n",
    "        !bedtools intersect -b {span_file} -a {peaks_file} -wa -u > {tf}\n",
    "        other_overlap = lines(tf)\n",
    "        venn2_overlap(axs[i], span_peaks, peaks_number, span_overlap, other_overlap, 'SPAN', tool,\n",
    "                      show_numbers=True, add_proportion=True)\n",
    "    plt.tight_layout()\n",
    "    # plt.savefig(f'{GSE26320_PATH}/analyze/venn_{m}.png', bbox_inches='tight', dpi=300)\n",
    "    plt.show()\n",
    "\n",
    "    print('Venn diagram of SPAN vs other tools and TSS expressed genes (ranges)')\n",
    "    plt.figure(figsize=(4 * len(other_tools), 4))\n",
    "    axs = [plt.subplot(1, len(other_tools), i + 1) for i in range(len(other_tools))]\n",
    "    for i, tool in enumerate(other_tools):\n",
    "        t = df_fdr_peaks[(df_fdr_peaks['tool'] == tool) & (df_fdr_peaks['modification'] == 'H3K4me3') &\n",
    "                         (df_fdr_peaks['cell'] == c) & (df_fdr_peaks['replicate'] == r)]\n",
    "        if len(t) == 0:\n",
    "            continue\n",
    "        peaks_file = sorted_file(t['file'].values[0])\n",
    "        peaks_number = lines(peaks_file)\n",
    "        peaks_len = int(bedl(peaks_file).sum())\n",
    "        ! bedtools multiinter -i {span_file} {peaks_file} {tss_file} > {tf}\n",
    "        t = pd.read_csv(tf, sep='\\t', names=['chr', 'start', 'end',\n",
    "                                             'overlap_number', 'overlap_details',\n",
    "                                             'overlap1', 'overlap2', 'overlap3'])\n",
    "        venn3_overlap(axs[i], *[(t['overlap_details'] == o).sum() for o in VENN3_SUBSETS],\n",
    "                      'SPAN', tool, 'TSS expressed genes',\n",
    "                      show_numbers=False, engineer=True)\n",
    "    plt.tight_layout()\n",
    "    plt.show()\n",
    "\n",
    "    print('Venn diagram of SPAN vs other tools and TSS expressed genes (length)')\n",
    "    plt.figure(figsize=(4 * len(other_tools), 4))\n",
    "    axs = [plt.subplot(1, len(other_tools), i + 1) for i in range(len(other_tools))]\n",
    "    for i, tool in enumerate(other_tools):\n",
    "        t = df_fdr_peaks[(df_fdr_peaks['tool'] == tool) & (df_fdr_peaks['modification'] == 'H3K4me3') &\n",
    "                         (df_fdr_peaks['cell'] == c) & (df_fdr_peaks['replicate'] == r)]\n",
    "        if len(t) == 0:\n",
    "            continue\n",
    "        peaks_file = sorted_file(t['file'].values[0])\n",
    "        peaks_number = lines(peaks_file)\n",
    "        peaks_len = int(bedl(peaks_file).sum())\n",
    "        ! bedtools multiinter -i {span_file} {peaks_file} {expr_file} > {tf}\n",
    "        t = pd.read_csv(tf, sep='\\t', names=['chr', 'start', 'end',\n",
    "                                             'overlap_number', 'overlap_details',\n",
    "                                             'overlap1', 'overlap2', 'overlap3'])\n",
    "        venn3_overlap(axs[i], *[\n",
    "            (t[t['overlap_details'] == o]['end'] - t[t['overlap_details'] == o]['start']).sum()\n",
    "            for o in VENN3_SUBSETS\n",
    "        ], 'SPAN', tool, 'TSS expressed genes', show_numbers=False, engineer=True)\n",
    "\n",
    "    plt.tight_layout()\n",
    "    plt.show()"
   ],
   "metadata": {
    "collapsed": false,
    "ExecuteTime": {
     "start_time": "2023-05-17T06:57:26.680328Z",
     "end_time": "2023-05-17T06:57:36.561487Z"
    }
   }
  },
  {
   "cell_type": "markdown",
   "source": [
    "# Hg38 Recovered promoter fraction / Correct peak fraction"
   ],
   "metadata": {
    "collapsed": false
   }
  },
  {
   "cell_type": "code",
   "execution_count": null,
   "outputs": [],
   "source": [
    "import tempfile\n",
    "from itertools import product\n",
    "\n",
    "tf = tempfile.mktemp()\n",
    "tf2 = tempfile.mktemp()\n",
    "\n",
    "benchmark_cpf_df = pd.DataFrame(\n",
    "    columns=['cell', 'replicate', 'top', 'genes', 'peaks_file', 'peaks', 'pg', 'gp', 'tool'],\n",
    "    dtype=object\n",
    ")\n",
    "\n",
    "for c, r in tqdm(product(GSE26320_CELLS, GSE26320_REPS)):\n",
    "    print(c, r)\n",
    "    if (c, r) not in EXPRESSION_TSS_BED:\n",
    "        continue\n",
    "    tss_file = sorted_file(EXPRESSION_TSS_BED[c, r])\n",
    "    tss = lines(tss_file)\n",
    "    for tool in set(df_fdr_peaks['tool']):\n",
    "        t = df_fdr_peaks[(df_fdr_peaks['tool'] == tool) & (df_fdr_peaks['modification'] == 'H3K4me3') &\n",
    "                         (df_fdr_peaks['cell'] == c) & (df_fdr_peaks['replicate'] == r)]\n",
    "        if len(t) == 0:\n",
    "            continue\n",
    "        peaks_file = sorted_file(t['file'].values[0])\n",
    "        peaks = lines(peaks_file)\n",
    "        t = pd.read_csv(peaks_file, sep='\\t', header=None)\n",
    "        t.sort_values(by=[8] if len(t.columns) >= 9 else [4], ascending=False, inplace=True)\n",
    "        for top in np.linspace(1000, 15000, 15):\n",
    "            t.head(int(top)).sort_values(by=[0, 1]).to_csv(tf, sep='\\t', index=False, header=None)\n",
    "            tf = sorted_file(tf)\n",
    "            peaks = lines(tf)\n",
    "            ! bedtools intersect -a {tf} -b {tss_file} -wa -u > {tf2}\n",
    "            peaks_overlap = lines(tf2)\n",
    "            ! bedtools intersect -b {tf} -a {tss_file} -wa -u > {tf2}\n",
    "            tss_overlap = lines(tf2)\n",
    "            benchmark_cpf_df.loc[len(benchmark_cpf_df)] = \\\n",
    "                (c, r, top, tss, peaks_file, peaks, peaks_overlap, tss_overlap, tool)\n",
    "\n",
    "benchmark_cpf_df"
   ],
   "metadata": {
    "collapsed": false,
    "ExecuteTime": {
     "start_time": "2023-05-17T06:57:36.548045Z",
     "end_time": "2023-05-17T07:11:32.991723Z"
    }
   }
  },
  {
   "cell_type": "code",
   "execution_count": null,
   "outputs": [],
   "source": [
    "benchmark_cpf_df['p'] = (benchmark_cpf_df['pg'] + benchmark_cpf_df['gp']) / 2\n",
    "benchmark_cpf_df['precision'] = [d(x, y) for x, y in zip(benchmark_cpf_df['pg'], benchmark_cpf_df['peaks'])]\n",
    "benchmark_cpf_df['sensitivity'] = [d(x, y) for x, y in zip(benchmark_cpf_df['gp'], benchmark_cpf_df['genes'])]\n",
    "benchmark_cpf_df['f1'] = [2 / (d(1, s + 1e-10) + d(1, p + 1e-10)) for s, p in zip(benchmark_cpf_df['sensitivity'], benchmark_cpf_df['precision'])]\n",
    "benchmark_cpf_df"
   ],
   "metadata": {
    "collapsed": false,
    "ExecuteTime": {
     "start_time": "2023-05-17T07:11:32.994610Z",
     "end_time": "2023-05-17T07:11:33.003124Z"
    }
   }
  },
  {
   "cell_type": "code",
   "execution_count": null,
   "outputs": [],
   "source": [
    "def rgb2hex(color):\n",
    "    r, g, b, _ = color\n",
    "    return \"#{0:02x}{1:02x}{2:02x}\".format(int(r * 255), int(g * 255), int(b * 255))\n",
    "\n",
    "PLOTLY_TOOLS_PALETTE = {k: rgb2hex(v) for k, v in TOOLS_PALETTE.items()}"
   ],
   "metadata": {
    "collapsed": false,
    "ExecuteTime": {
     "start_time": "2023-05-17T07:11:33.002784Z",
     "end_time": "2023-05-17T07:11:33.041887Z"
    }
   }
  },
  {
   "cell_type": "code",
   "execution_count": null,
   "outputs": [],
   "source": [
    "import plotly.graph_objects as go\n",
    "from plotly.io import write_image\n",
    "\n",
    "def plot_top(benchmark_cpf_df):\n",
    "    tools_legend_shown = set()\n",
    "    fig = go.Figure()\n",
    "\n",
    "    for c, r, t in product(GSE26320_CELLS, GSE26320_REPS, df_fdr_peaks['tool'].unique()):\n",
    "        dft = benchmark_cpf_df[(benchmark_cpf_df['cell'] == c) &\n",
    "                           (benchmark_cpf_df['replicate'] == r) &\n",
    "                           (benchmark_cpf_df['tool'] == t)]\n",
    "        if len(dft) == 0:\n",
    "            continue\n",
    "        fig.add_trace(go.Scatter(\n",
    "            x=dft[\"precision\"], y=dft[\"sensitivity\"], mode='lines+markers', name=t,\n",
    "            hovertext=dft['top'].astype(str) + ' ' + t,\n",
    "            showlegend=t not in tools_legend_shown,\n",
    "            marker_color=PLOTLY_TOOLS_PALETTE[t],\n",
    "            opacity=0.8,\n",
    "        ))\n",
    "        tools_legend_shown.add(t)\n",
    "\n",
    "    # fig.update_xaxes(range=[-0.1, 1.1], title='Correct promoter fraction (sensitivity)')\n",
    "    # fig.update_yaxes(range=[-0.1, 1.1], title='Recovered promoter fraction (precision)')\n",
    "    fig.update_xaxes(title='Correct promoter fraction (sensitivity)')\n",
    "    fig.update_yaxes(title='Recovered promoter fraction (precision)')\n",
    "\n",
    "    fig.layout.template = 'plotly_white'\n",
    "    fig.update_layout(\n",
    "        autosize=False,\n",
    "        width=800,\n",
    "        height=600,)\n",
    "    fig.show()"
   ],
   "metadata": {
    "collapsed": false,
    "ExecuteTime": {
     "start_time": "2023-05-17T07:11:33.029343Z",
     "end_time": "2023-05-17T07:11:33.163267Z"
    }
   }
  },
  {
   "cell_type": "code",
   "execution_count": null,
   "outputs": [],
   "source": [
    "plot_top(benchmark_cpf_df[(benchmark_cpf_df['cell'] == 'GM12878') & (benchmark_cpf_df['replicate'] == 'rep1')])"
   ],
   "metadata": {
    "collapsed": false,
    "ExecuteTime": {
     "start_time": "2023-05-17T07:11:33.050281Z",
     "end_time": "2023-05-17T07:11:33.180856Z"
    }
   }
  },
  {
   "cell_type": "code",
   "execution_count": null,
   "outputs": [],
   "source": [
    "plot_top(benchmark_cpf_df)"
   ],
   "metadata": {
    "collapsed": false,
    "ExecuteTime": {
     "start_time": "2023-05-17T07:11:33.127961Z",
     "end_time": "2023-05-17T07:11:33.323474Z"
    }
   }
  },
  {
   "cell_type": "code",
   "execution_count": null,
   "outputs": [],
   "source": [
    "plt.figure(figsize=(4, 4))\n",
    "for t in ['MACS2', 'MACS2 broad', 'SPAN', 'SICER']:\n",
    "    tt = benchmark_cpf_df[(benchmark_cpf_df['cell'] == 'GM12878') &\n",
    "                          (benchmark_cpf_df['replicate'] == 'rep1') &\n",
    "                          (benchmark_cpf_df['tool'] == t)]\n",
    "    plt.plot(tt['precision'], tt['sensitivity'], marker='o', label=t)\n",
    "plt.title('Peaks vs active gene promoters')\n",
    "plt.xlabel('Promoter fraction (sensitivity)')\n",
    "plt.ylabel('Peaks fraction (precision)')\n",
    "plt.tight_layout()\n",
    "plt.savefig(f'{GSE26320_PATH_HG38}/pics/H3K4me3_promoters.pdf', bbox_inches='tight', dpi=300)\n",
    "plt.show()"
   ],
   "metadata": {
    "collapsed": false,
    "ExecuteTime": {
     "start_time": "2023-05-17T07:11:33.323310Z",
     "end_time": "2023-05-17T07:11:33.508876Z"
    }
   }
  },
  {
   "cell_type": "markdown",
   "source": [
    "# Average precision\n",
    "\n",
    "AP summarizes a precision-recall curve as the weighted mean of precisions achieved at each threshold, with the increase in recall from the previous threshold used as the weight:\n",
    "\n",
    "AP = ∑(Rn−Rn−1)*Pn, where  Pn and Rn are the precision and recall at the nth threshold.\n",
    "\n",
    "This implementation is not interpolated and is different from computing the area under the precision-recall curve with the trapezoidal rule, which uses linear interpolation and can be too optimistic."
   ],
   "metadata": {
    "collapsed": false
   }
  },
  {
   "cell_type": "code",
   "execution_count": null,
   "outputs": [],
   "source": [
    "cells = []\n",
    "reps = []\n",
    "tools = []\n",
    "aps = []\n",
    "for c, r, t in tqdm(product(GSE26320_CELLS, GSE26320_REPS, set(df_fdr_peaks['tool']))):\n",
    "    dft = benchmark_cpf_df[(benchmark_cpf_df['cell'] == c) &\n",
    "                           (benchmark_cpf_df['replicate'] == r) &\n",
    "                           (benchmark_cpf_df['tool'] == t)].copy()\n",
    "    if len(dft) == 0:\n",
    "        continue\n",
    "    ap = 0\n",
    "    rprev = 0\n",
    "    for _, row in dft.iterrows():\n",
    "        ap += (row['sensitivity'] - rprev)*row['precision']\n",
    "        rprev = row['sensitivity']\n",
    "    cells.append(c)\n",
    "    reps.append(r)\n",
    "    tools.append(t)\n",
    "    aps.append(ap)\n",
    "aps_df = pd.DataFrame(dict(cell=cells, replicate=reps, tool=tools, ap=aps))"
   ],
   "metadata": {
    "collapsed": false,
    "ExecuteTime": {
     "start_time": "2023-05-17T07:11:33.508707Z",
     "end_time": "2023-05-17T07:11:33.593587Z"
    }
   }
  },
  {
   "cell_type": "code",
   "execution_count": null,
   "outputs": [],
   "source": [
    "plt.figure(figsize=(3, 4))\n",
    "ax = plt.axes()\n",
    "ax.title.set_text('Peaks vs promoters AUC')\n",
    "g_results = sns.barplot(data=aps_df, x='tool', y='ap',\n",
    "                        ax=ax,\n",
    "                        capsize=.2, errwidth=2,\n",
    "                        order=['MACS2', 'MACS2 broad', 'SPAN', 'SICER']\n",
    "                        )\n",
    "ax.xaxis.set_tick_params(rotation=90)\n",
    "ax.set_ylabel('AUC')\n",
    "plt.tight_layout()\n",
    "plt.savefig(f'{GSE26320_PATH_HG38}/pics/H3K4me3_auc.pdf', bbox_inches='tight', dpi=300)\n",
    "plt.show()"
   ],
   "metadata": {
    "collapsed": false,
    "ExecuteTime": {
     "start_time": "2023-05-17T07:11:33.593464Z",
     "end_time": "2023-05-17T07:11:33.828376Z"
    }
   }
  },
  {
   "cell_type": "markdown",
   "source": [
    "# Functional annotations"
   ],
   "metadata": {
    "collapsed": false
   }
  },
  {
   "cell_type": "code",
   "execution_count": null,
   "outputs": [],
   "source": [
    "import tempfile\n",
    "from itertools import product\n",
    "\n",
    "tf = tempfile.mktemp()\n",
    "\n",
    "! rm -r {GSE26320_PATH_HG38}/summary_H3K4me3\n",
    "! mkdir -p {GSE26320_PATH_HG38}/summary_H3K4me3\n",
    "\n",
    "for c, r in tqdm(product(GSE26320_CELLS, GSE26320_REPS)):\n",
    "    print(c, r)\n",
    "    for tool in set(df_fdr_peaks['tool']):\n",
    "        t = df_fdr_peaks[(df_fdr_peaks['tool'] == tool) &\n",
    "                         (df_fdr_peaks['modification'] == 'H3K4me3') &\n",
    "                         (df_fdr_peaks['cell'] == c) &\n",
    "                         (df_fdr_peaks['replicate'] == r)]\n",
    "        if len(t) == 0:\n",
    "            continue\n",
    "        peaks_file = sorted_file(t['file'].values[0])\n",
    "        filename = tool.replace(' ', '_')\n",
    "        ! cat {peaks_file} >> \"{GSE26320_PATH_HG38}/summary_H3K4me3/{filename}.bed_\"\n",
    "        if tool == 'SPAN':\n",
    "            span_file = peaks_file\n",
    "\n",
    "    # Processing single tools information\n",
    "    for tool in TOOLS:\n",
    "        if tool == 'SPAN':\n",
    "            continue\n",
    "        t = df_fdr_peaks[(df_fdr_peaks['tool'] == tool) &\n",
    "                         (df_fdr_peaks['modification'] == 'H3K4me3') &\n",
    "                         (df_fdr_peaks['cell'] == c) &\n",
    "                         (df_fdr_peaks['replicate'] == r)]\n",
    "        if len(t) == 0:\n",
    "            continue\n",
    "        peaks_file = sorted_file(t['file'].values[0])\n",
    "        for name, args in [\n",
    "            (f'SPAN - {tool}', f' -a {span_file} -b {peaks_file} '),\n",
    "            (f'{tool} - SPAN', f' -b {span_file} -a {peaks_file} ')\n",
    "        ]:\n",
    "            !bedtools intersect {args} -wa -v > {tf}\n",
    "            filename = name.replace(' ', '_')\n",
    "            ! cat {tf} >> \"{GSE26320_PATH_HG38}/summary_H3K4me3/{filename}.bed_\"\n",
    "\n",
    "for f in os.listdir(GSE26320_PATH_HG38 + '/summary_H3K4me3'):\n",
    "    f_sorted = f[:len(f) - 1]\n",
    "    ! sort -k1,1 -k2,2n -k3,3n \"{GSE26320_PATH_HG38}/summary_H3K4me3/{f}\" | cut -f1-3> \"{GSE26320_PATH_HG38}/summary_H3K4me3/{f_sorted}\"\n",
    "    ! rm \"{GSE26320_PATH_HG38}/summary_H3K4me3/{f}\""
   ],
   "metadata": {
    "collapsed": false,
    "ExecuteTime": {
     "start_time": "2023-05-17T07:11:33.836237Z",
     "end_time": "2023-05-17T07:13:14.995718Z"
    }
   }
  },
  {
   "cell_type": "markdown",
   "source": [
    "# Coverage"
   ],
   "metadata": {
    "collapsed": false
   }
  },
  {
   "cell_type": "code",
   "execution_count": null,
   "outputs": [],
   "source": [
    "# Fraction of reads in peaks\n",
    "GSE26320_PATH_HG38_BW = GSE26320_PATH_HG38 + '/bw'\n",
    "\n",
    "\n",
    "def load_bws(path, m):\n",
    "    df_bws = pd.DataFrame(columns=['file', 'modification', 'cell', 'replicate'], dtype=object)\n",
    "    for f in tqdm(os.listdir(path)):\n",
    "        if '.bw' not in f:\n",
    "            continue\n",
    "        cell = next((cc for cc in GSE26320_CELLS if cc in f), None)\n",
    "        rep = next((r for r in GSE26320_REPS if r in f), None)\n",
    "        if cell and rep and m in f:\n",
    "            df_bws.loc[len(df_bws)] = ((os.path.join(path, f)), m, cell, rep)\n",
    "    return df_bws"
   ],
   "metadata": {
    "collapsed": false,
    "ExecuteTime": {
     "start_time": "2023-05-17T08:03:46.963350Z",
     "end_time": "2023-05-17T08:03:47.003390Z"
    }
   }
  },
  {
   "cell_type": "code",
   "execution_count": null,
   "outputs": [],
   "source": [
    "bws_df = load_bws(GSE26320_PATH_HG38_BW, 'H3K4me3')\n",
    "display(bws_df.sample(1))\n",
    "bws_control_df = load_bws(GSE26320_PATH_HG38_BW, 'Input')\n",
    "display(bws_control_df.sample(1))"
   ],
   "metadata": {
    "collapsed": false,
    "ExecuteTime": {
     "start_time": "2023-05-17T08:03:48.675282Z",
     "end_time": "2023-05-17T08:03:48.787509Z"
    }
   }
  },
  {
   "cell_type": "code",
   "execution_count": null,
   "outputs": [],
   "source": [
    "CHROM_SIZES = {\n",
    "    c: s for _, (c, s) in pd.read_csv(os.path.join(GSE26320_PATH_HG38, 'hg38.chrom.sizes'),\n",
    "                                      sep='\\t', names=['chr', 'size']).iterrows() if '_' not in c\n",
    "}\n",
    "CHROM_SIZES"
   ],
   "metadata": {
    "collapsed": false,
    "ExecuteTime": {
     "start_time": "2023-05-17T08:03:49.522942Z",
     "end_time": "2023-05-17T08:03:49.562859Z"
    }
   }
  },
  {
   "cell_type": "code",
   "execution_count": null,
   "outputs": [],
   "source": [
    "import pyBigWig\n",
    "import tempfile\n",
    "from itertools import product\n",
    "\n",
    "tf = tempfile.mktemp()\n",
    "\n",
    "coverage_data = []\n",
    "\n",
    "for c, r in tqdm(product(GSE26320_CELLS, GSE26320_REPS)):\n",
    "    print(c, r)\n",
    "    t = bws_df[(bws_df['modification'] == 'H3K4me3') &\n",
    "               (bws_df['cell'] == c) &\n",
    "               (bws_df['replicate'] == r)]\n",
    "    if len(t) == 0:\n",
    "        continue\n",
    "    bw_file = t['file'].values[0]\n",
    "    t = bws_control_df[(bws_control_df['cell'] == c) & (bws_control_df['replicate'] == r)]\n",
    "    if len(t) == 0:\n",
    "        continue\n",
    "    bw_control_file = t['file'].values[0]\n",
    "    for tool in set(df_fdr_peaks['tool']):\n",
    "        t = df_fdr_peaks[(df_fdr_peaks['tool'] == tool) &\n",
    "                         (df_fdr_peaks['modification'] == 'H3K4me3') &\n",
    "                         (df_fdr_peaks['cell'] == c) &\n",
    "                         (df_fdr_peaks['replicate'] == r)]\n",
    "        if len(t) == 0:\n",
    "            continue\n",
    "        peaks_file = sorted_file(t['file'].values[0])\n",
    "        if lines(peaks_file) > 0:\n",
    "            t = pd.read_csv(peaks_file, sep='\\t', header=None)\n",
    "            positions = [f'{chr}:{start}-{end}' for chr, start, end in zip(t[0], t[1], t[2]) if chr in CHROM_SIZES]\n",
    "            lengths = [end - start for chr, start, end in zip(t[0], t[1], t[2]) if chr in CHROM_SIZES]\n",
    "            with pyBigWig.open(bw_file) as bw:\n",
    "                total_coverage = sum(bw.stats(chr, type='sum', exact=True)[0] for chr in t[0].unique() if chr in CHROM_SIZES)\n",
    "                peaks_coverage = [bw.stats(chr, start, end, type='sum', exact=True)[0]\n",
    "                                  for chr, start, end in zip(t[0], t[1], t[2]) if chr in CHROM_SIZES]\n",
    "            for pos, length, peak_coverage in zip(positions, lengths, peaks_coverage):\n",
    "                coverage_data.append(('H3K4me3', c, r, tool, pos, length, 'treatment', peak_coverage, total_coverage))\n",
    "            with pyBigWig.open(bw_control_file) as bwc:\n",
    "                total_coverage = sum(bwc.stats(chr, type='sum', exact=True)[0] for chr in t[0].unique())\n",
    "                peaks_coverage = [bwc.stats(chr, start, end, type='sum', exact=True)[0]\n",
    "                                  for chr, start, end in zip(t[0], t[1], t[2])]\n",
    "            for pos, length, peak_coverage in zip(positions, lengths, peaks_coverage):\n",
    "                coverage_data.append(('H3K4me3', c, r, tool, pos, length, 'control', peak_coverage, total_coverage))\n",
    "        if tool == 'SPAN':\n",
    "            span_file = peaks_file\n",
    "\n",
    "    # Processing single tools information\n",
    "    for tool in TOOLS:\n",
    "        if tool == 'SPAN':\n",
    "            continue\n",
    "        t = df_fdr_peaks[(df_fdr_peaks['tool'] == tool) &\n",
    "                         (df_fdr_peaks['modification'] == 'H3K4me3') &\n",
    "                         (df_fdr_peaks['cell'] == c) &\n",
    "                         (df_fdr_peaks['replicate'] == r)]\n",
    "        if len(t) == 0:\n",
    "            continue\n",
    "        peaks_file = sorted_file(t['file'].values[0])\n",
    "        for name, args in [\n",
    "            (f'SPAN - {tool}', f' -a {span_file} -b {peaks_file} '),\n",
    "            (f'{tool} - SPAN', f' -b {span_file} -a {peaks_file} ')\n",
    "        ]:\n",
    "            !bedtools intersect {args} -wa -v > {tf}\n",
    "            if lines(tf) > 0:\n",
    "                t = pd.read_csv(tf, sep='\\t', header=None)\n",
    "                positions = [f'{chr}:{start}-{end}' for chr, start, end in zip(t[0], t[1], t[2]) if chr in CHROM_SIZES]\n",
    "                lengths = [end - start for chr, start, end in zip(t[0], t[1], t[2]) if chr in CHROM_SIZES]\n",
    "                with pyBigWig.open(bw_file) as bw:\n",
    "                    total_coverage = sum(bw.stats(chr, type='sum', exact=True)[0] for chr in t[0].unique() if chr in CHROM_SIZES)\n",
    "                    peaks_coverage = [bw.stats(chr, start, end, type='sum', exact=True)[0]\n",
    "                                      for chr, start, end in zip(t[0], t[1], t[2]) if chr in CHROM_SIZES]\n",
    "                for pos, length, peak_coverage in zip(positions, lengths, peaks_coverage):\n",
    "                    coverage_data.append(('H3K4me3', c, r, name, pos, length, 'treatment', peak_coverage, total_coverage))\n",
    "                with pyBigWig.open(bw_control_file) as bwc:\n",
    "                    total_coverage = sum(bwc.stats(chr, type='sum', exact=True)[0] for chr in t[0].unique())\n",
    "                    peaks_coverage = [bwc.stats(chr, start, end, type='sum', exact=True)[0]\n",
    "                                      for chr, start, end in zip(t[0], t[1], t[2])]\n",
    "                for pos, length, peak_coverage in zip(positions, lengths, peaks_coverage):\n",
    "                    coverage_data.append(('H3K4me3', c, r, name, pos, length, 'control', peak_coverage, total_coverage))\n",
    "\n",
    "df_coverage = pd.DataFrame(\n",
    "    coverage_data,\n",
    "    columns=['modification', 'cell', 'replicate', 'name', 'position', 'length', 'type', 'coverage', 'total_coverage']\n",
    ")\n",
    "del coverage_data\n",
    "df_coverage.sample(5)"
   ],
   "metadata": {
    "collapsed": false,
    "ExecuteTime": {
     "start_time": "2023-05-17T07:13:15.143549Z",
     "end_time": "2023-05-17T07:22:57.097082Z"
    },
    "pycharm": {
     "is_executing": true
    }
   }
  },
  {
   "cell_type": "code",
   "execution_count": null,
   "outputs": [],
   "source": [
    "df_coverage['rpm'] = df_coverage['coverage'] / (df_coverage['total_coverage'] / 1e6)\n",
    "df_coverage['rpkm'] = df_coverage['rpm'] / (df_coverage['length'] / 1e3)\n",
    "\n",
    "plt.figure(figsize=(4.5, 4))\n",
    "g_results = sns.boxplot(data=df_coverage, x='name', y='rpkm', hue='type', showfliers = False,\n",
    "                        order=['MACS2', 'MACS2 broad', 'SPAN', 'SICER',\n",
    "                               'SPAN - MACS2', 'SPAN - MACS2 broad', 'SPAN - SICER',\n",
    "                               'MACS2 - SPAN', 'MACS2 broad - SPAN', 'SICER - SPAN',\n",
    "                               ])\n",
    "ax = g_results.axes\n",
    "ax.xaxis.set_tick_params(rotation=90)\n",
    "ax.set_ylabel('RPKM')\n",
    "ax.set_ylim(-1, 28)\n",
    "# Put a legend to the right of the current axis\n",
    "ax.legend(loc='center left', bbox_to_anchor=(0.62, 0.82))\n",
    "plt.title('Peaks coverage')\n",
    "plt.tight_layout()\n",
    "plt.savefig(f'{GSE26320_PATH_HG38}/pics/H3K4me3_coverage.pdf', bbox_inches='tight', dpi=300)\n",
    "plt.show()"
   ],
   "metadata": {
    "collapsed": false,
    "ExecuteTime": {
     "start_time": "2023-05-17T09:20:57.094294Z",
     "end_time": "2023-05-17T09:20:59.176333Z"
    }
   }
  },
  {
   "cell_type": "markdown",
   "source": [
    "# ChromHMM"
   ],
   "metadata": {
    "collapsed": false
   }
  },
  {
   "cell_type": "code",
   "execution_count": null,
   "outputs": [],
   "source": [
    "CHROMHMM_MAP = {\n",
    "    'GM12878': GSE26320_PATH_HG38 + '/chromhmm/GM12878_chromhmm_hg38_ENCFF338RIC.bed',\n",
    "    'H1': GSE26320_PATH_HG38 + '/chromhmm/H1_chromhmm_hg38_ENCFF323HNB.bed',\n",
    "    'HepG2': GSE26320_PATH_HG38 + '/chromhmm/HepG2_chromhmm_hg38_ENCFF808IZE.bed',\n",
    "    'K562': GSE26320_PATH_HG38 + '/chromhmm/K562_chromhmm_hg38_ENCFF649FCE.bed',\n",
    "}\n",
    "\n",
    "print('Split chromHMM into separate files')\n",
    "CHROMM_STATES = set()\n",
    "for c, chromhmm in CHROMHMM_MAP.items():\n",
    "    print(c)\n",
    "    t = pd.read_csv(chromhmm, sep='\\t', header=None, usecols=[3])[3]\n",
    "    for state in t.unique():\n",
    "        # print(state)\n",
    "        state = state.replace('/', '_')\n",
    "        CHROMM_STATES.add(state)\n",
    "        f = chromhmm.replace('.bed', f'_{state}.bed')\n",
    "        ! cat {chromhmm} | grep {state} > {f}\n",
    "CHROMM_STATES = list(sorted(CHROMM_STATES))\n",
    "print(CHROMM_STATES)"
   ],
   "metadata": {
    "collapsed": false,
    "ExecuteTime": {
     "start_time": "2023-05-17T07:22:59.053214Z",
     "end_time": "2023-05-17T07:23:19.700211Z"
    }
   }
  },
  {
   "cell_type": "code",
   "execution_count": null,
   "outputs": [],
   "source": [
    "import tempfile\n",
    "from itertools import product\n",
    "\n",
    "tf = tempfile.mktemp()\n",
    "tf2 = tempfile.mktemp()\n",
    "\n",
    "data = []\n",
    "\n",
    "for c, r in tqdm(product(GSE26320_CELLS, GSE26320_REPS)):\n",
    "    print(c, r)\n",
    "    if c not in CHROMHMM_MAP:\n",
    "        continue\n",
    "    chromhmm = CHROMHMM_MAP[c]\n",
    "    for tool in set(df_fdr_peaks['tool']):\n",
    "        t = df_fdr_peaks[(df_fdr_peaks['tool'] == tool) &\n",
    "                         (df_fdr_peaks['modification'] == 'H3K4me3') &\n",
    "                         (df_fdr_peaks['cell'] == c) &\n",
    "                         (df_fdr_peaks['replicate'] == r)]\n",
    "        if len(t) == 0:\n",
    "            continue\n",
    "        peaks_file = sorted_file(t['file'].values[0])\n",
    "        peaks = lines(peaks_file)\n",
    "        row = [c, r, tool, peaks]\n",
    "        for state in CHROMM_STATES:\n",
    "            state_file = sorted_file(chromhmm.replace('.bed', f'_{state}.bed'))\n",
    "            !bedtools intersect -a {peaks_file} -b {state_file} -wa -u > {tf}\n",
    "            state_peaks = lines(tf)\n",
    "            row.append(state_peaks)\n",
    "        data.append(row)\n",
    "\n",
    "        if tool == 'SPAN':\n",
    "            span_file = peaks_file\n",
    "\n",
    "    # Processing single tools information\n",
    "    for tool in TOOLS:\n",
    "        if tool == 'SPAN':\n",
    "            continue\n",
    "        t = df_fdr_peaks[(df_fdr_peaks['tool'] == tool) &\n",
    "                         (df_fdr_peaks['modification'] == 'H3K4me3') &\n",
    "                         (df_fdr_peaks['cell'] == c) &\n",
    "                         (df_fdr_peaks['replicate'] == r)]\n",
    "        if len(t) == 0:\n",
    "            continue\n",
    "        peaks_file = sorted_file(t['file'].values[0])\n",
    "        for name, args in [\n",
    "            (f'SPAN - {tool}', f' -a {span_file} -b {peaks_file} '),\n",
    "            (f'{tool} - SPAN', f' -b {span_file} -a {peaks_file} ')\n",
    "        ]:\n",
    "            !bedtools intersect {args} -wa -v > {tf}\n",
    "            peaks = lines(tf)\n",
    "            row = [c, r, name, peaks]\n",
    "            for state in CHROMM_STATES:\n",
    "                state_file = sorted_file(chromhmm.replace('.bed', f'_{state}.bed'))\n",
    "                !bedtools intersect -a {tf} -b {state_file} -wa -u > {tf2}\n",
    "                state_peaks = lines(tf2)\n",
    "                row.append(state_peaks)\n",
    "            data.append(row)\n",
    "\n",
    "chromhmm_df = pd.DataFrame(data, columns=['cell', 'replicate', 'name', 'peaks'] + CHROMM_STATES)\n",
    "chromhmm_df"
   ],
   "metadata": {
    "collapsed": false,
    "ExecuteTime": {
     "start_time": "2023-05-17T07:23:19.700736Z",
     "end_time": "2023-05-17T07:36:29.143537Z"
    }
   }
  },
  {
   "cell_type": "code",
   "execution_count": null,
   "outputs": [],
   "source": [
    "# for c, r in tqdm(product(GSE26320_CELLS, GSE26320_REPS)):\n",
    "#     print(c, r)\n",
    "#     t = chromhmm_df[(chromhmm_df['cell']==c) & (chromhmm_df['replicate'] == r)].copy()\n",
    "#     if len(t) == 0:\n",
    "#         continue\n",
    "#     t.index = t['name']\n",
    "#     plt.figure(figsize=(8, 3))\n",
    "#     sns.heatmap(t[CHROMM_STATES].loc[['MACS2', 'MACS2 broad', 'SPAN', 'SICER',\n",
    "#                        'SPAN - MACS2', 'SPAN - MACS2 broad', 'SPAN - SICER',\n",
    "#                        'MACS2 - SPAN', 'MACS2 broad - SPAN', 'SICER - SPAN',\n",
    "#                        ]], cmap='coolwarm')\n",
    "#     plt.show()"
   ],
   "metadata": {
    "collapsed": false,
    "ExecuteTime": {
     "start_time": "2023-05-17T07:36:29.125742Z",
     "end_time": "2023-05-17T07:36:29.152879Z"
    }
   }
  },
  {
   "cell_type": "code",
   "execution_count": null,
   "outputs": [],
   "source": [
    "chromhmm_df_mean = chromhmm_df[['name'] + CHROMM_STATES].groupby('name').mean()\n",
    "chromhmm_df_mean = chromhmm_df_mean.loc[['MACS2', 'MACS2 broad', 'SPAN', 'SICER',\n",
    "                                         'SPAN - MACS2', 'SPAN - MACS2 broad', 'SPAN - SICER',\n",
    "                                         'MACS2 - SPAN', 'MACS2 broad - SPAN', 'SICER - SPAN',\n",
    "                                         ]]\n",
    "chromhmm_df_mean"
   ],
   "metadata": {
    "collapsed": false,
    "ExecuteTime": {
     "start_time": "2023-05-17T07:36:29.144369Z",
     "end_time": "2023-05-17T07:36:29.386038Z"
    }
   }
  },
  {
   "cell_type": "code",
   "execution_count": null,
   "outputs": [],
   "source": [
    "plt.figure(figsize=(6, 3))\n",
    "sns.heatmap(chromhmm_df_mean, cmap='coolwarm')\n",
    "plt.title('Peaks number in ChromHMM states')\n",
    "plt.tight_layout()\n",
    "plt.savefig(f'{GSE26320_PATH_HG38}/pics/H3K4me3_chromhmm.pdf', bbox_inches='tight', dpi=300)\n",
    "plt.show()"
   ],
   "metadata": {
    "collapsed": false,
    "ExecuteTime": {
     "start_time": "2023-05-17T07:36:29.193512Z",
     "end_time": "2023-05-17T07:36:29.704963Z"
    }
   }
  },
  {
   "cell_type": "code",
   "execution_count": null,
   "outputs": [],
   "source": [
    "chromhmm_rel_df = chromhmm_df[['name']].copy()\n",
    "for state in CHROMM_STATES:\n",
    "    chromhmm_rel_df[state] = [d(ov, p) for ov, p in zip(chromhmm_df[state], chromhmm_df['peaks'])]\n",
    "chromhmm_rel_df_mean = chromhmm_rel_df[['name'] + CHROMM_STATES].groupby('name').mean()\n",
    "chromhmm_rel_df_mean = chromhmm_rel_df_mean.loc[['MACS2', 'MACS2 broad', 'SPAN', 'SICER',\n",
    "                                                 'SPAN - MACS2', 'SPAN - MACS2 broad', 'SPAN - SICER',\n",
    "                                                 'MACS2 - SPAN', 'MACS2 broad - SPAN', 'SICER - SPAN',\n",
    "                                                 ]]\n",
    "chromhmm_rel_df_mean"
   ],
   "metadata": {
    "collapsed": false,
    "ExecuteTime": {
     "start_time": "2023-05-17T07:36:29.703228Z",
     "end_time": "2023-05-17T07:36:29.705529Z"
    }
   }
  },
  {
   "cell_type": "code",
   "execution_count": null,
   "outputs": [],
   "source": [
    "plt.figure(figsize=(6, 3))\n",
    "sns.heatmap(chromhmm_rel_df_mean, cmap='coolwarm')\n",
    "plt.title('Peaks fraction in ChromHMM states')\n",
    "plt.tight_layout()\n",
    "plt.savefig(f'{GSE26320_PATH_HG38}/pics/H3K4me3_chromhmm_rel.pdf', bbox_inches='tight', dpi=300)\n",
    "plt.show()"
   ],
   "metadata": {
    "collapsed": false,
    "ExecuteTime": {
     "start_time": "2023-05-17T07:36:29.703358Z",
     "end_time": "2023-05-17T07:36:30.118141Z"
    }
   }
  },
  {
   "cell_type": "markdown",
   "source": [
    "# Split by ChromHMM state and lengths distributions"
   ],
   "metadata": {
    "collapsed": false
   }
  },
  {
   "cell_type": "code",
   "execution_count": null,
   "outputs": [],
   "source": [
    "tf = tempfile.mktemp()\n",
    "BED_CHROMHMM = GSE26320_PATH_HG38 + '/bed_chromhmm'\n",
    "!mkdir -p {BED_CHROMHMM}\n",
    "\n",
    "print('Load lengths')\n",
    "ts = []\n",
    "for c, r in tqdm(product(GSE26320_CELLS, GSE26320_REPS)):\n",
    "    print(c, r)\n",
    "    if c not in CHROMHMM_MAP:\n",
    "        continue\n",
    "    chromhmm = CHROMHMM_MAP[c]\n",
    "    for tool in set(df_fdr_peaks['tool']):\n",
    "        t = df_fdr_peaks[(df_fdr_peaks['tool'] == tool) &\n",
    "                         (df_fdr_peaks['modification'] == 'H3K4me3') &\n",
    "                         (df_fdr_peaks['cell'] == c) &\n",
    "                         (df_fdr_peaks['replicate'] == r)]\n",
    "        if len(t) == 0:\n",
    "            continue\n",
    "        print(tool)\n",
    "        peaks_file = sorted_file(t['file'].values[0])\n",
    "        for state in CHROMM_STATES:\n",
    "            state_file = sorted_file(chromhmm.replace('.bed', f'_{state}.bed'))\n",
    "            path = f\"{BED_CHROMHMM}/{c}_{r}_{tool}_{state}.bed\".replace(' ', '_')\n",
    "            !bedtools intersect -a {peaks_file} -b {state_file} -wa -u > {path}\n",
    "            print(path)\n",
    "            lengths = bedl(path)\n",
    "            t = pd.DataFrame(dict(length=lengths))\n",
    "            t = t.sample(min(len(t), 10_000))\n",
    "            t['state'] = state\n",
    "            t['name'] = tool\n",
    "            ts.append(t)\n",
    "\n",
    "        if tool == 'SPAN':\n",
    "            span_file = peaks_file\n",
    "\n",
    "    # Processing single tools information\n",
    "    for tool in TOOLS:\n",
    "        if tool == 'SPAN':\n",
    "            continue\n",
    "        t = df_fdr_peaks[(df_fdr_peaks['tool'] == tool) &\n",
    "                         (df_fdr_peaks['modification'] == 'H3K4me3') &\n",
    "                         (df_fdr_peaks['cell'] == c) &\n",
    "                         (df_fdr_peaks['replicate'] == r)]\n",
    "        if len(t) == 0:\n",
    "            continue\n",
    "        peaks_file = sorted_file(t['file'].values[0])\n",
    "        for name, args in [\n",
    "            (f'SPAN - {tool}', f' -a {span_file} -b {peaks_file} '),\n",
    "            (f'{tool} - SPAN', f' -b {span_file} -a {peaks_file} ')\n",
    "        ]:\n",
    "            print(name)\n",
    "            diff = f\"{BED_CHROMHMM}/{c}_{r}_{name}.bed\".replace(' ', '_').replace('_-_', '_')\n",
    "            !bedtools intersect {args} -wa -v > {diff}\n",
    "            for state in CHROMM_STATES:\n",
    "                state_file = sorted_file(chromhmm.replace('.bed', f'_{state}.bed'))\n",
    "                path = f\"{BED_CHROMHMM}/{c}_{r}_{name}_{state}.bed\".replace(' ', '_').replace('_-_', '_')\n",
    "                !bedtools intersect -a {diff} -b {state_file} -wa -u > {path}\n",
    "                print(path)\n",
    "                lengths = bedl(path)\n",
    "                t = pd.DataFrame(dict(length=lengths))\n",
    "                t = t.sample(min(len(t), 10_000))\n",
    "                t['state'] = state\n",
    "                t['name'] = name\n",
    "                ts.append(t)\n",
    "\n",
    "t = pd.concat(ts).reset_index(drop=True)\n",
    "del ts\n",
    "t.sample(10)"
   ],
   "metadata": {
    "collapsed": false,
    "ExecuteTime": {
     "start_time": "2023-05-17T07:36:30.085602Z",
     "end_time": "2023-05-17T07:49:55.116438Z"
    }
   }
  },
  {
   "cell_type": "code",
   "execution_count": null,
   "outputs": [],
   "source": [
    "plt.figure(figsize=(20, 5))\n",
    "ax = plt.axes()\n",
    "g_results = sns.boxplot(data=t, x='state', y='length', hue='name', ax=ax,  showfliers=False,\n",
    "                        hue_order=['MACS2', 'MACS2 broad', 'SICER', 'SPAN',\n",
    "                                   'SPAN - MACS2', 'SPAN - MACS2 broad', 'SPAN - SICER',\n",
    "                                   'MACS2 - SPAN', 'MACS2 broad - SPAN', 'SICER - SPAN',\n",
    "                                   ])\n",
    "ax.title.set_text('H3K4me3 peaks length')\n",
    "ax.xaxis.set_tick_params(rotation=90)\n",
    "g_results.set(yscale='log')\n",
    "# ax.set_ylim([0, 15_000])\n",
    "# Put a legend to the right of the current axis\n",
    "g_results.axes.legend(loc='center left', bbox_to_anchor=(1, 0.5))\n",
    "plt.tight_layout()\n",
    "plt.show()"
   ],
   "metadata": {
    "collapsed": false,
    "ExecuteTime": {
     "start_time": "2023-05-17T07:49:55.126809Z",
     "end_time": "2023-05-17T07:49:58.352870Z"
    }
   }
  },
  {
   "cell_type": "code",
   "execution_count": null,
   "outputs": [],
   "source": [],
   "metadata": {
    "collapsed": false
   }
  }
 ],
 "metadata": {
  "anaconda-cloud": {},
  "kernelspec": {
   "display_name": "Python 3",
   "language": "python",
   "name": "python3"
  },
  "language_info": {
   "codemirror_mode": {
    "name": "ipython",
    "version": 3
   },
   "file_extension": ".py",
   "mimetype": "text/x-python",
   "name": "python",
   "nbconvert_exporter": "python",
   "pygments_lexer": "ipython3",
   "version": "3.8.5"
  },
  "toc": {
   "nav_menu": {},
   "number_sections": true,
   "sideBar": true,
   "skip_h1_title": false,
   "toc_cell": false,
   "toc_position": {},
   "toc_section_display": "block",
   "toc_window_display": false
  }
 },
 "nbformat": 4,
 "nbformat_minor": 2
}
