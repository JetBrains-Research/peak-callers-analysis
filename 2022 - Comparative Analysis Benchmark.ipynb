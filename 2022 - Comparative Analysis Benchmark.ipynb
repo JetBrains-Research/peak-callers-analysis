{
 "cells": [
  {
   "cell_type": "markdown",
   "metadata": {
    "heading_collapsed": true
   },
   "source": [
    "# 2021 Comparative analysis benchmark\n",
    "\n",
    "Logbook: https://docs.google.com/document/d/1NsqY_mA7U-jY2aLQlaQimiNLaRvYVx26cAia8HTdG_M/edit#\n"
   ]
  },
  {
   "cell_type": "code",
   "execution_count": null,
   "metadata": {
    "ExecuteTime": {
     "end_time": "2019-03-07T11:38:12.254230Z",
     "start_time": "2019-03-07T11:38:04.952806Z"
    },
    "hidden": true
   },
   "outputs": [],
   "source": [
    "%matplotlib inline\n",
    "%config InlineBackend.figure_format='retina'\n",
    "\n",
    "from IPython.display import display\n",
    "import pandas as pd\n",
    "\n",
    "import seaborn as sns\n",
    "sns.set_style(\"whitegrid\")\n",
    "import matplotlib.pyplot as plt\n",
    "from matplotlib.backends.backend_pdf import PdfPages\n",
    "import numpy as np\n",
    "import scipy as sp\n",
    "import os, re\n",
    "import glob\n",
    "from tqdm.auto import tqdm\n",
    "import tempfile\n",
    "from itertools import product\n"
   ]
  },
  {
   "cell_type": "code",
   "execution_count": null,
   "metadata": {},
   "outputs": [],
   "source": [
    "# Ignore H3K27ac, H3K27ac because of a single replicate, bad quality\n",
    "MODIFICATIONS = [\n",
    "    'H3K4ac', 'H3K4me1', 'H3K4me2', 'H3K4me3', 'H3K9ac', 'H3K9me3',\n",
    "    'H3K27me3', 'H3K36me3', 'H3K56ac', 'H3K79me1', 'H3K79me2'\n",
    "]\n",
    "# MODIFICATIONS = ['H3K4me1', 'H3K4me3', 'H3K36me3']\n",
    "\n",
    "PATH = os.path.expanduser('~/data/2022_comparative_analysis')\n",
    "FIGURES_DIR = os.path.join(PATH, 'figures')\n",
    "EXT = 'png'\n",
    "! mkdir -p {FIGURES_DIR}"
   ]
  },
  {
   "cell_type": "code",
   "execution_count": null,
   "metadata": {},
   "outputs": [],
   "source": [
    "def bedl(file):\n",
    "    try:\n",
    "        tf = pd.read_csv(file, sep='\\t', header=None)\n",
    "        return tf[2] - tf[1]\n",
    "    except:\n",
    "        return np.zeros(0) # Empty file\n",
    "\n",
    "def lines(file):\n",
    "    try:\n",
    "        tf = pd.read_csv(file, sep='\\t', header=None)\n",
    "        return len(tf)\n",
    "    except:\n",
    "        return 0 # Empty file"
   ]
  },
  {
   "cell_type": "markdown",
   "metadata": {},
   "source": [
    "# MACS2"
   ]
  },
  {
   "cell_type": "code",
   "execution_count": null,
   "metadata": {
    "ExecuteTime": {
     "end_time": "2019-03-07T11:38:48.419134Z",
     "start_time": "2019-03-07T11:38:12.260987Z"
    },
    "scrolled": true
   },
   "outputs": [],
   "source": [
    "MACS2_FOLDER=f'{PATH}/macs2'\n",
    "MACS2_LEVELS = ['q0.05', 'broad0.1']\n",
    "\n",
    "dfm = pd.DataFrame(columns=['modification', 'replicate', 'level', 'file', 'peaks', 'length'], dtype=object)\n",
    "for file in tqdm(glob.glob(MACS2_FOLDER + '/*.*Peak')):\n",
    "    if 'gapped' in file:\n",
    "        continue\n",
    "    level = next((l for l in MACS2_LEVELS if f'_{l}' in file), None)\n",
    "    modification = next((m for m in MODIFICATIONS if f'_{m}' in file), None)\n",
    "    if level and modification:\n",
    "        replicate = os.path.basename(file).replace(f'H1_{modification}_', '')[:3]\n",
    "        peaks, length = lines(file), bedl(file).sum()\n",
    "        dfm.loc[len(dfm)] = (modification, replicate, f'macs2 {level}', file, peaks, length)\n",
    "        \n",
    "# Fix types\n",
    "dfm['peaks'] = dfm['peaks'].astype(int)\n",
    "dfm['length'] = dfm['length'].astype(int)\n"
   ]
  },
  {
   "cell_type": "code",
   "execution_count": null,
   "metadata": {
    "scrolled": false
   },
   "outputs": [],
   "source": [
    "print('Dataset size')\n",
    "t = (dfm.groupby(['modification'])['file'].count() / len(MACS2_LEVELS)).astype(int)\n",
    "plt.figure(figsize=(8, 4))\n",
    "sns.barplot(data=pd.DataFrame(dict(modification=t.index, replicates=t)), x='modification', y='replicates')\n",
    "plt.xticks(rotation=90)\n",
    "plt.tight_layout()\n",
    "plt.savefig(os.path.join(FIGURES_DIR, f'replicates_macs2.{EXT}'), bbox_inches='tight', dpi=300)\n",
    "plt.show()"
   ]
  },
  {
   "cell_type": "code",
   "execution_count": null,
   "metadata": {},
   "outputs": [],
   "source": [
    "print('Mean peaks')\n",
    "display(dfm.groupby(['modification', 'level'])['peaks'].mean())\n",
    "print('Std peaks')\n",
    "display(dfm.groupby(['modification', 'level'])['peaks'].std())"
   ]
  },
  {
   "cell_type": "code",
   "execution_count": null,
   "metadata": {},
   "outputs": [],
   "source": [
    "dfm['av_length'] = [l / p if p != 0 else 0 for p, l in zip(dfm['peaks'], dfm['length'])]       \n",
    "print('Mean average length')\n",
    "display(dfm.groupby(['modification', 'level'])['av_length'].mean())\n",
    "print('Std average length')\n",
    "display(dfm.groupby(['modification', 'level'])['av_length'].std())"
   ]
  },
  {
   "cell_type": "code",
   "execution_count": null,
   "metadata": {},
   "outputs": [],
   "source": [
    "macs2levels2process = {'macs2 q0.05', 'macs2 broad0.1'}"
   ]
  },
  {
   "cell_type": "markdown",
   "metadata": {},
   "source": [
    "# SICER"
   ]
  },
  {
   "cell_type": "code",
   "execution_count": null,
   "metadata": {},
   "outputs": [],
   "source": [
    "SICER_FOLDER=f'{PATH}/sicer'\n",
    "SICER_LEVELS = ['FDR0.01']\n",
    "\n",
    "dfsc = pd.DataFrame(columns=['modification', 'replicate', 'level', 'file', 'peaks', 'length'], dtype=object)\n",
    "for file in tqdm(glob.glob(SICER_FOLDER + '/*islands-summary*')):\n",
    "    level = next((l for l in SICER_LEVELS if f'-{l}' in file), None)\n",
    "    modification = next((m for m in MODIFICATIONS if f'_{m}' in file), None)\n",
    "    if level and modification:\n",
    "        replicate = os.path.basename(file).replace(f'H1_{modification}_', '')[:3]\n",
    "        peaks, length = lines(file), bedl(file).sum()\n",
    "        dfsc.loc[len(dfsc)] = (modification, replicate, f'sicer {level}', file, peaks, length)\n",
    "\n",
    "# Fix types\n",
    "dfsc['peaks'] = dfsc['peaks'].astype(int)\n",
    "dfsc['length'] = dfsc['length'].astype(int)"
   ]
  },
  {
   "cell_type": "code",
   "execution_count": null,
   "metadata": {
    "scrolled": true
   },
   "outputs": [],
   "source": [
    "display((dfsc.groupby(['modification', 'level'])['file'].count()).astype(int))"
   ]
  },
  {
   "cell_type": "code",
   "execution_count": null,
   "metadata": {},
   "outputs": [],
   "source": [
    "print('Mean peaks')\n",
    "display(dfsc.groupby(['modification', 'level'])['peaks'].mean())\n",
    "print('Std peaks')\n",
    "display(dfsc.groupby(['modification', 'level'])['peaks'].std())"
   ]
  },
  {
   "cell_type": "code",
   "execution_count": null,
   "metadata": {},
   "outputs": [],
   "source": [
    "dfsc['av_length'] = [l / p if p != 0 else 0 for p, l in zip(dfsc['peaks'], dfsc['length'])]       \n",
    "print('Mean average length')\n",
    "display(dfsc.groupby(['modification', 'level'])['av_length'].mean())\n",
    "print('Std average length')\n",
    "display(dfsc.groupby(['modification', 'level'])['av_length'].std())"
   ]
  },
  {
   "cell_type": "code",
   "execution_count": null,
   "metadata": {},
   "outputs": [],
   "source": [
    "sicerlevels2process = {'sicer FDR0.01'}"
   ]
  },
  {
   "cell_type": "markdown",
   "metadata": {},
   "source": [
    "# SPAN"
   ]
  },
  {
   "cell_type": "code",
   "execution_count": null,
   "metadata": {},
   "outputs": [],
   "source": [
    "SPAN_FOLDER=f'{PATH}/span'\n",
    "GAPS = [3]\n",
    "FDRS = ['0.05']\n",
    "SPAN_LEVELS = list(f'200_{fdr}_{gap}' for fdr, gap in product(FDRS, GAPS))\n",
    "\n",
    "dfs = pd.DataFrame(columns=['modification', 'replicate', 'level', 'file', 'peaks', 'length'], dtype=object)\n",
    "for file in tqdm(glob.glob(SPAN_FOLDER + '/*.peak')):\n",
    "    if 'Input' in file:\n",
    "        continue\n",
    "    level = next((l for l in SPAN_LEVELS if f'_{l}' in file), None)\n",
    "    modification = next((m for m in MODIFICATIONS if f'_{m}' in file), None)\n",
    "    if level and modification:\n",
    "        replicate = os.path.basename(file).replace(f'H1_{modification}_', '')[:3]\n",
    "        peaks, length = lines(file), bedl(file).sum()\n",
    "        dfs.loc[len(dfs)] = (modification, replicate, f'span {level}', file, peaks, length)\n",
    "        \n",
    "# Fix types\n",
    "dfs['peaks'] = dfs['peaks'].astype(int)\n",
    "dfs['length'] = dfs['length'].astype(int)"
   ]
  },
  {
   "cell_type": "code",
   "execution_count": null,
   "metadata": {
    "scrolled": true
   },
   "outputs": [],
   "source": [
    "display((dfs.groupby(['modification', 'level'])['file'].count()).astype(int))"
   ]
  },
  {
   "cell_type": "code",
   "execution_count": null,
   "metadata": {},
   "outputs": [],
   "source": [
    "print('Mean peaks')\n",
    "display(dfs.groupby(['modification', 'level'])['peaks'].mean())\n",
    "print('Std peaks')\n",
    "display(dfs.groupby(['modification', 'level'])['peaks'].std())"
   ]
  },
  {
   "cell_type": "code",
   "execution_count": null,
   "metadata": {},
   "outputs": [],
   "source": [
    "dfs['av_length'] = [l / p if p != 0 else 0 for p, l in zip(dfs['peaks'], dfs['length'])]       \n",
    "print('Mean average length')\n",
    "display(dfs.groupby(['modification', 'level'])['av_length'].mean())\n",
    "print('Std average length')\n",
    "display(dfs.groupby(['modification', 'level'])['av_length'].std())"
   ]
  },
  {
   "cell_type": "code",
   "execution_count": null,
   "metadata": {},
   "outputs": [],
   "source": [
    "import re\n",
    "dfs['fdr'] = [float(re.sub('span 200_|_(0|3|5|10)', '', l)) for l in dfs['level']]\n",
    "dfs['gap'] = [int(re.sub('.*_', '', l)) for l in dfs['level']]\n",
    "dfs.sort_values(by=['fdr', 'gap'], inplace=True)\n",
    "dfs.head()"
   ]
  },
  {
   "cell_type": "code",
   "execution_count": null,
   "metadata": {},
   "outputs": [],
   "source": [
    "spanlevels2process = {'span 200_0.05_3'}"
   ]
  },
  {
   "cell_type": "markdown",
   "metadata": {},
   "source": [
    "# Summary"
   ]
  },
  {
   "cell_type": "code",
   "execution_count": null,
   "metadata": {},
   "outputs": [],
   "source": [
    "dfa = pd.concat([dfm.loc[[l in macs2levels2process for l in dfm['level']]],\n",
    "                 dfsc.loc[[l in sicerlevels2process for l in dfsc['level']]],\n",
    "                 dfs.loc[[l in spanlevels2process for l in dfs['level']]]])"
   ]
  },
  {
   "cell_type": "markdown",
   "metadata": {},
   "source": [
    "# Group analysis"
   ]
  },
  {
   "cell_type": "code",
   "execution_count": null,
   "metadata": {},
   "outputs": [],
   "source": [
    "def plot_data_cells(df, cid, value, description):\n",
    "    cids = sorted(set(df[cid]))\n",
    "    axs = {}\n",
    "    total = len(cids) * len(MODIFICATIONS)\n",
    "    plt.figure(figsize=(int(total / 3), 4))\n",
    "    offset = 0\n",
    "    for m in MODIFICATIONS:\n",
    "        data = df.loc[df['modification'] == m].sort_values(by=[cid])\n",
    "        xlabels = []\n",
    "        for c in data[cid]:\n",
    "            if c not in xlabels:\n",
    "                xlabels.append(c)\n",
    "        w = len(cids)\n",
    "        ax = plt.subplot2grid((1, total), (0, offset), colspan=w)\n",
    "#         sns.boxplot(data=data, x=cid, y=value, ax=ax)\n",
    "        sns.barplot(data=data, \n",
    "                     x=cid, y=value,\n",
    "                     capsize=.2, errwidth=2,\n",
    "                     alpha=0.8,\n",
    "                     ax = ax)\n",
    "\n",
    "        sns.swarmplot(data=data,\n",
    "                      x=cid, y=value,\n",
    "                      size=1,\n",
    "                      color=\"black\",\n",
    "                      alpha=0.5,\n",
    "                      ax = ax)\n",
    "        ax.legend().set_visible(False)\n",
    "        axs[ax] = plt.ylim()\n",
    "        if offset > 0:\n",
    "            ax.get_yaxis().set_ticklabels([])\n",
    "            ax.set_ylabel('')\n",
    "        else:\n",
    "            ax.set_ylabel(description)\n",
    "        \n",
    "        offset += w\n",
    "        ax.set_xlabel('')\n",
    "        ax.set_title(m)\n",
    "        plt.xticks(range(0, len(xlabels)), xlabels, rotation=90)\n",
    "            \n",
    "    ymin = np.min([v[0] for v in axs.values()])\n",
    "    ymax = np.max([v[1] for v in axs.values()])\n",
    " \n",
    "    for ax in axs.keys():\n",
    "        ax.set_ylim(bottom = ymin, top = ymax)\n",
    "    plt.tight_layout()\n",
    "    plt.savefig(os.path.join(FIGURES_DIR, f'{value}.{EXT}'), bbox_inches='tight', dpi=300)\n",
    "    plt.show()\n"
   ]
  },
  {
   "cell_type": "code",
   "execution_count": null,
   "metadata": {},
   "outputs": [],
   "source": [
    "# Limit max number of peaks for visual representation\n",
    "dfa['peaks'].clip(upper=100000, inplace=True)\n",
    "dfa['av_length'].clip(upper=15000, inplace=True)"
   ]
  },
  {
   "cell_type": "code",
   "execution_count": null,
   "metadata": {},
   "outputs": [],
   "source": [
    "plot_data_cells(dfa, 'level', 'peaks', 'Peaks')\n",
    "plot_data_cells(dfa, 'level', 'av_length', 'Average peak length')"
   ]
  },
  {
   "cell_type": "markdown",
   "metadata": {},
   "source": [
    "# Consistency analysis between replicates"
   ]
  },
  {
   "cell_type": "code",
   "execution_count": null,
   "metadata": {},
   "outputs": [],
   "source": [
    "import tempfile\n",
    "\n",
    "reps_overlap = pd.DataFrame(columns=['modification', 'tool', 'rep1', 'rep2',\n",
    "                                      'peaks1', 'peaks2', 'length1', 'length2',\n",
    "                                      'overlap1', 'overlap2', 'intersect'], dtype=object)\n",
    "\n",
    "tools = list(sorted(set(dfa['level'])))\n",
    "for m in tqdm(MODIFICATIONS):\n",
    "    print(m)\n",
    "    tm = dfa.loc[dfa['modification'] == m]\n",
    "    reps = list(sorted(set(tm['replicate']))) \n",
    "    for tool in tools:\n",
    "        for i in range(len(reps)):\n",
    "            for j in range(i + 1, len(reps)):\n",
    "                rep1, rep2 = reps[i], reps[j]\n",
    "                t1 = tm.loc[(tm['level'] == tool) & (tm['replicate'] == rep1)]\n",
    "                t2 = tm.loc[(tm['level'] == tool) & (tm['replicate'] == rep2)]\n",
    "                m = t1['modification'].values[0]\n",
    "                file1 = t1['file'].values[0]\n",
    "                peaks1 = t1['peaks'].values[0]\n",
    "                length1 = bedl(file1).sum()\n",
    "                file2 = t2['file'].values[0]\n",
    "                peaks2 = t2['peaks'].values[0]\n",
    "                length2 = bedl(file2).sum()\n",
    "                overlap1 = !bedtools intersect -a {file1} -b {file2} -wa -u | wc -l\n",
    "                overlap1 = int(overlap1[0])\n",
    "                overlap2 = !bedtools intersect -b {file1} -a {file2} -wa -u | wc -l            \n",
    "                overlap2 = int(overlap2[0])            \n",
    "                tf = tempfile.mktemp() \n",
    "                !bedtools intersect -b {file1} -a {file2} > {tf}\n",
    "                intersectionl = bedl(tf).sum()\n",
    "                reps_overlap.loc[len(reps_overlap)] = \\\n",
    "                    (m, tool, rep1, rep2, peaks1, peaks2, length1, length2, \n",
    "                     overlap1, overlap2, intersectionl)"
   ]
  },
  {
   "cell_type": "code",
   "execution_count": null,
   "metadata": {},
   "outputs": [],
   "source": [
    "ro = pd.DataFrame(columns=['Modification', 'Replicate', 'Tool', 'Overlap'], dtype=object)\n",
    "for _, row in reps_overlap.iterrows():\n",
    "    m = row['modification']\n",
    "    tool = row['tool']\n",
    "    r1 = row['rep1']\n",
    "    r2 = row['rep2']\n",
    "    peaks1 = row['peaks1']\n",
    "    peaks2 = row['peaks2']\n",
    "    overlap1 = row['overlap1']\n",
    "    overlap2 = row['overlap2']    \n",
    "    ro.loc[len(ro)] = (m, f'{rep1} vs {rep2}', tool, overlap1 / peaks1 if peaks1 !=0 else 0)\n",
    "    ro.loc[len(ro)] = (m, f'{rep2} vs {rep1}', tool, overlap2 / peaks2 if peaks2 !=0 else 0)\n",
    "\n",
    "plt.figure(figsize=(10, 3))\n",
    "plt.title('Overlap between replicates')\n",
    "sns.barplot(data=ro, x='Modification', y='Overlap', hue='Tool', capsize=.1, errwidth=2, edgecolor=\"black\")\n",
    "# sns.boxplot(data=ro, x='Modification', y='Overlap', hue='Tool')\n",
    "plt.tight_layout()\n",
    "plt.savefig(os.path.join(FIGURES_DIR, f'overlap.{EXT}'), bbox_inches='tight', dpi=300)\n",
    "plt.show()"
   ]
  },
  {
   "cell_type": "code",
   "execution_count": null,
   "metadata": {},
   "outputs": [],
   "source": [
    "rj = pd.DataFrame(columns=['Modification', 'Replicate', 'Tool', 'Jaccard'], dtype=object)\n",
    "for _, row in reps_overlap.iterrows():\n",
    "    m = row['modification']\n",
    "    tool = row['tool']\n",
    "    rep1 = row['rep1']\n",
    "    rep2 = row['rep2']\n",
    "    length1 = row['length1']\n",
    "    length2 = row['length2']\n",
    "    intersection = row['intersect']\n",
    "    try:\n",
    "        jaccard = intersection / (length1 + length2 - intersection)\n",
    "    except:\n",
    "        jaccard = 0\n",
    "    rj.loc[len(rj)] = (m, f'{rep1} vs {rep2}', tool, jaccard)\n",
    "\n",
    "plt.figure(figsize=(10, 3))\n",
    "plt.title('Jaccard overlap between replicates')\n",
    "sns.barplot(data=rj, x='Modification', y='Jaccard', hue='Tool', capsize=.1, errwidth=2, edgecolor=\"black\")\n",
    "# sns.boxplot(data=rj, x='Modification', y='Jaccard', hue='Tool')\n",
    "plt.tight_layout()\n",
    "plt.savefig(os.path.join(FIGURES_DIR, f'jaccard.{EXT}'), bbox_inches='tight', dpi=300)\n",
    "plt.show()"
   ]
  },
  {
   "cell_type": "markdown",
   "metadata": {},
   "source": [
    "# Consistency analysis between different tools"
   ]
  },
  {
   "cell_type": "code",
   "execution_count": null,
   "metadata": {},
   "outputs": [],
   "source": [
    "import tempfile\n",
    "\n",
    "tools_overlap = pd.DataFrame(columns=['modification', 'rep', 'tool1', 'tool2',\n",
    "                                      'peaks1', 'peaks2', 'length1', 'length2',\n",
    "                                      'overlap1', 'overlap2', 'intersect'], dtype=object)\n",
    "\n",
    "tools = list(sorted(set(dfa['level'])))\n",
    "for m in tqdm(MODIFICATIONS):\n",
    "    print(m)\n",
    "    tm = dfa.loc[dfa['modification'] == m]\n",
    "    reps = list(sorted(set(tm['replicate']))) \n",
    "    for rep in reps:\n",
    "        for i in range(len(tools)):\n",
    "            for j in range(i + 1, len(tools)):\n",
    "                tool1, tool2 = tools[i], tools[j]\n",
    "                t1 = tm.loc[(tm['level'] == tool1) & (tm['replicate'] == rep)]\n",
    "                t2 = tm.loc[(tm['level'] == tool2) & (tm['replicate'] == rep)]\n",
    "                m = t1['modification'].values[0]\n",
    "                file1 = t1['file'].values[0]\n",
    "                peaks1 = t1['peaks'].values[0]\n",
    "                length1 = bedl(file1).sum()\n",
    "                file2 = t2['file'].values[0]\n",
    "                peaks2 = t2['peaks'].values[0]\n",
    "                length2 = bedl(file2).sum()\n",
    "                overlap1 = !bedtools intersect -a {file1} -b {file2} -wa -u | wc -l\n",
    "                overlap1 = int(overlap1[0])\n",
    "                overlap2 = !bedtools intersect -b {file1} -a {file2} -wa -u | wc -l            \n",
    "                overlap2 = int(overlap2[0])            \n",
    "                tf = tempfile.mktemp() \n",
    "                !bedtools intersect -b {file1} -a {file2} > {tf}\n",
    "                intersectionl = bedl(tf).sum()\n",
    "                tools_overlap.loc[len(tools_overlap)] = \\\n",
    "                    (m, rep, tool1, tool2, peaks1, peaks2, length1, length2, \n",
    "                     overlap1, overlap2, intersectionl)"
   ]
  },
  {
   "cell_type": "markdown",
   "source": [
    "## Overlap between tools"
   ],
   "metadata": {
    "collapsed": false
   }
  },
  {
   "cell_type": "code",
   "execution_count": null,
   "metadata": {},
   "outputs": [],
   "source": [
    "to = pd.DataFrame(columns=['modification', 'replicate', 'tool1', 'tool2', 'overlap'], dtype=object)\n",
    "for _, row in tools_overlap.iterrows():\n",
    "    m = row['modification']\n",
    "    rep = row['rep']\n",
    "    tool1 = row['tool1']\n",
    "    tool2 = row['tool2']\n",
    "    peaks1 = row['peaks1']\n",
    "    peaks2 = row['peaks2']\n",
    "    overlap1 = row['overlap1']\n",
    "    overlap2 = row['overlap2']    \n",
    "    to.loc[len(to)] = (m, rep, tool1, tool2, overlap1 / peaks1 if peaks1 !=0 else 0)\n",
    "    to.loc[len(to)] = (m, rep, tool2, tool1, overlap2 / peaks2 if peaks2 !=0 else 0)\n",
    "to"
   ]
  },
  {
   "cell_type": "code",
   "execution_count": null,
   "metadata": {},
   "outputs": [],
   "source": [
    "from math import ceil\n",
    "#Heatmaps\n",
    "fig = plt.figure(figsize=(20, 6))\n",
    "\n",
    "for i, m in enumerate(MODIFICATIONS):\n",
    "    print(m)\n",
    "    tom = to[to['modification'] == m].groupby(['tool1', 'tool2'])['overlap'].mean().reset_index().copy()\n",
    "    tomp = tom.pivot(index='tool1', columns='tool2', values='overlap').fillna(1.0)\n",
    "    ax = plt.subplot(2, int(ceil(len(MODIFICATIONS) / 2)) + 1, i + 1)\n",
    "    sns.heatmap(tomp, ax=ax, vmin=0, vmax=1, annot=True, fmt='.2f', \n",
    "                yticklabels=(i==0 or i==6), cbar=False, cmap='Blues')\n",
    "    ax.set_xlabel(m)\n",
    "\n",
    "plt.tight_layout()\n",
    "plt.savefig(os.path.join(FIGURES_DIR, f'overlap_tools.{EXT}'), bbox_inches='tight', dpi=300)\n",
    "plt.show()"
   ]
  },
  {
   "cell_type": "markdown",
   "source": [
    "## Jaccard between tools"
   ],
   "metadata": {
    "collapsed": false
   }
  },
  {
   "cell_type": "code",
   "execution_count": null,
   "metadata": {},
   "outputs": [],
   "source": [
    "tj = pd.DataFrame(columns=['modification', 'replicate', 'tool1', 'tool2', 'jaccard'], dtype=object)\n",
    "for _, row in tools_overlap.iterrows():\n",
    "    m = row['modification']\n",
    "    rep = row['rep']\n",
    "    tool1 = row['tool1']\n",
    "    tool2 = row['tool2']\n",
    "    length1 = row['length1']\n",
    "    length2 = row['length2']\n",
    "    intersection = row['intersect']\n",
    "    try:\n",
    "        jaccard = intersection / (length1 + length2 - intersection)\n",
    "    except:\n",
    "        jaccard = 0\n",
    "    tj.loc[len(tj)] = (m, rep, tool1, tool2, jaccard)"
   ]
  },
  {
   "cell_type": "code",
   "execution_count": null,
   "metadata": {},
   "outputs": [],
   "source": [
    "#Heatmaps\n",
    "fig = plt.figure(figsize=(20, 6))\n",
    "\n",
    "for i, m in enumerate(MODIFICATIONS):\n",
    "    print(m)\n",
    "    tjm = tj[tj['modification'] == m].copy()\n",
    "    for t in tools:\n",
    "        tjm.loc[len(tjm)] = (m, 'rep', t, t, 1.0)\n",
    "    tjm = tjm.groupby(['tool1', 'tool2'])['jaccard'].mean().reset_index().copy()\n",
    "    tjmp = tjm.pivot(index='tool1', columns='tool2', values='jaccard')\n",
    "    ax  = plt.subplot(2, int(ceil(len(MODIFICATIONS) / 2)) + 1, i + 1)\n",
    "    sns.heatmap(tjmp, ax=ax, vmin=0, vmax=1, annot=True, fmt='.2f', \n",
    "                yticklabels=(i==0 or i==6), cbar=False, cmap='Blues')\n",
    "    ax.set_xlabel(m)\n",
    "\n",
    "plt.tight_layout()\n",
    "plt.savefig(os.path.join(FIGURES_DIR, f'jaccard_tools.{EXT}'), bbox_inches='tight', dpi=300)\n",
    "plt.show()"
   ]
  },
  {
   "cell_type": "code",
   "execution_count": null,
   "metadata": {},
   "outputs": [],
   "source": [
    "    "
   ]
  }
 ],
 "metadata": {
  "kernelspec": {
   "display_name": "Python 3",
   "language": "python",
   "name": "python3"
  },
  "language_info": {
   "codemirror_mode": {
    "name": "ipython",
    "version": 3
   },
   "file_extension": ".py",
   "mimetype": "text/x-python",
   "name": "python",
   "nbconvert_exporter": "python",
   "pygments_lexer": "ipython3",
   "version": "3.8.5"
  },
  "toc": {
   "nav_menu": {},
   "number_sections": true,
   "sideBar": true,
   "skip_h1_title": false,
   "toc_cell": false,
   "toc_position": {},
   "toc_section_display": "block",
   "toc_window_display": true
  }
 },
 "nbformat": 4,
 "nbformat_minor": 2
}
