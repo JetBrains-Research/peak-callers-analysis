{
 "cells": [
  {
   "cell_type": "markdown",
   "metadata": {},
   "source": "# Control investigations\n"
  },
  {
   "cell_type": "code",
   "metadata": {},
   "source": [
    "%matplotlib inline\n",
    "%config InlineBackend.figure_format='retina'\n",
    "\n",
    "import pandas as pd\n",
    "import seaborn as sns\n",
    "from tqdm.auto import tqdm\n",
    "\n",
    "sns.set_style(\"whitegrid\")\n",
    "import matplotlib.pyplot as plt\n",
    "import numpy as np\n",
    "import os\n",
    "import tempfile"
   ],
   "outputs": [],
   "execution_count": null
  },
  {
   "cell_type": "code",
   "source": [
    "def bedl(file):\n",
    "    try:\n",
    "        tf = pd.read_csv(file, sep='\\t', header=None)\n",
    "        return tf[2] - tf[1]\n",
    "    except:\n",
    "        return np.zeros(0)  # Empty file\n",
    "\n",
    "\n",
    "def lines(file):\n",
    "    try:\n",
    "        tf = pd.read_csv(file, sep='\\t', header=None)\n",
    "        return len(tf)\n",
    "    except:\n",
    "        return 0  # Empty file\n",
    "\n",
    "\n",
    "def d(a, b):\n",
    "    return a / b if b != 0 else 0\n",
    "\n",
    "\n",
    "def last_col(file):\n",
    "    try:\n",
    "        cols = len(pd.read_csv(file, sep='\\t', nrows=1, header=None).columns)\n",
    "        return pd.read_csv(file, sep='\\t', header=None, usecols=[cols - 1])[cols - 1]\n",
    "    except:\n",
    "        return np.zeros(0)  # Empty file\n",
    "\n",
    "\n",
    "def sorted_file(file):\n",
    "    ts = tempfile.mktemp()\n",
    "    ! cat {file} | sort -k1,1 -k2,2n -k3,3n > {ts}\n",
    "    return ts"
   ],
   "metadata": {
    "collapsed": false
   },
   "outputs": [],
   "execution_count": null
  },
  {
   "cell_type": "markdown",
   "source": [
    "# Load hg38 peaks\n",
    "\n",
    "1. Create dataset without control tracks\n",
    "2. Launch peak calling\n",
    "\n",
    "```\n",
    "conda activate snakemake\n",
    "snakemake -p -s ~/work/chipseq-smk-pipeline/Snakefile all --cores all  --use-conda  --directory $(pwd) --config genome=hg38 fastq_dir=$(pwd) start_with_bams=True bams_dir=bams macs2=True span=False sicer=False --rerun-trigger mtime;\n",
    "snakemake -p -s ~/work/chipseq-smk-pipeline/Snakefile all --cores all  --use-conda  --directory $(pwd) --config genome=hg38 fastq_dir=$(pwd) start_with_bams=True bams_dir=bams macs2=True macs2_mode=broad macs2_params=\"--broad --broad-cutoff=0.1\" macs2_suffix=\"broad0.1\"  span=False sicer=False --rerun-trigger mtime; \n",
    "snakemake -p -s ~/work/chipseq-smk-pipeline/Snakefile all --cores all  --use-conda  --directory $(pwd) --config genome=hg38 fastq_dir=$(pwd) start_with_bams=True bams_dir=bams macs2=False span=True sicer=True --rerun-trigger mtime;\n",
    "```\n"
   ],
   "metadata": {
    "collapsed": false
   }
  },
  {
   "cell_type": "code",
   "source": [
    "GSE26320_PATH = os.path.expanduser('~/data/2023_GSE26320')\n",
    "GSE26320_NO_CONTROL_PATH = os.path.expanduser('~/data/2023_GSE26320_no_control')\n",
    "GSE26320_CELLS = ['GM12878', 'HMEC', 'HSMM', 'K562', 'NHEK', 'NHLF', 'H1', 'Huvec', 'HepG2']\n",
    "MODIFICATIONS = ['H3K4me3', 'H3K27ac', 'H3K4me1', 'H3K27me3', 'H3K36me3']\n",
    "GSE26320_REPS = ['rep1', 'rep2']\n",
    "\n",
    "IMMUNE_PATH = os.path.expanduser('~/data/2023_Immune')\n",
    "IMMUNE_NO_CONTROL_PATH = os.path.expanduser('~/data/2023_Immune_no_control')\n",
    "IMMUNE_CELLS = ['CD4ABT', 'TCellBB', 'BCell', 'TCell', 'Monocyte', 'PBMC', 'NK', 'CD34', 'CD4', ]  ## Longest first\n",
    "IMMUNE_REPS = ['rep1', 'rep2', 'rep3', '']\n",
    "\n",
    "! mkdir -p {GSE26320_PATH}/pics\n",
    "! mkdir -p {IMMUNE_PATH}/pics"
   ],
   "metadata": {
    "collapsed": false
   },
   "outputs": [],
   "execution_count": null
  },
  {
   "cell_type": "code",
   "source": [
    "TOOLS = ['MACS2', 'MACS2 broad', 'SPAN', 'SICER']\n",
    "palette = plt.get_cmap('tab10')\n",
    "TOOLS_PALETTE = {t: palette(i) for i, t in enumerate(TOOLS)}"
   ],
   "metadata": {
    "collapsed": false
   },
   "outputs": [],
   "execution_count": null
  },
  {
   "cell_type": "code",
   "source": [
    "def load_peaks(path, suffix, modifications, cells, replicates):\n",
    "    df = pd.DataFrame(columns=['file', 'modification', 'cell', 'replicate', 'peaks'],\n",
    "                      dtype=object)\n",
    "    for f in tqdm(os.listdir(path)):\n",
    "        if not f.endswith(suffix):\n",
    "            continue\n",
    "        cell = next((c for c in cells if c in f), None)\n",
    "        mod = next((m for m in modifications if m in f), None)\n",
    "        rep = next((r for r in replicates if r in f), None)\n",
    "        if cell and mod and rep is not None:\n",
    "            peaks_path = os.path.join(path, f)\n",
    "            ps = lines(peaks_path)\n",
    "            df.loc[len(df)] = (peaks_path, mod, cell, rep, ps)\n",
    "    return df"
   ],
   "metadata": {
    "collapsed": false
   },
   "outputs": [],
   "execution_count": null
  },
  {
   "cell_type": "code",
   "source": [
    "def load_peaks_path(path, modifications, cells, replicates):\n",
    "    df_macs2 = load_peaks(os.path.join(path, 'macs2'), '.narrowPeak', modifications, cells, replicates)\n",
    "    df_macs2['tool'] = 'MACS2'\n",
    "    print('MACS2', len(df_macs2))\n",
    "\n",
    "    df_macs2broad = load_peaks(os.path.join(path, 'macs2'), '.broadPeak', modifications, cells, replicates)\n",
    "    df_macs2broad['tool'] = 'MACS2 broad'\n",
    "    print('MACS2 broad', len(df_macs2broad))\n",
    "\n",
    "    df_sicer = load_peaks(os.path.join(path, 'sicer'), 'summary-FDR0.01', modifications, cells, replicates)\n",
    "    if len(df_sicer) == 0:\n",
    "        df_sicer = load_peaks(os.path.join(path, 'sicer'), 'E100.scoreisland', modifications, cells, replicates) \n",
    "    df_sicer['tool'] = 'SICER'\n",
    "    print('SICER', len(df_sicer))\n",
    "\n",
    "    df_span = load_peaks(os.path.join(path, 'span'), '.peak', modifications, cells, replicates)\n",
    "    df_span['tool'] = 'SPAN'\n",
    "    print('SPAN', len(df_span))\n",
    "\n",
    "    return pd.concat([df_macs2, df_macs2broad, df_sicer, df_span]).reset_index(drop=True)"
   ],
   "metadata": {
    "collapsed": false
   },
   "outputs": [],
   "execution_count": null
  },
  {
   "cell_type": "code",
   "source": [
    "df_encode_peaks = load_peaks_path(GSE26320_PATH, MODIFICATIONS, GSE26320_CELLS, GSE26320_REPS)\n",
    "df_encode_peaks['dataset'] = 'ENCODE'\n",
    "df_encode_peaks['control'] = True\n",
    "\n",
    "df_encode_no_control_peaks = load_peaks_path(GSE26320_NO_CONTROL_PATH, MODIFICATIONS, GSE26320_CELLS, GSE26320_REPS)\n",
    "df_encode_no_control_peaks['dataset'] = 'ENCODE'\n",
    "df_encode_no_control_peaks['control'] = False\n",
    "\n",
    "df_immune_peaks = load_peaks_path(IMMUNE_PATH, MODIFICATIONS, IMMUNE_CELLS, IMMUNE_REPS)\n",
    "df_immune_peaks['dataset'] = 'Roadmap'\n",
    "df_immune_peaks['control'] = True\n",
    "\n",
    "df_immune_no_control_peaks = load_peaks_path(IMMUNE_NO_CONTROL_PATH, MODIFICATIONS, IMMUNE_CELLS, IMMUNE_REPS)\n",
    "df_immune_no_control_peaks['dataset'] = 'Roadmap'\n",
    "df_immune_no_control_peaks['control'] = False\n",
    "\n",
    "df_peaks_full = pd.concat([df_encode_peaks, df_encode_no_control_peaks, \n",
    "                      df_immune_peaks, df_immune_no_control_peaks]).reset_index(drop=True)\n",
    "df_peaks_full.sample(3)"
   ],
   "metadata": {
    "collapsed": false
   },
   "outputs": [],
   "execution_count": null
  },
  {
   "cell_type": "code",
   "source": [
    "for ds in ['ENCODE', 'Roadmap']:\n",
    "    print(ds)\n",
    "    plt.figure(figsize=(14, 4))\n",
    "    axs = [plt.subplot(1, 5, i + 1) for i in range(5)]\n",
    "    for i, m in enumerate(MODIFICATIONS):\n",
    "        ax = axs[i]\n",
    "        sns.barplot(data=df_peaks_full[(df_peaks_full['dataset'] == ds) & \n",
    "                                  (df_peaks_full['modification'] == m)],\n",
    "                    x='tool', y='peaks', hue='control',\n",
    "                    capsize=.2, err_kws={'linewidth': 2}, edgecolor=\"black\",\n",
    "                    order=['MACS2', 'MACS2 broad', 'SPAN', 'SICER'],\n",
    "                    hue_order=[True, False],\n",
    "                    ax=ax,)\n",
    "        sns.stripplot(data=df_peaks_full[(df_peaks_full['dataset'] == ds) &\n",
    "                                    (df_peaks_full['modification'] == m)],\n",
    "                      x='tool', y='peaks', hue='control',\n",
    "                      dodge=True, size=1.5, color=\"black\", alpha=0.5, palette='dark:black',\n",
    "                      order=['MACS2', 'MACS2 broad', 'SPAN', 'SICER'], legend=False,\n",
    "                      hue_order=[True, False],\n",
    "                      ax=ax)\n",
    "\n",
    "        ax.xaxis.set_tick_params(rotation=90)\n",
    "        ax.title.set_text(m)\n",
    "        if i > 0:\n",
    "            ax.set_ylabel(None)\n",
    "        else:\n",
    "            ax.set_ylabel('peaks')\n",
    "        if i < 4:\n",
    "            ax.legend().set_visible(False)\n",
    "        else:\n",
    "            # Put a legend to the right of the current axis\n",
    "            ax.legend(loc='center left', bbox_to_anchor=(1, 0.5))\n",
    "\n",
    "        # ax.set_ylim(0, 1.9e7)\n",
    "    plt.tight_layout()\n",
    "    # plt.savefig(GSE26320_PATH_HG38 + f'/pics/library_mapped_detailed_all.pdf', bbox_inches='tight', dpi=300)\n",
    "    plt.show()"
   ],
   "metadata": {
    "collapsed": false
   },
   "outputs": [],
   "execution_count": null
  },
  {
   "metadata": {},
   "cell_type": "code",
   "source": "df_peaks_full[(df_peaks_full['tool'] == 'SPAN') & (df_peaks_full['modification'] == 'H3K27me3') & (df_peaks_full['peaks'] > 100_000)]",
   "outputs": [],
   "execution_count": null
  },
  {
   "metadata": {},
   "cell_type": "code",
   "source": [
    "# Remove outliers, see 2023 - figures.ipynb\n",
    "OUTLIERS = [\n",
    "    ('H3K4me3', 'NK', ''),\n",
    "    ('H3K27me3', 'TCell', ''),\n",
    "    ('H3K27me3', 'BCell', ''),\n",
    "]\n",
    "df_peaks = df_peaks_full.loc[[(m, c, r) not in OUTLIERS\n",
    "                              for _, (m, c, r) in df_peaks_full[['modification', 'cell', 'replicate']].iterrows()]].copy()\n",
    "df_peaks.sample(3)"
   ],
   "outputs": [],
   "execution_count": null
  },
  {
   "metadata": {},
   "cell_type": "code",
   "source": [
    "for ds in ['ENCODE', 'Roadmap']:\n",
    "    print(ds)\n",
    "    plt.figure(figsize=(14, 4))\n",
    "    axs = [plt.subplot(1, 5, i + 1) for i in range(5)]\n",
    "    for i, m in enumerate(MODIFICATIONS):\n",
    "        ax = axs[i]\n",
    "        sns.barplot(data=df_peaks[(df_peaks['dataset'] == ds) &\n",
    "                                  (df_peaks['modification'] == m)],\n",
    "                    x='tool', y='peaks', hue='control',\n",
    "                    capsize=.2, err_kws={'linewidth': 2}, edgecolor=\"black\",\n",
    "                    order=['MACS2', 'MACS2 broad', 'SPAN', 'SICER'],\n",
    "                    hue_order=[True, False],\n",
    "                    ax=ax,)\n",
    "        sns.stripplot(data=df_peaks[(df_peaks['dataset'] == ds) &\n",
    "                                    (df_peaks['modification'] == m)],\n",
    "                      x='tool', y='peaks', hue='control',\n",
    "                      dodge=True, size=1.5, color=\"black\", alpha=0.5, palette='dark:black',\n",
    "                      order=['MACS2', 'MACS2 broad', 'SPAN', 'SICER'], legend=False,\n",
    "                      hue_order=[True, False],\n",
    "                      ax=ax)\n",
    "\n",
    "        ax.xaxis.set_tick_params(rotation=90)\n",
    "        ax.title.set_text(m)\n",
    "        if i > 0:\n",
    "            ax.set_ylabel(None)\n",
    "        else:\n",
    "            ax.set_ylabel('peaks')\n",
    "        if i < 4:\n",
    "            ax.legend().set_visible(False)\n",
    "        else:\n",
    "            # Put a legend to the right of the current axis\n",
    "            ax.legend(loc='center left', bbox_to_anchor=(1, 0.5))\n",
    "\n",
    "        # ax.set_ylim(0, 1.9e7)\n",
    "    plt.tight_layout()\n",
    "    # plt.savefig(GSE26320_PATH_HG38 + f'/pics/library_mapped_detailed_all.pdf', bbox_inches='tight', dpi=300)\n",
    "    plt.show()"
   ],
   "outputs": [],
   "execution_count": null
  },
  {
   "metadata": {},
   "cell_type": "code",
   "source": [
    "print('NO CONTROL')\n",
    "plt.figure(figsize=(12, 3.5))\n",
    "axs = [plt.subplot(1, 5, i + 1) for i in range(5)]\n",
    "for i, m in enumerate(MODIFICATIONS):\n",
    "    ax = axs[i]\n",
    "    sns.barplot(data=df_peaks[(df_peaks['modification'] == m) & (df_peaks['control'] == False)],\n",
    "                x='tool', y='peaks', hue='dataset',\n",
    "                capsize=.2, err_kws={'linewidth': 2}, edgecolor=\"black\",\n",
    "                # palette=TOOLS_PALETTE,\n",
    "                order=['MACS2', 'MACS2 broad', 'SPAN', 'SICER'],\n",
    "                hue_order=['ENCODE', 'Roadmap'],\n",
    "                ax=ax)\n",
    "    sns.stripplot(data=df_peaks[(df_peaks['modification'] == m) & (df_peaks['control'] == False)],\n",
    "                  x='tool', y='peaks',  hue='dataset',\n",
    "                  dodge=True, size=2.5, palette='dark:black', alpha=0.5, legend=False,\n",
    "                  order=['MACS2', 'MACS2 broad', 'SPAN', 'SICER'],\n",
    "                  hue_order=['ENCODE', 'Roadmap'],\n",
    "                  ax=ax)\n",
    "    ax.xaxis.set_tick_params(rotation=90)\n",
    "    ax.title.set_text(m)\n",
    "    if i > 0:\n",
    "        ax.set_ylabel(None)\n",
    "    else:\n",
    "        ax.set_ylabel('peaks')\n",
    "    if i < len(axs) -1:\n",
    "        ax.legend().set_visible(False)\n",
    "    else:\n",
    "        # Put a legend to the right of the current axis\n",
    "        ax.legend(loc='center left', bbox_to_anchor=(1, 0.5))\n",
    "\n",
    "    # ax.set_ylim(0, 1.9e7)\n",
    "plt.tight_layout()\n",
    "# plt.savefig(GSE26320_PATH_HG38 + f'/pics/library_mapped_detailed_all.pdf', bbox_inches='tight', dpi=300)\n",
    "plt.show()"
   ],
   "outputs": [],
   "execution_count": null
  },
  {
   "cell_type": "markdown",
   "source": [
    "# Compute ratio no control vs control"
   ],
   "metadata": {
    "collapsed": false
   }
  },
  {
   "cell_type": "code",
   "source": [
    "rows = []\n",
    "for (ds, m, c, r, t), dft in tqdm(df_peaks.groupby(['dataset', 'modification', 'cell', 'replicate', 'tool'])):\n",
    "    if len(dft) == 2:\n",
    "        print(ds, m, c, r, t)\n",
    "        if len(dft[dft['control'] == True]) != 1 or len(dft[dft['control'] == False]) != 1:\n",
    "            continue\n",
    "        with_control = dft[dft['control'] == True]['file'].values[0]\n",
    "        without_control = dft[dft['control'] == False]['file'].values[0]\n",
    "        peaks_with_control = lines(with_control)\n",
    "        peaks_without_control = lines(without_control)\n",
    "        rows.append((ds, m, c, r, t, d(peaks_without_control, peaks_with_control)))\n",
    "df_ratio = pd.DataFrame(rows, columns=['dataset', 'modification', 'cell', 'replicate', 'tool', 'ratio'])\n",
    "df_ratio['ratio'] = ((df_ratio['ratio'] - 1) * 100).astype(int)\n",
    "del rows\n",
    "df_ratio.sample(3)"
   ],
   "metadata": {
    "collapsed": false
   },
   "outputs": [],
   "execution_count": null
  },
  {
   "metadata": {},
   "cell_type": "code",
   "source": [
    "TOOLS = ['MACS2', 'MACS2 broad', 'SPAN', 'SICER']\n",
    "palette = plt.get_cmap('tab10')\n",
    "TOOLS_PALETTE = {t: palette(i) for i, t in enumerate(TOOLS)}"
   ],
   "outputs": [],
   "execution_count": null
  },
  {
   "metadata": {},
   "cell_type": "code",
   "source": [
    "for ds in ['ENCODE', 'Roadmap']:\n",
    "    print(ds)\n",
    "    plt.figure(figsize=(6, 3))\n",
    "    ax = plt.axes()\n",
    "    sns.boxplot(data=df_ratio[df_ratio['dataset'] == ds],\n",
    "                x='modification', y='ratio', hue='tool',\n",
    "                showfliers=False,\n",
    "                order=['H3K4me3', 'H3K27ac', 'H3K4me1', 'H3K27me3', 'H3K36me3'],\n",
    "                hue_order=['MACS2', 'MACS2 broad', 'SPAN', 'SICER'],\n",
    "                palette = TOOLS_PALETTE,\n",
    "                ax=ax)\n",
    "    sns.stripplot(data=df_ratio[df_ratio['dataset'] == ds],\n",
    "                  x='modification', y='ratio', hue='tool',\n",
    "                  dodge=True, size=2, color=\"black\", alpha=0.5, palette='dark:black',\n",
    "                  order=['H3K4me3', 'H3K27ac', 'H3K4me1', 'H3K27me3', 'H3K36me3'],\n",
    "                  hue_order=['MACS2', 'MACS2 broad', 'SPAN', 'SICER'], legend=False,\n",
    "                  ax=ax)\n",
    "    ax.set_ylabel('Difference %')\n",
    "    ax.xaxis.set_tick_params(rotation=45)\n",
    "    ax.set_ylim(-110, 145)\n",
    "    ax.set_title('Difference in peaks without/with control')\n",
    "    ax.legend(loc='center left', bbox_to_anchor=(1, 0.5))\n",
    "    plt.tight_layout()\n",
    "    plt.show()"
   ],
   "outputs": [],
   "execution_count": null
  },
  {
   "metadata": {},
   "cell_type": "code",
   "source": [
    "df_ratio[(df_ratio['tool'] == 'MACS2') & \n",
    "         (df_ratio['modification'] == 'H3K4me3') & (df_ratio['ratio'] > 50)]"
   ],
   "outputs": [],
   "execution_count": null
  },
  {
   "metadata": {},
   "cell_type": "code",
   "source": [
    "print('ENCODE + Roadmap')\n",
    "plt.figure(figsize=(6, 4))\n",
    "ax = plt.axes()\n",
    "sns.boxplot(data=df_ratio,\n",
    "            x='modification', y='ratio', hue='tool',\n",
    "            showfliers=False,\n",
    "            order=['H3K4me3', 'H3K27ac', 'H3K4me1', 'H3K27me3', 'H3K36me3'],\n",
    "            hue_order=['MACS2', 'MACS2 broad', 'SPAN', 'SICER'],\n",
    "            palette = TOOLS_PALETTE,\n",
    "            ax=ax)\n",
    "sns.stripplot(data=df_ratio,\n",
    "              x='modification', y='ratio', hue='tool',\n",
    "              dodge=True, size=3, alpha=0.5,\n",
    "              order=['H3K4me3', 'H3K27ac', 'H3K4me1', 'H3K27me3', 'H3K36me3'],\n",
    "              hue_order=['MACS2', 'MACS2 broad', 'SPAN', 'SICER'], legend=False,\n",
    "              palette='dark:black',\n",
    "              ax=ax)\n",
    "ax.set_ylabel('Difference %')\n",
    "ax.xaxis.set_tick_params(rotation=45)\n",
    "ax.set_ylim(-110, 145)\n",
    "ax.set_title('Difference in peaks without/with control')\n",
    "ax.legend(loc='center left', bbox_to_anchor=(1, 0.5))\n",
    "plt.tight_layout()\n",
    "plt.show()"
   ],
   "outputs": [],
   "execution_count": null
  },
  {
   "metadata": {},
   "cell_type": "code",
   "source": "df_ratio[(df_ratio['modification'] == 'H3K4me3') & (df_ratio['ratio'] > 50)]",
   "outputs": [],
   "execution_count": null
  },
  {
   "cell_type": "markdown",
   "source": [
    "# Jaccard without control vs with control"
   ],
   "metadata": {
    "collapsed": false
   }
  },
  {
   "cell_type": "code",
   "source": [
    "tf = tempfile.mktemp()\n",
    "rows = []\n",
    "for (ds, m, c, r, t), dft in tqdm(df_peaks.groupby(['dataset', 'modification', 'cell', 'replicate', 'tool'])):\n",
    "    if len(dft) == 2:\n",
    "        with_control = sorted_file(dft[dft['control'] == True]['file'].values[0])\n",
    "        without_control = sorted_file(dft[dft['control'] == False]['file'].values[0])\n",
    "        peaks_with_control = lines(with_control)\n",
    "        peaks_without_control = lines(without_control)\n",
    "        len_with_control = bedl(with_control).sum()\n",
    "        len_without_control = bedl(without_control).sum()\n",
    "        !bedtools intersect -a {with_control} -b {without_control} -wo > {tf}\n",
    "        overlap_len = int(last_col(tf).sum())\n",
    "        jaccard = d(overlap_len, len_with_control + len_without_control - overlap_len)\n",
    "        rows.append((ds, m, c, r, t, peaks_with_control, peaks_without_control, len_with_control, len_without_control, \n",
    "                     d(len_with_control, peaks_with_control), d(len_without_control, peaks_without_control),\n",
    "                     overlap_len, jaccard))\n",
    "df_jaccard = pd.DataFrame(rows, columns=['dataset', 'modification', 'cell', 'replicate', 'tool',\n",
    "                                         'peaks_with_control', 'peaks_without_control',\n",
    "                                         'len_with_control', 'len_without_control', \n",
    "                                         'avg_len_with_control', 'avg_len_without_control',\n",
    "                                         'overlap_len', 'jaccard'])\n",
    "del rows\n",
    "df_jaccard.sample(3)"
   ],
   "metadata": {
    "collapsed": false
   },
   "outputs": [],
   "execution_count": null
  },
  {
   "cell_type": "code",
   "source": [
    "for ds in ['ENCODE', 'Roadmap']:\n",
    "    print(ds)\n",
    "    plt.figure(figsize=(6, 4))\n",
    "    ax = plt.axes()\n",
    "    sns.boxplot(data=df_jaccard[df_jaccard['dataset'] == ds],\n",
    "                x='modification', y='jaccard', hue='tool',\n",
    "                showfliers=False,\n",
    "                order=['H3K4me3', 'H3K27ac', 'H3K4me1', 'H3K27me3', 'H3K36me3'],\n",
    "                hue_order=['MACS2', 'MACS2 broad', 'SPAN', 'SICER'],\n",
    "                ax=ax)\n",
    "    sns.stripplot(data=df_jaccard[df_jaccard['dataset'] == ds],\n",
    "                  x='modification', y='jaccard', hue='tool',\n",
    "                  dodge=True, size=2, color=\"black\", alpha=0.5, palette='dark:black',\n",
    "                  order=['H3K4me3', 'H3K27ac', 'H3K4me1', 'H3K27me3', 'H3K36me3'],\n",
    "                  hue_order=['MACS2', 'MACS2 broad', 'SPAN', 'SICER'], legend=False,\n",
    "                  ax=ax)\n",
    "    ax.set_ylabel('jaccard')\n",
    "    ax.xaxis.set_tick_params(rotation=45)\n",
    "    ax.set_ylim(-0.05, 1.05)\n",
    "    ax.set_title('Jaccard between peaks without/with control')\n",
    "    ax.legend(loc='center left', bbox_to_anchor=(1, 0.5))\n",
    "    plt.tight_layout()\n",
    "    plt.show()"
   ],
   "metadata": {
    "collapsed": false
   },
   "outputs": [],
   "execution_count": null
  },
  {
   "metadata": {},
   "cell_type": "code",
   "source": [
    "df_jaccard[(df_jaccard['tool'] == 'SPAN') &\n",
    "           (df_jaccard['modification'] == 'H3K27me3') & \n",
    "           (df_jaccard['jaccard'] < 0.1)]"
   ],
   "outputs": [],
   "execution_count": null
  },
  {
   "metadata": {},
   "cell_type": "code",
   "source": [
    "print('ENCODE + Roadmap')\n",
    "plt.figure(figsize=(6, 4))\n",
    "ax = plt.axes()\n",
    "sns.boxplot(data=df_jaccard,\n",
    "            x='modification', y='jaccard', hue='tool',\n",
    "            showfliers=False,\n",
    "            order=['H3K4me3', 'H3K27ac', 'H3K4me1', 'H3K27me3', 'H3K36me3'],\n",
    "            hue_order=['MACS2', 'MACS2 broad', 'SPAN', 'SICER'],\n",
    "            ax=ax)\n",
    "sns.stripplot(data=df_jaccard,\n",
    "              x='modification', y='jaccard', hue='tool',\n",
    "              dodge=True, size=3, color=\"black\", alpha=0.5, palette='dark:black',\n",
    "              order=['H3K4me3', 'H3K27ac', 'H3K4me1', 'H3K27me3', 'H3K36me3'],\n",
    "              hue_order=['MACS2', 'MACS2 broad', 'SPAN', 'SICER'], legend=False,\n",
    "              ax=ax)\n",
    "ax.set_ylabel('jaccard')\n",
    "ax.xaxis.set_tick_params(rotation=45)\n",
    "ax.set_ylim(-0.05, 1.05)\n",
    "ax.set_title('Jaccard between peaks without/with control')\n",
    "ax.legend(loc='center left', bbox_to_anchor=(1, 0.5))\n",
    "plt.tight_layout()\n",
    "plt.show()"
   ],
   "outputs": [],
   "execution_count": null
  },
  {
   "cell_type": "code",
   "source": [
    "df_jaccard[(df_jaccard['dataset'] == 'Roadmap') & \n",
    "         (df_jaccard['modification'] == 'H3K27me3') & \n",
    "         (df_jaccard['jaccard'] < 0.2)]"
   ],
   "metadata": {
    "collapsed": false
   },
   "outputs": [],
   "execution_count": null
  },
  {
   "cell_type": "code",
   "source": [
    "df_jaccard['union_len'] = df_jaccard['len_with_control'] + df_jaccard['len_without_control']  - df_jaccard['overlap_len']\n",
    "df_jaccard['overlap_diff'] = df_jaccard['len_with_control'] + df_jaccard['len_without_control']  - 2 * df_jaccard['overlap_len']"
   ],
   "metadata": {
    "collapsed": false
   },
   "outputs": [],
   "execution_count": null
  },
  {
   "cell_type": "code",
   "source": [
    "for ds in ['ENCODE', 'Roadmap']:\n",
    "    print(ds)\n",
    "    plt.figure(figsize=(15, 3))\n",
    "    axs = [plt.subplot(1, 5, i + 1) for i in range(5)]\n",
    "    for i, m in enumerate(MODIFICATIONS):\n",
    "        ax = axs[i]\n",
    "        sns.kdeplot(df_jaccard[(df_jaccard['dataset'] == ds) &\n",
    "                               (df_jaccard['modification'] == m)],\n",
    "                    palette=TOOLS_PALETTE,\n",
    "                    hue_order=TOOLS,\n",
    "                    x='jaccard', y='overlap_diff', hue='tool', \n",
    "                    alpha=0.5,\n",
    "                    thresh=0.1,\n",
    "                    fill=True,\n",
    "                    legend=False,\n",
    "                    ax = ax)\n",
    "        sns.scatterplot(df_jaccard[(df_jaccard['dataset'] == ds) &\n",
    "                                   (df_jaccard['modification'] == m)],\n",
    "                        palette=TOOLS_PALETTE,\n",
    "                        hue_order=TOOLS,\n",
    "                        x='jaccard', y='overlap_diff', hue='tool', alpha=0.8,\n",
    "                        ax = ax)\n",
    "        ax.set_title(m)\n",
    "        if i > 0:\n",
    "            ax.set_ylabel(None)\n",
    "        if i < len(axs) - 1:\n",
    "            ax.legend().set_visible(False)\n",
    "        else:\n",
    "            # Put a legend to the right of the current axis\n",
    "            ax.legend(loc='center left', bbox_to_anchor=(1, 0.5))\n",
    "    plt.tight_layout()\n",
    "    plt.show()"
   ],
   "metadata": {
    "collapsed": false
   },
   "outputs": [],
   "execution_count": null
  },
  {
   "metadata": {},
   "cell_type": "code",
   "source": [
    "print('ENCODE + Roadmap')\n",
    "df_jaccard['avg_length'] = (df_jaccard['avg_len_with_control'] + df_jaccard['avg_len_without_control']) / 2\n",
    "plt.figure(figsize=(15, 3))\n",
    "axs = [plt.subplot(1, 5, i + 1) for i in range(5)]\n",
    "for i, m in enumerate(MODIFICATIONS):\n",
    "    ax = axs[i]\n",
    "    sns.kdeplot(df_jaccard[(df_jaccard['modification'] == m)],\n",
    "                palette=TOOLS_PALETTE,\n",
    "                hue_order=TOOLS,\n",
    "                x='jaccard', y='avg_length', hue='tool',\n",
    "                alpha=0.3,\n",
    "                thresh=0.01,\n",
    "                fill=True,\n",
    "                legend=False,\n",
    "                ax = ax)\n",
    "    sns.scatterplot(df_jaccard[(df_jaccard['modification'] == m)],\n",
    "                    palette=TOOLS_PALETTE,\n",
    "                    hue_order=TOOLS,\n",
    "                    style='dataset',\n",
    "                    x='jaccard', y='avg_length', hue='tool', alpha=0.8,\n",
    "                    ax = ax)\n",
    "    ax.set_title(m)\n",
    "    if i > 0:\n",
    "        ax.set_ylabel(None)\n",
    "    if i < len(axs) - 1:\n",
    "        ax.legend().set_visible(False)\n",
    "    else:\n",
    "        # Put a legend to the right of the current axis\n",
    "        ax.legend(loc='center left', bbox_to_anchor=(1, 0.5))\n",
    "plt.tight_layout()\n",
    "plt.show()"
   ],
   "outputs": [],
   "execution_count": null
  },
  {
   "cell_type": "code",
   "source": [
    "rows = []\n",
    "for _, (ds, modification, tool, jaccard, avlc, avlwc) in df_jaccard[\n",
    "    ['dataset', 'modification', 'tool', 'jaccard', 'avg_len_with_control', 'avg_len_without_control']].iterrows():\n",
    "    rows.append((ds, modification, tool, jaccard, avlc))\n",
    "    rows.append((ds, modification, tool, jaccard, avlwc))\n",
    "df_jaccard_avg_len = pd.DataFrame(rows, columns=['dataset', 'modification', 'tool', 'jaccard', 'average_len'])\n",
    "del rows"
   ],
   "metadata": {
    "collapsed": false
   },
   "outputs": [],
   "execution_count": null
  },
  {
   "cell_type": "code",
   "source": [
    "# K27me3 outliers HepG2 rep1 and HMEC rep2\n",
    "df_jaccard[(df_jaccard['dataset'] == 'ENCODE') & (df_jaccard['modification'] == 'H3K27me3') & (df_jaccard['tool']=='SPAN')]"
   ],
   "metadata": {
    "collapsed": false
   },
   "outputs": [],
   "execution_count": null
  },
  {
   "cell_type": "markdown",
   "source": [
    "# Load BAMS"
   ],
   "metadata": {
    "collapsed": false
   }
  },
  {
   "cell_type": "code",
   "source": [
    "def load_bams(path, modifications, cells, replicates, control='Input'):\n",
    "    df_bams = pd.DataFrame(columns=['bam_file', 'modification', 'cell', 'replicate', 'reads'], dtype=object)\n",
    "    for f in tqdm(os.listdir(path)):\n",
    "        if not f.endswith('.bam'):\n",
    "            continue\n",
    "        cell = next((c for c in cells if c in f), None)\n",
    "        rep = next((r for r in replicates if r in f), None)\n",
    "        mod = next((m for m in modifications if m in f), None)\n",
    "        if mod is None and control is not None and control in f:\n",
    "            mod = 'Control'\n",
    "        if cell and mod and rep is not None:\n",
    "            file = os.path.join(path, f)\n",
    "            reads = ! samtools view -F 0x04 -c {file}\n",
    "            reads = int(reads[0])\n",
    "            df_bams.loc[len(df_bams)] = (file, mod, cell, rep, reads)\n",
    "    return df_bams"
   ],
   "metadata": {
    "collapsed": false
   },
   "outputs": [],
   "execution_count": null
  },
  {
   "cell_type": "code",
   "source": [
    "df_encode_bams = load_bams(GSE26320_PATH + '/bams', MODIFICATIONS, GSE26320_CELLS, GSE26320_REPS, 'Input')\n",
    "df_encode_bams['dataset'] = 'ENCODE'\n",
    "df_immune_bams = load_bams(IMMUNE_PATH + '/bams', MODIFICATIONS, IMMUNE_CELLS, IMMUNE_REPS, 'Control')\n",
    "df_immune_bams['dataset'] = 'Roadmap'\n",
    "\n",
    "df_bams = pd.concat([df_encode_bams, df_immune_bams]).reset_index(drop=True)\n"
   ],
   "metadata": {
    "collapsed": false
   },
   "outputs": [],
   "execution_count": null
  },
  {
   "cell_type": "code",
   "source": [
    "plt.figure(figsize=(6, 4))\n",
    "ax = plt.axes()\n",
    "sns.barplot(data=df_bams, hue='modification', x='dataset', y='reads',\n",
    "            capsize=.05, err_kws={'linewidth': 2}, edgecolor=\"black\",\n",
    "            order=['ENCODE', 'Roadmap'],\n",
    "            hue_order=MODIFICATIONS + ['Control'],\n",
    "            ax=ax)\n",
    "sns.stripplot(data=df_bams, hue='modification', x='dataset', y='reads',\n",
    "              dodge=True, size=3, palette='dark:black', alpha=0.5, legend=False,\n",
    "              order=['ENCODE', 'Roadmap'],\n",
    "              hue_order=MODIFICATIONS + ['Control'],\n",
    "              ax=ax)\n",
    "ax.set_title('Library size')\n",
    "# Put a legend to the right of the current axis\n",
    "ax.legend(loc='center left', bbox_to_anchor=(1, 0.5))\n",
    "\n",
    "plt.tight_layout()\n",
    "plt.show()"
   ],
   "metadata": {
    "collapsed": false
   },
   "outputs": [],
   "execution_count": null
  },
  {
   "cell_type": "code",
   "source": [
    "rows = []\n",
    "for (ds, m, c), group in tqdm(\n",
    "        df_bams[(df_bams['modification'] != 'Control')].groupby(['dataset', 'modification', 'cell'])):\n",
    "    if len(group) != 2:\n",
    "        continue\n",
    "    file1, file2 = group['bam_file'].values[0], group['bam_file'].values[1]\n",
    "    r1, r2 = group['replicate'].values[0], group['replicate'].values[1]\n",
    "    cr1 = r1\n",
    "    # Find control1\n",
    "    ct = df_bams[(df_bams['modification'] == 'Control') & (df_bams['cell'] == c) &\n",
    "                 (df_bams['replicate'] == cr1) & (df_bams['dataset'] == ds)]\n",
    "    if len(ct) == 0:  # Control can be different for Roadmap\n",
    "        cr1 = ''\n",
    "        ct = df_bams[(df_bams['modification'] == 'Control') & (df_bams['cell'] == c) &\n",
    "                     (df_bams['replicate'] == cr1) & (df_bams['dataset'] == ds)]\n",
    "    if len(ct) == 0:\n",
    "        continue\n",
    "    control1 = ct['bam_file'].values[0]\n",
    "    # Find control1\n",
    "    cr2 = r2\n",
    "    ct = df_bams[(df_bams['modification'] == 'Control') & (df_bams['cell'] == c) &\n",
    "                 (df_bams['replicate'] == cr2) & (df_bams['dataset'] == ds)]\n",
    "    if len(ct) == 0:  # Control can be different for Roadmap\n",
    "        cr2 = ''\n",
    "        ct = df_bams[(df_bams['modification'] == 'Control') & (df_bams['cell'] == c) &\n",
    "                     (df_bams['replicate'] == cr2) & (df_bams['dataset'] == ds)]\n",
    "    if len(ct) == 0:\n",
    "        continue\n",
    "    control2 = ct['bam_file'].values[0]\n",
    "    if control1 == control2:\n",
    "        continue  # Ignore same control for replicates\n",
    "    rows.append((ds, m, c, r1, file1, cr1, control1, r2, file2, cr2, control2))\n",
    "df_controls = pd.DataFrame(rows, columns=['dataset', 'modification', 'cell',\n",
    "                                          'replicate1', 'file1', 'control_replicate1', 'control_file1',\n",
    "                                          'replicate2', 'file2', 'control_replicate2', 'control_file2'])\n",
    "df_controls.sample(5)"
   ],
   "metadata": {
    "collapsed": false
   },
   "outputs": [],
   "execution_count": null
  },
  {
   "cell_type": "code",
   "source": [
    "t = pd.merge(df_controls, df_peaks[(df_peaks['control']==True)][['dataset', 'modification', 'cell', 'replicate', 'tool', 'peaks']], \n",
    "             left_on=['dataset', 'modification', 'cell', 'replicate1'],\n",
    "             right_on=['dataset', 'modification', 'cell', 'replicate']\n",
    "             )\n",
    "t.rename({'peaks': 'rep1_peaks'}, axis=1, inplace=True)\n",
    "t.drop('replicate', axis=1, inplace=True)\n",
    "t = pd.merge(t, df_peaks[df_peaks['control']==True][['dataset', 'modification', 'cell', 'replicate', 'tool', 'peaks']],\n",
    "             left_on=['dataset', 'modification', 'cell', 'tool', 'replicate2'],\n",
    "             right_on=['dataset', 'modification', 'cell', 'tool', 'replicate']\n",
    "             )\n",
    "t.rename({'peaks': 'rep2_peaks'}, axis=1, inplace=True)\n",
    "t.drop('replicate', axis=1, inplace=True)\n",
    "t = pd.merge(t, df_bams[['dataset', 'modification', 'cell', 'replicate', 'reads']],\n",
    "             left_on=['dataset', 'modification', 'cell', 'replicate1'],\n",
    "             right_on=['dataset', 'modification', 'cell', 'replicate']\n",
    "             )\n",
    "t.rename({'reads': 'rep1_reads'}, axis=1, inplace=True)\n",
    "t.drop('replicate', axis=1, inplace=True)\n",
    "t = pd.merge(t, df_bams[['dataset', 'modification', 'cell', 'replicate', 'reads']],\n",
    "             left_on=['dataset', 'modification', 'cell', 'replicate2'],\n",
    "             right_on=['dataset', 'modification', 'cell', 'replicate']\n",
    "             )\n",
    "t.rename({'reads': 'rep2_reads'}, axis=1, inplace=True)\n",
    "t.drop('replicate', axis=1, inplace=True)\n",
    "t = pd.merge(t, df_bams[df_bams['modification'] == 'Control'][['dataset', 'cell', 'replicate', 'reads']], \n",
    "             left_on=['dataset', 'cell', 'control_replicate1'],\n",
    "             right_on=['dataset', 'cell', 'replicate']\n",
    "             )\n",
    "t.rename({'reads': 'rep1_ctrl_reads'}, axis=1, inplace=True)\n",
    "t.drop('replicate', axis=1, inplace=True)\n",
    "t = pd.merge(t, df_bams[df_bams['modification'] == 'Control'][['dataset', 'cell', 'replicate', 'reads']],\n",
    "             left_on=['dataset', 'cell', 'control_replicate2'],\n",
    "             right_on=['dataset', 'cell', 'replicate']\n",
    "             )\n",
    "t.rename({'reads': 'rep2_ctrl_reads'}, axis=1, inplace=True)\n",
    "t.drop('replicate', axis=1, inplace=True)\n",
    "\n",
    "t.head(5)"
   ],
   "metadata": {
    "collapsed": false
   },
   "outputs": [],
   "execution_count": null
  },
  {
   "cell_type": "code",
   "source": [
    "sns.set_theme(style='white')\n",
    "for tool in TOOLS:\n",
    "    print(tool)\n",
    "    plt.figure(figsize=(24, 4))\n",
    "    axs = [plt.subplot(1, 5, i + 1) for i in range(5)]\n",
    "    for i, m in enumerate(MODIFICATIONS):\n",
    "        ax = axs[i]\n",
    "        ax.set_title(m)\n",
    "        tt = t[(t['dataset'] == 'ENCODE') & (t['modification'] == m) & (t['tool'] == tool)]\n",
    "        rep1_peaks, rep1_reads, rep1_ctrl_reads = tt['rep1_peaks'], tt['rep1_reads'], tt['rep1_ctrl_reads'] \n",
    "        rep2_peaks, rep2_reads, rep2_ctrl_reads = tt['rep2_peaks'], tt['rep2_reads'], tt['rep2_ctrl_reads']\n",
    "        minx = min(np.min(rep1_reads), np.min(rep2_reads))\n",
    "        maxx = max(np.max(rep1_reads), np.max(rep2_reads))\n",
    "        miny = min(np.min(rep1_ctrl_reads), np.min(rep2_ctrl_reads))\n",
    "        maxy = max(np.max(rep1_ctrl_reads), np.max(rep2_ctrl_reads))\n",
    "        minxy = min(minx, miny)\n",
    "        maxxy = max(maxx, maxy)\n",
    "        sns.lineplot(x=[minxy, maxxy], y=[minxy, maxxy], color='grey', ax=ax, alpha=0.5, linestyle='dotted')\n",
    "        sns.scatterplot(x=rep1_reads.to_list() + rep2_reads.to_list(), \n",
    "                        y=rep1_ctrl_reads.to_list() + rep2_ctrl_reads.to_list(), \n",
    "                        alpha=0.8, ax = ax, \n",
    "                        size=rep1_peaks.to_list() + rep2_peaks.to_list(), \n",
    "                        color='blue')\n",
    "        for r1r, r1cr, r2r, r2cr in zip(rep1_reads, rep1_ctrl_reads, rep2_reads, rep2_ctrl_reads):\n",
    "            sns.lineplot(x=[r1r, r2r], y=[r1cr, r2cr], color='green', ax=ax, alpha=0.5, linestyle='dotted')\n",
    "        for xv, yv, cell, rep in zip(rep1_reads, rep1_ctrl_reads, t['cell'], t['replicate1']):\n",
    "            rep = '1' if rep == 'rep1' else '2' if rep == 'rep2' else ''\n",
    "            ax.text(xv, yv, f'{cell} {rep}', fontsize = 5)\n",
    "        for xv, yv, cell, rep in zip(rep2_reads, rep2_ctrl_reads, t['cell'], t['replicate2']):\n",
    "            rep = '1' if rep == 'rep1' else '2' if rep == 'rep2' else ''\n",
    "            ax.text(xv, yv, f'{cell} {rep}', fontsize = 5)\n",
    "        offset = 0.1 * (maxxy - minxy)\n",
    "        ax.set_xlabel('Signal reads')\n",
    "        ax.set_ylabel('Control reads')\n",
    "        ax.set_xlim(minxy - offset, maxxy + offset)\n",
    "        ax.set_ylim(minxy - offset, maxxy + offset)\n",
    "        if i > 0:\n",
    "            ax.set_ylabel(None)\n",
    "        # if i < len(axs) - 1:\n",
    "        #     ax.legend().set_visible(False)\n",
    "        # else:\n",
    "        # Put a legend to the right of the current axis\n",
    "        ax.legend(loc='center left', bbox_to_anchor=(1, 0.5))\n",
    "    plt.tight_layout()\n",
    "    plt.show()\n",
    "sns.set_theme(style='whitegrid')"
   ],
   "metadata": {
    "collapsed": false
   },
   "outputs": [],
   "execution_count": null
  },
  {
   "cell_type": "code",
   "source": [],
   "metadata": {
    "collapsed": false
   },
   "outputs": [],
   "execution_count": null
  },
  {
   "cell_type": "markdown",
   "source": [
    "# Compare replicates"
   ],
   "metadata": {
    "collapsed": false
   }
  },
  {
   "cell_type": "code",
   "source": [
    "def compute_reps_peaks(df_peaks, modifications, cells):\n",
    "    rows = []\n",
    "    t = df_peaks[(df_peaks['modification'].isin(modifications)) & (df_peaks['cell'].isin(cells))]\n",
    "    for (ds, m, c, to), group in t.groupby(['dataset', 'modification', 'cell', 'tool']):\n",
    "        if len(group) != 2:\n",
    "            continue\n",
    "        group.sort_values(by='replicate', inplace=True)\n",
    "        rep1, rep2 = group['replicate'].values[0], group['replicate'].values[1]\n",
    "        peaks1, peaks2 = group['peaks'].values[0], group['peaks'].values[1]\n",
    "        rows.append((ds, m, c, to, rep1, rep2, peaks1, peaks2))\n",
    "    return pd.DataFrame(rows, columns=['dataset', 'modification', 'cell', 'tool', 'replicate1', 'replicate2', 'peaks1', 'peaks2'])"
   ],
   "metadata": {
    "collapsed": false
   },
   "outputs": [],
   "execution_count": null
  },
  {
   "cell_type": "code",
   "source": "df_encode_peaks_original = df_peaks[(df_peaks['dataset'] == 'ENCODE') & (df_peaks['control'] == True)].copy()",
   "metadata": {
    "collapsed": false
   },
   "outputs": [],
   "execution_count": null
  },
  {
   "cell_type": "code",
   "source": [
    "df_encode_reps = compute_reps_peaks(df_encode_peaks_original, MODIFICATIONS, GSE26320_CELLS)\n",
    "df_encode_reps.sample(5)"
   ],
   "metadata": {
    "collapsed": false
   },
   "outputs": [],
   "execution_count": null
  },
  {
   "cell_type": "code",
   "source": [
    "print('ENCODE')\n",
    "df_encode_reps['reps_peaks_diff'] = np.fabs((df_encode_reps['peaks1'] - df_encode_reps['peaks2']) /\n",
    "                                            (df_encode_reps['peaks1'] + df_encode_reps['peaks2']))\n",
    "plt.figure(figsize=(8, 3))\n",
    "ax = plt.axes()\n",
    "sns.boxplot(data=df_encode_reps, x='modification', hue='tool', y='reps_peaks_diff',\n",
    "            palette=TOOLS_PALETTE,\n",
    "            order=MODIFICATIONS,\n",
    "            hue_order=['MACS2', 'MACS2 broad', 'SPAN', 'SICER'],\n",
    "            showfliers=False,\n",
    "            ax=ax)\n",
    "sns.stripplot(data=df_encode_reps, x='modification', hue='tool', y='reps_peaks_diff',\n",
    "              dodge=True, size=3, palette='dark:black', alpha=0.8,\n",
    "              order=MODIFICATIONS,\n",
    "              hue_order=['MACS2', 'MACS2 broad', 'SPAN', 'SICER'], legend=False,\n",
    "              ax=ax)\n",
    "ax.set_title('Peaks difference between replicates')\n",
    "ax.set_ylabel('Abs difference')\n",
    "ax.set_xlabel('Modification')\n",
    "sns.move_legend(ax, loc='center left', bbox_to_anchor=(1, 0.5))\n",
    "plt.tight_layout()\n",
    "plt.show()"
   ],
   "metadata": {
    "collapsed": false
   },
   "outputs": [],
   "execution_count": null
  },
  {
   "metadata": {},
   "cell_type": "code",
   "source": [
    "df_immune_peaks_original = df_peaks[(df_peaks['dataset'] == 'Roadmap') & (df_peaks['control'] == True)].copy()\n",
    "df_immune_reps = compute_reps_peaks(df_immune_peaks_original, MODIFICATIONS, IMMUNE_CELLS)\n",
    "df_immune_reps.sample(5)"
   ],
   "outputs": [],
   "execution_count": null
  },
  {
   "metadata": {},
   "cell_type": "code",
   "source": [
    "print('Roadmap')\n",
    "df_immune_reps['reps_peaks_diff'] = np.fabs((df_immune_reps['peaks1'] - df_immune_reps['peaks2']) /\n",
    "                                            (df_immune_reps['peaks1'] + df_immune_reps['peaks2']))\n",
    "plt.figure(figsize=(8, 3))\n",
    "ax = plt.axes()\n",
    "sns.boxplot(data=df_immune_reps, x='modification', hue='tool', y='reps_peaks_diff',\n",
    "            palette=TOOLS_PALETTE,\n",
    "            order=MODIFICATIONS,\n",
    "            hue_order=['MACS2', 'MACS2 broad', 'SPAN', 'SICER'],\n",
    "            showfliers=False,\n",
    "            ax=ax)\n",
    "sns.stripplot(data=df_immune_reps, x='modification', hue='tool', y='reps_peaks_diff',\n",
    "              dodge=True, size=3, palette='dark:black', alpha=0.8,\n",
    "              order=MODIFICATIONS,\n",
    "              hue_order=['MACS2', 'MACS2 broad', 'SPAN', 'SICER'], legend=False,\n",
    "              ax=ax)\n",
    "ax.set_title('Peaks difference between replicates')\n",
    "ax.set_ylabel('Abs difference')\n",
    "ax.set_xlabel('Modification')\n",
    "sns.move_legend(ax, loc='center left', bbox_to_anchor=(1, 0.5))\n",
    "plt.tight_layout()\n",
    "plt.show()"
   ],
   "outputs": [],
   "execution_count": null
  },
  {
   "metadata": {},
   "cell_type": "code",
   "source": [
    "print('ENCODE + Roadmap')\n",
    "t = pd.concat([df_encode_reps, df_immune_reps]).reset_index(drop=True)\n",
    "plt.figure(figsize=(6, 3))\n",
    "ax = plt.axes()\n",
    "sns.boxplot(data=t, x='modification', hue='tool', y='reps_peaks_diff',\n",
    "            palette=TOOLS_PALETTE,\n",
    "            order=MODIFICATIONS,\n",
    "            hue_order=['MACS2', 'MACS2 broad', 'SPAN', 'SICER'],\n",
    "            showfliers=False,\n",
    "            ax=ax)\n",
    "sns.stripplot(data=t, x='modification', hue='tool', y='reps_peaks_diff',\n",
    "              dodge=True, size=2, palette='dark:black', alpha=0.8,\n",
    "              order=MODIFICATIONS,\n",
    "              hue_order=['MACS2', 'MACS2 broad', 'SPAN', 'SICER'], legend=False,\n",
    "              ax=ax)\n",
    "ax.set_title('Peaks difference between replicates')\n",
    "ax.set_ylabel('Abs difference')\n",
    "ax.set_xlabel('Modification')\n",
    "ax.xaxis.set_tick_params(rotation=45)\n",
    "sns.move_legend(ax, loc='center left', bbox_to_anchor=(1, 0.5))\n",
    "plt.tight_layout()\n",
    "plt.show()"
   ],
   "outputs": [],
   "execution_count": null
  },
  {
   "metadata": {},
   "cell_type": "code",
   "source": [
    "print('ENCODE + Roadmap NO SPAN')\n",
    "t = pd.concat([df_encode_reps, df_immune_reps]).reset_index(drop=True)\n",
    "plt.figure(figsize=(6, 3))\n",
    "ax = plt.axes()\n",
    "sns.boxplot(data=t, x='modification', hue='tool', y='reps_peaks_diff',\n",
    "            palette=TOOLS_PALETTE,\n",
    "            order=MODIFICATIONS,\n",
    "            hue_order=['MACS2', 'MACS2 broad', 'SICER'],\n",
    "            showfliers=False,\n",
    "            ax=ax)\n",
    "sns.stripplot(data=t, x='modification', hue='tool', y='reps_peaks_diff',\n",
    "              dodge=True, size=2, palette='dark:black', alpha=0.8,\n",
    "              order=MODIFICATIONS,\n",
    "              hue_order=['MACS2', 'MACS2 broad', 'SICER'], legend=False,\n",
    "              ax=ax)\n",
    "ax.set_title('Peaks difference between replicates')\n",
    "ax.set_ylabel('Abs difference')\n",
    "ax.set_xlabel('Modification')\n",
    "ax.xaxis.set_tick_params(rotation=45)\n",
    "sns.move_legend(ax, loc='center left', bbox_to_anchor=(1, 0.5))\n",
    "plt.tight_layout()\n",
    "plt.show()"
   ],
   "outputs": [],
   "execution_count": null
  },
  {
   "metadata": {},
   "cell_type": "markdown",
   "source": "# END"
  }
 ],
 "metadata": {
  "anaconda-cloud": {},
  "kernelspec": {
   "display_name": "Python 3",
   "language": "python",
   "name": "python3"
  },
  "language_info": {
   "codemirror_mode": {
    "name": "ipython",
    "version": 3
   },
   "file_extension": ".py",
   "mimetype": "text/x-python",
   "name": "python",
   "nbconvert_exporter": "python",
   "pygments_lexer": "ipython3",
   "version": "3.8.5"
  },
  "toc": {
   "nav_menu": {},
   "number_sections": true,
   "sideBar": true,
   "skip_h1_title": false,
   "toc_cell": false,
   "toc_position": {},
   "toc_section_display": "block",
   "toc_window_display": false
  }
 },
 "nbformat": 4,
 "nbformat_minor": 2
}
