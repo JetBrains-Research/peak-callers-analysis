{
 "cells": [
  {
   "cell_type": "markdown",
   "metadata": {},
   "source": [
    "# Analysis of ChIP-seq simulation"
   ]
  },
  {
   "cell_type": "code",
   "execution_count": null,
   "metadata": {},
   "outputs": [],
   "source": [
    "%matplotlib inline\n",
    "%config InlineBackend.figure_format='retina'\n",
    "\n",
    "from IPython.display import display\n",
    "import pandas as pd\n",
    "\n",
    "import seaborn as sns\n",
    "sns.set_style(\"whitegrid\")\n",
    "import matplotlib.pyplot as plt\n",
    "from matplotlib.backends.backend_pdf import PdfPages\n",
    "import numpy as np\n",
    "from collections import OrderedDict, Counter"
   ]
  },
  {
   "cell_type": "code",
   "execution_count": null,
   "metadata": {},
   "outputs": [],
   "source": [
    "df = pd.read_csv('/mnt/stripe/shpynov/2021_chips/report.tsv', sep='\\t', comment='#')\n",
    "\n",
    "# Focus on H3K4me3 now\n",
    "df = df.loc[df['PeaksSource'].isin(set(['macs2']))]\n",
    "df = df.loc[df['Modification'] == 'H3K4me3']\n",
    "df = df.loc[df['Tool'].isin(set(['Macs2', 'Macs2Broad', 'SICER', 'SPAN-GAP5']))]\n",
    "\n",
    "# Fix SPAN default naming to avoid duplicate record\n",
    "df = df.loc[['_1E-6_' not in pf for pf in df['PeaksFile']]]\n",
    "df['Fdr'] = df['Fdr'].astype(float)\n",
    "\n",
    "# Remove relaxed FDR setting to avoid explosure in #peaks\n",
    "df = df.loc[df['Fdr'] <= 0.01]\n",
    "df"
   ]
  },
  {
   "cell_type": "code",
   "execution_count": null,
   "metadata": {},
   "outputs": [],
   "source": [
    "df.sort_values(by=['Modification', 'PeaksSource', 'Mult', 'Library', 'Tool', 'Fdr'], inplace=True)"
   ]
  },
  {
   "cell_type": "code",
   "execution_count": null,
   "metadata": {},
   "outputs": [],
   "source": [
    "df['TrueAverageLength'] = df['TrueLength'] / df['TruePeaks']\n",
    "df['AverageLength'] = df['Length'] / df['Peaks']\n",
    "df.fillna(0, inplace=True)"
   ]
  },
  {
   "cell_type": "code",
   "execution_count": null,
   "metadata": {},
   "outputs": [],
   "source": [
    "df['LogFdr'] = np.log10(df['Fdr'])\n",
    "df.loc[df['Fdr']==0.05, 'LogFdr'] = -1.3"
   ]
  },
  {
   "cell_type": "code",
   "execution_count": null,
   "metadata": {},
   "outputs": [],
   "source": [
    "df['PrecisionF'] = df['Precision'] / df['TruePeaks']\n",
    "df['RecallF'] = df['Recall'] / df['Peaks']\n",
    "df.sort_values(by=['RecallF', 'PrecisionF'], ascending=[True, False], inplace=True)\n",
    "df.fillna(1, inplace=True)"
   ]
  },
  {
   "cell_type": "code",
   "execution_count": null,
   "metadata": {},
   "outputs": [],
   "source": [
    "print('Limit peaks number')\n",
    "df.loc[df['Peaks'] > 3000, 'Peaks'] = 3000\n",
    "print('Limit average length')\n",
    "df.loc[df['AverageLength'] > 10000, 'AverageLength'] = 10000"
   ]
  },
  {
   "cell_type": "markdown",
   "metadata": {},
   "source": [
    "# Summary number of peaks"
   ]
  },
  {
   "cell_type": "code",
   "execution_count": null,
   "metadata": {},
   "outputs": [],
   "source": [
    "cmap = plt.cm.get_cmap('jet', len(set(df['Tool'])))\n",
    "palette = {t: cmap(i) for i, t in enumerate(sorted(set(df['Tool'])))}"
   ]
  },
  {
   "cell_type": "code",
   "execution_count": null,
   "metadata": {
    "scrolled": false
   },
   "outputs": [],
   "source": [
    "def summary_peaks_lengths(df, name):\n",
    "    for ps in sorted(set(df['PeaksSource'])):\n",
    "        for m in sorted(set(df['Modification'])):\n",
    "            t = df.loc[(df['PeaksSource'] == ps) & (df['Modification'] == m)].copy()\n",
    "            t.sort_values(by=['Tool', 'Fdr'], inplace=True)\n",
    "    \n",
    "            fig = plt.figure(figsize=(15, 5))\n",
    "\n",
    "            ax = plt.subplot(1, 2, 1)\n",
    "            print('Peaks', ps, m)\n",
    "            print(f\"True peaks {set(t['TruePeaks'])}\")\n",
    "            sns.boxplot(data=t, x=\"Fdr\", y=\"Peaks\", hue=\"Tool\", palette=palette)\n",
    "            plt.title(f'{m} {ps} {name}')\n",
    "            plt.xticks(rotation=45, ha='right')\n",
    "            plt.legend(loc='upper left')\n",
    "#             plt.ylim(-20, t['Peaks'].max() * 1.2)\n",
    "\n",
    "            ax = plt.subplot(1, 2, 2)            \n",
    "            print('Length', ps, m)\n",
    "            print(f\"True average length {set(t['TrueAverageLength'])}\")        \n",
    "            sns.boxplot(data=t, x=\"Fdr\", y=\"AverageLength\", hue=\"Tool\", palette=palette)\n",
    "            plt.title(f'{m} {ps} {name}')\n",
    "            plt.xticks(rotation=45, ha='right')\n",
    "            plt.legend(loc='upper left')\n",
    "#             plt.ylim(-20, t['AverageLength'].max() * 1.2)\n",
    "            \n",
    "            plt.savefig(f'/mnt/stripe/shpynov/2021_chips/summary_peaks_length_{name}_{m}_{ps}.png')\n",
    "            plt.show()        "
   ]
  },
  {
   "cell_type": "code",
   "execution_count": null,
   "metadata": {},
   "outputs": [],
   "source": [
    "# t = t.loc[(t['Modification'] == 'H3K4me1') & (t['PeaksSource'] == 'macs2') & (t['Peaks'] >= 1800) & (t['Tool'] == 'SPAN-GAP5')]\n",
    "# display(t)\n",
    "# print('\\n'.join(sorted(list(t['PeaksFile']))))"
   ]
  },
  {
   "cell_type": "code",
   "execution_count": null,
   "metadata": {
    "scrolled": true
   },
   "outputs": [],
   "source": [
    "print('Summary number of peaks and length good quality')\n",
    "summary_peaks_lengths(df.loc[(df['Library'] == '1mln') & (df['Mult'] == '_1.0')], 'good_quality')"
   ]
  },
  {
   "cell_type": "code",
   "execution_count": null,
   "metadata": {
    "scrolled": true
   },
   "outputs": [],
   "source": [
    "print('Summary number of peaks and length on low coverage')\n",
    "summary_peaks_lengths(df.loc[df['Library'] == '200k'], 'low_coverage')"
   ]
  },
  {
   "cell_type": "code",
   "execution_count": null,
   "metadata": {
    "scrolled": true
   },
   "outputs": [],
   "source": [
    "print('Summary number of peaks and length on low frip')\n",
    "summary_peaks_lengths(df.loc[df['Mult'] == '_0.2'], 'low_frip')"
   ]
  },
  {
   "cell_type": "code",
   "execution_count": null,
   "metadata": {},
   "outputs": [],
   "source": [
    "list(df.loc[(df['Mult'] == '_0.2') & (df['Peaks'] > 1500) & (df['Tool'] == 'SPAN-GAP5')].head()['PeaksFile'])"
   ]
  },
  {
   "cell_type": "code",
   "execution_count": null,
   "metadata": {
    "scrolled": true
   },
   "outputs": [],
   "source": [
    "print('Summary number of peaks and length')\n",
    "summary_peaks_lengths(df, 'all')"
   ]
  },
  {
   "cell_type": "markdown",
   "metadata": {},
   "source": [
    "## Peaks vs Average length"
   ]
  },
  {
   "cell_type": "code",
   "execution_count": null,
   "metadata": {},
   "outputs": [],
   "source": [
    "def summary_vs(df, name, v1, v2):\n",
    "    for ps in sorted(set(df['PeaksSource'])):\n",
    "        for m in sorted(set(df['Modification'])):\n",
    "            print(ps, m)\n",
    "            t = df.loc[(df['PeaksSource'] == ps) & (df['Modification'] == m)]\n",
    "            fig = plt.figure(figsize=(12, 6))\n",
    "            for lib in ['1mln', '500k', '200k']:\n",
    "                for mult in ['_1.0', '_0.5', '_0.2']:\n",
    "                    for i in set(t['I']):\n",
    "                        for tool in set(t['Tool']):\n",
    "                            tt = t.loc[(df['Mult'] == mult) & (df['Library'] == lib) & (t['I'] == i)].copy()\n",
    "                            tt.sort_values(by=['Tool', 'Fdr'], inplace=True)\n",
    "                            sns.lineplot(data=tt, x=v1, y=v2, hue='Tool', \n",
    "                                         markers=True, style='I', palette=palette, alpha=0.2)\n",
    "#             plt.ylim(-20, t['AverageLength'].max() * 1.2)\n",
    "            # Single legend\n",
    "            handles, labels = plt.axes().get_legend_handles_labels()\n",
    "            plt.legend(handles=handles[:len(set(t['Tool'])) + 1], \n",
    "                       labels=labels[:len(set(t['Tool'])) + 1],\n",
    "                      loc='lower left')\n",
    "            plt.title(f'{m} {ps} {name}')\n",
    "            plt.savefig(f'/mnt/stripe/shpynov/2021_chips/summary_{v1}_vs_{v2}_{m}_{ps}_{name}.png')\n",
    "            plt.show()"
   ]
  },
  {
   "cell_type": "code",
   "execution_count": null,
   "metadata": {
    "scrolled": false
   },
   "outputs": [],
   "source": [
    "print('Peaks vs Average Length')\n",
    "summary_vs(df.loc[(df['Library'] == '1mln') & (df['Mult'] == '_1.0')], \n",
    "           'good_quality', 'Peaks', 'AverageLength')"
   ]
  },
  {
   "cell_type": "code",
   "execution_count": null,
   "metadata": {
    "scrolled": false
   },
   "outputs": [],
   "source": [
    "def peaks_lengths(df):\n",
    "    for ps in sorted(set(df['PeaksSource'])):\n",
    "        for m in sorted(set(df['Modification'])):\n",
    "            print('Peaks', ps, m)\n",
    "            print(f\"True peaks {set(df[(df['PeaksSource'] == ps) & (df['Modification'] == m)]['TruePeaks'])}\")\n",
    "            fig = plt.figure(figsize=(5 * 3, 5 * 3))\n",
    "            i = 1\n",
    "            for lib in ['1mln', '500k', '200k']:\n",
    "                for mult in ['_1.0', '_0.5', '_0.2']:\n",
    "                    t = df.loc[(df['PeaksSource'] == ps) & (df['Modification'] == m) & \n",
    "                           (df['Mult'] == mult) & (df['Library'] == lib)]\n",
    "                    ax = plt.subplot(3, 3, i)\n",
    "                    sns.boxplot(data=t, x=\"Fdr\", y=\"Peaks\", hue=\"Tool\", palette=palette)\n",
    "                    plt.title(f'{m} {ps} {lib} {mult}')\n",
    "                    plt.xticks(rotation=45, ha='right')\n",
    "                    plt.ylim(-20, t['Peaks'].max() * 1.2)\n",
    "                    if i == 1:\n",
    "                        ax.legend(loc='upper left')\n",
    "                    else:\n",
    "                        ax.get_legend().remove()    \n",
    "                    i += 1\n",
    "            plt.savefig(f'/mnt/stripe/shpynov/2021_chips/peaks_{m}_{ps}.png')\n",
    "            plt.show()\n",
    "\n",
    "            print('Length', ps, m)\n",
    "            print(f\"True average length {set(df[(df['PeaksSource'] == ps) & (df['Modification'] == m)]['TrueAverageLength'])}\")        \n",
    "            fig = plt.figure(figsize=(5 * 3, 5 * 3))\n",
    "            i = 1\n",
    "            for lib in ['1mln', '500k', '200k']:\n",
    "                for mult in ['_1.0', '_0.5', '_0.2']:\n",
    "                    t = df.loc[(df['PeaksSource'] == ps) & (df['Modification'] == m) &\n",
    "                           (df['Mult'] == mult) & (df['Library'] == lib)]\n",
    "                    ax = plt.subplot(3, 3, i)\n",
    "                    sns.boxplot(data=t, x=\"Fdr\", y=\"AverageLength\", hue=\"Tool\", palette=palette)\n",
    "                    plt.title(f'{m} {ps} {lib} {mult}')\n",
    "                    plt.xticks(rotation=45, ha='right')\n",
    "                    plt.ylim(-20, t['Length'].max() * 1.2)\n",
    "                    if i == 1:\n",
    "                        ax.legend(loc='upper left')\n",
    "                    else:\n",
    "                        ax.get_legend().remove()    \n",
    "                    i += 1\n",
    "            plt.savefig(f'/mnt/stripe/shpynov/2021_chips/length_{m}_{ps}.png')\n",
    "            plt.show()        "
   ]
  },
  {
   "cell_type": "code",
   "execution_count": null,
   "metadata": {
    "scrolled": true
   },
   "outputs": [],
   "source": [
    "print('Summary number of peaks and length')\n",
    "peaks_lengths(df)"
   ]
  },
  {
   "cell_type": "markdown",
   "metadata": {},
   "source": [
    "## Precision / Recall"
   ]
  },
  {
   "cell_type": "code",
   "execution_count": null,
   "metadata": {
    "scrolled": true
   },
   "outputs": [],
   "source": [
    "print('Detailed Precision / Recall plot')\n",
    "\n",
    "for ps in sorted(set(df['PeaksSource'])):\n",
    "    for m in sorted(set(df['Modification'])):\n",
    "        print(ps, m)\n",
    "        fig = plt.figure(figsize=(5 * 3, 5 * 3))\n",
    "        i = 1\n",
    "        for lib in ['1mln', '500k', '200k']:\n",
    "            for mult in ['_1.0', '_0.5', '_0.2']:\n",
    "                t = df.loc[(df['PeaksSource'] == ps) & (df['Modification'] == m) &\n",
    "                       (df['Mult'] == mult) & (df['Library'] == lib)]\n",
    "                ax = plt.subplot(3, 3, i)\n",
    "                for I in set(t['I']):\n",
    "                    tt = t.loc[t['I'] == I].copy()\n",
    "                    tt.sort_values(by=['Tool', 'PrecisionF', 'RecallF'], inplace=True)\n",
    "                    sns.lineplot(data=tt, x=\"PrecisionF\", y=\"RecallF\", hue='Tool', \n",
    "                                 markers=True, style='I', palette=palette, alpha=0.5)\n",
    "                if i == 1:\n",
    "                    # Single legend\n",
    "                    handles, labels = ax.get_legend_handles_labels()\n",
    "                    ax.legend(handles=handles[:len(set(tt['Tool'])) + 1], \n",
    "                              labels=labels[:len(set(tt['Tool'])) + 1],\n",
    "                             loc='lower left')\n",
    "                else:\n",
    "                    ax.get_legend().remove()\n",
    "\n",
    "                i += 1\n",
    "                plt.xlim(-0.1, 1.1)\n",
    "                plt.ylim(-0.1, 1.1)\n",
    "                plt.title(f'{m} {ps} {lib} {mult}')\n",
    "        plt.savefig(f'/mnt/stripe/shpynov/2021_chips/prc_plot_{m}_{ps}.png')\n",
    "        plt.show()"
   ]
  },
  {
   "cell_type": "code",
   "execution_count": null,
   "metadata": {},
   "outputs": [],
   "source": [
    "# Investigate bad precision/recall samples\n",
    "df.loc[((df['PrecisionF'] > 0) & (df['PrecisionF'] < 0.2) & (df['RecallF'] > 0) & (df['RecallF'] < 0.2))]"
   ]
  },
  {
   "cell_type": "code",
   "execution_count": null,
   "metadata": {},
   "outputs": [],
   "source": [
    "def precision_recall(df, name):\n",
    "    for ps in sorted(set(df['PeaksSource'])):\n",
    "        for m in sorted(set(df['Modification'])):\n",
    "            print('Peaks', name, ps, m)\n",
    "            t = df.loc[(df['PeaksSource'] == ps) & (df['Modification'] == m)]\n",
    "            fig = plt.figure(figsize=(6, 6))\n",
    "            for lib in ['1mln', '500k', '200k']:\n",
    "                for mult in ['_1.0', '_0.5', '_0.2']:\n",
    "                    for i in set(t['I']):\n",
    "                        for tool in set(t['Tool']):\n",
    "                            tt = t.loc[(df['Mult'] == mult) & (df['Library'] == lib) & (t['I'] == i)].copy()\n",
    "                            tt.sort_values(by=['Tool', 'Fdr'], inplace=True)\n",
    "                            sns.lineplot(data=tt, x='PrecisionF', y='RecallF', hue='Tool', \n",
    "                                         markers=True, style='I', palette=palette, alpha=0.2)\n",
    "\n",
    "            # Single legend\n",
    "            handles, labels = ax.get_legend_handles_labels()\n",
    "            plt.legend(handles=handles[:len(set(t['Tool'])) + 1], \n",
    "                      labels=labels[:len(set(t['Tool'])) + 1],\n",
    "                      loc='lower left')\n",
    "            plt.xlim(min(0.6, t['PrecisionF'].min()), 1.1)\n",
    "            plt.ylim(min(0.6, t['RecallF'].min()), 1.1)\n",
    "            plt.title(f'{m} {ps} {name}')\n",
    "            plt.savefig(f'/mnt/stripe/shpynov/2021_chips/precision_recall_{name}_{m}_{ps}_{name}.png')\n",
    "            plt.show()"
   ]
  },
  {
   "cell_type": "code",
   "execution_count": null,
   "metadata": {},
   "outputs": [],
   "source": [
    "print('Precision / Recall')\n",
    "precision_recall(df.loc[(df['Library'] == '1mln') & (df['Mult'] == '_1.0')], 'good_quality')"
   ]
  },
  {
   "cell_type": "code",
   "execution_count": null,
   "metadata": {},
   "outputs": [],
   "source": [
    "print('Precision / Recall low coverage')\n",
    "precision_recall(df.loc[df['Library'] == '200k'], 'low_coverage')"
   ]
  },
  {
   "cell_type": "code",
   "execution_count": null,
   "metadata": {},
   "outputs": [],
   "source": [
    "print('Precision / Recall low frip')\n",
    "precision_recall(df.loc[df['Mult'] == '_0.2'], 'low_frip')"
   ]
  },
  {
   "cell_type": "code",
   "execution_count": null,
   "metadata": {},
   "outputs": [],
   "source": [
    "def peaks_precision_recall(df, name):\n",
    "    for ps in sorted(set(df['PeaksSource'])):\n",
    "        for m in sorted(set(df['Modification'])):\n",
    "            print('Peaks', name, ps, m)\n",
    "            t = df.loc[(df['PeaksSource'] == ps) & (df['Modification'] == m)]\n",
    "            fig = plt.figure(figsize=(15, 6))\n",
    "            \n",
    "            ax = plt.subplot(1, 2, 1)\n",
    "            for lib in ['1mln', '500k', '200k']:\n",
    "                for mult in ['_1.0', '_0.5', '_0.2']:\n",
    "                    for i in set(t['I']):\n",
    "                        for tool in set(t['Tool']):\n",
    "                            tt = t.loc[(df['Mult'] == mult) & (df['Library'] == lib) & (t['I'] == i)].copy()\n",
    "                            tt.sort_values(by=['Tool', 'Fdr'], inplace=True)\n",
    "                            sns.lineplot(data=tt, x='Peaks', y='PrecisionF', hue='Tool', \n",
    "                                         markers=True, style='I', palette=palette, alpha=0.2)\n",
    "            # Single legend\n",
    "            handles, labels = ax.get_legend_handles_labels()\n",
    "            ax.legend(handles=handles[:len(set(t['Tool'])) + 1], \n",
    "                      labels=labels[:len(set(t['Tool'])) + 1],\n",
    "                     loc='lower left')\n",
    "            \n",
    "            ax = plt.subplot(1, 2, 2)\n",
    "            for lib in ['1mln', '500k', '200k']:\n",
    "                for mult in ['_1.0', '_0.5', '_0.2']:\n",
    "                    for i in set(t['I']):\n",
    "                        for tool in set(t['Tool']):\n",
    "                            tt = t.loc[(df['Mult'] == mult) & (df['Library'] == lib) & (t['I'] == i)].copy()\n",
    "                            tt.sort_values(by=['Tool', 'Fdr'], inplace=True)\n",
    "                            sns.lineplot(data=tt, x='Peaks', y='RecallF', hue='Tool', \n",
    "                                         markers=True, style='I', palette=palette, alpha=0.2)\n",
    "\n",
    "            ax.get_legend().remove()    \n",
    "\n",
    "            plt.title(f'{m} {ps} {name}')\n",
    "            plt.savefig(f'/mnt/stripe/shpynov/2021_chips/summary_peaks_precision_recall_{name}_{m}_{ps}_{name}.png')\n",
    "            plt.show()"
   ]
  },
  {
   "cell_type": "code",
   "execution_count": null,
   "metadata": {
    "scrolled": false
   },
   "outputs": [],
   "source": [
    "print('Peaks vs Precision / Recall')\n",
    "peaks_precision_recall(df.loc[(df['Library'] == '1mln') & (df['Mult'] == '_1.0')], 'good_quality')"
   ]
  },
  {
   "cell_type": "code",
   "execution_count": null,
   "metadata": {},
   "outputs": [],
   "source": [
    "print('Peaks vs Precision / Recall Low coverage')\n",
    "peaks_precision_recall(df.loc[df['Library'] == '200k'], 'low_coverage')"
   ]
  },
  {
   "cell_type": "code",
   "execution_count": null,
   "metadata": {},
   "outputs": [],
   "source": [
    "print('Peaks vs Precision / Recall Low frip')\n",
    "peaks_precision_recall(df.loc[df['Mult'] == '_0.2'], 'low_frip')"
   ]
  },
  {
   "cell_type": "markdown",
   "metadata": {},
   "source": [
    "# Average precision\n",
    "\n",
    "AP summarizes a precision-recall curve as the weighted mean of precisions achieved at each threshold, with the increase in recall from the previous threshold used as the weight:\n",
    "\n",
    "AP = ∑(Rn−Rn−1)*Pn, where  Pn and Rn are the precision and recall at the nth threshold.\n",
    "\n",
    "This implementation is not interpolated and is different from computing the area under the precision-recall curve with the trapezoidal rule, which uses linear interpolation and can be too optimistic."
   ]
  },
  {
   "cell_type": "code",
   "execution_count": null,
   "metadata": {},
   "outputs": [],
   "source": [
    "dfap = pd.DataFrame(columns=['Modification', 'PeaksSource', 'Library', 'Mult', 'I', 'Tool', 'AP'], dtype=object)\n",
    "for ps in sorted(set(df['PeaksSource'])):\n",
    "    for m in sorted(set(df['Modification'])):\n",
    "        print(ps, m)\n",
    "        for lib in ['1mln', '500k', '200k']:\n",
    "            for mult in ['_1.0', '_0.5', '_0.2']:\n",
    "                t = df.loc[(df['PeaksSource'] == ps) & (df['Modification'] == m) &\n",
    "                       (df['Mult'] == mult) & (df['Library'] == lib)]\n",
    "                for tool in sorted(set(t['Tool'])):\n",
    "                    for i in sorted(set(t['I'])):\n",
    "                        tt = t.loc[(t['Tool']==tool) & (t['I'] == i)].copy()\n",
    "                        tt.sort_values(by=['RecallF', 'PrecisionF'], inplace=True)\n",
    "                        if m == 'H3K36me3' and ps == 'sicer' and lib == '200k' and mult == '_1.0' and \\\n",
    "                            i == 2 and tool == 'Macs2':\n",
    "                            display(tt)\n",
    "                        ap = 0\n",
    "                        rprev = 0\n",
    "                        for _, row in tt.iterrows():\n",
    "                            ap += (row['RecallF'] - rprev)*row['PrecisionF']\n",
    "                            rprev = row['RecallF']\n",
    "#                         display(tt)\n",
    "#                         print(ap)\n",
    "#                         raise Exception(\"STOP\")\n",
    "                        dfap.loc[len(dfap)] = (m, ps, lib, mult, i, tool, ap)                \n"
   ]
  },
  {
   "cell_type": "code",
   "execution_count": null,
   "metadata": {
    "scrolled": false
   },
   "outputs": [],
   "source": [
    "def plot_summary_ap(dfap, name):\n",
    "    for m in sorted(set(dfap['Modification'])):\n",
    "        print(m)\n",
    "        fig = plt.figure(figsize=(10, 5))\n",
    "        tt = dfap.loc[(dfap['Modification'] == m)].copy()\n",
    "        tt.sort_values(by=['Tool', 'PeaksSource'], inplace=True)\n",
    "        sns.boxplot(x='PeaksSource', y='AP', hue='Tool', data=tt, palette=palette)\n",
    "        plt.title(f'{m} {name}')\n",
    "        ax.legend(loc='lower left')\n",
    "        plt.ylim(-0.1, 1.1)\n",
    "        plt.savefig(f'/mnt/stripe/shpynov/2021_chips/summary_ap_{name}_{m}.png')    \n",
    "        plt.show()"
   ]
  },
  {
   "cell_type": "code",
   "execution_count": null,
   "metadata": {
    "scrolled": false
   },
   "outputs": [],
   "source": [
    "print('Good quality')\n",
    "plot_summary_ap(dfap.loc[(dfap['Library'] == '1mln') & (dfap['Mult'] == '_1.0')], 'good_quality')"
   ]
  },
  {
   "cell_type": "code",
   "execution_count": null,
   "metadata": {},
   "outputs": [],
   "source": [
    "print('Low coverage AP')\n",
    "plot_summary_ap(dfap.loc[dfap['Library'] == '200k'], 'low_coverage')"
   ]
  },
  {
   "cell_type": "code",
   "execution_count": null,
   "metadata": {
    "scrolled": false
   },
   "outputs": [],
   "source": [
    "print('Low frip AP')\n",
    "plot_summary_ap(dfap.loc[dfap['Mult'] == '_0.2'], 'low_frip')"
   ]
  },
  {
   "cell_type": "code",
   "execution_count": null,
   "metadata": {
    "scrolled": false
   },
   "outputs": [],
   "source": [
    "print('Summary AP')\n",
    "plot_summary_ap(dfap, 'all')"
   ]
  },
  {
   "cell_type": "code",
   "execution_count": null,
   "metadata": {
    "scrolled": false
   },
   "outputs": [],
   "source": [
    "for m in sorted(set(dfap['Modification'])):\n",
    "    print(m)\n",
    "    fig = plt.figure(figsize=(5 * 3, 5 * 3))\n",
    "    i = 1\n",
    "    for lib in ['1mln', '500k', '200k']:\n",
    "        for mult in ['_1.0', '_0.5', '_0.2']:\n",
    "            tt = dfap.loc[(dfap['Modification'] == m) & \n",
    "                          (dfap['Mult'] == mult) & (dfap['Library'] == lib)].copy()\n",
    "            ax = plt.subplot(3, 3, i)\n",
    "            tt.sort_values(by=['Tool'], inplace=True)\n",
    "            sns.boxplot(x='PeaksSource', y='AP', hue='Tool', data=tt, palette=palette)\n",
    "            plt.title(f'{m} {lib} {mult}')\n",
    "            if i == 1:\n",
    "                ax.legend(loc='lower left')\n",
    "            else:\n",
    "                ax.get_legend().remove()\n",
    "            i += 1\n",
    "            plt.ylim(-0.1, 1.1)\n",
    "    plt.savefig(f'/mnt/stripe/shpynov/2021_chips/ap_{m}.png')            \n",
    "    plt.show()"
   ]
  },
  {
   "cell_type": "code",
   "execution_count": null,
   "metadata": {},
   "outputs": [],
   "source": []
  }
 ],
 "metadata": {
  "kernelspec": {
   "display_name": "Python 3",
   "language": "python",
   "name": "python3"
  },
  "language_info": {
   "codemirror_mode": {
    "name": "ipython",
    "version": 3
   },
   "file_extension": ".py",
   "mimetype": "text/x-python",
   "name": "python",
   "nbconvert_exporter": "python",
   "pygments_lexer": "ipython3",
   "version": "3.8.5"
  }
 },
 "nbformat": 4,
 "nbformat_minor": 5
}
