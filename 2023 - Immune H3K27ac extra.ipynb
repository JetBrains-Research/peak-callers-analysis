{
 "cells": [
  {
   "cell_type": "markdown",
   "metadata": {},
   "source": [
    "# 2023 Immune H3K27ac extra"
   ]
  },
  {
   "cell_type": "code",
   "execution_count": 1,
   "metadata": {
    "ExecuteTime": {
     "end_time": "2023-08-16T13:05:10.593750Z",
     "start_time": "2023-08-16T13:05:10.333550Z"
    }
   },
   "outputs": [],
   "source": [
    "%matplotlib inline\n",
    "%config InlineBackend.figure_format='retina'\n",
    "\n",
    "import pandas as pd\n",
    "import seaborn as sns\n",
    "from IPython.display import display\n",
    "from tqdm.auto import tqdm\n",
    "\n",
    "sns.set_style(\"whitegrid\")\n",
    "import matplotlib.pyplot as plt\n",
    "import numpy as np\n",
    "import os\n",
    "import tempfile"
   ]
  },
  {
   "cell_type": "code",
   "execution_count": 2,
   "outputs": [],
   "source": [
    "def bedl(file):\n",
    "    try:\n",
    "        tf = pd.read_csv(file, sep='\\t', header=None)\n",
    "        return tf[2] - tf[1]\n",
    "    except:\n",
    "        return np.zeros(0)  # Empty file\n",
    "\n",
    "\n",
    "def lines(file):\n",
    "    try:\n",
    "        tf = pd.read_csv(file, sep='\\t', header=None)\n",
    "        return len(tf)\n",
    "    except:\n",
    "        return 0  # Empty file\n",
    "\n",
    "def d(a, b):\n",
    "    return a / b if b != 0 else 0\n",
    "\n",
    "def sorted_file(file):\n",
    "    ts = tempfile.mktemp()\n",
    "    !cat {file} | sort -k1,1 -k2,2n > {ts}\n",
    "    return ts\n",
    "\n",
    "def last_col(file):\n",
    "    try:\n",
    "        cols = len(pd.read_csv(file, sep='\\t', nrows=1, header=None).columns)\n",
    "        return pd.read_csv(file, sep='\\t', header=None, usecols=[cols - 1])[cols - 1]\n",
    "    except:\n",
    "        return np.zeros(0)  # Empty file"
   ],
   "metadata": {
    "collapsed": false,
    "ExecuteTime": {
     "end_time": "2023-08-16T13:05:10.594010Z",
     "start_time": "2023-08-16T13:05:10.349926Z"
    }
   }
  },
  {
   "cell_type": "markdown",
   "source": [
    "## Load peaks"
   ],
   "metadata": {
    "collapsed": false
   }
  },
  {
   "cell_type": "code",
   "execution_count": 3,
   "outputs": [],
   "source": [
    "PATH = os.path.expanduser('~/data/2023_Immune')\n",
    "# PATH = os.path.expanduser('~/data/2023_Immune_no_control')\n",
    "IMMUNE_CELLS = ['BCell', 'TCell']\n",
    "MODIFICATIONS = ['H3K27ac']\n",
    "\n",
    "! mkdir -p {PATH}/pics"
   ],
   "metadata": {
    "collapsed": false,
    "ExecuteTime": {
     "end_time": "2023-08-16T13:05:10.603797Z",
     "start_time": "2023-08-16T13:05:10.371594Z"
    }
   }
  },
  {
   "cell_type": "code",
   "execution_count": 51,
   "outputs": [],
   "source": [
    "def load_peaks_fdr(path, suffix, fdrs):\n",
    "    df_fdr = pd.DataFrame(columns=['file', 'modification', 'cell', 'fdr', 'peaks', 'avlength'],\n",
    "                          dtype=object)\n",
    "    for f in tqdm(os.listdir(path)):\n",
    "        if suffix not in f:\n",
    "            continue\n",
    "        fdr = next((fdr for fdr in fdrs if fdr in f), None)\n",
    "        cell = next((cc for cc in IMMUNE_CELLS if cc in f), None)\n",
    "        mod = next((m for m in MODIFICATIONS if m in f), None)\n",
    "        # print(f, fdr, cell, mod)\n",
    "        if fdr and cell and mod:\n",
    "            peaks_path = os.path.join(path, f)\n",
    "            ps, ls = lines(peaks_path), bedl(peaks_path)\n",
    "            avls = 0 if ps == 0 else sum(ls) / ps\n",
    "            df_fdr.loc[len(df_fdr)] = (peaks_path, mod, cell, fdr, ps, avls)\n",
    "    return df_fdr\n"
   ],
   "metadata": {
    "collapsed": false,
    "ExecuteTime": {
     "end_time": "2023-08-17T13:23:24.249205Z",
     "start_time": "2023-08-17T13:23:24.207883Z"
    }
   }
  },
  {
   "cell_type": "code",
   "execution_count": 52,
   "outputs": [
    {
     "data": {
      "text/plain": "  0%|          | 0/112 [00:00<?, ?it/s]",
      "application/vnd.jupyter.widget-view+json": {
       "version_major": 2,
       "version_minor": 0,
       "model_id": "63241882b17845f4b2d158f8f4b7c132"
      }
     },
     "metadata": {},
     "output_type": "display_data"
    },
    {
     "name": "stdout",
     "output_type": "stream",
     "text": [
      "MACS2 2\n"
     ]
    },
    {
     "data": {
      "text/plain": "  0%|          | 0/112 [00:00<?, ?it/s]",
      "application/vnd.jupyter.widget-view+json": {
       "version_major": 2,
       "version_minor": 0,
       "model_id": "28b1f082c5eb446caccf25eb089e80e2"
      }
     },
     "metadata": {},
     "output_type": "display_data"
    },
    {
     "name": "stdout",
     "output_type": "stream",
     "text": [
      "MACS2 broad 2\n"
     ]
    },
    {
     "data": {
      "text/plain": "  0%|          | 0/118 [00:00<?, ?it/s]",
      "application/vnd.jupyter.widget-view+json": {
       "version_major": 2,
       "version_minor": 0,
       "model_id": "e76db8ce918d4028a7c66a101bfa4fde"
      }
     },
     "metadata": {},
     "output_type": "display_data"
    },
    {
     "name": "stdout",
     "output_type": "stream",
     "text": [
      "SICER 2\n"
     ]
    },
    {
     "data": {
      "text/plain": "  0%|          | 0/17 [00:00<?, ?it/s]",
      "application/vnd.jupyter.widget-view+json": {
       "version_major": 2,
       "version_minor": 0,
       "model_id": "4d3ae444057443b880ee549a61f7c2fe"
      }
     },
     "metadata": {},
     "output_type": "display_data"
    },
    {
     "name": "stdout",
     "output_type": "stream",
     "text": [
      "SPAN 2\n"
     ]
    },
    {
     "data": {
      "text/plain": "                                                file modification   cell  \\\n0  /home/jetbrains/data/2023_Immune/span/TCell_H3...      H3K27ac  TCell   \n1  /home/jetbrains/data/2023_Immune/sicer/BCell_H...      H3K27ac  BCell   \n0  /home/jetbrains/data/2023_Immune/sicer/TCell_H...      H3K27ac  TCell   \n1  /home/jetbrains/data/2023_Immune/macs2/BCell_H...      H3K27ac  BCell   \n0  /home/jetbrains/data/2023_Immune/macs2/TCell_H...      H3K27ac  TCell   \n\n    fdr  peaks     avlength   tool  \n0  0.05  31192  2721.691267   SPAN  \n1  0.01  24342  3746.687125  SICER  \n0  0.01  26338  4713.686005  SICER  \n1  0.05  45626   877.539539  MACS2  \n0  0.05  57350   960.794316  MACS2  ",
      "text/html": "<div>\n<style scoped>\n    .dataframe tbody tr th:only-of-type {\n        vertical-align: middle;\n    }\n\n    .dataframe tbody tr th {\n        vertical-align: top;\n    }\n\n    .dataframe thead th {\n        text-align: right;\n    }\n</style>\n<table border=\"1\" class=\"dataframe\">\n  <thead>\n    <tr style=\"text-align: right;\">\n      <th></th>\n      <th>file</th>\n      <th>modification</th>\n      <th>cell</th>\n      <th>fdr</th>\n      <th>peaks</th>\n      <th>avlength</th>\n      <th>tool</th>\n    </tr>\n  </thead>\n  <tbody>\n    <tr>\n      <th>0</th>\n      <td>/home/jetbrains/data/2023_Immune/span/TCell_H3...</td>\n      <td>H3K27ac</td>\n      <td>TCell</td>\n      <td>0.05</td>\n      <td>31192</td>\n      <td>2721.691267</td>\n      <td>SPAN</td>\n    </tr>\n    <tr>\n      <th>1</th>\n      <td>/home/jetbrains/data/2023_Immune/sicer/BCell_H...</td>\n      <td>H3K27ac</td>\n      <td>BCell</td>\n      <td>0.01</td>\n      <td>24342</td>\n      <td>3746.687125</td>\n      <td>SICER</td>\n    </tr>\n    <tr>\n      <th>0</th>\n      <td>/home/jetbrains/data/2023_Immune/sicer/TCell_H...</td>\n      <td>H3K27ac</td>\n      <td>TCell</td>\n      <td>0.01</td>\n      <td>26338</td>\n      <td>4713.686005</td>\n      <td>SICER</td>\n    </tr>\n    <tr>\n      <th>1</th>\n      <td>/home/jetbrains/data/2023_Immune/macs2/BCell_H...</td>\n      <td>H3K27ac</td>\n      <td>BCell</td>\n      <td>0.05</td>\n      <td>45626</td>\n      <td>877.539539</td>\n      <td>MACS2</td>\n    </tr>\n    <tr>\n      <th>0</th>\n      <td>/home/jetbrains/data/2023_Immune/macs2/TCell_H...</td>\n      <td>H3K27ac</td>\n      <td>TCell</td>\n      <td>0.05</td>\n      <td>57350</td>\n      <td>960.794316</td>\n      <td>MACS2</td>\n    </tr>\n  </tbody>\n</table>\n</div>"
     },
     "execution_count": 52,
     "metadata": {},
     "output_type": "execute_result"
    }
   ],
   "source": [
    "df_fdr_macs2 = load_peaks_fdr(os.path.join(PATH, 'macs2'), '.narrowPeak', ['0.05'])\n",
    "df_fdr_macs2['tool'] = 'MACS2'\n",
    "print('MACS2', len(df_fdr_macs2))\n",
    "\n",
    "df_fdr_macs2broad = load_peaks_fdr(os.path.join(PATH, 'macs2'), '.broadPeak', ['0.1'])\n",
    "df_fdr_macs2broad['tool'] = 'MACS2 broad'\n",
    "print('MACS2 broad', len(df_fdr_macs2broad))\n",
    "\n",
    "df_fdr_sicer = load_peaks_fdr(os.path.join(PATH, 'sicer'), 'summary-FDR', ['0.01'])\n",
    "# df_fdr_sicer = load_peaks_fdr(os.path.join(PATH, 'sicer'), 'scoreisland', ['0.01'])\n",
    "df_fdr_sicer['tool'] = 'SICER'\n",
    "print('SICER', len(df_fdr_sicer))\n",
    "\n",
    "df_fdr_span = load_peaks_fdr(os.path.join(PATH, 'span'), '.peak', ['0.05'])\n",
    "df_fdr_span['tool'] = 'SPAN'\n",
    "print('SPAN', len(df_fdr_span))\n",
    "\n",
    "TOOLS = ['MACS2', 'MACS2 broad', 'SICER', 'SPAN']\n",
    "df_fdr_peaks = pd.concat([df_fdr_macs2, df_fdr_macs2broad, df_fdr_sicer, df_fdr_span])\n",
    "df_fdr_peaks.sample(5)"
   ],
   "metadata": {
    "collapsed": false,
    "ExecuteTime": {
     "end_time": "2023-08-17T13:23:25.293970Z",
     "start_time": "2023-08-17T13:23:24.600302Z"
    }
   }
  },
  {
   "cell_type": "code",
   "execution_count": 53,
   "outputs": [],
   "source": [
    "TOOLS = ['MACS2', 'MACS2 broad', 'SPAN', 'SICER', 'DNAse']\n",
    "palette = plt.cm.get_cmap('tab10')\n",
    "TOOLS_PALETTE = {t: palette(i) for i, t in enumerate(TOOLS)}"
   ],
   "metadata": {
    "collapsed": false,
    "ExecuteTime": {
     "end_time": "2023-08-17T13:23:25.300831Z",
     "start_time": "2023-08-17T13:23:25.296699Z"
    }
   }
  },
  {
   "cell_type": "markdown",
   "source": [
    "# Update peaks to contain only percentile only"
   ],
   "metadata": {
    "collapsed": false
   }
  },
  {
   "cell_type": "code",
   "execution_count": 54,
   "outputs": [
    {
     "name": "stdout",
     "output_type": "stream",
     "text": [
      "0%-20%\n"
     ]
    },
    {
     "data": {
      "text/plain": "0it [00:00, ?it/s]",
      "application/vnd.jupyter.widget-view+json": {
       "version_major": 2,
       "version_minor": 0,
       "model_id": "c2934fc6cd6d4e98bed0f5a59b5b0787"
      }
     },
     "metadata": {},
     "output_type": "display_data"
    },
    {
     "name": "stdout",
     "output_type": "stream",
     "text": [
      "0%-20% TCell /home/jetbrains/data/2023_Immune/percentiles/0%-20%/TCell_H3K27ac_hg38_ENCFF530DQB_q0.05_peaks.narrowPeak\n",
      "0%-20% BCell /home/jetbrains/data/2023_Immune/percentiles/0%-20%/BCell_H3K27ac_hg38_ENCFF404HKA_q0.05_peaks.narrowPeak\n",
      "0%-20% TCell /home/jetbrains/data/2023_Immune/percentiles/0%-20%/TCell_H3K27ac_hg38_ENCFF530DQB_broad0.1_peaks.broadPeak\n",
      "0%-20% BCell /home/jetbrains/data/2023_Immune/percentiles/0%-20%/BCell_H3K27ac_hg38_ENCFF404HKA_broad0.1_peaks.broadPeak\n",
      "0%-20% TCell /home/jetbrains/data/2023_Immune/percentiles/0%-20%/TCell_H3K27ac_hg38_ENCFF530DQB-W200-G600-islands-summary-FDR0.01\n",
      "0%-20% BCell /home/jetbrains/data/2023_Immune/percentiles/0%-20%/BCell_H3K27ac_hg38_ENCFF404HKA-W200-G600-islands-summary-FDR0.01\n",
      "0%-20% TCell /home/jetbrains/data/2023_Immune/percentiles/0%-20%/TCell_H3K27ac_hg38_ENCFF530DQB_100_0.05_3.peak\n",
      "0%-20% BCell /home/jetbrains/data/2023_Immune/percentiles/0%-20%/BCell_H3K27ac_hg38_ENCFF404HKA_100_0.05_3.peak\n",
      "20%-40%\n"
     ]
    },
    {
     "data": {
      "text/plain": "0it [00:00, ?it/s]",
      "application/vnd.jupyter.widget-view+json": {
       "version_major": 2,
       "version_minor": 0,
       "model_id": "7dd66e8b664a4f4bb0f7a5cad2c6a788"
      }
     },
     "metadata": {},
     "output_type": "display_data"
    },
    {
     "name": "stdout",
     "output_type": "stream",
     "text": [
      "20%-40% TCell /home/jetbrains/data/2023_Immune/percentiles/20%-40%/TCell_H3K27ac_hg38_ENCFF530DQB_q0.05_peaks.narrowPeak\n",
      "20%-40% BCell /home/jetbrains/data/2023_Immune/percentiles/20%-40%/BCell_H3K27ac_hg38_ENCFF404HKA_q0.05_peaks.narrowPeak\n",
      "20%-40% TCell /home/jetbrains/data/2023_Immune/percentiles/20%-40%/TCell_H3K27ac_hg38_ENCFF530DQB_broad0.1_peaks.broadPeak\n",
      "20%-40% BCell /home/jetbrains/data/2023_Immune/percentiles/20%-40%/BCell_H3K27ac_hg38_ENCFF404HKA_broad0.1_peaks.broadPeak\n",
      "20%-40% TCell /home/jetbrains/data/2023_Immune/percentiles/20%-40%/TCell_H3K27ac_hg38_ENCFF530DQB-W200-G600-islands-summary-FDR0.01\n",
      "20%-40% BCell /home/jetbrains/data/2023_Immune/percentiles/20%-40%/BCell_H3K27ac_hg38_ENCFF404HKA-W200-G600-islands-summary-FDR0.01\n",
      "20%-40% TCell /home/jetbrains/data/2023_Immune/percentiles/20%-40%/TCell_H3K27ac_hg38_ENCFF530DQB_100_0.05_3.peak\n",
      "20%-40% BCell /home/jetbrains/data/2023_Immune/percentiles/20%-40%/BCell_H3K27ac_hg38_ENCFF404HKA_100_0.05_3.peak\n",
      "40%-60%\n"
     ]
    },
    {
     "data": {
      "text/plain": "0it [00:00, ?it/s]",
      "application/vnd.jupyter.widget-view+json": {
       "version_major": 2,
       "version_minor": 0,
       "model_id": "35e843f32c3e42f19cffad2b57d6da1b"
      }
     },
     "metadata": {},
     "output_type": "display_data"
    },
    {
     "name": "stdout",
     "output_type": "stream",
     "text": [
      "40%-60% TCell /home/jetbrains/data/2023_Immune/percentiles/40%-60%/TCell_H3K27ac_hg38_ENCFF530DQB_q0.05_peaks.narrowPeak\n",
      "40%-60% BCell /home/jetbrains/data/2023_Immune/percentiles/40%-60%/BCell_H3K27ac_hg38_ENCFF404HKA_q0.05_peaks.narrowPeak\n",
      "40%-60% TCell /home/jetbrains/data/2023_Immune/percentiles/40%-60%/TCell_H3K27ac_hg38_ENCFF530DQB_broad0.1_peaks.broadPeak\n",
      "40%-60% BCell /home/jetbrains/data/2023_Immune/percentiles/40%-60%/BCell_H3K27ac_hg38_ENCFF404HKA_broad0.1_peaks.broadPeak\n",
      "40%-60% TCell /home/jetbrains/data/2023_Immune/percentiles/40%-60%/TCell_H3K27ac_hg38_ENCFF530DQB-W200-G600-islands-summary-FDR0.01\n",
      "40%-60% BCell /home/jetbrains/data/2023_Immune/percentiles/40%-60%/BCell_H3K27ac_hg38_ENCFF404HKA-W200-G600-islands-summary-FDR0.01\n",
      "40%-60% TCell /home/jetbrains/data/2023_Immune/percentiles/40%-60%/TCell_H3K27ac_hg38_ENCFF530DQB_100_0.05_3.peak\n",
      "40%-60% BCell /home/jetbrains/data/2023_Immune/percentiles/40%-60%/BCell_H3K27ac_hg38_ENCFF404HKA_100_0.05_3.peak\n",
      "60%-80%\n"
     ]
    },
    {
     "data": {
      "text/plain": "0it [00:00, ?it/s]",
      "application/vnd.jupyter.widget-view+json": {
       "version_major": 2,
       "version_minor": 0,
       "model_id": "748d3da2b89741b0bd29bba271da09cc"
      }
     },
     "metadata": {},
     "output_type": "display_data"
    },
    {
     "name": "stdout",
     "output_type": "stream",
     "text": [
      "60%-80% TCell /home/jetbrains/data/2023_Immune/percentiles/60%-80%/TCell_H3K27ac_hg38_ENCFF530DQB_q0.05_peaks.narrowPeak\n",
      "60%-80% BCell /home/jetbrains/data/2023_Immune/percentiles/60%-80%/BCell_H3K27ac_hg38_ENCFF404HKA_q0.05_peaks.narrowPeak\n",
      "60%-80% TCell /home/jetbrains/data/2023_Immune/percentiles/60%-80%/TCell_H3K27ac_hg38_ENCFF530DQB_broad0.1_peaks.broadPeak\n",
      "60%-80% BCell /home/jetbrains/data/2023_Immune/percentiles/60%-80%/BCell_H3K27ac_hg38_ENCFF404HKA_broad0.1_peaks.broadPeak\n",
      "60%-80% TCell /home/jetbrains/data/2023_Immune/percentiles/60%-80%/TCell_H3K27ac_hg38_ENCFF530DQB-W200-G600-islands-summary-FDR0.01\n",
      "60%-80% BCell /home/jetbrains/data/2023_Immune/percentiles/60%-80%/BCell_H3K27ac_hg38_ENCFF404HKA-W200-G600-islands-summary-FDR0.01\n",
      "60%-80% TCell /home/jetbrains/data/2023_Immune/percentiles/60%-80%/TCell_H3K27ac_hg38_ENCFF530DQB_100_0.05_3.peak\n",
      "60%-80% BCell /home/jetbrains/data/2023_Immune/percentiles/60%-80%/BCell_H3K27ac_hg38_ENCFF404HKA_100_0.05_3.peak\n",
      "80%-100%\n"
     ]
    },
    {
     "data": {
      "text/plain": "0it [00:00, ?it/s]",
      "application/vnd.jupyter.widget-view+json": {
       "version_major": 2,
       "version_minor": 0,
       "model_id": "7fcdcd5427f34263a3cf4641eaa02e7e"
      }
     },
     "metadata": {},
     "output_type": "display_data"
    },
    {
     "name": "stdout",
     "output_type": "stream",
     "text": [
      "80%-100% TCell /home/jetbrains/data/2023_Immune/percentiles/80%-100%/TCell_H3K27ac_hg38_ENCFF530DQB_q0.05_peaks.narrowPeak\n",
      "80%-100% BCell /home/jetbrains/data/2023_Immune/percentiles/80%-100%/BCell_H3K27ac_hg38_ENCFF404HKA_q0.05_peaks.narrowPeak\n",
      "80%-100% TCell /home/jetbrains/data/2023_Immune/percentiles/80%-100%/TCell_H3K27ac_hg38_ENCFF530DQB_broad0.1_peaks.broadPeak\n",
      "80%-100% BCell /home/jetbrains/data/2023_Immune/percentiles/80%-100%/BCell_H3K27ac_hg38_ENCFF404HKA_broad0.1_peaks.broadPeak\n",
      "80%-100% TCell /home/jetbrains/data/2023_Immune/percentiles/80%-100%/TCell_H3K27ac_hg38_ENCFF530DQB-W200-G600-islands-summary-FDR0.01\n",
      "80%-100% BCell /home/jetbrains/data/2023_Immune/percentiles/80%-100%/BCell_H3K27ac_hg38_ENCFF404HKA-W200-G600-islands-summary-FDR0.01\n",
      "80%-100% TCell /home/jetbrains/data/2023_Immune/percentiles/80%-100%/TCell_H3K27ac_hg38_ENCFF530DQB_100_0.05_3.peak\n",
      "80%-100% BCell /home/jetbrains/data/2023_Immune/percentiles/80%-100%/BCell_H3K27ac_hg38_ENCFF404HKA_100_0.05_3.peak\n"
     ]
    },
    {
     "data": {
      "text/plain": "                                                file modification   cell  \\\n1  /home/jetbrains/data/2023_Immune/macs2/BCell_H...      H3K27ac  BCell   \n0  /home/jetbrains/data/2023_Immune/sicer/TCell_H...      H3K27ac  TCell   \n0  /home/jetbrains/data/2023_Immune/span/TCell_H3...      H3K27ac  TCell   \n0  /home/jetbrains/data/2023_Immune/macs2/TCell_H...      H3K27ac  TCell   \n1  /home/jetbrains/data/2023_Immune/macs2/BCell_H...      H3K27ac  BCell   \n\n    fdr  peaks     avlength         tool  \\\n1  0.05  45626   877.539539        MACS2   \n0  0.01  26338  4713.686005        SICER   \n0  0.05  31192  2721.691267         SPAN   \n0   0.1  51740  1224.777812  MACS2 broad   \n1   0.1  41460  1128.549445  MACS2 broad   \n\n                                       original_file  \\\n1  /home/jetbrains/data/2023_Immune/macs2/BCell_H...   \n0  /home/jetbrains/data/2023_Immune/sicer/TCell_H...   \n0  /home/jetbrains/data/2023_Immune/span/TCell_H3...   \n0  /home/jetbrains/data/2023_Immune/macs2/TCell_H...   \n1  /home/jetbrains/data/2023_Immune/macs2/BCell_H...   \n\n                                              0%-20%  \\\n1  /home/jetbrains/data/2023_Immune/percentiles/0...   \n0  /home/jetbrains/data/2023_Immune/percentiles/0...   \n0  /home/jetbrains/data/2023_Immune/percentiles/0...   \n0  /home/jetbrains/data/2023_Immune/percentiles/0...   \n1  /home/jetbrains/data/2023_Immune/percentiles/0...   \n\n                                             20%-40%  \\\n1  /home/jetbrains/data/2023_Immune/percentiles/2...   \n0  /home/jetbrains/data/2023_Immune/percentiles/2...   \n0  /home/jetbrains/data/2023_Immune/percentiles/2...   \n0  /home/jetbrains/data/2023_Immune/percentiles/2...   \n1  /home/jetbrains/data/2023_Immune/percentiles/2...   \n\n                                             40%-60%  \\\n1  /home/jetbrains/data/2023_Immune/percentiles/4...   \n0  /home/jetbrains/data/2023_Immune/percentiles/4...   \n0  /home/jetbrains/data/2023_Immune/percentiles/4...   \n0  /home/jetbrains/data/2023_Immune/percentiles/4...   \n1  /home/jetbrains/data/2023_Immune/percentiles/4...   \n\n                                             60%-80%  \\\n1  /home/jetbrains/data/2023_Immune/percentiles/6...   \n0  /home/jetbrains/data/2023_Immune/percentiles/6...   \n0  /home/jetbrains/data/2023_Immune/percentiles/6...   \n0  /home/jetbrains/data/2023_Immune/percentiles/6...   \n1  /home/jetbrains/data/2023_Immune/percentiles/6...   \n\n                                            80%-100%  \n1  /home/jetbrains/data/2023_Immune/percentiles/8...  \n0  /home/jetbrains/data/2023_Immune/percentiles/8...  \n0  /home/jetbrains/data/2023_Immune/percentiles/8...  \n0  /home/jetbrains/data/2023_Immune/percentiles/8...  \n1  /home/jetbrains/data/2023_Immune/percentiles/8...  ",
      "text/html": "<div>\n<style scoped>\n    .dataframe tbody tr th:only-of-type {\n        vertical-align: middle;\n    }\n\n    .dataframe tbody tr th {\n        vertical-align: top;\n    }\n\n    .dataframe thead th {\n        text-align: right;\n    }\n</style>\n<table border=\"1\" class=\"dataframe\">\n  <thead>\n    <tr style=\"text-align: right;\">\n      <th></th>\n      <th>file</th>\n      <th>modification</th>\n      <th>cell</th>\n      <th>fdr</th>\n      <th>peaks</th>\n      <th>avlength</th>\n      <th>tool</th>\n      <th>original_file</th>\n      <th>0%-20%</th>\n      <th>20%-40%</th>\n      <th>40%-60%</th>\n      <th>60%-80%</th>\n      <th>80%-100%</th>\n    </tr>\n  </thead>\n  <tbody>\n    <tr>\n      <th>1</th>\n      <td>/home/jetbrains/data/2023_Immune/macs2/BCell_H...</td>\n      <td>H3K27ac</td>\n      <td>BCell</td>\n      <td>0.05</td>\n      <td>45626</td>\n      <td>877.539539</td>\n      <td>MACS2</td>\n      <td>/home/jetbrains/data/2023_Immune/macs2/BCell_H...</td>\n      <td>/home/jetbrains/data/2023_Immune/percentiles/0...</td>\n      <td>/home/jetbrains/data/2023_Immune/percentiles/2...</td>\n      <td>/home/jetbrains/data/2023_Immune/percentiles/4...</td>\n      <td>/home/jetbrains/data/2023_Immune/percentiles/6...</td>\n      <td>/home/jetbrains/data/2023_Immune/percentiles/8...</td>\n    </tr>\n    <tr>\n      <th>0</th>\n      <td>/home/jetbrains/data/2023_Immune/sicer/TCell_H...</td>\n      <td>H3K27ac</td>\n      <td>TCell</td>\n      <td>0.01</td>\n      <td>26338</td>\n      <td>4713.686005</td>\n      <td>SICER</td>\n      <td>/home/jetbrains/data/2023_Immune/sicer/TCell_H...</td>\n      <td>/home/jetbrains/data/2023_Immune/percentiles/0...</td>\n      <td>/home/jetbrains/data/2023_Immune/percentiles/2...</td>\n      <td>/home/jetbrains/data/2023_Immune/percentiles/4...</td>\n      <td>/home/jetbrains/data/2023_Immune/percentiles/6...</td>\n      <td>/home/jetbrains/data/2023_Immune/percentiles/8...</td>\n    </tr>\n    <tr>\n      <th>0</th>\n      <td>/home/jetbrains/data/2023_Immune/span/TCell_H3...</td>\n      <td>H3K27ac</td>\n      <td>TCell</td>\n      <td>0.05</td>\n      <td>31192</td>\n      <td>2721.691267</td>\n      <td>SPAN</td>\n      <td>/home/jetbrains/data/2023_Immune/span/TCell_H3...</td>\n      <td>/home/jetbrains/data/2023_Immune/percentiles/0...</td>\n      <td>/home/jetbrains/data/2023_Immune/percentiles/2...</td>\n      <td>/home/jetbrains/data/2023_Immune/percentiles/4...</td>\n      <td>/home/jetbrains/data/2023_Immune/percentiles/6...</td>\n      <td>/home/jetbrains/data/2023_Immune/percentiles/8...</td>\n    </tr>\n    <tr>\n      <th>0</th>\n      <td>/home/jetbrains/data/2023_Immune/macs2/TCell_H...</td>\n      <td>H3K27ac</td>\n      <td>TCell</td>\n      <td>0.1</td>\n      <td>51740</td>\n      <td>1224.777812</td>\n      <td>MACS2 broad</td>\n      <td>/home/jetbrains/data/2023_Immune/macs2/TCell_H...</td>\n      <td>/home/jetbrains/data/2023_Immune/percentiles/0...</td>\n      <td>/home/jetbrains/data/2023_Immune/percentiles/2...</td>\n      <td>/home/jetbrains/data/2023_Immune/percentiles/4...</td>\n      <td>/home/jetbrains/data/2023_Immune/percentiles/6...</td>\n      <td>/home/jetbrains/data/2023_Immune/percentiles/8...</td>\n    </tr>\n    <tr>\n      <th>1</th>\n      <td>/home/jetbrains/data/2023_Immune/macs2/BCell_H...</td>\n      <td>H3K27ac</td>\n      <td>BCell</td>\n      <td>0.1</td>\n      <td>41460</td>\n      <td>1128.549445</td>\n      <td>MACS2 broad</td>\n      <td>/home/jetbrains/data/2023_Immune/macs2/BCell_H...</td>\n      <td>/home/jetbrains/data/2023_Immune/percentiles/0...</td>\n      <td>/home/jetbrains/data/2023_Immune/percentiles/2...</td>\n      <td>/home/jetbrains/data/2023_Immune/percentiles/4...</td>\n      <td>/home/jetbrains/data/2023_Immune/percentiles/6...</td>\n      <td>/home/jetbrains/data/2023_Immune/percentiles/8...</td>\n    </tr>\n  </tbody>\n</table>\n</div>"
     },
     "execution_count": 54,
     "metadata": {},
     "output_type": "execute_result"
    }
   ],
   "source": [
    "# df_fdr_peaks.drop(['avlength'], axis=1, inplace=True)\n",
    "df_fdr_peaks['original_file'] = df_fdr_peaks['file']\n",
    "\n",
    "step = 20\n",
    "for percentage in [0, 20, 40, 60, 80]:\n",
    "    percentage_name = f'{percentage}%-{percentage + step}%'\n",
    "    ! mkdir -p {PATH}/percentiles/{percentage_name}\n",
    "    print(percentage_name)\n",
    "    percentile_files = []\n",
    "    for file, cell in tqdm(zip(df_fdr_peaks['file'], df_fdr_peaks['cell'])):\n",
    "        pf = f'{PATH}/percentiles/{percentage_name}_H3K27ac_{cell}.bed'\n",
    "        union_path = f'{PATH}/union/H3K27ac_{cell}.bed'\n",
    "        t = pd.read_csv(union_path, sep='\\t', header=None, usecols=[0, 1, 2])\n",
    "        t[3] = t[2] - t[1]\n",
    "        t.sort_values(by=[3, 0, 1, 2], inplace=True)\n",
    "\n",
    "        # Take % peaks by lengths and compute ratios inside\n",
    "        t.iloc[int(len(t) * percentage / 100):int(len(t) * (percentage + step) / 100)][[0, 1, 2]].to_csv(\n",
    "            pf, sep='\\t', index=False, header=None\n",
    "        )\n",
    "        # Prepare percentage\n",
    "        file_perc = f'{PATH}/percentiles/{percentage_name}/{os.path.basename(file)}'\n",
    "        print(percentage_name, cell, file_perc)\n",
    "        ! bedtools intersect -wa -u -a {sorted_file(file)} -b {sorted_file(pf)} > {file_perc}\n",
    "        percentile_files.append(file_perc)\n",
    "    df_fdr_peaks[percentage_name] = percentile_files\n",
    "\n",
    "df_fdr_peaks.sample(5)"
   ],
   "metadata": {
    "collapsed": false,
    "ExecuteTime": {
     "end_time": "2023-08-17T13:23:50.666889Z",
     "start_time": "2023-08-17T13:23:28.343815Z"
    }
   }
  },
  {
   "cell_type": "code",
   "execution_count": 82,
   "outputs": [],
   "source": [
    "# df_fdr_peaks['file'] = df_fdr_peaks['0%-20%']\n",
    "# df_fdr_peaks['file'] = df_fdr_peaks['40%-60%']\n",
    "df_fdr_peaks['file'] = df_fdr_peaks['80%-100%']"
   ],
   "metadata": {
    "collapsed": false,
    "ExecuteTime": {
     "end_time": "2023-09-15T15:08:02.549263Z",
     "start_time": "2023-09-15T15:08:02.537100Z"
    }
   }
  },
  {
   "cell_type": "markdown",
   "source": [
    "# Coverage"
   ],
   "metadata": {
    "collapsed": false
   }
  },
  {
   "cell_type": "code",
   "execution_count": 83,
   "outputs": [],
   "source": [
    "# Fraction of reads in peaks\n",
    "IMMUNE_HG38_PATH_BW = PATH + '/bw'\n",
    "\n",
    "\n",
    "def load_bws(path, m):\n",
    "    df_bws = pd.DataFrame(columns=['file', 'modification', 'cell'], dtype=object)\n",
    "    for f in tqdm(os.listdir(path)):\n",
    "        if '.bw' not in f:\n",
    "            continue\n",
    "        cell = next((cc for cc in IMMUNE_CELLS if cc in f), None)\n",
    "        if cell and m in f:\n",
    "            df_bws.loc[len(df_bws)] = ((os.path.join(path, f)), m, cell)\n",
    "    return df_bws"
   ],
   "metadata": {
    "collapsed": false,
    "ExecuteTime": {
     "end_time": "2023-09-15T15:08:02.809379Z",
     "start_time": "2023-09-15T15:08:02.797762Z"
    }
   }
  },
  {
   "cell_type": "code",
   "execution_count": 84,
   "outputs": [
    {
     "data": {
      "text/plain": "  0%|          | 0/17 [00:00<?, ?it/s]",
      "application/vnd.jupyter.widget-view+json": {
       "version_major": 2,
       "version_minor": 0,
       "model_id": "0aac83ff3d1e4ac4a15e05975e9930ac"
      }
     },
     "metadata": {},
     "output_type": "display_data"
    },
    {
     "data": {
      "text/plain": "                                                file modification   cell\n0  /home/jetbrains/data/2023_Immune/bw/TCell_H3K2...      H3K27ac  TCell\n1  /home/jetbrains/data/2023_Immune/bw/BCell_H3K2...      H3K27ac  BCell",
      "text/html": "<div>\n<style scoped>\n    .dataframe tbody tr th:only-of-type {\n        vertical-align: middle;\n    }\n\n    .dataframe tbody tr th {\n        vertical-align: top;\n    }\n\n    .dataframe thead th {\n        text-align: right;\n    }\n</style>\n<table border=\"1\" class=\"dataframe\">\n  <thead>\n    <tr style=\"text-align: right;\">\n      <th></th>\n      <th>file</th>\n      <th>modification</th>\n      <th>cell</th>\n    </tr>\n  </thead>\n  <tbody>\n    <tr>\n      <th>0</th>\n      <td>/home/jetbrains/data/2023_Immune/bw/TCell_H3K2...</td>\n      <td>H3K27ac</td>\n      <td>TCell</td>\n    </tr>\n    <tr>\n      <th>1</th>\n      <td>/home/jetbrains/data/2023_Immune/bw/BCell_H3K2...</td>\n      <td>H3K27ac</td>\n      <td>BCell</td>\n    </tr>\n  </tbody>\n</table>\n</div>"
     },
     "metadata": {},
     "output_type": "display_data"
    },
    {
     "data": {
      "text/plain": "  0%|          | 0/17 [00:00<?, ?it/s]",
      "application/vnd.jupyter.widget-view+json": {
       "version_major": 2,
       "version_minor": 0,
       "model_id": "750cc76ce2c848d0a36d12cc34ea329a"
      }
     },
     "metadata": {},
     "output_type": "display_data"
    },
    {
     "data": {
      "text/plain": "                                                file modification   cell\n0  /home/jetbrains/data/2023_Immune/bw/TCell_Cont...      Control  TCell\n1  /home/jetbrains/data/2023_Immune/bw/BCell_Cont...      Control  BCell",
      "text/html": "<div>\n<style scoped>\n    .dataframe tbody tr th:only-of-type {\n        vertical-align: middle;\n    }\n\n    .dataframe tbody tr th {\n        vertical-align: top;\n    }\n\n    .dataframe thead th {\n        text-align: right;\n    }\n</style>\n<table border=\"1\" class=\"dataframe\">\n  <thead>\n    <tr style=\"text-align: right;\">\n      <th></th>\n      <th>file</th>\n      <th>modification</th>\n      <th>cell</th>\n    </tr>\n  </thead>\n  <tbody>\n    <tr>\n      <th>0</th>\n      <td>/home/jetbrains/data/2023_Immune/bw/TCell_Cont...</td>\n      <td>Control</td>\n      <td>TCell</td>\n    </tr>\n    <tr>\n      <th>1</th>\n      <td>/home/jetbrains/data/2023_Immune/bw/BCell_Cont...</td>\n      <td>Control</td>\n      <td>BCell</td>\n    </tr>\n  </tbody>\n</table>\n</div>"
     },
     "metadata": {},
     "output_type": "display_data"
    }
   ],
   "source": [
    "bws_df = load_bws(IMMUNE_HG38_PATH_BW, 'H3K27ac')\n",
    "display(bws_df.sample(2))\n",
    "bws_control_df = load_bws(IMMUNE_HG38_PATH_BW, 'Control')\n",
    "display(bws_control_df.sample(2))"
   ],
   "metadata": {
    "collapsed": false,
    "ExecuteTime": {
     "end_time": "2023-09-15T15:08:03.031549Z",
     "start_time": "2023-09-15T15:08:02.984067Z"
    }
   }
  },
  {
   "cell_type": "code",
   "execution_count": 85,
   "outputs": [],
   "source": [
    "CHROM_SIZES = {\n",
    "    c: s for _, (c, s) in pd.read_csv(os.path.join(PATH, 'hg38.chrom.sizes'),\n",
    "                                      sep='\\t', names=['chr', 'size']).iterrows() if '_' not in c\n",
    "}"
   ],
   "metadata": {
    "collapsed": false,
    "ExecuteTime": {
     "end_time": "2023-09-15T15:08:03.251980Z",
     "start_time": "2023-09-15T15:08:03.196495Z"
    }
   }
  },
  {
   "cell_type": "markdown",
   "source": [
    "## FRIP"
   ],
   "metadata": {
    "collapsed": false
   }
  },
  {
   "cell_type": "code",
   "execution_count": 86,
   "outputs": [
    {
     "data": {
      "text/plain": "  0%|          | 0/2 [00:00<?, ?it/s]",
      "application/vnd.jupyter.widget-view+json": {
       "version_major": 2,
       "version_minor": 0,
       "model_id": "1cb4537ce8b7461fa58f167f19908e22"
      }
     },
     "metadata": {},
     "output_type": "display_data"
    },
    {
     "name": "stdout",
     "output_type": "stream",
     "text": [
      "BCell\n",
      "MACS2 /tmp/tmp2n8wqujn /home/jetbrains/data/2023_Immune/bw/BCell_H3K27ac_hg38_ENCFF404HKA.bw /home/jetbrains/data/2023_Immune/bw/BCell_Control_hg38_ENCFF198QJK.bw\n",
      "SICER /tmp/tmpqwkcmivp /home/jetbrains/data/2023_Immune/bw/BCell_H3K27ac_hg38_ENCFF404HKA.bw /home/jetbrains/data/2023_Immune/bw/BCell_Control_hg38_ENCFF198QJK.bw\n",
      "SPAN /tmp/tmpokjiekcp /home/jetbrains/data/2023_Immune/bw/BCell_H3K27ac_hg38_ENCFF404HKA.bw /home/jetbrains/data/2023_Immune/bw/BCell_Control_hg38_ENCFF198QJK.bw\n",
      "MACS2 broad /tmp/tmppw31bjv7 /home/jetbrains/data/2023_Immune/bw/BCell_H3K27ac_hg38_ENCFF404HKA.bw /home/jetbrains/data/2023_Immune/bw/BCell_Control_hg38_ENCFF198QJK.bw\n",
      "TCell\n",
      "MACS2 /tmp/tmpxc4fg4_s /home/jetbrains/data/2023_Immune/bw/TCell_H3K27ac_hg38_ENCFF530DQB.bw /home/jetbrains/data/2023_Immune/bw/TCell_Control_hg38_ENCFF566HDE.bw\n",
      "SICER /tmp/tmpahsjd7po /home/jetbrains/data/2023_Immune/bw/TCell_H3K27ac_hg38_ENCFF530DQB.bw /home/jetbrains/data/2023_Immune/bw/TCell_Control_hg38_ENCFF566HDE.bw\n",
      "SPAN /tmp/tmp3umadroe /home/jetbrains/data/2023_Immune/bw/TCell_H3K27ac_hg38_ENCFF530DQB.bw /home/jetbrains/data/2023_Immune/bw/TCell_Control_hg38_ENCFF566HDE.bw\n",
      "MACS2 broad /tmp/tmpet_0g2n2 /home/jetbrains/data/2023_Immune/bw/TCell_H3K27ac_hg38_ENCFF530DQB.bw /home/jetbrains/data/2023_Immune/bw/TCell_Control_hg38_ENCFF566HDE.bw\n"
     ]
    },
    {
     "data": {
      "text/plain": "    cell                                            bw_file         tool  \\\n0  BCell  /home/jetbrains/data/2023_Immune/bw/BCell_H3K2...        MACS2   \n1  BCell  /home/jetbrains/data/2023_Immune/bw/BCell_H3K2...        SICER   \n2  BCell  /home/jetbrains/data/2023_Immune/bw/BCell_H3K2...         SPAN   \n3  BCell  /home/jetbrains/data/2023_Immune/bw/BCell_H3K2...  MACS2 broad   \n4  TCell  /home/jetbrains/data/2023_Immune/bw/TCell_H3K2...        MACS2   \n5  TCell  /home/jetbrains/data/2023_Immune/bw/TCell_H3K2...        SICER   \n6  TCell  /home/jetbrains/data/2023_Immune/bw/TCell_H3K2...         SPAN   \n7  TCell  /home/jetbrains/data/2023_Immune/bw/TCell_H3K2...  MACS2 broad   \n\n         peaks_file  peaks    length  reads_in_peaks     all_reads  \\\n0  /tmp/tmp2n8wqujn  19758  22622536    1.709590e+07  8.488214e+07   \n1  /tmp/tmpqwkcmivp   5369  46844031    1.938003e+07  8.488214e+07   \n2  /tmp/tmpokjiekcp   7553  31492869    1.825437e+07  8.491408e+07   \n3  /tmp/tmppw31bjv7  15944  25731939    1.759546e+07  8.488214e+07   \n4  /tmp/tmpxc4fg4_s  27367  33557909    1.724770e+07  8.490978e+07   \n5  /tmp/tmpahsjd7po   6053  67422347    1.998508e+07  8.488773e+07   \n6  /tmp/tmp3umadroe   8701  51408655    1.901424e+07  8.490978e+07   \n7  /tmp/tmpet_0g2n2  22580  37836472    1.780807e+07  8.490978e+07   \n\n   control_reads_in_peaks  control_all_reads  \n0            9.207635e+05       8.481521e+07  \n1            1.903389e+06       8.481521e+07  \n2            1.354144e+06       8.486522e+07  \n3            1.043526e+06       8.481521e+07  \n4            1.311570e+06       8.485940e+07  \n5            2.585064e+06       8.482415e+07  \n6            2.026519e+06       8.485940e+07  \n7            1.475514e+06       8.485940e+07  ",
      "text/html": "<div>\n<style scoped>\n    .dataframe tbody tr th:only-of-type {\n        vertical-align: middle;\n    }\n\n    .dataframe tbody tr th {\n        vertical-align: top;\n    }\n\n    .dataframe thead th {\n        text-align: right;\n    }\n</style>\n<table border=\"1\" class=\"dataframe\">\n  <thead>\n    <tr style=\"text-align: right;\">\n      <th></th>\n      <th>cell</th>\n      <th>bw_file</th>\n      <th>tool</th>\n      <th>peaks_file</th>\n      <th>peaks</th>\n      <th>length</th>\n      <th>reads_in_peaks</th>\n      <th>all_reads</th>\n      <th>control_reads_in_peaks</th>\n      <th>control_all_reads</th>\n    </tr>\n  </thead>\n  <tbody>\n    <tr>\n      <th>0</th>\n      <td>BCell</td>\n      <td>/home/jetbrains/data/2023_Immune/bw/BCell_H3K2...</td>\n      <td>MACS2</td>\n      <td>/tmp/tmp2n8wqujn</td>\n      <td>19758</td>\n      <td>22622536</td>\n      <td>1.709590e+07</td>\n      <td>8.488214e+07</td>\n      <td>9.207635e+05</td>\n      <td>8.481521e+07</td>\n    </tr>\n    <tr>\n      <th>1</th>\n      <td>BCell</td>\n      <td>/home/jetbrains/data/2023_Immune/bw/BCell_H3K2...</td>\n      <td>SICER</td>\n      <td>/tmp/tmpqwkcmivp</td>\n      <td>5369</td>\n      <td>46844031</td>\n      <td>1.938003e+07</td>\n      <td>8.488214e+07</td>\n      <td>1.903389e+06</td>\n      <td>8.481521e+07</td>\n    </tr>\n    <tr>\n      <th>2</th>\n      <td>BCell</td>\n      <td>/home/jetbrains/data/2023_Immune/bw/BCell_H3K2...</td>\n      <td>SPAN</td>\n      <td>/tmp/tmpokjiekcp</td>\n      <td>7553</td>\n      <td>31492869</td>\n      <td>1.825437e+07</td>\n      <td>8.491408e+07</td>\n      <td>1.354144e+06</td>\n      <td>8.486522e+07</td>\n    </tr>\n    <tr>\n      <th>3</th>\n      <td>BCell</td>\n      <td>/home/jetbrains/data/2023_Immune/bw/BCell_H3K2...</td>\n      <td>MACS2 broad</td>\n      <td>/tmp/tmppw31bjv7</td>\n      <td>15944</td>\n      <td>25731939</td>\n      <td>1.759546e+07</td>\n      <td>8.488214e+07</td>\n      <td>1.043526e+06</td>\n      <td>8.481521e+07</td>\n    </tr>\n    <tr>\n      <th>4</th>\n      <td>TCell</td>\n      <td>/home/jetbrains/data/2023_Immune/bw/TCell_H3K2...</td>\n      <td>MACS2</td>\n      <td>/tmp/tmpxc4fg4_s</td>\n      <td>27367</td>\n      <td>33557909</td>\n      <td>1.724770e+07</td>\n      <td>8.490978e+07</td>\n      <td>1.311570e+06</td>\n      <td>8.485940e+07</td>\n    </tr>\n    <tr>\n      <th>5</th>\n      <td>TCell</td>\n      <td>/home/jetbrains/data/2023_Immune/bw/TCell_H3K2...</td>\n      <td>SICER</td>\n      <td>/tmp/tmpahsjd7po</td>\n      <td>6053</td>\n      <td>67422347</td>\n      <td>1.998508e+07</td>\n      <td>8.488773e+07</td>\n      <td>2.585064e+06</td>\n      <td>8.482415e+07</td>\n    </tr>\n    <tr>\n      <th>6</th>\n      <td>TCell</td>\n      <td>/home/jetbrains/data/2023_Immune/bw/TCell_H3K2...</td>\n      <td>SPAN</td>\n      <td>/tmp/tmp3umadroe</td>\n      <td>8701</td>\n      <td>51408655</td>\n      <td>1.901424e+07</td>\n      <td>8.490978e+07</td>\n      <td>2.026519e+06</td>\n      <td>8.485940e+07</td>\n    </tr>\n    <tr>\n      <th>7</th>\n      <td>TCell</td>\n      <td>/home/jetbrains/data/2023_Immune/bw/TCell_H3K2...</td>\n      <td>MACS2 broad</td>\n      <td>/tmp/tmpet_0g2n2</td>\n      <td>22580</td>\n      <td>37836472</td>\n      <td>1.780807e+07</td>\n      <td>8.490978e+07</td>\n      <td>1.475514e+06</td>\n      <td>8.485940e+07</td>\n    </tr>\n  </tbody>\n</table>\n</div>"
     },
     "execution_count": 86,
     "metadata": {},
     "output_type": "execute_result"
    }
   ],
   "source": [
    "import tempfile\n",
    "import pyBigWig\n",
    "\n",
    "tf = tempfile.mktemp()\n",
    "\n",
    "frip_df = pd.DataFrame(\n",
    "    columns=['cell', 'bw_file', 'tool', 'peaks_file', 'peaks', 'length',\n",
    "             'reads_in_peaks', 'all_reads', 'control_reads_in_peaks', 'control_all_reads'],\n",
    "    dtype=object\n",
    ")\n",
    "\n",
    "for c in tqdm(IMMUNE_CELLS):\n",
    "    print(c)\n",
    "    for tool in set(df_fdr_peaks['tool']):\n",
    "        t = df_fdr_peaks[(df_fdr_peaks['tool'] == tool) & (df_fdr_peaks['modification'] == 'H3K27ac') &\n",
    "                         (df_fdr_peaks['cell'] == c)]\n",
    "        if len(t) == 0:\n",
    "            continue\n",
    "        peaks_file = sorted_file(t['file'].values[0])\n",
    "        peaks = lines(peaks_file)\n",
    "        if peaks == 0:\n",
    "            continue\n",
    "        peaks_len = int(bedl(peaks_file).sum())\n",
    "        t = bws_df[(bws_df['modification'] == 'H3K27ac') &\n",
    "                   (bws_df['cell'] == c)]\n",
    "        if len(t) == 0:\n",
    "            continue\n",
    "        bw_file = t['file'].values[0]\n",
    "        t = bws_control_df[bws_control_df['cell'] == c]\n",
    "        if len(t) == 0:\n",
    "            continue\n",
    "        bw_control_file = t['file'].values[0]\n",
    "\n",
    "        print(tool, peaks_file, bw_file, bw_control_file)\n",
    "        t = pd.read_csv(peaks_file, sep='\\t', header=None)\n",
    "        with pyBigWig.open(bw_file) as bw:\n",
    "            total_coverage = sum(\n",
    "                bw.stats(chr, type='sum', exact=True)[0] for chr in t[0].unique() if chr in CHROM_SIZES)\n",
    "            peaks_coverage = sum(bw.stats(chr, start, end, type='sum', exact=True)[0]\n",
    "                                 for chr, start, end in zip(t[0], t[1], t[2]) if chr in CHROM_SIZES)\n",
    "        with pyBigWig.open(bw_control_file) as bwc:\n",
    "            control_total_coverage = sum(bwc.stats(chr, type='sum', exact=True)[0] for chr in t[0].unique())\n",
    "            control_peaks_coverage = sum(bwc.stats(chr, start, end, type='sum', exact=True)[0]\n",
    "                                         for chr, start, end in zip(t[0], t[1], t[2]))\n",
    "        frip_df.loc[len(frip_df)] = (c, bw_file, tool, peaks_file, peaks, peaks_len,\n",
    "                                     peaks_coverage, total_coverage, control_peaks_coverage, control_total_coverage)\n",
    "frip_df"
   ],
   "metadata": {
    "collapsed": false,
    "ExecuteTime": {
     "end_time": "2023-09-15T15:08:45.065106Z",
     "start_time": "2023-09-15T15:08:03.935393Z"
    }
   }
  },
  {
   "cell_type": "code",
   "execution_count": 87,
   "outputs": [
    {
     "data": {
      "text/plain": "<Figure size 432x216 with 2 Axes>",
      "image/png": "[encoded data removed]"
     },
     "metadata": {
      "image/png": {
       "width": 423,
       "height": 220
      }
     },
     "output_type": "display_data"
    }
   ],
   "source": [
    "frip_df['peaks_background_log2fc'] = [\n",
    "    np.log2((x / z) / ((y - x) / (sum(CHROM_SIZES.values()) - z)))\n",
    "    for x, y, z in zip(frip_df['reads_in_peaks'], frip_df['all_reads'], frip_df['length'])\n",
    "]\n",
    "frip_df['peaks_control_log2fc'] = [\n",
    "    np.log2(d(x / (y / 1e6), z / (u / 1e6)))\n",
    "    for x, y, z, u in zip(frip_df['reads_in_peaks'], frip_df['all_reads'],\n",
    "                          frip_df['control_reads_in_peaks'], frip_df['control_all_reads'])\n",
    "]\n",
    "\n",
    "import seaborn as sns\n",
    "\n",
    "t = frip_df\n",
    "\n",
    "plt.figure(figsize=(6, 3))\n",
    "axs = [plt.subplot(1, 2, i + 1) for i in range(2)]\n",
    "ax = axs[0]\n",
    "g_results = sns.boxplot(data=t, x='tool', y='peaks_control_log2fc',\n",
    "                        palette=TOOLS_PALETTE,\n",
    "                        order=['MACS2', 'MACS2 broad', 'SPAN', 'SICER'],\n",
    "                        showfliers=False,\n",
    "                        ax=ax)\n",
    "ax.xaxis.set_tick_params(rotation=90)\n",
    "\n",
    "ax = axs[1]\n",
    "g_results = sns.boxplot(data=t, x='tool', y='peaks_background_log2fc',\n",
    "                        palette=TOOLS_PALETTE,\n",
    "                        order=['MACS2', 'MACS2 broad', 'SPAN', 'SICER'],\n",
    "                        showfliers=False,\n",
    "                        ax=ax)\n",
    "ax.xaxis.set_tick_params(rotation=90)\n",
    "plt.tight_layout()\n",
    "\n",
    "plt.show()"
   ],
   "metadata": {
    "collapsed": false,
    "ExecuteTime": {
     "end_time": "2023-09-15T15:08:45.253345Z",
     "start_time": "2023-09-15T15:08:45.067222Z"
    }
   }
  },
  {
   "cell_type": "code",
   "execution_count": 54,
   "outputs": [],
   "source": [],
   "metadata": {
    "collapsed": false,
    "ExecuteTime": {
     "end_time": "2023-06-22T13:26:57.692810Z",
     "start_time": "2023-06-22T13:26:57.692251Z"
    }
   }
  }
 ],
 "metadata": {
  "anaconda-cloud": {},
  "kernelspec": {
   "display_name": "Python 3",
   "language": "python",
   "name": "python3"
  },
  "language_info": {
   "codemirror_mode": {
    "name": "ipython",
    "version": 3
   },
   "file_extension": ".py",
   "mimetype": "text/x-python",
   "name": "python",
   "nbconvert_exporter": "python",
   "pygments_lexer": "ipython3",
   "version": "3.8.5"
  },
  "toc": {
   "nav_menu": {},
   "number_sections": true,
   "sideBar": true,
   "skip_h1_title": false,
   "toc_cell": false,
   "toc_position": {},
   "toc_section_display": "block",
   "toc_window_display": false
  }
 },
 "nbformat": 4,
 "nbformat_minor": 2
}
