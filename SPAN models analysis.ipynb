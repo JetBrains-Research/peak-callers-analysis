{
 "cells": [
  {
   "cell_type": "markdown",
   "metadata": {},
   "source": [
    "# SPAN models analysis\n",
    "\n",
    "\n",
    "This notebook is dedicated to some convergence problems of SPAN models.\\\n",
    "It analyzes coverage and log with `--debug` options.\n"
   ]
  },
  {
   "cell_type": "code",
   "execution_count": null,
   "metadata": {
    "ExecuteTime": {
     "end_time": "2019-04-12T10:09:42.651555Z",
     "start_time": "2019-04-12T10:09:42.620746Z"
    }
   },
   "outputs": [],
   "source": [
    "from bokeh.io import output_notebook, show\n",
    "from bokeh.plotting import figure\n",
    "from bokeh.layouts import gridplot\n",
    "import pandas as pd\n",
    "import numpy as np\n",
    "import glob\n",
    "\n",
    "output_notebook()"
   ]
  },
  {
   "cell_type": "code",
   "execution_count": null,
   "metadata": {
    "ExecuteTime": {
     "end_time": "2019-04-12T17:10:17.797638Z",
     "start_time": "2019-04-12T17:10:17.783687Z"
    }
   },
   "outputs": [],
   "source": [
    "folder = '<coverages_folder>'\n",
    "coverages = glob.glob(folder + '/cache/*.npz')\n",
    "print(coverages)"
   ]
  },
  {
   "cell_type": "code",
   "execution_count": null,
   "metadata": {
    "ExecuteTime": {
     "end_time": "2019-04-12T17:12:38.610303Z",
     "start_time": "2019-04-12T17:12:38.297361Z"
    }
   },
   "outputs": [],
   "source": [
    "import re\n",
    "import mmap\n",
    "from scipy.stats import nbinom as nb\n",
    "from collections import Counter\n",
    "from bokeh.models.scales import LogScale\n",
    "    \n",
    "\n",
    "def plot_coverage(path):\n",
    "    print('Coverage', path)\n",
    "    '''Compute coverage --keep-dup --fragment 0'''\n",
    "    name = re.sub('.*/coverage_|_raw\\#.*', '', path)\n",
    "    print('Processing', name)    \n",
    "    npz = np.load(path)\n",
    "    BIN = 100\n",
    "    coverage = Counter()\n",
    "    for chr in range(1, 6):\n",
    "        for p in npz['chr{}/+'.format(chr)]:\n",
    "            coverage[int(p / BIN)] += 1\n",
    "        for p in npz['chr{}/-'.format(chr)]:\n",
    "            coverage[int(p / BIN)] += 1\n",
    "    cvalues = coverage.values()\n",
    "    print('Summary coverage', sum(cvalues))\n",
    "    notnull = [x for x in cvalues if x > 0]\n",
    "    print('Summary notnull bins', len(notnull))\n",
    "    print('Max coverage', max(notnull))\n",
    "    log = glob.glob(folder + '/**/*' + name + '*.log')[0]\n",
    "\n",
    "    print('Log', log)\n",
    "    meanLow = 0\n",
    "    fsLow = 0\n",
    "    meanHigh = 0\n",
    "    fsHigh = 0\n",
    "    with open(log, 'r') as f:\n",
    "        # memory-map the file, size 0 means whole file\n",
    "        m = mmap.mmap(f.fileno(), 0, prot=mmap.PROT_READ) # prot argument is *nix only\n",
    "        i = m.rfind(bytes('means=[', 'utf-8'))   # search for last occurrence\n",
    "        m.seek(i)             # seek to the location\n",
    "        result = m.readline()\n",
    "        print(result)\n",
    "        numbers = [float(n) for n in re.findall(r\"[-+]?\\d*\\.\\d+|\\d+\", str(result))]\n",
    "        meanLow = numbers[0]\n",
    "        meanHigh = numbers[1]\n",
    "        fsLow = numbers[2]\n",
    "        fsHigh = numbers[3]\n",
    "\n",
    "    nbLow = nb(fsLow, fsLow / (meanLow + fsLow))\n",
    "#     print('Low', meanLow, fsLow, nbLow.mean())\n",
    "\n",
    "    nbHigh = nb(fsHigh, fsHigh / (meanHigh + fsHigh))\n",
    "#     print('High', meanHigh, fsHigh, nbHigh.mean())\n",
    "    print('\\n')\n",
    "\n",
    "    N = 10    \n",
    "    hist, edges = np.histogram([x for x in notnull if x <= N], density=True, bins=N)\n",
    "\n",
    "    xs = np.linspace(1, N, N)    \n",
    "    low = [ nbLow.pmf(x)  for x in xs ]\n",
    "    high = [ nbHigh.pmf(x) for x in xs ]\n",
    "    \n",
    "    p = figure(title=name + ' bin' + str(BIN) + ' >0', tools='', background_fill_color=\"#fafafa\")\n",
    "    p.quad(top=hist, bottom=0, left=edges[:-1], right=edges[1:],\n",
    "           fill_color=\"navy\", line_color=\"white\", alpha=0.5)\n",
    "    \n",
    "    p.line(xs, low, line_color=\"orange\", line_width=5, alpha=0.7, legend=\"Low\")\n",
    "    p.line(xs, high, line_color=\"green\", line_width=5, alpha=0.7, legend=\"High\")\n",
    "    \n",
    "    p.y_range.start = 0\n",
    "    p.y_range.end = 1\n",
    "#     p.y_scale = LogScale()\n",
    "    p.x_range.start = 1\n",
    "    p.x_range.end = N\n",
    "    p.legend.location = \"center_right\"\n",
    "    p.legend.background_fill_color = \"#fefefe\"\n",
    "    p.xaxis.axis_label = 'x'\n",
    "    p.yaxis.axis_label = 'Pr(x)'\n",
    "    p.grid.grid_line_color=\"white\"\n",
    "    \n",
    "    return p"
   ]
  },
  {
   "cell_type": "code",
   "execution_count": null,
   "metadata": {
    "ExecuteTime": {
     "end_time": "2019-04-12T17:14:17.801315Z",
     "start_time": "2019-04-12T17:12:39.186288Z"
    },
    "scrolled": false
   },
   "outputs": [],
   "source": [
    "show(gridplot([plot_coverage(c) for c in coverages], ncols=1, \n",
    "              plot_width=800, plot_height=400, toolbar_location=None))"
   ]
  },
  {
   "cell_type": "markdown",
   "metadata": {},
   "source": [
    "# Analysis of track convergence\n",
    "\n",
    "When we are facing bad track quality we experience LOW state mean -> 0. \n",
    "This is best illustrated by mutlistarted learning below."
   ]
  },
  {
   "cell_type": "code",
   "execution_count": null,
   "metadata": {
    "ExecuteTime": {
     "end_time": "2019-04-12T17:23:00.133205Z",
     "start_time": "2019-04-12T17:22:55.919609Z"
    },
    "scrolled": true
   },
   "outputs": [],
   "source": [
    "log = '/mnt/stripe/shpynov/GSE65360/fit_20xstart_100iteration_0.1dl_nozeroes_multistart_determined/logs/BJ_100_0.1_5.log'\n",
    "states = []\n",
    "with open(log, 'r') as f:\n",
    "    for line in f.readlines():\n",
    "        if 'NegBinEmissionScheme' in line:\n",
    "            l = line.split('NegBinEmissionScheme', 1)[1]             \n",
    "            mean, failures = [float(n) for n in re.findall(r\"[-+]?\\d*\\.\\d+|\\d+{E[-]?\\d+}?\", l)][-2:]\n",
    "            states.append(nb(failures, failures / (mean + failures)))\n",
    "\n",
    "N = 10\n",
    "def plot_nbs(i, nbLow, nbHigh):\n",
    "    xs = np.linspace(1, N, N)    \n",
    "    low = [ nbLow.pmf(x)  for x in xs ]\n",
    "    high = [ nbHigh.pmf(x) for x in xs ]\n",
    "    \n",
    "    p = figure(title=str(i), tools='', background_fill_color=\"#fafafa\")    \n",
    "    p.line(xs, low, line_color=\"orange\", line_width=5, alpha=0.7, legend=\"Low\")\n",
    "    p.line(xs, high, line_color=\"green\", line_width=5, alpha=0.7, legend=\"High\")\n",
    "    \n",
    "    p.y_range.start = 0\n",
    "    p.y_range.end = 1\n",
    "    p.x_range.start = 1\n",
    "    p.x_range.end = N\n",
    "    p.legend.location = \"center_right\"\n",
    "    p.legend.background_fill_color = \"#fefefe\"\n",
    "    p.xaxis.axis_label = 'x'\n",
    "    p.yaxis.axis_label = 'Pr(x)'\n",
    "    p.grid.grid_line_color=\"white\"    \n",
    "    return p\n",
    "\n",
    "show(gridplot([plot_nbs(i, states[i * 2], states[i * 2 + 1]) for i in range(0, int(len(states) / 2))], \n",
    "              ncols=1, plot_width=400, plot_height=300, toolbar_location=None))"
   ]
  },
  {
   "cell_type": "code",
   "execution_count": null,
   "metadata": {},
   "outputs": [],
   "source": []
  }
 ],
 "metadata": {
  "kernelspec": {
   "display_name": "Python 3",
   "language": "python",
   "name": "python3"
  },
  "language_info": {
   "codemirror_mode": {
    "name": "ipython",
    "version": 3
   },
   "file_extension": ".py",
   "mimetype": "text/x-python",
   "name": "python",
   "nbconvert_exporter": "python",
   "pygments_lexer": "ipython3",
   "version": "3.8.5"
  },
  "toc": {
   "nav_menu": {},
   "number_sections": true,
   "sideBar": true,
   "skip_h1_title": false,
   "toc_cell": false,
   "toc_position": {},
   "toc_section_display": "block",
   "toc_window_display": false
  }
 },
 "nbformat": 4,
 "nbformat_minor": 2
}
