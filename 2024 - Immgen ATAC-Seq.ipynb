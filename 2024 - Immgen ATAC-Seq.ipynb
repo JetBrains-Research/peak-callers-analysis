{
 "cells": [
  {
   "cell_type": "markdown",
   "metadata": {
    "heading_collapsed": true
   },
   "source": "# Immgen ATAC-Seq\n"
  },
  {
   "cell_type": "code",
   "metadata": {
    "hidden": true
   },
   "source": [
    "%matplotlib inline\n",
    "%config InlineBackend.figure_format='retina'\n",
    "\n",
    "import pandas as pd\n",
    "import seaborn as sns\n",
    "\n",
    "sns.set_style(\"whitegrid\")\n",
    "import matplotlib.pyplot as plt\n",
    "import numpy as np\n",
    "import os\n",
    "from tqdm.auto import tqdm\n",
    "import re\n",
    "import tempfile"
   ],
   "outputs": [],
   "execution_count": null
  },
  {
   "cell_type": "code",
   "metadata": {},
   "source": [
    "PATH = os.path.expanduser('~/data/2024_Immgen')\n",
    "! mkdir -p {PATH}/pics\n",
    "\n",
    "def file_to_name(file):\n",
    "    return re.sub('(.*SRR[0-9]+_)|(_ATAC_seq.*)', '', os.path.basename(file))\n",
    "\n",
    "\n",
    "def file_to_srr(file):\n",
    "    return re.sub('_.*', '', os.path.basename(file))"
   ],
   "outputs": [],
   "execution_count": null
  },
  {
   "cell_type": "code",
   "metadata": {},
   "source": [
    "def bedl(file):\n",
    "    try:\n",
    "        tf = pd.read_csv(file, sep='\\t', header=None)\n",
    "        return tf[2] - tf[1]\n",
    "    except:\n",
    "        return np.zeros(0)  # Empty file\n",
    "\n",
    "\n",
    "def lines(file):\n",
    "    try:\n",
    "        tf = pd.read_csv(file, sep='\\t', header=None)\n",
    "        return len(tf)\n",
    "    except:\n",
    "        return 0  # Empty file\n",
    "\n",
    "\n",
    "def d(a, b):\n",
    "    return a / b if b != 0 else 0\n",
    "\n",
    "\n",
    "def sorted_file(file):\n",
    "    ts = tempfile.mktemp()\n",
    "    !cat {file} | sort -k1,1 -k2,2n > {ts}\n",
    "    return ts\n",
    "\n",
    "\n",
    "def last_col(file):\n",
    "    try:\n",
    "        cols = len(pd.read_csv(file, sep='\\t', nrows=1, header=None).columns)\n",
    "        return pd.read_csv(file, sep='\\t', header=None, usecols=[cols - 1])[cols - 1]\n",
    "    except:\n",
    "        return np.zeros(0)  # Empty file"
   ],
   "outputs": [],
   "execution_count": null
  },
  {
   "cell_type": "markdown",
   "metadata": {},
   "source": [
    "# Load peaks"
   ]
  },
  {
   "metadata": {},
   "cell_type": "code",
   "source": [
    "TOOLS = ['MACS2', 'MACS2 broad', 'SPAN', 'SICER']\n",
    "palette = plt.get_cmap('tab10')\n",
    "TOOLS_PALETTE = {t: palette(i) for i, t in enumerate(TOOLS)}"
   ],
   "outputs": [],
   "execution_count": null
  },
  {
   "cell_type": "code",
   "source": [
    "def atac_load_peaks(path, suffix):\n",
    "    df = pd.DataFrame(columns=['file', 'peaks'], dtype=object)\n",
    "    for f in tqdm(os.listdir(path)):\n",
    "        if not f.endswith(suffix):\n",
    "            continue\n",
    "        file = os.path.join(path, f)\n",
    "        ps = lines(file)\n",
    "        df.loc[len(df)] = (file, ps)\n",
    "    return df\n",
    "\n",
    "\n",
    "def atac_load_peaks_path(path):\n",
    "    df_macs2 = atac_load_peaks(os.path.join(path, 'macs2'), '.narrowPeak')\n",
    "    df_macs2['tool'] = 'MACS2'\n",
    "    print('MACS2', len(df_macs2))\n",
    "\n",
    "    df_macs2_broad = atac_load_peaks(os.path.join(path, 'macs2'), '.broadPeak')\n",
    "    df_macs2_broad['tool'] = 'MACS2 broad'\n",
    "    print('MACS2', len(df_macs2_broad))\n",
    "\n",
    "    df_sicer = atac_load_peaks(os.path.join(path, 'sicer'), '.scoreisland')\n",
    "    df_sicer['tool'] = 'SICER'\n",
    "    print('SICER', len(df_sicer))\n",
    "\n",
    "    df_span = atac_load_peaks(os.path.join(path, 'span'), '.peak')\n",
    "    df_span['tool'] = 'SPAN'\n",
    "    print('SPAN', len(df_span))\n",
    "\n",
    "    return pd.concat([df_macs2, df_macs2_broad, df_sicer, df_span]).reset_index(drop=True)"
   ],
   "metadata": {
    "collapsed": false
   },
   "outputs": [],
   "execution_count": null
  },
  {
   "cell_type": "code",
   "source": [
    "dfa = atac_load_peaks_path(PATH)\n",
    "dfa['name'] = [file_to_name(f) for f in dfa['file']]\n",
    "dfa['srr'] = [file_to_srr(f) for f in dfa['file']]\n",
    "dfa.sort_values(by='name', inplace=True)\n",
    "print(list(sorted(dfa['name'].unique())))\n",
    "dfa.sample(3)"
   ],
   "metadata": {
    "collapsed": false
   },
   "outputs": [],
   "execution_count": null
  },
  {
   "metadata": {},
   "cell_type": "code",
   "source": [
    "plt.figure(figsize=(3, 4))\n",
    "ax = plt.axes()\n",
    "sns.barplot(data=dfa, x='tool', y='peaks',\n",
    "            order=['MACS2', 'MACS2 broad', 'SICER', 'SPAN'],\n",
    "            palette=TOOLS_PALETTE,\n",
    "            errorbar='sd', capsize=.1,\n",
    "            err_kws={'linewidth': 2},\n",
    "            ax=ax)\n",
    "plt.xticks(rotation=90)\n",
    "plt.title('Peaks number')\n",
    "plt.tight_layout()\n",
    "plt.tight_layout()\n",
    "plt.savefig(f'{PATH}/pics/peaks.pdf', bbox_inches='tight', dpi=300)\n",
    "plt.show()"
   ],
   "outputs": [],
   "execution_count": null
  },
  {
   "cell_type": "code",
   "metadata": {},
   "source": [
    "plt.figure(figsize=(25, 6))\n",
    "g_result = sns.barplot(data=dfa, x='name', y='peaks', hue='tool',\n",
    "                       hue_order=['MACS2', 'MACS2 broad', 'SICER', 'SPAN'],\n",
    "                       palette=TOOLS_PALETTE,\n",
    "                       errorbar='sd', capsize=.05,\n",
    "                       err_kws={'linewidth': 2}\n",
    "                       )\n",
    "g_result.axes.legend(loc='center left', bbox_to_anchor=(1, 0.5))\n",
    "plt.xticks(rotation=90)\n",
    "plt.title('Peaks number')\n",
    "plt.tight_layout()\n",
    "plt.tight_layout()\n",
    "plt.savefig(f'{PATH}/pics/peaks.pdf', bbox_inches='tight', dpi=300)\n",
    "plt.show()"
   ],
   "outputs": [],
   "execution_count": null
  },
  {
   "cell_type": "code",
   "source": "dfa[dfa['tool'] == 'MACS2 broad'].groupby(['name'])['file'].count().astype(int)",
   "metadata": {
    "collapsed": false
   },
   "outputs": [],
   "execution_count": null
  },
  {
   "metadata": {},
   "cell_type": "code",
   "source": "",
   "outputs": [],
   "execution_count": null
  },
  {
   "cell_type": "code",
   "source": [
    "ts = []\n",
    "for srr, name, tool, file in tqdm(zip(dfa['srr'], dfa['name'], dfa['tool'], dfa['file'])):\n",
    "    lengths = bedl(file)\n",
    "    t = pd.DataFrame(dict(length=lengths))\n",
    "    # Some tracks may have open chromatin clusters, which significantly affects average, \n",
    "    # so pick only lengths limited to 80%\n",
    "    t.sort_values(by=['length'], inplace=True)\n",
    "    t = t.iloc[0:int(len(t) * 0.8)].copy()\n",
    "    t = t.sample(min(len(t), 10_000)).copy()\n",
    "    t['srr'] = srr\n",
    "    t['name'] = name\n",
    "    t['tool'] = tool\n",
    "    ts.append(t)\n",
    "df_lens = pd.concat(ts).reset_index(drop=True)\n",
    "del ts\n",
    "df_lens.sample(10)"
   ],
   "metadata": {
    "collapsed": false
   },
   "outputs": [],
   "execution_count": null
  },
  {
   "cell_type": "code",
   "metadata": {},
   "source": [
    "plt.figure(figsize=(25, 6))\n",
    "g_result = sns.boxplot(data=df_lens, x='name', y='length', hue='tool',\n",
    "                       hue_order=['MACS2', 'MACS2 broad', 'SPAN', 'SICER'],\n",
    "                       palette=TOOLS_PALETTE,\n",
    "                       showfliers=False)\n",
    "plt.xticks(rotation=90)\n",
    "plt.title('Peaks length')\n",
    "g_result.axes.legend(loc='center left', bbox_to_anchor=(1, 0.5))\n",
    "plt.tight_layout()\n",
    "# plt.savefig(f'{PATH}/pics/peaks_length.pdf', bbox_inches='tight', dpi=300)\n",
    "plt.show()"
   ],
   "outputs": [],
   "execution_count": null
  },
  {
   "cell_type": "code",
   "source": [
    "plt.figure(figsize=(25, 6))\n",
    "g_result = sns.boxplot(data=df_lens[df_lens['tool'] != 'SICER'], x='name', y='length', hue='tool',\n",
    "                       hue_order=['MACS2', 'MACS2 broad', 'SPAN'],\n",
    "                       palette=TOOLS_PALETTE,\n",
    "                       showfliers=False)\n",
    "plt.xticks(rotation=90)\n",
    "plt.title('Peaks length')\n",
    "g_result.axes.legend(loc='center left', bbox_to_anchor=(1, 0.5))\n",
    "plt.tight_layout()\n",
    "# plt.savefig(f'{PATH}/pics/peaks_length.pdf', bbox_inches='tight', dpi=300)\n",
    "plt.show()"
   ],
   "metadata": {
    "collapsed": false
   },
   "outputs": [],
   "execution_count": null
  },
  {
   "cell_type": "code",
   "source": [
    "plt.figure(figsize=(6, 4))\n",
    "ax = plt.axes()\n",
    "g_results = sns.histplot(data=df_lens, x='length', hue='tool', ax=ax,\n",
    "                         hue_order=['MACS2', 'MACS2 broad', 'SICER', 'SPAN'],\n",
    "                         palette=TOOLS_PALETTE,\n",
    "                         stat='density', common_bins=False, common_norm=False,\n",
    "                         bins=50, kde=True, log_scale=True, alpha=0.2)\n",
    "g_results.set(xscale='log')\n",
    "g_results.set_ylim(0, 5)\n",
    "g_results.set_xlim(50, 8e3)\n",
    "ax.title.set_text('ATAC-seq Peaks length')\n",
    "plt.tight_layout()\n",
    "plt.savefig(f'{PATH}/pics/peaks_length2.pdf', bbox_inches='tight', dpi=300)\n",
    "plt.show()"
   ],
   "metadata": {
    "collapsed": false
   },
   "outputs": [],
   "execution_count": null
  },
  {
   "cell_type": "markdown",
   "metadata": {},
   "source": [
    "# Overlaps"
   ]
  },
  {
   "cell_type": "code",
   "metadata": {},
   "source": [
    "! mkdir {PATH}/overlaps\n",
    "import pyranges as pr\n",
    "\n",
    "\n",
    "def compute_overlaps(df):\n",
    "    dfoverlap = pd.DataFrame(columns=['name', 'tool', 'file1', 'file2',\n",
    "                                      'peaks1', 'peaks2', 'overlap12', 'overlap21',\n",
    "                                      'peaks1_len', 'peaks2_len', 'overlap_len'], dtype=object)\n",
    "    for (name, tool), dft in tqdm(list(df.groupby(['name', 'tool']))):\n",
    "        print('Processing', name, tool, len(dft))\n",
    "        if len(dft) < 2:\n",
    "            continue\n",
    "        files = list(dft['file'])\n",
    "        ranges = [None] * len(files)\n",
    "        peaks = [-1] * len(files)\n",
    "        peaks_lens = [-1] * len(files)\n",
    "        # print('Load')\n",
    "        for i, file in enumerate(files):\n",
    "            peaks[i] = lines(file)\n",
    "            if peaks[i] == 0:\n",
    "                peaks_lens[i] = 0\n",
    "                continue\n",
    "            ranges[i] = pr.read_bed(sorted_file(file))\n",
    "            peaks_lens[i] = ranges[i].lengths().sum()\n",
    "        for i, j in product(range(len(ranges)), range(len(ranges))):\n",
    "            if i >= j:\n",
    "                continue\n",
    "            file1, file2 = files[i], files[j]\n",
    "            ranges1, ranges2 = ranges[i], ranges[j]\n",
    "            peaks1, peaks2 = peaks[i], peaks[j]\n",
    "            peaks1_len, peaks2_len = peaks_lens[i], peaks_lens[j]\n",
    "            if peaks1 <= 0 or peaks2 <= 0:\n",
    "                dfoverlap.loc[len(dfoverlap)] = (name, tool, file1, file2,\n",
    "                                                 peaks1, peaks2, 0, 0,\n",
    "                                                 peaks1_len, peaks2_len, 0)\n",
    "                continue\n",
    "            overlap1 = len(ranges1.overlap(ranges2))\n",
    "            overlap2 = len(ranges2.overlap(ranges1))\n",
    "            overlap_len = ranges1.intersect(ranges2).lengths().sum()\n",
    "            dfoverlap.loc[len(dfoverlap)] = (name, tool, file1, file2,\n",
    "                                             peaks1, peaks2, overlap1, overlap2,\n",
    "                                             peaks1_len, peaks2_len, overlap_len)\n",
    "    return dfoverlap"
   ],
   "outputs": [],
   "execution_count": null
  },
  {
   "cell_type": "code",
   "source": "df_overlap = compute_overlaps(dfa)",
   "metadata": {
    "collapsed": false,
    "is_executing": true
   },
   "outputs": [],
   "execution_count": null
  },
  {
   "cell_type": "code",
   "source": [
    "df_overlap['jaccard'] = [\n",
    "    d(lo, l1 + l2 - lo)\n",
    "    for l1, l2, lo in zip(df_overlap['peaks1_len'], df_overlap['peaks2_len'], df_overlap['overlap_len'])\n",
    "]\n",
    "df_overlap.sort_values(by='name', inplace=True)"
   ],
   "metadata": {
    "collapsed": false
   },
   "outputs": [],
   "execution_count": null
  },
  {
   "metadata": {},
   "cell_type": "code",
   "source": [
    "print('Jaccard')\n",
    "\n",
    "plt.figure(figsize=(3, 4))\n",
    "g_result = sns.barplot(data=df_overlap,\n",
    "                       x='tool', y='jaccard',\n",
    "                       order=['MACS2', 'MACS2 broad', 'SICER', 'SPAN'],\n",
    "                       hue='tool', legend=False,\n",
    "                       palette=TOOLS_PALETTE,\n",
    "                       errorbar='sd', capsize=.05,\n",
    "                       err_kws={'linewidth': 2}\n",
    "                       )\n",
    "plt.xticks(rotation=90)\n",
    "plt.title('Jaccard replicates')\n",
    "# g_result.axes.legend(loc='center left', bbox_to_anchor=(1, 0.5))\n",
    "plt.tight_layout()\n",
    "plt.savefig(f'{PATH}/pics/jaccard.pdf', bbox_inches='tight', dpi=300)\n",
    "plt.show()"
   ],
   "outputs": [],
   "execution_count": null
  },
  {
   "cell_type": "code",
   "metadata": {},
   "source": [
    "print('Jaccard')\n",
    "\n",
    "plt.figure(figsize=(25, 6))\n",
    "ax = plt.axes()\n",
    "sns.barplot(data=df_overlap,\n",
    "            x='name', y='jaccard',\n",
    "            hue='tool',\n",
    "            hue_order=['MACS2', 'MACS2 broad', 'SICER', 'SPAN'],\n",
    "            palette=TOOLS_PALETTE,\n",
    "            errorbar='sd', capsize=.05,\n",
    "            err_kws={'linewidth': 2},\n",
    "            ax=ax)\n",
    "plt.xticks(rotation=90)\n",
    "plt.title('Jaccard for cell type')\n",
    "sns.move_legend(ax, loc='center left', bbox_to_anchor=(1, 0.5))\n",
    "plt.tight_layout()\n",
    "plt.savefig(f'{PATH}/pics/jaccard.pdf', bbox_inches='tight', dpi=300)\n",
    "plt.show()"
   ],
   "outputs": [],
   "execution_count": null
  },
  {
   "metadata": {},
   "cell_type": "markdown",
   "source": "# Difference"
  },
  {
   "metadata": {},
   "cell_type": "code",
   "source": [
    "diff_bench_df = pd.DataFrame(\n",
    "    columns=['cell', 'srr', 'name', 'peaks'],\n",
    "    dtype=object\n",
    ")\n",
    "\n",
    "tf = tempfile.mktemp()\n",
    "\n",
    "for srr in tqdm(dfa['srr'].unique()):\n",
    "    print(srr)\n",
    "    t = dfa[(dfa['tool'] == 'SPAN') & (dfa['srr'] == srr)]\n",
    "    if len(t) == 0:\n",
    "        continue\n",
    "    span_file = sorted_file(t['file'].values[0])\n",
    "    cell_name = t['name'].values[0]\n",
    "    # Processing single tools information\n",
    "    for tool in dfa['tool'].unique():\n",
    "        if tool == 'SPAN':\n",
    "            continue\n",
    "        t = dfa[(dfa['tool'] == tool) & (dfa['srr'] == srr)]\n",
    "        if len(t) == 0:\n",
    "            continue\n",
    "        peaks_file = sorted_file(t['file'].values[0])\n",
    "        for name, args in [\n",
    "            (f'SPAN - {tool}', f' -a {span_file} -b {peaks_file} '),\n",
    "            (f'{tool} - SPAN', f' -b {span_file} -a {peaks_file} ')]:\n",
    "            !echo '' > {tf}\n",
    "            !bedtools intersect {args} -wa -v > {tf}\n",
    "            peaks = lines(tf)\n",
    "            diff_bench_df.loc[len(diff_bench_df)] = (cell_name, srr, name, peaks)\n",
    "diff_bench_df"
   ],
   "outputs": [],
   "execution_count": null
  },
  {
   "metadata": {},
   "cell_type": "code",
   "source": [
    "print('Diff')\n",
    "\n",
    "plt.figure(figsize=(3, 4))\n",
    "g_result = sns.barplot(data=diff_bench_df,\n",
    "                       x='name', y='peaks',\n",
    "                       # order=['SPAN - MACS2', 'SPAN - MACS2 broad', 'SPAN - SICER', 'MACS2 - SPAN', 'MACS2 broad - SPAN', 'SICER - SPAN'],\n",
    "                       order=['SPAN - MACS2', 'SPAN - MACS2 broad', 'MACS2 - SPAN', 'MACS2 broad - SPAN'],\n",
    "                       capsize=.1, err_kws={'linewidth': 2},\n",
    "                       )\n",
    "plt.xticks(rotation=90)\n",
    "plt.title('Difference')\n",
    "# g_result.axes.legend(loc='center left', bbox_to_anchor=(1, 0.5))\n",
    "plt.tight_layout()\n",
    "plt.savefig(f'{PATH}/pics/difference.pdf', bbox_inches='tight', dpi=300)\n",
    "plt.show()"
   ],
   "outputs": [],
   "execution_count": null
  },
  {
   "metadata": {},
   "cell_type": "code",
   "source": [
    "print('Diff')\n",
    "\n",
    "plt.figure(figsize=(25, 6))\n",
    "sns.barplot(data=diff_bench_df,\n",
    "            x='cell', y='peaks', hue='name',\n",
    "            hue_order=['SPAN - MACS2', 'SPAN - MACS2 broad', 'SPAN - SICER', 'MACS2 - SPAN', 'MACS2 broad - SPAN',\n",
    "                       'SICER - SPAN'],\n",
    "            errorbar='sd', capsize=.05, err_kws={'linewidth': 2},\n",
    "            )\n",
    "plt.xticks(rotation=90)\n",
    "plt.title('Difference')\n",
    "sns.move_legend(ax, loc='center left', bbox_to_anchor=(1, 0.5))\n",
    "plt.tight_layout()\n",
    "plt.savefig(f'{PATH}/pics/difference.pdf', bbox_inches='tight', dpi=300)\n",
    "plt.show()"
   ],
   "outputs": [],
   "execution_count": null
  },
  {
   "metadata": {},
   "cell_type": "markdown",
   "source": "# IDR between replicates"
  },
  {
   "metadata": {},
   "cell_type": "code",
   "source": [
    "    from tempfile import mktemp\n",
    "\n",
    "\n",
    "def compute_idrs(df):\n",
    "    dfidr = pd.DataFrame(columns=['name', 'tool', 'rep1', 'rep2',\n",
    "                                  'idr_peaks', 'idr_loaded_peaks', 'idr_percentage'], dtype=object)\n",
    "    tf = mktemp()\n",
    "    for (name, tool), dft in tqdm(list(df.groupby(['name', 'tool']))):\n",
    "        print('Processing', name, tool, len(dft))\n",
    "        files = list(dft['file'])\n",
    "        for i1, i2 in product(range(len(files)), range(len(files))):\n",
    "            if i1 >= i2:\n",
    "                continue\n",
    "            f1, f2 = sorted_file(files[i1]), sorted_file(files[i2])\n",
    "            # Process SICER peaks, add missing 8th column, as -log10 qvalue\n",
    "            if tool == 'SICER':\n",
    "                sf1 = pd.read_csv(f1, sep='\\t', header=None)\n",
    "                sf1[8] = -np.log10(sf1[7])\n",
    "                sf1.to_csv(f1, sep='\\t', index=None, header=False)\n",
    "                sf2 = pd.read_csv(f2, sep='\\t', header=None)\n",
    "                sf2[8] = -np.log10(sf2[7])\n",
    "                sf2.to_csv(f2, sep='\\t', index=None, header=False)\n",
    "            ! idr --input-file-type bed --rank 8 --samples {f1} {f2} 2>&1 | tee {tf}\n",
    "            with open(tf) as f:\n",
    "                idr_out = f.read()\n",
    "            ip, ilp, iperc = \\\n",
    "            re.findall('Number of peaks passing IDR cutoff of 0.05 - (\\\\d+)/(\\\\d+) \\\\(([\\\\d\\\\.]+)', idr_out)[0]\n",
    "            ip, ilp, iperc = int(ip), int(ilp), float(iperc)\n",
    "            dfidr.loc[len(dfidr)] = (name, tool, i1, i2, ip, ilp, iperc)\n",
    "    return dfidr"
   ],
   "outputs": [],
   "execution_count": null
  },
  {
   "metadata": {},
   "cell_type": "code",
   "source": "df_idr = compute_idrs(dfa)",
   "outputs": [],
   "execution_count": null
  },
  {
   "metadata": {},
   "cell_type": "code",
   "source": [
    "print('IDR')\n",
    "\n",
    "plt.figure(figsize=(14, 6))\n",
    "ax = plt.axes()\n",
    "sns.barplot(data=df_idr,\n",
    "            x='name', y='idr_peaks', hue='tool',\n",
    "            errorbar='sd', capsize=.05, errwidth=2,\n",
    "            ax=ax)\n",
    "plt.xticks(rotation=90)\n",
    "plt.title('IDR for cell type')\n",
    "ax.legend(loc='center left', bbox_to_anchor=(1, 0.5))\n",
    "plt.tight_layout()\n",
    "plt.savefig(f'{PATH}/pics/idr.pdf', bbox_inches='tight', dpi=300)\n",
    "plt.show()"
   ],
   "outputs": [],
   "execution_count": null
  },
  {
   "metadata": {},
   "cell_type": "markdown",
   "source": "# Overlap with DHS"
  },
  {
   "metadata": {},
   "cell_type": "code",
   "source": [
    "from itertools import product\n",
    "\n",
    "DHS_PATH = f'{PATH}/ENCFF754WCT_mm10_dhs_representative_sites.bed'\n",
    "dhs_path_sorted = sorted_file(DHS_PATH)\n",
    "DHS_PEAKS = lines(DHS_PATH)\n",
    "\n",
    "\n",
    "def compute_dhs_overlaps(df):\n",
    "    dfoverlap = pd.DataFrame(columns=['srr', 'name', 'tool', 'file', 'way', 'peaks', 'overlap'], dtype=object)\n",
    "    for (srr, name, tool), dft in tqdm(list(df.groupby(['srr', 'name', 'tool']))):\n",
    "        print('Processing', srr, name, tool, len(dft))\n",
    "        for _, row in dft.iterrows():\n",
    "            file, peaks = sorted_file(row['file']), row['peaks']\n",
    "\n",
    "            tf = f'{PATH}/overlaps/overlaps_{tool}_{name}_{tool}_vs_dhs.bed'.replace(' ', '_')\n",
    "            !bedtools intersect -a {file} -b {dhs_path_sorted} -wa -u > {tf}\n",
    "            owd = lines(tf)\n",
    "            dfoverlap.loc[len(dfoverlap)] = (srr, name, tool, file, 'with_dhs', peaks, owd)\n",
    "\n",
    "            tf = f'{PATH}/overlaps/overlaps_{tool}_{name}_{tool}_dhs_vs.bed'.replace(' ', '_')\n",
    "            !bedtools intersect -b {file} -a {dhs_path_sorted} -wa -u > {tf}\n",
    "            odw = lines(tf)\n",
    "            dfoverlap.loc[len(dfoverlap)] = (srr, name, tool, file, 'dhs_with', DHS_PEAKS, odw)\n",
    "    return dfoverlap"
   ],
   "outputs": [],
   "execution_count": null
  },
  {
   "metadata": {},
   "cell_type": "code",
   "source": [
    "dhs_overlap = compute_dhs_overlaps(dfa[dfa['tool'] != 'SICER'])\n",
    "dhs_overlap.sample(3)"
   ],
   "outputs": [],
   "execution_count": null
  },
  {
   "metadata": {},
   "cell_type": "code",
   "source": [
    "dhs_overlap['overlap_share'] = [o / p if p > 0 else 0 for o, p in zip(dhs_overlap['overlap'], dhs_overlap['peaks'])]\n",
    "dhs_overlap.sample(3)"
   ],
   "outputs": [],
   "execution_count": null
  },
  {
   "metadata": {},
   "cell_type": "code",
   "source": [
    "plt.figure(figsize=(25, 6))\n",
    "# Plot \n",
    "ax = plt.subplot(1, 2, 1)\n",
    "ax.title.set_text('Overlap with DHS')\n",
    "sns.barplot(data=dhs_overlap[dhs_overlap['way'] == 'with_dhs'], x='name', y='overlap_share', hue='tool',\n",
    "            hue_order=['MACS2', 'MACS2 broad', 'SICER', 'SPAN'],\n",
    "            palette=TOOLS_PALETTE,\n",
    "            errorbar='sd', capsize=.05, err_kws={'linewidth': 2}, ax=ax)\n",
    "ax.xaxis.set_tick_params(rotation=90)\n",
    "ax.set_xlabel('Cell')\n",
    "ax.set_ylabel('Fraction')\n",
    "ax.legend(loc='lower left', title='tool')\n",
    "ax.legend().set_visible(False)\n",
    "\n",
    "ax = plt.subplot(1, 2, 2)\n",
    "ax.title.set_text('Overlap DHS with')\n",
    "t = dhs_overlap[dhs_overlap['way'] == 'dhs_with'].copy()\n",
    "t['overlap'].clip(upper=0.15, inplace=True)\n",
    "sns.barplot(data=t, x='name', y='overlap_share', hue='tool',\n",
    "            hue_order=['MACS2', 'MACS2 broad', 'SICER', 'SPAN'],\n",
    "            palette=TOOLS_PALETTE,\n",
    "            errorbar='sd', capsize=.05, err_kws={'linewidth': 2}, ax=ax)\n",
    "ax.xaxis.set_tick_params(rotation=90)\n",
    "ax.set_xlabel('Cell')\n",
    "ax.set_ylabel('Fraction')\n",
    "ax.legend(loc='lower left', title='tool')\n",
    "ax.legend(loc='center left', bbox_to_anchor=(1, 0.5))\n",
    "\n",
    "plt.tight_layout()\n",
    "plt.savefig(f'{PATH}/pics/dhs.pdf', bbox_inches='tight', dpi=300)\n",
    "plt.show()"
   ],
   "outputs": [],
   "execution_count": null
  },
  {
   "metadata": {},
   "cell_type": "code",
   "source": [
    "t = pd.pivot_table(dhs_overlap[['name', 'tool', 'way', 'overlap_share']],\n",
    "                   values='overlap_share', columns=['way'], index=['name', 'tool']).reset_index()\n",
    "\n",
    "plt.figure(figsize=(5, 3.5))\n",
    "ax = plt.axes()\n",
    "sns.kdeplot(t,\n",
    "            hue='tool',\n",
    "            hue_order=['MACS2', 'MACS2 broad', 'SPAN'],\n",
    "            palette=TOOLS_PALETTE,\n",
    "            x='with_dhs', y='dhs_with',\n",
    "            alpha=0.1,\n",
    "            thresh=0.01,\n",
    "            fill=True,\n",
    "            legend=False,\n",
    "            ax=ax)\n",
    "sns.scatterplot(\n",
    "    t, x='with_dhs', y='dhs_with',\n",
    "    hue='tool',\n",
    "    hue_order=['MACS2', 'MACS2 broad', 'SPAN'],\n",
    "    palette=TOOLS_PALETTE,\n",
    "    ax=ax)\n",
    "ax.set_xlabel('Precision (overlap peaks with DHS)')\n",
    "ax.set_ylabel('Sensitivity (overlap DHS with peaks)')\n",
    "ax.title.set_text('Overlap vs DHS')\n",
    "sns.move_legend(ax, loc='center left', bbox_to_anchor=(1, 0.5))\n",
    "plt.tight_layout()\n",
    "plt.show()"
   ],
   "outputs": [],
   "execution_count": null
  },
  {
   "metadata": {},
   "cell_type": "code",
   "source": "",
   "outputs": [],
   "execution_count": null
  },
  {
   "metadata": {},
   "cell_type": "markdown",
   "source": "# Top peaks vs DHS"
  },
  {
   "metadata": {},
   "cell_type": "code",
   "source": [
    "import tempfile\n",
    "\n",
    "\n",
    "def compute_dhs_overlaps_n(df):\n",
    "    tf = tempfile.mktemp()\n",
    "    tf2 = tempfile.mktemp()\n",
    "    rows = []\n",
    "    for (srr, n, tool), dft in tqdm(list(df.groupby(['srr', 'name', 'tool']))):\n",
    "        print('Processing', n, tool, len(dft))\n",
    "        for _, row in dft.iterrows():\n",
    "            peaks_file, peaks = sorted_file(row['file']), row['peaks']\n",
    "            if peaks == 0:\n",
    "                for top in np.linspace(1000, 30000, 5):\n",
    "                    rows.append((srr, n, tool, top, DHS_PEAKS, peaks_file, 0, 0, 0))\n",
    "                continue\n",
    "            t = pd.read_csv(peaks_file, sep='\\t', header=None)\n",
    "            # if len(t.columns) < 9:\n",
    "            #     display(t.head())\n",
    "            #     return \n",
    "            t.sort_values(by=[8] if len(t.columns) >= 9 else [3], ascending=False, inplace=True)\n",
    "            for top in np.linspace(1000, 30000, 5):\n",
    "                t.head(int(top)).sort_values(by=[0, 1]).to_csv(tf, sep='\\t', index=False, header=None)\n",
    "                tf = sorted_file(tf)\n",
    "                peaks = lines(tf)\n",
    "                ! bedtools intersect -a {tf} -b {dhs_path_sorted} -wa -u > {tf2}\n",
    "                peaks_overlap = lines(tf2)\n",
    "                ! bedtools intersect -b {tf} -a {dhs_path_sorted} -wa -u > {tf2}\n",
    "                dhs_overlap = lines(tf2)\n",
    "                rows.append((srr, n, tool, top, DHS_PEAKS, peaks_file, peaks, peaks_overlap, dhs_overlap))\n",
    "\n",
    "    df = pd.DataFrame(\n",
    "        rows,\n",
    "        columns=['srr', 'name', 'tool', 'top', 'dhs_peaks', 'peaks_file', 'peaks', 'peaks_overlap', 'dhs_overlap'],\n",
    "        dtype=object\n",
    "    )\n",
    "    return df"
   ],
   "outputs": [],
   "execution_count": null
  },
  {
   "metadata": {},
   "cell_type": "code",
   "source": [
    "# dhs_ovlp_df = compute_dhs_overlaps_n(dfa[(dfa['tool'] != 'SICER') & (dfa['srr'] == 'SRR5799505')])  # Sample for testing\n",
    "dhs_ovlp_df = compute_dhs_overlaps_n(dfa[(dfa['tool'] != 'SICER')])  # Sample for testing\n",
    "dhs_ovlp_df.sample(3)"
   ],
   "outputs": [],
   "execution_count": null
  },
  {
   "metadata": {},
   "cell_type": "code",
   "source": [
    "dhs_ovlp_df['p'] = (dhs_ovlp_df['peaks_overlap'] + dhs_ovlp_df['dhs_overlap']) / 2\n",
    "dhs_ovlp_df['precision'] = [d(x, y) for x, y in zip(dhs_ovlp_df['peaks_overlap'], dhs_ovlp_df['peaks'])]\n",
    "dhs_ovlp_df['sensitivity'] = [d(x, y) for x, y in zip(dhs_ovlp_df['dhs_overlap'], dhs_ovlp_df['dhs_peaks'])]\n",
    "dhs_ovlp_df['f1'] = [\n",
    "    2 / (d(1, s + 1e-10) + d(1, p + 1e-10))\n",
    "    for s, p in zip(dhs_ovlp_df['sensitivity'], dhs_ovlp_df['precision'])]"
   ],
   "outputs": [],
   "execution_count": null
  },
  {
   "metadata": {},
   "cell_type": "code",
   "source": "dhs_ovlp_df.sample(3)",
   "outputs": [],
   "execution_count": null
  },
  {
   "metadata": {},
   "cell_type": "code",
   "source": [
    "plt.figure(figsize=(4, 4))\n",
    "for (srr, n, tool), dft in dhs_ovlp_df.groupby(['srr', 'name', 'tool']):\n",
    "    print(srr, n, tool)\n",
    "    plt.plot(dft['precision'], dft['sensitivity'], marker='.',\n",
    "             color=TOOLS_PALETTE[tool], alpha=0.8)\n",
    "plt.title('Peaks vs DHS')\n",
    "plt.xlabel('Precision (Peaks fraction)')\n",
    "plt.ylabel('Sensitivity (DHS fraction)')\n",
    "plt.tight_layout()\n",
    "plt.show()"
   ],
   "outputs": [],
   "execution_count": null
  },
  {
   "metadata": {},
   "cell_type": "code",
   "source": [
    "plt.figure(figsize=(4, 4))\n",
    "ax = plt.axes()\n",
    "# Brain microglia\n",
    "for (srr, n, tool), dft in dhs_ovlp_df[dhs_ovlp_df['srr'] == 'SRR5799505'].groupby(['srr', 'name', 'tool']):\n",
    "    print(srr, n, tool)\n",
    "    plt.plot(dft['precision'], dft['sensitivity'], marker='.', color=TOOLS_PALETTE[tool], alpha=0.8)\n",
    "    for x, y, t in zip(dft['precision'], dft['sensitivity'], dft['top']):\n",
    "        ax.text(x, y, str(int(t)), fontsize=7)\n",
    "plt.title('Peaks vs DHS')\n",
    "plt.xlabel('Precision (Peaks fraction)')\n",
    "plt.ylabel('Sensitivity (DHS fraction)')\n",
    "plt.tight_layout()\n",
    "plt.show()"
   ],
   "outputs": [],
   "execution_count": null
  },
  {
   "metadata": {},
   "cell_type": "code",
   "source": [
    "print('ENCODE + Roadmap')\n",
    "plt.figure(figsize=(5, 3.5))\n",
    "ax = plt.axes()\n",
    "sns.lineplot(\n",
    "    data=dhs_ovlp_df[(dhs_ovlp_df['srr'] == 'SRR5799505') & (dhs_ovlp_df['top'] >= 5000)],\n",
    "    x='precision', y='sensitivity',\n",
    "    hue='tool', marker='o',\n",
    "    sort=False,\n",
    "    palette=TOOLS_PALETTE,\n",
    "    ax=ax\n",
    ")\n",
    "\n",
    "# Put a legend to the right of the current axis\n",
    "ax.legend(loc='center left', bbox_to_anchor=(1, 0.5))\n",
    "\n",
    "plt.title('Peaks vs DHS')\n",
    "plt.xlabel('Precision (overlap peaks with DHS)')\n",
    "plt.ylabel('Sensitivity (overlap DHS with peaks)')\n",
    "\n",
    "plt.tight_layout()\n",
    "plt.show()"
   ],
   "outputs": [],
   "execution_count": null
  },
  {
   "metadata": {},
   "cell_type": "code",
   "source": [
    "rows = []\n",
    "for (srr, n, tool), dft in dhs_ovlp_df.groupby(['srr', 'name', 'tool']):\n",
    "    dft.sort_values(by=['top'], inplace=True)\n",
    "    ap = 0\n",
    "    sprev, pprev = 0, 0\n",
    "    for _, row in dft.iterrows():\n",
    "        ap += (row['sensitivity'] - sprev) * (row['precision'] + pprev) / 2\n",
    "        sprev, pprev = row['sensitivity'], row['precision']\n",
    "    rows.append((srr, n, tool, ap))\n",
    "dhs_ovlp_df_df = pd.DataFrame(rows, columns=['srr', 'name', 'tool', 'auc'])\n",
    "del rows\n",
    "dhs_ovlp_df_df.sample(2)"
   ],
   "outputs": [],
   "execution_count": null
  },
  {
   "metadata": {},
   "cell_type": "code",
   "source": [
    "plt.figure(figsize=(3, 4))\n",
    "ax = plt.axes()\n",
    "ax.title.set_text('Peaks vs DHS AUC')\n",
    "t = dhs_ovlp_df_df[dhs_ovlp_df_df['tool'] != 'SICER']\n",
    "g_results = sns.barplot(data=t, x='tool', y='auc',\n",
    "                        capsize=.1, err_kws={'linewidth': 2},\n",
    "                        hue='tool', legend=False,\n",
    "                        palette=TOOLS_PALETTE,\n",
    "                        ax=ax)\n",
    "sns.stripplot(data=t, x='tool', y='auc',\n",
    "              dodge=True, size=1.5, color=\"black\", alpha=0.5,\n",
    "              ax=ax)\n",
    "\n",
    "ax.xaxis.set_tick_params(rotation=90)\n",
    "ax.set_ylabel('AUC')\n",
    "plt.tight_layout()\n",
    "plt.show()"
   ],
   "outputs": [],
   "execution_count": null
  },
  {
   "metadata": {},
   "cell_type": "markdown",
   "source": "# Bigwigs"
  },
  {
   "metadata": {},
   "cell_type": "code",
   "source": [
    "def atac_load_bws(path):\n",
    "    df = pd.DataFrame(columns=['file', 'srr', 'name'], dtype=object)\n",
    "    for f in tqdm(os.listdir(path)):\n",
    "        if not f.endswith('.bw'):\n",
    "            continue\n",
    "        file = os.path.join(path, f)\n",
    "        df.loc[len(df)] = (file, file_to_srr(f), file_to_name(f))\n",
    "    return df\n",
    "\n",
    "\n",
    "df_bams = atac_load_bws(PATH + '/bw')\n",
    "df_bams.sample(3)"
   ],
   "outputs": [],
   "execution_count": null
  },
  {
   "metadata": {},
   "cell_type": "code",
   "source": [
    "import pyBigWig\n",
    "\n",
    "CHROM_SIZES = {\n",
    "    c: s for _, (c, s) in pd.read_csv(os.path.join(PATH, 'mm10.chrom.sizes'),\n",
    "                                      sep='\\t', names=['chr', 'size']).iterrows() if '_' not in c\n",
    "}\n",
    "\n",
    "total_coverages = {}\n",
    "ts = []\n",
    "for _, (file, srr, name) in tqdm(list(df_bams[['file', 'srr', 'name']].iterrows())):\n",
    "    try:\n",
    "        with pyBigWig.open(file) as bw:\n",
    "            total_coverage = sum(\n",
    "                bw.stats(chr, exact=True, type='sum')[0] for chr in CHROM_SIZES.keys() if '_' not in chr)\n",
    "            print('Total coverage', total_coverage)\n",
    "            # Multiplier to align BAM coverage with BigWig estimation\n",
    "            total_coverage *= 1.1e-2\n",
    "            total_coverages[(srr, name)] = total_coverage\n",
    "    except Exception:\n",
    "        pass\n",
    "\n",
    "total_coverages"
   ],
   "outputs": [],
   "execution_count": null
  },
  {
   "metadata": {},
   "cell_type": "code",
   "source": [
    "total_coverages_df = pd.DataFrame([(srr, name, reads) for (srr, name), reads in total_coverages.items()],\n",
    "                                  columns=['srr', 'name', 'reads'])\n",
    "total_coverages_df.sample(5)"
   ],
   "outputs": [],
   "execution_count": null
  },
  {
   "metadata": {},
   "cell_type": "code",
   "source": [
    "plt.figure(figsize=(14, 6))\n",
    "g_result = sns.barplot(data=total_coverages_df, x='name', y='reads',\n",
    "                       errorbar='sd', capsize=.05, err_kws={'linewidth': 2})\n",
    "# g_result.axes.legend(loc='center left', bbox_to_anchor=(1, 0.5))\n",
    "plt.xticks(rotation=90)\n",
    "plt.title('Reads')\n",
    "plt.tight_layout()\n",
    "plt.tight_layout()\n",
    "# plt.savefig(f'{PATH}/pics/peaks.pdf', bbox_inches='tight', dpi=300)\n",
    "plt.show()"
   ],
   "outputs": [],
   "execution_count": null
  },
  {
   "metadata": {},
   "cell_type": "markdown",
   "source": "# Difference coverage"
  },
  {
   "metadata": {},
   "cell_type": "code",
   "source": [
    "tf = tempfile.mktemp()\n",
    "\n",
    "rows = []\n",
    "for srr in tqdm(dfa['srr'].unique()):\n",
    "    # if srr != 'SRR5799505':\n",
    "    #     continue\n",
    "    print(srr)\n",
    "    t = dfa[(dfa['tool'] == 'SPAN') & (dfa['srr'] == srr)]\n",
    "    if len(t) != 1:\n",
    "        continue\n",
    "    span_file = sorted_file(t['file'].values[0])\n",
    "    cell_name = t['name'].values[0]\n",
    "    totalm = total_coverages[(srr, cell_name)] * 1e-6\n",
    "    # Processing single tools information\n",
    "    bw_path = df_bams[(df_bams['srr'] == srr) & (df_bams['name'] == cell_name)]['file'].values[0]\n",
    "    with pyBigWig.open(bw_path) as bw:\n",
    "        for tool in dfa['tool'].unique():\n",
    "            if tool == 'SPAN':\n",
    "                continue\n",
    "            t = dfa[(dfa['tool'] == tool) & (dfa['srr'] == srr)]\n",
    "            if len(t) != 1:\n",
    "                continue\n",
    "            peaks_file = sorted_file(t['file'].values[0])\n",
    "            for name, args in [\n",
    "                (f'SPAN - {tool}', f' -a {span_file} -b {peaks_file} '),\n",
    "                (f'{tool} - SPAN', f' -b {span_file} -a {peaks_file} ')]:\n",
    "                !echo '' > {tf}\n",
    "                !bedtools intersect {args} -wa -v > {tf}\n",
    "                t2 = pd.read_csv(tf, sep='\\t', header=None)\n",
    "                # if len(t.columns) < 9:\n",
    "                #     display(t.head())\n",
    "                #     return \n",
    "                t2.sort_values(by=[8] if len(t2.columns) >= 9 else [3], ascending=False, inplace=True)\n",
    "                t2 = t2[~t2[0].str.contains('M|_', regex=True)]\n",
    "                for _, (chr, start, end) in t2.head(50)[[0, 1, 2]].iterrows():\n",
    "                    cov = bw.stats(chr, start, end, exact=True, type='sum')[0]\n",
    "                    rpk = cov / (end - start) * 1e3\n",
    "                    rpm = cov / totalm\n",
    "                    rpkm = rpk / totalm\n",
    "                    rows.append((srr, cell_name, name, len(t2), chr, start, end, end - start, rpk, rpm, rpkm))\n",
    "\n",
    "diff_bench_coverage_df = pd.DataFrame(\n",
    "    rows,\n",
    "    columns=['srr', 'cell', 'name', 'peaks', 'chromosome', 'start', 'end', 'length', 'rpk', 'rpm', 'rpkm'],\n",
    "    dtype=object\n",
    ")\n",
    "diff_bench_coverage_df.sample(3)"
   ],
   "outputs": [],
   "execution_count": null
  },
  {
   "metadata": {},
   "cell_type": "code",
   "source": [
    "print('Diff')\n",
    "\n",
    "plt.figure(figsize=(3, 4))\n",
    "sns.barplot(data=diff_bench_coverage_df,\n",
    "            x='name', y='peaks',\n",
    "            order=['SPAN - MACS2', 'SPAN - MACS2 broad', 'MACS2 - SPAN', 'MACS2 broad - SPAN'],\n",
    "            capsize=.1, err_kws={'linewidth': 2})\n",
    "plt.xticks(rotation=90)\n",
    "plt.title('Difference')\n",
    "# g_result.axes.legend(loc='center left', bbox_to_anchor=(1, 0.5))\n",
    "plt.tight_layout()\n",
    "# plt.savefig(f'{PATH}/pics/difference.pdf', bbox_inches='tight', dpi=300)\n",
    "plt.show()"
   ],
   "outputs": [],
   "execution_count": null
  },
  {
   "metadata": {},
   "cell_type": "code",
   "source": [
    "print('Diff')\n",
    "\n",
    "plt.figure(figsize=(3, 4))\n",
    "sns.barplot(data=diff_bench_coverage_df,\n",
    "            x='name', y='length',\n",
    "            order=['SPAN - MACS2', 'SPAN - MACS2 broad', 'MACS2 - SPAN', 'MACS2 broad - SPAN'],\n",
    "            capsize=.1, err_kws={'linewidth': 2},\n",
    "            )\n",
    "plt.xticks(rotation=90)\n",
    "plt.title('Length of difference')\n",
    "# g_result.axes.legend(loc='center left', bbox_to_anchor=(1, 0.5))\n",
    "plt.tight_layout()\n",
    "# plt.savefig(f'{PATH}/pics/difference.pdf', bbox_inches='tight', dpi=300)\n",
    "plt.show()"
   ],
   "outputs": [],
   "execution_count": null
  },
  {
   "metadata": {},
   "cell_type": "code",
   "source": [
    "print('Diff')\n",
    "\n",
    "plt.figure(figsize=(3, 4))\n",
    "g_result = sns.barplot(data=diff_bench_coverage_df,\n",
    "                       x='name', y='rpkm',\n",
    "                       # order=['SPAN - MACS2', 'SPAN - MACS2 broad', 'SPAN - SICER', 'MACS2 - SPAN', 'MACS2 broad - SPAN', 'SICER - SPAN'],\n",
    "                       order=['SPAN - MACS2', 'SPAN - MACS2 broad', 'MACS2 - SPAN', 'MACS2 broad - SPAN'],\n",
    "                       capsize=.05, err_kws={'linewidth': 2},\n",
    "                       )\n",
    "plt.xticks(rotation=90)\n",
    "plt.title('Coverage of difference')\n",
    "# g_result.axes.legend(loc='center left', bbox_to_anchor=(1, 0.5))\n",
    "plt.tight_layout()\n",
    "# plt.savefig(f'{PATH}/pics/difference.pdf', bbox_inches='tight', dpi=300)\n",
    "plt.show()"
   ],
   "outputs": [],
   "execution_count": null
  },
  {
   "metadata": {},
   "cell_type": "code",
   "source": "",
   "outputs": [],
   "execution_count": null
  }
 ],
 "metadata": {
  "kernelspec": {
   "display_name": "Python 3",
   "language": "python",
   "name": "python3"
  },
  "language_info": {
   "codemirror_mode": {
    "name": "ipython",
    "version": 3
   },
   "file_extension": ".py",
   "mimetype": "text/x-python",
   "name": "python",
   "nbconvert_exporter": "python",
   "pygments_lexer": "ipython3",
   "version": "3.8.5"
  },
  "toc": {
   "nav_menu": {},
   "number_sections": true,
   "sideBar": true,
   "skip_h1_title": false,
   "toc_cell": false,
   "toc_position": {},
   "toc_section_display": "block",
   "toc_window_display": true
  }
 },
 "nbformat": 4,
 "nbformat_minor": 2
}
