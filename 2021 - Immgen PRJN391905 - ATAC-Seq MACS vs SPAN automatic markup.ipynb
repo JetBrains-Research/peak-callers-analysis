{
 "cells": [
  {
   "cell_type": "markdown",
   "metadata": {
    "pycharm": {
     "name": "#%% md\n"
    }
   },
   "source": [
    "# PRJN392905 Immgen - ATAC-Seq MACS vs SPAN automatic markup\n",
    "\n",
    "Prerequisites\n",
    "```\n",
    "git checkout https://github.com/JetBrains-Research/sc-atacseq-smk-pipeline\n",
    "cd /mnt/stripe/shpynov/sc-atacseq-smk-pipeline\n",
    "\n",
    "for Q in 0.5 0.1 0.05 0.01 0.001 1E-4 1E-6 1E-9 1E-12; do \n",
    "    echo $Q; \n",
    "    snakemake -s /mnt/stripe/shpynov/chipseq-smk-pipeline/Snakefile all --cores 24 --use-conda --config work_dir=/mnt/stripe/shpynov/PRJN392905 genome=mm10 fastq_dir=/mnt/stripe/shpynov/PRJN392905/fastq macs2_suffix=q${Q} macs2_params=-q ${Q} -f BAMPE --nomodel --nolambda -B --call-summits span_fdr=${Q} span_params=--fragment 0; \n",
    "done\n",
    "```"
   ]
  },
  {
   "cell_type": "code",
   "execution_count": null,
   "metadata": {
    "ExecuteTime": {
     "end_time": "2019-07-11T17:47:39.437652Z",
     "start_time": "2019-07-11T17:47:37.738743Z"
    },
    "pycharm": {
     "name": "#%%\n"
    }
   },
   "outputs": [],
   "source": [
    "%config InlineBackend.figure_format = 'retina'\n",
    "import pandas as pd\n",
    "import numpy as np\n",
    "import matplotlib.pyplot as plt\n",
    "import os\n",
    "from pybedtools import BedTool\n",
    "import subprocess\n",
    "import math\n",
    "import glob\n",
    "import re"
   ]
  },
  {
   "cell_type": "code",
   "execution_count": null,
   "metadata": {
    "ExecuteTime": {
     "end_time": "2019-07-11T17:47:39.651116Z",
     "start_time": "2019-07-11T17:47:39.442053Z"
    },
    "pycharm": {
     "name": "#%%\n"
    }
   },
   "outputs": [],
   "source": [
    "CELLS = [re.sub('.*/|_q.*', '', f) for f in glob.glob('/mnt/stripe/shpynov/PRJN392905/macs2/*q0.05*.narrowPeak')]\n",
    "print(len(CELLS))"
   ]
  },
  {
   "cell_type": "code",
   "execution_count": null,
   "metadata": {
    "pycharm": {
     "name": "#%%\n"
    }
   },
   "outputs": [],
   "source": [
    "# discover MACS2 peak files\n",
    "macs2_peaks_paths = {}\n",
    "for cell in CELLS:\n",
    "    macs2_peaks_paths[cell] = {\n",
    "        q: os.path.join(EXPERIMENT_FOLDER, \"macs2\",\n",
    "                        \"{}_q{}_peaks.narrowPeak\".format(cell, q)) for q in QS}\n",
    "\n",
    "\n",
    "df_macs2_path = os.path.join(EXPERIMENT_FOLDER, 'df_macs2.csv')\n",
    "if not os.path.exists(df_macs2_path):\n",
    "    df_macs2 = pd.DataFrame(columns=['peak_caller', 'cell', 'q', 'bin', 'gap',\n",
    "                                     'peak_count', 'dhs_by_peak', 'peak_by_dhs'])\n",
    "else:\n",
    "    print('Loading', df_macs2_path)\n",
    "    df_macs2 = pd.read_csv(df_macs2_path)\n",
    "\n",
    "    \n",
    "for i, cell in enumerate(CELLS):\n",
    "    print('Processing cell', i + 1, 'of', len(CELLS))\n",
    "    for q in QS:\n",
    "        # Already have it processed\n",
    "        if len(df_macs2[np.logical_and(df_macs2['cell'] == cell, df_macs2['q'] == float(q))]) == 0:\n",
    "            print(\"Processing {} for q={}\".format(cell, q))\n",
    "            peaks_file = BedTool(macs2_peaks_paths[cell][q])\n",
    "            peak_count = peaks_file.count()\n",
    "            overlap = peaks_file.intersect(dhs_mm10, wa=True, u=True).count()\n",
    "            peak_by_dhs = 0 if overlap == 0 else overlap * 100.0 / peak_count\n",
    "            overlap = dhs_mm10.intersect(peaks_file, wa=True, u=True).count()\n",
    "            dhs_by_peak = overlap * 100.0 / dhs_mm10.count()\n",
    "            df_macs2.loc[len(df_macs2)] = ('macs2', cell, float(q), math.nan, math.nan,\n",
    "                                           peak_count, dhs_by_peak, peak_by_dhs)\n",
    "print('Saved', df_macs2_path)\n",
    "df_macs2.to_csv(df_macs2_path, index=None)\n",
    "\n",
    "df_macs2.head()"
   ]
  },
  {
   "cell_type": "markdown",
   "metadata": {
    "pycharm": {
     "name": "#%% md\n"
    }
   },
   "source": [
    "# MACS2 peaks"
   ]
  },
  {
   "cell_type": "code",
   "execution_count": null,
   "metadata": {
    "ExecuteTime": {
     "end_time": "2019-07-11T17:47:39.675033Z",
     "start_time": "2019-07-11T17:47:39.655629Z"
    },
    "pycharm": {
     "name": "#%%\n"
    }
   },
   "outputs": [],
   "source": [
    "EXPERIMENT_FOLDER = \"/mnt/stripe/shpynov/PRJN392905\"\n",
    "QS = [\"0.5\", \"0.1\", \"0.05\", \"0.01\", \"0.001\", \"1E-4\", \"1E-6\", \"1E-9\", \"1E-12\"]\n",
    "# SPAN uses different FDR naming\n",
    "SPAN_QS = [\"0.5\", \"0.1\", \"0.05\", \"0.01\", \"0.001\", \"0.0001\", \"1e-06\", \"1e-09\", \"1e-12\"]\n",
    "\n",
    "# DHS was obtained from https://www.encodeproject.org\n",
    "# hg19 representative DHS sites: https://www.encodeproject.org/annotations/ENCSR664FOJ/\n",
    "dhs_mm10 = BedTool(os.path.join(EXPERIMENT_FOLDER, \"dhs\", \"mm10_dhs.bed\"))\n",
    "\n",
    "CHROM_SIZES = os.path.join(EXPERIMENT_FOLDER, \"mm10.chrom.sizes\")"
   ]
  },
  {
   "cell_type": "markdown",
   "metadata": {
    "pycharm": {
     "name": "#%% md\n"
    }
   },
   "source": [
    "# Span peaks"
   ]
  },
  {
   "cell_type": "code",
   "execution_count": null,
   "metadata": {
    "ExecuteTime": {
     "end_time": "2019-07-11T17:47:43.008882Z",
     "start_time": "2019-07-11T17:47:41.249221Z"
    },
    "scrolled": true,
    "pycharm": {
     "name": "#%%\n"
    }
   },
   "outputs": [],
   "source": [
    "# discover Span peak files\n",
    "def span_peaks_path(cell, q):\n",
    "    return os.path.join(EXPERIMENT_FOLDER, \"span\",\"{}_100_{}_5.peak\".format(cell, q))\n",
    "\n",
    "span_peaks_paths = {}\n",
    "for cell in CELLS:\n",
    "    span_peaks_paths[cell] = { q: span_peaks_path(cell, SPAN_QS[i]) for i, q in enumerate(QS)}\n",
    "\n",
    "\n",
    "df_span_path = os.path.join(EXPERIMENT_FOLDER, 'df_span.csv')\n",
    "if not os.path.exists(df_span_path):\n",
    "    df_span = pd.DataFrame(columns=['peak_caller', 'cell', 'q', 'bin', 'gap',\n",
    "                                     'peak_count', 'dhs_by_peak', 'peak_by_dhs'])\n",
    "else:\n",
    "    print('Loading', df_span_path)\n",
    "    df_span = pd.read_csv(df_span_path)\n",
    "\n",
    "for i, cell in enumerate(CELLS):\n",
    "    for q in QS:\n",
    "        # Already have it processed\n",
    "        if len(df_span[np.logical_and(df_span['cell'] == cell, df_span['q'] == float(q))]) == 0:\n",
    "            print(\"Processing {} for q={}\".format(cell, q))\n",
    "            peaks_file = BedTool(span_peaks_paths[cell][q])\n",
    "            peak_count = peaks_file.count()\n",
    "            overlap = peaks_file.intersect(dhs_mm10, wa=True, u=True).count()\n",
    "            peak_by_dhs = 0 if overlap == 0 else overlap * 100.0 / peak_count\n",
    "            overlap = dhs_mm10.intersect(peaks_file, wa=True, u=True).count()\n",
    "            dhs_by_peak = overlap * 100.0 / dhs_mm10.count()\n",
    "            df_span.loc[len(df_span)] = ('span', cell, float(q), 100, 5,\n",
    "                                           peak_count, dhs_by_peak, peak_by_dhs)\n",
    "\n",
    "print('Saved', df_span_path)\n",
    "df_span.to_csv(df_span_path, index=None)\n",
    "df_span.head()"
   ]
  },
  {
   "cell_type": "markdown",
   "metadata": {
    "pycharm": {
     "name": "#%% md\n"
    }
   },
   "source": [
    "# Automatic markup"
   ]
  },
  {
   "cell_type": "code",
   "execution_count": null,
   "outputs": [],
   "source": [
    "!%% bash\n",
    "# Bash commands to create markup by Immgen\n",
    "\n",
    "OUT=/mnt/stripe/shpynov/PRJN392905/intersect.tsv;\n",
    "T=$'\\t'; \n",
    "printf %s \"chr${T}start${T}end\" > ${OUT}; \n",
    "FILES=(); \n",
    "for F in $(find /mnt/stripe/shpynov/PRJN392905/macs2_q0.05/ -name \"*.narrowPeak\"); do \n",
    "\tFILES+=(\"$F\"); \n",
    "\tprintf %s \"${T}${F}\" >> ${OUT}; \n",
    "done; \n",
    "echo >> ${OUT};\n",
    "bedtools multiinter -i \"${FILES[@]}\" |\\\n",
    "\tbedtools merge -c $(seq -s, 6 1 $((${#FILES[@]} + 5))) -o max |\\\n",
    "\tawk '{if (NR > 1) printf(\"\\n\"); printf(\"%s\\t%s\\t%s\", $1, $2, $3); for (i=4; i<=NF; i++) printf(\"\\t%d\", int($i)); }' >> ${OUT};\n",
    "\n",
    "# Find out regions where all the peaks present\n",
    "ALL=\"\"; \n",
    "for F in $(seq 1 1 ${#FILES[@]}); do \n",
    "    ALL=\"${ALL}${T}1\"; \n",
    "done; \n",
    "cat ${OUT} | grep \"${ALL}\" | awk -v OFS='\\t' '{print $1,$2,$3}' > /mnt/stripe/shpynov/PRJN392905/intersect_all.bed\n",
    "\n",
    "# Find regions interesting with at least 80% by DHS and report original DHS.\n",
    "bedtools intersect -b /mnt/stripe/shpynov/PRJN392905/intersect_all.bed -a /mnt/stripe/shpynov/PRJN392905/dhs/mm10_dhs.bed -F 0.8 -f 0.8 -wa -wb > /mnt/stripe/shpynov/PRJN392905/mm10_dhs_intersect_all_0.8.bed\n",
    "\n",
    "# Total 200 peaks\n",
    "# 100 peaks\n",
    "head -n 50 /mnt/stripe/shpynov/PRJN392905/mm10_dhs_intersect_all_0.8.bed | while read -r LINE; do echo \"$LINE\" | awk -v OFS='\\t' '{print $1,$2,$3,\"peaks\"}'; done > /mnt/stripe/shpynov/PRJN392905/markup.bed\n",
    "\n",
    "#50 peakStart\n",
    "head -n 100 /mnt/stripe/shpynov/PRJN392905/mm10_dhs_intersect_all_0.8.bed | tail -n 50 | while read -r LINE; do echo \"$LINE\" | awk '{ printf(\"%s\\t%d\\t%d\\t%s\\n\", $1,$2,($2+$3)/2 - 1,\"peakStart\")}'; done >> /mnt/stripe/shpynov/PRJN392905/markup.bed\n",
    "\n",
    "#50 peakEnd\n",
    "head -n 150 /mnt/stripe/shpynov/PRJN392905/mm10_dhs_intersect_all_0.8.bed | tail -n 50 | while read -r LINE; do echo \"$LINE\" | awk '{printf(\"%s\\t%d\\t%d\\t%s\\n\", $1,($2+$3)/2 + 1,$3,\"peakEnd\")}'; done >> /mnt/stripe/shpynov/PRJN392905/markup.bed\n",
    "\n",
    "# extended markup\n",
    "cat /mnt/stripe/shpynov/PRJN392905/markup.bed | while read -r LINE; do echo \"$LINE\" | awk '{print($1,$2-2000,$3+2000)}'; done > /mnt/stripe/shpynov/PRJN392905/markup_ext.bed\n",
    "\n"
   ],
   "metadata": {
    "collapsed": false
   }
  },
  {
   "cell_type": "markdown",
   "metadata": {
    "pycharm": {
     "name": "#%% md\n"
    }
   },
   "source": [
    "# SPAN tuning\n",
    "```\n",
    "# Tune models\n",
    "snakemake -s /mnt/stripe/shpynov/chipseq-smk-pipeline/Snakefile all --cores 24 --use-conda --config work_dir=/mnt/stripe/shpynov/PRJN392905 genome=mm10 fastq_dir=/mnt/stripe/shpynov/PRJN392905/fastq span_bin=100 span_markup=/mnt/stripe/shpynov/PRJN392905/markup.bed\n",
    "\n",
    "# Rename tuned\n",
    "mkdir span_tuned\n",
    "for F in /mnt/stripe/shpynov/PRJN392905/span/*tuned.peak; do echo $F; P=$(head -n 1 $F | sed -E 's/(^.*_100_)|(_1\\t.*$)//g'); cp -f $F /mnt/stripe/shpynov/PRJN392905/span_tuned/$(echo $F | sed \"s/tuned/$P/g\" | sed 's#.*/##g'); done\n",
    "```"
   ]
  },
  {
   "cell_type": "code",
   "execution_count": null,
   "metadata": {
    "ExecuteTime": {
     "end_time": "2019-07-11T18:23:05.087996Z",
     "start_time": "2019-07-11T17:47:49.072731Z"
    },
    "scrolled": true,
    "pycharm": {
     "name": "#%%\n"
    }
   },
   "outputs": [],
   "source": [
    "import glob\n",
    "# discover Span peak files\n",
    "\n",
    "def span_tuned_peaks_path(cell):\n",
    "    return glob.glob(EXPERIMENT_FOLDER + \"/span_tuned/*\" + cell + \"*.peak\")[0]\n",
    "\n",
    "span_tuned_peaks_paths = {}\n",
    "for cell in CELLS:\n",
    "    path = span_tuned_peaks_path(cell)\n",
    "    q, gap = re.sub('.*_seq_100_|\\.peak', '', path).split('_')\n",
    "    span_tuned_peaks_paths[cell] = (path, q, gap)\n",
    "\n",
    "df_span_tuned_path = os.path.join(EXPERIMENT_FOLDER, 'df_span_tuned.csv')\n",
    "if not os.path.exists(df_span_tuned_path):\n",
    "    df_span_tuned = pd.DataFrame(columns=['peak_caller', 'cell', 'q', 'bin', 'gap',\n",
    "                                     'peak_count', 'dhs_by_peak', 'peak_by_dhs'])\n",
    "else:\n",
    "    print('Loading', df_span_tuned_path)\n",
    "    df_span_tuned = pd.read_csv(df_span_tuned_path)\n",
    "\n",
    "for i, cell in enumerate(CELLS):\n",
    "    # Already have it processed\n",
    "    if len(df_span_tuned[df_span_tuned['cell'] == cell]) == 0:\n",
    "        print(\"Processing {}\".format(cell))\n",
    "        peaks_path, q, gap = span_tuned_peaks_paths[cell]\n",
    "        peaks_file = BedTool(peaks_path)\n",
    "        peak_count = peaks_file.count()\n",
    "        overlap = peaks_file.intersect(dhs_mm10, wa=True, u=True).count()\n",
    "        peak_by_dhs = 0 if overlap == 0 else overlap * 100.0 / peak_count\n",
    "        overlap = dhs_mm10.intersect(peaks_file, wa=True, u=True).count()\n",
    "        dhs_by_peak = overlap * 100.0 / dhs_mm10.count()\n",
    "        df_span_tuned.loc[len(df_span_tuned)] = ('span_tuned', cell, float(q), 100, int(gap),\n",
    "                                       peak_count, dhs_by_peak, peak_by_dhs)\n",
    "\n",
    "print('Saved', df_span_tuned_path)\n",
    "df_span_tuned.to_csv(df_span_tuned_path, index=None)\n",
    "df_span_tuned.head()"
   ]
  },
  {
   "cell_type": "code",
   "execution_count": null,
   "metadata": {
    "ExecuteTime": {
     "end_time": "2019-07-11T18:26:50.926640Z",
     "start_time": "2019-07-11T18:26:50.802161Z"
    },
    "pycharm": {
     "name": "#%%\n"
    }
   },
   "outputs": [],
   "source": [
    "main_dataframe = pd.concat([df_macs2, df_span, df_span_tuned])\n",
    "main_dataframe = main_dataframe.sort_values(['cell', 'peak_caller', 'q'])\n",
    "main_dataframe.to_csv(os.path.join(EXPERIMENT_FOLDER, 'df.csv'), index=None)\n",
    "\n",
    "overlap_dataframe = main_dataframe[np.logical_not(np.isnan(main_dataframe['dhs_by_peak']))]\n",
    "overlap_dataframe.describe()"
   ]
  },
  {
   "cell_type": "markdown",
   "metadata": {
    "heading_collapsed": true,
    "pycharm": {
     "name": "#%% md\n"
    }
   },
   "source": [
    "# Failed tracks"
   ]
  },
  {
   "cell_type": "code",
   "execution_count": null,
   "metadata": {
    "ExecuteTime": {
     "end_time": "2019-06-24T14:24:34.594506Z",
     "start_time": "2019-06-24T14:24:34.584421Z"
    },
    "hidden": true,
    "pycharm": {
     "name": "#%%\n"
    }
   },
   "outputs": [],
   "source": [
    "failed_cells = list(set(overlap_dataframe[overlap_dataframe['peak_count'] > 200000]['cell']))\n",
    "print('Failed', failed_cells)\n",
    "overlap_dataframe=overlap_dataframe[[c not in failed_cells for c in overlap_dataframe['cell']]]"
   ]
  },
  {
   "cell_type": "markdown",
   "metadata": {
    "heading_collapsed": true,
    "pycharm": {
     "name": "#%% md\n"
    }
   },
   "source": [
    "# Plot DHS AUC overlap \n",
    "NOTE: there is information only about the monocytes"
   ]
  },
  {
   "cell_type": "code",
   "execution_count": null,
   "metadata": {
    "ExecuteTime": {
     "end_time": "2019-06-05T10:59:05.290806Z",
     "start_time": "2019-06-05T10:57:48.207081Z"
    },
    "hidden": true,
    "scrolled": true,
    "pycharm": {
     "name": "#%%\n"
    }
   },
   "outputs": [],
   "source": [
    "for cell in set(overlap_dataframe['cell']):\n",
    "    fig = plt.figure(figsize=(6, 6))\n",
    "    ax = fig.add_subplot(111)\n",
    "    span_overlap_dataframe = \\\n",
    "    overlap_dataframe[np.logical_and(overlap_dataframe['cell'] == cell,\n",
    "                                     overlap_dataframe['peak_caller'] == 'span')]\n",
    "    plt.plot(span_overlap_dataframe['dhs_by_peak'], \n",
    "             span_overlap_dataframe['peak_by_dhs'], \n",
    "             'o-', \n",
    "             label='Span')\n",
    "    for i,(x,y) in enumerate(zip(\n",
    "        span_overlap_dataframe['dhs_by_peak'], \n",
    "        span_overlap_dataframe['peak_by_dhs'])):\n",
    "        ax.annotate(str(QS[i]), xy=(x,y))\n",
    "\n",
    "    macs2_overlap_dataframe = overlap_dataframe[np.logical_and(overlap_dataframe['cell'] == cell,\n",
    "                                                               overlap_dataframe['peak_caller'] == 'macs2')]\n",
    "    plt.plot(macs2_overlap_dataframe['dhs_by_peak'], \n",
    "             macs2_overlap_dataframe['peak_by_dhs'], \n",
    "             's-', label='MACS2')\n",
    "    for i,(x,y) in enumerate(zip(\n",
    "        macs2_overlap_dataframe['dhs_by_peak'], \n",
    "         macs2_overlap_dataframe['peak_by_dhs'])):\n",
    "        ax.annotate(str(QS[i]), xy=(x,y))\n",
    "\n",
    "    plt.legend()\n",
    "    plt.title(\"Two-sided overlap with {} DHSs\".format(cell))\n",
    "    plt.xlabel(\"DHSs overlapped by peaks, %\")\n",
    "    plt.ylabel(\"peaks overlapped by DHSs, %\")\n",
    "    plt.tight_layout()\n",
    "    plt.savefig('overlap_ROC.png', dpi=300)\n",
    "    plt.show()"
   ]
  },
  {
   "cell_type": "markdown",
   "metadata": {
    "pycharm": {
     "name": "#%% md\n"
    }
   },
   "source": [
    "# Peaks counts vs True positives visualization"
   ]
  },
  {
   "cell_type": "code",
   "execution_count": null,
   "metadata": {
    "ExecuteTime": {
     "end_time": "2019-07-11T18:29:02.157514Z",
     "start_time": "2019-07-11T18:26:54.765730Z"
    },
    "scrolled": true,
    "pycharm": {
     "name": "#%%\n"
    }
   },
   "outputs": [],
   "source": [
    "for cell in set(overlap_dataframe['cell']):\n",
    "    cell_df = overlap_dataframe[np.logical_and(overlap_dataframe['cell'] == cell,\n",
    "                                               np.logical_and(overlap_dataframe['q'] >= 1e-10,\n",
    "                                                             overlap_dataframe['q'] <= 0.1))]\n",
    "    span_peak_count = cell_df[cell_df['peak_caller'] == 'span']\n",
    "    span_tuned_peak_count = cell_df[cell_df['peak_caller'] == 'span_tuned']\n",
    "    macs2_peak_count = cell_df[cell_df['peak_caller'] == 'macs2']\n",
    "\n",
    "    fig, ax1 = plt.subplots(figsize=(7, 5))\n",
    "    ax1.set_ylim(0, 110)\n",
    "    ax1.plot(span_peak_count['q'], span_peak_count['peak_by_dhs'], 'o:', c='green', label='SPAN')\n",
    "    ax1.plot(macs2_peak_count['q'], macs2_peak_count['peak_by_dhs'], 'o:', c='blue', label='MACS2')\n",
    "    ax1.plot(span_tuned_peak_count['q'], span_tuned_peak_count['peak_by_dhs'], \n",
    "             'o', c='red', label='SPAN tuned')\n",
    "    ax1.axhline(y=80, color='r', linestyle=':')\n",
    "    ax1.set_ylabel('true positives %')\n",
    "    ax1.set_xlabel('fdr')\n",
    "\n",
    "    ax2 = ax1.twinx()\n",
    "    ax2.set_ylim(0, 1.1 * max(cell_df['peak_count']))\n",
    "    ax2.plot(span_peak_count['q'], span_peak_count['peak_count'], 's-', c='green', label='SPAN')\n",
    "    ax2.plot(macs2_peak_count['q'], macs2_peak_count['peak_count'], 's-', c='blue', label='MACS2')\n",
    "    ax2.plot(span_tuned_peak_count['q'], span_tuned_peak_count['peak_count'], 's', c='red', label='SPAN tuned')\n",
    "    ax2.axhline(y=40000, color='gray', linestyle='--')\n",
    "    ax2.set_xscale('log')\n",
    "    ax2.set_ylabel('peak count')\n",
    "\n",
    "    plt.title('Peaks ' + cell)        \n",
    "    plt.legend()\n",
    "\n",
    "    fig.tight_layout()\n",
    "    plt.show()"
   ]
  },
  {
   "cell_type": "markdown",
   "metadata": {
    "pycharm": {
     "name": "#%% md\n"
    }
   },
   "source": [
    "# Number of peaks / Consistency between MACS2 Q=0.05 and SPAN tuned between replicates"
   ]
  },
  {
   "cell_type": "code",
   "execution_count": null,
   "metadata": {
    "ExecuteTime": {
     "end_time": "2019-07-11T18:33:06.551227Z",
     "start_time": "2019-07-11T18:32:28.597174Z"
    },
    "pycharm": {
     "name": "#%%\n"
    }
   },
   "outputs": [],
   "source": [
    "from pathlib import Path\n",
    "import downstream.bed_metrics as bm\n",
    "\n",
    "processed = set()\n",
    "df_consistency = pd.DataFrame(columns=['cell', 'peak_caller', \n",
    "                                       'avg_peak_count', 'stdev_peak_count',\n",
    "                                       'avg_dhs_by_peak', 'stdev_dhs_by_peak', \n",
    "                                       'avg_peak_by_dhs', 'stdev_peak_by_dhs',\n",
    "                                       'avg_overlap', 'stdev_overlap'])\n",
    "for cell in CELLS:\n",
    "    im_cell = re.sub('(^GSM[0-9]+_)|(_ATAC_seq.*$)', '', cell)\n",
    "    if im_cell in processed:\n",
    "        continue\n",
    "    processed.add(im_cell)\n",
    "    print(cell, im_cell)\n",
    "    cell_df = overlap_dataframe[[im_cell in cell for cell in overlap_dataframe['cell']]]\n",
    "    if len(cell_df) == 1:\n",
    "        continue\n",
    "    \n",
    "    span_tuned_peaks_df = cell_df[cell_df['peak_caller'] == 'span_tuned']\n",
    "    span_tuned_paths = [Path(span_tuned_peaks_path(cell)) for cell in span_tuned_peaks_df['cell']]\n",
    "    span_tuned_overlap_df_path = EXPERIMENT_FOLDER + '/overlap_span_tuned_{}.tsv'.format(im_cell)\n",
    "    overlap_span = bm.load_or_build_metrics_table(span_tuned_paths, \n",
    "                                                  span_tuned_paths, \n",
    "                                                  Path(span_tuned_overlap_df_path), \n",
    "                                                  jaccard=False, \n",
    "                                                  threads=30)\n",
    "    df_consistency.loc[len(df_consistency)] = (im_cell, 'span_tuned', \n",
    "                                               span_tuned_peaks_df['peak_count'].mean(),\n",
    "                                               span_tuned_peaks_df['peak_count'].std(),\n",
    "                                               span_tuned_peaks_df['dhs_by_peak'].mean(),\n",
    "                                               span_tuned_peaks_df['dhs_by_peak'].std(),\n",
    "                                               span_tuned_peaks_df['peak_by_dhs'].mean(),\n",
    "                                               span_tuned_peaks_df['peak_by_dhs'].std(),\n",
    "                                               overlap_span.values.mean(), \n",
    "                                               overlap_span.values.std(ddof=1) )\n",
    "    \n",
    "    macs2_peaks_df = cell_df[np.logical_and(cell_df['peak_caller'] == 'macs2', cell_df['q'] == 0.05)]\n",
    "    macs2_paths = [Path(macs2_peaks_path(cell, 0.05)) for cell in macs2_peaks_df['cell']]\n",
    "    macs2_overlap_df_path = EXPERIMENT_FOLDER + '/overlap_macs2_{}.tsv'.format(im_cell)\n",
    "    overlap_macs2 = bm.load_or_build_metrics_table(macs2_paths, \n",
    "                                                  macs2_paths, \n",
    "                                                  Path(macs2_overlap_df_path), \n",
    "                                                  jaccard=False, \n",
    "                                                  threads=30)\n",
    "    df_consistency.loc[len(df_consistency)] = (im_cell, 'macs2',\n",
    "                                               macs2_peaks_df['peak_count'].mean(),\n",
    "                                               macs2_peaks_df['peak_count'].std(),\n",
    "                                               macs2_peaks_df['dhs_by_peak'].mean(),\n",
    "                                               macs2_peaks_df['dhs_by_peak'].std(),\n",
    "                                               macs2_peaks_df['peak_by_dhs'].mean(),\n",
    "                                               macs2_peaks_df['peak_by_dhs'].std(),\n",
    "                                               overlap_macs2.values.mean(),\n",
    "                                               overlap_macs2.values.std(ddof=1))\n",
    "\n",
    "df_consistency"
   ]
  },
  {
   "cell_type": "markdown",
   "metadata": {
    "heading_collapsed": true,
    "pycharm": {
     "name": "#%% md\n"
    }
   },
   "source": [
    "# LogFold change of #peaks vs LogFold change in true positives"
   ]
  },
  {
   "cell_type": "code",
   "execution_count": null,
   "metadata": {
    "ExecuteTime": {
     "end_time": "2019-07-11T18:39:37.935818Z",
     "start_time": "2019-07-11T18:39:36.132604Z"
    },
    "hidden": true,
    "scrolled": false,
    "pycharm": {
     "name": "#%%\n"
    }
   },
   "outputs": [],
   "source": [
    "import seaborn as sns\n",
    "\n",
    "q_df = overlap_dataframe[np.logical_and(overlap_dataframe['q'] >= 1e-6,\n",
    "                                        overlap_dataframe['q'] <= 0.1)].copy()\n",
    "\n",
    "for q in sorted(set(q_df['q'])):\n",
    "    ddf = pd.DataFrame(columns=['lf_peak_by_dhs', 'lf_peak_count', 'q', 'peak_by_dhs', 'peak_count'])\n",
    "    for cell in set(overlap_dataframe['cell']):\n",
    "        cq_df = q_df[np.logical_and(q_df['q'] ==q, q_df['cell'] == cell)]\n",
    "        cqmacs2_df = cq_df[cq_df['peak_caller']=='macs2']\n",
    "        cqspan_df = cq_df[cq_df['peak_caller']=='span']\n",
    "        peak_by_dhs_span = list(cqspan_df['peak_by_dhs'])[0]\n",
    "        peak_by_dhs_macs2 = list(cqmacs2_df['peak_by_dhs'])[0]\n",
    "        lf_peak_by_dhs = np.log2((peak_by_dhs_span + 1) / (peak_by_dhs_macs2 + 1))\n",
    "        peak_count_span = list(cqspan_df['peak_count'])[0]\n",
    "        peak_count_macs2 = list(cqmacs2_df['peak_count'])[0]\n",
    "        lf_peak_count = np.log2((peak_count_span + 1) / (peak_count_macs2 + 1))\n",
    "        ddf.loc[len(ddf)] = (lf_peak_by_dhs, lf_peak_count, q, peak_by_dhs_span, peak_count_macs2)\n",
    "    plt.figure(figsize=(8, 8))        \n",
    "    sns.scatterplot(data=ddf, x='lf_peak_by_dhs', y='lf_peak_count', hue='peak_by_dhs', size='peak_count')\n",
    "    plt.axhline(y=0.0, color='b', linestyle=':')\n",
    "    plt.axvline(x=0.0, color='b', linestyle=':')\n",
    "    plt.title('q {}'.format(q))\n",
    "    plt.xlabel('LF change true positives SPAN / MACS2')\n",
    "    plt.ylabel('LF change peaks SPAN / MACS2')\n",
    "    plt.show()"
   ]
  },
  {
   "cell_type": "markdown",
   "metadata": {
    "heading_collapsed": true,
    "pycharm": {
     "name": "#%% md\n"
    }
   },
   "source": [
    "# 2-sided overlap with DHS"
   ]
  },
  {
   "cell_type": "code",
   "execution_count": null,
   "metadata": {
    "hidden": true,
    "pycharm": {
     "name": "#%%\n"
    }
   },
   "outputs": [],
   "source": [
    "import seaborn as sns\n",
    "for cell in CELLS:\n",
    "    mdf = overlap_dataframe[overlap_dataframe['cell'] == cell]\\\n",
    "    [['peak_caller', 'q', 'peak_count', 'dhs_by_peak', 'peak_by_dhs']].copy()\n",
    "    dhs_file = DHS_FILES[cell] if cell in DHS_FILES else dhs_hg19\n",
    "    mdf['dhs_ex'] = (np.ones(len(mdf)) - mdf['dhs_by_peak'] / 100) * dhs_file.count()\n",
    "    mdf['peaks_ex'] = (np.ones(len(mdf)) - mdf['peak_by_dhs'] / 100) * mdf['peak_count']\n",
    "    mdf['both'] = mdf['peak_by_dhs'] * mdf['peak_count'] / 100\n",
    "\n",
    "    axs = {}\n",
    "\n",
    "    mdf['qp'] = mdf['q'].astype(str) + \" \" + mdf['peak_caller']\n",
    "    qpl = len(set(mdf['qp']))\n",
    "    fig = plt.figure(figsize=(qpl, 4))\n",
    "    offset = 0\n",
    "    for q in QS:\n",
    "        data = mdf.loc[mdf['q'] == float(q)]\n",
    "        xlabels = []\n",
    "        for t in data['peak_caller']:\n",
    "            if t not in xlabels:\n",
    "                xlabels.append(t)\n",
    "        w = len(set(data['peak_caller']))\n",
    "        ax = plt.subplot2grid((1, qpl), (0, offset), colspan=w)\n",
    "        p1 = ax.bar(data['peak_caller'], data['both'])\n",
    "        p2 = ax.bar(data['peak_caller'], data['peaks_ex'],\n",
    "                    bottom=data['both'])\n",
    "        p3 = ax.bar(data['peak_caller'], data['dhs_ex'],\n",
    "                    bottom=-data['dhs_ex'])\n",
    "\n",
    "        ax.legend().set_visible(False)\n",
    "        axs[ax] = plt.ylim()\n",
    "        if offset > 0:\n",
    "            ax.get_yaxis().set_ticklabels([])\n",
    "            ax.set_ylabel('')\n",
    "        else:\n",
    "            ax.set_ylabel('peaks')\n",
    "\n",
    "        offset += w\n",
    "        ax.set_xlabel('')\n",
    "        ax.set_title(cell + ' ' + q)\n",
    "        plt.xticks(range(0, len(xlabels)), xlabels, rotation=90)\n",
    "\n",
    "    ymin = np.min([v[0] for v in axs.values()])\n",
    "    ymax = np.max([v[1] for v in axs.values()])\n",
    "\n",
    "    for ax in axs.keys():\n",
    "        ax.set_ylim(bottom = ymin, top = ymax)\n",
    "    plt.tight_layout()\n",
    "    plt.show()"
   ]
  }
 ],
 "metadata": {
  "kernelspec": {
   "display_name": "Python 3",
   "language": "python",
   "name": "python3"
  },
  "language_info": {
   "codemirror_mode": {
    "name": "ipython",
    "version": 3
   },
   "file_extension": ".py",
   "mimetype": "text/x-python",
   "name": "python",
   "nbconvert_exporter": "python",
   "pygments_lexer": "ipython3",
   "version": "3.7.0"
  },
  "toc": {
   "nav_menu": {},
   "number_sections": true,
   "sideBar": true,
   "skip_h1_title": false,
   "toc_cell": false,
   "toc_position": {},
   "toc_section_display": "block",
   "toc_window_display": false
  }
 },
 "nbformat": 4,
 "nbformat_minor": 2
}
