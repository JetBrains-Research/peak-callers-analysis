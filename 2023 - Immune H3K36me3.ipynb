{
 "cells": [
  {
   "cell_type": "markdown",
   "metadata": {},
   "source": [
    "# 2023 Immune dataset H3K36me3 vs RNA-seq\n",
    "\n",
    "Benchmark according to the paper https://doi.org/10.1093/bib/bbw035\n",
    "Features that define the best ChIP-seq peak calling algorithms\n",
    "\n",
    "We considered a peak as positive if it overlaps an active gene (defined varying RPKM from 0 to 2)\n",
    "and compared methods based on sensitivity, precision and F-score.\n",
    "\n",
    "Data:\n",
    "https://www.encodeproject.org/immune-cells/?type=Experiment&replicates.library.biosample.donor.organism.scientific_name=Homo+sapiens&biosample_ontology.cell_slims=hematopoietic+cell&biosample_ontology.classification=primary+cell&control_type!=*&status!=replaced&status!=revoked&status!=archived&biosample_ontology.system_slims=immune+system&biosample_ontology.system_slims=circulatory+system&config=immune\n"
   ]
  },
  {
   "cell_type": "code",
   "execution_count": null,
   "metadata": {
    "ExecuteTime": {
     "end_time": "2019-01-24T09:42:05.555231Z",
     "start_time": "2019-01-24T09:42:03.994631Z"
    }
   },
   "outputs": [],
   "source": [
    "%matplotlib inline\n",
    "%config InlineBackend.figure_format='retina'\n",
    "\n",
    "from IPython.display import display\n",
    "import pandas as pd\n",
    "from tqdm.auto import tqdm\n",
    "import seaborn as sns\n",
    "\n",
    "sns.set_style(\"whitegrid\")\n",
    "import matplotlib.pyplot as plt\n",
    "from matplotlib.backends.backend_pdf import PdfPages\n",
    "import numpy as np\n",
    "import scipy as sp\n",
    "import os"
   ]
  },
  {
   "cell_type": "code",
   "execution_count": null,
   "outputs": [],
   "source": [
    "def bedl(file):\n",
    "    try:\n",
    "        tf = pd.read_csv(file, sep='\\t', header=None)\n",
    "        return tf[2] - tf[1]\n",
    "    except:\n",
    "        return np.zeros(0)  # Empty file\n",
    "\n",
    "\n",
    "def lines(file):\n",
    "    try:\n",
    "        tf = pd.read_csv(file, sep='\\t', header=None)\n",
    "        return len(tf)\n",
    "    except:\n",
    "        return 0  # Empty file\n",
    "\n",
    "def d(a, b):\n",
    "    return a / b if b != 0 else 0\n",
    "\n",
    "def last_col(file):\n",
    "    try:\n",
    "        cols = len(pd.read_csv(file, sep='\\t', nrows=1, header=None).columns)\n",
    "        return pd.read_csv(file, sep='\\t', header=None, usecols=[cols - 1])[cols - 1]\n",
    "    except:\n",
    "        return np.zeros(0)  # Empty file\n",
    "\n",
    "def sorted_file(file):\n",
    "    ts = tempfile.mktemp()\n",
    "    !cat {file} | sort -k1,1 -k2,2n > {ts}\n",
    "    return ts"
   ],
   "metadata": {
    "collapsed": false
   }
  },
  {
   "cell_type": "markdown",
   "source": [
    "## Load hg38 gtf file"
   ],
   "metadata": {
    "collapsed": false
   }
  },
  {
   "cell_type": "code",
   "execution_count": null,
   "outputs": [],
   "source": [
    "gtf_df = pd.read_csv(os.path.expanduser(\n",
    "    '~/data/2023_Immune/gencode.GRCh38.p13.v41.annotation.gtf'),\n",
    "    sep='\\t', comment='#',\n",
    "    names=['chromosome', 'db', 'type', 'start', 'end', 'point1', 'strand', 'point2', 'aux'])\n",
    "gtf_df.sample(10)"
   ],
   "metadata": {
    "collapsed": false
   }
  },
  {
   "cell_type": "code",
   "execution_count": null,
   "outputs": [],
   "source": [
    "import re\n",
    "\n",
    "print('Parse GTF aux data')\n",
    "auxes = {}\n",
    "for i, aux in enumerate(tqdm(gtf_df['aux'])):\n",
    "    for pair in aux.split(';'):\n",
    "        kv = pair.strip().split(' ')\n",
    "        if len(kv) != 2:\n",
    "            continue\n",
    "        k, v = kv\n",
    "        if k not in auxes:\n",
    "            auxes[k] = vs = []\n",
    "        else:\n",
    "            vs = auxes[k]\n",
    "        vs.append(v.strip('\"'))\n",
    "\n",
    "for k, vs in auxes.items():\n",
    "    if len(vs) == len(gtf_df):\n",
    "        gtf_df[k] = vs\n",
    "    else:\n",
    "        print(f'Ignoring {k}')\n",
    "del auxes\n",
    "gtf_df.drop('aux', axis=1, inplace=True)\n",
    "\n",
    "# Fix . in gene_id\n",
    "gtf_df['gene_id'] = [re.sub('\\..*', '', id) for id in gtf_df['gene_id']]"
   ],
   "metadata": {
    "collapsed": false
   }
  },
  {
   "cell_type": "code",
   "execution_count": null,
   "outputs": [],
   "source": [
    "print(f'Total hg38 records {len(gtf_df)}')\n",
    "print(f'Total hg38 genes {sum(gtf_df[\"type\"] == \"gene\")}')\n",
    "print(f'Total hg38 protein_coding genes {sum((gtf_df[\"type\"] == \"gene\") & (gtf_df[\"gene_type\"] == \"protein_coding\"))}')\n",
    "\n",
    "gtf_genes_df = gtf_df[gtf_df['type'] == 'gene']\n",
    "gtf_genes_df.sample(5)"
   ],
   "metadata": {
    "collapsed": false
   }
  },
  {
   "cell_type": "markdown",
   "source": [
    "## Annotatate RNA-seq tables with positions"
   ],
   "metadata": {
    "collapsed": false
   }
  },
  {
   "cell_type": "code",
   "execution_count": null,
   "outputs": [],
   "source": [
    "def merge_genes(full_df):\n",
    "    print('Merging overlapping regions', len(full_df))\n",
    "    ts = []\n",
    "    for chr in full_df['chromosome'].unique():\n",
    "        t = full_df[full_df['chromosome'] == chr].sort_values(by=['start', 'end']).copy()\n",
    "        cols = t.columns.difference(['start', 'end'])\n",
    "        grps = t['start'].sub(t['end'].shift()).gt(1).cumsum()\n",
    "        gpby = t.groupby(grps)\n",
    "        t = gpby.agg(dict(start='min', end='max')).join(gpby[cols].mean())\n",
    "        t['chromosome'] = chr\n",
    "        t['gene_id'] = 'merged'\n",
    "        t['strand'] = '.'\n",
    "        t = t[['chromosome', 'start', 'end', 'gene_id', 'strand', 'TPM', 'LTPM']]\n",
    "        ts.append(t)\n",
    "    ts = pd.concat(ts).reset_index(drop=True)\n",
    "    print('Reduced to', len(ts))\n",
    "    return ts"
   ],
   "metadata": {
    "collapsed": false
   }
  },
  {
   "cell_type": "code",
   "execution_count": null,
   "outputs": [],
   "source": [
    "import re\n",
    "\n",
    "PATH = os.path.expanduser('~/data/2023_Immune')\n",
    "\n",
    "EXPRESSION_TSV = {\n",
    "    'BCell': PATH + '/expression/BCell_RNAseq_hg38_ENCFF947SKG.tsv',\n",
    "    'TCell': PATH + '/expression/TCell_RNAseq_hg38_ENCFF502AZI.tsv',\n",
    "    'Monocyte': PATH + '/expression/Monocyte_RNAseq_hg38_ENCFF408GAO.tsv',\n",
    "}\n",
    "THRESHOLD = 0.1\n",
    "\n",
    "EXPRESSION_BED = {}\n",
    "\n",
    "for cell, path in EXPRESSION_TSV.items():\n",
    "    print(cell, path)\n",
    "    t = pd.read_csv(path, sep='\\t')\n",
    "    # Fix . in gene_id\n",
    "    t['gene_id'] = [re.sub('\\..*', '', id) for id in t['gene_id']]\n",
    "    t['LTPM'] = np.log1p(t['TPM'])\n",
    "\n",
    "    # Plot expression\n",
    "    plt.figure(figsize=(10, 2))\n",
    "    ax = plt.axes()\n",
    "    g_results = sns.histplot(data=t, x='LTPM', ax=ax,\n",
    "                             stat='density',\n",
    "                             kde=True, alpha=0.4)\n",
    "    ax.axvline(x=THRESHOLD, color='green')\n",
    "    ax.title.set_text(f'{cell} expression')\n",
    "    plt.show()\n",
    "\n",
    "    # Save expressed genes\n",
    "    full_df = pd.merge(left=t, right=gtf_genes_df, left_on='gene_id', right_on='gene_id')\n",
    "    full_df = full_df[['chromosome', 'start', 'end', 'gene_id', 'strand', 'TPM', 'LTPM']]\n",
    "\n",
    "    print(f'Total genes with positions {len(full_df)}')\n",
    "    full_df = full_df[full_df['LTPM'] > THRESHOLD]\n",
    "    print(f'Genes logTPM > {THRESHOLD} {len(full_df)}')\n",
    "\n",
    "    # Plot expressed genes lengths\n",
    "    # plt.figure(figsize=(4, 2))\n",
    "    # ax = plt.axes()\n",
    "    # g_results = sns.histplot(x=full_df['end']-full_df['start'], ax=ax,\n",
    "    #                          stat='density',\n",
    "    #                          bins=100, log_scale=True, kde=True, alpha=0.4)\n",
    "    # g_results.set(xscale='log')\n",
    "    # ax.title.set_text(f'{cell} genes lengths')\n",
    "    # plt.show()\n",
    "\n",
    "    expr_path = path.replace('.tsv', f'_tpm{THRESHOLD}.bed')\n",
    "    full_df.sort_values(by=['chromosome', 'start'], inplace=True)\n",
    "    full_df = merge_genes(full_df)\n",
    "    full_df.to_csv(expr_path, sep='\\t', index=False, header=None)\n",
    "    print(f'Saved expressed genes fom {cell} to {expr_path}')\n",
    "    EXPRESSION_BED[cell] = expr_path\n"
   ],
   "metadata": {
    "collapsed": false
   }
  },
  {
   "cell_type": "markdown",
   "source": [
    "## Load peaks"
   ],
   "metadata": {
    "collapsed": false
   }
  },
  {
   "cell_type": "code",
   "execution_count": null,
   "outputs": [],
   "source": [
    "IMMUNE_CELLS = ['BCell', 'TCell', 'Monocyte']\n",
    "MODIFICATIONS = ['H3K36me3']\n",
    "\n",
    "def load_peaks_fdr(path, suffix, fdrs):\n",
    "    df_fdr = pd.DataFrame(columns=['file', 'modification', 'cell', 'fdr', 'peaks', 'avlength'],\n",
    "                          dtype=object)\n",
    "    for f in tqdm(os.listdir(path)):\n",
    "        if suffix not in f:\n",
    "            continue\n",
    "        fdr = next((fdr for fdr in fdrs if fdr in f), None)\n",
    "        cell = next((cc for cc in IMMUNE_CELLS if cc in f), None)\n",
    "        mod = next((m for m in MODIFICATIONS if m in f), None)\n",
    "        # print(f, fdr, cell, mod)\n",
    "        if fdr and cell and mod:\n",
    "            peaks_path = os.path.join(path, f)\n",
    "            ps, ls = lines(peaks_path), bedl(peaks_path)\n",
    "            avls = 0 if ps == 0 else sum(ls) / ps\n",
    "            df_fdr.loc[len(df_fdr)] = (f, mod, cell, fdr, ps, avls)\n",
    "    return df_fdr"
   ],
   "metadata": {
    "collapsed": false
   }
  },
  {
   "cell_type": "code",
   "execution_count": null,
   "outputs": [],
   "source": [
    "df_fdr_macs2 = load_peaks_fdr(os.path.join(PATH, 'macs2'), '.narrowPeak', ['0.05'])\n",
    "df_fdr_macs2['file'] = [f'{PATH}/macs2/{f}' for f in df_fdr_macs2['file']]\n",
    "df_fdr_macs2['tool'] = 'MACS2'\n",
    "print('MACS2', len(df_fdr_macs2))\n",
    "\n",
    "df_fdr_macs2broad = load_peaks_fdr(os.path.join(PATH, 'macs2'), '.broadPeak', ['0.1'])\n",
    "df_fdr_macs2broad['file'] = [f'{PATH}/macs2/{f}' for f in df_fdr_macs2broad['file']]\n",
    "df_fdr_macs2broad['tool'] = 'MACS2 broad'\n",
    "print('MACS2 broad', len(df_fdr_macs2broad))\n",
    "\n",
    "df_fdr_sicer = load_peaks_fdr(os.path.join(PATH, 'sicer'), 'summary-FDR', ['0.01'])\n",
    "df_fdr_sicer['file'] = [f'{PATH}/sicer/{f}' for f in df_fdr_sicer['file']]\n",
    "df_fdr_sicer['tool'] = 'SICER'\n",
    "print('SICER', len(df_fdr_sicer))\n",
    "\n",
    "df_fdr_span = load_peaks_fdr(os.path.join(PATH, 'span'), '.peak', ['0.05'])\n",
    "df_fdr_span['file'] = [f'{PATH}/span/{f}' for f in df_fdr_span['file']]\n",
    "df_fdr_span['tool'] = 'SPAN'\n",
    "print('SPAN', len(df_fdr_span))\n",
    "\n",
    "df_fdr_peaks = pd.concat([df_fdr_macs2, df_fdr_macs2broad, df_fdr_sicer, df_fdr_span])\n",
    "df_fdr_peaks.sample(5)"
   ],
   "metadata": {
    "collapsed": false
   }
  },
  {
   "cell_type": "code",
   "execution_count": null,
   "outputs": [],
   "source": [
    "TOOLS = ['MACS2', 'MACS2 broad', 'SICER', 'SPAN', 'Genes']\n",
    "palette = plt.cm.get_cmap('tab10')\n",
    "TOOLS_PALETTE = {t: palette(i) for i, t in enumerate(TOOLS)}"
   ],
   "metadata": {
    "collapsed": false
   }
  },
  {
   "cell_type": "code",
   "execution_count": null,
   "outputs": [],
   "source": [
    "plt.figure(figsize=(4, 4))\n",
    "ax = plt.axes()\n",
    "g_results = sns.barplot(data=df_fdr_peaks, x='tool', y='peaks', ax=ax,\n",
    "                        capsize=.2, errwidth=2, edgecolor=\"black\",\n",
    "                        palette=TOOLS_PALETTE)\n",
    "ax.xaxis.set_tick_params(rotation=90)\n",
    "ax.title.set_text('H3K36me3 peaks number')\n",
    "plt.show()"
   ],
   "metadata": {
    "collapsed": false
   }
  },
  {
   "cell_type": "markdown",
   "source": [
    "## Expressed genes vs peaks lengths"
   ],
   "metadata": {
    "collapsed": false
   }
  },
  {
   "cell_type": "code",
   "execution_count": null,
   "outputs": [],
   "source": [
    "ts = []\n",
    "for cell in IMMUNE_CELLS:\n",
    "    t = pd.read_csv(EXPRESSION_BED[cell], sep='\\t',\n",
    "                    names=['chromosome', 'start', 'end', 'gene_id', 'strand', 'TPM', 'LTPM'])\n",
    "    ts.append(pd.DataFrame(dict(name=['Genes'] * len(t), length=t['end']-t['start'])))\n",
    "for file, tool in tqdm(zip(df_fdr_peaks['file'], df_fdr_peaks['tool'])):\n",
    "    lengths = bedl(file)\n",
    "    t = pd.DataFrame(dict(name=[tool] * len(lengths), length=lengths))\n",
    "    ts.append(t.sample(min(len(t), 10_000)))\n",
    "t = pd.concat(ts).reset_index(drop=True)\n",
    "del ts\n",
    "t.sample(10)"
   ],
   "metadata": {
    "collapsed": false
   }
  },
  {
   "cell_type": "code",
   "execution_count": null,
   "outputs": [],
   "source": [
    "plt.figure(figsize=(8, 2))\n",
    "ax = plt.axes()\n",
    "g_results = sns.boxplot(data=t, x='length', y='name', ax=ax, palette=TOOLS_PALETTE)\n",
    "g_results.set(xscale='log')\n",
    "ax.title.set_text('H3K36me3 peaks length vs expressed genes lengths')\n",
    "plt.show()"
   ],
   "metadata": {
    "collapsed": false
   }
  },
  {
   "cell_type": "code",
   "execution_count": null,
   "outputs": [],
   "source": [
    "plt.figure(figsize=(8, 5))\n",
    "ax = plt.axes()\n",
    "g_results = sns.histplot(data=t, x='length', hue='name', ax=ax,\n",
    "                         stat='density', common_bins=False, common_norm=False,\n",
    "                         kde=True, log_scale=True, alpha=0.2,\n",
    "                         palette=TOOLS_PALETTE)\n",
    "g_results.set(xscale='log')\n",
    "g_results.set_ylim(0, 2)\n",
    "g_results.set_xlim(1e2, 2e6)\n",
    "ax.title.set_text('H3K36me3 peaks length vs expressed genes lengths')\n",
    "plt.show()"
   ],
   "metadata": {
    "collapsed": false
   }
  },
  {
   "cell_type": "code",
   "execution_count": null,
   "outputs": [],
   "source": [
    "plt.figure(figsize=(8, 5))\n",
    "ax = plt.axes()\n",
    "g_results = sns.histplot(data=t, x='length', hue='name', ax=ax,\n",
    "                         stat='density', common_bins=False, common_norm=False,\n",
    "                         bins=50, kde=True, log_scale=True, alpha=0.2,\n",
    "                         palette=TOOLS_PALETTE)\n",
    "g_results.set(xscale='log')\n",
    "g_results.set_ylim(0, 2)\n",
    "g_results.set_xlim(1e2, 2e6)\n",
    "ax.title.set_text('H3K36me3 peaks length vs expressed genes lengths')\n",
    "plt.show()"
   ],
   "metadata": {
    "collapsed": false
   }
  },
  {
   "cell_type": "code",
   "execution_count": null,
   "outputs": [],
   "source": [
    "# Randomly tweak SICER lengths for visualization purposes\n",
    "tsicer = t['name'] == 'SICER'\n",
    "t.loc[tsicer, 'length'] += np.random.normal(0, 100, size=sum(tsicer))"
   ],
   "metadata": {
    "collapsed": false
   }
  },
  {
   "cell_type": "code",
   "execution_count": null,
   "outputs": [],
   "source": [
    "plt.figure(figsize=(8, 5))\n",
    "ax = plt.axes()\n",
    "g_results = sns.histplot(data=t, x='length', hue='name', ax=ax,\n",
    "                         stat='density', common_bins=False, common_norm=False,\n",
    "                         bins=200, kde=True, log_scale=True, alpha=0.2,\n",
    "                         palette=TOOLS_PALETTE)\n",
    "g_results.set(xscale='log')\n",
    "g_results.set_ylim(0, 2)\n",
    "g_results.set_xlim(1e2, 2e6)\n",
    "ax.title.set_text('H3K36me3 peaks length vs expressed genes lengths')\n",
    "plt.show()"
   ],
   "metadata": {
    "collapsed": false
   }
  },
  {
   "cell_type": "markdown",
   "source": [
    "## Overlap H3K36me3 vs expressed genes"
   ],
   "metadata": {
    "collapsed": false
   }
  },
  {
   "cell_type": "code",
   "execution_count": null,
   "outputs": [],
   "source": [
    "import tempfile\n",
    "from itertools import product\n",
    "\n",
    "tf = tempfile.mktemp()\n",
    "\n",
    "bench_df = pd.DataFrame(\n",
    "    columns=['cell', 'name',\n",
    "             'peaks', 'peaks_len', 'genes', 'genes_len',\n",
    "             'peaks_overlap', 'peaks_overlap_len', 'genes_overlap', 'genes_overlap_len'],\n",
    "    dtype=object\n",
    ")\n",
    "\n",
    "for c in tqdm(IMMUNE_CELLS):\n",
    "    print(c)\n",
    "    expr_file = sorted_file(EXPRESSION_BED[c])\n",
    "    genes = lines(expr_file)\n",
    "    genes_len = int(bedl(expr_file).sum())\n",
    "    for tool in set(df_fdr_peaks['tool']):\n",
    "        t = df_fdr_peaks[(df_fdr_peaks['tool'] == tool) &\n",
    "                         (df_fdr_peaks['modification'] == 'H3K36me3') &\n",
    "                         (df_fdr_peaks['cell'] == c)]\n",
    "        if len(t) == 0:\n",
    "            continue\n",
    "        peaks_file = sorted_file(t['file'].values[0])\n",
    "        peaks = lines(peaks_file)\n",
    "        peaks_len = int(bedl(peaks_file).sum())\n",
    "        !bedtools intersect -a {peaks_file} -b {expr_file} -wa -u > {tf}\n",
    "        peaks_overlap = lines(tf)\n",
    "        !bedtools intersect -b {peaks_file} -a {expr_file} -wa -u > {tf}\n",
    "        genes_overlap = lines(tf)\n",
    "        !bedtools intersect -a {peaks_file} -b {expr_file} -wo > {tf}\n",
    "        peaks_overlap_len = genes_overlap_len = int(last_col(tf).sum())\n",
    "\n",
    "        bench_df.loc[len(bench_df)] = (c, tool, peaks, peaks_len, genes, genes_len,\n",
    "                                       peaks_overlap, peaks_overlap_len, genes_overlap, genes_overlap_len)\n",
    "# bench_df"
   ],
   "metadata": {
    "collapsed": false
   }
  },
  {
   "cell_type": "code",
   "execution_count": null,
   "outputs": [],
   "source": [
    "bench_df['precision'] = [d(a, b) for a, b in zip(bench_df['peaks_overlap'], bench_df['peaks'])]\n",
    "bench_df['sensitivity'] = [d(a, b) for a, b in zip(bench_df['genes_overlap'], bench_df['genes'])]\n",
    "bench_df['f1'] = [d(2, d(1, s + 1e-10) + d(1, p + 1e-10))\n",
    "                  for s, p in zip(bench_df['sensitivity'], bench_df['precision'])]\n",
    "\n",
    "bench_df['precision_len'] = [d(a, b) for a, b in zip(bench_df['peaks_overlap_len'], bench_df['peaks_len'])]\n",
    "bench_df['sensitivity_len'] = [d(a, b) for a, b in zip(bench_df['genes_overlap_len'], bench_df['genes_len'])]\n",
    "bench_df['f1_len'] = [d(2, d(1, s + 1e-10) + d(1, p + 1e-10))\n",
    "                      for s, p in zip(bench_df['sensitivity_len'], bench_df['precision_len'])]\n",
    "\n",
    "bench_df['jaccard'] = [\n",
    "    d(o, p + g -o)\n",
    "    for p, g, o in zip(bench_df['peaks_len'], bench_df['genes_len'], bench_df['genes_overlap_len'])\n",
    "]"
   ],
   "metadata": {
    "collapsed": false
   }
  },
  {
   "cell_type": "code",
   "execution_count": null,
   "outputs": [],
   "source": [
    "import seaborn as sns\n",
    "\n",
    "plt.figure(figsize=(8, 3))\n",
    "axs = [plt.subplot(1, 2, i + 1) for i in range(2)]\n",
    "\n",
    "ax = axs[0]\n",
    "g_results = sns.scatterplot(data=bench_df, x='precision', y='sensitivity', hue='name',\n",
    "                            palette=TOOLS_PALETTE, ax=ax)\n",
    "g_results.axes.set_xlabel('Peaks vs expressed genes (peaks)')\n",
    "g_results.axes.set_ylabel('Expressed genes vs peaks (peaks)')\n",
    "g_results.axes.set_xlim([-0.1, 1.1])\n",
    "g_results.axes.set_ylim([-0.1, 1.1])\n",
    "ax.legend().set_visible(False)\n",
    "\n",
    "ax = axs[1]\n",
    "g_results = sns.scatterplot(data=bench_df, x='precision_len', y='sensitivity_len', hue='name',\n",
    "                            palette=TOOLS_PALETTE, ax=ax)\n",
    "g_results.axes.set_xlabel('Peaks vs expressed genes (length)')\n",
    "g_results.axes.set_ylabel('Expressed genes vs peaks (length)')\n",
    "g_results.axes.set_xlim([-0.1, 1.1])\n",
    "g_results.axes.set_ylim([-0.1, 1.1])\n",
    "# Put a legend to the right of the current axis\n",
    "g_results.axes.legend(loc='center left', bbox_to_anchor=(1, 0.5))\n",
    "\n",
    "plt.tight_layout()\n",
    "plt.show()"
   ],
   "metadata": {
    "collapsed": false
   }
  },
  {
   "cell_type": "code",
   "execution_count": null,
   "outputs": [],
   "source": [
    "ts = []\n",
    "for name in bench_df['name'].unique():\n",
    "    tn = bench_df[bench_df['name'] == name]\n",
    "    for variable in ['sensitivity', 'precision', 'f1']:\n",
    "        ts.append(pd.DataFrame(dict(name=[name] * len(tn), type=[variable] * len(tn),\n",
    "                                    benchmark=['peak'] * len(tn),\n",
    "                                    value=tn[variable])))\n",
    "        ts.append(pd.DataFrame(dict(name=[name] * len(tn), type=[variable] * len(tn),\n",
    "                                    benchmark=['length'] * len(tn),\n",
    "                                    value=tn[f'{variable}_len'])))\n",
    "\n",
    "t = pd.concat(ts).reset_index(drop=True)\n",
    "del ts"
   ],
   "metadata": {
    "collapsed": false
   }
  },
  {
   "cell_type": "code",
   "execution_count": null,
   "outputs": [],
   "source": [
    "plt.figure(figsize=(8, 3))\n",
    "axs = [plt.subplot(1, 2, i + 1) for i in range(2)]\n",
    "for i, benchmark in enumerate(['peak', 'length']):\n",
    "    g_results = sns.boxplot(data=t[t['benchmark'] == benchmark], x='type', y='value', hue='name', palette=TOOLS_PALETTE, ax=axs[i])\n",
    "    ax = g_results.axes\n",
    "    ax.set_title(f'Peaks vs expressed genes ({benchmark})')\n",
    "    # Put a legend to the right of the current axis\n",
    "    if i == 1:\n",
    "        ax.legend(loc='center left', bbox_to_anchor=(1, 0.5))\n",
    "    else:\n",
    "        ax.legend().set_visible(False)\n",
    "    ax.set_ylim([-0.1, 1.1])\n",
    "\n",
    "plt.tight_layout()\n",
    "plt.show()"
   ],
   "metadata": {
    "collapsed": false
   }
  },
  {
   "cell_type": "markdown",
   "source": [
    "## Overlap H3K36me3 diff vs expressed genes"
   ],
   "metadata": {
    "collapsed": false
   }
  },
  {
   "cell_type": "code",
   "execution_count": null,
   "outputs": [],
   "source": [
    "TOOLS = list(sorted(set(bench_df['name'])))\n",
    "\n",
    "diff_bench_df = pd.DataFrame(\n",
    "    columns=['cell', 'name',\n",
    "             'peaks', 'peaks_len',\n",
    "             'genes', 'genes_len',\n",
    "             'peaks_overlap', 'peaks_overlap_len',\n",
    "             'genes_overlap', 'genes_overlap_len'],\n",
    "    dtype=object\n",
    ")\n",
    "\n",
    "tf = tempfile.mktemp()\n",
    "tf2 = tempfile.mktemp()\n",
    "\n",
    "for c in tqdm(IMMUNE_CELLS):\n",
    "    if (c) not in EXPRESSION_BED:\n",
    "        continue\n",
    "    print(c)\n",
    "    expr_file = sorted_file(EXPRESSION_BED[c])\n",
    "    t = df_fdr_peaks[(df_fdr_peaks['tool'] == 'SPAN') &\n",
    "                     (df_fdr_peaks['modification'] == 'H3K36me3') &\n",
    "                     (df_fdr_peaks['cell'] == c)]\n",
    "    if len(t) == 0:\n",
    "        continue\n",
    "    span_file = sorted_file(t['file'].values[0])\n",
    "    genes = lines(expr_file)\n",
    "    genes_len = int(bedl(expr_file).sum())\n",
    "    # Processing single tools information\n",
    "    for tool in TOOLS:\n",
    "        if tool == 'SPAN':\n",
    "            continue\n",
    "        t = df_fdr_peaks[(df_fdr_peaks['tool'] == tool) &\n",
    "                         (df_fdr_peaks['modification'] == 'H3K36me3') &\n",
    "                         (df_fdr_peaks['cell'] == c)]\n",
    "        if len(t) == 0:\n",
    "            continue\n",
    "        peaks_file = sorted_file(t['file'].values[0])\n",
    "        for name, args in [\n",
    "            (f'SPAN - {tool}', f' -a {span_file} -b {peaks_file} '),\n",
    "            (f'{tool} - SPAN', f' -b {span_file} -a {peaks_file} ')\n",
    "        ]:\n",
    "            !bedtools intersect {args} -wa -v > {tf}\n",
    "            peaks = lines(tf)\n",
    "            peaks_len = int(bedl(tf).sum())\n",
    "            !bedtools intersect -a {tf} -b {expr_file} -wa -u > {tf2}\n",
    "            peaks_overlap = lines(tf2)\n",
    "            !bedtools intersect -b {tf} -a {expr_file} -wa -u > {tf2}\n",
    "            genes_overlap = lines(tf2)\n",
    "            !bedtools intersect -a {tf} -b {expr_file} -wo > {tf2}\n",
    "            peaks_overlap_len = genes_overlap_len = int(last_col(tf2).sum())\n",
    "\n",
    "            diff_bench_df.loc[len(diff_bench_df)] = \\\n",
    "                (c, name,\n",
    "                 peaks, peaks_len,\n",
    "                 genes, genes_len,\n",
    "                 peaks_overlap, peaks_overlap_len,\n",
    "                 genes_overlap, genes_overlap_len)\n",
    "\n",
    "display(diff_bench_df.sample())"
   ],
   "metadata": {
    "collapsed": false
   }
  },
  {
   "cell_type": "code",
   "execution_count": null,
   "outputs": [],
   "source": [
    "diff_bench_df['precision'] = [d(a, b) for a, b in zip(diff_bench_df['peaks_overlap'], diff_bench_df['peaks'])]\n",
    "diff_bench_df['sensitivity'] = [d(a, b) for a, b in zip(diff_bench_df['genes_overlap'], diff_bench_df['genes'])]\n",
    "diff_bench_df['f1'] = [d(2, d(1, s + 1e-10) + d(1, p + 1e-10))\n",
    "                       for s, p in zip(diff_bench_df['sensitivity'], diff_bench_df['precision'])]\n",
    "\n",
    "diff_bench_df['precision_len'] = [d(a, b) for a, b in zip(diff_bench_df['peaks_overlap_len'], diff_bench_df['peaks_len'])]\n",
    "diff_bench_df['sensitivity_len'] = [d(a, b) for a, b in zip(diff_bench_df['genes_overlap_len'], diff_bench_df['genes_len'])]\n",
    "diff_bench_df['f1_len'] = [d(2, d(1, s + 1e-10) + d(1, p + 1e-10))\n",
    "                           for s, p in zip(diff_bench_df['sensitivity_len'], diff_bench_df['precision_len'])]\n",
    "\n",
    "diff_bench_df['jaccard'] = [ d(o, p + g -o)\n",
    "                             for p, g, o in zip(diff_bench_df['peaks_len'], diff_bench_df['genes_len'], diff_bench_df['genes_overlap_len'])\n",
    "                             ]"
   ],
   "metadata": {
    "collapsed": false
   }
  },
  {
   "cell_type": "code",
   "execution_count": null,
   "outputs": [],
   "source": [
    "full_bench_df = pd.concat([bench_df,diff_bench_df]).reset_index(drop=True)\n",
    "full_bench_df.sample(5)"
   ],
   "metadata": {
    "collapsed": false
   }
  },
  {
   "cell_type": "code",
   "execution_count": null,
   "outputs": [],
   "source": [
    "plt.figure(figsize=(4, 4))\n",
    "ax = plt.axes()\n",
    "ax.title.set_text('Peaks number')\n",
    "g_results = sns.barplot(data=full_bench_df, x='name', y='peaks',\n",
    "                        ax=ax,\n",
    "                        capsize=.2, errwidth=2,\n",
    "                        order=['MACS2', 'MACS2 broad', 'SICER', 'SPAN',\n",
    "                               'SPAN - MACS2', 'SPAN - MACS2 broad', 'SPAN - SICER',\n",
    "                               'MACS2 - SPAN', 'MACS2 broad - SPAN', 'SICER - SPAN',\n",
    "                               ]\n",
    "                        )\n",
    "ax.xaxis.set_tick_params(rotation=90)\n",
    "ax.set_ylabel('Peaks number')\n",
    "ax.set_ylim([0, 1e5]) # Limited for visual aesthetics\n",
    "plt.tight_layout()\n",
    "plt.show()"
   ],
   "metadata": {
    "collapsed": false
   }
  },
  {
   "cell_type": "code",
   "execution_count": null,
   "outputs": [],
   "source": [
    "plt.figure(figsize=(4, 4))\n",
    "ax = plt.axes()\n",
    "ax.title.set_text('Peaks number')\n",
    "g_results = sns.barplot(data=full_bench_df[full_bench_df['cell']=='BCell'], x='name', y='peaks',\n",
    "                        ax=ax,\n",
    "                        capsize=.2, errwidth=2,\n",
    "                        order=['MACS2', 'MACS2 broad', 'SICER', 'SPAN',\n",
    "                               'SPAN - MACS2', 'SPAN - MACS2 broad', 'SPAN - SICER',\n",
    "                               'MACS2 - SPAN', 'MACS2 broad - SPAN', 'SICER - SPAN',\n",
    "                               ]\n",
    "                        )\n",
    "ax.xaxis.set_tick_params(rotation=90)\n",
    "ax.set_ylabel('Peaks number')\n",
    "ax.set_ylim([0, 1e5]) # Limited for visual aesthetics\n",
    "plt.tight_layout()\n",
    "plt.show()"
   ],
   "metadata": {
    "collapsed": false
   }
  },
  {
   "cell_type": "code",
   "execution_count": null,
   "outputs": [],
   "source": [
    "plt.figure(figsize=(4, 4))\n",
    "ax = plt.axes()\n",
    "ax.title.set_text('Jaccard vs expressed genes')\n",
    "g_results = sns.barplot(data=full_bench_df, x='name', y='jaccard',\n",
    "                        ax=ax,\n",
    "                        capsize=.2, errwidth=2,\n",
    "                        order=['MACS2', 'MACS2 broad', 'SICER', 'SPAN']\n",
    "                        )\n",
    "ax.xaxis.set_tick_params(rotation=90)\n",
    "ax.set_ylabel('Jaccard')\n",
    "plt.tight_layout()\n",
    "plt.show()"
   ],
   "metadata": {
    "collapsed": false
   }
  },
  {
   "cell_type": "code",
   "execution_count": null,
   "outputs": [],
   "source": [
    "ts = []\n",
    "for name in full_bench_df['name'].unique():\n",
    "    tn = full_bench_df[full_bench_df['name'] == name]\n",
    "    for variable in ['sensitivity', 'precision', 'f1']:\n",
    "        ts.append(pd.DataFrame(dict(name=[name] * len(tn), type=[variable] * len(tn),\n",
    "                                    benchmark=['peak'] * len(tn),\n",
    "                                    value=tn[variable])))\n",
    "        ts.append(pd.DataFrame(dict(name=[name] * len(tn), type=[variable] * len(tn),\n",
    "                                    benchmark=['length'] * len(tn),\n",
    "                                    value=tn[f'{variable}_len'])))\n",
    "t = pd.concat(ts).reset_index(drop=True)\n",
    "del ts"
   ],
   "metadata": {
    "collapsed": false
   }
  },
  {
   "cell_type": "code",
   "execution_count": null,
   "outputs": [],
   "source": [
    "plt.figure(figsize=(10, 8))\n",
    "axs = [plt.subplot(2, 3, i + 1) for i in range(6)]\n",
    "for i, (benchmark, type) in enumerate(product(['peak', 'length'], ['precision', 'sensitivity', 'f1'])):\n",
    "    ax = axs[i]\n",
    "    if type == 'precision':\n",
    "        ax.title.set_text(f'Peaks vs expressed genes ({benchmark})')\n",
    "    elif type == 'sensitivity':\n",
    "        ax.title.set_text(f'Expressed genes vs peaks ({benchmark})')\n",
    "    else:\n",
    "        ax.title.set_text(f'F1 precision and sensitivity ({benchmark})')\n",
    "    sns.barplot(data=t[(t['benchmark'] == benchmark) & (t['type'] == type)], x='name', y='value',\n",
    "                capsize=.2, errwidth=2, ax=ax,\n",
    "                order=['MACS2', 'MACS2 broad', 'SICER', 'SPAN',\n",
    "                       'SPAN - MACS2', 'SPAN - MACS2 broad', 'SPAN - SICER',\n",
    "                       'MACS2 - SPAN', 'MACS2 broad - SPAN', 'SICER - SPAN',\n",
    "                       ])\n",
    "    ax.xaxis.set_tick_params(rotation=90)\n",
    "    ax.set_ylabel('Fraction')\n",
    "plt.tight_layout()\n",
    "plt.show()"
   ],
   "metadata": {
    "collapsed": false
   }
  },
  {
   "cell_type": "markdown",
   "source": [
    "## Venn diagram"
   ],
   "metadata": {
    "collapsed": false
   }
  },
  {
   "cell_type": "code",
   "execution_count": null,
   "outputs": [],
   "source": [
    "from matplotlib_venn import venn2, venn2_circles, venn3, venn3_circles\n",
    "\n",
    "def num_format(x, engineer):\n",
    "    if x <= 0:\n",
    "        return ''\n",
    "    elif engineer:\n",
    "        return f'{x:.0e}'\n",
    "    else:\n",
    "        return str(x)\n",
    "\n",
    "num_format(1.3e10, True)\n",
    "\n",
    "VENN2_SUBSETS = ['1', '2', '1,2']\n",
    "VENN2_LABELS = ['10', '01', '11']\n",
    "\n",
    "def venn2_overlap(ax, peaks1, peaks2, overlap12, overlap21, name1, name2,\n",
    "                  show_numbers=True, engineer=False, add_proportion=False,\n",
    "                  set_font=15, subset_font=10):\n",
    "    max_peaks = max(peaks1, peaks2)\n",
    "    max_overlap = max(overlap12, overlap21)\n",
    "    # Tweak subsets to avoid empty areas\n",
    "    if show_numbers:\n",
    "        subsets = (\n",
    "            max(0.1 * max_peaks, min(0.9 * max_peaks, peaks1 - overlap12)) if peaks1 > overlap12 else 0,\n",
    "            max(0.1 * max_peaks, min(0.9 * max_peaks, peaks2 - overlap21)) if peaks2 > overlap21 else 0,\n",
    "            max(0.1 * max_peaks, min(0.9 * max_peaks, max_overlap))\n",
    "        )\n",
    "    else:\n",
    "        subsets = (peaks1 - overlap12, peaks2 - overlap21, max_overlap)\n",
    "    v = venn2(subsets=subsets, set_labels=(name1, name2), alpha=0.3, ax=ax)\n",
    "    # venn2_circles(subsets=subsets, color='grey', ax=ax)\n",
    "\n",
    "    if show_numbers:\n",
    "        v.get_label_by_id('10').set_text(num_format(peaks1 - overlap12, engineer))\n",
    "        v.get_label_by_id('01').set_text(num_format(peaks2 - overlap21, engineer))\n",
    "        if add_proportion:\n",
    "            if overlap12 != 0 and overlap21 != 0:\n",
    "                if overlap12 > overlap21:\n",
    "                    prop = f'{overlap12 / overlap21:.1f} : 1'\n",
    "                else:\n",
    "                    prop = f'1 : {overlap21 / overlap12:.1f}'\n",
    "                prop = prop.replace('.0', '')  # Cosmetics\n",
    "            else:\n",
    "                prop = ''\n",
    "            v.get_label_by_id('11').set_text(f'{overlap12} : {overlap21}\\n{prop}')\n",
    "        else:\n",
    "            v.get_label_by_id('11').set_text(num_format(max_overlap, engineer))\n",
    "    for text in v.set_labels:\n",
    "        if text is not None:\n",
    "            text.set_fontsize(set_font)\n",
    "    for text in v.subset_labels:\n",
    "        if text is not None:\n",
    "            text.set_fontsize(subset_font)\n",
    "    if not show_numbers:\n",
    "        for l in VENN2_LABELS:\n",
    "            label = v.get_label_by_id(l)\n",
    "            if label is not None:\n",
    "                label.set_text('')\n",
    "\n",
    "VENN3_SUBSETS = ['1', '2', '1,2', '3', '1,3', '2,3', '1,2,3']\n",
    "VENN3_LABELS = ['100', '010', '110', '001', '101', '011', '111']\n",
    "\n",
    "def venn3_overlap(ax, v1, v2, v12, v3, v13, v23, v123, name1, name2, name3,\n",
    "                  show_numbers=True, engineer=False,\n",
    "                  set_font=15, subset_font=10):\n",
    "    subsets=(v1, v2, v12, v3, v13, v23, v123)\n",
    "    t = {l: s for l, s in zip(VENN3_LABELS, subsets)}\n",
    "    v = venn3(subsets=subsets,\n",
    "              set_labels=(name1, name2, name3),\n",
    "              alpha=0.3,\n",
    "              ax=ax)\n",
    "    for text in v.set_labels:\n",
    "        if text is not None:\n",
    "            text.set_fontsize(set_font)\n",
    "    for text in v.subset_labels:\n",
    "        if text is not None:\n",
    "            text.set_fontsize(subset_font)\n",
    "    for l in VENN3_LABELS:\n",
    "        label = v.get_label_by_id(l)\n",
    "        if label is not None:\n",
    "            if not show_numbers:\n",
    "                label.set_text('')\n",
    "            else:\n",
    "                label.set_text(num_format(t[l], engineer))"
   ],
   "metadata": {
    "collapsed": false
   }
  },
  {
   "cell_type": "code",
   "execution_count": null,
   "outputs": [],
   "source": [
    "other_tools = list(sorted(filter(lambda t: t != 'SPAN', bench_df['name'].unique())))\n",
    "\n",
    "tf = tempfile.mktemp()\n",
    "tf2 = tempfile.mktemp()\n",
    "\n",
    "for c in tqdm(['BCell']):\n",
    "    if (c) not in EXPRESSION_BED:\n",
    "        continue\n",
    "    print(c)\n",
    "    expr_file = sorted_file(EXPRESSION_BED[(c)])\n",
    "    t = df_fdr_peaks[(df_fdr_peaks['tool'] == 'SPAN') & (df_fdr_peaks['modification'] == 'H3K36me3') &\n",
    "                     (df_fdr_peaks['cell'] == c)]\n",
    "    if len(t) == 0:\n",
    "        continue\n",
    "    span_file = sorted_file(t['file'].values[0])\n",
    "    span_peaks = lines(span_file)\n",
    "    span_len = int(bedl(span_file).sum())\n",
    "    genes = lines(expr_file)\n",
    "    genes_len = int(bedl(expr_file).sum())\n",
    "\n",
    "    print('Venn diagrams of SPAN vs other tools (peaks)')\n",
    "    plt.figure(figsize=(4 * len(other_tools), 4))\n",
    "    axs = [plt.subplot(1, len(other_tools), i + 1) for i in range(len(other_tools))]\n",
    "    for i, tool in enumerate(other_tools):\n",
    "        t = df_fdr_peaks[(df_fdr_peaks['tool'] == tool) & (df_fdr_peaks['modification'] == 'H3K36me3') &\n",
    "                         (df_fdr_peaks['cell'] == c)]\n",
    "        if len(t) == 0:\n",
    "            continue\n",
    "        peaks_file = sorted_file(t['file'].values[0])\n",
    "        peaks_number = lines(peaks_file)\n",
    "        !bedtools intersect -a {span_file} -b {peaks_file} -wa -u > {tf}\n",
    "        span_overlap = lines(tf)\n",
    "        !bedtools intersect -b {span_file} -a {peaks_file} -wa -u > {tf}\n",
    "        other_overlap = lines(tf)\n",
    "        venn2_overlap(axs[i], span_peaks, peaks_number, span_overlap, other_overlap, 'SPAN', tool,\n",
    "                      show_numbers=True, add_proportion=True)\n",
    "    plt.tight_layout()\n",
    "    # plt.savefig(f'{GSE26320_PATH}/analyze/venn_{m}.png', bbox_inches='tight', dpi=300)\n",
    "    plt.show()\n",
    "\n",
    "    print('Venn diagram of SPAN vs other tools and expressed genes (ranges)')\n",
    "    plt.figure(figsize=(4 * len(other_tools), 4))\n",
    "    axs = [plt.subplot(1, len(other_tools), i + 1) for i in range(len(other_tools))]\n",
    "    for i, tool in enumerate(other_tools):\n",
    "        t = df_fdr_peaks[(df_fdr_peaks['tool'] == tool) & (df_fdr_peaks['modification'] == 'H3K36me3') &\n",
    "                         (df_fdr_peaks['cell'] == c)]\n",
    "        if len(t) == 0:\n",
    "            continue\n",
    "        peaks_file = sorted_file(t['file'].values[0])\n",
    "        peaks_number = lines(peaks_file)\n",
    "        peaks_len = int(bedl(peaks_file).sum())\n",
    "        ! bedtools multiinter -i {span_file} {peaks_file} {expr_file} > {tf}\n",
    "        t = pd.read_csv(tf, sep='\\t', names=['chr', 'start', 'end',\n",
    "                                             'overlap_number', 'overlap_details',\n",
    "                                             'overlap1', 'overlap2', 'overlap3'])\n",
    "        venn3_overlap(axs[i], *[(t['overlap_details'] == o).sum() for o in VENN3_SUBSETS],\n",
    "                      'SPAN', tool, 'Expressed genes',\n",
    "                      show_numbers=False, engineer=True)\n",
    "    plt.tight_layout()\n",
    "    plt.show()\n",
    "\n",
    "    print('Venn diagram of SPAN vs other tools and expressed genes (length)')\n",
    "    plt.figure(figsize=(4 * len(other_tools), 4))\n",
    "    axs = [plt.subplot(1, len(other_tools), i + 1) for i in range(len(other_tools))]\n",
    "    for i, tool in enumerate(other_tools):\n",
    "        t = df_fdr_peaks[(df_fdr_peaks['tool'] == tool) & (df_fdr_peaks['modification'] == 'H3K36me3') &\n",
    "                         (df_fdr_peaks['cell'] == c)]\n",
    "        if len(t) == 0:\n",
    "            continue\n",
    "        peaks_file = sorted_file(t['file'].values[0])\n",
    "        peaks_number = lines(peaks_file)\n",
    "        peaks_len = int(bedl(peaks_file).sum())\n",
    "        ! bedtools multiinter -i {span_file} {peaks_file} {expr_file} > {tf}\n",
    "        t = pd.read_csv(tf, sep='\\t', names=['chr', 'start', 'end',\n",
    "                                             'overlap_number', 'overlap_details',\n",
    "                                             'overlap1', 'overlap2', 'overlap3'])\n",
    "        venn3_overlap(axs[i], *[\n",
    "            (t[t['overlap_details'] == o]['end'] - t[t['overlap_details'] == o]['start']).sum()\n",
    "            for o in VENN3_SUBSETS\n",
    "        ], 'SPAN', tool, 'Expressed genes', show_numbers=False, engineer=True)\n",
    "\n",
    "    plt.tight_layout()\n",
    "    plt.show()"
   ],
   "metadata": {
    "collapsed": false
   }
  },
  {
   "cell_type": "markdown",
   "source": [
    "## Compare genes expression overlapping peaks"
   ],
   "metadata": {
    "collapsed": false
   }
  },
  {
   "cell_type": "code",
   "execution_count": null,
   "outputs": [],
   "source": [
    "import tempfile\n",
    "from itertools import product\n",
    "\n",
    "tf = tempfile.mktemp()\n",
    "\n",
    "ts = []\n",
    "\n",
    "for c in tqdm(IMMUNE_CELLS):\n",
    "    print(c)\n",
    "    expr_file = sorted_file(EXPRESSION_BED[c])\n",
    "    genes = lines(expr_file)\n",
    "    for tool in set(df_fdr_peaks['tool']):\n",
    "        t = df_fdr_peaks[(df_fdr_peaks['tool'] == tool) &\n",
    "                         (df_fdr_peaks['modification'] == 'H3K36me3') &\n",
    "                         (df_fdr_peaks['cell'] == c)]\n",
    "        if len(t) == 0:\n",
    "            continue\n",
    "        peaks_file = sorted_file(t['file'].values[0])\n",
    "\n",
    "        for overlap, overlap_param in [\n",
    "            ('1bp', ''),\n",
    "            ('50%', ' -f 0.5 '),\n",
    "        ]:\n",
    "            !bedtools intersect -a {expr_file} -b {peaks_file} -wa -u {overlap_param} > {tf}\n",
    "            tf_expression = pd.read_csv(tf, sep='\\t',\n",
    "                                        names=['chromosome', 'start', 'end', 'gene_id', 'strand', 'expression']\n",
    "                                        )[['expression']].copy()\n",
    "            tf_expression['name'] = tool\n",
    "            tf_expression['overlap'] = overlap\n",
    "            ts.append(tf_expression)\n",
    "\n",
    "peaks_expression = pd.concat(ts).reset_index(drop=True)"
   ],
   "metadata": {
    "collapsed": false
   }
  },
  {
   "cell_type": "code",
   "execution_count": null,
   "outputs": [],
   "source": [
    "for overlap in peaks_expression['overlap'].unique():\n",
    "    plt.figure(figsize=(5, 3))\n",
    "    ax = plt.axes()\n",
    "    g_results = sns.histplot(data=peaks_expression[peaks_expression['overlap']==overlap], x='expression', hue='name', ax=ax,\n",
    "                             bins=50, stat='density', common_bins=False, common_norm=False,\n",
    "                             kde=True, log_scale=True, alpha=0.2,\n",
    "                             palette=TOOLS_PALETTE)\n",
    "    g_results.set(xscale='log')\n",
    "    ax.title.set_text(f'Expression of genes overlapping peaks {overlap}')\n",
    "    plt.show()"
   ],
   "metadata": {
    "collapsed": false
   }
  },
  {
   "cell_type": "markdown",
   "source": [
    "## Compare ratio of peaks vs genes"
   ],
   "metadata": {
    "collapsed": false
   }
  },
  {
   "cell_type": "code",
   "execution_count": null,
   "outputs": [],
   "source": [
    "import tempfile\n",
    "from itertools import product\n",
    "\n",
    "tf = tempfile.mktemp()\n",
    "\n",
    "ratio_df = pd.DataFrame(columns=['cell', 'tool', 'genes', 'peaks'], dtype=object)\n",
    "\n",
    "for c in tqdm(IMMUNE_CELLS):\n",
    "    print(c)\n",
    "    expr_file = sorted_file(EXPRESSION_BED[c])\n",
    "    genes = lines(expr_file)\n",
    "    for tool in set(df_fdr_peaks['tool']):\n",
    "        t = df_fdr_peaks[(df_fdr_peaks['tool'] == tool) &\n",
    "                         (df_fdr_peaks['modification'] == 'H3K36me3') &\n",
    "                         (df_fdr_peaks['cell'] == c)]\n",
    "        if len(t) == 0:\n",
    "            continue\n",
    "        peaks_file = sorted_file(t['file'].values[0])\n",
    "        !bedtools intersect -a {expr_file} -b {peaks_file} -wa -wb > {tf}\n",
    "        expr_cols = len(pd.read_csv(expr_file, sep='\\t', header=None, nrows=1).columns)\n",
    "        try:\n",
    "            tf_expression = pd.read_csv(tf, sep='\\t', header=None)\n",
    "            genes = len(tf_expression.groupby([0, 1, 2]).count())\n",
    "            peaks = len(tf_expression.groupby([expr_cols, expr_cols + 1, expr_cols + 2]).count())\n",
    "            ratio_df.loc[len(ratio_df)] = (c, tool, genes, peaks)\n",
    "        except:\n",
    "            pass\n",
    "ratio_df"
   ],
   "metadata": {
    "collapsed": false
   }
  },
  {
   "cell_type": "code",
   "execution_count": null,
   "outputs": [],
   "source": [
    "ratio_df['peaks_to_genes'] = ratio_df['peaks'] / ratio_df['genes']\n",
    "ratio_df.sort_values(by=['tool'], inplace=True)"
   ],
   "metadata": {
    "collapsed": false
   }
  },
  {
   "cell_type": "code",
   "execution_count": null,
   "outputs": [],
   "source": [
    "plt.figure(figsize=(6, 2))\n",
    "ax = plt.axes()\n",
    "g_results = sns.boxplot(data=ratio_df, x='peaks_to_genes', y='tool', ax=ax, palette=TOOLS_PALETTE)\n",
    "ax.title.set_text('Ratio of peaks to genes')\n",
    "plt.show()"
   ],
   "metadata": {
    "collapsed": false
   }
  },
  {
   "cell_type": "markdown",
   "source": [
    "# H3K36me3 TPM benchmark"
   ],
   "metadata": {
    "collapsed": false
   }
  },
  {
   "cell_type": "code",
   "execution_count": null,
   "outputs": [],
   "source": [
    "import tempfile\n",
    "from itertools import product\n",
    "\n",
    "tf = tempfile.mktemp()\n",
    "expr_file = tempfile.mktemp()\n",
    "\n",
    "benchmark_tpm_df = pd.DataFrame(\n",
    "    columns=['cell', 'tpm', 'genes', 'peaks_file', 'peaks', 'pg', 'gp', 'overlap', 'tool'],\n",
    "    dtype=object\n",
    ")\n",
    "\n",
    "for c in tqdm(IMMUNE_CELLS):\n",
    "    print(c)\n",
    "    t = pd.read_csv(EXPRESSION_TSV[c], sep='\\t')\n",
    "    # Fix . in gene_id\n",
    "    t['gene_id'] = [re.sub('\\..*', '', id) for id in t['gene_id']]\n",
    "    t['LTPM'] = np.log1p(t['TPM'])\n",
    "    full_df = pd.merge(left=t, right=gtf_genes_df, left_on='gene_id', right_on='gene_id')\n",
    "    full_df = full_df[['chromosome', 'start', 'end', 'gene_id', 'strand', 'TPM', 'LTPM']]\n",
    "    full_df.sort_values(by=['chromosome', 'start'], inplace=True)\n",
    "    full_df = merge_genes(full_df)\n",
    "\n",
    "    for tpm in np.linspace(0, 0.5, 6):\n",
    "        print('Processing TMP', tpm)\n",
    "        full_df[full_df['LTPM'] > tpm].to_csv(expr_file, sep='\\t', index=False, header=None)\n",
    "        expr_file = sorted_file(expr_file)\n",
    "        genes = lines(expr_file)\n",
    "        for tool in set(df_fdr_peaks['tool']):\n",
    "            t = df_fdr_peaks[(df_fdr_peaks['tool'] == tool) &\n",
    "                             (df_fdr_peaks['modification'] == 'H3K36me3') &\n",
    "                             (df_fdr_peaks['cell'] == c)]\n",
    "            if len(t) == 0:\n",
    "                continue\n",
    "            peaks_file = sorted_file(t['file'].values[0])\n",
    "            peaks = lines(peaks_file)\n",
    "            for overlap, overlap_param in [\n",
    "                ('1bp', ''),\n",
    "                ('50%', ' -f 0.5 ')\n",
    "            ]:\n",
    "                !bedtools intersect -a {peaks_file} -b {expr_file} -wa -u {overlap_param} > {tf}\n",
    "                peaks_overlap = lines(tf)\n",
    "                !bedtools intersect -b {peaks_file} -a {expr_file} -wa -u {overlap_param} > {tf}\n",
    "                genes_overlap = lines(tf)\n",
    "                benchmark_tpm_df.loc[len(benchmark_tpm_df)] = \\\n",
    "                    (c, tpm, genes, peaks_file, peaks, peaks_overlap, genes_overlap, overlap, tool)\n",
    "\n",
    "benchmark_tpm_df"
   ],
   "metadata": {
    "collapsed": false
   }
  },
  {
   "cell_type": "code",
   "execution_count": null,
   "outputs": [],
   "source": [
    "benchmark_tpm_df['p'] = (benchmark_tpm_df['pg'] + benchmark_tpm_df['gp']) / 2\n",
    "benchmark_tpm_df['precision'] = [d(x, y) for x, y in zip(benchmark_tpm_df['pg'], benchmark_tpm_df['peaks'])]\n",
    "benchmark_tpm_df['sensitivity'] = [d(x, y) for x, y in zip(benchmark_tpm_df['gp'], benchmark_tpm_df['genes'])]\n",
    "benchmark_tpm_df['f1'] = [2 / (d(1, s + 1e-10) + d(1, p + 1e-10)) for s, p in zip(benchmark_tpm_df['sensitivity'], benchmark_tpm_df['precision'])]\n",
    "benchmark_tpm_df"
   ],
   "metadata": {
    "collapsed": false
   }
  },
  {
   "cell_type": "code",
   "execution_count": null,
   "outputs": [],
   "source": [
    "def rgb2hex(color):\n",
    "    r, g, b, _ = color\n",
    "    return \"#{0:02x}{1:02x}{2:02x}\".format(int(r * 255), int(g * 255), int(b * 255))\n",
    "\n",
    "PLOTLY_TOOLS_PALETTE = {k: rgb2hex(v) for k, v in TOOLS_PALETTE.items()}"
   ],
   "metadata": {
    "collapsed": false
   }
  },
  {
   "cell_type": "code",
   "execution_count": null,
   "outputs": [],
   "source": [
    "import plotly.graph_objects as go\n",
    "\n",
    "def plot_tpm(benchmark_tpm_df):\n",
    "    tools_legend_shown = set()\n",
    "    fig = go.Figure()\n",
    "    for overlap in benchmark_tpm_df['overlap'].unique():\n",
    "        marker = 'square' if overlap == '1bp' else  'circle' if overlap == '50%' else 'diamond'\n",
    "        for c, t in product(IMMUNE_CELLS, df_fdr_peaks['tool'].unique()):\n",
    "            dft = benchmark_tpm_df[(benchmark_tpm_df['cell'] == c) &\n",
    "                               (benchmark_tpm_df['overlap'] == overlap) &\n",
    "                               (benchmark_tpm_df['tool'] == t)]\n",
    "            if len(dft) == 0:\n",
    "                continue\n",
    "            fig.add_trace(go.Scatter(\n",
    "                x=dft[\"precision\"], y=dft[\"sensitivity\"], mode='lines+markers', name=t,\n",
    "                hovertext=dft['tpm'].astype(str) + ' ' + t, marker_symbol=[marker] * len(dft),\n",
    "                showlegend=t not in tools_legend_shown,\n",
    "                marker_color=PLOTLY_TOOLS_PALETTE[t],\n",
    "                opacity=0.3\n",
    "            ))\n",
    "            tools_legend_shown.add(t)\n",
    "\n",
    "\n",
    "    for overlap in set(benchmark_tpm_df['overlap']):\n",
    "        marker = 'square' if overlap == '1bp' else  'circle' if overlap == '50%' else 'diamond'\n",
    "        for c, t in product(IMMUNE_CELLS, df_fdr_peaks['tool'].unique()):\n",
    "            dft = benchmark_tpm_df[(benchmark_tpm_df['cell'] == c) &\n",
    "                                   (benchmark_tpm_df['overlap'] == overlap) &\n",
    "                                   (benchmark_tpm_df['tool'] == t) &\n",
    "                                   (benchmark_tpm_df['tpm'] == 0.1)]\n",
    "            if len(dft) == 0:\n",
    "                continue\n",
    "            fig.add_trace(\n",
    "                go.Scatter(\n",
    "                    mode='markers',\n",
    "                    x=dft[\"precision\"], y=dft[\"sensitivity\"],\n",
    "                    name=t,\n",
    "                    marker=dict(color='white', size=10, line=dict(width=1), symbol=marker),\n",
    "                    showlegend=False,\n",
    "                    hovertext=dft['tpm'].astype(str) + ' ' + t\n",
    "                )\n",
    "            )\n",
    "\n",
    "    # fig.update_xaxes(range=[-0.1, 1.1], title='Peaks overlapping active genes (precision)')\n",
    "    # fig.update_yaxes(range=[-0.1, 1.1], title='Active genes overlapping peaks (sensitivity)')\n",
    "    fig.update_xaxes(title='Peaks overlapping active genes (precision)')\n",
    "    fig.update_yaxes(title='Active genes overlapping peaks (sensitivity)')\n",
    "\n",
    "    fig.layout.template = 'plotly_white'\n",
    "    fig.update_layout(\n",
    "        autosize=False,\n",
    "        width=800,\n",
    "        height=600,)\n",
    "    fig.show()\n"
   ],
   "metadata": {
    "collapsed": false
   }
  },
  {
   "cell_type": "code",
   "execution_count": null,
   "outputs": [],
   "source": [
    "plot_tpm(benchmark_tpm_df[benchmark_tpm_df['overlap'] == '1bp'])"
   ],
   "metadata": {
    "collapsed": false
   }
  },
  {
   "cell_type": "code",
   "execution_count": null,
   "outputs": [],
   "source": [
    "plot_tpm(benchmark_tpm_df[benchmark_tpm_df['overlap'] == '50%'])"
   ],
   "metadata": {
    "collapsed": false
   }
  },
  {
   "cell_type": "markdown",
   "source": [
    "# Fraction of reads in peaks"
   ],
   "metadata": {
    "collapsed": false
   }
  },
  {
   "cell_type": "code",
   "execution_count": null,
   "outputs": [],
   "source": [
    "IMMUNE_HG38_PATH_BW = PATH + '/bw'\n",
    "\n",
    "def load_bws(path, m):\n",
    "    df_bws = pd.DataFrame(columns=['file', 'modification', 'cell'], dtype=object)\n",
    "    for f in tqdm(os.listdir(path)):\n",
    "        if '.bw' not in f:\n",
    "            continue\n",
    "        cell = next((cc for cc in IMMUNE_CELLS if cc in f), None)\n",
    "        if cell and m in f:\n",
    "            df_bws.loc[len(df_bws)] = ((os.path.join(path, f)), m, cell)\n",
    "    return df_bws"
   ],
   "metadata": {
    "collapsed": false
   }
  },
  {
   "cell_type": "code",
   "execution_count": null,
   "outputs": [],
   "source": [
    "bws_df = load_bws(IMMUNE_HG38_PATH_BW, 'H3K36me3')\n",
    "bws_df.sample(3)"
   ],
   "metadata": {
    "collapsed": false
   }
  },
  {
   "cell_type": "code",
   "execution_count": null,
   "outputs": [],
   "source": [
    "bws_control_df = load_bws(IMMUNE_HG38_PATH_BW, 'Control')\n",
    "bws_control_df.sample(3)"
   ],
   "metadata": {
    "collapsed": false
   }
  },
  {
   "cell_type": "code",
   "execution_count": null,
   "outputs": [],
   "source": [
    "CHROM_SIZES = {\n",
    "    c: s for _, (c, s) in pd.read_csv(os.path.join(PATH, 'hg38.chrom.sizes'),\n",
    "                                      sep='\\t', names=['chr', 'size']).iterrows() if '_' not in c\n",
    "}\n",
    "CHROM_SIZES"
   ],
   "metadata": {
    "collapsed": false
   }
  },
  {
   "cell_type": "code",
   "execution_count": null,
   "outputs": [],
   "source": [
    "import pyBigWig\n",
    "\n",
    "tf = tempfile.mktemp()\n",
    "\n",
    "frip_df = pd.DataFrame(\n",
    "    columns=['cell', 'bw_file', 'tool', 'peaks_file', 'peaks', 'length',\n",
    "             'reads_in_peaks', 'all_reads', 'control_reads_in_peaks', 'control_all_reads'],\n",
    "    dtype=object\n",
    ")\n",
    "\n",
    "for c in tqdm(IMMUNE_CELLS):\n",
    "    print(c)\n",
    "    for tool in set(df_fdr_peaks['tool']):\n",
    "        t = df_fdr_peaks[(df_fdr_peaks['tool'] == tool) & (df_fdr_peaks['modification'] == 'H3K36me3') &\n",
    "                         (df_fdr_peaks['cell'] == c)]\n",
    "        if len(t) == 0:\n",
    "            continue\n",
    "        peaks_file = sorted_file(t['file'].values[0])\n",
    "        peaks = lines(peaks_file)\n",
    "        if peaks == 0:\n",
    "            continue\n",
    "        peaks_len = int(bedl(peaks_file).sum())\n",
    "        t = bws_df[(bws_df['modification'] == 'H3K36me3') &\n",
    "                   (bws_df['cell'] == c)]\n",
    "        if len(t) == 0:\n",
    "            continue\n",
    "        bw_file = t['file'].values[0]\n",
    "        t = bws_control_df[bws_control_df['cell'] == c]\n",
    "        if len(t) == 0:\n",
    "            continue\n",
    "        bw_control_file = t['file'].values[0]\n",
    "\n",
    "        print(tool, peaks_file, bw_file, bw_control_file)\n",
    "        t = pd.read_csv(peaks_file, sep='\\t', header=None)\n",
    "        with pyBigWig.open(bw_file) as bw:\n",
    "            total_coverage = sum(bw.stats(chr, type='sum', exact=True)[0] for chr in t[0].unique() if chr in CHROM_SIZES)\n",
    "            peaks_coverage = sum(bw.stats(chr, start, end, type='sum', exact=True)[0]\n",
    "                                 for chr, start, end in zip(t[0], t[1], t[2]) if chr in CHROM_SIZES)\n",
    "        with pyBigWig.open(bw_control_file) as bwc:\n",
    "            control_total_coverage = sum(bwc.stats(chr, type='sum', exact=True)[0] for chr in t[0].unique())\n",
    "            control_peaks_coverage = sum(bwc.stats(chr, start, end, type='sum', exact=True)[0]\n",
    "                                         for chr, start, end in zip(t[0], t[1], t[2]))\n",
    "        frip_df.loc[len(frip_df)] = (c, bw_file, tool, peaks_file, peaks, peaks_len,\n",
    "                                     peaks_coverage, total_coverage, control_peaks_coverage, control_total_coverage)\n",
    "\n",
    "frip_df"
   ],
   "metadata": {
    "collapsed": false
   }
  },
  {
   "cell_type": "code",
   "execution_count": null,
   "outputs": [],
   "source": [
    "frip_df['frip'] = [d(x, y) for x, y in zip(frip_df['reads_in_peaks'], frip_df['all_reads'])]\n",
    "frip_df['peaks_rpkm'] = [(x / (z / 1e3)) / (y / 1e6) for x, y, z in zip(frip_df['reads_in_peaks'], frip_df['all_reads'], frip_df['length'])]\n",
    "frip_df['peaks_background_log2fc'] = [\n",
    "    np.log2((x / z) / ((y - x) / (sum(CHROM_SIZES.values()) - z)))\n",
    "    for x, y, z in zip(frip_df['reads_in_peaks'], frip_df['all_reads'], frip_df['length'])\n",
    "]\n",
    "frip_df['peaks_control_log2fc'] = [\n",
    "    np.log2(d(x / (y / 1e6), z / (u / 1e6)))\n",
    "    for x, y, z, u in zip(frip_df['reads_in_peaks'], frip_df['all_reads'],\n",
    "                          frip_df['control_reads_in_peaks'], frip_df['control_all_reads'])\n",
    "]"
   ],
   "metadata": {
    "collapsed": false
   }
  },
  {
   "cell_type": "code",
   "execution_count": null,
   "outputs": [],
   "source": [
    "# Ignore outliers\n",
    "t = frip_df[frip_df['peaks'] > 100]"
   ],
   "metadata": {
    "collapsed": false
   }
  },
  {
   "cell_type": "code",
   "execution_count": null,
   "outputs": [],
   "source": [
    "import seaborn as sns\n",
    "\n",
    "plt.figure(figsize=(12, 6))\n",
    "axs = [plt.subplot(2, 3, i + 1) for i in range(6)]\n",
    "ax = axs[0]\n",
    "g_results = sns.scatterplot(data=t, x='all_reads', y='peaks', hue='tool',\n",
    "                            palette=TOOLS_PALETTE, ax=ax)\n",
    "g_results.axes.legend().set_visible(False)\n",
    "\n",
    "ax = axs[1]\n",
    "g_results = sns.scatterplot(data=t, x='reads_in_peaks', y='peaks', hue='tool',\n",
    "                            palette=TOOLS_PALETTE, ax=ax)\n",
    "g_results.axes.legend().set_visible(False)\n",
    "\n",
    "ax = axs[2]\n",
    "g_results = sns.scatterplot(data=t, x='peaks_rpkm', y='peaks', hue='tool',\n",
    "                            palette=TOOLS_PALETTE, ax=ax)\n",
    "g_results.axes.legend().set_visible(False)\n",
    "\n",
    "ax = axs[3]\n",
    "g_results = sns.scatterplot(data=t, x='frip', y='peaks', hue='tool',\n",
    "                            palette=TOOLS_PALETTE, ax=ax)\n",
    "g_results.axes.legend().set_visible(False)\n",
    "\n",
    "ax = axs[4]\n",
    "g_results = sns.scatterplot(data=t, x='peaks_background_log2fc', y='peaks', hue='tool',\n",
    "                            palette=TOOLS_PALETTE, ax=ax)\n",
    "g_results.axes.legend().set_visible(False)\n",
    "\n",
    "ax = axs[5]\n",
    "g_results = sns.scatterplot(data=t, x='peaks_control_log2fc', y='peaks', hue='tool',\n",
    "                            palette=TOOLS_PALETTE, ax=ax)\n",
    "# Put a legend to the right of the current axis\n",
    "g_results.axes.legend(loc='center left', bbox_to_anchor=(1, 0.5))\n",
    "\n",
    "\n",
    "plt.tight_layout()\n",
    "plt.show()"
   ],
   "metadata": {
    "collapsed": false
   }
  },
  {
   "cell_type": "code",
   "execution_count": null,
   "outputs": [],
   "source": [
    "def load_bams(path, m):\n",
    "    df_bams = pd.DataFrame(columns=['bam_file', 'modification', 'cell', 'replicate', 'mapped_reads'], dtype=object)\n",
    "    for f in tqdm(os.listdir(path)):\n",
    "        if not f.endswith('.bam'):\n",
    "            continue\n",
    "        cell = next((cc for cc in IMMUNE_CELLS if cc in f), None)\n",
    "        rep = 'rep1' if 'rep1' in f else 'rep2'\n",
    "        if cell and rep and m in f:\n",
    "            file = os.path.join(path, f)\n",
    "            reads = ! samtools view -F 0x04 -c {file}\n",
    "            reads = int(reads[0])\n",
    "            df_bams.loc[len(df_bams)] = (file, m, cell, rep, reads)\n",
    "    return df_bams\n",
    "\n",
    "bams_df = load_bams(PATH + '/bam', 'H3K36me3')\n",
    "bams_df"
   ],
   "metadata": {
    "collapsed": false
   }
  },
  {
   "cell_type": "code",
   "execution_count": null,
   "outputs": [],
   "source": [
    "t = pd.merge(frip_df, bams_df, left_on=['cell'], right_on=['cell'])"
   ],
   "metadata": {
    "collapsed": false
   }
  },
  {
   "cell_type": "code",
   "execution_count": null,
   "outputs": [],
   "source": [
    "t['dataset'] = 'Immune'\n",
    "t.to_csv('/tmp/immune.tsv', sep='\\t', index=False)"
   ],
   "metadata": {
    "collapsed": false
   }
  },
  {
   "cell_type": "code",
   "execution_count": null,
   "outputs": [],
   "source": [],
   "metadata": {
    "collapsed": false
   }
  }
 ],
 "metadata": {
  "anaconda-cloud": {},
  "kernelspec": {
   "display_name": "Python 3",
   "language": "python",
   "name": "python3"
  },
  "language_info": {
   "codemirror_mode": {
    "name": "ipython",
    "version": 3
   },
   "file_extension": ".py",
   "mimetype": "text/x-python",
   "name": "python",
   "nbconvert_exporter": "python",
   "pygments_lexer": "ipython3",
   "version": "3.8.5"
  },
  "toc": {
   "nav_menu": {},
   "number_sections": true,
   "sideBar": true,
   "skip_h1_title": false,
   "toc_cell": false,
   "toc_position": {},
   "toc_section_display": "block",
   "toc_window_display": false
  }
 },
 "nbformat": 4,
 "nbformat_minor": 2
}
