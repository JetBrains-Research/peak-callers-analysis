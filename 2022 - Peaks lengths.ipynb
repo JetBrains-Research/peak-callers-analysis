{
 "cells": [
  {
   "cell_type": "markdown",
   "source": [
    "# Peaks length"
   ],
   "metadata": {
    "collapsed": false
   }
  },
  {
   "cell_type": "code",
   "execution_count": null,
   "outputs": [],
   "source": [
    "%matplotlib inline\n",
    "%config InlineBackend.figure_format='retina'\n",
    "\n",
    "import pandas as pd\n",
    "import seaborn as sns\n",
    "from IPython.display import display\n",
    "\n",
    "# sns.set_style(\"whitegrid\")\n",
    "sns.set_style(\"white\")\n",
    "import matplotlib.pyplot as plt\n",
    "import numpy as np\n",
    "import os\n",
    "from tqdm.auto import tqdm"
   ],
   "metadata": {
    "collapsed": false,
    "ExecuteTime": {
     "start_time": "2023-05-11T14:09:50.419090Z",
     "end_time": "2023-05-11T14:09:50.840458Z"
    }
   }
  },
  {
   "cell_type": "code",
   "execution_count": null,
   "outputs": [],
   "source": [
    "def bedl(file):\n",
    "    try:\n",
    "        tf = pd.read_csv(file, sep='\\t', header=None)\n",
    "        return tf[2] - tf[1]\n",
    "    except:\n",
    "        return np.zeros(0)  # Empty file\n",
    "\n",
    "\n",
    "def lines(file):\n",
    "    try:\n",
    "        tf = pd.read_csv(file, sep='\\t', header=None)\n",
    "        return len(tf)\n",
    "    except:\n",
    "        return 0  # Empty file\n",
    "\n",
    "\n",
    "def scores(file):\n",
    "    try:\n",
    "        tf = pd.read_csv(file, sep='\\t', header=None)\n",
    "        return tf[4]\n",
    "    except:\n",
    "        return np.zeros(0)  # Empty file\n",
    "\n",
    "def positions(file):\n",
    "    try:\n",
    "        tf = pd.read_csv(file, sep='\\t', header=None)\n",
    "        return tf[0], tf[1], tf[2]\n",
    "    except:\n",
    "        return [], [], []  # Empty file"
   ],
   "metadata": {
    "collapsed": false,
    "ExecuteTime": {
     "start_time": "2023-05-11T14:09:50.434144Z",
     "end_time": "2023-05-11T14:09:50.840661Z"
    }
   }
  },
  {
   "cell_type": "code",
   "execution_count": null,
   "outputs": [],
   "source": [
    "def find_peak_files(path, suffix, cells, modifications, replicates, fdrs):\n",
    "    df = pd.DataFrame(\n",
    "        columns=['modification', 'cell', 'replicate', 'fdr', 'file'],\n",
    "        dtype=object\n",
    "    )\n",
    "    for f in tqdm(os.listdir(path)):\n",
    "        if suffix not in f:\n",
    "            continue\n",
    "        mod = next((m for m in modifications if m in f), None)\n",
    "        cell = next((cc for cc in cells if cc in f), None)\n",
    "        rep = next((r for r in replicates if r in f), None)\n",
    "        fdr = next((fdr for fdr in fdrs if fdr in f), None)\n",
    "        if mod:\n",
    "            df.loc[len(df)] = (mod, cell, rep, fdr, os.path.join(path, f))\n",
    "    return df"
   ],
   "metadata": {
    "collapsed": false,
    "ExecuteTime": {
     "start_time": "2023-05-11T14:09:50.447853Z",
     "end_time": "2023-05-11T14:09:50.870790Z"
    }
   }
  },
  {
   "cell_type": "code",
   "execution_count": null,
   "outputs": [],
   "source": [
    "def load_peaks(df, lowq=.01, highq=.99):\n",
    "    dfs = []\n",
    "    for _, (m, t, file) in tqdm(df[['modification', 'tool', 'file']].iterrows()):\n",
    "        peaks_info = []\n",
    "        chromosomes, starts, ends = positions(file)\n",
    "        peaks_info.extend((m, t, file, chr, start, end, score, length)\n",
    "                          for chr, start, end, score, length in zip(chromosomes, starts, ends, scores(file), bedl(file)))\n",
    "        t = pd.DataFrame(\n",
    "            peaks_info,\n",
    "            columns=['modification', 'tool', 'file', 'chromosome', 'start', 'end', 'score', 'length']\n",
    "        )\n",
    "        t['length'] = t['length'].astype(int)\n",
    "        t['score'] = t['score'].astype(int)\n",
    "        t = t.sample(min(len(t), 10_000))\n",
    "        # Ignore extreme peaks\n",
    "        t = t[(t['length'].quantile(lowq) <= t['length']) &\n",
    "              (t['length'] <= t['length'].quantile(highq))].copy()\n",
    "        dfs.append(t)\n",
    "    return pd.concat(dfs, ignore_index=True)"
   ],
   "metadata": {
    "collapsed": false,
    "ExecuteTime": {
     "start_time": "2023-05-11T14:09:50.466612Z",
     "end_time": "2023-05-11T14:09:50.896664Z"
    }
   }
  },
  {
   "cell_type": "markdown",
   "source": [
    "# Encodeproject.org ATAC/TFs/ChIPseq"
   ],
   "metadata": {
    "collapsed": false
   }
  },
  {
   "cell_type": "markdown",
   "source": [
    "`xargs -L 1 curl -O -J -L < files.txt` and rename using `metadata.csv`\n",
    "```\n",
    "cd ~/data/2022_atacseq\n",
    "for F in *.bed; do echo $F; mv $F $(grep \"^${F/.bed/}\" metadata.tsv | awk  -v FS='\\t' '{printf(\"%s_%s_%s\", $1, $11, \"ATAC\")}'  | sed 's# #_#g').bed; done\n",
    "\n",
    "cd ~/data/2022_chipseq_narrow\n",
    "for F in *.bed; do echo $F; mv $F $(grep \"^${F/.bed/}\" metadata.tsv | awk  -v FS='\\t' '{printf(\"%s_%s_%s\", $1, $11, $23)}'  | sed -E 's#[^a-zA-Z0-9]+#_#g').bed; done\n",
    "\n",
    "cd ~/data/2022_chipseq_broad\n",
    "for F in *.bed; do echo $F; mv $F $(grep \"^${F/.bed/}\" metadata.tsv | awk  -v FS='\\t' '{printf(\"%s_%s_%s\", $1, $11, $23)}'  | sed -E 's#[^a-zA-Z0-9]+#_#g').bed; done\n",
    "\n",
    "# Simple analysis\n",
    "for F in *.bed; do echo $(cat $F | awk '{N+=1;L+=$3-$2} END {printf(\"%d\\n\", L/N)}') $F; done | sort -k1,1n\n",
    "```"
   ],
   "metadata": {
    "collapsed": false
   }
  },
  {
   "cell_type": "code",
   "execution_count": null,
   "outputs": [],
   "source": [
    "def plot_boxes(df, value, title, hue='modification', violin=True, log=False, minx=50, maxx=1e4, order=None):\n",
    "    plt.figure(figsize=(8, int(2 + 0.15 * len(set(df[hue])))))\n",
    "    ax = plt.axes()\n",
    "    if violin:\n",
    "        g_results = sns.violinplot(data=df, y=hue, x=value, ax=ax, scale='width', order=order)\n",
    "    else:\n",
    "        g_results = sns.boxplot(data=df, y=hue, x=value, ax=ax, order=order, showfliers=False)\n",
    "    sample_count = list(\n",
    "        filter(lambda x: minx <= x <= maxx,\n",
    "               [10, 100,  1000, 10_000, 100_000, 1_000_000])\n",
    "    )\n",
    "    if log:\n",
    "        g_results.set(xscale='log')\n",
    "        g_results.set(xticks=sample_count)\n",
    "        g_results.set(xticklabels=sample_count)\n",
    "    ax.set_xlim(minx, maxx)\n",
    "    ax.title.set_text(title)\n",
    "    plt.tight_layout()"
   ],
   "metadata": {
    "collapsed": false,
    "ExecuteTime": {
     "start_time": "2023-05-11T14:13:45.676986Z",
     "end_time": "2023-05-11T14:13:45.695214Z"
    }
   }
  },
  {
   "cell_type": "code",
   "execution_count": null,
   "outputs": [],
   "source": [
    "def plot_length_per_file(df, value):\n",
    "    for t, m in product(set(df['tool']), set(df['modification'])):\n",
    "        ts = df[(df['tool'] == t) & (df['modification'] == m)]\n",
    "        if len(ts) == 0:\n",
    "            continue\n",
    "        print(t, m, len(set(ts['file'])))\n",
    "        plt.figure(figsize=(12, 8))\n",
    "        # Plot\n",
    "        ax = plt.axes()\n",
    "        sns.violinplot(data=ts, x='file', y=value, ax=ax, scale='width')\n",
    "        ax.title.set_text(f'{m} {t}')\n",
    "        plt.xticks(rotation=90, fontsize=7)\n",
    "        plt.xlabel('file')\n",
    "        plt.tight_layout()\n",
    "        plt.show()"
   ],
   "metadata": {
    "collapsed": false,
    "ExecuteTime": {
     "start_time": "2023-05-11T14:13:48.082240Z",
     "end_time": "2023-05-11T14:13:48.140584Z"
    }
   }
  },
  {
   "cell_type": "markdown",
   "source": [
    "# Reprocessed with MACS2"
   ],
   "metadata": {
    "collapsed": false
   }
  },
  {
   "cell_type": "code",
   "execution_count": null,
   "outputs": [],
   "source": [
    "ENCODE_REPROCESSED_PATH = os.path.expanduser('~/data/2022_atac_chipseq_encode/macs2')\n",
    "ENCODE_REPROCESSED_CELLS = ['']\n",
    "ENCODE_REPROCESSED_MODIFICATIONS = [\n",
    "    'ATAC', 'CTCF', 'H2AFZ', 'H3K27ac', 'H3K4me3', 'H3K4me1', 'H3K27me3', 'H3K36me3'\n",
    "]\n",
    "\n",
    "FDRS = ['']\n",
    "df_encodeprojectorg_reprocessed = pd.concat(\n",
    "    [\n",
    "        find_peak_files(\n",
    "            ENCODE_REPROCESSED_PATH, '.narrowPeak', ENCODE_REPROCESSED_CELLS, ENCODE_REPROCESSED_MODIFICATIONS,\n",
    "            ['rep1', 'rep2'], FDRS\n",
    "        ),\n",
    "        find_peak_files(\n",
    "\n",
    "            ENCODE_REPROCESSED_PATH, '.broadPeak', ENCODE_REPROCESSED_CELLS, ENCODE_REPROCESSED_MODIFICATIONS,\n",
    "            ['rep1', 'rep2'], FDRS\n",
    "        )]\n",
    ")\n",
    "df_encodeprojectorg_reprocessed['tool'] = 'Macs2'\n",
    "# df_encode_reprocessed.sample(3)"
   ],
   "metadata": {
    "collapsed": false,
    "ExecuteTime": {
     "start_time": "2023-05-11T14:13:49.031184Z",
     "end_time": "2023-05-11T14:13:49.083824Z"
    }
   }
  },
  {
   "cell_type": "code",
   "execution_count": null,
   "outputs": [],
   "source": [
    "df_encodeprojectorg_reprocessed_peaks = load_peaks(df_encodeprojectorg_reprocessed)\n",
    "display(df_encodeprojectorg_reprocessed_peaks.sample(5))"
   ],
   "metadata": {
    "collapsed": false,
    "ExecuteTime": {
     "start_time": "2023-05-11T14:13:49.548592Z",
     "end_time": "2023-05-11T14:13:51.753401Z"
    }
   }
  },
  {
   "cell_type": "code",
   "execution_count": null,
   "outputs": [],
   "source": [
    "print('Encodeproject.org ATAC/TFs/ChIPseq SELECTED REPROCESSED MACS2')\n",
    "plot_boxes(df_encodeprojectorg_reprocessed_peaks, 'length', 'Length by modification',\n",
    "           violin=False, log=True, minx=30, maxx=2e3,\n",
    "           order=['CTCF', 'ATAC', 'H2AFZ', 'H3K27ac', 'H3K4me3', 'H3K4me1', 'H3K27me3', 'H3K36me3'])\n",
    "plt.show()"
   ],
   "metadata": {
    "collapsed": false,
    "ExecuteTime": {
     "start_time": "2023-05-11T14:13:51.592161Z",
     "end_time": "2023-05-11T14:13:52.073672Z"
    }
   }
  },
  {
   "cell_type": "markdown",
   "source": [
    "# Encode reprocessed with SPAN"
   ],
   "metadata": {
    "collapsed": false
   }
  },
  {
   "cell_type": "code",
   "execution_count": null,
   "outputs": [],
   "source": [
    "ENCODE_REPROCESSED_SPAN_PATH = os.path.expanduser('~/data/2022_atac_chipseq_encode/span')\n",
    "df_encodeprojectorg_reprocessed_span = find_peak_files(\n",
    "    ENCODE_REPROCESSED_SPAN_PATH, '.peak', ENCODE_REPROCESSED_CELLS, ENCODE_REPROCESSED_MODIFICATIONS,\n",
    "    ['rep1', 'rep2'],\n",
    "    FDRS\n",
    ")\n",
    "df_encodeprojectorg_reprocessed_span['tool'] = 'Span'\n",
    "df_encodeprojectorg_reprocessed_span.sample(3)"
   ],
   "metadata": {
    "collapsed": false,
    "ExecuteTime": {
     "start_time": "2023-05-11T14:13:51.953404Z",
     "end_time": "2023-05-11T14:13:52.073773Z"
    }
   }
  },
  {
   "cell_type": "code",
   "execution_count": null,
   "outputs": [],
   "source": [
    "df_encodeprojectorg_reprocessed_span_peaks = load_peaks(df_encodeprojectorg_reprocessed_span)\n",
    "display(df_encodeprojectorg_reprocessed_span_peaks.sample(5))"
   ],
   "metadata": {
    "collapsed": false,
    "ExecuteTime": {
     "start_time": "2023-05-11T14:13:52.015539Z",
     "end_time": "2023-05-11T14:13:53.392693Z"
    }
   }
  },
  {
   "cell_type": "code",
   "execution_count": null,
   "outputs": [],
   "source": [
    "print('Encodeproject.org ATAC/TFs/ChIPseq SELECTED REPROCESSED SPAN')\n",
    "plot_boxes(df_encodeprojectorg_reprocessed_span_peaks, 'length', 'Length by modification',\n",
    "           violin=False, log=True, minx=100, maxx=1e5,\n",
    "           order=['CTCF', 'ATAC', 'H2AFZ', 'H3K27ac', 'H3K4me3', 'H3K4me1', 'H3K27me3', 'H3K36me3'])\n",
    "plt.show()"
   ],
   "metadata": {
    "collapsed": false,
    "ExecuteTime": {
     "start_time": "2023-05-11T14:13:53.359598Z",
     "end_time": "2023-05-11T14:13:53.950233Z"
    }
   }
  },
  {
   "cell_type": "markdown",
   "source": [
    "# GSE26320_RAW reprocessed"
   ],
   "metadata": {
    "collapsed": false
   }
  },
  {
   "cell_type": "code",
   "execution_count": null,
   "outputs": [],
   "source": [
    "GSE26320_PATH = os.path.expanduser('~/data/2023_GSE26320')\n",
    "GSE26320_CELLS = ['GM12878', 'HMEC', 'HSMM', 'K562', 'NHEK', 'NHLF', 'H1', 'Huvec', 'HepG2']\n",
    "GSE26320_MODIFICATIONS = ['CTCF', 'H3K27ac', 'H3K27me3', 'H3K36me3', 'H3K4me1', 'H3K4me3']\n",
    "GSE26320_REPS = ['rep1', 'rep2']"
   ],
   "metadata": {
    "collapsed": false,
    "ExecuteTime": {
     "start_time": "2023-05-11T14:13:53.721884Z",
     "end_time": "2023-05-11T14:13:53.950317Z"
    }
   }
  },
  {
   "cell_type": "code",
   "execution_count": null,
   "outputs": [],
   "source": [
    "GSE26320_MACS2_DIR = os.path.join(GSE26320_PATH, os.path.expanduser('macs2'))\n",
    "\n",
    "MACS2_FDRS = ['0.05']\n",
    "df_gse26320_macs2 = find_peak_files(\n",
    "    GSE26320_MACS2_DIR, '.narrowPeak', GSE26320_CELLS, GSE26320_MODIFICATIONS, GSE26320_REPS, MACS2_FDRS\n",
    ")\n",
    "df_gse26320_macs2['tool'] = 'MACS2'\n",
    "\n",
    "df_gse26320_macs2broad = find_peak_files(\n",
    "    GSE26320_MACS2_DIR, '.broadPeak', GSE26320_CELLS, GSE26320_MODIFICATIONS, GSE26320_REPS, MACS2_FDRS\n",
    ")\n",
    "df_gse26320_macs2broad['tool'] = 'MACS2 broad'\n",
    "\n",
    "GSE26320_SICER_DIR = os.path.join(GSE26320_PATH, os.path.expanduser('sicer'))\n",
    "GSE26320_SICER_FDRS = ['0.01']\n",
    "df_gse26320_sicer = find_peak_files(\n",
    "    GSE26320_SICER_DIR, 'summary-FDR', GSE26320_CELLS, GSE26320_MODIFICATIONS,\n",
    "    GSE26320_REPS, GSE26320_SICER_FDRS\n",
    ")\n",
    "df_gse26320_sicer['tool'] = 'SICER'\n",
    "\n",
    "GSE26320_SPAN_DIR = os.path.join(GSE26320_PATH, os.path.expanduser('span'))\n",
    "GSE26320_SPAN_FDRS = ['0.05']\n",
    "df_gse26320_span = find_peak_files(\n",
    "    GSE26320_SPAN_DIR, '.peak', GSE26320_CELLS, GSE26320_MODIFICATIONS, GSE26320_REPS, GSE26320_SPAN_FDRS\n",
    ")\n",
    "df_gse26320_span['tool'] = 'SPAN'\n",
    "\n",
    "df_gse26320 = pd.concat(\n",
    "    [df_gse26320_macs2, df_gse26320_macs2broad, df_gse26320_sicer, df_gse26320_span]\n",
    ").reset_index(drop=True)\n",
    "df_gse26320.sample(10)"
   ],
   "metadata": {
    "collapsed": false,
    "ExecuteTime": {
     "start_time": "2023-05-11T14:13:53.721904Z",
     "end_time": "2023-05-11T14:13:54.104641Z"
    }
   }
  },
  {
   "cell_type": "code",
   "execution_count": null,
   "outputs": [],
   "source": [
    "df_gse26320_peaks = load_peaks(df_gse26320)\n",
    "df_gse26320_peaks"
   ],
   "metadata": {
    "collapsed": false,
    "ExecuteTime": {
     "start_time": "2023-05-11T14:13:54.067036Z",
     "end_time": "2023-05-11T14:14:31.151139Z"
    }
   }
  },
  {
   "cell_type": "code",
   "execution_count": null,
   "outputs": [],
   "source": [
    "def plot_kde(te, value, title, hue='modification', order=None, figx=8, figy=3, minx=1, maxx=1e5, maxy=2.5):\n",
    "    plt.figure(figsize=(figx, figy))\n",
    "    ax = plt.axes()\n",
    "    g_results = sns.kdeplot(data=te, x=value, hue=hue,\n",
    "                            common_norm=False,\n",
    "                            log_scale=True,\n",
    "                            hue_order=order)\n",
    "    g_results.set(xscale='log')\n",
    "    g_results.set_ylim(0, maxy)\n",
    "    g_results.set_xlim(minx, maxx)\n",
    "    ax.title.set_text(title)\n",
    "    plt.tight_layout()"
   ],
   "metadata": {
    "collapsed": false,
    "ExecuteTime": {
     "start_time": "2023-05-11T14:14:31.149622Z",
     "end_time": "2023-05-11T14:14:31.151650Z"
    }
   }
  },
  {
   "cell_type": "code",
   "execution_count": null,
   "outputs": [],
   "source": [
    "print('GSE26320 REPROCESSED  Length of peaks')\n",
    "plot_kde(df_gse26320_peaks, 'length', 'Peaks length',\n",
    "         order=['CTCF', 'H3K27ac', 'H3K4me3', 'H3K4me1', 'H3K27me3', 'H3K36me3'],\n",
    "         minx=5e1, maxx=1e5)\n",
    "plt.savefig(f'{GSE26320_PATH}/pics/modifications_lengths.pdf', bbox_inches='tight', dpi=300)\n",
    "plt.show()"
   ],
   "metadata": {
    "collapsed": false,
    "ExecuteTime": {
     "start_time": "2023-05-11T14:14:31.149812Z",
     "end_time": "2023-05-11T14:14:38.538798Z"
    }
   }
  },
  {
   "cell_type": "code",
   "execution_count": null,
   "outputs": [],
   "source": [
    "for tool in ['MACS2', 'MACS2 broad', 'SPAN', 'SICER']:\n",
    "    print(tool)\n",
    "    plot_kde(df_gse26320_peaks[df_gse26320_peaks['tool'] == tool], 'length', f'{tool} Peaks length',\n",
    "             order=['CTCF', 'H3K27ac', 'H3K4me3', 'H3K4me1', 'H3K27me3', 'H3K36me3'],\n",
    "             minx=5e1, maxx=1e5)\n",
    "    plt.savefig(f'{GSE26320_PATH}/pics/modifications_{tool}_lengths.pdf', bbox_inches='tight', dpi=300)\n",
    "    plt.show()"
   ],
   "metadata": {
    "collapsed": false,
    "ExecuteTime": {
     "start_time": "2023-05-11T14:14:38.563173Z",
     "end_time": "2023-05-11T14:14:48.607067Z"
    }
   }
  },
  {
   "cell_type": "code",
   "execution_count": null,
   "outputs": [],
   "source": [
    "print('GSE26320 REPROCESSED Length of peaks')\n",
    "plot_boxes(df_gse26320_peaks, 'length', 'Length by modification',\n",
    "           log=True, violin=False, minx=5e1, maxx=1e5,\n",
    "           order=['CTCF', 'H3K27ac', 'H3K4me3', 'H3K4me1', 'H3K27me3', 'H3K36me3'],\n",
    "           )\n",
    "plt.show()"
   ],
   "metadata": {
    "collapsed": false,
    "ExecuteTime": {
     "start_time": "2023-05-11T14:14:48.605784Z",
     "end_time": "2023-05-11T14:14:49.379844Z"
    }
   }
  },
  {
   "cell_type": "code",
   "execution_count": null,
   "outputs": [],
   "source": [
    "print('GSE26320 REPROCESSED Length of peaks')\n",
    "for tool in ['MACS2', 'MACS2 broad', 'SPAN', 'SICER']:\n",
    "    print(tool)\n",
    "    plot_boxes(df_gse26320_peaks[df_gse26320_peaks['tool'] == tool], 'length', f'{tool} Peaks length',\n",
    "               log=True, violin=False, minx=5e1, maxx=1e5,\n",
    "               order=['CTCF', 'H3K27ac', 'H3K4me3', 'H3K4me1', 'H3K27me3', 'H3K36me3'])\n",
    "    plt.show()"
   ],
   "metadata": {
    "collapsed": false,
    "ExecuteTime": {
     "start_time": "2023-05-11T14:14:49.389234Z",
     "end_time": "2023-05-11T14:14:51.664326Z"
    }
   }
  },
  {
   "cell_type": "code",
   "execution_count": null,
   "outputs": [],
   "source": [
    "from math import floor\n",
    "\n",
    "def compute_length_percentiles(ts, steps = 10):\n",
    "    percentiles = []\n",
    "    for m in set(ts['modification']):\n",
    "        tm = ts[ts['modification'] == m].copy()\n",
    "        tm.sort_values(by=['length'], inplace=True)\n",
    "        tmn = int(floor(len(tm) / steps))\n",
    "        for i in range(steps):\n",
    "            p = int(100 / steps * (i + 1))\n",
    "            percentiles.extend((m, p, v) for v in tm['length'].values[i * tmn: (i + 1) * tmn])\n",
    "\n",
    "    return pd.DataFrame(columns=['modification', 'percentile', 'length'], data=percentiles)\n",
    "\n",
    "def plot_percentiles(df, title, miny=5e1, maxy=1e5):\n",
    "    percentiles_df = compute_length_percentiles(df)\n",
    "    plt.figure(figsize=(8, 6))\n",
    "    ax = plt.axes()\n",
    "    g_results = sns.boxplot(data=percentiles_df, x=\"percentile\", y=\"length\", hue=\"modification\",\n",
    "                            hue_order=['CTCF', 'H3K27ac', 'H3K4me3', 'H3K4me1', 'H3K27me3', 'H3K36me3'])\n",
    "    sample_count = list(\n",
    "        filter(lambda y: miny <= y <= maxy,\n",
    "               [10, 20, 50, 100, 200, 500, 1000, 2000, 5000,\n",
    "                10_000, 20_000, 50_000, 100_000, 200_000, 500_000, 1_000_000])\n",
    "    )\n",
    "    g_results.set(yscale='log')\n",
    "    g_results.set(yticks=sample_count)\n",
    "    g_results.set(yticklabels=sample_count)\n",
    "    ax.set_ylim(miny, maxy)\n",
    "    ax.title.set_text(title)"
   ],
   "metadata": {
    "collapsed": false,
    "ExecuteTime": {
     "start_time": "2023-05-11T14:31:28.206622Z",
     "end_time": "2023-05-11T14:31:28.457077Z"
    }
   }
  },
  {
   "cell_type": "code",
   "execution_count": null,
   "outputs": [],
   "source": [
    "plot_percentiles(df_gse26320_peaks[df_gse26320_peaks['tool'] == 'MACS2'], 'MACS2 percentile average lengths')\n",
    "plt.show()"
   ],
   "metadata": {
    "collapsed": false,
    "ExecuteTime": {
     "start_time": "2023-05-11T14:31:28.604667Z",
     "end_time": "2023-05-11T14:31:31.062330Z"
    }
   }
  },
  {
   "cell_type": "code",
   "execution_count": null,
   "outputs": [],
   "source": [
    "plot_percentiles(df_gse26320_peaks[df_gse26320_peaks['tool'] == 'MACS2 broad'], 'MACS2 broad percentile average lengths')\n",
    "plt.show()"
   ],
   "metadata": {
    "collapsed": false,
    "ExecuteTime": {
     "start_time": "2023-05-11T14:31:31.017365Z",
     "end_time": "2023-05-11T14:31:33.099011Z"
    }
   }
  },
  {
   "cell_type": "code",
   "execution_count": null,
   "outputs": [],
   "source": [
    "plot_percentiles(df_gse26320_peaks[df_gse26320_peaks['tool'] == 'SICER'], 'SICER percentile average lengths')\n",
    "plt.show()"
   ],
   "metadata": {
    "collapsed": false,
    "ExecuteTime": {
     "start_time": "2023-05-11T14:31:33.098060Z",
     "end_time": "2023-05-11T14:31:35.655595Z"
    }
   }
  },
  {
   "cell_type": "code",
   "execution_count": null,
   "outputs": [],
   "source": [
    "plot_percentiles(df_gse26320_peaks[df_gse26320_peaks['tool'] == 'SPAN'], 'SPAN percentile average lengths')\n",
    "plt.show()"
   ],
   "metadata": {
    "collapsed": false,
    "ExecuteTime": {
     "start_time": "2023-05-11T14:31:35.712883Z",
     "end_time": "2023-05-11T14:31:38.143687Z"
    }
   }
  },
  {
   "cell_type": "markdown",
   "source": [
    "# Distance between peaks"
   ],
   "metadata": {
    "collapsed": false
   }
  },
  {
   "cell_type": "code",
   "execution_count": null,
   "outputs": [],
   "source": [
    "from itertools import product\n",
    "\n",
    "def distance_between_peaks(df, hue='modification'):\n",
    "    distances = []\n",
    "    for (m, t, f), dft in tqdm(df.groupby([hue, 'tool', 'file'])):\n",
    "        for chr in sorted(set(dft['chromosome'])):\n",
    "            dftc = dft[dft['chromosome'] == chr].copy().sort_values(by=['start'])\n",
    "            starts = dftc['start']\n",
    "            ends = dftc['end']\n",
    "            ends = np.roll(ends, 1)\n",
    "            ds = starts - ends\n",
    "            # Ignore first and last\n",
    "            distances.extend((m, t, f, chr, d) for d in ds[1: ds.size - 1])\n",
    "    return pd.DataFrame(columns=[hue, 'tool', 'file', 'chr', 'distance'], data=distances)"
   ],
   "metadata": {
    "collapsed": false,
    "ExecuteTime": {
     "start_time": "2023-05-11T14:14:54.655573Z",
     "end_time": "2023-05-11T14:14:54.685048Z"
    }
   }
  },
  {
   "cell_type": "code",
   "execution_count": null,
   "outputs": [],
   "source": [
    "df_gse26320_distances = distance_between_peaks(df_gse26320_peaks)\n",
    "df_gse26320_distances"
   ],
   "metadata": {
    "collapsed": false,
    "ExecuteTime": {
     "start_time": "2023-05-11T14:14:54.669943Z",
     "end_time": "2023-05-11T14:15:07.015687Z"
    }
   }
  },
  {
   "cell_type": "code",
   "execution_count": null,
   "outputs": [],
   "source": [
    "print('GSE26320 REPROCESSED Length of peaks')\n",
    "for tool in ['MACS2', 'MACS2 broad', 'SPAN', 'SICER']:\n",
    "    print(tool)\n",
    "    plot_boxes(df_gse26320_distances[df_gse26320_distances['tool'] == tool],\n",
    "               'distance', 'Distance between peaks by modification',\n",
    "               log=True, violin=False, minx=10, maxx=1e6,\n",
    "               order=['CTCF', 'H3K27ac', 'H3K4me3', 'H3K4me1', 'H3K27me3', 'H3K36me3'])\n",
    "    plt.show()"
   ],
   "metadata": {
    "collapsed": false,
    "ExecuteTime": {
     "start_time": "2023-05-11T14:15:07.039438Z",
     "end_time": "2023-05-11T14:15:09.455569Z"
    }
   }
  },
  {
   "cell_type": "code",
   "execution_count": null,
   "outputs": [],
   "source": [
    "print('GSE26320 REPROCESSED Length of peaks')\n",
    "for tool in ['MACS2', 'MACS2 broad', 'SPAN', 'SICER']:\n",
    "    print(tool)\n",
    "    plot_kde(df_gse26320_distances[df_gse26320_distances['tool'] == tool],\n",
    "             'distance', f'{tool} distance between peaks',\n",
    "             order=['CTCF', 'H3K27ac', 'H3K4me3', 'H3K4me1', 'H3K27me3', 'H3K36me3'],\n",
    "             minx=50, maxx=2e6, maxy=0.75)\n",
    "    plt.show()"
   ],
   "metadata": {
    "collapsed": false,
    "ExecuteTime": {
     "start_time": "2023-05-11T14:15:09.468762Z",
     "end_time": "2023-05-11T14:15:18.163119Z"
    }
   }
  },
  {
   "cell_type": "markdown",
   "source": [
    "# hg38 genes length and distance between genes"
   ],
   "metadata": {
    "collapsed": false
   }
  },
  {
   "cell_type": "code",
   "execution_count": null,
   "outputs": [],
   "source": [
    "GTF = os.path.expanduser(\n",
    "    '~/data/2023_Immune/gencode.GRCh38.p13.v41.annotation.gtf')\n",
    "gtf_df = pd.read_csv(os.path.join(GSE26320_PATH, GTF), sep='\\t', comment='#',\n",
    "                     names=['chromosome', 'db', 'type', 'start', 'end', 'point1', 'strand', 'point2', 'aux'])\n",
    "gtf_df.sample(10)"
   ],
   "metadata": {
    "collapsed": false,
    "ExecuteTime": {
     "start_time": "2023-05-11T14:15:18.161995Z",
     "end_time": "2023-05-11T14:15:27.044094Z"
    }
   }
  },
  {
   "cell_type": "code",
   "execution_count": null,
   "outputs": [],
   "source": [
    "print('Parse GTF aux data')\n",
    "auxes = {}\n",
    "for i, aux in enumerate(tqdm(gtf_df['aux'])):\n",
    "    for pair in aux.split(';'):\n",
    "        kv = pair.strip().split(' ')\n",
    "        if len(kv) != 2:\n",
    "            continue\n",
    "        k, v = kv\n",
    "        if k not in auxes:\n",
    "            auxes[k] = vs = []\n",
    "        else:\n",
    "            vs = auxes[k]\n",
    "        vs.append(v.strip('\"'))\n",
    "\n",
    "for k, vs in auxes.items():\n",
    "    if len(vs) == len(gtf_df):\n",
    "        gtf_df[k] = vs\n",
    "    else:\n",
    "        print(f'Ignoring {k}')\n",
    "del auxes\n",
    "gtf_df.drop('aux', axis=1, inplace=True)\n",
    "gtf_df.sample(3)"
   ],
   "metadata": {
    "collapsed": false,
    "ExecuteTime": {
     "start_time": "2023-05-11T14:15:27.058257Z",
     "end_time": "2023-05-11T14:15:58.758926Z"
    }
   }
  },
  {
   "cell_type": "code",
   "execution_count": null,
   "outputs": [],
   "source": [
    "gtf_df['length'] = gtf_df['end'] - gtf_df['start']\n",
    "gtf_df[gtf_df['type'] == 'gene'].sample(5)"
   ],
   "metadata": {
    "collapsed": false,
    "ExecuteTime": {
     "start_time": "2023-05-11T14:15:58.763464Z",
     "end_time": "2023-05-11T14:15:59.000297Z"
    }
   }
  },
  {
   "cell_type": "code",
   "execution_count": null,
   "outputs": [],
   "source": [
    "print('GTF all genes lengths')\n",
    "gtf_genes_df = gtf_df[gtf_df['type'] == 'gene'].copy()\n",
    "plot_boxes(gtf_genes_df, 'length', 'Length of genes',\n",
    "           hue='gene_type',\n",
    "           log=True, violin=False, minx=5, maxx=2_000_000)\n",
    "plt.show()"
   ],
   "metadata": {
    "collapsed": false,
    "ExecuteTime": {
     "start_time": "2023-05-11T14:15:59.080143Z",
     "end_time": "2023-05-11T14:16:00.282071Z"
    }
   }
  },
  {
   "cell_type": "code",
   "execution_count": null,
   "outputs": [],
   "source": [
    "print('GTF all genes lengths')\n",
    "plot_kde(gtf_genes_df, 'length', 'Length of genes', hue='gene_type', figx=15, figy=10, minx=5, maxx=2e6, maxy=23)\n",
    "plt.show()"
   ],
   "metadata": {
    "collapsed": false,
    "ExecuteTime": {
     "start_time": "2023-05-11T14:16:00.281008Z",
     "end_time": "2023-05-11T14:16:01.791074Z"
    }
   }
  },
  {
   "cell_type": "code",
   "execution_count": null,
   "outputs": [],
   "source": [
    "GENES_TYPES = ['protein_coding', 'pseudogene']\n",
    "# GENES_TYPES = ['protein_coding']\n",
    "print('GTF genes lengths')\n",
    "gtf_genes_df2 = gtf_genes_df[gtf_genes_df['gene_type'].isin(GENES_TYPES)].copy()\n",
    "plot_boxes(gtf_genes_df2, 'length', 'Length of genes', hue='gene_type',\n",
    "           log=True, violin=False, minx=10, maxx=2_000_000,\n",
    "           order=['protein_coding', 'pseudogene'])\n",
    "gtf_genes_df2['file'] = 'gtf'\n",
    "gtf_genes_df2['tool'] = 'gtf'\n",
    "plt.show()"
   ],
   "metadata": {
    "collapsed": false,
    "ExecuteTime": {
     "start_time": "2023-05-11T14:16:01.790887Z",
     "end_time": "2023-05-11T14:16:01.884129Z"
    }
   }
  },
  {
   "cell_type": "code",
   "execution_count": null,
   "outputs": [],
   "source": [
    "print('GTF all genes lengths')\n",
    "plot_kde(gtf_genes_df2, 'length', 'Length of genes', hue='gene_type', order=GENES_TYPES,\n",
    "         minx=10, maxx=2e6, maxy=2)\n",
    "plt.show()"
   ],
   "metadata": {
    "collapsed": false,
    "ExecuteTime": {
     "start_time": "2023-05-11T14:16:01.818008Z",
     "end_time": "2023-05-11T14:16:02.499850Z"
    }
   }
  },
  {
   "cell_type": "code",
   "execution_count": null,
   "outputs": [],
   "source": [
    "print('GSE26320 Lengths of peaks and genes')\n",
    "for tool in ['MACS2', 'MACS2 broad', 'SPAN', 'SICER']:\n",
    "    print(tool)\n",
    "    ts = df_gse26320_peaks[df_gse26320_peaks['tool'] == tool]\n",
    "    tss = pd.concat([ts, gtf_genes_df2.rename({'gene_type': 'modification'}, axis=1)]).reset_index()\n",
    "    plot_kde(tss,\n",
    "             'length', f'{tool} peaks lengths',\n",
    "             order=['CTCF', 'H3K27ac', 'H3K4me3', 'H3K4me1', 'H3K27me3', 'H3K36me3'] + GENES_TYPES,\n",
    "             minx=100, maxx=2e6, maxy=2)\n",
    "    plt.show()"
   ],
   "metadata": {
    "collapsed": false,
    "ExecuteTime": {
     "start_time": "2023-05-11T14:16:02.498344Z",
     "end_time": "2023-05-11T14:16:12.436016Z"
    }
   }
  },
  {
   "cell_type": "code",
   "execution_count": null,
   "outputs": [],
   "source": [
    "gtf_genes_df_distances = distance_between_peaks(gtf_genes_df2, hue='gene_type')\n",
    "gtf_genes_df_distances"
   ],
   "metadata": {
    "collapsed": false,
    "ExecuteTime": {
     "start_time": "2023-05-11T14:16:12.420818Z",
     "end_time": "2023-05-11T14:16:12.463117Z"
    }
   }
  },
  {
   "cell_type": "code",
   "execution_count": null,
   "outputs": [],
   "source": [
    "print('Distance between genes')\n",
    "plot_boxes(gtf_genes_df_distances, 'distance', 'Distance between genes', hue='gene_type',\n",
    "           log=True, violin=False, minx=1, maxx=5e6,\n",
    "           order=GENES_TYPES)\n",
    "plt.show()"
   ],
   "metadata": {
    "collapsed": false,
    "ExecuteTime": {
     "start_time": "2023-05-11T14:16:12.453521Z",
     "end_time": "2023-05-11T14:16:12.937857Z"
    }
   }
  },
  {
   "cell_type": "code",
   "execution_count": null,
   "outputs": [],
   "source": [
    "print('Distance between genes')\n",
    "plot_kde(gtf_genes_df_distances[gtf_genes_df_distances['distance'] > 10],\n",
    "         'distance', 'Distance between genes', hue='gene_type',\n",
    "         order=GENES_TYPES,\n",
    "         minx=10, maxx=5e6, maxy=0.6)\n",
    "plt.show()"
   ],
   "metadata": {
    "collapsed": false,
    "ExecuteTime": {
     "start_time": "2023-05-11T14:16:12.935674Z",
     "end_time": "2023-05-11T14:16:13.550509Z"
    }
   }
  },
  {
   "cell_type": "code",
   "execution_count": null,
   "outputs": [],
   "source": [
    "print('GSE26320 Distances between peaks and genes')\n",
    "for tool in ['MACS2', 'MACS2 broad', 'SPAN', 'SICER']:\n",
    "    print(tool)\n",
    "    ts = df_gse26320_distances[df_gse26320_distances['tool'] == tool]\n",
    "    tss = pd.concat([ts, gtf_genes_df_distances.rename({'gene_type': 'modification'}, axis=1)]).reset_index()\n",
    "    tss = tss[tss['distance'] > 10]\n",
    "    plot_kde(tss,\n",
    "             'distance', f'{tool} distance',\n",
    "             order=['CTCF', 'H3K27ac', 'H3K4me3', 'H3K4me1', 'H3K27me3', 'H3K36me3'] + GENES_TYPES,\n",
    "             minx=50, maxx=2e6, maxy=0.8)\n",
    "    plt.savefig(f'{GSE26320_PATH}/pics/distances_{tool}.pdf', bbox_inches='tight', dpi=300)\n",
    "    plt.show()"
   ],
   "metadata": {
    "collapsed": false,
    "ExecuteTime": {
     "start_time": "2023-05-11T14:16:13.526447Z",
     "end_time": "2023-05-11T14:16:24.566386Z"
    }
   }
  },
  {
   "cell_type": "markdown",
   "source": [
    "# Immgen ATAC-seq reprocessed"
   ],
   "metadata": {
    "collapsed": false
   }
  },
  {
   "cell_type": "code",
   "execution_count": null,
   "outputs": [],
   "source": [
    "IMMGEN_PATH = os.path.expanduser('~/data/2022_Immgen')\n",
    "IMMGEN_CELLS = ['Monocyte']\n",
    "IMMGEN_MODIFICATIONS = ['ATAC']\n",
    "\n",
    "IMMGEN_MACS2_DIR = os.path.join(IMMGEN_PATH, os.path.expanduser('macs2'))\n",
    "# MACS2_FDRS = ['0.1', '0.01', '0.05', '1e-3', '1-e4', '1e-6', '1e-8', '1e-10']\n",
    "MACS2_FDRS = ['0.05']\n",
    "df_immgen = find_peak_files(IMMGEN_MACS2_DIR, '.narrowPeak', IMMGEN_CELLS, IMMGEN_MODIFICATIONS, [''], MACS2_FDRS)\n",
    "df_immgen['tool'] = 'Macs2'\n",
    "df_immgen['dir'] = IMMGEN_MACS2_DIR\n",
    "df_immgen.sample(3)"
   ],
   "metadata": {
    "collapsed": false,
    "ExecuteTime": {
     "start_time": "2023-05-11T14:16:24.602172Z",
     "end_time": "2023-05-11T14:16:24.629383Z"
    }
   }
  },
  {
   "cell_type": "code",
   "execution_count": null,
   "outputs": [],
   "source": [
    "ts = load_peaks(df_immgen)\n",
    "ts"
   ],
   "metadata": {
    "collapsed": false,
    "ExecuteTime": {
     "start_time": "2023-05-11T14:16:24.605320Z",
     "end_time": "2023-05-11T14:16:24.852122Z"
    }
   }
  },
  {
   "cell_type": "code",
   "execution_count": null,
   "outputs": [],
   "source": [
    "print('Immgen MACS2 REPROCESSED Length of peaks')\n",
    "plot_boxes(ts, 'length', 'Length by modification',\n",
    "           log=True, violin=False, minx=5e1, maxx=3e3)\n",
    "plt.show()"
   ],
   "metadata": {
    "collapsed": false,
    "ExecuteTime": {
     "start_time": "2023-05-11T14:16:24.863122Z",
     "end_time": "2023-05-11T14:16:25.122455Z"
    }
   }
  },
  {
   "cell_type": "code",
   "execution_count": null,
   "outputs": [],
   "source": [
    "print('Immgen MACS2 REPROCESSED Length of peaks')\n",
    "plot_kde(ts, 'length', 'MACS2 Peaks lengths', minx=5e1, maxx=3e3, maxy=3.2)\n",
    "plt.show()"
   ],
   "metadata": {
    "collapsed": false,
    "ExecuteTime": {
     "start_time": "2023-05-11T14:16:25.102564Z",
     "end_time": "2023-05-11T14:16:25.505119Z"
    }
   }
  },
  {
   "cell_type": "code",
   "execution_count": null,
   "outputs": [],
   "source": [
    "IMMGEN_SPAN_DIR = os.path.join(IMMGEN_PATH, 'span')\n",
    "# MACS2_FDRS = ['0.1', '0.01', '0.05', '1e-3', '1-e4', '1e-6', '1e-8', '1e-10']\n",
    "df_immgen_span = find_peak_files(IMMGEN_SPAN_DIR, '.peak', IMMGEN_CELLS, IMMGEN_MODIFICATIONS, [''], MACS2_FDRS)\n",
    "df_immgen_span['tool'] = 'SPAN'\n",
    "df_immgen_span['dir'] = IMMGEN_SPAN_DIR\n",
    "df_immgen_span"
   ],
   "metadata": {
    "collapsed": false,
    "ExecuteTime": {
     "start_time": "2023-05-11T14:16:25.504913Z",
     "end_time": "2023-05-11T14:16:25.513927Z"
    }
   }
  },
  {
   "cell_type": "code",
   "execution_count": null,
   "outputs": [],
   "source": [
    "ts = load_peaks(df_immgen_span)\n",
    "ts"
   ],
   "metadata": {
    "collapsed": false,
    "ExecuteTime": {
     "start_time": "2023-05-11T14:16:25.530033Z",
     "end_time": "2023-05-11T14:16:25.952460Z"
    }
   }
  },
  {
   "cell_type": "code",
   "execution_count": null,
   "outputs": [],
   "source": [
    "print('Immgen SPAN REPROCESSED Length of peaks')\n",
    "plot_boxes(ts, 'length', 'Length by modification',\n",
    "           log=True, violin=False, minx=5e1, maxx=3e3)\n",
    "plt.show()"
   ],
   "metadata": {
    "collapsed": false,
    "ExecuteTime": {
     "start_time": "2023-05-11T14:16:25.963164Z",
     "end_time": "2023-05-11T14:16:26.259301Z"
    }
   }
  },
  {
   "cell_type": "code",
   "execution_count": null,
   "outputs": [],
   "source": [
    "print('Immgen SPAN REPROCESSED Length of peaks')\n",
    "plot_kde(ts, 'length', 'SPAN Peaks lengths', minx=5e1, maxx=3e3, maxy=3.2)\n",
    "plt.show()"
   ],
   "metadata": {
    "collapsed": false,
    "ExecuteTime": {
     "start_time": "2023-05-11T14:16:26.324066Z",
     "end_time": "2023-05-11T14:16:26.735028Z"
    }
   }
  },
  {
   "cell_type": "markdown",
   "source": [
    "# Theoretical peaks length"
   ],
   "metadata": {
    "collapsed": false
   }
  },
  {
   "cell_type": "code",
   "execution_count": null,
   "outputs": [],
   "source": [
    "data = {\n",
    "    'TF': np.random.negative_binomial(2000, 0.8, size=300) + 200,\n",
    "    'ATAC-seq': np.random.negative_binomial(1000, 0.6, size=250) + 500,\n",
    "    'H3K27ac / H3K4me3':  np.random.negative_binomial(100, 0.2, size=200) + 2000,\n",
    "    'H3K36me3 / H3K27me3': np.random.negative_binomial(5000, 0.4, size=2000)  * 50 - 350000,\n",
    "}\n",
    "t = pd.concat([\n",
    "    pd.DataFrame(data=dict(name=[name] * len(vals), length=vals))\n",
    "    for name, vals in data.items()\n",
    "]).reset_index(drop=True)\n",
    "\n",
    "plt.figure(figsize=(8, 3))\n",
    "ax = plt.axes()\n",
    "sns.kdeplot(data=t, x='length', hue='name',\n",
    "            common_norm=True,\n",
    "            log_scale=True,\n",
    "            ax=ax\n",
    "            )\n",
    "\n",
    "# g_results.set(xscale='log')\n",
    "# g_results.set_ylim(0, 3)\n",
    "# g_results.set_xlim(1e2, 2e4)\n",
    "plt.title('Peaks length')\n",
    "# Put a legend to the right of the current axis\n",
    "# ax.legend(loc='center left', bbox_to_anchor=(0.62, 0.82))\n",
    "\n",
    "plt.tight_layout()\n",
    "# ax.legend(loc='upper right')\n",
    "plt.savefig(f'{GSE26320_PATH}/pics/theoretical_lengths.pdf', bbox_inches='tight', dpi=300)\n",
    "plt.show()"
   ],
   "metadata": {
    "collapsed": false,
    "ExecuteTime": {
     "start_time": "2023-05-11T14:17:09.348278Z",
     "end_time": "2023-05-11T14:17:10.010262Z"
    }
   }
  },
  {
   "cell_type": "markdown",
   "source": [
    "# Peaks length for RoadmapEpigenomics"
   ],
   "metadata": {
    "collapsed": false
   }
  },
  {
   "cell_type": "code",
   "execution_count": null,
   "outputs": [],
   "source": [
    "PATH = os.path.expanduser('~/data/2023_Immune')\n",
    "\n",
    "IMMUNE_CELLS = ['BCell', 'TCell', 'Monocyte']\n",
    "MODIFICATIONS = ['H3K27ac', 'H3K4me3', 'H3K4me1', 'H3K36me3']\n"
   ],
   "metadata": {
    "collapsed": false,
    "ExecuteTime": {
     "start_time": "2023-05-11T14:16:27.458942Z",
     "end_time": "2023-05-11T14:16:27.503931Z"
    }
   }
  },
  {
   "cell_type": "code",
   "execution_count": null,
   "outputs": [],
   "source": [
    "df_roadmap_macs2 = find_peak_files(\n",
    "    os.path.join(PATH, 'macs2'), '.narrowPeak', IMMUNE_CELLS, MODIFICATIONS, [''], ['0.05']\n",
    ")\n",
    "df_roadmap_macs2['tool'] = 'MACS2'\n",
    "print('MACS2', len(df_roadmap_macs2))\n",
    "\n",
    "df_roadmap_macs2broad = find_peak_files(\n",
    "    os.path.join(PATH, 'macs2'), '.broadPeak', IMMUNE_CELLS, MODIFICATIONS,  [''], ['0.1']\n",
    ")\n",
    "df_roadmap_macs2broad['tool'] = 'MACS2 broad'\n",
    "print('MACS2 broad', len(df_roadmap_macs2broad))\n",
    "\n",
    "df_roadmap_sicer = find_peak_files(\n",
    "    os.path.join(PATH, 'sicer'), 'summary-FDR', IMMUNE_CELLS, MODIFICATIONS, [''], ['0.01']\n",
    ")\n",
    "df_roadmap_sicer['tool'] = 'SICER'\n",
    "print('SICER', len(df_roadmap_sicer))\n",
    "\n",
    "df_roadmap_span = find_peak_files(\n",
    "    os.path.join(PATH, 'span'), '.peak', IMMUNE_CELLS, MODIFICATIONS, [''], ['0.05']\n",
    ")\n",
    "df_roadmap_span['tool'] = 'SPAN'\n",
    "print('SPAN', len(df_roadmap_span))\n",
    "\n",
    "df_roadmap = pd.concat(\n",
    "    [df_roadmap_macs2, df_roadmap_macs2broad, df_roadmap_sicer, df_roadmap_span]\n",
    ").reset_index(drop=True)\n",
    "df_roadmap.sample(5)"
   ],
   "metadata": {
    "collapsed": false,
    "ExecuteTime": {
     "start_time": "2023-05-11T14:16:27.458977Z",
     "end_time": "2023-05-11T14:16:27.557511Z"
    }
   }
  },
  {
   "cell_type": "code",
   "execution_count": null,
   "outputs": [],
   "source": [
    "df_roadmap_peaks = load_peaks(df_roadmap)\n",
    "df_roadmap_peaks"
   ],
   "metadata": {
    "collapsed": false,
    "ExecuteTime": {
     "start_time": "2023-05-11T14:16:27.528892Z",
     "end_time": "2023-05-11T14:16:37.907123Z"
    }
   }
  },
  {
   "cell_type": "code",
   "execution_count": null,
   "outputs": [],
   "source": [
    "print('RoadmapEpigenomics REPROCESSED  Length of peaks')\n",
    "plot_kde(df_roadmap_peaks, 'length', 'Peaks length',\n",
    "         order=['H3K27ac', 'H3K4me3', 'H3K4me1', 'H3K36me3'],\n",
    "         minx=1e2, maxx=1e5)\n",
    "plt.savefig(f'{PATH}/pics/modifications_lengths.pdf', bbox_inches='tight', dpi=300)\n",
    "plt.show()"
   ],
   "metadata": {
    "collapsed": false,
    "ExecuteTime": {
     "start_time": "2023-05-11T14:16:37.915591Z",
     "end_time": "2023-05-11T14:16:39.648175Z"
    }
   }
  },
  {
   "cell_type": "code",
   "execution_count": null,
   "outputs": [],
   "source": [
    "for tool in ['MACS2', 'MACS2 broad', 'SPAN', 'SICER']:\n",
    "    print(tool)\n",
    "    plot_kde(df_gse26320_peaks[df_gse26320_peaks['tool'] == tool], 'length', f'{tool} Peaks length',\n",
    "             order=['H3K27ac', 'H3K4me3', 'H3K4me1', 'H3K36me3'],\n",
    "             minx=1e2, maxx=1e5)\n",
    "    plt.savefig(f'{PATH}/pics/modifications_{tool}_lengths.pdf', bbox_inches='tight', dpi=300)\n",
    "    plt.show()"
   ],
   "metadata": {
    "collapsed": false,
    "ExecuteTime": {
     "start_time": "2023-05-11T14:16:39.672381Z",
     "end_time": "2023-05-11T14:16:49.113470Z"
    }
   }
  },
  {
   "cell_type": "markdown",
   "source": [
    "# Merged Encode and RoadmapEpigenomics dataset"
   ],
   "metadata": {
    "collapsed": false
   }
  },
  {
   "cell_type": "code",
   "execution_count": null,
   "outputs": [],
   "source": [
    "df_roadmap_peaks['replicate'] = None\n",
    "t = pd.concat([df_gse26320_peaks, df_roadmap_peaks]).reset_index(drop=True)"
   ],
   "metadata": {
    "collapsed": false,
    "ExecuteTime": {
     "start_time": "2023-05-11T14:16:49.113227Z",
     "end_time": "2023-05-11T14:16:49.979746Z"
    }
   }
  },
  {
   "cell_type": "code",
   "execution_count": null,
   "outputs": [],
   "source": [
    "print('Merged REPROCESSED  Length of peaks')\n",
    "plot_kde(t, 'length', 'Peaks length',\n",
    "         order=['H3K27ac', 'H3K4me3', 'H3K4me1', 'H3K36me3'],\n",
    "         minx=1e2, maxx=1e5)\n",
    "plt.savefig(f'{GSE26320_PATH}/pics/merged_modifications_lengths.pdf', bbox_inches='tight', dpi=300)\n",
    "plt.show()"
   ],
   "metadata": {
    "collapsed": false,
    "ExecuteTime": {
     "start_time": "2023-05-11T14:16:49.979638Z",
     "end_time": "2023-05-11T14:16:58.435166Z"
    }
   }
  },
  {
   "cell_type": "code",
   "execution_count": null,
   "outputs": [],
   "source": [
    "for tool in ['MACS2', 'MACS2 broad', 'SPAN', 'SICER']:\n",
    "    print(tool)\n",
    "    plot_kde(t[t['tool'] == tool], 'length', f'{tool} Peaks length',\n",
    "             order=['H3K27ac', 'H3K4me3', 'H3K4me1', 'H3K36me3'],\n",
    "             minx=1e2, maxx=1e5)\n",
    "    plt.savefig(f'{GSE26320_PATH}/pics/merged_{tool}_modifications_lengths.pdf', bbox_inches='tight', dpi=300)\n",
    "    plt.show()"
   ],
   "metadata": {
    "collapsed": false,
    "ExecuteTime": {
     "start_time": "2023-05-11T14:16:58.473139Z",
     "end_time": "2023-05-11T14:17:09.347512Z"
    }
   }
  },
  {
   "cell_type": "markdown",
   "source": [
    "# END"
   ],
   "metadata": {
    "collapsed": false
   }
  },
  {
   "cell_type": "code",
   "execution_count": null,
   "outputs": [],
   "source": [],
   "metadata": {
    "collapsed": false,
    "ExecuteTime": {
     "start_time": "2023-05-11T14:13:10.260209Z",
     "end_time": "2023-05-11T14:13:10.260773Z"
    }
   }
  }
 ],
 "metadata": {
  "kernelspec": {
   "display_name": "Python 3",
   "language": "python",
   "name": "python3"
  },
  "language_info": {
   "codemirror_mode": {
    "name": "ipython",
    "version": 2
   },
   "file_extension": ".py",
   "mimetype": "text/x-python",
   "name": "python",
   "nbconvert_exporter": "python",
   "pygments_lexer": "ipython2",
   "version": "2.7.6"
  }
 },
 "nbformat": 4,
 "nbformat_minor": 0
}
