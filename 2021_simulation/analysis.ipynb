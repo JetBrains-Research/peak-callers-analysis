{
 "cells": [
  {
   "cell_type": "markdown",
   "metadata": {},
   "source": [
    "# Analysis of ChIP-seq simulation"
   ]
  },
  {
   "cell_type": "code",
   "execution_count": null,
   "metadata": {},
   "outputs": [],
   "source": [
    "%matplotlib inline\n",
    "%config InlineBackend.figure_format='retina'\n",
    "\n",
    "from IPython.display import display\n",
    "import pandas as pd\n",
    "import os\n",
    "import seaborn as sns\n",
    "sns.set_style(\"whitegrid\")\n",
    "import matplotlib.pyplot as plt\n",
    "from matplotlib.backends.backend_pdf import PdfPages\n",
    "import numpy as np\n",
    "from collections import OrderedDict, Counter"
   ]
  },
  {
   "cell_type": "code",
   "execution_count": null,
   "metadata": {},
   "outputs": [],
   "source": [
    "WORK_DIR = '/mnt/stripe/shpynov/2021_chips'\n",
    "\n",
    "FIGURES_DIR = '/mnt/stripe/shpynov/2021_chips/figures'\n",
    "! mkdir -p {FIGURES_DIR}\n",
    "! rm {FIGURES_DIR}/*"
   ]
  },
  {
   "cell_type": "markdown",
   "metadata": {},
   "source": [
    "# Chips models analysis"
   ]
  },
  {
   "cell_type": "code",
   "execution_count": null,
   "metadata": {},
   "outputs": [],
   "source": [
    "import json\n",
    "\n",
    "models_df = pd.DataFrame(columns=['Modification', 'Model', 'k', 'theta', 'prc_rate', 'f', 's'],\n",
    "                         dtype=object)\n",
    "for modification in ['H3K27ac', 'H3K27me3', 'H3K36me3', 'H3K4me1', 'H3K4me3']:\n",
    "    path = os.path.join(WORK_DIR, 'peaks', f'{modification}.json')\n",
    "    with open(path) as f:\n",
    "        m = json.load(f)\n",
    "        k, theta, prc_rate, f, s = m['frag']['k'], m['frag']['theta'], m['pcr_rate'], \\\n",
    "            m['pulldown']['f'], m['pulldown']['s']\n",
    "        models_df.loc[len(models_df)] = (modification, path, k, theta, prc_rate, f, s)\n",
    "models_df.to_csv(os.path.join(WORK_DIR, 'models.tsv'), sep='\\t', index=None)\n",
    "models_df"
   ]
  },
  {
   "cell_type": "code",
   "execution_count": null,
   "metadata": {},
   "outputs": [],
   "source": [
    "fig = plt.figure(figsize=(6, 6))\n",
    "sns.scatterplot(data=models_df, x='k', y='theta', hue='Modification', markers=True)\n",
    "plt.title(f'Fragment lengths gamma distribution')\n",
    "plt.savefig(os.path.join(FIGURES_DIR, f'models_fragments_gamma.pdf'))\n",
    "plt.show()"
   ]
  },
  {
   "cell_type": "code",
   "execution_count": null,
   "metadata": {},
   "outputs": [],
   "source": [
    "fig = plt.figure(figsize=(6, 6))\n",
    "sns.scatterplot(data=models_df, x='s', y='f', hue='Modification', markers=True)\n",
    "plt.title(f'Fraction of Reads in Peaks vs Bound Genome Fraction')\n",
    "plt.xlabel('Fraction of Reads in Peaks')\n",
    "plt.ylabel('Bound Genome Fraction')\n",
    "plt.savefig(os.path.join(FIGURES_DIR, f'models_frip_vs_bound_genome.pdf'))\n",
    "plt.show()"
   ]
  },
  {
   "cell_type": "markdown",
   "metadata": {},
   "source": [
    "# Report analysis"
   ]
  },
  {
   "cell_type": "code",
   "execution_count": null,
   "metadata": {},
   "outputs": [],
   "source": [
    "df = pd.read_csv(os.path.join(WORK_DIR, 'report.tsv'), sep='\\t', comment='#')\n",
    "\n",
    "# Focus on H3K4me3 now\n",
    "# df = df.loc[df['Modification'] == 'H3K4me3']\n",
    "\n",
    "# Focus on specific tools only\n",
    "df = df.loc[df['Tool'].isin(set(['Macs2', 'Macs2Broad', 'SICER', 'SPAN-GAP5']))]\n",
    "\n",
    "\n",
    "# Rename\n",
    "df.loc[df['Tool']=='Macs2Broad', 'Tool'] = 'Macs2 broad'\n",
    "df.loc[df['Tool']=='SPAN-GAP5', 'Tool'] = 'SPAN'\n",
    "\n",
    "# Fix SPAN default naming to avoid duplicate record\n",
    "df = df.loc[['_1E-6_' not in pf for pf in df['PeaksFile']]]\n",
    "df['Fdr'] = df['Fdr'].astype(float)\n",
    "\n",
    "# Remove relaxed FDR setting to avoid explosure in #peaks\n",
    "# df = df.loc[df['Fdr'] <= 0.05]\n",
    "df"
   ]
  },
  {
   "cell_type": "code",
   "execution_count": null,
   "metadata": {},
   "outputs": [],
   "source": [
    "df.sort_values(by=['Modification', 'Mult', 'Library', 'Tool', 'Fdr'], inplace=True)"
   ]
  },
  {
   "cell_type": "code",
   "execution_count": null,
   "metadata": {},
   "outputs": [],
   "source": [
    "df['TrueAverageLength'] = df['TrueLength'] / df['TruePeaks']\n",
    "df['AverageLength'] = df['Length'] / df['Peaks']\n",
    "df.fillna(0, inplace=True)"
   ]
  },
  {
   "cell_type": "code",
   "execution_count": null,
   "metadata": {},
   "outputs": [],
   "source": [
    "df['LogFdr'] = np.log10(df['Fdr'])\n",
    "df.loc[df['Fdr']==0.05, 'LogFdr'] = -1.3"
   ]
  },
  {
   "cell_type": "code",
   "execution_count": null,
   "metadata": {},
   "outputs": [],
   "source": [
    "df['PrecisionPeaks'] = df['Precision'].copy()\n",
    "df['RecallPeaks'] = df['Recall'].copy()\n",
    "df['Precision'] = df['Precision'] / df['TruePeaks']\n",
    "df['Recall'] = df['Recall'] / df['Peaks']\n",
    "df.sort_values(by=['Recall', 'Precision'], ascending=[True, False], inplace=True)\n",
    "df.fillna(1, inplace=True)"
   ]
  },
  {
   "cell_type": "code",
   "execution_count": null,
   "metadata": {},
   "outputs": [],
   "source": [
    "print('Limit peaks number for visual representation')\n",
    "df.loc[df['Peaks'] > 2000, 'Peaks'] = 2000\n",
    "print('Limit average length for visual representation')\n",
    "df.loc[df['AverageLength'] > 15000, 'AverageLength'] = 15000"
   ]
  },
  {
   "cell_type": "markdown",
   "metadata": {},
   "source": [
    "# Summary number of peaks"
   ]
  },
  {
   "cell_type": "code",
   "execution_count": null,
   "metadata": {},
   "outputs": [],
   "source": [
    "cmap = plt.cm.get_cmap('jet', len(set(df['Tool'])))\n",
    "palette = {t: cmap(i) for i, t in enumerate(sorted(set(df['Tool'])))}"
   ]
  },
  {
   "cell_type": "code",
   "execution_count": null,
   "metadata": {
    "scrolled": false
   },
   "outputs": [],
   "source": [
    "def summary_peaks_lengths(df, name):\n",
    "    for m in sorted(set(df['Modification'])):\n",
    "        t = df.loc[df['Modification'] == m].copy()\n",
    "        t.sort_values(by=['Tool', 'Fdr'], inplace=True)\n",
    "\n",
    "        fig = plt.figure(figsize=(15, 5))\n",
    "\n",
    "        ax = plt.subplot(1, 2, 1)\n",
    "        print('Peaks', m)\n",
    "        print(f\"True peaks {set(t['TruePeaks'])}\")\n",
    "        sns.boxplot(data=t, x=\"Fdr\", y=\"Peaks\", hue=\"Tool\", palette=palette)\n",
    "        plt.title(f'{m} {name}')\n",
    "        plt.xticks(rotation=45, ha='right')\n",
    "        plt.legend(loc='upper left')\n",
    "#             plt.ylim(-20, t['Peaks'].max() * 1.2)\n",
    "\n",
    "        ax = plt.subplot(1, 2, 2)            \n",
    "        print('Length', m)\n",
    "        print(f\"True average length {set(t['TrueAverageLength'])}\")        \n",
    "        sns.boxplot(data=t, x=\"Fdr\", y=\"AverageLength\", hue=\"Tool\", palette=palette)\n",
    "        plt.title(f'{m} {name}')\n",
    "        plt.xticks(rotation=45, ha='right')\n",
    "        plt.legend(loc='upper left')\n",
    "#             plt.ylim(-20, t['AverageLength'].max() * 1.2)\n",
    "\n",
    "        plt.savefig(os.path.join(FIGURES_DIR, f'summary_peaks_length_{name}_{m}.pdf'))\n",
    "        plt.show()        "
   ]
  },
  {
   "cell_type": "code",
   "execution_count": null,
   "metadata": {
    "scrolled": true
   },
   "outputs": [],
   "source": [
    "print('Summary number of peaks and length good quality')\n",
    "summary_peaks_lengths(df.loc[(df['Library'] == '1mln') & (df['Mult'] == 1.0)], 'good_quality')"
   ]
  },
  {
   "cell_type": "code",
   "execution_count": null,
   "metadata": {
    "scrolled": true
   },
   "outputs": [],
   "source": [
    "print('Summary number of peaks and length on low coverage')\n",
    "summary_peaks_lengths(df.loc[df['Library'] == '200k'], 'low_coverage')"
   ]
  },
  {
   "cell_type": "code",
   "execution_count": null,
   "metadata": {
    "scrolled": true
   },
   "outputs": [],
   "source": [
    "print('Summary number of peaks and length on low frip')\n",
    "summary_peaks_lengths(df.loc[df['Mult'] == 0.2], 'low_frip')"
   ]
  },
  {
   "cell_type": "code",
   "execution_count": null,
   "metadata": {},
   "outputs": [],
   "source": [
    "list(df.loc[(df['Mult'] == 0.2) & (df['Peaks'] > 1500) & (df['Tool'] == 'SPAN-GAP5')].head()['PeaksFile'])"
   ]
  },
  {
   "cell_type": "code",
   "execution_count": null,
   "metadata": {
    "scrolled": true
   },
   "outputs": [],
   "source": [
    "print('Summary number of peaks and length')\n",
    "summary_peaks_lengths(df, 'all')"
   ]
  },
  {
   "cell_type": "markdown",
   "metadata": {},
   "source": [
    "## Aggregated results"
   ]
  },
  {
   "cell_type": "code",
   "execution_count": null,
   "metadata": {},
   "outputs": [],
   "source": [
    "def aggregated_peaks_lengths(df):\n",
    "    ts = []\n",
    "    t = df.loc[(df['Library'] == '1mln') & (df['Mult'] == 1.0)].copy()\n",
    "    t['Quality'] = 'Good'\n",
    "    ts.append(t)\n",
    "    t = df.loc[df['Mult'] == 0.2].copy()\n",
    "    t['Quality'] = 'Low FRIP'\n",
    "    ts.append(t)    \n",
    "    t = df.loc[df['Library'] == '200k'].copy()\n",
    "    t['Quality'] = 'Low Coverage'\n",
    "    ts.append(t)\n",
    "    df = pd.concat(ts)\n",
    "    \n",
    "    for q in sorted(set(df['Quality'])):\n",
    "        t = df.loc[df['Quality'] == q].copy()\n",
    "        t.sort_values(by=['Modification', 'Tool', 'Fdr'], inplace=True)\n",
    "\n",
    "        fig = plt.figure(figsize=(12, 4))\n",
    "        print('Peaks', q)\n",
    "        print(f\"True peaks {set(t['TruePeaks'])}\")\n",
    "        sns.catplot(data=t, x=\"Tool\", y=\"Peaks\", hue=\"Fdr\", col=\"Modification\", \n",
    "                    kind=\"box\", aspect=.6, palette='mako')\n",
    "        plt.savefig(os.path.join(FIGURES_DIR, f'aggregated_peaks_{q}.pdf'))\n",
    "        plt.show() \n",
    "\n",
    "        fig = plt.figure(figsize=(12, 4))\n",
    "        print('Length', q)\n",
    "        print(f\"True average length {set(t['TrueAverageLength'])}\")        \n",
    "        sns.catplot(data=t, x=\"Tool\", y=\"AverageLength\", hue=\"Fdr\", col=\"Modification\", \n",
    "                    kind=\"box\", aspect=.6, palette='mako')\n",
    "\n",
    "        plt.savefig(os.path.join(FIGURES_DIR, f'aggregated_length_{q}.pdf'))\n",
    "        plt.show()        "
   ]
  },
  {
   "cell_type": "code",
   "execution_count": null,
   "metadata": {
    "scrolled": true
   },
   "outputs": [],
   "source": [
    "aggregated_peaks_lengths(df)"
   ]
  },
  {
   "cell_type": "code",
   "execution_count": null,
   "metadata": {},
   "outputs": [],
   "source": [
    "def aggregated_peaks_lengths_fdr(df, fdr):\n",
    "    df = df.loc[df['Fdr'] == fdr]\n",
    "    ts = []\n",
    "    t = df.loc[(df['Library'] == '1mln') & (df['Mult'] == 1.0)].copy()\n",
    "    t['Quality'] = 'Good'\n",
    "    ts.append(t)\n",
    "    t = df.loc[df['Mult'] == 0.2].copy()\n",
    "    t['Quality'] = 'Low FRIP'\n",
    "    ts.append(t)    \n",
    "    t = df.loc[df['Library'] == '200k'].copy()\n",
    "    t['Quality'] = 'Low Coverage'\n",
    "    ts.append(t)\n",
    "    df = pd.concat(ts)\n",
    "    \n",
    "    for q in sorted(set(df['Quality'])):\n",
    "        t = df.loc[df['Quality'] == q].copy()\n",
    "        t.sort_values(by=['Modification', 'Tool', 'Fdr'], inplace=True)\n",
    "\n",
    "        fig = plt.figure(figsize=(12, 4))\n",
    "        print('Peaks', q)\n",
    "        print(f\"True peaks {set(t['TruePeaks'])}\")\n",
    "        sns.boxplot(data=t, x=\"Modification\", y=\"Peaks\", hue=\"Tool\", palette=palette)\n",
    "        plt.title(f'Number of peaks {q} fdr={fdr}')\n",
    "        plt.xticks(rotation=45, ha='right')\n",
    "        plt.legend(loc='upper right')\n",
    "        plt.ylim(-20, t['Peaks'].max() * 1.2)\n",
    "\n",
    "        plt.savefig(os.path.join(FIGURES_DIR, f'aggregated_peaks_{q}_fdr{fdr}.pdf'))\n",
    "        plt.show() \n",
    "\n",
    "        fig = plt.figure(figsize=(12, 4))\n",
    "        print('Length', q)\n",
    "        print(f\"True average length {set(t['TrueAverageLength'])}\")        \n",
    "        sns.boxplot(data=t, x=\"Modification\", y=\"AverageLength\", hue=\"Tool\", palette=palette)\n",
    "        plt.title(f'Average length {q} fdr={fdr}')\n",
    "        plt.xticks(rotation=45, ha='right')\n",
    "        plt.legend(loc='upper right')\n",
    "        plt.ylim(-20, t['AverageLength'].max() * 1.2)\n",
    "\n",
    "        plt.savefig(os.path.join(FIGURES_DIR, f'aggregated_length_{q}_fdr{fdr}.pdf'))\n",
    "        plt.show()        "
   ]
  },
  {
   "cell_type": "code",
   "execution_count": null,
   "metadata": {
    "scrolled": false
   },
   "outputs": [],
   "source": [
    "aggregated_peaks_lengths_fdr(df, 0.05)"
   ]
  },
  {
   "cell_type": "markdown",
   "metadata": {},
   "source": [
    "## Peaks vs Average length"
   ]
  },
  {
   "cell_type": "code",
   "execution_count": null,
   "metadata": {},
   "outputs": [],
   "source": [
    "def summary_vs(df, name, v1, v2):\n",
    "    for m in sorted(set(df['Modification'])):\n",
    "        print(m)\n",
    "        t = df.loc[df['Modification'] == m]\n",
    "        fig = plt.figure(figsize=(12, 6))\n",
    "        for lib in ['1mln', '500k', '200k']:\n",
    "            for mult in [1.0, 0.5, 0.2]:\n",
    "                for i in set(t['I']):\n",
    "                    for tool in set(t['Tool']):\n",
    "                        tt = t.loc[(df['Mult'] == mult) & (t['Library'] == lib) & (t['I'] == i)].copy()\n",
    "                        tt.sort_values(by=['Tool', 'Fdr'], inplace=True)\n",
    "                        sns.lineplot(data=tt, x=v1, y=v2, hue='Tool', \n",
    "                                     markers=True, style='I', palette=palette, alpha=0.2)\n",
    "#             plt.ylim(-20, t['AverageLength'].max() * 1.2)\n",
    "        # Single legend\n",
    "        handles, labels = plt.axes().get_legend_handles_labels()\n",
    "        plt.legend(handles=handles[:len(set(t['Tool'])) + 1], \n",
    "                   labels=labels[:len(set(t['Tool'])) + 1],\n",
    "                  loc='lower left')\n",
    "        plt.title(f'{m} {name}')\n",
    "        plt.savefig(os.path.join(FIGURES_DIR, f'summary_{v1}_vs_{v2}_{m}_{name}.pdf'))\n",
    "        plt.show()"
   ]
  },
  {
   "cell_type": "code",
   "execution_count": null,
   "metadata": {
    "scrolled": true
   },
   "outputs": [],
   "source": [
    "print('Peaks vs Average Length')\n",
    "summary_vs(df.loc[(df['Library'] == '1mln') & (df['Mult'] == '_1.0')], \n",
    "           'good_quality', 'Peaks', 'AverageLength')"
   ]
  },
  {
   "cell_type": "code",
   "execution_count": null,
   "metadata": {
    "scrolled": false
   },
   "outputs": [],
   "source": [
    "def peaks_lengths(df):\n",
    "    for m in sorted(set(df['Modification'])):\n",
    "        print('Peaks', m)\n",
    "        print(f\"True peaks {set(df[df['Modification'] == m]['TruePeaks'])}\")\n",
    "        fig = plt.figure(figsize=(5 * 3, 5 * 3))\n",
    "        i = 1\n",
    "        for lib in ['1mln', '500k', '200k']:\n",
    "            for mult in [1.0, 0.5, 0.2]:\n",
    "                t = df.loc[(df['Modification'] == m) & (df['Mult'] == mult) & (df['Library'] == lib)]\n",
    "                ax = plt.subplot(3, 3, i)\n",
    "                sns.boxplot(data=t, x=\"Fdr\", y=\"Peaks\", hue=\"Tool\", palette=palette)\n",
    "                plt.title(f'{m} {lib} {mult}')\n",
    "                plt.xticks(rotation=45, ha='right')\n",
    "                plt.ylim(-20, t['Peaks'].max() * 1.2)\n",
    "                if i == 1:\n",
    "                    ax.legend(loc='upper left')\n",
    "                else:\n",
    "                    ax.get_legend().remove()    \n",
    "                i += 1\n",
    "        plt.savefig(os.path.join(FIGURES_DIR, f'peaks_{m}.pdf'))\n",
    "        plt.show()\n",
    "\n",
    "        print('Length', m)\n",
    "        print(f\"True average length {set(df[df['Modification'] == m]['TrueAverageLength'])}\")        \n",
    "        fig = plt.figure(figsize=(5 * 3, 5 * 3))\n",
    "        i = 1\n",
    "        for lib in ['1mln', '500k', '200k']:\n",
    "            for mult in [1.0, 0.5, 0.2]:\n",
    "                t = df.loc[(df['Modification'] == m) & (df['Mult'] == mult) & (df['Library'] == lib)]\n",
    "                ax = plt.subplot(3, 3, i)\n",
    "                sns.boxplot(data=t, x=\"Fdr\", y=\"AverageLength\", hue=\"Tool\", palette=palette)\n",
    "                plt.title(f'{m} {lib} {mult}')\n",
    "                plt.xticks(rotation=45, ha='right')\n",
    "                plt.ylim(-20, t['AverageLength'].max() * 1.2)\n",
    "                if i == 1:\n",
    "                    ax.legend(loc='upper left')\n",
    "                else:\n",
    "                    ax.get_legend().remove()    \n",
    "                i += 1\n",
    "        plt.savefig(os.path.join(FIGURES_DIR, f'length_{m}.pdf'))\n",
    "        plt.show()        "
   ]
  },
  {
   "cell_type": "code",
   "execution_count": null,
   "metadata": {
    "scrolled": true
   },
   "outputs": [],
   "source": [
    "print('Summary number of peaks and length')\n",
    "peaks_lengths(df)"
   ]
  },
  {
   "cell_type": "markdown",
   "metadata": {},
   "source": [
    "## Precision / Recall"
   ]
  },
  {
   "cell_type": "code",
   "execution_count": null,
   "metadata": {
    "scrolled": true
   },
   "outputs": [],
   "source": [
    "print('Detailed Precision / Recall plot')\n",
    "\n",
    "for m in sorted(set(df['Modification'])):\n",
    "    print(m)\n",
    "    fig = plt.figure(figsize=(5 * 3, 5 * 3))\n",
    "    i = 1\n",
    "    for lib in ['1mln', '500k', '200k']:\n",
    "        for mult in [1.0, 0.5, 0.2]:\n",
    "            t = df.loc[(df['Modification'] == m) & (df['Mult'] == mult) & (df['Library'] == lib)]\n",
    "            ax = plt.subplot(3, 3, i)\n",
    "            for I in set(t['I']):\n",
    "                tt = t.loc[t['I'] == I].copy()\n",
    "                tt.sort_values(by=['Tool', 'Recall', 'Precision'], inplace=True)\n",
    "                sns.lineplot(data=tt, x='Recall', y='Precision', hue='Tool', \n",
    "                             markers=True, style='I', palette=palette, alpha=0.5)\n",
    "            if i == 1:\n",
    "                # Single legend\n",
    "                handles, labels = ax.get_legend_handles_labels()\n",
    "                ax.legend(handles=handles[:len(set(tt['Tool'])) + 1], \n",
    "                          labels=labels[:len(set(tt['Tool'])) + 1],\n",
    "                         loc='lower left')\n",
    "            else:\n",
    "                ax.get_legend().remove()\n",
    "\n",
    "            i += 1\n",
    "            plt.xlim(-0.1, 1.1)\n",
    "            plt.ylim(-0.1, 1.1)\n",
    "            plt.title(f'{m} {lib} {mult}')\n",
    "    plt.savefig(os.path.join(FIGURES_DIR, f'prc_plot_{m}.pdf'))\n",
    "    plt.show()"
   ]
  },
  {
   "cell_type": "code",
   "execution_count": null,
   "metadata": {},
   "outputs": [],
   "source": [
    "def precision_recall(df, name):\n",
    "    for m in sorted(set(df['Modification'])):\n",
    "        print('Peaks', name, m)\n",
    "        t = df.loc[df['Modification'] == m]\n",
    "        fig = plt.figure(figsize=(6, 6))\n",
    "        for lib in ['1mln', '500k', '200k']:\n",
    "            for mult in [1.0, 0.5, 0.2]:\n",
    "                for i in set(t['I']):\n",
    "                    for tool in set(t['Tool']):\n",
    "                        tt = t.loc[(df['Mult'] == mult) & (t['Library'] == lib) & (t['I'] == i)].copy()\n",
    "                        tt.sort_values(by=['Tool', 'Recall', 'Precision'], inplace=True)\n",
    "                        sns.lineplot(data=tt, x='Recall', y='Precision', hue='Tool', \n",
    "                                     markers=True, style='I', palette=palette, alpha=0.2)\n",
    "\n",
    "        # Single legend\n",
    "        handles, labels = ax.get_legend_handles_labels()\n",
    "        plt.legend(handles=handles[:len(set(t['Tool'])) + 1], \n",
    "                  labels=labels[:len(set(t['Tool'])) + 1],\n",
    "                  loc='lower left')\n",
    "        plt.xlim(min(0.6, t['Recall'].min()), 1.1)\n",
    "        plt.ylim(min(0.6, t['Precision'].min()), 1.1)\n",
    "        plt.title(f'{m} {name}')\n",
    "        plt.savefig(os.path.join(FIGURES_DIR, f'precision_recall_{name}_{m}_{name}.pdf'))\n",
    "        plt.show()"
   ]
  },
  {
   "cell_type": "code",
   "execution_count": null,
   "metadata": {
    "scrolled": true
   },
   "outputs": [],
   "source": [
    "print('Precision / Recall')\n",
    "precision_recall(df.loc[(df['Library'] == '1mln') & (df['Mult'] == 1.0)], 'good_quality')"
   ]
  },
  {
   "cell_type": "code",
   "execution_count": null,
   "metadata": {
    "scrolled": true
   },
   "outputs": [],
   "source": [
    "print('Precision / Recall low coverage')\n",
    "precision_recall(df.loc[df['Library'] == '200k'], 'low_coverage')"
   ]
  },
  {
   "cell_type": "code",
   "execution_count": null,
   "metadata": {
    "scrolled": true
   },
   "outputs": [],
   "source": [
    "print('Precision / Recall low frip')\n",
    "precision_recall(df.loc[df['Mult'] == 0.2], 'low_frip')"
   ]
  },
  {
   "cell_type": "markdown",
   "metadata": {},
   "source": [
    "## Aggregated precision / recall by modification"
   ]
  },
  {
   "cell_type": "code",
   "execution_count": null,
   "metadata": {},
   "outputs": [],
   "source": [
    "def aggregated_precision_recall(df, name):\n",
    "    print('Peaks', name)\n",
    "    fig = plt.figure(figsize=(18, 3))\n",
    "    for i, m in enumerate(sorted(set(df['Modification']))):\n",
    "        ax = plt.subplot(1, 5, i+1)\n",
    "        tt = df.loc[df['Modification'] == m]\n",
    "        for lib in ['1mln', '500k', '200k']:\n",
    "            for mult in [1.0, 0.5, 0.2]:\n",
    "                for I in set(tt['I']):\n",
    "                    for tool in set(tt['Tool']):\n",
    "                        ttt = tt.loc[(tt['Mult'] == mult) & (tt['Library'] == lib) & (tt['I'] == I)].copy()\n",
    "                        ttt.sort_values(by=['Tool', 'Recall', 'Precision'], inplace=True)\n",
    "                        sns.lineplot(data=ttt, x='Recall', y='Precision', hue='Tool', \n",
    "                                     markers=True, style='I', palette=palette, alpha=0.1)\n",
    "\n",
    "        if i == 0:\n",
    "            # Single legend\n",
    "            handles, labels = ax.get_legend_handles_labels()\n",
    "            ax.legend(handles=handles[:len(set(tt['Tool'])) + 1], \n",
    "                      labels=labels[:len(set(tt['Tool'])) + 1],\n",
    "                      loc='lower left')\n",
    "        else:\n",
    "            ax.get_legend().remove()\n",
    "        plt.xlim(-0.1, 1.1)\n",
    "        plt.ylim(-0.1, 1.1)\n",
    "        plt.title(m)\n",
    "    plt.savefig(os.path.join(FIGURES_DIR, f'aggregated_precision_recall_{name}.pdf'))\n",
    "    plt.show()"
   ]
  },
  {
   "cell_type": "code",
   "execution_count": null,
   "metadata": {},
   "outputs": [],
   "source": [
    "print('Precision / Recall')\n",
    "aggregated_precision_recall(df.loc[(df['Library'] == '1mln') & (df['Mult'] == 1.0)], 'good_quality')"
   ]
  },
  {
   "cell_type": "code",
   "execution_count": null,
   "metadata": {},
   "outputs": [],
   "source": [
    "print('Precision / Recall low coverage')\n",
    "aggregated_precision_recall(df.loc[df['Library'] == '200k'], 'low_coverage')"
   ]
  },
  {
   "cell_type": "code",
   "execution_count": null,
   "metadata": {},
   "outputs": [],
   "source": [
    "print('Precision / Recall low frip')\n",
    "aggregated_precision_recall(df.loc[df['Mult'] == 0.2], 'low_frip')"
   ]
  },
  {
   "cell_type": "code",
   "execution_count": null,
   "metadata": {},
   "outputs": [],
   "source": [
    "# aggregated_precision_recall(df, 'All')"
   ]
  },
  {
   "cell_type": "markdown",
   "metadata": {},
   "source": [
    "# Average precision\n",
    "\n",
    "AP summarizes a precision-recall curve as the weighted mean of precisions achieved at each threshold, with the increase in recall from the previous threshold used as the weight:\n",
    "\n",
    "AP = ∑(Rn−Rn−1)*Pn, where  Pn and Rn are the precision and recall at the nth threshold.\n",
    "\n",
    "This implementation is not interpolated and is different from computing the area under the precision-recall curve with the trapezoidal rule, which uses linear interpolation and can be too optimistic."
   ]
  },
  {
   "cell_type": "code",
   "execution_count": null,
   "metadata": {},
   "outputs": [],
   "source": [
    "dfap = pd.DataFrame(columns=['Modification', 'Library', 'Mult', 'I', 'Tool', 'AP'], dtype=object)\n",
    "for m in sorted(set(df['Modification'])):\n",
    "    print(m)\n",
    "    for lib in ['1mln', '500k', '200k']:\n",
    "        for mult in [1.0, 0.5, 0.2]:\n",
    "            t = df.loc[(df['Modification'] == m) & (df['Mult'] == mult) & (df['Library'] == lib)]\n",
    "            for tool in sorted(set(t['Tool'])):\n",
    "                for i in sorted(set(t['I'])):\n",
    "                    tt = t.loc[(t['Tool']==tool) & (t['I'] == i)].copy()\n",
    "                    tt.sort_values(by=['Recall', 'Precision'], inplace=True)\n",
    "                    ap = 0\n",
    "                    rprev = 0\n",
    "                    for _, row in tt.iterrows():\n",
    "                        ap += (row['Recall'] - rprev)*row['Precision']\n",
    "                        rprev = row['Recall']\n",
    "                    dfap.loc[len(dfap)] = (m, lib, mult, i, tool, ap)                \n"
   ]
  },
  {
   "cell_type": "code",
   "execution_count": null,
   "metadata": {
    "scrolled": true
   },
   "outputs": [],
   "source": [
    "for m in sorted(set(dfap['Modification'])):\n",
    "    print(m)\n",
    "    fig = plt.figure(figsize=(5 * 3, 5 * 3))\n",
    "    i = 1\n",
    "    for lib in ['1mln', '500k', '200k']:\n",
    "        for mult in [1.0, 0.5, 0.2]:\n",
    "            tt = dfap.loc[(dfap['Modification'] == m) & \n",
    "                          (dfap['Mult'] == mult) & (dfap['Library'] == lib)].copy()\n",
    "            ax = plt.subplot(3, 3, i)\n",
    "            tt.sort_values(by=['Tool'], inplace=True)\n",
    "            sns.boxplot(x= 'Tool', y='AP', data=tt, palette=palette)\n",
    "            plt.title(f'{m} {lib} {mult}')\n",
    "            if i == 1:\n",
    "                ax.legend(loc='lower left')\n",
    "            else:\n",
    "                pass\n",
    "#                 ax.get_legend().remove()\n",
    "            i += 1\n",
    "            plt.ylim(-0.1, 1.1)\n",
    "    plt.savefig(os.path.join(FIGURES_DIR, f'ap_{m}.pdf'))\n",
    "    plt.show()"
   ]
  },
  {
   "cell_type": "markdown",
   "metadata": {},
   "source": [
    "# Aggregated AP score"
   ]
  },
  {
   "cell_type": "code",
   "execution_count": null,
   "metadata": {},
   "outputs": [],
   "source": [
    "def plot_aggregated_ap(dfap):\n",
    "    ts = []\n",
    "    t = dfap.loc[(dfap['Library'] == '1mln') & (dfap['Mult'] == 1.0)].copy()\n",
    "    t['Quality'] = 'Good'\n",
    "    ts.append(t)\n",
    "    t = dfap.loc[dfap['Mult'] == 0.2].copy()\n",
    "    t['Quality'] = 'Low FRIP'\n",
    "    ts.append(t)    \n",
    "    t = dfap.loc[dfap['Library'] == '200k'].copy()\n",
    "    t['Quality'] = 'Low Coverage'\n",
    "    ts.append(t)\n",
    "    t = dfap.copy()\n",
    "    t['Quality'] = 'All'\n",
    "    ts.append(t)\n",
    "\n",
    "    dfap = pd.concat(ts)\n",
    "\n",
    "    for q in sorted(set(dfap['Quality'])):\n",
    "        print(q)\n",
    "        fig = plt.figure(figsize=(12, 4))\n",
    "        tt = dfap.loc[(dfap['Quality'] == q)].copy()\n",
    "        tt.sort_values(by=['Tool'], inplace=True)\n",
    "        sns.boxplot(x='Modification', y='AP', hue='Tool', data=tt)\n",
    "#         plt.title(f'{m} {name}')\n",
    "#         ax.legend(loc='lower left')\n",
    "        plt.ylim(-0.1, 1.1)\n",
    "        plt.savefig(os.path.join(FIGURES_DIR, f'aggregated_ap_{q}.pdf'))\n",
    "        plt.show()\n"
   ]
  },
  {
   "cell_type": "code",
   "execution_count": null,
   "metadata": {
    "scrolled": true
   },
   "outputs": [],
   "source": [
    "plot_aggregated_ap(dfap)"
   ]
  },
  {
   "cell_type": "code",
   "execution_count": null,
   "metadata": {},
   "outputs": [],
   "source": []
  }
 ],
 "metadata": {
  "kernelspec": {
   "display_name": "Python 3",
   "language": "python",
   "name": "python3"
  },
  "language_info": {
   "codemirror_mode": {
    "name": "ipython",
    "version": 3
   },
   "file_extension": ".py",
   "mimetype": "text/x-python",
   "name": "python",
   "nbconvert_exporter": "python",
   "pygments_lexer": "ipython3",
   "version": "3.8.5"
  }
 },
 "nbformat": 4,
 "nbformat_minor": 5
}
