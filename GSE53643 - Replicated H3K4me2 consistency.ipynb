{
 "cells": [
  {
   "cell_type": "markdown",
   "metadata": {
    "heading_collapsed": true
   },
   "source": [
    "# GSE53643 - Replicated H3K4me2 consistency\n",
    "\n",
    "Logbook: https://docs.google.com/document/d/1VGH4fA20LbhGGKWvBg28E7G1JBm1rLlmCEtD2X239Eg/edit#heading=h.44kd47qfiiva\n"
   ]
  },
  {
   "cell_type": "code",
   "execution_count": 9,
   "metadata": {
    "ExecuteTime": {
     "end_time": "2019-03-07T11:38:12.254230Z",
     "start_time": "2019-03-07T11:38:04.952806Z"
    },
    "hidden": true
   },
   "outputs": [],
   "source": [
    "%matplotlib inline\n",
    "%config InlineBackend.figure_format='retina'\n",
    "\n",
    "from IPython.display import display\n",
    "import pandas as pd\n",
    "\n",
    "import seaborn as sns\n",
    "sns.set_style(\"whitegrid\")\n",
    "import matplotlib.pyplot as plt\n",
    "from matplotlib.backends.backend_pdf import PdfPages\n",
    "import numpy as np\n",
    "import scipy as sp\n",
    "import os, re\n",
    "import glob\n",
    "from pybedtools import BedTool\n",
    "from tqdm.auto import tqdm"
   ]
  },
  {
   "cell_type": "markdown",
   "metadata": {},
   "source": [
    "# MACS2"
   ]
  },
  {
   "cell_type": "code",
   "execution_count": 121,
   "metadata": {
    "ExecuteTime": {
     "end_time": "2019-03-07T11:38:48.419134Z",
     "start_time": "2019-03-07T11:38:12.260987Z"
    },
    "scrolled": true
   },
   "outputs": [
    {
     "data": {
      "application/vnd.jupyter.widget-view+json": {
       "model_id": "6af22feadcc6431e8f3e391089bdad83",
       "version_major": 2,
       "version_minor": 0
      },
      "text/plain": [
       "HBox(children=(IntProgress(value=0, max=120), HTML(value='')))"
      ]
     },
     "metadata": {},
     "output_type": "display_data"
    },
    {
     "name": "stdout",
     "output_type": "stream",
     "text": [
      "\n"
     ]
    }
   ],
   "source": [
    "MACS2_FOLDER='/mnt/stripe/bio/raw-data/geo-samples/GSE53643/macs2'\n",
    "MACS2_LEVELS = ['q0.05']\n",
    "\n",
    "dfm = pd.DataFrame(columns=['gsm', 'name', 'replicate', 'level', 'file', 'peaks'])\n",
    "for file in tqdm(glob.glob(MACS2_FOLDER + '/*.narrowPeak')):\n",
    "    level = next((l for l in MACS2_LEVELS if f'_{l}_' in file), None) # \n",
    "    if level:\n",
    "        gsm = re.sub('_H3K4me2.*', '', os.path.basename(file))\n",
    "        name = re.sub('(GSM[0-9]+_)|(-rep[0-9].*)', '', os.path.basename(file))\n",
    "        replicate = re.sub(f'(.*-Donor[0-9]+-rep)|(_{level}.*)','', os.path.basename(file))\n",
    "        peaks = int(BedTool(file).count())\n",
    "        if np.isnan(peaks):\n",
    "            raise Exception(f'Wrong number of peaks {file}')\n",
    "        dfm.loc[len(dfm)] = (gsm, name, replicate, f'macs2 {level}', file, peaks)\n",
    "\n",
    "# Fix types\n",
    "dfm['replicate'] = dfm['replicate'].astype(int)\n",
    "dfm['peaks'] = dfm['peaks'].astype(int)"
   ]
  },
  {
   "cell_type": "code",
   "execution_count": 122,
   "metadata": {},
   "outputs": [],
   "source": [
    "dfm_mean = dfm.groupby(['name', 'level'])['peaks'].mean().reset_index().sort_values(by=['name', 'level'])\n",
    "dfm_std = dfm.groupby(['name', 'level'])['peaks'].std().reset_index().fillna(0).sort_values(by=['name', 'level'])"
   ]
  },
  {
   "cell_type": "code",
   "execution_count": 123,
   "metadata": {
    "scrolled": false
   },
   "outputs": [
    {
     "data": {
      "application/vnd.plotly.v1+json": {
       "config": {
        "plotlyServerURL": "https://plot.ly"
       },
       "data": [
        {
         "line": {
          "shape": "linear"
         },
         "name": "macs2 mean",
         "type": "scatter",
         "x": [
          "H3K4me2_ChIPSeq_CCR4Neg-Donor1",
          "H3K4me2_ChIPSeq_CCR4Neg-Donor11",
          "H3K4me2_ChIPSeq_CCR4Neg-Donor12",
          "H3K4me2_ChIPSeq_CCR4Neg-Donor13",
          "H3K4me2_ChIPSeq_CCR4Neg-Donor14",
          "H3K4me2_ChIPSeq_CCR4Neg-Donor15",
          "H3K4me2_ChIPSeq_CCR4Neg-Donor16",
          "H3K4me2_ChIPSeq_CCR4Neg-Donor17",
          "H3K4me2_ChIPSeq_CCR4Neg-Donor18",
          "H3K4me2_ChIPSeq_CCR4Neg-Donor19",
          "H3K4me2_ChIPSeq_CCR4Neg-Donor20",
          "H3K4me2_ChIPSeq_CCR4Neg-Donor21",
          "H3K4me2_ChIPSeq_CCR4Neg-Donor22",
          "H3K4me2_ChIPSeq_CCR4Neg-Donor23",
          "H3K4me2_ChIPSeq_CCR4Neg-Donor4",
          "H3K4me2_ChIPSeq_CCR4Neg-Donor5",
          "H3K4me2_ChIPSeq_CCR4Neg-Donor6",
          "H3K4me2_ChIPSeq_CCR4Neg-Donor7",
          "H3K4me2_ChIPSeq_CCR4Neg-Donor8",
          "H3K4me2_ChIPSeq_CCR4Neg-Donor9",
          "H3K4me2_ChIPSeq_CCR4pos-Donor1",
          "H3K4me2_ChIPSeq_CCR4pos-Donor10",
          "H3K4me2_ChIPSeq_CCR4pos-Donor11",
          "H3K4me2_ChIPSeq_CCR4pos-Donor12",
          "H3K4me2_ChIPSeq_CCR4pos-Donor13",
          "H3K4me2_ChIPSeq_CCR4pos-Donor14",
          "H3K4me2_ChIPSeq_CCR4pos-Donor15",
          "H3K4me2_ChIPSeq_CCR4pos-Donor16",
          "H3K4me2_ChIPSeq_CCR4pos-Donor17",
          "H3K4me2_ChIPSeq_CCR4pos-Donor18",
          "H3K4me2_ChIPSeq_CCR4pos-Donor19",
          "H3K4me2_ChIPSeq_CCR4pos-Donor2",
          "H3K4me2_ChIPSeq_CCR4pos-Donor20",
          "H3K4me2_ChIPSeq_CCR4pos-Donor21",
          "H3K4me2_ChIPSeq_CCR4pos-Donor22",
          "H3K4me2_ChIPSeq_CCR4pos-Donor23",
          "H3K4me2_ChIPSeq_CCR4pos-Donor3",
          "H3K4me2_ChIPSeq_CCR4pos-Donor4",
          "H3K4me2_ChIPSeq_CCR4pos-Donor5",
          "H3K4me2_ChIPSeq_CCR4pos-Donor7",
          "H3K4me2_ChIPSeq_CCR4pos-Donor8",
          "H3K4me2_ChIPSeq_CCR4pos-Donor9",
          "H3K4me2_ChIPSeq_Naive-Donor1",
          "H3K4me2_ChIPSeq_Naive-Donor10",
          "H3K4me2_ChIPSeq_Naive-Donor11",
          "H3K4me2_ChIPSeq_Naive-Donor12",
          "H3K4me2_ChIPSeq_Naive-Donor13",
          "H3K4me2_ChIPSeq_Naive-Donor14",
          "H3K4me2_ChIPSeq_Naive-Donor15",
          "H3K4me2_ChIPSeq_Naive-Donor16",
          "H3K4me2_ChIPSeq_Naive-Donor17",
          "H3K4me2_ChIPSeq_Naive-Donor18",
          "H3K4me2_ChIPSeq_Naive-Donor19",
          "H3K4me2_ChIPSeq_Naive-Donor2",
          "H3K4me2_ChIPSeq_Naive-Donor20",
          "H3K4me2_ChIPSeq_Naive-Donor21",
          "H3K4me2_ChIPSeq_Naive-Donor22",
          "H3K4me2_ChIPSeq_Naive-Donor23",
          "H3K4me2_ChIPSeq_Naive-Donor3",
          "H3K4me2_ChIPSeq_Naive-Donor5",
          "H3K4me2_ChIPSeq_Naive-Donor7",
          "H3K4me2_ChIPSeq_Naive-Donor8",
          "H3K4me2_ChIPSeq_Naive-Donor9"
         ],
         "y": [
          115628,
          92678,
          88187.5,
          131170.5,
          101642,
          120372,
          109268,
          109916,
          127909.5,
          120811.5,
          106299,
          82292,
          109901.5,
          98679,
          96001,
          102387,
          104044,
          113690,
          132461.5,
          64068,
          108331,
          111743,
          121796,
          94091.5,
          71706.5,
          93958,
          100473.5,
          117112,
          95699.5,
          128470.5,
          106689,
          121865,
          110213.5,
          99154.5,
          94883,
          93596,
          84952,
          111065,
          108358,
          115008,
          135131,
          113035.5,
          106319.66666666667,
          120354,
          125518,
          88007,
          115011.5,
          134047,
          120004,
          108980.5,
          106117,
          85073,
          112973.5,
          114551,
          102874,
          124083.33333333333,
          69896,
          96490.5,
          144211,
          107222,
          133729,
          138250,
          103570.5
         ]
        },
        {
         "line": {
          "shape": "linear"
         },
         "name": "macs2 std",
         "type": "scatter",
         "x": [
          "H3K4me2_ChIPSeq_CCR4Neg-Donor1",
          "H3K4me2_ChIPSeq_CCR4Neg-Donor11",
          "H3K4me2_ChIPSeq_CCR4Neg-Donor12",
          "H3K4me2_ChIPSeq_CCR4Neg-Donor13",
          "H3K4me2_ChIPSeq_CCR4Neg-Donor14",
          "H3K4me2_ChIPSeq_CCR4Neg-Donor15",
          "H3K4me2_ChIPSeq_CCR4Neg-Donor16",
          "H3K4me2_ChIPSeq_CCR4Neg-Donor17",
          "H3K4me2_ChIPSeq_CCR4Neg-Donor18",
          "H3K4me2_ChIPSeq_CCR4Neg-Donor19",
          "H3K4me2_ChIPSeq_CCR4Neg-Donor20",
          "H3K4me2_ChIPSeq_CCR4Neg-Donor21",
          "H3K4me2_ChIPSeq_CCR4Neg-Donor22",
          "H3K4me2_ChIPSeq_CCR4Neg-Donor23",
          "H3K4me2_ChIPSeq_CCR4Neg-Donor4",
          "H3K4me2_ChIPSeq_CCR4Neg-Donor5",
          "H3K4me2_ChIPSeq_CCR4Neg-Donor6",
          "H3K4me2_ChIPSeq_CCR4Neg-Donor7",
          "H3K4me2_ChIPSeq_CCR4Neg-Donor8",
          "H3K4me2_ChIPSeq_CCR4Neg-Donor9",
          "H3K4me2_ChIPSeq_CCR4pos-Donor1",
          "H3K4me2_ChIPSeq_CCR4pos-Donor10",
          "H3K4me2_ChIPSeq_CCR4pos-Donor11",
          "H3K4me2_ChIPSeq_CCR4pos-Donor12",
          "H3K4me2_ChIPSeq_CCR4pos-Donor13",
          "H3K4me2_ChIPSeq_CCR4pos-Donor14",
          "H3K4me2_ChIPSeq_CCR4pos-Donor15",
          "H3K4me2_ChIPSeq_CCR4pos-Donor16",
          "H3K4me2_ChIPSeq_CCR4pos-Donor17",
          "H3K4me2_ChIPSeq_CCR4pos-Donor18",
          "H3K4me2_ChIPSeq_CCR4pos-Donor19",
          "H3K4me2_ChIPSeq_CCR4pos-Donor2",
          "H3K4me2_ChIPSeq_CCR4pos-Donor20",
          "H3K4me2_ChIPSeq_CCR4pos-Donor21",
          "H3K4me2_ChIPSeq_CCR4pos-Donor22",
          "H3K4me2_ChIPSeq_CCR4pos-Donor23",
          "H3K4me2_ChIPSeq_CCR4pos-Donor3",
          "H3K4me2_ChIPSeq_CCR4pos-Donor4",
          "H3K4me2_ChIPSeq_CCR4pos-Donor5",
          "H3K4me2_ChIPSeq_CCR4pos-Donor7",
          "H3K4me2_ChIPSeq_CCR4pos-Donor8",
          "H3K4me2_ChIPSeq_CCR4pos-Donor9",
          "H3K4me2_ChIPSeq_Naive-Donor1",
          "H3K4me2_ChIPSeq_Naive-Donor10",
          "H3K4me2_ChIPSeq_Naive-Donor11",
          "H3K4me2_ChIPSeq_Naive-Donor12",
          "H3K4me2_ChIPSeq_Naive-Donor13",
          "H3K4me2_ChIPSeq_Naive-Donor14",
          "H3K4me2_ChIPSeq_Naive-Donor15",
          "H3K4me2_ChIPSeq_Naive-Donor16",
          "H3K4me2_ChIPSeq_Naive-Donor17",
          "H3K4me2_ChIPSeq_Naive-Donor18",
          "H3K4me2_ChIPSeq_Naive-Donor19",
          "H3K4me2_ChIPSeq_Naive-Donor2",
          "H3K4me2_ChIPSeq_Naive-Donor20",
          "H3K4me2_ChIPSeq_Naive-Donor21",
          "H3K4me2_ChIPSeq_Naive-Donor22",
          "H3K4me2_ChIPSeq_Naive-Donor23",
          "H3K4me2_ChIPSeq_Naive-Donor3",
          "H3K4me2_ChIPSeq_Naive-Donor5",
          "H3K4me2_ChIPSeq_Naive-Donor7",
          "H3K4me2_ChIPSeq_Naive-Donor8",
          "H3K4me2_ChIPSeq_Naive-Donor9"
         ],
         "y": [
          44848.954703537966,
          0,
          311.8340905032675,
          15325.125268656044,
          6375.274739177912,
          22289.41995656235,
          34157.500171997366,
          349.31074990615446,
          51664.75696739509,
          39533.63302935869,
          0,
          21551.200477003596,
          34784.70388690983,
          5289.158723275375,
          4625.892562522394,
          15901.41729532308,
          7710.292342058115,
          0,
          57482.831562998006,
          0,
          47544.44575342108,
          0,
          29876.675718694005,
          6633.368714311002,
          9044.602838157129,
          23297.75422653437,
          22298.612344717778,
          3836.7613947182067,
          4691.653493172743,
          32949.05468294956,
          24689.340371909493,
          15407.856762054871,
          32052.443284405013,
          29761.4173133606,
          32696.617562065956,
          8611.146381289776,
          0,
          8342.445804438888,
          11578.166435148529,
          12831.159651411092,
          19356.341028200553,
          35752.02596357303,
          26328.06951398703,
          0,
          3886.258869401265,
          30774.701330800923,
          3550.3831483376553,
          27051.07702107256,
          4466.086429974234,
          11209.763802150337,
          40286.70175132236,
          14338.71130890081,
          18498.62050262127,
          9049.552585625435,
          4871.965722375312,
          23924.463470124745,
          0,
          5664.632424085432,
          27526.25277802992,
          17321.287711945668,
          18981.57443417168,
          39665.86199744057,
          29465.846678824622
         ]
        }
       ],
       "layout": {
        "template": {
         "data": {
          "bar": [
           {
            "error_x": {
             "color": "#2a3f5f"
            },
            "error_y": {
             "color": "#2a3f5f"
            },
            "marker": {
             "line": {
              "color": "#E5ECF6",
              "width": 0.5
             }
            },
            "type": "bar"
           }
          ],
          "barpolar": [
           {
            "marker": {
             "line": {
              "color": "#E5ECF6",
              "width": 0.5
             }
            },
            "type": "barpolar"
           }
          ],
          "carpet": [
           {
            "aaxis": {
             "endlinecolor": "#2a3f5f",
             "gridcolor": "white",
             "linecolor": "white",
             "minorgridcolor": "white",
             "startlinecolor": "#2a3f5f"
            },
            "baxis": {
             "endlinecolor": "#2a3f5f",
             "gridcolor": "white",
             "linecolor": "white",
             "minorgridcolor": "white",
             "startlinecolor": "#2a3f5f"
            },
            "type": "carpet"
           }
          ],
          "choropleth": [
           {
            "colorbar": {
             "outlinewidth": 0,
             "ticks": ""
            },
            "type": "choropleth"
           }
          ],
          "contour": [
           {
            "colorbar": {
             "outlinewidth": 0,
             "ticks": ""
            },
            "colorscale": [
             [
              0,
              "#0d0887"
             ],
             [
              0.1111111111111111,
              "#46039f"
             ],
             [
              0.2222222222222222,
              "#7201a8"
             ],
             [
              0.3333333333333333,
              "#9c179e"
             ],
             [
              0.4444444444444444,
              "#bd3786"
             ],
             [
              0.5555555555555556,
              "#d8576b"
             ],
             [
              0.6666666666666666,
              "#ed7953"
             ],
             [
              0.7777777777777778,
              "#fb9f3a"
             ],
             [
              0.8888888888888888,
              "#fdca26"
             ],
             [
              1,
              "#f0f921"
             ]
            ],
            "type": "contour"
           }
          ],
          "contourcarpet": [
           {
            "colorbar": {
             "outlinewidth": 0,
             "ticks": ""
            },
            "type": "contourcarpet"
           }
          ],
          "heatmap": [
           {
            "colorbar": {
             "outlinewidth": 0,
             "ticks": ""
            },
            "colorscale": [
             [
              0,
              "#0d0887"
             ],
             [
              0.1111111111111111,
              "#46039f"
             ],
             [
              0.2222222222222222,
              "#7201a8"
             ],
             [
              0.3333333333333333,
              "#9c179e"
             ],
             [
              0.4444444444444444,
              "#bd3786"
             ],
             [
              0.5555555555555556,
              "#d8576b"
             ],
             [
              0.6666666666666666,
              "#ed7953"
             ],
             [
              0.7777777777777778,
              "#fb9f3a"
             ],
             [
              0.8888888888888888,
              "#fdca26"
             ],
             [
              1,
              "#f0f921"
             ]
            ],
            "type": "heatmap"
           }
          ],
          "heatmapgl": [
           {
            "colorbar": {
             "outlinewidth": 0,
             "ticks": ""
            },
            "colorscale": [
             [
              0,
              "#0d0887"
             ],
             [
              0.1111111111111111,
              "#46039f"
             ],
             [
              0.2222222222222222,
              "#7201a8"
             ],
             [
              0.3333333333333333,
              "#9c179e"
             ],
             [
              0.4444444444444444,
              "#bd3786"
             ],
             [
              0.5555555555555556,
              "#d8576b"
             ],
             [
              0.6666666666666666,
              "#ed7953"
             ],
             [
              0.7777777777777778,
              "#fb9f3a"
             ],
             [
              0.8888888888888888,
              "#fdca26"
             ],
             [
              1,
              "#f0f921"
             ]
            ],
            "type": "heatmapgl"
           }
          ],
          "histogram": [
           {
            "marker": {
             "colorbar": {
              "outlinewidth": 0,
              "ticks": ""
             }
            },
            "type": "histogram"
           }
          ],
          "histogram2d": [
           {
            "colorbar": {
             "outlinewidth": 0,
             "ticks": ""
            },
            "colorscale": [
             [
              0,
              "#0d0887"
             ],
             [
              0.1111111111111111,
              "#46039f"
             ],
             [
              0.2222222222222222,
              "#7201a8"
             ],
             [
              0.3333333333333333,
              "#9c179e"
             ],
             [
              0.4444444444444444,
              "#bd3786"
             ],
             [
              0.5555555555555556,
              "#d8576b"
             ],
             [
              0.6666666666666666,
              "#ed7953"
             ],
             [
              0.7777777777777778,
              "#fb9f3a"
             ],
             [
              0.8888888888888888,
              "#fdca26"
             ],
             [
              1,
              "#f0f921"
             ]
            ],
            "type": "histogram2d"
           }
          ],
          "histogram2dcontour": [
           {
            "colorbar": {
             "outlinewidth": 0,
             "ticks": ""
            },
            "colorscale": [
             [
              0,
              "#0d0887"
             ],
             [
              0.1111111111111111,
              "#46039f"
             ],
             [
              0.2222222222222222,
              "#7201a8"
             ],
             [
              0.3333333333333333,
              "#9c179e"
             ],
             [
              0.4444444444444444,
              "#bd3786"
             ],
             [
              0.5555555555555556,
              "#d8576b"
             ],
             [
              0.6666666666666666,
              "#ed7953"
             ],
             [
              0.7777777777777778,
              "#fb9f3a"
             ],
             [
              0.8888888888888888,
              "#fdca26"
             ],
             [
              1,
              "#f0f921"
             ]
            ],
            "type": "histogram2dcontour"
           }
          ],
          "mesh3d": [
           {
            "colorbar": {
             "outlinewidth": 0,
             "ticks": ""
            },
            "type": "mesh3d"
           }
          ],
          "parcoords": [
           {
            "line": {
             "colorbar": {
              "outlinewidth": 0,
              "ticks": ""
             }
            },
            "type": "parcoords"
           }
          ],
          "pie": [
           {
            "automargin": true,
            "type": "pie"
           }
          ],
          "scatter": [
           {
            "marker": {
             "colorbar": {
              "outlinewidth": 0,
              "ticks": ""
             }
            },
            "type": "scatter"
           }
          ],
          "scatter3d": [
           {
            "line": {
             "colorbar": {
              "outlinewidth": 0,
              "ticks": ""
             }
            },
            "marker": {
             "colorbar": {
              "outlinewidth": 0,
              "ticks": ""
             }
            },
            "type": "scatter3d"
           }
          ],
          "scattercarpet": [
           {
            "marker": {
             "colorbar": {
              "outlinewidth": 0,
              "ticks": ""
             }
            },
            "type": "scattercarpet"
           }
          ],
          "scattergeo": [
           {
            "marker": {
             "colorbar": {
              "outlinewidth": 0,
              "ticks": ""
             }
            },
            "type": "scattergeo"
           }
          ],
          "scattergl": [
           {
            "marker": {
             "colorbar": {
              "outlinewidth": 0,
              "ticks": ""
             }
            },
            "type": "scattergl"
           }
          ],
          "scattermapbox": [
           {
            "marker": {
             "colorbar": {
              "outlinewidth": 0,
              "ticks": ""
             }
            },
            "type": "scattermapbox"
           }
          ],
          "scatterpolar": [
           {
            "marker": {
             "colorbar": {
              "outlinewidth": 0,
              "ticks": ""
             }
            },
            "type": "scatterpolar"
           }
          ],
          "scatterpolargl": [
           {
            "marker": {
             "colorbar": {
              "outlinewidth": 0,
              "ticks": ""
             }
            },
            "type": "scatterpolargl"
           }
          ],
          "scatterternary": [
           {
            "marker": {
             "colorbar": {
              "outlinewidth": 0,
              "ticks": ""
             }
            },
            "type": "scatterternary"
           }
          ],
          "surface": [
           {
            "colorbar": {
             "outlinewidth": 0,
             "ticks": ""
            },
            "colorscale": [
             [
              0,
              "#0d0887"
             ],
             [
              0.1111111111111111,
              "#46039f"
             ],
             [
              0.2222222222222222,
              "#7201a8"
             ],
             [
              0.3333333333333333,
              "#9c179e"
             ],
             [
              0.4444444444444444,
              "#bd3786"
             ],
             [
              0.5555555555555556,
              "#d8576b"
             ],
             [
              0.6666666666666666,
              "#ed7953"
             ],
             [
              0.7777777777777778,
              "#fb9f3a"
             ],
             [
              0.8888888888888888,
              "#fdca26"
             ],
             [
              1,
              "#f0f921"
             ]
            ],
            "type": "surface"
           }
          ],
          "table": [
           {
            "cells": {
             "fill": {
              "color": "#EBF0F8"
             },
             "line": {
              "color": "white"
             }
            },
            "header": {
             "fill": {
              "color": "#C8D4E3"
             },
             "line": {
              "color": "white"
             }
            },
            "type": "table"
           }
          ]
         },
         "layout": {
          "annotationdefaults": {
           "arrowcolor": "#2a3f5f",
           "arrowhead": 0,
           "arrowwidth": 1
          },
          "coloraxis": {
           "colorbar": {
            "outlinewidth": 0,
            "ticks": ""
           }
          },
          "colorscale": {
           "diverging": [
            [
             0,
             "#8e0152"
            ],
            [
             0.1,
             "#c51b7d"
            ],
            [
             0.2,
             "#de77ae"
            ],
            [
             0.3,
             "#f1b6da"
            ],
            [
             0.4,
             "#fde0ef"
            ],
            [
             0.5,
             "#f7f7f7"
            ],
            [
             0.6,
             "#e6f5d0"
            ],
            [
             0.7,
             "#b8e186"
            ],
            [
             0.8,
             "#7fbc41"
            ],
            [
             0.9,
             "#4d9221"
            ],
            [
             1,
             "#276419"
            ]
           ],
           "sequential": [
            [
             0,
             "#0d0887"
            ],
            [
             0.1111111111111111,
             "#46039f"
            ],
            [
             0.2222222222222222,
             "#7201a8"
            ],
            [
             0.3333333333333333,
             "#9c179e"
            ],
            [
             0.4444444444444444,
             "#bd3786"
            ],
            [
             0.5555555555555556,
             "#d8576b"
            ],
            [
             0.6666666666666666,
             "#ed7953"
            ],
            [
             0.7777777777777778,
             "#fb9f3a"
            ],
            [
             0.8888888888888888,
             "#fdca26"
            ],
            [
             1,
             "#f0f921"
            ]
           ],
           "sequentialminus": [
            [
             0,
             "#0d0887"
            ],
            [
             0.1111111111111111,
             "#46039f"
            ],
            [
             0.2222222222222222,
             "#7201a8"
            ],
            [
             0.3333333333333333,
             "#9c179e"
            ],
            [
             0.4444444444444444,
             "#bd3786"
            ],
            [
             0.5555555555555556,
             "#d8576b"
            ],
            [
             0.6666666666666666,
             "#ed7953"
            ],
            [
             0.7777777777777778,
             "#fb9f3a"
            ],
            [
             0.8888888888888888,
             "#fdca26"
            ],
            [
             1,
             "#f0f921"
            ]
           ]
          },
          "colorway": [
           "#636efa",
           "#EF553B",
           "#00cc96",
           "#ab63fa",
           "#FFA15A",
           "#19d3f3",
           "#FF6692",
           "#B6E880",
           "#FF97FF",
           "#FECB52"
          ],
          "font": {
           "color": "#2a3f5f"
          },
          "geo": {
           "bgcolor": "white",
           "lakecolor": "white",
           "landcolor": "#E5ECF6",
           "showlakes": true,
           "showland": true,
           "subunitcolor": "white"
          },
          "hoverlabel": {
           "align": "left"
          },
          "hovermode": "closest",
          "mapbox": {
           "style": "light"
          },
          "paper_bgcolor": "white",
          "plot_bgcolor": "#E5ECF6",
          "polar": {
           "angularaxis": {
            "gridcolor": "white",
            "linecolor": "white",
            "ticks": ""
           },
           "bgcolor": "#E5ECF6",
           "radialaxis": {
            "gridcolor": "white",
            "linecolor": "white",
            "ticks": ""
           }
          },
          "scene": {
           "xaxis": {
            "backgroundcolor": "#E5ECF6",
            "gridcolor": "white",
            "gridwidth": 2,
            "linecolor": "white",
            "showbackground": true,
            "ticks": "",
            "zerolinecolor": "white"
           },
           "yaxis": {
            "backgroundcolor": "#E5ECF6",
            "gridcolor": "white",
            "gridwidth": 2,
            "linecolor": "white",
            "showbackground": true,
            "ticks": "",
            "zerolinecolor": "white"
           },
           "zaxis": {
            "backgroundcolor": "#E5ECF6",
            "gridcolor": "white",
            "gridwidth": 2,
            "linecolor": "white",
            "showbackground": true,
            "ticks": "",
            "zerolinecolor": "white"
           }
          },
          "shapedefaults": {
           "line": {
            "color": "#2a3f5f"
           }
          },
          "ternary": {
           "aaxis": {
            "gridcolor": "white",
            "linecolor": "white",
            "ticks": ""
           },
           "baxis": {
            "gridcolor": "white",
            "linecolor": "white",
            "ticks": ""
           },
           "bgcolor": "#E5ECF6",
           "caxis": {
            "gridcolor": "white",
            "linecolor": "white",
            "ticks": ""
           }
          },
          "title": {
           "x": 0.05
          },
          "xaxis": {
           "automargin": true,
           "gridcolor": "white",
           "linecolor": "white",
           "ticks": "",
           "title": {
            "standoff": 15
           },
           "zerolinecolor": "white",
           "zerolinewidth": 2
          },
          "yaxis": {
           "automargin": true,
           "gridcolor": "white",
           "linecolor": "white",
           "ticks": "",
           "title": {
            "standoff": 15
           },
           "zerolinecolor": "white",
           "zerolinewidth": 2
          }
         }
        },
        "title": {
         "text": "MACS2 peaks"
        }
       }
      },
      "text/html": [
       "<div>\n",
       "        \n",
       "        \n",
       "            <div id=\"102f3584-7b5c-4ead-b86a-28a9e2e3c776\" class=\"plotly-graph-div\" style=\"height:525px; width:100%;\"></div>\n",
       "            <script type=\"text/javascript\">\n",
       "                require([\"plotly\"], function(Plotly) {\n",
       "                    window.PLOTLYENV=window.PLOTLYENV || {};\n",
       "                    \n",
       "                if (document.getElementById(\"102f3584-7b5c-4ead-b86a-28a9e2e3c776\")) {\n",
       "                    Plotly.newPlot(\n",
       "                        '102f3584-7b5c-4ead-b86a-28a9e2e3c776',\n",
       "                        [{\"line\": {\"shape\": \"linear\"}, \"name\": \"macs2 mean\", \"type\": \"scatter\", \"x\": [\"H3K4me2_ChIPSeq_CCR4Neg-Donor1\", \"H3K4me2_ChIPSeq_CCR4Neg-Donor11\", \"H3K4me2_ChIPSeq_CCR4Neg-Donor12\", \"H3K4me2_ChIPSeq_CCR4Neg-Donor13\", \"H3K4me2_ChIPSeq_CCR4Neg-Donor14\", \"H3K4me2_ChIPSeq_CCR4Neg-Donor15\", \"H3K4me2_ChIPSeq_CCR4Neg-Donor16\", \"H3K4me2_ChIPSeq_CCR4Neg-Donor17\", \"H3K4me2_ChIPSeq_CCR4Neg-Donor18\", \"H3K4me2_ChIPSeq_CCR4Neg-Donor19\", \"H3K4me2_ChIPSeq_CCR4Neg-Donor20\", \"H3K4me2_ChIPSeq_CCR4Neg-Donor21\", \"H3K4me2_ChIPSeq_CCR4Neg-Donor22\", \"H3K4me2_ChIPSeq_CCR4Neg-Donor23\", \"H3K4me2_ChIPSeq_CCR4Neg-Donor4\", \"H3K4me2_ChIPSeq_CCR4Neg-Donor5\", \"H3K4me2_ChIPSeq_CCR4Neg-Donor6\", \"H3K4me2_ChIPSeq_CCR4Neg-Donor7\", \"H3K4me2_ChIPSeq_CCR4Neg-Donor8\", \"H3K4me2_ChIPSeq_CCR4Neg-Donor9\", \"H3K4me2_ChIPSeq_CCR4pos-Donor1\", \"H3K4me2_ChIPSeq_CCR4pos-Donor10\", \"H3K4me2_ChIPSeq_CCR4pos-Donor11\", \"H3K4me2_ChIPSeq_CCR4pos-Donor12\", \"H3K4me2_ChIPSeq_CCR4pos-Donor13\", \"H3K4me2_ChIPSeq_CCR4pos-Donor14\", \"H3K4me2_ChIPSeq_CCR4pos-Donor15\", \"H3K4me2_ChIPSeq_CCR4pos-Donor16\", \"H3K4me2_ChIPSeq_CCR4pos-Donor17\", \"H3K4me2_ChIPSeq_CCR4pos-Donor18\", \"H3K4me2_ChIPSeq_CCR4pos-Donor19\", \"H3K4me2_ChIPSeq_CCR4pos-Donor2\", \"H3K4me2_ChIPSeq_CCR4pos-Donor20\", \"H3K4me2_ChIPSeq_CCR4pos-Donor21\", \"H3K4me2_ChIPSeq_CCR4pos-Donor22\", \"H3K4me2_ChIPSeq_CCR4pos-Donor23\", \"H3K4me2_ChIPSeq_CCR4pos-Donor3\", \"H3K4me2_ChIPSeq_CCR4pos-Donor4\", \"H3K4me2_ChIPSeq_CCR4pos-Donor5\", \"H3K4me2_ChIPSeq_CCR4pos-Donor7\", \"H3K4me2_ChIPSeq_CCR4pos-Donor8\", \"H3K4me2_ChIPSeq_CCR4pos-Donor9\", \"H3K4me2_ChIPSeq_Naive-Donor1\", \"H3K4me2_ChIPSeq_Naive-Donor10\", \"H3K4me2_ChIPSeq_Naive-Donor11\", \"H3K4me2_ChIPSeq_Naive-Donor12\", \"H3K4me2_ChIPSeq_Naive-Donor13\", \"H3K4me2_ChIPSeq_Naive-Donor14\", \"H3K4me2_ChIPSeq_Naive-Donor15\", \"H3K4me2_ChIPSeq_Naive-Donor16\", \"H3K4me2_ChIPSeq_Naive-Donor17\", \"H3K4me2_ChIPSeq_Naive-Donor18\", \"H3K4me2_ChIPSeq_Naive-Donor19\", \"H3K4me2_ChIPSeq_Naive-Donor2\", \"H3K4me2_ChIPSeq_Naive-Donor20\", \"H3K4me2_ChIPSeq_Naive-Donor21\", \"H3K4me2_ChIPSeq_Naive-Donor22\", \"H3K4me2_ChIPSeq_Naive-Donor23\", \"H3K4me2_ChIPSeq_Naive-Donor3\", \"H3K4me2_ChIPSeq_Naive-Donor5\", \"H3K4me2_ChIPSeq_Naive-Donor7\", \"H3K4me2_ChIPSeq_Naive-Donor8\", \"H3K4me2_ChIPSeq_Naive-Donor9\"], \"y\": [115628.0, 92678.0, 88187.5, 131170.5, 101642.0, 120372.0, 109268.0, 109916.0, 127909.5, 120811.5, 106299.0, 82292.0, 109901.5, 98679.0, 96001.0, 102387.0, 104044.0, 113690.0, 132461.5, 64068.0, 108331.0, 111743.0, 121796.0, 94091.5, 71706.5, 93958.0, 100473.5, 117112.0, 95699.5, 128470.5, 106689.0, 121865.0, 110213.5, 99154.5, 94883.0, 93596.0, 84952.0, 111065.0, 108358.0, 115008.0, 135131.0, 113035.5, 106319.66666666667, 120354.0, 125518.0, 88007.0, 115011.5, 134047.0, 120004.0, 108980.5, 106117.0, 85073.0, 112973.5, 114551.0, 102874.0, 124083.33333333333, 69896.0, 96490.5, 144211.0, 107222.0, 133729.0, 138250.0, 103570.5]}, {\"line\": {\"shape\": \"linear\"}, \"name\": \"macs2 std\", \"type\": \"scatter\", \"x\": [\"H3K4me2_ChIPSeq_CCR4Neg-Donor1\", \"H3K4me2_ChIPSeq_CCR4Neg-Donor11\", \"H3K4me2_ChIPSeq_CCR4Neg-Donor12\", \"H3K4me2_ChIPSeq_CCR4Neg-Donor13\", \"H3K4me2_ChIPSeq_CCR4Neg-Donor14\", \"H3K4me2_ChIPSeq_CCR4Neg-Donor15\", \"H3K4me2_ChIPSeq_CCR4Neg-Donor16\", \"H3K4me2_ChIPSeq_CCR4Neg-Donor17\", \"H3K4me2_ChIPSeq_CCR4Neg-Donor18\", \"H3K4me2_ChIPSeq_CCR4Neg-Donor19\", \"H3K4me2_ChIPSeq_CCR4Neg-Donor20\", \"H3K4me2_ChIPSeq_CCR4Neg-Donor21\", \"H3K4me2_ChIPSeq_CCR4Neg-Donor22\", \"H3K4me2_ChIPSeq_CCR4Neg-Donor23\", \"H3K4me2_ChIPSeq_CCR4Neg-Donor4\", \"H3K4me2_ChIPSeq_CCR4Neg-Donor5\", \"H3K4me2_ChIPSeq_CCR4Neg-Donor6\", \"H3K4me2_ChIPSeq_CCR4Neg-Donor7\", \"H3K4me2_ChIPSeq_CCR4Neg-Donor8\", \"H3K4me2_ChIPSeq_CCR4Neg-Donor9\", \"H3K4me2_ChIPSeq_CCR4pos-Donor1\", \"H3K4me2_ChIPSeq_CCR4pos-Donor10\", \"H3K4me2_ChIPSeq_CCR4pos-Donor11\", \"H3K4me2_ChIPSeq_CCR4pos-Donor12\", \"H3K4me2_ChIPSeq_CCR4pos-Donor13\", \"H3K4me2_ChIPSeq_CCR4pos-Donor14\", \"H3K4me2_ChIPSeq_CCR4pos-Donor15\", \"H3K4me2_ChIPSeq_CCR4pos-Donor16\", \"H3K4me2_ChIPSeq_CCR4pos-Donor17\", \"H3K4me2_ChIPSeq_CCR4pos-Donor18\", \"H3K4me2_ChIPSeq_CCR4pos-Donor19\", \"H3K4me2_ChIPSeq_CCR4pos-Donor2\", \"H3K4me2_ChIPSeq_CCR4pos-Donor20\", \"H3K4me2_ChIPSeq_CCR4pos-Donor21\", \"H3K4me2_ChIPSeq_CCR4pos-Donor22\", \"H3K4me2_ChIPSeq_CCR4pos-Donor23\", \"H3K4me2_ChIPSeq_CCR4pos-Donor3\", \"H3K4me2_ChIPSeq_CCR4pos-Donor4\", \"H3K4me2_ChIPSeq_CCR4pos-Donor5\", \"H3K4me2_ChIPSeq_CCR4pos-Donor7\", \"H3K4me2_ChIPSeq_CCR4pos-Donor8\", \"H3K4me2_ChIPSeq_CCR4pos-Donor9\", \"H3K4me2_ChIPSeq_Naive-Donor1\", \"H3K4me2_ChIPSeq_Naive-Donor10\", \"H3K4me2_ChIPSeq_Naive-Donor11\", \"H3K4me2_ChIPSeq_Naive-Donor12\", \"H3K4me2_ChIPSeq_Naive-Donor13\", \"H3K4me2_ChIPSeq_Naive-Donor14\", \"H3K4me2_ChIPSeq_Naive-Donor15\", \"H3K4me2_ChIPSeq_Naive-Donor16\", \"H3K4me2_ChIPSeq_Naive-Donor17\", \"H3K4me2_ChIPSeq_Naive-Donor18\", \"H3K4me2_ChIPSeq_Naive-Donor19\", \"H3K4me2_ChIPSeq_Naive-Donor2\", \"H3K4me2_ChIPSeq_Naive-Donor20\", \"H3K4me2_ChIPSeq_Naive-Donor21\", \"H3K4me2_ChIPSeq_Naive-Donor22\", \"H3K4me2_ChIPSeq_Naive-Donor23\", \"H3K4me2_ChIPSeq_Naive-Donor3\", \"H3K4me2_ChIPSeq_Naive-Donor5\", \"H3K4me2_ChIPSeq_Naive-Donor7\", \"H3K4me2_ChIPSeq_Naive-Donor8\", \"H3K4me2_ChIPSeq_Naive-Donor9\"], \"y\": [44848.954703537966, 0.0, 311.8340905032675, 15325.125268656044, 6375.274739177912, 22289.41995656235, 34157.500171997366, 349.31074990615446, 51664.75696739509, 39533.63302935869, 0.0, 21551.200477003596, 34784.70388690983, 5289.158723275375, 4625.892562522394, 15901.41729532308, 7710.292342058115, 0.0, 57482.831562998006, 0.0, 47544.44575342108, 0.0, 29876.675718694005, 6633.368714311002, 9044.602838157129, 23297.75422653437, 22298.612344717778, 3836.7613947182067, 4691.653493172743, 32949.05468294956, 24689.340371909493, 15407.856762054871, 32052.443284405013, 29761.4173133606, 32696.617562065956, 8611.146381289776, 0.0, 8342.445804438888, 11578.166435148529, 12831.159651411092, 19356.341028200553, 35752.02596357303, 26328.06951398703, 0.0, 3886.258869401265, 30774.701330800923, 3550.3831483376553, 27051.07702107256, 4466.086429974234, 11209.763802150337, 40286.70175132236, 14338.71130890081, 18498.62050262127, 9049.552585625435, 4871.965722375312, 23924.463470124745, 0.0, 5664.632424085432, 27526.25277802992, 17321.287711945668, 18981.57443417168, 39665.86199744057, 29465.846678824622]}],\n",
       "                        {\"template\": {\"data\": {\"bar\": [{\"error_x\": {\"color\": \"#2a3f5f\"}, \"error_y\": {\"color\": \"#2a3f5f\"}, \"marker\": {\"line\": {\"color\": \"#E5ECF6\", \"width\": 0.5}}, \"type\": \"bar\"}], \"barpolar\": [{\"marker\": {\"line\": {\"color\": \"#E5ECF6\", \"width\": 0.5}}, \"type\": \"barpolar\"}], \"carpet\": [{\"aaxis\": {\"endlinecolor\": \"#2a3f5f\", \"gridcolor\": \"white\", \"linecolor\": \"white\", \"minorgridcolor\": \"white\", \"startlinecolor\": \"#2a3f5f\"}, \"baxis\": {\"endlinecolor\": \"#2a3f5f\", \"gridcolor\": \"white\", \"linecolor\": \"white\", \"minorgridcolor\": \"white\", \"startlinecolor\": \"#2a3f5f\"}, \"type\": \"carpet\"}], \"choropleth\": [{\"colorbar\": {\"outlinewidth\": 0, \"ticks\": \"\"}, \"type\": \"choropleth\"}], \"contour\": [{\"colorbar\": {\"outlinewidth\": 0, \"ticks\": \"\"}, \"colorscale\": [[0.0, \"#0d0887\"], [0.1111111111111111, \"#46039f\"], [0.2222222222222222, \"#7201a8\"], [0.3333333333333333, \"#9c179e\"], [0.4444444444444444, \"#bd3786\"], [0.5555555555555556, \"#d8576b\"], [0.6666666666666666, \"#ed7953\"], [0.7777777777777778, \"#fb9f3a\"], [0.8888888888888888, \"#fdca26\"], [1.0, \"#f0f921\"]], \"type\": \"contour\"}], \"contourcarpet\": [{\"colorbar\": {\"outlinewidth\": 0, \"ticks\": \"\"}, \"type\": \"contourcarpet\"}], \"heatmap\": [{\"colorbar\": {\"outlinewidth\": 0, \"ticks\": \"\"}, \"colorscale\": [[0.0, \"#0d0887\"], [0.1111111111111111, \"#46039f\"], [0.2222222222222222, \"#7201a8\"], [0.3333333333333333, \"#9c179e\"], [0.4444444444444444, \"#bd3786\"], [0.5555555555555556, \"#d8576b\"], [0.6666666666666666, \"#ed7953\"], [0.7777777777777778, \"#fb9f3a\"], [0.8888888888888888, \"#fdca26\"], [1.0, \"#f0f921\"]], \"type\": \"heatmap\"}], \"heatmapgl\": [{\"colorbar\": {\"outlinewidth\": 0, \"ticks\": \"\"}, \"colorscale\": [[0.0, \"#0d0887\"], [0.1111111111111111, \"#46039f\"], [0.2222222222222222, \"#7201a8\"], [0.3333333333333333, \"#9c179e\"], [0.4444444444444444, \"#bd3786\"], [0.5555555555555556, \"#d8576b\"], [0.6666666666666666, \"#ed7953\"], [0.7777777777777778, \"#fb9f3a\"], [0.8888888888888888, \"#fdca26\"], [1.0, \"#f0f921\"]], \"type\": \"heatmapgl\"}], \"histogram\": [{\"marker\": {\"colorbar\": {\"outlinewidth\": 0, \"ticks\": \"\"}}, \"type\": \"histogram\"}], \"histogram2d\": [{\"colorbar\": {\"outlinewidth\": 0, \"ticks\": \"\"}, \"colorscale\": [[0.0, \"#0d0887\"], [0.1111111111111111, \"#46039f\"], [0.2222222222222222, \"#7201a8\"], [0.3333333333333333, \"#9c179e\"], [0.4444444444444444, \"#bd3786\"], [0.5555555555555556, \"#d8576b\"], [0.6666666666666666, \"#ed7953\"], [0.7777777777777778, \"#fb9f3a\"], [0.8888888888888888, \"#fdca26\"], [1.0, \"#f0f921\"]], \"type\": \"histogram2d\"}], \"histogram2dcontour\": [{\"colorbar\": {\"outlinewidth\": 0, \"ticks\": \"\"}, \"colorscale\": [[0.0, \"#0d0887\"], [0.1111111111111111, \"#46039f\"], [0.2222222222222222, \"#7201a8\"], [0.3333333333333333, \"#9c179e\"], [0.4444444444444444, \"#bd3786\"], [0.5555555555555556, \"#d8576b\"], [0.6666666666666666, \"#ed7953\"], [0.7777777777777778, \"#fb9f3a\"], [0.8888888888888888, \"#fdca26\"], [1.0, \"#f0f921\"]], \"type\": \"histogram2dcontour\"}], \"mesh3d\": [{\"colorbar\": {\"outlinewidth\": 0, \"ticks\": \"\"}, \"type\": \"mesh3d\"}], \"parcoords\": [{\"line\": {\"colorbar\": {\"outlinewidth\": 0, \"ticks\": \"\"}}, \"type\": \"parcoords\"}], \"pie\": [{\"automargin\": true, \"type\": \"pie\"}], \"scatter\": [{\"marker\": {\"colorbar\": {\"outlinewidth\": 0, \"ticks\": \"\"}}, \"type\": \"scatter\"}], \"scatter3d\": [{\"line\": {\"colorbar\": {\"outlinewidth\": 0, \"ticks\": \"\"}}, \"marker\": {\"colorbar\": {\"outlinewidth\": 0, \"ticks\": \"\"}}, \"type\": \"scatter3d\"}], \"scattercarpet\": [{\"marker\": {\"colorbar\": {\"outlinewidth\": 0, \"ticks\": \"\"}}, \"type\": \"scattercarpet\"}], \"scattergeo\": [{\"marker\": {\"colorbar\": {\"outlinewidth\": 0, \"ticks\": \"\"}}, \"type\": \"scattergeo\"}], \"scattergl\": [{\"marker\": {\"colorbar\": {\"outlinewidth\": 0, \"ticks\": \"\"}}, \"type\": \"scattergl\"}], \"scattermapbox\": [{\"marker\": {\"colorbar\": {\"outlinewidth\": 0, \"ticks\": \"\"}}, \"type\": \"scattermapbox\"}], \"scatterpolar\": [{\"marker\": {\"colorbar\": {\"outlinewidth\": 0, \"ticks\": \"\"}}, \"type\": \"scatterpolar\"}], \"scatterpolargl\": [{\"marker\": {\"colorbar\": {\"outlinewidth\": 0, \"ticks\": \"\"}}, \"type\": \"scatterpolargl\"}], \"scatterternary\": [{\"marker\": {\"colorbar\": {\"outlinewidth\": 0, \"ticks\": \"\"}}, \"type\": \"scatterternary\"}], \"surface\": [{\"colorbar\": {\"outlinewidth\": 0, \"ticks\": \"\"}, \"colorscale\": [[0.0, \"#0d0887\"], [0.1111111111111111, \"#46039f\"], [0.2222222222222222, \"#7201a8\"], [0.3333333333333333, \"#9c179e\"], [0.4444444444444444, \"#bd3786\"], [0.5555555555555556, \"#d8576b\"], [0.6666666666666666, \"#ed7953\"], [0.7777777777777778, \"#fb9f3a\"], [0.8888888888888888, \"#fdca26\"], [1.0, \"#f0f921\"]], \"type\": \"surface\"}], \"table\": [{\"cells\": {\"fill\": {\"color\": \"#EBF0F8\"}, \"line\": {\"color\": \"white\"}}, \"header\": {\"fill\": {\"color\": \"#C8D4E3\"}, \"line\": {\"color\": \"white\"}}, \"type\": \"table\"}]}, \"layout\": {\"annotationdefaults\": {\"arrowcolor\": \"#2a3f5f\", \"arrowhead\": 0, \"arrowwidth\": 1}, \"coloraxis\": {\"colorbar\": {\"outlinewidth\": 0, \"ticks\": \"\"}}, \"colorscale\": {\"diverging\": [[0, \"#8e0152\"], [0.1, \"#c51b7d\"], [0.2, \"#de77ae\"], [0.3, \"#f1b6da\"], [0.4, \"#fde0ef\"], [0.5, \"#f7f7f7\"], [0.6, \"#e6f5d0\"], [0.7, \"#b8e186\"], [0.8, \"#7fbc41\"], [0.9, \"#4d9221\"], [1, \"#276419\"]], \"sequential\": [[0.0, \"#0d0887\"], [0.1111111111111111, \"#46039f\"], [0.2222222222222222, \"#7201a8\"], [0.3333333333333333, \"#9c179e\"], [0.4444444444444444, \"#bd3786\"], [0.5555555555555556, \"#d8576b\"], [0.6666666666666666, \"#ed7953\"], [0.7777777777777778, \"#fb9f3a\"], [0.8888888888888888, \"#fdca26\"], [1.0, \"#f0f921\"]], \"sequentialminus\": [[0.0, \"#0d0887\"], [0.1111111111111111, \"#46039f\"], [0.2222222222222222, \"#7201a8\"], [0.3333333333333333, \"#9c179e\"], [0.4444444444444444, \"#bd3786\"], [0.5555555555555556, \"#d8576b\"], [0.6666666666666666, \"#ed7953\"], [0.7777777777777778, \"#fb9f3a\"], [0.8888888888888888, \"#fdca26\"], [1.0, \"#f0f921\"]]}, \"colorway\": [\"#636efa\", \"#EF553B\", \"#00cc96\", \"#ab63fa\", \"#FFA15A\", \"#19d3f3\", \"#FF6692\", \"#B6E880\", \"#FF97FF\", \"#FECB52\"], \"font\": {\"color\": \"#2a3f5f\"}, \"geo\": {\"bgcolor\": \"white\", \"lakecolor\": \"white\", \"landcolor\": \"#E5ECF6\", \"showlakes\": true, \"showland\": true, \"subunitcolor\": \"white\"}, \"hoverlabel\": {\"align\": \"left\"}, \"hovermode\": \"closest\", \"mapbox\": {\"style\": \"light\"}, \"paper_bgcolor\": \"white\", \"plot_bgcolor\": \"#E5ECF6\", \"polar\": {\"angularaxis\": {\"gridcolor\": \"white\", \"linecolor\": \"white\", \"ticks\": \"\"}, \"bgcolor\": \"#E5ECF6\", \"radialaxis\": {\"gridcolor\": \"white\", \"linecolor\": \"white\", \"ticks\": \"\"}}, \"scene\": {\"xaxis\": {\"backgroundcolor\": \"#E5ECF6\", \"gridcolor\": \"white\", \"gridwidth\": 2, \"linecolor\": \"white\", \"showbackground\": true, \"ticks\": \"\", \"zerolinecolor\": \"white\"}, \"yaxis\": {\"backgroundcolor\": \"#E5ECF6\", \"gridcolor\": \"white\", \"gridwidth\": 2, \"linecolor\": \"white\", \"showbackground\": true, \"ticks\": \"\", \"zerolinecolor\": \"white\"}, \"zaxis\": {\"backgroundcolor\": \"#E5ECF6\", \"gridcolor\": \"white\", \"gridwidth\": 2, \"linecolor\": \"white\", \"showbackground\": true, \"ticks\": \"\", \"zerolinecolor\": \"white\"}}, \"shapedefaults\": {\"line\": {\"color\": \"#2a3f5f\"}}, \"ternary\": {\"aaxis\": {\"gridcolor\": \"white\", \"linecolor\": \"white\", \"ticks\": \"\"}, \"baxis\": {\"gridcolor\": \"white\", \"linecolor\": \"white\", \"ticks\": \"\"}, \"bgcolor\": \"#E5ECF6\", \"caxis\": {\"gridcolor\": \"white\", \"linecolor\": \"white\", \"ticks\": \"\"}}, \"title\": {\"x\": 0.05}, \"xaxis\": {\"automargin\": true, \"gridcolor\": \"white\", \"linecolor\": \"white\", \"ticks\": \"\", \"title\": {\"standoff\": 15}, \"zerolinecolor\": \"white\", \"zerolinewidth\": 2}, \"yaxis\": {\"automargin\": true, \"gridcolor\": \"white\", \"linecolor\": \"white\", \"ticks\": \"\", \"title\": {\"standoff\": 15}, \"zerolinecolor\": \"white\", \"zerolinewidth\": 2}}}, \"title\": {\"text\": \"MACS2 peaks\"}},\n",
       "                        {\"responsive\": true}\n",
       "                    ).then(function(){\n",
       "                            \n",
       "var gd = document.getElementById('102f3584-7b5c-4ead-b86a-28a9e2e3c776');\n",
       "var x = new MutationObserver(function (mutations, observer) {{\n",
       "        var display = window.getComputedStyle(gd).display;\n",
       "        if (!display || display === 'none') {{\n",
       "            console.log([gd, 'removed!']);\n",
       "            Plotly.purge(gd);\n",
       "            observer.disconnect();\n",
       "        }}\n",
       "}});\n",
       "\n",
       "// Listen for the removal of the full notebook cells\n",
       "var notebookContainer = gd.closest('#notebook-container');\n",
       "if (notebookContainer) {{\n",
       "    x.observe(notebookContainer, {childList: true});\n",
       "}}\n",
       "\n",
       "// Listen for the clearing of the current output cell\n",
       "var outputEl = gd.closest('.output');\n",
       "if (outputEl) {{\n",
       "    x.observe(outputEl, {childList: true});\n",
       "}}\n",
       "\n",
       "                        })\n",
       "                };\n",
       "                });\n",
       "            </script>\n",
       "        </div>"
      ]
     },
     "metadata": {},
     "output_type": "display_data"
    }
   ],
   "source": [
    "import plotly.graph_objects as go\n",
    "import plotly.express as px\n",
    "\n",
    "fig = go.Figure(layout=go.Layout(title=go.layout.Title(text=\"MACS2 peaks\")))\n",
    "fig.add_trace(go.Scatter(x=dfm_mean['name'], y=dfm_mean['peaks'], name=\"macs2 mean\", line_shape='linear'))\n",
    "fig.add_trace(go.Scatter(x=dfm_std['name'], y=dfm_std['peaks'], name=\"macs2 std\", line_shape='linear'))\n",
    "fig.show()"
   ]
  },
  {
   "cell_type": "code",
   "execution_count": 100,
   "metadata": {},
   "outputs": [
    {
     "data": {
      "application/vnd.plotly.v1+json": {
       "config": {
        "plotlyServerURL": "https://plot.ly"
       },
       "data": [
        {
         "error_y": {
          "array": [
           44848.954703537966,
           0,
           311.8340905032675,
           15325.125268656044,
           6375.274739177912,
           22289.41995656235,
           34157.500171997366,
           349.31074990615446,
           51664.75696739509,
           39533.63302935869,
           0,
           21551.200477003596,
           34784.70388690983,
           5289.158723275375,
           4625.892562522394,
           15901.41729532308,
           7710.292342058115,
           0,
           57482.831562998006,
           0,
           47544.44575342108,
           0,
           29876.675718694005,
           6633.368714311002,
           9044.602838157129,
           23297.75422653437,
           22298.612344717778,
           3836.7613947182067,
           4691.653493172743,
           32949.05468294956,
           24689.340371909493,
           15407.856762054871,
           32052.443284405013,
           29761.4173133606,
           32696.617562065956,
           8611.146381289776,
           0,
           8342.445804438888,
           11578.166435148529,
           12831.159651411092,
           19356.341028200553,
           35752.02596357303,
           26328.06951398703,
           0,
           3886.258869401265,
           30774.701330800923,
           3550.3831483376553,
           27051.07702107256,
           4466.086429974234,
           11209.763802150337,
           40286.70175132236,
           14338.71130890081,
           18498.62050262127,
           9049.552585625435,
           4871.965722375312,
           23924.463470124745,
           0,
           5664.632424085432,
           27526.25277802992,
           17321.287711945668,
           18981.57443417168,
           39665.86199744057,
           29465.846678824622
          ],
          "type": "data"
         },
         "name": "macs2 q0.05",
         "type": "bar",
         "x": [
          "H3K4me2_ChIPSeq_CCR4Neg-Donor1",
          "H3K4me2_ChIPSeq_CCR4Neg-Donor11",
          "H3K4me2_ChIPSeq_CCR4Neg-Donor12",
          "H3K4me2_ChIPSeq_CCR4Neg-Donor13",
          "H3K4me2_ChIPSeq_CCR4Neg-Donor14",
          "H3K4me2_ChIPSeq_CCR4Neg-Donor15",
          "H3K4me2_ChIPSeq_CCR4Neg-Donor16",
          "H3K4me2_ChIPSeq_CCR4Neg-Donor17",
          "H3K4me2_ChIPSeq_CCR4Neg-Donor18",
          "H3K4me2_ChIPSeq_CCR4Neg-Donor19",
          "H3K4me2_ChIPSeq_CCR4Neg-Donor20",
          "H3K4me2_ChIPSeq_CCR4Neg-Donor21",
          "H3K4me2_ChIPSeq_CCR4Neg-Donor22",
          "H3K4me2_ChIPSeq_CCR4Neg-Donor23",
          "H3K4me2_ChIPSeq_CCR4Neg-Donor4",
          "H3K4me2_ChIPSeq_CCR4Neg-Donor5",
          "H3K4me2_ChIPSeq_CCR4Neg-Donor6",
          "H3K4me2_ChIPSeq_CCR4Neg-Donor7",
          "H3K4me2_ChIPSeq_CCR4Neg-Donor8",
          "H3K4me2_ChIPSeq_CCR4Neg-Donor9",
          "H3K4me2_ChIPSeq_CCR4pos-Donor1",
          "H3K4me2_ChIPSeq_CCR4pos-Donor10",
          "H3K4me2_ChIPSeq_CCR4pos-Donor11",
          "H3K4me2_ChIPSeq_CCR4pos-Donor12",
          "H3K4me2_ChIPSeq_CCR4pos-Donor13",
          "H3K4me2_ChIPSeq_CCR4pos-Donor14",
          "H3K4me2_ChIPSeq_CCR4pos-Donor15",
          "H3K4me2_ChIPSeq_CCR4pos-Donor16",
          "H3K4me2_ChIPSeq_CCR4pos-Donor17",
          "H3K4me2_ChIPSeq_CCR4pos-Donor18",
          "H3K4me2_ChIPSeq_CCR4pos-Donor19",
          "H3K4me2_ChIPSeq_CCR4pos-Donor2",
          "H3K4me2_ChIPSeq_CCR4pos-Donor20",
          "H3K4me2_ChIPSeq_CCR4pos-Donor21",
          "H3K4me2_ChIPSeq_CCR4pos-Donor22",
          "H3K4me2_ChIPSeq_CCR4pos-Donor23",
          "H3K4me2_ChIPSeq_CCR4pos-Donor3",
          "H3K4me2_ChIPSeq_CCR4pos-Donor4",
          "H3K4me2_ChIPSeq_CCR4pos-Donor5",
          "H3K4me2_ChIPSeq_CCR4pos-Donor7",
          "H3K4me2_ChIPSeq_CCR4pos-Donor8",
          "H3K4me2_ChIPSeq_CCR4pos-Donor9",
          "H3K4me2_ChIPSeq_Naive-Donor1",
          "H3K4me2_ChIPSeq_Naive-Donor10",
          "H3K4me2_ChIPSeq_Naive-Donor11",
          "H3K4me2_ChIPSeq_Naive-Donor12",
          "H3K4me2_ChIPSeq_Naive-Donor13",
          "H3K4me2_ChIPSeq_Naive-Donor14",
          "H3K4me2_ChIPSeq_Naive-Donor15",
          "H3K4me2_ChIPSeq_Naive-Donor16",
          "H3K4me2_ChIPSeq_Naive-Donor17",
          "H3K4me2_ChIPSeq_Naive-Donor18",
          "H3K4me2_ChIPSeq_Naive-Donor19",
          "H3K4me2_ChIPSeq_Naive-Donor2",
          "H3K4me2_ChIPSeq_Naive-Donor20",
          "H3K4me2_ChIPSeq_Naive-Donor21",
          "H3K4me2_ChIPSeq_Naive-Donor22",
          "H3K4me2_ChIPSeq_Naive-Donor23",
          "H3K4me2_ChIPSeq_Naive-Donor3",
          "H3K4me2_ChIPSeq_Naive-Donor5",
          "H3K4me2_ChIPSeq_Naive-Donor7",
          "H3K4me2_ChIPSeq_Naive-Donor8",
          "H3K4me2_ChIPSeq_Naive-Donor9"
         ],
         "y": [
          115628,
          92678,
          88187.5,
          131170.5,
          101642,
          120372,
          109268,
          109916,
          127909.5,
          120811.5,
          106299,
          82292,
          109901.5,
          98679,
          96001,
          102387,
          104044,
          113690,
          132461.5,
          64068,
          108331,
          111743,
          121796,
          94091.5,
          71706.5,
          93958,
          100473.5,
          117112,
          95699.5,
          128470.5,
          106689,
          121865,
          110213.5,
          99154.5,
          94883,
          93596,
          84952,
          111065,
          108358,
          115008,
          135131,
          113035.5,
          106319.66666666667,
          120354,
          125518,
          88007,
          115011.5,
          134047,
          120004,
          108980.5,
          106117,
          85073,
          112973.5,
          114551,
          102874,
          124083.33333333333,
          69896,
          96490.5,
          144211,
          107222,
          133729,
          138250,
          103570.5
         ]
        }
       ],
       "layout": {
        "barmode": "group",
        "template": {
         "data": {
          "bar": [
           {
            "error_x": {
             "color": "#2a3f5f"
            },
            "error_y": {
             "color": "#2a3f5f"
            },
            "marker": {
             "line": {
              "color": "#E5ECF6",
              "width": 0.5
             }
            },
            "type": "bar"
           }
          ],
          "barpolar": [
           {
            "marker": {
             "line": {
              "color": "#E5ECF6",
              "width": 0.5
             }
            },
            "type": "barpolar"
           }
          ],
          "carpet": [
           {
            "aaxis": {
             "endlinecolor": "#2a3f5f",
             "gridcolor": "white",
             "linecolor": "white",
             "minorgridcolor": "white",
             "startlinecolor": "#2a3f5f"
            },
            "baxis": {
             "endlinecolor": "#2a3f5f",
             "gridcolor": "white",
             "linecolor": "white",
             "minorgridcolor": "white",
             "startlinecolor": "#2a3f5f"
            },
            "type": "carpet"
           }
          ],
          "choropleth": [
           {
            "colorbar": {
             "outlinewidth": 0,
             "ticks": ""
            },
            "type": "choropleth"
           }
          ],
          "contour": [
           {
            "colorbar": {
             "outlinewidth": 0,
             "ticks": ""
            },
            "colorscale": [
             [
              0,
              "#0d0887"
             ],
             [
              0.1111111111111111,
              "#46039f"
             ],
             [
              0.2222222222222222,
              "#7201a8"
             ],
             [
              0.3333333333333333,
              "#9c179e"
             ],
             [
              0.4444444444444444,
              "#bd3786"
             ],
             [
              0.5555555555555556,
              "#d8576b"
             ],
             [
              0.6666666666666666,
              "#ed7953"
             ],
             [
              0.7777777777777778,
              "#fb9f3a"
             ],
             [
              0.8888888888888888,
              "#fdca26"
             ],
             [
              1,
              "#f0f921"
             ]
            ],
            "type": "contour"
           }
          ],
          "contourcarpet": [
           {
            "colorbar": {
             "outlinewidth": 0,
             "ticks": ""
            },
            "type": "contourcarpet"
           }
          ],
          "heatmap": [
           {
            "colorbar": {
             "outlinewidth": 0,
             "ticks": ""
            },
            "colorscale": [
             [
              0,
              "#0d0887"
             ],
             [
              0.1111111111111111,
              "#46039f"
             ],
             [
              0.2222222222222222,
              "#7201a8"
             ],
             [
              0.3333333333333333,
              "#9c179e"
             ],
             [
              0.4444444444444444,
              "#bd3786"
             ],
             [
              0.5555555555555556,
              "#d8576b"
             ],
             [
              0.6666666666666666,
              "#ed7953"
             ],
             [
              0.7777777777777778,
              "#fb9f3a"
             ],
             [
              0.8888888888888888,
              "#fdca26"
             ],
             [
              1,
              "#f0f921"
             ]
            ],
            "type": "heatmap"
           }
          ],
          "heatmapgl": [
           {
            "colorbar": {
             "outlinewidth": 0,
             "ticks": ""
            },
            "colorscale": [
             [
              0,
              "#0d0887"
             ],
             [
              0.1111111111111111,
              "#46039f"
             ],
             [
              0.2222222222222222,
              "#7201a8"
             ],
             [
              0.3333333333333333,
              "#9c179e"
             ],
             [
              0.4444444444444444,
              "#bd3786"
             ],
             [
              0.5555555555555556,
              "#d8576b"
             ],
             [
              0.6666666666666666,
              "#ed7953"
             ],
             [
              0.7777777777777778,
              "#fb9f3a"
             ],
             [
              0.8888888888888888,
              "#fdca26"
             ],
             [
              1,
              "#f0f921"
             ]
            ],
            "type": "heatmapgl"
           }
          ],
          "histogram": [
           {
            "marker": {
             "colorbar": {
              "outlinewidth": 0,
              "ticks": ""
             }
            },
            "type": "histogram"
           }
          ],
          "histogram2d": [
           {
            "colorbar": {
             "outlinewidth": 0,
             "ticks": ""
            },
            "colorscale": [
             [
              0,
              "#0d0887"
             ],
             [
              0.1111111111111111,
              "#46039f"
             ],
             [
              0.2222222222222222,
              "#7201a8"
             ],
             [
              0.3333333333333333,
              "#9c179e"
             ],
             [
              0.4444444444444444,
              "#bd3786"
             ],
             [
              0.5555555555555556,
              "#d8576b"
             ],
             [
              0.6666666666666666,
              "#ed7953"
             ],
             [
              0.7777777777777778,
              "#fb9f3a"
             ],
             [
              0.8888888888888888,
              "#fdca26"
             ],
             [
              1,
              "#f0f921"
             ]
            ],
            "type": "histogram2d"
           }
          ],
          "histogram2dcontour": [
           {
            "colorbar": {
             "outlinewidth": 0,
             "ticks": ""
            },
            "colorscale": [
             [
              0,
              "#0d0887"
             ],
             [
              0.1111111111111111,
              "#46039f"
             ],
             [
              0.2222222222222222,
              "#7201a8"
             ],
             [
              0.3333333333333333,
              "#9c179e"
             ],
             [
              0.4444444444444444,
              "#bd3786"
             ],
             [
              0.5555555555555556,
              "#d8576b"
             ],
             [
              0.6666666666666666,
              "#ed7953"
             ],
             [
              0.7777777777777778,
              "#fb9f3a"
             ],
             [
              0.8888888888888888,
              "#fdca26"
             ],
             [
              1,
              "#f0f921"
             ]
            ],
            "type": "histogram2dcontour"
           }
          ],
          "mesh3d": [
           {
            "colorbar": {
             "outlinewidth": 0,
             "ticks": ""
            },
            "type": "mesh3d"
           }
          ],
          "parcoords": [
           {
            "line": {
             "colorbar": {
              "outlinewidth": 0,
              "ticks": ""
             }
            },
            "type": "parcoords"
           }
          ],
          "pie": [
           {
            "automargin": true,
            "type": "pie"
           }
          ],
          "scatter": [
           {
            "marker": {
             "colorbar": {
              "outlinewidth": 0,
              "ticks": ""
             }
            },
            "type": "scatter"
           }
          ],
          "scatter3d": [
           {
            "line": {
             "colorbar": {
              "outlinewidth": 0,
              "ticks": ""
             }
            },
            "marker": {
             "colorbar": {
              "outlinewidth": 0,
              "ticks": ""
             }
            },
            "type": "scatter3d"
           }
          ],
          "scattercarpet": [
           {
            "marker": {
             "colorbar": {
              "outlinewidth": 0,
              "ticks": ""
             }
            },
            "type": "scattercarpet"
           }
          ],
          "scattergeo": [
           {
            "marker": {
             "colorbar": {
              "outlinewidth": 0,
              "ticks": ""
             }
            },
            "type": "scattergeo"
           }
          ],
          "scattergl": [
           {
            "marker": {
             "colorbar": {
              "outlinewidth": 0,
              "ticks": ""
             }
            },
            "type": "scattergl"
           }
          ],
          "scattermapbox": [
           {
            "marker": {
             "colorbar": {
              "outlinewidth": 0,
              "ticks": ""
             }
            },
            "type": "scattermapbox"
           }
          ],
          "scatterpolar": [
           {
            "marker": {
             "colorbar": {
              "outlinewidth": 0,
              "ticks": ""
             }
            },
            "type": "scatterpolar"
           }
          ],
          "scatterpolargl": [
           {
            "marker": {
             "colorbar": {
              "outlinewidth": 0,
              "ticks": ""
             }
            },
            "type": "scatterpolargl"
           }
          ],
          "scatterternary": [
           {
            "marker": {
             "colorbar": {
              "outlinewidth": 0,
              "ticks": ""
             }
            },
            "type": "scatterternary"
           }
          ],
          "surface": [
           {
            "colorbar": {
             "outlinewidth": 0,
             "ticks": ""
            },
            "colorscale": [
             [
              0,
              "#0d0887"
             ],
             [
              0.1111111111111111,
              "#46039f"
             ],
             [
              0.2222222222222222,
              "#7201a8"
             ],
             [
              0.3333333333333333,
              "#9c179e"
             ],
             [
              0.4444444444444444,
              "#bd3786"
             ],
             [
              0.5555555555555556,
              "#d8576b"
             ],
             [
              0.6666666666666666,
              "#ed7953"
             ],
             [
              0.7777777777777778,
              "#fb9f3a"
             ],
             [
              0.8888888888888888,
              "#fdca26"
             ],
             [
              1,
              "#f0f921"
             ]
            ],
            "type": "surface"
           }
          ],
          "table": [
           {
            "cells": {
             "fill": {
              "color": "#EBF0F8"
             },
             "line": {
              "color": "white"
             }
            },
            "header": {
             "fill": {
              "color": "#C8D4E3"
             },
             "line": {
              "color": "white"
             }
            },
            "type": "table"
           }
          ]
         },
         "layout": {
          "annotationdefaults": {
           "arrowcolor": "#2a3f5f",
           "arrowhead": 0,
           "arrowwidth": 1
          },
          "coloraxis": {
           "colorbar": {
            "outlinewidth": 0,
            "ticks": ""
           }
          },
          "colorscale": {
           "diverging": [
            [
             0,
             "#8e0152"
            ],
            [
             0.1,
             "#c51b7d"
            ],
            [
             0.2,
             "#de77ae"
            ],
            [
             0.3,
             "#f1b6da"
            ],
            [
             0.4,
             "#fde0ef"
            ],
            [
             0.5,
             "#f7f7f7"
            ],
            [
             0.6,
             "#e6f5d0"
            ],
            [
             0.7,
             "#b8e186"
            ],
            [
             0.8,
             "#7fbc41"
            ],
            [
             0.9,
             "#4d9221"
            ],
            [
             1,
             "#276419"
            ]
           ],
           "sequential": [
            [
             0,
             "#0d0887"
            ],
            [
             0.1111111111111111,
             "#46039f"
            ],
            [
             0.2222222222222222,
             "#7201a8"
            ],
            [
             0.3333333333333333,
             "#9c179e"
            ],
            [
             0.4444444444444444,
             "#bd3786"
            ],
            [
             0.5555555555555556,
             "#d8576b"
            ],
            [
             0.6666666666666666,
             "#ed7953"
            ],
            [
             0.7777777777777778,
             "#fb9f3a"
            ],
            [
             0.8888888888888888,
             "#fdca26"
            ],
            [
             1,
             "#f0f921"
            ]
           ],
           "sequentialminus": [
            [
             0,
             "#0d0887"
            ],
            [
             0.1111111111111111,
             "#46039f"
            ],
            [
             0.2222222222222222,
             "#7201a8"
            ],
            [
             0.3333333333333333,
             "#9c179e"
            ],
            [
             0.4444444444444444,
             "#bd3786"
            ],
            [
             0.5555555555555556,
             "#d8576b"
            ],
            [
             0.6666666666666666,
             "#ed7953"
            ],
            [
             0.7777777777777778,
             "#fb9f3a"
            ],
            [
             0.8888888888888888,
             "#fdca26"
            ],
            [
             1,
             "#f0f921"
            ]
           ]
          },
          "colorway": [
           "#636efa",
           "#EF553B",
           "#00cc96",
           "#ab63fa",
           "#FFA15A",
           "#19d3f3",
           "#FF6692",
           "#B6E880",
           "#FF97FF",
           "#FECB52"
          ],
          "font": {
           "color": "#2a3f5f"
          },
          "geo": {
           "bgcolor": "white",
           "lakecolor": "white",
           "landcolor": "#E5ECF6",
           "showlakes": true,
           "showland": true,
           "subunitcolor": "white"
          },
          "hoverlabel": {
           "align": "left"
          },
          "hovermode": "closest",
          "mapbox": {
           "style": "light"
          },
          "paper_bgcolor": "white",
          "plot_bgcolor": "#E5ECF6",
          "polar": {
           "angularaxis": {
            "gridcolor": "white",
            "linecolor": "white",
            "ticks": ""
           },
           "bgcolor": "#E5ECF6",
           "radialaxis": {
            "gridcolor": "white",
            "linecolor": "white",
            "ticks": ""
           }
          },
          "scene": {
           "xaxis": {
            "backgroundcolor": "#E5ECF6",
            "gridcolor": "white",
            "gridwidth": 2,
            "linecolor": "white",
            "showbackground": true,
            "ticks": "",
            "zerolinecolor": "white"
           },
           "yaxis": {
            "backgroundcolor": "#E5ECF6",
            "gridcolor": "white",
            "gridwidth": 2,
            "linecolor": "white",
            "showbackground": true,
            "ticks": "",
            "zerolinecolor": "white"
           },
           "zaxis": {
            "backgroundcolor": "#E5ECF6",
            "gridcolor": "white",
            "gridwidth": 2,
            "linecolor": "white",
            "showbackground": true,
            "ticks": "",
            "zerolinecolor": "white"
           }
          },
          "shapedefaults": {
           "line": {
            "color": "#2a3f5f"
           }
          },
          "ternary": {
           "aaxis": {
            "gridcolor": "white",
            "linecolor": "white",
            "ticks": ""
           },
           "baxis": {
            "gridcolor": "white",
            "linecolor": "white",
            "ticks": ""
           },
           "bgcolor": "#E5ECF6",
           "caxis": {
            "gridcolor": "white",
            "linecolor": "white",
            "ticks": ""
           }
          },
          "title": {
           "x": 0.05
          },
          "xaxis": {
           "automargin": true,
           "gridcolor": "white",
           "linecolor": "white",
           "ticks": "",
           "title": {
            "standoff": 15
           },
           "zerolinecolor": "white",
           "zerolinewidth": 2
          },
          "yaxis": {
           "automargin": true,
           "gridcolor": "white",
           "linecolor": "white",
           "ticks": "",
           "title": {
            "standoff": 15
           },
           "zerolinecolor": "white",
           "zerolinewidth": 2
          }
         }
        }
       }
      },
      "text/html": [
       "<div>\n",
       "        \n",
       "        \n",
       "            <div id=\"8da3dcfa-ff3e-4aaa-8af1-98514575d5e6\" class=\"plotly-graph-div\" style=\"height:525px; width:100%;\"></div>\n",
       "            <script type=\"text/javascript\">\n",
       "                require([\"plotly\"], function(Plotly) {\n",
       "                    window.PLOTLYENV=window.PLOTLYENV || {};\n",
       "                    \n",
       "                if (document.getElementById(\"8da3dcfa-ff3e-4aaa-8af1-98514575d5e6\")) {\n",
       "                    Plotly.newPlot(\n",
       "                        '8da3dcfa-ff3e-4aaa-8af1-98514575d5e6',\n",
       "                        [{\"error_y\": {\"array\": [44848.954703537966, 0.0, 311.8340905032675, 15325.125268656044, 6375.274739177912, 22289.41995656235, 34157.500171997366, 349.31074990615446, 51664.75696739509, 39533.63302935869, 0.0, 21551.200477003596, 34784.70388690983, 5289.158723275375, 4625.892562522394, 15901.41729532308, 7710.292342058115, 0.0, 57482.831562998006, 0.0, 47544.44575342108, 0.0, 29876.675718694005, 6633.368714311002, 9044.602838157129, 23297.75422653437, 22298.612344717778, 3836.7613947182067, 4691.653493172743, 32949.05468294956, 24689.340371909493, 15407.856762054871, 32052.443284405013, 29761.4173133606, 32696.617562065956, 8611.146381289776, 0.0, 8342.445804438888, 11578.166435148529, 12831.159651411092, 19356.341028200553, 35752.02596357303, 26328.06951398703, 0.0, 3886.258869401265, 30774.701330800923, 3550.3831483376553, 27051.07702107256, 4466.086429974234, 11209.763802150337, 40286.70175132236, 14338.71130890081, 18498.62050262127, 9049.552585625435, 4871.965722375312, 23924.463470124745, 0.0, 5664.632424085432, 27526.25277802992, 17321.287711945668, 18981.57443417168, 39665.86199744057, 29465.846678824622], \"type\": \"data\"}, \"name\": \"macs2 q0.05\", \"type\": \"bar\", \"x\": [\"H3K4me2_ChIPSeq_CCR4Neg-Donor1\", \"H3K4me2_ChIPSeq_CCR4Neg-Donor11\", \"H3K4me2_ChIPSeq_CCR4Neg-Donor12\", \"H3K4me2_ChIPSeq_CCR4Neg-Donor13\", \"H3K4me2_ChIPSeq_CCR4Neg-Donor14\", \"H3K4me2_ChIPSeq_CCR4Neg-Donor15\", \"H3K4me2_ChIPSeq_CCR4Neg-Donor16\", \"H3K4me2_ChIPSeq_CCR4Neg-Donor17\", \"H3K4me2_ChIPSeq_CCR4Neg-Donor18\", \"H3K4me2_ChIPSeq_CCR4Neg-Donor19\", \"H3K4me2_ChIPSeq_CCR4Neg-Donor20\", \"H3K4me2_ChIPSeq_CCR4Neg-Donor21\", \"H3K4me2_ChIPSeq_CCR4Neg-Donor22\", \"H3K4me2_ChIPSeq_CCR4Neg-Donor23\", \"H3K4me2_ChIPSeq_CCR4Neg-Donor4\", \"H3K4me2_ChIPSeq_CCR4Neg-Donor5\", \"H3K4me2_ChIPSeq_CCR4Neg-Donor6\", \"H3K4me2_ChIPSeq_CCR4Neg-Donor7\", \"H3K4me2_ChIPSeq_CCR4Neg-Donor8\", \"H3K4me2_ChIPSeq_CCR4Neg-Donor9\", \"H3K4me2_ChIPSeq_CCR4pos-Donor1\", \"H3K4me2_ChIPSeq_CCR4pos-Donor10\", \"H3K4me2_ChIPSeq_CCR4pos-Donor11\", \"H3K4me2_ChIPSeq_CCR4pos-Donor12\", \"H3K4me2_ChIPSeq_CCR4pos-Donor13\", \"H3K4me2_ChIPSeq_CCR4pos-Donor14\", \"H3K4me2_ChIPSeq_CCR4pos-Donor15\", \"H3K4me2_ChIPSeq_CCR4pos-Donor16\", \"H3K4me2_ChIPSeq_CCR4pos-Donor17\", \"H3K4me2_ChIPSeq_CCR4pos-Donor18\", \"H3K4me2_ChIPSeq_CCR4pos-Donor19\", \"H3K4me2_ChIPSeq_CCR4pos-Donor2\", \"H3K4me2_ChIPSeq_CCR4pos-Donor20\", \"H3K4me2_ChIPSeq_CCR4pos-Donor21\", \"H3K4me2_ChIPSeq_CCR4pos-Donor22\", \"H3K4me2_ChIPSeq_CCR4pos-Donor23\", \"H3K4me2_ChIPSeq_CCR4pos-Donor3\", \"H3K4me2_ChIPSeq_CCR4pos-Donor4\", \"H3K4me2_ChIPSeq_CCR4pos-Donor5\", \"H3K4me2_ChIPSeq_CCR4pos-Donor7\", \"H3K4me2_ChIPSeq_CCR4pos-Donor8\", \"H3K4me2_ChIPSeq_CCR4pos-Donor9\", \"H3K4me2_ChIPSeq_Naive-Donor1\", \"H3K4me2_ChIPSeq_Naive-Donor10\", \"H3K4me2_ChIPSeq_Naive-Donor11\", \"H3K4me2_ChIPSeq_Naive-Donor12\", \"H3K4me2_ChIPSeq_Naive-Donor13\", \"H3K4me2_ChIPSeq_Naive-Donor14\", \"H3K4me2_ChIPSeq_Naive-Donor15\", \"H3K4me2_ChIPSeq_Naive-Donor16\", \"H3K4me2_ChIPSeq_Naive-Donor17\", \"H3K4me2_ChIPSeq_Naive-Donor18\", \"H3K4me2_ChIPSeq_Naive-Donor19\", \"H3K4me2_ChIPSeq_Naive-Donor2\", \"H3K4me2_ChIPSeq_Naive-Donor20\", \"H3K4me2_ChIPSeq_Naive-Donor21\", \"H3K4me2_ChIPSeq_Naive-Donor22\", \"H3K4me2_ChIPSeq_Naive-Donor23\", \"H3K4me2_ChIPSeq_Naive-Donor3\", \"H3K4me2_ChIPSeq_Naive-Donor5\", \"H3K4me2_ChIPSeq_Naive-Donor7\", \"H3K4me2_ChIPSeq_Naive-Donor8\", \"H3K4me2_ChIPSeq_Naive-Donor9\"], \"y\": [115628.0, 92678.0, 88187.5, 131170.5, 101642.0, 120372.0, 109268.0, 109916.0, 127909.5, 120811.5, 106299.0, 82292.0, 109901.5, 98679.0, 96001.0, 102387.0, 104044.0, 113690.0, 132461.5, 64068.0, 108331.0, 111743.0, 121796.0, 94091.5, 71706.5, 93958.0, 100473.5, 117112.0, 95699.5, 128470.5, 106689.0, 121865.0, 110213.5, 99154.5, 94883.0, 93596.0, 84952.0, 111065.0, 108358.0, 115008.0, 135131.0, 113035.5, 106319.66666666667, 120354.0, 125518.0, 88007.0, 115011.5, 134047.0, 120004.0, 108980.5, 106117.0, 85073.0, 112973.5, 114551.0, 102874.0, 124083.33333333333, 69896.0, 96490.5, 144211.0, 107222.0, 133729.0, 138250.0, 103570.5]}],\n",
       "                        {\"barmode\": \"group\", \"template\": {\"data\": {\"bar\": [{\"error_x\": {\"color\": \"#2a3f5f\"}, \"error_y\": {\"color\": \"#2a3f5f\"}, \"marker\": {\"line\": {\"color\": \"#E5ECF6\", \"width\": 0.5}}, \"type\": \"bar\"}], \"barpolar\": [{\"marker\": {\"line\": {\"color\": \"#E5ECF6\", \"width\": 0.5}}, \"type\": \"barpolar\"}], \"carpet\": [{\"aaxis\": {\"endlinecolor\": \"#2a3f5f\", \"gridcolor\": \"white\", \"linecolor\": \"white\", \"minorgridcolor\": \"white\", \"startlinecolor\": \"#2a3f5f\"}, \"baxis\": {\"endlinecolor\": \"#2a3f5f\", \"gridcolor\": \"white\", \"linecolor\": \"white\", \"minorgridcolor\": \"white\", \"startlinecolor\": \"#2a3f5f\"}, \"type\": \"carpet\"}], \"choropleth\": [{\"colorbar\": {\"outlinewidth\": 0, \"ticks\": \"\"}, \"type\": \"choropleth\"}], \"contour\": [{\"colorbar\": {\"outlinewidth\": 0, \"ticks\": \"\"}, \"colorscale\": [[0.0, \"#0d0887\"], [0.1111111111111111, \"#46039f\"], [0.2222222222222222, \"#7201a8\"], [0.3333333333333333, \"#9c179e\"], [0.4444444444444444, \"#bd3786\"], [0.5555555555555556, \"#d8576b\"], [0.6666666666666666, \"#ed7953\"], [0.7777777777777778, \"#fb9f3a\"], [0.8888888888888888, \"#fdca26\"], [1.0, \"#f0f921\"]], \"type\": \"contour\"}], \"contourcarpet\": [{\"colorbar\": {\"outlinewidth\": 0, \"ticks\": \"\"}, \"type\": \"contourcarpet\"}], \"heatmap\": [{\"colorbar\": {\"outlinewidth\": 0, \"ticks\": \"\"}, \"colorscale\": [[0.0, \"#0d0887\"], [0.1111111111111111, \"#46039f\"], [0.2222222222222222, \"#7201a8\"], [0.3333333333333333, \"#9c179e\"], [0.4444444444444444, \"#bd3786\"], [0.5555555555555556, \"#d8576b\"], [0.6666666666666666, \"#ed7953\"], [0.7777777777777778, \"#fb9f3a\"], [0.8888888888888888, \"#fdca26\"], [1.0, \"#f0f921\"]], \"type\": \"heatmap\"}], \"heatmapgl\": [{\"colorbar\": {\"outlinewidth\": 0, \"ticks\": \"\"}, \"colorscale\": [[0.0, \"#0d0887\"], [0.1111111111111111, \"#46039f\"], [0.2222222222222222, \"#7201a8\"], [0.3333333333333333, \"#9c179e\"], [0.4444444444444444, \"#bd3786\"], [0.5555555555555556, \"#d8576b\"], [0.6666666666666666, \"#ed7953\"], [0.7777777777777778, \"#fb9f3a\"], [0.8888888888888888, \"#fdca26\"], [1.0, \"#f0f921\"]], \"type\": \"heatmapgl\"}], \"histogram\": [{\"marker\": {\"colorbar\": {\"outlinewidth\": 0, \"ticks\": \"\"}}, \"type\": \"histogram\"}], \"histogram2d\": [{\"colorbar\": {\"outlinewidth\": 0, \"ticks\": \"\"}, \"colorscale\": [[0.0, \"#0d0887\"], [0.1111111111111111, \"#46039f\"], [0.2222222222222222, \"#7201a8\"], [0.3333333333333333, \"#9c179e\"], [0.4444444444444444, \"#bd3786\"], [0.5555555555555556, \"#d8576b\"], [0.6666666666666666, \"#ed7953\"], [0.7777777777777778, \"#fb9f3a\"], [0.8888888888888888, \"#fdca26\"], [1.0, \"#f0f921\"]], \"type\": \"histogram2d\"}], \"histogram2dcontour\": [{\"colorbar\": {\"outlinewidth\": 0, \"ticks\": \"\"}, \"colorscale\": [[0.0, \"#0d0887\"], [0.1111111111111111, \"#46039f\"], [0.2222222222222222, \"#7201a8\"], [0.3333333333333333, \"#9c179e\"], [0.4444444444444444, \"#bd3786\"], [0.5555555555555556, \"#d8576b\"], [0.6666666666666666, \"#ed7953\"], [0.7777777777777778, \"#fb9f3a\"], [0.8888888888888888, \"#fdca26\"], [1.0, \"#f0f921\"]], \"type\": \"histogram2dcontour\"}], \"mesh3d\": [{\"colorbar\": {\"outlinewidth\": 0, \"ticks\": \"\"}, \"type\": \"mesh3d\"}], \"parcoords\": [{\"line\": {\"colorbar\": {\"outlinewidth\": 0, \"ticks\": \"\"}}, \"type\": \"parcoords\"}], \"pie\": [{\"automargin\": true, \"type\": \"pie\"}], \"scatter\": [{\"marker\": {\"colorbar\": {\"outlinewidth\": 0, \"ticks\": \"\"}}, \"type\": \"scatter\"}], \"scatter3d\": [{\"line\": {\"colorbar\": {\"outlinewidth\": 0, \"ticks\": \"\"}}, \"marker\": {\"colorbar\": {\"outlinewidth\": 0, \"ticks\": \"\"}}, \"type\": \"scatter3d\"}], \"scattercarpet\": [{\"marker\": {\"colorbar\": {\"outlinewidth\": 0, \"ticks\": \"\"}}, \"type\": \"scattercarpet\"}], \"scattergeo\": [{\"marker\": {\"colorbar\": {\"outlinewidth\": 0, \"ticks\": \"\"}}, \"type\": \"scattergeo\"}], \"scattergl\": [{\"marker\": {\"colorbar\": {\"outlinewidth\": 0, \"ticks\": \"\"}}, \"type\": \"scattergl\"}], \"scattermapbox\": [{\"marker\": {\"colorbar\": {\"outlinewidth\": 0, \"ticks\": \"\"}}, \"type\": \"scattermapbox\"}], \"scatterpolar\": [{\"marker\": {\"colorbar\": {\"outlinewidth\": 0, \"ticks\": \"\"}}, \"type\": \"scatterpolar\"}], \"scatterpolargl\": [{\"marker\": {\"colorbar\": {\"outlinewidth\": 0, \"ticks\": \"\"}}, \"type\": \"scatterpolargl\"}], \"scatterternary\": [{\"marker\": {\"colorbar\": {\"outlinewidth\": 0, \"ticks\": \"\"}}, \"type\": \"scatterternary\"}], \"surface\": [{\"colorbar\": {\"outlinewidth\": 0, \"ticks\": \"\"}, \"colorscale\": [[0.0, \"#0d0887\"], [0.1111111111111111, \"#46039f\"], [0.2222222222222222, \"#7201a8\"], [0.3333333333333333, \"#9c179e\"], [0.4444444444444444, \"#bd3786\"], [0.5555555555555556, \"#d8576b\"], [0.6666666666666666, \"#ed7953\"], [0.7777777777777778, \"#fb9f3a\"], [0.8888888888888888, \"#fdca26\"], [1.0, \"#f0f921\"]], \"type\": \"surface\"}], \"table\": [{\"cells\": {\"fill\": {\"color\": \"#EBF0F8\"}, \"line\": {\"color\": \"white\"}}, \"header\": {\"fill\": {\"color\": \"#C8D4E3\"}, \"line\": {\"color\": \"white\"}}, \"type\": \"table\"}]}, \"layout\": {\"annotationdefaults\": {\"arrowcolor\": \"#2a3f5f\", \"arrowhead\": 0, \"arrowwidth\": 1}, \"coloraxis\": {\"colorbar\": {\"outlinewidth\": 0, \"ticks\": \"\"}}, \"colorscale\": {\"diverging\": [[0, \"#8e0152\"], [0.1, \"#c51b7d\"], [0.2, \"#de77ae\"], [0.3, \"#f1b6da\"], [0.4, \"#fde0ef\"], [0.5, \"#f7f7f7\"], [0.6, \"#e6f5d0\"], [0.7, \"#b8e186\"], [0.8, \"#7fbc41\"], [0.9, \"#4d9221\"], [1, \"#276419\"]], \"sequential\": [[0.0, \"#0d0887\"], [0.1111111111111111, \"#46039f\"], [0.2222222222222222, \"#7201a8\"], [0.3333333333333333, \"#9c179e\"], [0.4444444444444444, \"#bd3786\"], [0.5555555555555556, \"#d8576b\"], [0.6666666666666666, \"#ed7953\"], [0.7777777777777778, \"#fb9f3a\"], [0.8888888888888888, \"#fdca26\"], [1.0, \"#f0f921\"]], \"sequentialminus\": [[0.0, \"#0d0887\"], [0.1111111111111111, \"#46039f\"], [0.2222222222222222, \"#7201a8\"], [0.3333333333333333, \"#9c179e\"], [0.4444444444444444, \"#bd3786\"], [0.5555555555555556, \"#d8576b\"], [0.6666666666666666, \"#ed7953\"], [0.7777777777777778, \"#fb9f3a\"], [0.8888888888888888, \"#fdca26\"], [1.0, \"#f0f921\"]]}, \"colorway\": [\"#636efa\", \"#EF553B\", \"#00cc96\", \"#ab63fa\", \"#FFA15A\", \"#19d3f3\", \"#FF6692\", \"#B6E880\", \"#FF97FF\", \"#FECB52\"], \"font\": {\"color\": \"#2a3f5f\"}, \"geo\": {\"bgcolor\": \"white\", \"lakecolor\": \"white\", \"landcolor\": \"#E5ECF6\", \"showlakes\": true, \"showland\": true, \"subunitcolor\": \"white\"}, \"hoverlabel\": {\"align\": \"left\"}, \"hovermode\": \"closest\", \"mapbox\": {\"style\": \"light\"}, \"paper_bgcolor\": \"white\", \"plot_bgcolor\": \"#E5ECF6\", \"polar\": {\"angularaxis\": {\"gridcolor\": \"white\", \"linecolor\": \"white\", \"ticks\": \"\"}, \"bgcolor\": \"#E5ECF6\", \"radialaxis\": {\"gridcolor\": \"white\", \"linecolor\": \"white\", \"ticks\": \"\"}}, \"scene\": {\"xaxis\": {\"backgroundcolor\": \"#E5ECF6\", \"gridcolor\": \"white\", \"gridwidth\": 2, \"linecolor\": \"white\", \"showbackground\": true, \"ticks\": \"\", \"zerolinecolor\": \"white\"}, \"yaxis\": {\"backgroundcolor\": \"#E5ECF6\", \"gridcolor\": \"white\", \"gridwidth\": 2, \"linecolor\": \"white\", \"showbackground\": true, \"ticks\": \"\", \"zerolinecolor\": \"white\"}, \"zaxis\": {\"backgroundcolor\": \"#E5ECF6\", \"gridcolor\": \"white\", \"gridwidth\": 2, \"linecolor\": \"white\", \"showbackground\": true, \"ticks\": \"\", \"zerolinecolor\": \"white\"}}, \"shapedefaults\": {\"line\": {\"color\": \"#2a3f5f\"}}, \"ternary\": {\"aaxis\": {\"gridcolor\": \"white\", \"linecolor\": \"white\", \"ticks\": \"\"}, \"baxis\": {\"gridcolor\": \"white\", \"linecolor\": \"white\", \"ticks\": \"\"}, \"bgcolor\": \"#E5ECF6\", \"caxis\": {\"gridcolor\": \"white\", \"linecolor\": \"white\", \"ticks\": \"\"}}, \"title\": {\"x\": 0.05}, \"xaxis\": {\"automargin\": true, \"gridcolor\": \"white\", \"linecolor\": \"white\", \"ticks\": \"\", \"title\": {\"standoff\": 15}, \"zerolinecolor\": \"white\", \"zerolinewidth\": 2}, \"yaxis\": {\"automargin\": true, \"gridcolor\": \"white\", \"linecolor\": \"white\", \"ticks\": \"\", \"title\": {\"standoff\": 15}, \"zerolinecolor\": \"white\", \"zerolinewidth\": 2}}}},\n",
       "                        {\"responsive\": true}\n",
       "                    ).then(function(){\n",
       "                            \n",
       "var gd = document.getElementById('8da3dcfa-ff3e-4aaa-8af1-98514575d5e6');\n",
       "var x = new MutationObserver(function (mutations, observer) {{\n",
       "        var display = window.getComputedStyle(gd).display;\n",
       "        if (!display || display === 'none') {{\n",
       "            console.log([gd, 'removed!']);\n",
       "            Plotly.purge(gd);\n",
       "            observer.disconnect();\n",
       "        }}\n",
       "}});\n",
       "\n",
       "// Listen for the removal of the full notebook cells\n",
       "var notebookContainer = gd.closest('#notebook-container');\n",
       "if (notebookContainer) {{\n",
       "    x.observe(notebookContainer, {childList: true});\n",
       "}}\n",
       "\n",
       "// Listen for the clearing of the current output cell\n",
       "var outputEl = gd.closest('.output');\n",
       "if (outputEl) {{\n",
       "    x.observe(outputEl, {childList: true});\n",
       "}}\n",
       "\n",
       "                        })\n",
       "                };\n",
       "                });\n",
       "            </script>\n",
       "        </div>"
      ]
     },
     "metadata": {},
     "output_type": "display_data"
    }
   ],
   "source": [
    "fig = go.Figure()\n",
    "fig.add_trace(go.Bar(\n",
    "    name='macs2 q0.05',\n",
    "    x=dfm_mean['name'], y=dfm_mean['peaks'],\n",
    "    error_y=dict(type='data', array=dfm_std['peaks'])\n",
    "))\n",
    "fig.update_layout(barmode='group')\n",
    "fig.show()"
   ]
  },
  {
   "cell_type": "markdown",
   "metadata": {},
   "source": [
    "## Overlaps"
   ]
  },
  {
   "cell_type": "code",
   "execution_count": 129,
   "metadata": {
    "ExecuteTime": {
     "end_time": "2019-03-07T11:38:49.749046Z",
     "start_time": "2019-03-07T11:38:49.511080Z"
    }
   },
   "outputs": [],
   "source": [
    "from pathlib import Path\n",
    "import downstream.bed_metrics as bm\n",
    "\n",
    "def overlap_with_name_level(overlaps, n, l):\n",
    "    dfo = overlaps[(n, l)].melt(value_name='overlap')\n",
    "    dfo['name'] = n\n",
    "    dfo['level'] = l\n",
    "    return dfo\n",
    "\n",
    "def show_overlap(df):\n",
    "    levels = sorted(set(df['level']))\n",
    "    overlaps = {}\n",
    "    for n in set(df['name']):\n",
    "        for l in levels:\n",
    "            print('Processing', n, l)\n",
    "            files = df.loc[np.logical_and(df['name'] == n, df['level'] == l)]['file']\n",
    "            paths = [Path(f) for f in files]\n",
    "            df_path = f'/tmp/overlap_{n}_{l}.tsv'\n",
    "            overlaps[(n, l)] = bm.load_or_build_metrics_table(paths, paths, Path(df_path), jaccard=False)\n",
    "\n",
    "    dfo = pd.concat([overlap_with_name_level(overlaps, n, l) for (n, l) in overlaps])        \n",
    "    dfo_mean = dfo.groupby(['name', 'level'])['overlap'].mean().reset_index().sort_values(by=['name'])\n",
    "    dfo_std = dfo.groupby(['name', 'level'])['overlap'].std().reset_index().fillna(0).sort_values(by=['name']) \n",
    "    fig = go.Figure(layout=go.Layout(title=go.layout.Title(text=\"Overlap\")))\n",
    "    for l in levels:\n",
    "        fig.add_trace(go.Scatter(x=dfo_mean.loc[dfo_mean['level']==l]['name'], \n",
    "                                 y=dfo_mean.loc[dfo_mean['level']==l]['overlap'], \n",
    "                                 name=f\"{l} mean\", line_shape='linear'))\n",
    "        fig.add_trace(go.Scatter(x=dfo_std.loc[dfo_std['level']==l]['name'], \n",
    "                                 y=dfo_std.loc[dfo_std['level']==l]['overlap'], \n",
    "                                 name=f\"{l} std\", line_shape='linear', \n",
    "                                 line=dict(dash='dot')))\n",
    "    fig.show()\n",
    "#     Barplots\n",
    "#     fig = go.Figure()\n",
    "#     for l in levels:\n",
    "#         fig.add_trace(go.Bar(\n",
    "#             name=str(l),\n",
    "#             x=dfo_mean.loc[dfo_mean['level']==l]['name'], \n",
    "#             y=dfo_mean.loc[dfo_mean['level']==l]['overlap'],\n",
    "#             error_y=dict(type='data', array=dfo_std.loc[dfo_std['level']==l]['overlap'])\n",
    "#         ))\n",
    "#     fig.update_layout(barmode='group')\n",
    "#     fig.show()"
   ]
  },
  {
   "cell_type": "code",
   "execution_count": 130,
   "metadata": {
    "ExecuteTime": {
     "end_time": "2019-03-07T11:38:50.552428Z",
     "start_time": "2019-03-07T11:38:49.754389Z"
    },
    "scrolled": true
   },
   "outputs": [
    {
     "name": "stdout",
     "output_type": "stream",
     "text": [
      "Processing H3K4me2_ChIPSeq_Naive-Donor2 macs2 q0.05\n",
      "[Skipped]: Already exists /tmp/overlap_H3K4me2_ChIPSeq_Naive-Donor2_macs2 q0.05.tsv\n",
      "Processing H3K4me2_ChIPSeq_CCR4Neg-Donor12 macs2 q0.05\n",
      "[Skipped]: Already exists /tmp/overlap_H3K4me2_ChIPSeq_CCR4Neg-Donor12_macs2 q0.05.tsv\n",
      "Processing H3K4me2_ChIPSeq_CCR4pos-Donor17 macs2 q0.05\n",
      "[Skipped]: Already exists /tmp/overlap_H3K4me2_ChIPSeq_CCR4pos-Donor17_macs2 q0.05.tsv\n",
      "Processing H3K4me2_ChIPSeq_Naive-Donor22 macs2 q0.05\n",
      "[Skipped]: Already exists /tmp/overlap_H3K4me2_ChIPSeq_Naive-Donor22_macs2 q0.05.tsv\n",
      "Processing H3K4me2_ChIPSeq_CCR4Neg-Donor22 macs2 q0.05\n",
      "[Skipped]: Already exists /tmp/overlap_H3K4me2_ChIPSeq_CCR4Neg-Donor22_macs2 q0.05.tsv\n",
      "Processing H3K4me2_ChIPSeq_CCR4pos-Donor14 macs2 q0.05\n",
      "[Skipped]: Already exists /tmp/overlap_H3K4me2_ChIPSeq_CCR4pos-Donor14_macs2 q0.05.tsv\n",
      "Processing H3K4me2_ChIPSeq_CCR4pos-Donor8 macs2 q0.05\n",
      "[Skipped]: Already exists /tmp/overlap_H3K4me2_ChIPSeq_CCR4pos-Donor8_macs2 q0.05.tsv\n",
      "Processing H3K4me2_ChIPSeq_Naive-Donor15 macs2 q0.05\n",
      "[Skipped]: Already exists /tmp/overlap_H3K4me2_ChIPSeq_Naive-Donor15_macs2 q0.05.tsv\n",
      "Processing H3K4me2_ChIPSeq_Naive-Donor9 macs2 q0.05\n",
      "[Skipped]: Already exists /tmp/overlap_H3K4me2_ChIPSeq_Naive-Donor9_macs2 q0.05.tsv\n",
      "Processing H3K4me2_ChIPSeq_CCR4pos-Donor5 macs2 q0.05\n",
      "[Skipped]: Already exists /tmp/overlap_H3K4me2_ChIPSeq_CCR4pos-Donor5_macs2 q0.05.tsv\n",
      "Processing H3K4me2_ChIPSeq_CCR4Neg-Donor4 macs2 q0.05\n",
      "[Skipped]: Already exists /tmp/overlap_H3K4me2_ChIPSeq_CCR4Neg-Donor4_macs2 q0.05.tsv\n",
      "Processing H3K4me2_ChIPSeq_CCR4Neg-Donor9 macs2 q0.05\n",
      "[Skipped]: Already exists /tmp/overlap_H3K4me2_ChIPSeq_CCR4Neg-Donor9_macs2 q0.05.tsv\n",
      "Processing H3K4me2_ChIPSeq_Naive-Donor3 macs2 q0.05\n",
      "[Skipped]: Already exists /tmp/overlap_H3K4me2_ChIPSeq_Naive-Donor3_macs2 q0.05.tsv\n",
      "Processing H3K4me2_ChIPSeq_CCR4Neg-Donor21 macs2 q0.05\n",
      "[Skipped]: Already exists /tmp/overlap_H3K4me2_ChIPSeq_CCR4Neg-Donor21_macs2 q0.05.tsv\n",
      "Processing H3K4me2_ChIPSeq_Naive-Donor21 macs2 q0.05\n",
      "[Skipped]: Already exists /tmp/overlap_H3K4me2_ChIPSeq_Naive-Donor21_macs2 q0.05.tsv\n",
      "Processing H3K4me2_ChIPSeq_CCR4pos-Donor2 macs2 q0.05\n",
      "[Skipped]: Already exists /tmp/overlap_H3K4me2_ChIPSeq_CCR4pos-Donor2_macs2 q0.05.tsv\n",
      "Processing H3K4me2_ChIPSeq_CCR4Neg-Donor18 macs2 q0.05\n",
      "[Skipped]: Already exists /tmp/overlap_H3K4me2_ChIPSeq_CCR4Neg-Donor18_macs2 q0.05.tsv\n",
      "Processing H3K4me2_ChIPSeq_CCR4Neg-Donor7 macs2 q0.05\n",
      "[Skipped]: Already exists /tmp/overlap_H3K4me2_ChIPSeq_CCR4Neg-Donor7_macs2 q0.05.tsv\n",
      "Processing H3K4me2_ChIPSeq_CCR4pos-Donor12 macs2 q0.05\n",
      "[Skipped]: Already exists /tmp/overlap_H3K4me2_ChIPSeq_CCR4pos-Donor12_macs2 q0.05.tsv\n",
      "Processing H3K4me2_ChIPSeq_Naive-Donor20 macs2 q0.05\n",
      "[Skipped]: Already exists /tmp/overlap_H3K4me2_ChIPSeq_Naive-Donor20_macs2 q0.05.tsv\n",
      "Processing H3K4me2_ChIPSeq_CCR4Neg-Donor20 macs2 q0.05\n",
      "[Skipped]: Already exists /tmp/overlap_H3K4me2_ChIPSeq_CCR4Neg-Donor20_macs2 q0.05.tsv\n",
      "Processing H3K4me2_ChIPSeq_CCR4Neg-Donor14 macs2 q0.05\n",
      "[Skipped]: Already exists /tmp/overlap_H3K4me2_ChIPSeq_CCR4Neg-Donor14_macs2 q0.05.tsv\n",
      "Processing H3K4me2_ChIPSeq_CCR4pos-Donor23 macs2 q0.05\n",
      "[Skipped]: Already exists /tmp/overlap_H3K4me2_ChIPSeq_CCR4pos-Donor23_macs2 q0.05.tsv\n",
      "Processing H3K4me2_ChIPSeq_CCR4Neg-Donor8 macs2 q0.05\n",
      "[Skipped]: Already exists /tmp/overlap_H3K4me2_ChIPSeq_CCR4Neg-Donor8_macs2 q0.05.tsv\n",
      "Processing H3K4me2_ChIPSeq_CCR4pos-Donor3 macs2 q0.05\n",
      "[Skipped]: Already exists /tmp/overlap_H3K4me2_ChIPSeq_CCR4pos-Donor3_macs2 q0.05.tsv\n",
      "Processing H3K4me2_ChIPSeq_Naive-Donor5 macs2 q0.05\n",
      "[Skipped]: Already exists /tmp/overlap_H3K4me2_ChIPSeq_Naive-Donor5_macs2 q0.05.tsv\n",
      "Processing H3K4me2_ChIPSeq_Naive-Donor1 macs2 q0.05\n",
      "[Skipped]: Already exists /tmp/overlap_H3K4me2_ChIPSeq_Naive-Donor1_macs2 q0.05.tsv\n",
      "Processing H3K4me2_ChIPSeq_CCR4pos-Donor21 macs2 q0.05\n",
      "[Skipped]: Already exists /tmp/overlap_H3K4me2_ChIPSeq_CCR4pos-Donor21_macs2 q0.05.tsv\n",
      "Processing H3K4me2_ChIPSeq_Naive-Donor11 macs2 q0.05\n",
      "[Skipped]: Already exists /tmp/overlap_H3K4me2_ChIPSeq_Naive-Donor11_macs2 q0.05.tsv\n",
      "Processing H3K4me2_ChIPSeq_CCR4pos-Donor13 macs2 q0.05\n",
      "[Skipped]: Already exists /tmp/overlap_H3K4me2_ChIPSeq_CCR4pos-Donor13_macs2 q0.05.tsv\n",
      "Processing H3K4me2_ChIPSeq_CCR4Neg-Donor13 macs2 q0.05\n",
      "[Skipped]: Already exists /tmp/overlap_H3K4me2_ChIPSeq_CCR4Neg-Donor13_macs2 q0.05.tsv\n",
      "Processing H3K4me2_ChIPSeq_CCR4pos-Donor22 macs2 q0.05\n",
      "[Skipped]: Already exists /tmp/overlap_H3K4me2_ChIPSeq_CCR4pos-Donor22_macs2 q0.05.tsv\n",
      "Processing H3K4me2_ChIPSeq_CCR4Neg-Donor19 macs2 q0.05\n",
      "[Skipped]: Already exists /tmp/overlap_H3K4me2_ChIPSeq_CCR4Neg-Donor19_macs2 q0.05.tsv\n",
      "Processing H3K4me2_ChIPSeq_CCR4pos-Donor1 macs2 q0.05\n",
      "[Skipped]: Already exists /tmp/overlap_H3K4me2_ChIPSeq_CCR4pos-Donor1_macs2 q0.05.tsv\n",
      "Processing H3K4me2_ChIPSeq_Naive-Donor12 macs2 q0.05\n",
      "[Skipped]: Already exists /tmp/overlap_H3K4me2_ChIPSeq_Naive-Donor12_macs2 q0.05.tsv\n",
      "Processing H3K4me2_ChIPSeq_Naive-Donor8 macs2 q0.05\n",
      "[Skipped]: Already exists /tmp/overlap_H3K4me2_ChIPSeq_Naive-Donor8_macs2 q0.05.tsv\n",
      "Processing H3K4me2_ChIPSeq_CCR4pos-Donor15 macs2 q0.05\n",
      "[Skipped]: Already exists /tmp/overlap_H3K4me2_ChIPSeq_CCR4pos-Donor15_macs2 q0.05.tsv\n",
      "Processing H3K4me2_ChIPSeq_Naive-Donor23 macs2 q0.05\n",
      "[Skipped]: Already exists /tmp/overlap_H3K4me2_ChIPSeq_Naive-Donor23_macs2 q0.05.tsv\n",
      "Processing H3K4me2_ChIPSeq_CCR4Neg-Donor17 macs2 q0.05\n",
      "[Skipped]: Already exists /tmp/overlap_H3K4me2_ChIPSeq_CCR4Neg-Donor17_macs2 q0.05.tsv\n",
      "Processing H3K4me2_ChIPSeq_Naive-Donor17 macs2 q0.05\n",
      "[Skipped]: Already exists /tmp/overlap_H3K4me2_ChIPSeq_Naive-Donor17_macs2 q0.05.tsv\n",
      "Processing H3K4me2_ChIPSeq_Naive-Donor19 macs2 q0.05\n",
      "[Skipped]: Already exists /tmp/overlap_H3K4me2_ChIPSeq_Naive-Donor19_macs2 q0.05.tsv\n",
      "Processing H3K4me2_ChIPSeq_Naive-Donor14 macs2 q0.05\n",
      "[Skipped]: Already exists /tmp/overlap_H3K4me2_ChIPSeq_Naive-Donor14_macs2 q0.05.tsv\n",
      "Processing H3K4me2_ChIPSeq_Naive-Donor7 macs2 q0.05\n",
      "[Skipped]: Already exists /tmp/overlap_H3K4me2_ChIPSeq_Naive-Donor7_macs2 q0.05.tsv\n",
      "Processing H3K4me2_ChIPSeq_CCR4pos-Donor9 macs2 q0.05\n",
      "[Skipped]: Already exists /tmp/overlap_H3K4me2_ChIPSeq_CCR4pos-Donor9_macs2 q0.05.tsv\n",
      "Processing H3K4me2_ChIPSeq_CCR4Neg-Donor16 macs2 q0.05\n",
      "[Skipped]: Already exists /tmp/overlap_H3K4me2_ChIPSeq_CCR4Neg-Donor16_macs2 q0.05.tsv\n",
      "Processing H3K4me2_ChIPSeq_CCR4pos-Donor7 macs2 q0.05\n",
      "[Skipped]: Already exists /tmp/overlap_H3K4me2_ChIPSeq_CCR4pos-Donor7_macs2 q0.05.tsv\n",
      "Processing H3K4me2_ChIPSeq_Naive-Donor18 macs2 q0.05\n",
      "[Skipped]: Already exists /tmp/overlap_H3K4me2_ChIPSeq_Naive-Donor18_macs2 q0.05.tsv\n",
      "Processing H3K4me2_ChIPSeq_CCR4pos-Donor16 macs2 q0.05\n",
      "[Skipped]: Already exists /tmp/overlap_H3K4me2_ChIPSeq_CCR4pos-Donor16_macs2 q0.05.tsv\n",
      "Processing H3K4me2_ChIPSeq_CCR4pos-Donor19 macs2 q0.05\n",
      "[Skipped]: Already exists /tmp/overlap_H3K4me2_ChIPSeq_CCR4pos-Donor19_macs2 q0.05.tsv\n",
      "Processing H3K4me2_ChIPSeq_CCR4pos-Donor10 macs2 q0.05\n",
      "[Skipped]: Already exists /tmp/overlap_H3K4me2_ChIPSeq_CCR4pos-Donor10_macs2 q0.05.tsv\n",
      "Processing H3K4me2_ChIPSeq_CCR4pos-Donor11 macs2 q0.05\n",
      "[Skipped]: Already exists /tmp/overlap_H3K4me2_ChIPSeq_CCR4pos-Donor11_macs2 q0.05.tsv\n",
      "Processing H3K4me2_ChIPSeq_Naive-Donor10 macs2 q0.05\n",
      "[Skipped]: Already exists /tmp/overlap_H3K4me2_ChIPSeq_Naive-Donor10_macs2 q0.05.tsv\n",
      "Processing H3K4me2_ChIPSeq_CCR4Neg-Donor15 macs2 q0.05\n",
      "[Skipped]: Already exists /tmp/overlap_H3K4me2_ChIPSeq_CCR4Neg-Donor15_macs2 q0.05.tsv\n",
      "Processing H3K4me2_ChIPSeq_Naive-Donor16 macs2 q0.05\n",
      "[Skipped]: Already exists /tmp/overlap_H3K4me2_ChIPSeq_Naive-Donor16_macs2 q0.05.tsv\n",
      "Processing H3K4me2_ChIPSeq_CCR4Neg-Donor6 macs2 q0.05\n",
      "[Skipped]: Already exists /tmp/overlap_H3K4me2_ChIPSeq_CCR4Neg-Donor6_macs2 q0.05.tsv\n",
      "Processing H3K4me2_ChIPSeq_Naive-Donor13 macs2 q0.05\n",
      "[Skipped]: Already exists /tmp/overlap_H3K4me2_ChIPSeq_Naive-Donor13_macs2 q0.05.tsv\n",
      "Processing H3K4me2_ChIPSeq_CCR4pos-Donor4 macs2 q0.05\n",
      "[Skipped]: Already exists /tmp/overlap_H3K4me2_ChIPSeq_CCR4pos-Donor4_macs2 q0.05.tsv\n",
      "Processing H3K4me2_ChIPSeq_CCR4pos-Donor18 macs2 q0.05\n",
      "[Skipped]: Already exists /tmp/overlap_H3K4me2_ChIPSeq_CCR4pos-Donor18_macs2 q0.05.tsv\n",
      "Processing H3K4me2_ChIPSeq_CCR4Neg-Donor5 macs2 q0.05\n",
      "[Skipped]: Already exists /tmp/overlap_H3K4me2_ChIPSeq_CCR4Neg-Donor5_macs2 q0.05.tsv\n",
      "Processing H3K4me2_ChIPSeq_CCR4Neg-Donor1 macs2 q0.05\n",
      "[Skipped]: Already exists /tmp/overlap_H3K4me2_ChIPSeq_CCR4Neg-Donor1_macs2 q0.05.tsv\n"
     ]
    },
    {
     "name": "stdout",
     "output_type": "stream",
     "text": [
      "Processing H3K4me2_ChIPSeq_CCR4Neg-Donor11 macs2 q0.05\n",
      "[Skipped]: Already exists /tmp/overlap_H3K4me2_ChIPSeq_CCR4Neg-Donor11_macs2 q0.05.tsv\n",
      "Processing H3K4me2_ChIPSeq_CCR4pos-Donor20 macs2 q0.05\n",
      "[Skipped]: Already exists /tmp/overlap_H3K4me2_ChIPSeq_CCR4pos-Donor20_macs2 q0.05.tsv\n",
      "Processing H3K4me2_ChIPSeq_CCR4Neg-Donor23 macs2 q0.05\n",
      "[Skipped]: Already exists /tmp/overlap_H3K4me2_ChIPSeq_CCR4Neg-Donor23_macs2 q0.05.tsv\n"
     ]
    },
    {
     "data": {
      "application/vnd.plotly.v1+json": {
       "config": {
        "plotlyServerURL": "https://plot.ly"
       },
       "data": [
        {
         "line": {
          "shape": "linear"
         },
         "name": "macs2 q0.05 mean",
         "type": "scatter",
         "x": [
          "H3K4me2_ChIPSeq_CCR4Neg-Donor1",
          "H3K4me2_ChIPSeq_CCR4Neg-Donor11",
          "H3K4me2_ChIPSeq_CCR4Neg-Donor12",
          "H3K4me2_ChIPSeq_CCR4Neg-Donor13",
          "H3K4me2_ChIPSeq_CCR4Neg-Donor14",
          "H3K4me2_ChIPSeq_CCR4Neg-Donor15",
          "H3K4me2_ChIPSeq_CCR4Neg-Donor16",
          "H3K4me2_ChIPSeq_CCR4Neg-Donor17",
          "H3K4me2_ChIPSeq_CCR4Neg-Donor18",
          "H3K4me2_ChIPSeq_CCR4Neg-Donor19",
          "H3K4me2_ChIPSeq_CCR4Neg-Donor20",
          "H3K4me2_ChIPSeq_CCR4Neg-Donor21",
          "H3K4me2_ChIPSeq_CCR4Neg-Donor22",
          "H3K4me2_ChIPSeq_CCR4Neg-Donor23",
          "H3K4me2_ChIPSeq_CCR4Neg-Donor4",
          "H3K4me2_ChIPSeq_CCR4Neg-Donor5",
          "H3K4me2_ChIPSeq_CCR4Neg-Donor6",
          "H3K4me2_ChIPSeq_CCR4Neg-Donor7",
          "H3K4me2_ChIPSeq_CCR4Neg-Donor8",
          "H3K4me2_ChIPSeq_CCR4Neg-Donor9",
          "H3K4me2_ChIPSeq_CCR4pos-Donor1",
          "H3K4me2_ChIPSeq_CCR4pos-Donor10",
          "H3K4me2_ChIPSeq_CCR4pos-Donor11",
          "H3K4me2_ChIPSeq_CCR4pos-Donor12",
          "H3K4me2_ChIPSeq_CCR4pos-Donor13",
          "H3K4me2_ChIPSeq_CCR4pos-Donor14",
          "H3K4me2_ChIPSeq_CCR4pos-Donor15",
          "H3K4me2_ChIPSeq_CCR4pos-Donor16",
          "H3K4me2_ChIPSeq_CCR4pos-Donor17",
          "H3K4me2_ChIPSeq_CCR4pos-Donor18",
          "H3K4me2_ChIPSeq_CCR4pos-Donor19",
          "H3K4me2_ChIPSeq_CCR4pos-Donor2",
          "H3K4me2_ChIPSeq_CCR4pos-Donor20",
          "H3K4me2_ChIPSeq_CCR4pos-Donor21",
          "H3K4me2_ChIPSeq_CCR4pos-Donor22",
          "H3K4me2_ChIPSeq_CCR4pos-Donor23",
          "H3K4me2_ChIPSeq_CCR4pos-Donor3",
          "H3K4me2_ChIPSeq_CCR4pos-Donor4",
          "H3K4me2_ChIPSeq_CCR4pos-Donor5",
          "H3K4me2_ChIPSeq_CCR4pos-Donor7",
          "H3K4me2_ChIPSeq_CCR4pos-Donor8",
          "H3K4me2_ChIPSeq_CCR4pos-Donor9",
          "H3K4me2_ChIPSeq_Naive-Donor1",
          "H3K4me2_ChIPSeq_Naive-Donor10",
          "H3K4me2_ChIPSeq_Naive-Donor11",
          "H3K4me2_ChIPSeq_Naive-Donor12",
          "H3K4me2_ChIPSeq_Naive-Donor13",
          "H3K4me2_ChIPSeq_Naive-Donor14",
          "H3K4me2_ChIPSeq_Naive-Donor15",
          "H3K4me2_ChIPSeq_Naive-Donor16",
          "H3K4me2_ChIPSeq_Naive-Donor17",
          "H3K4me2_ChIPSeq_Naive-Donor18",
          "H3K4me2_ChIPSeq_Naive-Donor19",
          "H3K4me2_ChIPSeq_Naive-Donor2",
          "H3K4me2_ChIPSeq_Naive-Donor20",
          "H3K4me2_ChIPSeq_Naive-Donor21",
          "H3K4me2_ChIPSeq_Naive-Donor22",
          "H3K4me2_ChIPSeq_Naive-Donor23",
          "H3K4me2_ChIPSeq_Naive-Donor3",
          "H3K4me2_ChIPSeq_Naive-Donor5",
          "H3K4me2_ChIPSeq_Naive-Donor7",
          "H3K4me2_ChIPSeq_Naive-Donor8",
          "H3K4me2_ChIPSeq_Naive-Donor9"
         ],
         "y": [
          0.7417115125,
          1,
          0.7539477375,
          0.71445293,
          0.7253416925,
          0.75375512,
          0.7272446300000001,
          0.75486135,
          0.7427594,
          0.7525151225,
          1,
          0.7363067125,
          0.7487760800000001,
          0.75884133,
          0.764881425,
          0.7394847849999999,
          0.7438292575000001,
          1,
          0.74848505,
          1,
          0.7372472,
          1,
          0.7316644725,
          0.7539832399999999,
          0.73056528,
          0.746352965,
          0.7785598025,
          0.7761259675,
          0.75453223,
          0.7310669575,
          0.7673913075000001,
          0.73057757,
          0.7482342125,
          0.757016095,
          0.7402335325,
          0.7894707075,
          1,
          0.74476482,
          0.74474405,
          0.729518415,
          0.74133335,
          0.7410156925,
          0.6710561199999999,
          1,
          0.74965563,
          0.7499671575,
          0.7403137625,
          0.7505573799999999,
          0.7675772,
          0.76830778,
          0.714690615,
          0.7210170675,
          0.74024424,
          0.74681373,
          0.7737554125,
          0.6695647077777778,
          1,
          0.7467336175,
          0.7686647799999999,
          0.72079428,
          0.7513428575,
          0.7461087775,
          0.74852363
         ]
        },
        {
         "line": {
          "dash": "dot",
          "shape": "linear"
         },
         "name": "macs2 q0.05 std",
         "type": "scatter",
         "x": [
          "H3K4me2_ChIPSeq_CCR4Neg-Donor1",
          "H3K4me2_ChIPSeq_CCR4Neg-Donor11",
          "H3K4me2_ChIPSeq_CCR4Neg-Donor12",
          "H3K4me2_ChIPSeq_CCR4Neg-Donor13",
          "H3K4me2_ChIPSeq_CCR4Neg-Donor14",
          "H3K4me2_ChIPSeq_CCR4Neg-Donor15",
          "H3K4me2_ChIPSeq_CCR4Neg-Donor16",
          "H3K4me2_ChIPSeq_CCR4Neg-Donor17",
          "H3K4me2_ChIPSeq_CCR4Neg-Donor18",
          "H3K4me2_ChIPSeq_CCR4Neg-Donor19",
          "H3K4me2_ChIPSeq_CCR4Neg-Donor20",
          "H3K4me2_ChIPSeq_CCR4Neg-Donor21",
          "H3K4me2_ChIPSeq_CCR4Neg-Donor22",
          "H3K4me2_ChIPSeq_CCR4Neg-Donor23",
          "H3K4me2_ChIPSeq_CCR4Neg-Donor4",
          "H3K4me2_ChIPSeq_CCR4Neg-Donor5",
          "H3K4me2_ChIPSeq_CCR4Neg-Donor6",
          "H3K4me2_ChIPSeq_CCR4Neg-Donor7",
          "H3K4me2_ChIPSeq_CCR4Neg-Donor8",
          "H3K4me2_ChIPSeq_CCR4Neg-Donor9",
          "H3K4me2_ChIPSeq_CCR4pos-Donor1",
          "H3K4me2_ChIPSeq_CCR4pos-Donor10",
          "H3K4me2_ChIPSeq_CCR4pos-Donor11",
          "H3K4me2_ChIPSeq_CCR4pos-Donor12",
          "H3K4me2_ChIPSeq_CCR4pos-Donor13",
          "H3K4me2_ChIPSeq_CCR4pos-Donor14",
          "H3K4me2_ChIPSeq_CCR4pos-Donor15",
          "H3K4me2_ChIPSeq_CCR4pos-Donor16",
          "H3K4me2_ChIPSeq_CCR4pos-Donor17",
          "H3K4me2_ChIPSeq_CCR4pos-Donor18",
          "H3K4me2_ChIPSeq_CCR4pos-Donor19",
          "H3K4me2_ChIPSeq_CCR4pos-Donor2",
          "H3K4me2_ChIPSeq_CCR4pos-Donor20",
          "H3K4me2_ChIPSeq_CCR4pos-Donor21",
          "H3K4me2_ChIPSeq_CCR4pos-Donor22",
          "H3K4me2_ChIPSeq_CCR4pos-Donor23",
          "H3K4me2_ChIPSeq_CCR4pos-Donor3",
          "H3K4me2_ChIPSeq_CCR4pos-Donor4",
          "H3K4me2_ChIPSeq_CCR4pos-Donor5",
          "H3K4me2_ChIPSeq_CCR4pos-Donor7",
          "H3K4me2_ChIPSeq_CCR4pos-Donor8",
          "H3K4me2_ChIPSeq_CCR4pos-Donor9",
          "H3K4me2_ChIPSeq_Naive-Donor1",
          "H3K4me2_ChIPSeq_Naive-Donor10",
          "H3K4me2_ChIPSeq_Naive-Donor11",
          "H3K4me2_ChIPSeq_Naive-Donor12",
          "H3K4me2_ChIPSeq_Naive-Donor13",
          "H3K4me2_ChIPSeq_Naive-Donor14",
          "H3K4me2_ChIPSeq_Naive-Donor15",
          "H3K4me2_ChIPSeq_Naive-Donor16",
          "H3K4me2_ChIPSeq_Naive-Donor17",
          "H3K4me2_ChIPSeq_Naive-Donor18",
          "H3K4me2_ChIPSeq_Naive-Donor19",
          "H3K4me2_ChIPSeq_Naive-Donor2",
          "H3K4me2_ChIPSeq_Naive-Donor20",
          "H3K4me2_ChIPSeq_Naive-Donor21",
          "H3K4me2_ChIPSeq_Naive-Donor22",
          "H3K4me2_ChIPSeq_Naive-Donor23",
          "H3K4me2_ChIPSeq_Naive-Donor3",
          "H3K4me2_ChIPSeq_Naive-Donor5",
          "H3K4me2_ChIPSeq_Naive-Donor7",
          "H3K4me2_ChIPSeq_Naive-Donor8",
          "H3K4me2_ChIPSeq_Naive-Donor9"
         ],
         "y": [
          0.31721100904691285,
          0,
          0.2841234914298868,
          0.3310301766835749,
          0.3175842173331722,
          0.2895492178830632,
          0.3255355078820925,
          0.28306237703140624,
          0.31782778097471803,
          0.30143874609083576,
          0,
          0.31273027706518636,
          0.30387223032147015,
          0.2789205598138215,
          0.27193603454688103,
          0.3038247129345794,
          0.2965526465271013,
          0,
          0.31593845064516035,
          0,
          0.32635919867321034,
          0,
          0.3166776626365387,
          0.28480894017003705,
          0.3129720779799195,
          0.3010870528423116,
          0.26548488425966804,
          0.25866857498764884,
          0.28384187960502866,
          0.3178892255176918,
          0.27808166083453895,
          0.3129019799664696,
          0.30221290911195103,
          0.29431249439176516,
          0.31470780436330603,
          0.24508248111125822,
          0,
          0.295567854011387,
          0.29627854820764526,
          0.3137077203198507,
          0.30131125824353683,
          0.3113793986896835,
          0.25983555174649736,
          0,
          0.28921064205463975,
          0.3057508711131146,
          0.299995057696421,
          0.29389066570099204,
          0.2686796793510712,
          0.26938718757546776,
          0.342516796666851,
          0.32495338957466535,
          0.3032789736288199,
          0.2931963447175827,
          0.2616203504064186,
          0.25536842657157915,
          0,
          0.29294056118186823,
          0.27356886470957964,
          0.325008035540178,
          0.2901252361084409,
          0.30439859185424634,
          0.3017298695439502
         ]
        }
       ],
       "layout": {
        "template": {
         "data": {
          "bar": [
           {
            "error_x": {
             "color": "#2a3f5f"
            },
            "error_y": {
             "color": "#2a3f5f"
            },
            "marker": {
             "line": {
              "color": "#E5ECF6",
              "width": 0.5
             }
            },
            "type": "bar"
           }
          ],
          "barpolar": [
           {
            "marker": {
             "line": {
              "color": "#E5ECF6",
              "width": 0.5
             }
            },
            "type": "barpolar"
           }
          ],
          "carpet": [
           {
            "aaxis": {
             "endlinecolor": "#2a3f5f",
             "gridcolor": "white",
             "linecolor": "white",
             "minorgridcolor": "white",
             "startlinecolor": "#2a3f5f"
            },
            "baxis": {
             "endlinecolor": "#2a3f5f",
             "gridcolor": "white",
             "linecolor": "white",
             "minorgridcolor": "white",
             "startlinecolor": "#2a3f5f"
            },
            "type": "carpet"
           }
          ],
          "choropleth": [
           {
            "colorbar": {
             "outlinewidth": 0,
             "ticks": ""
            },
            "type": "choropleth"
           }
          ],
          "contour": [
           {
            "colorbar": {
             "outlinewidth": 0,
             "ticks": ""
            },
            "colorscale": [
             [
              0,
              "#0d0887"
             ],
             [
              0.1111111111111111,
              "#46039f"
             ],
             [
              0.2222222222222222,
              "#7201a8"
             ],
             [
              0.3333333333333333,
              "#9c179e"
             ],
             [
              0.4444444444444444,
              "#bd3786"
             ],
             [
              0.5555555555555556,
              "#d8576b"
             ],
             [
              0.6666666666666666,
              "#ed7953"
             ],
             [
              0.7777777777777778,
              "#fb9f3a"
             ],
             [
              0.8888888888888888,
              "#fdca26"
             ],
             [
              1,
              "#f0f921"
             ]
            ],
            "type": "contour"
           }
          ],
          "contourcarpet": [
           {
            "colorbar": {
             "outlinewidth": 0,
             "ticks": ""
            },
            "type": "contourcarpet"
           }
          ],
          "heatmap": [
           {
            "colorbar": {
             "outlinewidth": 0,
             "ticks": ""
            },
            "colorscale": [
             [
              0,
              "#0d0887"
             ],
             [
              0.1111111111111111,
              "#46039f"
             ],
             [
              0.2222222222222222,
              "#7201a8"
             ],
             [
              0.3333333333333333,
              "#9c179e"
             ],
             [
              0.4444444444444444,
              "#bd3786"
             ],
             [
              0.5555555555555556,
              "#d8576b"
             ],
             [
              0.6666666666666666,
              "#ed7953"
             ],
             [
              0.7777777777777778,
              "#fb9f3a"
             ],
             [
              0.8888888888888888,
              "#fdca26"
             ],
             [
              1,
              "#f0f921"
             ]
            ],
            "type": "heatmap"
           }
          ],
          "heatmapgl": [
           {
            "colorbar": {
             "outlinewidth": 0,
             "ticks": ""
            },
            "colorscale": [
             [
              0,
              "#0d0887"
             ],
             [
              0.1111111111111111,
              "#46039f"
             ],
             [
              0.2222222222222222,
              "#7201a8"
             ],
             [
              0.3333333333333333,
              "#9c179e"
             ],
             [
              0.4444444444444444,
              "#bd3786"
             ],
             [
              0.5555555555555556,
              "#d8576b"
             ],
             [
              0.6666666666666666,
              "#ed7953"
             ],
             [
              0.7777777777777778,
              "#fb9f3a"
             ],
             [
              0.8888888888888888,
              "#fdca26"
             ],
             [
              1,
              "#f0f921"
             ]
            ],
            "type": "heatmapgl"
           }
          ],
          "histogram": [
           {
            "marker": {
             "colorbar": {
              "outlinewidth": 0,
              "ticks": ""
             }
            },
            "type": "histogram"
           }
          ],
          "histogram2d": [
           {
            "colorbar": {
             "outlinewidth": 0,
             "ticks": ""
            },
            "colorscale": [
             [
              0,
              "#0d0887"
             ],
             [
              0.1111111111111111,
              "#46039f"
             ],
             [
              0.2222222222222222,
              "#7201a8"
             ],
             [
              0.3333333333333333,
              "#9c179e"
             ],
             [
              0.4444444444444444,
              "#bd3786"
             ],
             [
              0.5555555555555556,
              "#d8576b"
             ],
             [
              0.6666666666666666,
              "#ed7953"
             ],
             [
              0.7777777777777778,
              "#fb9f3a"
             ],
             [
              0.8888888888888888,
              "#fdca26"
             ],
             [
              1,
              "#f0f921"
             ]
            ],
            "type": "histogram2d"
           }
          ],
          "histogram2dcontour": [
           {
            "colorbar": {
             "outlinewidth": 0,
             "ticks": ""
            },
            "colorscale": [
             [
              0,
              "#0d0887"
             ],
             [
              0.1111111111111111,
              "#46039f"
             ],
             [
              0.2222222222222222,
              "#7201a8"
             ],
             [
              0.3333333333333333,
              "#9c179e"
             ],
             [
              0.4444444444444444,
              "#bd3786"
             ],
             [
              0.5555555555555556,
              "#d8576b"
             ],
             [
              0.6666666666666666,
              "#ed7953"
             ],
             [
              0.7777777777777778,
              "#fb9f3a"
             ],
             [
              0.8888888888888888,
              "#fdca26"
             ],
             [
              1,
              "#f0f921"
             ]
            ],
            "type": "histogram2dcontour"
           }
          ],
          "mesh3d": [
           {
            "colorbar": {
             "outlinewidth": 0,
             "ticks": ""
            },
            "type": "mesh3d"
           }
          ],
          "parcoords": [
           {
            "line": {
             "colorbar": {
              "outlinewidth": 0,
              "ticks": ""
             }
            },
            "type": "parcoords"
           }
          ],
          "pie": [
           {
            "automargin": true,
            "type": "pie"
           }
          ],
          "scatter": [
           {
            "marker": {
             "colorbar": {
              "outlinewidth": 0,
              "ticks": ""
             }
            },
            "type": "scatter"
           }
          ],
          "scatter3d": [
           {
            "line": {
             "colorbar": {
              "outlinewidth": 0,
              "ticks": ""
             }
            },
            "marker": {
             "colorbar": {
              "outlinewidth": 0,
              "ticks": ""
             }
            },
            "type": "scatter3d"
           }
          ],
          "scattercarpet": [
           {
            "marker": {
             "colorbar": {
              "outlinewidth": 0,
              "ticks": ""
             }
            },
            "type": "scattercarpet"
           }
          ],
          "scattergeo": [
           {
            "marker": {
             "colorbar": {
              "outlinewidth": 0,
              "ticks": ""
             }
            },
            "type": "scattergeo"
           }
          ],
          "scattergl": [
           {
            "marker": {
             "colorbar": {
              "outlinewidth": 0,
              "ticks": ""
             }
            },
            "type": "scattergl"
           }
          ],
          "scattermapbox": [
           {
            "marker": {
             "colorbar": {
              "outlinewidth": 0,
              "ticks": ""
             }
            },
            "type": "scattermapbox"
           }
          ],
          "scatterpolar": [
           {
            "marker": {
             "colorbar": {
              "outlinewidth": 0,
              "ticks": ""
             }
            },
            "type": "scatterpolar"
           }
          ],
          "scatterpolargl": [
           {
            "marker": {
             "colorbar": {
              "outlinewidth": 0,
              "ticks": ""
             }
            },
            "type": "scatterpolargl"
           }
          ],
          "scatterternary": [
           {
            "marker": {
             "colorbar": {
              "outlinewidth": 0,
              "ticks": ""
             }
            },
            "type": "scatterternary"
           }
          ],
          "surface": [
           {
            "colorbar": {
             "outlinewidth": 0,
             "ticks": ""
            },
            "colorscale": [
             [
              0,
              "#0d0887"
             ],
             [
              0.1111111111111111,
              "#46039f"
             ],
             [
              0.2222222222222222,
              "#7201a8"
             ],
             [
              0.3333333333333333,
              "#9c179e"
             ],
             [
              0.4444444444444444,
              "#bd3786"
             ],
             [
              0.5555555555555556,
              "#d8576b"
             ],
             [
              0.6666666666666666,
              "#ed7953"
             ],
             [
              0.7777777777777778,
              "#fb9f3a"
             ],
             [
              0.8888888888888888,
              "#fdca26"
             ],
             [
              1,
              "#f0f921"
             ]
            ],
            "type": "surface"
           }
          ],
          "table": [
           {
            "cells": {
             "fill": {
              "color": "#EBF0F8"
             },
             "line": {
              "color": "white"
             }
            },
            "header": {
             "fill": {
              "color": "#C8D4E3"
             },
             "line": {
              "color": "white"
             }
            },
            "type": "table"
           }
          ]
         },
         "layout": {
          "annotationdefaults": {
           "arrowcolor": "#2a3f5f",
           "arrowhead": 0,
           "arrowwidth": 1
          },
          "coloraxis": {
           "colorbar": {
            "outlinewidth": 0,
            "ticks": ""
           }
          },
          "colorscale": {
           "diverging": [
            [
             0,
             "#8e0152"
            ],
            [
             0.1,
             "#c51b7d"
            ],
            [
             0.2,
             "#de77ae"
            ],
            [
             0.3,
             "#f1b6da"
            ],
            [
             0.4,
             "#fde0ef"
            ],
            [
             0.5,
             "#f7f7f7"
            ],
            [
             0.6,
             "#e6f5d0"
            ],
            [
             0.7,
             "#b8e186"
            ],
            [
             0.8,
             "#7fbc41"
            ],
            [
             0.9,
             "#4d9221"
            ],
            [
             1,
             "#276419"
            ]
           ],
           "sequential": [
            [
             0,
             "#0d0887"
            ],
            [
             0.1111111111111111,
             "#46039f"
            ],
            [
             0.2222222222222222,
             "#7201a8"
            ],
            [
             0.3333333333333333,
             "#9c179e"
            ],
            [
             0.4444444444444444,
             "#bd3786"
            ],
            [
             0.5555555555555556,
             "#d8576b"
            ],
            [
             0.6666666666666666,
             "#ed7953"
            ],
            [
             0.7777777777777778,
             "#fb9f3a"
            ],
            [
             0.8888888888888888,
             "#fdca26"
            ],
            [
             1,
             "#f0f921"
            ]
           ],
           "sequentialminus": [
            [
             0,
             "#0d0887"
            ],
            [
             0.1111111111111111,
             "#46039f"
            ],
            [
             0.2222222222222222,
             "#7201a8"
            ],
            [
             0.3333333333333333,
             "#9c179e"
            ],
            [
             0.4444444444444444,
             "#bd3786"
            ],
            [
             0.5555555555555556,
             "#d8576b"
            ],
            [
             0.6666666666666666,
             "#ed7953"
            ],
            [
             0.7777777777777778,
             "#fb9f3a"
            ],
            [
             0.8888888888888888,
             "#fdca26"
            ],
            [
             1,
             "#f0f921"
            ]
           ]
          },
          "colorway": [
           "#636efa",
           "#EF553B",
           "#00cc96",
           "#ab63fa",
           "#FFA15A",
           "#19d3f3",
           "#FF6692",
           "#B6E880",
           "#FF97FF",
           "#FECB52"
          ],
          "font": {
           "color": "#2a3f5f"
          },
          "geo": {
           "bgcolor": "white",
           "lakecolor": "white",
           "landcolor": "#E5ECF6",
           "showlakes": true,
           "showland": true,
           "subunitcolor": "white"
          },
          "hoverlabel": {
           "align": "left"
          },
          "hovermode": "closest",
          "mapbox": {
           "style": "light"
          },
          "paper_bgcolor": "white",
          "plot_bgcolor": "#E5ECF6",
          "polar": {
           "angularaxis": {
            "gridcolor": "white",
            "linecolor": "white",
            "ticks": ""
           },
           "bgcolor": "#E5ECF6",
           "radialaxis": {
            "gridcolor": "white",
            "linecolor": "white",
            "ticks": ""
           }
          },
          "scene": {
           "xaxis": {
            "backgroundcolor": "#E5ECF6",
            "gridcolor": "white",
            "gridwidth": 2,
            "linecolor": "white",
            "showbackground": true,
            "ticks": "",
            "zerolinecolor": "white"
           },
           "yaxis": {
            "backgroundcolor": "#E5ECF6",
            "gridcolor": "white",
            "gridwidth": 2,
            "linecolor": "white",
            "showbackground": true,
            "ticks": "",
            "zerolinecolor": "white"
           },
           "zaxis": {
            "backgroundcolor": "#E5ECF6",
            "gridcolor": "white",
            "gridwidth": 2,
            "linecolor": "white",
            "showbackground": true,
            "ticks": "",
            "zerolinecolor": "white"
           }
          },
          "shapedefaults": {
           "line": {
            "color": "#2a3f5f"
           }
          },
          "ternary": {
           "aaxis": {
            "gridcolor": "white",
            "linecolor": "white",
            "ticks": ""
           },
           "baxis": {
            "gridcolor": "white",
            "linecolor": "white",
            "ticks": ""
           },
           "bgcolor": "#E5ECF6",
           "caxis": {
            "gridcolor": "white",
            "linecolor": "white",
            "ticks": ""
           }
          },
          "title": {
           "x": 0.05
          },
          "xaxis": {
           "automargin": true,
           "gridcolor": "white",
           "linecolor": "white",
           "ticks": "",
           "title": {
            "standoff": 15
           },
           "zerolinecolor": "white",
           "zerolinewidth": 2
          },
          "yaxis": {
           "automargin": true,
           "gridcolor": "white",
           "linecolor": "white",
           "ticks": "",
           "title": {
            "standoff": 15
           },
           "zerolinecolor": "white",
           "zerolinewidth": 2
          }
         }
        },
        "title": {
         "text": "Overlap"
        }
       }
      },
      "text/html": [
       "<div>\n",
       "        \n",
       "        \n",
       "            <div id=\"665cecfc-88aa-404c-abff-da26c44c6be8\" class=\"plotly-graph-div\" style=\"height:525px; width:100%;\"></div>\n",
       "            <script type=\"text/javascript\">\n",
       "                require([\"plotly\"], function(Plotly) {\n",
       "                    window.PLOTLYENV=window.PLOTLYENV || {};\n",
       "                    \n",
       "                if (document.getElementById(\"665cecfc-88aa-404c-abff-da26c44c6be8\")) {\n",
       "                    Plotly.newPlot(\n",
       "                        '665cecfc-88aa-404c-abff-da26c44c6be8',\n",
       "                        [{\"line\": {\"shape\": \"linear\"}, \"name\": \"macs2 q0.05 mean\", \"type\": \"scatter\", \"x\": [\"H3K4me2_ChIPSeq_CCR4Neg-Donor1\", \"H3K4me2_ChIPSeq_CCR4Neg-Donor11\", \"H3K4me2_ChIPSeq_CCR4Neg-Donor12\", \"H3K4me2_ChIPSeq_CCR4Neg-Donor13\", \"H3K4me2_ChIPSeq_CCR4Neg-Donor14\", \"H3K4me2_ChIPSeq_CCR4Neg-Donor15\", \"H3K4me2_ChIPSeq_CCR4Neg-Donor16\", \"H3K4me2_ChIPSeq_CCR4Neg-Donor17\", \"H3K4me2_ChIPSeq_CCR4Neg-Donor18\", \"H3K4me2_ChIPSeq_CCR4Neg-Donor19\", \"H3K4me2_ChIPSeq_CCR4Neg-Donor20\", \"H3K4me2_ChIPSeq_CCR4Neg-Donor21\", \"H3K4me2_ChIPSeq_CCR4Neg-Donor22\", \"H3K4me2_ChIPSeq_CCR4Neg-Donor23\", \"H3K4me2_ChIPSeq_CCR4Neg-Donor4\", \"H3K4me2_ChIPSeq_CCR4Neg-Donor5\", \"H3K4me2_ChIPSeq_CCR4Neg-Donor6\", \"H3K4me2_ChIPSeq_CCR4Neg-Donor7\", \"H3K4me2_ChIPSeq_CCR4Neg-Donor8\", \"H3K4me2_ChIPSeq_CCR4Neg-Donor9\", \"H3K4me2_ChIPSeq_CCR4pos-Donor1\", \"H3K4me2_ChIPSeq_CCR4pos-Donor10\", \"H3K4me2_ChIPSeq_CCR4pos-Donor11\", \"H3K4me2_ChIPSeq_CCR4pos-Donor12\", \"H3K4me2_ChIPSeq_CCR4pos-Donor13\", \"H3K4me2_ChIPSeq_CCR4pos-Donor14\", \"H3K4me2_ChIPSeq_CCR4pos-Donor15\", \"H3K4me2_ChIPSeq_CCR4pos-Donor16\", \"H3K4me2_ChIPSeq_CCR4pos-Donor17\", \"H3K4me2_ChIPSeq_CCR4pos-Donor18\", \"H3K4me2_ChIPSeq_CCR4pos-Donor19\", \"H3K4me2_ChIPSeq_CCR4pos-Donor2\", \"H3K4me2_ChIPSeq_CCR4pos-Donor20\", \"H3K4me2_ChIPSeq_CCR4pos-Donor21\", \"H3K4me2_ChIPSeq_CCR4pos-Donor22\", \"H3K4me2_ChIPSeq_CCR4pos-Donor23\", \"H3K4me2_ChIPSeq_CCR4pos-Donor3\", \"H3K4me2_ChIPSeq_CCR4pos-Donor4\", \"H3K4me2_ChIPSeq_CCR4pos-Donor5\", \"H3K4me2_ChIPSeq_CCR4pos-Donor7\", \"H3K4me2_ChIPSeq_CCR4pos-Donor8\", \"H3K4me2_ChIPSeq_CCR4pos-Donor9\", \"H3K4me2_ChIPSeq_Naive-Donor1\", \"H3K4me2_ChIPSeq_Naive-Donor10\", \"H3K4me2_ChIPSeq_Naive-Donor11\", \"H3K4me2_ChIPSeq_Naive-Donor12\", \"H3K4me2_ChIPSeq_Naive-Donor13\", \"H3K4me2_ChIPSeq_Naive-Donor14\", \"H3K4me2_ChIPSeq_Naive-Donor15\", \"H3K4me2_ChIPSeq_Naive-Donor16\", \"H3K4me2_ChIPSeq_Naive-Donor17\", \"H3K4me2_ChIPSeq_Naive-Donor18\", \"H3K4me2_ChIPSeq_Naive-Donor19\", \"H3K4me2_ChIPSeq_Naive-Donor2\", \"H3K4me2_ChIPSeq_Naive-Donor20\", \"H3K4me2_ChIPSeq_Naive-Donor21\", \"H3K4me2_ChIPSeq_Naive-Donor22\", \"H3K4me2_ChIPSeq_Naive-Donor23\", \"H3K4me2_ChIPSeq_Naive-Donor3\", \"H3K4me2_ChIPSeq_Naive-Donor5\", \"H3K4me2_ChIPSeq_Naive-Donor7\", \"H3K4me2_ChIPSeq_Naive-Donor8\", \"H3K4me2_ChIPSeq_Naive-Donor9\"], \"y\": [0.7417115125, 1.0, 0.7539477375, 0.71445293, 0.7253416925, 0.75375512, 0.7272446300000001, 0.75486135, 0.7427594, 0.7525151225, 1.0, 0.7363067125, 0.7487760800000001, 0.75884133, 0.764881425, 0.7394847849999999, 0.7438292575000001, 1.0, 0.74848505, 1.0, 0.7372472, 1.0, 0.7316644725, 0.7539832399999999, 0.73056528, 0.746352965, 0.7785598025, 0.7761259675, 0.75453223, 0.7310669575, 0.7673913075000001, 0.73057757, 0.7482342125, 0.757016095, 0.7402335325, 0.7894707075, 1.0, 0.74476482, 0.74474405, 0.729518415, 0.74133335, 0.7410156925, 0.6710561199999999, 1.0, 0.74965563, 0.7499671575, 0.7403137625, 0.7505573799999999, 0.7675772, 0.76830778, 0.714690615, 0.7210170675, 0.74024424, 0.74681373, 0.7737554125, 0.6695647077777778, 1.0, 0.7467336175, 0.7686647799999999, 0.72079428, 0.7513428575, 0.7461087775, 0.74852363]}, {\"line\": {\"dash\": \"dot\", \"shape\": \"linear\"}, \"name\": \"macs2 q0.05 std\", \"type\": \"scatter\", \"x\": [\"H3K4me2_ChIPSeq_CCR4Neg-Donor1\", \"H3K4me2_ChIPSeq_CCR4Neg-Donor11\", \"H3K4me2_ChIPSeq_CCR4Neg-Donor12\", \"H3K4me2_ChIPSeq_CCR4Neg-Donor13\", \"H3K4me2_ChIPSeq_CCR4Neg-Donor14\", \"H3K4me2_ChIPSeq_CCR4Neg-Donor15\", \"H3K4me2_ChIPSeq_CCR4Neg-Donor16\", \"H3K4me2_ChIPSeq_CCR4Neg-Donor17\", \"H3K4me2_ChIPSeq_CCR4Neg-Donor18\", \"H3K4me2_ChIPSeq_CCR4Neg-Donor19\", \"H3K4me2_ChIPSeq_CCR4Neg-Donor20\", \"H3K4me2_ChIPSeq_CCR4Neg-Donor21\", \"H3K4me2_ChIPSeq_CCR4Neg-Donor22\", \"H3K4me2_ChIPSeq_CCR4Neg-Donor23\", \"H3K4me2_ChIPSeq_CCR4Neg-Donor4\", \"H3K4me2_ChIPSeq_CCR4Neg-Donor5\", \"H3K4me2_ChIPSeq_CCR4Neg-Donor6\", \"H3K4me2_ChIPSeq_CCR4Neg-Donor7\", \"H3K4me2_ChIPSeq_CCR4Neg-Donor8\", \"H3K4me2_ChIPSeq_CCR4Neg-Donor9\", \"H3K4me2_ChIPSeq_CCR4pos-Donor1\", \"H3K4me2_ChIPSeq_CCR4pos-Donor10\", \"H3K4me2_ChIPSeq_CCR4pos-Donor11\", \"H3K4me2_ChIPSeq_CCR4pos-Donor12\", \"H3K4me2_ChIPSeq_CCR4pos-Donor13\", \"H3K4me2_ChIPSeq_CCR4pos-Donor14\", \"H3K4me2_ChIPSeq_CCR4pos-Donor15\", \"H3K4me2_ChIPSeq_CCR4pos-Donor16\", \"H3K4me2_ChIPSeq_CCR4pos-Donor17\", \"H3K4me2_ChIPSeq_CCR4pos-Donor18\", \"H3K4me2_ChIPSeq_CCR4pos-Donor19\", \"H3K4me2_ChIPSeq_CCR4pos-Donor2\", \"H3K4me2_ChIPSeq_CCR4pos-Donor20\", \"H3K4me2_ChIPSeq_CCR4pos-Donor21\", \"H3K4me2_ChIPSeq_CCR4pos-Donor22\", \"H3K4me2_ChIPSeq_CCR4pos-Donor23\", \"H3K4me2_ChIPSeq_CCR4pos-Donor3\", \"H3K4me2_ChIPSeq_CCR4pos-Donor4\", \"H3K4me2_ChIPSeq_CCR4pos-Donor5\", \"H3K4me2_ChIPSeq_CCR4pos-Donor7\", \"H3K4me2_ChIPSeq_CCR4pos-Donor8\", \"H3K4me2_ChIPSeq_CCR4pos-Donor9\", \"H3K4me2_ChIPSeq_Naive-Donor1\", \"H3K4me2_ChIPSeq_Naive-Donor10\", \"H3K4me2_ChIPSeq_Naive-Donor11\", \"H3K4me2_ChIPSeq_Naive-Donor12\", \"H3K4me2_ChIPSeq_Naive-Donor13\", \"H3K4me2_ChIPSeq_Naive-Donor14\", \"H3K4me2_ChIPSeq_Naive-Donor15\", \"H3K4me2_ChIPSeq_Naive-Donor16\", \"H3K4me2_ChIPSeq_Naive-Donor17\", \"H3K4me2_ChIPSeq_Naive-Donor18\", \"H3K4me2_ChIPSeq_Naive-Donor19\", \"H3K4me2_ChIPSeq_Naive-Donor2\", \"H3K4me2_ChIPSeq_Naive-Donor20\", \"H3K4me2_ChIPSeq_Naive-Donor21\", \"H3K4me2_ChIPSeq_Naive-Donor22\", \"H3K4me2_ChIPSeq_Naive-Donor23\", \"H3K4me2_ChIPSeq_Naive-Donor3\", \"H3K4me2_ChIPSeq_Naive-Donor5\", \"H3K4me2_ChIPSeq_Naive-Donor7\", \"H3K4me2_ChIPSeq_Naive-Donor8\", \"H3K4me2_ChIPSeq_Naive-Donor9\"], \"y\": [0.31721100904691285, 0.0, 0.2841234914298868, 0.3310301766835749, 0.3175842173331722, 0.2895492178830632, 0.3255355078820925, 0.28306237703140624, 0.31782778097471803, 0.30143874609083576, 0.0, 0.31273027706518636, 0.30387223032147015, 0.2789205598138215, 0.27193603454688103, 0.3038247129345794, 0.2965526465271013, 0.0, 0.31593845064516035, 0.0, 0.32635919867321034, 0.0, 0.3166776626365387, 0.28480894017003705, 0.3129720779799195, 0.3010870528423116, 0.26548488425966804, 0.25866857498764884, 0.28384187960502866, 0.3178892255176918, 0.27808166083453895, 0.3129019799664696, 0.30221290911195103, 0.29431249439176516, 0.31470780436330603, 0.24508248111125822, 0.0, 0.295567854011387, 0.29627854820764526, 0.3137077203198507, 0.30131125824353683, 0.3113793986896835, 0.25983555174649736, 0.0, 0.28921064205463975, 0.3057508711131146, 0.299995057696421, 0.29389066570099204, 0.2686796793510712, 0.26938718757546776, 0.342516796666851, 0.32495338957466535, 0.3032789736288199, 0.2931963447175827, 0.2616203504064186, 0.25536842657157915, 0.0, 0.29294056118186823, 0.27356886470957964, 0.325008035540178, 0.2901252361084409, 0.30439859185424634, 0.3017298695439502]}],\n",
       "                        {\"template\": {\"data\": {\"bar\": [{\"error_x\": {\"color\": \"#2a3f5f\"}, \"error_y\": {\"color\": \"#2a3f5f\"}, \"marker\": {\"line\": {\"color\": \"#E5ECF6\", \"width\": 0.5}}, \"type\": \"bar\"}], \"barpolar\": [{\"marker\": {\"line\": {\"color\": \"#E5ECF6\", \"width\": 0.5}}, \"type\": \"barpolar\"}], \"carpet\": [{\"aaxis\": {\"endlinecolor\": \"#2a3f5f\", \"gridcolor\": \"white\", \"linecolor\": \"white\", \"minorgridcolor\": \"white\", \"startlinecolor\": \"#2a3f5f\"}, \"baxis\": {\"endlinecolor\": \"#2a3f5f\", \"gridcolor\": \"white\", \"linecolor\": \"white\", \"minorgridcolor\": \"white\", \"startlinecolor\": \"#2a3f5f\"}, \"type\": \"carpet\"}], \"choropleth\": [{\"colorbar\": {\"outlinewidth\": 0, \"ticks\": \"\"}, \"type\": \"choropleth\"}], \"contour\": [{\"colorbar\": {\"outlinewidth\": 0, \"ticks\": \"\"}, \"colorscale\": [[0.0, \"#0d0887\"], [0.1111111111111111, \"#46039f\"], [0.2222222222222222, \"#7201a8\"], [0.3333333333333333, \"#9c179e\"], [0.4444444444444444, \"#bd3786\"], [0.5555555555555556, \"#d8576b\"], [0.6666666666666666, \"#ed7953\"], [0.7777777777777778, \"#fb9f3a\"], [0.8888888888888888, \"#fdca26\"], [1.0, \"#f0f921\"]], \"type\": \"contour\"}], \"contourcarpet\": [{\"colorbar\": {\"outlinewidth\": 0, \"ticks\": \"\"}, \"type\": \"contourcarpet\"}], \"heatmap\": [{\"colorbar\": {\"outlinewidth\": 0, \"ticks\": \"\"}, \"colorscale\": [[0.0, \"#0d0887\"], [0.1111111111111111, \"#46039f\"], [0.2222222222222222, \"#7201a8\"], [0.3333333333333333, \"#9c179e\"], [0.4444444444444444, \"#bd3786\"], [0.5555555555555556, \"#d8576b\"], [0.6666666666666666, \"#ed7953\"], [0.7777777777777778, \"#fb9f3a\"], [0.8888888888888888, \"#fdca26\"], [1.0, \"#f0f921\"]], \"type\": \"heatmap\"}], \"heatmapgl\": [{\"colorbar\": {\"outlinewidth\": 0, \"ticks\": \"\"}, \"colorscale\": [[0.0, \"#0d0887\"], [0.1111111111111111, \"#46039f\"], [0.2222222222222222, \"#7201a8\"], [0.3333333333333333, \"#9c179e\"], [0.4444444444444444, \"#bd3786\"], [0.5555555555555556, \"#d8576b\"], [0.6666666666666666, \"#ed7953\"], [0.7777777777777778, \"#fb9f3a\"], [0.8888888888888888, \"#fdca26\"], [1.0, \"#f0f921\"]], \"type\": \"heatmapgl\"}], \"histogram\": [{\"marker\": {\"colorbar\": {\"outlinewidth\": 0, \"ticks\": \"\"}}, \"type\": \"histogram\"}], \"histogram2d\": [{\"colorbar\": {\"outlinewidth\": 0, \"ticks\": \"\"}, \"colorscale\": [[0.0, \"#0d0887\"], [0.1111111111111111, \"#46039f\"], [0.2222222222222222, \"#7201a8\"], [0.3333333333333333, \"#9c179e\"], [0.4444444444444444, \"#bd3786\"], [0.5555555555555556, \"#d8576b\"], [0.6666666666666666, \"#ed7953\"], [0.7777777777777778, \"#fb9f3a\"], [0.8888888888888888, \"#fdca26\"], [1.0, \"#f0f921\"]], \"type\": \"histogram2d\"}], \"histogram2dcontour\": [{\"colorbar\": {\"outlinewidth\": 0, \"ticks\": \"\"}, \"colorscale\": [[0.0, \"#0d0887\"], [0.1111111111111111, \"#46039f\"], [0.2222222222222222, \"#7201a8\"], [0.3333333333333333, \"#9c179e\"], [0.4444444444444444, \"#bd3786\"], [0.5555555555555556, \"#d8576b\"], [0.6666666666666666, \"#ed7953\"], [0.7777777777777778, \"#fb9f3a\"], [0.8888888888888888, \"#fdca26\"], [1.0, \"#f0f921\"]], \"type\": \"histogram2dcontour\"}], \"mesh3d\": [{\"colorbar\": {\"outlinewidth\": 0, \"ticks\": \"\"}, \"type\": \"mesh3d\"}], \"parcoords\": [{\"line\": {\"colorbar\": {\"outlinewidth\": 0, \"ticks\": \"\"}}, \"type\": \"parcoords\"}], \"pie\": [{\"automargin\": true, \"type\": \"pie\"}], \"scatter\": [{\"marker\": {\"colorbar\": {\"outlinewidth\": 0, \"ticks\": \"\"}}, \"type\": \"scatter\"}], \"scatter3d\": [{\"line\": {\"colorbar\": {\"outlinewidth\": 0, \"ticks\": \"\"}}, \"marker\": {\"colorbar\": {\"outlinewidth\": 0, \"ticks\": \"\"}}, \"type\": \"scatter3d\"}], \"scattercarpet\": [{\"marker\": {\"colorbar\": {\"outlinewidth\": 0, \"ticks\": \"\"}}, \"type\": \"scattercarpet\"}], \"scattergeo\": [{\"marker\": {\"colorbar\": {\"outlinewidth\": 0, \"ticks\": \"\"}}, \"type\": \"scattergeo\"}], \"scattergl\": [{\"marker\": {\"colorbar\": {\"outlinewidth\": 0, \"ticks\": \"\"}}, \"type\": \"scattergl\"}], \"scattermapbox\": [{\"marker\": {\"colorbar\": {\"outlinewidth\": 0, \"ticks\": \"\"}}, \"type\": \"scattermapbox\"}], \"scatterpolar\": [{\"marker\": {\"colorbar\": {\"outlinewidth\": 0, \"ticks\": \"\"}}, \"type\": \"scatterpolar\"}], \"scatterpolargl\": [{\"marker\": {\"colorbar\": {\"outlinewidth\": 0, \"ticks\": \"\"}}, \"type\": \"scatterpolargl\"}], \"scatterternary\": [{\"marker\": {\"colorbar\": {\"outlinewidth\": 0, \"ticks\": \"\"}}, \"type\": \"scatterternary\"}], \"surface\": [{\"colorbar\": {\"outlinewidth\": 0, \"ticks\": \"\"}, \"colorscale\": [[0.0, \"#0d0887\"], [0.1111111111111111, \"#46039f\"], [0.2222222222222222, \"#7201a8\"], [0.3333333333333333, \"#9c179e\"], [0.4444444444444444, \"#bd3786\"], [0.5555555555555556, \"#d8576b\"], [0.6666666666666666, \"#ed7953\"], [0.7777777777777778, \"#fb9f3a\"], [0.8888888888888888, \"#fdca26\"], [1.0, \"#f0f921\"]], \"type\": \"surface\"}], \"table\": [{\"cells\": {\"fill\": {\"color\": \"#EBF0F8\"}, \"line\": {\"color\": \"white\"}}, \"header\": {\"fill\": {\"color\": \"#C8D4E3\"}, \"line\": {\"color\": \"white\"}}, \"type\": \"table\"}]}, \"layout\": {\"annotationdefaults\": {\"arrowcolor\": \"#2a3f5f\", \"arrowhead\": 0, \"arrowwidth\": 1}, \"coloraxis\": {\"colorbar\": {\"outlinewidth\": 0, \"ticks\": \"\"}}, \"colorscale\": {\"diverging\": [[0, \"#8e0152\"], [0.1, \"#c51b7d\"], [0.2, \"#de77ae\"], [0.3, \"#f1b6da\"], [0.4, \"#fde0ef\"], [0.5, \"#f7f7f7\"], [0.6, \"#e6f5d0\"], [0.7, \"#b8e186\"], [0.8, \"#7fbc41\"], [0.9, \"#4d9221\"], [1, \"#276419\"]], \"sequential\": [[0.0, \"#0d0887\"], [0.1111111111111111, \"#46039f\"], [0.2222222222222222, \"#7201a8\"], [0.3333333333333333, \"#9c179e\"], [0.4444444444444444, \"#bd3786\"], [0.5555555555555556, \"#d8576b\"], [0.6666666666666666, \"#ed7953\"], [0.7777777777777778, \"#fb9f3a\"], [0.8888888888888888, \"#fdca26\"], [1.0, \"#f0f921\"]], \"sequentialminus\": [[0.0, \"#0d0887\"], [0.1111111111111111, \"#46039f\"], [0.2222222222222222, \"#7201a8\"], [0.3333333333333333, \"#9c179e\"], [0.4444444444444444, \"#bd3786\"], [0.5555555555555556, \"#d8576b\"], [0.6666666666666666, \"#ed7953\"], [0.7777777777777778, \"#fb9f3a\"], [0.8888888888888888, \"#fdca26\"], [1.0, \"#f0f921\"]]}, \"colorway\": [\"#636efa\", \"#EF553B\", \"#00cc96\", \"#ab63fa\", \"#FFA15A\", \"#19d3f3\", \"#FF6692\", \"#B6E880\", \"#FF97FF\", \"#FECB52\"], \"font\": {\"color\": \"#2a3f5f\"}, \"geo\": {\"bgcolor\": \"white\", \"lakecolor\": \"white\", \"landcolor\": \"#E5ECF6\", \"showlakes\": true, \"showland\": true, \"subunitcolor\": \"white\"}, \"hoverlabel\": {\"align\": \"left\"}, \"hovermode\": \"closest\", \"mapbox\": {\"style\": \"light\"}, \"paper_bgcolor\": \"white\", \"plot_bgcolor\": \"#E5ECF6\", \"polar\": {\"angularaxis\": {\"gridcolor\": \"white\", \"linecolor\": \"white\", \"ticks\": \"\"}, \"bgcolor\": \"#E5ECF6\", \"radialaxis\": {\"gridcolor\": \"white\", \"linecolor\": \"white\", \"ticks\": \"\"}}, \"scene\": {\"xaxis\": {\"backgroundcolor\": \"#E5ECF6\", \"gridcolor\": \"white\", \"gridwidth\": 2, \"linecolor\": \"white\", \"showbackground\": true, \"ticks\": \"\", \"zerolinecolor\": \"white\"}, \"yaxis\": {\"backgroundcolor\": \"#E5ECF6\", \"gridcolor\": \"white\", \"gridwidth\": 2, \"linecolor\": \"white\", \"showbackground\": true, \"ticks\": \"\", \"zerolinecolor\": \"white\"}, \"zaxis\": {\"backgroundcolor\": \"#E5ECF6\", \"gridcolor\": \"white\", \"gridwidth\": 2, \"linecolor\": \"white\", \"showbackground\": true, \"ticks\": \"\", \"zerolinecolor\": \"white\"}}, \"shapedefaults\": {\"line\": {\"color\": \"#2a3f5f\"}}, \"ternary\": {\"aaxis\": {\"gridcolor\": \"white\", \"linecolor\": \"white\", \"ticks\": \"\"}, \"baxis\": {\"gridcolor\": \"white\", \"linecolor\": \"white\", \"ticks\": \"\"}, \"bgcolor\": \"#E5ECF6\", \"caxis\": {\"gridcolor\": \"white\", \"linecolor\": \"white\", \"ticks\": \"\"}}, \"title\": {\"x\": 0.05}, \"xaxis\": {\"automargin\": true, \"gridcolor\": \"white\", \"linecolor\": \"white\", \"ticks\": \"\", \"title\": {\"standoff\": 15}, \"zerolinecolor\": \"white\", \"zerolinewidth\": 2}, \"yaxis\": {\"automargin\": true, \"gridcolor\": \"white\", \"linecolor\": \"white\", \"ticks\": \"\", \"title\": {\"standoff\": 15}, \"zerolinecolor\": \"white\", \"zerolinewidth\": 2}}}, \"title\": {\"text\": \"Overlap\"}},\n",
       "                        {\"responsive\": true}\n",
       "                    ).then(function(){\n",
       "                            \n",
       "var gd = document.getElementById('665cecfc-88aa-404c-abff-da26c44c6be8');\n",
       "var x = new MutationObserver(function (mutations, observer) {{\n",
       "        var display = window.getComputedStyle(gd).display;\n",
       "        if (!display || display === 'none') {{\n",
       "            console.log([gd, 'removed!']);\n",
       "            Plotly.purge(gd);\n",
       "            observer.disconnect();\n",
       "        }}\n",
       "}});\n",
       "\n",
       "// Listen for the removal of the full notebook cells\n",
       "var notebookContainer = gd.closest('#notebook-container');\n",
       "if (notebookContainer) {{\n",
       "    x.observe(notebookContainer, {childList: true});\n",
       "}}\n",
       "\n",
       "// Listen for the clearing of the current output cell\n",
       "var outputEl = gd.closest('.output');\n",
       "if (outputEl) {{\n",
       "    x.observe(outputEl, {childList: true});\n",
       "}}\n",
       "\n",
       "                        })\n",
       "                };\n",
       "                });\n",
       "            </script>\n",
       "        </div>"
      ]
     },
     "metadata": {},
     "output_type": "display_data"
    }
   ],
   "source": [
    "show_overlap(dfm)"
   ]
  },
  {
   "cell_type": "markdown",
   "metadata": {},
   "source": [
    "# SPAN"
   ]
  },
  {
   "cell_type": "code",
   "execution_count": 131,
   "metadata": {
    "ExecuteTime": {
     "end_time": "2019-03-07T11:40:40.502994Z",
     "start_time": "2019-03-07T11:38:50.554250Z"
    },
    "scrolled": true
   },
   "outputs": [
    {
     "data": {
      "application/vnd.jupyter.widget-view+json": {
       "model_id": "24f4ca80192840e8a60111b33c80bb6c",
       "version_major": 2,
       "version_minor": 0
      },
      "text/plain": [
       "HBox(children=(IntProgress(value=0, max=360), HTML(value='')))"
      ]
     },
     "metadata": {},
     "output_type": "display_data"
    },
    {
     "name": "stdout",
     "output_type": "stream",
     "text": [
      "\n"
     ]
    }
   ],
   "source": [
    "SPAN_FOLDER='/mnt/stripe/bio/raw-data/geo-samples/GSE53643/span'\n",
    "SPAN_LEVELS = ['0.05_0', '0.05_5', '1e-06_5']\n",
    "\n",
    "dfs = pd.DataFrame(columns=['gsm', 'name', 'replicate', 'level', 'file', 'peaks'])\n",
    "for file in tqdm(glob.glob(SPAN_FOLDER + '/*.peak')):\n",
    "    level = next((l for l in SPAN_LEVELS if f'_{l}.' in file), None) # \n",
    "    if level:\n",
    "        gsm = re.sub('_H3K4me2.*', '', os.path.basename(file))\n",
    "        name = re.sub('(GSM[0-9]+_)|(-rep[0-9].*)', '', os.path.basename(file))\n",
    "        replicate = re.sub(f'(.*-Donor[0-9]+-rep)|(_{level}.*)','', os.path.basename(file))\n",
    "        peaks = int(BedTool(file).count())\n",
    "        if np.isnan(peaks):\n",
    "            raise Exception(f'Wrong number of peaks {file}')\n",
    "        dfs.loc[len(dfs)] = (gsm, name, replicate, f'span {level}', file, peaks)\n",
    "\n",
    "# Fix types\n",
    "dfs['replicate'] = dfs['replicate'].astype(int)\n",
    "dfs['peaks'] = dfs['peaks'].astype(int)"
   ]
  },
  {
   "cell_type": "code",
   "execution_count": null,
   "metadata": {},
   "outputs": [],
   "source": [
    "dfs_mean = dfs.groupby(['name', 'level'])['peaks'].mean().reset_index().sort_values(by=['name', 'level'])\n",
    "dfs_std = dfs.groupby(['name', 'level'])['peaks'].std().reset_index().fillna(0).sort_values(by=['name', 'level'])"
   ]
  },
  {
   "cell_type": "code",
   "execution_count": 134,
   "metadata": {},
   "outputs": [
    {
     "data": {
      "application/vnd.plotly.v1+json": {
       "config": {
        "plotlyServerURL": "https://plot.ly"
       },
       "data": [
        {
         "line": {
          "shape": "linear"
         },
         "name": "span 0.05_0 mean",
         "type": "scatter",
         "x": [
          "H3K4me2_ChIPSeq_CCR4Neg-Donor1",
          "H3K4me2_ChIPSeq_CCR4Neg-Donor11",
          "H3K4me2_ChIPSeq_CCR4Neg-Donor12",
          "H3K4me2_ChIPSeq_CCR4Neg-Donor13",
          "H3K4me2_ChIPSeq_CCR4Neg-Donor14",
          "H3K4me2_ChIPSeq_CCR4Neg-Donor15",
          "H3K4me2_ChIPSeq_CCR4Neg-Donor16",
          "H3K4me2_ChIPSeq_CCR4Neg-Donor17",
          "H3K4me2_ChIPSeq_CCR4Neg-Donor18",
          "H3K4me2_ChIPSeq_CCR4Neg-Donor19",
          "H3K4me2_ChIPSeq_CCR4Neg-Donor20",
          "H3K4me2_ChIPSeq_CCR4Neg-Donor21",
          "H3K4me2_ChIPSeq_CCR4Neg-Donor22",
          "H3K4me2_ChIPSeq_CCR4Neg-Donor23",
          "H3K4me2_ChIPSeq_CCR4Neg-Donor4",
          "H3K4me2_ChIPSeq_CCR4Neg-Donor5",
          "H3K4me2_ChIPSeq_CCR4Neg-Donor6",
          "H3K4me2_ChIPSeq_CCR4Neg-Donor7",
          "H3K4me2_ChIPSeq_CCR4Neg-Donor8",
          "H3K4me2_ChIPSeq_CCR4Neg-Donor9",
          "H3K4me2_ChIPSeq_CCR4pos-Donor1",
          "H3K4me2_ChIPSeq_CCR4pos-Donor10",
          "H3K4me2_ChIPSeq_CCR4pos-Donor11",
          "H3K4me2_ChIPSeq_CCR4pos-Donor12",
          "H3K4me2_ChIPSeq_CCR4pos-Donor13",
          "H3K4me2_ChIPSeq_CCR4pos-Donor14",
          "H3K4me2_ChIPSeq_CCR4pos-Donor15",
          "H3K4me2_ChIPSeq_CCR4pos-Donor16",
          "H3K4me2_ChIPSeq_CCR4pos-Donor17",
          "H3K4me2_ChIPSeq_CCR4pos-Donor18",
          "H3K4me2_ChIPSeq_CCR4pos-Donor19",
          "H3K4me2_ChIPSeq_CCR4pos-Donor2",
          "H3K4me2_ChIPSeq_CCR4pos-Donor20",
          "H3K4me2_ChIPSeq_CCR4pos-Donor21",
          "H3K4me2_ChIPSeq_CCR4pos-Donor22",
          "H3K4me2_ChIPSeq_CCR4pos-Donor23",
          "H3K4me2_ChIPSeq_CCR4pos-Donor3",
          "H3K4me2_ChIPSeq_CCR4pos-Donor4",
          "H3K4me2_ChIPSeq_CCR4pos-Donor5",
          "H3K4me2_ChIPSeq_CCR4pos-Donor7",
          "H3K4me2_ChIPSeq_CCR4pos-Donor8",
          "H3K4me2_ChIPSeq_CCR4pos-Donor9",
          "H3K4me2_ChIPSeq_Naive-Donor1",
          "H3K4me2_ChIPSeq_Naive-Donor10",
          "H3K4me2_ChIPSeq_Naive-Donor11",
          "H3K4me2_ChIPSeq_Naive-Donor12",
          "H3K4me2_ChIPSeq_Naive-Donor13",
          "H3K4me2_ChIPSeq_Naive-Donor14",
          "H3K4me2_ChIPSeq_Naive-Donor15",
          "H3K4me2_ChIPSeq_Naive-Donor16",
          "H3K4me2_ChIPSeq_Naive-Donor17",
          "H3K4me2_ChIPSeq_Naive-Donor18",
          "H3K4me2_ChIPSeq_Naive-Donor19",
          "H3K4me2_ChIPSeq_Naive-Donor2",
          "H3K4me2_ChIPSeq_Naive-Donor20",
          "H3K4me2_ChIPSeq_Naive-Donor21",
          "H3K4me2_ChIPSeq_Naive-Donor22",
          "H3K4me2_ChIPSeq_Naive-Donor23",
          "H3K4me2_ChIPSeq_Naive-Donor3",
          "H3K4me2_ChIPSeq_Naive-Donor5",
          "H3K4me2_ChIPSeq_Naive-Donor7",
          "H3K4me2_ChIPSeq_Naive-Donor8",
          "H3K4me2_ChIPSeq_Naive-Donor9"
         ],
         "y": [
          93813.5,
          89984,
          88224.5,
          121704,
          97122,
          87295.5,
          84361.5,
          100320,
          175484.5,
          101210.5,
          87723,
          75107.5,
          64608,
          83261.5,
          72727.5,
          76563.5,
          80836,
          113919,
          126356,
          65609,
          65008,
          96555,
          94958.5,
          51873.5,
          53258,
          56644,
          73741,
          58070,
          56780,
          69210.5,
          73295.5,
          92547,
          67998,
          63173,
          48300.5,
          55710,
          56010,
          66973,
          71123.5,
          109950,
          72427,
          56451,
          65312.333333333336,
          69815,
          109350.5,
          64973,
          72689,
          83029,
          65038.5,
          65933.5,
          90959.5,
          64747,
          55587.5,
          54473.5,
          74169.5,
          71862.66666666667,
          73572,
          59870.5,
          86298.5,
          166365,
          70066,
          81734,
          60792.5
         ]
        },
        {
         "line": {
          "dash": "dot",
          "shape": "linear"
         },
         "name": "span 0.05_0 std",
         "type": "scatter",
         "x": [
          "H3K4me2_ChIPSeq_CCR4Neg-Donor1",
          "H3K4me2_ChIPSeq_CCR4Neg-Donor11",
          "H3K4me2_ChIPSeq_CCR4Neg-Donor12",
          "H3K4me2_ChIPSeq_CCR4Neg-Donor13",
          "H3K4me2_ChIPSeq_CCR4Neg-Donor14",
          "H3K4me2_ChIPSeq_CCR4Neg-Donor15",
          "H3K4me2_ChIPSeq_CCR4Neg-Donor16",
          "H3K4me2_ChIPSeq_CCR4Neg-Donor17",
          "H3K4me2_ChIPSeq_CCR4Neg-Donor18",
          "H3K4me2_ChIPSeq_CCR4Neg-Donor19",
          "H3K4me2_ChIPSeq_CCR4Neg-Donor20",
          "H3K4me2_ChIPSeq_CCR4Neg-Donor21",
          "H3K4me2_ChIPSeq_CCR4Neg-Donor22",
          "H3K4me2_ChIPSeq_CCR4Neg-Donor23",
          "H3K4me2_ChIPSeq_CCR4Neg-Donor4",
          "H3K4me2_ChIPSeq_CCR4Neg-Donor5",
          "H3K4me2_ChIPSeq_CCR4Neg-Donor6",
          "H3K4me2_ChIPSeq_CCR4Neg-Donor7",
          "H3K4me2_ChIPSeq_CCR4Neg-Donor8",
          "H3K4me2_ChIPSeq_CCR4Neg-Donor9",
          "H3K4me2_ChIPSeq_CCR4pos-Donor1",
          "H3K4me2_ChIPSeq_CCR4pos-Donor10",
          "H3K4me2_ChIPSeq_CCR4pos-Donor11",
          "H3K4me2_ChIPSeq_CCR4pos-Donor12",
          "H3K4me2_ChIPSeq_CCR4pos-Donor13",
          "H3K4me2_ChIPSeq_CCR4pos-Donor14",
          "H3K4me2_ChIPSeq_CCR4pos-Donor15",
          "H3K4me2_ChIPSeq_CCR4pos-Donor16",
          "H3K4me2_ChIPSeq_CCR4pos-Donor17",
          "H3K4me2_ChIPSeq_CCR4pos-Donor18",
          "H3K4me2_ChIPSeq_CCR4pos-Donor19",
          "H3K4me2_ChIPSeq_CCR4pos-Donor2",
          "H3K4me2_ChIPSeq_CCR4pos-Donor20",
          "H3K4me2_ChIPSeq_CCR4pos-Donor21",
          "H3K4me2_ChIPSeq_CCR4pos-Donor22",
          "H3K4me2_ChIPSeq_CCR4pos-Donor23",
          "H3K4me2_ChIPSeq_CCR4pos-Donor3",
          "H3K4me2_ChIPSeq_CCR4pos-Donor4",
          "H3K4me2_ChIPSeq_CCR4pos-Donor5",
          "H3K4me2_ChIPSeq_CCR4pos-Donor7",
          "H3K4me2_ChIPSeq_CCR4pos-Donor8",
          "H3K4me2_ChIPSeq_CCR4pos-Donor9",
          "H3K4me2_ChIPSeq_Naive-Donor1",
          "H3K4me2_ChIPSeq_Naive-Donor10",
          "H3K4me2_ChIPSeq_Naive-Donor11",
          "H3K4me2_ChIPSeq_Naive-Donor12",
          "H3K4me2_ChIPSeq_Naive-Donor13",
          "H3K4me2_ChIPSeq_Naive-Donor14",
          "H3K4me2_ChIPSeq_Naive-Donor15",
          "H3K4me2_ChIPSeq_Naive-Donor16",
          "H3K4me2_ChIPSeq_Naive-Donor17",
          "H3K4me2_ChIPSeq_Naive-Donor18",
          "H3K4me2_ChIPSeq_Naive-Donor19",
          "H3K4me2_ChIPSeq_Naive-Donor2",
          "H3K4me2_ChIPSeq_Naive-Donor20",
          "H3K4me2_ChIPSeq_Naive-Donor21",
          "H3K4me2_ChIPSeq_Naive-Donor22",
          "H3K4me2_ChIPSeq_Naive-Donor23",
          "H3K4me2_ChIPSeq_Naive-Donor3",
          "H3K4me2_ChIPSeq_Naive-Donor5",
          "H3K4me2_ChIPSeq_Naive-Donor7",
          "H3K4me2_ChIPSeq_Naive-Donor8",
          "H3K4me2_ChIPSeq_Naive-Donor9"
         ],
         "y": [
          12652.261635770896,
          0,
          2799.435746717542,
          42170.43421640332,
          19442.608055505312,
          11430.38111788054,
          17326.237459413973,
          17524.934464927395,
          18881.872378024378,
          14429.928083673874,
          0,
          24084.764073994997,
          14335.882881776064,
          4913.685022465319,
          4100.512224100789,
          2574.5757903002195,
          8551.749411670105,
          0,
          43337.16040536112,
          0,
          23014.91151405975,
          0,
          55023.5141780312,
          224.15284963613556,
          12520.03266768901,
          7969.09342397239,
          8498.009296299928,
          6116.473657263636,
          6223.953888003991,
          13645.039556556807,
          16909.044458513912,
          53479.90007470096,
          7068.239384740729,
          9667.563912382479,
          1081.1662684342311,
          9131.576972243074,
          0,
          8459.825530115855,
          16375.885945499254,
          70614.51159641339,
          22051.83207808367,
          6791.053526515602,
          4803.473777729335,
          0,
          66867.55276290586,
          1018.2337649086285,
          17645.142617729107,
          12292.344284146942,
          10423.461061470896,
          10238.199084800022,
          41975.97985157702,
          666.0945878777278,
          10253.755433986125,
          3194.001330619635,
          881.7621561396247,
          11527.783582863332,
          0,
          15537.25730301201,
          24472.258590085225,
          149155.69020992797,
          4352.949344984387,
          13136.62978088368,
          4531.847360624583
         ]
        },
        {
         "line": {
          "shape": "linear"
         },
         "name": "span 0.05_5 mean",
         "type": "scatter",
         "x": [
          "H3K4me2_ChIPSeq_CCR4Neg-Donor1",
          "H3K4me2_ChIPSeq_CCR4Neg-Donor11",
          "H3K4me2_ChIPSeq_CCR4Neg-Donor12",
          "H3K4me2_ChIPSeq_CCR4Neg-Donor13",
          "H3K4me2_ChIPSeq_CCR4Neg-Donor14",
          "H3K4me2_ChIPSeq_CCR4Neg-Donor15",
          "H3K4me2_ChIPSeq_CCR4Neg-Donor16",
          "H3K4me2_ChIPSeq_CCR4Neg-Donor17",
          "H3K4me2_ChIPSeq_CCR4Neg-Donor18",
          "H3K4me2_ChIPSeq_CCR4Neg-Donor19",
          "H3K4me2_ChIPSeq_CCR4Neg-Donor20",
          "H3K4me2_ChIPSeq_CCR4Neg-Donor21",
          "H3K4me2_ChIPSeq_CCR4Neg-Donor22",
          "H3K4me2_ChIPSeq_CCR4Neg-Donor23",
          "H3K4me2_ChIPSeq_CCR4Neg-Donor4",
          "H3K4me2_ChIPSeq_CCR4Neg-Donor5",
          "H3K4me2_ChIPSeq_CCR4Neg-Donor6",
          "H3K4me2_ChIPSeq_CCR4Neg-Donor7",
          "H3K4me2_ChIPSeq_CCR4Neg-Donor8",
          "H3K4me2_ChIPSeq_CCR4Neg-Donor9",
          "H3K4me2_ChIPSeq_CCR4pos-Donor1",
          "H3K4me2_ChIPSeq_CCR4pos-Donor10",
          "H3K4me2_ChIPSeq_CCR4pos-Donor11",
          "H3K4me2_ChIPSeq_CCR4pos-Donor12",
          "H3K4me2_ChIPSeq_CCR4pos-Donor13",
          "H3K4me2_ChIPSeq_CCR4pos-Donor14",
          "H3K4me2_ChIPSeq_CCR4pos-Donor15",
          "H3K4me2_ChIPSeq_CCR4pos-Donor16",
          "H3K4me2_ChIPSeq_CCR4pos-Donor17",
          "H3K4me2_ChIPSeq_CCR4pos-Donor18",
          "H3K4me2_ChIPSeq_CCR4pos-Donor19",
          "H3K4me2_ChIPSeq_CCR4pos-Donor2",
          "H3K4me2_ChIPSeq_CCR4pos-Donor20",
          "H3K4me2_ChIPSeq_CCR4pos-Donor21",
          "H3K4me2_ChIPSeq_CCR4pos-Donor22",
          "H3K4me2_ChIPSeq_CCR4pos-Donor23",
          "H3K4me2_ChIPSeq_CCR4pos-Donor3",
          "H3K4me2_ChIPSeq_CCR4pos-Donor4",
          "H3K4me2_ChIPSeq_CCR4pos-Donor5",
          "H3K4me2_ChIPSeq_CCR4pos-Donor7",
          "H3K4me2_ChIPSeq_CCR4pos-Donor8",
          "H3K4me2_ChIPSeq_CCR4pos-Donor9",
          "H3K4me2_ChIPSeq_Naive-Donor1",
          "H3K4me2_ChIPSeq_Naive-Donor10",
          "H3K4me2_ChIPSeq_Naive-Donor11",
          "H3K4me2_ChIPSeq_Naive-Donor12",
          "H3K4me2_ChIPSeq_Naive-Donor13",
          "H3K4me2_ChIPSeq_Naive-Donor14",
          "H3K4me2_ChIPSeq_Naive-Donor15",
          "H3K4me2_ChIPSeq_Naive-Donor16",
          "H3K4me2_ChIPSeq_Naive-Donor17",
          "H3K4me2_ChIPSeq_Naive-Donor18",
          "H3K4me2_ChIPSeq_Naive-Donor19",
          "H3K4me2_ChIPSeq_Naive-Donor2",
          "H3K4me2_ChIPSeq_Naive-Donor20",
          "H3K4me2_ChIPSeq_Naive-Donor21",
          "H3K4me2_ChIPSeq_Naive-Donor22",
          "H3K4me2_ChIPSeq_Naive-Donor23",
          "H3K4me2_ChIPSeq_Naive-Donor3",
          "H3K4me2_ChIPSeq_Naive-Donor5",
          "H3K4me2_ChIPSeq_Naive-Donor7",
          "H3K4me2_ChIPSeq_Naive-Donor8",
          "H3K4me2_ChIPSeq_Naive-Donor9"
         ],
         "y": [
          87947.5,
          84245,
          83269.5,
          110760,
          89479,
          82080,
          79369,
          93931,
          151356.5,
          94272,
          82494,
          70888.5,
          61152,
          78088.5,
          69304.5,
          72817.5,
          76509,
          105388,
          112630,
          62796,
          61519.5,
          87695,
          85195,
          50076,
          50968,
          54317,
          69779,
          55499,
          54542.5,
          65150,
          69279,
          84031.5,
          64644.5,
          60002,
          46550,
          53515.5,
          53255,
          63679.5,
          67321,
          97187,
          67384,
          54000,
          62457.666666666664,
          66438,
          99766,
          62169.5,
          68742,
          78344.5,
          62110,
          62830,
          82223,
          61792.5,
          53500,
          52364.5,
          70493,
          67934.33333333333,
          69366,
          57328.5,
          80692,
          136956.5,
          66363,
          76741.5,
          58231.5
         ]
        },
        {
         "line": {
          "dash": "dot",
          "shape": "linear"
         },
         "name": "span 0.05_5 std",
         "type": "scatter",
         "x": [
          "H3K4me2_ChIPSeq_CCR4Neg-Donor1",
          "H3K4me2_ChIPSeq_CCR4Neg-Donor11",
          "H3K4me2_ChIPSeq_CCR4Neg-Donor12",
          "H3K4me2_ChIPSeq_CCR4Neg-Donor13",
          "H3K4me2_ChIPSeq_CCR4Neg-Donor14",
          "H3K4me2_ChIPSeq_CCR4Neg-Donor15",
          "H3K4me2_ChIPSeq_CCR4Neg-Donor16",
          "H3K4me2_ChIPSeq_CCR4Neg-Donor17",
          "H3K4me2_ChIPSeq_CCR4Neg-Donor18",
          "H3K4me2_ChIPSeq_CCR4Neg-Donor19",
          "H3K4me2_ChIPSeq_CCR4Neg-Donor20",
          "H3K4me2_ChIPSeq_CCR4Neg-Donor21",
          "H3K4me2_ChIPSeq_CCR4Neg-Donor22",
          "H3K4me2_ChIPSeq_CCR4Neg-Donor23",
          "H3K4me2_ChIPSeq_CCR4Neg-Donor4",
          "H3K4me2_ChIPSeq_CCR4Neg-Donor5",
          "H3K4me2_ChIPSeq_CCR4Neg-Donor6",
          "H3K4me2_ChIPSeq_CCR4Neg-Donor7",
          "H3K4me2_ChIPSeq_CCR4Neg-Donor8",
          "H3K4me2_ChIPSeq_CCR4Neg-Donor9",
          "H3K4me2_ChIPSeq_CCR4pos-Donor1",
          "H3K4me2_ChIPSeq_CCR4pos-Donor10",
          "H3K4me2_ChIPSeq_CCR4pos-Donor11",
          "H3K4me2_ChIPSeq_CCR4pos-Donor12",
          "H3K4me2_ChIPSeq_CCR4pos-Donor13",
          "H3K4me2_ChIPSeq_CCR4pos-Donor14",
          "H3K4me2_ChIPSeq_CCR4pos-Donor15",
          "H3K4me2_ChIPSeq_CCR4pos-Donor16",
          "H3K4me2_ChIPSeq_CCR4pos-Donor17",
          "H3K4me2_ChIPSeq_CCR4pos-Donor18",
          "H3K4me2_ChIPSeq_CCR4pos-Donor19",
          "H3K4me2_ChIPSeq_CCR4pos-Donor2",
          "H3K4me2_ChIPSeq_CCR4pos-Donor20",
          "H3K4me2_ChIPSeq_CCR4pos-Donor21",
          "H3K4me2_ChIPSeq_CCR4pos-Donor22",
          "H3K4me2_ChIPSeq_CCR4pos-Donor23",
          "H3K4me2_ChIPSeq_CCR4pos-Donor3",
          "H3K4me2_ChIPSeq_CCR4pos-Donor4",
          "H3K4me2_ChIPSeq_CCR4pos-Donor5",
          "H3K4me2_ChIPSeq_CCR4pos-Donor7",
          "H3K4me2_ChIPSeq_CCR4pos-Donor8",
          "H3K4me2_ChIPSeq_CCR4pos-Donor9",
          "H3K4me2_ChIPSeq_Naive-Donor1",
          "H3K4me2_ChIPSeq_Naive-Donor10",
          "H3K4me2_ChIPSeq_Naive-Donor11",
          "H3K4me2_ChIPSeq_Naive-Donor12",
          "H3K4me2_ChIPSeq_Naive-Donor13",
          "H3K4me2_ChIPSeq_Naive-Donor14",
          "H3K4me2_ChIPSeq_Naive-Donor15",
          "H3K4me2_ChIPSeq_Naive-Donor16",
          "H3K4me2_ChIPSeq_Naive-Donor17",
          "H3K4me2_ChIPSeq_Naive-Donor18",
          "H3K4me2_ChIPSeq_Naive-Donor19",
          "H3K4me2_ChIPSeq_Naive-Donor2",
          "H3K4me2_ChIPSeq_Naive-Donor20",
          "H3K4me2_ChIPSeq_Naive-Donor21",
          "H3K4me2_ChIPSeq_Naive-Donor22",
          "H3K4me2_ChIPSeq_Naive-Donor23",
          "H3K4me2_ChIPSeq_Naive-Donor3",
          "H3K4me2_ChIPSeq_Naive-Donor5",
          "H3K4me2_ChIPSeq_Naive-Donor7",
          "H3K4me2_ChIPSeq_Naive-Donor8",
          "H3K4me2_ChIPSeq_Naive-Donor9"
         ],
         "y": [
          11188.55059871474,
          0,
          2602.8600615476817,
          35667.88025661183,
          16747.117005622193,
          10736.709365536537,
          15642.616213408804,
          14918.53886947378,
          14332.347347870133,
          12836.816505660583,
          0,
          21379.373529175264,
          12766.10582754193,
          4497.906235127629,
          3705.9466401986956,
          2194.152342021857,
          7353.9105243400945,
          0,
          33761.5203745329,
          0,
          20354.06869645477,
          0,
          44891.38111040916,
          299.8132752230961,
          11660.19082176617,
          7609.883179129624,
          7451.491260143838,
          5611.599415496441,
          5705.644617394252,
          12214.562538216422,
          15402.199907805378,
          44754.909501640155,
          6678.623548306941,
          8355.173726500245,
          909.3393206059001,
          8471.846345396027,
          0,
          7559.678597665379,
          14348.610803837422,
          56438.434847185476,
          18215.070683365466,
          5757.26341242087,
          4209.413300370176,
          0,
          57004.120272134714,
          1078.337841309485,
          15792.522851020352,
          11051.371883164551,
          9377.650132095992,
          9195.216582549863,
          33723.33660834882,
          689.4291116568838,
          9619.480651261792,
          2922.472326644001,
          857.0134187980956,
          10471.655185945216,
          0,
          13975.965530152112,
          21056.225730173013,
          111532.65970333533,
          3384.2130547588163,
          11055.614523851671,
          4011.4167696712843
         ]
        },
        {
         "line": {
          "shape": "linear"
         },
         "name": "span 1e-06_5 mean",
         "type": "scatter",
         "x": [
          "H3K4me2_ChIPSeq_CCR4Neg-Donor1",
          "H3K4me2_ChIPSeq_CCR4Neg-Donor11",
          "H3K4me2_ChIPSeq_CCR4Neg-Donor12",
          "H3K4me2_ChIPSeq_CCR4Neg-Donor13",
          "H3K4me2_ChIPSeq_CCR4Neg-Donor14",
          "H3K4me2_ChIPSeq_CCR4Neg-Donor15",
          "H3K4me2_ChIPSeq_CCR4Neg-Donor16",
          "H3K4me2_ChIPSeq_CCR4Neg-Donor17",
          "H3K4me2_ChIPSeq_CCR4Neg-Donor18",
          "H3K4me2_ChIPSeq_CCR4Neg-Donor19",
          "H3K4me2_ChIPSeq_CCR4Neg-Donor20",
          "H3K4me2_ChIPSeq_CCR4Neg-Donor21",
          "H3K4me2_ChIPSeq_CCR4Neg-Donor22",
          "H3K4me2_ChIPSeq_CCR4Neg-Donor23",
          "H3K4me2_ChIPSeq_CCR4Neg-Donor4",
          "H3K4me2_ChIPSeq_CCR4Neg-Donor5",
          "H3K4me2_ChIPSeq_CCR4Neg-Donor6",
          "H3K4me2_ChIPSeq_CCR4Neg-Donor7",
          "H3K4me2_ChIPSeq_CCR4Neg-Donor8",
          "H3K4me2_ChIPSeq_CCR4Neg-Donor9",
          "H3K4me2_ChIPSeq_CCR4pos-Donor1",
          "H3K4me2_ChIPSeq_CCR4pos-Donor10",
          "H3K4me2_ChIPSeq_CCR4pos-Donor11",
          "H3K4me2_ChIPSeq_CCR4pos-Donor12",
          "H3K4me2_ChIPSeq_CCR4pos-Donor13",
          "H3K4me2_ChIPSeq_CCR4pos-Donor14",
          "H3K4me2_ChIPSeq_CCR4pos-Donor15",
          "H3K4me2_ChIPSeq_CCR4pos-Donor16",
          "H3K4me2_ChIPSeq_CCR4pos-Donor17",
          "H3K4me2_ChIPSeq_CCR4pos-Donor18",
          "H3K4me2_ChIPSeq_CCR4pos-Donor19",
          "H3K4me2_ChIPSeq_CCR4pos-Donor2",
          "H3K4me2_ChIPSeq_CCR4pos-Donor20",
          "H3K4me2_ChIPSeq_CCR4pos-Donor21",
          "H3K4me2_ChIPSeq_CCR4pos-Donor22",
          "H3K4me2_ChIPSeq_CCR4pos-Donor23",
          "H3K4me2_ChIPSeq_CCR4pos-Donor3",
          "H3K4me2_ChIPSeq_CCR4pos-Donor4",
          "H3K4me2_ChIPSeq_CCR4pos-Donor5",
          "H3K4me2_ChIPSeq_CCR4pos-Donor7",
          "H3K4me2_ChIPSeq_CCR4pos-Donor8",
          "H3K4me2_ChIPSeq_CCR4pos-Donor9",
          "H3K4me2_ChIPSeq_Naive-Donor1",
          "H3K4me2_ChIPSeq_Naive-Donor10",
          "H3K4me2_ChIPSeq_Naive-Donor11",
          "H3K4me2_ChIPSeq_Naive-Donor12",
          "H3K4me2_ChIPSeq_Naive-Donor13",
          "H3K4me2_ChIPSeq_Naive-Donor14",
          "H3K4me2_ChIPSeq_Naive-Donor15",
          "H3K4me2_ChIPSeq_Naive-Donor16",
          "H3K4me2_ChIPSeq_Naive-Donor17",
          "H3K4me2_ChIPSeq_Naive-Donor18",
          "H3K4me2_ChIPSeq_Naive-Donor19",
          "H3K4me2_ChIPSeq_Naive-Donor2",
          "H3K4me2_ChIPSeq_Naive-Donor20",
          "H3K4me2_ChIPSeq_Naive-Donor21",
          "H3K4me2_ChIPSeq_Naive-Donor22",
          "H3K4me2_ChIPSeq_Naive-Donor23",
          "H3K4me2_ChIPSeq_Naive-Donor3",
          "H3K4me2_ChIPSeq_Naive-Donor5",
          "H3K4me2_ChIPSeq_Naive-Donor7",
          "H3K4me2_ChIPSeq_Naive-Donor8",
          "H3K4me2_ChIPSeq_Naive-Donor9"
         ],
         "y": [
          21304.5,
          13350,
          25181.5,
          10903.5,
          10434.5,
          22070.5,
          14834,
          24886,
          7524.5,
          19689,
          30165,
          16407,
          15165,
          18472.5,
          34258.5,
          28716.5,
          26947.5,
          10407,
          13368.5,
          14826,
          19560,
          9108,
          8158.5,
          27714.5,
          13886.5,
          22677.5,
          27878,
          30667.5,
          27606,
          11387,
          24671.5,
          11599.5,
          25001.5,
          20893,
          21973,
          32658,
          14615,
          25153,
          26861.5,
          12584.5,
          13895,
          25488.5,
          29626.333333333332,
          25865,
          18650,
          25870.5,
          16354,
          26781,
          34164.5,
          28747.5,
          9119,
          16114.5,
          28127.5,
          21778.5,
          31055.5,
          19725.333333333332,
          8302,
          30382.5,
          26019.5,
          11178,
          21328.5,
          16325,
          20701
         ]
        },
        {
         "line": {
          "dash": "dot",
          "shape": "linear"
         },
         "name": "span 1e-06_5 std",
         "type": "scatter",
         "x": [
          "H3K4me2_ChIPSeq_CCR4Neg-Donor1",
          "H3K4me2_ChIPSeq_CCR4Neg-Donor11",
          "H3K4me2_ChIPSeq_CCR4Neg-Donor12",
          "H3K4me2_ChIPSeq_CCR4Neg-Donor13",
          "H3K4me2_ChIPSeq_CCR4Neg-Donor14",
          "H3K4me2_ChIPSeq_CCR4Neg-Donor15",
          "H3K4me2_ChIPSeq_CCR4Neg-Donor16",
          "H3K4me2_ChIPSeq_CCR4Neg-Donor17",
          "H3K4me2_ChIPSeq_CCR4Neg-Donor18",
          "H3K4me2_ChIPSeq_CCR4Neg-Donor19",
          "H3K4me2_ChIPSeq_CCR4Neg-Donor20",
          "H3K4me2_ChIPSeq_CCR4Neg-Donor21",
          "H3K4me2_ChIPSeq_CCR4Neg-Donor22",
          "H3K4me2_ChIPSeq_CCR4Neg-Donor23",
          "H3K4me2_ChIPSeq_CCR4Neg-Donor4",
          "H3K4me2_ChIPSeq_CCR4Neg-Donor5",
          "H3K4me2_ChIPSeq_CCR4Neg-Donor6",
          "H3K4me2_ChIPSeq_CCR4Neg-Donor7",
          "H3K4me2_ChIPSeq_CCR4Neg-Donor8",
          "H3K4me2_ChIPSeq_CCR4Neg-Donor9",
          "H3K4me2_ChIPSeq_CCR4pos-Donor1",
          "H3K4me2_ChIPSeq_CCR4pos-Donor10",
          "H3K4me2_ChIPSeq_CCR4pos-Donor11",
          "H3K4me2_ChIPSeq_CCR4pos-Donor12",
          "H3K4me2_ChIPSeq_CCR4pos-Donor13",
          "H3K4me2_ChIPSeq_CCR4pos-Donor14",
          "H3K4me2_ChIPSeq_CCR4pos-Donor15",
          "H3K4me2_ChIPSeq_CCR4pos-Donor16",
          "H3K4me2_ChIPSeq_CCR4pos-Donor17",
          "H3K4me2_ChIPSeq_CCR4pos-Donor18",
          "H3K4me2_ChIPSeq_CCR4pos-Donor19",
          "H3K4me2_ChIPSeq_CCR4pos-Donor2",
          "H3K4me2_ChIPSeq_CCR4pos-Donor20",
          "H3K4me2_ChIPSeq_CCR4pos-Donor21",
          "H3K4me2_ChIPSeq_CCR4pos-Donor22",
          "H3K4me2_ChIPSeq_CCR4pos-Donor23",
          "H3K4me2_ChIPSeq_CCR4pos-Donor3",
          "H3K4me2_ChIPSeq_CCR4pos-Donor4",
          "H3K4me2_ChIPSeq_CCR4pos-Donor5",
          "H3K4me2_ChIPSeq_CCR4pos-Donor7",
          "H3K4me2_ChIPSeq_CCR4pos-Donor8",
          "H3K4me2_ChIPSeq_CCR4pos-Donor9",
          "H3K4me2_ChIPSeq_Naive-Donor1",
          "H3K4me2_ChIPSeq_Naive-Donor10",
          "H3K4me2_ChIPSeq_Naive-Donor11",
          "H3K4me2_ChIPSeq_Naive-Donor12",
          "H3K4me2_ChIPSeq_Naive-Donor13",
          "H3K4me2_ChIPSeq_Naive-Donor14",
          "H3K4me2_ChIPSeq_Naive-Donor15",
          "H3K4me2_ChIPSeq_Naive-Donor16",
          "H3K4me2_ChIPSeq_Naive-Donor17",
          "H3K4me2_ChIPSeq_Naive-Donor18",
          "H3K4me2_ChIPSeq_Naive-Donor19",
          "H3K4me2_ChIPSeq_Naive-Donor2",
          "H3K4me2_ChIPSeq_Naive-Donor20",
          "H3K4me2_ChIPSeq_Naive-Donor21",
          "H3K4me2_ChIPSeq_Naive-Donor22",
          "H3K4me2_ChIPSeq_Naive-Donor23",
          "H3K4me2_ChIPSeq_Naive-Donor3",
          "H3K4me2_ChIPSeq_Naive-Donor5",
          "H3K4me2_ChIPSeq_Naive-Donor7",
          "H3K4me2_ChIPSeq_Naive-Donor8",
          "H3K4me2_ChIPSeq_Naive-Donor9"
         ],
         "y": [
          4025.558905295015,
          0,
          560.7356774809322,
          2123.4416639032024,
          3172.788127184039,
          1998.99087041437,
          3333.301366513385,
          738.2194795587557,
          1950.9076092936846,
          10619.32963985957,
          0,
          1294.005409571382,
          2736.503243191939,
          2375.171678005613,
          3799.2847353153197,
          6586.69966675269,
          6506.089493697424,
          0,
          10651.149445012965,
          0,
          7823.429427047962,
          0,
          1738.7755749377204,
          2874.389065523316,
          6458.0062325767385,
          4251.833075274711,
          459.6194077712559,
          5926.261933124455,
          7141.77848998413,
          865.4987001723342,
          6063.440648674645,
          5759.38473276443,
          7216.024702008717,
          9475.230867899736,
          469.51890270786754,
          2184.959953866432,
          0,
          8564.477333731464,
          10536.598146460745,
          7518.66640435656,
          8380.629570622961,
          12314.264594363725,
          11023.202136100623,
          0,
          8305.676251817187,
          1344.209991035627,
          359.21024484276614,
          2076.0655095637035,
          2075.358402782517,
          4960.354070023631,
          5125.109950040096,
          948.2301935711603,
          3268.954649425409,
          226.98127676088177,
          494.26764004939673,
          4421.797183649803,
          0,
          12168.600597439296,
          5309.664819929785,
          5396.638954015731,
          11837.674623843992,
          9800.499987245548,
          9821.713190681145
         ]
        }
       ],
       "layout": {
        "template": {
         "data": {
          "bar": [
           {
            "error_x": {
             "color": "#2a3f5f"
            },
            "error_y": {
             "color": "#2a3f5f"
            },
            "marker": {
             "line": {
              "color": "#E5ECF6",
              "width": 0.5
             }
            },
            "type": "bar"
           }
          ],
          "barpolar": [
           {
            "marker": {
             "line": {
              "color": "#E5ECF6",
              "width": 0.5
             }
            },
            "type": "barpolar"
           }
          ],
          "carpet": [
           {
            "aaxis": {
             "endlinecolor": "#2a3f5f",
             "gridcolor": "white",
             "linecolor": "white",
             "minorgridcolor": "white",
             "startlinecolor": "#2a3f5f"
            },
            "baxis": {
             "endlinecolor": "#2a3f5f",
             "gridcolor": "white",
             "linecolor": "white",
             "minorgridcolor": "white",
             "startlinecolor": "#2a3f5f"
            },
            "type": "carpet"
           }
          ],
          "choropleth": [
           {
            "colorbar": {
             "outlinewidth": 0,
             "ticks": ""
            },
            "type": "choropleth"
           }
          ],
          "contour": [
           {
            "colorbar": {
             "outlinewidth": 0,
             "ticks": ""
            },
            "colorscale": [
             [
              0,
              "#0d0887"
             ],
             [
              0.1111111111111111,
              "#46039f"
             ],
             [
              0.2222222222222222,
              "#7201a8"
             ],
             [
              0.3333333333333333,
              "#9c179e"
             ],
             [
              0.4444444444444444,
              "#bd3786"
             ],
             [
              0.5555555555555556,
              "#d8576b"
             ],
             [
              0.6666666666666666,
              "#ed7953"
             ],
             [
              0.7777777777777778,
              "#fb9f3a"
             ],
             [
              0.8888888888888888,
              "#fdca26"
             ],
             [
              1,
              "#f0f921"
             ]
            ],
            "type": "contour"
           }
          ],
          "contourcarpet": [
           {
            "colorbar": {
             "outlinewidth": 0,
             "ticks": ""
            },
            "type": "contourcarpet"
           }
          ],
          "heatmap": [
           {
            "colorbar": {
             "outlinewidth": 0,
             "ticks": ""
            },
            "colorscale": [
             [
              0,
              "#0d0887"
             ],
             [
              0.1111111111111111,
              "#46039f"
             ],
             [
              0.2222222222222222,
              "#7201a8"
             ],
             [
              0.3333333333333333,
              "#9c179e"
             ],
             [
              0.4444444444444444,
              "#bd3786"
             ],
             [
              0.5555555555555556,
              "#d8576b"
             ],
             [
              0.6666666666666666,
              "#ed7953"
             ],
             [
              0.7777777777777778,
              "#fb9f3a"
             ],
             [
              0.8888888888888888,
              "#fdca26"
             ],
             [
              1,
              "#f0f921"
             ]
            ],
            "type": "heatmap"
           }
          ],
          "heatmapgl": [
           {
            "colorbar": {
             "outlinewidth": 0,
             "ticks": ""
            },
            "colorscale": [
             [
              0,
              "#0d0887"
             ],
             [
              0.1111111111111111,
              "#46039f"
             ],
             [
              0.2222222222222222,
              "#7201a8"
             ],
             [
              0.3333333333333333,
              "#9c179e"
             ],
             [
              0.4444444444444444,
              "#bd3786"
             ],
             [
              0.5555555555555556,
              "#d8576b"
             ],
             [
              0.6666666666666666,
              "#ed7953"
             ],
             [
              0.7777777777777778,
              "#fb9f3a"
             ],
             [
              0.8888888888888888,
              "#fdca26"
             ],
             [
              1,
              "#f0f921"
             ]
            ],
            "type": "heatmapgl"
           }
          ],
          "histogram": [
           {
            "marker": {
             "colorbar": {
              "outlinewidth": 0,
              "ticks": ""
             }
            },
            "type": "histogram"
           }
          ],
          "histogram2d": [
           {
            "colorbar": {
             "outlinewidth": 0,
             "ticks": ""
            },
            "colorscale": [
             [
              0,
              "#0d0887"
             ],
             [
              0.1111111111111111,
              "#46039f"
             ],
             [
              0.2222222222222222,
              "#7201a8"
             ],
             [
              0.3333333333333333,
              "#9c179e"
             ],
             [
              0.4444444444444444,
              "#bd3786"
             ],
             [
              0.5555555555555556,
              "#d8576b"
             ],
             [
              0.6666666666666666,
              "#ed7953"
             ],
             [
              0.7777777777777778,
              "#fb9f3a"
             ],
             [
              0.8888888888888888,
              "#fdca26"
             ],
             [
              1,
              "#f0f921"
             ]
            ],
            "type": "histogram2d"
           }
          ],
          "histogram2dcontour": [
           {
            "colorbar": {
             "outlinewidth": 0,
             "ticks": ""
            },
            "colorscale": [
             [
              0,
              "#0d0887"
             ],
             [
              0.1111111111111111,
              "#46039f"
             ],
             [
              0.2222222222222222,
              "#7201a8"
             ],
             [
              0.3333333333333333,
              "#9c179e"
             ],
             [
              0.4444444444444444,
              "#bd3786"
             ],
             [
              0.5555555555555556,
              "#d8576b"
             ],
             [
              0.6666666666666666,
              "#ed7953"
             ],
             [
              0.7777777777777778,
              "#fb9f3a"
             ],
             [
              0.8888888888888888,
              "#fdca26"
             ],
             [
              1,
              "#f0f921"
             ]
            ],
            "type": "histogram2dcontour"
           }
          ],
          "mesh3d": [
           {
            "colorbar": {
             "outlinewidth": 0,
             "ticks": ""
            },
            "type": "mesh3d"
           }
          ],
          "parcoords": [
           {
            "line": {
             "colorbar": {
              "outlinewidth": 0,
              "ticks": ""
             }
            },
            "type": "parcoords"
           }
          ],
          "pie": [
           {
            "automargin": true,
            "type": "pie"
           }
          ],
          "scatter": [
           {
            "marker": {
             "colorbar": {
              "outlinewidth": 0,
              "ticks": ""
             }
            },
            "type": "scatter"
           }
          ],
          "scatter3d": [
           {
            "line": {
             "colorbar": {
              "outlinewidth": 0,
              "ticks": ""
             }
            },
            "marker": {
             "colorbar": {
              "outlinewidth": 0,
              "ticks": ""
             }
            },
            "type": "scatter3d"
           }
          ],
          "scattercarpet": [
           {
            "marker": {
             "colorbar": {
              "outlinewidth": 0,
              "ticks": ""
             }
            },
            "type": "scattercarpet"
           }
          ],
          "scattergeo": [
           {
            "marker": {
             "colorbar": {
              "outlinewidth": 0,
              "ticks": ""
             }
            },
            "type": "scattergeo"
           }
          ],
          "scattergl": [
           {
            "marker": {
             "colorbar": {
              "outlinewidth": 0,
              "ticks": ""
             }
            },
            "type": "scattergl"
           }
          ],
          "scattermapbox": [
           {
            "marker": {
             "colorbar": {
              "outlinewidth": 0,
              "ticks": ""
             }
            },
            "type": "scattermapbox"
           }
          ],
          "scatterpolar": [
           {
            "marker": {
             "colorbar": {
              "outlinewidth": 0,
              "ticks": ""
             }
            },
            "type": "scatterpolar"
           }
          ],
          "scatterpolargl": [
           {
            "marker": {
             "colorbar": {
              "outlinewidth": 0,
              "ticks": ""
             }
            },
            "type": "scatterpolargl"
           }
          ],
          "scatterternary": [
           {
            "marker": {
             "colorbar": {
              "outlinewidth": 0,
              "ticks": ""
             }
            },
            "type": "scatterternary"
           }
          ],
          "surface": [
           {
            "colorbar": {
             "outlinewidth": 0,
             "ticks": ""
            },
            "colorscale": [
             [
              0,
              "#0d0887"
             ],
             [
              0.1111111111111111,
              "#46039f"
             ],
             [
              0.2222222222222222,
              "#7201a8"
             ],
             [
              0.3333333333333333,
              "#9c179e"
             ],
             [
              0.4444444444444444,
              "#bd3786"
             ],
             [
              0.5555555555555556,
              "#d8576b"
             ],
             [
              0.6666666666666666,
              "#ed7953"
             ],
             [
              0.7777777777777778,
              "#fb9f3a"
             ],
             [
              0.8888888888888888,
              "#fdca26"
             ],
             [
              1,
              "#f0f921"
             ]
            ],
            "type": "surface"
           }
          ],
          "table": [
           {
            "cells": {
             "fill": {
              "color": "#EBF0F8"
             },
             "line": {
              "color": "white"
             }
            },
            "header": {
             "fill": {
              "color": "#C8D4E3"
             },
             "line": {
              "color": "white"
             }
            },
            "type": "table"
           }
          ]
         },
         "layout": {
          "annotationdefaults": {
           "arrowcolor": "#2a3f5f",
           "arrowhead": 0,
           "arrowwidth": 1
          },
          "coloraxis": {
           "colorbar": {
            "outlinewidth": 0,
            "ticks": ""
           }
          },
          "colorscale": {
           "diverging": [
            [
             0,
             "#8e0152"
            ],
            [
             0.1,
             "#c51b7d"
            ],
            [
             0.2,
             "#de77ae"
            ],
            [
             0.3,
             "#f1b6da"
            ],
            [
             0.4,
             "#fde0ef"
            ],
            [
             0.5,
             "#f7f7f7"
            ],
            [
             0.6,
             "#e6f5d0"
            ],
            [
             0.7,
             "#b8e186"
            ],
            [
             0.8,
             "#7fbc41"
            ],
            [
             0.9,
             "#4d9221"
            ],
            [
             1,
             "#276419"
            ]
           ],
           "sequential": [
            [
             0,
             "#0d0887"
            ],
            [
             0.1111111111111111,
             "#46039f"
            ],
            [
             0.2222222222222222,
             "#7201a8"
            ],
            [
             0.3333333333333333,
             "#9c179e"
            ],
            [
             0.4444444444444444,
             "#bd3786"
            ],
            [
             0.5555555555555556,
             "#d8576b"
            ],
            [
             0.6666666666666666,
             "#ed7953"
            ],
            [
             0.7777777777777778,
             "#fb9f3a"
            ],
            [
             0.8888888888888888,
             "#fdca26"
            ],
            [
             1,
             "#f0f921"
            ]
           ],
           "sequentialminus": [
            [
             0,
             "#0d0887"
            ],
            [
             0.1111111111111111,
             "#46039f"
            ],
            [
             0.2222222222222222,
             "#7201a8"
            ],
            [
             0.3333333333333333,
             "#9c179e"
            ],
            [
             0.4444444444444444,
             "#bd3786"
            ],
            [
             0.5555555555555556,
             "#d8576b"
            ],
            [
             0.6666666666666666,
             "#ed7953"
            ],
            [
             0.7777777777777778,
             "#fb9f3a"
            ],
            [
             0.8888888888888888,
             "#fdca26"
            ],
            [
             1,
             "#f0f921"
            ]
           ]
          },
          "colorway": [
           "#636efa",
           "#EF553B",
           "#00cc96",
           "#ab63fa",
           "#FFA15A",
           "#19d3f3",
           "#FF6692",
           "#B6E880",
           "#FF97FF",
           "#FECB52"
          ],
          "font": {
           "color": "#2a3f5f"
          },
          "geo": {
           "bgcolor": "white",
           "lakecolor": "white",
           "landcolor": "#E5ECF6",
           "showlakes": true,
           "showland": true,
           "subunitcolor": "white"
          },
          "hoverlabel": {
           "align": "left"
          },
          "hovermode": "closest",
          "mapbox": {
           "style": "light"
          },
          "paper_bgcolor": "white",
          "plot_bgcolor": "#E5ECF6",
          "polar": {
           "angularaxis": {
            "gridcolor": "white",
            "linecolor": "white",
            "ticks": ""
           },
           "bgcolor": "#E5ECF6",
           "radialaxis": {
            "gridcolor": "white",
            "linecolor": "white",
            "ticks": ""
           }
          },
          "scene": {
           "xaxis": {
            "backgroundcolor": "#E5ECF6",
            "gridcolor": "white",
            "gridwidth": 2,
            "linecolor": "white",
            "showbackground": true,
            "ticks": "",
            "zerolinecolor": "white"
           },
           "yaxis": {
            "backgroundcolor": "#E5ECF6",
            "gridcolor": "white",
            "gridwidth": 2,
            "linecolor": "white",
            "showbackground": true,
            "ticks": "",
            "zerolinecolor": "white"
           },
           "zaxis": {
            "backgroundcolor": "#E5ECF6",
            "gridcolor": "white",
            "gridwidth": 2,
            "linecolor": "white",
            "showbackground": true,
            "ticks": "",
            "zerolinecolor": "white"
           }
          },
          "shapedefaults": {
           "line": {
            "color": "#2a3f5f"
           }
          },
          "ternary": {
           "aaxis": {
            "gridcolor": "white",
            "linecolor": "white",
            "ticks": ""
           },
           "baxis": {
            "gridcolor": "white",
            "linecolor": "white",
            "ticks": ""
           },
           "bgcolor": "#E5ECF6",
           "caxis": {
            "gridcolor": "white",
            "linecolor": "white",
            "ticks": ""
           }
          },
          "title": {
           "x": 0.05
          },
          "xaxis": {
           "automargin": true,
           "gridcolor": "white",
           "linecolor": "white",
           "ticks": "",
           "title": {
            "standoff": 15
           },
           "zerolinecolor": "white",
           "zerolinewidth": 2
          },
          "yaxis": {
           "automargin": true,
           "gridcolor": "white",
           "linecolor": "white",
           "ticks": "",
           "title": {
            "standoff": 15
           },
           "zerolinecolor": "white",
           "zerolinewidth": 2
          }
         }
        },
        "title": {
         "text": "Peaks"
        }
       }
      },
      "text/html": [
       "<div>\n",
       "        \n",
       "        \n",
       "            <div id=\"bc5e27af-6544-4156-9ccf-a6dc7de12ad2\" class=\"plotly-graph-div\" style=\"height:525px; width:100%;\"></div>\n",
       "            <script type=\"text/javascript\">\n",
       "                require([\"plotly\"], function(Plotly) {\n",
       "                    window.PLOTLYENV=window.PLOTLYENV || {};\n",
       "                    \n",
       "                if (document.getElementById(\"bc5e27af-6544-4156-9ccf-a6dc7de12ad2\")) {\n",
       "                    Plotly.newPlot(\n",
       "                        'bc5e27af-6544-4156-9ccf-a6dc7de12ad2',\n",
       "                        [{\"line\": {\"shape\": \"linear\"}, \"name\": \"span 0.05_0 mean\", \"type\": \"scatter\", \"x\": [\"H3K4me2_ChIPSeq_CCR4Neg-Donor1\", \"H3K4me2_ChIPSeq_CCR4Neg-Donor11\", \"H3K4me2_ChIPSeq_CCR4Neg-Donor12\", \"H3K4me2_ChIPSeq_CCR4Neg-Donor13\", \"H3K4me2_ChIPSeq_CCR4Neg-Donor14\", \"H3K4me2_ChIPSeq_CCR4Neg-Donor15\", \"H3K4me2_ChIPSeq_CCR4Neg-Donor16\", \"H3K4me2_ChIPSeq_CCR4Neg-Donor17\", \"H3K4me2_ChIPSeq_CCR4Neg-Donor18\", \"H3K4me2_ChIPSeq_CCR4Neg-Donor19\", \"H3K4me2_ChIPSeq_CCR4Neg-Donor20\", \"H3K4me2_ChIPSeq_CCR4Neg-Donor21\", \"H3K4me2_ChIPSeq_CCR4Neg-Donor22\", \"H3K4me2_ChIPSeq_CCR4Neg-Donor23\", \"H3K4me2_ChIPSeq_CCR4Neg-Donor4\", \"H3K4me2_ChIPSeq_CCR4Neg-Donor5\", \"H3K4me2_ChIPSeq_CCR4Neg-Donor6\", \"H3K4me2_ChIPSeq_CCR4Neg-Donor7\", \"H3K4me2_ChIPSeq_CCR4Neg-Donor8\", \"H3K4me2_ChIPSeq_CCR4Neg-Donor9\", \"H3K4me2_ChIPSeq_CCR4pos-Donor1\", \"H3K4me2_ChIPSeq_CCR4pos-Donor10\", \"H3K4me2_ChIPSeq_CCR4pos-Donor11\", \"H3K4me2_ChIPSeq_CCR4pos-Donor12\", \"H3K4me2_ChIPSeq_CCR4pos-Donor13\", \"H3K4me2_ChIPSeq_CCR4pos-Donor14\", \"H3K4me2_ChIPSeq_CCR4pos-Donor15\", \"H3K4me2_ChIPSeq_CCR4pos-Donor16\", \"H3K4me2_ChIPSeq_CCR4pos-Donor17\", \"H3K4me2_ChIPSeq_CCR4pos-Donor18\", \"H3K4me2_ChIPSeq_CCR4pos-Donor19\", \"H3K4me2_ChIPSeq_CCR4pos-Donor2\", \"H3K4me2_ChIPSeq_CCR4pos-Donor20\", \"H3K4me2_ChIPSeq_CCR4pos-Donor21\", \"H3K4me2_ChIPSeq_CCR4pos-Donor22\", \"H3K4me2_ChIPSeq_CCR4pos-Donor23\", \"H3K4me2_ChIPSeq_CCR4pos-Donor3\", \"H3K4me2_ChIPSeq_CCR4pos-Donor4\", \"H3K4me2_ChIPSeq_CCR4pos-Donor5\", \"H3K4me2_ChIPSeq_CCR4pos-Donor7\", \"H3K4me2_ChIPSeq_CCR4pos-Donor8\", \"H3K4me2_ChIPSeq_CCR4pos-Donor9\", \"H3K4me2_ChIPSeq_Naive-Donor1\", \"H3K4me2_ChIPSeq_Naive-Donor10\", \"H3K4me2_ChIPSeq_Naive-Donor11\", \"H3K4me2_ChIPSeq_Naive-Donor12\", \"H3K4me2_ChIPSeq_Naive-Donor13\", \"H3K4me2_ChIPSeq_Naive-Donor14\", \"H3K4me2_ChIPSeq_Naive-Donor15\", \"H3K4me2_ChIPSeq_Naive-Donor16\", \"H3K4me2_ChIPSeq_Naive-Donor17\", \"H3K4me2_ChIPSeq_Naive-Donor18\", \"H3K4me2_ChIPSeq_Naive-Donor19\", \"H3K4me2_ChIPSeq_Naive-Donor2\", \"H3K4me2_ChIPSeq_Naive-Donor20\", \"H3K4me2_ChIPSeq_Naive-Donor21\", \"H3K4me2_ChIPSeq_Naive-Donor22\", \"H3K4me2_ChIPSeq_Naive-Donor23\", \"H3K4me2_ChIPSeq_Naive-Donor3\", \"H3K4me2_ChIPSeq_Naive-Donor5\", \"H3K4me2_ChIPSeq_Naive-Donor7\", \"H3K4me2_ChIPSeq_Naive-Donor8\", \"H3K4me2_ChIPSeq_Naive-Donor9\"], \"y\": [93813.5, 89984.0, 88224.5, 121704.0, 97122.0, 87295.5, 84361.5, 100320.0, 175484.5, 101210.5, 87723.0, 75107.5, 64608.0, 83261.5, 72727.5, 76563.5, 80836.0, 113919.0, 126356.0, 65609.0, 65008.0, 96555.0, 94958.5, 51873.5, 53258.0, 56644.0, 73741.0, 58070.0, 56780.0, 69210.5, 73295.5, 92547.0, 67998.0, 63173.0, 48300.5, 55710.0, 56010.0, 66973.0, 71123.5, 109950.0, 72427.0, 56451.0, 65312.333333333336, 69815.0, 109350.5, 64973.0, 72689.0, 83029.0, 65038.5, 65933.5, 90959.5, 64747.0, 55587.5, 54473.5, 74169.5, 71862.66666666667, 73572.0, 59870.5, 86298.5, 166365.0, 70066.0, 81734.0, 60792.5]}, {\"line\": {\"dash\": \"dot\", \"shape\": \"linear\"}, \"name\": \"span 0.05_0 std\", \"type\": \"scatter\", \"x\": [\"H3K4me2_ChIPSeq_CCR4Neg-Donor1\", \"H3K4me2_ChIPSeq_CCR4Neg-Donor11\", \"H3K4me2_ChIPSeq_CCR4Neg-Donor12\", \"H3K4me2_ChIPSeq_CCR4Neg-Donor13\", \"H3K4me2_ChIPSeq_CCR4Neg-Donor14\", \"H3K4me2_ChIPSeq_CCR4Neg-Donor15\", \"H3K4me2_ChIPSeq_CCR4Neg-Donor16\", \"H3K4me2_ChIPSeq_CCR4Neg-Donor17\", \"H3K4me2_ChIPSeq_CCR4Neg-Donor18\", \"H3K4me2_ChIPSeq_CCR4Neg-Donor19\", \"H3K4me2_ChIPSeq_CCR4Neg-Donor20\", \"H3K4me2_ChIPSeq_CCR4Neg-Donor21\", \"H3K4me2_ChIPSeq_CCR4Neg-Donor22\", \"H3K4me2_ChIPSeq_CCR4Neg-Donor23\", \"H3K4me2_ChIPSeq_CCR4Neg-Donor4\", \"H3K4me2_ChIPSeq_CCR4Neg-Donor5\", \"H3K4me2_ChIPSeq_CCR4Neg-Donor6\", \"H3K4me2_ChIPSeq_CCR4Neg-Donor7\", \"H3K4me2_ChIPSeq_CCR4Neg-Donor8\", \"H3K4me2_ChIPSeq_CCR4Neg-Donor9\", \"H3K4me2_ChIPSeq_CCR4pos-Donor1\", \"H3K4me2_ChIPSeq_CCR4pos-Donor10\", \"H3K4me2_ChIPSeq_CCR4pos-Donor11\", \"H3K4me2_ChIPSeq_CCR4pos-Donor12\", \"H3K4me2_ChIPSeq_CCR4pos-Donor13\", \"H3K4me2_ChIPSeq_CCR4pos-Donor14\", \"H3K4me2_ChIPSeq_CCR4pos-Donor15\", \"H3K4me2_ChIPSeq_CCR4pos-Donor16\", \"H3K4me2_ChIPSeq_CCR4pos-Donor17\", \"H3K4me2_ChIPSeq_CCR4pos-Donor18\", \"H3K4me2_ChIPSeq_CCR4pos-Donor19\", \"H3K4me2_ChIPSeq_CCR4pos-Donor2\", \"H3K4me2_ChIPSeq_CCR4pos-Donor20\", \"H3K4me2_ChIPSeq_CCR4pos-Donor21\", \"H3K4me2_ChIPSeq_CCR4pos-Donor22\", \"H3K4me2_ChIPSeq_CCR4pos-Donor23\", \"H3K4me2_ChIPSeq_CCR4pos-Donor3\", \"H3K4me2_ChIPSeq_CCR4pos-Donor4\", \"H3K4me2_ChIPSeq_CCR4pos-Donor5\", \"H3K4me2_ChIPSeq_CCR4pos-Donor7\", \"H3K4me2_ChIPSeq_CCR4pos-Donor8\", \"H3K4me2_ChIPSeq_CCR4pos-Donor9\", \"H3K4me2_ChIPSeq_Naive-Donor1\", \"H3K4me2_ChIPSeq_Naive-Donor10\", \"H3K4me2_ChIPSeq_Naive-Donor11\", \"H3K4me2_ChIPSeq_Naive-Donor12\", \"H3K4me2_ChIPSeq_Naive-Donor13\", \"H3K4me2_ChIPSeq_Naive-Donor14\", \"H3K4me2_ChIPSeq_Naive-Donor15\", \"H3K4me2_ChIPSeq_Naive-Donor16\", \"H3K4me2_ChIPSeq_Naive-Donor17\", \"H3K4me2_ChIPSeq_Naive-Donor18\", \"H3K4me2_ChIPSeq_Naive-Donor19\", \"H3K4me2_ChIPSeq_Naive-Donor2\", \"H3K4me2_ChIPSeq_Naive-Donor20\", \"H3K4me2_ChIPSeq_Naive-Donor21\", \"H3K4me2_ChIPSeq_Naive-Donor22\", \"H3K4me2_ChIPSeq_Naive-Donor23\", \"H3K4me2_ChIPSeq_Naive-Donor3\", \"H3K4me2_ChIPSeq_Naive-Donor5\", \"H3K4me2_ChIPSeq_Naive-Donor7\", \"H3K4me2_ChIPSeq_Naive-Donor8\", \"H3K4me2_ChIPSeq_Naive-Donor9\"], \"y\": [12652.261635770896, 0.0, 2799.435746717542, 42170.43421640332, 19442.608055505312, 11430.38111788054, 17326.237459413973, 17524.934464927395, 18881.872378024378, 14429.928083673874, 0.0, 24084.764073994997, 14335.882881776064, 4913.685022465319, 4100.512224100789, 2574.5757903002195, 8551.749411670105, 0.0, 43337.16040536112, 0.0, 23014.91151405975, 0.0, 55023.5141780312, 224.15284963613556, 12520.03266768901, 7969.09342397239, 8498.009296299928, 6116.473657263636, 6223.953888003991, 13645.039556556807, 16909.044458513912, 53479.90007470096, 7068.239384740729, 9667.563912382479, 1081.1662684342311, 9131.576972243074, 0.0, 8459.825530115855, 16375.885945499254, 70614.51159641339, 22051.83207808367, 6791.053526515602, 4803.473777729335, 0.0, 66867.55276290586, 1018.2337649086285, 17645.142617729107, 12292.344284146942, 10423.461061470896, 10238.199084800022, 41975.97985157702, 666.0945878777278, 10253.755433986125, 3194.001330619635, 881.7621561396247, 11527.783582863332, 0.0, 15537.25730301201, 24472.258590085225, 149155.69020992797, 4352.949344984387, 13136.62978088368, 4531.847360624583]}, {\"line\": {\"shape\": \"linear\"}, \"name\": \"span 0.05_5 mean\", \"type\": \"scatter\", \"x\": [\"H3K4me2_ChIPSeq_CCR4Neg-Donor1\", \"H3K4me2_ChIPSeq_CCR4Neg-Donor11\", \"H3K4me2_ChIPSeq_CCR4Neg-Donor12\", \"H3K4me2_ChIPSeq_CCR4Neg-Donor13\", \"H3K4me2_ChIPSeq_CCR4Neg-Donor14\", \"H3K4me2_ChIPSeq_CCR4Neg-Donor15\", \"H3K4me2_ChIPSeq_CCR4Neg-Donor16\", \"H3K4me2_ChIPSeq_CCR4Neg-Donor17\", \"H3K4me2_ChIPSeq_CCR4Neg-Donor18\", \"H3K4me2_ChIPSeq_CCR4Neg-Donor19\", \"H3K4me2_ChIPSeq_CCR4Neg-Donor20\", \"H3K4me2_ChIPSeq_CCR4Neg-Donor21\", \"H3K4me2_ChIPSeq_CCR4Neg-Donor22\", \"H3K4me2_ChIPSeq_CCR4Neg-Donor23\", \"H3K4me2_ChIPSeq_CCR4Neg-Donor4\", \"H3K4me2_ChIPSeq_CCR4Neg-Donor5\", \"H3K4me2_ChIPSeq_CCR4Neg-Donor6\", \"H3K4me2_ChIPSeq_CCR4Neg-Donor7\", \"H3K4me2_ChIPSeq_CCR4Neg-Donor8\", \"H3K4me2_ChIPSeq_CCR4Neg-Donor9\", \"H3K4me2_ChIPSeq_CCR4pos-Donor1\", \"H3K4me2_ChIPSeq_CCR4pos-Donor10\", \"H3K4me2_ChIPSeq_CCR4pos-Donor11\", \"H3K4me2_ChIPSeq_CCR4pos-Donor12\", \"H3K4me2_ChIPSeq_CCR4pos-Donor13\", \"H3K4me2_ChIPSeq_CCR4pos-Donor14\", \"H3K4me2_ChIPSeq_CCR4pos-Donor15\", \"H3K4me2_ChIPSeq_CCR4pos-Donor16\", \"H3K4me2_ChIPSeq_CCR4pos-Donor17\", \"H3K4me2_ChIPSeq_CCR4pos-Donor18\", \"H3K4me2_ChIPSeq_CCR4pos-Donor19\", \"H3K4me2_ChIPSeq_CCR4pos-Donor2\", \"H3K4me2_ChIPSeq_CCR4pos-Donor20\", \"H3K4me2_ChIPSeq_CCR4pos-Donor21\", \"H3K4me2_ChIPSeq_CCR4pos-Donor22\", \"H3K4me2_ChIPSeq_CCR4pos-Donor23\", \"H3K4me2_ChIPSeq_CCR4pos-Donor3\", \"H3K4me2_ChIPSeq_CCR4pos-Donor4\", \"H3K4me2_ChIPSeq_CCR4pos-Donor5\", \"H3K4me2_ChIPSeq_CCR4pos-Donor7\", \"H3K4me2_ChIPSeq_CCR4pos-Donor8\", \"H3K4me2_ChIPSeq_CCR4pos-Donor9\", \"H3K4me2_ChIPSeq_Naive-Donor1\", \"H3K4me2_ChIPSeq_Naive-Donor10\", \"H3K4me2_ChIPSeq_Naive-Donor11\", \"H3K4me2_ChIPSeq_Naive-Donor12\", \"H3K4me2_ChIPSeq_Naive-Donor13\", \"H3K4me2_ChIPSeq_Naive-Donor14\", \"H3K4me2_ChIPSeq_Naive-Donor15\", \"H3K4me2_ChIPSeq_Naive-Donor16\", \"H3K4me2_ChIPSeq_Naive-Donor17\", \"H3K4me2_ChIPSeq_Naive-Donor18\", \"H3K4me2_ChIPSeq_Naive-Donor19\", \"H3K4me2_ChIPSeq_Naive-Donor2\", \"H3K4me2_ChIPSeq_Naive-Donor20\", \"H3K4me2_ChIPSeq_Naive-Donor21\", \"H3K4me2_ChIPSeq_Naive-Donor22\", \"H3K4me2_ChIPSeq_Naive-Donor23\", \"H3K4me2_ChIPSeq_Naive-Donor3\", \"H3K4me2_ChIPSeq_Naive-Donor5\", \"H3K4me2_ChIPSeq_Naive-Donor7\", \"H3K4me2_ChIPSeq_Naive-Donor8\", \"H3K4me2_ChIPSeq_Naive-Donor9\"], \"y\": [87947.5, 84245.0, 83269.5, 110760.0, 89479.0, 82080.0, 79369.0, 93931.0, 151356.5, 94272.0, 82494.0, 70888.5, 61152.0, 78088.5, 69304.5, 72817.5, 76509.0, 105388.0, 112630.0, 62796.0, 61519.5, 87695.0, 85195.0, 50076.0, 50968.0, 54317.0, 69779.0, 55499.0, 54542.5, 65150.0, 69279.0, 84031.5, 64644.5, 60002.0, 46550.0, 53515.5, 53255.0, 63679.5, 67321.0, 97187.0, 67384.0, 54000.0, 62457.666666666664, 66438.0, 99766.0, 62169.5, 68742.0, 78344.5, 62110.0, 62830.0, 82223.0, 61792.5, 53500.0, 52364.5, 70493.0, 67934.33333333333, 69366.0, 57328.5, 80692.0, 136956.5, 66363.0, 76741.5, 58231.5]}, {\"line\": {\"dash\": \"dot\", \"shape\": \"linear\"}, \"name\": \"span 0.05_5 std\", \"type\": \"scatter\", \"x\": [\"H3K4me2_ChIPSeq_CCR4Neg-Donor1\", \"H3K4me2_ChIPSeq_CCR4Neg-Donor11\", \"H3K4me2_ChIPSeq_CCR4Neg-Donor12\", \"H3K4me2_ChIPSeq_CCR4Neg-Donor13\", \"H3K4me2_ChIPSeq_CCR4Neg-Donor14\", \"H3K4me2_ChIPSeq_CCR4Neg-Donor15\", \"H3K4me2_ChIPSeq_CCR4Neg-Donor16\", \"H3K4me2_ChIPSeq_CCR4Neg-Donor17\", \"H3K4me2_ChIPSeq_CCR4Neg-Donor18\", \"H3K4me2_ChIPSeq_CCR4Neg-Donor19\", \"H3K4me2_ChIPSeq_CCR4Neg-Donor20\", \"H3K4me2_ChIPSeq_CCR4Neg-Donor21\", \"H3K4me2_ChIPSeq_CCR4Neg-Donor22\", \"H3K4me2_ChIPSeq_CCR4Neg-Donor23\", \"H3K4me2_ChIPSeq_CCR4Neg-Donor4\", \"H3K4me2_ChIPSeq_CCR4Neg-Donor5\", \"H3K4me2_ChIPSeq_CCR4Neg-Donor6\", \"H3K4me2_ChIPSeq_CCR4Neg-Donor7\", \"H3K4me2_ChIPSeq_CCR4Neg-Donor8\", \"H3K4me2_ChIPSeq_CCR4Neg-Donor9\", \"H3K4me2_ChIPSeq_CCR4pos-Donor1\", \"H3K4me2_ChIPSeq_CCR4pos-Donor10\", \"H3K4me2_ChIPSeq_CCR4pos-Donor11\", \"H3K4me2_ChIPSeq_CCR4pos-Donor12\", \"H3K4me2_ChIPSeq_CCR4pos-Donor13\", \"H3K4me2_ChIPSeq_CCR4pos-Donor14\", \"H3K4me2_ChIPSeq_CCR4pos-Donor15\", \"H3K4me2_ChIPSeq_CCR4pos-Donor16\", \"H3K4me2_ChIPSeq_CCR4pos-Donor17\", \"H3K4me2_ChIPSeq_CCR4pos-Donor18\", \"H3K4me2_ChIPSeq_CCR4pos-Donor19\", \"H3K4me2_ChIPSeq_CCR4pos-Donor2\", \"H3K4me2_ChIPSeq_CCR4pos-Donor20\", \"H3K4me2_ChIPSeq_CCR4pos-Donor21\", \"H3K4me2_ChIPSeq_CCR4pos-Donor22\", \"H3K4me2_ChIPSeq_CCR4pos-Donor23\", \"H3K4me2_ChIPSeq_CCR4pos-Donor3\", \"H3K4me2_ChIPSeq_CCR4pos-Donor4\", \"H3K4me2_ChIPSeq_CCR4pos-Donor5\", \"H3K4me2_ChIPSeq_CCR4pos-Donor7\", \"H3K4me2_ChIPSeq_CCR4pos-Donor8\", \"H3K4me2_ChIPSeq_CCR4pos-Donor9\", \"H3K4me2_ChIPSeq_Naive-Donor1\", \"H3K4me2_ChIPSeq_Naive-Donor10\", \"H3K4me2_ChIPSeq_Naive-Donor11\", \"H3K4me2_ChIPSeq_Naive-Donor12\", \"H3K4me2_ChIPSeq_Naive-Donor13\", \"H3K4me2_ChIPSeq_Naive-Donor14\", \"H3K4me2_ChIPSeq_Naive-Donor15\", \"H3K4me2_ChIPSeq_Naive-Donor16\", \"H3K4me2_ChIPSeq_Naive-Donor17\", \"H3K4me2_ChIPSeq_Naive-Donor18\", \"H3K4me2_ChIPSeq_Naive-Donor19\", \"H3K4me2_ChIPSeq_Naive-Donor2\", \"H3K4me2_ChIPSeq_Naive-Donor20\", \"H3K4me2_ChIPSeq_Naive-Donor21\", \"H3K4me2_ChIPSeq_Naive-Donor22\", \"H3K4me2_ChIPSeq_Naive-Donor23\", \"H3K4me2_ChIPSeq_Naive-Donor3\", \"H3K4me2_ChIPSeq_Naive-Donor5\", \"H3K4me2_ChIPSeq_Naive-Donor7\", \"H3K4me2_ChIPSeq_Naive-Donor8\", \"H3K4me2_ChIPSeq_Naive-Donor9\"], \"y\": [11188.55059871474, 0.0, 2602.8600615476817, 35667.88025661183, 16747.117005622193, 10736.709365536537, 15642.616213408804, 14918.53886947378, 14332.347347870133, 12836.816505660583, 0.0, 21379.373529175264, 12766.10582754193, 4497.906235127629, 3705.9466401986956, 2194.152342021857, 7353.9105243400945, 0.0, 33761.5203745329, 0.0, 20354.06869645477, 0.0, 44891.38111040916, 299.8132752230961, 11660.19082176617, 7609.883179129624, 7451.491260143838, 5611.599415496441, 5705.644617394252, 12214.562538216422, 15402.199907805378, 44754.909501640155, 6678.623548306941, 8355.173726500245, 909.3393206059001, 8471.846345396027, 0.0, 7559.678597665379, 14348.610803837422, 56438.434847185476, 18215.070683365466, 5757.26341242087, 4209.413300370176, 0.0, 57004.120272134714, 1078.337841309485, 15792.522851020352, 11051.371883164551, 9377.650132095992, 9195.216582549863, 33723.33660834882, 689.4291116568838, 9619.480651261792, 2922.472326644001, 857.0134187980956, 10471.655185945216, 0.0, 13975.965530152112, 21056.225730173013, 111532.65970333533, 3384.2130547588163, 11055.614523851671, 4011.4167696712843]}, {\"line\": {\"shape\": \"linear\"}, \"name\": \"span 1e-06_5 mean\", \"type\": \"scatter\", \"x\": [\"H3K4me2_ChIPSeq_CCR4Neg-Donor1\", \"H3K4me2_ChIPSeq_CCR4Neg-Donor11\", \"H3K4me2_ChIPSeq_CCR4Neg-Donor12\", \"H3K4me2_ChIPSeq_CCR4Neg-Donor13\", \"H3K4me2_ChIPSeq_CCR4Neg-Donor14\", \"H3K4me2_ChIPSeq_CCR4Neg-Donor15\", \"H3K4me2_ChIPSeq_CCR4Neg-Donor16\", \"H3K4me2_ChIPSeq_CCR4Neg-Donor17\", \"H3K4me2_ChIPSeq_CCR4Neg-Donor18\", \"H3K4me2_ChIPSeq_CCR4Neg-Donor19\", \"H3K4me2_ChIPSeq_CCR4Neg-Donor20\", \"H3K4me2_ChIPSeq_CCR4Neg-Donor21\", \"H3K4me2_ChIPSeq_CCR4Neg-Donor22\", \"H3K4me2_ChIPSeq_CCR4Neg-Donor23\", \"H3K4me2_ChIPSeq_CCR4Neg-Donor4\", \"H3K4me2_ChIPSeq_CCR4Neg-Donor5\", \"H3K4me2_ChIPSeq_CCR4Neg-Donor6\", \"H3K4me2_ChIPSeq_CCR4Neg-Donor7\", \"H3K4me2_ChIPSeq_CCR4Neg-Donor8\", \"H3K4me2_ChIPSeq_CCR4Neg-Donor9\", \"H3K4me2_ChIPSeq_CCR4pos-Donor1\", \"H3K4me2_ChIPSeq_CCR4pos-Donor10\", \"H3K4me2_ChIPSeq_CCR4pos-Donor11\", \"H3K4me2_ChIPSeq_CCR4pos-Donor12\", \"H3K4me2_ChIPSeq_CCR4pos-Donor13\", \"H3K4me2_ChIPSeq_CCR4pos-Donor14\", \"H3K4me2_ChIPSeq_CCR4pos-Donor15\", \"H3K4me2_ChIPSeq_CCR4pos-Donor16\", \"H3K4me2_ChIPSeq_CCR4pos-Donor17\", \"H3K4me2_ChIPSeq_CCR4pos-Donor18\", \"H3K4me2_ChIPSeq_CCR4pos-Donor19\", \"H3K4me2_ChIPSeq_CCR4pos-Donor2\", \"H3K4me2_ChIPSeq_CCR4pos-Donor20\", \"H3K4me2_ChIPSeq_CCR4pos-Donor21\", \"H3K4me2_ChIPSeq_CCR4pos-Donor22\", \"H3K4me2_ChIPSeq_CCR4pos-Donor23\", \"H3K4me2_ChIPSeq_CCR4pos-Donor3\", \"H3K4me2_ChIPSeq_CCR4pos-Donor4\", \"H3K4me2_ChIPSeq_CCR4pos-Donor5\", \"H3K4me2_ChIPSeq_CCR4pos-Donor7\", \"H3K4me2_ChIPSeq_CCR4pos-Donor8\", \"H3K4me2_ChIPSeq_CCR4pos-Donor9\", \"H3K4me2_ChIPSeq_Naive-Donor1\", \"H3K4me2_ChIPSeq_Naive-Donor10\", \"H3K4me2_ChIPSeq_Naive-Donor11\", \"H3K4me2_ChIPSeq_Naive-Donor12\", \"H3K4me2_ChIPSeq_Naive-Donor13\", \"H3K4me2_ChIPSeq_Naive-Donor14\", \"H3K4me2_ChIPSeq_Naive-Donor15\", \"H3K4me2_ChIPSeq_Naive-Donor16\", \"H3K4me2_ChIPSeq_Naive-Donor17\", \"H3K4me2_ChIPSeq_Naive-Donor18\", \"H3K4me2_ChIPSeq_Naive-Donor19\", \"H3K4me2_ChIPSeq_Naive-Donor2\", \"H3K4me2_ChIPSeq_Naive-Donor20\", \"H3K4me2_ChIPSeq_Naive-Donor21\", \"H3K4me2_ChIPSeq_Naive-Donor22\", \"H3K4me2_ChIPSeq_Naive-Donor23\", \"H3K4me2_ChIPSeq_Naive-Donor3\", \"H3K4me2_ChIPSeq_Naive-Donor5\", \"H3K4me2_ChIPSeq_Naive-Donor7\", \"H3K4me2_ChIPSeq_Naive-Donor8\", \"H3K4me2_ChIPSeq_Naive-Donor9\"], \"y\": [21304.5, 13350.0, 25181.5, 10903.5, 10434.5, 22070.5, 14834.0, 24886.0, 7524.5, 19689.0, 30165.0, 16407.0, 15165.0, 18472.5, 34258.5, 28716.5, 26947.5, 10407.0, 13368.5, 14826.0, 19560.0, 9108.0, 8158.5, 27714.5, 13886.5, 22677.5, 27878.0, 30667.5, 27606.0, 11387.0, 24671.5, 11599.5, 25001.5, 20893.0, 21973.0, 32658.0, 14615.0, 25153.0, 26861.5, 12584.5, 13895.0, 25488.5, 29626.333333333332, 25865.0, 18650.0, 25870.5, 16354.0, 26781.0, 34164.5, 28747.5, 9119.0, 16114.5, 28127.5, 21778.5, 31055.5, 19725.333333333332, 8302.0, 30382.5, 26019.5, 11178.0, 21328.5, 16325.0, 20701.0]}, {\"line\": {\"dash\": \"dot\", \"shape\": \"linear\"}, \"name\": \"span 1e-06_5 std\", \"type\": \"scatter\", \"x\": [\"H3K4me2_ChIPSeq_CCR4Neg-Donor1\", \"H3K4me2_ChIPSeq_CCR4Neg-Donor11\", \"H3K4me2_ChIPSeq_CCR4Neg-Donor12\", \"H3K4me2_ChIPSeq_CCR4Neg-Donor13\", \"H3K4me2_ChIPSeq_CCR4Neg-Donor14\", \"H3K4me2_ChIPSeq_CCR4Neg-Donor15\", \"H3K4me2_ChIPSeq_CCR4Neg-Donor16\", \"H3K4me2_ChIPSeq_CCR4Neg-Donor17\", \"H3K4me2_ChIPSeq_CCR4Neg-Donor18\", \"H3K4me2_ChIPSeq_CCR4Neg-Donor19\", \"H3K4me2_ChIPSeq_CCR4Neg-Donor20\", \"H3K4me2_ChIPSeq_CCR4Neg-Donor21\", \"H3K4me2_ChIPSeq_CCR4Neg-Donor22\", \"H3K4me2_ChIPSeq_CCR4Neg-Donor23\", \"H3K4me2_ChIPSeq_CCR4Neg-Donor4\", \"H3K4me2_ChIPSeq_CCR4Neg-Donor5\", \"H3K4me2_ChIPSeq_CCR4Neg-Donor6\", \"H3K4me2_ChIPSeq_CCR4Neg-Donor7\", \"H3K4me2_ChIPSeq_CCR4Neg-Donor8\", \"H3K4me2_ChIPSeq_CCR4Neg-Donor9\", \"H3K4me2_ChIPSeq_CCR4pos-Donor1\", \"H3K4me2_ChIPSeq_CCR4pos-Donor10\", \"H3K4me2_ChIPSeq_CCR4pos-Donor11\", \"H3K4me2_ChIPSeq_CCR4pos-Donor12\", \"H3K4me2_ChIPSeq_CCR4pos-Donor13\", \"H3K4me2_ChIPSeq_CCR4pos-Donor14\", \"H3K4me2_ChIPSeq_CCR4pos-Donor15\", \"H3K4me2_ChIPSeq_CCR4pos-Donor16\", \"H3K4me2_ChIPSeq_CCR4pos-Donor17\", \"H3K4me2_ChIPSeq_CCR4pos-Donor18\", \"H3K4me2_ChIPSeq_CCR4pos-Donor19\", \"H3K4me2_ChIPSeq_CCR4pos-Donor2\", \"H3K4me2_ChIPSeq_CCR4pos-Donor20\", \"H3K4me2_ChIPSeq_CCR4pos-Donor21\", \"H3K4me2_ChIPSeq_CCR4pos-Donor22\", \"H3K4me2_ChIPSeq_CCR4pos-Donor23\", \"H3K4me2_ChIPSeq_CCR4pos-Donor3\", \"H3K4me2_ChIPSeq_CCR4pos-Donor4\", \"H3K4me2_ChIPSeq_CCR4pos-Donor5\", \"H3K4me2_ChIPSeq_CCR4pos-Donor7\", \"H3K4me2_ChIPSeq_CCR4pos-Donor8\", \"H3K4me2_ChIPSeq_CCR4pos-Donor9\", \"H3K4me2_ChIPSeq_Naive-Donor1\", \"H3K4me2_ChIPSeq_Naive-Donor10\", \"H3K4me2_ChIPSeq_Naive-Donor11\", \"H3K4me2_ChIPSeq_Naive-Donor12\", \"H3K4me2_ChIPSeq_Naive-Donor13\", \"H3K4me2_ChIPSeq_Naive-Donor14\", \"H3K4me2_ChIPSeq_Naive-Donor15\", \"H3K4me2_ChIPSeq_Naive-Donor16\", \"H3K4me2_ChIPSeq_Naive-Donor17\", \"H3K4me2_ChIPSeq_Naive-Donor18\", \"H3K4me2_ChIPSeq_Naive-Donor19\", \"H3K4me2_ChIPSeq_Naive-Donor2\", \"H3K4me2_ChIPSeq_Naive-Donor20\", \"H3K4me2_ChIPSeq_Naive-Donor21\", \"H3K4me2_ChIPSeq_Naive-Donor22\", \"H3K4me2_ChIPSeq_Naive-Donor23\", \"H3K4me2_ChIPSeq_Naive-Donor3\", \"H3K4me2_ChIPSeq_Naive-Donor5\", \"H3K4me2_ChIPSeq_Naive-Donor7\", \"H3K4me2_ChIPSeq_Naive-Donor8\", \"H3K4me2_ChIPSeq_Naive-Donor9\"], \"y\": [4025.558905295015, 0.0, 560.7356774809322, 2123.4416639032024, 3172.788127184039, 1998.99087041437, 3333.301366513385, 738.2194795587557, 1950.9076092936846, 10619.32963985957, 0.0, 1294.005409571382, 2736.503243191939, 2375.171678005613, 3799.2847353153197, 6586.69966675269, 6506.089493697424, 0.0, 10651.149445012965, 0.0, 7823.429427047962, 0.0, 1738.7755749377204, 2874.389065523316, 6458.0062325767385, 4251.833075274711, 459.6194077712559, 5926.261933124455, 7141.77848998413, 865.4987001723342, 6063.440648674645, 5759.38473276443, 7216.024702008717, 9475.230867899736, 469.51890270786754, 2184.959953866432, 0.0, 8564.477333731464, 10536.598146460745, 7518.66640435656, 8380.629570622961, 12314.264594363725, 11023.202136100623, 0.0, 8305.676251817187, 1344.209991035627, 359.21024484276614, 2076.0655095637035, 2075.358402782517, 4960.354070023631, 5125.109950040096, 948.2301935711603, 3268.954649425409, 226.98127676088177, 494.26764004939673, 4421.797183649803, 0.0, 12168.600597439296, 5309.664819929785, 5396.638954015731, 11837.674623843992, 9800.499987245548, 9821.713190681145]}],\n",
       "                        {\"template\": {\"data\": {\"bar\": [{\"error_x\": {\"color\": \"#2a3f5f\"}, \"error_y\": {\"color\": \"#2a3f5f\"}, \"marker\": {\"line\": {\"color\": \"#E5ECF6\", \"width\": 0.5}}, \"type\": \"bar\"}], \"barpolar\": [{\"marker\": {\"line\": {\"color\": \"#E5ECF6\", \"width\": 0.5}}, \"type\": \"barpolar\"}], \"carpet\": [{\"aaxis\": {\"endlinecolor\": \"#2a3f5f\", \"gridcolor\": \"white\", \"linecolor\": \"white\", \"minorgridcolor\": \"white\", \"startlinecolor\": \"#2a3f5f\"}, \"baxis\": {\"endlinecolor\": \"#2a3f5f\", \"gridcolor\": \"white\", \"linecolor\": \"white\", \"minorgridcolor\": \"white\", \"startlinecolor\": \"#2a3f5f\"}, \"type\": \"carpet\"}], \"choropleth\": [{\"colorbar\": {\"outlinewidth\": 0, \"ticks\": \"\"}, \"type\": \"choropleth\"}], \"contour\": [{\"colorbar\": {\"outlinewidth\": 0, \"ticks\": \"\"}, \"colorscale\": [[0.0, \"#0d0887\"], [0.1111111111111111, \"#46039f\"], [0.2222222222222222, \"#7201a8\"], [0.3333333333333333, \"#9c179e\"], [0.4444444444444444, \"#bd3786\"], [0.5555555555555556, \"#d8576b\"], [0.6666666666666666, \"#ed7953\"], [0.7777777777777778, \"#fb9f3a\"], [0.8888888888888888, \"#fdca26\"], [1.0, \"#f0f921\"]], \"type\": \"contour\"}], \"contourcarpet\": [{\"colorbar\": {\"outlinewidth\": 0, \"ticks\": \"\"}, \"type\": \"contourcarpet\"}], \"heatmap\": [{\"colorbar\": {\"outlinewidth\": 0, \"ticks\": \"\"}, \"colorscale\": [[0.0, \"#0d0887\"], [0.1111111111111111, \"#46039f\"], [0.2222222222222222, \"#7201a8\"], [0.3333333333333333, \"#9c179e\"], [0.4444444444444444, \"#bd3786\"], [0.5555555555555556, \"#d8576b\"], [0.6666666666666666, \"#ed7953\"], [0.7777777777777778, \"#fb9f3a\"], [0.8888888888888888, \"#fdca26\"], [1.0, \"#f0f921\"]], \"type\": \"heatmap\"}], \"heatmapgl\": [{\"colorbar\": {\"outlinewidth\": 0, \"ticks\": \"\"}, \"colorscale\": [[0.0, \"#0d0887\"], [0.1111111111111111, \"#46039f\"], [0.2222222222222222, \"#7201a8\"], [0.3333333333333333, \"#9c179e\"], [0.4444444444444444, \"#bd3786\"], [0.5555555555555556, \"#d8576b\"], [0.6666666666666666, \"#ed7953\"], [0.7777777777777778, \"#fb9f3a\"], [0.8888888888888888, \"#fdca26\"], [1.0, \"#f0f921\"]], \"type\": \"heatmapgl\"}], \"histogram\": [{\"marker\": {\"colorbar\": {\"outlinewidth\": 0, \"ticks\": \"\"}}, \"type\": \"histogram\"}], \"histogram2d\": [{\"colorbar\": {\"outlinewidth\": 0, \"ticks\": \"\"}, \"colorscale\": [[0.0, \"#0d0887\"], [0.1111111111111111, \"#46039f\"], [0.2222222222222222, \"#7201a8\"], [0.3333333333333333, \"#9c179e\"], [0.4444444444444444, \"#bd3786\"], [0.5555555555555556, \"#d8576b\"], [0.6666666666666666, \"#ed7953\"], [0.7777777777777778, \"#fb9f3a\"], [0.8888888888888888, \"#fdca26\"], [1.0, \"#f0f921\"]], \"type\": \"histogram2d\"}], \"histogram2dcontour\": [{\"colorbar\": {\"outlinewidth\": 0, \"ticks\": \"\"}, \"colorscale\": [[0.0, \"#0d0887\"], [0.1111111111111111, \"#46039f\"], [0.2222222222222222, \"#7201a8\"], [0.3333333333333333, \"#9c179e\"], [0.4444444444444444, \"#bd3786\"], [0.5555555555555556, \"#d8576b\"], [0.6666666666666666, \"#ed7953\"], [0.7777777777777778, \"#fb9f3a\"], [0.8888888888888888, \"#fdca26\"], [1.0, \"#f0f921\"]], \"type\": \"histogram2dcontour\"}], \"mesh3d\": [{\"colorbar\": {\"outlinewidth\": 0, \"ticks\": \"\"}, \"type\": \"mesh3d\"}], \"parcoords\": [{\"line\": {\"colorbar\": {\"outlinewidth\": 0, \"ticks\": \"\"}}, \"type\": \"parcoords\"}], \"pie\": [{\"automargin\": true, \"type\": \"pie\"}], \"scatter\": [{\"marker\": {\"colorbar\": {\"outlinewidth\": 0, \"ticks\": \"\"}}, \"type\": \"scatter\"}], \"scatter3d\": [{\"line\": {\"colorbar\": {\"outlinewidth\": 0, \"ticks\": \"\"}}, \"marker\": {\"colorbar\": {\"outlinewidth\": 0, \"ticks\": \"\"}}, \"type\": \"scatter3d\"}], \"scattercarpet\": [{\"marker\": {\"colorbar\": {\"outlinewidth\": 0, \"ticks\": \"\"}}, \"type\": \"scattercarpet\"}], \"scattergeo\": [{\"marker\": {\"colorbar\": {\"outlinewidth\": 0, \"ticks\": \"\"}}, \"type\": \"scattergeo\"}], \"scattergl\": [{\"marker\": {\"colorbar\": {\"outlinewidth\": 0, \"ticks\": \"\"}}, \"type\": \"scattergl\"}], \"scattermapbox\": [{\"marker\": {\"colorbar\": {\"outlinewidth\": 0, \"ticks\": \"\"}}, \"type\": \"scattermapbox\"}], \"scatterpolar\": [{\"marker\": {\"colorbar\": {\"outlinewidth\": 0, \"ticks\": \"\"}}, \"type\": \"scatterpolar\"}], \"scatterpolargl\": [{\"marker\": {\"colorbar\": {\"outlinewidth\": 0, \"ticks\": \"\"}}, \"type\": \"scatterpolargl\"}], \"scatterternary\": [{\"marker\": {\"colorbar\": {\"outlinewidth\": 0, \"ticks\": \"\"}}, \"type\": \"scatterternary\"}], \"surface\": [{\"colorbar\": {\"outlinewidth\": 0, \"ticks\": \"\"}, \"colorscale\": [[0.0, \"#0d0887\"], [0.1111111111111111, \"#46039f\"], [0.2222222222222222, \"#7201a8\"], [0.3333333333333333, \"#9c179e\"], [0.4444444444444444, \"#bd3786\"], [0.5555555555555556, \"#d8576b\"], [0.6666666666666666, \"#ed7953\"], [0.7777777777777778, \"#fb9f3a\"], [0.8888888888888888, \"#fdca26\"], [1.0, \"#f0f921\"]], \"type\": \"surface\"}], \"table\": [{\"cells\": {\"fill\": {\"color\": \"#EBF0F8\"}, \"line\": {\"color\": \"white\"}}, \"header\": {\"fill\": {\"color\": \"#C8D4E3\"}, \"line\": {\"color\": \"white\"}}, \"type\": \"table\"}]}, \"layout\": {\"annotationdefaults\": {\"arrowcolor\": \"#2a3f5f\", \"arrowhead\": 0, \"arrowwidth\": 1}, \"coloraxis\": {\"colorbar\": {\"outlinewidth\": 0, \"ticks\": \"\"}}, \"colorscale\": {\"diverging\": [[0, \"#8e0152\"], [0.1, \"#c51b7d\"], [0.2, \"#de77ae\"], [0.3, \"#f1b6da\"], [0.4, \"#fde0ef\"], [0.5, \"#f7f7f7\"], [0.6, \"#e6f5d0\"], [0.7, \"#b8e186\"], [0.8, \"#7fbc41\"], [0.9, \"#4d9221\"], [1, \"#276419\"]], \"sequential\": [[0.0, \"#0d0887\"], [0.1111111111111111, \"#46039f\"], [0.2222222222222222, \"#7201a8\"], [0.3333333333333333, \"#9c179e\"], [0.4444444444444444, \"#bd3786\"], [0.5555555555555556, \"#d8576b\"], [0.6666666666666666, \"#ed7953\"], [0.7777777777777778, \"#fb9f3a\"], [0.8888888888888888, \"#fdca26\"], [1.0, \"#f0f921\"]], \"sequentialminus\": [[0.0, \"#0d0887\"], [0.1111111111111111, \"#46039f\"], [0.2222222222222222, \"#7201a8\"], [0.3333333333333333, \"#9c179e\"], [0.4444444444444444, \"#bd3786\"], [0.5555555555555556, \"#d8576b\"], [0.6666666666666666, \"#ed7953\"], [0.7777777777777778, \"#fb9f3a\"], [0.8888888888888888, \"#fdca26\"], [1.0, \"#f0f921\"]]}, \"colorway\": [\"#636efa\", \"#EF553B\", \"#00cc96\", \"#ab63fa\", \"#FFA15A\", \"#19d3f3\", \"#FF6692\", \"#B6E880\", \"#FF97FF\", \"#FECB52\"], \"font\": {\"color\": \"#2a3f5f\"}, \"geo\": {\"bgcolor\": \"white\", \"lakecolor\": \"white\", \"landcolor\": \"#E5ECF6\", \"showlakes\": true, \"showland\": true, \"subunitcolor\": \"white\"}, \"hoverlabel\": {\"align\": \"left\"}, \"hovermode\": \"closest\", \"mapbox\": {\"style\": \"light\"}, \"paper_bgcolor\": \"white\", \"plot_bgcolor\": \"#E5ECF6\", \"polar\": {\"angularaxis\": {\"gridcolor\": \"white\", \"linecolor\": \"white\", \"ticks\": \"\"}, \"bgcolor\": \"#E5ECF6\", \"radialaxis\": {\"gridcolor\": \"white\", \"linecolor\": \"white\", \"ticks\": \"\"}}, \"scene\": {\"xaxis\": {\"backgroundcolor\": \"#E5ECF6\", \"gridcolor\": \"white\", \"gridwidth\": 2, \"linecolor\": \"white\", \"showbackground\": true, \"ticks\": \"\", \"zerolinecolor\": \"white\"}, \"yaxis\": {\"backgroundcolor\": \"#E5ECF6\", \"gridcolor\": \"white\", \"gridwidth\": 2, \"linecolor\": \"white\", \"showbackground\": true, \"ticks\": \"\", \"zerolinecolor\": \"white\"}, \"zaxis\": {\"backgroundcolor\": \"#E5ECF6\", \"gridcolor\": \"white\", \"gridwidth\": 2, \"linecolor\": \"white\", \"showbackground\": true, \"ticks\": \"\", \"zerolinecolor\": \"white\"}}, \"shapedefaults\": {\"line\": {\"color\": \"#2a3f5f\"}}, \"ternary\": {\"aaxis\": {\"gridcolor\": \"white\", \"linecolor\": \"white\", \"ticks\": \"\"}, \"baxis\": {\"gridcolor\": \"white\", \"linecolor\": \"white\", \"ticks\": \"\"}, \"bgcolor\": \"#E5ECF6\", \"caxis\": {\"gridcolor\": \"white\", \"linecolor\": \"white\", \"ticks\": \"\"}}, \"title\": {\"x\": 0.05}, \"xaxis\": {\"automargin\": true, \"gridcolor\": \"white\", \"linecolor\": \"white\", \"ticks\": \"\", \"title\": {\"standoff\": 15}, \"zerolinecolor\": \"white\", \"zerolinewidth\": 2}, \"yaxis\": {\"automargin\": true, \"gridcolor\": \"white\", \"linecolor\": \"white\", \"ticks\": \"\", \"title\": {\"standoff\": 15}, \"zerolinecolor\": \"white\", \"zerolinewidth\": 2}}}, \"title\": {\"text\": \"Peaks\"}},\n",
       "                        {\"responsive\": true}\n",
       "                    ).then(function(){\n",
       "                            \n",
       "var gd = document.getElementById('bc5e27af-6544-4156-9ccf-a6dc7de12ad2');\n",
       "var x = new MutationObserver(function (mutations, observer) {{\n",
       "        var display = window.getComputedStyle(gd).display;\n",
       "        if (!display || display === 'none') {{\n",
       "            console.log([gd, 'removed!']);\n",
       "            Plotly.purge(gd);\n",
       "            observer.disconnect();\n",
       "        }}\n",
       "}});\n",
       "\n",
       "// Listen for the removal of the full notebook cells\n",
       "var notebookContainer = gd.closest('#notebook-container');\n",
       "if (notebookContainer) {{\n",
       "    x.observe(notebookContainer, {childList: true});\n",
       "}}\n",
       "\n",
       "// Listen for the clearing of the current output cell\n",
       "var outputEl = gd.closest('.output');\n",
       "if (outputEl) {{\n",
       "    x.observe(outputEl, {childList: true});\n",
       "}}\n",
       "\n",
       "                        })\n",
       "                };\n",
       "                });\n",
       "            </script>\n",
       "        </div>"
      ]
     },
     "metadata": {},
     "output_type": "display_data"
    }
   ],
   "source": [
    "import plotly.graph_objects as go\n",
    "import plotly.express as px\n",
    "\n",
    "fig = go.Figure(layout=go.Layout(title=go.layout.Title(text=\"Peaks\")))\n",
    "for l in sorted(set(dfs_mean['level'])):\n",
    "    fig.add_trace(go.Scatter(x=dfs_mean.loc[dfs_mean['level']==l]['name'], \n",
    "                             y=dfs_mean.loc[dfs_mean['level']==l]['peaks'], \n",
    "                             name=f\"{l} mean\", line_shape='linear'))\n",
    "    fig.add_trace(go.Scatter(x=dfs_std.loc[dfs_std['level']==l]['name'], \n",
    "                             y=dfs_std.loc[dfs_std['level']==l]['peaks'], \n",
    "                             name=f\"{l} std\", line_shape='linear', \n",
    "                             line=dict(dash='dot')))\n",
    "fig.show()"
   ]
  },
  {
   "cell_type": "code",
   "execution_count": 136,
   "metadata": {},
   "outputs": [
    {
     "data": {
      "application/vnd.plotly.v1+json": {
       "config": {
        "plotlyServerURL": "https://plot.ly"
       },
       "data": [
        {
         "error_y": {
          "array": [
           12652.261635770896,
           0,
           2799.435746717542,
           42170.43421640332,
           19442.608055505312,
           11430.38111788054,
           17326.237459413973,
           17524.934464927395,
           18881.872378024378,
           14429.928083673874,
           0,
           24084.764073994997,
           14335.882881776064,
           4913.685022465319,
           4100.512224100789,
           2574.5757903002195,
           8551.749411670105,
           0,
           43337.16040536112,
           0,
           23014.91151405975,
           0,
           55023.5141780312,
           224.15284963613556,
           12520.03266768901,
           7969.09342397239,
           8498.009296299928,
           6116.473657263636,
           6223.953888003991,
           13645.039556556807,
           16909.044458513912,
           53479.90007470096,
           7068.239384740729,
           9667.563912382479,
           1081.1662684342311,
           9131.576972243074,
           0,
           8459.825530115855,
           16375.885945499254,
           70614.51159641339,
           22051.83207808367,
           6791.053526515602,
           4803.473777729335,
           0,
           66867.55276290586,
           1018.2337649086285,
           17645.142617729107,
           12292.344284146942,
           10423.461061470896,
           10238.199084800022,
           41975.97985157702,
           666.0945878777278,
           10253.755433986125,
           3194.001330619635,
           881.7621561396247,
           11527.783582863332,
           0,
           15537.25730301201,
           24472.258590085225,
           149155.69020992797,
           4352.949344984387,
           13136.62978088368,
           4531.847360624583
          ],
          "type": "data"
         },
         "name": "span 0.05_0",
         "type": "bar",
         "x": [
          "H3K4me2_ChIPSeq_CCR4Neg-Donor1",
          "H3K4me2_ChIPSeq_CCR4Neg-Donor11",
          "H3K4me2_ChIPSeq_CCR4Neg-Donor12",
          "H3K4me2_ChIPSeq_CCR4Neg-Donor13",
          "H3K4me2_ChIPSeq_CCR4Neg-Donor14",
          "H3K4me2_ChIPSeq_CCR4Neg-Donor15",
          "H3K4me2_ChIPSeq_CCR4Neg-Donor16",
          "H3K4me2_ChIPSeq_CCR4Neg-Donor17",
          "H3K4me2_ChIPSeq_CCR4Neg-Donor18",
          "H3K4me2_ChIPSeq_CCR4Neg-Donor19",
          "H3K4me2_ChIPSeq_CCR4Neg-Donor20",
          "H3K4me2_ChIPSeq_CCR4Neg-Donor21",
          "H3K4me2_ChIPSeq_CCR4Neg-Donor22",
          "H3K4me2_ChIPSeq_CCR4Neg-Donor23",
          "H3K4me2_ChIPSeq_CCR4Neg-Donor4",
          "H3K4me2_ChIPSeq_CCR4Neg-Donor5",
          "H3K4me2_ChIPSeq_CCR4Neg-Donor6",
          "H3K4me2_ChIPSeq_CCR4Neg-Donor7",
          "H3K4me2_ChIPSeq_CCR4Neg-Donor8",
          "H3K4me2_ChIPSeq_CCR4Neg-Donor9",
          "H3K4me2_ChIPSeq_CCR4pos-Donor1",
          "H3K4me2_ChIPSeq_CCR4pos-Donor10",
          "H3K4me2_ChIPSeq_CCR4pos-Donor11",
          "H3K4me2_ChIPSeq_CCR4pos-Donor12",
          "H3K4me2_ChIPSeq_CCR4pos-Donor13",
          "H3K4me2_ChIPSeq_CCR4pos-Donor14",
          "H3K4me2_ChIPSeq_CCR4pos-Donor15",
          "H3K4me2_ChIPSeq_CCR4pos-Donor16",
          "H3K4me2_ChIPSeq_CCR4pos-Donor17",
          "H3K4me2_ChIPSeq_CCR4pos-Donor18",
          "H3K4me2_ChIPSeq_CCR4pos-Donor19",
          "H3K4me2_ChIPSeq_CCR4pos-Donor2",
          "H3K4me2_ChIPSeq_CCR4pos-Donor20",
          "H3K4me2_ChIPSeq_CCR4pos-Donor21",
          "H3K4me2_ChIPSeq_CCR4pos-Donor22",
          "H3K4me2_ChIPSeq_CCR4pos-Donor23",
          "H3K4me2_ChIPSeq_CCR4pos-Donor3",
          "H3K4me2_ChIPSeq_CCR4pos-Donor4",
          "H3K4me2_ChIPSeq_CCR4pos-Donor5",
          "H3K4me2_ChIPSeq_CCR4pos-Donor7",
          "H3K4me2_ChIPSeq_CCR4pos-Donor8",
          "H3K4me2_ChIPSeq_CCR4pos-Donor9",
          "H3K4me2_ChIPSeq_Naive-Donor1",
          "H3K4me2_ChIPSeq_Naive-Donor10",
          "H3K4me2_ChIPSeq_Naive-Donor11",
          "H3K4me2_ChIPSeq_Naive-Donor12",
          "H3K4me2_ChIPSeq_Naive-Donor13",
          "H3K4me2_ChIPSeq_Naive-Donor14",
          "H3K4me2_ChIPSeq_Naive-Donor15",
          "H3K4me2_ChIPSeq_Naive-Donor16",
          "H3K4me2_ChIPSeq_Naive-Donor17",
          "H3K4me2_ChIPSeq_Naive-Donor18",
          "H3K4me2_ChIPSeq_Naive-Donor19",
          "H3K4me2_ChIPSeq_Naive-Donor2",
          "H3K4me2_ChIPSeq_Naive-Donor20",
          "H3K4me2_ChIPSeq_Naive-Donor21",
          "H3K4me2_ChIPSeq_Naive-Donor22",
          "H3K4me2_ChIPSeq_Naive-Donor23",
          "H3K4me2_ChIPSeq_Naive-Donor3",
          "H3K4me2_ChIPSeq_Naive-Donor5",
          "H3K4me2_ChIPSeq_Naive-Donor7",
          "H3K4me2_ChIPSeq_Naive-Donor8",
          "H3K4me2_ChIPSeq_Naive-Donor9"
         ],
         "y": [
          93813.5,
          89984,
          88224.5,
          121704,
          97122,
          87295.5,
          84361.5,
          100320,
          175484.5,
          101210.5,
          87723,
          75107.5,
          64608,
          83261.5,
          72727.5,
          76563.5,
          80836,
          113919,
          126356,
          65609,
          65008,
          96555,
          94958.5,
          51873.5,
          53258,
          56644,
          73741,
          58070,
          56780,
          69210.5,
          73295.5,
          92547,
          67998,
          63173,
          48300.5,
          55710,
          56010,
          66973,
          71123.5,
          109950,
          72427,
          56451,
          65312.333333333336,
          69815,
          109350.5,
          64973,
          72689,
          83029,
          65038.5,
          65933.5,
          90959.5,
          64747,
          55587.5,
          54473.5,
          74169.5,
          71862.66666666667,
          73572,
          59870.5,
          86298.5,
          166365,
          70066,
          81734,
          60792.5
         ]
        },
        {
         "error_y": {
          "array": [
           11188.55059871474,
           0,
           2602.8600615476817,
           35667.88025661183,
           16747.117005622193,
           10736.709365536537,
           15642.616213408804,
           14918.53886947378,
           14332.347347870133,
           12836.816505660583,
           0,
           21379.373529175264,
           12766.10582754193,
           4497.906235127629,
           3705.9466401986956,
           2194.152342021857,
           7353.9105243400945,
           0,
           33761.5203745329,
           0,
           20354.06869645477,
           0,
           44891.38111040916,
           299.8132752230961,
           11660.19082176617,
           7609.883179129624,
           7451.491260143838,
           5611.599415496441,
           5705.644617394252,
           12214.562538216422,
           15402.199907805378,
           44754.909501640155,
           6678.623548306941,
           8355.173726500245,
           909.3393206059001,
           8471.846345396027,
           0,
           7559.678597665379,
           14348.610803837422,
           56438.434847185476,
           18215.070683365466,
           5757.26341242087,
           4209.413300370176,
           0,
           57004.120272134714,
           1078.337841309485,
           15792.522851020352,
           11051.371883164551,
           9377.650132095992,
           9195.216582549863,
           33723.33660834882,
           689.4291116568838,
           9619.480651261792,
           2922.472326644001,
           857.0134187980956,
           10471.655185945216,
           0,
           13975.965530152112,
           21056.225730173013,
           111532.65970333533,
           3384.2130547588163,
           11055.614523851671,
           4011.4167696712843
          ],
          "type": "data"
         },
         "name": "span 0.05_5",
         "type": "bar",
         "x": [
          "H3K4me2_ChIPSeq_CCR4Neg-Donor1",
          "H3K4me2_ChIPSeq_CCR4Neg-Donor11",
          "H3K4me2_ChIPSeq_CCR4Neg-Donor12",
          "H3K4me2_ChIPSeq_CCR4Neg-Donor13",
          "H3K4me2_ChIPSeq_CCR4Neg-Donor14",
          "H3K4me2_ChIPSeq_CCR4Neg-Donor15",
          "H3K4me2_ChIPSeq_CCR4Neg-Donor16",
          "H3K4me2_ChIPSeq_CCR4Neg-Donor17",
          "H3K4me2_ChIPSeq_CCR4Neg-Donor18",
          "H3K4me2_ChIPSeq_CCR4Neg-Donor19",
          "H3K4me2_ChIPSeq_CCR4Neg-Donor20",
          "H3K4me2_ChIPSeq_CCR4Neg-Donor21",
          "H3K4me2_ChIPSeq_CCR4Neg-Donor22",
          "H3K4me2_ChIPSeq_CCR4Neg-Donor23",
          "H3K4me2_ChIPSeq_CCR4Neg-Donor4",
          "H3K4me2_ChIPSeq_CCR4Neg-Donor5",
          "H3K4me2_ChIPSeq_CCR4Neg-Donor6",
          "H3K4me2_ChIPSeq_CCR4Neg-Donor7",
          "H3K4me2_ChIPSeq_CCR4Neg-Donor8",
          "H3K4me2_ChIPSeq_CCR4Neg-Donor9",
          "H3K4me2_ChIPSeq_CCR4pos-Donor1",
          "H3K4me2_ChIPSeq_CCR4pos-Donor10",
          "H3K4me2_ChIPSeq_CCR4pos-Donor11",
          "H3K4me2_ChIPSeq_CCR4pos-Donor12",
          "H3K4me2_ChIPSeq_CCR4pos-Donor13",
          "H3K4me2_ChIPSeq_CCR4pos-Donor14",
          "H3K4me2_ChIPSeq_CCR4pos-Donor15",
          "H3K4me2_ChIPSeq_CCR4pos-Donor16",
          "H3K4me2_ChIPSeq_CCR4pos-Donor17",
          "H3K4me2_ChIPSeq_CCR4pos-Donor18",
          "H3K4me2_ChIPSeq_CCR4pos-Donor19",
          "H3K4me2_ChIPSeq_CCR4pos-Donor2",
          "H3K4me2_ChIPSeq_CCR4pos-Donor20",
          "H3K4me2_ChIPSeq_CCR4pos-Donor21",
          "H3K4me2_ChIPSeq_CCR4pos-Donor22",
          "H3K4me2_ChIPSeq_CCR4pos-Donor23",
          "H3K4me2_ChIPSeq_CCR4pos-Donor3",
          "H3K4me2_ChIPSeq_CCR4pos-Donor4",
          "H3K4me2_ChIPSeq_CCR4pos-Donor5",
          "H3K4me2_ChIPSeq_CCR4pos-Donor7",
          "H3K4me2_ChIPSeq_CCR4pos-Donor8",
          "H3K4me2_ChIPSeq_CCR4pos-Donor9",
          "H3K4me2_ChIPSeq_Naive-Donor1",
          "H3K4me2_ChIPSeq_Naive-Donor10",
          "H3K4me2_ChIPSeq_Naive-Donor11",
          "H3K4me2_ChIPSeq_Naive-Donor12",
          "H3K4me2_ChIPSeq_Naive-Donor13",
          "H3K4me2_ChIPSeq_Naive-Donor14",
          "H3K4me2_ChIPSeq_Naive-Donor15",
          "H3K4me2_ChIPSeq_Naive-Donor16",
          "H3K4me2_ChIPSeq_Naive-Donor17",
          "H3K4me2_ChIPSeq_Naive-Donor18",
          "H3K4me2_ChIPSeq_Naive-Donor19",
          "H3K4me2_ChIPSeq_Naive-Donor2",
          "H3K4me2_ChIPSeq_Naive-Donor20",
          "H3K4me2_ChIPSeq_Naive-Donor21",
          "H3K4me2_ChIPSeq_Naive-Donor22",
          "H3K4me2_ChIPSeq_Naive-Donor23",
          "H3K4me2_ChIPSeq_Naive-Donor3",
          "H3K4me2_ChIPSeq_Naive-Donor5",
          "H3K4me2_ChIPSeq_Naive-Donor7",
          "H3K4me2_ChIPSeq_Naive-Donor8",
          "H3K4me2_ChIPSeq_Naive-Donor9"
         ],
         "y": [
          87947.5,
          84245,
          83269.5,
          110760,
          89479,
          82080,
          79369,
          93931,
          151356.5,
          94272,
          82494,
          70888.5,
          61152,
          78088.5,
          69304.5,
          72817.5,
          76509,
          105388,
          112630,
          62796,
          61519.5,
          87695,
          85195,
          50076,
          50968,
          54317,
          69779,
          55499,
          54542.5,
          65150,
          69279,
          84031.5,
          64644.5,
          60002,
          46550,
          53515.5,
          53255,
          63679.5,
          67321,
          97187,
          67384,
          54000,
          62457.666666666664,
          66438,
          99766,
          62169.5,
          68742,
          78344.5,
          62110,
          62830,
          82223,
          61792.5,
          53500,
          52364.5,
          70493,
          67934.33333333333,
          69366,
          57328.5,
          80692,
          136956.5,
          66363,
          76741.5,
          58231.5
         ]
        },
        {
         "error_y": {
          "array": [
           4025.558905295015,
           0,
           560.7356774809322,
           2123.4416639032024,
           3172.788127184039,
           1998.99087041437,
           3333.301366513385,
           738.2194795587557,
           1950.9076092936846,
           10619.32963985957,
           0,
           1294.005409571382,
           2736.503243191939,
           2375.171678005613,
           3799.2847353153197,
           6586.69966675269,
           6506.089493697424,
           0,
           10651.149445012965,
           0,
           7823.429427047962,
           0,
           1738.7755749377204,
           2874.389065523316,
           6458.0062325767385,
           4251.833075274711,
           459.6194077712559,
           5926.261933124455,
           7141.77848998413,
           865.4987001723342,
           6063.440648674645,
           5759.38473276443,
           7216.024702008717,
           9475.230867899736,
           469.51890270786754,
           2184.959953866432,
           0,
           8564.477333731464,
           10536.598146460745,
           7518.66640435656,
           8380.629570622961,
           12314.264594363725,
           11023.202136100623,
           0,
           8305.676251817187,
           1344.209991035627,
           359.21024484276614,
           2076.0655095637035,
           2075.358402782517,
           4960.354070023631,
           5125.109950040096,
           948.2301935711603,
           3268.954649425409,
           226.98127676088177,
           494.26764004939673,
           4421.797183649803,
           0,
           12168.600597439296,
           5309.664819929785,
           5396.638954015731,
           11837.674623843992,
           9800.499987245548,
           9821.713190681145
          ],
          "type": "data"
         },
         "name": "span 1e-06_5",
         "type": "bar",
         "x": [
          "H3K4me2_ChIPSeq_CCR4Neg-Donor1",
          "H3K4me2_ChIPSeq_CCR4Neg-Donor11",
          "H3K4me2_ChIPSeq_CCR4Neg-Donor12",
          "H3K4me2_ChIPSeq_CCR4Neg-Donor13",
          "H3K4me2_ChIPSeq_CCR4Neg-Donor14",
          "H3K4me2_ChIPSeq_CCR4Neg-Donor15",
          "H3K4me2_ChIPSeq_CCR4Neg-Donor16",
          "H3K4me2_ChIPSeq_CCR4Neg-Donor17",
          "H3K4me2_ChIPSeq_CCR4Neg-Donor18",
          "H3K4me2_ChIPSeq_CCR4Neg-Donor19",
          "H3K4me2_ChIPSeq_CCR4Neg-Donor20",
          "H3K4me2_ChIPSeq_CCR4Neg-Donor21",
          "H3K4me2_ChIPSeq_CCR4Neg-Donor22",
          "H3K4me2_ChIPSeq_CCR4Neg-Donor23",
          "H3K4me2_ChIPSeq_CCR4Neg-Donor4",
          "H3K4me2_ChIPSeq_CCR4Neg-Donor5",
          "H3K4me2_ChIPSeq_CCR4Neg-Donor6",
          "H3K4me2_ChIPSeq_CCR4Neg-Donor7",
          "H3K4me2_ChIPSeq_CCR4Neg-Donor8",
          "H3K4me2_ChIPSeq_CCR4Neg-Donor9",
          "H3K4me2_ChIPSeq_CCR4pos-Donor1",
          "H3K4me2_ChIPSeq_CCR4pos-Donor10",
          "H3K4me2_ChIPSeq_CCR4pos-Donor11",
          "H3K4me2_ChIPSeq_CCR4pos-Donor12",
          "H3K4me2_ChIPSeq_CCR4pos-Donor13",
          "H3K4me2_ChIPSeq_CCR4pos-Donor14",
          "H3K4me2_ChIPSeq_CCR4pos-Donor15",
          "H3K4me2_ChIPSeq_CCR4pos-Donor16",
          "H3K4me2_ChIPSeq_CCR4pos-Donor17",
          "H3K4me2_ChIPSeq_CCR4pos-Donor18",
          "H3K4me2_ChIPSeq_CCR4pos-Donor19",
          "H3K4me2_ChIPSeq_CCR4pos-Donor2",
          "H3K4me2_ChIPSeq_CCR4pos-Donor20",
          "H3K4me2_ChIPSeq_CCR4pos-Donor21",
          "H3K4me2_ChIPSeq_CCR4pos-Donor22",
          "H3K4me2_ChIPSeq_CCR4pos-Donor23",
          "H3K4me2_ChIPSeq_CCR4pos-Donor3",
          "H3K4me2_ChIPSeq_CCR4pos-Donor4",
          "H3K4me2_ChIPSeq_CCR4pos-Donor5",
          "H3K4me2_ChIPSeq_CCR4pos-Donor7",
          "H3K4me2_ChIPSeq_CCR4pos-Donor8",
          "H3K4me2_ChIPSeq_CCR4pos-Donor9",
          "H3K4me2_ChIPSeq_Naive-Donor1",
          "H3K4me2_ChIPSeq_Naive-Donor10",
          "H3K4me2_ChIPSeq_Naive-Donor11",
          "H3K4me2_ChIPSeq_Naive-Donor12",
          "H3K4me2_ChIPSeq_Naive-Donor13",
          "H3K4me2_ChIPSeq_Naive-Donor14",
          "H3K4me2_ChIPSeq_Naive-Donor15",
          "H3K4me2_ChIPSeq_Naive-Donor16",
          "H3K4me2_ChIPSeq_Naive-Donor17",
          "H3K4me2_ChIPSeq_Naive-Donor18",
          "H3K4me2_ChIPSeq_Naive-Donor19",
          "H3K4me2_ChIPSeq_Naive-Donor2",
          "H3K4me2_ChIPSeq_Naive-Donor20",
          "H3K4me2_ChIPSeq_Naive-Donor21",
          "H3K4me2_ChIPSeq_Naive-Donor22",
          "H3K4me2_ChIPSeq_Naive-Donor23",
          "H3K4me2_ChIPSeq_Naive-Donor3",
          "H3K4me2_ChIPSeq_Naive-Donor5",
          "H3K4me2_ChIPSeq_Naive-Donor7",
          "H3K4me2_ChIPSeq_Naive-Donor8",
          "H3K4me2_ChIPSeq_Naive-Donor9"
         ],
         "y": [
          21304.5,
          13350,
          25181.5,
          10903.5,
          10434.5,
          22070.5,
          14834,
          24886,
          7524.5,
          19689,
          30165,
          16407,
          15165,
          18472.5,
          34258.5,
          28716.5,
          26947.5,
          10407,
          13368.5,
          14826,
          19560,
          9108,
          8158.5,
          27714.5,
          13886.5,
          22677.5,
          27878,
          30667.5,
          27606,
          11387,
          24671.5,
          11599.5,
          25001.5,
          20893,
          21973,
          32658,
          14615,
          25153,
          26861.5,
          12584.5,
          13895,
          25488.5,
          29626.333333333332,
          25865,
          18650,
          25870.5,
          16354,
          26781,
          34164.5,
          28747.5,
          9119,
          16114.5,
          28127.5,
          21778.5,
          31055.5,
          19725.333333333332,
          8302,
          30382.5,
          26019.5,
          11178,
          21328.5,
          16325,
          20701
         ]
        }
       ],
       "layout": {
        "barmode": "group",
        "template": {
         "data": {
          "bar": [
           {
            "error_x": {
             "color": "#2a3f5f"
            },
            "error_y": {
             "color": "#2a3f5f"
            },
            "marker": {
             "line": {
              "color": "#E5ECF6",
              "width": 0.5
             }
            },
            "type": "bar"
           }
          ],
          "barpolar": [
           {
            "marker": {
             "line": {
              "color": "#E5ECF6",
              "width": 0.5
             }
            },
            "type": "barpolar"
           }
          ],
          "carpet": [
           {
            "aaxis": {
             "endlinecolor": "#2a3f5f",
             "gridcolor": "white",
             "linecolor": "white",
             "minorgridcolor": "white",
             "startlinecolor": "#2a3f5f"
            },
            "baxis": {
             "endlinecolor": "#2a3f5f",
             "gridcolor": "white",
             "linecolor": "white",
             "minorgridcolor": "white",
             "startlinecolor": "#2a3f5f"
            },
            "type": "carpet"
           }
          ],
          "choropleth": [
           {
            "colorbar": {
             "outlinewidth": 0,
             "ticks": ""
            },
            "type": "choropleth"
           }
          ],
          "contour": [
           {
            "colorbar": {
             "outlinewidth": 0,
             "ticks": ""
            },
            "colorscale": [
             [
              0,
              "#0d0887"
             ],
             [
              0.1111111111111111,
              "#46039f"
             ],
             [
              0.2222222222222222,
              "#7201a8"
             ],
             [
              0.3333333333333333,
              "#9c179e"
             ],
             [
              0.4444444444444444,
              "#bd3786"
             ],
             [
              0.5555555555555556,
              "#d8576b"
             ],
             [
              0.6666666666666666,
              "#ed7953"
             ],
             [
              0.7777777777777778,
              "#fb9f3a"
             ],
             [
              0.8888888888888888,
              "#fdca26"
             ],
             [
              1,
              "#f0f921"
             ]
            ],
            "type": "contour"
           }
          ],
          "contourcarpet": [
           {
            "colorbar": {
             "outlinewidth": 0,
             "ticks": ""
            },
            "type": "contourcarpet"
           }
          ],
          "heatmap": [
           {
            "colorbar": {
             "outlinewidth": 0,
             "ticks": ""
            },
            "colorscale": [
             [
              0,
              "#0d0887"
             ],
             [
              0.1111111111111111,
              "#46039f"
             ],
             [
              0.2222222222222222,
              "#7201a8"
             ],
             [
              0.3333333333333333,
              "#9c179e"
             ],
             [
              0.4444444444444444,
              "#bd3786"
             ],
             [
              0.5555555555555556,
              "#d8576b"
             ],
             [
              0.6666666666666666,
              "#ed7953"
             ],
             [
              0.7777777777777778,
              "#fb9f3a"
             ],
             [
              0.8888888888888888,
              "#fdca26"
             ],
             [
              1,
              "#f0f921"
             ]
            ],
            "type": "heatmap"
           }
          ],
          "heatmapgl": [
           {
            "colorbar": {
             "outlinewidth": 0,
             "ticks": ""
            },
            "colorscale": [
             [
              0,
              "#0d0887"
             ],
             [
              0.1111111111111111,
              "#46039f"
             ],
             [
              0.2222222222222222,
              "#7201a8"
             ],
             [
              0.3333333333333333,
              "#9c179e"
             ],
             [
              0.4444444444444444,
              "#bd3786"
             ],
             [
              0.5555555555555556,
              "#d8576b"
             ],
             [
              0.6666666666666666,
              "#ed7953"
             ],
             [
              0.7777777777777778,
              "#fb9f3a"
             ],
             [
              0.8888888888888888,
              "#fdca26"
             ],
             [
              1,
              "#f0f921"
             ]
            ],
            "type": "heatmapgl"
           }
          ],
          "histogram": [
           {
            "marker": {
             "colorbar": {
              "outlinewidth": 0,
              "ticks": ""
             }
            },
            "type": "histogram"
           }
          ],
          "histogram2d": [
           {
            "colorbar": {
             "outlinewidth": 0,
             "ticks": ""
            },
            "colorscale": [
             [
              0,
              "#0d0887"
             ],
             [
              0.1111111111111111,
              "#46039f"
             ],
             [
              0.2222222222222222,
              "#7201a8"
             ],
             [
              0.3333333333333333,
              "#9c179e"
             ],
             [
              0.4444444444444444,
              "#bd3786"
             ],
             [
              0.5555555555555556,
              "#d8576b"
             ],
             [
              0.6666666666666666,
              "#ed7953"
             ],
             [
              0.7777777777777778,
              "#fb9f3a"
             ],
             [
              0.8888888888888888,
              "#fdca26"
             ],
             [
              1,
              "#f0f921"
             ]
            ],
            "type": "histogram2d"
           }
          ],
          "histogram2dcontour": [
           {
            "colorbar": {
             "outlinewidth": 0,
             "ticks": ""
            },
            "colorscale": [
             [
              0,
              "#0d0887"
             ],
             [
              0.1111111111111111,
              "#46039f"
             ],
             [
              0.2222222222222222,
              "#7201a8"
             ],
             [
              0.3333333333333333,
              "#9c179e"
             ],
             [
              0.4444444444444444,
              "#bd3786"
             ],
             [
              0.5555555555555556,
              "#d8576b"
             ],
             [
              0.6666666666666666,
              "#ed7953"
             ],
             [
              0.7777777777777778,
              "#fb9f3a"
             ],
             [
              0.8888888888888888,
              "#fdca26"
             ],
             [
              1,
              "#f0f921"
             ]
            ],
            "type": "histogram2dcontour"
           }
          ],
          "mesh3d": [
           {
            "colorbar": {
             "outlinewidth": 0,
             "ticks": ""
            },
            "type": "mesh3d"
           }
          ],
          "parcoords": [
           {
            "line": {
             "colorbar": {
              "outlinewidth": 0,
              "ticks": ""
             }
            },
            "type": "parcoords"
           }
          ],
          "pie": [
           {
            "automargin": true,
            "type": "pie"
           }
          ],
          "scatter": [
           {
            "marker": {
             "colorbar": {
              "outlinewidth": 0,
              "ticks": ""
             }
            },
            "type": "scatter"
           }
          ],
          "scatter3d": [
           {
            "line": {
             "colorbar": {
              "outlinewidth": 0,
              "ticks": ""
             }
            },
            "marker": {
             "colorbar": {
              "outlinewidth": 0,
              "ticks": ""
             }
            },
            "type": "scatter3d"
           }
          ],
          "scattercarpet": [
           {
            "marker": {
             "colorbar": {
              "outlinewidth": 0,
              "ticks": ""
             }
            },
            "type": "scattercarpet"
           }
          ],
          "scattergeo": [
           {
            "marker": {
             "colorbar": {
              "outlinewidth": 0,
              "ticks": ""
             }
            },
            "type": "scattergeo"
           }
          ],
          "scattergl": [
           {
            "marker": {
             "colorbar": {
              "outlinewidth": 0,
              "ticks": ""
             }
            },
            "type": "scattergl"
           }
          ],
          "scattermapbox": [
           {
            "marker": {
             "colorbar": {
              "outlinewidth": 0,
              "ticks": ""
             }
            },
            "type": "scattermapbox"
           }
          ],
          "scatterpolar": [
           {
            "marker": {
             "colorbar": {
              "outlinewidth": 0,
              "ticks": ""
             }
            },
            "type": "scatterpolar"
           }
          ],
          "scatterpolargl": [
           {
            "marker": {
             "colorbar": {
              "outlinewidth": 0,
              "ticks": ""
             }
            },
            "type": "scatterpolargl"
           }
          ],
          "scatterternary": [
           {
            "marker": {
             "colorbar": {
              "outlinewidth": 0,
              "ticks": ""
             }
            },
            "type": "scatterternary"
           }
          ],
          "surface": [
           {
            "colorbar": {
             "outlinewidth": 0,
             "ticks": ""
            },
            "colorscale": [
             [
              0,
              "#0d0887"
             ],
             [
              0.1111111111111111,
              "#46039f"
             ],
             [
              0.2222222222222222,
              "#7201a8"
             ],
             [
              0.3333333333333333,
              "#9c179e"
             ],
             [
              0.4444444444444444,
              "#bd3786"
             ],
             [
              0.5555555555555556,
              "#d8576b"
             ],
             [
              0.6666666666666666,
              "#ed7953"
             ],
             [
              0.7777777777777778,
              "#fb9f3a"
             ],
             [
              0.8888888888888888,
              "#fdca26"
             ],
             [
              1,
              "#f0f921"
             ]
            ],
            "type": "surface"
           }
          ],
          "table": [
           {
            "cells": {
             "fill": {
              "color": "#EBF0F8"
             },
             "line": {
              "color": "white"
             }
            },
            "header": {
             "fill": {
              "color": "#C8D4E3"
             },
             "line": {
              "color": "white"
             }
            },
            "type": "table"
           }
          ]
         },
         "layout": {
          "annotationdefaults": {
           "arrowcolor": "#2a3f5f",
           "arrowhead": 0,
           "arrowwidth": 1
          },
          "coloraxis": {
           "colorbar": {
            "outlinewidth": 0,
            "ticks": ""
           }
          },
          "colorscale": {
           "diverging": [
            [
             0,
             "#8e0152"
            ],
            [
             0.1,
             "#c51b7d"
            ],
            [
             0.2,
             "#de77ae"
            ],
            [
             0.3,
             "#f1b6da"
            ],
            [
             0.4,
             "#fde0ef"
            ],
            [
             0.5,
             "#f7f7f7"
            ],
            [
             0.6,
             "#e6f5d0"
            ],
            [
             0.7,
             "#b8e186"
            ],
            [
             0.8,
             "#7fbc41"
            ],
            [
             0.9,
             "#4d9221"
            ],
            [
             1,
             "#276419"
            ]
           ],
           "sequential": [
            [
             0,
             "#0d0887"
            ],
            [
             0.1111111111111111,
             "#46039f"
            ],
            [
             0.2222222222222222,
             "#7201a8"
            ],
            [
             0.3333333333333333,
             "#9c179e"
            ],
            [
             0.4444444444444444,
             "#bd3786"
            ],
            [
             0.5555555555555556,
             "#d8576b"
            ],
            [
             0.6666666666666666,
             "#ed7953"
            ],
            [
             0.7777777777777778,
             "#fb9f3a"
            ],
            [
             0.8888888888888888,
             "#fdca26"
            ],
            [
             1,
             "#f0f921"
            ]
           ],
           "sequentialminus": [
            [
             0,
             "#0d0887"
            ],
            [
             0.1111111111111111,
             "#46039f"
            ],
            [
             0.2222222222222222,
             "#7201a8"
            ],
            [
             0.3333333333333333,
             "#9c179e"
            ],
            [
             0.4444444444444444,
             "#bd3786"
            ],
            [
             0.5555555555555556,
             "#d8576b"
            ],
            [
             0.6666666666666666,
             "#ed7953"
            ],
            [
             0.7777777777777778,
             "#fb9f3a"
            ],
            [
             0.8888888888888888,
             "#fdca26"
            ],
            [
             1,
             "#f0f921"
            ]
           ]
          },
          "colorway": [
           "#636efa",
           "#EF553B",
           "#00cc96",
           "#ab63fa",
           "#FFA15A",
           "#19d3f3",
           "#FF6692",
           "#B6E880",
           "#FF97FF",
           "#FECB52"
          ],
          "font": {
           "color": "#2a3f5f"
          },
          "geo": {
           "bgcolor": "white",
           "lakecolor": "white",
           "landcolor": "#E5ECF6",
           "showlakes": true,
           "showland": true,
           "subunitcolor": "white"
          },
          "hoverlabel": {
           "align": "left"
          },
          "hovermode": "closest",
          "mapbox": {
           "style": "light"
          },
          "paper_bgcolor": "white",
          "plot_bgcolor": "#E5ECF6",
          "polar": {
           "angularaxis": {
            "gridcolor": "white",
            "linecolor": "white",
            "ticks": ""
           },
           "bgcolor": "#E5ECF6",
           "radialaxis": {
            "gridcolor": "white",
            "linecolor": "white",
            "ticks": ""
           }
          },
          "scene": {
           "xaxis": {
            "backgroundcolor": "#E5ECF6",
            "gridcolor": "white",
            "gridwidth": 2,
            "linecolor": "white",
            "showbackground": true,
            "ticks": "",
            "zerolinecolor": "white"
           },
           "yaxis": {
            "backgroundcolor": "#E5ECF6",
            "gridcolor": "white",
            "gridwidth": 2,
            "linecolor": "white",
            "showbackground": true,
            "ticks": "",
            "zerolinecolor": "white"
           },
           "zaxis": {
            "backgroundcolor": "#E5ECF6",
            "gridcolor": "white",
            "gridwidth": 2,
            "linecolor": "white",
            "showbackground": true,
            "ticks": "",
            "zerolinecolor": "white"
           }
          },
          "shapedefaults": {
           "line": {
            "color": "#2a3f5f"
           }
          },
          "ternary": {
           "aaxis": {
            "gridcolor": "white",
            "linecolor": "white",
            "ticks": ""
           },
           "baxis": {
            "gridcolor": "white",
            "linecolor": "white",
            "ticks": ""
           },
           "bgcolor": "#E5ECF6",
           "caxis": {
            "gridcolor": "white",
            "linecolor": "white",
            "ticks": ""
           }
          },
          "title": {
           "x": 0.05
          },
          "xaxis": {
           "automargin": true,
           "gridcolor": "white",
           "linecolor": "white",
           "ticks": "",
           "title": {
            "standoff": 15
           },
           "zerolinecolor": "white",
           "zerolinewidth": 2
          },
          "yaxis": {
           "automargin": true,
           "gridcolor": "white",
           "linecolor": "white",
           "ticks": "",
           "title": {
            "standoff": 15
           },
           "zerolinecolor": "white",
           "zerolinewidth": 2
          }
         }
        }
       }
      },
      "text/html": [
       "<div>\n",
       "        \n",
       "        \n",
       "            <div id=\"1ec58be7-3e16-4a75-9d7c-3b4d853627fb\" class=\"plotly-graph-div\" style=\"height:525px; width:100%;\"></div>\n",
       "            <script type=\"text/javascript\">\n",
       "                require([\"plotly\"], function(Plotly) {\n",
       "                    window.PLOTLYENV=window.PLOTLYENV || {};\n",
       "                    \n",
       "                if (document.getElementById(\"1ec58be7-3e16-4a75-9d7c-3b4d853627fb\")) {\n",
       "                    Plotly.newPlot(\n",
       "                        '1ec58be7-3e16-4a75-9d7c-3b4d853627fb',\n",
       "                        [{\"error_y\": {\"array\": [12652.261635770896, 0.0, 2799.435746717542, 42170.43421640332, 19442.608055505312, 11430.38111788054, 17326.237459413973, 17524.934464927395, 18881.872378024378, 14429.928083673874, 0.0, 24084.764073994997, 14335.882881776064, 4913.685022465319, 4100.512224100789, 2574.5757903002195, 8551.749411670105, 0.0, 43337.16040536112, 0.0, 23014.91151405975, 0.0, 55023.5141780312, 224.15284963613556, 12520.03266768901, 7969.09342397239, 8498.009296299928, 6116.473657263636, 6223.953888003991, 13645.039556556807, 16909.044458513912, 53479.90007470096, 7068.239384740729, 9667.563912382479, 1081.1662684342311, 9131.576972243074, 0.0, 8459.825530115855, 16375.885945499254, 70614.51159641339, 22051.83207808367, 6791.053526515602, 4803.473777729335, 0.0, 66867.55276290586, 1018.2337649086285, 17645.142617729107, 12292.344284146942, 10423.461061470896, 10238.199084800022, 41975.97985157702, 666.0945878777278, 10253.755433986125, 3194.001330619635, 881.7621561396247, 11527.783582863332, 0.0, 15537.25730301201, 24472.258590085225, 149155.69020992797, 4352.949344984387, 13136.62978088368, 4531.847360624583], \"type\": \"data\"}, \"name\": \"span 0.05_0\", \"type\": \"bar\", \"x\": [\"H3K4me2_ChIPSeq_CCR4Neg-Donor1\", \"H3K4me2_ChIPSeq_CCR4Neg-Donor11\", \"H3K4me2_ChIPSeq_CCR4Neg-Donor12\", \"H3K4me2_ChIPSeq_CCR4Neg-Donor13\", \"H3K4me2_ChIPSeq_CCR4Neg-Donor14\", \"H3K4me2_ChIPSeq_CCR4Neg-Donor15\", \"H3K4me2_ChIPSeq_CCR4Neg-Donor16\", \"H3K4me2_ChIPSeq_CCR4Neg-Donor17\", \"H3K4me2_ChIPSeq_CCR4Neg-Donor18\", \"H3K4me2_ChIPSeq_CCR4Neg-Donor19\", \"H3K4me2_ChIPSeq_CCR4Neg-Donor20\", \"H3K4me2_ChIPSeq_CCR4Neg-Donor21\", \"H3K4me2_ChIPSeq_CCR4Neg-Donor22\", \"H3K4me2_ChIPSeq_CCR4Neg-Donor23\", \"H3K4me2_ChIPSeq_CCR4Neg-Donor4\", \"H3K4me2_ChIPSeq_CCR4Neg-Donor5\", \"H3K4me2_ChIPSeq_CCR4Neg-Donor6\", \"H3K4me2_ChIPSeq_CCR4Neg-Donor7\", \"H3K4me2_ChIPSeq_CCR4Neg-Donor8\", \"H3K4me2_ChIPSeq_CCR4Neg-Donor9\", \"H3K4me2_ChIPSeq_CCR4pos-Donor1\", \"H3K4me2_ChIPSeq_CCR4pos-Donor10\", \"H3K4me2_ChIPSeq_CCR4pos-Donor11\", \"H3K4me2_ChIPSeq_CCR4pos-Donor12\", \"H3K4me2_ChIPSeq_CCR4pos-Donor13\", \"H3K4me2_ChIPSeq_CCR4pos-Donor14\", \"H3K4me2_ChIPSeq_CCR4pos-Donor15\", \"H3K4me2_ChIPSeq_CCR4pos-Donor16\", \"H3K4me2_ChIPSeq_CCR4pos-Donor17\", \"H3K4me2_ChIPSeq_CCR4pos-Donor18\", \"H3K4me2_ChIPSeq_CCR4pos-Donor19\", \"H3K4me2_ChIPSeq_CCR4pos-Donor2\", \"H3K4me2_ChIPSeq_CCR4pos-Donor20\", \"H3K4me2_ChIPSeq_CCR4pos-Donor21\", \"H3K4me2_ChIPSeq_CCR4pos-Donor22\", \"H3K4me2_ChIPSeq_CCR4pos-Donor23\", \"H3K4me2_ChIPSeq_CCR4pos-Donor3\", \"H3K4me2_ChIPSeq_CCR4pos-Donor4\", \"H3K4me2_ChIPSeq_CCR4pos-Donor5\", \"H3K4me2_ChIPSeq_CCR4pos-Donor7\", \"H3K4me2_ChIPSeq_CCR4pos-Donor8\", \"H3K4me2_ChIPSeq_CCR4pos-Donor9\", \"H3K4me2_ChIPSeq_Naive-Donor1\", \"H3K4me2_ChIPSeq_Naive-Donor10\", \"H3K4me2_ChIPSeq_Naive-Donor11\", \"H3K4me2_ChIPSeq_Naive-Donor12\", \"H3K4me2_ChIPSeq_Naive-Donor13\", \"H3K4me2_ChIPSeq_Naive-Donor14\", \"H3K4me2_ChIPSeq_Naive-Donor15\", \"H3K4me2_ChIPSeq_Naive-Donor16\", \"H3K4me2_ChIPSeq_Naive-Donor17\", \"H3K4me2_ChIPSeq_Naive-Donor18\", \"H3K4me2_ChIPSeq_Naive-Donor19\", \"H3K4me2_ChIPSeq_Naive-Donor2\", \"H3K4me2_ChIPSeq_Naive-Donor20\", \"H3K4me2_ChIPSeq_Naive-Donor21\", \"H3K4me2_ChIPSeq_Naive-Donor22\", \"H3K4me2_ChIPSeq_Naive-Donor23\", \"H3K4me2_ChIPSeq_Naive-Donor3\", \"H3K4me2_ChIPSeq_Naive-Donor5\", \"H3K4me2_ChIPSeq_Naive-Donor7\", \"H3K4me2_ChIPSeq_Naive-Donor8\", \"H3K4me2_ChIPSeq_Naive-Donor9\"], \"y\": [93813.5, 89984.0, 88224.5, 121704.0, 97122.0, 87295.5, 84361.5, 100320.0, 175484.5, 101210.5, 87723.0, 75107.5, 64608.0, 83261.5, 72727.5, 76563.5, 80836.0, 113919.0, 126356.0, 65609.0, 65008.0, 96555.0, 94958.5, 51873.5, 53258.0, 56644.0, 73741.0, 58070.0, 56780.0, 69210.5, 73295.5, 92547.0, 67998.0, 63173.0, 48300.5, 55710.0, 56010.0, 66973.0, 71123.5, 109950.0, 72427.0, 56451.0, 65312.333333333336, 69815.0, 109350.5, 64973.0, 72689.0, 83029.0, 65038.5, 65933.5, 90959.5, 64747.0, 55587.5, 54473.5, 74169.5, 71862.66666666667, 73572.0, 59870.5, 86298.5, 166365.0, 70066.0, 81734.0, 60792.5]}, {\"error_y\": {\"array\": [11188.55059871474, 0.0, 2602.8600615476817, 35667.88025661183, 16747.117005622193, 10736.709365536537, 15642.616213408804, 14918.53886947378, 14332.347347870133, 12836.816505660583, 0.0, 21379.373529175264, 12766.10582754193, 4497.906235127629, 3705.9466401986956, 2194.152342021857, 7353.9105243400945, 0.0, 33761.5203745329, 0.0, 20354.06869645477, 0.0, 44891.38111040916, 299.8132752230961, 11660.19082176617, 7609.883179129624, 7451.491260143838, 5611.599415496441, 5705.644617394252, 12214.562538216422, 15402.199907805378, 44754.909501640155, 6678.623548306941, 8355.173726500245, 909.3393206059001, 8471.846345396027, 0.0, 7559.678597665379, 14348.610803837422, 56438.434847185476, 18215.070683365466, 5757.26341242087, 4209.413300370176, 0.0, 57004.120272134714, 1078.337841309485, 15792.522851020352, 11051.371883164551, 9377.650132095992, 9195.216582549863, 33723.33660834882, 689.4291116568838, 9619.480651261792, 2922.472326644001, 857.0134187980956, 10471.655185945216, 0.0, 13975.965530152112, 21056.225730173013, 111532.65970333533, 3384.2130547588163, 11055.614523851671, 4011.4167696712843], \"type\": \"data\"}, \"name\": \"span 0.05_5\", \"type\": \"bar\", \"x\": [\"H3K4me2_ChIPSeq_CCR4Neg-Donor1\", \"H3K4me2_ChIPSeq_CCR4Neg-Donor11\", \"H3K4me2_ChIPSeq_CCR4Neg-Donor12\", \"H3K4me2_ChIPSeq_CCR4Neg-Donor13\", \"H3K4me2_ChIPSeq_CCR4Neg-Donor14\", \"H3K4me2_ChIPSeq_CCR4Neg-Donor15\", \"H3K4me2_ChIPSeq_CCR4Neg-Donor16\", \"H3K4me2_ChIPSeq_CCR4Neg-Donor17\", \"H3K4me2_ChIPSeq_CCR4Neg-Donor18\", \"H3K4me2_ChIPSeq_CCR4Neg-Donor19\", \"H3K4me2_ChIPSeq_CCR4Neg-Donor20\", \"H3K4me2_ChIPSeq_CCR4Neg-Donor21\", \"H3K4me2_ChIPSeq_CCR4Neg-Donor22\", \"H3K4me2_ChIPSeq_CCR4Neg-Donor23\", \"H3K4me2_ChIPSeq_CCR4Neg-Donor4\", \"H3K4me2_ChIPSeq_CCR4Neg-Donor5\", \"H3K4me2_ChIPSeq_CCR4Neg-Donor6\", \"H3K4me2_ChIPSeq_CCR4Neg-Donor7\", \"H3K4me2_ChIPSeq_CCR4Neg-Donor8\", \"H3K4me2_ChIPSeq_CCR4Neg-Donor9\", \"H3K4me2_ChIPSeq_CCR4pos-Donor1\", \"H3K4me2_ChIPSeq_CCR4pos-Donor10\", \"H3K4me2_ChIPSeq_CCR4pos-Donor11\", \"H3K4me2_ChIPSeq_CCR4pos-Donor12\", \"H3K4me2_ChIPSeq_CCR4pos-Donor13\", \"H3K4me2_ChIPSeq_CCR4pos-Donor14\", \"H3K4me2_ChIPSeq_CCR4pos-Donor15\", \"H3K4me2_ChIPSeq_CCR4pos-Donor16\", \"H3K4me2_ChIPSeq_CCR4pos-Donor17\", \"H3K4me2_ChIPSeq_CCR4pos-Donor18\", \"H3K4me2_ChIPSeq_CCR4pos-Donor19\", \"H3K4me2_ChIPSeq_CCR4pos-Donor2\", \"H3K4me2_ChIPSeq_CCR4pos-Donor20\", \"H3K4me2_ChIPSeq_CCR4pos-Donor21\", \"H3K4me2_ChIPSeq_CCR4pos-Donor22\", \"H3K4me2_ChIPSeq_CCR4pos-Donor23\", \"H3K4me2_ChIPSeq_CCR4pos-Donor3\", \"H3K4me2_ChIPSeq_CCR4pos-Donor4\", \"H3K4me2_ChIPSeq_CCR4pos-Donor5\", \"H3K4me2_ChIPSeq_CCR4pos-Donor7\", \"H3K4me2_ChIPSeq_CCR4pos-Donor8\", \"H3K4me2_ChIPSeq_CCR4pos-Donor9\", \"H3K4me2_ChIPSeq_Naive-Donor1\", \"H3K4me2_ChIPSeq_Naive-Donor10\", \"H3K4me2_ChIPSeq_Naive-Donor11\", \"H3K4me2_ChIPSeq_Naive-Donor12\", \"H3K4me2_ChIPSeq_Naive-Donor13\", \"H3K4me2_ChIPSeq_Naive-Donor14\", \"H3K4me2_ChIPSeq_Naive-Donor15\", \"H3K4me2_ChIPSeq_Naive-Donor16\", \"H3K4me2_ChIPSeq_Naive-Donor17\", \"H3K4me2_ChIPSeq_Naive-Donor18\", \"H3K4me2_ChIPSeq_Naive-Donor19\", \"H3K4me2_ChIPSeq_Naive-Donor2\", \"H3K4me2_ChIPSeq_Naive-Donor20\", \"H3K4me2_ChIPSeq_Naive-Donor21\", \"H3K4me2_ChIPSeq_Naive-Donor22\", \"H3K4me2_ChIPSeq_Naive-Donor23\", \"H3K4me2_ChIPSeq_Naive-Donor3\", \"H3K4me2_ChIPSeq_Naive-Donor5\", \"H3K4me2_ChIPSeq_Naive-Donor7\", \"H3K4me2_ChIPSeq_Naive-Donor8\", \"H3K4me2_ChIPSeq_Naive-Donor9\"], \"y\": [87947.5, 84245.0, 83269.5, 110760.0, 89479.0, 82080.0, 79369.0, 93931.0, 151356.5, 94272.0, 82494.0, 70888.5, 61152.0, 78088.5, 69304.5, 72817.5, 76509.0, 105388.0, 112630.0, 62796.0, 61519.5, 87695.0, 85195.0, 50076.0, 50968.0, 54317.0, 69779.0, 55499.0, 54542.5, 65150.0, 69279.0, 84031.5, 64644.5, 60002.0, 46550.0, 53515.5, 53255.0, 63679.5, 67321.0, 97187.0, 67384.0, 54000.0, 62457.666666666664, 66438.0, 99766.0, 62169.5, 68742.0, 78344.5, 62110.0, 62830.0, 82223.0, 61792.5, 53500.0, 52364.5, 70493.0, 67934.33333333333, 69366.0, 57328.5, 80692.0, 136956.5, 66363.0, 76741.5, 58231.5]}, {\"error_y\": {\"array\": [4025.558905295015, 0.0, 560.7356774809322, 2123.4416639032024, 3172.788127184039, 1998.99087041437, 3333.301366513385, 738.2194795587557, 1950.9076092936846, 10619.32963985957, 0.0, 1294.005409571382, 2736.503243191939, 2375.171678005613, 3799.2847353153197, 6586.69966675269, 6506.089493697424, 0.0, 10651.149445012965, 0.0, 7823.429427047962, 0.0, 1738.7755749377204, 2874.389065523316, 6458.0062325767385, 4251.833075274711, 459.6194077712559, 5926.261933124455, 7141.77848998413, 865.4987001723342, 6063.440648674645, 5759.38473276443, 7216.024702008717, 9475.230867899736, 469.51890270786754, 2184.959953866432, 0.0, 8564.477333731464, 10536.598146460745, 7518.66640435656, 8380.629570622961, 12314.264594363725, 11023.202136100623, 0.0, 8305.676251817187, 1344.209991035627, 359.21024484276614, 2076.0655095637035, 2075.358402782517, 4960.354070023631, 5125.109950040096, 948.2301935711603, 3268.954649425409, 226.98127676088177, 494.26764004939673, 4421.797183649803, 0.0, 12168.600597439296, 5309.664819929785, 5396.638954015731, 11837.674623843992, 9800.499987245548, 9821.713190681145], \"type\": \"data\"}, \"name\": \"span 1e-06_5\", \"type\": \"bar\", \"x\": [\"H3K4me2_ChIPSeq_CCR4Neg-Donor1\", \"H3K4me2_ChIPSeq_CCR4Neg-Donor11\", \"H3K4me2_ChIPSeq_CCR4Neg-Donor12\", \"H3K4me2_ChIPSeq_CCR4Neg-Donor13\", \"H3K4me2_ChIPSeq_CCR4Neg-Donor14\", \"H3K4me2_ChIPSeq_CCR4Neg-Donor15\", \"H3K4me2_ChIPSeq_CCR4Neg-Donor16\", \"H3K4me2_ChIPSeq_CCR4Neg-Donor17\", \"H3K4me2_ChIPSeq_CCR4Neg-Donor18\", \"H3K4me2_ChIPSeq_CCR4Neg-Donor19\", \"H3K4me2_ChIPSeq_CCR4Neg-Donor20\", \"H3K4me2_ChIPSeq_CCR4Neg-Donor21\", \"H3K4me2_ChIPSeq_CCR4Neg-Donor22\", \"H3K4me2_ChIPSeq_CCR4Neg-Donor23\", \"H3K4me2_ChIPSeq_CCR4Neg-Donor4\", \"H3K4me2_ChIPSeq_CCR4Neg-Donor5\", \"H3K4me2_ChIPSeq_CCR4Neg-Donor6\", \"H3K4me2_ChIPSeq_CCR4Neg-Donor7\", \"H3K4me2_ChIPSeq_CCR4Neg-Donor8\", \"H3K4me2_ChIPSeq_CCR4Neg-Donor9\", \"H3K4me2_ChIPSeq_CCR4pos-Donor1\", \"H3K4me2_ChIPSeq_CCR4pos-Donor10\", \"H3K4me2_ChIPSeq_CCR4pos-Donor11\", \"H3K4me2_ChIPSeq_CCR4pos-Donor12\", \"H3K4me2_ChIPSeq_CCR4pos-Donor13\", \"H3K4me2_ChIPSeq_CCR4pos-Donor14\", \"H3K4me2_ChIPSeq_CCR4pos-Donor15\", \"H3K4me2_ChIPSeq_CCR4pos-Donor16\", \"H3K4me2_ChIPSeq_CCR4pos-Donor17\", \"H3K4me2_ChIPSeq_CCR4pos-Donor18\", \"H3K4me2_ChIPSeq_CCR4pos-Donor19\", \"H3K4me2_ChIPSeq_CCR4pos-Donor2\", \"H3K4me2_ChIPSeq_CCR4pos-Donor20\", \"H3K4me2_ChIPSeq_CCR4pos-Donor21\", \"H3K4me2_ChIPSeq_CCR4pos-Donor22\", \"H3K4me2_ChIPSeq_CCR4pos-Donor23\", \"H3K4me2_ChIPSeq_CCR4pos-Donor3\", \"H3K4me2_ChIPSeq_CCR4pos-Donor4\", \"H3K4me2_ChIPSeq_CCR4pos-Donor5\", \"H3K4me2_ChIPSeq_CCR4pos-Donor7\", \"H3K4me2_ChIPSeq_CCR4pos-Donor8\", \"H3K4me2_ChIPSeq_CCR4pos-Donor9\", \"H3K4me2_ChIPSeq_Naive-Donor1\", \"H3K4me2_ChIPSeq_Naive-Donor10\", \"H3K4me2_ChIPSeq_Naive-Donor11\", \"H3K4me2_ChIPSeq_Naive-Donor12\", \"H3K4me2_ChIPSeq_Naive-Donor13\", \"H3K4me2_ChIPSeq_Naive-Donor14\", \"H3K4me2_ChIPSeq_Naive-Donor15\", \"H3K4me2_ChIPSeq_Naive-Donor16\", \"H3K4me2_ChIPSeq_Naive-Donor17\", \"H3K4me2_ChIPSeq_Naive-Donor18\", \"H3K4me2_ChIPSeq_Naive-Donor19\", \"H3K4me2_ChIPSeq_Naive-Donor2\", \"H3K4me2_ChIPSeq_Naive-Donor20\", \"H3K4me2_ChIPSeq_Naive-Donor21\", \"H3K4me2_ChIPSeq_Naive-Donor22\", \"H3K4me2_ChIPSeq_Naive-Donor23\", \"H3K4me2_ChIPSeq_Naive-Donor3\", \"H3K4me2_ChIPSeq_Naive-Donor5\", \"H3K4me2_ChIPSeq_Naive-Donor7\", \"H3K4me2_ChIPSeq_Naive-Donor8\", \"H3K4me2_ChIPSeq_Naive-Donor9\"], \"y\": [21304.5, 13350.0, 25181.5, 10903.5, 10434.5, 22070.5, 14834.0, 24886.0, 7524.5, 19689.0, 30165.0, 16407.0, 15165.0, 18472.5, 34258.5, 28716.5, 26947.5, 10407.0, 13368.5, 14826.0, 19560.0, 9108.0, 8158.5, 27714.5, 13886.5, 22677.5, 27878.0, 30667.5, 27606.0, 11387.0, 24671.5, 11599.5, 25001.5, 20893.0, 21973.0, 32658.0, 14615.0, 25153.0, 26861.5, 12584.5, 13895.0, 25488.5, 29626.333333333332, 25865.0, 18650.0, 25870.5, 16354.0, 26781.0, 34164.5, 28747.5, 9119.0, 16114.5, 28127.5, 21778.5, 31055.5, 19725.333333333332, 8302.0, 30382.5, 26019.5, 11178.0, 21328.5, 16325.0, 20701.0]}],\n",
       "                        {\"barmode\": \"group\", \"template\": {\"data\": {\"bar\": [{\"error_x\": {\"color\": \"#2a3f5f\"}, \"error_y\": {\"color\": \"#2a3f5f\"}, \"marker\": {\"line\": {\"color\": \"#E5ECF6\", \"width\": 0.5}}, \"type\": \"bar\"}], \"barpolar\": [{\"marker\": {\"line\": {\"color\": \"#E5ECF6\", \"width\": 0.5}}, \"type\": \"barpolar\"}], \"carpet\": [{\"aaxis\": {\"endlinecolor\": \"#2a3f5f\", \"gridcolor\": \"white\", \"linecolor\": \"white\", \"minorgridcolor\": \"white\", \"startlinecolor\": \"#2a3f5f\"}, \"baxis\": {\"endlinecolor\": \"#2a3f5f\", \"gridcolor\": \"white\", \"linecolor\": \"white\", \"minorgridcolor\": \"white\", \"startlinecolor\": \"#2a3f5f\"}, \"type\": \"carpet\"}], \"choropleth\": [{\"colorbar\": {\"outlinewidth\": 0, \"ticks\": \"\"}, \"type\": \"choropleth\"}], \"contour\": [{\"colorbar\": {\"outlinewidth\": 0, \"ticks\": \"\"}, \"colorscale\": [[0.0, \"#0d0887\"], [0.1111111111111111, \"#46039f\"], [0.2222222222222222, \"#7201a8\"], [0.3333333333333333, \"#9c179e\"], [0.4444444444444444, \"#bd3786\"], [0.5555555555555556, \"#d8576b\"], [0.6666666666666666, \"#ed7953\"], [0.7777777777777778, \"#fb9f3a\"], [0.8888888888888888, \"#fdca26\"], [1.0, \"#f0f921\"]], \"type\": \"contour\"}], \"contourcarpet\": [{\"colorbar\": {\"outlinewidth\": 0, \"ticks\": \"\"}, \"type\": \"contourcarpet\"}], \"heatmap\": [{\"colorbar\": {\"outlinewidth\": 0, \"ticks\": \"\"}, \"colorscale\": [[0.0, \"#0d0887\"], [0.1111111111111111, \"#46039f\"], [0.2222222222222222, \"#7201a8\"], [0.3333333333333333, \"#9c179e\"], [0.4444444444444444, \"#bd3786\"], [0.5555555555555556, \"#d8576b\"], [0.6666666666666666, \"#ed7953\"], [0.7777777777777778, \"#fb9f3a\"], [0.8888888888888888, \"#fdca26\"], [1.0, \"#f0f921\"]], \"type\": \"heatmap\"}], \"heatmapgl\": [{\"colorbar\": {\"outlinewidth\": 0, \"ticks\": \"\"}, \"colorscale\": [[0.0, \"#0d0887\"], [0.1111111111111111, \"#46039f\"], [0.2222222222222222, \"#7201a8\"], [0.3333333333333333, \"#9c179e\"], [0.4444444444444444, \"#bd3786\"], [0.5555555555555556, \"#d8576b\"], [0.6666666666666666, \"#ed7953\"], [0.7777777777777778, \"#fb9f3a\"], [0.8888888888888888, \"#fdca26\"], [1.0, \"#f0f921\"]], \"type\": \"heatmapgl\"}], \"histogram\": [{\"marker\": {\"colorbar\": {\"outlinewidth\": 0, \"ticks\": \"\"}}, \"type\": \"histogram\"}], \"histogram2d\": [{\"colorbar\": {\"outlinewidth\": 0, \"ticks\": \"\"}, \"colorscale\": [[0.0, \"#0d0887\"], [0.1111111111111111, \"#46039f\"], [0.2222222222222222, \"#7201a8\"], [0.3333333333333333, \"#9c179e\"], [0.4444444444444444, \"#bd3786\"], [0.5555555555555556, \"#d8576b\"], [0.6666666666666666, \"#ed7953\"], [0.7777777777777778, \"#fb9f3a\"], [0.8888888888888888, \"#fdca26\"], [1.0, \"#f0f921\"]], \"type\": \"histogram2d\"}], \"histogram2dcontour\": [{\"colorbar\": {\"outlinewidth\": 0, \"ticks\": \"\"}, \"colorscale\": [[0.0, \"#0d0887\"], [0.1111111111111111, \"#46039f\"], [0.2222222222222222, \"#7201a8\"], [0.3333333333333333, \"#9c179e\"], [0.4444444444444444, \"#bd3786\"], [0.5555555555555556, \"#d8576b\"], [0.6666666666666666, \"#ed7953\"], [0.7777777777777778, \"#fb9f3a\"], [0.8888888888888888, \"#fdca26\"], [1.0, \"#f0f921\"]], \"type\": \"histogram2dcontour\"}], \"mesh3d\": [{\"colorbar\": {\"outlinewidth\": 0, \"ticks\": \"\"}, \"type\": \"mesh3d\"}], \"parcoords\": [{\"line\": {\"colorbar\": {\"outlinewidth\": 0, \"ticks\": \"\"}}, \"type\": \"parcoords\"}], \"pie\": [{\"automargin\": true, \"type\": \"pie\"}], \"scatter\": [{\"marker\": {\"colorbar\": {\"outlinewidth\": 0, \"ticks\": \"\"}}, \"type\": \"scatter\"}], \"scatter3d\": [{\"line\": {\"colorbar\": {\"outlinewidth\": 0, \"ticks\": \"\"}}, \"marker\": {\"colorbar\": {\"outlinewidth\": 0, \"ticks\": \"\"}}, \"type\": \"scatter3d\"}], \"scattercarpet\": [{\"marker\": {\"colorbar\": {\"outlinewidth\": 0, \"ticks\": \"\"}}, \"type\": \"scattercarpet\"}], \"scattergeo\": [{\"marker\": {\"colorbar\": {\"outlinewidth\": 0, \"ticks\": \"\"}}, \"type\": \"scattergeo\"}], \"scattergl\": [{\"marker\": {\"colorbar\": {\"outlinewidth\": 0, \"ticks\": \"\"}}, \"type\": \"scattergl\"}], \"scattermapbox\": [{\"marker\": {\"colorbar\": {\"outlinewidth\": 0, \"ticks\": \"\"}}, \"type\": \"scattermapbox\"}], \"scatterpolar\": [{\"marker\": {\"colorbar\": {\"outlinewidth\": 0, \"ticks\": \"\"}}, \"type\": \"scatterpolar\"}], \"scatterpolargl\": [{\"marker\": {\"colorbar\": {\"outlinewidth\": 0, \"ticks\": \"\"}}, \"type\": \"scatterpolargl\"}], \"scatterternary\": [{\"marker\": {\"colorbar\": {\"outlinewidth\": 0, \"ticks\": \"\"}}, \"type\": \"scatterternary\"}], \"surface\": [{\"colorbar\": {\"outlinewidth\": 0, \"ticks\": \"\"}, \"colorscale\": [[0.0, \"#0d0887\"], [0.1111111111111111, \"#46039f\"], [0.2222222222222222, \"#7201a8\"], [0.3333333333333333, \"#9c179e\"], [0.4444444444444444, \"#bd3786\"], [0.5555555555555556, \"#d8576b\"], [0.6666666666666666, \"#ed7953\"], [0.7777777777777778, \"#fb9f3a\"], [0.8888888888888888, \"#fdca26\"], [1.0, \"#f0f921\"]], \"type\": \"surface\"}], \"table\": [{\"cells\": {\"fill\": {\"color\": \"#EBF0F8\"}, \"line\": {\"color\": \"white\"}}, \"header\": {\"fill\": {\"color\": \"#C8D4E3\"}, \"line\": {\"color\": \"white\"}}, \"type\": \"table\"}]}, \"layout\": {\"annotationdefaults\": {\"arrowcolor\": \"#2a3f5f\", \"arrowhead\": 0, \"arrowwidth\": 1}, \"coloraxis\": {\"colorbar\": {\"outlinewidth\": 0, \"ticks\": \"\"}}, \"colorscale\": {\"diverging\": [[0, \"#8e0152\"], [0.1, \"#c51b7d\"], [0.2, \"#de77ae\"], [0.3, \"#f1b6da\"], [0.4, \"#fde0ef\"], [0.5, \"#f7f7f7\"], [0.6, \"#e6f5d0\"], [0.7, \"#b8e186\"], [0.8, \"#7fbc41\"], [0.9, \"#4d9221\"], [1, \"#276419\"]], \"sequential\": [[0.0, \"#0d0887\"], [0.1111111111111111, \"#46039f\"], [0.2222222222222222, \"#7201a8\"], [0.3333333333333333, \"#9c179e\"], [0.4444444444444444, \"#bd3786\"], [0.5555555555555556, \"#d8576b\"], [0.6666666666666666, \"#ed7953\"], [0.7777777777777778, \"#fb9f3a\"], [0.8888888888888888, \"#fdca26\"], [1.0, \"#f0f921\"]], \"sequentialminus\": [[0.0, \"#0d0887\"], [0.1111111111111111, \"#46039f\"], [0.2222222222222222, \"#7201a8\"], [0.3333333333333333, \"#9c179e\"], [0.4444444444444444, \"#bd3786\"], [0.5555555555555556, \"#d8576b\"], [0.6666666666666666, \"#ed7953\"], [0.7777777777777778, \"#fb9f3a\"], [0.8888888888888888, \"#fdca26\"], [1.0, \"#f0f921\"]]}, \"colorway\": [\"#636efa\", \"#EF553B\", \"#00cc96\", \"#ab63fa\", \"#FFA15A\", \"#19d3f3\", \"#FF6692\", \"#B6E880\", \"#FF97FF\", \"#FECB52\"], \"font\": {\"color\": \"#2a3f5f\"}, \"geo\": {\"bgcolor\": \"white\", \"lakecolor\": \"white\", \"landcolor\": \"#E5ECF6\", \"showlakes\": true, \"showland\": true, \"subunitcolor\": \"white\"}, \"hoverlabel\": {\"align\": \"left\"}, \"hovermode\": \"closest\", \"mapbox\": {\"style\": \"light\"}, \"paper_bgcolor\": \"white\", \"plot_bgcolor\": \"#E5ECF6\", \"polar\": {\"angularaxis\": {\"gridcolor\": \"white\", \"linecolor\": \"white\", \"ticks\": \"\"}, \"bgcolor\": \"#E5ECF6\", \"radialaxis\": {\"gridcolor\": \"white\", \"linecolor\": \"white\", \"ticks\": \"\"}}, \"scene\": {\"xaxis\": {\"backgroundcolor\": \"#E5ECF6\", \"gridcolor\": \"white\", \"gridwidth\": 2, \"linecolor\": \"white\", \"showbackground\": true, \"ticks\": \"\", \"zerolinecolor\": \"white\"}, \"yaxis\": {\"backgroundcolor\": \"#E5ECF6\", \"gridcolor\": \"white\", \"gridwidth\": 2, \"linecolor\": \"white\", \"showbackground\": true, \"ticks\": \"\", \"zerolinecolor\": \"white\"}, \"zaxis\": {\"backgroundcolor\": \"#E5ECF6\", \"gridcolor\": \"white\", \"gridwidth\": 2, \"linecolor\": \"white\", \"showbackground\": true, \"ticks\": \"\", \"zerolinecolor\": \"white\"}}, \"shapedefaults\": {\"line\": {\"color\": \"#2a3f5f\"}}, \"ternary\": {\"aaxis\": {\"gridcolor\": \"white\", \"linecolor\": \"white\", \"ticks\": \"\"}, \"baxis\": {\"gridcolor\": \"white\", \"linecolor\": \"white\", \"ticks\": \"\"}, \"bgcolor\": \"#E5ECF6\", \"caxis\": {\"gridcolor\": \"white\", \"linecolor\": \"white\", \"ticks\": \"\"}}, \"title\": {\"x\": 0.05}, \"xaxis\": {\"automargin\": true, \"gridcolor\": \"white\", \"linecolor\": \"white\", \"ticks\": \"\", \"title\": {\"standoff\": 15}, \"zerolinecolor\": \"white\", \"zerolinewidth\": 2}, \"yaxis\": {\"automargin\": true, \"gridcolor\": \"white\", \"linecolor\": \"white\", \"ticks\": \"\", \"title\": {\"standoff\": 15}, \"zerolinecolor\": \"white\", \"zerolinewidth\": 2}}}},\n",
       "                        {\"responsive\": true}\n",
       "                    ).then(function(){\n",
       "                            \n",
       "var gd = document.getElementById('1ec58be7-3e16-4a75-9d7c-3b4d853627fb');\n",
       "var x = new MutationObserver(function (mutations, observer) {{\n",
       "        var display = window.getComputedStyle(gd).display;\n",
       "        if (!display || display === 'none') {{\n",
       "            console.log([gd, 'removed!']);\n",
       "            Plotly.purge(gd);\n",
       "            observer.disconnect();\n",
       "        }}\n",
       "}});\n",
       "\n",
       "// Listen for the removal of the full notebook cells\n",
       "var notebookContainer = gd.closest('#notebook-container');\n",
       "if (notebookContainer) {{\n",
       "    x.observe(notebookContainer, {childList: true});\n",
       "}}\n",
       "\n",
       "// Listen for the clearing of the current output cell\n",
       "var outputEl = gd.closest('.output');\n",
       "if (outputEl) {{\n",
       "    x.observe(outputEl, {childList: true});\n",
       "}}\n",
       "\n",
       "                        })\n",
       "                };\n",
       "                });\n",
       "            </script>\n",
       "        </div>"
      ]
     },
     "metadata": {},
     "output_type": "display_data"
    }
   ],
   "source": [
    "fig = go.Figure()\n",
    "for l in sorted(set(dfs['level'])):\n",
    "    fig.add_trace(go.Bar(\n",
    "        name=l,\n",
    "        x=dfs_mean.loc[dfs_mean['level']==l]['name'], \n",
    "        y=dfs_mean.loc[dfs_mean['level']==l]['peaks'],\n",
    "        error_y=dict(type='data', array=dfs_std.loc[dfs_std['level']==l]['peaks'])\n",
    "    ))\n",
    "fig.update_layout(barmode='group')\n",
    "fig.show()"
   ]
  },
  {
   "cell_type": "markdown",
   "metadata": {},
   "source": [
    "## Overlaps"
   ]
  },
  {
   "cell_type": "code",
   "execution_count": 137,
   "metadata": {
    "ExecuteTime": {
     "end_time": "2019-03-07T11:41:29.786456Z",
     "start_time": "2019-03-07T11:40:42.300976Z"
    },
    "scrolled": true
   },
   "outputs": [
    {
     "name": "stdout",
     "output_type": "stream",
     "text": [
      "Processing H3K4me2_ChIPSeq_Naive-Donor2 span 0.05_0\n",
      "Calculating metrics:  /tmp/overlap_H3K4me2_ChIPSeq_Naive-Donor2_span 0.05_0.tsv\n",
      "  [Saved] /tmp/overlap_H3K4me2_ChIPSeq_Naive-Donor2_span 0.05_0.tsv\n",
      "Processing H3K4me2_ChIPSeq_Naive-Donor2 span 0.05_5\n",
      "Calculating metrics:  /tmp/overlap_H3K4me2_ChIPSeq_Naive-Donor2_span 0.05_5.tsv\n",
      "  [Saved] /tmp/overlap_H3K4me2_ChIPSeq_Naive-Donor2_span 0.05_5.tsv\n",
      "Processing H3K4me2_ChIPSeq_Naive-Donor2 span 1e-06_5\n",
      "Calculating metrics:  /tmp/overlap_H3K4me2_ChIPSeq_Naive-Donor2_span 1e-06_5.tsv\n",
      "  [Saved] /tmp/overlap_H3K4me2_ChIPSeq_Naive-Donor2_span 1e-06_5.tsv\n",
      "Processing H3K4me2_ChIPSeq_CCR4Neg-Donor12 span 0.05_0\n",
      "Calculating metrics:  /tmp/overlap_H3K4me2_ChIPSeq_CCR4Neg-Donor12_span 0.05_0.tsv\n",
      "  [Saved] /tmp/overlap_H3K4me2_ChIPSeq_CCR4Neg-Donor12_span 0.05_0.tsv\n",
      "Processing H3K4me2_ChIPSeq_CCR4Neg-Donor12 span 0.05_5\n",
      "Calculating metrics:  /tmp/overlap_H3K4me2_ChIPSeq_CCR4Neg-Donor12_span 0.05_5.tsv\n",
      "  [Saved] /tmp/overlap_H3K4me2_ChIPSeq_CCR4Neg-Donor12_span 0.05_5.tsv\n",
      "Processing H3K4me2_ChIPSeq_CCR4Neg-Donor12 span 1e-06_5\n",
      "Calculating metrics:  /tmp/overlap_H3K4me2_ChIPSeq_CCR4Neg-Donor12_span 1e-06_5.tsv\n",
      "  [Saved] /tmp/overlap_H3K4me2_ChIPSeq_CCR4Neg-Donor12_span 1e-06_5.tsv\n",
      "Processing H3K4me2_ChIPSeq_CCR4pos-Donor17 span 0.05_0\n",
      "Calculating metrics:  /tmp/overlap_H3K4me2_ChIPSeq_CCR4pos-Donor17_span 0.05_0.tsv\n",
      "  [Saved] /tmp/overlap_H3K4me2_ChIPSeq_CCR4pos-Donor17_span 0.05_0.tsv\n",
      "Processing H3K4me2_ChIPSeq_CCR4pos-Donor17 span 0.05_5\n",
      "Calculating metrics:  /tmp/overlap_H3K4me2_ChIPSeq_CCR4pos-Donor17_span 0.05_5.tsv\n",
      "  [Saved] /tmp/overlap_H3K4me2_ChIPSeq_CCR4pos-Donor17_span 0.05_5.tsv\n",
      "Processing H3K4me2_ChIPSeq_CCR4pos-Donor17 span 1e-06_5\n",
      "Calculating metrics:  /tmp/overlap_H3K4me2_ChIPSeq_CCR4pos-Donor17_span 1e-06_5.tsv\n",
      "  [Saved] /tmp/overlap_H3K4me2_ChIPSeq_CCR4pos-Donor17_span 1e-06_5.tsv\n",
      "Processing H3K4me2_ChIPSeq_Naive-Donor22 span 0.05_0\n",
      "Calculating metrics:  /tmp/overlap_H3K4me2_ChIPSeq_Naive-Donor22_span 0.05_0.tsv\n",
      "  [Saved] /tmp/overlap_H3K4me2_ChIPSeq_Naive-Donor22_span 0.05_0.tsv\n",
      "Processing H3K4me2_ChIPSeq_Naive-Donor22 span 0.05_5\n",
      "Calculating metrics:  /tmp/overlap_H3K4me2_ChIPSeq_Naive-Donor22_span 0.05_5.tsv\n",
      "  [Saved] /tmp/overlap_H3K4me2_ChIPSeq_Naive-Donor22_span 0.05_5.tsv\n",
      "Processing H3K4me2_ChIPSeq_Naive-Donor22 span 1e-06_5\n",
      "Calculating metrics:  /tmp/overlap_H3K4me2_ChIPSeq_Naive-Donor22_span 1e-06_5.tsv\n",
      "  [Saved] /tmp/overlap_H3K4me2_ChIPSeq_Naive-Donor22_span 1e-06_5.tsv\n",
      "Processing H3K4me2_ChIPSeq_CCR4Neg-Donor22 span 0.05_0\n",
      "Calculating metrics:  /tmp/overlap_H3K4me2_ChIPSeq_CCR4Neg-Donor22_span 0.05_0.tsv\n",
      "  [Saved] /tmp/overlap_H3K4me2_ChIPSeq_CCR4Neg-Donor22_span 0.05_0.tsv\n",
      "Processing H3K4me2_ChIPSeq_CCR4Neg-Donor22 span 0.05_5\n",
      "Calculating metrics:  /tmp/overlap_H3K4me2_ChIPSeq_CCR4Neg-Donor22_span 0.05_5.tsv\n",
      "  [Saved] /tmp/overlap_H3K4me2_ChIPSeq_CCR4Neg-Donor22_span 0.05_5.tsv\n",
      "Processing H3K4me2_ChIPSeq_CCR4Neg-Donor22 span 1e-06_5\n",
      "Calculating metrics:  /tmp/overlap_H3K4me2_ChIPSeq_CCR4Neg-Donor22_span 1e-06_5.tsv\n",
      "  [Saved] /tmp/overlap_H3K4me2_ChIPSeq_CCR4Neg-Donor22_span 1e-06_5.tsv\n",
      "Processing H3K4me2_ChIPSeq_CCR4pos-Donor14 span 0.05_0\n",
      "Calculating metrics:  /tmp/overlap_H3K4me2_ChIPSeq_CCR4pos-Donor14_span 0.05_0.tsv\n",
      "  [Saved] /tmp/overlap_H3K4me2_ChIPSeq_CCR4pos-Donor14_span 0.05_0.tsv\n",
      "Processing H3K4me2_ChIPSeq_CCR4pos-Donor14 span 0.05_5\n",
      "Calculating metrics:  /tmp/overlap_H3K4me2_ChIPSeq_CCR4pos-Donor14_span 0.05_5.tsv\n",
      "  [Saved] /tmp/overlap_H3K4me2_ChIPSeq_CCR4pos-Donor14_span 0.05_5.tsv\n",
      "Processing H3K4me2_ChIPSeq_CCR4pos-Donor14 span 1e-06_5\n",
      "Calculating metrics:  /tmp/overlap_H3K4me2_ChIPSeq_CCR4pos-Donor14_span 1e-06_5.tsv\n",
      "  [Saved] /tmp/overlap_H3K4me2_ChIPSeq_CCR4pos-Donor14_span 1e-06_5.tsv\n",
      "Processing H3K4me2_ChIPSeq_CCR4pos-Donor8 span 0.05_0\n",
      "Calculating metrics:  /tmp/overlap_H3K4me2_ChIPSeq_CCR4pos-Donor8_span 0.05_0.tsv\n",
      "  [Saved] /tmp/overlap_H3K4me2_ChIPSeq_CCR4pos-Donor8_span 0.05_0.tsv\n",
      "Processing H3K4me2_ChIPSeq_CCR4pos-Donor8 span 0.05_5\n",
      "Calculating metrics:  /tmp/overlap_H3K4me2_ChIPSeq_CCR4pos-Donor8_span 0.05_5.tsv\n",
      "  [Saved] /tmp/overlap_H3K4me2_ChIPSeq_CCR4pos-Donor8_span 0.05_5.tsv\n",
      "Processing H3K4me2_ChIPSeq_CCR4pos-Donor8 span 1e-06_5\n",
      "Calculating metrics:  /tmp/overlap_H3K4me2_ChIPSeq_CCR4pos-Donor8_span 1e-06_5.tsv\n",
      "  [Saved] /tmp/overlap_H3K4me2_ChIPSeq_CCR4pos-Donor8_span 1e-06_5.tsv\n",
      "Processing H3K4me2_ChIPSeq_Naive-Donor15 span 0.05_0\n",
      "Calculating metrics:  /tmp/overlap_H3K4me2_ChIPSeq_Naive-Donor15_span 0.05_0.tsv\n",
      "  [Saved] /tmp/overlap_H3K4me2_ChIPSeq_Naive-Donor15_span 0.05_0.tsv\n",
      "Processing H3K4me2_ChIPSeq_Naive-Donor15 span 0.05_5\n",
      "Calculating metrics:  /tmp/overlap_H3K4me2_ChIPSeq_Naive-Donor15_span 0.05_5.tsv\n",
      "  [Saved] /tmp/overlap_H3K4me2_ChIPSeq_Naive-Donor15_span 0.05_5.tsv\n",
      "Processing H3K4me2_ChIPSeq_Naive-Donor15 span 1e-06_5\n",
      "Calculating metrics:  /tmp/overlap_H3K4me2_ChIPSeq_Naive-Donor15_span 1e-06_5.tsv\n",
      "  [Saved] /tmp/overlap_H3K4me2_ChIPSeq_Naive-Donor15_span 1e-06_5.tsv\n",
      "Processing H3K4me2_ChIPSeq_Naive-Donor9 span 0.05_0\n",
      "Calculating metrics:  /tmp/overlap_H3K4me2_ChIPSeq_Naive-Donor9_span 0.05_0.tsv\n",
      "  [Saved] /tmp/overlap_H3K4me2_ChIPSeq_Naive-Donor9_span 0.05_0.tsv\n",
      "Processing H3K4me2_ChIPSeq_Naive-Donor9 span 0.05_5\n",
      "Calculating metrics:  /tmp/overlap_H3K4me2_ChIPSeq_Naive-Donor9_span 0.05_5.tsv\n",
      "  [Saved] /tmp/overlap_H3K4me2_ChIPSeq_Naive-Donor9_span 0.05_5.tsv\n",
      "Processing H3K4me2_ChIPSeq_Naive-Donor9 span 1e-06_5\n",
      "Calculating metrics:  /tmp/overlap_H3K4me2_ChIPSeq_Naive-Donor9_span 1e-06_5.tsv\n",
      "  [Saved] /tmp/overlap_H3K4me2_ChIPSeq_Naive-Donor9_span 1e-06_5.tsv\n",
      "Processing H3K4me2_ChIPSeq_CCR4pos-Donor5 span 0.05_0\n",
      "Calculating metrics:  /tmp/overlap_H3K4me2_ChIPSeq_CCR4pos-Donor5_span 0.05_0.tsv\n",
      "  [Saved] /tmp/overlap_H3K4me2_ChIPSeq_CCR4pos-Donor5_span 0.05_0.tsv\n",
      "Processing H3K4me2_ChIPSeq_CCR4pos-Donor5 span 0.05_5\n",
      "Calculating metrics:  /tmp/overlap_H3K4me2_ChIPSeq_CCR4pos-Donor5_span 0.05_5.tsv\n",
      "  [Saved] /tmp/overlap_H3K4me2_ChIPSeq_CCR4pos-Donor5_span 0.05_5.tsv\n",
      "Processing H3K4me2_ChIPSeq_CCR4pos-Donor5 span 1e-06_5\n",
      "Calculating metrics:  /tmp/overlap_H3K4me2_ChIPSeq_CCR4pos-Donor5_span 1e-06_5.tsv\n",
      "  [Saved] /tmp/overlap_H3K4me2_ChIPSeq_CCR4pos-Donor5_span 1e-06_5.tsv\n",
      "Processing H3K4me2_ChIPSeq_CCR4Neg-Donor4 span 0.05_0\n",
      "Calculating metrics:  /tmp/overlap_H3K4me2_ChIPSeq_CCR4Neg-Donor4_span 0.05_0.tsv\n",
      "  [Saved] /tmp/overlap_H3K4me2_ChIPSeq_CCR4Neg-Donor4_span 0.05_0.tsv\n",
      "Processing H3K4me2_ChIPSeq_CCR4Neg-Donor4 span 0.05_5\n",
      "Calculating metrics:  /tmp/overlap_H3K4me2_ChIPSeq_CCR4Neg-Donor4_span 0.05_5.tsv\n",
      "  [Saved] /tmp/overlap_H3K4me2_ChIPSeq_CCR4Neg-Donor4_span 0.05_5.tsv\n",
      "Processing H3K4me2_ChIPSeq_CCR4Neg-Donor4 span 1e-06_5\n",
      "Calculating metrics:  /tmp/overlap_H3K4me2_ChIPSeq_CCR4Neg-Donor4_span 1e-06_5.tsv\n",
      "  [Saved] /tmp/overlap_H3K4me2_ChIPSeq_CCR4Neg-Donor4_span 1e-06_5.tsv\n",
      "Processing H3K4me2_ChIPSeq_CCR4Neg-Donor9 span 0.05_0\n",
      "Calculating metrics:  /tmp/overlap_H3K4me2_ChIPSeq_CCR4Neg-Donor9_span 0.05_0.tsv\n",
      "  [Saved] /tmp/overlap_H3K4me2_ChIPSeq_CCR4Neg-Donor9_span 0.05_0.tsv\n",
      "Processing H3K4me2_ChIPSeq_CCR4Neg-Donor9 span 0.05_5\n",
      "Calculating metrics:  /tmp/overlap_H3K4me2_ChIPSeq_CCR4Neg-Donor9_span 0.05_5.tsv\n",
      "  [Saved] /tmp/overlap_H3K4me2_ChIPSeq_CCR4Neg-Donor9_span 0.05_5.tsv\n",
      "Processing H3K4me2_ChIPSeq_CCR4Neg-Donor9 span 1e-06_5\n",
      "Calculating metrics:  /tmp/overlap_H3K4me2_ChIPSeq_CCR4Neg-Donor9_span 1e-06_5.tsv\n",
      "  [Saved] /tmp/overlap_H3K4me2_ChIPSeq_CCR4Neg-Donor9_span 1e-06_5.tsv\n",
      "Processing H3K4me2_ChIPSeq_Naive-Donor3 span 0.05_0\n",
      "Calculating metrics:  /tmp/overlap_H3K4me2_ChIPSeq_Naive-Donor3_span 0.05_0.tsv\n",
      "  [Saved] /tmp/overlap_H3K4me2_ChIPSeq_Naive-Donor3_span 0.05_0.tsv\n",
      "Processing H3K4me2_ChIPSeq_Naive-Donor3 span 0.05_5\n",
      "Calculating metrics:  /tmp/overlap_H3K4me2_ChIPSeq_Naive-Donor3_span 0.05_5.tsv\n",
      "  [Saved] /tmp/overlap_H3K4me2_ChIPSeq_Naive-Donor3_span 0.05_5.tsv\n",
      "Processing H3K4me2_ChIPSeq_Naive-Donor3 span 1e-06_5\n",
      "Calculating metrics:  /tmp/overlap_H3K4me2_ChIPSeq_Naive-Donor3_span 1e-06_5.tsv\n",
      "  [Saved] /tmp/overlap_H3K4me2_ChIPSeq_Naive-Donor3_span 1e-06_5.tsv\n",
      "Processing H3K4me2_ChIPSeq_Naive-Donor21 span 0.05_0\n",
      "Calculating metrics:  /tmp/overlap_H3K4me2_ChIPSeq_Naive-Donor21_span 0.05_0.tsv\n",
      "  [Saved] /tmp/overlap_H3K4me2_ChIPSeq_Naive-Donor21_span 0.05_0.tsv\n",
      "Processing H3K4me2_ChIPSeq_Naive-Donor21 span 0.05_5\n",
      "Calculating metrics:  /tmp/overlap_H3K4me2_ChIPSeq_Naive-Donor21_span 0.05_5.tsv\n"
     ]
    },
    {
     "name": "stdout",
     "output_type": "stream",
     "text": [
      "  [Saved] /tmp/overlap_H3K4me2_ChIPSeq_Naive-Donor21_span 0.05_5.tsv\n",
      "Processing H3K4me2_ChIPSeq_Naive-Donor21 span 1e-06_5\n",
      "Calculating metrics:  /tmp/overlap_H3K4me2_ChIPSeq_Naive-Donor21_span 1e-06_5.tsv\n",
      "  [Saved] /tmp/overlap_H3K4me2_ChIPSeq_Naive-Donor21_span 1e-06_5.tsv\n",
      "Processing H3K4me2_ChIPSeq_CCR4Neg-Donor21 span 0.05_0\n",
      "Calculating metrics:  /tmp/overlap_H3K4me2_ChIPSeq_CCR4Neg-Donor21_span 0.05_0.tsv\n",
      "  [Saved] /tmp/overlap_H3K4me2_ChIPSeq_CCR4Neg-Donor21_span 0.05_0.tsv\n",
      "Processing H3K4me2_ChIPSeq_CCR4Neg-Donor21 span 0.05_5\n",
      "Calculating metrics:  /tmp/overlap_H3K4me2_ChIPSeq_CCR4Neg-Donor21_span 0.05_5.tsv\n",
      "  [Saved] /tmp/overlap_H3K4me2_ChIPSeq_CCR4Neg-Donor21_span 0.05_5.tsv\n",
      "Processing H3K4me2_ChIPSeq_CCR4Neg-Donor21 span 1e-06_5\n",
      "Calculating metrics:  /tmp/overlap_H3K4me2_ChIPSeq_CCR4Neg-Donor21_span 1e-06_5.tsv\n",
      "  [Saved] /tmp/overlap_H3K4me2_ChIPSeq_CCR4Neg-Donor21_span 1e-06_5.tsv\n",
      "Processing H3K4me2_ChIPSeq_CCR4Neg-Donor7 span 0.05_0\n",
      "Calculating metrics:  /tmp/overlap_H3K4me2_ChIPSeq_CCR4Neg-Donor7_span 0.05_0.tsv\n",
      "  [Saved] /tmp/overlap_H3K4me2_ChIPSeq_CCR4Neg-Donor7_span 0.05_0.tsv\n",
      "Processing H3K4me2_ChIPSeq_CCR4Neg-Donor7 span 0.05_5\n",
      "Calculating metrics:  /tmp/overlap_H3K4me2_ChIPSeq_CCR4Neg-Donor7_span 0.05_5.tsv\n",
      "  [Saved] /tmp/overlap_H3K4me2_ChIPSeq_CCR4Neg-Donor7_span 0.05_5.tsv\n",
      "Processing H3K4me2_ChIPSeq_CCR4Neg-Donor7 span 1e-06_5\n",
      "Calculating metrics:  /tmp/overlap_H3K4me2_ChIPSeq_CCR4Neg-Donor7_span 1e-06_5.tsv\n",
      "  [Saved] /tmp/overlap_H3K4me2_ChIPSeq_CCR4Neg-Donor7_span 1e-06_5.tsv\n",
      "Processing H3K4me2_ChIPSeq_CCR4Neg-Donor18 span 0.05_0\n",
      "Calculating metrics:  /tmp/overlap_H3K4me2_ChIPSeq_CCR4Neg-Donor18_span 0.05_0.tsv\n",
      "  [Saved] /tmp/overlap_H3K4me2_ChIPSeq_CCR4Neg-Donor18_span 0.05_0.tsv\n",
      "Processing H3K4me2_ChIPSeq_CCR4Neg-Donor18 span 0.05_5\n",
      "Calculating metrics:  /tmp/overlap_H3K4me2_ChIPSeq_CCR4Neg-Donor18_span 0.05_5.tsv\n",
      "  [Saved] /tmp/overlap_H3K4me2_ChIPSeq_CCR4Neg-Donor18_span 0.05_5.tsv\n",
      "Processing H3K4me2_ChIPSeq_CCR4Neg-Donor18 span 1e-06_5\n",
      "Calculating metrics:  /tmp/overlap_H3K4me2_ChIPSeq_CCR4Neg-Donor18_span 1e-06_5.tsv\n",
      "  [Saved] /tmp/overlap_H3K4me2_ChIPSeq_CCR4Neg-Donor18_span 1e-06_5.tsv\n",
      "Processing H3K4me2_ChIPSeq_CCR4pos-Donor12 span 0.05_0\n",
      "Calculating metrics:  /tmp/overlap_H3K4me2_ChIPSeq_CCR4pos-Donor12_span 0.05_0.tsv\n",
      "  [Saved] /tmp/overlap_H3K4me2_ChIPSeq_CCR4pos-Donor12_span 0.05_0.tsv\n",
      "Processing H3K4me2_ChIPSeq_CCR4pos-Donor12 span 0.05_5\n",
      "Calculating metrics:  /tmp/overlap_H3K4me2_ChIPSeq_CCR4pos-Donor12_span 0.05_5.tsv\n",
      "  [Saved] /tmp/overlap_H3K4me2_ChIPSeq_CCR4pos-Donor12_span 0.05_5.tsv\n",
      "Processing H3K4me2_ChIPSeq_CCR4pos-Donor12 span 1e-06_5\n",
      "Calculating metrics:  /tmp/overlap_H3K4me2_ChIPSeq_CCR4pos-Donor12_span 1e-06_5.tsv\n",
      "  [Saved] /tmp/overlap_H3K4me2_ChIPSeq_CCR4pos-Donor12_span 1e-06_5.tsv\n",
      "Processing H3K4me2_ChIPSeq_CCR4pos-Donor2 span 0.05_0\n",
      "Calculating metrics:  /tmp/overlap_H3K4me2_ChIPSeq_CCR4pos-Donor2_span 0.05_0.tsv\n",
      "  [Saved] /tmp/overlap_H3K4me2_ChIPSeq_CCR4pos-Donor2_span 0.05_0.tsv\n",
      "Processing H3K4me2_ChIPSeq_CCR4pos-Donor2 span 0.05_5\n",
      "Calculating metrics:  /tmp/overlap_H3K4me2_ChIPSeq_CCR4pos-Donor2_span 0.05_5.tsv\n",
      "  [Saved] /tmp/overlap_H3K4me2_ChIPSeq_CCR4pos-Donor2_span 0.05_5.tsv\n",
      "Processing H3K4me2_ChIPSeq_CCR4pos-Donor2 span 1e-06_5\n",
      "Calculating metrics:  /tmp/overlap_H3K4me2_ChIPSeq_CCR4pos-Donor2_span 1e-06_5.tsv\n",
      "  [Saved] /tmp/overlap_H3K4me2_ChIPSeq_CCR4pos-Donor2_span 1e-06_5.tsv\n",
      "Processing H3K4me2_ChIPSeq_CCR4Neg-Donor1 span 0.05_0\n",
      "Calculating metrics:  /tmp/overlap_H3K4me2_ChIPSeq_CCR4Neg-Donor1_span 0.05_0.tsv\n",
      "  [Saved] /tmp/overlap_H3K4me2_ChIPSeq_CCR4Neg-Donor1_span 0.05_0.tsv\n",
      "Processing H3K4me2_ChIPSeq_CCR4Neg-Donor1 span 0.05_5\n",
      "Calculating metrics:  /tmp/overlap_H3K4me2_ChIPSeq_CCR4Neg-Donor1_span 0.05_5.tsv\n",
      "  [Saved] /tmp/overlap_H3K4me2_ChIPSeq_CCR4Neg-Donor1_span 0.05_5.tsv\n",
      "Processing H3K4me2_ChIPSeq_CCR4Neg-Donor1 span 1e-06_5\n",
      "Calculating metrics:  /tmp/overlap_H3K4me2_ChIPSeq_CCR4Neg-Donor1_span 1e-06_5.tsv\n",
      "  [Saved] /tmp/overlap_H3K4me2_ChIPSeq_CCR4Neg-Donor1_span 1e-06_5.tsv\n",
      "Processing H3K4me2_ChIPSeq_CCR4Neg-Donor20 span 0.05_0\n",
      "Calculating metrics:  /tmp/overlap_H3K4me2_ChIPSeq_CCR4Neg-Donor20_span 0.05_0.tsv\n",
      "  [Saved] /tmp/overlap_H3K4me2_ChIPSeq_CCR4Neg-Donor20_span 0.05_0.tsv\n",
      "Processing H3K4me2_ChIPSeq_CCR4Neg-Donor20 span 0.05_5\n",
      "Calculating metrics:  /tmp/overlap_H3K4me2_ChIPSeq_CCR4Neg-Donor20_span 0.05_5.tsv\n",
      "  [Saved] /tmp/overlap_H3K4me2_ChIPSeq_CCR4Neg-Donor20_span 0.05_5.tsv\n",
      "Processing H3K4me2_ChIPSeq_CCR4Neg-Donor20 span 1e-06_5\n",
      "Calculating metrics:  /tmp/overlap_H3K4me2_ChIPSeq_CCR4Neg-Donor20_span 1e-06_5.tsv\n",
      "  [Saved] /tmp/overlap_H3K4me2_ChIPSeq_CCR4Neg-Donor20_span 1e-06_5.tsv\n",
      "Processing H3K4me2_ChIPSeq_Naive-Donor20 span 0.05_0\n",
      "Calculating metrics:  /tmp/overlap_H3K4me2_ChIPSeq_Naive-Donor20_span 0.05_0.tsv\n",
      "  [Saved] /tmp/overlap_H3K4me2_ChIPSeq_Naive-Donor20_span 0.05_0.tsv\n",
      "Processing H3K4me2_ChIPSeq_Naive-Donor20 span 0.05_5\n",
      "Calculating metrics:  /tmp/overlap_H3K4me2_ChIPSeq_Naive-Donor20_span 0.05_5.tsv\n",
      "  [Saved] /tmp/overlap_H3K4me2_ChIPSeq_Naive-Donor20_span 0.05_5.tsv\n",
      "Processing H3K4me2_ChIPSeq_Naive-Donor20 span 1e-06_5\n",
      "Calculating metrics:  /tmp/overlap_H3K4me2_ChIPSeq_Naive-Donor20_span 1e-06_5.tsv\n",
      "  [Saved] /tmp/overlap_H3K4me2_ChIPSeq_Naive-Donor20_span 1e-06_5.tsv\n",
      "Processing H3K4me2_ChIPSeq_CCR4Neg-Donor14 span 0.05_0\n",
      "Calculating metrics:  /tmp/overlap_H3K4me2_ChIPSeq_CCR4Neg-Donor14_span 0.05_0.tsv\n",
      "  [Saved] /tmp/overlap_H3K4me2_ChIPSeq_CCR4Neg-Donor14_span 0.05_0.tsv\n",
      "Processing H3K4me2_ChIPSeq_CCR4Neg-Donor14 span 0.05_5\n",
      "Calculating metrics:  /tmp/overlap_H3K4me2_ChIPSeq_CCR4Neg-Donor14_span 0.05_5.tsv\n",
      "  [Saved] /tmp/overlap_H3K4me2_ChIPSeq_CCR4Neg-Donor14_span 0.05_5.tsv\n",
      "Processing H3K4me2_ChIPSeq_CCR4Neg-Donor14 span 1e-06_5\n",
      "Calculating metrics:  /tmp/overlap_H3K4me2_ChIPSeq_CCR4Neg-Donor14_span 1e-06_5.tsv\n",
      "  [Saved] /tmp/overlap_H3K4me2_ChIPSeq_CCR4Neg-Donor14_span 1e-06_5.tsv\n",
      "Processing H3K4me2_ChIPSeq_CCR4pos-Donor23 span 0.05_0\n",
      "Calculating metrics:  /tmp/overlap_H3K4me2_ChIPSeq_CCR4pos-Donor23_span 0.05_0.tsv\n",
      "  [Saved] /tmp/overlap_H3K4me2_ChIPSeq_CCR4pos-Donor23_span 0.05_0.tsv\n",
      "Processing H3K4me2_ChIPSeq_CCR4pos-Donor23 span 0.05_5\n",
      "Calculating metrics:  /tmp/overlap_H3K4me2_ChIPSeq_CCR4pos-Donor23_span 0.05_5.tsv\n",
      "  [Saved] /tmp/overlap_H3K4me2_ChIPSeq_CCR4pos-Donor23_span 0.05_5.tsv\n",
      "Processing H3K4me2_ChIPSeq_CCR4pos-Donor23 span 1e-06_5\n",
      "Calculating metrics:  /tmp/overlap_H3K4me2_ChIPSeq_CCR4pos-Donor23_span 1e-06_5.tsv\n",
      "  [Saved] /tmp/overlap_H3K4me2_ChIPSeq_CCR4pos-Donor23_span 1e-06_5.tsv\n",
      "Processing H3K4me2_ChIPSeq_CCR4Neg-Donor8 span 0.05_0\n",
      "Calculating metrics:  /tmp/overlap_H3K4me2_ChIPSeq_CCR4Neg-Donor8_span 0.05_0.tsv\n",
      "  [Saved] /tmp/overlap_H3K4me2_ChIPSeq_CCR4Neg-Donor8_span 0.05_0.tsv\n",
      "Processing H3K4me2_ChIPSeq_CCR4Neg-Donor8 span 0.05_5\n",
      "Calculating metrics:  /tmp/overlap_H3K4me2_ChIPSeq_CCR4Neg-Donor8_span 0.05_5.tsv\n",
      "  [Saved] /tmp/overlap_H3K4me2_ChIPSeq_CCR4Neg-Donor8_span 0.05_5.tsv\n",
      "Processing H3K4me2_ChIPSeq_CCR4Neg-Donor8 span 1e-06_5\n",
      "Calculating metrics:  /tmp/overlap_H3K4me2_ChIPSeq_CCR4Neg-Donor8_span 1e-06_5.tsv\n",
      "  [Saved] /tmp/overlap_H3K4me2_ChIPSeq_CCR4Neg-Donor8_span 1e-06_5.tsv\n",
      "Processing H3K4me2_ChIPSeq_Naive-Donor5 span 0.05_0\n",
      "Calculating metrics:  /tmp/overlap_H3K4me2_ChIPSeq_Naive-Donor5_span 0.05_0.tsv\n",
      "  [Saved] /tmp/overlap_H3K4me2_ChIPSeq_Naive-Donor5_span 0.05_0.tsv\n",
      "Processing H3K4me2_ChIPSeq_Naive-Donor5 span 0.05_5\n",
      "Calculating metrics:  /tmp/overlap_H3K4me2_ChIPSeq_Naive-Donor5_span 0.05_5.tsv\n",
      "  [Saved] /tmp/overlap_H3K4me2_ChIPSeq_Naive-Donor5_span 0.05_5.tsv\n",
      "Processing H3K4me2_ChIPSeq_Naive-Donor5 span 1e-06_5\n",
      "Calculating metrics:  /tmp/overlap_H3K4me2_ChIPSeq_Naive-Donor5_span 1e-06_5.tsv\n",
      "  [Saved] /tmp/overlap_H3K4me2_ChIPSeq_Naive-Donor5_span 1e-06_5.tsv\n",
      "Processing H3K4me2_ChIPSeq_Naive-Donor1 span 0.05_0\n",
      "Calculating metrics:  /tmp/overlap_H3K4me2_ChIPSeq_Naive-Donor1_span 0.05_0.tsv\n",
      "  [Saved] /tmp/overlap_H3K4me2_ChIPSeq_Naive-Donor1_span 0.05_0.tsv\n",
      "Processing H3K4me2_ChIPSeq_Naive-Donor1 span 0.05_5\n",
      "Calculating metrics:  /tmp/overlap_H3K4me2_ChIPSeq_Naive-Donor1_span 0.05_5.tsv\n",
      "  [Saved] /tmp/overlap_H3K4me2_ChIPSeq_Naive-Donor1_span 0.05_5.tsv\n",
      "Processing H3K4me2_ChIPSeq_Naive-Donor1 span 1e-06_5\n",
      "Calculating metrics:  /tmp/overlap_H3K4me2_ChIPSeq_Naive-Donor1_span 1e-06_5.tsv\n"
     ]
    },
    {
     "name": "stdout",
     "output_type": "stream",
     "text": [
      "  [Saved] /tmp/overlap_H3K4me2_ChIPSeq_Naive-Donor1_span 1e-06_5.tsv\n",
      "Processing H3K4me2_ChIPSeq_CCR4pos-Donor21 span 0.05_0\n",
      "Calculating metrics:  /tmp/overlap_H3K4me2_ChIPSeq_CCR4pos-Donor21_span 0.05_0.tsv\n",
      "  [Saved] /tmp/overlap_H3K4me2_ChIPSeq_CCR4pos-Donor21_span 0.05_0.tsv\n",
      "Processing H3K4me2_ChIPSeq_CCR4pos-Donor21 span 0.05_5\n",
      "Calculating metrics:  /tmp/overlap_H3K4me2_ChIPSeq_CCR4pos-Donor21_span 0.05_5.tsv\n",
      "  [Saved] /tmp/overlap_H3K4me2_ChIPSeq_CCR4pos-Donor21_span 0.05_5.tsv\n",
      "Processing H3K4me2_ChIPSeq_CCR4pos-Donor21 span 1e-06_5\n",
      "Calculating metrics:  /tmp/overlap_H3K4me2_ChIPSeq_CCR4pos-Donor21_span 1e-06_5.tsv\n",
      "  [Saved] /tmp/overlap_H3K4me2_ChIPSeq_CCR4pos-Donor21_span 1e-06_5.tsv\n",
      "Processing H3K4me2_ChIPSeq_Naive-Donor11 span 0.05_0\n",
      "Calculating metrics:  /tmp/overlap_H3K4me2_ChIPSeq_Naive-Donor11_span 0.05_0.tsv\n",
      "  [Saved] /tmp/overlap_H3K4me2_ChIPSeq_Naive-Donor11_span 0.05_0.tsv\n",
      "Processing H3K4me2_ChIPSeq_Naive-Donor11 span 0.05_5\n",
      "Calculating metrics:  /tmp/overlap_H3K4me2_ChIPSeq_Naive-Donor11_span 0.05_5.tsv\n",
      "  [Saved] /tmp/overlap_H3K4me2_ChIPSeq_Naive-Donor11_span 0.05_5.tsv\n",
      "Processing H3K4me2_ChIPSeq_Naive-Donor11 span 1e-06_5\n",
      "Calculating metrics:  /tmp/overlap_H3K4me2_ChIPSeq_Naive-Donor11_span 1e-06_5.tsv\n",
      "  [Saved] /tmp/overlap_H3K4me2_ChIPSeq_Naive-Donor11_span 1e-06_5.tsv\n",
      "Processing H3K4me2_ChIPSeq_CCR4pos-Donor13 span 0.05_0\n",
      "Calculating metrics:  /tmp/overlap_H3K4me2_ChIPSeq_CCR4pos-Donor13_span 0.05_0.tsv\n",
      "  [Saved] /tmp/overlap_H3K4me2_ChIPSeq_CCR4pos-Donor13_span 0.05_0.tsv\n",
      "Processing H3K4me2_ChIPSeq_CCR4pos-Donor13 span 0.05_5\n",
      "Calculating metrics:  /tmp/overlap_H3K4me2_ChIPSeq_CCR4pos-Donor13_span 0.05_5.tsv\n",
      "  [Saved] /tmp/overlap_H3K4me2_ChIPSeq_CCR4pos-Donor13_span 0.05_5.tsv\n",
      "Processing H3K4me2_ChIPSeq_CCR4pos-Donor13 span 1e-06_5\n",
      "Calculating metrics:  /tmp/overlap_H3K4me2_ChIPSeq_CCR4pos-Donor13_span 1e-06_5.tsv\n",
      "  [Saved] /tmp/overlap_H3K4me2_ChIPSeq_CCR4pos-Donor13_span 1e-06_5.tsv\n",
      "Processing H3K4me2_ChIPSeq_CCR4Neg-Donor13 span 0.05_0\n",
      "Calculating metrics:  /tmp/overlap_H3K4me2_ChIPSeq_CCR4Neg-Donor13_span 0.05_0.tsv\n",
      "  [Saved] /tmp/overlap_H3K4me2_ChIPSeq_CCR4Neg-Donor13_span 0.05_0.tsv\n",
      "Processing H3K4me2_ChIPSeq_CCR4Neg-Donor13 span 0.05_5\n",
      "Calculating metrics:  /tmp/overlap_H3K4me2_ChIPSeq_CCR4Neg-Donor13_span 0.05_5.tsv\n",
      "  [Saved] /tmp/overlap_H3K4me2_ChIPSeq_CCR4Neg-Donor13_span 0.05_5.tsv\n",
      "Processing H3K4me2_ChIPSeq_CCR4Neg-Donor13 span 1e-06_5\n",
      "Calculating metrics:  /tmp/overlap_H3K4me2_ChIPSeq_CCR4Neg-Donor13_span 1e-06_5.tsv\n",
      "  [Saved] /tmp/overlap_H3K4me2_ChIPSeq_CCR4Neg-Donor13_span 1e-06_5.tsv\n",
      "Processing H3K4me2_ChIPSeq_CCR4pos-Donor22 span 0.05_0\n",
      "Calculating metrics:  /tmp/overlap_H3K4me2_ChIPSeq_CCR4pos-Donor22_span 0.05_0.tsv\n",
      "  [Saved] /tmp/overlap_H3K4me2_ChIPSeq_CCR4pos-Donor22_span 0.05_0.tsv\n",
      "Processing H3K4me2_ChIPSeq_CCR4pos-Donor22 span 0.05_5\n",
      "Calculating metrics:  /tmp/overlap_H3K4me2_ChIPSeq_CCR4pos-Donor22_span 0.05_5.tsv\n",
      "  [Saved] /tmp/overlap_H3K4me2_ChIPSeq_CCR4pos-Donor22_span 0.05_5.tsv\n",
      "Processing H3K4me2_ChIPSeq_CCR4pos-Donor22 span 1e-06_5\n",
      "Calculating metrics:  /tmp/overlap_H3K4me2_ChIPSeq_CCR4pos-Donor22_span 1e-06_5.tsv\n",
      "  [Saved] /tmp/overlap_H3K4me2_ChIPSeq_CCR4pos-Donor22_span 1e-06_5.tsv\n",
      "Processing H3K4me2_ChIPSeq_CCR4Neg-Donor19 span 0.05_0\n",
      "Calculating metrics:  /tmp/overlap_H3K4me2_ChIPSeq_CCR4Neg-Donor19_span 0.05_0.tsv\n",
      "  [Saved] /tmp/overlap_H3K4me2_ChIPSeq_CCR4Neg-Donor19_span 0.05_0.tsv\n",
      "Processing H3K4me2_ChIPSeq_CCR4Neg-Donor19 span 0.05_5\n",
      "Calculating metrics:  /tmp/overlap_H3K4me2_ChIPSeq_CCR4Neg-Donor19_span 0.05_5.tsv\n",
      "  [Saved] /tmp/overlap_H3K4me2_ChIPSeq_CCR4Neg-Donor19_span 0.05_5.tsv\n",
      "Processing H3K4me2_ChIPSeq_CCR4Neg-Donor19 span 1e-06_5\n",
      "Calculating metrics:  /tmp/overlap_H3K4me2_ChIPSeq_CCR4Neg-Donor19_span 1e-06_5.tsv\n",
      "  [Saved] /tmp/overlap_H3K4me2_ChIPSeq_CCR4Neg-Donor19_span 1e-06_5.tsv\n",
      "Processing H3K4me2_ChIPSeq_CCR4pos-Donor1 span 0.05_0\n",
      "Calculating metrics:  /tmp/overlap_H3K4me2_ChIPSeq_CCR4pos-Donor1_span 0.05_0.tsv\n",
      "  [Saved] /tmp/overlap_H3K4me2_ChIPSeq_CCR4pos-Donor1_span 0.05_0.tsv\n",
      "Processing H3K4me2_ChIPSeq_CCR4pos-Donor1 span 0.05_5\n",
      "Calculating metrics:  /tmp/overlap_H3K4me2_ChIPSeq_CCR4pos-Donor1_span 0.05_5.tsv\n",
      "  [Saved] /tmp/overlap_H3K4me2_ChIPSeq_CCR4pos-Donor1_span 0.05_5.tsv\n",
      "Processing H3K4me2_ChIPSeq_CCR4pos-Donor1 span 1e-06_5\n",
      "Calculating metrics:  /tmp/overlap_H3K4me2_ChIPSeq_CCR4pos-Donor1_span 1e-06_5.tsv\n",
      "  [Saved] /tmp/overlap_H3K4me2_ChIPSeq_CCR4pos-Donor1_span 1e-06_5.tsv\n",
      "Processing H3K4me2_ChIPSeq_Naive-Donor12 span 0.05_0\n",
      "Calculating metrics:  /tmp/overlap_H3K4me2_ChIPSeq_Naive-Donor12_span 0.05_0.tsv\n",
      "  [Saved] /tmp/overlap_H3K4me2_ChIPSeq_Naive-Donor12_span 0.05_0.tsv\n",
      "Processing H3K4me2_ChIPSeq_Naive-Donor12 span 0.05_5\n",
      "Calculating metrics:  /tmp/overlap_H3K4me2_ChIPSeq_Naive-Donor12_span 0.05_5.tsv\n",
      "  [Saved] /tmp/overlap_H3K4me2_ChIPSeq_Naive-Donor12_span 0.05_5.tsv\n",
      "Processing H3K4me2_ChIPSeq_Naive-Donor12 span 1e-06_5\n",
      "Calculating metrics:  /tmp/overlap_H3K4me2_ChIPSeq_Naive-Donor12_span 1e-06_5.tsv\n",
      "  [Saved] /tmp/overlap_H3K4me2_ChIPSeq_Naive-Donor12_span 1e-06_5.tsv\n",
      "Processing H3K4me2_ChIPSeq_Naive-Donor8 span 0.05_0\n",
      "Calculating metrics:  /tmp/overlap_H3K4me2_ChIPSeq_Naive-Donor8_span 0.05_0.tsv\n",
      "  [Saved] /tmp/overlap_H3K4me2_ChIPSeq_Naive-Donor8_span 0.05_0.tsv\n",
      "Processing H3K4me2_ChIPSeq_Naive-Donor8 span 0.05_5\n",
      "Calculating metrics:  /tmp/overlap_H3K4me2_ChIPSeq_Naive-Donor8_span 0.05_5.tsv\n",
      "  [Saved] /tmp/overlap_H3K4me2_ChIPSeq_Naive-Donor8_span 0.05_5.tsv\n",
      "Processing H3K4me2_ChIPSeq_Naive-Donor8 span 1e-06_5\n",
      "Calculating metrics:  /tmp/overlap_H3K4me2_ChIPSeq_Naive-Donor8_span 1e-06_5.tsv\n",
      "  [Saved] /tmp/overlap_H3K4me2_ChIPSeq_Naive-Donor8_span 1e-06_5.tsv\n",
      "Processing H3K4me2_ChIPSeq_CCR4pos-Donor15 span 0.05_0\n",
      "Calculating metrics:  /tmp/overlap_H3K4me2_ChIPSeq_CCR4pos-Donor15_span 0.05_0.tsv\n",
      "  [Saved] /tmp/overlap_H3K4me2_ChIPSeq_CCR4pos-Donor15_span 0.05_0.tsv\n",
      "Processing H3K4me2_ChIPSeq_CCR4pos-Donor15 span 0.05_5\n",
      "Calculating metrics:  /tmp/overlap_H3K4me2_ChIPSeq_CCR4pos-Donor15_span 0.05_5.tsv\n",
      "  [Saved] /tmp/overlap_H3K4me2_ChIPSeq_CCR4pos-Donor15_span 0.05_5.tsv\n",
      "Processing H3K4me2_ChIPSeq_CCR4pos-Donor15 span 1e-06_5\n",
      "Calculating metrics:  /tmp/overlap_H3K4me2_ChIPSeq_CCR4pos-Donor15_span 1e-06_5.tsv\n",
      "  [Saved] /tmp/overlap_H3K4me2_ChIPSeq_CCR4pos-Donor15_span 1e-06_5.tsv\n",
      "Processing H3K4me2_ChIPSeq_Naive-Donor23 span 0.05_0\n",
      "Calculating metrics:  /tmp/overlap_H3K4me2_ChIPSeq_Naive-Donor23_span 0.05_0.tsv\n",
      "  [Saved] /tmp/overlap_H3K4me2_ChIPSeq_Naive-Donor23_span 0.05_0.tsv\n",
      "Processing H3K4me2_ChIPSeq_Naive-Donor23 span 0.05_5\n",
      "Calculating metrics:  /tmp/overlap_H3K4me2_ChIPSeq_Naive-Donor23_span 0.05_5.tsv\n",
      "  [Saved] /tmp/overlap_H3K4me2_ChIPSeq_Naive-Donor23_span 0.05_5.tsv\n",
      "Processing H3K4me2_ChIPSeq_Naive-Donor23 span 1e-06_5\n",
      "Calculating metrics:  /tmp/overlap_H3K4me2_ChIPSeq_Naive-Donor23_span 1e-06_5.tsv\n",
      "  [Saved] /tmp/overlap_H3K4me2_ChIPSeq_Naive-Donor23_span 1e-06_5.tsv\n",
      "Processing H3K4me2_ChIPSeq_CCR4Neg-Donor17 span 0.05_0\n",
      "Calculating metrics:  /tmp/overlap_H3K4me2_ChIPSeq_CCR4Neg-Donor17_span 0.05_0.tsv\n",
      "  [Saved] /tmp/overlap_H3K4me2_ChIPSeq_CCR4Neg-Donor17_span 0.05_0.tsv\n",
      "Processing H3K4me2_ChIPSeq_CCR4Neg-Donor17 span 0.05_5\n",
      "Calculating metrics:  /tmp/overlap_H3K4me2_ChIPSeq_CCR4Neg-Donor17_span 0.05_5.tsv\n",
      "  [Saved] /tmp/overlap_H3K4me2_ChIPSeq_CCR4Neg-Donor17_span 0.05_5.tsv\n",
      "Processing H3K4me2_ChIPSeq_CCR4Neg-Donor17 span 1e-06_5\n",
      "Calculating metrics:  /tmp/overlap_H3K4me2_ChIPSeq_CCR4Neg-Donor17_span 1e-06_5.tsv\n",
      "  [Saved] /tmp/overlap_H3K4me2_ChIPSeq_CCR4Neg-Donor17_span 1e-06_5.tsv\n",
      "Processing H3K4me2_ChIPSeq_Naive-Donor17 span 0.05_0\n",
      "Calculating metrics:  /tmp/overlap_H3K4me2_ChIPSeq_Naive-Donor17_span 0.05_0.tsv\n",
      "  [Saved] /tmp/overlap_H3K4me2_ChIPSeq_Naive-Donor17_span 0.05_0.tsv\n",
      "Processing H3K4me2_ChIPSeq_Naive-Donor17 span 0.05_5\n",
      "Calculating metrics:  /tmp/overlap_H3K4me2_ChIPSeq_Naive-Donor17_span 0.05_5.tsv\n",
      "  [Saved] /tmp/overlap_H3K4me2_ChIPSeq_Naive-Donor17_span 0.05_5.tsv\n",
      "Processing H3K4me2_ChIPSeq_Naive-Donor17 span 1e-06_5\n",
      "Calculating metrics:  /tmp/overlap_H3K4me2_ChIPSeq_Naive-Donor17_span 1e-06_5.tsv\n",
      "  [Saved] /tmp/overlap_H3K4me2_ChIPSeq_Naive-Donor17_span 1e-06_5.tsv\n",
      "Processing H3K4me2_ChIPSeq_Naive-Donor19 span 0.05_0\n",
      "Calculating metrics:  /tmp/overlap_H3K4me2_ChIPSeq_Naive-Donor19_span 0.05_0.tsv\n"
     ]
    },
    {
     "name": "stdout",
     "output_type": "stream",
     "text": [
      "  [Saved] /tmp/overlap_H3K4me2_ChIPSeq_Naive-Donor19_span 0.05_0.tsv\n",
      "Processing H3K4me2_ChIPSeq_Naive-Donor19 span 0.05_5\n",
      "Calculating metrics:  /tmp/overlap_H3K4me2_ChIPSeq_Naive-Donor19_span 0.05_5.tsv\n",
      "  [Saved] /tmp/overlap_H3K4me2_ChIPSeq_Naive-Donor19_span 0.05_5.tsv\n",
      "Processing H3K4me2_ChIPSeq_Naive-Donor19 span 1e-06_5\n",
      "Calculating metrics:  /tmp/overlap_H3K4me2_ChIPSeq_Naive-Donor19_span 1e-06_5.tsv\n",
      "  [Saved] /tmp/overlap_H3K4me2_ChIPSeq_Naive-Donor19_span 1e-06_5.tsv\n",
      "Processing H3K4me2_ChIPSeq_Naive-Donor14 span 0.05_0\n",
      "Calculating metrics:  /tmp/overlap_H3K4me2_ChIPSeq_Naive-Donor14_span 0.05_0.tsv\n",
      "  [Saved] /tmp/overlap_H3K4me2_ChIPSeq_Naive-Donor14_span 0.05_0.tsv\n",
      "Processing H3K4me2_ChIPSeq_Naive-Donor14 span 0.05_5\n",
      "Calculating metrics:  /tmp/overlap_H3K4me2_ChIPSeq_Naive-Donor14_span 0.05_5.tsv\n",
      "  [Saved] /tmp/overlap_H3K4me2_ChIPSeq_Naive-Donor14_span 0.05_5.tsv\n",
      "Processing H3K4me2_ChIPSeq_Naive-Donor14 span 1e-06_5\n",
      "Calculating metrics:  /tmp/overlap_H3K4me2_ChIPSeq_Naive-Donor14_span 1e-06_5.tsv\n",
      "  [Saved] /tmp/overlap_H3K4me2_ChIPSeq_Naive-Donor14_span 1e-06_5.tsv\n",
      "Processing H3K4me2_ChIPSeq_Naive-Donor7 span 0.05_0\n",
      "Calculating metrics:  /tmp/overlap_H3K4me2_ChIPSeq_Naive-Donor7_span 0.05_0.tsv\n",
      "  [Saved] /tmp/overlap_H3K4me2_ChIPSeq_Naive-Donor7_span 0.05_0.tsv\n",
      "Processing H3K4me2_ChIPSeq_Naive-Donor7 span 0.05_5\n",
      "Calculating metrics:  /tmp/overlap_H3K4me2_ChIPSeq_Naive-Donor7_span 0.05_5.tsv\n",
      "  [Saved] /tmp/overlap_H3K4me2_ChIPSeq_Naive-Donor7_span 0.05_5.tsv\n",
      "Processing H3K4me2_ChIPSeq_Naive-Donor7 span 1e-06_5\n",
      "Calculating metrics:  /tmp/overlap_H3K4me2_ChIPSeq_Naive-Donor7_span 1e-06_5.tsv\n",
      "  [Saved] /tmp/overlap_H3K4me2_ChIPSeq_Naive-Donor7_span 1e-06_5.tsv\n",
      "Processing H3K4me2_ChIPSeq_CCR4pos-Donor9 span 0.05_0\n",
      "Calculating metrics:  /tmp/overlap_H3K4me2_ChIPSeq_CCR4pos-Donor9_span 0.05_0.tsv\n",
      "  [Saved] /tmp/overlap_H3K4me2_ChIPSeq_CCR4pos-Donor9_span 0.05_0.tsv\n",
      "Processing H3K4me2_ChIPSeq_CCR4pos-Donor9 span 0.05_5\n",
      "Calculating metrics:  /tmp/overlap_H3K4me2_ChIPSeq_CCR4pos-Donor9_span 0.05_5.tsv\n",
      "  [Saved] /tmp/overlap_H3K4me2_ChIPSeq_CCR4pos-Donor9_span 0.05_5.tsv\n",
      "Processing H3K4me2_ChIPSeq_CCR4pos-Donor9 span 1e-06_5\n",
      "Calculating metrics:  /tmp/overlap_H3K4me2_ChIPSeq_CCR4pos-Donor9_span 1e-06_5.tsv\n",
      "  [Saved] /tmp/overlap_H3K4me2_ChIPSeq_CCR4pos-Donor9_span 1e-06_5.tsv\n",
      "Processing H3K4me2_ChIPSeq_CCR4Neg-Donor16 span 0.05_0\n",
      "Calculating metrics:  /tmp/overlap_H3K4me2_ChIPSeq_CCR4Neg-Donor16_span 0.05_0.tsv\n",
      "  [Saved] /tmp/overlap_H3K4me2_ChIPSeq_CCR4Neg-Donor16_span 0.05_0.tsv\n",
      "Processing H3K4me2_ChIPSeq_CCR4Neg-Donor16 span 0.05_5\n",
      "Calculating metrics:  /tmp/overlap_H3K4me2_ChIPSeq_CCR4Neg-Donor16_span 0.05_5.tsv\n",
      "  [Saved] /tmp/overlap_H3K4me2_ChIPSeq_CCR4Neg-Donor16_span 0.05_5.tsv\n",
      "Processing H3K4me2_ChIPSeq_CCR4Neg-Donor16 span 1e-06_5\n",
      "Calculating metrics:  /tmp/overlap_H3K4me2_ChIPSeq_CCR4Neg-Donor16_span 1e-06_5.tsv\n",
      "  [Saved] /tmp/overlap_H3K4me2_ChIPSeq_CCR4Neg-Donor16_span 1e-06_5.tsv\n",
      "Processing H3K4me2_ChIPSeq_CCR4pos-Donor7 span 0.05_0\n",
      "Calculating metrics:  /tmp/overlap_H3K4me2_ChIPSeq_CCR4pos-Donor7_span 0.05_0.tsv\n",
      "  [Saved] /tmp/overlap_H3K4me2_ChIPSeq_CCR4pos-Donor7_span 0.05_0.tsv\n",
      "Processing H3K4me2_ChIPSeq_CCR4pos-Donor7 span 0.05_5\n",
      "Calculating metrics:  /tmp/overlap_H3K4me2_ChIPSeq_CCR4pos-Donor7_span 0.05_5.tsv\n",
      "  [Saved] /tmp/overlap_H3K4me2_ChIPSeq_CCR4pos-Donor7_span 0.05_5.tsv\n",
      "Processing H3K4me2_ChIPSeq_CCR4pos-Donor7 span 1e-06_5\n",
      "Calculating metrics:  /tmp/overlap_H3K4me2_ChIPSeq_CCR4pos-Donor7_span 1e-06_5.tsv\n",
      "  [Saved] /tmp/overlap_H3K4me2_ChIPSeq_CCR4pos-Donor7_span 1e-06_5.tsv\n",
      "Processing H3K4me2_ChIPSeq_Naive-Donor18 span 0.05_0\n",
      "Calculating metrics:  /tmp/overlap_H3K4me2_ChIPSeq_Naive-Donor18_span 0.05_0.tsv\n",
      "  [Saved] /tmp/overlap_H3K4me2_ChIPSeq_Naive-Donor18_span 0.05_0.tsv\n",
      "Processing H3K4me2_ChIPSeq_Naive-Donor18 span 0.05_5\n",
      "Calculating metrics:  /tmp/overlap_H3K4me2_ChIPSeq_Naive-Donor18_span 0.05_5.tsv\n",
      "  [Saved] /tmp/overlap_H3K4me2_ChIPSeq_Naive-Donor18_span 0.05_5.tsv\n",
      "Processing H3K4me2_ChIPSeq_Naive-Donor18 span 1e-06_5\n",
      "Calculating metrics:  /tmp/overlap_H3K4me2_ChIPSeq_Naive-Donor18_span 1e-06_5.tsv\n",
      "  [Saved] /tmp/overlap_H3K4me2_ChIPSeq_Naive-Donor18_span 1e-06_5.tsv\n",
      "Processing H3K4me2_ChIPSeq_CCR4pos-Donor16 span 0.05_0\n",
      "Calculating metrics:  /tmp/overlap_H3K4me2_ChIPSeq_CCR4pos-Donor16_span 0.05_0.tsv\n",
      "  [Saved] /tmp/overlap_H3K4me2_ChIPSeq_CCR4pos-Donor16_span 0.05_0.tsv\n",
      "Processing H3K4me2_ChIPSeq_CCR4pos-Donor16 span 0.05_5\n",
      "Calculating metrics:  /tmp/overlap_H3K4me2_ChIPSeq_CCR4pos-Donor16_span 0.05_5.tsv\n",
      "  [Saved] /tmp/overlap_H3K4me2_ChIPSeq_CCR4pos-Donor16_span 0.05_5.tsv\n",
      "Processing H3K4me2_ChIPSeq_CCR4pos-Donor16 span 1e-06_5\n",
      "Calculating metrics:  /tmp/overlap_H3K4me2_ChIPSeq_CCR4pos-Donor16_span 1e-06_5.tsv\n",
      "  [Saved] /tmp/overlap_H3K4me2_ChIPSeq_CCR4pos-Donor16_span 1e-06_5.tsv\n",
      "Processing H3K4me2_ChIPSeq_CCR4pos-Donor19 span 0.05_0\n",
      "Calculating metrics:  /tmp/overlap_H3K4me2_ChIPSeq_CCR4pos-Donor19_span 0.05_0.tsv\n",
      "  [Saved] /tmp/overlap_H3K4me2_ChIPSeq_CCR4pos-Donor19_span 0.05_0.tsv\n",
      "Processing H3K4me2_ChIPSeq_CCR4pos-Donor19 span 0.05_5\n",
      "Calculating metrics:  /tmp/overlap_H3K4me2_ChIPSeq_CCR4pos-Donor19_span 0.05_5.tsv\n",
      "  [Saved] /tmp/overlap_H3K4me2_ChIPSeq_CCR4pos-Donor19_span 0.05_5.tsv\n",
      "Processing H3K4me2_ChIPSeq_CCR4pos-Donor19 span 1e-06_5\n",
      "Calculating metrics:  /tmp/overlap_H3K4me2_ChIPSeq_CCR4pos-Donor19_span 1e-06_5.tsv\n",
      "  [Saved] /tmp/overlap_H3K4me2_ChIPSeq_CCR4pos-Donor19_span 1e-06_5.tsv\n",
      "Processing H3K4me2_ChIPSeq_CCR4pos-Donor10 span 0.05_0\n",
      "Calculating metrics:  /tmp/overlap_H3K4me2_ChIPSeq_CCR4pos-Donor10_span 0.05_0.tsv\n",
      "  [Saved] /tmp/overlap_H3K4me2_ChIPSeq_CCR4pos-Donor10_span 0.05_0.tsv\n",
      "Processing H3K4me2_ChIPSeq_CCR4pos-Donor10 span 0.05_5\n",
      "Calculating metrics:  /tmp/overlap_H3K4me2_ChIPSeq_CCR4pos-Donor10_span 0.05_5.tsv\n",
      "  [Saved] /tmp/overlap_H3K4me2_ChIPSeq_CCR4pos-Donor10_span 0.05_5.tsv\n",
      "Processing H3K4me2_ChIPSeq_CCR4pos-Donor10 span 1e-06_5\n",
      "Calculating metrics:  /tmp/overlap_H3K4me2_ChIPSeq_CCR4pos-Donor10_span 1e-06_5.tsv\n",
      "  [Saved] /tmp/overlap_H3K4me2_ChIPSeq_CCR4pos-Donor10_span 1e-06_5.tsv\n",
      "Processing H3K4me2_ChIPSeq_CCR4pos-Donor11 span 0.05_0\n",
      "Calculating metrics:  /tmp/overlap_H3K4me2_ChIPSeq_CCR4pos-Donor11_span 0.05_0.tsv\n",
      "  [Saved] /tmp/overlap_H3K4me2_ChIPSeq_CCR4pos-Donor11_span 0.05_0.tsv\n",
      "Processing H3K4me2_ChIPSeq_CCR4pos-Donor11 span 0.05_5\n",
      "Calculating metrics:  /tmp/overlap_H3K4me2_ChIPSeq_CCR4pos-Donor11_span 0.05_5.tsv\n",
      "  [Saved] /tmp/overlap_H3K4me2_ChIPSeq_CCR4pos-Donor11_span 0.05_5.tsv\n",
      "Processing H3K4me2_ChIPSeq_CCR4pos-Donor11 span 1e-06_5\n",
      "Calculating metrics:  /tmp/overlap_H3K4me2_ChIPSeq_CCR4pos-Donor11_span 1e-06_5.tsv\n",
      "  [Saved] /tmp/overlap_H3K4me2_ChIPSeq_CCR4pos-Donor11_span 1e-06_5.tsv\n",
      "Processing H3K4me2_ChIPSeq_Naive-Donor10 span 0.05_0\n",
      "Calculating metrics:  /tmp/overlap_H3K4me2_ChIPSeq_Naive-Donor10_span 0.05_0.tsv\n",
      "  [Saved] /tmp/overlap_H3K4me2_ChIPSeq_Naive-Donor10_span 0.05_0.tsv\n",
      "Processing H3K4me2_ChIPSeq_Naive-Donor10 span 0.05_5\n",
      "Calculating metrics:  /tmp/overlap_H3K4me2_ChIPSeq_Naive-Donor10_span 0.05_5.tsv\n",
      "  [Saved] /tmp/overlap_H3K4me2_ChIPSeq_Naive-Donor10_span 0.05_5.tsv\n",
      "Processing H3K4me2_ChIPSeq_Naive-Donor10 span 1e-06_5\n",
      "Calculating metrics:  /tmp/overlap_H3K4me2_ChIPSeq_Naive-Donor10_span 1e-06_5.tsv\n",
      "  [Saved] /tmp/overlap_H3K4me2_ChIPSeq_Naive-Donor10_span 1e-06_5.tsv\n",
      "Processing H3K4me2_ChIPSeq_CCR4Neg-Donor15 span 0.05_0\n",
      "Calculating metrics:  /tmp/overlap_H3K4me2_ChIPSeq_CCR4Neg-Donor15_span 0.05_0.tsv\n",
      "  [Saved] /tmp/overlap_H3K4me2_ChIPSeq_CCR4Neg-Donor15_span 0.05_0.tsv\n",
      "Processing H3K4me2_ChIPSeq_CCR4Neg-Donor15 span 0.05_5\n",
      "Calculating metrics:  /tmp/overlap_H3K4me2_ChIPSeq_CCR4Neg-Donor15_span 0.05_5.tsv\n",
      "  [Saved] /tmp/overlap_H3K4me2_ChIPSeq_CCR4Neg-Donor15_span 0.05_5.tsv\n",
      "Processing H3K4me2_ChIPSeq_CCR4Neg-Donor15 span 1e-06_5\n",
      "Calculating metrics:  /tmp/overlap_H3K4me2_ChIPSeq_CCR4Neg-Donor15_span 1e-06_5.tsv\n",
      "  [Saved] /tmp/overlap_H3K4me2_ChIPSeq_CCR4Neg-Donor15_span 1e-06_5.tsv\n",
      "Processing H3K4me2_ChIPSeq_Naive-Donor16 span 0.05_0\n",
      "Calculating metrics:  /tmp/overlap_H3K4me2_ChIPSeq_Naive-Donor16_span 0.05_0.tsv\n",
      "  [Saved] /tmp/overlap_H3K4me2_ChIPSeq_Naive-Donor16_span 0.05_0.tsv\n",
      "Processing H3K4me2_ChIPSeq_Naive-Donor16 span 0.05_5\n",
      "Calculating metrics:  /tmp/overlap_H3K4me2_ChIPSeq_Naive-Donor16_span 0.05_5.tsv\n"
     ]
    },
    {
     "name": "stdout",
     "output_type": "stream",
     "text": [
      "  [Saved] /tmp/overlap_H3K4me2_ChIPSeq_Naive-Donor16_span 0.05_5.tsv\n",
      "Processing H3K4me2_ChIPSeq_Naive-Donor16 span 1e-06_5\n",
      "Calculating metrics:  /tmp/overlap_H3K4me2_ChIPSeq_Naive-Donor16_span 1e-06_5.tsv\n",
      "  [Saved] /tmp/overlap_H3K4me2_ChIPSeq_Naive-Donor16_span 1e-06_5.tsv\n",
      "Processing H3K4me2_ChIPSeq_CCR4Neg-Donor6 span 0.05_0\n",
      "Calculating metrics:  /tmp/overlap_H3K4me2_ChIPSeq_CCR4Neg-Donor6_span 0.05_0.tsv\n",
      "  [Saved] /tmp/overlap_H3K4me2_ChIPSeq_CCR4Neg-Donor6_span 0.05_0.tsv\n",
      "Processing H3K4me2_ChIPSeq_CCR4Neg-Donor6 span 0.05_5\n",
      "Calculating metrics:  /tmp/overlap_H3K4me2_ChIPSeq_CCR4Neg-Donor6_span 0.05_5.tsv\n",
      "  [Saved] /tmp/overlap_H3K4me2_ChIPSeq_CCR4Neg-Donor6_span 0.05_5.tsv\n",
      "Processing H3K4me2_ChIPSeq_CCR4Neg-Donor6 span 1e-06_5\n",
      "Calculating metrics:  /tmp/overlap_H3K4me2_ChIPSeq_CCR4Neg-Donor6_span 1e-06_5.tsv\n",
      "  [Saved] /tmp/overlap_H3K4me2_ChIPSeq_CCR4Neg-Donor6_span 1e-06_5.tsv\n",
      "Processing H3K4me2_ChIPSeq_Naive-Donor13 span 0.05_0\n",
      "Calculating metrics:  /tmp/overlap_H3K4me2_ChIPSeq_Naive-Donor13_span 0.05_0.tsv\n",
      "  [Saved] /tmp/overlap_H3K4me2_ChIPSeq_Naive-Donor13_span 0.05_0.tsv\n",
      "Processing H3K4me2_ChIPSeq_Naive-Donor13 span 0.05_5\n",
      "Calculating metrics:  /tmp/overlap_H3K4me2_ChIPSeq_Naive-Donor13_span 0.05_5.tsv\n",
      "  [Saved] /tmp/overlap_H3K4me2_ChIPSeq_Naive-Donor13_span 0.05_5.tsv\n",
      "Processing H3K4me2_ChIPSeq_Naive-Donor13 span 1e-06_5\n",
      "Calculating metrics:  /tmp/overlap_H3K4me2_ChIPSeq_Naive-Donor13_span 1e-06_5.tsv\n",
      "  [Saved] /tmp/overlap_H3K4me2_ChIPSeq_Naive-Donor13_span 1e-06_5.tsv\n",
      "Processing H3K4me2_ChIPSeq_CCR4pos-Donor4 span 0.05_0\n",
      "Calculating metrics:  /tmp/overlap_H3K4me2_ChIPSeq_CCR4pos-Donor4_span 0.05_0.tsv\n",
      "  [Saved] /tmp/overlap_H3K4me2_ChIPSeq_CCR4pos-Donor4_span 0.05_0.tsv\n",
      "Processing H3K4me2_ChIPSeq_CCR4pos-Donor4 span 0.05_5\n",
      "Calculating metrics:  /tmp/overlap_H3K4me2_ChIPSeq_CCR4pos-Donor4_span 0.05_5.tsv\n",
      "  [Saved] /tmp/overlap_H3K4me2_ChIPSeq_CCR4pos-Donor4_span 0.05_5.tsv\n",
      "Processing H3K4me2_ChIPSeq_CCR4pos-Donor4 span 1e-06_5\n",
      "Calculating metrics:  /tmp/overlap_H3K4me2_ChIPSeq_CCR4pos-Donor4_span 1e-06_5.tsv\n",
      "  [Saved] /tmp/overlap_H3K4me2_ChIPSeq_CCR4pos-Donor4_span 1e-06_5.tsv\n",
      "Processing H3K4me2_ChIPSeq_CCR4pos-Donor18 span 0.05_0\n",
      "Calculating metrics:  /tmp/overlap_H3K4me2_ChIPSeq_CCR4pos-Donor18_span 0.05_0.tsv\n",
      "  [Saved] /tmp/overlap_H3K4me2_ChIPSeq_CCR4pos-Donor18_span 0.05_0.tsv\n",
      "Processing H3K4me2_ChIPSeq_CCR4pos-Donor18 span 0.05_5\n",
      "Calculating metrics:  /tmp/overlap_H3K4me2_ChIPSeq_CCR4pos-Donor18_span 0.05_5.tsv\n",
      "  [Saved] /tmp/overlap_H3K4me2_ChIPSeq_CCR4pos-Donor18_span 0.05_5.tsv\n",
      "Processing H3K4me2_ChIPSeq_CCR4pos-Donor18 span 1e-06_5\n",
      "Calculating metrics:  /tmp/overlap_H3K4me2_ChIPSeq_CCR4pos-Donor18_span 1e-06_5.tsv\n",
      "  [Saved] /tmp/overlap_H3K4me2_ChIPSeq_CCR4pos-Donor18_span 1e-06_5.tsv\n",
      "Processing H3K4me2_ChIPSeq_CCR4pos-Donor3 span 0.05_0\n",
      "Calculating metrics:  /tmp/overlap_H3K4me2_ChIPSeq_CCR4pos-Donor3_span 0.05_0.tsv\n",
      "  [Saved] /tmp/overlap_H3K4me2_ChIPSeq_CCR4pos-Donor3_span 0.05_0.tsv\n",
      "Processing H3K4me2_ChIPSeq_CCR4pos-Donor3 span 0.05_5\n",
      "Calculating metrics:  /tmp/overlap_H3K4me2_ChIPSeq_CCR4pos-Donor3_span 0.05_5.tsv\n",
      "  [Saved] /tmp/overlap_H3K4me2_ChIPSeq_CCR4pos-Donor3_span 0.05_5.tsv\n",
      "Processing H3K4me2_ChIPSeq_CCR4pos-Donor3 span 1e-06_5\n",
      "Calculating metrics:  /tmp/overlap_H3K4me2_ChIPSeq_CCR4pos-Donor3_span 1e-06_5.tsv\n",
      "  [Saved] /tmp/overlap_H3K4me2_ChIPSeq_CCR4pos-Donor3_span 1e-06_5.tsv\n",
      "Processing H3K4me2_ChIPSeq_CCR4Neg-Donor5 span 0.05_0\n",
      "Calculating metrics:  /tmp/overlap_H3K4me2_ChIPSeq_CCR4Neg-Donor5_span 0.05_0.tsv\n",
      "  [Saved] /tmp/overlap_H3K4me2_ChIPSeq_CCR4Neg-Donor5_span 0.05_0.tsv\n",
      "Processing H3K4me2_ChIPSeq_CCR4Neg-Donor5 span 0.05_5\n",
      "Calculating metrics:  /tmp/overlap_H3K4me2_ChIPSeq_CCR4Neg-Donor5_span 0.05_5.tsv\n",
      "  [Saved] /tmp/overlap_H3K4me2_ChIPSeq_CCR4Neg-Donor5_span 0.05_5.tsv\n",
      "Processing H3K4me2_ChIPSeq_CCR4Neg-Donor5 span 1e-06_5\n",
      "Calculating metrics:  /tmp/overlap_H3K4me2_ChIPSeq_CCR4Neg-Donor5_span 1e-06_5.tsv\n",
      "  [Saved] /tmp/overlap_H3K4me2_ChIPSeq_CCR4Neg-Donor5_span 1e-06_5.tsv\n",
      "Processing H3K4me2_ChIPSeq_CCR4Neg-Donor11 span 0.05_0\n",
      "Calculating metrics:  /tmp/overlap_H3K4me2_ChIPSeq_CCR4Neg-Donor11_span 0.05_0.tsv\n",
      "  [Saved] /tmp/overlap_H3K4me2_ChIPSeq_CCR4Neg-Donor11_span 0.05_0.tsv\n",
      "Processing H3K4me2_ChIPSeq_CCR4Neg-Donor11 span 0.05_5\n",
      "Calculating metrics:  /tmp/overlap_H3K4me2_ChIPSeq_CCR4Neg-Donor11_span 0.05_5.tsv\n",
      "  [Saved] /tmp/overlap_H3K4me2_ChIPSeq_CCR4Neg-Donor11_span 0.05_5.tsv\n",
      "Processing H3K4me2_ChIPSeq_CCR4Neg-Donor11 span 1e-06_5\n",
      "Calculating metrics:  /tmp/overlap_H3K4me2_ChIPSeq_CCR4Neg-Donor11_span 1e-06_5.tsv\n",
      "  [Saved] /tmp/overlap_H3K4me2_ChIPSeq_CCR4Neg-Donor11_span 1e-06_5.tsv\n",
      "Processing H3K4me2_ChIPSeq_CCR4pos-Donor20 span 0.05_0\n",
      "Calculating metrics:  /tmp/overlap_H3K4me2_ChIPSeq_CCR4pos-Donor20_span 0.05_0.tsv\n",
      "  [Saved] /tmp/overlap_H3K4me2_ChIPSeq_CCR4pos-Donor20_span 0.05_0.tsv\n",
      "Processing H3K4me2_ChIPSeq_CCR4pos-Donor20 span 0.05_5\n",
      "Calculating metrics:  /tmp/overlap_H3K4me2_ChIPSeq_CCR4pos-Donor20_span 0.05_5.tsv\n",
      "  [Saved] /tmp/overlap_H3K4me2_ChIPSeq_CCR4pos-Donor20_span 0.05_5.tsv\n",
      "Processing H3K4me2_ChIPSeq_CCR4pos-Donor20 span 1e-06_5\n",
      "Calculating metrics:  /tmp/overlap_H3K4me2_ChIPSeq_CCR4pos-Donor20_span 1e-06_5.tsv\n",
      "  [Saved] /tmp/overlap_H3K4me2_ChIPSeq_CCR4pos-Donor20_span 1e-06_5.tsv\n",
      "Processing H3K4me2_ChIPSeq_CCR4Neg-Donor23 span 0.05_0\n",
      "Calculating metrics:  /tmp/overlap_H3K4me2_ChIPSeq_CCR4Neg-Donor23_span 0.05_0.tsv\n",
      "  [Saved] /tmp/overlap_H3K4me2_ChIPSeq_CCR4Neg-Donor23_span 0.05_0.tsv\n",
      "Processing H3K4me2_ChIPSeq_CCR4Neg-Donor23 span 0.05_5\n",
      "Calculating metrics:  /tmp/overlap_H3K4me2_ChIPSeq_CCR4Neg-Donor23_span 0.05_5.tsv\n",
      "  [Saved] /tmp/overlap_H3K4me2_ChIPSeq_CCR4Neg-Donor23_span 0.05_5.tsv\n",
      "Processing H3K4me2_ChIPSeq_CCR4Neg-Donor23 span 1e-06_5\n",
      "Calculating metrics:  /tmp/overlap_H3K4me2_ChIPSeq_CCR4Neg-Donor23_span 1e-06_5.tsv\n",
      "  [Saved] /tmp/overlap_H3K4me2_ChIPSeq_CCR4Neg-Donor23_span 1e-06_5.tsv\n"
     ]
    },
    {
     "data": {
      "application/vnd.plotly.v1+json": {
       "config": {
        "plotlyServerURL": "https://plot.ly"
       },
       "data": [
        {
         "line": {
          "shape": "linear"
         },
         "name": "span 0.05_0 mean",
         "type": "scatter",
         "x": [
          "H3K4me2_ChIPSeq_CCR4Neg-Donor1",
          "H3K4me2_ChIPSeq_CCR4Neg-Donor11",
          "H3K4me2_ChIPSeq_CCR4Neg-Donor12",
          "H3K4me2_ChIPSeq_CCR4Neg-Donor13",
          "H3K4me2_ChIPSeq_CCR4Neg-Donor14",
          "H3K4me2_ChIPSeq_CCR4Neg-Donor15",
          "H3K4me2_ChIPSeq_CCR4Neg-Donor16",
          "H3K4me2_ChIPSeq_CCR4Neg-Donor17",
          "H3K4me2_ChIPSeq_CCR4Neg-Donor18",
          "H3K4me2_ChIPSeq_CCR4Neg-Donor19",
          "H3K4me2_ChIPSeq_CCR4Neg-Donor20",
          "H3K4me2_ChIPSeq_CCR4Neg-Donor21",
          "H3K4me2_ChIPSeq_CCR4Neg-Donor22",
          "H3K4me2_ChIPSeq_CCR4Neg-Donor23",
          "H3K4me2_ChIPSeq_CCR4Neg-Donor4",
          "H3K4me2_ChIPSeq_CCR4Neg-Donor5",
          "H3K4me2_ChIPSeq_CCR4Neg-Donor6",
          "H3K4me2_ChIPSeq_CCR4Neg-Donor7",
          "H3K4me2_ChIPSeq_CCR4Neg-Donor8",
          "H3K4me2_ChIPSeq_CCR4Neg-Donor9",
          "H3K4me2_ChIPSeq_CCR4pos-Donor1",
          "H3K4me2_ChIPSeq_CCR4pos-Donor10",
          "H3K4me2_ChIPSeq_CCR4pos-Donor11",
          "H3K4me2_ChIPSeq_CCR4pos-Donor12",
          "H3K4me2_ChIPSeq_CCR4pos-Donor13",
          "H3K4me2_ChIPSeq_CCR4pos-Donor14",
          "H3K4me2_ChIPSeq_CCR4pos-Donor15",
          "H3K4me2_ChIPSeq_CCR4pos-Donor16",
          "H3K4me2_ChIPSeq_CCR4pos-Donor17",
          "H3K4me2_ChIPSeq_CCR4pos-Donor18",
          "H3K4me2_ChIPSeq_CCR4pos-Donor19",
          "H3K4me2_ChIPSeq_CCR4pos-Donor2",
          "H3K4me2_ChIPSeq_CCR4pos-Donor20",
          "H3K4me2_ChIPSeq_CCR4pos-Donor21",
          "H3K4me2_ChIPSeq_CCR4pos-Donor22",
          "H3K4me2_ChIPSeq_CCR4pos-Donor23",
          "H3K4me2_ChIPSeq_CCR4pos-Donor3",
          "H3K4me2_ChIPSeq_CCR4pos-Donor4",
          "H3K4me2_ChIPSeq_CCR4pos-Donor5",
          "H3K4me2_ChIPSeq_CCR4pos-Donor7",
          "H3K4me2_ChIPSeq_CCR4pos-Donor8",
          "H3K4me2_ChIPSeq_CCR4pos-Donor9",
          "H3K4me2_ChIPSeq_Naive-Donor1",
          "H3K4me2_ChIPSeq_Naive-Donor10",
          "H3K4me2_ChIPSeq_Naive-Donor11",
          "H3K4me2_ChIPSeq_Naive-Donor12",
          "H3K4me2_ChIPSeq_Naive-Donor13",
          "H3K4me2_ChIPSeq_Naive-Donor14",
          "H3K4me2_ChIPSeq_Naive-Donor15",
          "H3K4me2_ChIPSeq_Naive-Donor16",
          "H3K4me2_ChIPSeq_Naive-Donor17",
          "H3K4me2_ChIPSeq_Naive-Donor18",
          "H3K4me2_ChIPSeq_Naive-Donor19",
          "H3K4me2_ChIPSeq_Naive-Donor2",
          "H3K4me2_ChIPSeq_Naive-Donor20",
          "H3K4me2_ChIPSeq_Naive-Donor21",
          "H3K4me2_ChIPSeq_Naive-Donor22",
          "H3K4me2_ChIPSeq_Naive-Donor23",
          "H3K4me2_ChIPSeq_Naive-Donor3",
          "H3K4me2_ChIPSeq_Naive-Donor5",
          "H3K4me2_ChIPSeq_Naive-Donor7",
          "H3K4me2_ChIPSeq_Naive-Donor8",
          "H3K4me2_ChIPSeq_Naive-Donor9"
         ],
         "y": [
          0.866673469543457,
          1,
          0.8704211711883545,
          0.8466376662254333,
          0.8367775082588196,
          0.8587248921394348,
          0.8515965342521667,
          0.8827227354049683,
          0.835398256778717,
          0.8667827844619751,
          1,
          0.8523913621902466,
          0.8532706499099731,
          0.8608924150466919,
          0.8752063512802124,
          0.871780276298523,
          0.8733059167861938,
          1,
          0.8404906988143921,
          1,
          0.849030613899231,
          1,
          0.8322175741195679,
          0.8787353038787842,
          0.8468547463417053,
          0.8643991351127625,
          0.8692266941070557,
          0.8760392069816589,
          0.8691746592521667,
          0.8440486788749695,
          0.8547918796539307,
          0.8312234878540039,
          0.8630613684654236,
          0.8595296740531921,
          0.8710052371025085,
          0.8791626691818237,
          1,
          0.8615700006484985,
          0.8575097322463989,
          0.8253527879714966,
          0.8494372963905334,
          0.8547441959381104,
          0.825659453868866,
          1,
          0.8339623212814331,
          0.8715185523033142,
          0.8566439747810364,
          0.8700352907180786,
          0.8757479190826416,
          0.8714993000030518,
          0.8258439302444458,
          0.8589862585067749,
          0.8648175001144409,
          0.869523286819458,
          0.8805644512176514,
          0.8154445886611938,
          1,
          0.8523056507110596,
          0.8683516979217529,
          0.8194521069526672,
          0.857839047908783,
          0.8570289611816406,
          0.8590112924575806
         ]
        },
        {
         "line": {
          "dash": "dot",
          "shape": "linear"
         },
         "name": "span 0.05_0 std",
         "type": "scatter",
         "x": [
          "H3K4me2_ChIPSeq_CCR4Neg-Donor1",
          "H3K4me2_ChIPSeq_CCR4Neg-Donor11",
          "H3K4me2_ChIPSeq_CCR4Neg-Donor12",
          "H3K4me2_ChIPSeq_CCR4Neg-Donor13",
          "H3K4me2_ChIPSeq_CCR4Neg-Donor14",
          "H3K4me2_ChIPSeq_CCR4Neg-Donor15",
          "H3K4me2_ChIPSeq_CCR4Neg-Donor16",
          "H3K4me2_ChIPSeq_CCR4Neg-Donor17",
          "H3K4me2_ChIPSeq_CCR4Neg-Donor18",
          "H3K4me2_ChIPSeq_CCR4Neg-Donor19",
          "H3K4me2_ChIPSeq_CCR4Neg-Donor20",
          "H3K4me2_ChIPSeq_CCR4Neg-Donor21",
          "H3K4me2_ChIPSeq_CCR4Neg-Donor22",
          "H3K4me2_ChIPSeq_CCR4Neg-Donor23",
          "H3K4me2_ChIPSeq_CCR4Neg-Donor4",
          "H3K4me2_ChIPSeq_CCR4Neg-Donor5",
          "H3K4me2_ChIPSeq_CCR4Neg-Donor6",
          "H3K4me2_ChIPSeq_CCR4Neg-Donor7",
          "H3K4me2_ChIPSeq_CCR4Neg-Donor8",
          "H3K4me2_ChIPSeq_CCR4Neg-Donor9",
          "H3K4me2_ChIPSeq_CCR4pos-Donor1",
          "H3K4me2_ChIPSeq_CCR4pos-Donor10",
          "H3K4me2_ChIPSeq_CCR4pos-Donor11",
          "H3K4me2_ChIPSeq_CCR4pos-Donor12",
          "H3K4me2_ChIPSeq_CCR4pos-Donor13",
          "H3K4me2_ChIPSeq_CCR4pos-Donor14",
          "H3K4me2_ChIPSeq_CCR4pos-Donor15",
          "H3K4me2_ChIPSeq_CCR4pos-Donor16",
          "H3K4me2_ChIPSeq_CCR4pos-Donor17",
          "H3K4me2_ChIPSeq_CCR4pos-Donor18",
          "H3K4me2_ChIPSeq_CCR4pos-Donor19",
          "H3K4me2_ChIPSeq_CCR4pos-Donor2",
          "H3K4me2_ChIPSeq_CCR4pos-Donor20",
          "H3K4me2_ChIPSeq_CCR4pos-Donor21",
          "H3K4me2_ChIPSeq_CCR4pos-Donor22",
          "H3K4me2_ChIPSeq_CCR4pos-Donor23",
          "H3K4me2_ChIPSeq_CCR4pos-Donor3",
          "H3K4me2_ChIPSeq_CCR4pos-Donor4",
          "H3K4me2_ChIPSeq_CCR4pos-Donor5",
          "H3K4me2_ChIPSeq_CCR4pos-Donor7",
          "H3K4me2_ChIPSeq_CCR4pos-Donor8",
          "H3K4me2_ChIPSeq_CCR4pos-Donor9",
          "H3K4me2_ChIPSeq_Naive-Donor1",
          "H3K4me2_ChIPSeq_Naive-Donor10",
          "H3K4me2_ChIPSeq_Naive-Donor11",
          "H3K4me2_ChIPSeq_Naive-Donor12",
          "H3K4me2_ChIPSeq_Naive-Donor13",
          "H3K4me2_ChIPSeq_Naive-Donor14",
          "H3K4me2_ChIPSeq_Naive-Donor15",
          "H3K4me2_ChIPSeq_Naive-Donor16",
          "H3K4me2_ChIPSeq_Naive-Donor17",
          "H3K4me2_ChIPSeq_Naive-Donor18",
          "H3K4me2_ChIPSeq_Naive-Donor19",
          "H3K4me2_ChIPSeq_Naive-Donor2",
          "H3K4me2_ChIPSeq_Naive-Donor20",
          "H3K4me2_ChIPSeq_Naive-Donor21",
          "H3K4me2_ChIPSeq_Naive-Donor22",
          "H3K4me2_ChIPSeq_Naive-Donor23",
          "H3K4me2_ChIPSeq_Naive-Donor3",
          "H3K4me2_ChIPSeq_Naive-Donor5",
          "H3K4me2_ChIPSeq_Naive-Donor7",
          "H3K4me2_ChIPSeq_Naive-Donor8",
          "H3K4me2_ChIPSeq_Naive-Donor9"
         ],
         "y": [
          0.15809255838394165,
          0,
          0.15430553257465363,
          0.2156105786561966,
          0.20779912173748016,
          0.19690777361392975,
          0.20760096609592438,
          0.1355055868625641,
          0.19090783596038818,
          0.17302875220775604,
          0,
          0.19329166412353516,
          0.18104632198810577,
          0.16151362657546997,
          0.15154752135276794,
          0.15287426114082336,
          0.1475691944360733,
          0,
          0.19993938505649567,
          0,
          0.20950362086296082,
          0,
          0.23486140370368958,
          0.14251571893692017,
          0.20844736695289612,
          0.18045109510421753,
          0.15516839921474457,
          0.16154524683952332,
          0.16859297454357147,
          0.20609799027442932,
          0.21592582762241364,
          0.24692237377166748,
          0.17475007474422455,
          0.16417743265628815,
          0.15071341395378113,
          0.1696980595588684,
          0,
          0.16623231768608093,
          0.17809413373470306,
          0.24924692511558533,
          0.17743107676506042,
          0.16877275705337524,
          0.1338222771883011,
          0,
          0.27889788150787354,
          0.15542252361774445,
          0.19785793125629425,
          0.15968067944049835,
          0.1689395308494568,
          0.16868865489959717,
          0.21007224917411804,
          0.1628681719303131,
          0.19623902440071106,
          0.1605505496263504,
          0.13865499198436737,
          0.16063494980335236,
          0,
          0.2038235068321228,
          0.17140601575374603,
          0.27673858404159546,
          0.16563381254673004,
          0.16562362015247345,
          0.16330520808696747
         ]
        },
        {
         "line": {
          "shape": "linear"
         },
         "name": "span 0.05_5 mean",
         "type": "scatter",
         "x": [
          "H3K4me2_ChIPSeq_CCR4Neg-Donor1",
          "H3K4me2_ChIPSeq_CCR4Neg-Donor11",
          "H3K4me2_ChIPSeq_CCR4Neg-Donor12",
          "H3K4me2_ChIPSeq_CCR4Neg-Donor13",
          "H3K4me2_ChIPSeq_CCR4Neg-Donor14",
          "H3K4me2_ChIPSeq_CCR4Neg-Donor15",
          "H3K4me2_ChIPSeq_CCR4Neg-Donor16",
          "H3K4me2_ChIPSeq_CCR4Neg-Donor17",
          "H3K4me2_ChIPSeq_CCR4Neg-Donor18",
          "H3K4me2_ChIPSeq_CCR4Neg-Donor19",
          "H3K4me2_ChIPSeq_CCR4Neg-Donor20",
          "H3K4me2_ChIPSeq_CCR4Neg-Donor21",
          "H3K4me2_ChIPSeq_CCR4Neg-Donor22",
          "H3K4me2_ChIPSeq_CCR4Neg-Donor23",
          "H3K4me2_ChIPSeq_CCR4Neg-Donor4",
          "H3K4me2_ChIPSeq_CCR4Neg-Donor5",
          "H3K4me2_ChIPSeq_CCR4Neg-Donor6",
          "H3K4me2_ChIPSeq_CCR4Neg-Donor7",
          "H3K4me2_ChIPSeq_CCR4Neg-Donor8",
          "H3K4me2_ChIPSeq_CCR4Neg-Donor9",
          "H3K4me2_ChIPSeq_CCR4pos-Donor1",
          "H3K4me2_ChIPSeq_CCR4pos-Donor10",
          "H3K4me2_ChIPSeq_CCR4pos-Donor11",
          "H3K4me2_ChIPSeq_CCR4pos-Donor12",
          "H3K4me2_ChIPSeq_CCR4pos-Donor13",
          "H3K4me2_ChIPSeq_CCR4pos-Donor14",
          "H3K4me2_ChIPSeq_CCR4pos-Donor15",
          "H3K4me2_ChIPSeq_CCR4pos-Donor16",
          "H3K4me2_ChIPSeq_CCR4pos-Donor17",
          "H3K4me2_ChIPSeq_CCR4pos-Donor18",
          "H3K4me2_ChIPSeq_CCR4pos-Donor19",
          "H3K4me2_ChIPSeq_CCR4pos-Donor2",
          "H3K4me2_ChIPSeq_CCR4pos-Donor20",
          "H3K4me2_ChIPSeq_CCR4pos-Donor21",
          "H3K4me2_ChIPSeq_CCR4pos-Donor22",
          "H3K4me2_ChIPSeq_CCR4pos-Donor23",
          "H3K4me2_ChIPSeq_CCR4pos-Donor3",
          "H3K4me2_ChIPSeq_CCR4pos-Donor4",
          "H3K4me2_ChIPSeq_CCR4pos-Donor5",
          "H3K4me2_ChIPSeq_CCR4pos-Donor7",
          "H3K4me2_ChIPSeq_CCR4pos-Donor8",
          "H3K4me2_ChIPSeq_CCR4pos-Donor9",
          "H3K4me2_ChIPSeq_Naive-Donor1",
          "H3K4me2_ChIPSeq_Naive-Donor10",
          "H3K4me2_ChIPSeq_Naive-Donor11",
          "H3K4me2_ChIPSeq_Naive-Donor12",
          "H3K4me2_ChIPSeq_Naive-Donor13",
          "H3K4me2_ChIPSeq_Naive-Donor14",
          "H3K4me2_ChIPSeq_Naive-Donor15",
          "H3K4me2_ChIPSeq_Naive-Donor16",
          "H3K4me2_ChIPSeq_Naive-Donor17",
          "H3K4me2_ChIPSeq_Naive-Donor18",
          "H3K4me2_ChIPSeq_Naive-Donor19",
          "H3K4me2_ChIPSeq_Naive-Donor2",
          "H3K4me2_ChIPSeq_Naive-Donor20",
          "H3K4me2_ChIPSeq_Naive-Donor21",
          "H3K4me2_ChIPSeq_Naive-Donor22",
          "H3K4me2_ChIPSeq_Naive-Donor23",
          "H3K4me2_ChIPSeq_Naive-Donor3",
          "H3K4me2_ChIPSeq_Naive-Donor5",
          "H3K4me2_ChIPSeq_Naive-Donor7",
          "H3K4me2_ChIPSeq_Naive-Donor8",
          "H3K4me2_ChIPSeq_Naive-Donor9"
         ],
         "y": [
          0.8716341853141785,
          1,
          0.8751696348190308,
          0.8527942895889282,
          0.8426221609115601,
          0.8633240461349487,
          0.8564897179603577,
          0.8869904279708862,
          0.8456003069877625,
          0.8722518086433411,
          1,
          0.8563443422317505,
          0.8569693565368652,
          0.8661990165710449,
          0.8791217803955078,
          0.8757097721099854,
          0.8772050142288208,
          1,
          0.8465580940246582,
          1,
          0.852080225944519,
          1,
          0.8339740037918091,
          0.8816052675247192,
          0.8502843976020813,
          0.8678839802742004,
          0.8735287189483643,
          0.8793492913246155,
          0.87226402759552,
          0.8483121395111084,
          0.8590266704559326,
          0.8342451453208923,
          0.8670657873153687,
          0.8628687858581543,
          0.8740285038948059,
          0.8819728493690491,
          1,
          0.8653261661529541,
          0.8609099388122559,
          0.8264330625534058,
          0.8515939712524414,
          0.8577432036399841,
          0.8299546837806702,
          1,
          0.8382556438446045,
          0.8754161596298218,
          0.8606639504432678,
          0.8742728233337402,
          0.8789873719215393,
          0.8749424815177917,
          0.8277008533477783,
          0.8629698753356934,
          0.8679764270782471,
          0.8728084564208984,
          0.884724497795105,
          0.8205339908599854,
          1,
          0.8554123640060425,
          0.8725141286849976,
          0.8151793479919434,
          0.8615838289260864,
          0.8612264394760132,
          0.8627738356590271
         ]
        },
        {
         "line": {
          "dash": "dot",
          "shape": "linear"
         },
         "name": "span 0.05_5 std",
         "type": "scatter",
         "x": [
          "H3K4me2_ChIPSeq_CCR4Neg-Donor1",
          "H3K4me2_ChIPSeq_CCR4Neg-Donor11",
          "H3K4me2_ChIPSeq_CCR4Neg-Donor12",
          "H3K4me2_ChIPSeq_CCR4Neg-Donor13",
          "H3K4me2_ChIPSeq_CCR4Neg-Donor14",
          "H3K4me2_ChIPSeq_CCR4Neg-Donor15",
          "H3K4me2_ChIPSeq_CCR4Neg-Donor16",
          "H3K4me2_ChIPSeq_CCR4Neg-Donor17",
          "H3K4me2_ChIPSeq_CCR4Neg-Donor18",
          "H3K4me2_ChIPSeq_CCR4Neg-Donor19",
          "H3K4me2_ChIPSeq_CCR4Neg-Donor20",
          "H3K4me2_ChIPSeq_CCR4Neg-Donor21",
          "H3K4me2_ChIPSeq_CCR4Neg-Donor22",
          "H3K4me2_ChIPSeq_CCR4Neg-Donor23",
          "H3K4me2_ChIPSeq_CCR4Neg-Donor4",
          "H3K4me2_ChIPSeq_CCR4Neg-Donor5",
          "H3K4me2_ChIPSeq_CCR4Neg-Donor6",
          "H3K4me2_ChIPSeq_CCR4Neg-Donor7",
          "H3K4me2_ChIPSeq_CCR4Neg-Donor8",
          "H3K4me2_ChIPSeq_CCR4Neg-Donor9",
          "H3K4me2_ChIPSeq_CCR4pos-Donor1",
          "H3K4me2_ChIPSeq_CCR4pos-Donor10",
          "H3K4me2_ChIPSeq_CCR4pos-Donor11",
          "H3K4me2_ChIPSeq_CCR4pos-Donor12",
          "H3K4me2_ChIPSeq_CCR4pos-Donor13",
          "H3K4me2_ChIPSeq_CCR4pos-Donor14",
          "H3K4me2_ChIPSeq_CCR4pos-Donor15",
          "H3K4me2_ChIPSeq_CCR4pos-Donor16",
          "H3K4me2_ChIPSeq_CCR4pos-Donor17",
          "H3K4me2_ChIPSeq_CCR4pos-Donor18",
          "H3K4me2_ChIPSeq_CCR4pos-Donor19",
          "H3K4me2_ChIPSeq_CCR4pos-Donor2",
          "H3K4me2_ChIPSeq_CCR4pos-Donor20",
          "H3K4me2_ChIPSeq_CCR4pos-Donor21",
          "H3K4me2_ChIPSeq_CCR4pos-Donor22",
          "H3K4me2_ChIPSeq_CCR4pos-Donor23",
          "H3K4me2_ChIPSeq_CCR4pos-Donor3",
          "H3K4me2_ChIPSeq_CCR4pos-Donor4",
          "H3K4me2_ChIPSeq_CCR4pos-Donor5",
          "H3K4me2_ChIPSeq_CCR4pos-Donor7",
          "H3K4me2_ChIPSeq_CCR4pos-Donor8",
          "H3K4me2_ChIPSeq_CCR4pos-Donor9",
          "H3K4me2_ChIPSeq_Naive-Donor1",
          "H3K4me2_ChIPSeq_Naive-Donor10",
          "H3K4me2_ChIPSeq_Naive-Donor11",
          "H3K4me2_ChIPSeq_Naive-Donor12",
          "H3K4me2_ChIPSeq_Naive-Donor13",
          "H3K4me2_ChIPSeq_Naive-Donor14",
          "H3K4me2_ChIPSeq_Naive-Donor15",
          "H3K4me2_ChIPSeq_Naive-Donor16",
          "H3K4me2_ChIPSeq_Naive-Donor17",
          "H3K4me2_ChIPSeq_Naive-Donor18",
          "H3K4me2_ChIPSeq_Naive-Donor19",
          "H3K4me2_ChIPSeq_Naive-Donor2",
          "H3K4me2_ChIPSeq_Naive-Donor20",
          "H3K4me2_ChIPSeq_Naive-Donor21",
          "H3K4me2_ChIPSeq_Naive-Donor22",
          "H3K4me2_ChIPSeq_Naive-Donor23",
          "H3K4me2_ChIPSeq_Naive-Donor3",
          "H3K4me2_ChIPSeq_Naive-Donor5",
          "H3K4me2_ChIPSeq_Naive-Donor7",
          "H3K4me2_ChIPSeq_Naive-Donor8",
          "H3K4me2_ChIPSeq_Naive-Donor9"
         ],
         "y": [
          0.15257643163204193,
          0,
          0.14864815771579742,
          0.2093987911939621,
          0.20058253407478333,
          0.1902429163455963,
          0.2011006772518158,
          0.1304982304573059,
          0.17961937189102173,
          0.1665792614221573,
          0,
          0.18956714868545532,
          0.17742706835269928,
          0.15546488761901855,
          0.14677396416664124,
          0.14778612554073334,
          0.14271700382232666,
          0,
          0.19448915123939514,
          0,
          0.20636919140815735,
          0,
          0.23783640563488007,
          0.13900268077850342,
          0.20412835478782654,
          0.17605982720851898,
          0.150375097990036,
          0.15683118999004364,
          0.16441303491592407,
          0.20012813806533813,
          0.20942534506320953,
          0.24664771556854248,
          0.16940981149673462,
          0.16072098910808563,
          0.14695054292678833,
          0.16565802693367004,
          0,
          0.16190794110298157,
          0.17463469505310059,
          0.25332626700401306,
          0.17627288401126862,
          0.16546614468097687,
          0.13042229413986206,
          0,
          0.2745780348777771,
          0.15052326023578644,
          0.19294428825378418,
          0.15488074719905853,
          0.16439318656921387,
          0.16434071958065033,
          0.21069101989269257,
          0.15826909244060516,
          0.19142591953277588,
          0.1561003029346466,
          0.13368837535381317,
          0.15641570091247559,
          0,
          0.19991819560527802,
          0.16776466369628906,
          0.2930241823196411,
          0.16096433997154236,
          0.16105884313583374,
          0.15903720259666443
         ]
        },
        {
         "line": {
          "shape": "linear"
         },
         "name": "span 1e-06_5 mean",
         "type": "scatter",
         "x": [
          "H3K4me2_ChIPSeq_CCR4Neg-Donor1",
          "H3K4me2_ChIPSeq_CCR4Neg-Donor11",
          "H3K4me2_ChIPSeq_CCR4Neg-Donor12",
          "H3K4me2_ChIPSeq_CCR4Neg-Donor13",
          "H3K4me2_ChIPSeq_CCR4Neg-Donor14",
          "H3K4me2_ChIPSeq_CCR4Neg-Donor15",
          "H3K4me2_ChIPSeq_CCR4Neg-Donor16",
          "H3K4me2_ChIPSeq_CCR4Neg-Donor17",
          "H3K4me2_ChIPSeq_CCR4Neg-Donor18",
          "H3K4me2_ChIPSeq_CCR4Neg-Donor19",
          "H3K4me2_ChIPSeq_CCR4Neg-Donor20",
          "H3K4me2_ChIPSeq_CCR4Neg-Donor21",
          "H3K4me2_ChIPSeq_CCR4Neg-Donor22",
          "H3K4me2_ChIPSeq_CCR4Neg-Donor23",
          "H3K4me2_ChIPSeq_CCR4Neg-Donor4",
          "H3K4me2_ChIPSeq_CCR4Neg-Donor5",
          "H3K4me2_ChIPSeq_CCR4Neg-Donor6",
          "H3K4me2_ChIPSeq_CCR4Neg-Donor7",
          "H3K4me2_ChIPSeq_CCR4Neg-Donor8",
          "H3K4me2_ChIPSeq_CCR4Neg-Donor9",
          "H3K4me2_ChIPSeq_CCR4pos-Donor1",
          "H3K4me2_ChIPSeq_CCR4pos-Donor10",
          "H3K4me2_ChIPSeq_CCR4pos-Donor11",
          "H3K4me2_ChIPSeq_CCR4pos-Donor12",
          "H3K4me2_ChIPSeq_CCR4pos-Donor13",
          "H3K4me2_ChIPSeq_CCR4pos-Donor14",
          "H3K4me2_ChIPSeq_CCR4pos-Donor15",
          "H3K4me2_ChIPSeq_CCR4pos-Donor16",
          "H3K4me2_ChIPSeq_CCR4pos-Donor17",
          "H3K4me2_ChIPSeq_CCR4pos-Donor18",
          "H3K4me2_ChIPSeq_CCR4pos-Donor19",
          "H3K4me2_ChIPSeq_CCR4pos-Donor2",
          "H3K4me2_ChIPSeq_CCR4pos-Donor20",
          "H3K4me2_ChIPSeq_CCR4pos-Donor21",
          "H3K4me2_ChIPSeq_CCR4pos-Donor22",
          "H3K4me2_ChIPSeq_CCR4pos-Donor23",
          "H3K4me2_ChIPSeq_CCR4pos-Donor3",
          "H3K4me2_ChIPSeq_CCR4pos-Donor4",
          "H3K4me2_ChIPSeq_CCR4pos-Donor5",
          "H3K4me2_ChIPSeq_CCR4pos-Donor7",
          "H3K4me2_ChIPSeq_CCR4pos-Donor8",
          "H3K4me2_ChIPSeq_CCR4pos-Donor9",
          "H3K4me2_ChIPSeq_Naive-Donor1",
          "H3K4me2_ChIPSeq_Naive-Donor10",
          "H3K4me2_ChIPSeq_Naive-Donor11",
          "H3K4me2_ChIPSeq_Naive-Donor12",
          "H3K4me2_ChIPSeq_Naive-Donor13",
          "H3K4me2_ChIPSeq_Naive-Donor14",
          "H3K4me2_ChIPSeq_Naive-Donor15",
          "H3K4me2_ChIPSeq_Naive-Donor16",
          "H3K4me2_ChIPSeq_Naive-Donor17",
          "H3K4me2_ChIPSeq_Naive-Donor18",
          "H3K4me2_ChIPSeq_Naive-Donor19",
          "H3K4me2_ChIPSeq_Naive-Donor2",
          "H3K4me2_ChIPSeq_Naive-Donor20",
          "H3K4me2_ChIPSeq_Naive-Donor21",
          "H3K4me2_ChIPSeq_Naive-Donor22",
          "H3K4me2_ChIPSeq_Naive-Donor23",
          "H3K4me2_ChIPSeq_Naive-Donor3",
          "H3K4me2_ChIPSeq_Naive-Donor5",
          "H3K4me2_ChIPSeq_Naive-Donor7",
          "H3K4me2_ChIPSeq_Naive-Donor8",
          "H3K4me2_ChIPSeq_Naive-Donor9"
         ],
         "y": [
          0.8158757090568542,
          1,
          0.8269512057304382,
          0.7555187344551086,
          0.7802960276603699,
          0.827538013458252,
          0.788095235824585,
          0.8286672830581665,
          0.7844982147216797,
          0.8090502023696899,
          1,
          0.8138572573661804,
          0.8308314085006714,
          0.8376848101615906,
          0.8618330359458923,
          0.8375574350357056,
          0.8394581079483032,
          1,
          0.7746754884719849,
          1,
          0.8308538794517517,
          1,
          0.7907398343086243,
          0.879441499710083,
          0.8175647258758545,
          0.8440207242965698,
          0.8749430179595947,
          0.8798052072525024,
          0.8619933724403381,
          0.8077290654182434,
          0.8591048121452332,
          0.7876763343811035,
          0.8572050929069519,
          0.8409473299980164,
          0.8646879196166992,
          0.8958096504211426,
          1,
          0.8470577001571655,
          0.8399370908737183,
          0.7856898903846741,
          0.8113391399383545,
          0.8416876196861267,
          0.7923882007598877,
          1,
          0.7726910710334778,
          0.8471747636795044,
          0.8193439245223999,
          0.8214656114578247,
          0.8787585496902466,
          0.8578258752822876,
          0.7721557021141052,
          0.7985248565673828,
          0.8590297102928162,
          0.8476269841194153,
          0.8634892106056213,
          0.7866881489753723,
          1,
          0.8342592716217041,
          0.8545876741409302,
          0.7373208403587341,
          0.8276753425598145,
          0.8038466572761536,
          0.8349667191505432
         ]
        },
        {
         "line": {
          "dash": "dot",
          "shape": "linear"
         },
         "name": "span 1e-06_5 std",
         "type": "scatter",
         "x": [
          "H3K4me2_ChIPSeq_CCR4Neg-Donor1",
          "H3K4me2_ChIPSeq_CCR4Neg-Donor11",
          "H3K4me2_ChIPSeq_CCR4Neg-Donor12",
          "H3K4me2_ChIPSeq_CCR4Neg-Donor13",
          "H3K4me2_ChIPSeq_CCR4Neg-Donor14",
          "H3K4me2_ChIPSeq_CCR4Neg-Donor15",
          "H3K4me2_ChIPSeq_CCR4Neg-Donor16",
          "H3K4me2_ChIPSeq_CCR4Neg-Donor17",
          "H3K4me2_ChIPSeq_CCR4Neg-Donor18",
          "H3K4me2_ChIPSeq_CCR4Neg-Donor19",
          "H3K4me2_ChIPSeq_CCR4Neg-Donor20",
          "H3K4me2_ChIPSeq_CCR4Neg-Donor21",
          "H3K4me2_ChIPSeq_CCR4Neg-Donor22",
          "H3K4me2_ChIPSeq_CCR4Neg-Donor23",
          "H3K4me2_ChIPSeq_CCR4Neg-Donor4",
          "H3K4me2_ChIPSeq_CCR4Neg-Donor5",
          "H3K4me2_ChIPSeq_CCR4Neg-Donor6",
          "H3K4me2_ChIPSeq_CCR4Neg-Donor7",
          "H3K4me2_ChIPSeq_CCR4Neg-Donor8",
          "H3K4me2_ChIPSeq_CCR4Neg-Donor9",
          "H3K4me2_ChIPSeq_CCR4pos-Donor1",
          "H3K4me2_ChIPSeq_CCR4pos-Donor10",
          "H3K4me2_ChIPSeq_CCR4pos-Donor11",
          "H3K4me2_ChIPSeq_CCR4pos-Donor12",
          "H3K4me2_ChIPSeq_CCR4pos-Donor13",
          "H3K4me2_ChIPSeq_CCR4pos-Donor14",
          "H3K4me2_ChIPSeq_CCR4pos-Donor15",
          "H3K4me2_ChIPSeq_CCR4pos-Donor16",
          "H3K4me2_ChIPSeq_CCR4pos-Donor17",
          "H3K4me2_ChIPSeq_CCR4pos-Donor18",
          "H3K4me2_ChIPSeq_CCR4pos-Donor19",
          "H3K4me2_ChIPSeq_CCR4pos-Donor2",
          "H3K4me2_ChIPSeq_CCR4pos-Donor20",
          "H3K4me2_ChIPSeq_CCR4pos-Donor21",
          "H3K4me2_ChIPSeq_CCR4pos-Donor22",
          "H3K4me2_ChIPSeq_CCR4pos-Donor23",
          "H3K4me2_ChIPSeq_CCR4pos-Donor3",
          "H3K4me2_ChIPSeq_CCR4pos-Donor4",
          "H3K4me2_ChIPSeq_CCR4pos-Donor5",
          "H3K4me2_ChIPSeq_CCR4pos-Donor7",
          "H3K4me2_ChIPSeq_CCR4pos-Donor8",
          "H3K4me2_ChIPSeq_CCR4pos-Donor9",
          "H3K4me2_ChIPSeq_Naive-Donor1",
          "H3K4me2_ChIPSeq_Naive-Donor10",
          "H3K4me2_ChIPSeq_Naive-Donor11",
          "H3K4me2_ChIPSeq_Naive-Donor12",
          "H3K4me2_ChIPSeq_Naive-Donor13",
          "H3K4me2_ChIPSeq_Naive-Donor14",
          "H3K4me2_ChIPSeq_Naive-Donor15",
          "H3K4me2_ChIPSeq_Naive-Donor16",
          "H3K4me2_ChIPSeq_Naive-Donor17",
          "H3K4me2_ChIPSeq_Naive-Donor18",
          "H3K4me2_ChIPSeq_Naive-Donor19",
          "H3K4me2_ChIPSeq_Naive-Donor2",
          "H3K4me2_ChIPSeq_Naive-Donor20",
          "H3K4me2_ChIPSeq_Naive-Donor21",
          "H3K4me2_ChIPSeq_Naive-Donor22",
          "H3K4me2_ChIPSeq_Naive-Donor23",
          "H3K4me2_ChIPSeq_Naive-Donor3",
          "H3K4me2_ChIPSeq_Naive-Donor5",
          "H3K4me2_ChIPSeq_Naive-Donor7",
          "H3K4me2_ChIPSeq_Naive-Donor8",
          "H3K4me2_ChIPSeq_Naive-Donor9"
         ],
         "y": [
          0.22556209564208984,
          0,
          0.19996820390224457,
          0.288083553314209,
          0.27265340089797974,
          0.2020229995250702,
          0.2567177414894104,
          0.19817887246608734,
          0.26320722699165344,
          0.29611533880233765,
          0,
          0.21659012138843536,
          0.20760615170001984,
          0.19447965919971466,
          0.16969263553619385,
          0.213186576962471,
          0.21331024169921875,
          0,
          0.36425697803497314,
          0,
          0.25847065448760986,
          0,
          0.2524338364601135,
          0.14911925792694092,
          0.2740345299243927,
          0.19652806222438812,
          0.1448110044002533,
          0.17045234143733978,
          0.20201057195663452,
          0.2238987684249878,
          0.1951379030942917,
          0.29730501770973206,
          0.21095618605613708,
          0.2662523686885834,
          0.15656593441963196,
          0.12349068373441696,
          0,
          0.2357722967863083,
          0.2560845911502838,
          0.31888169050216675,
          0.3109710216522217,
          0.2893332540988922,
          0.23424316942691803,
          0,
          0.29978862404823303,
          0.1777353435754776,
          0.20871292054653168,
          0.20886780321598053,
          0.14243857562541962,
          0.18568377196788788,
          0.31790590286254883,
          0.233474001288414,
          0.16959147155284882,
          0.1761307567358017,
          0.15775330364704132,
          0.18410640954971313,
          0,
          0.2697112262248993,
          0.1923384964466095,
          0.33170750737190247,
          0.2968025803565979,
          0.31150537729263306,
          0.2734656035900116
         ]
        }
       ],
       "layout": {
        "template": {
         "data": {
          "bar": [
           {
            "error_x": {
             "color": "#2a3f5f"
            },
            "error_y": {
             "color": "#2a3f5f"
            },
            "marker": {
             "line": {
              "color": "#E5ECF6",
              "width": 0.5
             }
            },
            "type": "bar"
           }
          ],
          "barpolar": [
           {
            "marker": {
             "line": {
              "color": "#E5ECF6",
              "width": 0.5
             }
            },
            "type": "barpolar"
           }
          ],
          "carpet": [
           {
            "aaxis": {
             "endlinecolor": "#2a3f5f",
             "gridcolor": "white",
             "linecolor": "white",
             "minorgridcolor": "white",
             "startlinecolor": "#2a3f5f"
            },
            "baxis": {
             "endlinecolor": "#2a3f5f",
             "gridcolor": "white",
             "linecolor": "white",
             "minorgridcolor": "white",
             "startlinecolor": "#2a3f5f"
            },
            "type": "carpet"
           }
          ],
          "choropleth": [
           {
            "colorbar": {
             "outlinewidth": 0,
             "ticks": ""
            },
            "type": "choropleth"
           }
          ],
          "contour": [
           {
            "colorbar": {
             "outlinewidth": 0,
             "ticks": ""
            },
            "colorscale": [
             [
              0,
              "#0d0887"
             ],
             [
              0.1111111111111111,
              "#46039f"
             ],
             [
              0.2222222222222222,
              "#7201a8"
             ],
             [
              0.3333333333333333,
              "#9c179e"
             ],
             [
              0.4444444444444444,
              "#bd3786"
             ],
             [
              0.5555555555555556,
              "#d8576b"
             ],
             [
              0.6666666666666666,
              "#ed7953"
             ],
             [
              0.7777777777777778,
              "#fb9f3a"
             ],
             [
              0.8888888888888888,
              "#fdca26"
             ],
             [
              1,
              "#f0f921"
             ]
            ],
            "type": "contour"
           }
          ],
          "contourcarpet": [
           {
            "colorbar": {
             "outlinewidth": 0,
             "ticks": ""
            },
            "type": "contourcarpet"
           }
          ],
          "heatmap": [
           {
            "colorbar": {
             "outlinewidth": 0,
             "ticks": ""
            },
            "colorscale": [
             [
              0,
              "#0d0887"
             ],
             [
              0.1111111111111111,
              "#46039f"
             ],
             [
              0.2222222222222222,
              "#7201a8"
             ],
             [
              0.3333333333333333,
              "#9c179e"
             ],
             [
              0.4444444444444444,
              "#bd3786"
             ],
             [
              0.5555555555555556,
              "#d8576b"
             ],
             [
              0.6666666666666666,
              "#ed7953"
             ],
             [
              0.7777777777777778,
              "#fb9f3a"
             ],
             [
              0.8888888888888888,
              "#fdca26"
             ],
             [
              1,
              "#f0f921"
             ]
            ],
            "type": "heatmap"
           }
          ],
          "heatmapgl": [
           {
            "colorbar": {
             "outlinewidth": 0,
             "ticks": ""
            },
            "colorscale": [
             [
              0,
              "#0d0887"
             ],
             [
              0.1111111111111111,
              "#46039f"
             ],
             [
              0.2222222222222222,
              "#7201a8"
             ],
             [
              0.3333333333333333,
              "#9c179e"
             ],
             [
              0.4444444444444444,
              "#bd3786"
             ],
             [
              0.5555555555555556,
              "#d8576b"
             ],
             [
              0.6666666666666666,
              "#ed7953"
             ],
             [
              0.7777777777777778,
              "#fb9f3a"
             ],
             [
              0.8888888888888888,
              "#fdca26"
             ],
             [
              1,
              "#f0f921"
             ]
            ],
            "type": "heatmapgl"
           }
          ],
          "histogram": [
           {
            "marker": {
             "colorbar": {
              "outlinewidth": 0,
              "ticks": ""
             }
            },
            "type": "histogram"
           }
          ],
          "histogram2d": [
           {
            "colorbar": {
             "outlinewidth": 0,
             "ticks": ""
            },
            "colorscale": [
             [
              0,
              "#0d0887"
             ],
             [
              0.1111111111111111,
              "#46039f"
             ],
             [
              0.2222222222222222,
              "#7201a8"
             ],
             [
              0.3333333333333333,
              "#9c179e"
             ],
             [
              0.4444444444444444,
              "#bd3786"
             ],
             [
              0.5555555555555556,
              "#d8576b"
             ],
             [
              0.6666666666666666,
              "#ed7953"
             ],
             [
              0.7777777777777778,
              "#fb9f3a"
             ],
             [
              0.8888888888888888,
              "#fdca26"
             ],
             [
              1,
              "#f0f921"
             ]
            ],
            "type": "histogram2d"
           }
          ],
          "histogram2dcontour": [
           {
            "colorbar": {
             "outlinewidth": 0,
             "ticks": ""
            },
            "colorscale": [
             [
              0,
              "#0d0887"
             ],
             [
              0.1111111111111111,
              "#46039f"
             ],
             [
              0.2222222222222222,
              "#7201a8"
             ],
             [
              0.3333333333333333,
              "#9c179e"
             ],
             [
              0.4444444444444444,
              "#bd3786"
             ],
             [
              0.5555555555555556,
              "#d8576b"
             ],
             [
              0.6666666666666666,
              "#ed7953"
             ],
             [
              0.7777777777777778,
              "#fb9f3a"
             ],
             [
              0.8888888888888888,
              "#fdca26"
             ],
             [
              1,
              "#f0f921"
             ]
            ],
            "type": "histogram2dcontour"
           }
          ],
          "mesh3d": [
           {
            "colorbar": {
             "outlinewidth": 0,
             "ticks": ""
            },
            "type": "mesh3d"
           }
          ],
          "parcoords": [
           {
            "line": {
             "colorbar": {
              "outlinewidth": 0,
              "ticks": ""
             }
            },
            "type": "parcoords"
           }
          ],
          "pie": [
           {
            "automargin": true,
            "type": "pie"
           }
          ],
          "scatter": [
           {
            "marker": {
             "colorbar": {
              "outlinewidth": 0,
              "ticks": ""
             }
            },
            "type": "scatter"
           }
          ],
          "scatter3d": [
           {
            "line": {
             "colorbar": {
              "outlinewidth": 0,
              "ticks": ""
             }
            },
            "marker": {
             "colorbar": {
              "outlinewidth": 0,
              "ticks": ""
             }
            },
            "type": "scatter3d"
           }
          ],
          "scattercarpet": [
           {
            "marker": {
             "colorbar": {
              "outlinewidth": 0,
              "ticks": ""
             }
            },
            "type": "scattercarpet"
           }
          ],
          "scattergeo": [
           {
            "marker": {
             "colorbar": {
              "outlinewidth": 0,
              "ticks": ""
             }
            },
            "type": "scattergeo"
           }
          ],
          "scattergl": [
           {
            "marker": {
             "colorbar": {
              "outlinewidth": 0,
              "ticks": ""
             }
            },
            "type": "scattergl"
           }
          ],
          "scattermapbox": [
           {
            "marker": {
             "colorbar": {
              "outlinewidth": 0,
              "ticks": ""
             }
            },
            "type": "scattermapbox"
           }
          ],
          "scatterpolar": [
           {
            "marker": {
             "colorbar": {
              "outlinewidth": 0,
              "ticks": ""
             }
            },
            "type": "scatterpolar"
           }
          ],
          "scatterpolargl": [
           {
            "marker": {
             "colorbar": {
              "outlinewidth": 0,
              "ticks": ""
             }
            },
            "type": "scatterpolargl"
           }
          ],
          "scatterternary": [
           {
            "marker": {
             "colorbar": {
              "outlinewidth": 0,
              "ticks": ""
             }
            },
            "type": "scatterternary"
           }
          ],
          "surface": [
           {
            "colorbar": {
             "outlinewidth": 0,
             "ticks": ""
            },
            "colorscale": [
             [
              0,
              "#0d0887"
             ],
             [
              0.1111111111111111,
              "#46039f"
             ],
             [
              0.2222222222222222,
              "#7201a8"
             ],
             [
              0.3333333333333333,
              "#9c179e"
             ],
             [
              0.4444444444444444,
              "#bd3786"
             ],
             [
              0.5555555555555556,
              "#d8576b"
             ],
             [
              0.6666666666666666,
              "#ed7953"
             ],
             [
              0.7777777777777778,
              "#fb9f3a"
             ],
             [
              0.8888888888888888,
              "#fdca26"
             ],
             [
              1,
              "#f0f921"
             ]
            ],
            "type": "surface"
           }
          ],
          "table": [
           {
            "cells": {
             "fill": {
              "color": "#EBF0F8"
             },
             "line": {
              "color": "white"
             }
            },
            "header": {
             "fill": {
              "color": "#C8D4E3"
             },
             "line": {
              "color": "white"
             }
            },
            "type": "table"
           }
          ]
         },
         "layout": {
          "annotationdefaults": {
           "arrowcolor": "#2a3f5f",
           "arrowhead": 0,
           "arrowwidth": 1
          },
          "coloraxis": {
           "colorbar": {
            "outlinewidth": 0,
            "ticks": ""
           }
          },
          "colorscale": {
           "diverging": [
            [
             0,
             "#8e0152"
            ],
            [
             0.1,
             "#c51b7d"
            ],
            [
             0.2,
             "#de77ae"
            ],
            [
             0.3,
             "#f1b6da"
            ],
            [
             0.4,
             "#fde0ef"
            ],
            [
             0.5,
             "#f7f7f7"
            ],
            [
             0.6,
             "#e6f5d0"
            ],
            [
             0.7,
             "#b8e186"
            ],
            [
             0.8,
             "#7fbc41"
            ],
            [
             0.9,
             "#4d9221"
            ],
            [
             1,
             "#276419"
            ]
           ],
           "sequential": [
            [
             0,
             "#0d0887"
            ],
            [
             0.1111111111111111,
             "#46039f"
            ],
            [
             0.2222222222222222,
             "#7201a8"
            ],
            [
             0.3333333333333333,
             "#9c179e"
            ],
            [
             0.4444444444444444,
             "#bd3786"
            ],
            [
             0.5555555555555556,
             "#d8576b"
            ],
            [
             0.6666666666666666,
             "#ed7953"
            ],
            [
             0.7777777777777778,
             "#fb9f3a"
            ],
            [
             0.8888888888888888,
             "#fdca26"
            ],
            [
             1,
             "#f0f921"
            ]
           ],
           "sequentialminus": [
            [
             0,
             "#0d0887"
            ],
            [
             0.1111111111111111,
             "#46039f"
            ],
            [
             0.2222222222222222,
             "#7201a8"
            ],
            [
             0.3333333333333333,
             "#9c179e"
            ],
            [
             0.4444444444444444,
             "#bd3786"
            ],
            [
             0.5555555555555556,
             "#d8576b"
            ],
            [
             0.6666666666666666,
             "#ed7953"
            ],
            [
             0.7777777777777778,
             "#fb9f3a"
            ],
            [
             0.8888888888888888,
             "#fdca26"
            ],
            [
             1,
             "#f0f921"
            ]
           ]
          },
          "colorway": [
           "#636efa",
           "#EF553B",
           "#00cc96",
           "#ab63fa",
           "#FFA15A",
           "#19d3f3",
           "#FF6692",
           "#B6E880",
           "#FF97FF",
           "#FECB52"
          ],
          "font": {
           "color": "#2a3f5f"
          },
          "geo": {
           "bgcolor": "white",
           "lakecolor": "white",
           "landcolor": "#E5ECF6",
           "showlakes": true,
           "showland": true,
           "subunitcolor": "white"
          },
          "hoverlabel": {
           "align": "left"
          },
          "hovermode": "closest",
          "mapbox": {
           "style": "light"
          },
          "paper_bgcolor": "white",
          "plot_bgcolor": "#E5ECF6",
          "polar": {
           "angularaxis": {
            "gridcolor": "white",
            "linecolor": "white",
            "ticks": ""
           },
           "bgcolor": "#E5ECF6",
           "radialaxis": {
            "gridcolor": "white",
            "linecolor": "white",
            "ticks": ""
           }
          },
          "scene": {
           "xaxis": {
            "backgroundcolor": "#E5ECF6",
            "gridcolor": "white",
            "gridwidth": 2,
            "linecolor": "white",
            "showbackground": true,
            "ticks": "",
            "zerolinecolor": "white"
           },
           "yaxis": {
            "backgroundcolor": "#E5ECF6",
            "gridcolor": "white",
            "gridwidth": 2,
            "linecolor": "white",
            "showbackground": true,
            "ticks": "",
            "zerolinecolor": "white"
           },
           "zaxis": {
            "backgroundcolor": "#E5ECF6",
            "gridcolor": "white",
            "gridwidth": 2,
            "linecolor": "white",
            "showbackground": true,
            "ticks": "",
            "zerolinecolor": "white"
           }
          },
          "shapedefaults": {
           "line": {
            "color": "#2a3f5f"
           }
          },
          "ternary": {
           "aaxis": {
            "gridcolor": "white",
            "linecolor": "white",
            "ticks": ""
           },
           "baxis": {
            "gridcolor": "white",
            "linecolor": "white",
            "ticks": ""
           },
           "bgcolor": "#E5ECF6",
           "caxis": {
            "gridcolor": "white",
            "linecolor": "white",
            "ticks": ""
           }
          },
          "title": {
           "x": 0.05
          },
          "xaxis": {
           "automargin": true,
           "gridcolor": "white",
           "linecolor": "white",
           "ticks": "",
           "title": {
            "standoff": 15
           },
           "zerolinecolor": "white",
           "zerolinewidth": 2
          },
          "yaxis": {
           "automargin": true,
           "gridcolor": "white",
           "linecolor": "white",
           "ticks": "",
           "title": {
            "standoff": 15
           },
           "zerolinecolor": "white",
           "zerolinewidth": 2
          }
         }
        },
        "title": {
         "text": "Overlap"
        }
       }
      },
      "text/html": [
       "<div>\n",
       "        \n",
       "        \n",
       "            <div id=\"c219c2c6-6bc5-45ec-a5dc-a23a097085e5\" class=\"plotly-graph-div\" style=\"height:525px; width:100%;\"></div>\n",
       "            <script type=\"text/javascript\">\n",
       "                require([\"plotly\"], function(Plotly) {\n",
       "                    window.PLOTLYENV=window.PLOTLYENV || {};\n",
       "                    \n",
       "                if (document.getElementById(\"c219c2c6-6bc5-45ec-a5dc-a23a097085e5\")) {\n",
       "                    Plotly.newPlot(\n",
       "                        'c219c2c6-6bc5-45ec-a5dc-a23a097085e5',\n",
       "                        [{\"line\": {\"shape\": \"linear\"}, \"name\": \"span 0.05_0 mean\", \"type\": \"scatter\", \"x\": [\"H3K4me2_ChIPSeq_CCR4Neg-Donor1\", \"H3K4me2_ChIPSeq_CCR4Neg-Donor11\", \"H3K4me2_ChIPSeq_CCR4Neg-Donor12\", \"H3K4me2_ChIPSeq_CCR4Neg-Donor13\", \"H3K4me2_ChIPSeq_CCR4Neg-Donor14\", \"H3K4me2_ChIPSeq_CCR4Neg-Donor15\", \"H3K4me2_ChIPSeq_CCR4Neg-Donor16\", \"H3K4me2_ChIPSeq_CCR4Neg-Donor17\", \"H3K4me2_ChIPSeq_CCR4Neg-Donor18\", \"H3K4me2_ChIPSeq_CCR4Neg-Donor19\", \"H3K4me2_ChIPSeq_CCR4Neg-Donor20\", \"H3K4me2_ChIPSeq_CCR4Neg-Donor21\", \"H3K4me2_ChIPSeq_CCR4Neg-Donor22\", \"H3K4me2_ChIPSeq_CCR4Neg-Donor23\", \"H3K4me2_ChIPSeq_CCR4Neg-Donor4\", \"H3K4me2_ChIPSeq_CCR4Neg-Donor5\", \"H3K4me2_ChIPSeq_CCR4Neg-Donor6\", \"H3K4me2_ChIPSeq_CCR4Neg-Donor7\", \"H3K4me2_ChIPSeq_CCR4Neg-Donor8\", \"H3K4me2_ChIPSeq_CCR4Neg-Donor9\", \"H3K4me2_ChIPSeq_CCR4pos-Donor1\", \"H3K4me2_ChIPSeq_CCR4pos-Donor10\", \"H3K4me2_ChIPSeq_CCR4pos-Donor11\", \"H3K4me2_ChIPSeq_CCR4pos-Donor12\", \"H3K4me2_ChIPSeq_CCR4pos-Donor13\", \"H3K4me2_ChIPSeq_CCR4pos-Donor14\", \"H3K4me2_ChIPSeq_CCR4pos-Donor15\", \"H3K4me2_ChIPSeq_CCR4pos-Donor16\", \"H3K4me2_ChIPSeq_CCR4pos-Donor17\", \"H3K4me2_ChIPSeq_CCR4pos-Donor18\", \"H3K4me2_ChIPSeq_CCR4pos-Donor19\", \"H3K4me2_ChIPSeq_CCR4pos-Donor2\", \"H3K4me2_ChIPSeq_CCR4pos-Donor20\", \"H3K4me2_ChIPSeq_CCR4pos-Donor21\", \"H3K4me2_ChIPSeq_CCR4pos-Donor22\", \"H3K4me2_ChIPSeq_CCR4pos-Donor23\", \"H3K4me2_ChIPSeq_CCR4pos-Donor3\", \"H3K4me2_ChIPSeq_CCR4pos-Donor4\", \"H3K4me2_ChIPSeq_CCR4pos-Donor5\", \"H3K4me2_ChIPSeq_CCR4pos-Donor7\", \"H3K4me2_ChIPSeq_CCR4pos-Donor8\", \"H3K4me2_ChIPSeq_CCR4pos-Donor9\", \"H3K4me2_ChIPSeq_Naive-Donor1\", \"H3K4me2_ChIPSeq_Naive-Donor10\", \"H3K4me2_ChIPSeq_Naive-Donor11\", \"H3K4me2_ChIPSeq_Naive-Donor12\", \"H3K4me2_ChIPSeq_Naive-Donor13\", \"H3K4me2_ChIPSeq_Naive-Donor14\", \"H3K4me2_ChIPSeq_Naive-Donor15\", \"H3K4me2_ChIPSeq_Naive-Donor16\", \"H3K4me2_ChIPSeq_Naive-Donor17\", \"H3K4me2_ChIPSeq_Naive-Donor18\", \"H3K4me2_ChIPSeq_Naive-Donor19\", \"H3K4me2_ChIPSeq_Naive-Donor2\", \"H3K4me2_ChIPSeq_Naive-Donor20\", \"H3K4me2_ChIPSeq_Naive-Donor21\", \"H3K4me2_ChIPSeq_Naive-Donor22\", \"H3K4me2_ChIPSeq_Naive-Donor23\", \"H3K4me2_ChIPSeq_Naive-Donor3\", \"H3K4me2_ChIPSeq_Naive-Donor5\", \"H3K4me2_ChIPSeq_Naive-Donor7\", \"H3K4me2_ChIPSeq_Naive-Donor8\", \"H3K4me2_ChIPSeq_Naive-Donor9\"], \"y\": [0.866673469543457, 1.0, 0.8704211711883545, 0.8466376662254333, 0.8367775082588196, 0.8587248921394348, 0.8515965342521667, 0.8827227354049683, 0.835398256778717, 0.8667827844619751, 1.0, 0.8523913621902466, 0.8532706499099731, 0.8608924150466919, 0.8752063512802124, 0.871780276298523, 0.8733059167861938, 1.0, 0.8404906988143921, 1.0, 0.849030613899231, 1.0, 0.8322175741195679, 0.8787353038787842, 0.8468547463417053, 0.8643991351127625, 0.8692266941070557, 0.8760392069816589, 0.8691746592521667, 0.8440486788749695, 0.8547918796539307, 0.8312234878540039, 0.8630613684654236, 0.8595296740531921, 0.8710052371025085, 0.8791626691818237, 1.0, 0.8615700006484985, 0.8575097322463989, 0.8253527879714966, 0.8494372963905334, 0.8547441959381104, 0.825659453868866, 1.0, 0.8339623212814331, 0.8715185523033142, 0.8566439747810364, 0.8700352907180786, 0.8757479190826416, 0.8714993000030518, 0.8258439302444458, 0.8589862585067749, 0.8648175001144409, 0.869523286819458, 0.8805644512176514, 0.8154445886611938, 1.0, 0.8523056507110596, 0.8683516979217529, 0.8194521069526672, 0.857839047908783, 0.8570289611816406, 0.8590112924575806]}, {\"line\": {\"dash\": \"dot\", \"shape\": \"linear\"}, \"name\": \"span 0.05_0 std\", \"type\": \"scatter\", \"x\": [\"H3K4me2_ChIPSeq_CCR4Neg-Donor1\", \"H3K4me2_ChIPSeq_CCR4Neg-Donor11\", \"H3K4me2_ChIPSeq_CCR4Neg-Donor12\", \"H3K4me2_ChIPSeq_CCR4Neg-Donor13\", \"H3K4me2_ChIPSeq_CCR4Neg-Donor14\", \"H3K4me2_ChIPSeq_CCR4Neg-Donor15\", \"H3K4me2_ChIPSeq_CCR4Neg-Donor16\", \"H3K4me2_ChIPSeq_CCR4Neg-Donor17\", \"H3K4me2_ChIPSeq_CCR4Neg-Donor18\", \"H3K4me2_ChIPSeq_CCR4Neg-Donor19\", \"H3K4me2_ChIPSeq_CCR4Neg-Donor20\", \"H3K4me2_ChIPSeq_CCR4Neg-Donor21\", \"H3K4me2_ChIPSeq_CCR4Neg-Donor22\", \"H3K4me2_ChIPSeq_CCR4Neg-Donor23\", \"H3K4me2_ChIPSeq_CCR4Neg-Donor4\", \"H3K4me2_ChIPSeq_CCR4Neg-Donor5\", \"H3K4me2_ChIPSeq_CCR4Neg-Donor6\", \"H3K4me2_ChIPSeq_CCR4Neg-Donor7\", \"H3K4me2_ChIPSeq_CCR4Neg-Donor8\", \"H3K4me2_ChIPSeq_CCR4Neg-Donor9\", \"H3K4me2_ChIPSeq_CCR4pos-Donor1\", \"H3K4me2_ChIPSeq_CCR4pos-Donor10\", \"H3K4me2_ChIPSeq_CCR4pos-Donor11\", \"H3K4me2_ChIPSeq_CCR4pos-Donor12\", \"H3K4me2_ChIPSeq_CCR4pos-Donor13\", \"H3K4me2_ChIPSeq_CCR4pos-Donor14\", \"H3K4me2_ChIPSeq_CCR4pos-Donor15\", \"H3K4me2_ChIPSeq_CCR4pos-Donor16\", \"H3K4me2_ChIPSeq_CCR4pos-Donor17\", \"H3K4me2_ChIPSeq_CCR4pos-Donor18\", \"H3K4me2_ChIPSeq_CCR4pos-Donor19\", \"H3K4me2_ChIPSeq_CCR4pos-Donor2\", \"H3K4me2_ChIPSeq_CCR4pos-Donor20\", \"H3K4me2_ChIPSeq_CCR4pos-Donor21\", \"H3K4me2_ChIPSeq_CCR4pos-Donor22\", \"H3K4me2_ChIPSeq_CCR4pos-Donor23\", \"H3K4me2_ChIPSeq_CCR4pos-Donor3\", \"H3K4me2_ChIPSeq_CCR4pos-Donor4\", \"H3K4me2_ChIPSeq_CCR4pos-Donor5\", \"H3K4me2_ChIPSeq_CCR4pos-Donor7\", \"H3K4me2_ChIPSeq_CCR4pos-Donor8\", \"H3K4me2_ChIPSeq_CCR4pos-Donor9\", \"H3K4me2_ChIPSeq_Naive-Donor1\", \"H3K4me2_ChIPSeq_Naive-Donor10\", \"H3K4me2_ChIPSeq_Naive-Donor11\", \"H3K4me2_ChIPSeq_Naive-Donor12\", \"H3K4me2_ChIPSeq_Naive-Donor13\", \"H3K4me2_ChIPSeq_Naive-Donor14\", \"H3K4me2_ChIPSeq_Naive-Donor15\", \"H3K4me2_ChIPSeq_Naive-Donor16\", \"H3K4me2_ChIPSeq_Naive-Donor17\", \"H3K4me2_ChIPSeq_Naive-Donor18\", \"H3K4me2_ChIPSeq_Naive-Donor19\", \"H3K4me2_ChIPSeq_Naive-Donor2\", \"H3K4me2_ChIPSeq_Naive-Donor20\", \"H3K4me2_ChIPSeq_Naive-Donor21\", \"H3K4me2_ChIPSeq_Naive-Donor22\", \"H3K4me2_ChIPSeq_Naive-Donor23\", \"H3K4me2_ChIPSeq_Naive-Donor3\", \"H3K4me2_ChIPSeq_Naive-Donor5\", \"H3K4me2_ChIPSeq_Naive-Donor7\", \"H3K4me2_ChIPSeq_Naive-Donor8\", \"H3K4me2_ChIPSeq_Naive-Donor9\"], \"y\": [0.15809255838394165, 0.0, 0.15430553257465363, 0.2156105786561966, 0.20779912173748016, 0.19690777361392975, 0.20760096609592438, 0.1355055868625641, 0.19090783596038818, 0.17302875220775604, 0.0, 0.19329166412353516, 0.18104632198810577, 0.16151362657546997, 0.15154752135276794, 0.15287426114082336, 0.1475691944360733, 0.0, 0.19993938505649567, 0.0, 0.20950362086296082, 0.0, 0.23486140370368958, 0.14251571893692017, 0.20844736695289612, 0.18045109510421753, 0.15516839921474457, 0.16154524683952332, 0.16859297454357147, 0.20609799027442932, 0.21592582762241364, 0.24692237377166748, 0.17475007474422455, 0.16417743265628815, 0.15071341395378113, 0.1696980595588684, 0.0, 0.16623231768608093, 0.17809413373470306, 0.24924692511558533, 0.17743107676506042, 0.16877275705337524, 0.1338222771883011, 0.0, 0.27889788150787354, 0.15542252361774445, 0.19785793125629425, 0.15968067944049835, 0.1689395308494568, 0.16868865489959717, 0.21007224917411804, 0.1628681719303131, 0.19623902440071106, 0.1605505496263504, 0.13865499198436737, 0.16063494980335236, 0.0, 0.2038235068321228, 0.17140601575374603, 0.27673858404159546, 0.16563381254673004, 0.16562362015247345, 0.16330520808696747]}, {\"line\": {\"shape\": \"linear\"}, \"name\": \"span 0.05_5 mean\", \"type\": \"scatter\", \"x\": [\"H3K4me2_ChIPSeq_CCR4Neg-Donor1\", \"H3K4me2_ChIPSeq_CCR4Neg-Donor11\", \"H3K4me2_ChIPSeq_CCR4Neg-Donor12\", \"H3K4me2_ChIPSeq_CCR4Neg-Donor13\", \"H3K4me2_ChIPSeq_CCR4Neg-Donor14\", \"H3K4me2_ChIPSeq_CCR4Neg-Donor15\", \"H3K4me2_ChIPSeq_CCR4Neg-Donor16\", \"H3K4me2_ChIPSeq_CCR4Neg-Donor17\", \"H3K4me2_ChIPSeq_CCR4Neg-Donor18\", \"H3K4me2_ChIPSeq_CCR4Neg-Donor19\", \"H3K4me2_ChIPSeq_CCR4Neg-Donor20\", \"H3K4me2_ChIPSeq_CCR4Neg-Donor21\", \"H3K4me2_ChIPSeq_CCR4Neg-Donor22\", \"H3K4me2_ChIPSeq_CCR4Neg-Donor23\", \"H3K4me2_ChIPSeq_CCR4Neg-Donor4\", \"H3K4me2_ChIPSeq_CCR4Neg-Donor5\", \"H3K4me2_ChIPSeq_CCR4Neg-Donor6\", \"H3K4me2_ChIPSeq_CCR4Neg-Donor7\", \"H3K4me2_ChIPSeq_CCR4Neg-Donor8\", \"H3K4me2_ChIPSeq_CCR4Neg-Donor9\", \"H3K4me2_ChIPSeq_CCR4pos-Donor1\", \"H3K4me2_ChIPSeq_CCR4pos-Donor10\", \"H3K4me2_ChIPSeq_CCR4pos-Donor11\", \"H3K4me2_ChIPSeq_CCR4pos-Donor12\", \"H3K4me2_ChIPSeq_CCR4pos-Donor13\", \"H3K4me2_ChIPSeq_CCR4pos-Donor14\", \"H3K4me2_ChIPSeq_CCR4pos-Donor15\", \"H3K4me2_ChIPSeq_CCR4pos-Donor16\", \"H3K4me2_ChIPSeq_CCR4pos-Donor17\", \"H3K4me2_ChIPSeq_CCR4pos-Donor18\", \"H3K4me2_ChIPSeq_CCR4pos-Donor19\", \"H3K4me2_ChIPSeq_CCR4pos-Donor2\", \"H3K4me2_ChIPSeq_CCR4pos-Donor20\", \"H3K4me2_ChIPSeq_CCR4pos-Donor21\", \"H3K4me2_ChIPSeq_CCR4pos-Donor22\", \"H3K4me2_ChIPSeq_CCR4pos-Donor23\", \"H3K4me2_ChIPSeq_CCR4pos-Donor3\", \"H3K4me2_ChIPSeq_CCR4pos-Donor4\", \"H3K4me2_ChIPSeq_CCR4pos-Donor5\", \"H3K4me2_ChIPSeq_CCR4pos-Donor7\", \"H3K4me2_ChIPSeq_CCR4pos-Donor8\", \"H3K4me2_ChIPSeq_CCR4pos-Donor9\", \"H3K4me2_ChIPSeq_Naive-Donor1\", \"H3K4me2_ChIPSeq_Naive-Donor10\", \"H3K4me2_ChIPSeq_Naive-Donor11\", \"H3K4me2_ChIPSeq_Naive-Donor12\", \"H3K4me2_ChIPSeq_Naive-Donor13\", \"H3K4me2_ChIPSeq_Naive-Donor14\", \"H3K4me2_ChIPSeq_Naive-Donor15\", \"H3K4me2_ChIPSeq_Naive-Donor16\", \"H3K4me2_ChIPSeq_Naive-Donor17\", \"H3K4me2_ChIPSeq_Naive-Donor18\", \"H3K4me2_ChIPSeq_Naive-Donor19\", \"H3K4me2_ChIPSeq_Naive-Donor2\", \"H3K4me2_ChIPSeq_Naive-Donor20\", \"H3K4me2_ChIPSeq_Naive-Donor21\", \"H3K4me2_ChIPSeq_Naive-Donor22\", \"H3K4me2_ChIPSeq_Naive-Donor23\", \"H3K4me2_ChIPSeq_Naive-Donor3\", \"H3K4me2_ChIPSeq_Naive-Donor5\", \"H3K4me2_ChIPSeq_Naive-Donor7\", \"H3K4me2_ChIPSeq_Naive-Donor8\", \"H3K4me2_ChIPSeq_Naive-Donor9\"], \"y\": [0.8716341853141785, 1.0, 0.8751696348190308, 0.8527942895889282, 0.8426221609115601, 0.8633240461349487, 0.8564897179603577, 0.8869904279708862, 0.8456003069877625, 0.8722518086433411, 1.0, 0.8563443422317505, 0.8569693565368652, 0.8661990165710449, 0.8791217803955078, 0.8757097721099854, 0.8772050142288208, 1.0, 0.8465580940246582, 1.0, 0.852080225944519, 1.0, 0.8339740037918091, 0.8816052675247192, 0.8502843976020813, 0.8678839802742004, 0.8735287189483643, 0.8793492913246155, 0.87226402759552, 0.8483121395111084, 0.8590266704559326, 0.8342451453208923, 0.8670657873153687, 0.8628687858581543, 0.8740285038948059, 0.8819728493690491, 1.0, 0.8653261661529541, 0.8609099388122559, 0.8264330625534058, 0.8515939712524414, 0.8577432036399841, 0.8299546837806702, 1.0, 0.8382556438446045, 0.8754161596298218, 0.8606639504432678, 0.8742728233337402, 0.8789873719215393, 0.8749424815177917, 0.8277008533477783, 0.8629698753356934, 0.8679764270782471, 0.8728084564208984, 0.884724497795105, 0.8205339908599854, 1.0, 0.8554123640060425, 0.8725141286849976, 0.8151793479919434, 0.8615838289260864, 0.8612264394760132, 0.8627738356590271]}, {\"line\": {\"dash\": \"dot\", \"shape\": \"linear\"}, \"name\": \"span 0.05_5 std\", \"type\": \"scatter\", \"x\": [\"H3K4me2_ChIPSeq_CCR4Neg-Donor1\", \"H3K4me2_ChIPSeq_CCR4Neg-Donor11\", \"H3K4me2_ChIPSeq_CCR4Neg-Donor12\", \"H3K4me2_ChIPSeq_CCR4Neg-Donor13\", \"H3K4me2_ChIPSeq_CCR4Neg-Donor14\", \"H3K4me2_ChIPSeq_CCR4Neg-Donor15\", \"H3K4me2_ChIPSeq_CCR4Neg-Donor16\", \"H3K4me2_ChIPSeq_CCR4Neg-Donor17\", \"H3K4me2_ChIPSeq_CCR4Neg-Donor18\", \"H3K4me2_ChIPSeq_CCR4Neg-Donor19\", \"H3K4me2_ChIPSeq_CCR4Neg-Donor20\", \"H3K4me2_ChIPSeq_CCR4Neg-Donor21\", \"H3K4me2_ChIPSeq_CCR4Neg-Donor22\", \"H3K4me2_ChIPSeq_CCR4Neg-Donor23\", \"H3K4me2_ChIPSeq_CCR4Neg-Donor4\", \"H3K4me2_ChIPSeq_CCR4Neg-Donor5\", \"H3K4me2_ChIPSeq_CCR4Neg-Donor6\", \"H3K4me2_ChIPSeq_CCR4Neg-Donor7\", \"H3K4me2_ChIPSeq_CCR4Neg-Donor8\", \"H3K4me2_ChIPSeq_CCR4Neg-Donor9\", \"H3K4me2_ChIPSeq_CCR4pos-Donor1\", \"H3K4me2_ChIPSeq_CCR4pos-Donor10\", \"H3K4me2_ChIPSeq_CCR4pos-Donor11\", \"H3K4me2_ChIPSeq_CCR4pos-Donor12\", \"H3K4me2_ChIPSeq_CCR4pos-Donor13\", \"H3K4me2_ChIPSeq_CCR4pos-Donor14\", \"H3K4me2_ChIPSeq_CCR4pos-Donor15\", \"H3K4me2_ChIPSeq_CCR4pos-Donor16\", \"H3K4me2_ChIPSeq_CCR4pos-Donor17\", \"H3K4me2_ChIPSeq_CCR4pos-Donor18\", \"H3K4me2_ChIPSeq_CCR4pos-Donor19\", \"H3K4me2_ChIPSeq_CCR4pos-Donor2\", \"H3K4me2_ChIPSeq_CCR4pos-Donor20\", \"H3K4me2_ChIPSeq_CCR4pos-Donor21\", \"H3K4me2_ChIPSeq_CCR4pos-Donor22\", \"H3K4me2_ChIPSeq_CCR4pos-Donor23\", \"H3K4me2_ChIPSeq_CCR4pos-Donor3\", \"H3K4me2_ChIPSeq_CCR4pos-Donor4\", \"H3K4me2_ChIPSeq_CCR4pos-Donor5\", \"H3K4me2_ChIPSeq_CCR4pos-Donor7\", \"H3K4me2_ChIPSeq_CCR4pos-Donor8\", \"H3K4me2_ChIPSeq_CCR4pos-Donor9\", \"H3K4me2_ChIPSeq_Naive-Donor1\", \"H3K4me2_ChIPSeq_Naive-Donor10\", \"H3K4me2_ChIPSeq_Naive-Donor11\", \"H3K4me2_ChIPSeq_Naive-Donor12\", \"H3K4me2_ChIPSeq_Naive-Donor13\", \"H3K4me2_ChIPSeq_Naive-Donor14\", \"H3K4me2_ChIPSeq_Naive-Donor15\", \"H3K4me2_ChIPSeq_Naive-Donor16\", \"H3K4me2_ChIPSeq_Naive-Donor17\", \"H3K4me2_ChIPSeq_Naive-Donor18\", \"H3K4me2_ChIPSeq_Naive-Donor19\", \"H3K4me2_ChIPSeq_Naive-Donor2\", \"H3K4me2_ChIPSeq_Naive-Donor20\", \"H3K4me2_ChIPSeq_Naive-Donor21\", \"H3K4me2_ChIPSeq_Naive-Donor22\", \"H3K4me2_ChIPSeq_Naive-Donor23\", \"H3K4me2_ChIPSeq_Naive-Donor3\", \"H3K4me2_ChIPSeq_Naive-Donor5\", \"H3K4me2_ChIPSeq_Naive-Donor7\", \"H3K4me2_ChIPSeq_Naive-Donor8\", \"H3K4me2_ChIPSeq_Naive-Donor9\"], \"y\": [0.15257643163204193, 0.0, 0.14864815771579742, 0.2093987911939621, 0.20058253407478333, 0.1902429163455963, 0.2011006772518158, 0.1304982304573059, 0.17961937189102173, 0.1665792614221573, 0.0, 0.18956714868545532, 0.17742706835269928, 0.15546488761901855, 0.14677396416664124, 0.14778612554073334, 0.14271700382232666, 0.0, 0.19448915123939514, 0.0, 0.20636919140815735, 0.0, 0.23783640563488007, 0.13900268077850342, 0.20412835478782654, 0.17605982720851898, 0.150375097990036, 0.15683118999004364, 0.16441303491592407, 0.20012813806533813, 0.20942534506320953, 0.24664771556854248, 0.16940981149673462, 0.16072098910808563, 0.14695054292678833, 0.16565802693367004, 0.0, 0.16190794110298157, 0.17463469505310059, 0.25332626700401306, 0.17627288401126862, 0.16546614468097687, 0.13042229413986206, 0.0, 0.2745780348777771, 0.15052326023578644, 0.19294428825378418, 0.15488074719905853, 0.16439318656921387, 0.16434071958065033, 0.21069101989269257, 0.15826909244060516, 0.19142591953277588, 0.1561003029346466, 0.13368837535381317, 0.15641570091247559, 0.0, 0.19991819560527802, 0.16776466369628906, 0.2930241823196411, 0.16096433997154236, 0.16105884313583374, 0.15903720259666443]}, {\"line\": {\"shape\": \"linear\"}, \"name\": \"span 1e-06_5 mean\", \"type\": \"scatter\", \"x\": [\"H3K4me2_ChIPSeq_CCR4Neg-Donor1\", \"H3K4me2_ChIPSeq_CCR4Neg-Donor11\", \"H3K4me2_ChIPSeq_CCR4Neg-Donor12\", \"H3K4me2_ChIPSeq_CCR4Neg-Donor13\", \"H3K4me2_ChIPSeq_CCR4Neg-Donor14\", \"H3K4me2_ChIPSeq_CCR4Neg-Donor15\", \"H3K4me2_ChIPSeq_CCR4Neg-Donor16\", \"H3K4me2_ChIPSeq_CCR4Neg-Donor17\", \"H3K4me2_ChIPSeq_CCR4Neg-Donor18\", \"H3K4me2_ChIPSeq_CCR4Neg-Donor19\", \"H3K4me2_ChIPSeq_CCR4Neg-Donor20\", \"H3K4me2_ChIPSeq_CCR4Neg-Donor21\", \"H3K4me2_ChIPSeq_CCR4Neg-Donor22\", \"H3K4me2_ChIPSeq_CCR4Neg-Donor23\", \"H3K4me2_ChIPSeq_CCR4Neg-Donor4\", \"H3K4me2_ChIPSeq_CCR4Neg-Donor5\", \"H3K4me2_ChIPSeq_CCR4Neg-Donor6\", \"H3K4me2_ChIPSeq_CCR4Neg-Donor7\", \"H3K4me2_ChIPSeq_CCR4Neg-Donor8\", \"H3K4me2_ChIPSeq_CCR4Neg-Donor9\", \"H3K4me2_ChIPSeq_CCR4pos-Donor1\", \"H3K4me2_ChIPSeq_CCR4pos-Donor10\", \"H3K4me2_ChIPSeq_CCR4pos-Donor11\", \"H3K4me2_ChIPSeq_CCR4pos-Donor12\", \"H3K4me2_ChIPSeq_CCR4pos-Donor13\", \"H3K4me2_ChIPSeq_CCR4pos-Donor14\", \"H3K4me2_ChIPSeq_CCR4pos-Donor15\", \"H3K4me2_ChIPSeq_CCR4pos-Donor16\", \"H3K4me2_ChIPSeq_CCR4pos-Donor17\", \"H3K4me2_ChIPSeq_CCR4pos-Donor18\", \"H3K4me2_ChIPSeq_CCR4pos-Donor19\", \"H3K4me2_ChIPSeq_CCR4pos-Donor2\", \"H3K4me2_ChIPSeq_CCR4pos-Donor20\", \"H3K4me2_ChIPSeq_CCR4pos-Donor21\", \"H3K4me2_ChIPSeq_CCR4pos-Donor22\", \"H3K4me2_ChIPSeq_CCR4pos-Donor23\", \"H3K4me2_ChIPSeq_CCR4pos-Donor3\", \"H3K4me2_ChIPSeq_CCR4pos-Donor4\", \"H3K4me2_ChIPSeq_CCR4pos-Donor5\", \"H3K4me2_ChIPSeq_CCR4pos-Donor7\", \"H3K4me2_ChIPSeq_CCR4pos-Donor8\", \"H3K4me2_ChIPSeq_CCR4pos-Donor9\", \"H3K4me2_ChIPSeq_Naive-Donor1\", \"H3K4me2_ChIPSeq_Naive-Donor10\", \"H3K4me2_ChIPSeq_Naive-Donor11\", \"H3K4me2_ChIPSeq_Naive-Donor12\", \"H3K4me2_ChIPSeq_Naive-Donor13\", \"H3K4me2_ChIPSeq_Naive-Donor14\", \"H3K4me2_ChIPSeq_Naive-Donor15\", \"H3K4me2_ChIPSeq_Naive-Donor16\", \"H3K4me2_ChIPSeq_Naive-Donor17\", \"H3K4me2_ChIPSeq_Naive-Donor18\", \"H3K4me2_ChIPSeq_Naive-Donor19\", \"H3K4me2_ChIPSeq_Naive-Donor2\", \"H3K4me2_ChIPSeq_Naive-Donor20\", \"H3K4me2_ChIPSeq_Naive-Donor21\", \"H3K4me2_ChIPSeq_Naive-Donor22\", \"H3K4me2_ChIPSeq_Naive-Donor23\", \"H3K4me2_ChIPSeq_Naive-Donor3\", \"H3K4me2_ChIPSeq_Naive-Donor5\", \"H3K4me2_ChIPSeq_Naive-Donor7\", \"H3K4me2_ChIPSeq_Naive-Donor8\", \"H3K4me2_ChIPSeq_Naive-Donor9\"], \"y\": [0.8158757090568542, 1.0, 0.8269512057304382, 0.7555187344551086, 0.7802960276603699, 0.827538013458252, 0.788095235824585, 0.8286672830581665, 0.7844982147216797, 0.8090502023696899, 1.0, 0.8138572573661804, 0.8308314085006714, 0.8376848101615906, 0.8618330359458923, 0.8375574350357056, 0.8394581079483032, 1.0, 0.7746754884719849, 1.0, 0.8308538794517517, 1.0, 0.7907398343086243, 0.879441499710083, 0.8175647258758545, 0.8440207242965698, 0.8749430179595947, 0.8798052072525024, 0.8619933724403381, 0.8077290654182434, 0.8591048121452332, 0.7876763343811035, 0.8572050929069519, 0.8409473299980164, 0.8646879196166992, 0.8958096504211426, 1.0, 0.8470577001571655, 0.8399370908737183, 0.7856898903846741, 0.8113391399383545, 0.8416876196861267, 0.7923882007598877, 1.0, 0.7726910710334778, 0.8471747636795044, 0.8193439245223999, 0.8214656114578247, 0.8787585496902466, 0.8578258752822876, 0.7721557021141052, 0.7985248565673828, 0.8590297102928162, 0.8476269841194153, 0.8634892106056213, 0.7866881489753723, 1.0, 0.8342592716217041, 0.8545876741409302, 0.7373208403587341, 0.8276753425598145, 0.8038466572761536, 0.8349667191505432]}, {\"line\": {\"dash\": \"dot\", \"shape\": \"linear\"}, \"name\": \"span 1e-06_5 std\", \"type\": \"scatter\", \"x\": [\"H3K4me2_ChIPSeq_CCR4Neg-Donor1\", \"H3K4me2_ChIPSeq_CCR4Neg-Donor11\", \"H3K4me2_ChIPSeq_CCR4Neg-Donor12\", \"H3K4me2_ChIPSeq_CCR4Neg-Donor13\", \"H3K4me2_ChIPSeq_CCR4Neg-Donor14\", \"H3K4me2_ChIPSeq_CCR4Neg-Donor15\", \"H3K4me2_ChIPSeq_CCR4Neg-Donor16\", \"H3K4me2_ChIPSeq_CCR4Neg-Donor17\", \"H3K4me2_ChIPSeq_CCR4Neg-Donor18\", \"H3K4me2_ChIPSeq_CCR4Neg-Donor19\", \"H3K4me2_ChIPSeq_CCR4Neg-Donor20\", \"H3K4me2_ChIPSeq_CCR4Neg-Donor21\", \"H3K4me2_ChIPSeq_CCR4Neg-Donor22\", \"H3K4me2_ChIPSeq_CCR4Neg-Donor23\", \"H3K4me2_ChIPSeq_CCR4Neg-Donor4\", \"H3K4me2_ChIPSeq_CCR4Neg-Donor5\", \"H3K4me2_ChIPSeq_CCR4Neg-Donor6\", \"H3K4me2_ChIPSeq_CCR4Neg-Donor7\", \"H3K4me2_ChIPSeq_CCR4Neg-Donor8\", \"H3K4me2_ChIPSeq_CCR4Neg-Donor9\", \"H3K4me2_ChIPSeq_CCR4pos-Donor1\", \"H3K4me2_ChIPSeq_CCR4pos-Donor10\", \"H3K4me2_ChIPSeq_CCR4pos-Donor11\", \"H3K4me2_ChIPSeq_CCR4pos-Donor12\", \"H3K4me2_ChIPSeq_CCR4pos-Donor13\", \"H3K4me2_ChIPSeq_CCR4pos-Donor14\", \"H3K4me2_ChIPSeq_CCR4pos-Donor15\", \"H3K4me2_ChIPSeq_CCR4pos-Donor16\", \"H3K4me2_ChIPSeq_CCR4pos-Donor17\", \"H3K4me2_ChIPSeq_CCR4pos-Donor18\", \"H3K4me2_ChIPSeq_CCR4pos-Donor19\", \"H3K4me2_ChIPSeq_CCR4pos-Donor2\", \"H3K4me2_ChIPSeq_CCR4pos-Donor20\", \"H3K4me2_ChIPSeq_CCR4pos-Donor21\", \"H3K4me2_ChIPSeq_CCR4pos-Donor22\", \"H3K4me2_ChIPSeq_CCR4pos-Donor23\", \"H3K4me2_ChIPSeq_CCR4pos-Donor3\", \"H3K4me2_ChIPSeq_CCR4pos-Donor4\", \"H3K4me2_ChIPSeq_CCR4pos-Donor5\", \"H3K4me2_ChIPSeq_CCR4pos-Donor7\", \"H3K4me2_ChIPSeq_CCR4pos-Donor8\", \"H3K4me2_ChIPSeq_CCR4pos-Donor9\", \"H3K4me2_ChIPSeq_Naive-Donor1\", \"H3K4me2_ChIPSeq_Naive-Donor10\", \"H3K4me2_ChIPSeq_Naive-Donor11\", \"H3K4me2_ChIPSeq_Naive-Donor12\", \"H3K4me2_ChIPSeq_Naive-Donor13\", \"H3K4me2_ChIPSeq_Naive-Donor14\", \"H3K4me2_ChIPSeq_Naive-Donor15\", \"H3K4me2_ChIPSeq_Naive-Donor16\", \"H3K4me2_ChIPSeq_Naive-Donor17\", \"H3K4me2_ChIPSeq_Naive-Donor18\", \"H3K4me2_ChIPSeq_Naive-Donor19\", \"H3K4me2_ChIPSeq_Naive-Donor2\", \"H3K4me2_ChIPSeq_Naive-Donor20\", \"H3K4me2_ChIPSeq_Naive-Donor21\", \"H3K4me2_ChIPSeq_Naive-Donor22\", \"H3K4me2_ChIPSeq_Naive-Donor23\", \"H3K4me2_ChIPSeq_Naive-Donor3\", \"H3K4me2_ChIPSeq_Naive-Donor5\", \"H3K4me2_ChIPSeq_Naive-Donor7\", \"H3K4me2_ChIPSeq_Naive-Donor8\", \"H3K4me2_ChIPSeq_Naive-Donor9\"], \"y\": [0.22556209564208984, 0.0, 0.19996820390224457, 0.288083553314209, 0.27265340089797974, 0.2020229995250702, 0.2567177414894104, 0.19817887246608734, 0.26320722699165344, 0.29611533880233765, 0.0, 0.21659012138843536, 0.20760615170001984, 0.19447965919971466, 0.16969263553619385, 0.213186576962471, 0.21331024169921875, 0.0, 0.36425697803497314, 0.0, 0.25847065448760986, 0.0, 0.2524338364601135, 0.14911925792694092, 0.2740345299243927, 0.19652806222438812, 0.1448110044002533, 0.17045234143733978, 0.20201057195663452, 0.2238987684249878, 0.1951379030942917, 0.29730501770973206, 0.21095618605613708, 0.2662523686885834, 0.15656593441963196, 0.12349068373441696, 0.0, 0.2357722967863083, 0.2560845911502838, 0.31888169050216675, 0.3109710216522217, 0.2893332540988922, 0.23424316942691803, 0.0, 0.29978862404823303, 0.1777353435754776, 0.20871292054653168, 0.20886780321598053, 0.14243857562541962, 0.18568377196788788, 0.31790590286254883, 0.233474001288414, 0.16959147155284882, 0.1761307567358017, 0.15775330364704132, 0.18410640954971313, 0.0, 0.2697112262248993, 0.1923384964466095, 0.33170750737190247, 0.2968025803565979, 0.31150537729263306, 0.2734656035900116]}],\n",
       "                        {\"template\": {\"data\": {\"bar\": [{\"error_x\": {\"color\": \"#2a3f5f\"}, \"error_y\": {\"color\": \"#2a3f5f\"}, \"marker\": {\"line\": {\"color\": \"#E5ECF6\", \"width\": 0.5}}, \"type\": \"bar\"}], \"barpolar\": [{\"marker\": {\"line\": {\"color\": \"#E5ECF6\", \"width\": 0.5}}, \"type\": \"barpolar\"}], \"carpet\": [{\"aaxis\": {\"endlinecolor\": \"#2a3f5f\", \"gridcolor\": \"white\", \"linecolor\": \"white\", \"minorgridcolor\": \"white\", \"startlinecolor\": \"#2a3f5f\"}, \"baxis\": {\"endlinecolor\": \"#2a3f5f\", \"gridcolor\": \"white\", \"linecolor\": \"white\", \"minorgridcolor\": \"white\", \"startlinecolor\": \"#2a3f5f\"}, \"type\": \"carpet\"}], \"choropleth\": [{\"colorbar\": {\"outlinewidth\": 0, \"ticks\": \"\"}, \"type\": \"choropleth\"}], \"contour\": [{\"colorbar\": {\"outlinewidth\": 0, \"ticks\": \"\"}, \"colorscale\": [[0.0, \"#0d0887\"], [0.1111111111111111, \"#46039f\"], [0.2222222222222222, \"#7201a8\"], [0.3333333333333333, \"#9c179e\"], [0.4444444444444444, \"#bd3786\"], [0.5555555555555556, \"#d8576b\"], [0.6666666666666666, \"#ed7953\"], [0.7777777777777778, \"#fb9f3a\"], [0.8888888888888888, \"#fdca26\"], [1.0, \"#f0f921\"]], \"type\": \"contour\"}], \"contourcarpet\": [{\"colorbar\": {\"outlinewidth\": 0, \"ticks\": \"\"}, \"type\": \"contourcarpet\"}], \"heatmap\": [{\"colorbar\": {\"outlinewidth\": 0, \"ticks\": \"\"}, \"colorscale\": [[0.0, \"#0d0887\"], [0.1111111111111111, \"#46039f\"], [0.2222222222222222, \"#7201a8\"], [0.3333333333333333, \"#9c179e\"], [0.4444444444444444, \"#bd3786\"], [0.5555555555555556, \"#d8576b\"], [0.6666666666666666, \"#ed7953\"], [0.7777777777777778, \"#fb9f3a\"], [0.8888888888888888, \"#fdca26\"], [1.0, \"#f0f921\"]], \"type\": \"heatmap\"}], \"heatmapgl\": [{\"colorbar\": {\"outlinewidth\": 0, \"ticks\": \"\"}, \"colorscale\": [[0.0, \"#0d0887\"], [0.1111111111111111, \"#46039f\"], [0.2222222222222222, \"#7201a8\"], [0.3333333333333333, \"#9c179e\"], [0.4444444444444444, \"#bd3786\"], [0.5555555555555556, \"#d8576b\"], [0.6666666666666666, \"#ed7953\"], [0.7777777777777778, \"#fb9f3a\"], [0.8888888888888888, \"#fdca26\"], [1.0, \"#f0f921\"]], \"type\": \"heatmapgl\"}], \"histogram\": [{\"marker\": {\"colorbar\": {\"outlinewidth\": 0, \"ticks\": \"\"}}, \"type\": \"histogram\"}], \"histogram2d\": [{\"colorbar\": {\"outlinewidth\": 0, \"ticks\": \"\"}, \"colorscale\": [[0.0, \"#0d0887\"], [0.1111111111111111, \"#46039f\"], [0.2222222222222222, \"#7201a8\"], [0.3333333333333333, \"#9c179e\"], [0.4444444444444444, \"#bd3786\"], [0.5555555555555556, \"#d8576b\"], [0.6666666666666666, \"#ed7953\"], [0.7777777777777778, \"#fb9f3a\"], [0.8888888888888888, \"#fdca26\"], [1.0, \"#f0f921\"]], \"type\": \"histogram2d\"}], \"histogram2dcontour\": [{\"colorbar\": {\"outlinewidth\": 0, \"ticks\": \"\"}, \"colorscale\": [[0.0, \"#0d0887\"], [0.1111111111111111, \"#46039f\"], [0.2222222222222222, \"#7201a8\"], [0.3333333333333333, \"#9c179e\"], [0.4444444444444444, \"#bd3786\"], [0.5555555555555556, \"#d8576b\"], [0.6666666666666666, \"#ed7953\"], [0.7777777777777778, \"#fb9f3a\"], [0.8888888888888888, \"#fdca26\"], [1.0, \"#f0f921\"]], \"type\": \"histogram2dcontour\"}], \"mesh3d\": [{\"colorbar\": {\"outlinewidth\": 0, \"ticks\": \"\"}, \"type\": \"mesh3d\"}], \"parcoords\": [{\"line\": {\"colorbar\": {\"outlinewidth\": 0, \"ticks\": \"\"}}, \"type\": \"parcoords\"}], \"pie\": [{\"automargin\": true, \"type\": \"pie\"}], \"scatter\": [{\"marker\": {\"colorbar\": {\"outlinewidth\": 0, \"ticks\": \"\"}}, \"type\": \"scatter\"}], \"scatter3d\": [{\"line\": {\"colorbar\": {\"outlinewidth\": 0, \"ticks\": \"\"}}, \"marker\": {\"colorbar\": {\"outlinewidth\": 0, \"ticks\": \"\"}}, \"type\": \"scatter3d\"}], \"scattercarpet\": [{\"marker\": {\"colorbar\": {\"outlinewidth\": 0, \"ticks\": \"\"}}, \"type\": \"scattercarpet\"}], \"scattergeo\": [{\"marker\": {\"colorbar\": {\"outlinewidth\": 0, \"ticks\": \"\"}}, \"type\": \"scattergeo\"}], \"scattergl\": [{\"marker\": {\"colorbar\": {\"outlinewidth\": 0, \"ticks\": \"\"}}, \"type\": \"scattergl\"}], \"scattermapbox\": [{\"marker\": {\"colorbar\": {\"outlinewidth\": 0, \"ticks\": \"\"}}, \"type\": \"scattermapbox\"}], \"scatterpolar\": [{\"marker\": {\"colorbar\": {\"outlinewidth\": 0, \"ticks\": \"\"}}, \"type\": \"scatterpolar\"}], \"scatterpolargl\": [{\"marker\": {\"colorbar\": {\"outlinewidth\": 0, \"ticks\": \"\"}}, \"type\": \"scatterpolargl\"}], \"scatterternary\": [{\"marker\": {\"colorbar\": {\"outlinewidth\": 0, \"ticks\": \"\"}}, \"type\": \"scatterternary\"}], \"surface\": [{\"colorbar\": {\"outlinewidth\": 0, \"ticks\": \"\"}, \"colorscale\": [[0.0, \"#0d0887\"], [0.1111111111111111, \"#46039f\"], [0.2222222222222222, \"#7201a8\"], [0.3333333333333333, \"#9c179e\"], [0.4444444444444444, \"#bd3786\"], [0.5555555555555556, \"#d8576b\"], [0.6666666666666666, \"#ed7953\"], [0.7777777777777778, \"#fb9f3a\"], [0.8888888888888888, \"#fdca26\"], [1.0, \"#f0f921\"]], \"type\": \"surface\"}], \"table\": [{\"cells\": {\"fill\": {\"color\": \"#EBF0F8\"}, \"line\": {\"color\": \"white\"}}, \"header\": {\"fill\": {\"color\": \"#C8D4E3\"}, \"line\": {\"color\": \"white\"}}, \"type\": \"table\"}]}, \"layout\": {\"annotationdefaults\": {\"arrowcolor\": \"#2a3f5f\", \"arrowhead\": 0, \"arrowwidth\": 1}, \"coloraxis\": {\"colorbar\": {\"outlinewidth\": 0, \"ticks\": \"\"}}, \"colorscale\": {\"diverging\": [[0, \"#8e0152\"], [0.1, \"#c51b7d\"], [0.2, \"#de77ae\"], [0.3, \"#f1b6da\"], [0.4, \"#fde0ef\"], [0.5, \"#f7f7f7\"], [0.6, \"#e6f5d0\"], [0.7, \"#b8e186\"], [0.8, \"#7fbc41\"], [0.9, \"#4d9221\"], [1, \"#276419\"]], \"sequential\": [[0.0, \"#0d0887\"], [0.1111111111111111, \"#46039f\"], [0.2222222222222222, \"#7201a8\"], [0.3333333333333333, \"#9c179e\"], [0.4444444444444444, \"#bd3786\"], [0.5555555555555556, \"#d8576b\"], [0.6666666666666666, \"#ed7953\"], [0.7777777777777778, \"#fb9f3a\"], [0.8888888888888888, \"#fdca26\"], [1.0, \"#f0f921\"]], \"sequentialminus\": [[0.0, \"#0d0887\"], [0.1111111111111111, \"#46039f\"], [0.2222222222222222, \"#7201a8\"], [0.3333333333333333, \"#9c179e\"], [0.4444444444444444, \"#bd3786\"], [0.5555555555555556, \"#d8576b\"], [0.6666666666666666, \"#ed7953\"], [0.7777777777777778, \"#fb9f3a\"], [0.8888888888888888, \"#fdca26\"], [1.0, \"#f0f921\"]]}, \"colorway\": [\"#636efa\", \"#EF553B\", \"#00cc96\", \"#ab63fa\", \"#FFA15A\", \"#19d3f3\", \"#FF6692\", \"#B6E880\", \"#FF97FF\", \"#FECB52\"], \"font\": {\"color\": \"#2a3f5f\"}, \"geo\": {\"bgcolor\": \"white\", \"lakecolor\": \"white\", \"landcolor\": \"#E5ECF6\", \"showlakes\": true, \"showland\": true, \"subunitcolor\": \"white\"}, \"hoverlabel\": {\"align\": \"left\"}, \"hovermode\": \"closest\", \"mapbox\": {\"style\": \"light\"}, \"paper_bgcolor\": \"white\", \"plot_bgcolor\": \"#E5ECF6\", \"polar\": {\"angularaxis\": {\"gridcolor\": \"white\", \"linecolor\": \"white\", \"ticks\": \"\"}, \"bgcolor\": \"#E5ECF6\", \"radialaxis\": {\"gridcolor\": \"white\", \"linecolor\": \"white\", \"ticks\": \"\"}}, \"scene\": {\"xaxis\": {\"backgroundcolor\": \"#E5ECF6\", \"gridcolor\": \"white\", \"gridwidth\": 2, \"linecolor\": \"white\", \"showbackground\": true, \"ticks\": \"\", \"zerolinecolor\": \"white\"}, \"yaxis\": {\"backgroundcolor\": \"#E5ECF6\", \"gridcolor\": \"white\", \"gridwidth\": 2, \"linecolor\": \"white\", \"showbackground\": true, \"ticks\": \"\", \"zerolinecolor\": \"white\"}, \"zaxis\": {\"backgroundcolor\": \"#E5ECF6\", \"gridcolor\": \"white\", \"gridwidth\": 2, \"linecolor\": \"white\", \"showbackground\": true, \"ticks\": \"\", \"zerolinecolor\": \"white\"}}, \"shapedefaults\": {\"line\": {\"color\": \"#2a3f5f\"}}, \"ternary\": {\"aaxis\": {\"gridcolor\": \"white\", \"linecolor\": \"white\", \"ticks\": \"\"}, \"baxis\": {\"gridcolor\": \"white\", \"linecolor\": \"white\", \"ticks\": \"\"}, \"bgcolor\": \"#E5ECF6\", \"caxis\": {\"gridcolor\": \"white\", \"linecolor\": \"white\", \"ticks\": \"\"}}, \"title\": {\"x\": 0.05}, \"xaxis\": {\"automargin\": true, \"gridcolor\": \"white\", \"linecolor\": \"white\", \"ticks\": \"\", \"title\": {\"standoff\": 15}, \"zerolinecolor\": \"white\", \"zerolinewidth\": 2}, \"yaxis\": {\"automargin\": true, \"gridcolor\": \"white\", \"linecolor\": \"white\", \"ticks\": \"\", \"title\": {\"standoff\": 15}, \"zerolinecolor\": \"white\", \"zerolinewidth\": 2}}}, \"title\": {\"text\": \"Overlap\"}},\n",
       "                        {\"responsive\": true}\n",
       "                    ).then(function(){\n",
       "                            \n",
       "var gd = document.getElementById('c219c2c6-6bc5-45ec-a5dc-a23a097085e5');\n",
       "var x = new MutationObserver(function (mutations, observer) {{\n",
       "        var display = window.getComputedStyle(gd).display;\n",
       "        if (!display || display === 'none') {{\n",
       "            console.log([gd, 'removed!']);\n",
       "            Plotly.purge(gd);\n",
       "            observer.disconnect();\n",
       "        }}\n",
       "}});\n",
       "\n",
       "// Listen for the removal of the full notebook cells\n",
       "var notebookContainer = gd.closest('#notebook-container');\n",
       "if (notebookContainer) {{\n",
       "    x.observe(notebookContainer, {childList: true});\n",
       "}}\n",
       "\n",
       "// Listen for the clearing of the current output cell\n",
       "var outputEl = gd.closest('.output');\n",
       "if (outputEl) {{\n",
       "    x.observe(outputEl, {childList: true});\n",
       "}}\n",
       "\n",
       "                        })\n",
       "                };\n",
       "                });\n",
       "            </script>\n",
       "        </div>"
      ]
     },
     "metadata": {},
     "output_type": "display_data"
    }
   ],
   "source": [
    "show_overlap(dfs)"
   ]
  },
  {
   "cell_type": "markdown",
   "metadata": {},
   "source": [
    "# Summary"
   ]
  },
  {
   "cell_type": "code",
   "execution_count": 139,
   "metadata": {},
   "outputs": [],
   "source": [
    "dfa = pd.concat([dfm, dfs.loc[dfs['level'] == 'span 0.05_0']])"
   ]
  },
  {
   "cell_type": "code",
   "execution_count": 140,
   "metadata": {},
   "outputs": [],
   "source": [
    "dfa_mean = dfa.groupby(['name', 'level'])['peaks'].mean().reset_index().sort_values(by=['name', 'level'])\n",
    "dfa_std = dfa.groupby(['name', 'level'])['peaks'].std().reset_index().fillna(0).sort_values(by=['name', 'level'])"
   ]
  },
  {
   "cell_type": "code",
   "execution_count": 142,
   "metadata": {},
   "outputs": [
    {
     "data": {
      "application/vnd.plotly.v1+json": {
       "config": {
        "plotlyServerURL": "https://plot.ly"
       },
       "data": [
        {
         "line": {
          "shape": "linear"
         },
         "name": "macs2 q0.05 mean",
         "type": "scatter",
         "x": [
          "H3K4me2_ChIPSeq_CCR4Neg-Donor1",
          "H3K4me2_ChIPSeq_CCR4Neg-Donor11",
          "H3K4me2_ChIPSeq_CCR4Neg-Donor12",
          "H3K4me2_ChIPSeq_CCR4Neg-Donor13",
          "H3K4me2_ChIPSeq_CCR4Neg-Donor14",
          "H3K4me2_ChIPSeq_CCR4Neg-Donor15",
          "H3K4me2_ChIPSeq_CCR4Neg-Donor16",
          "H3K4me2_ChIPSeq_CCR4Neg-Donor17",
          "H3K4me2_ChIPSeq_CCR4Neg-Donor18",
          "H3K4me2_ChIPSeq_CCR4Neg-Donor19",
          "H3K4me2_ChIPSeq_CCR4Neg-Donor20",
          "H3K4me2_ChIPSeq_CCR4Neg-Donor21",
          "H3K4me2_ChIPSeq_CCR4Neg-Donor22",
          "H3K4me2_ChIPSeq_CCR4Neg-Donor23",
          "H3K4me2_ChIPSeq_CCR4Neg-Donor4",
          "H3K4me2_ChIPSeq_CCR4Neg-Donor5",
          "H3K4me2_ChIPSeq_CCR4Neg-Donor6",
          "H3K4me2_ChIPSeq_CCR4Neg-Donor7",
          "H3K4me2_ChIPSeq_CCR4Neg-Donor8",
          "H3K4me2_ChIPSeq_CCR4Neg-Donor9",
          "H3K4me2_ChIPSeq_CCR4pos-Donor1",
          "H3K4me2_ChIPSeq_CCR4pos-Donor10",
          "H3K4me2_ChIPSeq_CCR4pos-Donor11",
          "H3K4me2_ChIPSeq_CCR4pos-Donor12",
          "H3K4me2_ChIPSeq_CCR4pos-Donor13",
          "H3K4me2_ChIPSeq_CCR4pos-Donor14",
          "H3K4me2_ChIPSeq_CCR4pos-Donor15",
          "H3K4me2_ChIPSeq_CCR4pos-Donor16",
          "H3K4me2_ChIPSeq_CCR4pos-Donor17",
          "H3K4me2_ChIPSeq_CCR4pos-Donor18",
          "H3K4me2_ChIPSeq_CCR4pos-Donor19",
          "H3K4me2_ChIPSeq_CCR4pos-Donor2",
          "H3K4me2_ChIPSeq_CCR4pos-Donor20",
          "H3K4me2_ChIPSeq_CCR4pos-Donor21",
          "H3K4me2_ChIPSeq_CCR4pos-Donor22",
          "H3K4me2_ChIPSeq_CCR4pos-Donor23",
          "H3K4me2_ChIPSeq_CCR4pos-Donor3",
          "H3K4me2_ChIPSeq_CCR4pos-Donor4",
          "H3K4me2_ChIPSeq_CCR4pos-Donor5",
          "H3K4me2_ChIPSeq_CCR4pos-Donor7",
          "H3K4me2_ChIPSeq_CCR4pos-Donor8",
          "H3K4me2_ChIPSeq_CCR4pos-Donor9",
          "H3K4me2_ChIPSeq_Naive-Donor1",
          "H3K4me2_ChIPSeq_Naive-Donor10",
          "H3K4me2_ChIPSeq_Naive-Donor11",
          "H3K4me2_ChIPSeq_Naive-Donor12",
          "H3K4me2_ChIPSeq_Naive-Donor13",
          "H3K4me2_ChIPSeq_Naive-Donor14",
          "H3K4me2_ChIPSeq_Naive-Donor15",
          "H3K4me2_ChIPSeq_Naive-Donor16",
          "H3K4me2_ChIPSeq_Naive-Donor17",
          "H3K4me2_ChIPSeq_Naive-Donor18",
          "H3K4me2_ChIPSeq_Naive-Donor19",
          "H3K4me2_ChIPSeq_Naive-Donor2",
          "H3K4me2_ChIPSeq_Naive-Donor20",
          "H3K4me2_ChIPSeq_Naive-Donor21",
          "H3K4me2_ChIPSeq_Naive-Donor22",
          "H3K4me2_ChIPSeq_Naive-Donor23",
          "H3K4me2_ChIPSeq_Naive-Donor3",
          "H3K4me2_ChIPSeq_Naive-Donor5",
          "H3K4me2_ChIPSeq_Naive-Donor7",
          "H3K4me2_ChIPSeq_Naive-Donor8",
          "H3K4me2_ChIPSeq_Naive-Donor9"
         ],
         "y": [
          115628,
          92678,
          88187.5,
          131170.5,
          101642,
          120372,
          109268,
          109916,
          127909.5,
          120811.5,
          106299,
          82292,
          109901.5,
          98679,
          96001,
          102387,
          104044,
          113690,
          132461.5,
          64068,
          108331,
          111743,
          121796,
          94091.5,
          71706.5,
          93958,
          100473.5,
          117112,
          95699.5,
          128470.5,
          106689,
          121865,
          110213.5,
          99154.5,
          94883,
          93596,
          84952,
          111065,
          108358,
          115008,
          135131,
          113035.5,
          106319.66666666667,
          120354,
          125518,
          88007,
          115011.5,
          134047,
          120004,
          108980.5,
          106117,
          85073,
          112973.5,
          114551,
          102874,
          124083.33333333333,
          69896,
          96490.5,
          144211,
          107222,
          133729,
          138250,
          103570.5
         ]
        },
        {
         "line": {
          "dash": "dot",
          "shape": "linear"
         },
         "name": "macs2 q0.05 std",
         "type": "scatter",
         "x": [
          "H3K4me2_ChIPSeq_CCR4Neg-Donor1",
          "H3K4me2_ChIPSeq_CCR4Neg-Donor11",
          "H3K4me2_ChIPSeq_CCR4Neg-Donor12",
          "H3K4me2_ChIPSeq_CCR4Neg-Donor13",
          "H3K4me2_ChIPSeq_CCR4Neg-Donor14",
          "H3K4me2_ChIPSeq_CCR4Neg-Donor15",
          "H3K4me2_ChIPSeq_CCR4Neg-Donor16",
          "H3K4me2_ChIPSeq_CCR4Neg-Donor17",
          "H3K4me2_ChIPSeq_CCR4Neg-Donor18",
          "H3K4me2_ChIPSeq_CCR4Neg-Donor19",
          "H3K4me2_ChIPSeq_CCR4Neg-Donor20",
          "H3K4me2_ChIPSeq_CCR4Neg-Donor21",
          "H3K4me2_ChIPSeq_CCR4Neg-Donor22",
          "H3K4me2_ChIPSeq_CCR4Neg-Donor23",
          "H3K4me2_ChIPSeq_CCR4Neg-Donor4",
          "H3K4me2_ChIPSeq_CCR4Neg-Donor5",
          "H3K4me2_ChIPSeq_CCR4Neg-Donor6",
          "H3K4me2_ChIPSeq_CCR4Neg-Donor7",
          "H3K4me2_ChIPSeq_CCR4Neg-Donor8",
          "H3K4me2_ChIPSeq_CCR4Neg-Donor9",
          "H3K4me2_ChIPSeq_CCR4pos-Donor1",
          "H3K4me2_ChIPSeq_CCR4pos-Donor10",
          "H3K4me2_ChIPSeq_CCR4pos-Donor11",
          "H3K4me2_ChIPSeq_CCR4pos-Donor12",
          "H3K4me2_ChIPSeq_CCR4pos-Donor13",
          "H3K4me2_ChIPSeq_CCR4pos-Donor14",
          "H3K4me2_ChIPSeq_CCR4pos-Donor15",
          "H3K4me2_ChIPSeq_CCR4pos-Donor16",
          "H3K4me2_ChIPSeq_CCR4pos-Donor17",
          "H3K4me2_ChIPSeq_CCR4pos-Donor18",
          "H3K4me2_ChIPSeq_CCR4pos-Donor19",
          "H3K4me2_ChIPSeq_CCR4pos-Donor2",
          "H3K4me2_ChIPSeq_CCR4pos-Donor20",
          "H3K4me2_ChIPSeq_CCR4pos-Donor21",
          "H3K4me2_ChIPSeq_CCR4pos-Donor22",
          "H3K4me2_ChIPSeq_CCR4pos-Donor23",
          "H3K4me2_ChIPSeq_CCR4pos-Donor3",
          "H3K4me2_ChIPSeq_CCR4pos-Donor4",
          "H3K4me2_ChIPSeq_CCR4pos-Donor5",
          "H3K4me2_ChIPSeq_CCR4pos-Donor7",
          "H3K4me2_ChIPSeq_CCR4pos-Donor8",
          "H3K4me2_ChIPSeq_CCR4pos-Donor9",
          "H3K4me2_ChIPSeq_Naive-Donor1",
          "H3K4me2_ChIPSeq_Naive-Donor10",
          "H3K4me2_ChIPSeq_Naive-Donor11",
          "H3K4me2_ChIPSeq_Naive-Donor12",
          "H3K4me2_ChIPSeq_Naive-Donor13",
          "H3K4me2_ChIPSeq_Naive-Donor14",
          "H3K4me2_ChIPSeq_Naive-Donor15",
          "H3K4me2_ChIPSeq_Naive-Donor16",
          "H3K4me2_ChIPSeq_Naive-Donor17",
          "H3K4me2_ChIPSeq_Naive-Donor18",
          "H3K4me2_ChIPSeq_Naive-Donor19",
          "H3K4me2_ChIPSeq_Naive-Donor2",
          "H3K4me2_ChIPSeq_Naive-Donor20",
          "H3K4me2_ChIPSeq_Naive-Donor21",
          "H3K4me2_ChIPSeq_Naive-Donor22",
          "H3K4me2_ChIPSeq_Naive-Donor23",
          "H3K4me2_ChIPSeq_Naive-Donor3",
          "H3K4me2_ChIPSeq_Naive-Donor5",
          "H3K4me2_ChIPSeq_Naive-Donor7",
          "H3K4me2_ChIPSeq_Naive-Donor8",
          "H3K4me2_ChIPSeq_Naive-Donor9"
         ],
         "y": [
          44848.954703537966,
          0,
          311.8340905032675,
          15325.125268656044,
          6375.274739177912,
          22289.41995656235,
          34157.500171997366,
          349.31074990615446,
          51664.75696739509,
          39533.63302935869,
          0,
          21551.200477003596,
          34784.70388690983,
          5289.158723275375,
          4625.892562522394,
          15901.41729532308,
          7710.292342058115,
          0,
          57482.831562998006,
          0,
          47544.44575342108,
          0,
          29876.675718694005,
          6633.368714311002,
          9044.602838157129,
          23297.75422653437,
          22298.612344717778,
          3836.7613947182067,
          4691.653493172743,
          32949.05468294956,
          24689.340371909493,
          15407.856762054871,
          32052.443284405013,
          29761.4173133606,
          32696.617562065956,
          8611.146381289776,
          0,
          8342.445804438888,
          11578.166435148529,
          12831.159651411092,
          19356.341028200553,
          35752.02596357303,
          26328.06951398703,
          0,
          3886.258869401265,
          30774.701330800923,
          3550.3831483376553,
          27051.07702107256,
          4466.086429974234,
          11209.763802150337,
          40286.70175132236,
          14338.71130890081,
          18498.62050262127,
          9049.552585625435,
          4871.965722375312,
          23924.463470124745,
          0,
          5664.632424085432,
          27526.25277802992,
          17321.287711945668,
          18981.57443417168,
          39665.86199744057,
          29465.846678824622
         ]
        },
        {
         "line": {
          "shape": "linear"
         },
         "name": "span 0.05_0 mean",
         "type": "scatter",
         "x": [
          "H3K4me2_ChIPSeq_CCR4Neg-Donor1",
          "H3K4me2_ChIPSeq_CCR4Neg-Donor11",
          "H3K4me2_ChIPSeq_CCR4Neg-Donor12",
          "H3K4me2_ChIPSeq_CCR4Neg-Donor13",
          "H3K4me2_ChIPSeq_CCR4Neg-Donor14",
          "H3K4me2_ChIPSeq_CCR4Neg-Donor15",
          "H3K4me2_ChIPSeq_CCR4Neg-Donor16",
          "H3K4me2_ChIPSeq_CCR4Neg-Donor17",
          "H3K4me2_ChIPSeq_CCR4Neg-Donor18",
          "H3K4me2_ChIPSeq_CCR4Neg-Donor19",
          "H3K4me2_ChIPSeq_CCR4Neg-Donor20",
          "H3K4me2_ChIPSeq_CCR4Neg-Donor21",
          "H3K4me2_ChIPSeq_CCR4Neg-Donor22",
          "H3K4me2_ChIPSeq_CCR4Neg-Donor23",
          "H3K4me2_ChIPSeq_CCR4Neg-Donor4",
          "H3K4me2_ChIPSeq_CCR4Neg-Donor5",
          "H3K4me2_ChIPSeq_CCR4Neg-Donor6",
          "H3K4me2_ChIPSeq_CCR4Neg-Donor7",
          "H3K4me2_ChIPSeq_CCR4Neg-Donor8",
          "H3K4me2_ChIPSeq_CCR4Neg-Donor9",
          "H3K4me2_ChIPSeq_CCR4pos-Donor1",
          "H3K4me2_ChIPSeq_CCR4pos-Donor10",
          "H3K4me2_ChIPSeq_CCR4pos-Donor11",
          "H3K4me2_ChIPSeq_CCR4pos-Donor12",
          "H3K4me2_ChIPSeq_CCR4pos-Donor13",
          "H3K4me2_ChIPSeq_CCR4pos-Donor14",
          "H3K4me2_ChIPSeq_CCR4pos-Donor15",
          "H3K4me2_ChIPSeq_CCR4pos-Donor16",
          "H3K4me2_ChIPSeq_CCR4pos-Donor17",
          "H3K4me2_ChIPSeq_CCR4pos-Donor18",
          "H3K4me2_ChIPSeq_CCR4pos-Donor19",
          "H3K4me2_ChIPSeq_CCR4pos-Donor2",
          "H3K4me2_ChIPSeq_CCR4pos-Donor20",
          "H3K4me2_ChIPSeq_CCR4pos-Donor21",
          "H3K4me2_ChIPSeq_CCR4pos-Donor22",
          "H3K4me2_ChIPSeq_CCR4pos-Donor23",
          "H3K4me2_ChIPSeq_CCR4pos-Donor3",
          "H3K4me2_ChIPSeq_CCR4pos-Donor4",
          "H3K4me2_ChIPSeq_CCR4pos-Donor5",
          "H3K4me2_ChIPSeq_CCR4pos-Donor7",
          "H3K4me2_ChIPSeq_CCR4pos-Donor8",
          "H3K4me2_ChIPSeq_CCR4pos-Donor9",
          "H3K4me2_ChIPSeq_Naive-Donor1",
          "H3K4me2_ChIPSeq_Naive-Donor10",
          "H3K4me2_ChIPSeq_Naive-Donor11",
          "H3K4me2_ChIPSeq_Naive-Donor12",
          "H3K4me2_ChIPSeq_Naive-Donor13",
          "H3K4me2_ChIPSeq_Naive-Donor14",
          "H3K4me2_ChIPSeq_Naive-Donor15",
          "H3K4me2_ChIPSeq_Naive-Donor16",
          "H3K4me2_ChIPSeq_Naive-Donor17",
          "H3K4me2_ChIPSeq_Naive-Donor18",
          "H3K4me2_ChIPSeq_Naive-Donor19",
          "H3K4me2_ChIPSeq_Naive-Donor2",
          "H3K4me2_ChIPSeq_Naive-Donor20",
          "H3K4me2_ChIPSeq_Naive-Donor21",
          "H3K4me2_ChIPSeq_Naive-Donor22",
          "H3K4me2_ChIPSeq_Naive-Donor23",
          "H3K4me2_ChIPSeq_Naive-Donor3",
          "H3K4me2_ChIPSeq_Naive-Donor5",
          "H3K4me2_ChIPSeq_Naive-Donor7",
          "H3K4me2_ChIPSeq_Naive-Donor8",
          "H3K4me2_ChIPSeq_Naive-Donor9"
         ],
         "y": [
          93813.5,
          89984,
          88224.5,
          121704,
          97122,
          87295.5,
          84361.5,
          100320,
          175484.5,
          101210.5,
          87723,
          75107.5,
          64608,
          83261.5,
          72727.5,
          76563.5,
          80836,
          113919,
          126356,
          65609,
          65008,
          96555,
          94958.5,
          51873.5,
          53258,
          56644,
          73741,
          58070,
          56780,
          69210.5,
          73295.5,
          92547,
          67998,
          63173,
          48300.5,
          55710,
          56010,
          66973,
          71123.5,
          109950,
          72427,
          56451,
          65312.333333333336,
          69815,
          109350.5,
          64973,
          72689,
          83029,
          65038.5,
          65933.5,
          90959.5,
          64747,
          55587.5,
          54473.5,
          74169.5,
          71862.66666666667,
          73572,
          59870.5,
          86298.5,
          166365,
          70066,
          81734,
          60792.5
         ]
        },
        {
         "line": {
          "dash": "dot",
          "shape": "linear"
         },
         "name": "span 0.05_0 std",
         "type": "scatter",
         "x": [
          "H3K4me2_ChIPSeq_CCR4Neg-Donor1",
          "H3K4me2_ChIPSeq_CCR4Neg-Donor11",
          "H3K4me2_ChIPSeq_CCR4Neg-Donor12",
          "H3K4me2_ChIPSeq_CCR4Neg-Donor13",
          "H3K4me2_ChIPSeq_CCR4Neg-Donor14",
          "H3K4me2_ChIPSeq_CCR4Neg-Donor15",
          "H3K4me2_ChIPSeq_CCR4Neg-Donor16",
          "H3K4me2_ChIPSeq_CCR4Neg-Donor17",
          "H3K4me2_ChIPSeq_CCR4Neg-Donor18",
          "H3K4me2_ChIPSeq_CCR4Neg-Donor19",
          "H3K4me2_ChIPSeq_CCR4Neg-Donor20",
          "H3K4me2_ChIPSeq_CCR4Neg-Donor21",
          "H3K4me2_ChIPSeq_CCR4Neg-Donor22",
          "H3K4me2_ChIPSeq_CCR4Neg-Donor23",
          "H3K4me2_ChIPSeq_CCR4Neg-Donor4",
          "H3K4me2_ChIPSeq_CCR4Neg-Donor5",
          "H3K4me2_ChIPSeq_CCR4Neg-Donor6",
          "H3K4me2_ChIPSeq_CCR4Neg-Donor7",
          "H3K4me2_ChIPSeq_CCR4Neg-Donor8",
          "H3K4me2_ChIPSeq_CCR4Neg-Donor9",
          "H3K4me2_ChIPSeq_CCR4pos-Donor1",
          "H3K4me2_ChIPSeq_CCR4pos-Donor10",
          "H3K4me2_ChIPSeq_CCR4pos-Donor11",
          "H3K4me2_ChIPSeq_CCR4pos-Donor12",
          "H3K4me2_ChIPSeq_CCR4pos-Donor13",
          "H3K4me2_ChIPSeq_CCR4pos-Donor14",
          "H3K4me2_ChIPSeq_CCR4pos-Donor15",
          "H3K4me2_ChIPSeq_CCR4pos-Donor16",
          "H3K4me2_ChIPSeq_CCR4pos-Donor17",
          "H3K4me2_ChIPSeq_CCR4pos-Donor18",
          "H3K4me2_ChIPSeq_CCR4pos-Donor19",
          "H3K4me2_ChIPSeq_CCR4pos-Donor2",
          "H3K4me2_ChIPSeq_CCR4pos-Donor20",
          "H3K4me2_ChIPSeq_CCR4pos-Donor21",
          "H3K4me2_ChIPSeq_CCR4pos-Donor22",
          "H3K4me2_ChIPSeq_CCR4pos-Donor23",
          "H3K4me2_ChIPSeq_CCR4pos-Donor3",
          "H3K4me2_ChIPSeq_CCR4pos-Donor4",
          "H3K4me2_ChIPSeq_CCR4pos-Donor5",
          "H3K4me2_ChIPSeq_CCR4pos-Donor7",
          "H3K4me2_ChIPSeq_CCR4pos-Donor8",
          "H3K4me2_ChIPSeq_CCR4pos-Donor9",
          "H3K4me2_ChIPSeq_Naive-Donor1",
          "H3K4me2_ChIPSeq_Naive-Donor10",
          "H3K4me2_ChIPSeq_Naive-Donor11",
          "H3K4me2_ChIPSeq_Naive-Donor12",
          "H3K4me2_ChIPSeq_Naive-Donor13",
          "H3K4me2_ChIPSeq_Naive-Donor14",
          "H3K4me2_ChIPSeq_Naive-Donor15",
          "H3K4me2_ChIPSeq_Naive-Donor16",
          "H3K4me2_ChIPSeq_Naive-Donor17",
          "H3K4me2_ChIPSeq_Naive-Donor18",
          "H3K4me2_ChIPSeq_Naive-Donor19",
          "H3K4me2_ChIPSeq_Naive-Donor2",
          "H3K4me2_ChIPSeq_Naive-Donor20",
          "H3K4me2_ChIPSeq_Naive-Donor21",
          "H3K4me2_ChIPSeq_Naive-Donor22",
          "H3K4me2_ChIPSeq_Naive-Donor23",
          "H3K4me2_ChIPSeq_Naive-Donor3",
          "H3K4me2_ChIPSeq_Naive-Donor5",
          "H3K4me2_ChIPSeq_Naive-Donor7",
          "H3K4me2_ChIPSeq_Naive-Donor8",
          "H3K4me2_ChIPSeq_Naive-Donor9"
         ],
         "y": [
          12652.261635770896,
          0,
          2799.435746717542,
          42170.43421640332,
          19442.608055505312,
          11430.38111788054,
          17326.237459413973,
          17524.934464927395,
          18881.872378024378,
          14429.928083673874,
          0,
          24084.764073994997,
          14335.882881776064,
          4913.685022465319,
          4100.512224100789,
          2574.5757903002195,
          8551.749411670105,
          0,
          43337.16040536112,
          0,
          23014.91151405975,
          0,
          55023.5141780312,
          224.15284963613556,
          12520.03266768901,
          7969.09342397239,
          8498.009296299928,
          6116.473657263636,
          6223.953888003991,
          13645.039556556807,
          16909.044458513912,
          53479.90007470096,
          7068.239384740729,
          9667.563912382479,
          1081.1662684342311,
          9131.576972243074,
          0,
          8459.825530115855,
          16375.885945499254,
          70614.51159641339,
          22051.83207808367,
          6791.053526515602,
          4803.473777729335,
          0,
          66867.55276290586,
          1018.2337649086285,
          17645.142617729107,
          12292.344284146942,
          10423.461061470896,
          10238.199084800022,
          41975.97985157702,
          666.0945878777278,
          10253.755433986125,
          3194.001330619635,
          881.7621561396247,
          11527.783582863332,
          0,
          15537.25730301201,
          24472.258590085225,
          149155.69020992797,
          4352.949344984387,
          13136.62978088368,
          4531.847360624583
         ]
        }
       ],
       "layout": {
        "template": {
         "data": {
          "bar": [
           {
            "error_x": {
             "color": "#2a3f5f"
            },
            "error_y": {
             "color": "#2a3f5f"
            },
            "marker": {
             "line": {
              "color": "#E5ECF6",
              "width": 0.5
             }
            },
            "type": "bar"
           }
          ],
          "barpolar": [
           {
            "marker": {
             "line": {
              "color": "#E5ECF6",
              "width": 0.5
             }
            },
            "type": "barpolar"
           }
          ],
          "carpet": [
           {
            "aaxis": {
             "endlinecolor": "#2a3f5f",
             "gridcolor": "white",
             "linecolor": "white",
             "minorgridcolor": "white",
             "startlinecolor": "#2a3f5f"
            },
            "baxis": {
             "endlinecolor": "#2a3f5f",
             "gridcolor": "white",
             "linecolor": "white",
             "minorgridcolor": "white",
             "startlinecolor": "#2a3f5f"
            },
            "type": "carpet"
           }
          ],
          "choropleth": [
           {
            "colorbar": {
             "outlinewidth": 0,
             "ticks": ""
            },
            "type": "choropleth"
           }
          ],
          "contour": [
           {
            "colorbar": {
             "outlinewidth": 0,
             "ticks": ""
            },
            "colorscale": [
             [
              0,
              "#0d0887"
             ],
             [
              0.1111111111111111,
              "#46039f"
             ],
             [
              0.2222222222222222,
              "#7201a8"
             ],
             [
              0.3333333333333333,
              "#9c179e"
             ],
             [
              0.4444444444444444,
              "#bd3786"
             ],
             [
              0.5555555555555556,
              "#d8576b"
             ],
             [
              0.6666666666666666,
              "#ed7953"
             ],
             [
              0.7777777777777778,
              "#fb9f3a"
             ],
             [
              0.8888888888888888,
              "#fdca26"
             ],
             [
              1,
              "#f0f921"
             ]
            ],
            "type": "contour"
           }
          ],
          "contourcarpet": [
           {
            "colorbar": {
             "outlinewidth": 0,
             "ticks": ""
            },
            "type": "contourcarpet"
           }
          ],
          "heatmap": [
           {
            "colorbar": {
             "outlinewidth": 0,
             "ticks": ""
            },
            "colorscale": [
             [
              0,
              "#0d0887"
             ],
             [
              0.1111111111111111,
              "#46039f"
             ],
             [
              0.2222222222222222,
              "#7201a8"
             ],
             [
              0.3333333333333333,
              "#9c179e"
             ],
             [
              0.4444444444444444,
              "#bd3786"
             ],
             [
              0.5555555555555556,
              "#d8576b"
             ],
             [
              0.6666666666666666,
              "#ed7953"
             ],
             [
              0.7777777777777778,
              "#fb9f3a"
             ],
             [
              0.8888888888888888,
              "#fdca26"
             ],
             [
              1,
              "#f0f921"
             ]
            ],
            "type": "heatmap"
           }
          ],
          "heatmapgl": [
           {
            "colorbar": {
             "outlinewidth": 0,
             "ticks": ""
            },
            "colorscale": [
             [
              0,
              "#0d0887"
             ],
             [
              0.1111111111111111,
              "#46039f"
             ],
             [
              0.2222222222222222,
              "#7201a8"
             ],
             [
              0.3333333333333333,
              "#9c179e"
             ],
             [
              0.4444444444444444,
              "#bd3786"
             ],
             [
              0.5555555555555556,
              "#d8576b"
             ],
             [
              0.6666666666666666,
              "#ed7953"
             ],
             [
              0.7777777777777778,
              "#fb9f3a"
             ],
             [
              0.8888888888888888,
              "#fdca26"
             ],
             [
              1,
              "#f0f921"
             ]
            ],
            "type": "heatmapgl"
           }
          ],
          "histogram": [
           {
            "marker": {
             "colorbar": {
              "outlinewidth": 0,
              "ticks": ""
             }
            },
            "type": "histogram"
           }
          ],
          "histogram2d": [
           {
            "colorbar": {
             "outlinewidth": 0,
             "ticks": ""
            },
            "colorscale": [
             [
              0,
              "#0d0887"
             ],
             [
              0.1111111111111111,
              "#46039f"
             ],
             [
              0.2222222222222222,
              "#7201a8"
             ],
             [
              0.3333333333333333,
              "#9c179e"
             ],
             [
              0.4444444444444444,
              "#bd3786"
             ],
             [
              0.5555555555555556,
              "#d8576b"
             ],
             [
              0.6666666666666666,
              "#ed7953"
             ],
             [
              0.7777777777777778,
              "#fb9f3a"
             ],
             [
              0.8888888888888888,
              "#fdca26"
             ],
             [
              1,
              "#f0f921"
             ]
            ],
            "type": "histogram2d"
           }
          ],
          "histogram2dcontour": [
           {
            "colorbar": {
             "outlinewidth": 0,
             "ticks": ""
            },
            "colorscale": [
             [
              0,
              "#0d0887"
             ],
             [
              0.1111111111111111,
              "#46039f"
             ],
             [
              0.2222222222222222,
              "#7201a8"
             ],
             [
              0.3333333333333333,
              "#9c179e"
             ],
             [
              0.4444444444444444,
              "#bd3786"
             ],
             [
              0.5555555555555556,
              "#d8576b"
             ],
             [
              0.6666666666666666,
              "#ed7953"
             ],
             [
              0.7777777777777778,
              "#fb9f3a"
             ],
             [
              0.8888888888888888,
              "#fdca26"
             ],
             [
              1,
              "#f0f921"
             ]
            ],
            "type": "histogram2dcontour"
           }
          ],
          "mesh3d": [
           {
            "colorbar": {
             "outlinewidth": 0,
             "ticks": ""
            },
            "type": "mesh3d"
           }
          ],
          "parcoords": [
           {
            "line": {
             "colorbar": {
              "outlinewidth": 0,
              "ticks": ""
             }
            },
            "type": "parcoords"
           }
          ],
          "pie": [
           {
            "automargin": true,
            "type": "pie"
           }
          ],
          "scatter": [
           {
            "marker": {
             "colorbar": {
              "outlinewidth": 0,
              "ticks": ""
             }
            },
            "type": "scatter"
           }
          ],
          "scatter3d": [
           {
            "line": {
             "colorbar": {
              "outlinewidth": 0,
              "ticks": ""
             }
            },
            "marker": {
             "colorbar": {
              "outlinewidth": 0,
              "ticks": ""
             }
            },
            "type": "scatter3d"
           }
          ],
          "scattercarpet": [
           {
            "marker": {
             "colorbar": {
              "outlinewidth": 0,
              "ticks": ""
             }
            },
            "type": "scattercarpet"
           }
          ],
          "scattergeo": [
           {
            "marker": {
             "colorbar": {
              "outlinewidth": 0,
              "ticks": ""
             }
            },
            "type": "scattergeo"
           }
          ],
          "scattergl": [
           {
            "marker": {
             "colorbar": {
              "outlinewidth": 0,
              "ticks": ""
             }
            },
            "type": "scattergl"
           }
          ],
          "scattermapbox": [
           {
            "marker": {
             "colorbar": {
              "outlinewidth": 0,
              "ticks": ""
             }
            },
            "type": "scattermapbox"
           }
          ],
          "scatterpolar": [
           {
            "marker": {
             "colorbar": {
              "outlinewidth": 0,
              "ticks": ""
             }
            },
            "type": "scatterpolar"
           }
          ],
          "scatterpolargl": [
           {
            "marker": {
             "colorbar": {
              "outlinewidth": 0,
              "ticks": ""
             }
            },
            "type": "scatterpolargl"
           }
          ],
          "scatterternary": [
           {
            "marker": {
             "colorbar": {
              "outlinewidth": 0,
              "ticks": ""
             }
            },
            "type": "scatterternary"
           }
          ],
          "surface": [
           {
            "colorbar": {
             "outlinewidth": 0,
             "ticks": ""
            },
            "colorscale": [
             [
              0,
              "#0d0887"
             ],
             [
              0.1111111111111111,
              "#46039f"
             ],
             [
              0.2222222222222222,
              "#7201a8"
             ],
             [
              0.3333333333333333,
              "#9c179e"
             ],
             [
              0.4444444444444444,
              "#bd3786"
             ],
             [
              0.5555555555555556,
              "#d8576b"
             ],
             [
              0.6666666666666666,
              "#ed7953"
             ],
             [
              0.7777777777777778,
              "#fb9f3a"
             ],
             [
              0.8888888888888888,
              "#fdca26"
             ],
             [
              1,
              "#f0f921"
             ]
            ],
            "type": "surface"
           }
          ],
          "table": [
           {
            "cells": {
             "fill": {
              "color": "#EBF0F8"
             },
             "line": {
              "color": "white"
             }
            },
            "header": {
             "fill": {
              "color": "#C8D4E3"
             },
             "line": {
              "color": "white"
             }
            },
            "type": "table"
           }
          ]
         },
         "layout": {
          "annotationdefaults": {
           "arrowcolor": "#2a3f5f",
           "arrowhead": 0,
           "arrowwidth": 1
          },
          "coloraxis": {
           "colorbar": {
            "outlinewidth": 0,
            "ticks": ""
           }
          },
          "colorscale": {
           "diverging": [
            [
             0,
             "#8e0152"
            ],
            [
             0.1,
             "#c51b7d"
            ],
            [
             0.2,
             "#de77ae"
            ],
            [
             0.3,
             "#f1b6da"
            ],
            [
             0.4,
             "#fde0ef"
            ],
            [
             0.5,
             "#f7f7f7"
            ],
            [
             0.6,
             "#e6f5d0"
            ],
            [
             0.7,
             "#b8e186"
            ],
            [
             0.8,
             "#7fbc41"
            ],
            [
             0.9,
             "#4d9221"
            ],
            [
             1,
             "#276419"
            ]
           ],
           "sequential": [
            [
             0,
             "#0d0887"
            ],
            [
             0.1111111111111111,
             "#46039f"
            ],
            [
             0.2222222222222222,
             "#7201a8"
            ],
            [
             0.3333333333333333,
             "#9c179e"
            ],
            [
             0.4444444444444444,
             "#bd3786"
            ],
            [
             0.5555555555555556,
             "#d8576b"
            ],
            [
             0.6666666666666666,
             "#ed7953"
            ],
            [
             0.7777777777777778,
             "#fb9f3a"
            ],
            [
             0.8888888888888888,
             "#fdca26"
            ],
            [
             1,
             "#f0f921"
            ]
           ],
           "sequentialminus": [
            [
             0,
             "#0d0887"
            ],
            [
             0.1111111111111111,
             "#46039f"
            ],
            [
             0.2222222222222222,
             "#7201a8"
            ],
            [
             0.3333333333333333,
             "#9c179e"
            ],
            [
             0.4444444444444444,
             "#bd3786"
            ],
            [
             0.5555555555555556,
             "#d8576b"
            ],
            [
             0.6666666666666666,
             "#ed7953"
            ],
            [
             0.7777777777777778,
             "#fb9f3a"
            ],
            [
             0.8888888888888888,
             "#fdca26"
            ],
            [
             1,
             "#f0f921"
            ]
           ]
          },
          "colorway": [
           "#636efa",
           "#EF553B",
           "#00cc96",
           "#ab63fa",
           "#FFA15A",
           "#19d3f3",
           "#FF6692",
           "#B6E880",
           "#FF97FF",
           "#FECB52"
          ],
          "font": {
           "color": "#2a3f5f"
          },
          "geo": {
           "bgcolor": "white",
           "lakecolor": "white",
           "landcolor": "#E5ECF6",
           "showlakes": true,
           "showland": true,
           "subunitcolor": "white"
          },
          "hoverlabel": {
           "align": "left"
          },
          "hovermode": "closest",
          "mapbox": {
           "style": "light"
          },
          "paper_bgcolor": "white",
          "plot_bgcolor": "#E5ECF6",
          "polar": {
           "angularaxis": {
            "gridcolor": "white",
            "linecolor": "white",
            "ticks": ""
           },
           "bgcolor": "#E5ECF6",
           "radialaxis": {
            "gridcolor": "white",
            "linecolor": "white",
            "ticks": ""
           }
          },
          "scene": {
           "xaxis": {
            "backgroundcolor": "#E5ECF6",
            "gridcolor": "white",
            "gridwidth": 2,
            "linecolor": "white",
            "showbackground": true,
            "ticks": "",
            "zerolinecolor": "white"
           },
           "yaxis": {
            "backgroundcolor": "#E5ECF6",
            "gridcolor": "white",
            "gridwidth": 2,
            "linecolor": "white",
            "showbackground": true,
            "ticks": "",
            "zerolinecolor": "white"
           },
           "zaxis": {
            "backgroundcolor": "#E5ECF6",
            "gridcolor": "white",
            "gridwidth": 2,
            "linecolor": "white",
            "showbackground": true,
            "ticks": "",
            "zerolinecolor": "white"
           }
          },
          "shapedefaults": {
           "line": {
            "color": "#2a3f5f"
           }
          },
          "ternary": {
           "aaxis": {
            "gridcolor": "white",
            "linecolor": "white",
            "ticks": ""
           },
           "baxis": {
            "gridcolor": "white",
            "linecolor": "white",
            "ticks": ""
           },
           "bgcolor": "#E5ECF6",
           "caxis": {
            "gridcolor": "white",
            "linecolor": "white",
            "ticks": ""
           }
          },
          "title": {
           "x": 0.05
          },
          "xaxis": {
           "automargin": true,
           "gridcolor": "white",
           "linecolor": "white",
           "ticks": "",
           "title": {
            "standoff": 15
           },
           "zerolinecolor": "white",
           "zerolinewidth": 2
          },
          "yaxis": {
           "automargin": true,
           "gridcolor": "white",
           "linecolor": "white",
           "ticks": "",
           "title": {
            "standoff": 15
           },
           "zerolinecolor": "white",
           "zerolinewidth": 2
          }
         }
        },
        "title": {
         "text": "Peaks"
        }
       }
      },
      "text/html": [
       "<div>\n",
       "        \n",
       "        \n",
       "            <div id=\"bb434d92-6373-4fc0-917c-078b49604be7\" class=\"plotly-graph-div\" style=\"height:525px; width:100%;\"></div>\n",
       "            <script type=\"text/javascript\">\n",
       "                require([\"plotly\"], function(Plotly) {\n",
       "                    window.PLOTLYENV=window.PLOTLYENV || {};\n",
       "                    \n",
       "                if (document.getElementById(\"bb434d92-6373-4fc0-917c-078b49604be7\")) {\n",
       "                    Plotly.newPlot(\n",
       "                        'bb434d92-6373-4fc0-917c-078b49604be7',\n",
       "                        [{\"line\": {\"shape\": \"linear\"}, \"name\": \"macs2 q0.05 mean\", \"type\": \"scatter\", \"x\": [\"H3K4me2_ChIPSeq_CCR4Neg-Donor1\", \"H3K4me2_ChIPSeq_CCR4Neg-Donor11\", \"H3K4me2_ChIPSeq_CCR4Neg-Donor12\", \"H3K4me2_ChIPSeq_CCR4Neg-Donor13\", \"H3K4me2_ChIPSeq_CCR4Neg-Donor14\", \"H3K4me2_ChIPSeq_CCR4Neg-Donor15\", \"H3K4me2_ChIPSeq_CCR4Neg-Donor16\", \"H3K4me2_ChIPSeq_CCR4Neg-Donor17\", \"H3K4me2_ChIPSeq_CCR4Neg-Donor18\", \"H3K4me2_ChIPSeq_CCR4Neg-Donor19\", \"H3K4me2_ChIPSeq_CCR4Neg-Donor20\", \"H3K4me2_ChIPSeq_CCR4Neg-Donor21\", \"H3K4me2_ChIPSeq_CCR4Neg-Donor22\", \"H3K4me2_ChIPSeq_CCR4Neg-Donor23\", \"H3K4me2_ChIPSeq_CCR4Neg-Donor4\", \"H3K4me2_ChIPSeq_CCR4Neg-Donor5\", \"H3K4me2_ChIPSeq_CCR4Neg-Donor6\", \"H3K4me2_ChIPSeq_CCR4Neg-Donor7\", \"H3K4me2_ChIPSeq_CCR4Neg-Donor8\", \"H3K4me2_ChIPSeq_CCR4Neg-Donor9\", \"H3K4me2_ChIPSeq_CCR4pos-Donor1\", \"H3K4me2_ChIPSeq_CCR4pos-Donor10\", \"H3K4me2_ChIPSeq_CCR4pos-Donor11\", \"H3K4me2_ChIPSeq_CCR4pos-Donor12\", \"H3K4me2_ChIPSeq_CCR4pos-Donor13\", \"H3K4me2_ChIPSeq_CCR4pos-Donor14\", \"H3K4me2_ChIPSeq_CCR4pos-Donor15\", \"H3K4me2_ChIPSeq_CCR4pos-Donor16\", \"H3K4me2_ChIPSeq_CCR4pos-Donor17\", \"H3K4me2_ChIPSeq_CCR4pos-Donor18\", \"H3K4me2_ChIPSeq_CCR4pos-Donor19\", \"H3K4me2_ChIPSeq_CCR4pos-Donor2\", \"H3K4me2_ChIPSeq_CCR4pos-Donor20\", \"H3K4me2_ChIPSeq_CCR4pos-Donor21\", \"H3K4me2_ChIPSeq_CCR4pos-Donor22\", \"H3K4me2_ChIPSeq_CCR4pos-Donor23\", \"H3K4me2_ChIPSeq_CCR4pos-Donor3\", \"H3K4me2_ChIPSeq_CCR4pos-Donor4\", \"H3K4me2_ChIPSeq_CCR4pos-Donor5\", \"H3K4me2_ChIPSeq_CCR4pos-Donor7\", \"H3K4me2_ChIPSeq_CCR4pos-Donor8\", \"H3K4me2_ChIPSeq_CCR4pos-Donor9\", \"H3K4me2_ChIPSeq_Naive-Donor1\", \"H3K4me2_ChIPSeq_Naive-Donor10\", \"H3K4me2_ChIPSeq_Naive-Donor11\", \"H3K4me2_ChIPSeq_Naive-Donor12\", \"H3K4me2_ChIPSeq_Naive-Donor13\", \"H3K4me2_ChIPSeq_Naive-Donor14\", \"H3K4me2_ChIPSeq_Naive-Donor15\", \"H3K4me2_ChIPSeq_Naive-Donor16\", \"H3K4me2_ChIPSeq_Naive-Donor17\", \"H3K4me2_ChIPSeq_Naive-Donor18\", \"H3K4me2_ChIPSeq_Naive-Donor19\", \"H3K4me2_ChIPSeq_Naive-Donor2\", \"H3K4me2_ChIPSeq_Naive-Donor20\", \"H3K4me2_ChIPSeq_Naive-Donor21\", \"H3K4me2_ChIPSeq_Naive-Donor22\", \"H3K4me2_ChIPSeq_Naive-Donor23\", \"H3K4me2_ChIPSeq_Naive-Donor3\", \"H3K4me2_ChIPSeq_Naive-Donor5\", \"H3K4me2_ChIPSeq_Naive-Donor7\", \"H3K4me2_ChIPSeq_Naive-Donor8\", \"H3K4me2_ChIPSeq_Naive-Donor9\"], \"y\": [115628.0, 92678.0, 88187.5, 131170.5, 101642.0, 120372.0, 109268.0, 109916.0, 127909.5, 120811.5, 106299.0, 82292.0, 109901.5, 98679.0, 96001.0, 102387.0, 104044.0, 113690.0, 132461.5, 64068.0, 108331.0, 111743.0, 121796.0, 94091.5, 71706.5, 93958.0, 100473.5, 117112.0, 95699.5, 128470.5, 106689.0, 121865.0, 110213.5, 99154.5, 94883.0, 93596.0, 84952.0, 111065.0, 108358.0, 115008.0, 135131.0, 113035.5, 106319.66666666667, 120354.0, 125518.0, 88007.0, 115011.5, 134047.0, 120004.0, 108980.5, 106117.0, 85073.0, 112973.5, 114551.0, 102874.0, 124083.33333333333, 69896.0, 96490.5, 144211.0, 107222.0, 133729.0, 138250.0, 103570.5]}, {\"line\": {\"dash\": \"dot\", \"shape\": \"linear\"}, \"name\": \"macs2 q0.05 std\", \"type\": \"scatter\", \"x\": [\"H3K4me2_ChIPSeq_CCR4Neg-Donor1\", \"H3K4me2_ChIPSeq_CCR4Neg-Donor11\", \"H3K4me2_ChIPSeq_CCR4Neg-Donor12\", \"H3K4me2_ChIPSeq_CCR4Neg-Donor13\", \"H3K4me2_ChIPSeq_CCR4Neg-Donor14\", \"H3K4me2_ChIPSeq_CCR4Neg-Donor15\", \"H3K4me2_ChIPSeq_CCR4Neg-Donor16\", \"H3K4me2_ChIPSeq_CCR4Neg-Donor17\", \"H3K4me2_ChIPSeq_CCR4Neg-Donor18\", \"H3K4me2_ChIPSeq_CCR4Neg-Donor19\", \"H3K4me2_ChIPSeq_CCR4Neg-Donor20\", \"H3K4me2_ChIPSeq_CCR4Neg-Donor21\", \"H3K4me2_ChIPSeq_CCR4Neg-Donor22\", \"H3K4me2_ChIPSeq_CCR4Neg-Donor23\", \"H3K4me2_ChIPSeq_CCR4Neg-Donor4\", \"H3K4me2_ChIPSeq_CCR4Neg-Donor5\", \"H3K4me2_ChIPSeq_CCR4Neg-Donor6\", \"H3K4me2_ChIPSeq_CCR4Neg-Donor7\", \"H3K4me2_ChIPSeq_CCR4Neg-Donor8\", \"H3K4me2_ChIPSeq_CCR4Neg-Donor9\", \"H3K4me2_ChIPSeq_CCR4pos-Donor1\", \"H3K4me2_ChIPSeq_CCR4pos-Donor10\", \"H3K4me2_ChIPSeq_CCR4pos-Donor11\", \"H3K4me2_ChIPSeq_CCR4pos-Donor12\", \"H3K4me2_ChIPSeq_CCR4pos-Donor13\", \"H3K4me2_ChIPSeq_CCR4pos-Donor14\", \"H3K4me2_ChIPSeq_CCR4pos-Donor15\", \"H3K4me2_ChIPSeq_CCR4pos-Donor16\", \"H3K4me2_ChIPSeq_CCR4pos-Donor17\", \"H3K4me2_ChIPSeq_CCR4pos-Donor18\", \"H3K4me2_ChIPSeq_CCR4pos-Donor19\", \"H3K4me2_ChIPSeq_CCR4pos-Donor2\", \"H3K4me2_ChIPSeq_CCR4pos-Donor20\", \"H3K4me2_ChIPSeq_CCR4pos-Donor21\", \"H3K4me2_ChIPSeq_CCR4pos-Donor22\", \"H3K4me2_ChIPSeq_CCR4pos-Donor23\", \"H3K4me2_ChIPSeq_CCR4pos-Donor3\", \"H3K4me2_ChIPSeq_CCR4pos-Donor4\", \"H3K4me2_ChIPSeq_CCR4pos-Donor5\", \"H3K4me2_ChIPSeq_CCR4pos-Donor7\", \"H3K4me2_ChIPSeq_CCR4pos-Donor8\", \"H3K4me2_ChIPSeq_CCR4pos-Donor9\", \"H3K4me2_ChIPSeq_Naive-Donor1\", \"H3K4me2_ChIPSeq_Naive-Donor10\", \"H3K4me2_ChIPSeq_Naive-Donor11\", \"H3K4me2_ChIPSeq_Naive-Donor12\", \"H3K4me2_ChIPSeq_Naive-Donor13\", \"H3K4me2_ChIPSeq_Naive-Donor14\", \"H3K4me2_ChIPSeq_Naive-Donor15\", \"H3K4me2_ChIPSeq_Naive-Donor16\", \"H3K4me2_ChIPSeq_Naive-Donor17\", \"H3K4me2_ChIPSeq_Naive-Donor18\", \"H3K4me2_ChIPSeq_Naive-Donor19\", \"H3K4me2_ChIPSeq_Naive-Donor2\", \"H3K4me2_ChIPSeq_Naive-Donor20\", \"H3K4me2_ChIPSeq_Naive-Donor21\", \"H3K4me2_ChIPSeq_Naive-Donor22\", \"H3K4me2_ChIPSeq_Naive-Donor23\", \"H3K4me2_ChIPSeq_Naive-Donor3\", \"H3K4me2_ChIPSeq_Naive-Donor5\", \"H3K4me2_ChIPSeq_Naive-Donor7\", \"H3K4me2_ChIPSeq_Naive-Donor8\", \"H3K4me2_ChIPSeq_Naive-Donor9\"], \"y\": [44848.954703537966, 0.0, 311.8340905032675, 15325.125268656044, 6375.274739177912, 22289.41995656235, 34157.500171997366, 349.31074990615446, 51664.75696739509, 39533.63302935869, 0.0, 21551.200477003596, 34784.70388690983, 5289.158723275375, 4625.892562522394, 15901.41729532308, 7710.292342058115, 0.0, 57482.831562998006, 0.0, 47544.44575342108, 0.0, 29876.675718694005, 6633.368714311002, 9044.602838157129, 23297.75422653437, 22298.612344717778, 3836.7613947182067, 4691.653493172743, 32949.05468294956, 24689.340371909493, 15407.856762054871, 32052.443284405013, 29761.4173133606, 32696.617562065956, 8611.146381289776, 0.0, 8342.445804438888, 11578.166435148529, 12831.159651411092, 19356.341028200553, 35752.02596357303, 26328.06951398703, 0.0, 3886.258869401265, 30774.701330800923, 3550.3831483376553, 27051.07702107256, 4466.086429974234, 11209.763802150337, 40286.70175132236, 14338.71130890081, 18498.62050262127, 9049.552585625435, 4871.965722375312, 23924.463470124745, 0.0, 5664.632424085432, 27526.25277802992, 17321.287711945668, 18981.57443417168, 39665.86199744057, 29465.846678824622]}, {\"line\": {\"shape\": \"linear\"}, \"name\": \"span 0.05_0 mean\", \"type\": \"scatter\", \"x\": [\"H3K4me2_ChIPSeq_CCR4Neg-Donor1\", \"H3K4me2_ChIPSeq_CCR4Neg-Donor11\", \"H3K4me2_ChIPSeq_CCR4Neg-Donor12\", \"H3K4me2_ChIPSeq_CCR4Neg-Donor13\", \"H3K4me2_ChIPSeq_CCR4Neg-Donor14\", \"H3K4me2_ChIPSeq_CCR4Neg-Donor15\", \"H3K4me2_ChIPSeq_CCR4Neg-Donor16\", \"H3K4me2_ChIPSeq_CCR4Neg-Donor17\", \"H3K4me2_ChIPSeq_CCR4Neg-Donor18\", \"H3K4me2_ChIPSeq_CCR4Neg-Donor19\", \"H3K4me2_ChIPSeq_CCR4Neg-Donor20\", \"H3K4me2_ChIPSeq_CCR4Neg-Donor21\", \"H3K4me2_ChIPSeq_CCR4Neg-Donor22\", \"H3K4me2_ChIPSeq_CCR4Neg-Donor23\", \"H3K4me2_ChIPSeq_CCR4Neg-Donor4\", \"H3K4me2_ChIPSeq_CCR4Neg-Donor5\", \"H3K4me2_ChIPSeq_CCR4Neg-Donor6\", \"H3K4me2_ChIPSeq_CCR4Neg-Donor7\", \"H3K4me2_ChIPSeq_CCR4Neg-Donor8\", \"H3K4me2_ChIPSeq_CCR4Neg-Donor9\", \"H3K4me2_ChIPSeq_CCR4pos-Donor1\", \"H3K4me2_ChIPSeq_CCR4pos-Donor10\", \"H3K4me2_ChIPSeq_CCR4pos-Donor11\", \"H3K4me2_ChIPSeq_CCR4pos-Donor12\", \"H3K4me2_ChIPSeq_CCR4pos-Donor13\", \"H3K4me2_ChIPSeq_CCR4pos-Donor14\", \"H3K4me2_ChIPSeq_CCR4pos-Donor15\", \"H3K4me2_ChIPSeq_CCR4pos-Donor16\", \"H3K4me2_ChIPSeq_CCR4pos-Donor17\", \"H3K4me2_ChIPSeq_CCR4pos-Donor18\", \"H3K4me2_ChIPSeq_CCR4pos-Donor19\", \"H3K4me2_ChIPSeq_CCR4pos-Donor2\", \"H3K4me2_ChIPSeq_CCR4pos-Donor20\", \"H3K4me2_ChIPSeq_CCR4pos-Donor21\", \"H3K4me2_ChIPSeq_CCR4pos-Donor22\", \"H3K4me2_ChIPSeq_CCR4pos-Donor23\", \"H3K4me2_ChIPSeq_CCR4pos-Donor3\", \"H3K4me2_ChIPSeq_CCR4pos-Donor4\", \"H3K4me2_ChIPSeq_CCR4pos-Donor5\", \"H3K4me2_ChIPSeq_CCR4pos-Donor7\", \"H3K4me2_ChIPSeq_CCR4pos-Donor8\", \"H3K4me2_ChIPSeq_CCR4pos-Donor9\", \"H3K4me2_ChIPSeq_Naive-Donor1\", \"H3K4me2_ChIPSeq_Naive-Donor10\", \"H3K4me2_ChIPSeq_Naive-Donor11\", \"H3K4me2_ChIPSeq_Naive-Donor12\", \"H3K4me2_ChIPSeq_Naive-Donor13\", \"H3K4me2_ChIPSeq_Naive-Donor14\", \"H3K4me2_ChIPSeq_Naive-Donor15\", \"H3K4me2_ChIPSeq_Naive-Donor16\", \"H3K4me2_ChIPSeq_Naive-Donor17\", \"H3K4me2_ChIPSeq_Naive-Donor18\", \"H3K4me2_ChIPSeq_Naive-Donor19\", \"H3K4me2_ChIPSeq_Naive-Donor2\", \"H3K4me2_ChIPSeq_Naive-Donor20\", \"H3K4me2_ChIPSeq_Naive-Donor21\", \"H3K4me2_ChIPSeq_Naive-Donor22\", \"H3K4me2_ChIPSeq_Naive-Donor23\", \"H3K4me2_ChIPSeq_Naive-Donor3\", \"H3K4me2_ChIPSeq_Naive-Donor5\", \"H3K4me2_ChIPSeq_Naive-Donor7\", \"H3K4me2_ChIPSeq_Naive-Donor8\", \"H3K4me2_ChIPSeq_Naive-Donor9\"], \"y\": [93813.5, 89984.0, 88224.5, 121704.0, 97122.0, 87295.5, 84361.5, 100320.0, 175484.5, 101210.5, 87723.0, 75107.5, 64608.0, 83261.5, 72727.5, 76563.5, 80836.0, 113919.0, 126356.0, 65609.0, 65008.0, 96555.0, 94958.5, 51873.5, 53258.0, 56644.0, 73741.0, 58070.0, 56780.0, 69210.5, 73295.5, 92547.0, 67998.0, 63173.0, 48300.5, 55710.0, 56010.0, 66973.0, 71123.5, 109950.0, 72427.0, 56451.0, 65312.333333333336, 69815.0, 109350.5, 64973.0, 72689.0, 83029.0, 65038.5, 65933.5, 90959.5, 64747.0, 55587.5, 54473.5, 74169.5, 71862.66666666667, 73572.0, 59870.5, 86298.5, 166365.0, 70066.0, 81734.0, 60792.5]}, {\"line\": {\"dash\": \"dot\", \"shape\": \"linear\"}, \"name\": \"span 0.05_0 std\", \"type\": \"scatter\", \"x\": [\"H3K4me2_ChIPSeq_CCR4Neg-Donor1\", \"H3K4me2_ChIPSeq_CCR4Neg-Donor11\", \"H3K4me2_ChIPSeq_CCR4Neg-Donor12\", \"H3K4me2_ChIPSeq_CCR4Neg-Donor13\", \"H3K4me2_ChIPSeq_CCR4Neg-Donor14\", \"H3K4me2_ChIPSeq_CCR4Neg-Donor15\", \"H3K4me2_ChIPSeq_CCR4Neg-Donor16\", \"H3K4me2_ChIPSeq_CCR4Neg-Donor17\", \"H3K4me2_ChIPSeq_CCR4Neg-Donor18\", \"H3K4me2_ChIPSeq_CCR4Neg-Donor19\", \"H3K4me2_ChIPSeq_CCR4Neg-Donor20\", \"H3K4me2_ChIPSeq_CCR4Neg-Donor21\", \"H3K4me2_ChIPSeq_CCR4Neg-Donor22\", \"H3K4me2_ChIPSeq_CCR4Neg-Donor23\", \"H3K4me2_ChIPSeq_CCR4Neg-Donor4\", \"H3K4me2_ChIPSeq_CCR4Neg-Donor5\", \"H3K4me2_ChIPSeq_CCR4Neg-Donor6\", \"H3K4me2_ChIPSeq_CCR4Neg-Donor7\", \"H3K4me2_ChIPSeq_CCR4Neg-Donor8\", \"H3K4me2_ChIPSeq_CCR4Neg-Donor9\", \"H3K4me2_ChIPSeq_CCR4pos-Donor1\", \"H3K4me2_ChIPSeq_CCR4pos-Donor10\", \"H3K4me2_ChIPSeq_CCR4pos-Donor11\", \"H3K4me2_ChIPSeq_CCR4pos-Donor12\", \"H3K4me2_ChIPSeq_CCR4pos-Donor13\", \"H3K4me2_ChIPSeq_CCR4pos-Donor14\", \"H3K4me2_ChIPSeq_CCR4pos-Donor15\", \"H3K4me2_ChIPSeq_CCR4pos-Donor16\", \"H3K4me2_ChIPSeq_CCR4pos-Donor17\", \"H3K4me2_ChIPSeq_CCR4pos-Donor18\", \"H3K4me2_ChIPSeq_CCR4pos-Donor19\", \"H3K4me2_ChIPSeq_CCR4pos-Donor2\", \"H3K4me2_ChIPSeq_CCR4pos-Donor20\", \"H3K4me2_ChIPSeq_CCR4pos-Donor21\", \"H3K4me2_ChIPSeq_CCR4pos-Donor22\", \"H3K4me2_ChIPSeq_CCR4pos-Donor23\", \"H3K4me2_ChIPSeq_CCR4pos-Donor3\", \"H3K4me2_ChIPSeq_CCR4pos-Donor4\", \"H3K4me2_ChIPSeq_CCR4pos-Donor5\", \"H3K4me2_ChIPSeq_CCR4pos-Donor7\", \"H3K4me2_ChIPSeq_CCR4pos-Donor8\", \"H3K4me2_ChIPSeq_CCR4pos-Donor9\", \"H3K4me2_ChIPSeq_Naive-Donor1\", \"H3K4me2_ChIPSeq_Naive-Donor10\", \"H3K4me2_ChIPSeq_Naive-Donor11\", \"H3K4me2_ChIPSeq_Naive-Donor12\", \"H3K4me2_ChIPSeq_Naive-Donor13\", \"H3K4me2_ChIPSeq_Naive-Donor14\", \"H3K4me2_ChIPSeq_Naive-Donor15\", \"H3K4me2_ChIPSeq_Naive-Donor16\", \"H3K4me2_ChIPSeq_Naive-Donor17\", \"H3K4me2_ChIPSeq_Naive-Donor18\", \"H3K4me2_ChIPSeq_Naive-Donor19\", \"H3K4me2_ChIPSeq_Naive-Donor2\", \"H3K4me2_ChIPSeq_Naive-Donor20\", \"H3K4me2_ChIPSeq_Naive-Donor21\", \"H3K4me2_ChIPSeq_Naive-Donor22\", \"H3K4me2_ChIPSeq_Naive-Donor23\", \"H3K4me2_ChIPSeq_Naive-Donor3\", \"H3K4me2_ChIPSeq_Naive-Donor5\", \"H3K4me2_ChIPSeq_Naive-Donor7\", \"H3K4me2_ChIPSeq_Naive-Donor8\", \"H3K4me2_ChIPSeq_Naive-Donor9\"], \"y\": [12652.261635770896, 0.0, 2799.435746717542, 42170.43421640332, 19442.608055505312, 11430.38111788054, 17326.237459413973, 17524.934464927395, 18881.872378024378, 14429.928083673874, 0.0, 24084.764073994997, 14335.882881776064, 4913.685022465319, 4100.512224100789, 2574.5757903002195, 8551.749411670105, 0.0, 43337.16040536112, 0.0, 23014.91151405975, 0.0, 55023.5141780312, 224.15284963613556, 12520.03266768901, 7969.09342397239, 8498.009296299928, 6116.473657263636, 6223.953888003991, 13645.039556556807, 16909.044458513912, 53479.90007470096, 7068.239384740729, 9667.563912382479, 1081.1662684342311, 9131.576972243074, 0.0, 8459.825530115855, 16375.885945499254, 70614.51159641339, 22051.83207808367, 6791.053526515602, 4803.473777729335, 0.0, 66867.55276290586, 1018.2337649086285, 17645.142617729107, 12292.344284146942, 10423.461061470896, 10238.199084800022, 41975.97985157702, 666.0945878777278, 10253.755433986125, 3194.001330619635, 881.7621561396247, 11527.783582863332, 0.0, 15537.25730301201, 24472.258590085225, 149155.69020992797, 4352.949344984387, 13136.62978088368, 4531.847360624583]}],\n",
       "                        {\"template\": {\"data\": {\"bar\": [{\"error_x\": {\"color\": \"#2a3f5f\"}, \"error_y\": {\"color\": \"#2a3f5f\"}, \"marker\": {\"line\": {\"color\": \"#E5ECF6\", \"width\": 0.5}}, \"type\": \"bar\"}], \"barpolar\": [{\"marker\": {\"line\": {\"color\": \"#E5ECF6\", \"width\": 0.5}}, \"type\": \"barpolar\"}], \"carpet\": [{\"aaxis\": {\"endlinecolor\": \"#2a3f5f\", \"gridcolor\": \"white\", \"linecolor\": \"white\", \"minorgridcolor\": \"white\", \"startlinecolor\": \"#2a3f5f\"}, \"baxis\": {\"endlinecolor\": \"#2a3f5f\", \"gridcolor\": \"white\", \"linecolor\": \"white\", \"minorgridcolor\": \"white\", \"startlinecolor\": \"#2a3f5f\"}, \"type\": \"carpet\"}], \"choropleth\": [{\"colorbar\": {\"outlinewidth\": 0, \"ticks\": \"\"}, \"type\": \"choropleth\"}], \"contour\": [{\"colorbar\": {\"outlinewidth\": 0, \"ticks\": \"\"}, \"colorscale\": [[0.0, \"#0d0887\"], [0.1111111111111111, \"#46039f\"], [0.2222222222222222, \"#7201a8\"], [0.3333333333333333, \"#9c179e\"], [0.4444444444444444, \"#bd3786\"], [0.5555555555555556, \"#d8576b\"], [0.6666666666666666, \"#ed7953\"], [0.7777777777777778, \"#fb9f3a\"], [0.8888888888888888, \"#fdca26\"], [1.0, \"#f0f921\"]], \"type\": \"contour\"}], \"contourcarpet\": [{\"colorbar\": {\"outlinewidth\": 0, \"ticks\": \"\"}, \"type\": \"contourcarpet\"}], \"heatmap\": [{\"colorbar\": {\"outlinewidth\": 0, \"ticks\": \"\"}, \"colorscale\": [[0.0, \"#0d0887\"], [0.1111111111111111, \"#46039f\"], [0.2222222222222222, \"#7201a8\"], [0.3333333333333333, \"#9c179e\"], [0.4444444444444444, \"#bd3786\"], [0.5555555555555556, \"#d8576b\"], [0.6666666666666666, \"#ed7953\"], [0.7777777777777778, \"#fb9f3a\"], [0.8888888888888888, \"#fdca26\"], [1.0, \"#f0f921\"]], \"type\": \"heatmap\"}], \"heatmapgl\": [{\"colorbar\": {\"outlinewidth\": 0, \"ticks\": \"\"}, \"colorscale\": [[0.0, \"#0d0887\"], [0.1111111111111111, \"#46039f\"], [0.2222222222222222, \"#7201a8\"], [0.3333333333333333, \"#9c179e\"], [0.4444444444444444, \"#bd3786\"], [0.5555555555555556, \"#d8576b\"], [0.6666666666666666, \"#ed7953\"], [0.7777777777777778, \"#fb9f3a\"], [0.8888888888888888, \"#fdca26\"], [1.0, \"#f0f921\"]], \"type\": \"heatmapgl\"}], \"histogram\": [{\"marker\": {\"colorbar\": {\"outlinewidth\": 0, \"ticks\": \"\"}}, \"type\": \"histogram\"}], \"histogram2d\": [{\"colorbar\": {\"outlinewidth\": 0, \"ticks\": \"\"}, \"colorscale\": [[0.0, \"#0d0887\"], [0.1111111111111111, \"#46039f\"], [0.2222222222222222, \"#7201a8\"], [0.3333333333333333, \"#9c179e\"], [0.4444444444444444, \"#bd3786\"], [0.5555555555555556, \"#d8576b\"], [0.6666666666666666, \"#ed7953\"], [0.7777777777777778, \"#fb9f3a\"], [0.8888888888888888, \"#fdca26\"], [1.0, \"#f0f921\"]], \"type\": \"histogram2d\"}], \"histogram2dcontour\": [{\"colorbar\": {\"outlinewidth\": 0, \"ticks\": \"\"}, \"colorscale\": [[0.0, \"#0d0887\"], [0.1111111111111111, \"#46039f\"], [0.2222222222222222, \"#7201a8\"], [0.3333333333333333, \"#9c179e\"], [0.4444444444444444, \"#bd3786\"], [0.5555555555555556, \"#d8576b\"], [0.6666666666666666, \"#ed7953\"], [0.7777777777777778, \"#fb9f3a\"], [0.8888888888888888, \"#fdca26\"], [1.0, \"#f0f921\"]], \"type\": \"histogram2dcontour\"}], \"mesh3d\": [{\"colorbar\": {\"outlinewidth\": 0, \"ticks\": \"\"}, \"type\": \"mesh3d\"}], \"parcoords\": [{\"line\": {\"colorbar\": {\"outlinewidth\": 0, \"ticks\": \"\"}}, \"type\": \"parcoords\"}], \"pie\": [{\"automargin\": true, \"type\": \"pie\"}], \"scatter\": [{\"marker\": {\"colorbar\": {\"outlinewidth\": 0, \"ticks\": \"\"}}, \"type\": \"scatter\"}], \"scatter3d\": [{\"line\": {\"colorbar\": {\"outlinewidth\": 0, \"ticks\": \"\"}}, \"marker\": {\"colorbar\": {\"outlinewidth\": 0, \"ticks\": \"\"}}, \"type\": \"scatter3d\"}], \"scattercarpet\": [{\"marker\": {\"colorbar\": {\"outlinewidth\": 0, \"ticks\": \"\"}}, \"type\": \"scattercarpet\"}], \"scattergeo\": [{\"marker\": {\"colorbar\": {\"outlinewidth\": 0, \"ticks\": \"\"}}, \"type\": \"scattergeo\"}], \"scattergl\": [{\"marker\": {\"colorbar\": {\"outlinewidth\": 0, \"ticks\": \"\"}}, \"type\": \"scattergl\"}], \"scattermapbox\": [{\"marker\": {\"colorbar\": {\"outlinewidth\": 0, \"ticks\": \"\"}}, \"type\": \"scattermapbox\"}], \"scatterpolar\": [{\"marker\": {\"colorbar\": {\"outlinewidth\": 0, \"ticks\": \"\"}}, \"type\": \"scatterpolar\"}], \"scatterpolargl\": [{\"marker\": {\"colorbar\": {\"outlinewidth\": 0, \"ticks\": \"\"}}, \"type\": \"scatterpolargl\"}], \"scatterternary\": [{\"marker\": {\"colorbar\": {\"outlinewidth\": 0, \"ticks\": \"\"}}, \"type\": \"scatterternary\"}], \"surface\": [{\"colorbar\": {\"outlinewidth\": 0, \"ticks\": \"\"}, \"colorscale\": [[0.0, \"#0d0887\"], [0.1111111111111111, \"#46039f\"], [0.2222222222222222, \"#7201a8\"], [0.3333333333333333, \"#9c179e\"], [0.4444444444444444, \"#bd3786\"], [0.5555555555555556, \"#d8576b\"], [0.6666666666666666, \"#ed7953\"], [0.7777777777777778, \"#fb9f3a\"], [0.8888888888888888, \"#fdca26\"], [1.0, \"#f0f921\"]], \"type\": \"surface\"}], \"table\": [{\"cells\": {\"fill\": {\"color\": \"#EBF0F8\"}, \"line\": {\"color\": \"white\"}}, \"header\": {\"fill\": {\"color\": \"#C8D4E3\"}, \"line\": {\"color\": \"white\"}}, \"type\": \"table\"}]}, \"layout\": {\"annotationdefaults\": {\"arrowcolor\": \"#2a3f5f\", \"arrowhead\": 0, \"arrowwidth\": 1}, \"coloraxis\": {\"colorbar\": {\"outlinewidth\": 0, \"ticks\": \"\"}}, \"colorscale\": {\"diverging\": [[0, \"#8e0152\"], [0.1, \"#c51b7d\"], [0.2, \"#de77ae\"], [0.3, \"#f1b6da\"], [0.4, \"#fde0ef\"], [0.5, \"#f7f7f7\"], [0.6, \"#e6f5d0\"], [0.7, \"#b8e186\"], [0.8, \"#7fbc41\"], [0.9, \"#4d9221\"], [1, \"#276419\"]], \"sequential\": [[0.0, \"#0d0887\"], [0.1111111111111111, \"#46039f\"], [0.2222222222222222, \"#7201a8\"], [0.3333333333333333, \"#9c179e\"], [0.4444444444444444, \"#bd3786\"], [0.5555555555555556, \"#d8576b\"], [0.6666666666666666, \"#ed7953\"], [0.7777777777777778, \"#fb9f3a\"], [0.8888888888888888, \"#fdca26\"], [1.0, \"#f0f921\"]], \"sequentialminus\": [[0.0, \"#0d0887\"], [0.1111111111111111, \"#46039f\"], [0.2222222222222222, \"#7201a8\"], [0.3333333333333333, \"#9c179e\"], [0.4444444444444444, \"#bd3786\"], [0.5555555555555556, \"#d8576b\"], [0.6666666666666666, \"#ed7953\"], [0.7777777777777778, \"#fb9f3a\"], [0.8888888888888888, \"#fdca26\"], [1.0, \"#f0f921\"]]}, \"colorway\": [\"#636efa\", \"#EF553B\", \"#00cc96\", \"#ab63fa\", \"#FFA15A\", \"#19d3f3\", \"#FF6692\", \"#B6E880\", \"#FF97FF\", \"#FECB52\"], \"font\": {\"color\": \"#2a3f5f\"}, \"geo\": {\"bgcolor\": \"white\", \"lakecolor\": \"white\", \"landcolor\": \"#E5ECF6\", \"showlakes\": true, \"showland\": true, \"subunitcolor\": \"white\"}, \"hoverlabel\": {\"align\": \"left\"}, \"hovermode\": \"closest\", \"mapbox\": {\"style\": \"light\"}, \"paper_bgcolor\": \"white\", \"plot_bgcolor\": \"#E5ECF6\", \"polar\": {\"angularaxis\": {\"gridcolor\": \"white\", \"linecolor\": \"white\", \"ticks\": \"\"}, \"bgcolor\": \"#E5ECF6\", \"radialaxis\": {\"gridcolor\": \"white\", \"linecolor\": \"white\", \"ticks\": \"\"}}, \"scene\": {\"xaxis\": {\"backgroundcolor\": \"#E5ECF6\", \"gridcolor\": \"white\", \"gridwidth\": 2, \"linecolor\": \"white\", \"showbackground\": true, \"ticks\": \"\", \"zerolinecolor\": \"white\"}, \"yaxis\": {\"backgroundcolor\": \"#E5ECF6\", \"gridcolor\": \"white\", \"gridwidth\": 2, \"linecolor\": \"white\", \"showbackground\": true, \"ticks\": \"\", \"zerolinecolor\": \"white\"}, \"zaxis\": {\"backgroundcolor\": \"#E5ECF6\", \"gridcolor\": \"white\", \"gridwidth\": 2, \"linecolor\": \"white\", \"showbackground\": true, \"ticks\": \"\", \"zerolinecolor\": \"white\"}}, \"shapedefaults\": {\"line\": {\"color\": \"#2a3f5f\"}}, \"ternary\": {\"aaxis\": {\"gridcolor\": \"white\", \"linecolor\": \"white\", \"ticks\": \"\"}, \"baxis\": {\"gridcolor\": \"white\", \"linecolor\": \"white\", \"ticks\": \"\"}, \"bgcolor\": \"#E5ECF6\", \"caxis\": {\"gridcolor\": \"white\", \"linecolor\": \"white\", \"ticks\": \"\"}}, \"title\": {\"x\": 0.05}, \"xaxis\": {\"automargin\": true, \"gridcolor\": \"white\", \"linecolor\": \"white\", \"ticks\": \"\", \"title\": {\"standoff\": 15}, \"zerolinecolor\": \"white\", \"zerolinewidth\": 2}, \"yaxis\": {\"automargin\": true, \"gridcolor\": \"white\", \"linecolor\": \"white\", \"ticks\": \"\", \"title\": {\"standoff\": 15}, \"zerolinecolor\": \"white\", \"zerolinewidth\": 2}}}, \"title\": {\"text\": \"Peaks\"}},\n",
       "                        {\"responsive\": true}\n",
       "                    ).then(function(){\n",
       "                            \n",
       "var gd = document.getElementById('bb434d92-6373-4fc0-917c-078b49604be7');\n",
       "var x = new MutationObserver(function (mutations, observer) {{\n",
       "        var display = window.getComputedStyle(gd).display;\n",
       "        if (!display || display === 'none') {{\n",
       "            console.log([gd, 'removed!']);\n",
       "            Plotly.purge(gd);\n",
       "            observer.disconnect();\n",
       "        }}\n",
       "}});\n",
       "\n",
       "// Listen for the removal of the full notebook cells\n",
       "var notebookContainer = gd.closest('#notebook-container');\n",
       "if (notebookContainer) {{\n",
       "    x.observe(notebookContainer, {childList: true});\n",
       "}}\n",
       "\n",
       "// Listen for the clearing of the current output cell\n",
       "var outputEl = gd.closest('.output');\n",
       "if (outputEl) {{\n",
       "    x.observe(outputEl, {childList: true});\n",
       "}}\n",
       "\n",
       "                        })\n",
       "                };\n",
       "                });\n",
       "            </script>\n",
       "        </div>"
      ]
     },
     "metadata": {},
     "output_type": "display_data"
    }
   ],
   "source": [
    "fig = go.Figure(layout=go.Layout(title=go.layout.Title(text=\"Peaks\")))\n",
    "for l in sorted(set(dfa_mean['level'])):\n",
    "    fig.add_trace(go.Scatter(x=dfa_mean.loc[dfa_mean['level']==l]['name'], \n",
    "                             y=dfa_mean.loc[dfa_mean['level']==l]['peaks'], \n",
    "                             name=f\"{l} mean\", line_shape='linear'))\n",
    "    fig.add_trace(go.Scatter(x=dfa_std.loc[dfa_std['level']==l]['name'], \n",
    "                             y=dfa_std.loc[dfa_std['level']==l]['peaks'], \n",
    "                             name=f\"{l} std\", line_shape='linear', \n",
    "                             line=dict(dash='dot')))\n",
    "fig.show()"
   ]
  },
  {
   "cell_type": "code",
   "execution_count": 143,
   "metadata": {
    "scrolled": false
   },
   "outputs": [
    {
     "name": "stdout",
     "output_type": "stream",
     "text": [
      "Processing H3K4me2_ChIPSeq_Naive-Donor2 macs2 q0.05\n",
      "[Skipped]: Already exists /tmp/overlap_H3K4me2_ChIPSeq_Naive-Donor2_macs2 q0.05.tsv\n",
      "Processing H3K4me2_ChIPSeq_Naive-Donor2 span 0.05_0\n",
      "[Skipped]: Already exists /tmp/overlap_H3K4me2_ChIPSeq_Naive-Donor2_span 0.05_0.tsv\n",
      "Processing H3K4me2_ChIPSeq_CCR4Neg-Donor12 macs2 q0.05\n",
      "[Skipped]: Already exists /tmp/overlap_H3K4me2_ChIPSeq_CCR4Neg-Donor12_macs2 q0.05.tsv\n",
      "Processing H3K4me2_ChIPSeq_CCR4Neg-Donor12 span 0.05_0\n",
      "[Skipped]: Already exists /tmp/overlap_H3K4me2_ChIPSeq_CCR4Neg-Donor12_span 0.05_0.tsv\n",
      "Processing H3K4me2_ChIPSeq_CCR4pos-Donor17 macs2 q0.05\n",
      "[Skipped]: Already exists /tmp/overlap_H3K4me2_ChIPSeq_CCR4pos-Donor17_macs2 q0.05.tsv\n",
      "Processing H3K4me2_ChIPSeq_CCR4pos-Donor17 span 0.05_0\n",
      "[Skipped]: Already exists /tmp/overlap_H3K4me2_ChIPSeq_CCR4pos-Donor17_span 0.05_0.tsv\n",
      "Processing H3K4me2_ChIPSeq_Naive-Donor22 macs2 q0.05\n",
      "[Skipped]: Already exists /tmp/overlap_H3K4me2_ChIPSeq_Naive-Donor22_macs2 q0.05.tsv\n",
      "Processing H3K4me2_ChIPSeq_Naive-Donor22 span 0.05_0\n",
      "[Skipped]: Already exists /tmp/overlap_H3K4me2_ChIPSeq_Naive-Donor22_span 0.05_0.tsv\n",
      "Processing H3K4me2_ChIPSeq_CCR4Neg-Donor22 macs2 q0.05\n",
      "[Skipped]: Already exists /tmp/overlap_H3K4me2_ChIPSeq_CCR4Neg-Donor22_macs2 q0.05.tsv\n",
      "Processing H3K4me2_ChIPSeq_CCR4Neg-Donor22 span 0.05_0\n",
      "[Skipped]: Already exists /tmp/overlap_H3K4me2_ChIPSeq_CCR4Neg-Donor22_span 0.05_0.tsv\n",
      "Processing H3K4me2_ChIPSeq_CCR4pos-Donor14 macs2 q0.05\n",
      "[Skipped]: Already exists /tmp/overlap_H3K4me2_ChIPSeq_CCR4pos-Donor14_macs2 q0.05.tsv\n",
      "Processing H3K4me2_ChIPSeq_CCR4pos-Donor14 span 0.05_0\n",
      "[Skipped]: Already exists /tmp/overlap_H3K4me2_ChIPSeq_CCR4pos-Donor14_span 0.05_0.tsv\n",
      "Processing H3K4me2_ChIPSeq_CCR4pos-Donor8 macs2 q0.05\n",
      "[Skipped]: Already exists /tmp/overlap_H3K4me2_ChIPSeq_CCR4pos-Donor8_macs2 q0.05.tsv\n",
      "Processing H3K4me2_ChIPSeq_CCR4pos-Donor8 span 0.05_0\n",
      "[Skipped]: Already exists /tmp/overlap_H3K4me2_ChIPSeq_CCR4pos-Donor8_span 0.05_0.tsv\n",
      "Processing H3K4me2_ChIPSeq_Naive-Donor15 macs2 q0.05\n",
      "[Skipped]: Already exists /tmp/overlap_H3K4me2_ChIPSeq_Naive-Donor15_macs2 q0.05.tsv\n",
      "Processing H3K4me2_ChIPSeq_Naive-Donor15 span 0.05_0\n",
      "[Skipped]: Already exists /tmp/overlap_H3K4me2_ChIPSeq_Naive-Donor15_span 0.05_0.tsv\n",
      "Processing H3K4me2_ChIPSeq_Naive-Donor9 macs2 q0.05\n",
      "[Skipped]: Already exists /tmp/overlap_H3K4me2_ChIPSeq_Naive-Donor9_macs2 q0.05.tsv\n",
      "Processing H3K4me2_ChIPSeq_Naive-Donor9 span 0.05_0\n",
      "[Skipped]: Already exists /tmp/overlap_H3K4me2_ChIPSeq_Naive-Donor9_span 0.05_0.tsv\n",
      "Processing H3K4me2_ChIPSeq_CCR4pos-Donor5 macs2 q0.05\n",
      "[Skipped]: Already exists /tmp/overlap_H3K4me2_ChIPSeq_CCR4pos-Donor5_macs2 q0.05.tsv\n",
      "Processing H3K4me2_ChIPSeq_CCR4pos-Donor5 span 0.05_0\n",
      "[Skipped]: Already exists /tmp/overlap_H3K4me2_ChIPSeq_CCR4pos-Donor5_span 0.05_0.tsv\n",
      "Processing H3K4me2_ChIPSeq_CCR4Neg-Donor4 macs2 q0.05\n",
      "[Skipped]: Already exists /tmp/overlap_H3K4me2_ChIPSeq_CCR4Neg-Donor4_macs2 q0.05.tsv\n",
      "Processing H3K4me2_ChIPSeq_CCR4Neg-Donor4 span 0.05_0\n",
      "[Skipped]: Already exists /tmp/overlap_H3K4me2_ChIPSeq_CCR4Neg-Donor4_span 0.05_0.tsv\n",
      "Processing H3K4me2_ChIPSeq_CCR4Neg-Donor9 macs2 q0.05\n",
      "[Skipped]: Already exists /tmp/overlap_H3K4me2_ChIPSeq_CCR4Neg-Donor9_macs2 q0.05.tsv\n",
      "Processing H3K4me2_ChIPSeq_CCR4Neg-Donor9 span 0.05_0\n",
      "[Skipped]: Already exists /tmp/overlap_H3K4me2_ChIPSeq_CCR4Neg-Donor9_span 0.05_0.tsv\n",
      "Processing H3K4me2_ChIPSeq_Naive-Donor3 macs2 q0.05\n",
      "[Skipped]: Already exists /tmp/overlap_H3K4me2_ChIPSeq_Naive-Donor3_macs2 q0.05.tsv\n",
      "Processing H3K4me2_ChIPSeq_Naive-Donor3 span 0.05_0\n",
      "[Skipped]: Already exists /tmp/overlap_H3K4me2_ChIPSeq_Naive-Donor3_span 0.05_0.tsv\n",
      "Processing H3K4me2_ChIPSeq_CCR4Neg-Donor21 macs2 q0.05\n",
      "[Skipped]: Already exists /tmp/overlap_H3K4me2_ChIPSeq_CCR4Neg-Donor21_macs2 q0.05.tsv\n",
      "Processing H3K4me2_ChIPSeq_CCR4Neg-Donor21 span 0.05_0\n",
      "[Skipped]: Already exists /tmp/overlap_H3K4me2_ChIPSeq_CCR4Neg-Donor21_span 0.05_0.tsv\n",
      "Processing H3K4me2_ChIPSeq_Naive-Donor21 macs2 q0.05\n",
      "[Skipped]: Already exists /tmp/overlap_H3K4me2_ChIPSeq_Naive-Donor21_macs2 q0.05.tsv\n",
      "Processing H3K4me2_ChIPSeq_Naive-Donor21 span 0.05_0\n",
      "[Skipped]: Already exists /tmp/overlap_H3K4me2_ChIPSeq_Naive-Donor21_span 0.05_0.tsv\n",
      "Processing H3K4me2_ChIPSeq_CCR4pos-Donor2 macs2 q0.05\n",
      "[Skipped]: Already exists /tmp/overlap_H3K4me2_ChIPSeq_CCR4pos-Donor2_macs2 q0.05.tsv\n",
      "Processing H3K4me2_ChIPSeq_CCR4pos-Donor2 span 0.05_0\n",
      "[Skipped]: Already exists /tmp/overlap_H3K4me2_ChIPSeq_CCR4pos-Donor2_span 0.05_0.tsv\n",
      "Processing H3K4me2_ChIPSeq_CCR4Neg-Donor18 macs2 q0.05\n",
      "[Skipped]: Already exists /tmp/overlap_H3K4me2_ChIPSeq_CCR4Neg-Donor18_macs2 q0.05.tsv\n",
      "Processing H3K4me2_ChIPSeq_CCR4Neg-Donor18 span 0.05_0\n",
      "[Skipped]: Already exists /tmp/overlap_H3K4me2_ChIPSeq_CCR4Neg-Donor18_span 0.05_0.tsv\n",
      "Processing H3K4me2_ChIPSeq_CCR4Neg-Donor7 macs2 q0.05\n",
      "[Skipped]: Already exists /tmp/overlap_H3K4me2_ChIPSeq_CCR4Neg-Donor7_macs2 q0.05.tsv\n",
      "Processing H3K4me2_ChIPSeq_CCR4Neg-Donor7 span 0.05_0\n",
      "[Skipped]: Already exists /tmp/overlap_H3K4me2_ChIPSeq_CCR4Neg-Donor7_span 0.05_0.tsv\n",
      "Processing H3K4me2_ChIPSeq_CCR4pos-Donor12 macs2 q0.05\n",
      "[Skipped]: Already exists /tmp/overlap_H3K4me2_ChIPSeq_CCR4pos-Donor12_macs2 q0.05.tsv\n",
      "Processing H3K4me2_ChIPSeq_CCR4pos-Donor12 span 0.05_0\n",
      "[Skipped]: Already exists /tmp/overlap_H3K4me2_ChIPSeq_CCR4pos-Donor12_span 0.05_0.tsv\n",
      "Processing H3K4me2_ChIPSeq_Naive-Donor20 macs2 q0.05\n",
      "[Skipped]: Already exists /tmp/overlap_H3K4me2_ChIPSeq_Naive-Donor20_macs2 q0.05.tsv\n",
      "Processing H3K4me2_ChIPSeq_Naive-Donor20 span 0.05_0\n",
      "[Skipped]: Already exists /tmp/overlap_H3K4me2_ChIPSeq_Naive-Donor20_span 0.05_0.tsv\n",
      "Processing H3K4me2_ChIPSeq_CCR4Neg-Donor20 macs2 q0.05\n",
      "[Skipped]: Already exists /tmp/overlap_H3K4me2_ChIPSeq_CCR4Neg-Donor20_macs2 q0.05.tsv\n",
      "Processing H3K4me2_ChIPSeq_CCR4Neg-Donor20 span 0.05_0\n",
      "[Skipped]: Already exists /tmp/overlap_H3K4me2_ChIPSeq_CCR4Neg-Donor20_span 0.05_0.tsv\n",
      "Processing H3K4me2_ChIPSeq_CCR4Neg-Donor14 macs2 q0.05\n",
      "[Skipped]: Already exists /tmp/overlap_H3K4me2_ChIPSeq_CCR4Neg-Donor14_macs2 q0.05.tsv\n",
      "Processing H3K4me2_ChIPSeq_CCR4Neg-Donor14 span 0.05_0\n",
      "[Skipped]: Already exists /tmp/overlap_H3K4me2_ChIPSeq_CCR4Neg-Donor14_span 0.05_0.tsv\n",
      "Processing H3K4me2_ChIPSeq_CCR4pos-Donor23 macs2 q0.05\n",
      "[Skipped]: Already exists /tmp/overlap_H3K4me2_ChIPSeq_CCR4pos-Donor23_macs2 q0.05.tsv\n",
      "Processing H3K4me2_ChIPSeq_CCR4pos-Donor23 span 0.05_0\n",
      "[Skipped]: Already exists /tmp/overlap_H3K4me2_ChIPSeq_CCR4pos-Donor23_span 0.05_0.tsv\n",
      "Processing H3K4me2_ChIPSeq_CCR4Neg-Donor8 macs2 q0.05\n",
      "[Skipped]: Already exists /tmp/overlap_H3K4me2_ChIPSeq_CCR4Neg-Donor8_macs2 q0.05.tsv\n",
      "Processing H3K4me2_ChIPSeq_CCR4Neg-Donor8 span 0.05_0\n",
      "[Skipped]: Already exists /tmp/overlap_H3K4me2_ChIPSeq_CCR4Neg-Donor8_span 0.05_0.tsv\n",
      "Processing H3K4me2_ChIPSeq_CCR4pos-Donor3 macs2 q0.05\n",
      "[Skipped]: Already exists /tmp/overlap_H3K4me2_ChIPSeq_CCR4pos-Donor3_macs2 q0.05.tsv\n",
      "Processing H3K4me2_ChIPSeq_CCR4pos-Donor3 span 0.05_0\n",
      "[Skipped]: Already exists /tmp/overlap_H3K4me2_ChIPSeq_CCR4pos-Donor3_span 0.05_0.tsv\n",
      "Processing H3K4me2_ChIPSeq_Naive-Donor5 macs2 q0.05\n",
      "[Skipped]: Already exists /tmp/overlap_H3K4me2_ChIPSeq_Naive-Donor5_macs2 q0.05.tsv\n",
      "Processing H3K4me2_ChIPSeq_Naive-Donor5 span 0.05_0\n",
      "[Skipped]: Already exists /tmp/overlap_H3K4me2_ChIPSeq_Naive-Donor5_span 0.05_0.tsv\n",
      "Processing H3K4me2_ChIPSeq_Naive-Donor1 macs2 q0.05\n",
      "[Skipped]: Already exists /tmp/overlap_H3K4me2_ChIPSeq_Naive-Donor1_macs2 q0.05.tsv\n",
      "Processing H3K4me2_ChIPSeq_Naive-Donor1 span 0.05_0\n",
      "[Skipped]: Already exists /tmp/overlap_H3K4me2_ChIPSeq_Naive-Donor1_span 0.05_0.tsv\n",
      "Processing H3K4me2_ChIPSeq_CCR4pos-Donor21 macs2 q0.05\n",
      "[Skipped]: Already exists /tmp/overlap_H3K4me2_ChIPSeq_CCR4pos-Donor21_macs2 q0.05.tsv\n",
      "Processing H3K4me2_ChIPSeq_CCR4pos-Donor21 span 0.05_0\n",
      "[Skipped]: Already exists /tmp/overlap_H3K4me2_ChIPSeq_CCR4pos-Donor21_span 0.05_0.tsv\n",
      "Processing H3K4me2_ChIPSeq_Naive-Donor11 macs2 q0.05\n",
      "[Skipped]: Already exists /tmp/overlap_H3K4me2_ChIPSeq_Naive-Donor11_macs2 q0.05.tsv\n",
      "Processing H3K4me2_ChIPSeq_Naive-Donor11 span 0.05_0\n",
      "[Skipped]: Already exists /tmp/overlap_H3K4me2_ChIPSeq_Naive-Donor11_span 0.05_0.tsv\n",
      "Processing H3K4me2_ChIPSeq_CCR4pos-Donor13 macs2 q0.05\n",
      "[Skipped]: Already exists /tmp/overlap_H3K4me2_ChIPSeq_CCR4pos-Donor13_macs2 q0.05.tsv\n",
      "Processing H3K4me2_ChIPSeq_CCR4pos-Donor13 span 0.05_0\n",
      "[Skipped]: Already exists /tmp/overlap_H3K4me2_ChIPSeq_CCR4pos-Donor13_span 0.05_0.tsv\n",
      "Processing H3K4me2_ChIPSeq_CCR4Neg-Donor13 macs2 q0.05\n",
      "[Skipped]: Already exists /tmp/overlap_H3K4me2_ChIPSeq_CCR4Neg-Donor13_macs2 q0.05.tsv\n",
      "Processing H3K4me2_ChIPSeq_CCR4Neg-Donor13 span 0.05_0\n",
      "[Skipped]: Already exists /tmp/overlap_H3K4me2_ChIPSeq_CCR4Neg-Donor13_span 0.05_0.tsv\n",
      "Processing H3K4me2_ChIPSeq_CCR4pos-Donor22 macs2 q0.05\n",
      "[Skipped]: Already exists /tmp/overlap_H3K4me2_ChIPSeq_CCR4pos-Donor22_macs2 q0.05.tsv\n",
      "Processing H3K4me2_ChIPSeq_CCR4pos-Donor22 span 0.05_0\n",
      "[Skipped]: Already exists /tmp/overlap_H3K4me2_ChIPSeq_CCR4pos-Donor22_span 0.05_0.tsv\n",
      "Processing H3K4me2_ChIPSeq_CCR4Neg-Donor19 macs2 q0.05\n",
      "[Skipped]: Already exists /tmp/overlap_H3K4me2_ChIPSeq_CCR4Neg-Donor19_macs2 q0.05.tsv\n",
      "Processing H3K4me2_ChIPSeq_CCR4Neg-Donor19 span 0.05_0\n",
      "[Skipped]: Already exists /tmp/overlap_H3K4me2_ChIPSeq_CCR4Neg-Donor19_span 0.05_0.tsv\n",
      "Processing H3K4me2_ChIPSeq_CCR4pos-Donor1 macs2 q0.05\n",
      "[Skipped]: Already exists /tmp/overlap_H3K4me2_ChIPSeq_CCR4pos-Donor1_macs2 q0.05.tsv\n",
      "Processing H3K4me2_ChIPSeq_CCR4pos-Donor1 span 0.05_0\n",
      "[Skipped]: Already exists /tmp/overlap_H3K4me2_ChIPSeq_CCR4pos-Donor1_span 0.05_0.tsv\n",
      "Processing H3K4me2_ChIPSeq_Naive-Donor12 macs2 q0.05\n",
      "[Skipped]: Already exists /tmp/overlap_H3K4me2_ChIPSeq_Naive-Donor12_macs2 q0.05.tsv\n",
      "Processing H3K4me2_ChIPSeq_Naive-Donor12 span 0.05_0\n",
      "[Skipped]: Already exists /tmp/overlap_H3K4me2_ChIPSeq_Naive-Donor12_span 0.05_0.tsv\n",
      "Processing H3K4me2_ChIPSeq_Naive-Donor8 macs2 q0.05\n",
      "[Skipped]: Already exists /tmp/overlap_H3K4me2_ChIPSeq_Naive-Donor8_macs2 q0.05.tsv\n",
      "Processing H3K4me2_ChIPSeq_Naive-Donor8 span 0.05_0\n",
      "[Skipped]: Already exists /tmp/overlap_H3K4me2_ChIPSeq_Naive-Donor8_span 0.05_0.tsv\n",
      "Processing H3K4me2_ChIPSeq_CCR4pos-Donor15 macs2 q0.05\n",
      "[Skipped]: Already exists /tmp/overlap_H3K4me2_ChIPSeq_CCR4pos-Donor15_macs2 q0.05.tsv\n",
      "Processing H3K4me2_ChIPSeq_CCR4pos-Donor15 span 0.05_0\n",
      "[Skipped]: Already exists /tmp/overlap_H3K4me2_ChIPSeq_CCR4pos-Donor15_span 0.05_0.tsv\n",
      "Processing H3K4me2_ChIPSeq_Naive-Donor23 macs2 q0.05\n",
      "[Skipped]: Already exists /tmp/overlap_H3K4me2_ChIPSeq_Naive-Donor23_macs2 q0.05.tsv\n",
      "Processing H3K4me2_ChIPSeq_Naive-Donor23 span 0.05_0\n",
      "[Skipped]: Already exists /tmp/overlap_H3K4me2_ChIPSeq_Naive-Donor23_span 0.05_0.tsv\n",
      "Processing H3K4me2_ChIPSeq_CCR4Neg-Donor17 macs2 q0.05\n",
      "[Skipped]: Already exists /tmp/overlap_H3K4me2_ChIPSeq_CCR4Neg-Donor17_macs2 q0.05.tsv\n",
      "Processing H3K4me2_ChIPSeq_CCR4Neg-Donor17 span 0.05_0\n",
      "[Skipped]: Already exists /tmp/overlap_H3K4me2_ChIPSeq_CCR4Neg-Donor17_span 0.05_0.tsv\n",
      "Processing H3K4me2_ChIPSeq_Naive-Donor17 macs2 q0.05\n",
      "[Skipped]: Already exists /tmp/overlap_H3K4me2_ChIPSeq_Naive-Donor17_macs2 q0.05.tsv\n",
      "Processing H3K4me2_ChIPSeq_Naive-Donor17 span 0.05_0\n",
      "[Skipped]: Already exists /tmp/overlap_H3K4me2_ChIPSeq_Naive-Donor17_span 0.05_0.tsv\n",
      "Processing H3K4me2_ChIPSeq_Naive-Donor19 macs2 q0.05\n",
      "[Skipped]: Already exists /tmp/overlap_H3K4me2_ChIPSeq_Naive-Donor19_macs2 q0.05.tsv\n",
      "Processing H3K4me2_ChIPSeq_Naive-Donor19 span 0.05_0\n",
      "[Skipped]: Already exists /tmp/overlap_H3K4me2_ChIPSeq_Naive-Donor19_span 0.05_0.tsv\n",
      "Processing H3K4me2_ChIPSeq_Naive-Donor14 macs2 q0.05\n",
      "[Skipped]: Already exists /tmp/overlap_H3K4me2_ChIPSeq_Naive-Donor14_macs2 q0.05.tsv\n",
      "Processing H3K4me2_ChIPSeq_Naive-Donor14 span 0.05_0\n",
      "[Skipped]: Already exists /tmp/overlap_H3K4me2_ChIPSeq_Naive-Donor14_span 0.05_0.tsv\n",
      "Processing H3K4me2_ChIPSeq_Naive-Donor7 macs2 q0.05\n",
      "[Skipped]: Already exists /tmp/overlap_H3K4me2_ChIPSeq_Naive-Donor7_macs2 q0.05.tsv\n",
      "Processing H3K4me2_ChIPSeq_Naive-Donor7 span 0.05_0\n",
      "[Skipped]: Already exists /tmp/overlap_H3K4me2_ChIPSeq_Naive-Donor7_span 0.05_0.tsv\n",
      "Processing H3K4me2_ChIPSeq_CCR4pos-Donor9 macs2 q0.05\n",
      "[Skipped]: Already exists /tmp/overlap_H3K4me2_ChIPSeq_CCR4pos-Donor9_macs2 q0.05.tsv\n",
      "Processing H3K4me2_ChIPSeq_CCR4pos-Donor9 span 0.05_0\n",
      "[Skipped]: Already exists /tmp/overlap_H3K4me2_ChIPSeq_CCR4pos-Donor9_span 0.05_0.tsv\n",
      "Processing H3K4me2_ChIPSeq_CCR4Neg-Donor16 macs2 q0.05\n",
      "[Skipped]: Already exists /tmp/overlap_H3K4me2_ChIPSeq_CCR4Neg-Donor16_macs2 q0.05.tsv\n",
      "Processing H3K4me2_ChIPSeq_CCR4Neg-Donor16 span 0.05_0\n",
      "[Skipped]: Already exists /tmp/overlap_H3K4me2_ChIPSeq_CCR4Neg-Donor16_span 0.05_0.tsv\n",
      "Processing H3K4me2_ChIPSeq_CCR4pos-Donor7 macs2 q0.05\n",
      "[Skipped]: Already exists /tmp/overlap_H3K4me2_ChIPSeq_CCR4pos-Donor7_macs2 q0.05.tsv\n",
      "Processing H3K4me2_ChIPSeq_CCR4pos-Donor7 span 0.05_0\n",
      "[Skipped]: Already exists /tmp/overlap_H3K4me2_ChIPSeq_CCR4pos-Donor7_span 0.05_0.tsv\n",
      "Processing H3K4me2_ChIPSeq_Naive-Donor18 macs2 q0.05\n",
      "[Skipped]: Already exists /tmp/overlap_H3K4me2_ChIPSeq_Naive-Donor18_macs2 q0.05.tsv\n",
      "Processing H3K4me2_ChIPSeq_Naive-Donor18 span 0.05_0\n",
      "[Skipped]: Already exists /tmp/overlap_H3K4me2_ChIPSeq_Naive-Donor18_span 0.05_0.tsv\n",
      "Processing H3K4me2_ChIPSeq_CCR4pos-Donor16 macs2 q0.05\n",
      "[Skipped]: Already exists /tmp/overlap_H3K4me2_ChIPSeq_CCR4pos-Donor16_macs2 q0.05.tsv\n",
      "Processing H3K4me2_ChIPSeq_CCR4pos-Donor16 span 0.05_0\n",
      "[Skipped]: Already exists /tmp/overlap_H3K4me2_ChIPSeq_CCR4pos-Donor16_span 0.05_0.tsv\n",
      "Processing H3K4me2_ChIPSeq_CCR4pos-Donor19 macs2 q0.05\n",
      "[Skipped]: Already exists /tmp/overlap_H3K4me2_ChIPSeq_CCR4pos-Donor19_macs2 q0.05.tsv\n",
      "Processing H3K4me2_ChIPSeq_CCR4pos-Donor19 span 0.05_0\n",
      "[Skipped]: Already exists /tmp/overlap_H3K4me2_ChIPSeq_CCR4pos-Donor19_span 0.05_0.tsv\n",
      "Processing H3K4me2_ChIPSeq_CCR4pos-Donor10 macs2 q0.05\n",
      "[Skipped]: Already exists /tmp/overlap_H3K4me2_ChIPSeq_CCR4pos-Donor10_macs2 q0.05.tsv\n",
      "Processing H3K4me2_ChIPSeq_CCR4pos-Donor10 span 0.05_0\n",
      "[Skipped]: Already exists /tmp/overlap_H3K4me2_ChIPSeq_CCR4pos-Donor10_span 0.05_0.tsv\n",
      "Processing H3K4me2_ChIPSeq_CCR4pos-Donor11 macs2 q0.05\n",
      "[Skipped]: Already exists /tmp/overlap_H3K4me2_ChIPSeq_CCR4pos-Donor11_macs2 q0.05.tsv\n",
      "Processing H3K4me2_ChIPSeq_CCR4pos-Donor11 span 0.05_0\n",
      "[Skipped]: Already exists /tmp/overlap_H3K4me2_ChIPSeq_CCR4pos-Donor11_span 0.05_0.tsv\n",
      "Processing H3K4me2_ChIPSeq_Naive-Donor10 macs2 q0.05\n",
      "[Skipped]: Already exists /tmp/overlap_H3K4me2_ChIPSeq_Naive-Donor10_macs2 q0.05.tsv\n",
      "Processing H3K4me2_ChIPSeq_Naive-Donor10 span 0.05_0\n",
      "[Skipped]: Already exists /tmp/overlap_H3K4me2_ChIPSeq_Naive-Donor10_span 0.05_0.tsv\n",
      "Processing H3K4me2_ChIPSeq_CCR4Neg-Donor15 macs2 q0.05\n",
      "[Skipped]: Already exists /tmp/overlap_H3K4me2_ChIPSeq_CCR4Neg-Donor15_macs2 q0.05.tsv\n"
     ]
    },
    {
     "name": "stdout",
     "output_type": "stream",
     "text": [
      "Processing H3K4me2_ChIPSeq_CCR4Neg-Donor15 span 0.05_0\n",
      "[Skipped]: Already exists /tmp/overlap_H3K4me2_ChIPSeq_CCR4Neg-Donor15_span 0.05_0.tsv\n",
      "Processing H3K4me2_ChIPSeq_Naive-Donor16 macs2 q0.05\n",
      "[Skipped]: Already exists /tmp/overlap_H3K4me2_ChIPSeq_Naive-Donor16_macs2 q0.05.tsv\n",
      "Processing H3K4me2_ChIPSeq_Naive-Donor16 span 0.05_0\n",
      "[Skipped]: Already exists /tmp/overlap_H3K4me2_ChIPSeq_Naive-Donor16_span 0.05_0.tsv\n",
      "Processing H3K4me2_ChIPSeq_CCR4Neg-Donor6 macs2 q0.05\n",
      "[Skipped]: Already exists /tmp/overlap_H3K4me2_ChIPSeq_CCR4Neg-Donor6_macs2 q0.05.tsv\n",
      "Processing H3K4me2_ChIPSeq_CCR4Neg-Donor6 span 0.05_0\n",
      "[Skipped]: Already exists /tmp/overlap_H3K4me2_ChIPSeq_CCR4Neg-Donor6_span 0.05_0.tsv\n",
      "Processing H3K4me2_ChIPSeq_Naive-Donor13 macs2 q0.05\n",
      "[Skipped]: Already exists /tmp/overlap_H3K4me2_ChIPSeq_Naive-Donor13_macs2 q0.05.tsv\n",
      "Processing H3K4me2_ChIPSeq_Naive-Donor13 span 0.05_0\n",
      "[Skipped]: Already exists /tmp/overlap_H3K4me2_ChIPSeq_Naive-Donor13_span 0.05_0.tsv\n",
      "Processing H3K4me2_ChIPSeq_CCR4pos-Donor4 macs2 q0.05\n",
      "[Skipped]: Already exists /tmp/overlap_H3K4me2_ChIPSeq_CCR4pos-Donor4_macs2 q0.05.tsv\n",
      "Processing H3K4me2_ChIPSeq_CCR4pos-Donor4 span 0.05_0\n",
      "[Skipped]: Already exists /tmp/overlap_H3K4me2_ChIPSeq_CCR4pos-Donor4_span 0.05_0.tsv\n",
      "Processing H3K4me2_ChIPSeq_CCR4pos-Donor18 macs2 q0.05\n",
      "[Skipped]: Already exists /tmp/overlap_H3K4me2_ChIPSeq_CCR4pos-Donor18_macs2 q0.05.tsv\n",
      "Processing H3K4me2_ChIPSeq_CCR4pos-Donor18 span 0.05_0\n",
      "[Skipped]: Already exists /tmp/overlap_H3K4me2_ChIPSeq_CCR4pos-Donor18_span 0.05_0.tsv\n",
      "Processing H3K4me2_ChIPSeq_CCR4Neg-Donor5 macs2 q0.05\n",
      "[Skipped]: Already exists /tmp/overlap_H3K4me2_ChIPSeq_CCR4Neg-Donor5_macs2 q0.05.tsv\n",
      "Processing H3K4me2_ChIPSeq_CCR4Neg-Donor5 span 0.05_0\n",
      "[Skipped]: Already exists /tmp/overlap_H3K4me2_ChIPSeq_CCR4Neg-Donor5_span 0.05_0.tsv\n",
      "Processing H3K4me2_ChIPSeq_CCR4Neg-Donor1 macs2 q0.05\n",
      "[Skipped]: Already exists /tmp/overlap_H3K4me2_ChIPSeq_CCR4Neg-Donor1_macs2 q0.05.tsv\n",
      "Processing H3K4me2_ChIPSeq_CCR4Neg-Donor1 span 0.05_0\n",
      "[Skipped]: Already exists /tmp/overlap_H3K4me2_ChIPSeq_CCR4Neg-Donor1_span 0.05_0.tsv\n",
      "Processing H3K4me2_ChIPSeq_CCR4Neg-Donor11 macs2 q0.05\n",
      "[Skipped]: Already exists /tmp/overlap_H3K4me2_ChIPSeq_CCR4Neg-Donor11_macs2 q0.05.tsv\n",
      "Processing H3K4me2_ChIPSeq_CCR4Neg-Donor11 span 0.05_0\n",
      "[Skipped]: Already exists /tmp/overlap_H3K4me2_ChIPSeq_CCR4Neg-Donor11_span 0.05_0.tsv\n",
      "Processing H3K4me2_ChIPSeq_CCR4pos-Donor20 macs2 q0.05\n",
      "[Skipped]: Already exists /tmp/overlap_H3K4me2_ChIPSeq_CCR4pos-Donor20_macs2 q0.05.tsv\n",
      "Processing H3K4me2_ChIPSeq_CCR4pos-Donor20 span 0.05_0\n",
      "[Skipped]: Already exists /tmp/overlap_H3K4me2_ChIPSeq_CCR4pos-Donor20_span 0.05_0.tsv\n",
      "Processing H3K4me2_ChIPSeq_CCR4Neg-Donor23 macs2 q0.05\n",
      "[Skipped]: Already exists /tmp/overlap_H3K4me2_ChIPSeq_CCR4Neg-Donor23_macs2 q0.05.tsv\n",
      "Processing H3K4me2_ChIPSeq_CCR4Neg-Donor23 span 0.05_0\n",
      "[Skipped]: Already exists /tmp/overlap_H3K4me2_ChIPSeq_CCR4Neg-Donor23_span 0.05_0.tsv\n"
     ]
    },
    {
     "data": {
      "application/vnd.plotly.v1+json": {
       "config": {
        "plotlyServerURL": "https://plot.ly"
       },
       "data": [
        {
         "line": {
          "shape": "linear"
         },
         "name": "macs2 q0.05 mean",
         "type": "scatter",
         "x": [
          "H3K4me2_ChIPSeq_CCR4Neg-Donor1",
          "H3K4me2_ChIPSeq_CCR4Neg-Donor11",
          "H3K4me2_ChIPSeq_CCR4Neg-Donor12",
          "H3K4me2_ChIPSeq_CCR4Neg-Donor13",
          "H3K4me2_ChIPSeq_CCR4Neg-Donor14",
          "H3K4me2_ChIPSeq_CCR4Neg-Donor15",
          "H3K4me2_ChIPSeq_CCR4Neg-Donor16",
          "H3K4me2_ChIPSeq_CCR4Neg-Donor17",
          "H3K4me2_ChIPSeq_CCR4Neg-Donor18",
          "H3K4me2_ChIPSeq_CCR4Neg-Donor19",
          "H3K4me2_ChIPSeq_CCR4Neg-Donor20",
          "H3K4me2_ChIPSeq_CCR4Neg-Donor21",
          "H3K4me2_ChIPSeq_CCR4Neg-Donor22",
          "H3K4me2_ChIPSeq_CCR4Neg-Donor23",
          "H3K4me2_ChIPSeq_CCR4Neg-Donor4",
          "H3K4me2_ChIPSeq_CCR4Neg-Donor5",
          "H3K4me2_ChIPSeq_CCR4Neg-Donor6",
          "H3K4me2_ChIPSeq_CCR4Neg-Donor7",
          "H3K4me2_ChIPSeq_CCR4Neg-Donor8",
          "H3K4me2_ChIPSeq_CCR4Neg-Donor9",
          "H3K4me2_ChIPSeq_CCR4pos-Donor1",
          "H3K4me2_ChIPSeq_CCR4pos-Donor10",
          "H3K4me2_ChIPSeq_CCR4pos-Donor11",
          "H3K4me2_ChIPSeq_CCR4pos-Donor12",
          "H3K4me2_ChIPSeq_CCR4pos-Donor13",
          "H3K4me2_ChIPSeq_CCR4pos-Donor14",
          "H3K4me2_ChIPSeq_CCR4pos-Donor15",
          "H3K4me2_ChIPSeq_CCR4pos-Donor16",
          "H3K4me2_ChIPSeq_CCR4pos-Donor17",
          "H3K4me2_ChIPSeq_CCR4pos-Donor18",
          "H3K4me2_ChIPSeq_CCR4pos-Donor19",
          "H3K4me2_ChIPSeq_CCR4pos-Donor2",
          "H3K4me2_ChIPSeq_CCR4pos-Donor20",
          "H3K4me2_ChIPSeq_CCR4pos-Donor21",
          "H3K4me2_ChIPSeq_CCR4pos-Donor22",
          "H3K4me2_ChIPSeq_CCR4pos-Donor23",
          "H3K4me2_ChIPSeq_CCR4pos-Donor3",
          "H3K4me2_ChIPSeq_CCR4pos-Donor4",
          "H3K4me2_ChIPSeq_CCR4pos-Donor5",
          "H3K4me2_ChIPSeq_CCR4pos-Donor7",
          "H3K4me2_ChIPSeq_CCR4pos-Donor8",
          "H3K4me2_ChIPSeq_CCR4pos-Donor9",
          "H3K4me2_ChIPSeq_Naive-Donor1",
          "H3K4me2_ChIPSeq_Naive-Donor10",
          "H3K4me2_ChIPSeq_Naive-Donor11",
          "H3K4me2_ChIPSeq_Naive-Donor12",
          "H3K4me2_ChIPSeq_Naive-Donor13",
          "H3K4me2_ChIPSeq_Naive-Donor14",
          "H3K4me2_ChIPSeq_Naive-Donor15",
          "H3K4me2_ChIPSeq_Naive-Donor16",
          "H3K4me2_ChIPSeq_Naive-Donor17",
          "H3K4me2_ChIPSeq_Naive-Donor18",
          "H3K4me2_ChIPSeq_Naive-Donor19",
          "H3K4me2_ChIPSeq_Naive-Donor2",
          "H3K4me2_ChIPSeq_Naive-Donor20",
          "H3K4me2_ChIPSeq_Naive-Donor21",
          "H3K4me2_ChIPSeq_Naive-Donor22",
          "H3K4me2_ChIPSeq_Naive-Donor23",
          "H3K4me2_ChIPSeq_Naive-Donor3",
          "H3K4me2_ChIPSeq_Naive-Donor5",
          "H3K4me2_ChIPSeq_Naive-Donor7",
          "H3K4me2_ChIPSeq_Naive-Donor8",
          "H3K4me2_ChIPSeq_Naive-Donor9"
         ],
         "y": [
          0.7417115125,
          1,
          0.7539477375,
          0.71445293,
          0.7253416925,
          0.75375512,
          0.7272446300000001,
          0.75486135,
          0.7427594,
          0.7525151225,
          1,
          0.7363067125,
          0.7487760800000001,
          0.75884133,
          0.764881425,
          0.7394847849999999,
          0.7438292575000001,
          1,
          0.74848505,
          1,
          0.7372472,
          1,
          0.7316644725,
          0.7539832399999999,
          0.73056528,
          0.746352965,
          0.7785598025,
          0.7761259675,
          0.75453223,
          0.7310669575,
          0.7673913075000001,
          0.73057757,
          0.7482342125,
          0.757016095,
          0.7402335325,
          0.7894707075,
          1,
          0.74476482,
          0.74474405,
          0.729518415,
          0.74133335,
          0.7410156925,
          0.6710561199999999,
          1,
          0.74965563,
          0.7499671575,
          0.7403137625,
          0.7505573799999999,
          0.7675772,
          0.76830778,
          0.714690615,
          0.7210170675,
          0.74024424,
          0.74681373,
          0.7737554125,
          0.6695647077777778,
          1,
          0.7467336175,
          0.7686647799999999,
          0.72079428,
          0.7513428575,
          0.7461087775,
          0.74852363
         ]
        },
        {
         "line": {
          "dash": "dot",
          "shape": "linear"
         },
         "name": "macs2 q0.05 std",
         "type": "scatter",
         "x": [
          "H3K4me2_ChIPSeq_CCR4Neg-Donor1",
          "H3K4me2_ChIPSeq_CCR4Neg-Donor11",
          "H3K4me2_ChIPSeq_CCR4Neg-Donor12",
          "H3K4me2_ChIPSeq_CCR4Neg-Donor13",
          "H3K4me2_ChIPSeq_CCR4Neg-Donor14",
          "H3K4me2_ChIPSeq_CCR4Neg-Donor15",
          "H3K4me2_ChIPSeq_CCR4Neg-Donor16",
          "H3K4me2_ChIPSeq_CCR4Neg-Donor17",
          "H3K4me2_ChIPSeq_CCR4Neg-Donor18",
          "H3K4me2_ChIPSeq_CCR4Neg-Donor19",
          "H3K4me2_ChIPSeq_CCR4Neg-Donor20",
          "H3K4me2_ChIPSeq_CCR4Neg-Donor21",
          "H3K4me2_ChIPSeq_CCR4Neg-Donor22",
          "H3K4me2_ChIPSeq_CCR4Neg-Donor23",
          "H3K4me2_ChIPSeq_CCR4Neg-Donor4",
          "H3K4me2_ChIPSeq_CCR4Neg-Donor5",
          "H3K4me2_ChIPSeq_CCR4Neg-Donor6",
          "H3K4me2_ChIPSeq_CCR4Neg-Donor7",
          "H3K4me2_ChIPSeq_CCR4Neg-Donor8",
          "H3K4me2_ChIPSeq_CCR4Neg-Donor9",
          "H3K4me2_ChIPSeq_CCR4pos-Donor1",
          "H3K4me2_ChIPSeq_CCR4pos-Donor10",
          "H3K4me2_ChIPSeq_CCR4pos-Donor11",
          "H3K4me2_ChIPSeq_CCR4pos-Donor12",
          "H3K4me2_ChIPSeq_CCR4pos-Donor13",
          "H3K4me2_ChIPSeq_CCR4pos-Donor14",
          "H3K4me2_ChIPSeq_CCR4pos-Donor15",
          "H3K4me2_ChIPSeq_CCR4pos-Donor16",
          "H3K4me2_ChIPSeq_CCR4pos-Donor17",
          "H3K4me2_ChIPSeq_CCR4pos-Donor18",
          "H3K4me2_ChIPSeq_CCR4pos-Donor19",
          "H3K4me2_ChIPSeq_CCR4pos-Donor2",
          "H3K4me2_ChIPSeq_CCR4pos-Donor20",
          "H3K4me2_ChIPSeq_CCR4pos-Donor21",
          "H3K4me2_ChIPSeq_CCR4pos-Donor22",
          "H3K4me2_ChIPSeq_CCR4pos-Donor23",
          "H3K4me2_ChIPSeq_CCR4pos-Donor3",
          "H3K4me2_ChIPSeq_CCR4pos-Donor4",
          "H3K4me2_ChIPSeq_CCR4pos-Donor5",
          "H3K4me2_ChIPSeq_CCR4pos-Donor7",
          "H3K4me2_ChIPSeq_CCR4pos-Donor8",
          "H3K4me2_ChIPSeq_CCR4pos-Donor9",
          "H3K4me2_ChIPSeq_Naive-Donor1",
          "H3K4me2_ChIPSeq_Naive-Donor10",
          "H3K4me2_ChIPSeq_Naive-Donor11",
          "H3K4me2_ChIPSeq_Naive-Donor12",
          "H3K4me2_ChIPSeq_Naive-Donor13",
          "H3K4me2_ChIPSeq_Naive-Donor14",
          "H3K4me2_ChIPSeq_Naive-Donor15",
          "H3K4me2_ChIPSeq_Naive-Donor16",
          "H3K4me2_ChIPSeq_Naive-Donor17",
          "H3K4me2_ChIPSeq_Naive-Donor18",
          "H3K4me2_ChIPSeq_Naive-Donor19",
          "H3K4me2_ChIPSeq_Naive-Donor2",
          "H3K4me2_ChIPSeq_Naive-Donor20",
          "H3K4me2_ChIPSeq_Naive-Donor21",
          "H3K4me2_ChIPSeq_Naive-Donor22",
          "H3K4me2_ChIPSeq_Naive-Donor23",
          "H3K4me2_ChIPSeq_Naive-Donor3",
          "H3K4me2_ChIPSeq_Naive-Donor5",
          "H3K4me2_ChIPSeq_Naive-Donor7",
          "H3K4me2_ChIPSeq_Naive-Donor8",
          "H3K4me2_ChIPSeq_Naive-Donor9"
         ],
         "y": [
          0.31721100904691285,
          0,
          0.2841234914298868,
          0.3310301766835749,
          0.3175842173331722,
          0.2895492178830632,
          0.3255355078820925,
          0.28306237703140624,
          0.31782778097471803,
          0.30143874609083576,
          0,
          0.31273027706518636,
          0.30387223032147015,
          0.2789205598138215,
          0.27193603454688103,
          0.3038247129345794,
          0.2965526465271013,
          0,
          0.31593845064516035,
          0,
          0.32635919867321034,
          0,
          0.3166776626365387,
          0.28480894017003705,
          0.3129720779799195,
          0.3010870528423116,
          0.26548488425966804,
          0.25866857498764884,
          0.28384187960502866,
          0.3178892255176918,
          0.27808166083453895,
          0.3129019799664696,
          0.30221290911195103,
          0.29431249439176516,
          0.31470780436330603,
          0.24508248111125822,
          0,
          0.295567854011387,
          0.29627854820764526,
          0.3137077203198507,
          0.30131125824353683,
          0.3113793986896835,
          0.25983555174649736,
          0,
          0.28921064205463975,
          0.3057508711131146,
          0.299995057696421,
          0.29389066570099204,
          0.2686796793510712,
          0.26938718757546776,
          0.342516796666851,
          0.32495338957466535,
          0.3032789736288199,
          0.2931963447175827,
          0.2616203504064186,
          0.25536842657157915,
          0,
          0.29294056118186823,
          0.27356886470957964,
          0.325008035540178,
          0.2901252361084409,
          0.30439859185424634,
          0.3017298695439502
         ]
        },
        {
         "line": {
          "shape": "linear"
         },
         "name": "span 0.05_0 mean",
         "type": "scatter",
         "x": [
          "H3K4me2_ChIPSeq_CCR4Neg-Donor1",
          "H3K4me2_ChIPSeq_CCR4Neg-Donor11",
          "H3K4me2_ChIPSeq_CCR4Neg-Donor12",
          "H3K4me2_ChIPSeq_CCR4Neg-Donor13",
          "H3K4me2_ChIPSeq_CCR4Neg-Donor14",
          "H3K4me2_ChIPSeq_CCR4Neg-Donor15",
          "H3K4me2_ChIPSeq_CCR4Neg-Donor16",
          "H3K4me2_ChIPSeq_CCR4Neg-Donor17",
          "H3K4me2_ChIPSeq_CCR4Neg-Donor18",
          "H3K4me2_ChIPSeq_CCR4Neg-Donor19",
          "H3K4me2_ChIPSeq_CCR4Neg-Donor20",
          "H3K4me2_ChIPSeq_CCR4Neg-Donor21",
          "H3K4me2_ChIPSeq_CCR4Neg-Donor22",
          "H3K4me2_ChIPSeq_CCR4Neg-Donor23",
          "H3K4me2_ChIPSeq_CCR4Neg-Donor4",
          "H3K4me2_ChIPSeq_CCR4Neg-Donor5",
          "H3K4me2_ChIPSeq_CCR4Neg-Donor6",
          "H3K4me2_ChIPSeq_CCR4Neg-Donor7",
          "H3K4me2_ChIPSeq_CCR4Neg-Donor8",
          "H3K4me2_ChIPSeq_CCR4Neg-Donor9",
          "H3K4me2_ChIPSeq_CCR4pos-Donor1",
          "H3K4me2_ChIPSeq_CCR4pos-Donor10",
          "H3K4me2_ChIPSeq_CCR4pos-Donor11",
          "H3K4me2_ChIPSeq_CCR4pos-Donor12",
          "H3K4me2_ChIPSeq_CCR4pos-Donor13",
          "H3K4me2_ChIPSeq_CCR4pos-Donor14",
          "H3K4me2_ChIPSeq_CCR4pos-Donor15",
          "H3K4me2_ChIPSeq_CCR4pos-Donor16",
          "H3K4me2_ChIPSeq_CCR4pos-Donor17",
          "H3K4me2_ChIPSeq_CCR4pos-Donor18",
          "H3K4me2_ChIPSeq_CCR4pos-Donor19",
          "H3K4me2_ChIPSeq_CCR4pos-Donor2",
          "H3K4me2_ChIPSeq_CCR4pos-Donor20",
          "H3K4me2_ChIPSeq_CCR4pos-Donor21",
          "H3K4me2_ChIPSeq_CCR4pos-Donor22",
          "H3K4me2_ChIPSeq_CCR4pos-Donor23",
          "H3K4me2_ChIPSeq_CCR4pos-Donor3",
          "H3K4me2_ChIPSeq_CCR4pos-Donor4",
          "H3K4me2_ChIPSeq_CCR4pos-Donor5",
          "H3K4me2_ChIPSeq_CCR4pos-Donor7",
          "H3K4me2_ChIPSeq_CCR4pos-Donor8",
          "H3K4me2_ChIPSeq_CCR4pos-Donor9",
          "H3K4me2_ChIPSeq_Naive-Donor1",
          "H3K4me2_ChIPSeq_Naive-Donor10",
          "H3K4me2_ChIPSeq_Naive-Donor11",
          "H3K4me2_ChIPSeq_Naive-Donor12",
          "H3K4me2_ChIPSeq_Naive-Donor13",
          "H3K4me2_ChIPSeq_Naive-Donor14",
          "H3K4me2_ChIPSeq_Naive-Donor15",
          "H3K4me2_ChIPSeq_Naive-Donor16",
          "H3K4me2_ChIPSeq_Naive-Donor17",
          "H3K4me2_ChIPSeq_Naive-Donor18",
          "H3K4me2_ChIPSeq_Naive-Donor19",
          "H3K4me2_ChIPSeq_Naive-Donor2",
          "H3K4me2_ChIPSeq_Naive-Donor20",
          "H3K4me2_ChIPSeq_Naive-Donor21",
          "H3K4me2_ChIPSeq_Naive-Donor22",
          "H3K4me2_ChIPSeq_Naive-Donor23",
          "H3K4me2_ChIPSeq_Naive-Donor3",
          "H3K4me2_ChIPSeq_Naive-Donor5",
          "H3K4me2_ChIPSeq_Naive-Donor7",
          "H3K4me2_ChIPSeq_Naive-Donor8",
          "H3K4me2_ChIPSeq_Naive-Donor9"
         ],
         "y": [
          0.866673475,
          1,
          0.8704211575,
          0.846637675,
          0.8367775,
          0.8587249,
          0.8515965400000001,
          0.8827227049999999,
          0.835398265,
          0.8667828075,
          1,
          0.8523913425,
          0.85327065,
          0.86089244,
          0.8752063625,
          0.8717802425,
          0.8733059475,
          1,
          0.8404907125,
          1,
          0.84903065,
          1,
          0.83221755,
          0.8787352900000001,
          0.8468547500000001,
          0.8643991375,
          0.869226675,
          0.8760392,
          0.8691746625000001,
          0.844048695,
          0.854791885,
          0.831223475,
          0.863061375,
          0.85952965,
          0.8710052525,
          0.87916269,
          1,
          0.8615699725,
          0.8575097325000001,
          0.8253527575,
          0.8494372975,
          0.8547441650000001,
          0.8256594788888889,
          1,
          0.8339623500000001,
          0.8715185750000001,
          0.856644,
          0.87003529,
          0.875747925,
          0.8714993,
          0.825843925,
          0.8589862825,
          0.86481751,
          0.8695232500000001,
          0.8805644875,
          0.8154445844444445,
          1,
          0.85230565,
          0.868351725,
          0.8194520975,
          0.8578390475,
          0.857028965,
          0.859011275
         ]
        },
        {
         "line": {
          "dash": "dot",
          "shape": "linear"
         },
         "name": "span 0.05_0 std",
         "type": "scatter",
         "x": [
          "H3K4me2_ChIPSeq_CCR4Neg-Donor1",
          "H3K4me2_ChIPSeq_CCR4Neg-Donor11",
          "H3K4me2_ChIPSeq_CCR4Neg-Donor12",
          "H3K4me2_ChIPSeq_CCR4Neg-Donor13",
          "H3K4me2_ChIPSeq_CCR4Neg-Donor14",
          "H3K4me2_ChIPSeq_CCR4Neg-Donor15",
          "H3K4me2_ChIPSeq_CCR4Neg-Donor16",
          "H3K4me2_ChIPSeq_CCR4Neg-Donor17",
          "H3K4me2_ChIPSeq_CCR4Neg-Donor18",
          "H3K4me2_ChIPSeq_CCR4Neg-Donor19",
          "H3K4me2_ChIPSeq_CCR4Neg-Donor20",
          "H3K4me2_ChIPSeq_CCR4Neg-Donor21",
          "H3K4me2_ChIPSeq_CCR4Neg-Donor22",
          "H3K4me2_ChIPSeq_CCR4Neg-Donor23",
          "H3K4me2_ChIPSeq_CCR4Neg-Donor4",
          "H3K4me2_ChIPSeq_CCR4Neg-Donor5",
          "H3K4me2_ChIPSeq_CCR4Neg-Donor6",
          "H3K4me2_ChIPSeq_CCR4Neg-Donor7",
          "H3K4me2_ChIPSeq_CCR4Neg-Donor8",
          "H3K4me2_ChIPSeq_CCR4Neg-Donor9",
          "H3K4me2_ChIPSeq_CCR4pos-Donor1",
          "H3K4me2_ChIPSeq_CCR4pos-Donor10",
          "H3K4me2_ChIPSeq_CCR4pos-Donor11",
          "H3K4me2_ChIPSeq_CCR4pos-Donor12",
          "H3K4me2_ChIPSeq_CCR4pos-Donor13",
          "H3K4me2_ChIPSeq_CCR4pos-Donor14",
          "H3K4me2_ChIPSeq_CCR4pos-Donor15",
          "H3K4me2_ChIPSeq_CCR4pos-Donor16",
          "H3K4me2_ChIPSeq_CCR4pos-Donor17",
          "H3K4me2_ChIPSeq_CCR4pos-Donor18",
          "H3K4me2_ChIPSeq_CCR4pos-Donor19",
          "H3K4me2_ChIPSeq_CCR4pos-Donor2",
          "H3K4me2_ChIPSeq_CCR4pos-Donor20",
          "H3K4me2_ChIPSeq_CCR4pos-Donor21",
          "H3K4me2_ChIPSeq_CCR4pos-Donor22",
          "H3K4me2_ChIPSeq_CCR4pos-Donor23",
          "H3K4me2_ChIPSeq_CCR4pos-Donor3",
          "H3K4me2_ChIPSeq_CCR4pos-Donor4",
          "H3K4me2_ChIPSeq_CCR4pos-Donor5",
          "H3K4me2_ChIPSeq_CCR4pos-Donor7",
          "H3K4me2_ChIPSeq_CCR4pos-Donor8",
          "H3K4me2_ChIPSeq_CCR4pos-Donor9",
          "H3K4me2_ChIPSeq_Naive-Donor1",
          "H3K4me2_ChIPSeq_Naive-Donor10",
          "H3K4me2_ChIPSeq_Naive-Donor11",
          "H3K4me2_ChIPSeq_Naive-Donor12",
          "H3K4me2_ChIPSeq_Naive-Donor13",
          "H3K4me2_ChIPSeq_Naive-Donor14",
          "H3K4me2_ChIPSeq_Naive-Donor15",
          "H3K4me2_ChIPSeq_Naive-Donor16",
          "H3K4me2_ChIPSeq_Naive-Donor17",
          "H3K4me2_ChIPSeq_Naive-Donor18",
          "H3K4me2_ChIPSeq_Naive-Donor19",
          "H3K4me2_ChIPSeq_Naive-Donor2",
          "H3K4me2_ChIPSeq_Naive-Donor20",
          "H3K4me2_ChIPSeq_Naive-Donor21",
          "H3K4me2_ChIPSeq_Naive-Donor22",
          "H3K4me2_ChIPSeq_Naive-Donor23",
          "H3K4me2_ChIPSeq_Naive-Donor3",
          "H3K4me2_ChIPSeq_Naive-Donor5",
          "H3K4me2_ChIPSeq_Naive-Donor7",
          "H3K4me2_ChIPSeq_Naive-Donor8",
          "H3K4me2_ChIPSeq_Naive-Donor9"
         ],
         "y": [
          0.15809257169281918,
          0,
          0.15430553689343238,
          0.21561058697239915,
          0.20779913604648764,
          0.19690775772640348,
          0.20760095818801289,
          0.13550558511121638,
          0.19090783882996762,
          0.1730287562884627,
          0,
          0.19329167424538118,
          0.18104632004540827,
          0.1615136362697045,
          0.15154752347938794,
          0.15287426237900617,
          0.1475691894259176,
          0,
          0.1999393935781473,
          0,
          0.20950361370193601,
          0,
          0.2348613996137083,
          0.14251571872012947,
          0.20844736849435958,
          0.18045109508838023,
          0.1551683891769062,
          0.16154525003700967,
          0.16859297922131564,
          0.20609798764860784,
          0.21592582108279587,
          0.24692236976252774,
          0.17475007112903418,
          0.1641774512780912,
          0.15071341292016122,
          0.16969804143460349,
          0,
          0.1662323134155562,
          0.17809413485666903,
          0.2492469200405451,
          0.17743107223766272,
          0.16877276084841678,
          0.13382227628170126,
          0,
          0.27889789623669403,
          0.1554225185135104,
          0.19785791835617803,
          0.1596806775000046,
          0.1689395368797443,
          0.16868866499163482,
          0.21007224720829376,
          0.1628681815255082,
          0.19623903271831286,
          0.16055056221133787,
          0.1386549903710668,
          0.16063495970427627,
          0,
          0.20382350571372204,
          0.1714060154156669,
          0.27673857649766503,
          0.16563380772980246,
          0.16562361488615354,
          0.16330520894458894
         ]
        }
       ],
       "layout": {
        "template": {
         "data": {
          "bar": [
           {
            "error_x": {
             "color": "#2a3f5f"
            },
            "error_y": {
             "color": "#2a3f5f"
            },
            "marker": {
             "line": {
              "color": "#E5ECF6",
              "width": 0.5
             }
            },
            "type": "bar"
           }
          ],
          "barpolar": [
           {
            "marker": {
             "line": {
              "color": "#E5ECF6",
              "width": 0.5
             }
            },
            "type": "barpolar"
           }
          ],
          "carpet": [
           {
            "aaxis": {
             "endlinecolor": "#2a3f5f",
             "gridcolor": "white",
             "linecolor": "white",
             "minorgridcolor": "white",
             "startlinecolor": "#2a3f5f"
            },
            "baxis": {
             "endlinecolor": "#2a3f5f",
             "gridcolor": "white",
             "linecolor": "white",
             "minorgridcolor": "white",
             "startlinecolor": "#2a3f5f"
            },
            "type": "carpet"
           }
          ],
          "choropleth": [
           {
            "colorbar": {
             "outlinewidth": 0,
             "ticks": ""
            },
            "type": "choropleth"
           }
          ],
          "contour": [
           {
            "colorbar": {
             "outlinewidth": 0,
             "ticks": ""
            },
            "colorscale": [
             [
              0,
              "#0d0887"
             ],
             [
              0.1111111111111111,
              "#46039f"
             ],
             [
              0.2222222222222222,
              "#7201a8"
             ],
             [
              0.3333333333333333,
              "#9c179e"
             ],
             [
              0.4444444444444444,
              "#bd3786"
             ],
             [
              0.5555555555555556,
              "#d8576b"
             ],
             [
              0.6666666666666666,
              "#ed7953"
             ],
             [
              0.7777777777777778,
              "#fb9f3a"
             ],
             [
              0.8888888888888888,
              "#fdca26"
             ],
             [
              1,
              "#f0f921"
             ]
            ],
            "type": "contour"
           }
          ],
          "contourcarpet": [
           {
            "colorbar": {
             "outlinewidth": 0,
             "ticks": ""
            },
            "type": "contourcarpet"
           }
          ],
          "heatmap": [
           {
            "colorbar": {
             "outlinewidth": 0,
             "ticks": ""
            },
            "colorscale": [
             [
              0,
              "#0d0887"
             ],
             [
              0.1111111111111111,
              "#46039f"
             ],
             [
              0.2222222222222222,
              "#7201a8"
             ],
             [
              0.3333333333333333,
              "#9c179e"
             ],
             [
              0.4444444444444444,
              "#bd3786"
             ],
             [
              0.5555555555555556,
              "#d8576b"
             ],
             [
              0.6666666666666666,
              "#ed7953"
             ],
             [
              0.7777777777777778,
              "#fb9f3a"
             ],
             [
              0.8888888888888888,
              "#fdca26"
             ],
             [
              1,
              "#f0f921"
             ]
            ],
            "type": "heatmap"
           }
          ],
          "heatmapgl": [
           {
            "colorbar": {
             "outlinewidth": 0,
             "ticks": ""
            },
            "colorscale": [
             [
              0,
              "#0d0887"
             ],
             [
              0.1111111111111111,
              "#46039f"
             ],
             [
              0.2222222222222222,
              "#7201a8"
             ],
             [
              0.3333333333333333,
              "#9c179e"
             ],
             [
              0.4444444444444444,
              "#bd3786"
             ],
             [
              0.5555555555555556,
              "#d8576b"
             ],
             [
              0.6666666666666666,
              "#ed7953"
             ],
             [
              0.7777777777777778,
              "#fb9f3a"
             ],
             [
              0.8888888888888888,
              "#fdca26"
             ],
             [
              1,
              "#f0f921"
             ]
            ],
            "type": "heatmapgl"
           }
          ],
          "histogram": [
           {
            "marker": {
             "colorbar": {
              "outlinewidth": 0,
              "ticks": ""
             }
            },
            "type": "histogram"
           }
          ],
          "histogram2d": [
           {
            "colorbar": {
             "outlinewidth": 0,
             "ticks": ""
            },
            "colorscale": [
             [
              0,
              "#0d0887"
             ],
             [
              0.1111111111111111,
              "#46039f"
             ],
             [
              0.2222222222222222,
              "#7201a8"
             ],
             [
              0.3333333333333333,
              "#9c179e"
             ],
             [
              0.4444444444444444,
              "#bd3786"
             ],
             [
              0.5555555555555556,
              "#d8576b"
             ],
             [
              0.6666666666666666,
              "#ed7953"
             ],
             [
              0.7777777777777778,
              "#fb9f3a"
             ],
             [
              0.8888888888888888,
              "#fdca26"
             ],
             [
              1,
              "#f0f921"
             ]
            ],
            "type": "histogram2d"
           }
          ],
          "histogram2dcontour": [
           {
            "colorbar": {
             "outlinewidth": 0,
             "ticks": ""
            },
            "colorscale": [
             [
              0,
              "#0d0887"
             ],
             [
              0.1111111111111111,
              "#46039f"
             ],
             [
              0.2222222222222222,
              "#7201a8"
             ],
             [
              0.3333333333333333,
              "#9c179e"
             ],
             [
              0.4444444444444444,
              "#bd3786"
             ],
             [
              0.5555555555555556,
              "#d8576b"
             ],
             [
              0.6666666666666666,
              "#ed7953"
             ],
             [
              0.7777777777777778,
              "#fb9f3a"
             ],
             [
              0.8888888888888888,
              "#fdca26"
             ],
             [
              1,
              "#f0f921"
             ]
            ],
            "type": "histogram2dcontour"
           }
          ],
          "mesh3d": [
           {
            "colorbar": {
             "outlinewidth": 0,
             "ticks": ""
            },
            "type": "mesh3d"
           }
          ],
          "parcoords": [
           {
            "line": {
             "colorbar": {
              "outlinewidth": 0,
              "ticks": ""
             }
            },
            "type": "parcoords"
           }
          ],
          "pie": [
           {
            "automargin": true,
            "type": "pie"
           }
          ],
          "scatter": [
           {
            "marker": {
             "colorbar": {
              "outlinewidth": 0,
              "ticks": ""
             }
            },
            "type": "scatter"
           }
          ],
          "scatter3d": [
           {
            "line": {
             "colorbar": {
              "outlinewidth": 0,
              "ticks": ""
             }
            },
            "marker": {
             "colorbar": {
              "outlinewidth": 0,
              "ticks": ""
             }
            },
            "type": "scatter3d"
           }
          ],
          "scattercarpet": [
           {
            "marker": {
             "colorbar": {
              "outlinewidth": 0,
              "ticks": ""
             }
            },
            "type": "scattercarpet"
           }
          ],
          "scattergeo": [
           {
            "marker": {
             "colorbar": {
              "outlinewidth": 0,
              "ticks": ""
             }
            },
            "type": "scattergeo"
           }
          ],
          "scattergl": [
           {
            "marker": {
             "colorbar": {
              "outlinewidth": 0,
              "ticks": ""
             }
            },
            "type": "scattergl"
           }
          ],
          "scattermapbox": [
           {
            "marker": {
             "colorbar": {
              "outlinewidth": 0,
              "ticks": ""
             }
            },
            "type": "scattermapbox"
           }
          ],
          "scatterpolar": [
           {
            "marker": {
             "colorbar": {
              "outlinewidth": 0,
              "ticks": ""
             }
            },
            "type": "scatterpolar"
           }
          ],
          "scatterpolargl": [
           {
            "marker": {
             "colorbar": {
              "outlinewidth": 0,
              "ticks": ""
             }
            },
            "type": "scatterpolargl"
           }
          ],
          "scatterternary": [
           {
            "marker": {
             "colorbar": {
              "outlinewidth": 0,
              "ticks": ""
             }
            },
            "type": "scatterternary"
           }
          ],
          "surface": [
           {
            "colorbar": {
             "outlinewidth": 0,
             "ticks": ""
            },
            "colorscale": [
             [
              0,
              "#0d0887"
             ],
             [
              0.1111111111111111,
              "#46039f"
             ],
             [
              0.2222222222222222,
              "#7201a8"
             ],
             [
              0.3333333333333333,
              "#9c179e"
             ],
             [
              0.4444444444444444,
              "#bd3786"
             ],
             [
              0.5555555555555556,
              "#d8576b"
             ],
             [
              0.6666666666666666,
              "#ed7953"
             ],
             [
              0.7777777777777778,
              "#fb9f3a"
             ],
             [
              0.8888888888888888,
              "#fdca26"
             ],
             [
              1,
              "#f0f921"
             ]
            ],
            "type": "surface"
           }
          ],
          "table": [
           {
            "cells": {
             "fill": {
              "color": "#EBF0F8"
             },
             "line": {
              "color": "white"
             }
            },
            "header": {
             "fill": {
              "color": "#C8D4E3"
             },
             "line": {
              "color": "white"
             }
            },
            "type": "table"
           }
          ]
         },
         "layout": {
          "annotationdefaults": {
           "arrowcolor": "#2a3f5f",
           "arrowhead": 0,
           "arrowwidth": 1
          },
          "coloraxis": {
           "colorbar": {
            "outlinewidth": 0,
            "ticks": ""
           }
          },
          "colorscale": {
           "diverging": [
            [
             0,
             "#8e0152"
            ],
            [
             0.1,
             "#c51b7d"
            ],
            [
             0.2,
             "#de77ae"
            ],
            [
             0.3,
             "#f1b6da"
            ],
            [
             0.4,
             "#fde0ef"
            ],
            [
             0.5,
             "#f7f7f7"
            ],
            [
             0.6,
             "#e6f5d0"
            ],
            [
             0.7,
             "#b8e186"
            ],
            [
             0.8,
             "#7fbc41"
            ],
            [
             0.9,
             "#4d9221"
            ],
            [
             1,
             "#276419"
            ]
           ],
           "sequential": [
            [
             0,
             "#0d0887"
            ],
            [
             0.1111111111111111,
             "#46039f"
            ],
            [
             0.2222222222222222,
             "#7201a8"
            ],
            [
             0.3333333333333333,
             "#9c179e"
            ],
            [
             0.4444444444444444,
             "#bd3786"
            ],
            [
             0.5555555555555556,
             "#d8576b"
            ],
            [
             0.6666666666666666,
             "#ed7953"
            ],
            [
             0.7777777777777778,
             "#fb9f3a"
            ],
            [
             0.8888888888888888,
             "#fdca26"
            ],
            [
             1,
             "#f0f921"
            ]
           ],
           "sequentialminus": [
            [
             0,
             "#0d0887"
            ],
            [
             0.1111111111111111,
             "#46039f"
            ],
            [
             0.2222222222222222,
             "#7201a8"
            ],
            [
             0.3333333333333333,
             "#9c179e"
            ],
            [
             0.4444444444444444,
             "#bd3786"
            ],
            [
             0.5555555555555556,
             "#d8576b"
            ],
            [
             0.6666666666666666,
             "#ed7953"
            ],
            [
             0.7777777777777778,
             "#fb9f3a"
            ],
            [
             0.8888888888888888,
             "#fdca26"
            ],
            [
             1,
             "#f0f921"
            ]
           ]
          },
          "colorway": [
           "#636efa",
           "#EF553B",
           "#00cc96",
           "#ab63fa",
           "#FFA15A",
           "#19d3f3",
           "#FF6692",
           "#B6E880",
           "#FF97FF",
           "#FECB52"
          ],
          "font": {
           "color": "#2a3f5f"
          },
          "geo": {
           "bgcolor": "white",
           "lakecolor": "white",
           "landcolor": "#E5ECF6",
           "showlakes": true,
           "showland": true,
           "subunitcolor": "white"
          },
          "hoverlabel": {
           "align": "left"
          },
          "hovermode": "closest",
          "mapbox": {
           "style": "light"
          },
          "paper_bgcolor": "white",
          "plot_bgcolor": "#E5ECF6",
          "polar": {
           "angularaxis": {
            "gridcolor": "white",
            "linecolor": "white",
            "ticks": ""
           },
           "bgcolor": "#E5ECF6",
           "radialaxis": {
            "gridcolor": "white",
            "linecolor": "white",
            "ticks": ""
           }
          },
          "scene": {
           "xaxis": {
            "backgroundcolor": "#E5ECF6",
            "gridcolor": "white",
            "gridwidth": 2,
            "linecolor": "white",
            "showbackground": true,
            "ticks": "",
            "zerolinecolor": "white"
           },
           "yaxis": {
            "backgroundcolor": "#E5ECF6",
            "gridcolor": "white",
            "gridwidth": 2,
            "linecolor": "white",
            "showbackground": true,
            "ticks": "",
            "zerolinecolor": "white"
           },
           "zaxis": {
            "backgroundcolor": "#E5ECF6",
            "gridcolor": "white",
            "gridwidth": 2,
            "linecolor": "white",
            "showbackground": true,
            "ticks": "",
            "zerolinecolor": "white"
           }
          },
          "shapedefaults": {
           "line": {
            "color": "#2a3f5f"
           }
          },
          "ternary": {
           "aaxis": {
            "gridcolor": "white",
            "linecolor": "white",
            "ticks": ""
           },
           "baxis": {
            "gridcolor": "white",
            "linecolor": "white",
            "ticks": ""
           },
           "bgcolor": "#E5ECF6",
           "caxis": {
            "gridcolor": "white",
            "linecolor": "white",
            "ticks": ""
           }
          },
          "title": {
           "x": 0.05
          },
          "xaxis": {
           "automargin": true,
           "gridcolor": "white",
           "linecolor": "white",
           "ticks": "",
           "title": {
            "standoff": 15
           },
           "zerolinecolor": "white",
           "zerolinewidth": 2
          },
          "yaxis": {
           "automargin": true,
           "gridcolor": "white",
           "linecolor": "white",
           "ticks": "",
           "title": {
            "standoff": 15
           },
           "zerolinecolor": "white",
           "zerolinewidth": 2
          }
         }
        },
        "title": {
         "text": "Overlap"
        }
       }
      },
      "text/html": [
       "<div>\n",
       "        \n",
       "        \n",
       "            <div id=\"b029c7b9-afc4-4dd7-874f-90c935446f1a\" class=\"plotly-graph-div\" style=\"height:525px; width:100%;\"></div>\n",
       "            <script type=\"text/javascript\">\n",
       "                require([\"plotly\"], function(Plotly) {\n",
       "                    window.PLOTLYENV=window.PLOTLYENV || {};\n",
       "                    \n",
       "                if (document.getElementById(\"b029c7b9-afc4-4dd7-874f-90c935446f1a\")) {\n",
       "                    Plotly.newPlot(\n",
       "                        'b029c7b9-afc4-4dd7-874f-90c935446f1a',\n",
       "                        [{\"line\": {\"shape\": \"linear\"}, \"name\": \"macs2 q0.05 mean\", \"type\": \"scatter\", \"x\": [\"H3K4me2_ChIPSeq_CCR4Neg-Donor1\", \"H3K4me2_ChIPSeq_CCR4Neg-Donor11\", \"H3K4me2_ChIPSeq_CCR4Neg-Donor12\", \"H3K4me2_ChIPSeq_CCR4Neg-Donor13\", \"H3K4me2_ChIPSeq_CCR4Neg-Donor14\", \"H3K4me2_ChIPSeq_CCR4Neg-Donor15\", \"H3K4me2_ChIPSeq_CCR4Neg-Donor16\", \"H3K4me2_ChIPSeq_CCR4Neg-Donor17\", \"H3K4me2_ChIPSeq_CCR4Neg-Donor18\", \"H3K4me2_ChIPSeq_CCR4Neg-Donor19\", \"H3K4me2_ChIPSeq_CCR4Neg-Donor20\", \"H3K4me2_ChIPSeq_CCR4Neg-Donor21\", \"H3K4me2_ChIPSeq_CCR4Neg-Donor22\", \"H3K4me2_ChIPSeq_CCR4Neg-Donor23\", \"H3K4me2_ChIPSeq_CCR4Neg-Donor4\", \"H3K4me2_ChIPSeq_CCR4Neg-Donor5\", \"H3K4me2_ChIPSeq_CCR4Neg-Donor6\", \"H3K4me2_ChIPSeq_CCR4Neg-Donor7\", \"H3K4me2_ChIPSeq_CCR4Neg-Donor8\", \"H3K4me2_ChIPSeq_CCR4Neg-Donor9\", \"H3K4me2_ChIPSeq_CCR4pos-Donor1\", \"H3K4me2_ChIPSeq_CCR4pos-Donor10\", \"H3K4me2_ChIPSeq_CCR4pos-Donor11\", \"H3K4me2_ChIPSeq_CCR4pos-Donor12\", \"H3K4me2_ChIPSeq_CCR4pos-Donor13\", \"H3K4me2_ChIPSeq_CCR4pos-Donor14\", \"H3K4me2_ChIPSeq_CCR4pos-Donor15\", \"H3K4me2_ChIPSeq_CCR4pos-Donor16\", \"H3K4me2_ChIPSeq_CCR4pos-Donor17\", \"H3K4me2_ChIPSeq_CCR4pos-Donor18\", \"H3K4me2_ChIPSeq_CCR4pos-Donor19\", \"H3K4me2_ChIPSeq_CCR4pos-Donor2\", \"H3K4me2_ChIPSeq_CCR4pos-Donor20\", \"H3K4me2_ChIPSeq_CCR4pos-Donor21\", \"H3K4me2_ChIPSeq_CCR4pos-Donor22\", \"H3K4me2_ChIPSeq_CCR4pos-Donor23\", \"H3K4me2_ChIPSeq_CCR4pos-Donor3\", \"H3K4me2_ChIPSeq_CCR4pos-Donor4\", \"H3K4me2_ChIPSeq_CCR4pos-Donor5\", \"H3K4me2_ChIPSeq_CCR4pos-Donor7\", \"H3K4me2_ChIPSeq_CCR4pos-Donor8\", \"H3K4me2_ChIPSeq_CCR4pos-Donor9\", \"H3K4me2_ChIPSeq_Naive-Donor1\", \"H3K4me2_ChIPSeq_Naive-Donor10\", \"H3K4me2_ChIPSeq_Naive-Donor11\", \"H3K4me2_ChIPSeq_Naive-Donor12\", \"H3K4me2_ChIPSeq_Naive-Donor13\", \"H3K4me2_ChIPSeq_Naive-Donor14\", \"H3K4me2_ChIPSeq_Naive-Donor15\", \"H3K4me2_ChIPSeq_Naive-Donor16\", \"H3K4me2_ChIPSeq_Naive-Donor17\", \"H3K4me2_ChIPSeq_Naive-Donor18\", \"H3K4me2_ChIPSeq_Naive-Donor19\", \"H3K4me2_ChIPSeq_Naive-Donor2\", \"H3K4me2_ChIPSeq_Naive-Donor20\", \"H3K4me2_ChIPSeq_Naive-Donor21\", \"H3K4me2_ChIPSeq_Naive-Donor22\", \"H3K4me2_ChIPSeq_Naive-Donor23\", \"H3K4me2_ChIPSeq_Naive-Donor3\", \"H3K4me2_ChIPSeq_Naive-Donor5\", \"H3K4me2_ChIPSeq_Naive-Donor7\", \"H3K4me2_ChIPSeq_Naive-Donor8\", \"H3K4me2_ChIPSeq_Naive-Donor9\"], \"y\": [0.7417115125, 1.0, 0.7539477375, 0.71445293, 0.7253416925, 0.75375512, 0.7272446300000001, 0.75486135, 0.7427594, 0.7525151225, 1.0, 0.7363067125, 0.7487760800000001, 0.75884133, 0.764881425, 0.7394847849999999, 0.7438292575000001, 1.0, 0.74848505, 1.0, 0.7372472, 1.0, 0.7316644725, 0.7539832399999999, 0.73056528, 0.746352965, 0.7785598025, 0.7761259675, 0.75453223, 0.7310669575, 0.7673913075000001, 0.73057757, 0.7482342125, 0.757016095, 0.7402335325, 0.7894707075, 1.0, 0.74476482, 0.74474405, 0.729518415, 0.74133335, 0.7410156925, 0.6710561199999999, 1.0, 0.74965563, 0.7499671575, 0.7403137625, 0.7505573799999999, 0.7675772, 0.76830778, 0.714690615, 0.7210170675, 0.74024424, 0.74681373, 0.7737554125, 0.6695647077777778, 1.0, 0.7467336175, 0.7686647799999999, 0.72079428, 0.7513428575, 0.7461087775, 0.74852363]}, {\"line\": {\"dash\": \"dot\", \"shape\": \"linear\"}, \"name\": \"macs2 q0.05 std\", \"type\": \"scatter\", \"x\": [\"H3K4me2_ChIPSeq_CCR4Neg-Donor1\", \"H3K4me2_ChIPSeq_CCR4Neg-Donor11\", \"H3K4me2_ChIPSeq_CCR4Neg-Donor12\", \"H3K4me2_ChIPSeq_CCR4Neg-Donor13\", \"H3K4me2_ChIPSeq_CCR4Neg-Donor14\", \"H3K4me2_ChIPSeq_CCR4Neg-Donor15\", \"H3K4me2_ChIPSeq_CCR4Neg-Donor16\", \"H3K4me2_ChIPSeq_CCR4Neg-Donor17\", \"H3K4me2_ChIPSeq_CCR4Neg-Donor18\", \"H3K4me2_ChIPSeq_CCR4Neg-Donor19\", \"H3K4me2_ChIPSeq_CCR4Neg-Donor20\", \"H3K4me2_ChIPSeq_CCR4Neg-Donor21\", \"H3K4me2_ChIPSeq_CCR4Neg-Donor22\", \"H3K4me2_ChIPSeq_CCR4Neg-Donor23\", \"H3K4me2_ChIPSeq_CCR4Neg-Donor4\", \"H3K4me2_ChIPSeq_CCR4Neg-Donor5\", \"H3K4me2_ChIPSeq_CCR4Neg-Donor6\", \"H3K4me2_ChIPSeq_CCR4Neg-Donor7\", \"H3K4me2_ChIPSeq_CCR4Neg-Donor8\", \"H3K4me2_ChIPSeq_CCR4Neg-Donor9\", \"H3K4me2_ChIPSeq_CCR4pos-Donor1\", \"H3K4me2_ChIPSeq_CCR4pos-Donor10\", \"H3K4me2_ChIPSeq_CCR4pos-Donor11\", \"H3K4me2_ChIPSeq_CCR4pos-Donor12\", \"H3K4me2_ChIPSeq_CCR4pos-Donor13\", \"H3K4me2_ChIPSeq_CCR4pos-Donor14\", \"H3K4me2_ChIPSeq_CCR4pos-Donor15\", \"H3K4me2_ChIPSeq_CCR4pos-Donor16\", \"H3K4me2_ChIPSeq_CCR4pos-Donor17\", \"H3K4me2_ChIPSeq_CCR4pos-Donor18\", \"H3K4me2_ChIPSeq_CCR4pos-Donor19\", \"H3K4me2_ChIPSeq_CCR4pos-Donor2\", \"H3K4me2_ChIPSeq_CCR4pos-Donor20\", \"H3K4me2_ChIPSeq_CCR4pos-Donor21\", \"H3K4me2_ChIPSeq_CCR4pos-Donor22\", \"H3K4me2_ChIPSeq_CCR4pos-Donor23\", \"H3K4me2_ChIPSeq_CCR4pos-Donor3\", \"H3K4me2_ChIPSeq_CCR4pos-Donor4\", \"H3K4me2_ChIPSeq_CCR4pos-Donor5\", \"H3K4me2_ChIPSeq_CCR4pos-Donor7\", \"H3K4me2_ChIPSeq_CCR4pos-Donor8\", \"H3K4me2_ChIPSeq_CCR4pos-Donor9\", \"H3K4me2_ChIPSeq_Naive-Donor1\", \"H3K4me2_ChIPSeq_Naive-Donor10\", \"H3K4me2_ChIPSeq_Naive-Donor11\", \"H3K4me2_ChIPSeq_Naive-Donor12\", \"H3K4me2_ChIPSeq_Naive-Donor13\", \"H3K4me2_ChIPSeq_Naive-Donor14\", \"H3K4me2_ChIPSeq_Naive-Donor15\", \"H3K4me2_ChIPSeq_Naive-Donor16\", \"H3K4me2_ChIPSeq_Naive-Donor17\", \"H3K4me2_ChIPSeq_Naive-Donor18\", \"H3K4me2_ChIPSeq_Naive-Donor19\", \"H3K4me2_ChIPSeq_Naive-Donor2\", \"H3K4me2_ChIPSeq_Naive-Donor20\", \"H3K4me2_ChIPSeq_Naive-Donor21\", \"H3K4me2_ChIPSeq_Naive-Donor22\", \"H3K4me2_ChIPSeq_Naive-Donor23\", \"H3K4me2_ChIPSeq_Naive-Donor3\", \"H3K4me2_ChIPSeq_Naive-Donor5\", \"H3K4me2_ChIPSeq_Naive-Donor7\", \"H3K4me2_ChIPSeq_Naive-Donor8\", \"H3K4me2_ChIPSeq_Naive-Donor9\"], \"y\": [0.31721100904691285, 0.0, 0.2841234914298868, 0.3310301766835749, 0.3175842173331722, 0.2895492178830632, 0.3255355078820925, 0.28306237703140624, 0.31782778097471803, 0.30143874609083576, 0.0, 0.31273027706518636, 0.30387223032147015, 0.2789205598138215, 0.27193603454688103, 0.3038247129345794, 0.2965526465271013, 0.0, 0.31593845064516035, 0.0, 0.32635919867321034, 0.0, 0.3166776626365387, 0.28480894017003705, 0.3129720779799195, 0.3010870528423116, 0.26548488425966804, 0.25866857498764884, 0.28384187960502866, 0.3178892255176918, 0.27808166083453895, 0.3129019799664696, 0.30221290911195103, 0.29431249439176516, 0.31470780436330603, 0.24508248111125822, 0.0, 0.295567854011387, 0.29627854820764526, 0.3137077203198507, 0.30131125824353683, 0.3113793986896835, 0.25983555174649736, 0.0, 0.28921064205463975, 0.3057508711131146, 0.299995057696421, 0.29389066570099204, 0.2686796793510712, 0.26938718757546776, 0.342516796666851, 0.32495338957466535, 0.3032789736288199, 0.2931963447175827, 0.2616203504064186, 0.25536842657157915, 0.0, 0.29294056118186823, 0.27356886470957964, 0.325008035540178, 0.2901252361084409, 0.30439859185424634, 0.3017298695439502]}, {\"line\": {\"shape\": \"linear\"}, \"name\": \"span 0.05_0 mean\", \"type\": \"scatter\", \"x\": [\"H3K4me2_ChIPSeq_CCR4Neg-Donor1\", \"H3K4me2_ChIPSeq_CCR4Neg-Donor11\", \"H3K4me2_ChIPSeq_CCR4Neg-Donor12\", \"H3K4me2_ChIPSeq_CCR4Neg-Donor13\", \"H3K4me2_ChIPSeq_CCR4Neg-Donor14\", \"H3K4me2_ChIPSeq_CCR4Neg-Donor15\", \"H3K4me2_ChIPSeq_CCR4Neg-Donor16\", \"H3K4me2_ChIPSeq_CCR4Neg-Donor17\", \"H3K4me2_ChIPSeq_CCR4Neg-Donor18\", \"H3K4me2_ChIPSeq_CCR4Neg-Donor19\", \"H3K4me2_ChIPSeq_CCR4Neg-Donor20\", \"H3K4me2_ChIPSeq_CCR4Neg-Donor21\", \"H3K4me2_ChIPSeq_CCR4Neg-Donor22\", \"H3K4me2_ChIPSeq_CCR4Neg-Donor23\", \"H3K4me2_ChIPSeq_CCR4Neg-Donor4\", \"H3K4me2_ChIPSeq_CCR4Neg-Donor5\", \"H3K4me2_ChIPSeq_CCR4Neg-Donor6\", \"H3K4me2_ChIPSeq_CCR4Neg-Donor7\", \"H3K4me2_ChIPSeq_CCR4Neg-Donor8\", \"H3K4me2_ChIPSeq_CCR4Neg-Donor9\", \"H3K4me2_ChIPSeq_CCR4pos-Donor1\", \"H3K4me2_ChIPSeq_CCR4pos-Donor10\", \"H3K4me2_ChIPSeq_CCR4pos-Donor11\", \"H3K4me2_ChIPSeq_CCR4pos-Donor12\", \"H3K4me2_ChIPSeq_CCR4pos-Donor13\", \"H3K4me2_ChIPSeq_CCR4pos-Donor14\", \"H3K4me2_ChIPSeq_CCR4pos-Donor15\", \"H3K4me2_ChIPSeq_CCR4pos-Donor16\", \"H3K4me2_ChIPSeq_CCR4pos-Donor17\", \"H3K4me2_ChIPSeq_CCR4pos-Donor18\", \"H3K4me2_ChIPSeq_CCR4pos-Donor19\", \"H3K4me2_ChIPSeq_CCR4pos-Donor2\", \"H3K4me2_ChIPSeq_CCR4pos-Donor20\", \"H3K4me2_ChIPSeq_CCR4pos-Donor21\", \"H3K4me2_ChIPSeq_CCR4pos-Donor22\", \"H3K4me2_ChIPSeq_CCR4pos-Donor23\", \"H3K4me2_ChIPSeq_CCR4pos-Donor3\", \"H3K4me2_ChIPSeq_CCR4pos-Donor4\", \"H3K4me2_ChIPSeq_CCR4pos-Donor5\", \"H3K4me2_ChIPSeq_CCR4pos-Donor7\", \"H3K4me2_ChIPSeq_CCR4pos-Donor8\", \"H3K4me2_ChIPSeq_CCR4pos-Donor9\", \"H3K4me2_ChIPSeq_Naive-Donor1\", \"H3K4me2_ChIPSeq_Naive-Donor10\", \"H3K4me2_ChIPSeq_Naive-Donor11\", \"H3K4me2_ChIPSeq_Naive-Donor12\", \"H3K4me2_ChIPSeq_Naive-Donor13\", \"H3K4me2_ChIPSeq_Naive-Donor14\", \"H3K4me2_ChIPSeq_Naive-Donor15\", \"H3K4me2_ChIPSeq_Naive-Donor16\", \"H3K4me2_ChIPSeq_Naive-Donor17\", \"H3K4me2_ChIPSeq_Naive-Donor18\", \"H3K4me2_ChIPSeq_Naive-Donor19\", \"H3K4me2_ChIPSeq_Naive-Donor2\", \"H3K4me2_ChIPSeq_Naive-Donor20\", \"H3K4me2_ChIPSeq_Naive-Donor21\", \"H3K4me2_ChIPSeq_Naive-Donor22\", \"H3K4me2_ChIPSeq_Naive-Donor23\", \"H3K4me2_ChIPSeq_Naive-Donor3\", \"H3K4me2_ChIPSeq_Naive-Donor5\", \"H3K4me2_ChIPSeq_Naive-Donor7\", \"H3K4me2_ChIPSeq_Naive-Donor8\", \"H3K4me2_ChIPSeq_Naive-Donor9\"], \"y\": [0.866673475, 1.0, 0.8704211575, 0.846637675, 0.8367775, 0.8587249, 0.8515965400000001, 0.8827227049999999, 0.835398265, 0.8667828075, 1.0, 0.8523913425, 0.85327065, 0.86089244, 0.8752063625, 0.8717802425, 0.8733059475, 1.0, 0.8404907125, 1.0, 0.84903065, 1.0, 0.83221755, 0.8787352900000001, 0.8468547500000001, 0.8643991375, 0.869226675, 0.8760392, 0.8691746625000001, 0.844048695, 0.854791885, 0.831223475, 0.863061375, 0.85952965, 0.8710052525, 0.87916269, 1.0, 0.8615699725, 0.8575097325000001, 0.8253527575, 0.8494372975, 0.8547441650000001, 0.8256594788888889, 1.0, 0.8339623500000001, 0.8715185750000001, 0.856644, 0.87003529, 0.875747925, 0.8714993, 0.825843925, 0.8589862825, 0.86481751, 0.8695232500000001, 0.8805644875, 0.8154445844444445, 1.0, 0.85230565, 0.868351725, 0.8194520975, 0.8578390475, 0.857028965, 0.859011275]}, {\"line\": {\"dash\": \"dot\", \"shape\": \"linear\"}, \"name\": \"span 0.05_0 std\", \"type\": \"scatter\", \"x\": [\"H3K4me2_ChIPSeq_CCR4Neg-Donor1\", \"H3K4me2_ChIPSeq_CCR4Neg-Donor11\", \"H3K4me2_ChIPSeq_CCR4Neg-Donor12\", \"H3K4me2_ChIPSeq_CCR4Neg-Donor13\", \"H3K4me2_ChIPSeq_CCR4Neg-Donor14\", \"H3K4me2_ChIPSeq_CCR4Neg-Donor15\", \"H3K4me2_ChIPSeq_CCR4Neg-Donor16\", \"H3K4me2_ChIPSeq_CCR4Neg-Donor17\", \"H3K4me2_ChIPSeq_CCR4Neg-Donor18\", \"H3K4me2_ChIPSeq_CCR4Neg-Donor19\", \"H3K4me2_ChIPSeq_CCR4Neg-Donor20\", \"H3K4me2_ChIPSeq_CCR4Neg-Donor21\", \"H3K4me2_ChIPSeq_CCR4Neg-Donor22\", \"H3K4me2_ChIPSeq_CCR4Neg-Donor23\", \"H3K4me2_ChIPSeq_CCR4Neg-Donor4\", \"H3K4me2_ChIPSeq_CCR4Neg-Donor5\", \"H3K4me2_ChIPSeq_CCR4Neg-Donor6\", \"H3K4me2_ChIPSeq_CCR4Neg-Donor7\", \"H3K4me2_ChIPSeq_CCR4Neg-Donor8\", \"H3K4me2_ChIPSeq_CCR4Neg-Donor9\", \"H3K4me2_ChIPSeq_CCR4pos-Donor1\", \"H3K4me2_ChIPSeq_CCR4pos-Donor10\", \"H3K4me2_ChIPSeq_CCR4pos-Donor11\", \"H3K4me2_ChIPSeq_CCR4pos-Donor12\", \"H3K4me2_ChIPSeq_CCR4pos-Donor13\", \"H3K4me2_ChIPSeq_CCR4pos-Donor14\", \"H3K4me2_ChIPSeq_CCR4pos-Donor15\", \"H3K4me2_ChIPSeq_CCR4pos-Donor16\", \"H3K4me2_ChIPSeq_CCR4pos-Donor17\", \"H3K4me2_ChIPSeq_CCR4pos-Donor18\", \"H3K4me2_ChIPSeq_CCR4pos-Donor19\", \"H3K4me2_ChIPSeq_CCR4pos-Donor2\", \"H3K4me2_ChIPSeq_CCR4pos-Donor20\", \"H3K4me2_ChIPSeq_CCR4pos-Donor21\", \"H3K4me2_ChIPSeq_CCR4pos-Donor22\", \"H3K4me2_ChIPSeq_CCR4pos-Donor23\", \"H3K4me2_ChIPSeq_CCR4pos-Donor3\", \"H3K4me2_ChIPSeq_CCR4pos-Donor4\", \"H3K4me2_ChIPSeq_CCR4pos-Donor5\", \"H3K4me2_ChIPSeq_CCR4pos-Donor7\", \"H3K4me2_ChIPSeq_CCR4pos-Donor8\", \"H3K4me2_ChIPSeq_CCR4pos-Donor9\", \"H3K4me2_ChIPSeq_Naive-Donor1\", \"H3K4me2_ChIPSeq_Naive-Donor10\", \"H3K4me2_ChIPSeq_Naive-Donor11\", \"H3K4me2_ChIPSeq_Naive-Donor12\", \"H3K4me2_ChIPSeq_Naive-Donor13\", \"H3K4me2_ChIPSeq_Naive-Donor14\", \"H3K4me2_ChIPSeq_Naive-Donor15\", \"H3K4me2_ChIPSeq_Naive-Donor16\", \"H3K4me2_ChIPSeq_Naive-Donor17\", \"H3K4me2_ChIPSeq_Naive-Donor18\", \"H3K4me2_ChIPSeq_Naive-Donor19\", \"H3K4me2_ChIPSeq_Naive-Donor2\", \"H3K4me2_ChIPSeq_Naive-Donor20\", \"H3K4me2_ChIPSeq_Naive-Donor21\", \"H3K4me2_ChIPSeq_Naive-Donor22\", \"H3K4me2_ChIPSeq_Naive-Donor23\", \"H3K4me2_ChIPSeq_Naive-Donor3\", \"H3K4me2_ChIPSeq_Naive-Donor5\", \"H3K4me2_ChIPSeq_Naive-Donor7\", \"H3K4me2_ChIPSeq_Naive-Donor8\", \"H3K4me2_ChIPSeq_Naive-Donor9\"], \"y\": [0.15809257169281918, 0.0, 0.15430553689343238, 0.21561058697239915, 0.20779913604648764, 0.19690775772640348, 0.20760095818801289, 0.13550558511121638, 0.19090783882996762, 0.1730287562884627, 0.0, 0.19329167424538118, 0.18104632004540827, 0.1615136362697045, 0.15154752347938794, 0.15287426237900617, 0.1475691894259176, 0.0, 0.1999393935781473, 0.0, 0.20950361370193601, 0.0, 0.2348613996137083, 0.14251571872012947, 0.20844736849435958, 0.18045109508838023, 0.1551683891769062, 0.16154525003700967, 0.16859297922131564, 0.20609798764860784, 0.21592582108279587, 0.24692236976252774, 0.17475007112903418, 0.1641774512780912, 0.15071341292016122, 0.16969804143460349, 0.0, 0.1662323134155562, 0.17809413485666903, 0.2492469200405451, 0.17743107223766272, 0.16877276084841678, 0.13382227628170126, 0.0, 0.27889789623669403, 0.1554225185135104, 0.19785791835617803, 0.1596806775000046, 0.1689395368797443, 0.16868866499163482, 0.21007224720829376, 0.1628681815255082, 0.19623903271831286, 0.16055056221133787, 0.1386549903710668, 0.16063495970427627, 0.0, 0.20382350571372204, 0.1714060154156669, 0.27673857649766503, 0.16563380772980246, 0.16562361488615354, 0.16330520894458894]}],\n",
       "                        {\"template\": {\"data\": {\"bar\": [{\"error_x\": {\"color\": \"#2a3f5f\"}, \"error_y\": {\"color\": \"#2a3f5f\"}, \"marker\": {\"line\": {\"color\": \"#E5ECF6\", \"width\": 0.5}}, \"type\": \"bar\"}], \"barpolar\": [{\"marker\": {\"line\": {\"color\": \"#E5ECF6\", \"width\": 0.5}}, \"type\": \"barpolar\"}], \"carpet\": [{\"aaxis\": {\"endlinecolor\": \"#2a3f5f\", \"gridcolor\": \"white\", \"linecolor\": \"white\", \"minorgridcolor\": \"white\", \"startlinecolor\": \"#2a3f5f\"}, \"baxis\": {\"endlinecolor\": \"#2a3f5f\", \"gridcolor\": \"white\", \"linecolor\": \"white\", \"minorgridcolor\": \"white\", \"startlinecolor\": \"#2a3f5f\"}, \"type\": \"carpet\"}], \"choropleth\": [{\"colorbar\": {\"outlinewidth\": 0, \"ticks\": \"\"}, \"type\": \"choropleth\"}], \"contour\": [{\"colorbar\": {\"outlinewidth\": 0, \"ticks\": \"\"}, \"colorscale\": [[0.0, \"#0d0887\"], [0.1111111111111111, \"#46039f\"], [0.2222222222222222, \"#7201a8\"], [0.3333333333333333, \"#9c179e\"], [0.4444444444444444, \"#bd3786\"], [0.5555555555555556, \"#d8576b\"], [0.6666666666666666, \"#ed7953\"], [0.7777777777777778, \"#fb9f3a\"], [0.8888888888888888, \"#fdca26\"], [1.0, \"#f0f921\"]], \"type\": \"contour\"}], \"contourcarpet\": [{\"colorbar\": {\"outlinewidth\": 0, \"ticks\": \"\"}, \"type\": \"contourcarpet\"}], \"heatmap\": [{\"colorbar\": {\"outlinewidth\": 0, \"ticks\": \"\"}, \"colorscale\": [[0.0, \"#0d0887\"], [0.1111111111111111, \"#46039f\"], [0.2222222222222222, \"#7201a8\"], [0.3333333333333333, \"#9c179e\"], [0.4444444444444444, \"#bd3786\"], [0.5555555555555556, \"#d8576b\"], [0.6666666666666666, \"#ed7953\"], [0.7777777777777778, \"#fb9f3a\"], [0.8888888888888888, \"#fdca26\"], [1.0, \"#f0f921\"]], \"type\": \"heatmap\"}], \"heatmapgl\": [{\"colorbar\": {\"outlinewidth\": 0, \"ticks\": \"\"}, \"colorscale\": [[0.0, \"#0d0887\"], [0.1111111111111111, \"#46039f\"], [0.2222222222222222, \"#7201a8\"], [0.3333333333333333, \"#9c179e\"], [0.4444444444444444, \"#bd3786\"], [0.5555555555555556, \"#d8576b\"], [0.6666666666666666, \"#ed7953\"], [0.7777777777777778, \"#fb9f3a\"], [0.8888888888888888, \"#fdca26\"], [1.0, \"#f0f921\"]], \"type\": \"heatmapgl\"}], \"histogram\": [{\"marker\": {\"colorbar\": {\"outlinewidth\": 0, \"ticks\": \"\"}}, \"type\": \"histogram\"}], \"histogram2d\": [{\"colorbar\": {\"outlinewidth\": 0, \"ticks\": \"\"}, \"colorscale\": [[0.0, \"#0d0887\"], [0.1111111111111111, \"#46039f\"], [0.2222222222222222, \"#7201a8\"], [0.3333333333333333, \"#9c179e\"], [0.4444444444444444, \"#bd3786\"], [0.5555555555555556, \"#d8576b\"], [0.6666666666666666, \"#ed7953\"], [0.7777777777777778, \"#fb9f3a\"], [0.8888888888888888, \"#fdca26\"], [1.0, \"#f0f921\"]], \"type\": \"histogram2d\"}], \"histogram2dcontour\": [{\"colorbar\": {\"outlinewidth\": 0, \"ticks\": \"\"}, \"colorscale\": [[0.0, \"#0d0887\"], [0.1111111111111111, \"#46039f\"], [0.2222222222222222, \"#7201a8\"], [0.3333333333333333, \"#9c179e\"], [0.4444444444444444, \"#bd3786\"], [0.5555555555555556, \"#d8576b\"], [0.6666666666666666, \"#ed7953\"], [0.7777777777777778, \"#fb9f3a\"], [0.8888888888888888, \"#fdca26\"], [1.0, \"#f0f921\"]], \"type\": \"histogram2dcontour\"}], \"mesh3d\": [{\"colorbar\": {\"outlinewidth\": 0, \"ticks\": \"\"}, \"type\": \"mesh3d\"}], \"parcoords\": [{\"line\": {\"colorbar\": {\"outlinewidth\": 0, \"ticks\": \"\"}}, \"type\": \"parcoords\"}], \"pie\": [{\"automargin\": true, \"type\": \"pie\"}], \"scatter\": [{\"marker\": {\"colorbar\": {\"outlinewidth\": 0, \"ticks\": \"\"}}, \"type\": \"scatter\"}], \"scatter3d\": [{\"line\": {\"colorbar\": {\"outlinewidth\": 0, \"ticks\": \"\"}}, \"marker\": {\"colorbar\": {\"outlinewidth\": 0, \"ticks\": \"\"}}, \"type\": \"scatter3d\"}], \"scattercarpet\": [{\"marker\": {\"colorbar\": {\"outlinewidth\": 0, \"ticks\": \"\"}}, \"type\": \"scattercarpet\"}], \"scattergeo\": [{\"marker\": {\"colorbar\": {\"outlinewidth\": 0, \"ticks\": \"\"}}, \"type\": \"scattergeo\"}], \"scattergl\": [{\"marker\": {\"colorbar\": {\"outlinewidth\": 0, \"ticks\": \"\"}}, \"type\": \"scattergl\"}], \"scattermapbox\": [{\"marker\": {\"colorbar\": {\"outlinewidth\": 0, \"ticks\": \"\"}}, \"type\": \"scattermapbox\"}], \"scatterpolar\": [{\"marker\": {\"colorbar\": {\"outlinewidth\": 0, \"ticks\": \"\"}}, \"type\": \"scatterpolar\"}], \"scatterpolargl\": [{\"marker\": {\"colorbar\": {\"outlinewidth\": 0, \"ticks\": \"\"}}, \"type\": \"scatterpolargl\"}], \"scatterternary\": [{\"marker\": {\"colorbar\": {\"outlinewidth\": 0, \"ticks\": \"\"}}, \"type\": \"scatterternary\"}], \"surface\": [{\"colorbar\": {\"outlinewidth\": 0, \"ticks\": \"\"}, \"colorscale\": [[0.0, \"#0d0887\"], [0.1111111111111111, \"#46039f\"], [0.2222222222222222, \"#7201a8\"], [0.3333333333333333, \"#9c179e\"], [0.4444444444444444, \"#bd3786\"], [0.5555555555555556, \"#d8576b\"], [0.6666666666666666, \"#ed7953\"], [0.7777777777777778, \"#fb9f3a\"], [0.8888888888888888, \"#fdca26\"], [1.0, \"#f0f921\"]], \"type\": \"surface\"}], \"table\": [{\"cells\": {\"fill\": {\"color\": \"#EBF0F8\"}, \"line\": {\"color\": \"white\"}}, \"header\": {\"fill\": {\"color\": \"#C8D4E3\"}, \"line\": {\"color\": \"white\"}}, \"type\": \"table\"}]}, \"layout\": {\"annotationdefaults\": {\"arrowcolor\": \"#2a3f5f\", \"arrowhead\": 0, \"arrowwidth\": 1}, \"coloraxis\": {\"colorbar\": {\"outlinewidth\": 0, \"ticks\": \"\"}}, \"colorscale\": {\"diverging\": [[0, \"#8e0152\"], [0.1, \"#c51b7d\"], [0.2, \"#de77ae\"], [0.3, \"#f1b6da\"], [0.4, \"#fde0ef\"], [0.5, \"#f7f7f7\"], [0.6, \"#e6f5d0\"], [0.7, \"#b8e186\"], [0.8, \"#7fbc41\"], [0.9, \"#4d9221\"], [1, \"#276419\"]], \"sequential\": [[0.0, \"#0d0887\"], [0.1111111111111111, \"#46039f\"], [0.2222222222222222, \"#7201a8\"], [0.3333333333333333, \"#9c179e\"], [0.4444444444444444, \"#bd3786\"], [0.5555555555555556, \"#d8576b\"], [0.6666666666666666, \"#ed7953\"], [0.7777777777777778, \"#fb9f3a\"], [0.8888888888888888, \"#fdca26\"], [1.0, \"#f0f921\"]], \"sequentialminus\": [[0.0, \"#0d0887\"], [0.1111111111111111, \"#46039f\"], [0.2222222222222222, \"#7201a8\"], [0.3333333333333333, \"#9c179e\"], [0.4444444444444444, \"#bd3786\"], [0.5555555555555556, \"#d8576b\"], [0.6666666666666666, \"#ed7953\"], [0.7777777777777778, \"#fb9f3a\"], [0.8888888888888888, \"#fdca26\"], [1.0, \"#f0f921\"]]}, \"colorway\": [\"#636efa\", \"#EF553B\", \"#00cc96\", \"#ab63fa\", \"#FFA15A\", \"#19d3f3\", \"#FF6692\", \"#B6E880\", \"#FF97FF\", \"#FECB52\"], \"font\": {\"color\": \"#2a3f5f\"}, \"geo\": {\"bgcolor\": \"white\", \"lakecolor\": \"white\", \"landcolor\": \"#E5ECF6\", \"showlakes\": true, \"showland\": true, \"subunitcolor\": \"white\"}, \"hoverlabel\": {\"align\": \"left\"}, \"hovermode\": \"closest\", \"mapbox\": {\"style\": \"light\"}, \"paper_bgcolor\": \"white\", \"plot_bgcolor\": \"#E5ECF6\", \"polar\": {\"angularaxis\": {\"gridcolor\": \"white\", \"linecolor\": \"white\", \"ticks\": \"\"}, \"bgcolor\": \"#E5ECF6\", \"radialaxis\": {\"gridcolor\": \"white\", \"linecolor\": \"white\", \"ticks\": \"\"}}, \"scene\": {\"xaxis\": {\"backgroundcolor\": \"#E5ECF6\", \"gridcolor\": \"white\", \"gridwidth\": 2, \"linecolor\": \"white\", \"showbackground\": true, \"ticks\": \"\", \"zerolinecolor\": \"white\"}, \"yaxis\": {\"backgroundcolor\": \"#E5ECF6\", \"gridcolor\": \"white\", \"gridwidth\": 2, \"linecolor\": \"white\", \"showbackground\": true, \"ticks\": \"\", \"zerolinecolor\": \"white\"}, \"zaxis\": {\"backgroundcolor\": \"#E5ECF6\", \"gridcolor\": \"white\", \"gridwidth\": 2, \"linecolor\": \"white\", \"showbackground\": true, \"ticks\": \"\", \"zerolinecolor\": \"white\"}}, \"shapedefaults\": {\"line\": {\"color\": \"#2a3f5f\"}}, \"ternary\": {\"aaxis\": {\"gridcolor\": \"white\", \"linecolor\": \"white\", \"ticks\": \"\"}, \"baxis\": {\"gridcolor\": \"white\", \"linecolor\": \"white\", \"ticks\": \"\"}, \"bgcolor\": \"#E5ECF6\", \"caxis\": {\"gridcolor\": \"white\", \"linecolor\": \"white\", \"ticks\": \"\"}}, \"title\": {\"x\": 0.05}, \"xaxis\": {\"automargin\": true, \"gridcolor\": \"white\", \"linecolor\": \"white\", \"ticks\": \"\", \"title\": {\"standoff\": 15}, \"zerolinecolor\": \"white\", \"zerolinewidth\": 2}, \"yaxis\": {\"automargin\": true, \"gridcolor\": \"white\", \"linecolor\": \"white\", \"ticks\": \"\", \"title\": {\"standoff\": 15}, \"zerolinecolor\": \"white\", \"zerolinewidth\": 2}}}, \"title\": {\"text\": \"Overlap\"}},\n",
       "                        {\"responsive\": true}\n",
       "                    ).then(function(){\n",
       "                            \n",
       "var gd = document.getElementById('b029c7b9-afc4-4dd7-874f-90c935446f1a');\n",
       "var x = new MutationObserver(function (mutations, observer) {{\n",
       "        var display = window.getComputedStyle(gd).display;\n",
       "        if (!display || display === 'none') {{\n",
       "            console.log([gd, 'removed!']);\n",
       "            Plotly.purge(gd);\n",
       "            observer.disconnect();\n",
       "        }}\n",
       "}});\n",
       "\n",
       "// Listen for the removal of the full notebook cells\n",
       "var notebookContainer = gd.closest('#notebook-container');\n",
       "if (notebookContainer) {{\n",
       "    x.observe(notebookContainer, {childList: true});\n",
       "}}\n",
       "\n",
       "// Listen for the clearing of the current output cell\n",
       "var outputEl = gd.closest('.output');\n",
       "if (outputEl) {{\n",
       "    x.observe(outputEl, {childList: true});\n",
       "}}\n",
       "\n",
       "                        })\n",
       "                };\n",
       "                });\n",
       "            </script>\n",
       "        </div>"
      ]
     },
     "metadata": {},
     "output_type": "display_data"
    }
   ],
   "source": [
    "show_overlap(dfa)"
   ]
  },
  {
   "cell_type": "code",
   "execution_count": null,
   "metadata": {},
   "outputs": [],
   "source": []
  }
 ],
 "metadata": {
  "kernelspec": {
   "display_name": "Python 3",
   "language": "python",
   "name": "python3"
  },
  "language_info": {
   "codemirror_mode": {
    "name": "ipython",
    "version": 3
   },
   "file_extension": ".py",
   "mimetype": "text/x-python",
   "name": "python",
   "nbconvert_exporter": "python",
   "pygments_lexer": "ipython3",
   "version": "3.7.0"
  },
  "toc": {
   "nav_menu": {},
   "number_sections": true,
   "sideBar": true,
   "skip_h1_title": false,
   "toc_cell": false,
   "toc_position": {},
   "toc_section_display": "block",
   "toc_window_display": true
  }
 },
 "nbformat": 4,
 "nbformat_minor": 2
}
