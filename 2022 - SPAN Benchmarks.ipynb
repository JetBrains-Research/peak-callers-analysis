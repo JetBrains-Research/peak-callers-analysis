{
 "cells": [
  {
   "cell_type": "markdown",
   "metadata": {},
   "source": [
    "# SPAN Benchmarks\n",
    "\n",
    "1) H3K4me3 and H3K36me3 vs RNA-seq\n",
    "See https://pubmed.ncbi.nlm.nih.gov/27169896/\n",
    "Prepare expression information beforehand!\n",
    "2) H3K27ac vs DHS"
   ]
  },
  {
   "cell_type": "code",
   "execution_count": null,
   "metadata": {
    "ExecuteTime": {
     "end_time": "2019-01-24T09:42:05.555231Z",
     "start_time": "2019-01-24T09:42:03.994631Z"
    }
   },
   "outputs": [],
   "source": [
    "%matplotlib inline\n",
    "%config InlineBackend.figure_format='retina'\n",
    "\n",
    "from IPython.display import display\n",
    "import pandas as pd\n",
    "from tqdm.auto import tqdm\n",
    "import seaborn as sns\n",
    "sns.set_style(\"whitegrid\")\n",
    "import matplotlib.pyplot as plt\n",
    "from matplotlib.backends.backend_pdf import PdfPages\n",
    "import numpy as np\n",
    "import scipy as sp\n",
    "import os"
   ]
  },
  {
   "cell_type": "markdown",
   "source": [
    "# RNA-seq prepare genes positions"
   ],
   "metadata": {
    "collapsed": false
   }
  },
  {
   "cell_type": "code",
   "execution_count": null,
   "outputs": [],
   "source": [
    "gtf_df = pd.read_csv(os.path.expanduser('~/data/2022_GSE26320_GM12878_rnaseq/gencode.GRCh38.p13.v41.annotation.gtf'), sep='\\t', comment='#',\n",
    "                     names=['chromosome', 'db', 'type', 'start', 'end', 'point1', 'strand', 'point2', 'aux'])\n",
    "gtf_df.sample(10)"
   ],
   "metadata": {
    "collapsed": false
   }
  },
  {
   "cell_type": "code",
   "execution_count": null,
   "outputs": [],
   "source": [
    "print('Parse GTF aux data')\n",
    "auxes = {}\n",
    "for i, aux in enumerate(tqdm(gtf_df['aux'])):\n",
    "    for pair in aux.split(';'):\n",
    "        kv = pair.strip().split(' ')\n",
    "        if len(kv) != 2:\n",
    "            continue\n",
    "        k, v = kv\n",
    "        if k not in auxes:\n",
    "            auxes[k] = vs = []\n",
    "        else:\n",
    "            vs = auxes[k]\n",
    "        vs.append(v.strip('\"'))\n",
    "\n",
    "for k, vs in auxes.items():\n",
    "    if len(vs) == len(gtf_df):\n",
    "        gtf_df[k] = vs\n",
    "    else:\n",
    "        print(f'Ignoring {k}')\n",
    "del auxes\n",
    "gtf_df.drop('aux', axis=1, inplace=True)"
   ],
   "metadata": {
    "collapsed": false
   }
  },
  {
   "cell_type": "code",
   "execution_count": null,
   "outputs": [],
   "source": [
    "gtf_df[gtf_df['type'] == 'gene'].sample(5)"
   ],
   "metadata": {
    "collapsed": false
   }
  },
  {
   "cell_type": "markdown",
   "source": [
    "# Read RNA-seq expression"
   ],
   "metadata": {
    "collapsed": false
   }
  },
  {
   "cell_type": "code",
   "execution_count": null,
   "outputs": [],
   "source": [
    "expression_df = pd.read_csv(os.path.expanduser('~/data/2022_GSE26320_GM12878_rnaseq/GM12878_SRR307008.genes.results'), sep='\\t', comment='#')\n",
    "expression_df.sample()"
   ],
   "metadata": {
    "collapsed": false
   }
  },
  {
   "cell_type": "code",
   "execution_count": null,
   "outputs": [],
   "source": [
    "full_df = pd.merge(left=expression_df, right=gtf_df[gtf_df['type'] == 'gene'], left_on='gene_id', right_on='gene_id', how='left')\n",
    "full_df.drop(labels=['point1', 'point2', 'level', 'type', 'db'], axis=1, inplace=True)\n",
    "full_df.sample(5)"
   ],
   "metadata": {
    "collapsed": false
   }
  },
  {
   "cell_type": "code",
   "execution_count": null,
   "outputs": [],
   "source": [
    "full_df['logTPM'] = np.log1p(full_df['TPM'])\n",
    "full_df['logFPKM'] = np.log1p(full_df['FPKM'])\n",
    "full_df = full_df[['chromosome', 'start', 'end', 'gene_id', 'strand', 'TPM', 'logTPM', 'FPKM', 'logFPKM']]\n",
    "full_df.sort_values(by=['chromosome', 'start'], inplace=True)"
   ],
   "metadata": {
    "collapsed": false
   }
  },
  {
   "cell_type": "code",
   "execution_count": null,
   "outputs": [],
   "source": [
    "full_df.to_csv(os.path.expanduser('~/data/2022_GSE26320_GM12878_rnaseq/genes_full.bed'), sep='\\t', index=False, header=None)"
   ],
   "metadata": {
    "collapsed": false
   }
  },
  {
   "cell_type": "markdown",
   "source": [
    "# H3K4me3"
   ],
   "metadata": {
    "collapsed": false
   }
  },
  {
   "cell_type": "code",
   "execution_count": null,
   "metadata": {},
   "outputs": [],
   "source": [
    "df = pd.read_csv(os.path.expanduser('~/data/2022_GSE26320_GM12878_chipseq/k4me3_report.tsv'), sep='\\t',\n",
    "                 names=['n', 'file', 'peaks', 'tss_peaks', 'cp', 'rp'])\n",
    "df['cpf'] = df['cp'] / df['peaks']\n",
    "df['rpf'] = df['rp'] / df['tss_peaks']\n",
    "df"
   ]
  },
  {
   "cell_type": "code",
   "execution_count": null,
   "outputs": [],
   "source": [
    "def tool(file):\n",
    "    if '.narrowPeak' in file:\n",
    "        return 'Macs2'\n",
    "    elif '.broadPeak' in file:\n",
    "        return 'Macs2Broad'\n",
    "    elif '.peak' in file:\n",
    "        return 'Span'\n",
    "    else:\n",
    "        return 'Sicer'\n",
    "\n",
    "df['tool'] = [tool(f) for f in df['file']]"
   ],
   "metadata": {
    "collapsed": false
   }
  },
  {
   "cell_type": "markdown",
   "source": [
    "## Recovered promoter fraction / Correct peak fraction"
   ],
   "metadata": {
    "collapsed": false
   }
  },
  {
   "cell_type": "code",
   "execution_count": null,
   "outputs": [],
   "source": [
    "# import plotly.express as px\n",
    "#\n",
    "# fig = px.line(df, x=\"rpf\", y=\"cpf\", color=\"tool\", hover_name=\"n\")\n",
    "# fig.update_xaxes(range=[0, 1], row=1, col=1, title='recovered promoter fraction')\n",
    "# fig.update_yaxes(range=[0, 1], row=1, col=1, title='correct peak fraction')\n",
    "# fig.show()"
   ],
   "metadata": {
    "collapsed": false
   }
  },
  {
   "cell_type": "code",
   "execution_count": null,
   "metadata": {
    "ExecuteTime": {
     "end_time": "2019-01-24T09:43:15.464555Z",
     "start_time": "2019-01-24T09:42:05.559587Z"
    },
    "scrolled": false
   },
   "outputs": [],
   "source": [
    "import plotly.graph_objects as go\n",
    "\n",
    "fig = go.Figure()\n",
    "for t in set(df['tool']):\n",
    "    dft = df[df['tool'] == t]\n",
    "    fig.add_trace(go.Scatter(\n",
    "        x=dft[\"rpf\"], y=dft[\"cpf\"], mode='lines+markers', name=t, hovertext=dft['n']))\n",
    "fig.update_xaxes(range=[0, 0.8], title='Recovered Promoter Fraction')\n",
    "fig.update_yaxes(range=[0, 1], title='Correct Peak Fraction')\n",
    "fig.show()"
   ]
  },
  {
   "cell_type": "markdown",
   "metadata": {},
   "source": [
    "# H3K36me3"
   ]
  },
  {
   "cell_type": "code",
   "execution_count": null,
   "outputs": [],
   "source": [
    "genes_df = pd.read_csv(\n",
    "    os.path.expanduser('~/data/2022_GSE26320_GM12878_rnaseq/GM12878_SRR307008.genes.results'),\n",
    "    sep='\\t'\n",
    ")\n",
    "genes_df['LTPM'] = np.log1p(genes_df['TPM'])\n",
    "genes_df"
   ],
   "metadata": {
    "collapsed": false
   }
  },
  {
   "cell_type": "code",
   "execution_count": null,
   "outputs": [],
   "source": [
    "ORANGE = (243/256, 135/256, 47/256)\n",
    "BLUE = (35/256, 110/256, 150/256)\n",
    "\n",
    "plt.figure(figsize=(6, 4))\n",
    "expressed = genes_df.loc[genes_df['LTPM'] > 1, 'LTPM']\n",
    "plt.hist(expressed, bins=1000, density=True, color=ORANGE, edgecolor=ORANGE, linewidth=1,\n",
    "         label=f'Expressed TPM>1 ({len(expressed)})')\n",
    "\n",
    "nexpressed = genes_df.loc[genes_df['LTPM'] <= 1, 'LTPM']\n",
    "plt.hist(nexpressed, bins=50, density=True, color=BLUE, edgecolor=BLUE, linewidth=1,\n",
    "         label=f'Not expressed TPM<=1 ({len(nexpressed)})')\n",
    "plt.gca().set(title='Log TPM', ylabel='Frequency')\n",
    "plt.legend()\n",
    "\n",
    "plt.show()"
   ],
   "metadata": {
    "collapsed": false
   }
  },
  {
   "cell_type": "code",
   "execution_count": null,
   "outputs": [],
   "source": [
    "genes_df['logTPM'] = np.log1p(genes_df['TPM'])\n",
    "genes_df['logFPKM'] = np.log1p(genes_df['FPKM'])"
   ],
   "metadata": {
    "collapsed": false
   }
  },
  {
   "cell_type": "code",
   "execution_count": null,
   "outputs": [],
   "source": [
    "plt.figure(figsize=(6, 4))\n",
    "plt.hist(genes_df['logTPM'], bins=100, density=True, color=ORANGE, edgecolor=ORANGE, linewidth=1, label=f'TPM')\n",
    "plt.gca().set(title='Log TPM', ylabel='Frequency')\n",
    "plt.legend()\n",
    "plt.show()"
   ],
   "metadata": {
    "collapsed": false
   }
  },
  {
   "cell_type": "code",
   "execution_count": null,
   "outputs": [],
   "source": [
    "plt.figure(figsize=(6, 4))\n",
    "plt.hist(genes_df['logFPKM'], bins=100, density=True, color=ORANGE, edgecolor=ORANGE, linewidth=1, label=f'FPKM')\n",
    "plt.gca().set(title='Log FPKM', ylabel='Frequency')\n",
    "plt.legend()\n",
    "plt.show()"
   ],
   "metadata": {
    "collapsed": false
   }
  },
  {
   "cell_type": "markdown",
   "source": [
    "We considered a peak as positive if it overlaps an active gene (defined varying RPKM from 0 to 2) and compared methods based on sensitivity, precision and F-score."
   ],
   "metadata": {
    "collapsed": false
   }
  },
  {
   "cell_type": "code",
   "execution_count": null,
   "outputs": [],
   "source": [
    "df = pd.read_csv(os.path.expanduser('~/data/2022_GSE26320_GM12878_chipseq/k36me3_report.tsv'), sep='\\t',\n",
    "                 names=['tpm', 'gene_file', 'genes', 'peaks_file', 'peaks', 'pg', 'gp'])\n",
    "df['tool'] = [tool(f) for f in df['peaks_file']]\n",
    "df"
   ],
   "metadata": {
    "collapsed": false
   }
  },
  {
   "cell_type": "code",
   "execution_count": null,
   "outputs": [],
   "source": [
    "df['p'] = (df['pg'] + df['gp']) / 2\n",
    "df['precision'] = df['pg'] / df['peaks']\n",
    "df['sensitivity'] = df['gp'] / df['genes']\n",
    "df['f1'] = [2 / (1/s + 1/p) for s, p in zip(df['sensitivity'], df['precision'])]\n",
    "df"
   ],
   "metadata": {
    "collapsed": false
   }
  },
  {
   "cell_type": "code",
   "execution_count": null,
   "outputs": [],
   "source": [
    "import plotly.express as px\n",
    "\n",
    "fig = px.line(df, x=\"precision\", y=\"sensitivity\", color=\"tool\", log_x=True)\n",
    "fig.update_xaxes(title='Overlap peaks vs Active genes - Precision')\n",
    "fig.update_yaxes(title='Overlap Active genes vs peaks - Sensitivity')\n",
    "fig.show()"
   ],
   "metadata": {
    "collapsed": false
   }
  },
  {
   "cell_type": "code",
   "execution_count": null,
   "outputs": [],
   "source": [
    "import plotly.express as px\n",
    "\n",
    "fig = px.line(df, x=\"tpm\", y=\"sensitivity\", color=\"tool\")\n",
    "fig.update_xaxes(title='TPM threshold')\n",
    "fig.update_yaxes(range=[0, 1], title='Sensitivity (Recall)')\n",
    "fig.show()"
   ],
   "metadata": {
    "collapsed": false
   }
  },
  {
   "cell_type": "code",
   "execution_count": null,
   "outputs": [],
   "source": [
    "import plotly.express as px\n",
    "\n",
    "fig = px.line(df, x=\"tpm\", y=\"precision\", color=\"tool\")\n",
    "fig.update_xaxes(title='TPM threshold')\n",
    "fig.update_yaxes(range=[0, 1], title='Precision')\n",
    "fig.show()"
   ],
   "metadata": {
    "collapsed": false
   }
  },
  {
   "cell_type": "code",
   "execution_count": null,
   "outputs": [],
   "source": [
    "import plotly.express as px\n",
    "\n",
    "fig = px.line(df, x=\"tpm\", y=\"f1\", color=\"tool\")\n",
    "fig.update_xaxes(title='TPM threshold')\n",
    "fig.update_yaxes(range=[0, 1], title='F1')\n",
    "fig.show()"
   ],
   "metadata": {
    "collapsed": false
   }
  },
  {
   "cell_type": "markdown",
   "source": [
    "# H3K27ac vs DHS"
   ],
   "metadata": {
    "collapsed": false
   }
  },
  {
   "cell_type": "code",
   "execution_count": null,
   "outputs": [],
   "source": [
    "df = pd.read_csv(\n",
    "    os.path.expanduser('~/data/2022_GSE26320_k27ac/k27ac_report.tsv'),\n",
    "    sep='\\t',\n",
    "    names=['q', 'file', 'peaks', 'dhs', 'dp', 'fp']\n",
    ")\n",
    "df['tool'] = [tool(f) for f in df['file']]\n",
    "df"
   ],
   "metadata": {
    "collapsed": false
   }
  },
  {
   "cell_type": "code",
   "execution_count": null,
   "outputs": [],
   "source": [
    "df['precision'] = df['fp'] / df['peaks']\n",
    "df['sensitivity'] = df['dp'] / df['dhs']\n",
    "df['f1'] = [2 / (1/s + 1/p) for s, p in zip(df['sensitivity'], df['precision'])]"
   ],
   "metadata": {
    "collapsed": false
   }
  },
  {
   "cell_type": "code",
   "execution_count": null,
   "outputs": [],
   "source": [
    "import plotly.express as px\n",
    "\n",
    "fig = px.line(df, x=\"precision\", y=\"sensitivity\", color=\"tool\", log_x=True)\n",
    "fig.update_xaxes(title='Overlap peaks vs DHS - Precision')\n",
    "fig.update_yaxes(title='Overlap DHS vs peaks - Sensitivity')\n",
    "fig.show()"
   ],
   "metadata": {
    "collapsed": false
   }
  },
  {
   "cell_type": "code",
   "execution_count": null,
   "outputs": [],
   "source": [
    "import plotly.express as px\n",
    "\n",
    "fig = px.line(df, x=\"q\", y=\"sensitivity\", color=\"tool\", log_x=True)\n",
    "fig.update_xaxes(title='Q')\n",
    "fig.update_yaxes(title='Sensitivity (Recall)')\n",
    "fig.show()"
   ],
   "metadata": {
    "collapsed": false
   }
  },
  {
   "cell_type": "code",
   "execution_count": null,
   "outputs": [],
   "source": [
    "import plotly.express as px\n",
    "\n",
    "fig = px.line(df, x=\"q\", y=\"precision\", color=\"tool\", log_x=True)\n",
    "fig.update_xaxes(title='Q')\n",
    "fig.update_yaxes(title='Precision')\n",
    "fig.show()"
   ],
   "metadata": {
    "collapsed": false
   }
  },
  {
   "cell_type": "code",
   "execution_count": null,
   "outputs": [],
   "source": [
    "import plotly.express as px\n",
    "\n",
    "fig = px.line(df, x=\"q\", y=\"f1\", color=\"tool\", log_x=True)\n",
    "fig.update_xaxes(title='Q')\n",
    "fig.update_yaxes(title='F1')\n",
    "fig.show()"
   ],
   "metadata": {
    "collapsed": false
   }
  },
  {
   "cell_type": "code",
   "execution_count": null,
   "outputs": [],
   "source": [],
   "metadata": {
    "collapsed": false
   }
  }
 ],
 "metadata": {
  "anaconda-cloud": {},
  "kernelspec": {
   "display_name": "Python 3",
   "language": "python",
   "name": "python3"
  },
  "language_info": {
   "codemirror_mode": {
    "name": "ipython",
    "version": 3
   },
   "file_extension": ".py",
   "mimetype": "text/x-python",
   "name": "python",
   "nbconvert_exporter": "python",
   "pygments_lexer": "ipython3",
   "version": "3.8.5"
  },
  "toc": {
   "nav_menu": {},
   "number_sections": true,
   "sideBar": true,
   "skip_h1_title": false,
   "toc_cell": false,
   "toc_position": {},
   "toc_section_display": "block",
   "toc_window_display": false
  }
 },
 "nbformat": 4,
 "nbformat_minor": 2
}
