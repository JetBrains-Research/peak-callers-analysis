{
 "cells": [
  {
   "cell_type": "markdown",
   "metadata": {},
   "source": [
    "# Immune Control\n",
    "Please run Immune-* for all modifications with and without control."
   ]
  },
  {
   "cell_type": "code",
   "execution_count": null,
   "metadata": {},
   "outputs": [],
   "source": [
    "%matplotlib inline\n",
    "%config InlineBackend.figure_format='retina'\n",
    "\n",
    "import pandas as pd\n",
    "import seaborn as sns\n",
    "from tqdm.auto import tqdm\n",
    "from itertools import product\n",
    "sns.set_style(\"whitegrid\")\n",
    "import matplotlib.pyplot as plt\n",
    "import numpy as np\n",
    "import os\n",
    "import tempfile\n"
   ]
  },
  {
   "cell_type": "code",
   "execution_count": null,
   "outputs": [],
   "source": [
    "def bedl(file):\n",
    "    try:\n",
    "        tf = pd.read_csv(file, sep='\\t', header=None)\n",
    "        return tf[2] - tf[1]\n",
    "    except:\n",
    "        return np.zeros(0)  # Empty file\n",
    "\n",
    "\n",
    "def lines(file):\n",
    "    try:\n",
    "        tf = pd.read_csv(file, sep='\\t', header=None)\n",
    "        return len(tf)\n",
    "    except:\n",
    "        return 0  # Empty file\n",
    "\n",
    "def d(a, b):\n",
    "    return a / b if b != 0 else 0\n",
    "\n",
    "def last_col(file):\n",
    "    try:\n",
    "        cols = len(pd.read_csv(file, sep='\\t', nrows=1, header=None).columns)\n",
    "        return pd.read_csv(file, sep='\\t', header=None, usecols=[cols - 1])[cols - 1]\n",
    "    except:\n",
    "        return np.zeros(0)  # Empty file\n",
    "\n",
    "def sorted_file(file):\n",
    "    ts = tempfile.mktemp()\n",
    "    !cat {file} | sort -k1,1 -k2,2n > {ts}\n",
    "    return ts\n"
   ],
   "metadata": {
    "collapsed": false
   }
  },
  {
   "cell_type": "code",
   "execution_count": null,
   "outputs": [],
   "source": [
    "PATH = os.path.expanduser('~/data/2023_Immune')\n",
    "PATH_NO_CONTROL = os.path.expanduser('~/data/2023_Immune_no_control')\n",
    "\n",
    "IMMUNE_CELLS = ['BCell', 'TCell', 'Monocyte']\n",
    "MODIFICATIONS = ['H3K4me3', 'H3K27ac', 'H3K4me1', 'H3K27me3', 'H3K36me3']\n",
    "\n",
    "! mkdir -p {PATH}/pics"
   ],
   "metadata": {
    "collapsed": false
   }
  },
  {
   "cell_type": "code",
   "execution_count": null,
   "outputs": [],
   "source": [
    "ts = []\n",
    "for m in MODIFICATIONS:\n",
    "    t_control = pd.read_csv(PATH + f'/{m}_full_bench_df.csv.gz', compression='gzip')\n",
    "    t_control['modification'] = m\n",
    "    t_control['control'] = True\n",
    "    t_control.sort_values(by=['modification', 'cell', 'name'], inplace=True)\n",
    "    t_no_control = pd.read_csv(PATH_NO_CONTROL + f'/{m}_full_bench_df.csv.gz', compression='gzip')\n",
    "    t_no_control['modification'] = m\n",
    "    t_no_control['control'] = False\n",
    "    t_no_control.sort_values(by=['modification', 'cell', 'name'], inplace=True)\n",
    "    t_control['ratio'] = 1.0\n",
    "    t_no_control['ratio'] = [d(pnc, pc) for pnc, pc in zip(t_no_control['peaks'], t_control['peaks'])]\n",
    "    ts.append(t_control)\n",
    "    ts.append(t_no_control)\n",
    "    del t_control\n",
    "    del t_no_control\n",
    "\n",
    "full_bench_df_all = pd.concat(ts).reset_index(drop=True)\n",
    "del ts\n",
    "full_bench_df_all.sample(5)"
   ],
   "metadata": {
    "collapsed": false
   }
  },
  {
   "cell_type": "code",
   "execution_count": null,
   "outputs": [],
   "source": [
    "plt.figure(figsize=(12, 3))\n",
    "axs = [plt.subplot(1, 5, i + 1) for i in range(5)]\n",
    "for i, m in enumerate(MODIFICATIONS):\n",
    "    ax = axs[i]\n",
    "    g_results = sns.barplot(data=full_bench_df_all[full_bench_df_all['modification'] == m],\n",
    "                            x='name', y='peaks', hue='control',\n",
    "                            ax=ax,\n",
    "                            capsize=.2, errwidth=2,\n",
    "                            order=['MACS2', 'MACS2 broad', 'SPAN', 'SICER',\n",
    "                                   # 'SPAN - MACS2', 'SPAN - MACS2 broad', 'SPAN - SICER',\n",
    "                                   # 'MACS2 - SPAN', 'MACS2 broad - SPAN', 'SICER - SPAN',\n",
    "                                   ],\n",
    "                            hue_order=[True, False]\n",
    "                            )\n",
    "    ax.xaxis.set_tick_params(rotation=90)\n",
    "    ax.set_ylabel('Peaks number')\n",
    "    ax.set_title(m)\n",
    "    # Put a legend to the right of the current axis\n",
    "    if i == 4:\n",
    "        ax.legend(loc='center left', bbox_to_anchor=(1, 0.5))\n",
    "    else:\n",
    "        ax.legend().set_visible(False)\n",
    "    if i > 0:\n",
    "        ax.set_ylabel(None)\n",
    "plt.tight_layout()\n",
    "plt.savefig(f'{PATH}/pics/full_bench_df_all.pdf', bbox_inches='tight', dpi=300)\n",
    "plt.show()"
   ],
   "metadata": {
    "collapsed": false
   }
  },
  {
   "cell_type": "code",
   "execution_count": null,
   "outputs": [],
   "source": [
    "t = full_bench_df_all[full_bench_df_all['name'].isin(set(['MACS2', 'MACS2 broad', 'SPAN', 'SICER']))]\n",
    "plt.figure(figsize=(6, 4))\n",
    "g_results = sns.boxplot(data=t[t['control'] == False],\n",
    "                        x='name', y='ratio', hue='modification',\n",
    "                        # capsize=.05, errwidth=2,\n",
    "                        hue_order=MODIFICATIONS,\n",
    "                        order=['MACS2', 'MACS2 broad', 'SPAN', 'SICER'],\n",
    "                        showfliers=False\n",
    "                        )\n",
    "\n",
    "ax = g_results.axes\n",
    "ax.xaxis.set_tick_params(rotation=45)\n",
    "ax.set_ylim(-0.4, 2.45)\n",
    "ax.set_title('Ratio of peaks number without/with control')\n",
    "ax.legend(loc='center left', bbox_to_anchor=(1, 0.5))\n",
    "plt.tight_layout()\n",
    "plt.savefig(f'{PATH}/pics/full_bench_df_all2.pdf', bbox_inches='tight', dpi=300)\n",
    "plt.show()"
   ],
   "metadata": {
    "collapsed": false
   }
  },
  {
   "cell_type": "markdown",
   "source": [
    "# Jaccard with control"
   ],
   "metadata": {
    "collapsed": false
   }
  },
  {
   "cell_type": "code",
   "execution_count": null,
   "outputs": [],
   "source": [
    "def load_peaks_fdr(path, suffix, fdrs):\n",
    "    df_fdr = pd.DataFrame(columns=['file', 'modification', 'cell', 'fdr', 'peaks', 'avlength'],\n",
    "                          dtype=object)\n",
    "    for f in tqdm(os.listdir(path)):\n",
    "        if suffix not in f:\n",
    "            continue\n",
    "        fdr = next((fdr for fdr in fdrs if fdr in f), None)\n",
    "        cell = next((cc for cc in IMMUNE_CELLS if cc in f), None)\n",
    "        mod = next((m for m in MODIFICATIONS if m in f), None)\n",
    "        if fdr and cell and mod:\n",
    "            peaks_path = os.path.join(path, f)\n",
    "            ps, ls = lines(peaks_path), bedl(peaks_path)\n",
    "            avls = 0 if ps == 0 else sum(ls) / ps\n",
    "            df_fdr.loc[len(df_fdr)] = (peaks_path, mod, cell, fdr, ps, avls)\n",
    "    return df_fdr\n",
    "\n",
    "\n",
    "def load_peaks(path):\n",
    "    df_fdr_macs2 = load_peaks_fdr(os.path.join(path, 'macs2'), '.narrowPeak', ['0.05'])\n",
    "    df_fdr_macs2['tool'] = 'MACS2'\n",
    "    print('MACS2', len(df_fdr_macs2))\n",
    "\n",
    "    df_fdr_macs2broad = load_peaks_fdr(os.path.join(path, 'macs2'), '.broadPeak', ['0.1'])\n",
    "    df_fdr_macs2broad['tool'] = 'MACS2 broad'\n",
    "    print('MACS2 broad', len(df_fdr_macs2broad))\n",
    "\n",
    "    df_fdr_sicer = load_peaks_fdr(os.path.join(path, 'sicer'), 'summary-FDR', ['0.01'])\n",
    "    if len(df_fdr_sicer) == 0:\n",
    "        df_fdr_sicer = load_peaks_fdr(os.path.join(path, 'sicer'), '.scoreisland', ['0.01'])\n",
    "    df_fdr_sicer['tool'] = 'SICER'\n",
    "    print('SICER', len(df_fdr_sicer))\n",
    "\n",
    "    df_fdr_span = load_peaks_fdr(os.path.join(path, 'span'), '.peak', ['0.05'])\n",
    "    df_fdr_span['tool'] = 'SPAN'\n",
    "    print('SPAN', len(df_fdr_span))\n",
    "\n",
    "    return pd.concat([df_fdr_macs2, df_fdr_macs2broad, df_fdr_sicer, df_fdr_span]).reset_index(drop=True)"
   ],
   "metadata": {
    "collapsed": false
   }
  },
  {
   "cell_type": "code",
   "execution_count": null,
   "outputs": [],
   "source": [
    "df_control_peaks = load_peaks(PATH)\n",
    "df_control_peaks.sample(5)"
   ],
   "metadata": {
    "collapsed": false
   }
  },
  {
   "cell_type": "code",
   "execution_count": null,
   "outputs": [],
   "source": [
    "df_no_control_peaks = load_peaks(PATH_NO_CONTROL)\n",
    "df_no_control_peaks.sample(5)"
   ],
   "metadata": {
    "collapsed": false
   }
  },
  {
   "cell_type": "code",
   "execution_count": null,
   "outputs": [],
   "source": [
    "TOOLS = ['MACS2', 'MACS2 broad', 'SPAN', 'SICER']\n",
    "palette = plt.cm.get_cmap('tab10')\n",
    "TOOLS_PALETTE = {t: palette(i) for i, t in enumerate(TOOLS)}"
   ],
   "metadata": {
    "collapsed": false
   }
  },
  {
   "cell_type": "code",
   "execution_count": null,
   "outputs": [],
   "source": [
    "tf = tempfile.mktemp()\n",
    "ts = []\n",
    "for m, c, t in tqdm(product(MODIFICATIONS,\n",
    "                               IMMUNE_CELLS,\n",
    "                               TOOLS)):\n",
    "    pc = df_control_peaks[(df_control_peaks['modification'] == m) &\n",
    "                          (df_control_peaks['cell'] == c) &\n",
    "                          (df_control_peaks['tool'] == t)]\n",
    "    pnc = df_no_control_peaks[(df_no_control_peaks['modification'] == m) &\n",
    "                              (df_no_control_peaks['cell'] == c) &\n",
    "                              (df_no_control_peaks['tool'] == t)]\n",
    "    if len(pc) != 1 or len(pnc) != 1:\n",
    "        continue\n",
    "    pcf = pc['file'].values[0]\n",
    "    pncf = pnc['file'].values[0]\n",
    "    !bedtools intersect -a {pcf} -b {pncf} -wo > {tf}\n",
    "    overlap_len = int(last_col(tf).sum())\n",
    "    pcf_len = bedl(pcf).sum()\n",
    "    pncf_len = bedl(pncf).sum()\n",
    "    jaccard = d(overlap_len, pcf_len + pncf_len - overlap_len)\n",
    "    ts.append((m, c, t, jaccard))\n",
    "jaccard_df = pd.DataFrame(data=ts, columns=['modification', 'cell', 'tool', 'jaccard'])\n",
    "jaccard_df.sample(5)"
   ],
   "metadata": {
    "collapsed": false
   }
  },
  {
   "cell_type": "code",
   "execution_count": null,
   "outputs": [],
   "source": [
    "plt.figure(figsize=(6, 4))\n",
    "g_results = sns.boxplot(data=jaccard_df,\n",
    "                        x='tool', y='jaccard', hue='modification',\n",
    "                        # capsize=.05, errwidth=2,\n",
    "                        hue_order=['H3K4me3', 'H3K27ac', 'H3K4me1', 'H3K27me3', 'H3K36me3'],\n",
    "                        order=['MACS2', 'MACS2 broad', 'SPAN', 'SICER'],\n",
    "                        showfliers=False\n",
    "                        )\n",
    "\n",
    "ax = g_results.axes\n",
    "ax.xaxis.set_tick_params(rotation=45)\n",
    "ax.set_ylim(-0.1, 1.1)\n",
    "ax.set_title('Jaccard between peaks without/with control')\n",
    "ax.legend(loc='center left', bbox_to_anchor=(1, 0.5))\n",
    "plt.tight_layout()\n",
    "plt.savefig(f'{PATH}/pics/full_bench_df_jaccard.pdf', bbox_inches='tight', dpi=300)\n",
    "plt.show()"
   ],
   "metadata": {
    "collapsed": false
   }
  },
  {
   "cell_type": "code",
   "execution_count": null,
   "outputs": [],
   "source": [],
   "metadata": {
    "collapsed": false
   }
  }
 ],
 "metadata": {
  "anaconda-cloud": {},
  "kernelspec": {
   "display_name": "Python 3",
   "language": "python",
   "name": "python3"
  },
  "language_info": {
   "codemirror_mode": {
    "name": "ipython",
    "version": 3
   },
   "file_extension": ".py",
   "mimetype": "text/x-python",
   "name": "python",
   "nbconvert_exporter": "python",
   "pygments_lexer": "ipython3",
   "version": "3.8.5"
  },
  "toc": {
   "nav_menu": {},
   "number_sections": true,
   "sideBar": true,
   "skip_h1_title": false,
   "toc_cell": false,
   "toc_position": {},
   "toc_section_display": "block",
   "toc_window_display": false
  }
 },
 "nbformat": 4,
 "nbformat_minor": 2
}
