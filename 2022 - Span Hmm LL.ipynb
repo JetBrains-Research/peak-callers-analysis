{
 "cells": [
  {
   "cell_type": "markdown",
   "metadata": {
    "heading_collapsed": true
   },
   "source": "# SPAN HMM Log likelihood of the model"
  },
  {
   "cell_type": "code",
   "execution_count": 1,
   "metadata": {
    "ExecuteTime": {
     "end_time": "2019-03-07T11:38:12.254230Z",
     "start_time": "2019-03-07T11:38:04.952806Z"
    },
    "hidden": true
   },
   "outputs": [],
   "source": [
    "%matplotlib inline\n",
    "%config InlineBackend.figure_format='retina'\n",
    "\n",
    "import pandas as pd\n",
    "\n",
    "import seaborn as sns\n",
    "sns.set_style(\"whitegrid\")\n",
    "\n",
    "import plotly.graph_objects as go"
   ]
  },
  {
   "cell_type": "markdown",
   "metadata": {},
   "source": [
    "```\n",
    "cd ~/data_2023_GSE26320/bams\n",
    "\n",
    "# Launch models\n",
    "for M in K27ac K27me3 K36me3 K4me1 K4me3; do \n",
    "    echo $M; java -jar span.jar analyze -t H3$M.bam -c input*$M*.bam -cs ../hg38.chrom.sizes \\\n",
    "        --model H3$M.span -w $(pwd) --debug --chr chr22 --iterations 200;\n",
    "done\n",
    "\n",
    "# LL\n",
    "for M in K27ac K27me3 K36me3 K4me1 K4me3; do \n",
    "    echo $M; \n",
    "    cat logs/*$M*.log | grep LL: | sed -E 's/.*LL: //g' | awk '{print($1)}' > ll_H3$M.tsv; \n",
    "done\n",
    "```"
   ]
  },
  {
   "cell_type": "code",
   "execution_count": null,
   "metadata": {},
   "outputs": [],
   "source": [
    "WORKDIR='~/data/data_2023_GSE26320/bams'\n",
    "\n",
    "fig = go.Figure(layout=go.Layout(title=go.layout.Title(text=\"LL\")))\n",
    "for M in ['H3K27ac', 'H3K27me3', 'H3K36me3', 'H3K4me1', 'H3K4me3']:\n",
    "    t = pd.read_csv(f'{WORKDIR}/ll_{M}.tsv', names=['ll'], sep='\\t')\n",
    "    t['iteration'] = range(1, len(t) + 1)\n",
    "    t['name'] = M\n",
    "    fig.add_trace(go.Scatter(x=t['iteration'], y=t['ll'], name=M, line_shape='linear'))\n",
    "\n",
    "fig.show()"
   ]
  },
  {
   "cell_type": "code",
   "execution_count": null,
   "metadata": {},
   "outputs": [],
   "source": []
  }
 ],
 "metadata": {
  "kernelspec": {
   "display_name": "Python 3",
   "language": "python",
   "name": "python3"
  },
  "language_info": {
   "codemirror_mode": {
    "name": "ipython",
    "version": 3
   },
   "file_extension": ".py",
   "mimetype": "text/x-python",
   "name": "python",
   "nbconvert_exporter": "python",
   "pygments_lexer": "ipython3",
   "version": "3.8.5"
  },
  "toc": {
   "nav_menu": {},
   "number_sections": true,
   "sideBar": true,
   "skip_h1_title": false,
   "toc_cell": false,
   "toc_position": {},
   "toc_section_display": "block",
   "toc_window_display": true
  }
 },
 "nbformat": 4,
 "nbformat_minor": 2
}
