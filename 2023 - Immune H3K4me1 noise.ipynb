{
 "cells": [
  {
   "cell_type": "markdown",
   "metadata": {},
   "source": [
    "# 2023 Immune dataset H3K4me1 noise - added control\n",
    "\n",
    "Data:\n",
    "https://www.encodeproject.org/immune-cells/?type=Experiment&replicates.library.biosample.donor.organism.scientific_name=Homo+sapiens&biosample_ontology.cell_slims=hematopoietic+cell&biosample_ontology.classification=primary+cell&control_type!=*&status!=replaced&status!=revoked&status!=archived&biosample_ontology.system_slims=immune+system&biosample_ontology.system_slims=circulatory+system&config=immune"
   ]
  },
  {
   "cell_type": "code",
   "execution_count": null,
   "metadata": {},
   "outputs": [],
   "source": [
    "%matplotlib inline\n",
    "%config InlineBackend.figure_format='retina'\n",
    "\n",
    "import pandas as pd\n",
    "import seaborn as sns\n",
    "from IPython.display import display\n",
    "from tqdm.auto import tqdm\n",
    "\n",
    "sns.set_style(\"whitegrid\")\n",
    "import matplotlib.pyplot as plt\n",
    "import numpy as np\n",
    "import os"
   ]
  },
  {
   "cell_type": "code",
   "execution_count": null,
   "outputs": [],
   "source": [
    "def bedl(file):\n",
    "    try:\n",
    "        tf = pd.read_csv(file, sep='\\t', header=None)\n",
    "        return tf[2] - tf[1]\n",
    "    except:\n",
    "        return np.zeros(0)  # Empty file\n",
    "\n",
    "\n",
    "def lines(file):\n",
    "    try:\n",
    "        tf = pd.read_csv(file, sep='\\t', header=None)\n",
    "        return len(tf)\n",
    "    except:\n",
    "        return 0  # Empty file\n",
    "\n",
    "def d(a, b):\n",
    "    return a / b if b != 0 else 0\n",
    "\n",
    "def sorted_file(file):\n",
    "    ts = tempfile.mktemp()\n",
    "    !cat {file} | sort -k1,1 -k2,2n > {ts}\n",
    "    return ts\n",
    "\n",
    "def last_col(file):\n",
    "    try:\n",
    "        cols = len(pd.read_csv(file, sep='\\t', nrows=1, header=None).columns)\n",
    "        return pd.read_csv(file, sep='\\t', header=None, usecols=[cols - 1])[cols - 1]\n",
    "    except:\n",
    "        return np.zeros(0)  # Empty file"
   ],
   "metadata": {
    "collapsed": false
   }
  },
  {
   "cell_type": "markdown",
   "source": [
    "## Load peaks"
   ],
   "metadata": {
    "collapsed": false
   }
  },
  {
   "cell_type": "code",
   "execution_count": null,
   "outputs": [],
   "source": [
    "PATH = os.path.expanduser('~/data/2023_Immune_noise')\n",
    "IMMUNE_CELLS = ['BCell', 'TCell']\n",
    "MODIFICATIONS = ['H3K4me1']\n",
    "\n",
    "! mkdir -p {PATH}/pics"
   ],
   "metadata": {
    "collapsed": false
   }
  },
  {
   "cell_type": "code",
   "execution_count": null,
   "outputs": [],
   "source": [
    "def load_peaks_fdr(path, suffix, fdrs):\n",
    "    df_fdr = pd.DataFrame(columns=['file', 'modification', 'cell', 'fdr', 'peaks', 'avlength'],\n",
    "                          dtype=object)\n",
    "    for f in tqdm(os.listdir(path)):\n",
    "        if suffix not in f:\n",
    "            continue\n",
    "        fdr = next((fdr for fdr in fdrs if fdr in f), None)\n",
    "        cell = next((cc for cc in IMMUNE_CELLS if cc in f), None)\n",
    "        mod = next((m for m in MODIFICATIONS if m in f), None)\n",
    "        # print(f, fdr, cell, mod)\n",
    "        if fdr and cell and mod:\n",
    "            peaks_path = os.path.join(path, f)\n",
    "            ps, ls = lines(peaks_path), bedl(peaks_path)\n",
    "            avls = 0 if ps == 0 else sum(ls) / ps\n",
    "            df_fdr.loc[len(df_fdr)] = (f, mod, cell, fdr, ps, avls)\n",
    "    return df_fdr\n"
   ],
   "metadata": {
    "collapsed": false
   }
  },
  {
   "cell_type": "code",
   "execution_count": null,
   "outputs": [],
   "source": [
    "def load_peaks(path):\n",
    "    df_fdr_macs2 = load_peaks_fdr(os.path.join(path, 'macs2'), '.narrowPeak', ['0.05'])\n",
    "    df_fdr_macs2['file'] = [f'{path}/macs2/{f}' for f in df_fdr_macs2['file']]\n",
    "    df_fdr_macs2['tool'] = 'MACS2'\n",
    "    print('MACS2', len(df_fdr_macs2))\n",
    "\n",
    "    df_fdr_macs2broad = load_peaks_fdr(os.path.join(path, 'macs2'), '.broadPeak', ['0.1'])\n",
    "    df_fdr_macs2broad['file'] = [f'{path}/macs2/{f}' for f in df_fdr_macs2broad['file']]\n",
    "    df_fdr_macs2broad['tool'] = 'MACS2 broad'\n",
    "    print('MACS2 broad', len(df_fdr_macs2broad))\n",
    "\n",
    "    df_fdr_sicer = load_peaks_fdr(os.path.join(path, 'sicer'), 'summary-FDR', ['0.01'])\n",
    "    df_fdr_sicer['file'] = [f'{path}/sicer/{f}' for f in df_fdr_sicer['file']]\n",
    "    df_fdr_sicer['tool'] = 'SICER'\n",
    "    print('SICER', len(df_fdr_sicer))\n",
    "\n",
    "    df_fdr_span = load_peaks_fdr(os.path.join(path, 'span'), '.peak', ['0.05'])\n",
    "    df_fdr_span['file'] = [f'{path}/span/{f}' for f in df_fdr_span['file']]\n",
    "    df_fdr_span['tool'] = 'SPAN'\n",
    "    print('SPAN', len(df_fdr_span))\n",
    "\n",
    "    return pd.concat([df_fdr_macs2, df_fdr_macs2broad, df_fdr_sicer, df_fdr_span]).reset_index(drop=True)"
   ],
   "metadata": {
    "collapsed": false
   }
  },
  {
   "cell_type": "code",
   "execution_count": null,
   "outputs": [],
   "source": [
    "df_fdr_peaks_noise = load_peaks(PATH)\n",
    "df_fdr_peaks_noise['quality'] = 0\n",
    "for mln in [10, 5, 2, 1]:\n",
    "    df_fdr_peaks_noise.loc[[f'{mln}mln' in file for file in df_fdr_peaks_noise['file']], 'quality'] = mln\n",
    "df_fdr_original_peaks = load_peaks(os.path.expanduser('~/data/2023_Immune'))\n",
    "df_fdr_original_peaks['quality'] = 20\n",
    "df_fdr_peaks = pd.concat([df_fdr_peaks_noise, df_fdr_original_peaks]).reset_index(drop=True)"
   ],
   "metadata": {
    "collapsed": false
   }
  },
  {
   "cell_type": "code",
   "execution_count": null,
   "outputs": [],
   "source": [
    "TOOLS = ['MACS2', 'MACS2 broad', 'SPAN', 'SICER']\n",
    "palette = plt.cm.get_cmap('tab10')\n",
    "TOOLS_PALETTE = {t: palette(i) for i, t in enumerate(TOOLS)}"
   ],
   "metadata": {
    "collapsed": false
   }
  },
  {
   "cell_type": "markdown",
   "source": [
    "## Peaks number and lengths"
   ],
   "metadata": {
    "collapsed": false
   }
  },
  {
   "cell_type": "code",
   "execution_count": null,
   "outputs": [],
   "source": [
    "plt.figure(figsize=(10, 3))\n",
    "axs = [plt.subplot(1, 5, i + 1) for i in range(5)]\n",
    "\n",
    "for i, mln in enumerate([20, 10, 5, 2, 1]):\n",
    "    ax = axs[i]\n",
    "    g_results = sns.barplot(data=df_fdr_peaks[df_fdr_peaks['quality']==mln],\n",
    "                            x='tool', y='peaks', ax=ax,\n",
    "                            capsize=.2, errwidth=2, edgecolor=\"black\",\n",
    "                            palette=TOOLS_PALETTE,\n",
    "                            order=['MACS2', 'MACS2 broad', 'SPAN', 'SICER'])\n",
    "    ax.set_ylim(0, 160_000)\n",
    "    ax.xaxis.set_tick_params(rotation=90)\n",
    "    ax.title.set_text(f'H3K4me1 {mln}M')\n",
    "plt.tight_layout()\n",
    "plt.savefig(f'{PATH}/pics/H3K4me1_peaks.pdf', bbox_inches='tight', dpi=300)\n",
    "plt.show()"
   ],
   "metadata": {
    "collapsed": false
   }
  },
  {
   "cell_type": "code",
   "execution_count": null,
   "outputs": [],
   "source": [
    "ts = []\n",
    "for mln, file, tool in tqdm(zip(df_fdr_peaks['quality'], df_fdr_peaks['file'], df_fdr_peaks['tool'])):\n",
    "    lengths = bedl(file)\n",
    "    t = pd.DataFrame(dict(length=lengths))\n",
    "    t = t.sample(min(len(t), 10_000))\n",
    "    t['quality'] = mln\n",
    "    t['name'] = tool\n",
    "    ts.append(t)\n",
    "t = pd.concat(ts).reset_index(drop=True)\n",
    "del ts\n",
    "t.sample(10)"
   ],
   "metadata": {
    "collapsed": false
   }
  },
  {
   "cell_type": "code",
   "execution_count": null,
   "outputs": [],
   "source": [
    "plt.figure(figsize=(10, 3))\n",
    "axs = [plt.subplot(1, 5, i + 1) for i in range(5)]\n",
    "for i, mln in enumerate([20, 10, 5, 2, 1]):\n",
    "    ax = axs[i]\n",
    "    g_results = sns.boxplot(data=t[t['quality']==mln], x='name', y='length', ax=ax,\n",
    "                            palette=TOOLS_PALETTE,\n",
    "                            order=['MACS2', 'MACS2 broad', 'SPAN', 'SICER'],\n",
    "                            showfliers=False)\n",
    "    ax.title.set_text(f'H3K4me1 {mln}M')\n",
    "    ax.xaxis.set_tick_params(rotation=90)\n",
    "    ax.set_ylim([-10, 9_500])\n",
    "plt.tight_layout()\n",
    "plt.savefig(f'{PATH}/pics/H3K4me1_lengths.pdf', bbox_inches='tight', dpi=300)\n",
    "plt.show()"
   ],
   "metadata": {
    "collapsed": false
   }
  },
  {
   "cell_type": "markdown",
   "source": [
    "## Footprint"
   ],
   "metadata": {
    "collapsed": false
   }
  },
  {
   "cell_type": "code",
   "execution_count": null,
   "outputs": [],
   "source": [
    "ts = []\n",
    "for mln, file, tool in tqdm(zip(df_fdr_peaks['quality'], df_fdr_peaks['file'], df_fdr_peaks['tool'])):\n",
    "    coverage = bedl(file).sum()\n",
    "    ts.append((mln, tool, coverage))\n",
    "t = pd.DataFrame(data=ts, columns=['quality', 'name', 'coverage'])\n",
    "del ts\n",
    "t.sample(1)"
   ],
   "metadata": {
    "collapsed": false
   }
  },
  {
   "cell_type": "code",
   "execution_count": null,
   "outputs": [],
   "source": [
    "plt.figure(figsize=(10, 3))\n",
    "axs = [plt.subplot(1, 5, i + 1) for i in range(5)]\n",
    "for i, mln in enumerate([20, 10, 5, 2, 1]):\n",
    "    ax = axs[i]\n",
    "    g_results = sns.barplot(data=t[t['quality']==mln], x='name', y='coverage', ax=ax,\n",
    "                            palette=TOOLS_PALETTE,\n",
    "                            order=['MACS2', 'MACS2 broad', 'SPAN', 'SICER'])\n",
    "    ax.title.set_text(f'{mln}M')\n",
    "    ax.set_ylabel('Basepairs')\n",
    "    ax.set_ylim([0, 2.2e8])\n",
    "    ax.xaxis.set_tick_params(rotation=90)\n",
    "plt.tight_layout()\n",
    "plt.savefig(f'{PATH}/pics/H3K4me1_sumlength.pdf', bbox_inches='tight', dpi=300)\n",
    "plt.show()"
   ],
   "metadata": {
    "collapsed": false
   }
  },
  {
   "cell_type": "markdown",
   "source": [
    "## Jaccard vs original peaks"
   ],
   "metadata": {
    "collapsed": false
   }
  },
  {
   "cell_type": "code",
   "execution_count": null,
   "outputs": [],
   "source": [
    "import tempfile\n",
    "from itertools import product\n",
    "\n",
    "mln_bench_df = pd.DataFrame(\n",
    "    columns=['cell', 'name', 'full_peaks', 'full_peaks_len',\n",
    "             'quality', 'mln_peaks', 'mln_peaks_len',\n",
    "             'full_overlap', 'mln_overlap',\n",
    "             'overlap_len'],\n",
    "    dtype=object\n",
    ")\n",
    "\n",
    "tf = tempfile.mktemp()\n",
    "\n",
    "for c, tool in tqdm(product(IMMUNE_CELLS, TOOLS)):\n",
    "    print(c, tool)\n",
    "    t = df_fdr_peaks[(df_fdr_peaks['tool'] == tool) &\n",
    "                     (df_fdr_peaks['modification'] == 'H3K4me1') &\n",
    "                     (df_fdr_peaks['cell'] == c) &\n",
    "                     (df_fdr_peaks['quality'] == 20)]\n",
    "    if len(t) == 0:\n",
    "        continue\n",
    "    full_file = sorted_file(t['file'].values[0])\n",
    "    full_peaks = lines(full_file)\n",
    "    full_peaks_len = int(bedl(full_file).sum())\n",
    "    for mln in [10, 5, 2, 1]:\n",
    "        t = df_fdr_peaks[(df_fdr_peaks['tool'] == tool) &\n",
    "                         (df_fdr_peaks['modification'] == 'H3K4me1') &\n",
    "                         (df_fdr_peaks['cell'] == c) &\n",
    "                         (df_fdr_peaks['quality'] == mln)]\n",
    "        if len(t) == 0:\n",
    "            continue\n",
    "        mln_file = sorted_file(t['file'].values[0])\n",
    "        mln_peaks = lines(mln_file)\n",
    "        mln_peaks_len = int(bedl(mln_file).sum())\n",
    "        !bedtools intersect -a {full_file} -b {mln_file} -wa -u > {tf}\n",
    "        full_peaks_overlap = lines(tf)\n",
    "        !bedtools intersect -b {full_file} -a {mln_file} -wa -u > {tf}\n",
    "        mln_peaks_overlap = lines(tf)\n",
    "        !bedtools intersect -a {full_file} -b {mln_file} -wo > {tf}\n",
    "        overlap_len = int(last_col(tf).sum())\n",
    "        mln_bench_df.loc[len(mln_bench_df)] = \\\n",
    "            (c, tool,\n",
    "             full_peaks, full_peaks_len,\n",
    "             mln, mln_peaks, mln_peaks_len,\n",
    "             full_peaks_overlap, mln_peaks_overlap,\n",
    "             overlap_len)\n",
    "\n",
    "display(mln_bench_df.sample())"
   ],
   "metadata": {
    "collapsed": false
   }
  },
  {
   "cell_type": "code",
   "execution_count": null,
   "outputs": [],
   "source": [
    "mln_bench_df['precision'] = [d(a, b) for a, b in zip(mln_bench_df['mln_overlap'], mln_bench_df['mln_peaks'])]\n",
    "mln_bench_df['sensitivity'] = [d(a, b) for a, b in zip(mln_bench_df['full_overlap'], mln_bench_df['full_peaks'])]\n",
    "mln_bench_df['f1'] = [d(2, d(1, s + 1e-10) + d(1, p + 1e-10))\n",
    "                      for s, p in zip(mln_bench_df['sensitivity'], mln_bench_df['precision'])]\n",
    "\n",
    "mln_bench_df['precision_len'] = [d(a, b) for a, b in zip(mln_bench_df['overlap_len'], mln_bench_df['mln_peaks_len'])]\n",
    "mln_bench_df['sensitivity_len'] = [d(a, b) for a, b in zip(mln_bench_df['overlap_len'], mln_bench_df['full_peaks_len'])]\n",
    "mln_bench_df['f1_len'] = [d(2, d(1, s + 1e-10) + d(1, p + 1e-10))\n",
    "                          for s, p in zip(mln_bench_df['sensitivity_len'], mln_bench_df['precision_len'])]\n",
    "\n",
    "mln_bench_df['jaccard'] = [\n",
    "    d(o, p + g -o)\n",
    "    for p, g, o in zip(mln_bench_df['full_peaks_len'], mln_bench_df['mln_peaks_len'], mln_bench_df['overlap_len'])\n",
    "]\n",
    "mln_bench_df.sample(1)"
   ],
   "metadata": {
    "collapsed": false
   }
  },
  {
   "cell_type": "code",
   "execution_count": null,
   "outputs": [],
   "source": [
    "plt.figure(figsize=(9, 3))\n",
    "axs = [plt.subplot(1, 4, i + 1) for i in range(4)]\n",
    "for i, mln in enumerate([10, 5, 2, 1]):\n",
    "    ax = axs[i]\n",
    "    g_results = sns.barplot(data=mln_bench_df[mln_bench_df['quality']==mln],\n",
    "                            x='name', y='jaccard', ax=ax,\n",
    "                            capsize=.2, errwidth=2, edgecolor=\"black\",\n",
    "                            palette=TOOLS_PALETTE,\n",
    "                            order=['MACS2', 'MACS2 broad', 'SPAN', 'SICER'])\n",
    "    ax.title.set_text(f'H3K4me1 {mln}M')\n",
    "    ax.xaxis.set_tick_params(rotation=90)\n",
    "    ax.set_ylim([0, 0.8])\n",
    "plt.tight_layout()\n",
    "plt.savefig(f'{PATH}/pics/H3K4me1_jaccard.pdf', bbox_inches='tight', dpi=300)\n",
    "plt.show()"
   ],
   "metadata": {
    "collapsed": false
   }
  },
  {
   "cell_type": "markdown",
   "source": [
    "## Overlap H3K4me1"
   ],
   "metadata": {
    "collapsed": false
   }
  },
  {
   "cell_type": "code",
   "execution_count": null,
   "outputs": [],
   "source": [
    "import tempfile\n",
    "tf = tempfile.mktemp()\n",
    "\n",
    "bench_df = pd.DataFrame(\n",
    "    columns=['cell', 'name', 'peaks', 'peaks_len'],\n",
    "    dtype=object\n",
    ")\n",
    "\n",
    "ts = []\n",
    "for mln, c in tqdm(product([20, 10, 5, 2, 1], IMMUNE_CELLS)):\n",
    "    for tool in TOOLS:\n",
    "        t = df_fdr_peaks[(df_fdr_peaks['quality'] == mln) &\n",
    "                         (df_fdr_peaks['tool'] == tool) &\n",
    "                         (df_fdr_peaks['modification'] == 'H3K4me1') &\n",
    "                         (df_fdr_peaks['cell'] == c)]\n",
    "        if len(t) == 0:\n",
    "            continue\n",
    "        peaks_file = sorted_file(t['file'].values[0])\n",
    "        peaks = lines(peaks_file)\n",
    "        peaks_len = int(bedl(peaks_file).sum())\n",
    "        ts.append((c, mln, tool, peaks, peaks_len))\n",
    "        if tool == 'SPAN':\n",
    "            span_file = sorted_file(t['file'].values[0])\n",
    "    # Processing single tools information\n",
    "    for tool in TOOLS:\n",
    "        if tool == 'SPAN':\n",
    "            continue\n",
    "        t = df_fdr_peaks[(df_fdr_peaks['quality'] == mln) &\n",
    "                         (df_fdr_peaks['tool'] == tool) &\n",
    "                         (df_fdr_peaks['modification'] == 'H3K4me1') &\n",
    "                         (df_fdr_peaks['cell'] == c)]\n",
    "        if len(t) == 0:\n",
    "            continue\n",
    "        peaks_file = sorted_file(t['file'].values[0])\n",
    "        for name, args in [\n",
    "            (f'SPAN - {tool}', f' -a {span_file} -b {peaks_file} '),\n",
    "            (f'{tool} - SPAN', f' -b {span_file} -a {peaks_file} ')\n",
    "        ]:\n",
    "            !bedtools intersect {args} -wa -v > {tf}\n",
    "            peaks = lines(tf)\n",
    "            peaks_len = int(bedl(tf).sum())\n",
    "            ts.append((c, mln, name, peaks, peaks_len))\n",
    "\n",
    "bench_df = pd.DataFrame(data=ts, columns=['cell', 'quality', 'name', 'peaks', 'length'])\n",
    "del ts\n",
    "bench_df.sample(3)"
   ],
   "metadata": {
    "collapsed": false
   }
  },
  {
   "cell_type": "code",
   "execution_count": null,
   "outputs": [],
   "source": [
    "plt.figure(figsize=(11, 5))\n",
    "ax = plt.axes()\n",
    "g_results = sns.barplot(data=bench_df, hue='quality',\n",
    "                        x='name', y='peaks', ax=ax,\n",
    "                        hue_order=[20, 10, 5, 2, 1],\n",
    "                        capsize=.05, errwidth=2,\n",
    "                        order=['MACS2', 'MACS2 broad', 'SPAN', 'SICER',\n",
    "                               'SPAN - MACS2', 'SPAN - MACS2 broad', 'SPAN - SICER',\n",
    "                               'MACS2 - SPAN', 'MACS2 broad - SPAN', 'SICER - SPAN',\n",
    "                               ])\n",
    "ax.title.set_text('H3K4me1 peaks overlap on different quality')\n",
    "ax.set_ylabel('Peaks')\n",
    "ax.set_ylim([0, 100_000])\n",
    "ax.xaxis.set_tick_params(rotation=90)\n",
    "plt.tight_layout()\n",
    "plt.savefig(f'{PATH}/pics/H3K4me1_overlap.pdf', bbox_inches='tight', dpi=300)\n",
    "plt.show()"
   ],
   "metadata": {
    "collapsed": false
   }
  },
  {
   "cell_type": "code",
   "execution_count": null,
   "outputs": [],
   "source": [
    "plt.figure(figsize=(13, 4))\n",
    "axs = [plt.subplot(1, 5, i + 1) for i in range(5)]\n",
    "for i, mln in enumerate([20, 10, 5, 2, 1]):\n",
    "    ax = axs[i]\n",
    "    g_results = sns.barplot(data=bench_df[bench_df['quality']==mln],\n",
    "                            x='name', y='peaks', ax=ax,\n",
    "                            capsize=.2, errwidth=2,\n",
    "                            order=['MACS2', 'MACS2 broad', 'SPAN', 'SICER',\n",
    "                                   'SPAN - MACS2', 'SPAN - MACS2 broad', 'SPAN - SICER',\n",
    "                                   'MACS2 - SPAN', 'MACS2 broad - SPAN', 'SICER - SPAN',\n",
    "                                   ])\n",
    "    ax.title.set_text(f'{mln}M')\n",
    "    ax.set_ylabel('Peaks')\n",
    "    ax.set_ylim([0, 100_000])\n",
    "    ax.xaxis.set_tick_params(rotation=90)\n",
    "plt.tight_layout()\n",
    "plt.savefig(f'{PATH}/pics/H3K4me1_overlap_2.pdf', bbox_inches='tight', dpi=300)\n",
    "plt.show()"
   ],
   "metadata": {
    "collapsed": false
   }
  },
  {
   "cell_type": "markdown",
   "source": [
    "# Coverage"
   ],
   "metadata": {
    "collapsed": false
   }
  },
  {
   "cell_type": "code",
   "execution_count": null,
   "outputs": [],
   "source": [
    "# Fraction of reads in peaks\n",
    "IMMUNE_HG38_PATH_BW = os.path.expanduser('~/data/2023_Immune') + '/bw'\n",
    "\n",
    "\n",
    "def load_bws(path, m):\n",
    "    df_bws = pd.DataFrame(columns=['file', 'modification', 'cell'], dtype=object)\n",
    "    for f in tqdm(os.listdir(path)):\n",
    "        if '.bw' not in f:\n",
    "            continue\n",
    "        cell = next((cc for cc in IMMUNE_CELLS if cc in f), None)\n",
    "        if cell and m in f:\n",
    "            df_bws.loc[len(df_bws)] = ((os.path.join(path, f)), m, cell)\n",
    "    return df_bws"
   ],
   "metadata": {
    "collapsed": false
   }
  },
  {
   "cell_type": "code",
   "execution_count": null,
   "outputs": [],
   "source": [
    "bws_df = load_bws(IMMUNE_HG38_PATH_BW, 'H3K4me1')\n",
    "display(bws_df.sample(2))\n",
    "bws_control_df = load_bws(IMMUNE_HG38_PATH_BW, 'Control')\n",
    "display(bws_control_df.sample(2))"
   ],
   "metadata": {
    "collapsed": false
   }
  },
  {
   "cell_type": "code",
   "execution_count": null,
   "outputs": [],
   "source": [
    "CHROM_SIZES = {\n",
    "    c: s for _, (c, s) in pd.read_csv(os.path.join(PATH, 'hg38.chrom.sizes'),\n",
    "                                      sep='\\t', names=['chr', 'size']).iterrows() if '_' not in c\n",
    "}\n",
    "CHROM_SIZES"
   ],
   "metadata": {
    "collapsed": false
   }
  },
  {
   "cell_type": "code",
   "execution_count": null,
   "outputs": [],
   "source": [
    "import pyBigWig\n",
    "import tempfile\n",
    "from itertools import product\n",
    "\n",
    "tf = tempfile.mktemp()\n",
    "\n",
    "coverage_data = []\n",
    "\n",
    "for mln, c in tqdm(product([20, 10, 5, 2, 1], IMMUNE_CELLS)):\n",
    "    print(mln, c)\n",
    "    t = bws_df[(bws_df['modification'] == 'H3K4me1') &\n",
    "               (bws_df['cell'] == c)]\n",
    "    if len(t) == 0:\n",
    "        continue\n",
    "    bw_file = t['file'].values[0]\n",
    "    t = bws_control_df[bws_control_df['cell'] == c]\n",
    "    if len(t) == 0:\n",
    "        continue\n",
    "    bw_control_file = t['file'].values[0]\n",
    "\n",
    "    for tool in TOOLS:\n",
    "        t = df_fdr_peaks[(df_fdr_peaks['quality'] == mln) &\n",
    "                         (df_fdr_peaks['tool'] == tool) &\n",
    "                         (df_fdr_peaks['modification'] == 'H3K4me1') &\n",
    "                         (df_fdr_peaks['cell'] == c)]\n",
    "        if len(t) == 0:\n",
    "            continue\n",
    "        peaks_file = sorted_file(t['file'].values[0])\n",
    "        if lines(peaks_file) > 0:\n",
    "            t = pd.read_csv(peaks_file, sep='\\t', header=None)\n",
    "            positions = [f'{chr}:{start}-{end}' for chr, start, end in zip(t[0], t[1], t[2]) if chr in CHROM_SIZES]\n",
    "            lengths = [end - start for chr, start, end in zip(t[0], t[1], t[2]) if chr in CHROM_SIZES]\n",
    "            with pyBigWig.open(bw_file) as bw:\n",
    "                total_coverage = sum(bw.stats(chr, type='sum', exact=True)[0] for chr in t[0].unique() if chr in CHROM_SIZES)\n",
    "                peaks_coverage = [bw.stats(chr, start, end, type='sum', exact=True)[0]\n",
    "                                  for chr, start, end in zip(t[0], t[1], t[2]) if chr in CHROM_SIZES]\n",
    "            for pos, length, peak_coverage in zip(positions, lengths, peaks_coverage):\n",
    "                coverage_data.append(('H3K4me1', mln, c, tool, pos, length, 'treatment', peak_coverage, total_coverage))\n",
    "            with pyBigWig.open(bw_control_file) as bwc:\n",
    "                total_coverage = sum(bwc.stats(chr, type='sum', exact=True)[0] for chr in t[0].unique())\n",
    "                peaks_coverage = [bwc.stats(chr, start, end, type='sum', exact=True)[0]\n",
    "                                  for chr, start, end in zip(t[0], t[1], t[2])]\n",
    "            for pos, length, peak_coverage in zip(positions, lengths, peaks_coverage):\n",
    "                coverage_data.append(('H3K4me1', mln, c, tool, pos, length, 'control', peak_coverage, total_coverage))\n",
    "        if tool == 'SPAN':\n",
    "            span_file = peaks_file\n",
    "\n",
    "    # Processing single tools information\n",
    "    for tool in TOOLS:\n",
    "        if tool == 'SPAN':\n",
    "            continue\n",
    "        t = df_fdr_peaks[(df_fdr_peaks['quality'] == mln) &\n",
    "                         (df_fdr_peaks['tool'] == tool) &\n",
    "                         (df_fdr_peaks['modification'] == 'H3K4me1') &\n",
    "                         (df_fdr_peaks['cell'] == c)]\n",
    "        if len(t) == 0:\n",
    "            continue\n",
    "        peaks_file = sorted_file(t['file'].values[0])\n",
    "        for name, args in [\n",
    "            (f'SPAN - {tool}', f' -a {span_file} -b {peaks_file} '),\n",
    "            (f'{tool} - SPAN', f' -b {span_file} -a {peaks_file} ')\n",
    "        ]:\n",
    "            !bedtools intersect {args} -wa -v > {tf}\n",
    "            if lines(tf) > 0:\n",
    "                t = pd.read_csv(tf, sep='\\t', header=None)\n",
    "                positions = [f'{chr}:{start}-{end}' for chr, start, end in zip(t[0], t[1], t[2]) if chr in CHROM_SIZES]\n",
    "                lengths = [end - start for chr, start, end in zip(t[0], t[1], t[2]) if chr in CHROM_SIZES]\n",
    "                with pyBigWig.open(bw_file) as bw:\n",
    "                    total_coverage = sum(bw.stats(chr, type='sum', exact=True)[0] for chr in t[0].unique() if chr in CHROM_SIZES)\n",
    "                    peaks_coverage = [bw.stats(chr, start, end, type='sum', exact=True)[0]\n",
    "                                      for chr, start, end in zip(t[0], t[1], t[2]) if chr in CHROM_SIZES]\n",
    "                for pos, length, peak_coverage in zip(positions, lengths, peaks_coverage):\n",
    "                    coverage_data.append(('H3K4me1', mln, c, name, pos, length, 'treatment', peak_coverage, total_coverage))\n",
    "                with pyBigWig.open(bw_control_file) as bwc:\n",
    "                    total_coverage = sum(bwc.stats(chr, type='sum', exact=True)[0] for chr in t[0].unique())\n",
    "                    peaks_coverage = [bwc.stats(chr, start, end, type='sum', exact=True)[0]\n",
    "                                      for chr, start, end in zip(t[0], t[1], t[2])]\n",
    "                for pos, length, peak_coverage in zip(positions, lengths, peaks_coverage):\n",
    "                    coverage_data.append(('H3K4me1', mln, c, name, pos, length, 'control', peak_coverage, total_coverage))\n",
    "\n",
    "df_coverage = pd.DataFrame(\n",
    "    coverage_data,\n",
    "    columns=['modification', 'quality', 'cell', 'name', 'position', 'length', 'type', 'coverage', 'total_coverage']\n",
    ")\n",
    "del coverage_data\n",
    "df_coverage.sample(5)"
   ],
   "metadata": {
    "collapsed": false
   }
  },
  {
   "cell_type": "code",
   "execution_count": null,
   "outputs": [],
   "source": [
    "df_coverage['rpm'] = df_coverage['coverage'] / (df_coverage['total_coverage'] / 1e6)\n",
    "df_coverage['rpkm'] = df_coverage['rpm'] / (df_coverage['length'] / 1e3)"
   ],
   "metadata": {
    "collapsed": false
   }
  },
  {
   "cell_type": "code",
   "execution_count": null,
   "outputs": [],
   "source": [
    "plt.figure(figsize=(16, 6))\n",
    "axs = [plt.subplot(1, 5, i + 1) for i in range(5)]\n",
    "for i, mln in enumerate([20, 10, 5, 2, 1]):\n",
    "    ax = axs[i]\n",
    "    g_results = sns.boxplot(data=df_coverage[df_coverage['quality'] == mln],\n",
    "                            x='name', y='rpkm', hue='type',\n",
    "                            order=['MACS2', 'MACS2 broad', 'SPAN', 'SICER',\n",
    "                                   'SPAN - MACS2', 'SPAN - MACS2 broad', 'SPAN - SICER',\n",
    "                                   'MACS2 - SPAN', 'MACS2 broad - SPAN', 'SICER - SPAN',\n",
    "                                   ],\n",
    "                            showfliers=False, ax=ax)\n",
    "    ax.xaxis.set_tick_params(rotation=90)\n",
    "    ax.set_ylabel('RPKM')\n",
    "    ax.set_ylim(-1, 80)\n",
    "    ax.title.set_text(f'{mln}M')\n",
    "\n",
    "plt.tight_layout()\n",
    "plt.savefig(f'{PATH}/pics/H3K4me1_coverage.pdf', bbox_inches='tight', dpi=300)\n",
    "plt.show()"
   ],
   "metadata": {
    "collapsed": false
   }
  },
  {
   "cell_type": "markdown",
   "source": [
    "# ChromHMM"
   ],
   "metadata": {
    "collapsed": false
   }
  },
  {
   "cell_type": "code",
   "execution_count": null,
   "outputs": [],
   "source": [
    "CHROMHMM_MAP = {\n",
    "    'BCell': os.path.expanduser('~/data/2023_Immune') + '/chromhmm/BCell_Chromhmm_hg38_ENCFF885QXH.bed',\n",
    "    'TCell': os.path.expanduser('~/data/2023_Immune') + '/chromhmm/TCell_Chromhmm_hg38_ENCFF037LJR.bed',\n",
    "    'Monocyte': os.path.expanduser('~/data/2023_Immune') + '/chromhmm/Monocyte_Chromhmm_hg38_ENCFF560DUU.bed',\n",
    "}\n",
    "\n",
    "print('Split chromHMM into separate files')\n",
    "CHROMM_STATES = set()\n",
    "for c, chromhmm in CHROMHMM_MAP.items():\n",
    "    print(c)\n",
    "    t = pd.read_csv(chromhmm, sep='\\t', header=None, usecols=[3])[3]\n",
    "    for state in t.unique():\n",
    "        # print(state)\n",
    "        state = state.replace('/', '_')\n",
    "        CHROMM_STATES.add(state)\n",
    "        f = chromhmm.replace('.bed', f'_{state}.bed')\n",
    "        ! cat {chromhmm} | grep {state} > {f}\n",
    "\n",
    "CHROMM_STATES = list(sorted(CHROMM_STATES))\n",
    "print(CHROMM_STATES)"
   ],
   "metadata": {
    "collapsed": false
   }
  },
  {
   "cell_type": "code",
   "execution_count": null,
   "outputs": [],
   "source": [
    "import tempfile\n",
    "\n",
    "tf = tempfile.mktemp()\n",
    "tf2 = tempfile.mktemp()\n",
    "\n",
    "data = []\n",
    "\n",
    "for mln, c in tqdm(product([20, 10, 5, 2, 1], IMMUNE_CELLS)):\n",
    "    print(mln, c)\n",
    "    if c not in CHROMHMM_MAP:\n",
    "        continue\n",
    "    chromhmm = CHROMHMM_MAP[c]\n",
    "    for tool in TOOLS:\n",
    "        t = df_fdr_peaks[(df_fdr_peaks['quality'] == mln) &\n",
    "                         (df_fdr_peaks['tool'] == tool) &\n",
    "                         (df_fdr_peaks['modification'] == 'H3K4me1') &\n",
    "                         (df_fdr_peaks['cell'] == c)]\n",
    "        if len(t) == 0:\n",
    "            continue\n",
    "        peaks_file = sorted_file(t['file'].values[0])\n",
    "        peaks = lines(peaks_file)\n",
    "        row = [c, mln, tool, peaks]\n",
    "        for state in CHROMM_STATES:\n",
    "            state_file = sorted_file(chromhmm.replace('.bed', f'_{state}.bed'))\n",
    "            !bedtools intersect -a {peaks_file} -b {state_file} -wa -u > {tf}\n",
    "            state_peaks = lines(tf)\n",
    "            row.append(state_peaks)\n",
    "        data.append(row)\n",
    "\n",
    "        if tool == 'SPAN':\n",
    "            span_file = peaks_file\n",
    "\n",
    "    # Processing single tools information\n",
    "    for tool in TOOLS:\n",
    "        if tool == 'SPAN':\n",
    "            continue\n",
    "        t = df_fdr_peaks[(df_fdr_peaks['quality'] == mln) &\n",
    "                         (df_fdr_peaks['tool'] == tool) &\n",
    "                         (df_fdr_peaks['modification'] == 'H3K4me1') &\n",
    "                         (df_fdr_peaks['cell'] == c)]\n",
    "        if len(t) == 0:\n",
    "            continue\n",
    "        peaks_file = sorted_file(t['file'].values[0])\n",
    "        for name, args in [\n",
    "            (f'SPAN - {tool}', f' -a {span_file} -b {peaks_file} '),\n",
    "            (f'{tool} - SPAN', f' -b {span_file} -a {peaks_file} ')\n",
    "        ]:\n",
    "            ! bedtools intersect {args} -wa -v > {tf}\n",
    "            peaks = lines(tf)\n",
    "            row = [c, mln, name, peaks]\n",
    "            for state in CHROMM_STATES:\n",
    "                state_file = sorted_file(chromhmm.replace('.bed', f'_{state}.bed'))\n",
    "                !bedtools intersect -a {tf} -b {state_file} -wa -u > {tf2}\n",
    "                state_peaks = lines(tf2)\n",
    "                row.append(state_peaks)\n",
    "            data.append(row)\n",
    "\n",
    "chromhmm_df = pd.DataFrame(data, columns=['cell', 'quality', 'name', 'peaks'] + CHROMM_STATES)\n",
    "chromhmm_df"
   ],
   "metadata": {
    "collapsed": false
   }
  },
  {
   "cell_type": "code",
   "execution_count": null,
   "outputs": [],
   "source": [
    "plt.figure(figsize=(25, 3))\n",
    "axs = [plt.subplot(1, 5, i + 1) for i in range(5)]\n",
    "for i, mln in enumerate([20, 10, 5, 2, 1]):\n",
    "    chromhmm_qual_df = chromhmm_df[chromhmm_df['quality'] == mln]\n",
    "    chrommm_df_mean = chromhmm_qual_df[['name'] + CHROMM_STATES].groupby('name').mean()\n",
    "    chrommm_df_mean = chrommm_df_mean.loc[['MACS2', 'MACS2 broad', 'SPAN', 'SICER',\n",
    "                                       'SPAN - MACS2', 'SPAN - MACS2 broad', 'SPAN - SICER',\n",
    "                                       'MACS2 - SPAN', 'MACS2 broad - SPAN', 'SICER - SPAN',\n",
    "                                       ]]\n",
    "    ax = axs[i]\n",
    "    sns.heatmap(chrommm_df_mean, cmap='coolwarm', ax=ax)\n",
    "    ax.xaxis.set_tick_params(rotation=90)\n",
    "    ax.set_ylabel('RPKM')\n",
    "    # ax.set_ylim(-1, 85)\n",
    "    ax.title.set_text(f'{mln}M')\n",
    "\n",
    "plt.tight_layout()\n",
    "plt.savefig(f'{PATH}/pics/H3K4me1_chromhmm.pdf', bbox_inches='tight', dpi=300)\n",
    "plt.show()"
   ],
   "metadata": {
    "collapsed": false
   }
  },
  {
   "cell_type": "code",
   "execution_count": null,
   "outputs": [],
   "source": [],
   "metadata": {
    "collapsed": false
   }
  }
 ],
 "metadata": {
  "anaconda-cloud": {},
  "kernelspec": {
   "display_name": "Python 3",
   "language": "python",
   "name": "python3"
  },
  "language_info": {
   "codemirror_mode": {
    "name": "ipython",
    "version": 3
   },
   "file_extension": ".py",
   "mimetype": "text/x-python",
   "name": "python",
   "nbconvert_exporter": "python",
   "pygments_lexer": "ipython3",
   "version": "3.8.5"
  },
  "toc": {
   "nav_menu": {},
   "number_sections": true,
   "sideBar": true,
   "skip_h1_title": false,
   "toc_cell": false,
   "toc_position": {},
   "toc_section_display": "block",
   "toc_window_display": false
  }
 },
 "nbformat": 4,
 "nbformat_minor": 2
}
