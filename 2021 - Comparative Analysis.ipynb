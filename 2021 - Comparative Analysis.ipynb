{
 "cells": [
  {
   "cell_type": "markdown",
   "metadata": {
    "heading_collapsed": true
   },
   "source": [
    "# 2021 Comparative analysis"
   ]
  },
  {
   "cell_type": "code",
   "execution_count": null,
   "metadata": {
    "ExecuteTime": {
     "end_time": "2019-03-07T11:38:12.254230Z",
     "start_time": "2019-03-07T11:38:04.952806Z"
    },
    "hidden": true
   },
   "outputs": [],
   "source": [
    "%matplotlib inline\n",
    "%config InlineBackend.figure_format='retina'\n",
    "\n",
    "from IPython.display import display\n",
    "import pandas as pd\n",
    "\n",
    "import seaborn as sns\n",
    "sns.set_style(\"whitegrid\")\n",
    "import matplotlib.pyplot as plt\n",
    "from matplotlib.backends.backend_pdf import PdfPages\n",
    "import numpy as np\n",
    "import scipy as sp\n",
    "import os, re\n",
    "import glob\n",
    "from tqdm.auto import tqdm\n",
    "import subprocess, tempfile\n",
    "\n",
    "import plotly.graph_objects as go\n",
    "import plotly.express as px"
   ]
  },
  {
   "cell_type": "code",
   "execution_count": null,
   "metadata": {},
   "outputs": [],
   "source": [
    "# Ignore H3K27ac, H3K27ac because of a single replicate, bad quality\n",
    "MODIFICATIONS = ['H3K27me3', 'H3K4me3', 'H3K4me1', 'H3K36me3',\n",
    "                'H3K9me3', 'H3K9ac', 'H3K79me2', 'H3K56ac']  "
   ]
  },
  {
   "cell_type": "markdown",
   "metadata": {},
   "source": [
    "# MACS2"
   ]
  },
  {
   "cell_type": "code",
   "execution_count": null,
   "metadata": {
    "ExecuteTime": {
     "end_time": "2019-03-07T11:38:48.419134Z",
     "start_time": "2019-03-07T11:38:12.260987Z"
    },
    "scrolled": true
   },
   "outputs": [],
   "source": [
    "MACS2_FOLDER='/mnt/stripe/shpynov/2021_comparative_analysis/macs2/'\n",
    "MACS2_LEVELS = ['q0.05', 'broad0.05']\n",
    "\n",
    "dfm = pd.DataFrame(columns=['modification', 'replicate', 'level', 'file', 'peaks', 'length'], dtype=object)\n",
    "for file in tqdm(glob.glob(MACS2_FOLDER + '/*.*Peak')):\n",
    "    if 'gapped' in file:\n",
    "        continue\n",
    "    level = next((l for l in MACS2_LEVELS if f'_{l}' in file), None)\n",
    "    modification = next((m for m in MODIFICATIONS if f'_{m}' in file), None)\n",
    "    if level and modification:\n",
    "        replicate = os.path.basename(file).replace(f'H1_{modification}_', '')[:3]\n",
    "        out = ! awk '{{N+=1;L+=($$3-$$2)}} END{{print(N,L)}}' {file}\n",
    "        if out[0].strip() != '':\n",
    "            peaks, length = out[0].split(' ') \n",
    "        else:\n",
    "            peaks, length = 0, 0\n",
    "        dfm.loc[len(dfm)] = (modification, replicate, f'macs2 {level}', file, peaks, length)\n",
    "        \n",
    "# Fix types\n",
    "dfm['peaks'] = dfm['peaks'].astype(int)\n",
    "dfm['length'] = dfm['length'].astype(int)"
   ]
  },
  {
   "cell_type": "code",
   "execution_count": null,
   "metadata": {
    "scrolled": true
   },
   "outputs": [],
   "source": [
    "dfm"
   ]
  },
  {
   "cell_type": "code",
   "execution_count": null,
   "metadata": {},
   "outputs": [],
   "source": [
    "macs2levels2process = set(['macs2 q0.05', 'macs2 broad0.05'])"
   ]
  },
  {
   "cell_type": "markdown",
   "metadata": {},
   "source": [
    "# SICER"
   ]
  },
  {
   "cell_type": "code",
   "execution_count": null,
   "metadata": {},
   "outputs": [],
   "source": [
    "SICER_FOLDER='/mnt/stripe/shpynov/2021_comparative_analysis//sicer'\n",
    "SICER_LEVELS = ['FDR0.05']\n",
    "\n",
    "dfsc = pd.DataFrame(columns=['modification', 'replicate', 'level', 'file', 'peaks', 'length'], dtype=object)\n",
    "for file in tqdm(glob.glob(SICER_FOLDER + '/*islands-summary*')):\n",
    "    level = next((l for l in SICER_LEVELS if f'-{l}' in file), None)\n",
    "    modification = next((m for m in MODIFICATIONS if f'_{m}' in file), None)\n",
    "    if level and modification:\n",
    "        replicate = os.path.basename(file).replace(f'H1_{modification}_', '')[:3]\n",
    "        out = ! awk '{{N+=1;L+=($$3-$$2)}} END{{print(N,L)}}' {file}\n",
    "        if out[0].strip() != '':\n",
    "            peaks, length = out[0].split(' ') \n",
    "        else:\n",
    "            peaks, length = 0, 0\n",
    "        dfsc.loc[len(dfsc)] = (modification, replicate, f'sicer {level}', file, peaks, length)\n",
    "\n",
    "# Fix types\n",
    "dfsc['peaks'] = dfsc['peaks'].astype(int)\n",
    "dfsc['length'] = dfsc['length'].astype(int)"
   ]
  },
  {
   "cell_type": "code",
   "execution_count": null,
   "metadata": {
    "scrolled": true
   },
   "outputs": [],
   "source": [
    "dfsc"
   ]
  },
  {
   "cell_type": "code",
   "execution_count": null,
   "metadata": {},
   "outputs": [],
   "source": [
    "sicerlevels2process = set(['sicer FDR0.05'])"
   ]
  },
  {
   "cell_type": "markdown",
   "metadata": {},
   "source": [
    "# SPAN"
   ]
  },
  {
   "cell_type": "code",
   "execution_count": null,
   "metadata": {},
   "outputs": [],
   "source": [
    "SPAN_FOLDER='/mnt/stripe/shpynov/2021_comparative_analysis/span'\n",
    "GAPS = [5]\n",
    "FDRS = ['0.05']\n",
    "# SPAN_LEVELS = ['200_1E-6_5', '200_0.01_5']\n",
    "SPAN_LEVELS = []\n",
    "for gap in GAPS:\n",
    "    for fdr in FDRS:\n",
    "        SPAN_LEVELS.append(f'200_{fdr}_{gap}')\n",
    "\n",
    "dfs = pd.DataFrame(columns=['modification', 'replicate', 'level', 'file', 'peaks', 'length'], dtype=object)\n",
    "for file in tqdm(glob.glob(SPAN_FOLDER + '/*.peak')):\n",
    "    if 'Input' in file:\n",
    "        continue\n",
    "    level = next((l for l in SPAN_LEVELS if f'_{l}' in file), None)\n",
    "    modification = next((m for m in MODIFICATIONS if f'_{m}' in file), None)\n",
    "    if level and modification:\n",
    "        replicate = os.path.basename(file).replace(f'H1_{modification}_', '')[:3]\n",
    "        out = ! awk '{{N+=1;L+=($$3-$$2)}} END{{print(N,L)}}' {file}\n",
    "        if out[0].strip() != '':\n",
    "            peaks, length = out[0].split(' ') \n",
    "        else:\n",
    "            peaks, length = 0, 0\n",
    "        dfs.loc[len(dfs)] = (modification, replicate, f'span {level}', file, peaks, length)\n",
    "        \n",
    "# Fix types\n",
    "dfs['peaks'] = dfs['peaks'].astype(int)\n",
    "dfs['length'] = dfs['length'].astype(int)"
   ]
  },
  {
   "cell_type": "code",
   "execution_count": null,
   "metadata": {
    "scrolled": true
   },
   "outputs": [],
   "source": [
    "dfs"
   ]
  },
  {
   "cell_type": "code",
   "execution_count": null,
   "metadata": {},
   "outputs": [],
   "source": [
    "import re\n",
    "dfs['fdr'] = [float(re.sub('span 200_|_(0|5|10)', '', l)) for l in dfs['level']]\n",
    "dfs['gap'] = [int(re.sub('.*_', '', l)) for l in dfs['level']]\n",
    "dfs.sort_values(by=['fdr', 'gap'], inplace=True)\n",
    "dfs.head()"
   ]
  },
  {
   "cell_type": "code",
   "execution_count": null,
   "metadata": {},
   "outputs": [],
   "source": [
    "spanlevels2process = set(['span 200_0.05_5'])"
   ]
  },
  {
   "cell_type": "markdown",
   "metadata": {},
   "source": [
    "# Summary"
   ]
  },
  {
   "cell_type": "code",
   "execution_count": null,
   "metadata": {},
   "outputs": [],
   "source": [
    "dfa = pd.concat([dfm.loc[[l in macs2levels2process for l in dfm['level']]],\n",
    "                 dfsc.loc[[l in sicerlevels2process for l in dfsc['level']]],\n",
    "                 dfs.loc[[l in spanlevels2process for l in dfs['level']]]])"
   ]
  },
  {
   "cell_type": "code",
   "execution_count": null,
   "metadata": {},
   "outputs": [],
   "source": [
    "dfa['avg_length'] = dfa['length'] / dfa['peaks']\n",
    "dfa.loc[~np.isfinite(dfa[\"avg_length\"]), \"avg_length\"] = 0.0"
   ]
  },
  {
   "cell_type": "code",
   "execution_count": null,
   "metadata": {},
   "outputs": [],
   "source": [
    "# # List file to create session\n",
    "# for m in MODIFICATIONS:\n",
    "#     for c in CELLS:\n",
    "#         bw = glob.glob(f'/mnt/stripe/shpynov/2020_roadmapepigenomics/bams_bws/*{c}.{m}.*.bw')[0]\n",
    "#         print(bw)\n",
    "#         dfcm = dfa.loc[np.logical_and(dfa['cell']==c, dfa['modification']==m)]\n",
    "#         for l in sorted(set(dfa['level'])):\n",
    "#             peaks = list(dfcm.loc[dfcm['level'] == l]['file'])\n",
    "#             if peaks:\n",
    "#                 peaks = peaks[0]\n",
    "#                 print(f'{os.path.dirname(peaks)}/bb/{os.path.basename(peaks)}.bb')"
   ]
  },
  {
   "cell_type": "markdown",
   "metadata": {},
   "source": [
    "# Group analysis"
   ]
  },
  {
   "cell_type": "code",
   "execution_count": null,
   "metadata": {},
   "outputs": [],
   "source": [
    "def plot_data_cells(df, cid, value, description):\n",
    "    cids = sorted(set(df[cid]))\n",
    "    axs = {}\n",
    "    total = len(cids) * len(MODIFICATIONS)\n",
    "    fig = plt.figure(figsize=(int(total * .5), 4))\n",
    "    offset = 0\n",
    "    for m in MODIFICATIONS:\n",
    "        data = df.loc[df['modification'] == m].sort_values(by=[cid])\n",
    "        xlabels = []\n",
    "        for c in data[cid]:\n",
    "            if c not in xlabels:\n",
    "                xlabels.append(c)\n",
    "        w = len(cids)\n",
    "        ax = plt.subplot2grid((1, total), (0, offset), colspan=w)\n",
    "\n",
    "        sns.barplot(data=data, \n",
    "                     x=cid, y=value,\n",
    "                     capsize=.2, errwidth=2,\n",
    "                     edgecolor=\"black\",\n",
    "                     ax = ax)\n",
    "\n",
    "        sns.swarmplot(data=data,\n",
    "                      x=cid, y=value,\n",
    "                      size=1,\n",
    "                      color=\"black\",\n",
    "                      alpha=0.5,\n",
    "                      ax = ax)\n",
    "        ax.legend().set_visible(False)\n",
    "        axs[ax] = plt.ylim()\n",
    "        if offset > 0:\n",
    "            ax.get_yaxis().set_ticklabels([])\n",
    "            ax.set_ylabel('')\n",
    "        else:\n",
    "            ax.set_ylabel(description)\n",
    "        \n",
    "        offset += w\n",
    "        ax.set_xlabel('')\n",
    "        ax.set_title(m)\n",
    "        plt.xticks(range(0, len(xlabels)), xlabels, rotation=45)\n",
    "            \n",
    "    ymin = np.min([v[0] for v in axs.values()])\n",
    "    ymax = np.max([v[1] for v in axs.values()])\n",
    " \n",
    "    for ax in axs.keys():\n",
    "        ax.set_ylim(bottom = ymin, top = ymax)\n",
    "    plt.tight_layout()"
   ]
  },
  {
   "cell_type": "code",
   "execution_count": null,
   "metadata": {},
   "outputs": [],
   "source": [
    "plot_data_cells(dfa, 'level', 'peaks', 'Peaks')\n",
    "plt.show()\n",
    "plot_data_cells(dfa, 'level', 'avg_length', 'Average peak length')\n",
    "plt.show()"
   ]
  },
  {
   "cell_type": "markdown",
   "metadata": {},
   "source": [
    "# Consistency analysis"
   ]
  },
  {
   "cell_type": "code",
   "execution_count": null,
   "metadata": {},
   "outputs": [],
   "source": [
    "import tempfile\n",
    "\n",
    "def bedl(file):\n",
    "    try:\n",
    "        tf = pd.read_csv(file, sep='\\t', header=None)\n",
    "        return (tf[2] - tf[1]).sum()\n",
    "    except:\n",
    "        return 0. # Empty file\n",
    "\n",
    "tools_comparison = pd.DataFrame(columns=['modification', 'replicate', 'tool1', 'tool2',\n",
    "                                         'peaks1', 'peaks2', 'length1', 'length2',\n",
    "                                         'overlap1', 'overlap2', 'intersect'], dtype=object)\n",
    "\n",
    "tools = list(sorted(set(dfa['level'])))\n",
    "for m in tqdm(sorted(set(dfa['modification']))):\n",
    "    print(m)\n",
    "    t = dfa.loc[dfa['modification'] == m]\n",
    "    for r in sorted(set(t['replicate'])):\n",
    "        for i in range(len(tools)):\n",
    "            for j in range(i + 1, len(tools)):\n",
    "                t1 = t.loc[(t['replicate'] == r) & (t['level'] == tools[i])]\n",
    "                t2 = t.loc[(t['replicate'] == r) & (t['level'] == tools[j])]\n",
    "                m = t1['modification'].values[0]\n",
    "                file1 = t1['file'].values[0]\n",
    "                peaks1 = t1['peaks'].values[0]\n",
    "                length1 = bedl(file1)\n",
    "                file2 = t2['file'].values[0]\n",
    "                peaks2 = t2['peaks'].values[0]\n",
    "                length2 = bedl(file2)\n",
    "                overlap1 = !bedtools intersect -a {file1} -b {file2} -wa -u | wc -l\n",
    "                overlap1 = int(overlap1[0])\n",
    "                overlap2 = !bedtools intersect -b {file1} -a {file2} -wa -u | wc -l            \n",
    "                overlap2 = int(overlap2[0])            \n",
    "                tf = tempfile.mktemp() \n",
    "                !bedtools intersect -b {file1} -a {file2} > {tf}\n",
    "                intersectionl = bedl(tf)\n",
    "                tools_comparison.loc[len(tools_comparison)] = \\\n",
    "                    (m, r, tools[i], tools[j], peaks1, peaks2, length1, length2, \n",
    "                     overlap1, overlap2, intersectionl)\n",
    "            \n",
    "tools_comparison"
   ]
  },
  {
   "cell_type": "code",
   "execution_count": null,
   "metadata": {},
   "outputs": [],
   "source": [
    "to = pd.DataFrame(columns=['Modification', 'Replicate', 'Comparison', 'Overlap'], dtype=object)\n",
    "for _, row in tools_comparison.iterrows():\n",
    "    m = row['modification']\n",
    "    r = row['replicate']\n",
    "    t1 = row['tool1']\n",
    "    t2 = row['tool2']\n",
    "    peaks1 = row['peaks1']\n",
    "    peaks2 = row['peaks2']\n",
    "    overlap1 = row['overlap1']\n",
    "    overlap2 = row['overlap2']    \n",
    "    to.loc[len(to)] = (m, r, f'Comparison {t1} vs {t2}', overlap1 / peaks1 if peaks1 !=0 else 0)\n",
    "    to.loc[len(to)] = (m, r, f'Comparison {t2} vs {t1}', overlap2 / peaks2 if peaks2 !=0 else 0)\n",
    "\n",
    "display(to) \n",
    "\n",
    "plt.figure(figsize=(18, 4))\n",
    "sns.barplot(data=to.loc[['span' in c for c in to['Comparison']]], \n",
    "            x='Modification', y='Overlap', hue='Comparison', capsize=.1, errwidth=2, edgecolor=\"black\")\n",
    "plt.show()"
   ]
  },
  {
   "cell_type": "code",
   "execution_count": null,
   "metadata": {},
   "outputs": [],
   "source": [
    "tj = pd.DataFrame(columns=['Modification', 'Replicate', 'Comparison', 'Jaccard'], dtype=object)\n",
    "for _, row in tools_comparison.iterrows():\n",
    "    m = row['modification']\n",
    "    r = row['replicate']\n",
    "    t1 = row['tool1']\n",
    "    t2 = row['tool2']\n",
    "    length1 = row['length1']\n",
    "    length2 = row['length2']\n",
    "    intersection = row['intersect']\n",
    "    try:\n",
    "        jaccard = intersection / (length1 + length2 - intersection)\n",
    "    except:\n",
    "        jaccard = 0\n",
    "    tj.loc[len(tj)] = (m, r, f'Comparison {t1} vs {t2}', jaccard)\n",
    "\n",
    "display(tj) \n",
    "\n",
    "plt.figure(figsize=(18, 4))\n",
    "sns.barplot(data=tj.loc[['span' in c for c in tj['Comparison']]], \n",
    "            x='Modification', y='Jaccard', hue='Comparison', capsize=.1, errwidth=2, edgecolor=\"black\")\n",
    "plt.show()"
   ]
  },
  {
   "cell_type": "code",
   "execution_count": null,
   "metadata": {},
   "outputs": [],
   "source": []
  }
 ],
 "metadata": {
  "kernelspec": {
   "display_name": "Python 3",
   "language": "python",
   "name": "python3"
  },
  "language_info": {
   "codemirror_mode": {
    "name": "ipython",
    "version": 3
   },
   "file_extension": ".py",
   "mimetype": "text/x-python",
   "name": "python",
   "nbconvert_exporter": "python",
   "pygments_lexer": "ipython3",
   "version": "3.8.5"
  },
  "toc": {
   "nav_menu": {},
   "number_sections": true,
   "sideBar": true,
   "skip_h1_title": false,
   "toc_cell": false,
   "toc_position": {},
   "toc_section_display": "block",
   "toc_window_display": true
  }
 },
 "nbformat": 4,
 "nbformat_minor": 2
}
