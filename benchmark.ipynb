{
 "cells": [
  {
   "metadata": {},
   "cell_type": "markdown",
   "source": [
    "# Benchmark Speed Analysis\n",
    "\n",
    "Launch the script with logging to capture benchmark data:\n",
    "```bash\n",
    "benchmark.sh 2>&1 | tee benchmark.txt\n",
    "```\n",
    "\n"
   ],
   "id": "d2a3fc175629d154"
  },
  {
   "metadata": {
    "ExecuteTime": {
     "end_time": "2025-07-07T12:53:38.093048Z",
     "start_time": "2025-07-07T12:53:38.061364Z"
    }
   },
   "cell_type": "code",
   "source": [
    "%matplotlib inline\n",
    "%config InlineBackend.figure_format='retina'\n",
    "\n",
    "import pandas as pd\n",
    "import seaborn as sns\n",
    "from tqdm.auto import tqdm\n",
    "\n",
    "import matplotlib.pyplot as plt\n",
    "import numpy as np\n",
    "import os\n",
    "import re\n",
    "import tempfile\n",
    "sns.set_theme(style=\"whitegrid\")\n"
   ],
   "id": "initial_id",
   "outputs": [],
   "execution_count": 2
  },
  {
   "metadata": {
    "ExecuteTime": {
     "end_time": "2025-07-07T12:53:38.120675Z",
     "start_time": "2025-07-07T12:53:38.115974Z"
    }
   },
   "cell_type": "code",
   "source": "BENCHMARK_FILE = os.path.expanduser('~/data/2025_benchmark/benchmark.txt')",
   "id": "d8439093543df472",
   "outputs": [],
   "execution_count": 3
  },
  {
   "metadata": {
    "ExecuteTime": {
     "end_time": "2025-07-07T12:53:38.163146Z",
     "start_time": "2025-07-07T12:53:38.152629Z"
    }
   },
   "cell_type": "code",
   "source": [
    "def parse_benchmark_file(file_path):\n",
    "    results = []\n",
    "    current_block = None\n",
    "    in_job_section = False\n",
    "    current_job = None\n",
    "\n",
    "    with open(file_path, 'r') as f:\n",
    "        for line in f:\n",
    "            line = line.strip()\n",
    "\n",
    "            # Start of a new bam block\n",
    "            if re.match('^bams[1-5]$', line.strip()):\n",
    "                current_stats = []\n",
    "                current_block = {'name': line, 'stats': current_stats}\n",
    "                results.append(current_block)\n",
    "                in_job_section = False\n",
    "                continue\n",
    "\n",
    "            # Start of job stats section\n",
    "            if line.startswith('Job stats:'):\n",
    "                in_job_section = True\n",
    "                current_job = {}\n",
    "                current_stats.append(current_job)\n",
    "                continue\n",
    "\n",
    "            # Handle stats section\n",
    "            if in_job_section:\n",
    "                if line.startswith('total'):\n",
    "                    in_job_section = False\n",
    "                elif line.startswith(\"call_\"):\n",
    "                    current_job['name'] = line.split(' ')[0]\n",
    "                continue\n",
    "\n",
    "            # Look for real time\n",
    "            if line.startswith('real'):\n",
    "                if 'real_time' not in current_job:\n",
    "                    current_job['real_time'] = re.sub(',[0-9]+', '', line.split('\\t')[1].strip())\n",
    "                continue\n",
    "\n",
    "    return results"
   ],
   "id": "e35403e09b3256e5",
   "outputs": [],
   "execution_count": 4
  },
  {
   "metadata": {
    "ExecuteTime": {
     "end_time": "2025-07-07T12:53:38.238528Z",
     "start_time": "2025-07-07T12:53:38.179393Z"
    }
   },
   "cell_type": "code",
   "source": [
    "results = parse_benchmark_file(BENCHMARK_FILE)\n",
    "results"
   ],
   "id": "2666325e368ee099",
   "outputs": [
    {
     "data": {
      "text/plain": [
       "[{'name': 'bams1',\n",
       "  'stats': [{'name': 'call_peaks_macs2', 'real_time': '0m59s'},\n",
       "   {'name': 'call_peaks_macs2', 'real_time': '1m10s'},\n",
       "   {'name': 'call_peaks_sicer', 'real_time': '4m14s'},\n",
       "   {'name': 'call_peaks_span', 'real_time': '6m18s'},\n",
       "   {'name': 'call_peaks_macs3', 'real_time': '1m29s'},\n",
       "   {'name': 'call_peaks_macs3', 'real_time': '1m38s'},\n",
       "   {'name': 'call_peaks_sicer2', 'real_time': '0m54s'},\n",
       "   {'name': 'call_peaks_homer', 'real_time': '1m2s'},\n",
       "   {'real_time': '0m9s'},\n",
       "   {'name': 'call_peaks_peakseq', 'real_time': '11m31s'},\n",
       "   {'name': 'call_peaks_fseq2', 'real_time': '1m59s'},\n",
       "   {'name': 'call_peaks_lanceotron', 'real_time': '14m2s'}]},\n",
       " {'name': 'bams2',\n",
       "  'stats': [{'name': 'call_peaks_macs2', 'real_time': '1m8s'},\n",
       "   {'name': 'call_peaks_macs2', 'real_time': '1m8s'},\n",
       "   {'name': 'call_peaks_sicer', 'real_time': '6m14s'},\n",
       "   {'name': 'call_peaks_span', 'real_time': '7m24s'},\n",
       "   {'name': 'call_peaks_macs3', 'real_time': '1m41s'},\n",
       "   {'name': 'call_peaks_macs3', 'real_time': '1m42s'},\n",
       "   {'name': 'call_peaks_sicer2', 'real_time': '1m20s'},\n",
       "   {'name': 'call_peaks_homer', 'real_time': '1m22s'},\n",
       "   {'real_time': '0m12s'},\n",
       "   {'name': 'call_peaks_peakseq', 'real_time': '16m29s'},\n",
       "   {'name': 'call_peaks_fseq2', 'real_time': '1m30s'},\n",
       "   {'name': 'call_peaks_lanceotron', 'real_time': '17m47s'}]},\n",
       " {'name': 'bams3',\n",
       "  'stats': [{'name': 'call_peaks_macs2', 'real_time': '1m10s'},\n",
       "   {'name': 'call_peaks_macs2', 'real_time': '1m10s'},\n",
       "   {'name': 'call_peaks_sicer', 'real_time': '6m11s'},\n",
       "   {'name': 'call_peaks_span', 'real_time': '7m16s'},\n",
       "   {'name': 'call_peaks_macs3', 'real_time': '1m40s'},\n",
       "   {'name': 'call_peaks_macs3', 'real_time': '1m42s'},\n",
       "   {'name': 'call_peaks_sicer2', 'real_time': '1m17s'},\n",
       "   {'name': 'call_peaks_homer', 'real_time': '1m26s'},\n",
       "   {'real_time': '0m13s'},\n",
       "   {'name': 'call_peaks_peakseq', 'real_time': '16m40s'},\n",
       "   {'name': 'call_peaks_fseq2', 'real_time': '1m35s'},\n",
       "   {'name': 'call_peaks_lanceotron', 'real_time': '18m18s'}]},\n",
       " {'name': 'bams4',\n",
       "  'stats': [{'name': 'call_peaks_macs2', 'real_time': '1m13s'},\n",
       "   {'name': 'call_peaks_macs2', 'real_time': '1m20s'},\n",
       "   {'name': 'call_peaks_sicer', 'real_time': '6m19s'},\n",
       "   {'name': 'call_peaks_span', 'real_time': '7m27s'},\n",
       "   {'name': 'call_peaks_macs3', 'real_time': '1m48s'},\n",
       "   {'name': 'call_peaks_macs3', 'real_time': '1m52s'},\n",
       "   {'name': 'call_peaks_sicer2', 'real_time': '1m19s'},\n",
       "   {'name': 'call_peaks_homer', 'real_time': '1m34s'},\n",
       "   {'real_time': '0m13s'},\n",
       "   {'name': 'call_peaks_peakseq', 'real_time': '17m45s'},\n",
       "   {'name': 'call_peaks_fseq2', 'real_time': '2m17s'},\n",
       "   {'name': 'call_peaks_lanceotron', 'real_time': '16m41s'}]},\n",
       " {'name': 'bams5',\n",
       "  'stats': [{'name': 'call_peaks_macs2', 'real_time': '0m57s'},\n",
       "   {'name': 'call_peaks_macs2', 'real_time': '1m3s'},\n",
       "   {'name': 'call_peaks_sicer', 'real_time': '4m15s'},\n",
       "   {'name': 'call_peaks_span', 'real_time': '7m17s'},\n",
       "   {'name': 'call_peaks_macs3', 'real_time': '1m27s'},\n",
       "   {'name': 'call_peaks_macs3', 'real_time': '1m31s'},\n",
       "   {'name': 'call_peaks_sicer2', 'real_time': '0m55s'},\n",
       "   {'name': 'call_peaks_homer', 'real_time': '0m59s'},\n",
       "   {'real_time': '0m8s'},\n",
       "   {'name': 'call_peaks_peakseq', 'real_time': '10m32s'},\n",
       "   {'name': 'call_peaks_fseq2', 'real_time': '2m4s'},\n",
       "   {'name': 'call_peaks_lanceotron', 'real_time': '15m16s'}]},\n",
       " {'name': 'bams1',\n",
       "  'stats': [{'real_time': '0m0s'},\n",
       "   {'real_time': '0m0s'},\n",
       "   {'name': 'call_peaks_hotspot', 'real_time': '1m8s'}]},\n",
       " {'name': 'bams2',\n",
       "  'stats': [{'real_time': '0m0s'},\n",
       "   {'real_time': '0m0s'},\n",
       "   {'name': 'call_peaks_hotspot', 'real_time': '2m48s'}]},\n",
       " {'name': 'bams3',\n",
       "  'stats': [{'real_time': '0m0s'},\n",
       "   {'real_time': '0m0s'},\n",
       "   {'name': 'call_peaks_hotspot', 'real_time': '2m33s'}]},\n",
       " {'name': 'bams4',\n",
       "  'stats': [{'real_time': '0m0s'},\n",
       "   {'real_time': '0m0s'},\n",
       "   {'name': 'call_peaks_hotspot', 'real_time': '2m35s'}]},\n",
       " {'name': 'bams5',\n",
       "  'stats': [{'real_time': '0m0s'},\n",
       "   {'real_time': '0m0s'},\n",
       "   {'name': 'call_peaks_hotspot', 'real_time': '0m55s'}]}]"
      ]
     },
     "execution_count": 5,
     "metadata": {},
     "output_type": "execute_result"
    }
   ],
   "execution_count": 5
  },
  {
   "metadata": {
    "ExecuteTime": {
     "end_time": "2025-07-07T12:53:38.299464Z",
     "start_time": "2025-07-07T12:53:38.265366Z"
    }
   },
   "cell_type": "code",
   "source": [
    "rows = []\n",
    "for block in results:\n",
    "    name = block['name']\n",
    "    for job in block['stats']:\n",
    "        if 'name' not in job:\n",
    "            continue\n",
    "        peak_caller = job['name'].replace('call_peaks_', '')\n",
    "        real_time = job['real_time']\n",
    "        time = re.split('[ms]', real_time)\n",
    "        time_sec = 60 * int(time[0]) + int(time[1])\n",
    "        rows.append((name, peak_caller, time_sec))\n",
    "    rows.append((name, 'bayespeak', 1.5 * 60 * 60))  # 1.5 hours\n",
    "    rows.append((name, 'gps', 2 * 60 * 60))  # 2 hours\n",
    "\n",
    "df = pd.DataFrame(rows, columns=['block', 'tool', 'time'])\n",
    "df.loc[df['tool'] == 'macs2', 'tool'] = 'MACS2'\n",
    "df.loc[df['tool'] == 'macs3', 'tool'] = 'MACS3'\n",
    "df.loc[df['tool'] == 'sicer', 'tool'] = 'SICER'\n",
    "df.loc[df['tool'] == 'sicer2', 'tool'] = 'SICER2'\n",
    "df.loc[df['tool'] == 'homer', 'tool'] = 'HOMER'\n",
    "df.loc[df['tool'] == 'hotspot', 'tool'] = 'Hotspot'\n",
    "df.loc[df['tool'] == 'peakseq', 'tool'] = 'Peakseq'\n",
    "df.loc[df['tool'] == 'span', 'tool'] = 'SPAN'\n",
    "df.loc[df['tool'] == 'bayespeak', 'tool'] = 'BayesPeak'\n",
    "df.loc[df['tool'] == 'gps', 'tool'] = 'GPS'\n",
    "df.loc[df['tool'] == 'lanceotron', 'tool'] = 'LanceOtron'\n",
    "df"
   ],
   "id": "d8c1b6dde5afabdb",
   "outputs": [
    {
     "data": {
      "text/plain": [
       "    block       tool    time\n",
       "0   bams1      MACS2    59.0\n",
       "1   bams1      MACS2    70.0\n",
       "2   bams1      SICER   254.0\n",
       "3   bams1       SPAN   378.0\n",
       "4   bams1      MACS3    89.0\n",
       "..    ...        ...     ...\n",
       "75  bams4  BayesPeak  5400.0\n",
       "76  bams4        GPS  7200.0\n",
       "77  bams5    Hotspot    55.0\n",
       "78  bams5  BayesPeak  5400.0\n",
       "79  bams5        GPS  7200.0\n",
       "\n",
       "[80 rows x 3 columns]"
      ],
      "text/html": [
       "<div>\n",
       "<style scoped>\n",
       "    .dataframe tbody tr th:only-of-type {\n",
       "        vertical-align: middle;\n",
       "    }\n",
       "\n",
       "    .dataframe tbody tr th {\n",
       "        vertical-align: top;\n",
       "    }\n",
       "\n",
       "    .dataframe thead th {\n",
       "        text-align: right;\n",
       "    }\n",
       "</style>\n",
       "<table border=\"1\" class=\"dataframe\">\n",
       "  <thead>\n",
       "    <tr style=\"text-align: right;\">\n",
       "      <th></th>\n",
       "      <th>block</th>\n",
       "      <th>tool</th>\n",
       "      <th>time</th>\n",
       "    </tr>\n",
       "  </thead>\n",
       "  <tbody>\n",
       "    <tr>\n",
       "      <th>0</th>\n",
       "      <td>bams1</td>\n",
       "      <td>MACS2</td>\n",
       "      <td>59.0</td>\n",
       "    </tr>\n",
       "    <tr>\n",
       "      <th>1</th>\n",
       "      <td>bams1</td>\n",
       "      <td>MACS2</td>\n",
       "      <td>70.0</td>\n",
       "    </tr>\n",
       "    <tr>\n",
       "      <th>2</th>\n",
       "      <td>bams1</td>\n",
       "      <td>SICER</td>\n",
       "      <td>254.0</td>\n",
       "    </tr>\n",
       "    <tr>\n",
       "      <th>3</th>\n",
       "      <td>bams1</td>\n",
       "      <td>SPAN</td>\n",
       "      <td>378.0</td>\n",
       "    </tr>\n",
       "    <tr>\n",
       "      <th>4</th>\n",
       "      <td>bams1</td>\n",
       "      <td>MACS3</td>\n",
       "      <td>89.0</td>\n",
       "    </tr>\n",
       "    <tr>\n",
       "      <th>...</th>\n",
       "      <td>...</td>\n",
       "      <td>...</td>\n",
       "      <td>...</td>\n",
       "    </tr>\n",
       "    <tr>\n",
       "      <th>75</th>\n",
       "      <td>bams4</td>\n",
       "      <td>BayesPeak</td>\n",
       "      <td>5400.0</td>\n",
       "    </tr>\n",
       "    <tr>\n",
       "      <th>76</th>\n",
       "      <td>bams4</td>\n",
       "      <td>GPS</td>\n",
       "      <td>7200.0</td>\n",
       "    </tr>\n",
       "    <tr>\n",
       "      <th>77</th>\n",
       "      <td>bams5</td>\n",
       "      <td>Hotspot</td>\n",
       "      <td>55.0</td>\n",
       "    </tr>\n",
       "    <tr>\n",
       "      <th>78</th>\n",
       "      <td>bams5</td>\n",
       "      <td>BayesPeak</td>\n",
       "      <td>5400.0</td>\n",
       "    </tr>\n",
       "    <tr>\n",
       "      <th>79</th>\n",
       "      <td>bams5</td>\n",
       "      <td>GPS</td>\n",
       "      <td>7200.0</td>\n",
       "    </tr>\n",
       "  </tbody>\n",
       "</table>\n",
       "<p>80 rows × 3 columns</p>\n",
       "</div>"
      ]
     },
     "execution_count": 6,
     "metadata": {},
     "output_type": "execute_result"
    }
   ],
   "execution_count": 6
  },
  {
   "metadata": {
    "ExecuteTime": {
     "end_time": "2025-07-07T12:53:38.371329Z",
     "start_time": "2025-07-07T12:53:38.365627Z"
    }
   },
   "cell_type": "code",
   "source": "df['tool'].unique()",
   "id": "e786c409bc48f9ec",
   "outputs": [
    {
     "data": {
      "text/plain": [
       "array(['MACS2', 'SICER', 'SPAN', 'MACS3', 'SICER2', 'HOMER', 'Peakseq',\n",
       "       'fseq2', 'LanceOtron', 'BayesPeak', 'GPS', 'Hotspot'], dtype=object)"
      ]
     },
     "execution_count": 7,
     "metadata": {},
     "output_type": "execute_result"
    }
   ],
   "execution_count": 7
  },
  {
   "metadata": {
    "ExecuteTime": {
     "end_time": "2025-07-07T12:53:38.474337Z",
     "start_time": "2025-07-07T12:53:38.466094Z"
    }
   },
   "cell_type": "code",
   "source": [
    "TOOLS = ['MACS2', 'MACS2 broad', 'SICER', 'HOMER', 'Hotspot', 'Peakseq', 'SPAN']\n",
    "palette = plt.get_cmap('tab10')\n",
    "TOOLS_PALETTE = {t: palette(i) for i, t in enumerate(TOOLS)}\n",
    "\n",
    "TOOLS_OTHER = ['MACS3', 'SICER2', 'BayesPeak', 'GPS', 'LanceOtron']\n",
    "palette = plt.get_cmap('tab20')\n",
    "for i, tool in enumerate(TOOLS_OTHER):\n",
    "    TOOLS_PALETTE[tool] = palette(19 - i)\n",
    "\n",
    "# TOOLS = ['MACS2', 'SICER', 'HOMER', 'Hotspot', 'Peakseq', 'SPAN'] + TOOLS_OTHER\n",
    "# Tools by speed\n",
    "TOOLS = ['MACS2', 'SICER2', 'HOMER', 'MACS3', 'Hotspot', 'SICER', 'SPAN', 'Peakseq', 'BayesPeak', 'GPS', 'LanceOtron']\n",
    "palette = plt.get_cmap('tab20')\n",
    "TOOLS = ['MACS2', 'HOMER', 'Hotspot', 'SICER', 'SPAN', 'Peakseq', 'LanceOtron', 'BayesPeak', 'GPS']"
   ],
   "id": "8e7f03503647ae67",
   "outputs": [],
   "execution_count": 8
  },
  {
   "metadata": {
    "ExecuteTime": {
     "end_time": "2025-07-07T12:53:39.598281Z",
     "start_time": "2025-07-07T12:53:38.640698Z"
    }
   },
   "cell_type": "code",
   "source": [
    "print('Time')\n",
    "plt.figure(figsize=(4, 4))\n",
    "ax = plt.axes()\n",
    "ax.title.set_text('Peak calling time')\n",
    "g_results = sns.barplot(data=df, x='tool', y='time',\n",
    "                        order=TOOLS,\n",
    "                        palette=TOOLS_PALETTE,\n",
    "                        capsize=.2,\n",
    "                        ax=ax)\n",
    "ax.xaxis.set_tick_params(rotation=90)\n",
    "ax.set(yscale='log')\n",
    "ax.set_ylim((10, 2e4))\n",
    "ax.set_ylabel('Peak caller')\n",
    "ax.set_ylabel('Seconds')\n",
    "plt.tight_layout()\n",
    "plt.show()"
   ],
   "id": "cb8916762e79aa02",
   "outputs": [
    {
     "name": "stdout",
     "output_type": "stream",
     "text": [
      "Time\n"
     ]
    },
    {
     "name": "stderr",
     "output_type": "stream",
     "text": [
      "/tmp/ipykernel_118426/3033207814.py:5: FutureWarning: \n",
      "\n",
      "Passing `palette` without assigning `hue` is deprecated and will be removed in v0.14.0. Assign the `x` variable to `hue` and set `legend=False` for the same effect.\n",
      "\n",
      "  g_results = sns.barplot(data=df, x='tool', y='time',\n"
     ]
    },
    {
     "data": {
      "text/plain": [
       "<Figure size 400x400 with 1 Axes>"
      ],
      "image/png": "[encoded data removed]"
     },
     "metadata": {
      "image/png": {
       "width": 384,
       "height": 386
      }
     },
     "output_type": "display_data"
    }
   ],
   "execution_count": 9
  }
 ],
 "metadata": {
  "kernelspec": {
   "display_name": "Python 3",
   "language": "python",
   "name": "python3"
  },
  "language_info": {
   "codemirror_mode": {
    "name": "ipython",
    "version": 2
   },
   "file_extension": ".py",
   "mimetype": "text/x-python",
   "name": "python",
   "nbconvert_exporter": "python",
   "pygments_lexer": "ipython2",
   "version": "2.7.6"
  }
 },
 "nbformat": 4,
 "nbformat_minor": 5
}
