{
 "cells": [
  {
   "cell_type": "markdown",
   "metadata": {},
   "source": [
    "# Analysis of ChIP-seq simulation"
   ]
  },
  {
   "cell_type": "code",
   "execution_count": null,
   "metadata": {},
   "outputs": [],
   "source": [
    "import glob\n",
    "%matplotlib inline\n",
    "%config InlineBackend.figure_format='retina'\n",
    "import matplotlib.pyplot as plt\n",
    "\n",
    "import os\n",
    "\n",
    "import pandas as pd\n",
    "import seaborn as sns\n",
    "from tqdm.auto import tqdm\n",
    "sns.set_style(\"whitegrid\")\n",
    "import tempfile\n",
    "import numpy as np"
   ]
  },
  {
   "cell_type": "code",
   "execution_count": null,
   "metadata": {},
   "outputs": [],
   "source": [
    "PATH = os.path.expanduser('~/data/2023_chips')\n",
    "N = 5\n",
    "MULTIPLIERS = [1.0, 0.5, 0.2]\n",
    "\n",
    "FIGURES_DIR = f'{PATH}/pics'\n",
    "EXT = 'png'\n",
    "! mkdir -p {FIGURES_DIR}\n",
    "! rm {FIGURES_DIR}/*"
   ]
  },
  {
   "cell_type": "markdown",
   "metadata": {},
   "source": [
    "# Chips models analysis"
   ]
  },
  {
   "cell_type": "code",
   "execution_count": null,
   "metadata": {},
   "outputs": [],
   "source": [
    "import json\n",
    "\n",
    "models_df = pd.DataFrame(columns=['Modification', 'Model', 'k', 'theta', 'prc_rate', 'f', 's'],\n",
    "                         dtype=object)\n",
    "for modification in ['H3K27ac', 'H3K27me3', 'H3K36me3', 'H3K4me1', 'H3K4me3']:\n",
    "    path = os.path.join(PATH, 'models', f'{modification}.json')\n",
    "    with open(path) as f:\n",
    "        m = json.load(f)\n",
    "        k, theta, prc_rate, f, s = m['frag']['k'], m['frag']['theta'], m['pcr_rate'], \\\n",
    "            m['pulldown']['f'], m['pulldown']['s']\n",
    "        models_df.loc[len(models_df)] = (modification, path, k, theta, prc_rate, f, s)\n",
    "models_df.to_csv(os.path.join(PATH, 'models.tsv'), sep='\\t', index=None)\n",
    "models_df"
   ]
  },
  {
   "cell_type": "code",
   "execution_count": null,
   "metadata": {},
   "outputs": [],
   "source": [
    "fig = plt.figure(figsize=(4, 4))\n",
    "sns.scatterplot(data=models_df, x='k', y='theta', hue='Modification', markers=True)\n",
    "plt.title(f'Fragment lengths gamma distribution')\n",
    "plt.tight_layout()\n",
    "plt.savefig(os.path.join(FIGURES_DIR, f'models_fragments_gamma.{EXT}'), bbox_inches='tight', dpi=300)\n",
    "plt.show()"
   ]
  },
  {
   "cell_type": "code",
   "execution_count": null,
   "metadata": {},
   "outputs": [],
   "source": [
    "fig = plt.figure(figsize=(4, 4))\n",
    "sns.scatterplot(data=models_df, x='s', y='f', hue='Modification', markers=True)\n",
    "plt.title(f'Fraction of Reads in Peaks vs Bound Genome Fraction')\n",
    "plt.xlabel('Fraction of Reads in Peaks')\n",
    "plt.ylabel('Bound Genome Fraction')\n",
    "plt.tight_layout()\n",
    "plt.savefig(os.path.join(FIGURES_DIR, f'models_frip_vs_bound_genome.{EXT}'), bbox_inches='tight', dpi=300)\n",
    "plt.show()"
   ]
  },
  {
   "cell_type": "markdown",
   "metadata": {},
   "source": [
    "# Report analysis"
   ]
  },
  {
   "cell_type": "code",
   "execution_count": null,
   "outputs": [],
   "source": [
    "def bedl(file):\n",
    "    try:\n",
    "        tf = pd.read_csv(file, sep='\\t', header=None)\n",
    "        return tf[2] - tf[1]\n",
    "    except:\n",
    "        return np.zeros(0)  # Empty file\n",
    "\n",
    "\n",
    "def lines(file):\n",
    "    try:\n",
    "        tf = pd.read_csv(file, sep='\\t', header=None)\n",
    "        return len(tf)\n",
    "    except:\n",
    "        return 0  # Empty file\n",
    "\n",
    "def d(a, b):\n",
    "    return a / b if b != 0 else 0\n",
    "\n",
    "def last_col(file):\n",
    "    try:\n",
    "        cols = len(pd.read_csv(file, sep='\\t', nrows=1, header=None).columns)\n",
    "        return pd.read_csv(file, sep='\\t', header=None, usecols=[cols - 1])[cols - 1]\n",
    "    except:\n",
    "        return np.zeros(0)  # Empty file\n",
    "\n",
    "\n",
    "def sorted_file(file):\n",
    "    ts = tempfile.mktemp()\n",
    "    !cat {file} | sort -k1,1 -k2,2n > {ts}\n",
    "    return ts"
   ],
   "metadata": {
    "collapsed": false
   }
  },
  {
   "cell_type": "code",
   "execution_count": null,
   "outputs": [],
   "source": [
    "original_peaks = {\n",
    "    'H3K27ac': PATH + '/models/H3K27ac_100_0.05_3.peak',\n",
    "    'H3K27me3' : PATH + '/models/H3K27me3_100_0.05_3.peak',\n",
    "    'H3K36me3': PATH + '/models/H3K36me3_100_0.05_3.peak',\n",
    "    'H3K4me1': PATH + '/models/H3K4me1_100_0.05_3.peak',\n",
    "    'H3K4me3': PATH + '/models/H3K4me3_100_0.05_3.peak'\n",
    "}\n",
    "original_peaks"
   ],
   "metadata": {
    "collapsed": false
   }
  },
  {
   "cell_type": "code",
   "execution_count": null,
   "outputs": [],
   "source": [
    "import glob\n",
    "sampled_peaks = {}\n",
    "for m in ['H3K4me3', 'H3K27ac', 'H3K4me1', 'H3K27me3', 'H3K36me3', 'mixed']:\n",
    "    for n in range(1, N + 1):\n",
    "        sampled_peaks[(m, n)] = glob.glob(PATH + f'/fastq/{m}_*_{n}.bed')[0]\n",
    "sampled_peaks"
   ],
   "metadata": {
    "collapsed": false
   }
  },
  {
   "cell_type": "code",
   "execution_count": null,
   "outputs": [],
   "source": [
    "from itertools import product\n",
    "# Modification Mult Library I TruePeaksFile TruePeaks TrueLength Tool PeaksFile Fdr Peaks Length PrecisionP RecallP Intersection\n",
    "def load_peaks(path, suffix):\n",
    "    df_fdr = pd.DataFrame(columns=['file', 'modification', 'n', 'multiplier'], dtype=object)\n",
    "    for (m, n, mult) in tqdm(product(['H3K4me3', 'H3K27ac', 'H3K4me1', 'H3K27me3', 'H3K36me3', 'mixed'], range(1, N + 1), MULTIPLIERS)):\n",
    "        peaks_path = glob.glob(f'{path}/{m}*_{n}_{mult}*{suffix}')[0]\n",
    "        df_fdr.loc[len(df_fdr)] = (peaks_path, m, n, mult)\n",
    "    return df_fdr"
   ],
   "metadata": {
    "collapsed": false
   }
  },
  {
   "cell_type": "code",
   "execution_count": null,
   "outputs": [],
   "source": [
    "df_macs2 = load_peaks(PATH + '/macs2', '.narrowPeak')\n",
    "df_macs2['tool'] = 'MACS2'\n",
    "df_macs2"
   ],
   "metadata": {
    "collapsed": false
   }
  },
  {
   "cell_type": "code",
   "execution_count": null,
   "outputs": [],
   "source": [
    "df_macs2broad = load_peaks(PATH + '/macs2', '.broadPeak')\n",
    "df_macs2broad['tool'] = 'MACS2 broad'\n",
    "df_macs2broad"
   ],
   "metadata": {
    "collapsed": false
   }
  },
  {
   "cell_type": "code",
   "execution_count": null,
   "outputs": [],
   "source": [
    "df_span = load_peaks(PATH + '/span', '.peak')\n",
    "df_span['tool'] = 'SPAN'\n",
    "df_span"
   ],
   "metadata": {
    "collapsed": false
   }
  },
  {
   "cell_type": "code",
   "execution_count": null,
   "outputs": [],
   "source": [
    "df_sicer = load_peaks(PATH + '/sicer', 'FDR0.01')\n",
    "df_sicer['tool'] = 'SICER'\n",
    "df_sicer"
   ],
   "metadata": {
    "collapsed": false
   }
  },
  {
   "cell_type": "code",
   "execution_count": null,
   "outputs": [],
   "source": [
    "df = pd.concat([df_macs2, df_macs2broad, df_span, df_sicer]).reset_index(drop=True)\n",
    "df.sample(5)"
   ],
   "metadata": {
    "collapsed": false
   }
  },
  {
   "cell_type": "code",
   "execution_count": null,
   "outputs": [],
   "source": [
    "tf = tempfile.mktemp()\n",
    "t = []\n",
    "for _, (file, m, n) in tqdm(df[['file', 'modification', 'n']].iterrows()):\n",
    "    true_peaks_file = sampled_peaks[(m, n)]\n",
    "    true_peaks = lines(true_peaks_file)\n",
    "    true_length = bedl(true_peaks_file).sum()\n",
    "    peaks = lines(file)\n",
    "    length = bedl(file).sum()\n",
    "    true_peaks_file_s = sorted_file(true_peaks_file)\n",
    "    file_s = sorted_file(file)\n",
    "    !bedtools intersect -a {true_peaks_file_s} -b {file_s} -wa -u > {tf}\n",
    "    recall = lines(tf)\n",
    "    recall_len = bedl(tf).sum()\n",
    "    !bedtools intersect -b {true_peaks_file_s} -a {file_s} -wa -u > {tf}\n",
    "    precision = lines(tf)\n",
    "    precision_len = bedl(tf).sum()\n",
    "    !bedtools intersect -a {true_peaks_file_s} -b {file_s} -wo > {tf}\n",
    "    overlap_len = int(last_col(tf).sum())\n",
    "    t.append((true_peaks_file, true_peaks, true_length, peaks, length, precision, recall, precision_len, recall_len, overlap_len))\n",
    "t = pd.DataFrame(t, columns=['true_peaks_file', 'true_peaks', 'true_length',\n",
    "                             'peaks', 'length', 'precision', 'recall', 'precision_len', 'recall_len', 'overlap_len'])\n",
    "t"
   ],
   "metadata": {
    "collapsed": false
   }
  },
  {
   "cell_type": "code",
   "execution_count": null,
   "outputs": [],
   "source": [
    "for c in t.columns:\n",
    "    df[c] = list(t[c])\n",
    "del t\n",
    "df.sample(5)"
   ],
   "metadata": {
    "collapsed": false
   }
  },
  {
   "cell_type": "code",
   "execution_count": null,
   "metadata": {},
   "outputs": [],
   "source": [
    "df['Precision'] = df['precision'] / df['peaks']\n",
    "df['Recall'] = df['recall'] / df['true_peaks']\n",
    "df['PrecisionL'] = df['precision_len'] / df['length']\n",
    "df['RecallL'] = df['recall_len'] / df['true_length']\n",
    "\n",
    "df['F1'] = [2 / (1 / p + 1 / r) if min(p, r) > 0 else 0 for p, r in zip(df['Precision'], df['Recall'])]\n",
    "df['F1L'] = [2 / (1 / p + 1 / r) if min(p, r) > 0 else 0 for p, r in zip(df['PrecisionL'], df['RecallL'])]\n",
    "df['Jaccard'] = df['overlap_len'] / (df['true_length'] + df['length'] - df['overlap_len'])\n",
    "df.sample(5)"
   ]
  },
  {
   "cell_type": "code",
   "execution_count": null,
   "outputs": [],
   "source": [
    "def good(df):\n",
    "    return df['multiplier'] == 1.0\n",
    "\n",
    "def average(df):\n",
    "    return df['multiplier'] == 0.5\n",
    "\n",
    "def bad(df):\n",
    "    return df['multiplier'] == 0.2\n",
    "\n",
    "def with_quality(df, add_all=False):\n",
    "    ts = []\n",
    "\n",
    "    t = df.loc[good(df)].copy()\n",
    "    t['quality'] = 'Good'\n",
    "    ts.append(t)\n",
    "\n",
    "    t = df.loc[average(df)].copy()\n",
    "    t['quality'] = 'Average'\n",
    "    ts.append(t)\n",
    "\n",
    "    t = df.loc[bad(df)].copy()\n",
    "    t['quality'] = 'Bad'\n",
    "    ts.append(t)\n",
    "\n",
    "    if add_all:\n",
    "        t = df.copy()\n",
    "        t['quality'] = 'All'\n",
    "        ts.append(t)\n",
    "    return pd.concat(ts)\n",
    "\n",
    "df = with_quality(df)\n",
    "df.sample(5)"
   ],
   "metadata": {
    "collapsed": false
   }
  },
  {
   "cell_type": "markdown",
   "metadata": {},
   "source": [
    "# Peaks number and lengths"
   ]
  },
  {
   "cell_type": "code",
   "execution_count": null,
   "metadata": {},
   "outputs": [],
   "source": [
    "fig = plt.figure(figsize=(3, 3))\n",
    "sns.barplot(data=df, x=\"modification\", y=\"true_peaks\",\n",
    "           capsize=.1, errwidth=2, edgecolor=\"black\",\n",
    "            order=['H3K4me3', 'H3K27ac', 'H3K4me1', 'H3K27me3', 'H3K36me3', 'mixed'])\n",
    "plt.xticks(rotation=45, ha='right')\n",
    "plt.title('Sampled peaks')\n",
    "plt.tight_layout()\n",
    "plt.savefig(os.path.join(FIGURES_DIR, f'true_peaks_number.{EXT}'), bbox_inches='tight', dpi=300)\n",
    "plt.show()"
   ]
  },
  {
   "cell_type": "code",
   "execution_count": null,
   "outputs": [],
   "source": [
    "ts = []\n",
    "for m, file in original_peaks.items():\n",
    "    lengths = bedl(file)\n",
    "    t = pd.DataFrame(dict(length=lengths))\n",
    "    t = t.sample(min(len(t), 20_000))\n",
    "    t['modification'] = m\n",
    "    ts.append(t)\n",
    "t = pd.concat(ts).reset_index(drop=True)\n",
    "del ts\n",
    "t"
   ],
   "metadata": {
    "collapsed": false
   }
  },
  {
   "cell_type": "code",
   "execution_count": null,
   "outputs": [],
   "source": [
    "fig = plt.figure(figsize=(3, 3))\n",
    "sns.boxplot(data=df, x=\"modification\", y=\"length\", showfliers=False,\n",
    "            order=['H3K4me3', 'H3K27ac', 'H3K4me1', 'H3K27me3', 'H3K36me3', 'mixed'])\n",
    "plt.xticks(rotation=45, ha='right')\n",
    "plt.title('Original length')\n",
    "plt.tight_layout()\n",
    "plt.savefig(os.path.join(FIGURES_DIR, f'true_peaks_lengths.{EXT}'), bbox_inches='tight', dpi=300)\n",
    "plt.show()"
   ],
   "metadata": {
    "collapsed": false
   }
  },
  {
   "cell_type": "code",
   "execution_count": null,
   "outputs": [],
   "source": [
    "ts = []\n",
    "for _, (m, file) in df[['modification', 'true_peaks_file']].iterrows():\n",
    "    lengths = bedl(file)\n",
    "    t = pd.DataFrame(dict(length=lengths))\n",
    "    t = t.sample(min(len(t), 20_000))\n",
    "    t['modification'] = m\n",
    "    ts.append(t)\n",
    "t = pd.concat(ts).reset_index(drop=True)\n",
    "del ts\n",
    "t"
   ],
   "metadata": {
    "collapsed": false
   }
  },
  {
   "cell_type": "code",
   "execution_count": null,
   "outputs": [],
   "source": [
    "fig = plt.figure(figsize=(3, 3))\n",
    "sns.boxplot(data=df, x=\"modification\", y=\"length\", showfliers=False,\n",
    "            order=['H3K4me3', 'H3K27ac', 'H3K4me1', 'H3K27me3', 'H3K36me3', 'mixed'])\n",
    "plt.xticks(rotation=45, ha='right')\n",
    "plt.title('Sampled length')\n",
    "plt.tight_layout()\n",
    "plt.savefig(os.path.join(FIGURES_DIR, f'sampled_peaks_lengths.{EXT}'), bbox_inches='tight', dpi=300)\n",
    "plt.show()"
   ],
   "metadata": {
    "collapsed": false
   }
  },
  {
   "cell_type": "code",
   "execution_count": null,
   "outputs": [],
   "source": [
    "plt.figure(figsize=(12, 4))\n",
    "axs = [plt.subplot(1, 3, i + 1) for i in range(3)]\n",
    "for i, q in enumerate(df['quality'].unique()):\n",
    "    ax = axs[i]\n",
    "    sns.barplot(data=df[df['quality']==q], x=\"modification\", y=\"peaks\", hue='tool', ax=ax,\n",
    "                order=['H3K4me3', 'H3K27ac', 'H3K4me1', 'H3K27me3', 'H3K36me3', 'mixed'])\n",
    "    ax.xaxis.set_tick_params(rotation=90)\n",
    "    ax.set_title(f'{q}')\n",
    "    # Put a legend to the right of the current axis\n",
    "    if i == 2:\n",
    "        ax.legend(loc='center left', bbox_to_anchor=(1, 0.5))\n",
    "    else:\n",
    "        ax.legend().set_visible(False)\n",
    "plt.tight_layout()\n",
    "plt.savefig(os.path.join(FIGURES_DIR, f'peaks.{EXT}'), bbox_inches='tight', dpi=300)\n",
    "plt.show()"
   ],
   "metadata": {
    "collapsed": false
   }
  },
  {
   "cell_type": "code",
   "execution_count": null,
   "outputs": [],
   "source": [
    "ts = []\n",
    "for _, (m, q, tool, file) in df[['modification', 'quality', 'tool', 'file']].iterrows():\n",
    "    lengths = bedl(file)\n",
    "    t = pd.DataFrame(dict(length=lengths))\n",
    "    t = t.sample(min(len(t), 20_000))\n",
    "    t['modification'] = m\n",
    "    t['quality'] = q\n",
    "    t['tool'] = tool\n",
    "    ts.append(t)\n",
    "t = pd.concat(ts).reset_index(drop=True)\n",
    "del ts\n",
    "t"
   ],
   "metadata": {
    "collapsed": false
   }
  },
  {
   "cell_type": "code",
   "execution_count": null,
   "outputs": [],
   "source": [
    "plt.figure(figsize=(12, 4))\n",
    "axs = [plt.subplot(1, 3, i + 1) for i in range(3)]\n",
    "for i, q in enumerate(df['quality'].unique()):\n",
    "    ax = axs[i]\n",
    "    sns.boxplot(data=t[t['quality']==q], x=\"modification\", y=\"length\", hue='tool', showfliers=False, ax=ax,\n",
    "                order=['H3K4me3', 'H3K27ac', 'H3K4me1', 'H3K27me3', 'H3K36me3', 'mixed'])\n",
    "    ax.xaxis.set_tick_params(rotation=90)\n",
    "    ax.set_title(f'{q}')\n",
    "    # Put a legend to the right of the current axis\n",
    "    if i == 2:\n",
    "        ax.legend(loc='center left', bbox_to_anchor=(1, 0.5))\n",
    "    else:\n",
    "        ax.legend().set_visible(False)\n",
    "plt.tight_layout()\n",
    "plt.savefig(os.path.join(FIGURES_DIR, f'lengths.{EXT}'), bbox_inches='tight', dpi=300)\n",
    "plt.show()"
   ],
   "metadata": {
    "collapsed": false
   }
  },
  {
   "cell_type": "markdown",
   "source": [
    "# Jaccard, precision, recall, F1"
   ],
   "metadata": {
    "collapsed": false
   }
  },
  {
   "cell_type": "code",
   "execution_count": null,
   "outputs": [],
   "source": [
    "plt.figure(figsize=(12, 4))\n",
    "axs = [plt.subplot(1, 3, i + 1) for i in range(3)]\n",
    "for i, q in enumerate(df['quality'].unique()):\n",
    "    ax = axs[i]\n",
    "    sns.barplot(data=df[df['quality']==q], x=\"modification\", y=\"Jaccard\", hue='tool', ax=ax,\n",
    "                order=['H3K4me3', 'H3K27ac', 'H3K4me1', 'H3K27me3', 'H3K36me3', 'mixed'])\n",
    "    ax.xaxis.set_tick_params(rotation=90)\n",
    "    ax.set_title(f'{q}')\n",
    "    # Put a legend to the right of the current axis\n",
    "    if i == 2:\n",
    "        ax.legend(loc='center left', bbox_to_anchor=(1, 0.5))\n",
    "    else:\n",
    "        ax.legend().set_visible(False)\n",
    "plt.tight_layout()\n",
    "plt.savefig(os.path.join(FIGURES_DIR, f'jaccard.{EXT}'), bbox_inches='tight', dpi=300)\n",
    "plt.show()"
   ],
   "metadata": {
    "collapsed": false
   }
  },
  {
   "cell_type": "code",
   "execution_count": null,
   "outputs": [],
   "source": [
    "plt.figure(figsize=(15, 3))\n",
    "axs = [plt.subplot(1, 6, i + 1) for i in range(6)]\n",
    "for i, m in enumerate(['H3K4me3', 'H3K27ac', 'H3K4me1', 'H3K27me3', 'H3K36me3', 'mixed']):\n",
    "    ax = axs[i]\n",
    "    sns.lineplot(data=df[df['modification']==m], x=\"quality\", y=\"Jaccard\", hue='tool', ax=ax,\n",
    "                 hue_order=['MACS2', 'MACS2 broad', 'SPAN', 'SICER'],\n",
    "                 errorbar='sd')\n",
    "    ax.xaxis.set_tick_params(rotation=45)\n",
    "    ax.set_title(f'{m}')\n",
    "    ax.set_ylim([0, 1.0])\n",
    "    # Put a legend to the right of the current axis\n",
    "    if i == 5:\n",
    "        ax.legend(loc='center left', bbox_to_anchor=(1, 0.5))\n",
    "    else:\n",
    "        ax.legend().set_visible(False)\n",
    "plt.tight_layout()\n",
    "plt.savefig(os.path.join(FIGURES_DIR, f'jaccard2.{EXT}'), bbox_inches='tight', dpi=300)\n",
    "plt.show()"
   ],
   "metadata": {
    "collapsed": false
   }
  },
  {
   "cell_type": "code",
   "execution_count": null,
   "outputs": [],
   "source": [
    "plt.figure(figsize=(12, 4))\n",
    "axs = [plt.subplot(1, 3, i + 1) for i in range(3)]\n",
    "for i, q in enumerate(df['quality'].unique()):\n",
    "    ax = axs[i]\n",
    "    sns.barplot(data=df[df['quality']==q], x=\"modification\", y=\"Precision\", hue='tool', ax=ax,\n",
    "                order=['H3K4me3', 'H3K27ac', 'H3K4me1', 'H3K27me3', 'H3K36me3', 'mixed'])\n",
    "    ax.xaxis.set_tick_params(rotation=90)\n",
    "    ax.set_title(f'{q}')\n",
    "    # Put a legend to the right of the current axis\n",
    "    if i == 2:\n",
    "        ax.legend(loc='center left', bbox_to_anchor=(1, 0.5))\n",
    "    else:\n",
    "        ax.legend().set_visible(False)\n",
    "plt.tight_layout()\n",
    "plt.savefig(os.path.join(FIGURES_DIR, f'precision.{EXT}'), bbox_inches='tight', dpi=300)\n",
    "plt.show()"
   ],
   "metadata": {
    "collapsed": false
   }
  },
  {
   "cell_type": "code",
   "execution_count": null,
   "outputs": [],
   "source": [
    "plt.figure(figsize=(12, 4))\n",
    "axs = [plt.subplot(1, 3, i + 1) for i in range(3)]\n",
    "for i, q in enumerate(df['quality'].unique()):\n",
    "    ax = axs[i]\n",
    "    sns.barplot(data=df[df['quality']==q], x=\"modification\", y=\"PrecisionL\", hue='tool', ax=ax,\n",
    "                order=['H3K4me3', 'H3K27ac', 'H3K4me1', 'H3K27me3', 'H3K36me3', 'mixed'])\n",
    "    ax.xaxis.set_tick_params(rotation=90)\n",
    "    ax.set_title(f'{q}')\n",
    "    # Put a legend to the right of the current axis\n",
    "    if i == 2:\n",
    "        ax.legend(loc='center left', bbox_to_anchor=(1, 0.5))\n",
    "    else:\n",
    "        ax.legend().set_visible(False)\n",
    "plt.tight_layout()\n",
    "plt.savefig(os.path.join(FIGURES_DIR, f'precision_len.{EXT}'), bbox_inches='tight', dpi=300)\n",
    "plt.show()"
   ],
   "metadata": {
    "collapsed": false
   }
  },
  {
   "cell_type": "code",
   "execution_count": null,
   "outputs": [],
   "source": [
    "plt.figure(figsize=(12, 4))\n",
    "axs = [plt.subplot(1, 3, i + 1) for i in range(3)]\n",
    "for i, q in enumerate(df['quality'].unique()):\n",
    "    ax = axs[i]\n",
    "    sns.barplot(data=df[df['quality']==q], x=\"modification\", y=\"Recall\", hue='tool', ax=ax,\n",
    "                order=['H3K4me3', 'H3K27ac', 'H3K4me1', 'H3K27me3', 'H3K36me3', 'mixed'])\n",
    "    ax.xaxis.set_tick_params(rotation=90)\n",
    "    ax.set_title(f'{q}')\n",
    "    # Put a legend to the right of the current axis\n",
    "    if i == 2:\n",
    "        ax.legend(loc='center left', bbox_to_anchor=(1, 0.5))\n",
    "    else:\n",
    "        ax.legend().set_visible(False)\n",
    "plt.tight_layout()\n",
    "plt.savefig(os.path.join(FIGURES_DIR, f'recall.{EXT}'), bbox_inches='tight', dpi=300)\n",
    "plt.show()"
   ],
   "metadata": {
    "collapsed": false
   }
  },
  {
   "cell_type": "code",
   "execution_count": null,
   "outputs": [],
   "source": [
    "plt.figure(figsize=(12, 4))\n",
    "axs = [plt.subplot(1, 3, i + 1) for i in range(3)]\n",
    "for i, q in enumerate(df['quality'].unique()):\n",
    "    ax = axs[i]\n",
    "    sns.barplot(data=df[df['quality']==q], x=\"modification\", y=\"RecallL\", hue='tool', ax=ax,\n",
    "                order=['H3K4me3', 'H3K27ac', 'H3K4me1', 'H3K27me3', 'H3K36me3', 'mixed'])\n",
    "    ax.xaxis.set_tick_params(rotation=90)\n",
    "    ax.set_title(f'{q}')\n",
    "    # Put a legend to the right of the current axis\n",
    "    if i == 2:\n",
    "        ax.legend(loc='center left', bbox_to_anchor=(1, 0.5))\n",
    "    else:\n",
    "        ax.legend().set_visible(False)\n",
    "plt.tight_layout()\n",
    "plt.savefig(os.path.join(FIGURES_DIR, f'recall_len.{EXT}'), bbox_inches='tight', dpi=300)\n",
    "plt.show()"
   ],
   "metadata": {
    "collapsed": false
   }
  },
  {
   "cell_type": "code",
   "execution_count": null,
   "metadata": {},
   "outputs": [],
   "source": [
    "plt.figure(figsize=(12, 4))\n",
    "axs = [plt.subplot(1, 3, i + 1) for i in range(3)]\n",
    "for i, q in enumerate(df['quality'].unique()):\n",
    "    ax = axs[i]\n",
    "    sns.barplot(data=df[df['quality']==q], x=\"modification\", y=\"F1\", hue='tool', ax=ax,\n",
    "                order=['H3K4me3', 'H3K27ac', 'H3K4me1', 'H3K27me3', 'H3K36me3', 'mixed'])\n",
    "    ax.xaxis.set_tick_params(rotation=90)\n",
    "    ax.set_title(f'{q}')\n",
    "    # Put a legend to the right of the current axis\n",
    "    if i == 2:\n",
    "        ax.legend(loc='center left', bbox_to_anchor=(1, 0.5))\n",
    "    else:\n",
    "        ax.legend().set_visible(False)\n",
    "plt.tight_layout()\n",
    "plt.savefig(os.path.join(FIGURES_DIR, f'f1.{EXT}'), bbox_inches='tight', dpi=300)\n",
    "plt.show()"
   ]
  },
  {
   "cell_type": "code",
   "execution_count": null,
   "outputs": [],
   "source": [
    "plt.figure(figsize=(12, 4))\n",
    "axs = [plt.subplot(1, 3, i + 1) for i in range(3)]\n",
    "for i, q in enumerate(df['quality'].unique()):\n",
    "    ax = axs[i]\n",
    "    sns.barplot(data=df[df['quality']==q], x=\"modification\", y=\"F1L\", hue='tool', ax=ax,\n",
    "                order=['H3K4me3', 'H3K27ac', 'H3K4me1', 'H3K27me3', 'H3K36me3', 'mixed'])\n",
    "    ax.xaxis.set_tick_params(rotation=90)\n",
    "    ax.set_title(f'{q}')\n",
    "    # Put a legend to the right of the current axis\n",
    "    if i == 2:\n",
    "        ax.legend(loc='center left', bbox_to_anchor=(1, 0.5))\n",
    "    else:\n",
    "        ax.legend().set_visible(False)\n",
    "plt.tight_layout()\n",
    "plt.savefig(os.path.join(FIGURES_DIR, f'f1l.{EXT}'), bbox_inches='tight', dpi=300)\n",
    "plt.show()"
   ],
   "metadata": {
    "collapsed": false
   }
  },
  {
   "cell_type": "markdown",
   "source": [
    "# Average precision\n",
    "\n",
    "AP summarizes a precision-recall curve as the weighted mean of precisions achieved at each threshold, with the increase in recall from the previous threshold used as the weight:\n",
    "\n",
    "AP = ∑(Rn−Rn−1)*Pn, where  Pn and Rn are the precision and recall at the nth threshold.\n",
    "\n",
    "This implementation is not interpolated and is different from computing the area under the precision-recall curve with the trapezoidal rule, which uses linear interpolation and can be too optimistic."
   ],
   "metadata": {
    "collapsed": false
   }
  },
  {
   "cell_type": "code",
   "execution_count": null,
   "outputs": [],
   "source": [
    "TOOLS = ['MACS2', 'MACS2 broad', 'SPAN', 'SICER']\n",
    "palette = plt.cm.get_cmap('tab10')\n",
    "TOOLS_PALETTE = {t: palette(i) for i, t in enumerate(TOOLS)}\n",
    "\n",
    "plt.figure(figsize=(14, 3))\n",
    "axs = [plt.subplot(1, 6, i + 1) for i in range(6)]\n",
    "for i, m in enumerate(tqdm(['H3K4me3', 'H3K27ac', 'H3K4me1', 'H3K27me3', 'H3K36me3', 'mixed'])):\n",
    "    ax = axs[i]\n",
    "    for tool, n in product(df['tool'].unique(), range(1, N + 1)):\n",
    "        dft = df[(df['modification'] == m) & (df['n'] == n) & (df['tool'] == tool)].copy()\n",
    "        dft = dft[dft['Recall'] + dft['Precision'] > 0]\n",
    "        dft.sort_values(by=['Recall', 'multiplier'], inplace=True)\n",
    "        ax.plot(dft['Precision'], dft['Recall'], marker='o', label=tool, color=TOOLS_PALETTE[tool], alpha=0.8)\n",
    "        ax.set_xlabel('Precision')\n",
    "        ax.set_ylabel('Recall')\n",
    "        ax.set_title(f'{m}')\n",
    "plt.tight_layout()\n",
    "plt.savefig(os.path.join(FIGURES_DIR, f'auc.{EXT}'), bbox_inches='tight', dpi=300)\n",
    "plt.show()"
   ],
   "metadata": {
    "collapsed": false
   }
  },
  {
   "cell_type": "code",
   "execution_count": null,
   "outputs": [],
   "source": [
    "TOOLS = ['MACS2', 'MACS2 broad', 'SPAN', 'SICER']\n",
    "palette = plt.cm.get_cmap('tab10')\n",
    "TOOLS_PALETTE = {t: palette(i) for i, t in enumerate(TOOLS)}\n",
    "\n",
    "plt.figure(figsize=(14, 3))\n",
    "axs = [plt.subplot(1, 6, i + 1) for i in range(6)]\n",
    "for i, m in enumerate(tqdm(['H3K4me3', 'H3K27ac', 'H3K4me1', 'H3K27me3', 'H3K36me3', 'mixed'])):\n",
    "    ax = axs[i]\n",
    "    for tool, n in product(df['tool'].unique(), range(1, N + 1)):\n",
    "        dft = df[(df['modification'] == m) & (df['n'] == n) & (df['tool'] == tool)].copy()\n",
    "        dft = dft[dft['RecallL'] + dft['PrecisionL'] > 0]\n",
    "        dft.sort_values(by=['RecallL', 'multiplier'], inplace=True)\n",
    "        ax.plot(dft['PrecisionL'], dft['RecallL'], marker='o', label=tool, color=TOOLS_PALETTE[tool], alpha=0.8)\n",
    "        ax.set_xlabel('PrecisionL')\n",
    "        ax.set_ylabel('RecallL')\n",
    "        ax.set_title(f'{m}')\n",
    "plt.tight_layout()\n",
    "plt.savefig(os.path.join(FIGURES_DIR, f'auc_len.{EXT}'), bbox_inches='tight', dpi=300)\n",
    "plt.show()"
   ],
   "metadata": {
    "collapsed": false
   }
  },
  {
   "cell_type": "code",
   "execution_count": null,
   "outputs": [],
   "source": [
    "t = []\n",
    "for m, n, tool in tqdm(product(df['modification'].unique(), df['n'].unique(), df['tool'].unique())):\n",
    "    print(m, n, tool)\n",
    "    dft = df[(df['modification'] == m) & (df['n'] == n) & (df['tool'] == tool)].copy()\n",
    "    dft = dft[dft['Recall'] + dft['Precision'] > 0]\n",
    "    dft.sort_values(by=['Recall', 'multiplier'], inplace=True)\n",
    "    ap = 0\n",
    "    rprev = 0\n",
    "    for _, row in dft.iterrows():\n",
    "        ap += (row['Recall'] - rprev) * row['Precision']\n",
    "        rprev = row['Recall']\n",
    "        t.append((m, n, tool, ap))\n",
    "dfap = pd.DataFrame(data=t, columns=['modification', 'n', 'tool', 'AP'])\n",
    "dfap"
   ],
   "metadata": {
    "collapsed": false
   }
  },
  {
   "cell_type": "code",
   "execution_count": null,
   "outputs": [],
   "source": [
    "fig = plt.figure(figsize=(7, 4))\n",
    "g_result = sns.barplot(data=dfap, x=\"modification\", y=\"AP\", hue='tool', capsize=.05, errwidth=2,\n",
    "                       order=['H3K4me3', 'H3K27ac', 'H3K4me1', 'H3K27me3', 'H3K36me3', 'mixed'])\n",
    "g_result.axes.xaxis.set_tick_params(rotation=45)\n",
    "g_result.axes.legend(loc='center left', bbox_to_anchor=(1, 0.5))\n",
    "plt.title('Overlap vs ground truth peaks AUC')\n",
    "plt.ylabel('AUC')\n",
    "plt.tight_layout()\n",
    "plt.savefig(os.path.join(FIGURES_DIR, f'ap.{EXT}'), bbox_inches='tight', dpi=300)\n",
    "plt.show()"
   ],
   "metadata": {
    "collapsed": false
   }
  },
  {
   "cell_type": "code",
   "execution_count": null,
   "outputs": [],
   "source": [
    "t = []\n",
    "for m, n, tool in tqdm(product(['H3K4me3', 'H3K27ac', 'H3K4me1', 'H3K27me3', 'H3K36me3', 'mixed'], df['n'].unique(), df['tool'].unique())):\n",
    "    print(m, n, tool)\n",
    "    dft = df[(df['modification'] == m) & (df['n'] == n) & (df['tool'] == tool)].copy()\n",
    "    dft = dft[dft['RecallL'] + dft['PrecisionL'] > 0]\n",
    "    dft.sort_values(by=['RecallL', 'multiplier'], inplace=True)\n",
    "    ap = 0\n",
    "    rprev = 0\n",
    "    for _, row in dft.iterrows():\n",
    "        ap += (row['RecallL'] - rprev) * row['PrecisionL']\n",
    "        rprev = row['RecallL']\n",
    "        t.append((m, n, tool, ap))\n",
    "dfapl = pd.DataFrame(data=t, columns=['modification', 'n', 'tool', 'APL'])\n",
    "dfapl"
   ],
   "metadata": {
    "collapsed": false
   }
  },
  {
   "cell_type": "code",
   "execution_count": null,
   "outputs": [],
   "source": [
    "fig = plt.figure(figsize=(7, 4))\n",
    "g_result = sns.barplot(data=dfapl, x=\"modification\", y=\"APL\", hue='tool', capsize=.05, errwidth=2,\n",
    "                       order=['H3K4me3', 'H3K27ac', 'H3K4me1', 'H3K27me3', 'H3K36me3', 'mixed'])\n",
    "g_result.axes.xaxis.set_tick_params(rotation=45)\n",
    "g_result.axes.legend(loc='center left', bbox_to_anchor=(1, 0.5))\n",
    "plt.title('Overlap vs ground truth peaks AUC')\n",
    "plt.ylabel('AUC')\n",
    "plt.tight_layout()\n",
    "plt.savefig(os.path.join(FIGURES_DIR, f'apl.{EXT}'), bbox_inches='tight', dpi=300)\n",
    "plt.show()"
   ],
   "metadata": {
    "collapsed": false
   }
  },
  {
   "cell_type": "code",
   "execution_count": null,
   "outputs": [],
   "source": [],
   "metadata": {
    "collapsed": false
   }
  }
 ],
 "metadata": {
  "kernelspec": {
   "display_name": "Python 3",
   "language": "python",
   "name": "python3"
  },
  "language_info": {
   "codemirror_mode": {
    "name": "ipython",
    "version": 3
   },
   "file_extension": ".py",
   "mimetype": "text/x-python",
   "name": "python",
   "nbconvert_exporter": "python",
   "pygments_lexer": "ipython3",
   "version": "3.8.5"
  }
 },
 "nbformat": 4,
 "nbformat_minor": 5
}
