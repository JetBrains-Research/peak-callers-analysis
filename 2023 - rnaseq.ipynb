{
 "cells": [
  {
   "cell_type": "markdown",
   "metadata": {},
   "source": [
    "# RNA-seq comparison vs H3K4me3 and H3K36me3"
   ]
  },
  {
   "cell_type": "code",
   "execution_count": 1,
   "metadata": {
    "ExecuteTime": {
     "end_time": "2023-12-06T09:42:50.333122Z",
     "start_time": "2023-12-06T09:42:50.301782Z"
    }
   },
   "outputs": [],
   "source": [
    "%matplotlib inline\n",
    "%config InlineBackend.figure_format='retina'\n",
    "\n",
    "import pandas as pd\n",
    "import seaborn as sns\n",
    "from IPython.display import display\n",
    "from tqdm.auto import tqdm\n",
    "\n",
    "sns.set_style(\"whitegrid\")\n",
    "import matplotlib.pyplot as plt\n",
    "import numpy as np\n",
    "import os\n",
    "import re\n",
    "from itertools import product\n",
    "import tempfile"
   ]
  },
  {
   "cell_type": "code",
   "execution_count": 2,
   "outputs": [],
   "source": [
    "def bedl(file):\n",
    "    try:\n",
    "        tf = pd.read_csv(file, sep='\\t', header=None)\n",
    "        return tf[2] - tf[1]\n",
    "    except:\n",
    "        return np.zeros(0)  # Empty file\n",
    "\n",
    "\n",
    "def lines(file):\n",
    "    try:\n",
    "        tf = pd.read_csv(file, sep='\\t', header=None)\n",
    "        return len(tf)\n",
    "    except:\n",
    "        return 0  # Empty file\n",
    "\n",
    "\n",
    "def d(a, b):\n",
    "    return a / b if b != 0 else 0\n",
    "\n",
    "\n",
    "def last_col(file):\n",
    "    try:\n",
    "        cols = len(pd.read_csv(file, sep='\\t', nrows=1, header=None).columns)\n",
    "        return pd.read_csv(file, sep='\\t', header=None, usecols=[cols - 1])[cols - 1]\n",
    "    except:\n",
    "        return np.zeros(0)  # Empty file\n",
    "\n",
    "\n",
    "def sorted_file(file):\n",
    "    ts = tempfile.mktemp()\n",
    "    ! cat {file} | sort -k1,1 -k2,2n -k3,3n > {ts}\n",
    "    return ts"
   ],
   "metadata": {
    "collapsed": false,
    "ExecuteTime": {
     "end_time": "2023-12-06T09:42:50.357322Z",
     "start_time": "2023-12-06T09:42:50.337269Z"
    }
   }
  },
  {
   "cell_type": "markdown",
   "source": [
    "# Load hg38 peaks\n"
   ],
   "metadata": {
    "collapsed": false
   }
  },
  {
   "cell_type": "code",
   "execution_count": 9,
   "outputs": [],
   "source": [
    "GSE26320_PATH = os.path.expanduser('~/data/2023_GSE26320')\n",
    "GSE26320_CELLS = ['GM12878', 'HMEC', 'HSMM', 'K562', 'NHEK', 'NHLF', 'H1', 'Huvec', 'HepG2']\n",
    "MODIFICATIONS = ['H3K4me3', 'H3K36me3']\n",
    "GSE26320_REPS = ['rep1', 'rep2']\n",
    "\n",
    "IMMUNE_PATH = os.path.expanduser('~/data/2023_Immune')\n",
    "IMMUNE_CELLS = ['CD4ABT', 'TCellBB', 'BCell', 'TCell', 'Monocyte', 'PBMC', 'NK', 'CD34', 'CD4', ]  ## Longest first\n",
    "IMMUNE_REPS = ['rep1', 'rep2', 'rep3', '']\n",
    "\n",
    "! mkdir -p {GSE26320_PATH}/pics\n",
    "! mkdir -p {IMMUNE_PATH}/pics"
   ],
   "metadata": {
    "collapsed": false,
    "ExecuteTime": {
     "end_time": "2023-12-06T09:43:21.204066Z",
     "start_time": "2023-12-06T09:43:20.417071Z"
    }
   }
  },
  {
   "cell_type": "code",
   "execution_count": 10,
   "outputs": [],
   "source": [
    "TOOLS = ['MACS2', 'MACS2 broad', 'SPAN', 'SICER']\n",
    "palette = plt.cm.get_cmap('tab10')\n",
    "TOOLS_PALETTE = {t: palette(i) for i, t in enumerate(TOOLS)}"
   ],
   "metadata": {
    "collapsed": false,
    "ExecuteTime": {
     "end_time": "2023-12-06T09:43:21.301196Z",
     "start_time": "2023-12-06T09:43:21.199873Z"
    }
   }
  },
  {
   "cell_type": "code",
   "execution_count": 11,
   "outputs": [],
   "source": [
    "def load_peaks(path, suffix, modifications, cells, replicates):\n",
    "    df = pd.DataFrame(columns=['file', 'modification', 'cell', 'replicate', 'peaks'],\n",
    "                      dtype=object)\n",
    "    for f in tqdm(os.listdir(path)):\n",
    "        if not f.endswith(suffix):\n",
    "            continue\n",
    "        cell = next((c for c in cells if c in f), None)\n",
    "        mod = next((m for m in modifications if m in f), None)\n",
    "        rep = next((r for r in replicates if r in f), None)\n",
    "        if cell and mod and rep is not None:\n",
    "            peaks_path = os.path.join(path, f)\n",
    "            ps = lines(peaks_path)\n",
    "            df.loc[len(df)] = (peaks_path, mod, cell, rep, ps)\n",
    "    return df"
   ],
   "metadata": {
    "collapsed": false,
    "ExecuteTime": {
     "end_time": "2023-12-06T09:43:22.547135Z",
     "start_time": "2023-12-06T09:43:22.452483Z"
    }
   }
  },
  {
   "cell_type": "code",
   "execution_count": 12,
   "outputs": [],
   "source": [
    "def load_peaks_path(path, modifications, cells, replicates):\n",
    "    df_macs2 = load_peaks(os.path.join(path, 'macs2'), '.narrowPeak', modifications, cells, replicates)\n",
    "    df_macs2['tool'] = 'MACS2'\n",
    "    print('MACS2', len(df_macs2))\n",
    "\n",
    "    df_macs2broad = load_peaks(os.path.join(path, 'macs2'), '.broadPeak', modifications, cells, replicates)\n",
    "    df_macs2broad['tool'] = 'MACS2 broad'\n",
    "    print('MACS2 broad', len(df_macs2broad))\n",
    "\n",
    "    df_sicer = load_peaks(os.path.join(path, 'sicer'), 'summary-FDR0.01', modifications, cells, replicates)\n",
    "    df_sicer['tool'] = 'SICER'\n",
    "    print('SICER', len(df_sicer))\n",
    "\n",
    "    df_span = load_peaks(os.path.join(path, 'span'), '.peak', modifications, cells, replicates)\n",
    "    df_span = df_span[['_200_' not in f for f in df_span['file']]]\n",
    "    df_span['tool'] = 'SPAN'\n",
    "    print('SPAN', len(df_span))\n",
    "\n",
    "    return pd.concat([df_macs2, df_macs2broad, df_sicer, df_span]).reset_index(drop=True)"
   ],
   "metadata": {
    "collapsed": false,
    "ExecuteTime": {
     "end_time": "2023-12-06T09:43:23.873471Z",
     "start_time": "2023-12-06T09:43:23.776881Z"
    }
   }
  },
  {
   "cell_type": "code",
   "execution_count": 13,
   "outputs": [
    {
     "data": {
      "text/plain": "  0%|          | 0/680 [00:00<?, ?it/s]",
      "application/vnd.jupyter.widget-view+json": {
       "version_major": 2,
       "version_minor": 0,
       "model_id": "a35bfd10e7dd44b79d743e3bb43a4c64"
      }
     },
     "metadata": {},
     "output_type": "display_data"
    },
    {
     "name": "stdout",
     "output_type": "stream",
     "text": [
      "MACS2 33\n"
     ]
    },
    {
     "data": {
      "text/plain": "  0%|          | 0/680 [00:00<?, ?it/s]",
      "application/vnd.jupyter.widget-view+json": {
       "version_major": 2,
       "version_minor": 0,
       "model_id": "4700d84197834242a3a30f569e3b7d58"
      }
     },
     "metadata": {},
     "output_type": "display_data"
    },
    {
     "name": "stdout",
     "output_type": "stream",
     "text": [
      "MACS2 broad 33\n"
     ]
    },
    {
     "data": {
      "text/plain": "  0%|          | 0/85 [00:00<?, ?it/s]",
      "application/vnd.jupyter.widget-view+json": {
       "version_major": 2,
       "version_minor": 0,
       "model_id": "a05b67b50f054181be3752e700094bdd"
      }
     },
     "metadata": {},
     "output_type": "display_data"
    },
    {
     "name": "stdout",
     "output_type": "stream",
     "text": [
      "SICER 33\n"
     ]
    },
    {
     "data": {
      "text/plain": "  0%|          | 0/171 [00:00<?, ?it/s]",
      "application/vnd.jupyter.widget-view+json": {
       "version_major": 2,
       "version_minor": 0,
       "model_id": "f239345d79944af1bb78370b1e3f8d29"
      }
     },
     "metadata": {},
     "output_type": "display_data"
    },
    {
     "name": "stdout",
     "output_type": "stream",
     "text": [
      "SPAN 33\n"
     ]
    },
    {
     "data": {
      "text/plain": "                                                  file modification   cell  \\\n58   /home/jetbrains/data/2023_GSE26320/macs2/GSM64...      H3K4me3   NHEK   \n40   /home/jetbrains/data/2023_GSE26320/macs2/GSM64...      H3K4me3   NHEK   \n8    /home/jetbrains/data/2023_GSE26320/macs2/GSM64...     H3K36me3   HMEC   \n55   /home/jetbrains/data/2023_GSE26320/macs2/GSM64...      H3K4me3  Huvec   \n127  /home/jetbrains/data/2023_GSE26320/span/GSM646...     H3K36me3  HepG2   \n\n    replicate  peaks         tool dataset  \n58       rep1  40028  MACS2 broad  ENCODE  \n40       rep2  27886  MACS2 broad  ENCODE  \n8        rep1      0        MACS2  ENCODE  \n55       rep1  24934  MACS2 broad  ENCODE  \n127      rep2  29492         SPAN  ENCODE  ",
      "text/html": "<div>\n<style scoped>\n    .dataframe tbody tr th:only-of-type {\n        vertical-align: middle;\n    }\n\n    .dataframe tbody tr th {\n        vertical-align: top;\n    }\n\n    .dataframe thead th {\n        text-align: right;\n    }\n</style>\n<table border=\"1\" class=\"dataframe\">\n  <thead>\n    <tr style=\"text-align: right;\">\n      <th></th>\n      <th>file</th>\n      <th>modification</th>\n      <th>cell</th>\n      <th>replicate</th>\n      <th>peaks</th>\n      <th>tool</th>\n      <th>dataset</th>\n    </tr>\n  </thead>\n  <tbody>\n    <tr>\n      <th>58</th>\n      <td>/home/jetbrains/data/2023_GSE26320/macs2/GSM64...</td>\n      <td>H3K4me3</td>\n      <td>NHEK</td>\n      <td>rep1</td>\n      <td>40028</td>\n      <td>MACS2 broad</td>\n      <td>ENCODE</td>\n    </tr>\n    <tr>\n      <th>40</th>\n      <td>/home/jetbrains/data/2023_GSE26320/macs2/GSM64...</td>\n      <td>H3K4me3</td>\n      <td>NHEK</td>\n      <td>rep2</td>\n      <td>27886</td>\n      <td>MACS2 broad</td>\n      <td>ENCODE</td>\n    </tr>\n    <tr>\n      <th>8</th>\n      <td>/home/jetbrains/data/2023_GSE26320/macs2/GSM64...</td>\n      <td>H3K36me3</td>\n      <td>HMEC</td>\n      <td>rep1</td>\n      <td>0</td>\n      <td>MACS2</td>\n      <td>ENCODE</td>\n    </tr>\n    <tr>\n      <th>55</th>\n      <td>/home/jetbrains/data/2023_GSE26320/macs2/GSM64...</td>\n      <td>H3K4me3</td>\n      <td>Huvec</td>\n      <td>rep1</td>\n      <td>24934</td>\n      <td>MACS2 broad</td>\n      <td>ENCODE</td>\n    </tr>\n    <tr>\n      <th>127</th>\n      <td>/home/jetbrains/data/2023_GSE26320/span/GSM646...</td>\n      <td>H3K36me3</td>\n      <td>HepG2</td>\n      <td>rep2</td>\n      <td>29492</td>\n      <td>SPAN</td>\n      <td>ENCODE</td>\n    </tr>\n  </tbody>\n</table>\n</div>"
     },
     "execution_count": 13,
     "metadata": {},
     "output_type": "execute_result"
    }
   ],
   "source": [
    "df_encode_peaks = load_peaks_path(GSE26320_PATH, MODIFICATIONS, GSE26320_CELLS, GSE26320_REPS)\n",
    "df_encode_peaks['dataset'] = 'ENCODE'\n",
    "df_encode_peaks.sample(5)"
   ],
   "metadata": {
    "collapsed": false,
    "ExecuteTime": {
     "end_time": "2023-12-06T09:43:34.501646Z",
     "start_time": "2023-12-06T09:43:24.836266Z"
    }
   }
  },
  {
   "cell_type": "code",
   "execution_count": 14,
   "outputs": [
    {
     "data": {
      "text/plain": "  0%|          | 0/368 [00:00<?, ?it/s]",
      "application/vnd.jupyter.widget-view+json": {
       "version_major": 2,
       "version_minor": 0,
       "model_id": "485b7c22d77d40ea93af0cbea9e64d12"
      }
     },
     "metadata": {},
     "output_type": "display_data"
    },
    {
     "name": "stdout",
     "output_type": "stream",
     "text": [
      "MACS2 20\n"
     ]
    },
    {
     "data": {
      "text/plain": "  0%|          | 0/368 [00:00<?, ?it/s]",
      "application/vnd.jupyter.widget-view+json": {
       "version_major": 2,
       "version_minor": 0,
       "model_id": "dae11f8533b64f75b04e69207d267952"
      }
     },
     "metadata": {},
     "output_type": "display_data"
    },
    {
     "name": "stdout",
     "output_type": "stream",
     "text": [
      "MACS2 broad 20\n"
     ]
    },
    {
     "data": {
      "text/plain": "  0%|          | 0/47 [00:00<?, ?it/s]",
      "application/vnd.jupyter.widget-view+json": {
       "version_major": 2,
       "version_minor": 0,
       "model_id": "f90b41bd2fe74364a140918f3ef0ebad"
      }
     },
     "metadata": {},
     "output_type": "display_data"
    },
    {
     "name": "stdout",
     "output_type": "stream",
     "text": [
      "SICER 20\n"
     ]
    },
    {
     "data": {
      "text/plain": "  0%|          | 0/96 [00:00<?, ?it/s]",
      "application/vnd.jupyter.widget-view+json": {
       "version_major": 2,
       "version_minor": 0,
       "model_id": "d8d23cd56d1049d5b0796b57fa58dd29"
      }
     },
     "metadata": {},
     "output_type": "display_data"
    },
    {
     "name": "stdout",
     "output_type": "stream",
     "text": [
      "SPAN 20\n"
     ]
    },
    {
     "data": {
      "text/plain": "                                                 file modification      cell  \\\n34  /home/jetbrains/data/2023_Immune/macs2/BCell_H...      H3K4me3     BCell   \n8   /home/jetbrains/data/2023_Immune/macs2/Monocyt...     H3K36me3  Monocyte   \n4   /home/jetbrains/data/2023_Immune/macs2/CD34_H3...     H3K36me3      CD34   \n16  /home/jetbrains/data/2023_Immune/macs2/BCell_H...     H3K36me3     BCell   \n57  /home/jetbrains/data/2023_Immune/sicer/NK_H3K4...      H3K4me3        NK   \n\n   replicate   peaks         tool  dataset  \n34             24118  MACS2 broad  Roadmap  \n8             127115        MACS2  Roadmap  \n4             154337        MACS2  Roadmap  \n16            177956        MACS2  Roadmap  \n57             62887        SICER  Roadmap  ",
      "text/html": "<div>\n<style scoped>\n    .dataframe tbody tr th:only-of-type {\n        vertical-align: middle;\n    }\n\n    .dataframe tbody tr th {\n        vertical-align: top;\n    }\n\n    .dataframe thead th {\n        text-align: right;\n    }\n</style>\n<table border=\"1\" class=\"dataframe\">\n  <thead>\n    <tr style=\"text-align: right;\">\n      <th></th>\n      <th>file</th>\n      <th>modification</th>\n      <th>cell</th>\n      <th>replicate</th>\n      <th>peaks</th>\n      <th>tool</th>\n      <th>dataset</th>\n    </tr>\n  </thead>\n  <tbody>\n    <tr>\n      <th>34</th>\n      <td>/home/jetbrains/data/2023_Immune/macs2/BCell_H...</td>\n      <td>H3K4me3</td>\n      <td>BCell</td>\n      <td></td>\n      <td>24118</td>\n      <td>MACS2 broad</td>\n      <td>Roadmap</td>\n    </tr>\n    <tr>\n      <th>8</th>\n      <td>/home/jetbrains/data/2023_Immune/macs2/Monocyt...</td>\n      <td>H3K36me3</td>\n      <td>Monocyte</td>\n      <td></td>\n      <td>127115</td>\n      <td>MACS2</td>\n      <td>Roadmap</td>\n    </tr>\n    <tr>\n      <th>4</th>\n      <td>/home/jetbrains/data/2023_Immune/macs2/CD34_H3...</td>\n      <td>H3K36me3</td>\n      <td>CD34</td>\n      <td></td>\n      <td>154337</td>\n      <td>MACS2</td>\n      <td>Roadmap</td>\n    </tr>\n    <tr>\n      <th>16</th>\n      <td>/home/jetbrains/data/2023_Immune/macs2/BCell_H...</td>\n      <td>H3K36me3</td>\n      <td>BCell</td>\n      <td></td>\n      <td>177956</td>\n      <td>MACS2</td>\n      <td>Roadmap</td>\n    </tr>\n    <tr>\n      <th>57</th>\n      <td>/home/jetbrains/data/2023_Immune/sicer/NK_H3K4...</td>\n      <td>H3K4me3</td>\n      <td>NK</td>\n      <td></td>\n      <td>62887</td>\n      <td>SICER</td>\n      <td>Roadmap</td>\n    </tr>\n  </tbody>\n</table>\n</div>"
     },
     "execution_count": 14,
     "metadata": {},
     "output_type": "execute_result"
    }
   ],
   "source": [
    "df_immune_peaks = load_peaks_path(IMMUNE_PATH, MODIFICATIONS, IMMUNE_CELLS, IMMUNE_REPS)\n",
    "df_immune_peaks['dataset'] = 'Roadmap'\n",
    "df_immune_peaks.sample(5)"
   ],
   "metadata": {
    "collapsed": false,
    "ExecuteTime": {
     "end_time": "2023-12-06T09:43:41.762948Z",
     "start_time": "2023-12-06T09:43:34.500044Z"
    }
   }
  },
  {
   "cell_type": "code",
   "execution_count": 15,
   "outputs": [],
   "source": [
    "df_peaks = pd.concat([df_encode_peaks, df_immune_peaks]).reset_index(drop=True)"
   ],
   "metadata": {
    "collapsed": false,
    "ExecuteTime": {
     "end_time": "2023-12-06T09:43:41.779360Z",
     "start_time": "2023-12-06T09:43:41.753738Z"
    }
   }
  },
  {
   "cell_type": "code",
   "execution_count": 17,
   "outputs": [],
   "source": [
    "OUTLIERS = [('H3K4me3', 'NK', ''), ('H3K4me1', 'NK', ''), ('H3K27me3', 'TCell', ''), ('H3K27ac', 'CD34', ''), ('H3K27me3', 'NHLF', 'rep2'), ('H3K27me3', 'GM12878', 'rep1')]"
   ],
   "metadata": {
    "collapsed": false,
    "ExecuteTime": {
     "end_time": "2023-12-06T09:44:04.145515Z",
     "start_time": "2023-12-06T09:44:03.476686Z"
    }
   }
  },
  {
   "cell_type": "code",
   "execution_count": 18,
   "outputs": [],
   "source": [
    "# Remove outliers\n",
    "# display(df_peaks[(df_peaks['peaks'] > 130_000) | (df_peaks['peaks'] < 10_000)])\n",
    "# df_peaks = df_peaks[(df_peaks['peaks'] < 130_000) & (df_peaks['peaks'] > 10_000)]\n",
    "df_peaks = df_peaks.loc[[(m, c, r) not in OUTLIERS for _, (m, c, r) in df_peaks[['modification', 'cell', 'replicate']].iterrows()]]"
   ],
   "metadata": {
    "collapsed": false,
    "ExecuteTime": {
     "end_time": "2023-12-06T09:44:04.241270Z",
     "start_time": "2023-12-06T09:44:03.515613Z"
    }
   }
  },
  {
   "cell_type": "code",
   "execution_count": 21,
   "outputs": [
    {
     "data": {
      "text/plain": "<Figure size 432x216 with 2 Axes>",
      "image/png": "[encoded data removed]"
     },
     "metadata": {
      "image/png": {
       "width": 424,
       "height": 208
      }
     },
     "output_type": "display_data"
    }
   ],
   "source": [
    "plt.figure(figsize=(6, 3))\n",
    "axs = [plt.subplot(1, 2, i + 1) for i in range(2)]\n",
    "for i, m in enumerate(MODIFICATIONS):\n",
    "    ax = axs[i]\n",
    "    g_results = sns.barplot(data=df_peaks[df_peaks['modification'] == m], x='tool', y='peaks', ax=ax,\n",
    "                            hue='dataset',\n",
    "                            capsize=.2, errwidth=2, edgecolor=\"black\",\n",
    "                            # palette=TOOLS_PALETTE,\n",
    "                            order=['MACS2', 'MACS2 broad', 'SPAN', 'SICER'])\n",
    "    ax.xaxis.set_tick_params(rotation=90)\n",
    "    ax.title.set_text(m)\n",
    "    if i > 0:\n",
    "        ax.set_ylabel(None)\n",
    "    else:\n",
    "        ax.set_ylabel('peaks')\n",
    "    if i < 1:\n",
    "        ax.legend().set_visible(False)\n",
    "    else:\n",
    "        # Put a legend to the right of the current axis\n",
    "        ax.legend(loc='center left', bbox_to_anchor=(1, 0.5))\n",
    "\n",
    "    # ax.set_ylim(0, 1.9e7)\n",
    "plt.tight_layout()\n",
    "# plt.savefig(GSE26320_PATH_HG38 + f'/pics/library_mapped_detailed_all.pdf', bbox_inches='tight', dpi=300)\n",
    "plt.show()"
   ],
   "metadata": {
    "collapsed": false,
    "ExecuteTime": {
     "end_time": "2023-12-06T09:44:52.393353Z",
     "start_time": "2023-12-06T09:44:51.595319Z"
    }
   }
  },
  {
   "cell_type": "markdown",
   "source": [
    "# H3K4me3 vs RNA-seq\n",
    "\n",
    "Benchmark according to the paper https://doi.org/10.1093/bib/bbw035\n",
    "Features that define the best ChIP-seq peak calling algorithms\n",
    "\n",
    "We considered a peak as positive if it overlaps the promoter of an expressed gene (RPKM > 0.5).\n",
    "The top 15 000 peak calls from the different methods are ranked by their significance or by their fold enrichment for the thresholding method. We plotted the correct peak fraction (fraction of the top 1000xn peaks that overlap with active promoters) detected as a function of the correct promoter fraction (fraction of the active promoters that overlap with the top 1000xn peaks)."
   ],
   "metadata": {
    "collapsed": false
   }
  },
  {
   "cell_type": "code",
   "execution_count": 22,
   "outputs": [
    {
     "data": {
      "text/plain": "        chromosome       db  type      start        end point1 strand point2  \\\n2162858      chr12   HAVANA  exon  126690453  126690588      .      +      .   \n1616161       chr9   HAVANA   CDS  127669898  127669958      .      +      1   \n2296436      chr14   HAVANA  exon   73206386   73206472      .      +      .   \n2121474      chr12   HAVANA   CDS  101632021  101632138      .      +      0   \n113488        chr1   HAVANA   CDS   59871042   59871110      .      +      0   \n1649485       chr9   HAVANA  exon  137814431  137814508      .      +      .   \n2672107      chr17  ENSEMBL  exon   19655281   19655358      .      +      .   \n2181129      chr13   HAVANA  exon   32175546   32175632      .      +      .   \n1037919       chr5   HAVANA  exon  144165432  144165604      .      -      .   \n3050821      chr19   HAVANA  exon   55161065   55161187      .      -      .   \n\n                                                       aux  \n2162858  gene_id \"ENSG00000255998.2\"; transcript_id \"EN...  \n1616161  gene_id \"ENSG00000136854.24\"; transcript_id \"E...  \n2296436  gene_id \"ENSG00000080815.20\"; transcript_id \"E...  \n2121474  gene_id \"ENSG00000196091.15\"; transcript_id \"E...  \n113488   gene_id \"ENSG00000134709.13\"; transcript_id \"E...  \n1649485  gene_id \"ENSG00000181090.21\"; transcript_id \"E...  \n2672107  gene_id \"ENSG00000072210.19\"; transcript_id \"E...  \n2181129  gene_id \"ENSG00000073910.23\"; transcript_id \"E...  \n1037919  gene_id \"ENSG00000145817.17\"; transcript_id \"E...  \n3050821  gene_id \"ENSG00000167646.14\"; transcript_id \"E...  ",
      "text/html": "<div>\n<style scoped>\n    .dataframe tbody tr th:only-of-type {\n        vertical-align: middle;\n    }\n\n    .dataframe tbody tr th {\n        vertical-align: top;\n    }\n\n    .dataframe thead th {\n        text-align: right;\n    }\n</style>\n<table border=\"1\" class=\"dataframe\">\n  <thead>\n    <tr style=\"text-align: right;\">\n      <th></th>\n      <th>chromosome</th>\n      <th>db</th>\n      <th>type</th>\n      <th>start</th>\n      <th>end</th>\n      <th>point1</th>\n      <th>strand</th>\n      <th>point2</th>\n      <th>aux</th>\n    </tr>\n  </thead>\n  <tbody>\n    <tr>\n      <th>2162858</th>\n      <td>chr12</td>\n      <td>HAVANA</td>\n      <td>exon</td>\n      <td>126690453</td>\n      <td>126690588</td>\n      <td>.</td>\n      <td>+</td>\n      <td>.</td>\n      <td>gene_id \"ENSG00000255998.2\"; transcript_id \"EN...</td>\n    </tr>\n    <tr>\n      <th>1616161</th>\n      <td>chr9</td>\n      <td>HAVANA</td>\n      <td>CDS</td>\n      <td>127669898</td>\n      <td>127669958</td>\n      <td>.</td>\n      <td>+</td>\n      <td>1</td>\n      <td>gene_id \"ENSG00000136854.24\"; transcript_id \"E...</td>\n    </tr>\n    <tr>\n      <th>2296436</th>\n      <td>chr14</td>\n      <td>HAVANA</td>\n      <td>exon</td>\n      <td>73206386</td>\n      <td>73206472</td>\n      <td>.</td>\n      <td>+</td>\n      <td>.</td>\n      <td>gene_id \"ENSG00000080815.20\"; transcript_id \"E...</td>\n    </tr>\n    <tr>\n      <th>2121474</th>\n      <td>chr12</td>\n      <td>HAVANA</td>\n      <td>CDS</td>\n      <td>101632021</td>\n      <td>101632138</td>\n      <td>.</td>\n      <td>+</td>\n      <td>0</td>\n      <td>gene_id \"ENSG00000196091.15\"; transcript_id \"E...</td>\n    </tr>\n    <tr>\n      <th>113488</th>\n      <td>chr1</td>\n      <td>HAVANA</td>\n      <td>CDS</td>\n      <td>59871042</td>\n      <td>59871110</td>\n      <td>.</td>\n      <td>+</td>\n      <td>0</td>\n      <td>gene_id \"ENSG00000134709.13\"; transcript_id \"E...</td>\n    </tr>\n    <tr>\n      <th>1649485</th>\n      <td>chr9</td>\n      <td>HAVANA</td>\n      <td>exon</td>\n      <td>137814431</td>\n      <td>137814508</td>\n      <td>.</td>\n      <td>+</td>\n      <td>.</td>\n      <td>gene_id \"ENSG00000181090.21\"; transcript_id \"E...</td>\n    </tr>\n    <tr>\n      <th>2672107</th>\n      <td>chr17</td>\n      <td>ENSEMBL</td>\n      <td>exon</td>\n      <td>19655281</td>\n      <td>19655358</td>\n      <td>.</td>\n      <td>+</td>\n      <td>.</td>\n      <td>gene_id \"ENSG00000072210.19\"; transcript_id \"E...</td>\n    </tr>\n    <tr>\n      <th>2181129</th>\n      <td>chr13</td>\n      <td>HAVANA</td>\n      <td>exon</td>\n      <td>32175546</td>\n      <td>32175632</td>\n      <td>.</td>\n      <td>+</td>\n      <td>.</td>\n      <td>gene_id \"ENSG00000073910.23\"; transcript_id \"E...</td>\n    </tr>\n    <tr>\n      <th>1037919</th>\n      <td>chr5</td>\n      <td>HAVANA</td>\n      <td>exon</td>\n      <td>144165432</td>\n      <td>144165604</td>\n      <td>.</td>\n      <td>-</td>\n      <td>.</td>\n      <td>gene_id \"ENSG00000145817.17\"; transcript_id \"E...</td>\n    </tr>\n    <tr>\n      <th>3050821</th>\n      <td>chr19</td>\n      <td>HAVANA</td>\n      <td>exon</td>\n      <td>55161065</td>\n      <td>55161187</td>\n      <td>.</td>\n      <td>-</td>\n      <td>.</td>\n      <td>gene_id \"ENSG00000167646.14\"; transcript_id \"E...</td>\n    </tr>\n  </tbody>\n</table>\n</div>"
     },
     "execution_count": 22,
     "metadata": {},
     "output_type": "execute_result"
    }
   ],
   "source": [
    "gtf_df = pd.read_csv(os.path.expanduser(\n",
    "    '~/data/2023_Immune/gencode.GRCh38.p13.v41.annotation.gtf'),\n",
    "    sep='\\t', comment='#',\n",
    "    names=['chromosome', 'db', 'type', 'start', 'end', 'point1', 'strand', 'point2', 'aux'])\n",
    "gtf_df.sample(10)"
   ],
   "metadata": {
    "collapsed": false,
    "ExecuteTime": {
     "end_time": "2023-12-06T09:46:52.109206Z",
     "start_time": "2023-12-06T09:46:35.689030Z"
    }
   }
  },
  {
   "cell_type": "code",
   "execution_count": 28,
   "outputs": [
    {
     "name": "stdout",
     "output_type": "stream",
     "text": [
      "Parse GTF aux data\n"
     ]
    },
    {
     "ename": "KeyError",
     "evalue": "'aux'",
     "output_type": "error",
     "traceback": [
      "\u001B[0;31m---------------------------------------------------------------------------\u001B[0m",
      "\u001B[0;31mKeyError\u001B[0m                                  Traceback (most recent call last)",
      "File \u001B[0;32m~/miniconda3/envs/pubtrends/lib/python3.10/site-packages/pandas/core/indexes/base.py:3621\u001B[0m, in \u001B[0;36mIndex.get_loc\u001B[0;34m(self, key, method, tolerance)\u001B[0m\n\u001B[1;32m   3620\u001B[0m \u001B[38;5;28;01mtry\u001B[39;00m:\n\u001B[0;32m-> 3621\u001B[0m     \u001B[38;5;28;01mreturn\u001B[39;00m \u001B[38;5;28;43mself\u001B[39;49m\u001B[38;5;241;43m.\u001B[39;49m\u001B[43m_engine\u001B[49m\u001B[38;5;241;43m.\u001B[39;49m\u001B[43mget_loc\u001B[49m\u001B[43m(\u001B[49m\u001B[43mcasted_key\u001B[49m\u001B[43m)\u001B[49m\n\u001B[1;32m   3622\u001B[0m \u001B[38;5;28;01mexcept\u001B[39;00m \u001B[38;5;167;01mKeyError\u001B[39;00m \u001B[38;5;28;01mas\u001B[39;00m err:\n",
      "File \u001B[0;32m~/miniconda3/envs/pubtrends/lib/python3.10/site-packages/pandas/_libs/index.pyx:136\u001B[0m, in \u001B[0;36mpandas._libs.index.IndexEngine.get_loc\u001B[0;34m()\u001B[0m\n",
      "File \u001B[0;32m~/miniconda3/envs/pubtrends/lib/python3.10/site-packages/pandas/_libs/index.pyx:163\u001B[0m, in \u001B[0;36mpandas._libs.index.IndexEngine.get_loc\u001B[0;34m()\u001B[0m\n",
      "File \u001B[0;32mpandas/_libs/hashtable_class_helper.pxi:5198\u001B[0m, in \u001B[0;36mpandas._libs.hashtable.PyObjectHashTable.get_item\u001B[0;34m()\u001B[0m\n",
      "File \u001B[0;32mpandas/_libs/hashtable_class_helper.pxi:5206\u001B[0m, in \u001B[0;36mpandas._libs.hashtable.PyObjectHashTable.get_item\u001B[0;34m()\u001B[0m\n",
      "\u001B[0;31mKeyError\u001B[0m: 'aux'",
      "\nThe above exception was the direct cause of the following exception:\n",
      "\u001B[0;31mKeyError\u001B[0m                                  Traceback (most recent call last)",
      "Input \u001B[0;32mIn [28]\u001B[0m, in \u001B[0;36m<cell line: 5>\u001B[0;34m()\u001B[0m\n\u001B[1;32m      3\u001B[0m \u001B[38;5;28mprint\u001B[39m(\u001B[38;5;124m'\u001B[39m\u001B[38;5;124mParse GTF aux data\u001B[39m\u001B[38;5;124m'\u001B[39m)\n\u001B[1;32m      4\u001B[0m auxes \u001B[38;5;241m=\u001B[39m {}\n\u001B[0;32m----> 5\u001B[0m \u001B[38;5;28;01mfor\u001B[39;00m i, aux \u001B[38;5;129;01min\u001B[39;00m \u001B[38;5;28menumerate\u001B[39m(tqdm(\u001B[43mgtf_df\u001B[49m\u001B[43m[\u001B[49m\u001B[38;5;124;43m'\u001B[39;49m\u001B[38;5;124;43maux\u001B[39;49m\u001B[38;5;124;43m'\u001B[39;49m\u001B[43m]\u001B[49m)):\n\u001B[1;32m      6\u001B[0m     \u001B[38;5;28;01mfor\u001B[39;00m pair \u001B[38;5;129;01min\u001B[39;00m aux\u001B[38;5;241m.\u001B[39msplit(\u001B[38;5;124m'\u001B[39m\u001B[38;5;124m;\u001B[39m\u001B[38;5;124m'\u001B[39m):\n\u001B[1;32m      7\u001B[0m         kv \u001B[38;5;241m=\u001B[39m pair\u001B[38;5;241m.\u001B[39mstrip()\u001B[38;5;241m.\u001B[39msplit(\u001B[38;5;124m'\u001B[39m\u001B[38;5;124m \u001B[39m\u001B[38;5;124m'\u001B[39m)\n",
      "File \u001B[0;32m~/miniconda3/envs/pubtrends/lib/python3.10/site-packages/pandas/core/frame.py:3505\u001B[0m, in \u001B[0;36mDataFrame.__getitem__\u001B[0;34m(self, key)\u001B[0m\n\u001B[1;32m   3503\u001B[0m \u001B[38;5;28;01mif\u001B[39;00m \u001B[38;5;28mself\u001B[39m\u001B[38;5;241m.\u001B[39mcolumns\u001B[38;5;241m.\u001B[39mnlevels \u001B[38;5;241m>\u001B[39m \u001B[38;5;241m1\u001B[39m:\n\u001B[1;32m   3504\u001B[0m     \u001B[38;5;28;01mreturn\u001B[39;00m \u001B[38;5;28mself\u001B[39m\u001B[38;5;241m.\u001B[39m_getitem_multilevel(key)\n\u001B[0;32m-> 3505\u001B[0m indexer \u001B[38;5;241m=\u001B[39m \u001B[38;5;28;43mself\u001B[39;49m\u001B[38;5;241;43m.\u001B[39;49m\u001B[43mcolumns\u001B[49m\u001B[38;5;241;43m.\u001B[39;49m\u001B[43mget_loc\u001B[49m\u001B[43m(\u001B[49m\u001B[43mkey\u001B[49m\u001B[43m)\u001B[49m\n\u001B[1;32m   3506\u001B[0m \u001B[38;5;28;01mif\u001B[39;00m is_integer(indexer):\n\u001B[1;32m   3507\u001B[0m     indexer \u001B[38;5;241m=\u001B[39m [indexer]\n",
      "File \u001B[0;32m~/miniconda3/envs/pubtrends/lib/python3.10/site-packages/pandas/core/indexes/base.py:3623\u001B[0m, in \u001B[0;36mIndex.get_loc\u001B[0;34m(self, key, method, tolerance)\u001B[0m\n\u001B[1;32m   3621\u001B[0m     \u001B[38;5;28;01mreturn\u001B[39;00m \u001B[38;5;28mself\u001B[39m\u001B[38;5;241m.\u001B[39m_engine\u001B[38;5;241m.\u001B[39mget_loc(casted_key)\n\u001B[1;32m   3622\u001B[0m \u001B[38;5;28;01mexcept\u001B[39;00m \u001B[38;5;167;01mKeyError\u001B[39;00m \u001B[38;5;28;01mas\u001B[39;00m err:\n\u001B[0;32m-> 3623\u001B[0m     \u001B[38;5;28;01mraise\u001B[39;00m \u001B[38;5;167;01mKeyError\u001B[39;00m(key) \u001B[38;5;28;01mfrom\u001B[39;00m \u001B[38;5;21;01merr\u001B[39;00m\n\u001B[1;32m   3624\u001B[0m \u001B[38;5;28;01mexcept\u001B[39;00m \u001B[38;5;167;01mTypeError\u001B[39;00m:\n\u001B[1;32m   3625\u001B[0m     \u001B[38;5;66;03m# If we have a listlike key, _check_indexing_error will raise\u001B[39;00m\n\u001B[1;32m   3626\u001B[0m     \u001B[38;5;66;03m#  InvalidIndexError. Otherwise we fall through and re-raise\u001B[39;00m\n\u001B[1;32m   3627\u001B[0m     \u001B[38;5;66;03m#  the TypeError.\u001B[39;00m\n\u001B[1;32m   3628\u001B[0m     \u001B[38;5;28mself\u001B[39m\u001B[38;5;241m.\u001B[39m_check_indexing_error(key)\n",
      "\u001B[0;31mKeyError\u001B[0m: 'aux'"
     ]
    }
   ],
   "source": [
    "import re\n",
    "\n",
    "print('Parse GTF aux data')\n",
    "auxes = {}\n",
    "for i, aux in enumerate(tqdm(gtf_df['aux'])):\n",
    "    for pair in aux.split(';'):\n",
    "        kv = pair.strip().split(' ')\n",
    "        if len(kv) != 2:\n",
    "            continue\n",
    "        k, v = kv\n",
    "        if k not in auxes:\n",
    "            auxes[k] = vs = []\n",
    "        else:\n",
    "            vs = auxes[k]\n",
    "        vs.append(v.strip('\"'))\n",
    "\n",
    "for k, vs in auxes.items():\n",
    "    if len(vs) == len(gtf_df):\n",
    "        gtf_df[k] = vs\n",
    "    else:\n",
    "        print(f'Ignoring {k}')\n",
    "del auxes\n",
    "gtf_df.drop('aux', axis=1, inplace=True)\n",
    "\n",
    "# Fix . in gene_id\n",
    "gtf_df['gene_id'] = [re.sub('\\..*', '', id) for id in gtf_df['gene_id']]"
   ],
   "metadata": {
    "collapsed": false,
    "ExecuteTime": {
     "end_time": "2023-12-06T09:55:31.713450Z",
     "start_time": "2023-12-06T09:55:28.437126Z"
    }
   }
  },
  {
   "cell_type": "code",
   "execution_count": null,
   "outputs": [],
   "source": [
    "print(f'Total hg38 records {len(gtf_df)}')\n",
    "print(f'Total hg38 genes {sum(gtf_df[\"type\"] == \"gene\")}')\n",
    "print(f'Total hg38 protein_coding genes {sum((gtf_df[\"type\"] == \"gene\") & (gtf_df[\"gene_type\"] == \"protein_coding\"))}')\n",
    "\n",
    "gtf_genes_df = gtf_df[gtf_df['type'] == 'gene']\n",
    "gtf_genes_df.sample(5)"
   ],
   "metadata": {
    "collapsed": false,
    "ExecuteTime": {
     "end_time": "2023-12-06T09:55:31.726237Z",
     "start_time": "2023-12-06T09:55:31.718085Z"
    }
   }
  },
  {
   "cell_type": "markdown",
   "source": [
    "## Annotate quanitified RNA-seq with TSS positions"
   ],
   "metadata": {
    "collapsed": false
   }
  },
  {
   "cell_type": "code",
   "execution_count": null,
   "outputs": [],
   "source": [
    "def merge_genes(full_df):\n",
    "    print('Merging overlapping regions', len(full_df))\n",
    "    ts = []\n",
    "    for chr in full_df['chromosome'].unique():\n",
    "        t = full_df[full_df['chromosome'] == chr].sort_values(by=['start', 'end']).copy()\n",
    "        cols = t.columns.difference(['start', 'end'])\n",
    "        grps = t['start'].sub(t['end'].shift()).gt(1).cumsum()\n",
    "        gpby = t.groupby(grps)\n",
    "        t = gpby.agg(dict(start='min', end='max')).join(gpby[cols].mean())\n",
    "        t['chromosome'] = chr\n",
    "        t['gene_id'] = 'merged'\n",
    "        t['strand'] = '.'\n",
    "        t = t[['chromosome', 'start', 'end', 'gene_id', 'strand', 'TPM', 'LTPM']]\n",
    "        ts.append(t)\n",
    "    ts = pd.concat(ts).reset_index(drop=True)\n",
    "    print('Reduced to', len(ts))\n",
    "    return ts"
   ],
   "metadata": {
    "collapsed": false,
    "ExecuteTime": {
     "start_time": "2023-12-06T09:55:31.720345Z"
    }
   }
  },
  {
   "cell_type": "code",
   "execution_count": 83,
   "outputs": [],
   "source": [
    "import re\n",
    "\n",
    "GSE26320_RNASEQ_PATH = os.path.expanduser('~/data/2023_GSE26320_rnaseq')\n",
    "\n",
    "GSE26320_EXPRESSION_TSV = {\n",
    "    ('GM12878', 'rep1') : GSE26320_RNASEQ_PATH + '/GM12878_rep1_RNAseq_hg38_ENCFF723ICA.tsv',\n",
    "    ('GM12878', 'rep2'): GSE26320_RNASEQ_PATH + '/GM12878_rep2_RNAseq_hg38_ENCFF418FIT.tsv',\n",
    "    ('H1', 'rep1') : GSE26320_RNASEQ_PATH + '/H1_rep1_RNAseq_hg38_ENCFF093NEQ.tsv',\n",
    "    ('H1', 'rep2') : GSE26320_RNASEQ_PATH + '/H1_rep1_RNAseq_hg38_ENCFF093NEQ.tsv',\n",
    "    ('HMEC', 'rep1') : GSE26320_RNASEQ_PATH + '/HMEC_rep1_RNAseq_hg38_ENCFF292FVY.tsv',\n",
    "    ('HMEC', 'rep2') : GSE26320_RNASEQ_PATH + '/HMEC_rep2_RNAseq_hg38_ENCFF219EZH.tsv',\n",
    "    ('HSMM', 'rep1') : GSE26320_RNASEQ_PATH + '/HSMM_rep1_RNAseq_hg38_ENCFF551YKI.tsv',\n",
    "    ('HSMM', 'rep2') : GSE26320_RNASEQ_PATH + 'HSMM_rep2_RNAseq_hg38_ENCFF497BUG.tsv',\n",
    "    ('HepG2', 'rep1') : GSE26320_RNASEQ_PATH + '/HepG2_rep1_RNAseq_hg38_ENCFF773JNC.tsv',\n",
    "    ('HepG2', 'rep2') : GSE26320_RNASEQ_PATH + '/HepG2_rep2_RNAseq_hg38_ENCFF570ZOT.tsv',\n",
    "    ('Huvec', 'rep1') : GSE26320_RNASEQ_PATH + '/Huvec_rep1_RNAseq_hg38_ENCFF454MTF.tsv',\n",
    "    ('Huvec', 'rep2') : GSE26320_RNASEQ_PATH + '/Huvec_rep2_RNAseq_hg38_ENCFF134FYP.tsv',\n",
    "    ('K562', 'rep1') : GSE26320_RNASEQ_PATH + '/K562_rep1_RNAseq_hg38_ENCFF139IXQ.tsv',\n",
    "    ('K562', 'rep2') : GSE26320_RNASEQ_PATH + '/K562_rep2_RNAseq_hg38_ENCFF088RDE.tsv',\n",
    "    ('NHEK', 'rep1') : GSE26320_RNASEQ_PATH + '/NHEK_rep1_RNAseq_hg38_ENCFF004JWA.tsv',\n",
    "    ('NHEK', 'rep2') : GSE26320_RNASEQ_PATH + '/NHEK_rep1_RNAseq_hg38_ENCFF004JWA.tsv',\n",
    "    ('NHLF', 'rep1') : GSE26320_RNASEQ_PATH + '/NHLF_rep1_RNAseq_hg38_ENCFF577DEC.tsv',\n",
    "    ('NHLF', 'rep2') : GSE26320_RNASEQ_PATH + '/NHLF_rep2_RNAseq_hg38_ENCFF412KNK.tsv'\n",
    "}"
   ],
   "metadata": {
    "collapsed": false,
    "ExecuteTime": {
     "end_time": "2023-12-06T12:16:00.156692Z",
     "start_time": "2023-12-06T12:16:00.153127Z"
    }
   }
  },
  {
   "cell_type": "code",
   "execution_count": 84,
   "outputs": [],
   "source": [
    "IMMUNE_EXPRESSION_TSV = {\n",
    "    ('BCell', ''): IMMUNE_PATH + '/expression/BCell_RNAseq_hg38_ENCFF947SKG.tsv',\n",
    "    ('TCell', ''): IMMUNE_PATH + '/expression/TCell_RNAseq_hg38_ENCFF502AZI.tsv',\n",
    "    ('Monocyte', ''): IMMUNE_PATH + '/expression/Monocyte_RNAseq_hg38_ENCFF408GAO.tsv',\n",
    "}"
   ],
   "metadata": {
    "collapsed": false,
    "ExecuteTime": {
     "end_time": "2023-12-06T12:17:09.111835Z",
     "start_time": "2023-12-06T12:17:09.057204Z"
    }
   }
  },
  {
   "cell_type": "markdown",
   "source": [
    "## Prepare track with TSS of expressed genes"
   ],
   "metadata": {
    "collapsed": false
   }
  },
  {
   "cell_type": "code",
   "execution_count": 85,
   "outputs": [],
   "source": [
    "TSS = 500\n",
    "THRESHOLD = 0.1\n",
    "\n",
    "def prepare_tss_expressed(expression_tsv):\n",
    "    resuls = {}\n",
    "    ts = []\n",
    "    for (cell, rep), path in tqdm(expression_tsv.items()):\n",
    "        print(cell, rep, path)\n",
    "        t = pd.read_csv(path, sep='\\t')\n",
    "        # Fix . in gene_id\n",
    "        t['gene_id'] = [re.sub('\\..*', '', id) for id in t['gene_id']]\n",
    "        t['LTPM'] = np.log1p(t['TPM'])\n",
    "        t['name'] = f'{cell} {rep}'\n",
    "        ts.append(t)\n",
    "\n",
    "        # Save expressed genes\n",
    "        full_df = pd.merge(left=t, right=gtf_genes_df, left_on='gene_id', right_on='gene_id')\n",
    "        print(f'Total genes with positions {len(full_df)}')\n",
    "        full_df = full_df[full_df['LTPM'] > THRESHOLD]\n",
    "        print(f'Genes logTPM > {THRESHOLD} {len(full_df)}')\n",
    "\n",
    "        starts = [\n",
    "            max(1, start - TSS if strand == '+' else end - TSS)\n",
    "            for start, end, strand in zip(full_df['start'], full_df['end'], full_df['strand'])\n",
    "        ]\n",
    "        ends = [\n",
    "            start + TSS if strand == '+' else end + TSS\n",
    "            for start, end, strand in zip(full_df['start'], full_df['end'], full_df['strand'])\n",
    "        ]\n",
    "        full_df['start'] = starts\n",
    "        full_df['end'] = ends\n",
    "        full_df = full_df[['chromosome', 'start', 'end', 'gene_id', 'strand', 'TPM', 'LTPM']]\n",
    "        full_df.sort_values(by=['chromosome', 'start'], inplace=True)\n",
    "        full_df = merge_genes(full_df)\n",
    "\n",
    "        expr_path = path.replace('.tsv', f'_tpm{THRESHOLD}_tss{TSS}.bed')\n",
    "        full_df.to_csv(expr_path, sep='\\t', index=False, header=None)\n",
    "        print(f'Saved expressed genes fom {cell} to {expr_path}')\n",
    "        resuls[(cell, rep)] = expr_path\n",
    "    \n",
    "    # Plot expression\n",
    "    plt.figure(figsize=(10, 4))\n",
    "    ax = plt.axes()\n",
    "    sns.histplot(data=pd.concat(ts).reset_index(drop=True), \n",
    "                 x='LTPM', hue='name', \n",
    "                 stat='density', bins=500, kde=True, alpha=0.4,\n",
    "                 ax=ax,\n",
    "                 )\n",
    "    ax.axvline(x=THRESHOLD, color='green')\n",
    "    ax.title.set_text('Expression')\n",
    "    # Put a legend to the right of the current axis\n",
    "    ax.legend(loc='center left', bbox_to_anchor=(1, 0.5))\n",
    "    plt.tight_layout()\n",
    "    plt.show()\n",
    "    return resuls"
   ],
   "metadata": {
    "collapsed": false,
    "ExecuteTime": {
     "end_time": "2023-12-06T12:17:11.200265Z",
     "start_time": "2023-12-06T12:17:11.185579Z"
    }
   }
  },
  {
   "cell_type": "code",
   "execution_count": 68,
   "outputs": [
    {
     "data": {
      "text/plain": "  0%|          | 0/18 [00:00<?, ?it/s]",
      "application/vnd.jupyter.widget-view+json": {
       "version_major": 2,
       "version_minor": 0,
       "model_id": "07a7ca2765b34e8097e1cb64c10b86fb"
      }
     },
     "metadata": {},
     "output_type": "display_data"
    },
    {
     "name": "stdout",
     "output_type": "stream",
     "text": [
      "GM12878 rep1 GM12878_rep1_RNAseq_hg38_ENCFF723ICA.tsv\n",
      "Total genes with positions 58387\n",
      "Genes logTPM > 0.1 15835\n",
      "Merging overlapping regions 15835\n",
      "Reduced to 13836\n",
      "Saved expressed genes fom GM12878 to /home/jetbrains/data/2023_GSE26320_rnaseq/GM12878_rep1_RNAseq_hg38_ENCFF723ICA_tpm0.1_tss500.bed\n",
      "GM12878 rep2 GM12878_rep2_RNAseq_hg38_ENCFF418FIT.tsv\n",
      "Total genes with positions 56646\n",
      "Genes logTPM > 0.1 15750\n",
      "Merging overlapping regions 15750\n",
      "Reduced to 13803\n",
      "Saved expressed genes fom GM12878 to /home/jetbrains/data/2023_GSE26320_rnaseq/GM12878_rep2_RNAseq_hg38_ENCFF418FIT_tpm0.1_tss500.bed\n",
      "H1 rep1 H1_rep1_RNAseq_hg38_ENCFF093NEQ.tsv\n",
      "Total genes with positions 56646\n",
      "Genes logTPM > 0.1 19379\n",
      "Merging overlapping regions 19379\n",
      "Reduced to 17085\n",
      "Saved expressed genes fom H1 to /home/jetbrains/data/2023_GSE26320_rnaseq/H1_rep1_RNAseq_hg38_ENCFF093NEQ_tpm0.1_tss500.bed\n",
      "H1 rep2 H1_rep1_RNAseq_hg38_ENCFF093NEQ.tsv\n",
      "Total genes with positions 56646\n",
      "Genes logTPM > 0.1 19379\n",
      "Merging overlapping regions 19379\n",
      "Reduced to 17085\n",
      "Saved expressed genes fom H1 to /home/jetbrains/data/2023_GSE26320_rnaseq/H1_rep1_RNAseq_hg38_ENCFF093NEQ_tpm0.1_tss500.bed\n",
      "HMEC rep1 HMEC_rep1_RNAseq_hg38_ENCFF292FVY.tsv\n",
      "Total genes with positions 58387\n",
      "Genes logTPM > 0.1 20029\n",
      "Merging overlapping regions 20029\n",
      "Reduced to 17476\n",
      "Saved expressed genes fom HMEC to /home/jetbrains/data/2023_GSE26320_rnaseq/HMEC_rep1_RNAseq_hg38_ENCFF292FVY_tpm0.1_tss500.bed\n",
      "HMEC rep2 HMEC_rep2_RNAseq_hg38_ENCFF219EZH.tsv\n",
      "Total genes with positions 58387\n",
      "Genes logTPM > 0.1 19373\n",
      "Merging overlapping regions 19373\n",
      "Reduced to 16935\n",
      "Saved expressed genes fom HMEC to /home/jetbrains/data/2023_GSE26320_rnaseq/HMEC_rep2_RNAseq_hg38_ENCFF219EZH_tpm0.1_tss500.bed\n",
      "HSMM rep1 HSMM_rep1_RNAseq_hg38_ENCFF551YKI.tsv\n",
      "Total genes with positions 52065\n",
      "Genes logTPM > 0.1 14527\n",
      "Merging overlapping regions 14527\n",
      "Reduced to 12943\n",
      "Saved expressed genes fom HSMM to /home/jetbrains/data/2023_GSE26320_rnaseq/HSMM_rep1_RNAseq_hg38_ENCFF551YKI_tpm0.1_tss500.bed\n",
      "HSMM rep2 HSMM_rep2_RNAseq_hg38_ENCFF497BUG.tsv\n",
      "Total genes with positions 52065\n",
      "Genes logTPM > 0.1 14501\n",
      "Merging overlapping regions 14501\n",
      "Reduced to 12942\n",
      "Saved expressed genes fom HSMM to /home/jetbrains/data/2023_GSE26320_rnaseq/HSMM_rep2_RNAseq_hg38_ENCFF497BUG_tpm0.1_tss500.bed\n",
      "HepG2 rep1 HepG2_rep1_RNAseq_hg38_ENCFF773JNC.tsv\n",
      "Total genes with positions 56646\n",
      "Genes logTPM > 0.1 17858\n",
      "Merging overlapping regions 17858\n",
      "Reduced to 15531\n",
      "Saved expressed genes fom HepG2 to /home/jetbrains/data/2023_GSE26320_rnaseq/HepG2_rep1_RNAseq_hg38_ENCFF773JNC_tpm0.1_tss500.bed\n",
      "HepG2 rep2 HepG2_rep2_RNAseq_hg38_ENCFF570ZOT.tsv\n",
      "Total genes with positions 56646\n",
      "Genes logTPM > 0.1 17175\n",
      "Merging overlapping regions 17175\n",
      "Reduced to 14951\n",
      "Saved expressed genes fom HepG2 to /home/jetbrains/data/2023_GSE26320_rnaseq/HepG2_rep2_RNAseq_hg38_ENCFF570ZOT_tpm0.1_tss500.bed\n",
      "Huvec rep1 Huvec_rep1_RNAseq_hg38_ENCFF454MTF.tsv\n",
      "Total genes with positions 58387\n",
      "Genes logTPM > 0.1 19939\n",
      "Merging overlapping regions 19939\n",
      "Reduced to 17448\n",
      "Saved expressed genes fom Huvec to /home/jetbrains/data/2023_GSE26320_rnaseq/Huvec_rep1_RNAseq_hg38_ENCFF454MTF_tpm0.1_tss500.bed\n",
      "Huvec rep2 Huvec_rep2_RNAseq_hg38_ENCFF134FYP.tsv\n",
      "Total genes with positions 58387\n",
      "Genes logTPM > 0.1 19526\n",
      "Merging overlapping regions 19526\n",
      "Reduced to 17037\n",
      "Saved expressed genes fom Huvec to /home/jetbrains/data/2023_GSE26320_rnaseq/Huvec_rep2_RNAseq_hg38_ENCFF134FYP_tpm0.1_tss500.bed\n",
      "K562 rep1 K562_rep1_RNAseq_hg38_ENCFF139IXQ.tsv\n",
      "Total genes with positions 52065\n",
      "Genes logTPM > 0.1 15270\n",
      "Merging overlapping regions 15270\n",
      "Reduced to 13424\n",
      "Saved expressed genes fom K562 to /home/jetbrains/data/2023_GSE26320_rnaseq/K562_rep1_RNAseq_hg38_ENCFF139IXQ_tpm0.1_tss500.bed\n",
      "K562 rep2 K562_rep2_RNAseq_hg38_ENCFF088RDE.tsv\n",
      "Total genes with positions 52065\n",
      "Genes logTPM > 0.1 15092\n",
      "Merging overlapping regions 15092\n",
      "Reduced to 13267\n",
      "Saved expressed genes fom K562 to /home/jetbrains/data/2023_GSE26320_rnaseq/K562_rep2_RNAseq_hg38_ENCFF088RDE_tpm0.1_tss500.bed\n",
      "NHEK rep1 NHEK_rep1_RNAseq_hg38_ENCFF004JWA.tsv\n",
      "Total genes with positions 58387\n",
      "Genes logTPM > 0.1 18674\n",
      "Merging overlapping regions 18674\n",
      "Reduced to 16615\n",
      "Saved expressed genes fom NHEK to /home/jetbrains/data/2023_GSE26320_rnaseq/NHEK_rep1_RNAseq_hg38_ENCFF004JWA_tpm0.1_tss500.bed\n",
      "NHEK rep2 NHEK_rep1_RNAseq_hg38_ENCFF004JWA.tsv\n",
      "Total genes with positions 58387\n",
      "Genes logTPM > 0.1 18674\n",
      "Merging overlapping regions 18674\n",
      "Reduced to 16615\n",
      "Saved expressed genes fom NHEK to /home/jetbrains/data/2023_GSE26320_rnaseq/NHEK_rep1_RNAseq_hg38_ENCFF004JWA_tpm0.1_tss500.bed\n",
      "NHLF rep1 NHLF_rep1_RNAseq_hg38_ENCFF577DEC.tsv\n",
      "Total genes with positions 58387\n",
      "Genes logTPM > 0.1 17520\n",
      "Merging overlapping regions 17520\n",
      "Reduced to 15261\n",
      "Saved expressed genes fom NHLF to /home/jetbrains/data/2023_GSE26320_rnaseq/NHLF_rep1_RNAseq_hg38_ENCFF577DEC_tpm0.1_tss500.bed\n",
      "NHLF rep2 NHLF_rep2_RNAseq_hg38_ENCFF412KNK.tsv\n",
      "Total genes with positions 58387\n",
      "Genes logTPM > 0.1 17924\n",
      "Merging overlapping regions 17924\n",
      "Reduced to 15634\n",
      "Saved expressed genes fom NHLF to /home/jetbrains/data/2023_GSE26320_rnaseq/NHLF_rep2_RNAseq_hg38_ENCFF412KNK_tpm0.1_tss500.bed\n"
     ]
    },
    {
     "name": "stderr",
     "output_type": "stream",
     "text": [
      "No artists with labels found to put in legend.  Note that artists whose label start with an underscore are ignored when legend() is called with no argument.\n"
     ]
    },
    {
     "data": {
      "text/plain": "<Figure size 720x288 with 1 Axes>",
      "image/png": "[encoded data removed]"
     },
     "metadata": {
      "image/png": {
       "width": 712,
       "height": 279
      }
     },
     "output_type": "display_data"
    }
   ],
   "source": [
    "encode_tss_expression = prepare_tss_expressed(GSE26320_EXPRESSION_TSV)"
   ],
   "metadata": {
    "collapsed": false,
    "ExecuteTime": {
     "end_time": "2023-12-06T11:09:22.975386Z",
     "start_time": "2023-12-06T11:07:06.392153Z"
    }
   }
  },
  {
   "cell_type": "code",
   "execution_count": 86,
   "outputs": [
    {
     "data": {
      "text/plain": "  0%|          | 0/3 [00:00<?, ?it/s]",
      "application/vnd.jupyter.widget-view+json": {
       "version_major": 2,
       "version_minor": 0,
       "model_id": "4d4511745a6041f0a489737de552ebb6"
      }
     },
     "metadata": {},
     "output_type": "display_data"
    },
    {
     "name": "stdout",
     "output_type": "stream",
     "text": [
      "BCell  /home/jetbrains/data/2023_Immune/expression/BCell_RNAseq_hg38_ENCFF947SKG.tsv\n",
      "Total genes with positions 58387\n",
      "Genes logTPM > 0.1 20769\n",
      "Merging overlapping regions 20769\n",
      "Reduced to 18107\n",
      "Saved expressed genes fom BCell to /home/jetbrains/data/2023_Immune/expression/BCell_RNAseq_hg38_ENCFF947SKG_tpm0.1_tss500.bed\n",
      "TCell  /home/jetbrains/data/2023_Immune/expression/TCell_RNAseq_hg38_ENCFF502AZI.tsv\n",
      "Total genes with positions 58387\n",
      "Genes logTPM > 0.1 21110\n",
      "Merging overlapping regions 21110\n",
      "Reduced to 18413\n",
      "Saved expressed genes fom TCell to /home/jetbrains/data/2023_Immune/expression/TCell_RNAseq_hg38_ENCFF502AZI_tpm0.1_tss500.bed\n",
      "Monocyte  /home/jetbrains/data/2023_Immune/expression/Monocyte_RNAseq_hg38_ENCFF408GAO.tsv\n",
      "Total genes with positions 58387\n",
      "Genes logTPM > 0.1 18584\n",
      "Merging overlapping regions 18584\n",
      "Reduced to 16146\n",
      "Saved expressed genes fom Monocyte to /home/jetbrains/data/2023_Immune/expression/Monocyte_RNAseq_hg38_ENCFF408GAO_tpm0.1_tss500.bed\n"
     ]
    },
    {
     "name": "stderr",
     "output_type": "stream",
     "text": [
      "No artists with labels found to put in legend.  Note that artists whose label start with an underscore are ignored when legend() is called with no argument.\n"
     ]
    },
    {
     "data": {
      "text/plain": "<Figure size 720x288 with 1 Axes>",
      "image/png": "[encoded data removed]"
     },
     "metadata": {
      "image/png": {
       "width": 712,
       "height": 279
      }
     },
     "output_type": "display_data"
    }
   ],
   "source": [
    "immune_tss_expression = prepare_tss_expressed(IMMUNE_EXPRESSION_TSV)"
   ],
   "metadata": {
    "collapsed": false,
    "ExecuteTime": {
     "end_time": "2023-12-06T12:17:39.022494Z",
     "start_time": "2023-12-06T12:17:15.787802Z"
    }
   }
  },
  {
   "cell_type": "markdown",
   "source": [
    "# Hg38 Recovered promoter fraction / Correct peak fraction"
   ],
   "metadata": {
    "collapsed": false
   }
  },
  {
   "cell_type": "code",
   "execution_count": 76,
   "outputs": [],
   "source": [
    "import tempfile\n",
    "\n",
    "def promote_fraction(df_peaks, expression_tss):\n",
    "    tf = tempfile.mktemp()\n",
    "    tf2 = tempfile.mktemp()\n",
    "\n",
    "    rows = []\n",
    "    for _, (c, r, tool, file) in tqdm(df_peaks[df_peaks['modification'] == 'H3K4me3']\n",
    "                                      [['cell', 'replicate', 'tool', 'file']].iterrows()):\n",
    "        print(c, r, tool, file)\n",
    "        if (c, r) not in expression_tss:\n",
    "            continue\n",
    "        tss_file = sorted_file(expression_tss[c, r])\n",
    "        tss = lines(tss_file)\n",
    "        peaks_file = sorted_file(file)\n",
    "        t = pd.read_csv(peaks_file, sep='\\t', header=None)\n",
    "        t.sort_values(by=[8] if len(t.columns) >= 9 else [4], ascending=False, inplace=True)\n",
    "        for top in np.linspace(1000, 15000, 15):\n",
    "            t.head(int(top)).sort_values(by=[0, 1]).to_csv(tf, sep='\\t', index=False, header=None)\n",
    "            tf = sorted_file(tf)\n",
    "            peaks = lines(tf)\n",
    "            ! bedtools intersect -a {tf} -b {tss_file} -wa -u > {tf2}\n",
    "            peaks_overlap = lines(tf2)\n",
    "            ! bedtools intersect -b {tf} -a {tss_file} -wa -u > {tf2}\n",
    "            tss_overlap = lines(tf2)\n",
    "            rows.append((c, r, top, tss, peaks_file, peaks, peaks_overlap, tss_overlap, tool))\n",
    "\n",
    "    df = pd.DataFrame(\n",
    "        rows,\n",
    "        columns=['cell', 'replicate', 'top', 'genes', 'peaks_file', 'peaks', 'pg', 'gp', 'tool'],\n",
    "        dtype=object\n",
    "    )\n",
    "    df['p'] = (df['pg'] + df['gp']) / 2\n",
    "    df['precision'] = [d(x, y) for x, y in zip(df['pg'], df['peaks'])]\n",
    "    df['sensitivity'] = [d(x, y) for x, y in zip(df['gp'], df['genes'])]\n",
    "    df['f1'] = [\n",
    "        2 / (d(1, s + 1e-10) + d(1, p + 1e-10))\n",
    "        for s, p in zip(df['sensitivity'], df['precision'])]\n",
    "    return df"
   ],
   "metadata": {
    "collapsed": false,
    "ExecuteTime": {
     "end_time": "2023-12-06T11:26:50.664084Z",
     "start_time": "2023-12-06T11:26:50.433468Z"
    }
   }
  },
  {
   "cell_type": "code",
   "execution_count": 95,
   "outputs": [
    {
     "data": {
      "text/plain": "0it [00:00, ?it/s]",
      "application/vnd.jupyter.widget-view+json": {
       "version_major": 2,
       "version_minor": 0,
       "model_id": "2428aee406c54f4c8d49b75890908df6"
      }
     },
     "metadata": {},
     "output_type": "display_data"
    },
    {
     "name": "stdout",
     "output_type": "stream",
     "text": [
      "H1 rep2 MACS2 /home/jetbrains/data/2023_GSE26320/macs2/GSM646346_H1_H3K4me3_rep2_q0.05_peaks.narrowPeak\n",
      "GM12878 rep1 MACS2 /home/jetbrains/data/2023_GSE26320/macs2/GSM646326_GM12878_H3K4me3_rep1_q0.05_peaks.narrowPeak\n",
      "HSMM rep1 MACS2 /home/jetbrains/data/2023_GSE26320/macs2/GSM646404_HSMM_H3K4me3_rep1_q0.05_peaks.narrowPeak\n",
      "HMEC rep1 MACS2 /home/jetbrains/data/2023_GSE26320/macs2/GSM646384_HMEC_H3K4me3_rep1_q0.05_peaks.narrowPeak\n",
      "NHEK rep2 MACS2 /home/jetbrains/data/2023_GSE26320/macs2/GSM646467_NHEK_H3K4me3_rep2_q0.05_peaks.narrowPeak\n",
      "K562 rep2 MACS2 /home/jetbrains/data/2023_GSE26320/macs2/GSM646445_K562_H3K4me3_rep2_q0.05_peaks.narrowPeak\n",
      "Huvec rep1 MACS2 /home/jetbrains/data/2023_GSE26320/macs2/GSM646424_Huvec_H3K4me3_rep1_q0.05_peaks.narrowPeak\n",
      "K562 rep1 MACS2 /home/jetbrains/data/2023_GSE26320/macs2/GSM646444_K562_H3K4me3_rep1_q0.05_peaks.narrowPeak\n",
      "HMEC rep2 MACS2 /home/jetbrains/data/2023_GSE26320/macs2/GSM646385_HMEC_H3K4me3_rep2_q0.05_peaks.narrowPeak\n",
      "Huvec rep2 MACS2 /home/jetbrains/data/2023_GSE26320/macs2/GSM646425_Huvec_H3K4me3_rep2_q0.05_peaks.narrowPeak\n",
      "NHEK rep1 MACS2 /home/jetbrains/data/2023_GSE26320/macs2/GSM646466_NHEK_H3K4me3_rep1_q0.05_peaks.narrowPeak\n",
      "GM12878 rep2 MACS2 /home/jetbrains/data/2023_GSE26320/macs2/GSM646327_GM12878_H3K4me3_rep2_q0.05_peaks.narrowPeak\n",
      "HepG2 rep2 MACS2 /home/jetbrains/data/2023_GSE26320/macs2/GSM646365_HepG2_H3K4me3_rep2_q0.05_peaks.narrowPeak\n",
      "H1 rep1 MACS2 /home/jetbrains/data/2023_GSE26320/macs2/GSM646345_H1_H3K4me3_rep1_q0.05_peaks.narrowPeak\n",
      "NHLF rep2 MACS2 /home/jetbrains/data/2023_GSE26320/macs2/GSM646487_NHLF_H3K4me3_rep2_q0.05_peaks.narrowPeak\n",
      "HSMM rep2 MACS2 /home/jetbrains/data/2023_GSE26320/macs2/GSM646405_HSMM_H3K4me3_rep2_q0.05_peaks.narrowPeak\n",
      "H1 rep1 MACS2 broad /home/jetbrains/data/2023_GSE26320/macs2/GSM646345_H1_H3K4me3_rep1_broad0.1_peaks.broadPeak\n",
      "K562 rep2 MACS2 broad /home/jetbrains/data/2023_GSE26320/macs2/GSM646445_K562_H3K4me3_rep2_broad0.1_peaks.broadPeak\n",
      "NHEK rep2 MACS2 broad /home/jetbrains/data/2023_GSE26320/macs2/GSM646467_NHEK_H3K4me3_rep2_broad0.1_peaks.broadPeak\n",
      "Huvec rep2 MACS2 broad /home/jetbrains/data/2023_GSE26320/macs2/GSM646425_Huvec_H3K4me3_rep2_broad0.1_peaks.broadPeak\n",
      "GM12878 rep2 MACS2 broad /home/jetbrains/data/2023_GSE26320/macs2/GSM646327_GM12878_H3K4me3_rep2_broad0.1_peaks.broadPeak\n",
      "HMEC rep1 MACS2 broad /home/jetbrains/data/2023_GSE26320/macs2/GSM646384_HMEC_H3K4me3_rep1_broad0.1_peaks.broadPeak\n",
      "HSMM rep1 MACS2 broad /home/jetbrains/data/2023_GSE26320/macs2/GSM646404_HSMM_H3K4me3_rep1_broad0.1_peaks.broadPeak\n",
      "HSMM rep2 MACS2 broad /home/jetbrains/data/2023_GSE26320/macs2/GSM646405_HSMM_H3K4me3_rep2_broad0.1_peaks.broadPeak\n",
      "NHLF rep2 MACS2 broad /home/jetbrains/data/2023_GSE26320/macs2/GSM646487_NHLF_H3K4me3_rep2_broad0.1_peaks.broadPeak\n",
      "GM12878 rep1 MACS2 broad /home/jetbrains/data/2023_GSE26320/macs2/GSM646326_GM12878_H3K4me3_rep1_broad0.1_peaks.broadPeak\n",
      "Huvec rep1 MACS2 broad /home/jetbrains/data/2023_GSE26320/macs2/GSM646424_Huvec_H3K4me3_rep1_broad0.1_peaks.broadPeak\n",
      "NHEK rep1 MACS2 broad /home/jetbrains/data/2023_GSE26320/macs2/GSM646466_NHEK_H3K4me3_rep1_broad0.1_peaks.broadPeak\n",
      "HMEC rep2 MACS2 broad /home/jetbrains/data/2023_GSE26320/macs2/GSM646385_HMEC_H3K4me3_rep2_broad0.1_peaks.broadPeak\n",
      "HepG2 rep2 MACS2 broad /home/jetbrains/data/2023_GSE26320/macs2/GSM646365_HepG2_H3K4me3_rep2_broad0.1_peaks.broadPeak\n",
      "H1 rep2 MACS2 broad /home/jetbrains/data/2023_GSE26320/macs2/GSM646346_H1_H3K4me3_rep2_broad0.1_peaks.broadPeak\n",
      "K562 rep1 MACS2 broad /home/jetbrains/data/2023_GSE26320/macs2/GSM646444_K562_H3K4me3_rep1_broad0.1_peaks.broadPeak\n",
      "HMEC rep1 SICER /home/jetbrains/data/2023_GSE26320/sicer/GSM646384_HMEC_H3K4me3_rep1-W200-G600-islands-summary-FDR0.01\n",
      "HMEC rep2 SICER /home/jetbrains/data/2023_GSE26320/sicer/GSM646385_HMEC_H3K4me3_rep2-W200-G600-islands-summary-FDR0.01\n",
      "K562 rep2 SICER /home/jetbrains/data/2023_GSE26320/sicer/GSM646445_K562_H3K4me3_rep2-W200-G600-islands-summary-FDR0.01\n",
      "NHLF rep2 SICER /home/jetbrains/data/2023_GSE26320/sicer/GSM646487_NHLF_H3K4me3_rep2-W200-G600-islands-summary-FDR0.01\n",
      "K562 rep1 SICER /home/jetbrains/data/2023_GSE26320/sicer/GSM646444_K562_H3K4me3_rep1-W200-G600-islands-summary-FDR0.01\n",
      "HSMM rep1 SICER /home/jetbrains/data/2023_GSE26320/sicer/GSM646404_HSMM_H3K4me3_rep1-W200-G600-islands-summary-FDR0.01\n",
      "HepG2 rep2 SICER /home/jetbrains/data/2023_GSE26320/sicer/GSM646365_HepG2_H3K4me3_rep2-W200-G600-islands-summary-FDR0.01\n",
      "H1 rep1 SICER /home/jetbrains/data/2023_GSE26320/sicer/GSM646345_H1_H3K4me3_rep1-W200-G600-islands-summary-FDR0.01\n",
      "NHEK rep1 SICER /home/jetbrains/data/2023_GSE26320/sicer/GSM646466_NHEK_H3K4me3_rep1-W200-G600-islands-summary-FDR0.01\n",
      "GM12878 rep2 SICER /home/jetbrains/data/2023_GSE26320/sicer/GSM646327_GM12878_H3K4me3_rep2-W200-G600-islands-summary-FDR0.01\n",
      "GM12878 rep1 SICER /home/jetbrains/data/2023_GSE26320/sicer/GSM646326_GM12878_H3K4me3_rep1-W200-G600-islands-summary-FDR0.01\n",
      "HSMM rep2 SICER /home/jetbrains/data/2023_GSE26320/sicer/GSM646405_HSMM_H3K4me3_rep2-W200-G600-islands-summary-FDR0.01\n",
      "Huvec rep2 SICER /home/jetbrains/data/2023_GSE26320/sicer/GSM646425_Huvec_H3K4me3_rep2-W200-G600-islands-summary-FDR0.01\n",
      "Huvec rep1 SICER /home/jetbrains/data/2023_GSE26320/sicer/GSM646424_Huvec_H3K4me3_rep1-W200-G600-islands-summary-FDR0.01\n",
      "H1 rep2 SICER /home/jetbrains/data/2023_GSE26320/sicer/GSM646346_H1_H3K4me3_rep2-W200-G600-islands-summary-FDR0.01\n",
      "NHEK rep2 SICER /home/jetbrains/data/2023_GSE26320/sicer/GSM646467_NHEK_H3K4me3_rep2-W200-G600-islands-summary-FDR0.01\n",
      "H1 rep2 SPAN /home/jetbrains/data/2023_GSE26320/span/GSM646346_H1_H3K4me3_rep2_100_0.05_3.peak\n",
      "K562 rep1 SPAN /home/jetbrains/data/2023_GSE26320/span/GSM646444_K562_H3K4me3_rep1_100_0.05_3.peak\n",
      "HMEC rep1 SPAN /home/jetbrains/data/2023_GSE26320/span/GSM646384_HMEC_H3K4me3_rep1_100_0.05_3.peak\n",
      "Huvec rep1 SPAN /home/jetbrains/data/2023_GSE26320/span/GSM646424_Huvec_H3K4me3_rep1_100_0.05_3.peak\n",
      "K562 rep2 SPAN /home/jetbrains/data/2023_GSE26320/span/GSM646445_K562_H3K4me3_rep2_100_0.05_3.peak\n",
      "HSMM rep2 SPAN /home/jetbrains/data/2023_GSE26320/span/GSM646405_HSMM_H3K4me3_rep2_100_0.05_3.peak\n",
      "NHEK rep2 SPAN /home/jetbrains/data/2023_GSE26320/span/GSM646467_NHEK_H3K4me3_rep2_100_0.05_3.peak\n",
      "HSMM rep1 SPAN /home/jetbrains/data/2023_GSE26320/span/GSM646404_HSMM_H3K4me3_rep1_100_0.05_3.peak\n",
      "NHLF rep2 SPAN /home/jetbrains/data/2023_GSE26320/span/GSM646487_NHLF_H3K4me3_rep2_100_0.05_3.peak\n",
      "NHEK rep1 SPAN /home/jetbrains/data/2023_GSE26320/span/GSM646466_NHEK_H3K4me3_rep1_100_0.05_3.peak\n",
      "HepG2 rep2 SPAN /home/jetbrains/data/2023_GSE26320/span/GSM646365_HepG2_H3K4me3_rep2_100_0.05_3.peak\n",
      "GM12878 rep1 SPAN /home/jetbrains/data/2023_GSE26320/span/GSM646326_GM12878_H3K4me3_rep1_100_0.05_3.peak\n",
      "GM12878 rep2 SPAN /home/jetbrains/data/2023_GSE26320/span/GSM646327_GM12878_H3K4me3_rep2_100_0.05_3.peak\n",
      "H1 rep1 SPAN /home/jetbrains/data/2023_GSE26320/span/GSM646345_H1_H3K4me3_rep1_100_0.05_3.peak\n",
      "Huvec rep2 SPAN /home/jetbrains/data/2023_GSE26320/span/GSM646425_Huvec_H3K4me3_rep2_100_0.05_3.peak\n",
      "HMEC rep2 SPAN /home/jetbrains/data/2023_GSE26320/span/GSM646385_HMEC_H3K4me3_rep2_100_0.05_3.peak\n"
     ]
    },
    {
     "data": {
      "text/plain": "        cell replicate      top  genes        peaks_file  peaks    pg    gp  \\\n135    Huvec      rep2   1000.0  17037  /tmp/tmpttst1nsu   1000   664   672   \n550     K562      rep1  11000.0  13424  /tmp/tmp4mm72kdg  11000  5650  6028   \n895  GM12878      rep1  11000.0  13836  /tmp/tmpuxjy62nm  11000  7668  8117   \n\n      tool       p  precision  sensitivity        f1  \n135  MACS2   668.0   0.664000     0.039444  0.074464  \n550  SICER  5839.0   0.513636     0.449046  0.479175  \n895   SPAN  7892.5   0.697091     0.586658  0.637125  ",
      "text/html": "<div>\n<style scoped>\n    .dataframe tbody tr th:only-of-type {\n        vertical-align: middle;\n    }\n\n    .dataframe tbody tr th {\n        vertical-align: top;\n    }\n\n    .dataframe thead th {\n        text-align: right;\n    }\n</style>\n<table border=\"1\" class=\"dataframe\">\n  <thead>\n    <tr style=\"text-align: right;\">\n      <th></th>\n      <th>cell</th>\n      <th>replicate</th>\n      <th>top</th>\n      <th>genes</th>\n      <th>peaks_file</th>\n      <th>peaks</th>\n      <th>pg</th>\n      <th>gp</th>\n      <th>tool</th>\n      <th>p</th>\n      <th>precision</th>\n      <th>sensitivity</th>\n      <th>f1</th>\n    </tr>\n  </thead>\n  <tbody>\n    <tr>\n      <th>135</th>\n      <td>Huvec</td>\n      <td>rep2</td>\n      <td>1000.0</td>\n      <td>17037</td>\n      <td>/tmp/tmpttst1nsu</td>\n      <td>1000</td>\n      <td>664</td>\n      <td>672</td>\n      <td>MACS2</td>\n      <td>668.0</td>\n      <td>0.664000</td>\n      <td>0.039444</td>\n      <td>0.074464</td>\n    </tr>\n    <tr>\n      <th>550</th>\n      <td>K562</td>\n      <td>rep1</td>\n      <td>11000.0</td>\n      <td>13424</td>\n      <td>/tmp/tmp4mm72kdg</td>\n      <td>11000</td>\n      <td>5650</td>\n      <td>6028</td>\n      <td>SICER</td>\n      <td>5839.0</td>\n      <td>0.513636</td>\n      <td>0.449046</td>\n      <td>0.479175</td>\n    </tr>\n    <tr>\n      <th>895</th>\n      <td>GM12878</td>\n      <td>rep1</td>\n      <td>11000.0</td>\n      <td>13836</td>\n      <td>/tmp/tmpuxjy62nm</td>\n      <td>11000</td>\n      <td>7668</td>\n      <td>8117</td>\n      <td>SPAN</td>\n      <td>7892.5</td>\n      <td>0.697091</td>\n      <td>0.586658</td>\n      <td>0.637125</td>\n    </tr>\n  </tbody>\n</table>\n</div>"
     },
     "execution_count": 95,
     "metadata": {},
     "output_type": "execute_result"
    }
   ],
   "source": [
    "encode_cpf_df = promote_fraction(df_encode_peaks, encode_tss_expression)\n",
    "encode_cpf_df.sample(3)"
   ],
   "metadata": {
    "collapsed": false,
    "ExecuteTime": {
     "end_time": "2023-12-06T12:47:14.060325Z",
     "start_time": "2023-12-06T12:29:44.029268Z"
    }
   }
  },
  {
   "cell_type": "code",
   "execution_count": 96,
   "outputs": [
    {
     "data": {
      "text/plain": "0it [00:00, ?it/s]",
      "application/vnd.jupyter.widget-view+json": {
       "version_major": 2,
       "version_minor": 0,
       "model_id": "93c2121526c04ce7837d52d3549024e4"
      }
     },
     "metadata": {},
     "output_type": "display_data"
    },
    {
     "name": "stdout",
     "output_type": "stream",
     "text": [
      "CD34 rep2 MACS2 /home/jetbrains/data/2023_Immune/macs2/CD34_H3K4me3_rep2_hg38_ENCFF333HJE_q0.05_peaks.narrowPeak\n",
      "TCellBB rep1 MACS2 /home/jetbrains/data/2023_Immune/macs2/TCellBB_H3K4me3_rep1_hg38_ENCFF167PUH_q0.05_peaks.narrowPeak\n",
      "CD4ABT rep1 MACS2 /home/jetbrains/data/2023_Immune/macs2/CD4ABT_H3K4me3_rep1_hg38_ENCFF783BBS_q0.05_peaks.narrowPeak\n",
      "Monocyte  MACS2 /home/jetbrains/data/2023_Immune/macs2/Monocyte_H3K4me3_hg38_ENCFF642LZZ_q0.05_peaks.narrowPeak\n",
      "TCellBB rep2 MACS2 /home/jetbrains/data/2023_Immune/macs2/TCellBB_H3K4me3_rep2_hg38_ENCFF822TCP_q0.05_peaks.narrowPeak\n",
      "PBMC  MACS2 /home/jetbrains/data/2023_Immune/macs2/PBMC_H3K4me3_hg38_ENCFF558XUB_q0.05_peaks.narrowPeak\n",
      "TCell  MACS2 /home/jetbrains/data/2023_Immune/macs2/TCell_H3K4me3_hg38_ENCFF661HCG_q0.05_peaks.narrowPeak\n",
      "NK  MACS2 /home/jetbrains/data/2023_Immune/macs2/NK_H3K4me3_hg38_ENCFF027CJG_q0.05_peaks.narrowPeak\n",
      "BCell  MACS2 /home/jetbrains/data/2023_Immune/macs2/BCell_H3K4me3_hg38_ENCFF213VRU_q0.05_peaks.narrowPeak\n",
      "CD34  MACS2 /home/jetbrains/data/2023_Immune/macs2/CD34_H3K4me3_hg38_ENCFF850YUJ_q0.05_peaks.narrowPeak\n",
      "CD4  MACS2 /home/jetbrains/data/2023_Immune/macs2/CD4_H3K4me3_hg38_ENCFF728LMW_q0.05_peaks.narrowPeak\n",
      "CD4ABT rep2 MACS2 /home/jetbrains/data/2023_Immune/macs2/CD4ABT_H3K4me3_rep2_hg38_ENCFF480QOG_q0.05_peaks.narrowPeak\n",
      "TCellBB rep2 MACS2 broad /home/jetbrains/data/2023_Immune/macs2/TCellBB_H3K4me3_rep2_hg38_ENCFF822TCP_broad0.1_peaks.broadPeak\n",
      "Monocyte  MACS2 broad /home/jetbrains/data/2023_Immune/macs2/Monocyte_H3K4me3_hg38_ENCFF642LZZ_broad0.1_peaks.broadPeak\n",
      "CD34  MACS2 broad /home/jetbrains/data/2023_Immune/macs2/CD34_H3K4me3_hg38_ENCFF850YUJ_broad0.1_peaks.broadPeak\n",
      "NK  MACS2 broad /home/jetbrains/data/2023_Immune/macs2/NK_H3K4me3_hg38_ENCFF027CJG_broad0.1_peaks.broadPeak\n",
      "TCellBB rep1 MACS2 broad /home/jetbrains/data/2023_Immune/macs2/TCellBB_H3K4me3_rep1_hg38_ENCFF167PUH_broad0.1_peaks.broadPeak\n",
      "CD34 rep2 MACS2 broad /home/jetbrains/data/2023_Immune/macs2/CD34_H3K4me3_rep2_hg38_ENCFF333HJE_broad0.1_peaks.broadPeak\n",
      "PBMC  MACS2 broad /home/jetbrains/data/2023_Immune/macs2/PBMC_H3K4me3_hg38_ENCFF558XUB_broad0.1_peaks.broadPeak\n",
      "CD4  MACS2 broad /home/jetbrains/data/2023_Immune/macs2/CD4_H3K4me3_hg38_ENCFF728LMW_broad0.1_peaks.broadPeak\n",
      "BCell  MACS2 broad /home/jetbrains/data/2023_Immune/macs2/BCell_H3K4me3_hg38_ENCFF213VRU_broad0.1_peaks.broadPeak\n",
      "CD4ABT rep1 MACS2 broad /home/jetbrains/data/2023_Immune/macs2/CD4ABT_H3K4me3_rep1_hg38_ENCFF783BBS_broad0.1_peaks.broadPeak\n",
      "TCell  MACS2 broad /home/jetbrains/data/2023_Immune/macs2/TCell_H3K4me3_hg38_ENCFF661HCG_broad0.1_peaks.broadPeak\n",
      "CD4ABT rep2 MACS2 broad /home/jetbrains/data/2023_Immune/macs2/CD4ABT_H3K4me3_rep2_hg38_ENCFF480QOG_broad0.1_peaks.broadPeak\n",
      "TCell  SICER /home/jetbrains/data/2023_Immune/sicer/TCell_H3K4me3_hg38_ENCFF661HCG-W200-G600-islands-summary-FDR0.01\n",
      "PBMC  SICER /home/jetbrains/data/2023_Immune/sicer/PBMC_H3K4me3_hg38_ENCFF558XUB-W200-G600-islands-summary-FDR0.01\n",
      "CD34 rep2 SICER /home/jetbrains/data/2023_Immune/sicer/CD34_H3K4me3_rep2_hg38_ENCFF333HJE-W200-G600-islands-summary-FDR0.01\n",
      "CD4  SICER /home/jetbrains/data/2023_Immune/sicer/CD4_H3K4me3_hg38_ENCFF728LMW-W200-G600-islands-summary-FDR0.01\n",
      "TCellBB rep2 SICER /home/jetbrains/data/2023_Immune/sicer/TCellBB_H3K4me3_rep2_hg38_ENCFF822TCP-W200-G600-islands-summary-FDR0.01\n",
      "Monocyte  SICER /home/jetbrains/data/2023_Immune/sicer/Monocyte_H3K4me3_hg38_ENCFF642LZZ-W200-G600-islands-summary-FDR0.01\n",
      "CD34  SICER /home/jetbrains/data/2023_Immune/sicer/CD34_H3K4me3_hg38_ENCFF850YUJ-W200-G600-islands-summary-FDR0.01\n",
      "CD4ABT rep1 SICER /home/jetbrains/data/2023_Immune/sicer/CD4ABT_H3K4me3_rep1_hg38_ENCFF783BBS-W200-G600-islands-summary-FDR0.01\n",
      "BCell  SICER /home/jetbrains/data/2023_Immune/sicer/BCell_H3K4me3_hg38_ENCFF213VRU-W200-G600-islands-summary-FDR0.01\n",
      "CD4ABT rep2 SICER /home/jetbrains/data/2023_Immune/sicer/CD4ABT_H3K4me3_rep2_hg38_ENCFF480QOG-W200-G600-islands-summary-FDR0.01\n",
      "NK  SICER /home/jetbrains/data/2023_Immune/sicer/NK_H3K4me3_hg38_ENCFF027CJG-W200-G600-islands-summary-FDR0.01\n",
      "TCellBB rep1 SICER /home/jetbrains/data/2023_Immune/sicer/TCellBB_H3K4me3_rep1_hg38_ENCFF167PUH-W200-G600-islands-summary-FDR0.01\n",
      "CD4ABT rep1 SPAN /home/jetbrains/data/2023_Immune/span/CD4ABT_H3K4me3_rep1_hg38_ENCFF783BBS_100_0.05_3.peak\n",
      "TCellBB rep2 SPAN /home/jetbrains/data/2023_Immune/span/TCellBB_H3K4me3_rep2_hg38_ENCFF822TCP_100_0.05_3.peak\n",
      "PBMC  SPAN /home/jetbrains/data/2023_Immune/span/PBMC_H3K4me3_hg38_ENCFF558XUB_100_0.05_3.peak\n",
      "BCell  SPAN /home/jetbrains/data/2023_Immune/span/BCell_H3K4me3_hg38_ENCFF213VRU_100_0.05_3.peak\n",
      "NK  SPAN /home/jetbrains/data/2023_Immune/span/NK_H3K4me3_hg38_ENCFF027CJG_100_0.05_3.peak\n",
      "CD34  SPAN /home/jetbrains/data/2023_Immune/span/CD34_H3K4me3_hg38_ENCFF850YUJ_100_0.05_3.peak\n",
      "CD34 rep2 SPAN /home/jetbrains/data/2023_Immune/span/CD34_H3K4me3_rep2_hg38_ENCFF333HJE_100_0.05_3.peak\n",
      "TCellBB rep1 SPAN /home/jetbrains/data/2023_Immune/span/TCellBB_H3K4me3_rep1_hg38_ENCFF167PUH_100_0.05_3.peak\n",
      "CD4ABT rep2 SPAN /home/jetbrains/data/2023_Immune/span/CD4ABT_H3K4me3_rep2_hg38_ENCFF480QOG_100_0.05_3.peak\n",
      "CD4  SPAN /home/jetbrains/data/2023_Immune/span/CD4_H3K4me3_hg38_ENCFF728LMW_100_0.05_3.peak\n",
      "Monocyte  SPAN /home/jetbrains/data/2023_Immune/span/Monocyte_H3K4me3_hg38_ENCFF642LZZ_100_0.05_3.peak\n",
      "TCell  SPAN /home/jetbrains/data/2023_Immune/span/TCell_H3K4me3_hg38_ENCFF661HCG_100_0.05_3.peak\n"
     ]
    },
    {
     "data": {
      "text/plain": "         cell replicate      top  genes        peaks_file  peaks    pg    gp  \\\n163  Monocyte            14000.0  16146  /tmp/tmpvoxn9jq8  14000  9533  9761   \n21      TCell             7000.0  18413  /tmp/tmpo564rc7m   7000  5966  6043   \n137     BCell             3000.0  18107  /tmp/tmpig6sn27o   3000  2708  2913   \n\n      tool       p  precision  sensitivity        f1  \n163   SPAN  9647.0   0.680929     0.604546  0.640468  \n21   MACS2  6004.5   0.852286     0.328192  0.473899  \n137   SPAN  2810.5   0.902667     0.160877  0.273084  ",
      "text/html": "<div>\n<style scoped>\n    .dataframe tbody tr th:only-of-type {\n        vertical-align: middle;\n    }\n\n    .dataframe tbody tr th {\n        vertical-align: top;\n    }\n\n    .dataframe thead th {\n        text-align: right;\n    }\n</style>\n<table border=\"1\" class=\"dataframe\">\n  <thead>\n    <tr style=\"text-align: right;\">\n      <th></th>\n      <th>cell</th>\n      <th>replicate</th>\n      <th>top</th>\n      <th>genes</th>\n      <th>peaks_file</th>\n      <th>peaks</th>\n      <th>pg</th>\n      <th>gp</th>\n      <th>tool</th>\n      <th>p</th>\n      <th>precision</th>\n      <th>sensitivity</th>\n      <th>f1</th>\n    </tr>\n  </thead>\n  <tbody>\n    <tr>\n      <th>163</th>\n      <td>Monocyte</td>\n      <td></td>\n      <td>14000.0</td>\n      <td>16146</td>\n      <td>/tmp/tmpvoxn9jq8</td>\n      <td>14000</td>\n      <td>9533</td>\n      <td>9761</td>\n      <td>SPAN</td>\n      <td>9647.0</td>\n      <td>0.680929</td>\n      <td>0.604546</td>\n      <td>0.640468</td>\n    </tr>\n    <tr>\n      <th>21</th>\n      <td>TCell</td>\n      <td></td>\n      <td>7000.0</td>\n      <td>18413</td>\n      <td>/tmp/tmpo564rc7m</td>\n      <td>7000</td>\n      <td>5966</td>\n      <td>6043</td>\n      <td>MACS2</td>\n      <td>6004.5</td>\n      <td>0.852286</td>\n      <td>0.328192</td>\n      <td>0.473899</td>\n    </tr>\n    <tr>\n      <th>137</th>\n      <td>BCell</td>\n      <td></td>\n      <td>3000.0</td>\n      <td>18107</td>\n      <td>/tmp/tmpig6sn27o</td>\n      <td>3000</td>\n      <td>2708</td>\n      <td>2913</td>\n      <td>SPAN</td>\n      <td>2810.5</td>\n      <td>0.902667</td>\n      <td>0.160877</td>\n      <td>0.273084</td>\n    </tr>\n  </tbody>\n</table>\n</div>"
     },
     "execution_count": 96,
     "metadata": {},
     "output_type": "execute_result"
    }
   ],
   "source": [
    "immune_cpf_df = promote_fraction(df_immune_peaks, immune_tss_expression)\n",
    "immune_cpf_df.sample(3)"
   ],
   "metadata": {
    "collapsed": false,
    "ExecuteTime": {
     "end_time": "2023-12-06T12:49:55.956224Z",
     "start_time": "2023-12-06T12:47:14.050852Z"
    }
   }
  },
  {
   "cell_type": "code",
   "execution_count": 105,
   "outputs": [],
   "source": [
    "import plotly.graph_objects as go\n",
    "from plotly.io import write_image\n",
    "\n",
    "def rgb2hex(color):\n",
    "    r, g, b, _ = color\n",
    "    return \"#{0:02x}{1:02x}{2:02x}\".format(int(r * 255), int(g * 255), int(b * 255))\n",
    "\n",
    "PLOTLY_TOOLS_PALETTE = {k: rgb2hex(v) for k, v in TOOLS_PALETTE.items()}\n",
    "\n",
    "def plot_top(benchmark_cpf_df):\n",
    "    tools_legend_shown = set()\n",
    "    fig = go.Figure()\n",
    "\n",
    "    for (c, r, t), dft in benchmark_cpf_df.groupby(['cell', 'replicate', 'tool']):\n",
    "        fig.add_trace(go.Scatter(\n",
    "            x=dft[\"precision\"], y=dft[\"sensitivity\"], mode='lines+markers', name=t,\n",
    "            hovertext=dft['top'].astype(str) + ' ' + t,\n",
    "            showlegend=t not in tools_legend_shown,\n",
    "            marker_color=PLOTLY_TOOLS_PALETTE[t],\n",
    "            opacity=0.8,\n",
    "        ))\n",
    "        tools_legend_shown.add(t)\n",
    "\n",
    "    fig.update_xaxes(range=[-0.1, 1.1], title='Correct promoter fraction (sensitivity)')\n",
    "    fig.update_yaxes(range=[-0.1, 1.1], title='Recovered promoter fraction (precision)')\n",
    "\n",
    "    fig.layout.template = 'plotly_white'\n",
    "    fig.update_layout(\n",
    "        autosize=False,\n",
    "        width=700,\n",
    "        height=600,)\n",
    "    fig.show()"
   ],
   "metadata": {
    "collapsed": false,
    "ExecuteTime": {
     "end_time": "2023-12-06T12:59:50.893288Z",
     "start_time": "2023-12-06T12:59:50.861230Z"
    }
   }
  },
  {
   "cell_type": "code",
   "execution_count": 106,
   "outputs": [
    {
     "name": "stdout",
     "output_type": "stream",
     "text": [
      "ENCODE\n"
     ]
    },
    {
     "data": {
      "application/vnd.plotly.v1+json": {
       "data": [
        {
         "hovertext": [
          "1000.0 MACS2",
          "2000.0 MACS2",
          "3000.0 MACS2",
          "4000.0 MACS2",
          "5000.0 MACS2",
          "6000.0 MACS2",
          "7000.0 MACS2",
          "8000.0 MACS2",
          "9000.0 MACS2",
          "10000.0 MACS2",
          "11000.0 MACS2",
          "12000.0 MACS2",
          "13000.0 MACS2",
          "14000.0 MACS2",
          "15000.0 MACS2"
         ],
         "marker": {
          "color": "#1f77b4"
         },
         "mode": "lines+markers",
         "name": "MACS2",
         "opacity": 0.8,
         "showlegend": true,
         "x": [
          0.772,
          0.763,
          0.759,
          0.73975,
          0.7244,
          0.7083333333333334,
          0.6927142857142857,
          0.676125,
          0.6624444444444444,
          0.6456,
          0.6303636363636363,
          0.61675,
          0.5992307692307692,
          0.5826428571428571,
          0.5675333333333333
         ],
         "y": [
          0.05514599595258745,
          0.10797918473547267,
          0.1582104654524429,
          0.2020092512286788,
          0.241832899681989,
          0.27760913558832034,
          0.31092801387684305,
          0.34215091066782305,
          0.3706273489447817,
          0.39483954900260193,
          0.41688349233882627,
          0.43740965596993353,
          0.454683434518647,
          0.4707285342584562,
          0.4854004047412547
         ],
         "type": "scatter"
        },
        {
         "hovertext": [
          "1000.0 MACS2 broad",
          "2000.0 MACS2 broad",
          "3000.0 MACS2 broad",
          "4000.0 MACS2 broad",
          "5000.0 MACS2 broad",
          "6000.0 MACS2 broad",
          "7000.0 MACS2 broad",
          "8000.0 MACS2 broad",
          "9000.0 MACS2 broad",
          "10000.0 MACS2 broad",
          "11000.0 MACS2 broad",
          "12000.0 MACS2 broad",
          "13000.0 MACS2 broad",
          "14000.0 MACS2 broad",
          "15000.0 MACS2 broad"
         ],
         "marker": {
          "color": "#ff7f0e"
         },
         "mode": "lines+markers",
         "name": "MACS2 broad",
         "opacity": 0.8,
         "showlegend": true,
         "x": [
          0.875,
          0.8635,
          0.8503333333333334,
          0.843,
          0.8262,
          0.811,
          0.7905714285714286,
          0.765375,
          0.737,
          0.706,
          0.6721818181818182,
          0.6384166666666666,
          0.604,
          0.5713571428571429,
          0.5416666666666666
         ],
         "y": [
          0.0665654813529922,
          0.13038450419196299,
          0.19376987568661463,
          0.2565047701647875,
          0.3151199768719283,
          0.3706273489447817,
          0.4210031801098583,
          0.46566926857473256,
          0.5039028620988725,
          0.5357762359063313,
          0.5604943625325238,
          0.5805145995952588,
          0.5945359930615784,
          0.6053772766695577,
          0.6145562301243134
         ],
         "type": "scatter"
        },
        {
         "hovertext": [
          "1000.0 SICER",
          "2000.0 SICER",
          "3000.0 SICER",
          "4000.0 SICER",
          "5000.0 SICER",
          "6000.0 SICER",
          "7000.0 SICER",
          "8000.0 SICER",
          "9000.0 SICER",
          "10000.0 SICER",
          "11000.0 SICER",
          "12000.0 SICER",
          "13000.0 SICER",
          "14000.0 SICER",
          "15000.0 SICER"
         ],
         "marker": {
          "color": "#d62728"
         },
         "mode": "lines+markers",
         "name": "SICER",
         "opacity": 0.8,
         "showlegend": true,
         "x": [
          0.682,
          0.6725,
          0.6546666666666666,
          0.63375,
          0.6102,
          0.5918333333333333,
          0.573,
          0.555875,
          0.5357777777777778,
          0.5199,
          0.5017272727272727,
          0.48575,
          0.4684615384615385,
          0.45221428571428574,
          0.43733333333333335
         ],
         "y": [
          0.05861520670714079,
          0.1130384504191963,
          0.1620410523272622,
          0.20620121422376408,
          0.24689216536571262,
          0.28534258456201217,
          0.32075744434807746,
          0.353642671292281,
          0.3815409077768141,
          0.4101618965018792,
          0.43394044521538017,
          0.4573576178086152,
          0.4773778548713501,
          0.49537438566059555,
          0.5123590633130962
         ],
         "type": "scatter"
        },
        {
         "hovertext": [
          "1000.0 SPAN",
          "2000.0 SPAN",
          "3000.0 SPAN",
          "4000.0 SPAN",
          "5000.0 SPAN",
          "6000.0 SPAN",
          "7000.0 SPAN",
          "8000.0 SPAN",
          "9000.0 SPAN",
          "10000.0 SPAN",
          "11000.0 SPAN",
          "12000.0 SPAN",
          "13000.0 SPAN",
          "14000.0 SPAN",
          "15000.0 SPAN"
         ],
         "marker": {
          "color": "#2ca02c"
         },
         "mode": "lines+markers",
         "name": "SPAN",
         "opacity": 0.8,
         "showlegend": true,
         "x": [
          0.86,
          0.8725,
          0.8676666666666667,
          0.864,
          0.8556,
          0.842,
          0.8194285714285714,
          0.796,
          0.7661111111111111,
          0.7338,
          0.6970909090909091,
          0.6588333333333334,
          0.6234615384615385,
          0.5880714285714286,
          0.5569333333333333
         ],
         "y": [
          0.07328707718993929,
          0.1436831454177508,
          0.20974270020237062,
          0.2742844752818734,
          0.3362243422954611,
          0.3945504481063891,
          0.4450708297195721,
          0.49212200057820177,
          0.5311506215669268,
          0.5629517201503325,
          0.5866579936397803,
          0.6040763226366002,
          0.6186036426712923,
          0.6279271465741544,
          0.6362387973402718
         ],
         "type": "scatter"
        },
        {
         "hovertext": [
          "1000.0 MACS2",
          "2000.0 MACS2",
          "3000.0 MACS2",
          "4000.0 MACS2",
          "5000.0 MACS2",
          "6000.0 MACS2",
          "7000.0 MACS2",
          "8000.0 MACS2",
          "9000.0 MACS2",
          "10000.0 MACS2",
          "11000.0 MACS2",
          "12000.0 MACS2",
          "13000.0 MACS2",
          "14000.0 MACS2",
          "15000.0 MACS2"
         ],
         "marker": {
          "color": "#1f77b4"
         },
         "mode": "lines+markers",
         "name": "MACS2",
         "opacity": 0.8,
         "showlegend": false,
         "x": [
          0.844,
          0.8375,
          0.831,
          0.82875,
          0.8172,
          0.8021666666666667,
          0.7872857142857143,
          0.777,
          0.7628888888888888,
          0.7476,
          0.7276363636363636,
          0.709,
          0.6863076923076923,
          0.6643571428571429,
          0.6433333333333333
         ],
         "y": [
          0.06302977613562269,
          0.12345142360356444,
          0.1808302542925451,
          0.2377019488516989,
          0.29029921031659783,
          0.33688328624212127,
          0.3804969934072303,
          0.423241324349779,
          0.46105919003115264,
          0.49402303846989787,
          0.5203216692023473,
          0.5449539955082229,
          0.5636455842932696,
          0.5796565963920887,
          0.5940737520828805
         ],
         "type": "scatter"
        },
        {
         "hovertext": [
          "1000.0 MACS2 broad",
          "2000.0 MACS2 broad",
          "3000.0 MACS2 broad",
          "4000.0 MACS2 broad",
          "5000.0 MACS2 broad",
          "6000.0 MACS2 broad",
          "7000.0 MACS2 broad",
          "8000.0 MACS2 broad",
          "9000.0 MACS2 broad",
          "10000.0 MACS2 broad",
          "11000.0 MACS2 broad",
          "12000.0 MACS2 broad",
          "13000.0 MACS2 broad",
          "14000.0 MACS2 broad",
          "15000.0 MACS2 broad"
         ],
         "marker": {
          "color": "#ff7f0e"
         },
         "mode": "lines+markers",
         "name": "MACS2 broad",
         "opacity": 0.8,
         "showlegend": false,
         "x": [
          0.867,
          0.8685,
          0.8543333333333333,
          0.84575,
          0.8418,
          0.8328333333333333,
          0.8191428571428572,
          0.8065,
          0.7871111111111111,
          0.7588,
          0.729,
          0.6886666666666666,
          0.6506153846153846,
          0.6123571428571428,
          0.5788666666666666
         ],
         "y": [
          0.06563790480330363,
          0.13243497790335435,
          0.19539230602043034,
          0.2585669781931464,
          0.32123451423603566,
          0.3804969934072303,
          0.43722379192929073,
          0.49221183800623053,
          0.540679562413968,
          0.5782800840397015,
          0.610012316163153,
          0.627906976744186,
          0.6424690284720713,
          0.6508729986234877,
          0.6589147286821705
         ],
         "type": "scatter"
        },
        {
         "hovertext": [
          "1000.0 SICER",
          "2000.0 SICER",
          "3000.0 SICER",
          "4000.0 SICER",
          "5000.0 SICER",
          "6000.0 SICER",
          "7000.0 SICER",
          "8000.0 SICER",
          "9000.0 SICER",
          "10000.0 SICER",
          "11000.0 SICER",
          "12000.0 SICER",
          "13000.0 SICER",
          "14000.0 SICER",
          "15000.0 SICER"
         ],
         "marker": {
          "color": "#d62728"
         },
         "mode": "lines+markers",
         "name": "SICER",
         "opacity": 0.8,
         "showlegend": false,
         "x": [
          0.667,
          0.6875,
          0.6836666666666666,
          0.6705,
          0.6506,
          0.6358333333333334,
          0.6152857142857143,
          0.597875,
          0.5822222222222222,
          0.5613,
          0.5426363636363636,
          0.5245833333333333,
          0.5077692307692308,
          0.49407142857142855,
          0.4765333333333333
         ],
         "y": [
          0.05933492718974136,
          0.11707599797145549,
          0.17061508367746142,
          0.21944504817793234,
          0.26385568354705496,
          0.3068173585452438,
          0.3447801202637108,
          0.38122147359269726,
          0.41577917843946965,
          0.44338187350575964,
          0.4697529522567558,
          0.494457726581178,
          0.5170615083677461,
          0.5404622183583279,
          0.557415054698254
         ],
         "type": "scatter"
        },
        {
         "hovertext": [
          "1000.0 SPAN",
          "2000.0 SPAN",
          "3000.0 SPAN",
          "4000.0 SPAN",
          "5000.0 SPAN",
          "6000.0 SPAN",
          "7000.0 SPAN",
          "8000.0 SPAN",
          "9000.0 SPAN",
          "10000.0 SPAN",
          "11000.0 SPAN",
          "12000.0 SPAN",
          "13000.0 SPAN",
          "14000.0 SPAN",
          "15000.0 SPAN"
         ],
         "marker": {
          "color": "#2ca02c"
         },
         "mode": "lines+markers",
         "name": "SPAN",
         "opacity": 0.8,
         "showlegend": false,
         "x": [
          0.868,
          0.88,
          0.8793333333333333,
          0.87425,
          0.8722,
          0.8646666666666667,
          0.8497142857142858,
          0.832625,
          0.8095555555555556,
          0.776,
          0.739909090909091,
          0.6990833333333333,
          0.6585384615384615,
          0.6205714285714286,
          0.5859333333333333
         ],
         "y": [
          0.07570817938129393,
          0.1468521335941462,
          0.2158226472505977,
          0.28109831196116786,
          0.3457219445048178,
          0.40715786423241324,
          0.4633775266246468,
          0.5159023400709991,
          0.5617619358110556,
          0.596536984713468,
          0.6242121277983047,
          0.6423965804535245,
          0.6550025356806491,
          0.6643483300731725,
          0.6714482358907484
         ],
         "type": "scatter"
        },
        {
         "hovertext": [
          "1000.0 MACS2",
          "2000.0 MACS2",
          "3000.0 MACS2",
          "4000.0 MACS2",
          "5000.0 MACS2",
          "6000.0 MACS2",
          "7000.0 MACS2",
          "8000.0 MACS2",
          "9000.0 MACS2",
          "10000.0 MACS2",
          "11000.0 MACS2",
          "12000.0 MACS2",
          "13000.0 MACS2",
          "14000.0 MACS2",
          "15000.0 MACS2"
         ],
         "marker": {
          "color": "#1f77b4"
         },
         "mode": "lines+markers",
         "name": "MACS2",
         "opacity": 0.8,
         "showlegend": false,
         "x": [
          0.876,
          0.8555,
          0.849,
          0.836,
          0.822,
          0.81,
          0.8,
          0.785625,
          0.7745555555555556,
          0.7592,
          0.7461818181818182,
          0.7335833333333334,
          0.7208461538461538,
          0.707,
          0.6914666666666667
         ],
         "y": [
          0.05419959028387474,
          0.10307287093942054,
          0.15200468247000293,
          0.1968393327480246,
          0.2385133157740708,
          0.2783143107989464,
          0.3169446883230904,
          0.3508340649692713,
          0.3832601697395376,
          0.41270119988293824,
          0.4413813286508633,
          0.4666081357916301,
          0.49083991805677496,
          0.5115598478197249,
          0.5289435177055897
         ],
         "type": "scatter"
        },
        {
         "hovertext": [
          "1000.0 MACS2 broad",
          "2000.0 MACS2 broad",
          "3000.0 MACS2 broad",
          "4000.0 MACS2 broad",
          "5000.0 MACS2 broad",
          "6000.0 MACS2 broad",
          "7000.0 MACS2 broad",
          "8000.0 MACS2 broad",
          "9000.0 MACS2 broad",
          "10000.0 MACS2 broad",
          "11000.0 MACS2 broad",
          "12000.0 MACS2 broad",
          "13000.0 MACS2 broad",
          "14000.0 MACS2 broad",
          "15000.0 MACS2 broad"
         ],
         "marker": {
          "color": "#ff7f0e"
         },
         "mode": "lines+markers",
         "name": "MACS2 broad",
         "opacity": 0.8,
         "showlegend": false,
         "x": [
          0.898,
          0.891,
          0.89,
          0.87825,
          0.8662,
          0.8518333333333333,
          0.84,
          0.823625,
          0.8074444444444444,
          0.7902,
          0.7718181818181818,
          0.7486666666666667,
          0.7268461538461538,
          0.7032857142857143,
          0.6770666666666667
         ],
         "y": [
          0.054901960784313725,
          0.10886742756804214,
          0.16306701785191688,
          0.21422300263388938,
          0.26409130816505705,
          0.31144278606965176,
          0.35774070822358794,
          0.40046824700029265,
          0.44149839040093647,
          0.47925080479953175,
          0.5141937371963711,
          0.5438688908399181,
          0.571729587357331,
          0.5955516534972198,
          0.6141644717588528
         ],
         "type": "scatter"
        },
        {
         "hovertext": [
          "1000.0 SICER",
          "2000.0 SICER",
          "3000.0 SICER",
          "4000.0 SICER",
          "5000.0 SICER",
          "6000.0 SICER",
          "7000.0 SICER",
          "8000.0 SICER",
          "9000.0 SICER",
          "10000.0 SICER",
          "11000.0 SICER",
          "12000.0 SICER",
          "13000.0 SICER",
          "14000.0 SICER",
          "15000.0 SICER"
         ],
         "marker": {
          "color": "#d62728"
         },
         "mode": "lines+markers",
         "name": "SICER",
         "opacity": 0.8,
         "showlegend": false,
         "x": [
          0.742,
          0.7415,
          0.744,
          0.7335,
          0.7224,
          0.7121666666666666,
          0.7035714285714286,
          0.691625,
          0.6794444444444444,
          0.6639,
          0.6495454545454545,
          0.6353333333333333,
          0.6238461538461538,
          0.6109285714285714,
          0.5967333333333333
         ],
         "y": [
          0.05150717003219198,
          0.09938542581211589,
          0.1456833479660521,
          0.1890547263681592,
          0.23002633889376647,
          0.27029558091893474,
          0.309452736318408,
          0.34585894059116185,
          0.3805092186128183,
          0.4116476441322798,
          0.4420836991513023,
          0.4704126426690079,
          0.49938542581211587,
          0.525548726953468,
          0.5491366695932104
         ],
         "type": "scatter"
        },
        {
         "hovertext": [
          "1000.0 SPAN",
          "2000.0 SPAN",
          "3000.0 SPAN",
          "4000.0 SPAN",
          "5000.0 SPAN",
          "6000.0 SPAN",
          "7000.0 SPAN",
          "8000.0 SPAN",
          "9000.0 SPAN",
          "10000.0 SPAN",
          "11000.0 SPAN",
          "12000.0 SPAN",
          "13000.0 SPAN",
          "14000.0 SPAN",
          "15000.0 SPAN"
         ],
         "marker": {
          "color": "#2ca02c"
         },
         "mode": "lines+markers",
         "name": "SPAN",
         "opacity": 0.8,
         "showlegend": false,
         "x": [
          0.923,
          0.905,
          0.8983333333333333,
          0.881,
          0.869,
          0.8573333333333333,
          0.8442857142857143,
          0.830875,
          0.8143333333333334,
          0.7952,
          0.7768181818181819,
          0.75325,
          0.7294615384615385,
          0.7037142857142857,
          0.6769333333333334
         ],
         "y": [
          0.0607550482879719,
          0.11483757682177348,
          0.16856892010535557,
          0.21826163301141352,
          0.26731050629206904,
          0.31501316944688323,
          0.3604916593503073,
          0.40409716125256073,
          0.4443078724026924,
          0.48083113842551944,
          0.5151302311969564,
          0.5432250512145157,
          0.5684518583552824,
          0.5894059116183787,
          0.6060286801287679
         ],
         "type": "scatter"
        },
        {
         "hovertext": [
          "1000.0 MACS2",
          "2000.0 MACS2",
          "3000.0 MACS2",
          "4000.0 MACS2",
          "5000.0 MACS2",
          "6000.0 MACS2",
          "7000.0 MACS2",
          "8000.0 MACS2",
          "9000.0 MACS2",
          "10000.0 MACS2",
          "11000.0 MACS2",
          "12000.0 MACS2",
          "13000.0 MACS2",
          "14000.0 MACS2",
          "15000.0 MACS2"
         ],
         "marker": {
          "color": "#1f77b4"
         },
         "mode": "lines+markers",
         "name": "MACS2",
         "opacity": 0.8,
         "showlegend": false,
         "x": [
          0.842,
          0.837,
          0.823,
          0.8135,
          0.7986,
          0.7855,
          0.774,
          0.76175,
          0.7542222222222222,
          0.7387,
          0.7260909090909091,
          0.7135,
          0.7015384615384616,
          0.6880714285714286,
          0.6786666666666666
         ],
         "y": [
          0.049692712906057944,
          0.09634182031021364,
          0.13994732221246708,
          0.18115305823822067,
          0.21913959613696224,
          0.253321627158326,
          0.2858062628036289,
          0.3163593795727246,
          0.34427860696517415,
          0.3688030436055019,
          0.39432250512145156,
          0.41562774363476734,
          0.43740122914837576,
          0.4577114427860697,
          0.4742171495463857
         ],
         "type": "scatter"
        },
        {
         "hovertext": [
          "1000.0 MACS2 broad",
          "2000.0 MACS2 broad",
          "3000.0 MACS2 broad",
          "4000.0 MACS2 broad",
          "5000.0 MACS2 broad",
          "6000.0 MACS2 broad",
          "7000.0 MACS2 broad",
          "8000.0 MACS2 broad",
          "9000.0 MACS2 broad",
          "10000.0 MACS2 broad",
          "11000.0 MACS2 broad",
          "12000.0 MACS2 broad",
          "13000.0 MACS2 broad",
          "14000.0 MACS2 broad",
          "15000.0 MACS2 broad"
         ],
         "marker": {
          "color": "#ff7f0e"
         },
         "mode": "lines+markers",
         "name": "MACS2 broad",
         "opacity": 0.8,
         "showlegend": false,
         "x": [
          0.857,
          0.862,
          0.861,
          0.857,
          0.8464,
          0.8363333333333334,
          0.824,
          0.81125,
          0.7947777777777778,
          0.7791,
          0.7588181818181818,
          0.7365,
          0.7133076923076923,
          0.69,
          0.664
         ],
         "y": [
          0.05156570090722856,
          0.10348258706467661,
          0.1553409423470881,
          0.20637986537898742,
          0.25478489903424056,
          0.3016681299385426,
          0.3463857184664911,
          0.3896985659935616,
          0.42908984489318114,
          0.46777875329236174,
          0.5007316359379572,
          0.5292361720807726,
          0.5548141644717589,
          0.5773485513608428,
          0.5949078138718173
         ],
         "type": "scatter"
        },
        {
         "hovertext": [
          "1000.0 SICER",
          "2000.0 SICER",
          "3000.0 SICER",
          "4000.0 SICER",
          "5000.0 SICER",
          "6000.0 SICER",
          "7000.0 SICER",
          "8000.0 SICER",
          "9000.0 SICER",
          "10000.0 SICER",
          "11000.0 SICER",
          "12000.0 SICER",
          "13000.0 SICER",
          "14000.0 SICER",
          "15000.0 SICER"
         ],
         "marker": {
          "color": "#d62728"
         },
         "mode": "lines+markers",
         "name": "SICER",
         "opacity": 0.8,
         "showlegend": false,
         "x": [
          0.709,
          0.6925,
          0.682,
          0.65925,
          0.6412,
          0.6208333333333333,
          0.604,
          0.5925,
          0.578,
          0.5658,
          0.5557272727272727,
          0.5465,
          0.5332307692307693,
          0.525,
          0.5203333333333333
         ],
         "y": [
          0.04641498390400937,
          0.08855721393034825,
          0.12947029558091894,
          0.16534972197834358,
          0.1996488147497805,
          0.2311384255194615,
          0.2620427275387767,
          0.29282996780801873,
          0.32074919520046824,
          0.34878548434299095,
          0.3759438103599649,
          0.4023412350014633,
          0.4248756218905473,
          0.44998536728124083,
          0.4774363476733977
         ],
         "type": "scatter"
        },
        {
         "hovertext": [
          "1000.0 SPAN",
          "2000.0 SPAN",
          "3000.0 SPAN",
          "4000.0 SPAN",
          "5000.0 SPAN",
          "6000.0 SPAN",
          "7000.0 SPAN",
          "8000.0 SPAN",
          "9000.0 SPAN",
          "10000.0 SPAN",
          "11000.0 SPAN",
          "12000.0 SPAN",
          "13000.0 SPAN",
          "14000.0 SPAN",
          "15000.0 SPAN"
         ],
         "marker": {
          "color": "#2ca02c"
         },
         "mode": "lines+markers",
         "name": "SPAN",
         "opacity": 0.8,
         "showlegend": false,
         "x": [
          0.908,
          0.8965,
          0.8853333333333333,
          0.87275,
          0.8586,
          0.8488333333333333,
          0.837,
          0.82525,
          0.8084444444444444,
          0.7939,
          0.7773636363636364,
          0.758,
          0.7356153846153846,
          0.7100714285714286,
          0.6822
         ],
         "y": [
          0.05864793678665496,
          0.11331577407082236,
          0.16570090722856307,
          0.21621305238513316,
          0.2642669007901668,
          0.31261340357038336,
          0.35815042434884403,
          0.4028094820017559,
          0.4428446005267779,
          0.4814749780509219,
          0.5173544044483465,
          0.5491366695932104,
          0.5762949956101844,
          0.5982440737489025,
          0.6144571261340357
         ],
         "type": "scatter"
        },
        {
         "hovertext": [
          "1000.0 MACS2",
          "2000.0 MACS2",
          "3000.0 MACS2",
          "4000.0 MACS2",
          "5000.0 MACS2",
          "6000.0 MACS2",
          "7000.0 MACS2",
          "8000.0 MACS2",
          "9000.0 MACS2",
          "10000.0 MACS2",
          "11000.0 MACS2",
          "12000.0 MACS2",
          "13000.0 MACS2",
          "14000.0 MACS2",
          "15000.0 MACS2"
         ],
         "marker": {
          "color": "#1f77b4"
         },
         "mode": "lines+markers",
         "name": "MACS2",
         "opacity": 0.8,
         "showlegend": false,
         "x": [
          0.861,
          0.859,
          0.8553333333333333,
          0.846,
          0.8428,
          0.8366666666666667,
          0.8307142857142857,
          0.825125,
          0.8182222222222222,
          0.8106,
          0.7990909090909091,
          0.7884166666666667,
          0.7768461538461539,
          0.762,
          0.7462666666666666
         ],
         "y": [
          0.05018310826276036,
          0.09950789654383153,
          0.14803158617532616,
          0.19295033188372626,
          0.23655298695353627,
          0.27832455939574274,
          0.3168917372396429,
          0.3536850537880522,
          0.38595788509956513,
          0.4159418631265736,
          0.44197756923781184,
          0.4657816433966583,
          0.48655298695353627,
          0.5023460746166171,
          0.5170519569695583
         ],
         "type": "scatter"
        },
        {
         "hovertext": [
          "1000.0 MACS2 broad",
          "2000.0 MACS2 broad",
          "3000.0 MACS2 broad",
          "4000.0 MACS2 broad",
          "5000.0 MACS2 broad",
          "6000.0 MACS2 broad",
          "7000.0 MACS2 broad",
          "8000.0 MACS2 broad",
          "9000.0 MACS2 broad",
          "10000.0 MACS2 broad",
          "11000.0 MACS2 broad",
          "12000.0 MACS2 broad",
          "13000.0 MACS2 broad",
          "14000.0 MACS2 broad",
          "15000.0 MACS2 broad"
         ],
         "marker": {
          "color": "#ff7f0e"
         },
         "mode": "lines+markers",
         "name": "MACS2 broad",
         "opacity": 0.8,
         "showlegend": false,
         "x": [
          0.873,
          0.8825,
          0.8823333333333333,
          0.88275,
          0.8788,
          0.8731666666666666,
          0.8657142857142858,
          0.855625,
          0.8435555555555555,
          0.8254,
          0.7997272727272727,
          0.7695833333333333,
          0.7349230769230769,
          0.699,
          0.6634
         ],
         "y": [
          0.050869764248111696,
          0.10397116044861525,
          0.15684367132066834,
          0.20954451819638362,
          0.26092927443350883,
          0.31139848935683223,
          0.3603227283131151,
          0.4070153353170062,
          0.4510757610437171,
          0.48992904554818034,
          0.5216868848706798,
          0.5473220416571298,
          0.5656900892652781,
          0.5791371023117419,
          0.5885214007782101
         ],
         "type": "scatter"
        },
        {
         "hovertext": [
          "1000.0 SICER",
          "2000.0 SICER",
          "3000.0 SICER",
          "4000.0 SICER",
          "5000.0 SICER",
          "6000.0 SICER",
          "7000.0 SICER",
          "8000.0 SICER",
          "9000.0 SICER",
          "10000.0 SICER",
          "11000.0 SICER",
          "12000.0 SICER",
          "13000.0 SICER",
          "14000.0 SICER",
          "15000.0 SICER"
         ],
         "marker": {
          "color": "#d62728"
         },
         "mode": "lines+markers",
         "name": "SICER",
         "opacity": 0.8,
         "showlegend": false,
         "x": [
          0.808,
          0.792,
          0.786,
          0.76575,
          0.7474,
          0.7333333333333333,
          0.718,
          0.700125,
          0.686,
          0.6674,
          0.6534545454545454,
          0.6351666666666667,
          0.6141538461538462,
          0.5987142857142858,
          0.5766
         ],
         "y": [
          0.0553330281528954,
          0.10477225909819181,
          0.15295262073701077,
          0.19604028381780728,
          0.23643854428931105,
          0.27637903410391396,
          0.31351567864499885,
          0.34721904325932706,
          0.3809796292057679,
          0.41033417257953764,
          0.440775921263447,
          0.46606775005722134,
          0.48701075761043716,
          0.5101281757839322,
          0.5259212634470131
         ],
         "type": "scatter"
        },
        {
         "hovertext": [
          "1000.0 SPAN",
          "2000.0 SPAN",
          "3000.0 SPAN",
          "4000.0 SPAN",
          "5000.0 SPAN",
          "6000.0 SPAN",
          "7000.0 SPAN",
          "8000.0 SPAN",
          "9000.0 SPAN",
          "10000.0 SPAN",
          "11000.0 SPAN",
          "12000.0 SPAN",
          "13000.0 SPAN",
          "14000.0 SPAN",
          "15000.0 SPAN"
         ],
         "marker": {
          "color": "#2ca02c"
         },
         "mode": "lines+markers",
         "name": "SPAN",
         "opacity": 0.8,
         "showlegend": false,
         "x": [
          0.918,
          0.919,
          0.91,
          0.90425,
          0.8964,
          0.8898333333333334,
          0.8827142857142857,
          0.874625,
          0.8612222222222222,
          0.8417,
          0.8155454545454546,
          0.78275,
          0.745,
          0.7093571428571429,
          0.6722
         ],
         "y": [
          0.060654612039368276,
          0.11747539482719158,
          0.1713778896772717,
          0.22396429388876174,
          0.2755779354543374,
          0.32639047837033647,
          0.3755436026550698,
          0.4234378576333257,
          0.4673266193636988,
          0.5064087891966125,
          0.5383955138475623,
          0.5626573586633097,
          0.5795376516365301,
          0.5937285420004578,
          0.6023689631494621
         ],
         "type": "scatter"
        },
        {
         "hovertext": [
          "1000.0 MACS2",
          "2000.0 MACS2",
          "3000.0 MACS2",
          "4000.0 MACS2",
          "5000.0 MACS2",
          "6000.0 MACS2",
          "7000.0 MACS2",
          "8000.0 MACS2",
          "9000.0 MACS2",
          "10000.0 MACS2",
          "11000.0 MACS2",
          "12000.0 MACS2",
          "13000.0 MACS2",
          "14000.0 MACS2",
          "15000.0 MACS2"
         ],
         "marker": {
          "color": "#1f77b4"
         },
         "mode": "lines+markers",
         "name": "MACS2",
         "opacity": 0.8,
         "showlegend": false,
         "x": [
          0.722,
          0.733,
          0.7226666666666667,
          0.716,
          0.7154,
          0.7108333333333333,
          0.7031428571428572,
          0.6975,
          0.69,
          0.6804,
          0.672,
          0.6619166666666667,
          0.6522307692307693,
          0.6427142857142857,
          0.6332666666666666
         ],
         "y": [
          0.042987894892235014,
          0.08556244464127546,
          0.12459403602007676,
          0.1609684086211987,
          0.19586654856805433,
          0.2273398287570121,
          0.2580454679657514,
          0.2856214939474461,
          0.31118984351933865,
          0.3331561854148214,
          0.35571302037201064,
          0.3746678476527901,
          0.3914378506052554,
          0.40749926188367286,
          0.422261588426336
         ],
         "type": "scatter"
        },
        {
         "hovertext": [
          "1000.0 MACS2 broad",
          "2000.0 MACS2 broad",
          "3000.0 MACS2 broad",
          "4000.0 MACS2 broad",
          "5000.0 MACS2 broad",
          "6000.0 MACS2 broad",
          "7000.0 MACS2 broad",
          "8000.0 MACS2 broad",
          "9000.0 MACS2 broad",
          "10000.0 MACS2 broad",
          "11000.0 MACS2 broad",
          "12000.0 MACS2 broad",
          "13000.0 MACS2 broad",
          "14000.0 MACS2 broad",
          "15000.0 MACS2 broad"
         ],
         "marker": {
          "color": "#ff7f0e"
         },
         "mode": "lines+markers",
         "name": "MACS2 broad",
         "opacity": 0.8,
         "showlegend": false,
         "x": [
          0.819,
          0.836,
          0.8373333333333334,
          0.82825,
          0.8188,
          0.8113333333333334,
          0.8005714285714286,
          0.7835,
          0.7623333333333333,
          0.7399,
          0.7151818181818181,
          0.6851666666666667,
          0.6528461538461539,
          0.6209285714285714,
          0.5904666666666667
         ],
         "y": [
          0.05036905816356658,
          0.10250959551225274,
          0.15459108355476822,
          0.2034839090640685,
          0.25090050191910246,
          0.29766755240625925,
          0.34260407440212576,
          0.3829937998228521,
          0.41871863005609683,
          0.4509595512252731,
          0.4787127251254798,
          0.4993209329790375,
          0.5147328018895778,
          0.5265426631237083,
          0.536108650723354
         ],
         "type": "scatter"
        },
        {
         "hovertext": [
          "1000.0 SICER",
          "2000.0 SICER",
          "3000.0 SICER",
          "4000.0 SICER",
          "5000.0 SICER",
          "6000.0 SICER",
          "7000.0 SICER",
          "8000.0 SICER",
          "9000.0 SICER",
          "10000.0 SICER",
          "11000.0 SICER",
          "12000.0 SICER",
          "13000.0 SICER",
          "14000.0 SICER",
          "15000.0 SICER"
         ],
         "marker": {
          "color": "#d62728"
         },
         "mode": "lines+markers",
         "name": "SICER",
         "opacity": 0.8,
         "showlegend": false,
         "x": [
          0.789,
          0.761,
          0.737,
          0.7135,
          0.7054,
          0.6888333333333333,
          0.6768571428571428,
          0.67075,
          0.6605555555555556,
          0.6562,
          0.6473636363636364,
          0.6384166666666666,
          0.6335384615384615,
          0.6272857142857143,
          0.6259052924791086
         ],
         "y": [
          0.053144375553587246,
          0.10002952465308533,
          0.1429583702391497,
          0.18328904635370535,
          0.2248597578978447,
          0.2622970180100384,
          0.2993799822852081,
          0.33728963684676705,
          0.3725420726306466,
          0.40992028343666964,
          0.44346028934160026,
          0.47587835842928844,
          0.5105993504576322,
          0.5434307646885149,
          0.5553587245349867
         ],
         "type": "scatter"
        },
        {
         "hovertext": [
          "1000.0 SPAN",
          "2000.0 SPAN",
          "3000.0 SPAN",
          "4000.0 SPAN",
          "5000.0 SPAN",
          "6000.0 SPAN",
          "7000.0 SPAN",
          "8000.0 SPAN",
          "9000.0 SPAN",
          "10000.0 SPAN",
          "11000.0 SPAN",
          "12000.0 SPAN",
          "13000.0 SPAN",
          "14000.0 SPAN",
          "15000.0 SPAN"
         ],
         "marker": {
          "color": "#2ca02c"
         },
         "mode": "lines+markers",
         "name": "SPAN",
         "opacity": 0.8,
         "showlegend": false,
         "x": [
          0.817,
          0.813,
          0.8053333333333333,
          0.7935,
          0.7828,
          0.7678333333333334,
          0.7517142857142857,
          0.73275,
          0.7121111111111111,
          0.6925,
          0.6700909090909091,
          0.6431666666666667,
          0.6162307692307692,
          0.607532956685499,
          0.607532956685499
         ],
         "y": [
          0.05172719220549159,
          0.10174195453203425,
          0.14957189253026276,
          0.1953941541186891,
          0.23944493652199586,
          0.28024800708591674,
          0.31851195748449956,
          0.35222911130794216,
          0.3824623560673162,
          0.4087983466194272,
          0.4304694419840567,
          0.44682609979332744,
          0.45975789784470034,
          0.46200177147918514,
          0.46200177147918514
         ],
         "type": "scatter"
        },
        {
         "hovertext": [
          "1000.0 MACS2",
          "2000.0 MACS2",
          "3000.0 MACS2",
          "4000.0 MACS2",
          "5000.0 MACS2",
          "6000.0 MACS2",
          "7000.0 MACS2",
          "8000.0 MACS2",
          "9000.0 MACS2",
          "10000.0 MACS2",
          "11000.0 MACS2",
          "12000.0 MACS2",
          "13000.0 MACS2",
          "14000.0 MACS2",
          "15000.0 MACS2"
         ],
         "marker": {
          "color": "#1f77b4"
         },
         "mode": "lines+markers",
         "name": "MACS2",
         "opacity": 0.8,
         "showlegend": false,
         "x": [
          0.873,
          0.863,
          0.8593333333333333,
          0.85,
          0.8458,
          0.8371666666666666,
          0.8268571428571428,
          0.818875,
          0.808,
          0.7911,
          0.7705454545454545,
          0.7441666666666666,
          0.7177692307692307,
          0.6906428571428571,
          0.6626
         ],
         "y": [
          0.06853125241443252,
          0.13489917329830797,
          0.20165340338406862,
          0.2652398980143707,
          0.3282082979216565,
          0.38800896237348376,
          0.44410105848721315,
          0.4985706559530248,
          0.5486363285173452,
          0.5902804604805686,
          0.6240438847253341,
          0.6486131499652321,
          0.6683149192613768,
          0.6838445491771614,
          0.6944294213088156
         ],
         "type": "scatter"
        },
        {
         "hovertext": [
          "1000.0 MACS2 broad",
          "2000.0 MACS2 broad",
          "3000.0 MACS2 broad",
          "4000.0 MACS2 broad",
          "5000.0 MACS2 broad",
          "6000.0 MACS2 broad",
          "7000.0 MACS2 broad",
          "8000.0 MACS2 broad",
          "9000.0 MACS2 broad",
          "10000.0 MACS2 broad",
          "11000.0 MACS2 broad",
          "12000.0 MACS2 broad",
          "13000.0 MACS2 broad",
          "14000.0 MACS2 broad",
          "15000.0 MACS2 broad"
         ],
         "marker": {
          "color": "#ff7f0e"
         },
         "mode": "lines+markers",
         "name": "MACS2 broad",
         "opacity": 0.8,
         "showlegend": false,
         "x": [
          0.894,
          0.886,
          0.8813333333333333,
          0.87725,
          0.8684,
          0.8601666666666666,
          0.8542857142857143,
          0.84175,
          0.8236666666666667,
          0.8017,
          0.7679090909090909,
          0.7308333333333333,
          0.6928461538461539,
          0.6539285714285714,
          0.6174
         ],
         "y": [
          0.07038553658348141,
          0.14023024028432357,
          0.20930232558139536,
          0.2776790543150738,
          0.34327435679517887,
          0.4083288263926447,
          0.4734605578304875,
          0.5329521749208066,
          0.5881171289500116,
          0.6356331607818898,
          0.6693965850266553,
          0.6951247778722089,
          0.7135130958819439,
          0.7249478482577455,
          0.7332921270184656
         ],
         "type": "scatter"
        },
        {
         "hovertext": [
          "1000.0 SICER",
          "2000.0 SICER",
          "3000.0 SICER",
          "4000.0 SICER",
          "5000.0 SICER",
          "6000.0 SICER",
          "7000.0 SICER",
          "8000.0 SICER",
          "9000.0 SICER",
          "10000.0 SICER",
          "11000.0 SICER",
          "12000.0 SICER",
          "13000.0 SICER",
          "14000.0 SICER",
          "15000.0 SICER"
         ],
         "marker": {
          "color": "#d62728"
         },
         "mode": "lines+markers",
         "name": "SICER",
         "opacity": 0.8,
         "showlegend": false,
         "x": [
          0.533,
          0.535,
          0.5383333333333333,
          0.5445,
          0.5456,
          0.5436666666666666,
          0.5395714285714286,
          0.533375,
          0.5291111111111111,
          0.5249,
          0.518,
          0.5090833333333333,
          0.4990769230769231,
          0.48842857142857143,
          0.47713333333333335
         ],
         "y": [
          0.04890674495866491,
          0.09340956501583868,
          0.13775786139225837,
          0.18311056169357953,
          0.22676350150660587,
          0.2691802518735996,
          0.3104380746349378,
          0.34899173298307967,
          0.3879317005331067,
          0.4264080970408715,
          0.4614849725720467,
          0.49354863632851736,
          0.5229853975121688,
          0.550104303484509,
          0.5753689252878004
         ],
         "type": "scatter"
        },
        {
         "hovertext": [
          "1000.0 SPAN",
          "2000.0 SPAN",
          "3000.0 SPAN",
          "4000.0 SPAN",
          "5000.0 SPAN",
          "6000.0 SPAN",
          "7000.0 SPAN",
          "8000.0 SPAN",
          "9000.0 SPAN",
          "10000.0 SPAN",
          "11000.0 SPAN",
          "12000.0 SPAN",
          "13000.0 SPAN",
          "14000.0 SPAN",
          "15000.0 SPAN"
         ],
         "marker": {
          "color": "#2ca02c"
         },
         "mode": "lines+markers",
         "name": "SPAN",
         "opacity": 0.8,
         "showlegend": false,
         "x": [
          0.888,
          0.889,
          0.8793333333333333,
          0.87375,
          0.8668,
          0.859,
          0.8537142857142858,
          0.84175,
          0.8256666666666667,
          0.8031,
          0.7705454545454545,
          0.7320833333333333,
          0.6923846153846154,
          0.6541428571428571,
          0.6170666666666667
         ],
         "y": [
          0.0746349378042185,
          0.14633392567410955,
          0.21386077416364058,
          0.2810013134512864,
          0.3470601869736537,
          0.41072394344433283,
          0.4746967472765201,
          0.5339565788457081,
          0.5879626052692575,
          0.6340106621339721,
          0.6679286100594917,
          0.69118442401298,
          0.7066367920883876,
          0.7178397589430581,
          0.7251023719384996
         ],
         "type": "scatter"
        },
        {
         "hovertext": [
          "1000.0 MACS2",
          "2000.0 MACS2",
          "3000.0 MACS2",
          "4000.0 MACS2",
          "5000.0 MACS2",
          "6000.0 MACS2",
          "7000.0 MACS2",
          "8000.0 MACS2",
          "9000.0 MACS2",
          "10000.0 MACS2",
          "11000.0 MACS2",
          "12000.0 MACS2",
          "13000.0 MACS2",
          "14000.0 MACS2",
          "15000.0 MACS2"
         ],
         "marker": {
          "color": "#1f77b4"
         },
         "mode": "lines+markers",
         "name": "MACS2",
         "opacity": 0.8,
         "showlegend": false,
         "x": [
          0.865,
          0.854,
          0.8556666666666667,
          0.84325,
          0.8392,
          0.8348333333333333,
          0.829,
          0.818125,
          0.8046666666666666,
          0.7893,
          0.7706363636363637,
          0.7519166666666667,
          0.7275384615384616,
          0.7018571428571428,
          0.6771333333333334
         ],
         "y": [
          0.06776386957193634,
          0.13359604388811622,
          0.19911914696337507,
          0.2611651985782723,
          0.3234430536238603,
          0.38363467779323135,
          0.4411991964147736,
          0.49235048678720444,
          0.5393293154072014,
          0.5805903260701591,
          0.6135064132282491,
          0.6420955030134446,
          0.662880543965384,
          0.679338587544429,
          0.6938649358677175
         ],
         "type": "scatter"
        },
        {
         "hovertext": [
          "1000.0 MACS2 broad",
          "2000.0 MACS2 broad",
          "3000.0 MACS2 broad",
          "4000.0 MACS2 broad",
          "5000.0 MACS2 broad",
          "6000.0 MACS2 broad",
          "7000.0 MACS2 broad",
          "8000.0 MACS2 broad",
          "9000.0 MACS2 broad",
          "10000.0 MACS2 broad",
          "11000.0 MACS2 broad",
          "12000.0 MACS2 broad",
          "13000.0 MACS2 broad",
          "14000.0 MACS2 broad",
          "15000.0 MACS2 broad"
         ],
         "marker": {
          "color": "#ff7f0e"
         },
         "mode": "lines+markers",
         "name": "MACS2 broad",
         "opacity": 0.8,
         "showlegend": false,
         "x": [
          0.879,
          0.874,
          0.868,
          0.86475,
          0.8626,
          0.8545,
          0.8445714285714285,
          0.834375,
          0.8193333333333334,
          0.7954,
          0.764,
          0.7275833333333334,
          0.691076923076923,
          0.6542857142857142,
          0.6193333333333333
         ],
         "y": [
          0.06892288672539021,
          0.13776850564055015,
          0.20576417864317725,
          0.2736825838355741,
          0.3415237212177407,
          0.40573327151908517,
          0.46816566218513367,
          0.528743625405656,
          0.5843764487714418,
          0.6301962602379848,
          0.665584917323443,
          0.691006026889198,
          0.7106320506876835,
          0.724231185288209,
          0.7343532684283728
         ],
         "type": "scatter"
        },
        {
         "hovertext": [
          "1000.0 SICER",
          "2000.0 SICER",
          "3000.0 SICER",
          "4000.0 SICER",
          "5000.0 SICER",
          "6000.0 SICER",
          "7000.0 SICER",
          "8000.0 SICER",
          "9000.0 SICER",
          "10000.0 SICER",
          "11000.0 SICER",
          "12000.0 SICER",
          "13000.0 SICER",
          "14000.0 SICER",
          "15000.0 SICER"
         ],
         "marker": {
          "color": "#d62728"
         },
         "mode": "lines+markers",
         "name": "SICER",
         "opacity": 0.8,
         "showlegend": false,
         "x": [
          0.708,
          0.7155,
          0.704,
          0.6985,
          0.6856,
          0.6751666666666667,
          0.6627142857142857,
          0.647625,
          0.6318888888888889,
          0.6172,
          0.5994545454545455,
          0.5819166666666666,
          0.5651538461538461,
          0.55,
          0.5322666666666667
         ],
         "y": [
          0.06289599752743007,
          0.12285581826611033,
          0.17833410601143562,
          0.23249884098284654,
          0.2831092566836656,
          0.33248338742080047,
          0.37923041261010665,
          0.42211404728789986,
          0.4617524339360223,
          0.49961366094884874,
          0.5329933549683202,
          0.5632823365785814,
          0.5917168907433163,
          0.6193014989955185,
          0.641322824911142
         ],
         "type": "scatter"
        },
        {
         "hovertext": [
          "1000.0 SPAN",
          "2000.0 SPAN",
          "3000.0 SPAN",
          "4000.0 SPAN",
          "5000.0 SPAN",
          "6000.0 SPAN",
          "7000.0 SPAN",
          "8000.0 SPAN",
          "9000.0 SPAN",
          "10000.0 SPAN",
          "11000.0 SPAN",
          "12000.0 SPAN",
          "13000.0 SPAN",
          "14000.0 SPAN",
          "15000.0 SPAN"
         ],
         "marker": {
          "color": "#2ca02c"
         },
         "mode": "lines+markers",
         "name": "SPAN",
         "opacity": 0.8,
         "showlegend": false,
         "x": [
          0.906,
          0.8995,
          0.8926666666666667,
          0.8855,
          0.8774,
          0.8675,
          0.8568571428571429,
          0.8455,
          0.8312222222222222,
          0.8084,
          0.7777272727272727,
          0.74025,
          0.7012307692307692,
          0.6627142857142857,
          0.6260666666666667
         ],
         "y": [
          0.07695873898933704,
          0.1491268737443981,
          0.21851336733116983,
          0.286818111574718,
          0.3530366249420491,
          0.41701437181270284,
          0.47913769123783034,
          0.5390975119765106,
          0.5949621387729872,
          0.6420955030134446,
          0.6787204450625869,
          0.7041415546283418,
          0.7219904187915315,
          0.7346623396692937,
          0.7433936022253129
         ],
         "type": "scatter"
        },
        {
         "hovertext": [
          "1000.0 MACS2",
          "2000.0 MACS2",
          "3000.0 MACS2",
          "4000.0 MACS2",
          "5000.0 MACS2",
          "6000.0 MACS2",
          "7000.0 MACS2",
          "8000.0 MACS2",
          "9000.0 MACS2",
          "10000.0 MACS2",
          "11000.0 MACS2",
          "12000.0 MACS2",
          "13000.0 MACS2",
          "14000.0 MACS2",
          "15000.0 MACS2"
         ],
         "marker": {
          "color": "#1f77b4"
         },
         "mode": "lines+markers",
         "name": "MACS2",
         "opacity": 0.8,
         "showlegend": false,
         "x": [
          0.867,
          0.8495,
          0.8393333333333334,
          0.83875,
          0.8318,
          0.8271666666666667,
          0.8228571428571428,
          0.812125,
          0.7968888888888889,
          0.7795,
          0.7659090909090909,
          0.7496666666666667,
          0.7279230769230769,
          0.7057857142857142,
          0.6853333333333333
         ],
         "y": [
          0.059327135308675005,
          0.11370476891177847,
          0.16681158450939737,
          0.22045348137248344,
          0.27108554611731656,
          0.3209818741221323,
          0.36927295833054646,
          0.41181191893518826,
          0.4481974449869574,
          0.4792321583840546,
          0.5106681827302522,
          0.5368202795799613,
          0.5554143535549462,
          0.5705972844625777,
          0.584375627048358
         ],
         "type": "scatter"
        },
        {
         "hovertext": [
          "1000.0 MACS2 broad",
          "2000.0 MACS2 broad",
          "3000.0 MACS2 broad",
          "4000.0 MACS2 broad",
          "5000.0 MACS2 broad",
          "6000.0 MACS2 broad",
          "7000.0 MACS2 broad",
          "8000.0 MACS2 broad",
          "9000.0 MACS2 broad",
          "10000.0 MACS2 broad",
          "11000.0 MACS2 broad",
          "12000.0 MACS2 broad",
          "13000.0 MACS2 broad",
          "14000.0 MACS2 broad",
          "15000.0 MACS2 broad"
         ],
         "marker": {
          "color": "#ff7f0e"
         },
         "mode": "lines+markers",
         "name": "MACS2 broad",
         "opacity": 0.8,
         "showlegend": false,
         "x": [
          0.885,
          0.8775,
          0.87,
          0.85925,
          0.8578,
          0.8481666666666666,
          0.8382857142857143,
          0.822625,
          0.8067777777777778,
          0.7802,
          0.7512727272727273,
          0.7188333333333333,
          0.6836153846153846,
          0.6482857142857142,
          0.6158666666666667
         ],
         "y": [
          0.06126680489599358,
          0.12146344726105278,
          0.18125877867701157,
          0.23811116313290082,
          0.296970102334292,
          0.3525516687846967,
          0.4061266804895994,
          0.4551535014380309,
          0.502106882482777,
          0.5388268343254632,
          0.570463514146211,
          0.5950772523577018,
          0.6126680489599358,
          0.6253762290147816,
          0.6361447394823089
         ],
         "type": "scatter"
        },
        {
         "hovertext": [
          "1000.0 SICER",
          "2000.0 SICER",
          "3000.0 SICER",
          "4000.0 SICER",
          "5000.0 SICER",
          "6000.0 SICER",
          "7000.0 SICER",
          "8000.0 SICER",
          "9000.0 SICER",
          "10000.0 SICER",
          "11000.0 SICER",
          "12000.0 SICER",
          "13000.0 SICER",
          "14000.0 SICER",
          "15000.0 SICER"
         ],
         "marker": {
          "color": "#d62728"
         },
         "mode": "lines+markers",
         "name": "SICER",
         "opacity": 0.8,
         "showlegend": false,
         "x": [
          0.698,
          0.673,
          0.633,
          0.60525,
          0.5792,
          0.5433333333333333,
          0.5157142857142857,
          0.501,
          0.4777777777777778,
          0.47,
          0.4658181818181818,
          0.46291666666666664,
          0.44953846153846155,
          0.43564285714285716,
          0.4216
         ],
         "y": [
          0.0519028827503177,
          0.0977861012641295,
          0.13664637816868436,
          0.17303190422045348,
          0.20654136847033644,
          0.23316166142732928,
          0.2580429402715537,
          0.285733395759481,
          0.3061333690054177,
          0.3342251354424453,
          0.3641228011504247,
          0.3944886629656879,
          0.41462109557889104,
          0.432211892181125,
          0.4477292488796736
         ],
         "type": "scatter"
        },
        {
         "hovertext": [
          "1000.0 SPAN",
          "2000.0 SPAN",
          "3000.0 SPAN",
          "4000.0 SPAN",
          "5000.0 SPAN",
          "6000.0 SPAN",
          "7000.0 SPAN",
          "8000.0 SPAN",
          "9000.0 SPAN",
          "10000.0 SPAN",
          "11000.0 SPAN",
          "12000.0 SPAN",
          "13000.0 SPAN",
          "14000.0 SPAN",
          "15000.0 SPAN"
         ],
         "marker": {
          "color": "#2ca02c"
         },
         "mode": "lines+markers",
         "name": "SPAN",
         "opacity": 0.8,
         "showlegend": false,
         "x": [
          0.895,
          0.8795,
          0.8703333333333333,
          0.853,
          0.8496,
          0.8436666666666667,
          0.833,
          0.81825,
          0.8013333333333333,
          0.7825,
          0.7566363636363637,
          0.7263333333333334,
          0.6931538461538461,
          0.6600714285714285,
          0.6271333333333333
         ],
         "y": [
          0.0675540097652331,
          0.12942278108487726,
          0.18941876797538626,
          0.24506721958397432,
          0.30292288141261453,
          0.3587051033375694,
          0.4112099525115377,
          0.45976857735268545,
          0.5043809778610127,
          0.5453815798274363,
          0.5787572737609524,
          0.6051100260852117,
          0.6246404922747643,
          0.6399571934987627,
          0.6505250484917396
         ],
         "type": "scatter"
        },
        {
         "hovertext": [
          "1000.0 MACS2",
          "2000.0 MACS2",
          "3000.0 MACS2",
          "4000.0 MACS2",
          "5000.0 MACS2",
          "6000.0 MACS2",
          "7000.0 MACS2",
          "8000.0 MACS2",
          "9000.0 MACS2",
          "10000.0 MACS2",
          "11000.0 MACS2",
          "12000.0 MACS2",
          "13000.0 MACS2",
          "14000.0 MACS2",
          "15000.0 MACS2"
         ],
         "marker": {
          "color": "#1f77b4"
         },
         "mode": "lines+markers",
         "name": "MACS2",
         "opacity": 0.8,
         "showlegend": false,
         "x": [
          0.867,
          0.863,
          0.8576666666666667,
          0.8515,
          0.8488,
          0.8436666666666667,
          0.8351428571428572,
          0.82575,
          0.8142222222222222,
          0.7986,
          0.7858181818181819,
          0.7671666666666667,
          0.7499230769230769,
          0.7313571428571428,
          0.7095333333333333
         ],
         "y": [
          0.05169646950939936,
          0.10184548372306282,
          0.15102017423200367,
          0.19853278312700595,
          0.24547226043099496,
          0.29029115084823476,
          0.33195781751490144,
          0.3713892709766162,
          0.40743924805135256,
          0.437757909215956,
          0.4679046309032554,
          0.49146033929390187,
          0.5129527739569005,
          0.5308917927556167,
          0.5446469509399358
         ],
         "type": "scatter"
        },
        {
         "hovertext": [
          "1000.0 MACS2 broad",
          "2000.0 MACS2 broad",
          "3000.0 MACS2 broad",
          "4000.0 MACS2 broad",
          "5000.0 MACS2 broad",
          "6000.0 MACS2 broad",
          "7000.0 MACS2 broad",
          "8000.0 MACS2 broad",
          "9000.0 MACS2 broad",
          "10000.0 MACS2 broad",
          "11000.0 MACS2 broad",
          "12000.0 MACS2 broad",
          "13000.0 MACS2 broad",
          "14000.0 MACS2 broad",
          "15000.0 MACS2 broad"
         ],
         "marker": {
          "color": "#ff7f0e"
         },
         "mode": "lines+markers",
         "name": "MACS2 broad",
         "opacity": 0.8,
         "showlegend": false,
         "x": [
          0.883,
          0.8855,
          0.8863333333333333,
          0.8785,
          0.8708,
          0.8676666666666667,
          0.8594285714285714,
          0.84825,
          0.8327777777777777,
          0.8123,
          0.7888181818181819,
          0.76125,
          0.7278461538461538,
          0.6925714285714286,
          0.657
         ],
         "y": [
          0.052384227418615315,
          0.10448188904172398,
          0.15772581384685924,
          0.20890646492434664,
          0.25922741861531406,
          0.3106946354883081,
          0.35958276020174235,
          0.4055479138010087,
          0.44853278312700595,
          0.48601558917927556,
          0.5190852819807428,
          0.5458505272810638,
          0.5652796882164145,
          0.5789775332416323,
          0.5882622650160477
         ],
         "type": "scatter"
        },
        {
         "hovertext": [
          "1000.0 SICER",
          "2000.0 SICER",
          "3000.0 SICER",
          "4000.0 SICER",
          "5000.0 SICER",
          "6000.0 SICER",
          "7000.0 SICER",
          "8000.0 SICER",
          "9000.0 SICER",
          "10000.0 SICER",
          "11000.0 SICER",
          "12000.0 SICER",
          "13000.0 SICER",
          "14000.0 SICER",
          "15000.0 SICER"
         ],
         "marker": {
          "color": "#d62728"
         },
         "mode": "lines+markers",
         "name": "SICER",
         "opacity": 0.8,
         "showlegend": false,
         "x": [
          0.63,
          0.631,
          0.6203333333333333,
          0.61825,
          0.6082,
          0.5996666666666667,
          0.588,
          0.582125,
          0.5698888888888889,
          0.5613,
          0.5521818181818182,
          0.5413333333333333,
          0.5323846153846153,
          0.5228571428571429,
          0.5111333333333333
         ],
         "y": [
          0.045678587803759746,
          0.08671480972031179,
          0.12425492893168272,
          0.161508482347547,
          0.19618294360385144,
          0.23034158642824393,
          0.2612906923429619,
          0.29315680880330125,
          0.3212975699220541,
          0.3498968363136176,
          0.3771205868867492,
          0.4018225584594223,
          0.42692572214580465,
          0.4501948647409445,
          0.4706556625401192
         ],
         "type": "scatter"
        },
        {
         "hovertext": [
          "1000.0 SPAN",
          "2000.0 SPAN",
          "3000.0 SPAN",
          "4000.0 SPAN",
          "5000.0 SPAN",
          "6000.0 SPAN",
          "7000.0 SPAN",
          "8000.0 SPAN",
          "9000.0 SPAN",
          "10000.0 SPAN",
          "11000.0 SPAN",
          "12000.0 SPAN",
          "13000.0 SPAN",
          "14000.0 SPAN",
          "15000.0 SPAN"
         ],
         "marker": {
          "color": "#2ca02c"
         },
         "mode": "lines+markers",
         "name": "SPAN",
         "opacity": 0.8,
         "showlegend": false,
         "x": [
          0.899,
          0.895,
          0.888,
          0.88375,
          0.8794,
          0.875,
          0.8647142857142858,
          0.853625,
          0.8414444444444444,
          0.8239,
          0.7987272727272727,
          0.7670833333333333,
          0.7336153846153847,
          0.6981428571428572,
          0.6620666666666667
         ],
         "y": [
          0.05863136176066025,
          0.11250573131591013,
          0.16477533241632278,
          0.21670105456212746,
          0.26765245300320956,
          0.31768684089867033,
          0.36445437872535535,
          0.40927326914259515,
          0.45225813846859236,
          0.4901421366345713,
          0.5201169188445667,
          0.5435006877579092,
          0.5614397065566255,
          0.5736474094452086,
          0.5813273727647867
         ],
         "type": "scatter"
        },
        {
         "hovertext": [
          "1000.0 MACS2",
          "2000.0 MACS2",
          "3000.0 MACS2",
          "4000.0 MACS2",
          "5000.0 MACS2",
          "6000.0 MACS2",
          "7000.0 MACS2",
          "8000.0 MACS2",
          "9000.0 MACS2",
          "10000.0 MACS2",
          "11000.0 MACS2",
          "12000.0 MACS2",
          "13000.0 MACS2",
          "14000.0 MACS2",
          "15000.0 MACS2"
         ],
         "marker": {
          "color": "#1f77b4"
         },
         "mode": "lines+markers",
         "name": "MACS2",
         "opacity": 0.8,
         "showlegend": false,
         "x": [
          0.664,
          0.6745,
          0.6826666666666666,
          0.685,
          0.682,
          0.6815,
          0.6744285714285714,
          0.666375,
          0.6563333333333333,
          0.6466,
          0.6386363636363637,
          0.6300833333333333,
          0.623,
          0.6125,
          0.6024
         ],
         "y": [
          0.039443564007747844,
          0.0778892997593473,
          0.11574807771321242,
          0.15102424135704642,
          0.18219170041674004,
          0.2129482890180196,
          0.2396548688149322,
          0.26536362035569644,
          0.28937019428303107,
          0.3102071961026002,
          0.33063332746375534,
          0.3478311909373716,
          0.36590949110758936,
          0.3805247402711745,
          0.39508129365498623
         ],
         "type": "scatter"
        },
        {
         "hovertext": [
          "1000.0 MACS2 broad",
          "2000.0 MACS2 broad",
          "3000.0 MACS2 broad",
          "4000.0 MACS2 broad",
          "5000.0 MACS2 broad",
          "6000.0 MACS2 broad",
          "7000.0 MACS2 broad",
          "8000.0 MACS2 broad",
          "9000.0 MACS2 broad",
          "10000.0 MACS2 broad",
          "11000.0 MACS2 broad",
          "12000.0 MACS2 broad",
          "13000.0 MACS2 broad",
          "14000.0 MACS2 broad",
          "15000.0 MACS2 broad"
         ],
         "marker": {
          "color": "#ff7f0e"
         },
         "mode": "lines+markers",
         "name": "MACS2 broad",
         "opacity": 0.8,
         "showlegend": false,
         "x": [
          0.772,
          0.7925,
          0.7906666666666666,
          0.78775,
          0.7828,
          0.7718333333333334,
          0.7594285714285715,
          0.74025,
          0.7202222222222222,
          0.6969,
          0.6725454545454546,
          0.6460833333333333,
          0.6186923076923077,
          0.5907142857142857,
          0.5636
         ],
         "y": [
          0.047719668955802076,
          0.09749369020367435,
          0.14491988026060926,
          0.19181780829958325,
          0.23812877854082293,
          0.2811527851147502,
          0.32206374361683393,
          0.35833773551681636,
          0.39126606796971297,
          0.42014439161824263,
          0.44544227270059283,
          0.4662205787403886,
          0.4827140928567236,
          0.495744555966426,
          0.5062511005458707
         ],
         "type": "scatter"
        },
        {
         "hovertext": [
          "1000.0 SICER",
          "2000.0 SICER",
          "3000.0 SICER",
          "4000.0 SICER",
          "5000.0 SICER",
          "6000.0 SICER",
          "7000.0 SICER",
          "8000.0 SICER",
          "9000.0 SICER",
          "10000.0 SICER",
          "11000.0 SICER",
          "12000.0 SICER",
          "13000.0 SICER",
          "14000.0 SICER",
          "15000.0 SICER"
         ],
         "marker": {
          "color": "#d62728"
         },
         "mode": "lines+markers",
         "name": "SICER",
         "opacity": 0.8,
         "showlegend": false,
         "x": [
          0.847,
          0.8415,
          0.8393333333333334,
          0.82875,
          0.8146,
          0.8006666666666666,
          0.7867142857142857,
          0.771,
          0.7508888888888889,
          0.7278,
          0.7044545454545454,
          0.67775,
          0.65,
          0.6234285714285714,
          0.5966666666666667
         ],
         "y": [
          0.06063274050595762,
          0.11386981276046253,
          0.16663731877677995,
          0.2160004695662382,
          0.26213535246815756,
          0.3060984915184598,
          0.34929858543170744,
          0.38885954099900216,
          0.42407700886306277,
          0.45542055526207664,
          0.48335974643423135,
          0.5063097963256442,
          0.5251511416329165,
          0.5416446557492516,
          0.5548512061982743
         ],
         "type": "scatter"
        },
        {
         "hovertext": [
          "1000.0 SPAN",
          "2000.0 SPAN",
          "3000.0 SPAN",
          "4000.0 SPAN",
          "5000.0 SPAN",
          "6000.0 SPAN",
          "7000.0 SPAN",
          "8000.0 SPAN",
          "9000.0 SPAN",
          "10000.0 SPAN",
          "11000.0 SPAN",
          "12000.0 SPAN",
          "13000.0 SPAN",
          "14000.0 SPAN",
          "15000.0 SPAN"
         ],
         "marker": {
          "color": "#2ca02c"
         },
         "mode": "lines+markers",
         "name": "SPAN",
         "opacity": 0.8,
         "showlegend": false,
         "x": [
          0.83,
          0.8425,
          0.848,
          0.84775,
          0.8406,
          0.8273333333333334,
          0.8098571428571428,
          0.795,
          0.775,
          0.7447,
          0.7150909090909091,
          0.6856666666666666,
          0.6523846153846153,
          0.6217142857142857,
          0.5930666666666666
         ],
         "y": [
          0.05482185830838763,
          0.10841110524153313,
          0.1607677407994365,
          0.21183306920232436,
          0.2611962199917826,
          0.3070963197746082,
          0.34894641075306687,
          0.3897399776956037,
          0.42613136115513295,
          0.4537770734284205,
          0.477901038915302,
          0.49867934495509775,
          0.5133532898984563,
          0.5258554909901978,
          0.5368316018078301
         ],
         "type": "scatter"
        },
        {
         "hovertext": [
          "1000.0 MACS2",
          "2000.0 MACS2",
          "3000.0 MACS2",
          "4000.0 MACS2",
          "5000.0 MACS2",
          "6000.0 MACS2",
          "7000.0 MACS2",
          "8000.0 MACS2",
          "9000.0 MACS2",
          "10000.0 MACS2",
          "11000.0 MACS2",
          "12000.0 MACS2",
          "13000.0 MACS2",
          "14000.0 MACS2",
          "15000.0 MACS2"
         ],
         "marker": {
          "color": "#1f77b4"
         },
         "mode": "lines+markers",
         "name": "MACS2",
         "opacity": 0.8,
         "showlegend": false,
         "x": [
          0.813,
          0.8045,
          0.7963333333333333,
          0.78925,
          0.774,
          0.7665,
          0.7555714285714286,
          0.746625,
          0.7354444444444445,
          0.7249,
          0.7132727272727273,
          0.7004166666666667,
          0.6846923076923077,
          0.6706428571428571,
          0.655
         ],
         "y": [
          0.06071215733015495,
          0.11710369487485102,
          0.16910011918951132,
          0.21848927294398093,
          0.26162097735399287,
          0.3063170441001192,
          0.3455750893921335,
          0.38244934445768775,
          0.41634386174016685,
          0.4463647199046484,
          0.4754916567342074,
          0.5006704410011918,
          0.5203367103694875,
          0.53888557806913,
          0.5556466030989273
         ],
         "type": "scatter"
        },
        {
         "hovertext": [
          "1000.0 MACS2 broad",
          "2000.0 MACS2 broad",
          "3000.0 MACS2 broad",
          "4000.0 MACS2 broad",
          "5000.0 MACS2 broad",
          "6000.0 MACS2 broad",
          "7000.0 MACS2 broad",
          "8000.0 MACS2 broad",
          "9000.0 MACS2 broad",
          "10000.0 MACS2 broad",
          "11000.0 MACS2 broad",
          "12000.0 MACS2 broad",
          "13000.0 MACS2 broad",
          "14000.0 MACS2 broad",
          "15000.0 MACS2 broad"
         ],
         "marker": {
          "color": "#ff7f0e"
         },
         "mode": "lines+markers",
         "name": "MACS2 broad",
         "opacity": 0.8,
         "showlegend": false,
         "x": [
          0.896,
          0.8725,
          0.859,
          0.85075,
          0.8358,
          0.8213333333333334,
          0.8061428571428572,
          0.7875,
          0.765,
          0.7346,
          0.7003636363636364,
          0.6644166666666667,
          0.6274615384615385,
          0.5945714285714285,
          0.5627333333333333
         ],
         "y": [
          0.0697258641239571,
          0.1355035756853397,
          0.20023837902264602,
          0.2643772348033373,
          0.32412097735399287,
          0.38244934445768775,
          0.438095947556615,
          0.48890047675804527,
          0.5340435041716329,
          0.5693533969010727,
          0.5963945172824792,
          0.616507747318236,
          0.6302890345649583,
          0.6427294398092968,
          0.6515196662693683
         ],
         "type": "scatter"
        },
        {
         "hovertext": [
          "1000.0 SICER",
          "2000.0 SICER",
          "3000.0 SICER",
          "4000.0 SICER",
          "5000.0 SICER",
          "6000.0 SICER",
          "7000.0 SICER",
          "8000.0 SICER",
          "9000.0 SICER",
          "10000.0 SICER",
          "11000.0 SICER",
          "12000.0 SICER",
          "13000.0 SICER",
          "14000.0 SICER",
          "15000.0 SICER"
         ],
         "marker": {
          "color": "#d62728"
         },
         "mode": "lines+markers",
         "name": "SICER",
         "opacity": 0.8,
         "showlegend": false,
         "x": [
          0.636,
          0.638,
          0.629,
          0.6155,
          0.5948,
          0.5848333333333333,
          0.569,
          0.55525,
          0.54,
          0.5263,
          0.5136363636363637,
          0.4995,
          0.48746153846153845,
          0.4725,
          0.45893333333333336
         ],
         "y": [
          0.05572109654350417,
          0.10823897497020263,
          0.15785160905840287,
          0.20329261025029796,
          0.24329558998808104,
          0.2850864123957092,
          0.32151370679380215,
          0.3570470798569726,
          0.38885578069129917,
          0.4196215733015495,
          0.449046483909416,
          0.4754916567342074,
          0.5014153754469607,
          0.5224970202622169,
          0.5427592371871275
         ],
         "type": "scatter"
        },
        {
         "hovertext": [
          "1000.0 SPAN",
          "2000.0 SPAN",
          "3000.0 SPAN",
          "4000.0 SPAN",
          "5000.0 SPAN",
          "6000.0 SPAN",
          "7000.0 SPAN",
          "8000.0 SPAN",
          "9000.0 SPAN",
          "10000.0 SPAN",
          "11000.0 SPAN",
          "12000.0 SPAN",
          "13000.0 SPAN",
          "14000.0 SPAN",
          "15000.0 SPAN"
         ],
         "marker": {
          "color": "#2ca02c"
         },
         "mode": "lines+markers",
         "name": "SPAN",
         "opacity": 0.8,
         "showlegend": false,
         "x": [
          0.897,
          0.886,
          0.8793333333333333,
          0.86575,
          0.857,
          0.8471666666666666,
          0.8351428571428572,
          0.816,
          0.7933333333333333,
          0.7616,
          0.7243636363636363,
          0.6821666666666667,
          0.6417692307692308,
          0.6042857142857143,
          0.5700666666666667
         ],
         "y": [
          0.07583432657926102,
          0.14608164481525626,
          0.21379618593563765,
          0.2771156138259833,
          0.34080750893921335,
          0.40166865315852207,
          0.45962455303933253,
          0.5113230035756854,
          0.5569874851013111,
          0.592222884386174,
          0.6182210965435042,
          0.634088200238379,
          0.6455601907032181,
          0.6530840286054828,
          0.6591179976162098
         ],
         "type": "scatter"
        },
        {
         "hovertext": [
          "1000.0 MACS2",
          "2000.0 MACS2",
          "3000.0 MACS2",
          "4000.0 MACS2",
          "5000.0 MACS2",
          "6000.0 MACS2",
          "7000.0 MACS2",
          "8000.0 MACS2",
          "9000.0 MACS2",
          "10000.0 MACS2",
          "11000.0 MACS2",
          "12000.0 MACS2",
          "13000.0 MACS2",
          "14000.0 MACS2",
          "15000.0 MACS2"
         ],
         "marker": {
          "color": "#1f77b4"
         },
         "mode": "lines+markers",
         "name": "MACS2",
         "opacity": 0.8,
         "showlegend": false,
         "x": [
          0.846,
          0.835,
          0.8206666666666667,
          0.8075,
          0.7942,
          0.7728333333333334,
          0.7584285714285715,
          0.7465,
          0.731,
          0.7147,
          0.6980909090909091,
          0.6795,
          0.663,
          0.6457142857142857,
          0.6261333333333333
         ],
         "y": [
          0.06497324187834476,
          0.12542398432200197,
          0.1814276023215497,
          0.2338132207733474,
          0.28408833948895756,
          0.327353584080802,
          0.3697143287857089,
          0.4105675736790533,
          0.4454661943167257,
          0.4741840657269918,
          0.501168312353961,
          0.5223486847064144,
          0.5426245571719304,
          0.562146679731665,
          0.5757895530263059
         ],
         "type": "scatter"
        },
        {
         "hovertext": [
          "1000.0 MACS2 broad",
          "2000.0 MACS2 broad",
          "3000.0 MACS2 broad",
          "4000.0 MACS2 broad",
          "5000.0 MACS2 broad",
          "6000.0 MACS2 broad",
          "7000.0 MACS2 broad",
          "8000.0 MACS2 broad",
          "9000.0 MACS2 broad",
          "10000.0 MACS2 broad",
          "11000.0 MACS2 broad",
          "12000.0 MACS2 broad",
          "13000.0 MACS2 broad",
          "14000.0 MACS2 broad",
          "15000.0 MACS2 broad"
         ],
         "marker": {
          "color": "#ff7f0e"
         },
         "mode": "lines+markers",
         "name": "MACS2 broad",
         "opacity": 0.8,
         "showlegend": false,
         "x": [
          0.874,
          0.8615,
          0.846,
          0.83575,
          0.8238,
          0.809,
          0.7925714285714286,
          0.773875,
          0.7485555555555555,
          0.7202,
          0.6891818181818182,
          0.6535833333333333,
          0.6186153846153846,
          0.5858571428571429,
          0.5548666666666666
         ],
         "y": [
          0.06904349136956357,
          0.13612723298409588,
          0.1998191000226125,
          0.26268184216476975,
          0.3238863345142082,
          0.3812467023441622,
          0.4358935705133037,
          0.48624406421949196,
          0.5286048089243989,
          0.564558679430165,
          0.5938795507650562,
          0.6140046732494159,
          0.6294565463179317,
          0.6416672947915881,
          0.6509384186326976
         ],
         "type": "scatter"
        },
        {
         "hovertext": [
          "1000.0 SICER",
          "2000.0 SICER",
          "3000.0 SICER",
          "4000.0 SICER",
          "5000.0 SICER",
          "6000.0 SICER",
          "7000.0 SICER",
          "8000.0 SICER",
          "9000.0 SICER",
          "10000.0 SICER",
          "11000.0 SICER",
          "12000.0 SICER",
          "13000.0 SICER",
          "14000.0 SICER",
          "15000.0 SICER"
         ],
         "marker": {
          "color": "#d62728"
         },
         "mode": "lines+markers",
         "name": "SICER",
         "opacity": 0.8,
         "showlegend": false,
         "x": [
          0.62,
          0.6075,
          0.609,
          0.59525,
          0.576,
          0.5628333333333333,
          0.5507142857142857,
          0.53525,
          0.5191111111111111,
          0.5063,
          0.4908181818181818,
          0.47983333333333333,
          0.463,
          0.4495,
          0.43706666666666666
         ],
         "y": [
          0.054948368131453984,
          0.10529886183764227,
          0.1548956056380493,
          0.19906535011683124,
          0.23878797015150374,
          0.277756840280395,
          0.31574583553177055,
          0.3486847064144117,
          0.3794377025702872,
          0.4099645737544283,
          0.4358935705133037,
          0.4639330670083666,
          0.4839828145021482,
          0.5051631868546016,
          0.5253636843295395
         ],
         "type": "scatter"
        },
        {
         "hovertext": [
          "1000.0 SPAN",
          "2000.0 SPAN",
          "3000.0 SPAN",
          "4000.0 SPAN",
          "5000.0 SPAN",
          "6000.0 SPAN",
          "7000.0 SPAN",
          "8000.0 SPAN",
          "9000.0 SPAN",
          "10000.0 SPAN",
          "11000.0 SPAN",
          "12000.0 SPAN",
          "13000.0 SPAN",
          "14000.0 SPAN",
          "15000.0 SPAN"
         ],
         "marker": {
          "color": "#2ca02c"
         },
         "mode": "lines+markers",
         "name": "SPAN",
         "opacity": 0.8,
         "showlegend": false,
         "x": [
          0.891,
          0.893,
          0.8826666666666667,
          0.87025,
          0.8548,
          0.8431666666666666,
          0.8291428571428572,
          0.809375,
          0.7834444444444445,
          0.7507,
          0.711,
          0.6708333333333333,
          0.6326153846153846,
          0.5974285714285714,
          0.5653333333333334
         ],
         "y": [
          0.07695786538026683,
          0.1477349815331273,
          0.21557247305344088,
          0.28054571493178565,
          0.341674832290646,
          0.4019748247531469,
          0.4590336926207884,
          0.5100625612421799,
          0.5539308057586493,
          0.5879249265093842,
          0.6114419235697596,
          0.6280244214969473,
          0.6404612949423382,
          0.6504107936986507,
          0.6589281676339791
         ],
         "type": "scatter"
        },
        {
         "hovertext": [
          "1000.0 MACS2",
          "2000.0 MACS2",
          "3000.0 MACS2",
          "4000.0 MACS2",
          "5000.0 MACS2",
          "6000.0 MACS2",
          "7000.0 MACS2",
          "8000.0 MACS2",
          "9000.0 MACS2",
          "10000.0 MACS2",
          "11000.0 MACS2",
          "12000.0 MACS2",
          "13000.0 MACS2",
          "14000.0 MACS2",
          "15000.0 MACS2"
         ],
         "marker": {
          "color": "#1f77b4"
         },
         "mode": "lines+markers",
         "name": "MACS2",
         "opacity": 0.8,
         "showlegend": false,
         "x": [
          0.854,
          0.853,
          0.8453333333333334,
          0.8325,
          0.8282,
          0.8138333333333333,
          0.7998571428571428,
          0.790125,
          0.7766666666666666,
          0.7617,
          0.7448181818181818,
          0.729,
          0.710076923076923,
          0.6886428571428571,
          0.6667333333333333
         ],
         "y": [
          0.052542882937105025,
          0.10400240746313572,
          0.15365633463737585,
          0.20072223894071622,
          0.24851038218477278,
          0.29003912127595544,
          0.32904002407463134,
          0.3678001805597352,
          0.4019259705085766,
          0.4322600060186578,
          0.4586819139331929,
          0.481974119771291,
          0.5011134517002709,
          0.5153776707794162,
          0.5286789046042732
         ],
         "type": "scatter"
        },
        {
         "hovertext": [
          "1000.0 MACS2 broad",
          "2000.0 MACS2 broad",
          "3000.0 MACS2 broad",
          "4000.0 MACS2 broad",
          "5000.0 MACS2 broad",
          "6000.0 MACS2 broad",
          "7000.0 MACS2 broad",
          "8000.0 MACS2 broad",
          "9000.0 MACS2 broad",
          "10000.0 MACS2 broad",
          "11000.0 MACS2 broad",
          "12000.0 MACS2 broad",
          "13000.0 MACS2 broad",
          "14000.0 MACS2 broad",
          "15000.0 MACS2 broad"
         ],
         "marker": {
          "color": "#ff7f0e"
         },
         "mode": "lines+markers",
         "name": "MACS2 broad",
         "opacity": 0.8,
         "showlegend": false,
         "x": [
          0.89,
          0.878,
          0.8773333333333333,
          0.86825,
          0.8606,
          0.8515,
          0.8415714285714285,
          0.82775,
          0.8132222222222222,
          0.7905,
          0.7615454545454545,
          0.728,
          0.6916923076923077,
          0.6559285714285714,
          0.6224666666666666
         ],
         "y": [
          0.05561239843514896,
          0.1091784532049353,
          0.16442973216972614,
          0.2176948540475474,
          0.26999699067108035,
          0.32049352994282276,
          0.3702076436954559,
          0.4169124285284382,
          0.4599458320794463,
          0.49665964489918746,
          0.5261510683117665,
          0.5482395425820042,
          0.563888052964189,
          0.5756244357508276,
          0.5849533554017454
         ],
         "type": "scatter"
        },
        {
         "hovertext": [
          "1000.0 SICER",
          "2000.0 SICER",
          "3000.0 SICER",
          "4000.0 SICER",
          "5000.0 SICER",
          "6000.0 SICER",
          "7000.0 SICER",
          "8000.0 SICER",
          "9000.0 SICER",
          "10000.0 SICER",
          "11000.0 SICER",
          "12000.0 SICER",
          "13000.0 SICER",
          "14000.0 SICER",
          "15000.0 SICER"
         ],
         "marker": {
          "color": "#d62728"
         },
         "mode": "lines+markers",
         "name": "SICER",
         "opacity": 0.8,
         "showlegend": false,
         "x": [
          0.475,
          0.446,
          0.43066666666666664,
          0.4145,
          0.4054,
          0.3968333333333333,
          0.38957142857142857,
          0.384625,
          0.379,
          0.3735,
          0.3679090909090909,
          0.3626666666666667,
          0.3575384615384615,
          0.35478571428571426,
          0.3519333333333333
         ],
         "y": [
          0.03424616310562745,
          0.061992175744808906,
          0.08907613602166717,
          0.11284983448690943,
          0.1361420403250075,
          0.15889256695756845,
          0.18080048149262715,
          0.20282876918447187,
          0.22377369846524225,
          0.24381582907011737,
          0.26343665362624136,
          0.2826361721336142,
          0.30129401143544987,
          0.321215768883539,
          0.34047547396930483
         ],
         "type": "scatter"
        },
        {
         "hovertext": [
          "1000.0 SPAN",
          "2000.0 SPAN",
          "3000.0 SPAN",
          "4000.0 SPAN",
          "5000.0 SPAN",
          "6000.0 SPAN",
          "7000.0 SPAN",
          "8000.0 SPAN",
          "9000.0 SPAN",
          "10000.0 SPAN",
          "11000.0 SPAN",
          "12000.0 SPAN",
          "13000.0 SPAN",
          "14000.0 SPAN",
          "15000.0 SPAN"
         ],
         "marker": {
          "color": "#2ca02c"
         },
         "mode": "lines+markers",
         "name": "SPAN",
         "opacity": 0.8,
         "showlegend": false,
         "x": [
          0.891,
          0.883,
          0.8783333333333333,
          0.876,
          0.869,
          0.86,
          0.8478571428571429,
          0.8365,
          0.8195555555555556,
          0.7963,
          0.7666363636363637,
          0.7343333333333333,
          0.6977692307692308,
          0.6592142857142858,
          0.6231333333333333
         ],
         "y": [
          0.0606680710201625,
          0.1170628949744207,
          0.1714715618417093,
          0.22563948239542583,
          0.2773397532350286,
          0.3271140535660548,
          0.37460126391814624,
          0.4207643695455913,
          0.46181161600962983,
          0.4975624435750828,
          0.5251278964790852,
          0.5476978633764671,
          0.5630454408666867,
          0.5723743605176046,
          0.5793560036111947
         ],
         "type": "scatter"
        },
        {
         "hovertext": [
          "1000.0 MACS2",
          "2000.0 MACS2",
          "3000.0 MACS2",
          "4000.0 MACS2",
          "5000.0 MACS2",
          "6000.0 MACS2",
          "7000.0 MACS2",
          "8000.0 MACS2",
          "9000.0 MACS2",
          "10000.0 MACS2",
          "11000.0 MACS2",
          "12000.0 MACS2",
          "13000.0 MACS2",
          "14000.0 MACS2",
          "15000.0 MACS2"
         ],
         "marker": {
          "color": "#1f77b4"
         },
         "mode": "lines+markers",
         "name": "MACS2",
         "opacity": 0.8,
         "showlegend": false,
         "x": [
          0.826,
          0.8135,
          0.8006666666666666,
          0.7905,
          0.7832,
          0.7726666666666666,
          0.7627142857142857,
          0.75625,
          0.7447777777777778,
          0.7328,
          0.7198181818181818,
          0.7093333333333334,
          0.696923076923077,
          0.6849285714285714,
          0.67
         ],
         "y": [
          0.051038218477279566,
          0.09816430935901294,
          0.1429431236834186,
          0.1846524225097803,
          0.22485705687631657,
          0.2613301233824857,
          0.29611796569365034,
          0.32946133012338247,
          0.3587120072223894,
          0.38513391513692447,
          0.40842612097502257,
          0.4305145952452603,
          0.45043635269334936,
          0.46861269936804095,
          0.4840204634366536
         ],
         "type": "scatter"
        },
        {
         "hovertext": [
          "1000.0 MACS2 broad",
          "2000.0 MACS2 broad",
          "3000.0 MACS2 broad",
          "4000.0 MACS2 broad",
          "5000.0 MACS2 broad",
          "6000.0 MACS2 broad",
          "7000.0 MACS2 broad",
          "8000.0 MACS2 broad",
          "9000.0 MACS2 broad",
          "10000.0 MACS2 broad",
          "11000.0 MACS2 broad",
          "12000.0 MACS2 broad",
          "13000.0 MACS2 broad",
          "14000.0 MACS2 broad",
          "15000.0 MACS2 broad"
         ],
         "marker": {
          "color": "#ff7f0e"
         },
         "mode": "lines+markers",
         "name": "MACS2 broad",
         "opacity": 0.8,
         "showlegend": false,
         "x": [
          0.886,
          0.8675,
          0.8646666666666667,
          0.8575,
          0.849,
          0.835,
          0.8215714285714286,
          0.805875,
          0.7871111111111111,
          0.7638,
          0.7355454545454545,
          0.70275,
          0.673,
          0.6413571428571428,
          0.6085333333333334
         ],
         "y": [
          0.05579295817032802,
          0.108215467950647,
          0.16220282876918446,
          0.2146855251278965,
          0.26542281071321094,
          0.31266927475173034,
          0.3584712609088173,
          0.4016852241950045,
          0.44176948540475475,
          0.47589527535359616,
          0.5033403551008125,
          0.524285284381583,
          0.5436653626241348,
          0.5575684622329221,
          0.5664158892566957
         ],
         "type": "scatter"
        },
        {
         "hovertext": [
          "1000.0 SICER",
          "2000.0 SICER",
          "3000.0 SICER",
          "4000.0 SICER",
          "5000.0 SICER",
          "6000.0 SICER",
          "7000.0 SICER",
          "8000.0 SICER",
          "9000.0 SICER",
          "10000.0 SICER",
          "11000.0 SICER",
          "12000.0 SICER",
          "13000.0 SICER",
          "14000.0 SICER",
          "15000.0 SICER"
         ],
         "marker": {
          "color": "#d62728"
         },
         "mode": "lines+markers",
         "name": "SICER",
         "opacity": 0.8,
         "showlegend": false,
         "x": [
          0.71,
          0.6755,
          0.6566666666666666,
          0.645,
          0.627,
          0.609,
          0.593,
          0.579,
          0.5621111111111111,
          0.5473,
          0.532,
          0.51775,
          0.5064615384615384,
          0.4953571428571429,
          0.48106666666666664
         ],
         "y": [
          0.05043635269334938,
          0.09268733072524828,
          0.1327715919349985,
          0.1711104423713512,
          0.20625940415287392,
          0.23876015648510382,
          0.2701173638278664,
          0.2997893469756244,
          0.32572976226301537,
          0.35167017755040625,
          0.3747818236533253,
          0.39729160397231417,
          0.4199819440264821,
          0.4416491122479687,
          0.45916340656033705
         ],
         "type": "scatter"
        },
        {
         "hovertext": [
          "1000.0 SPAN",
          "2000.0 SPAN",
          "3000.0 SPAN",
          "4000.0 SPAN",
          "5000.0 SPAN",
          "6000.0 SPAN",
          "7000.0 SPAN",
          "8000.0 SPAN",
          "9000.0 SPAN",
          "10000.0 SPAN",
          "11000.0 SPAN",
          "12000.0 SPAN",
          "13000.0 SPAN",
          "14000.0 SPAN",
          "15000.0 SPAN"
         ],
         "marker": {
          "color": "#2ca02c"
         },
         "mode": "lines+markers",
         "name": "SPAN",
         "opacity": 0.8,
         "showlegend": false,
         "x": [
          0.894,
          0.888,
          0.8826666666666667,
          0.87375,
          0.8648,
          0.853,
          0.8427142857142857,
          0.82775,
          0.8076666666666666,
          0.7844,
          0.7542727272727273,
          0.72175,
          0.6885384615384615,
          0.6551428571428571,
          0.6235333333333334
         ],
         "y": [
          0.060246764971411376,
          0.11634065603370448,
          0.17068913632260005,
          0.22335239241649113,
          0.27451098405055674,
          0.3233824857056876,
          0.37153174842010234,
          0.4157086969605778,
          0.45495034607282575,
          0.48931688233523923,
          0.5165212157688835,
          0.5378874510984051,
          0.5547396930484502,
          0.567318687932591,
          0.5776707794161902
         ],
         "type": "scatter"
        },
        {
         "hovertext": [
          "1000.0 MACS2",
          "2000.0 MACS2",
          "3000.0 MACS2",
          "4000.0 MACS2",
          "5000.0 MACS2",
          "6000.0 MACS2",
          "7000.0 MACS2",
          "8000.0 MACS2",
          "9000.0 MACS2",
          "10000.0 MACS2",
          "11000.0 MACS2",
          "12000.0 MACS2",
          "13000.0 MACS2",
          "14000.0 MACS2",
          "15000.0 MACS2"
         ],
         "marker": {
          "color": "#1f77b4"
         },
         "mode": "lines+markers",
         "name": "MACS2",
         "opacity": 0.8,
         "showlegend": false,
         "x": [
          0.888,
          0.881,
          0.8713333333333333,
          0.86225,
          0.8606,
          0.8536666666666667,
          0.8475714285714285,
          0.8365,
          0.8271111111111111,
          0.816,
          0.8036363636363636,
          0.7885,
          0.7713846153846153,
          0.7519285714285714,
          0.7304
         ],
         "y": [
          0.058014583599846486,
          0.11481386721248561,
          0.1695023666368172,
          0.22182422924395548,
          0.27472176026608675,
          0.32518869131380324,
          0.3728412434437764,
          0.4158244850965844,
          0.45772035307662784,
          0.4941153895356275,
          0.5266726365613407,
          0.5540488678521172,
          0.5765638991940643,
          0.595688883203275,
          0.6102085198925419
         ],
         "type": "scatter"
        },
        {
         "hovertext": [
          "1000.0 MACS2 broad",
          "2000.0 MACS2 broad",
          "3000.0 MACS2 broad",
          "4000.0 MACS2 broad",
          "5000.0 MACS2 broad",
          "6000.0 MACS2 broad",
          "7000.0 MACS2 broad",
          "8000.0 MACS2 broad",
          "9000.0 MACS2 broad",
          "10000.0 MACS2 broad",
          "11000.0 MACS2 broad",
          "12000.0 MACS2 broad",
          "13000.0 MACS2 broad",
          "14000.0 MACS2 broad",
          "15000.0 MACS2 broad"
         ],
         "marker": {
          "color": "#ff7f0e"
         },
         "mode": "lines+markers",
         "name": "MACS2 broad",
         "opacity": 0.8,
         "showlegend": false,
         "x": [
          0.899,
          0.9025,
          0.895,
          0.8845,
          0.885,
          0.8813333333333333,
          0.8748571428571429,
          0.861875,
          0.8476666666666667,
          0.828,
          0.7999090909090909,
          0.76925,
          0.7344615384615385,
          0.696,
          0.662
         ],
         "y": [
          0.059037994115389535,
          0.11948317768965076,
          0.1771139823461686,
          0.23397722911602917,
          0.29288729691697585,
          0.350709991045158,
          0.4066777536139184,
          0.4582320583343994,
          0.50754765255213,
          0.550978636305488,
          0.584943072790073,
          0.6132147882819496,
          0.6336190354355891,
          0.6466035563515415,
          0.6587565562236152
         ],
         "type": "scatter"
        },
        {
         "hovertext": [
          "1000.0 SICER",
          "2000.0 SICER",
          "3000.0 SICER",
          "4000.0 SICER",
          "5000.0 SICER",
          "6000.0 SICER",
          "7000.0 SICER",
          "8000.0 SICER",
          "9000.0 SICER",
          "10000.0 SICER",
          "11000.0 SICER",
          "12000.0 SICER",
          "13000.0 SICER",
          "14000.0 SICER",
          "15000.0 SICER"
         ],
         "marker": {
          "color": "#d62728"
         },
         "mode": "lines+markers",
         "name": "SICER",
         "opacity": 0.8,
         "showlegend": false,
         "x": [
          0.789,
          0.775,
          0.7706666666666667,
          0.7565,
          0.7444,
          0.7295,
          0.7151428571428572,
          0.700625,
          0.6842222222222222,
          0.667,
          0.648,
          0.632,
          0.616,
          0.5977857142857143,
          0.5836
         ],
         "y": [
          0.060317257259818347,
          0.11302289881028528,
          0.1647690930024306,
          0.21344505564794677,
          0.2603940130484841,
          0.3042727389023922,
          0.3459767174107714,
          0.38512216963029294,
          0.42132531661762823,
          0.45503390047332737,
          0.4849686580529615,
          0.5151592682614814,
          0.5427913521811437,
          0.5664577203530766,
          0.5914033516694384
         ],
         "type": "scatter"
        },
        {
         "hovertext": [
          "1000.0 SPAN",
          "2000.0 SPAN",
          "3000.0 SPAN",
          "4000.0 SPAN",
          "5000.0 SPAN",
          "6000.0 SPAN",
          "7000.0 SPAN",
          "8000.0 SPAN",
          "9000.0 SPAN",
          "10000.0 SPAN",
          "11000.0 SPAN",
          "12000.0 SPAN",
          "13000.0 SPAN",
          "14000.0 SPAN",
          "15000.0 SPAN"
         ],
         "marker": {
          "color": "#2ca02c"
         },
         "mode": "lines+markers",
         "name": "SPAN",
         "opacity": 0.8,
         "showlegend": false,
         "x": [
          0.917,
          0.908,
          0.9006666666666666,
          0.89525,
          0.8904,
          0.8855,
          0.8761428571428571,
          0.8685,
          0.8577777777777778,
          0.8415,
          0.8173636363636364,
          0.7843333333333333,
          0.7481538461538462,
          0.7085714285714285,
          0.6706666666666666
         ],
         "y": [
          0.06652168351029807,
          0.12722271971344506,
          0.18664449277216325,
          0.24491492900089548,
          0.3019061020851989,
          0.35889727516950237,
          0.41211462197774085,
          0.4652040424715364,
          0.5151592682614814,
          0.5601893309453755,
          0.5975438147626967,
          0.6245362671101445,
          0.6445567353204554,
          0.6571574772930792,
          0.665984392989638
         ],
         "type": "scatter"
        }
       ],
       "layout": {
        "template": {
         "data": {
          "barpolar": [
           {
            "marker": {
             "line": {
              "color": "white",
              "width": 0.5
             },
             "pattern": {
              "fillmode": "overlay",
              "size": 10,
              "solidity": 0.2
             }
            },
            "type": "barpolar"
           }
          ],
          "bar": [
           {
            "error_x": {
             "color": "#2a3f5f"
            },
            "error_y": {
             "color": "#2a3f5f"
            },
            "marker": {
             "line": {
              "color": "white",
              "width": 0.5
             },
             "pattern": {
              "fillmode": "overlay",
              "size": 10,
              "solidity": 0.2
             }
            },
            "type": "bar"
           }
          ],
          "carpet": [
           {
            "aaxis": {
             "endlinecolor": "#2a3f5f",
             "gridcolor": "#C8D4E3",
             "linecolor": "#C8D4E3",
             "minorgridcolor": "#C8D4E3",
             "startlinecolor": "#2a3f5f"
            },
            "baxis": {
             "endlinecolor": "#2a3f5f",
             "gridcolor": "#C8D4E3",
             "linecolor": "#C8D4E3",
             "minorgridcolor": "#C8D4E3",
             "startlinecolor": "#2a3f5f"
            },
            "type": "carpet"
           }
          ],
          "choropleth": [
           {
            "colorbar": {
             "outlinewidth": 0,
             "ticks": ""
            },
            "type": "choropleth"
           }
          ],
          "contourcarpet": [
           {
            "colorbar": {
             "outlinewidth": 0,
             "ticks": ""
            },
            "type": "contourcarpet"
           }
          ],
          "contour": [
           {
            "colorbar": {
             "outlinewidth": 0,
             "ticks": ""
            },
            "colorscale": [
             [
              0.0,
              "#0d0887"
             ],
             [
              0.1111111111111111,
              "#46039f"
             ],
             [
              0.2222222222222222,
              "#7201a8"
             ],
             [
              0.3333333333333333,
              "#9c179e"
             ],
             [
              0.4444444444444444,
              "#bd3786"
             ],
             [
              0.5555555555555556,
              "#d8576b"
             ],
             [
              0.6666666666666666,
              "#ed7953"
             ],
             [
              0.7777777777777778,
              "#fb9f3a"
             ],
             [
              0.8888888888888888,
              "#fdca26"
             ],
             [
              1.0,
              "#f0f921"
             ]
            ],
            "type": "contour"
           }
          ],
          "heatmapgl": [
           {
            "colorbar": {
             "outlinewidth": 0,
             "ticks": ""
            },
            "colorscale": [
             [
              0.0,
              "#0d0887"
             ],
             [
              0.1111111111111111,
              "#46039f"
             ],
             [
              0.2222222222222222,
              "#7201a8"
             ],
             [
              0.3333333333333333,
              "#9c179e"
             ],
             [
              0.4444444444444444,
              "#bd3786"
             ],
             [
              0.5555555555555556,
              "#d8576b"
             ],
             [
              0.6666666666666666,
              "#ed7953"
             ],
             [
              0.7777777777777778,
              "#fb9f3a"
             ],
             [
              0.8888888888888888,
              "#fdca26"
             ],
             [
              1.0,
              "#f0f921"
             ]
            ],
            "type": "heatmapgl"
           }
          ],
          "heatmap": [
           {
            "colorbar": {
             "outlinewidth": 0,
             "ticks": ""
            },
            "colorscale": [
             [
              0.0,
              "#0d0887"
             ],
             [
              0.1111111111111111,
              "#46039f"
             ],
             [
              0.2222222222222222,
              "#7201a8"
             ],
             [
              0.3333333333333333,
              "#9c179e"
             ],
             [
              0.4444444444444444,
              "#bd3786"
             ],
             [
              0.5555555555555556,
              "#d8576b"
             ],
             [
              0.6666666666666666,
              "#ed7953"
             ],
             [
              0.7777777777777778,
              "#fb9f3a"
             ],
             [
              0.8888888888888888,
              "#fdca26"
             ],
             [
              1.0,
              "#f0f921"
             ]
            ],
            "type": "heatmap"
           }
          ],
          "histogram2dcontour": [
           {
            "colorbar": {
             "outlinewidth": 0,
             "ticks": ""
            },
            "colorscale": [
             [
              0.0,
              "#0d0887"
             ],
             [
              0.1111111111111111,
              "#46039f"
             ],
             [
              0.2222222222222222,
              "#7201a8"
             ],
             [
              0.3333333333333333,
              "#9c179e"
             ],
             [
              0.4444444444444444,
              "#bd3786"
             ],
             [
              0.5555555555555556,
              "#d8576b"
             ],
             [
              0.6666666666666666,
              "#ed7953"
             ],
             [
              0.7777777777777778,
              "#fb9f3a"
             ],
             [
              0.8888888888888888,
              "#fdca26"
             ],
             [
              1.0,
              "#f0f921"
             ]
            ],
            "type": "histogram2dcontour"
           }
          ],
          "histogram2d": [
           {
            "colorbar": {
             "outlinewidth": 0,
             "ticks": ""
            },
            "colorscale": [
             [
              0.0,
              "#0d0887"
             ],
             [
              0.1111111111111111,
              "#46039f"
             ],
             [
              0.2222222222222222,
              "#7201a8"
             ],
             [
              0.3333333333333333,
              "#9c179e"
             ],
             [
              0.4444444444444444,
              "#bd3786"
             ],
             [
              0.5555555555555556,
              "#d8576b"
             ],
             [
              0.6666666666666666,
              "#ed7953"
             ],
             [
              0.7777777777777778,
              "#fb9f3a"
             ],
             [
              0.8888888888888888,
              "#fdca26"
             ],
             [
              1.0,
              "#f0f921"
             ]
            ],
            "type": "histogram2d"
           }
          ],
          "histogram": [
           {
            "marker": {
             "pattern": {
              "fillmode": "overlay",
              "size": 10,
              "solidity": 0.2
             }
            },
            "type": "histogram"
           }
          ],
          "mesh3d": [
           {
            "colorbar": {
             "outlinewidth": 0,
             "ticks": ""
            },
            "type": "mesh3d"
           }
          ],
          "parcoords": [
           {
            "line": {
             "colorbar": {
              "outlinewidth": 0,
              "ticks": ""
             }
            },
            "type": "parcoords"
           }
          ],
          "pie": [
           {
            "automargin": true,
            "type": "pie"
           }
          ],
          "scatter3d": [
           {
            "line": {
             "colorbar": {
              "outlinewidth": 0,
              "ticks": ""
             }
            },
            "marker": {
             "colorbar": {
              "outlinewidth": 0,
              "ticks": ""
             }
            },
            "type": "scatter3d"
           }
          ],
          "scattercarpet": [
           {
            "marker": {
             "colorbar": {
              "outlinewidth": 0,
              "ticks": ""
             }
            },
            "type": "scattercarpet"
           }
          ],
          "scattergeo": [
           {
            "marker": {
             "colorbar": {
              "outlinewidth": 0,
              "ticks": ""
             }
            },
            "type": "scattergeo"
           }
          ],
          "scattergl": [
           {
            "marker": {
             "colorbar": {
              "outlinewidth": 0,
              "ticks": ""
             }
            },
            "type": "scattergl"
           }
          ],
          "scattermapbox": [
           {
            "marker": {
             "colorbar": {
              "outlinewidth": 0,
              "ticks": ""
             }
            },
            "type": "scattermapbox"
           }
          ],
          "scatterpolargl": [
           {
            "marker": {
             "colorbar": {
              "outlinewidth": 0,
              "ticks": ""
             }
            },
            "type": "scatterpolargl"
           }
          ],
          "scatterpolar": [
           {
            "marker": {
             "colorbar": {
              "outlinewidth": 0,
              "ticks": ""
             }
            },
            "type": "scatterpolar"
           }
          ],
          "scatter": [
           {
            "fillpattern": {
             "fillmode": "overlay",
             "size": 10,
             "solidity": 0.2
            },
            "type": "scatter"
           }
          ],
          "scatterternary": [
           {
            "marker": {
             "colorbar": {
              "outlinewidth": 0,
              "ticks": ""
             }
            },
            "type": "scatterternary"
           }
          ],
          "surface": [
           {
            "colorbar": {
             "outlinewidth": 0,
             "ticks": ""
            },
            "colorscale": [
             [
              0.0,
              "#0d0887"
             ],
             [
              0.1111111111111111,
              "#46039f"
             ],
             [
              0.2222222222222222,
              "#7201a8"
             ],
             [
              0.3333333333333333,
              "#9c179e"
             ],
             [
              0.4444444444444444,
              "#bd3786"
             ],
             [
              0.5555555555555556,
              "#d8576b"
             ],
             [
              0.6666666666666666,
              "#ed7953"
             ],
             [
              0.7777777777777778,
              "#fb9f3a"
             ],
             [
              0.8888888888888888,
              "#fdca26"
             ],
             [
              1.0,
              "#f0f921"
             ]
            ],
            "type": "surface"
           }
          ],
          "table": [
           {
            "cells": {
             "fill": {
              "color": "#EBF0F8"
             },
             "line": {
              "color": "white"
             }
            },
            "header": {
             "fill": {
              "color": "#C8D4E3"
             },
             "line": {
              "color": "white"
             }
            },
            "type": "table"
           }
          ]
         },
         "layout": {
          "annotationdefaults": {
           "arrowcolor": "#2a3f5f",
           "arrowhead": 0,
           "arrowwidth": 1
          },
          "autotypenumbers": "strict",
          "coloraxis": {
           "colorbar": {
            "outlinewidth": 0,
            "ticks": ""
           }
          },
          "colorscale": {
           "diverging": [
            [
             0,
             "#8e0152"
            ],
            [
             0.1,
             "#c51b7d"
            ],
            [
             0.2,
             "#de77ae"
            ],
            [
             0.3,
             "#f1b6da"
            ],
            [
             0.4,
             "#fde0ef"
            ],
            [
             0.5,
             "#f7f7f7"
            ],
            [
             0.6,
             "#e6f5d0"
            ],
            [
             0.7,
             "#b8e186"
            ],
            [
             0.8,
             "#7fbc41"
            ],
            [
             0.9,
             "#4d9221"
            ],
            [
             1,
             "#276419"
            ]
           ],
           "sequential": [
            [
             0.0,
             "#0d0887"
            ],
            [
             0.1111111111111111,
             "#46039f"
            ],
            [
             0.2222222222222222,
             "#7201a8"
            ],
            [
             0.3333333333333333,
             "#9c179e"
            ],
            [
             0.4444444444444444,
             "#bd3786"
            ],
            [
             0.5555555555555556,
             "#d8576b"
            ],
            [
             0.6666666666666666,
             "#ed7953"
            ],
            [
             0.7777777777777778,
             "#fb9f3a"
            ],
            [
             0.8888888888888888,
             "#fdca26"
            ],
            [
             1.0,
             "#f0f921"
            ]
           ],
           "sequentialminus": [
            [
             0.0,
             "#0d0887"
            ],
            [
             0.1111111111111111,
             "#46039f"
            ],
            [
             0.2222222222222222,
             "#7201a8"
            ],
            [
             0.3333333333333333,
             "#9c179e"
            ],
            [
             0.4444444444444444,
             "#bd3786"
            ],
            [
             0.5555555555555556,
             "#d8576b"
            ],
            [
             0.6666666666666666,
             "#ed7953"
            ],
            [
             0.7777777777777778,
             "#fb9f3a"
            ],
            [
             0.8888888888888888,
             "#fdca26"
            ],
            [
             1.0,
             "#f0f921"
            ]
           ]
          },
          "colorway": [
           "#636efa",
           "#EF553B",
           "#00cc96",
           "#ab63fa",
           "#FFA15A",
           "#19d3f3",
           "#FF6692",
           "#B6E880",
           "#FF97FF",
           "#FECB52"
          ],
          "font": {
           "color": "#2a3f5f"
          },
          "geo": {
           "bgcolor": "white",
           "lakecolor": "white",
           "landcolor": "white",
           "showlakes": true,
           "showland": true,
           "subunitcolor": "#C8D4E3"
          },
          "hoverlabel": {
           "align": "left"
          },
          "hovermode": "closest",
          "mapbox": {
           "style": "light"
          },
          "paper_bgcolor": "white",
          "plot_bgcolor": "white",
          "polar": {
           "angularaxis": {
            "gridcolor": "#EBF0F8",
            "linecolor": "#EBF0F8",
            "ticks": ""
           },
           "bgcolor": "white",
           "radialaxis": {
            "gridcolor": "#EBF0F8",
            "linecolor": "#EBF0F8",
            "ticks": ""
           }
          },
          "scene": {
           "xaxis": {
            "backgroundcolor": "white",
            "gridcolor": "#DFE8F3",
            "gridwidth": 2,
            "linecolor": "#EBF0F8",
            "showbackground": true,
            "ticks": "",
            "zerolinecolor": "#EBF0F8"
           },
           "yaxis": {
            "backgroundcolor": "white",
            "gridcolor": "#DFE8F3",
            "gridwidth": 2,
            "linecolor": "#EBF0F8",
            "showbackground": true,
            "ticks": "",
            "zerolinecolor": "#EBF0F8"
           },
           "zaxis": {
            "backgroundcolor": "white",
            "gridcolor": "#DFE8F3",
            "gridwidth": 2,
            "linecolor": "#EBF0F8",
            "showbackground": true,
            "ticks": "",
            "zerolinecolor": "#EBF0F8"
           }
          },
          "shapedefaults": {
           "line": {
            "color": "#2a3f5f"
           }
          },
          "ternary": {
           "aaxis": {
            "gridcolor": "#DFE8F3",
            "linecolor": "#A2B1C6",
            "ticks": ""
           },
           "baxis": {
            "gridcolor": "#DFE8F3",
            "linecolor": "#A2B1C6",
            "ticks": ""
           },
           "bgcolor": "white",
           "caxis": {
            "gridcolor": "#DFE8F3",
            "linecolor": "#A2B1C6",
            "ticks": ""
           }
          },
          "title": {
           "x": 0.05
          },
          "xaxis": {
           "automargin": true,
           "gridcolor": "#EBF0F8",
           "linecolor": "#EBF0F8",
           "ticks": "",
           "title": {
            "standoff": 15
           },
           "zerolinecolor": "#EBF0F8",
           "zerolinewidth": 2
          },
          "yaxis": {
           "automargin": true,
           "gridcolor": "#EBF0F8",
           "linecolor": "#EBF0F8",
           "ticks": "",
           "title": {
            "standoff": 15
           },
           "zerolinecolor": "#EBF0F8",
           "zerolinewidth": 2
          }
         }
        },
        "xaxis": {
         "range": [
          -0.1,
          1.1
         ],
         "title": {
          "text": "Correct promoter fraction (sensitivity)"
         }
        },
        "yaxis": {
         "range": [
          -0.1,
          1.1
         ],
         "title": {
          "text": "Recovered promoter fraction (precision)"
         }
        },
        "autosize": false,
        "width": 700,
        "height": 600
       },
       "config": {
        "plotlyServerURL": "https://plot.ly"
       }
      },
      "text/html": "<div>                            <div id=\"ed00f6f7-cd92-4df3-b6fb-1a901f992c2b\" class=\"plotly-graph-div\" style=\"height:600px; width:700px;\"></div>            <script type=\"text/javascript\">                require([\"plotly\"], function(Plotly) {                    window.PLOTLYENV=window.PLOTLYENV || {};                                    if (document.getElementById(\"ed00f6f7-cd92-4df3-b6fb-1a901f992c2b\")) {                    Plotly.newPlot(                        \"ed00f6f7-cd92-4df3-b6fb-1a901f992c2b\",                        [{\"hovertext\":[\"1000.0 MACS2\",\"2000.0 MACS2\",\"3000.0 MACS2\",\"4000.0 MACS2\",\"5000.0 MACS2\",\"6000.0 MACS2\",\"7000.0 MACS2\",\"8000.0 MACS2\",\"9000.0 MACS2\",\"10000.0 MACS2\",\"11000.0 MACS2\",\"12000.0 MACS2\",\"13000.0 MACS2\",\"14000.0 MACS2\",\"15000.0 MACS2\"],\"marker\":{\"color\":\"#1f77b4\"},\"mode\":\"lines+markers\",\"name\":\"MACS2\",\"opacity\":0.8,\"showlegend\":true,\"x\":[0.772,0.763,0.759,0.73975,0.7244,0.7083333333333334,0.6927142857142857,0.676125,0.6624444444444444,0.6456,0.6303636363636363,0.61675,0.5992307692307692,0.5826428571428571,0.5675333333333333],\"y\":[0.05514599595258745,0.10797918473547267,0.1582104654524429,0.2020092512286788,0.241832899681989,0.27760913558832034,0.31092801387684305,0.34215091066782305,0.3706273489447817,0.39483954900260193,0.41688349233882627,0.43740965596993353,0.454683434518647,0.4707285342584562,0.4854004047412547],\"type\":\"scatter\"},{\"hovertext\":[\"1000.0 MACS2 broad\",\"2000.0 MACS2 broad\",\"3000.0 MACS2 broad\",\"4000.0 MACS2 broad\",\"5000.0 MACS2 broad\",\"6000.0 MACS2 broad\",\"7000.0 MACS2 broad\",\"8000.0 MACS2 broad\",\"9000.0 MACS2 broad\",\"10000.0 MACS2 broad\",\"11000.0 MACS2 broad\",\"12000.0 MACS2 broad\",\"13000.0 MACS2 broad\",\"14000.0 MACS2 broad\",\"15000.0 MACS2 broad\"],\"marker\":{\"color\":\"#ff7f0e\"},\"mode\":\"lines+markers\",\"name\":\"MACS2 broad\",\"opacity\":0.8,\"showlegend\":true,\"x\":[0.875,0.8635,0.8503333333333334,0.843,0.8262,0.811,0.7905714285714286,0.765375,0.737,0.706,0.6721818181818182,0.6384166666666666,0.604,0.5713571428571429,0.5416666666666666],\"y\":[0.0665654813529922,0.13038450419196299,0.19376987568661463,0.2565047701647875,0.3151199768719283,0.3706273489447817,0.4210031801098583,0.46566926857473256,0.5039028620988725,0.5357762359063313,0.5604943625325238,0.5805145995952588,0.5945359930615784,0.6053772766695577,0.6145562301243134],\"type\":\"scatter\"},{\"hovertext\":[\"1000.0 SICER\",\"2000.0 SICER\",\"3000.0 SICER\",\"4000.0 SICER\",\"5000.0 SICER\",\"6000.0 SICER\",\"7000.0 SICER\",\"8000.0 SICER\",\"9000.0 SICER\",\"10000.0 SICER\",\"11000.0 SICER\",\"12000.0 SICER\",\"13000.0 SICER\",\"14000.0 SICER\",\"15000.0 SICER\"],\"marker\":{\"color\":\"#d62728\"},\"mode\":\"lines+markers\",\"name\":\"SICER\",\"opacity\":0.8,\"showlegend\":true,\"x\":[0.682,0.6725,0.6546666666666666,0.63375,0.6102,0.5918333333333333,0.573,0.555875,0.5357777777777778,0.5199,0.5017272727272727,0.48575,0.4684615384615385,0.45221428571428574,0.43733333333333335],\"y\":[0.05861520670714079,0.1130384504191963,0.1620410523272622,0.20620121422376408,0.24689216536571262,0.28534258456201217,0.32075744434807746,0.353642671292281,0.3815409077768141,0.4101618965018792,0.43394044521538017,0.4573576178086152,0.4773778548713501,0.49537438566059555,0.5123590633130962],\"type\":\"scatter\"},{\"hovertext\":[\"1000.0 SPAN\",\"2000.0 SPAN\",\"3000.0 SPAN\",\"4000.0 SPAN\",\"5000.0 SPAN\",\"6000.0 SPAN\",\"7000.0 SPAN\",\"8000.0 SPAN\",\"9000.0 SPAN\",\"10000.0 SPAN\",\"11000.0 SPAN\",\"12000.0 SPAN\",\"13000.0 SPAN\",\"14000.0 SPAN\",\"15000.0 SPAN\"],\"marker\":{\"color\":\"#2ca02c\"},\"mode\":\"lines+markers\",\"name\":\"SPAN\",\"opacity\":0.8,\"showlegend\":true,\"x\":[0.86,0.8725,0.8676666666666667,0.864,0.8556,0.842,0.8194285714285714,0.796,0.7661111111111111,0.7338,0.6970909090909091,0.6588333333333334,0.6234615384615385,0.5880714285714286,0.5569333333333333],\"y\":[0.07328707718993929,0.1436831454177508,0.20974270020237062,0.2742844752818734,0.3362243422954611,0.3945504481063891,0.4450708297195721,0.49212200057820177,0.5311506215669268,0.5629517201503325,0.5866579936397803,0.6040763226366002,0.6186036426712923,0.6279271465741544,0.6362387973402718],\"type\":\"scatter\"},{\"hovertext\":[\"1000.0 MACS2\",\"2000.0 MACS2\",\"3000.0 MACS2\",\"4000.0 MACS2\",\"5000.0 MACS2\",\"6000.0 MACS2\",\"7000.0 MACS2\",\"8000.0 MACS2\",\"9000.0 MACS2\",\"10000.0 MACS2\",\"11000.0 MACS2\",\"12000.0 MACS2\",\"13000.0 MACS2\",\"14000.0 MACS2\",\"15000.0 MACS2\"],\"marker\":{\"color\":\"#1f77b4\"},\"mode\":\"lines+markers\",\"name\":\"MACS2\",\"opacity\":0.8,\"showlegend\":false,\"x\":[0.844,0.8375,0.831,0.82875,0.8172,0.8021666666666667,0.7872857142857143,0.777,0.7628888888888888,0.7476,0.7276363636363636,0.709,0.6863076923076923,0.6643571428571429,0.6433333333333333],\"y\":[0.06302977613562269,0.12345142360356444,0.1808302542925451,0.2377019488516989,0.29029921031659783,0.33688328624212127,0.3804969934072303,0.423241324349779,0.46105919003115264,0.49402303846989787,0.5203216692023473,0.5449539955082229,0.5636455842932696,0.5796565963920887,0.5940737520828805],\"type\":\"scatter\"},{\"hovertext\":[\"1000.0 MACS2 broad\",\"2000.0 MACS2 broad\",\"3000.0 MACS2 broad\",\"4000.0 MACS2 broad\",\"5000.0 MACS2 broad\",\"6000.0 MACS2 broad\",\"7000.0 MACS2 broad\",\"8000.0 MACS2 broad\",\"9000.0 MACS2 broad\",\"10000.0 MACS2 broad\",\"11000.0 MACS2 broad\",\"12000.0 MACS2 broad\",\"13000.0 MACS2 broad\",\"14000.0 MACS2 broad\",\"15000.0 MACS2 broad\"],\"marker\":{\"color\":\"#ff7f0e\"},\"mode\":\"lines+markers\",\"name\":\"MACS2 broad\",\"opacity\":0.8,\"showlegend\":false,\"x\":[0.867,0.8685,0.8543333333333333,0.84575,0.8418,0.8328333333333333,0.8191428571428572,0.8065,0.7871111111111111,0.7588,0.729,0.6886666666666666,0.6506153846153846,0.6123571428571428,0.5788666666666666],\"y\":[0.06563790480330363,0.13243497790335435,0.19539230602043034,0.2585669781931464,0.32123451423603566,0.3804969934072303,0.43722379192929073,0.49221183800623053,0.540679562413968,0.5782800840397015,0.610012316163153,0.627906976744186,0.6424690284720713,0.6508729986234877,0.6589147286821705],\"type\":\"scatter\"},{\"hovertext\":[\"1000.0 SICER\",\"2000.0 SICER\",\"3000.0 SICER\",\"4000.0 SICER\",\"5000.0 SICER\",\"6000.0 SICER\",\"7000.0 SICER\",\"8000.0 SICER\",\"9000.0 SICER\",\"10000.0 SICER\",\"11000.0 SICER\",\"12000.0 SICER\",\"13000.0 SICER\",\"14000.0 SICER\",\"15000.0 SICER\"],\"marker\":{\"color\":\"#d62728\"},\"mode\":\"lines+markers\",\"name\":\"SICER\",\"opacity\":0.8,\"showlegend\":false,\"x\":[0.667,0.6875,0.6836666666666666,0.6705,0.6506,0.6358333333333334,0.6152857142857143,0.597875,0.5822222222222222,0.5613,0.5426363636363636,0.5245833333333333,0.5077692307692308,0.49407142857142855,0.4765333333333333],\"y\":[0.05933492718974136,0.11707599797145549,0.17061508367746142,0.21944504817793234,0.26385568354705496,0.3068173585452438,0.3447801202637108,0.38122147359269726,0.41577917843946965,0.44338187350575964,0.4697529522567558,0.494457726581178,0.5170615083677461,0.5404622183583279,0.557415054698254],\"type\":\"scatter\"},{\"hovertext\":[\"1000.0 SPAN\",\"2000.0 SPAN\",\"3000.0 SPAN\",\"4000.0 SPAN\",\"5000.0 SPAN\",\"6000.0 SPAN\",\"7000.0 SPAN\",\"8000.0 SPAN\",\"9000.0 SPAN\",\"10000.0 SPAN\",\"11000.0 SPAN\",\"12000.0 SPAN\",\"13000.0 SPAN\",\"14000.0 SPAN\",\"15000.0 SPAN\"],\"marker\":{\"color\":\"#2ca02c\"},\"mode\":\"lines+markers\",\"name\":\"SPAN\",\"opacity\":0.8,\"showlegend\":false,\"x\":[0.868,0.88,0.8793333333333333,0.87425,0.8722,0.8646666666666667,0.8497142857142858,0.832625,0.8095555555555556,0.776,0.739909090909091,0.6990833333333333,0.6585384615384615,0.6205714285714286,0.5859333333333333],\"y\":[0.07570817938129393,0.1468521335941462,0.2158226472505977,0.28109831196116786,0.3457219445048178,0.40715786423241324,0.4633775266246468,0.5159023400709991,0.5617619358110556,0.596536984713468,0.6242121277983047,0.6423965804535245,0.6550025356806491,0.6643483300731725,0.6714482358907484],\"type\":\"scatter\"},{\"hovertext\":[\"1000.0 MACS2\",\"2000.0 MACS2\",\"3000.0 MACS2\",\"4000.0 MACS2\",\"5000.0 MACS2\",\"6000.0 MACS2\",\"7000.0 MACS2\",\"8000.0 MACS2\",\"9000.0 MACS2\",\"10000.0 MACS2\",\"11000.0 MACS2\",\"12000.0 MACS2\",\"13000.0 MACS2\",\"14000.0 MACS2\",\"15000.0 MACS2\"],\"marker\":{\"color\":\"#1f77b4\"},\"mode\":\"lines+markers\",\"name\":\"MACS2\",\"opacity\":0.8,\"showlegend\":false,\"x\":[0.876,0.8555,0.849,0.836,0.822,0.81,0.8,0.785625,0.7745555555555556,0.7592,0.7461818181818182,0.7335833333333334,0.7208461538461538,0.707,0.6914666666666667],\"y\":[0.05419959028387474,0.10307287093942054,0.15200468247000293,0.1968393327480246,0.2385133157740708,0.2783143107989464,0.3169446883230904,0.3508340649692713,0.3832601697395376,0.41270119988293824,0.4413813286508633,0.4666081357916301,0.49083991805677496,0.5115598478197249,0.5289435177055897],\"type\":\"scatter\"},{\"hovertext\":[\"1000.0 MACS2 broad\",\"2000.0 MACS2 broad\",\"3000.0 MACS2 broad\",\"4000.0 MACS2 broad\",\"5000.0 MACS2 broad\",\"6000.0 MACS2 broad\",\"7000.0 MACS2 broad\",\"8000.0 MACS2 broad\",\"9000.0 MACS2 broad\",\"10000.0 MACS2 broad\",\"11000.0 MACS2 broad\",\"12000.0 MACS2 broad\",\"13000.0 MACS2 broad\",\"14000.0 MACS2 broad\",\"15000.0 MACS2 broad\"],\"marker\":{\"color\":\"#ff7f0e\"},\"mode\":\"lines+markers\",\"name\":\"MACS2 broad\",\"opacity\":0.8,\"showlegend\":false,\"x\":[0.898,0.891,0.89,0.87825,0.8662,0.8518333333333333,0.84,0.823625,0.8074444444444444,0.7902,0.7718181818181818,0.7486666666666667,0.7268461538461538,0.7032857142857143,0.6770666666666667],\"y\":[0.054901960784313725,0.10886742756804214,0.16306701785191688,0.21422300263388938,0.26409130816505705,0.31144278606965176,0.35774070822358794,0.40046824700029265,0.44149839040093647,0.47925080479953175,0.5141937371963711,0.5438688908399181,0.571729587357331,0.5955516534972198,0.6141644717588528],\"type\":\"scatter\"},{\"hovertext\":[\"1000.0 SICER\",\"2000.0 SICER\",\"3000.0 SICER\",\"4000.0 SICER\",\"5000.0 SICER\",\"6000.0 SICER\",\"7000.0 SICER\",\"8000.0 SICER\",\"9000.0 SICER\",\"10000.0 SICER\",\"11000.0 SICER\",\"12000.0 SICER\",\"13000.0 SICER\",\"14000.0 SICER\",\"15000.0 SICER\"],\"marker\":{\"color\":\"#d62728\"},\"mode\":\"lines+markers\",\"name\":\"SICER\",\"opacity\":0.8,\"showlegend\":false,\"x\":[0.742,0.7415,0.744,0.7335,0.7224,0.7121666666666666,0.7035714285714286,0.691625,0.6794444444444444,0.6639,0.6495454545454545,0.6353333333333333,0.6238461538461538,0.6109285714285714,0.5967333333333333],\"y\":[0.05150717003219198,0.09938542581211589,0.1456833479660521,0.1890547263681592,0.23002633889376647,0.27029558091893474,0.309452736318408,0.34585894059116185,0.3805092186128183,0.4116476441322798,0.4420836991513023,0.4704126426690079,0.49938542581211587,0.525548726953468,0.5491366695932104],\"type\":\"scatter\"},{\"hovertext\":[\"1000.0 SPAN\",\"2000.0 SPAN\",\"3000.0 SPAN\",\"4000.0 SPAN\",\"5000.0 SPAN\",\"6000.0 SPAN\",\"7000.0 SPAN\",\"8000.0 SPAN\",\"9000.0 SPAN\",\"10000.0 SPAN\",\"11000.0 SPAN\",\"12000.0 SPAN\",\"13000.0 SPAN\",\"14000.0 SPAN\",\"15000.0 SPAN\"],\"marker\":{\"color\":\"#2ca02c\"},\"mode\":\"lines+markers\",\"name\":\"SPAN\",\"opacity\":0.8,\"showlegend\":false,\"x\":[0.923,0.905,0.8983333333333333,0.881,0.869,0.8573333333333333,0.8442857142857143,0.830875,0.8143333333333334,0.7952,0.7768181818181819,0.75325,0.7294615384615385,0.7037142857142857,0.6769333333333334],\"y\":[0.0607550482879719,0.11483757682177348,0.16856892010535557,0.21826163301141352,0.26731050629206904,0.31501316944688323,0.3604916593503073,0.40409716125256073,0.4443078724026924,0.48083113842551944,0.5151302311969564,0.5432250512145157,0.5684518583552824,0.5894059116183787,0.6060286801287679],\"type\":\"scatter\"},{\"hovertext\":[\"1000.0 MACS2\",\"2000.0 MACS2\",\"3000.0 MACS2\",\"4000.0 MACS2\",\"5000.0 MACS2\",\"6000.0 MACS2\",\"7000.0 MACS2\",\"8000.0 MACS2\",\"9000.0 MACS2\",\"10000.0 MACS2\",\"11000.0 MACS2\",\"12000.0 MACS2\",\"13000.0 MACS2\",\"14000.0 MACS2\",\"15000.0 MACS2\"],\"marker\":{\"color\":\"#1f77b4\"},\"mode\":\"lines+markers\",\"name\":\"MACS2\",\"opacity\":0.8,\"showlegend\":false,\"x\":[0.842,0.837,0.823,0.8135,0.7986,0.7855,0.774,0.76175,0.7542222222222222,0.7387,0.7260909090909091,0.7135,0.7015384615384616,0.6880714285714286,0.6786666666666666],\"y\":[0.049692712906057944,0.09634182031021364,0.13994732221246708,0.18115305823822067,0.21913959613696224,0.253321627158326,0.2858062628036289,0.3163593795727246,0.34427860696517415,0.3688030436055019,0.39432250512145156,0.41562774363476734,0.43740122914837576,0.4577114427860697,0.4742171495463857],\"type\":\"scatter\"},{\"hovertext\":[\"1000.0 MACS2 broad\",\"2000.0 MACS2 broad\",\"3000.0 MACS2 broad\",\"4000.0 MACS2 broad\",\"5000.0 MACS2 broad\",\"6000.0 MACS2 broad\",\"7000.0 MACS2 broad\",\"8000.0 MACS2 broad\",\"9000.0 MACS2 broad\",\"10000.0 MACS2 broad\",\"11000.0 MACS2 broad\",\"12000.0 MACS2 broad\",\"13000.0 MACS2 broad\",\"14000.0 MACS2 broad\",\"15000.0 MACS2 broad\"],\"marker\":{\"color\":\"#ff7f0e\"},\"mode\":\"lines+markers\",\"name\":\"MACS2 broad\",\"opacity\":0.8,\"showlegend\":false,\"x\":[0.857,0.862,0.861,0.857,0.8464,0.8363333333333334,0.824,0.81125,0.7947777777777778,0.7791,0.7588181818181818,0.7365,0.7133076923076923,0.69,0.664],\"y\":[0.05156570090722856,0.10348258706467661,0.1553409423470881,0.20637986537898742,0.25478489903424056,0.3016681299385426,0.3463857184664911,0.3896985659935616,0.42908984489318114,0.46777875329236174,0.5007316359379572,0.5292361720807726,0.5548141644717589,0.5773485513608428,0.5949078138718173],\"type\":\"scatter\"},{\"hovertext\":[\"1000.0 SICER\",\"2000.0 SICER\",\"3000.0 SICER\",\"4000.0 SICER\",\"5000.0 SICER\",\"6000.0 SICER\",\"7000.0 SICER\",\"8000.0 SICER\",\"9000.0 SICER\",\"10000.0 SICER\",\"11000.0 SICER\",\"12000.0 SICER\",\"13000.0 SICER\",\"14000.0 SICER\",\"15000.0 SICER\"],\"marker\":{\"color\":\"#d62728\"},\"mode\":\"lines+markers\",\"name\":\"SICER\",\"opacity\":0.8,\"showlegend\":false,\"x\":[0.709,0.6925,0.682,0.65925,0.6412,0.6208333333333333,0.604,0.5925,0.578,0.5658,0.5557272727272727,0.5465,0.5332307692307693,0.525,0.5203333333333333],\"y\":[0.04641498390400937,0.08855721393034825,0.12947029558091894,0.16534972197834358,0.1996488147497805,0.2311384255194615,0.2620427275387767,0.29282996780801873,0.32074919520046824,0.34878548434299095,0.3759438103599649,0.4023412350014633,0.4248756218905473,0.44998536728124083,0.4774363476733977],\"type\":\"scatter\"},{\"hovertext\":[\"1000.0 SPAN\",\"2000.0 SPAN\",\"3000.0 SPAN\",\"4000.0 SPAN\",\"5000.0 SPAN\",\"6000.0 SPAN\",\"7000.0 SPAN\",\"8000.0 SPAN\",\"9000.0 SPAN\",\"10000.0 SPAN\",\"11000.0 SPAN\",\"12000.0 SPAN\",\"13000.0 SPAN\",\"14000.0 SPAN\",\"15000.0 SPAN\"],\"marker\":{\"color\":\"#2ca02c\"},\"mode\":\"lines+markers\",\"name\":\"SPAN\",\"opacity\":0.8,\"showlegend\":false,\"x\":[0.908,0.8965,0.8853333333333333,0.87275,0.8586,0.8488333333333333,0.837,0.82525,0.8084444444444444,0.7939,0.7773636363636364,0.758,0.7356153846153846,0.7100714285714286,0.6822],\"y\":[0.05864793678665496,0.11331577407082236,0.16570090722856307,0.21621305238513316,0.2642669007901668,0.31261340357038336,0.35815042434884403,0.4028094820017559,0.4428446005267779,0.4814749780509219,0.5173544044483465,0.5491366695932104,0.5762949956101844,0.5982440737489025,0.6144571261340357],\"type\":\"scatter\"},{\"hovertext\":[\"1000.0 MACS2\",\"2000.0 MACS2\",\"3000.0 MACS2\",\"4000.0 MACS2\",\"5000.0 MACS2\",\"6000.0 MACS2\",\"7000.0 MACS2\",\"8000.0 MACS2\",\"9000.0 MACS2\",\"10000.0 MACS2\",\"11000.0 MACS2\",\"12000.0 MACS2\",\"13000.0 MACS2\",\"14000.0 MACS2\",\"15000.0 MACS2\"],\"marker\":{\"color\":\"#1f77b4\"},\"mode\":\"lines+markers\",\"name\":\"MACS2\",\"opacity\":0.8,\"showlegend\":false,\"x\":[0.861,0.859,0.8553333333333333,0.846,0.8428,0.8366666666666667,0.8307142857142857,0.825125,0.8182222222222222,0.8106,0.7990909090909091,0.7884166666666667,0.7768461538461539,0.762,0.7462666666666666],\"y\":[0.05018310826276036,0.09950789654383153,0.14803158617532616,0.19295033188372626,0.23655298695353627,0.27832455939574274,0.3168917372396429,0.3536850537880522,0.38595788509956513,0.4159418631265736,0.44197756923781184,0.4657816433966583,0.48655298695353627,0.5023460746166171,0.5170519569695583],\"type\":\"scatter\"},{\"hovertext\":[\"1000.0 MACS2 broad\",\"2000.0 MACS2 broad\",\"3000.0 MACS2 broad\",\"4000.0 MACS2 broad\",\"5000.0 MACS2 broad\",\"6000.0 MACS2 broad\",\"7000.0 MACS2 broad\",\"8000.0 MACS2 broad\",\"9000.0 MACS2 broad\",\"10000.0 MACS2 broad\",\"11000.0 MACS2 broad\",\"12000.0 MACS2 broad\",\"13000.0 MACS2 broad\",\"14000.0 MACS2 broad\",\"15000.0 MACS2 broad\"],\"marker\":{\"color\":\"#ff7f0e\"},\"mode\":\"lines+markers\",\"name\":\"MACS2 broad\",\"opacity\":0.8,\"showlegend\":false,\"x\":[0.873,0.8825,0.8823333333333333,0.88275,0.8788,0.8731666666666666,0.8657142857142858,0.855625,0.8435555555555555,0.8254,0.7997272727272727,0.7695833333333333,0.7349230769230769,0.699,0.6634],\"y\":[0.050869764248111696,0.10397116044861525,0.15684367132066834,0.20954451819638362,0.26092927443350883,0.31139848935683223,0.3603227283131151,0.4070153353170062,0.4510757610437171,0.48992904554818034,0.5216868848706798,0.5473220416571298,0.5656900892652781,0.5791371023117419,0.5885214007782101],\"type\":\"scatter\"},{\"hovertext\":[\"1000.0 SICER\",\"2000.0 SICER\",\"3000.0 SICER\",\"4000.0 SICER\",\"5000.0 SICER\",\"6000.0 SICER\",\"7000.0 SICER\",\"8000.0 SICER\",\"9000.0 SICER\",\"10000.0 SICER\",\"11000.0 SICER\",\"12000.0 SICER\",\"13000.0 SICER\",\"14000.0 SICER\",\"15000.0 SICER\"],\"marker\":{\"color\":\"#d62728\"},\"mode\":\"lines+markers\",\"name\":\"SICER\",\"opacity\":0.8,\"showlegend\":false,\"x\":[0.808,0.792,0.786,0.76575,0.7474,0.7333333333333333,0.718,0.700125,0.686,0.6674,0.6534545454545454,0.6351666666666667,0.6141538461538462,0.5987142857142858,0.5766],\"y\":[0.0553330281528954,0.10477225909819181,0.15295262073701077,0.19604028381780728,0.23643854428931105,0.27637903410391396,0.31351567864499885,0.34721904325932706,0.3809796292057679,0.41033417257953764,0.440775921263447,0.46606775005722134,0.48701075761043716,0.5101281757839322,0.5259212634470131],\"type\":\"scatter\"},{\"hovertext\":[\"1000.0 SPAN\",\"2000.0 SPAN\",\"3000.0 SPAN\",\"4000.0 SPAN\",\"5000.0 SPAN\",\"6000.0 SPAN\",\"7000.0 SPAN\",\"8000.0 SPAN\",\"9000.0 SPAN\",\"10000.0 SPAN\",\"11000.0 SPAN\",\"12000.0 SPAN\",\"13000.0 SPAN\",\"14000.0 SPAN\",\"15000.0 SPAN\"],\"marker\":{\"color\":\"#2ca02c\"},\"mode\":\"lines+markers\",\"name\":\"SPAN\",\"opacity\":0.8,\"showlegend\":false,\"x\":[0.918,0.919,0.91,0.90425,0.8964,0.8898333333333334,0.8827142857142857,0.874625,0.8612222222222222,0.8417,0.8155454545454546,0.78275,0.745,0.7093571428571429,0.6722],\"y\":[0.060654612039368276,0.11747539482719158,0.1713778896772717,0.22396429388876174,0.2755779354543374,0.32639047837033647,0.3755436026550698,0.4234378576333257,0.4673266193636988,0.5064087891966125,0.5383955138475623,0.5626573586633097,0.5795376516365301,0.5937285420004578,0.6023689631494621],\"type\":\"scatter\"},{\"hovertext\":[\"1000.0 MACS2\",\"2000.0 MACS2\",\"3000.0 MACS2\",\"4000.0 MACS2\",\"5000.0 MACS2\",\"6000.0 MACS2\",\"7000.0 MACS2\",\"8000.0 MACS2\",\"9000.0 MACS2\",\"10000.0 MACS2\",\"11000.0 MACS2\",\"12000.0 MACS2\",\"13000.0 MACS2\",\"14000.0 MACS2\",\"15000.0 MACS2\"],\"marker\":{\"color\":\"#1f77b4\"},\"mode\":\"lines+markers\",\"name\":\"MACS2\",\"opacity\":0.8,\"showlegend\":false,\"x\":[0.722,0.733,0.7226666666666667,0.716,0.7154,0.7108333333333333,0.7031428571428572,0.6975,0.69,0.6804,0.672,0.6619166666666667,0.6522307692307693,0.6427142857142857,0.6332666666666666],\"y\":[0.042987894892235014,0.08556244464127546,0.12459403602007676,0.1609684086211987,0.19586654856805433,0.2273398287570121,0.2580454679657514,0.2856214939474461,0.31118984351933865,0.3331561854148214,0.35571302037201064,0.3746678476527901,0.3914378506052554,0.40749926188367286,0.422261588426336],\"type\":\"scatter\"},{\"hovertext\":[\"1000.0 MACS2 broad\",\"2000.0 MACS2 broad\",\"3000.0 MACS2 broad\",\"4000.0 MACS2 broad\",\"5000.0 MACS2 broad\",\"6000.0 MACS2 broad\",\"7000.0 MACS2 broad\",\"8000.0 MACS2 broad\",\"9000.0 MACS2 broad\",\"10000.0 MACS2 broad\",\"11000.0 MACS2 broad\",\"12000.0 MACS2 broad\",\"13000.0 MACS2 broad\",\"14000.0 MACS2 broad\",\"15000.0 MACS2 broad\"],\"marker\":{\"color\":\"#ff7f0e\"},\"mode\":\"lines+markers\",\"name\":\"MACS2 broad\",\"opacity\":0.8,\"showlegend\":false,\"x\":[0.819,0.836,0.8373333333333334,0.82825,0.8188,0.8113333333333334,0.8005714285714286,0.7835,0.7623333333333333,0.7399,0.7151818181818181,0.6851666666666667,0.6528461538461539,0.6209285714285714,0.5904666666666667],\"y\":[0.05036905816356658,0.10250959551225274,0.15459108355476822,0.2034839090640685,0.25090050191910246,0.29766755240625925,0.34260407440212576,0.3829937998228521,0.41871863005609683,0.4509595512252731,0.4787127251254798,0.4993209329790375,0.5147328018895778,0.5265426631237083,0.536108650723354],\"type\":\"scatter\"},{\"hovertext\":[\"1000.0 SICER\",\"2000.0 SICER\",\"3000.0 SICER\",\"4000.0 SICER\",\"5000.0 SICER\",\"6000.0 SICER\",\"7000.0 SICER\",\"8000.0 SICER\",\"9000.0 SICER\",\"10000.0 SICER\",\"11000.0 SICER\",\"12000.0 SICER\",\"13000.0 SICER\",\"14000.0 SICER\",\"15000.0 SICER\"],\"marker\":{\"color\":\"#d62728\"},\"mode\":\"lines+markers\",\"name\":\"SICER\",\"opacity\":0.8,\"showlegend\":false,\"x\":[0.789,0.761,0.737,0.7135,0.7054,0.6888333333333333,0.6768571428571428,0.67075,0.6605555555555556,0.6562,0.6473636363636364,0.6384166666666666,0.6335384615384615,0.6272857142857143,0.6259052924791086],\"y\":[0.053144375553587246,0.10002952465308533,0.1429583702391497,0.18328904635370535,0.2248597578978447,0.2622970180100384,0.2993799822852081,0.33728963684676705,0.3725420726306466,0.40992028343666964,0.44346028934160026,0.47587835842928844,0.5105993504576322,0.5434307646885149,0.5553587245349867],\"type\":\"scatter\"},{\"hovertext\":[\"1000.0 SPAN\",\"2000.0 SPAN\",\"3000.0 SPAN\",\"4000.0 SPAN\",\"5000.0 SPAN\",\"6000.0 SPAN\",\"7000.0 SPAN\",\"8000.0 SPAN\",\"9000.0 SPAN\",\"10000.0 SPAN\",\"11000.0 SPAN\",\"12000.0 SPAN\",\"13000.0 SPAN\",\"14000.0 SPAN\",\"15000.0 SPAN\"],\"marker\":{\"color\":\"#2ca02c\"},\"mode\":\"lines+markers\",\"name\":\"SPAN\",\"opacity\":0.8,\"showlegend\":false,\"x\":[0.817,0.813,0.8053333333333333,0.7935,0.7828,0.7678333333333334,0.7517142857142857,0.73275,0.7121111111111111,0.6925,0.6700909090909091,0.6431666666666667,0.6162307692307692,0.607532956685499,0.607532956685499],\"y\":[0.05172719220549159,0.10174195453203425,0.14957189253026276,0.1953941541186891,0.23944493652199586,0.28024800708591674,0.31851195748449956,0.35222911130794216,0.3824623560673162,0.4087983466194272,0.4304694419840567,0.44682609979332744,0.45975789784470034,0.46200177147918514,0.46200177147918514],\"type\":\"scatter\"},{\"hovertext\":[\"1000.0 MACS2\",\"2000.0 MACS2\",\"3000.0 MACS2\",\"4000.0 MACS2\",\"5000.0 MACS2\",\"6000.0 MACS2\",\"7000.0 MACS2\",\"8000.0 MACS2\",\"9000.0 MACS2\",\"10000.0 MACS2\",\"11000.0 MACS2\",\"12000.0 MACS2\",\"13000.0 MACS2\",\"14000.0 MACS2\",\"15000.0 MACS2\"],\"marker\":{\"color\":\"#1f77b4\"},\"mode\":\"lines+markers\",\"name\":\"MACS2\",\"opacity\":0.8,\"showlegend\":false,\"x\":[0.873,0.863,0.8593333333333333,0.85,0.8458,0.8371666666666666,0.8268571428571428,0.818875,0.808,0.7911,0.7705454545454545,0.7441666666666666,0.7177692307692307,0.6906428571428571,0.6626],\"y\":[0.06853125241443252,0.13489917329830797,0.20165340338406862,0.2652398980143707,0.3282082979216565,0.38800896237348376,0.44410105848721315,0.4985706559530248,0.5486363285173452,0.5902804604805686,0.6240438847253341,0.6486131499652321,0.6683149192613768,0.6838445491771614,0.6944294213088156],\"type\":\"scatter\"},{\"hovertext\":[\"1000.0 MACS2 broad\",\"2000.0 MACS2 broad\",\"3000.0 MACS2 broad\",\"4000.0 MACS2 broad\",\"5000.0 MACS2 broad\",\"6000.0 MACS2 broad\",\"7000.0 MACS2 broad\",\"8000.0 MACS2 broad\",\"9000.0 MACS2 broad\",\"10000.0 MACS2 broad\",\"11000.0 MACS2 broad\",\"12000.0 MACS2 broad\",\"13000.0 MACS2 broad\",\"14000.0 MACS2 broad\",\"15000.0 MACS2 broad\"],\"marker\":{\"color\":\"#ff7f0e\"},\"mode\":\"lines+markers\",\"name\":\"MACS2 broad\",\"opacity\":0.8,\"showlegend\":false,\"x\":[0.894,0.886,0.8813333333333333,0.87725,0.8684,0.8601666666666666,0.8542857142857143,0.84175,0.8236666666666667,0.8017,0.7679090909090909,0.7308333333333333,0.6928461538461539,0.6539285714285714,0.6174],\"y\":[0.07038553658348141,0.14023024028432357,0.20930232558139536,0.2776790543150738,0.34327435679517887,0.4083288263926447,0.4734605578304875,0.5329521749208066,0.5881171289500116,0.6356331607818898,0.6693965850266553,0.6951247778722089,0.7135130958819439,0.7249478482577455,0.7332921270184656],\"type\":\"scatter\"},{\"hovertext\":[\"1000.0 SICER\",\"2000.0 SICER\",\"3000.0 SICER\",\"4000.0 SICER\",\"5000.0 SICER\",\"6000.0 SICER\",\"7000.0 SICER\",\"8000.0 SICER\",\"9000.0 SICER\",\"10000.0 SICER\",\"11000.0 SICER\",\"12000.0 SICER\",\"13000.0 SICER\",\"14000.0 SICER\",\"15000.0 SICER\"],\"marker\":{\"color\":\"#d62728\"},\"mode\":\"lines+markers\",\"name\":\"SICER\",\"opacity\":0.8,\"showlegend\":false,\"x\":[0.533,0.535,0.5383333333333333,0.5445,0.5456,0.5436666666666666,0.5395714285714286,0.533375,0.5291111111111111,0.5249,0.518,0.5090833333333333,0.4990769230769231,0.48842857142857143,0.47713333333333335],\"y\":[0.04890674495866491,0.09340956501583868,0.13775786139225837,0.18311056169357953,0.22676350150660587,0.2691802518735996,0.3104380746349378,0.34899173298307967,0.3879317005331067,0.4264080970408715,0.4614849725720467,0.49354863632851736,0.5229853975121688,0.550104303484509,0.5753689252878004],\"type\":\"scatter\"},{\"hovertext\":[\"1000.0 SPAN\",\"2000.0 SPAN\",\"3000.0 SPAN\",\"4000.0 SPAN\",\"5000.0 SPAN\",\"6000.0 SPAN\",\"7000.0 SPAN\",\"8000.0 SPAN\",\"9000.0 SPAN\",\"10000.0 SPAN\",\"11000.0 SPAN\",\"12000.0 SPAN\",\"13000.0 SPAN\",\"14000.0 SPAN\",\"15000.0 SPAN\"],\"marker\":{\"color\":\"#2ca02c\"},\"mode\":\"lines+markers\",\"name\":\"SPAN\",\"opacity\":0.8,\"showlegend\":false,\"x\":[0.888,0.889,0.8793333333333333,0.87375,0.8668,0.859,0.8537142857142858,0.84175,0.8256666666666667,0.8031,0.7705454545454545,0.7320833333333333,0.6923846153846154,0.6541428571428571,0.6170666666666667],\"y\":[0.0746349378042185,0.14633392567410955,0.21386077416364058,0.2810013134512864,0.3470601869736537,0.41072394344433283,0.4746967472765201,0.5339565788457081,0.5879626052692575,0.6340106621339721,0.6679286100594917,0.69118442401298,0.7066367920883876,0.7178397589430581,0.7251023719384996],\"type\":\"scatter\"},{\"hovertext\":[\"1000.0 MACS2\",\"2000.0 MACS2\",\"3000.0 MACS2\",\"4000.0 MACS2\",\"5000.0 MACS2\",\"6000.0 MACS2\",\"7000.0 MACS2\",\"8000.0 MACS2\",\"9000.0 MACS2\",\"10000.0 MACS2\",\"11000.0 MACS2\",\"12000.0 MACS2\",\"13000.0 MACS2\",\"14000.0 MACS2\",\"15000.0 MACS2\"],\"marker\":{\"color\":\"#1f77b4\"},\"mode\":\"lines+markers\",\"name\":\"MACS2\",\"opacity\":0.8,\"showlegend\":false,\"x\":[0.865,0.854,0.8556666666666667,0.84325,0.8392,0.8348333333333333,0.829,0.818125,0.8046666666666666,0.7893,0.7706363636363637,0.7519166666666667,0.7275384615384616,0.7018571428571428,0.6771333333333334],\"y\":[0.06776386957193634,0.13359604388811622,0.19911914696337507,0.2611651985782723,0.3234430536238603,0.38363467779323135,0.4411991964147736,0.49235048678720444,0.5393293154072014,0.5805903260701591,0.6135064132282491,0.6420955030134446,0.662880543965384,0.679338587544429,0.6938649358677175],\"type\":\"scatter\"},{\"hovertext\":[\"1000.0 MACS2 broad\",\"2000.0 MACS2 broad\",\"3000.0 MACS2 broad\",\"4000.0 MACS2 broad\",\"5000.0 MACS2 broad\",\"6000.0 MACS2 broad\",\"7000.0 MACS2 broad\",\"8000.0 MACS2 broad\",\"9000.0 MACS2 broad\",\"10000.0 MACS2 broad\",\"11000.0 MACS2 broad\",\"12000.0 MACS2 broad\",\"13000.0 MACS2 broad\",\"14000.0 MACS2 broad\",\"15000.0 MACS2 broad\"],\"marker\":{\"color\":\"#ff7f0e\"},\"mode\":\"lines+markers\",\"name\":\"MACS2 broad\",\"opacity\":0.8,\"showlegend\":false,\"x\":[0.879,0.874,0.868,0.86475,0.8626,0.8545,0.8445714285714285,0.834375,0.8193333333333334,0.7954,0.764,0.7275833333333334,0.691076923076923,0.6542857142857142,0.6193333333333333],\"y\":[0.06892288672539021,0.13776850564055015,0.20576417864317725,0.2736825838355741,0.3415237212177407,0.40573327151908517,0.46816566218513367,0.528743625405656,0.5843764487714418,0.6301962602379848,0.665584917323443,0.691006026889198,0.7106320506876835,0.724231185288209,0.7343532684283728],\"type\":\"scatter\"},{\"hovertext\":[\"1000.0 SICER\",\"2000.0 SICER\",\"3000.0 SICER\",\"4000.0 SICER\",\"5000.0 SICER\",\"6000.0 SICER\",\"7000.0 SICER\",\"8000.0 SICER\",\"9000.0 SICER\",\"10000.0 SICER\",\"11000.0 SICER\",\"12000.0 SICER\",\"13000.0 SICER\",\"14000.0 SICER\",\"15000.0 SICER\"],\"marker\":{\"color\":\"#d62728\"},\"mode\":\"lines+markers\",\"name\":\"SICER\",\"opacity\":0.8,\"showlegend\":false,\"x\":[0.708,0.7155,0.704,0.6985,0.6856,0.6751666666666667,0.6627142857142857,0.647625,0.6318888888888889,0.6172,0.5994545454545455,0.5819166666666666,0.5651538461538461,0.55,0.5322666666666667],\"y\":[0.06289599752743007,0.12285581826611033,0.17833410601143562,0.23249884098284654,0.2831092566836656,0.33248338742080047,0.37923041261010665,0.42211404728789986,0.4617524339360223,0.49961366094884874,0.5329933549683202,0.5632823365785814,0.5917168907433163,0.6193014989955185,0.641322824911142],\"type\":\"scatter\"},{\"hovertext\":[\"1000.0 SPAN\",\"2000.0 SPAN\",\"3000.0 SPAN\",\"4000.0 SPAN\",\"5000.0 SPAN\",\"6000.0 SPAN\",\"7000.0 SPAN\",\"8000.0 SPAN\",\"9000.0 SPAN\",\"10000.0 SPAN\",\"11000.0 SPAN\",\"12000.0 SPAN\",\"13000.0 SPAN\",\"14000.0 SPAN\",\"15000.0 SPAN\"],\"marker\":{\"color\":\"#2ca02c\"},\"mode\":\"lines+markers\",\"name\":\"SPAN\",\"opacity\":0.8,\"showlegend\":false,\"x\":[0.906,0.8995,0.8926666666666667,0.8855,0.8774,0.8675,0.8568571428571429,0.8455,0.8312222222222222,0.8084,0.7777272727272727,0.74025,0.7012307692307692,0.6627142857142857,0.6260666666666667],\"y\":[0.07695873898933704,0.1491268737443981,0.21851336733116983,0.286818111574718,0.3530366249420491,0.41701437181270284,0.47913769123783034,0.5390975119765106,0.5949621387729872,0.6420955030134446,0.6787204450625869,0.7041415546283418,0.7219904187915315,0.7346623396692937,0.7433936022253129],\"type\":\"scatter\"},{\"hovertext\":[\"1000.0 MACS2\",\"2000.0 MACS2\",\"3000.0 MACS2\",\"4000.0 MACS2\",\"5000.0 MACS2\",\"6000.0 MACS2\",\"7000.0 MACS2\",\"8000.0 MACS2\",\"9000.0 MACS2\",\"10000.0 MACS2\",\"11000.0 MACS2\",\"12000.0 MACS2\",\"13000.0 MACS2\",\"14000.0 MACS2\",\"15000.0 MACS2\"],\"marker\":{\"color\":\"#1f77b4\"},\"mode\":\"lines+markers\",\"name\":\"MACS2\",\"opacity\":0.8,\"showlegend\":false,\"x\":[0.867,0.8495,0.8393333333333334,0.83875,0.8318,0.8271666666666667,0.8228571428571428,0.812125,0.7968888888888889,0.7795,0.7659090909090909,0.7496666666666667,0.7279230769230769,0.7057857142857142,0.6853333333333333],\"y\":[0.059327135308675005,0.11370476891177847,0.16681158450939737,0.22045348137248344,0.27108554611731656,0.3209818741221323,0.36927295833054646,0.41181191893518826,0.4481974449869574,0.4792321583840546,0.5106681827302522,0.5368202795799613,0.5554143535549462,0.5705972844625777,0.584375627048358],\"type\":\"scatter\"},{\"hovertext\":[\"1000.0 MACS2 broad\",\"2000.0 MACS2 broad\",\"3000.0 MACS2 broad\",\"4000.0 MACS2 broad\",\"5000.0 MACS2 broad\",\"6000.0 MACS2 broad\",\"7000.0 MACS2 broad\",\"8000.0 MACS2 broad\",\"9000.0 MACS2 broad\",\"10000.0 MACS2 broad\",\"11000.0 MACS2 broad\",\"12000.0 MACS2 broad\",\"13000.0 MACS2 broad\",\"14000.0 MACS2 broad\",\"15000.0 MACS2 broad\"],\"marker\":{\"color\":\"#ff7f0e\"},\"mode\":\"lines+markers\",\"name\":\"MACS2 broad\",\"opacity\":0.8,\"showlegend\":false,\"x\":[0.885,0.8775,0.87,0.85925,0.8578,0.8481666666666666,0.8382857142857143,0.822625,0.8067777777777778,0.7802,0.7512727272727273,0.7188333333333333,0.6836153846153846,0.6482857142857142,0.6158666666666667],\"y\":[0.06126680489599358,0.12146344726105278,0.18125877867701157,0.23811116313290082,0.296970102334292,0.3525516687846967,0.4061266804895994,0.4551535014380309,0.502106882482777,0.5388268343254632,0.570463514146211,0.5950772523577018,0.6126680489599358,0.6253762290147816,0.6361447394823089],\"type\":\"scatter\"},{\"hovertext\":[\"1000.0 SICER\",\"2000.0 SICER\",\"3000.0 SICER\",\"4000.0 SICER\",\"5000.0 SICER\",\"6000.0 SICER\",\"7000.0 SICER\",\"8000.0 SICER\",\"9000.0 SICER\",\"10000.0 SICER\",\"11000.0 SICER\",\"12000.0 SICER\",\"13000.0 SICER\",\"14000.0 SICER\",\"15000.0 SICER\"],\"marker\":{\"color\":\"#d62728\"},\"mode\":\"lines+markers\",\"name\":\"SICER\",\"opacity\":0.8,\"showlegend\":false,\"x\":[0.698,0.673,0.633,0.60525,0.5792,0.5433333333333333,0.5157142857142857,0.501,0.4777777777777778,0.47,0.4658181818181818,0.46291666666666664,0.44953846153846155,0.43564285714285716,0.4216],\"y\":[0.0519028827503177,0.0977861012641295,0.13664637816868436,0.17303190422045348,0.20654136847033644,0.23316166142732928,0.2580429402715537,0.285733395759481,0.3061333690054177,0.3342251354424453,0.3641228011504247,0.3944886629656879,0.41462109557889104,0.432211892181125,0.4477292488796736],\"type\":\"scatter\"},{\"hovertext\":[\"1000.0 SPAN\",\"2000.0 SPAN\",\"3000.0 SPAN\",\"4000.0 SPAN\",\"5000.0 SPAN\",\"6000.0 SPAN\",\"7000.0 SPAN\",\"8000.0 SPAN\",\"9000.0 SPAN\",\"10000.0 SPAN\",\"11000.0 SPAN\",\"12000.0 SPAN\",\"13000.0 SPAN\",\"14000.0 SPAN\",\"15000.0 SPAN\"],\"marker\":{\"color\":\"#2ca02c\"},\"mode\":\"lines+markers\",\"name\":\"SPAN\",\"opacity\":0.8,\"showlegend\":false,\"x\":[0.895,0.8795,0.8703333333333333,0.853,0.8496,0.8436666666666667,0.833,0.81825,0.8013333333333333,0.7825,0.7566363636363637,0.7263333333333334,0.6931538461538461,0.6600714285714285,0.6271333333333333],\"y\":[0.0675540097652331,0.12942278108487726,0.18941876797538626,0.24506721958397432,0.30292288141261453,0.3587051033375694,0.4112099525115377,0.45976857735268545,0.5043809778610127,0.5453815798274363,0.5787572737609524,0.6051100260852117,0.6246404922747643,0.6399571934987627,0.6505250484917396],\"type\":\"scatter\"},{\"hovertext\":[\"1000.0 MACS2\",\"2000.0 MACS2\",\"3000.0 MACS2\",\"4000.0 MACS2\",\"5000.0 MACS2\",\"6000.0 MACS2\",\"7000.0 MACS2\",\"8000.0 MACS2\",\"9000.0 MACS2\",\"10000.0 MACS2\",\"11000.0 MACS2\",\"12000.0 MACS2\",\"13000.0 MACS2\",\"14000.0 MACS2\",\"15000.0 MACS2\"],\"marker\":{\"color\":\"#1f77b4\"},\"mode\":\"lines+markers\",\"name\":\"MACS2\",\"opacity\":0.8,\"showlegend\":false,\"x\":[0.867,0.863,0.8576666666666667,0.8515,0.8488,0.8436666666666667,0.8351428571428572,0.82575,0.8142222222222222,0.7986,0.7858181818181819,0.7671666666666667,0.7499230769230769,0.7313571428571428,0.7095333333333333],\"y\":[0.05169646950939936,0.10184548372306282,0.15102017423200367,0.19853278312700595,0.24547226043099496,0.29029115084823476,0.33195781751490144,0.3713892709766162,0.40743924805135256,0.437757909215956,0.4679046309032554,0.49146033929390187,0.5129527739569005,0.5308917927556167,0.5446469509399358],\"type\":\"scatter\"},{\"hovertext\":[\"1000.0 MACS2 broad\",\"2000.0 MACS2 broad\",\"3000.0 MACS2 broad\",\"4000.0 MACS2 broad\",\"5000.0 MACS2 broad\",\"6000.0 MACS2 broad\",\"7000.0 MACS2 broad\",\"8000.0 MACS2 broad\",\"9000.0 MACS2 broad\",\"10000.0 MACS2 broad\",\"11000.0 MACS2 broad\",\"12000.0 MACS2 broad\",\"13000.0 MACS2 broad\",\"14000.0 MACS2 broad\",\"15000.0 MACS2 broad\"],\"marker\":{\"color\":\"#ff7f0e\"},\"mode\":\"lines+markers\",\"name\":\"MACS2 broad\",\"opacity\":0.8,\"showlegend\":false,\"x\":[0.883,0.8855,0.8863333333333333,0.8785,0.8708,0.8676666666666667,0.8594285714285714,0.84825,0.8327777777777777,0.8123,0.7888181818181819,0.76125,0.7278461538461538,0.6925714285714286,0.657],\"y\":[0.052384227418615315,0.10448188904172398,0.15772581384685924,0.20890646492434664,0.25922741861531406,0.3106946354883081,0.35958276020174235,0.4055479138010087,0.44853278312700595,0.48601558917927556,0.5190852819807428,0.5458505272810638,0.5652796882164145,0.5789775332416323,0.5882622650160477],\"type\":\"scatter\"},{\"hovertext\":[\"1000.0 SICER\",\"2000.0 SICER\",\"3000.0 SICER\",\"4000.0 SICER\",\"5000.0 SICER\",\"6000.0 SICER\",\"7000.0 SICER\",\"8000.0 SICER\",\"9000.0 SICER\",\"10000.0 SICER\",\"11000.0 SICER\",\"12000.0 SICER\",\"13000.0 SICER\",\"14000.0 SICER\",\"15000.0 SICER\"],\"marker\":{\"color\":\"#d62728\"},\"mode\":\"lines+markers\",\"name\":\"SICER\",\"opacity\":0.8,\"showlegend\":false,\"x\":[0.63,0.631,0.6203333333333333,0.61825,0.6082,0.5996666666666667,0.588,0.582125,0.5698888888888889,0.5613,0.5521818181818182,0.5413333333333333,0.5323846153846153,0.5228571428571429,0.5111333333333333],\"y\":[0.045678587803759746,0.08671480972031179,0.12425492893168272,0.161508482347547,0.19618294360385144,0.23034158642824393,0.2612906923429619,0.29315680880330125,0.3212975699220541,0.3498968363136176,0.3771205868867492,0.4018225584594223,0.42692572214580465,0.4501948647409445,0.4706556625401192],\"type\":\"scatter\"},{\"hovertext\":[\"1000.0 SPAN\",\"2000.0 SPAN\",\"3000.0 SPAN\",\"4000.0 SPAN\",\"5000.0 SPAN\",\"6000.0 SPAN\",\"7000.0 SPAN\",\"8000.0 SPAN\",\"9000.0 SPAN\",\"10000.0 SPAN\",\"11000.0 SPAN\",\"12000.0 SPAN\",\"13000.0 SPAN\",\"14000.0 SPAN\",\"15000.0 SPAN\"],\"marker\":{\"color\":\"#2ca02c\"},\"mode\":\"lines+markers\",\"name\":\"SPAN\",\"opacity\":0.8,\"showlegend\":false,\"x\":[0.899,0.895,0.888,0.88375,0.8794,0.875,0.8647142857142858,0.853625,0.8414444444444444,0.8239,0.7987272727272727,0.7670833333333333,0.7336153846153847,0.6981428571428572,0.6620666666666667],\"y\":[0.05863136176066025,0.11250573131591013,0.16477533241632278,0.21670105456212746,0.26765245300320956,0.31768684089867033,0.36445437872535535,0.40927326914259515,0.45225813846859236,0.4901421366345713,0.5201169188445667,0.5435006877579092,0.5614397065566255,0.5736474094452086,0.5813273727647867],\"type\":\"scatter\"},{\"hovertext\":[\"1000.0 MACS2\",\"2000.0 MACS2\",\"3000.0 MACS2\",\"4000.0 MACS2\",\"5000.0 MACS2\",\"6000.0 MACS2\",\"7000.0 MACS2\",\"8000.0 MACS2\",\"9000.0 MACS2\",\"10000.0 MACS2\",\"11000.0 MACS2\",\"12000.0 MACS2\",\"13000.0 MACS2\",\"14000.0 MACS2\",\"15000.0 MACS2\"],\"marker\":{\"color\":\"#1f77b4\"},\"mode\":\"lines+markers\",\"name\":\"MACS2\",\"opacity\":0.8,\"showlegend\":false,\"x\":[0.664,0.6745,0.6826666666666666,0.685,0.682,0.6815,0.6744285714285714,0.666375,0.6563333333333333,0.6466,0.6386363636363637,0.6300833333333333,0.623,0.6125,0.6024],\"y\":[0.039443564007747844,0.0778892997593473,0.11574807771321242,0.15102424135704642,0.18219170041674004,0.2129482890180196,0.2396548688149322,0.26536362035569644,0.28937019428303107,0.3102071961026002,0.33063332746375534,0.3478311909373716,0.36590949110758936,0.3805247402711745,0.39508129365498623],\"type\":\"scatter\"},{\"hovertext\":[\"1000.0 MACS2 broad\",\"2000.0 MACS2 broad\",\"3000.0 MACS2 broad\",\"4000.0 MACS2 broad\",\"5000.0 MACS2 broad\",\"6000.0 MACS2 broad\",\"7000.0 MACS2 broad\",\"8000.0 MACS2 broad\",\"9000.0 MACS2 broad\",\"10000.0 MACS2 broad\",\"11000.0 MACS2 broad\",\"12000.0 MACS2 broad\",\"13000.0 MACS2 broad\",\"14000.0 MACS2 broad\",\"15000.0 MACS2 broad\"],\"marker\":{\"color\":\"#ff7f0e\"},\"mode\":\"lines+markers\",\"name\":\"MACS2 broad\",\"opacity\":0.8,\"showlegend\":false,\"x\":[0.772,0.7925,0.7906666666666666,0.78775,0.7828,0.7718333333333334,0.7594285714285715,0.74025,0.7202222222222222,0.6969,0.6725454545454546,0.6460833333333333,0.6186923076923077,0.5907142857142857,0.5636],\"y\":[0.047719668955802076,0.09749369020367435,0.14491988026060926,0.19181780829958325,0.23812877854082293,0.2811527851147502,0.32206374361683393,0.35833773551681636,0.39126606796971297,0.42014439161824263,0.44544227270059283,0.4662205787403886,0.4827140928567236,0.495744555966426,0.5062511005458707],\"type\":\"scatter\"},{\"hovertext\":[\"1000.0 SICER\",\"2000.0 SICER\",\"3000.0 SICER\",\"4000.0 SICER\",\"5000.0 SICER\",\"6000.0 SICER\",\"7000.0 SICER\",\"8000.0 SICER\",\"9000.0 SICER\",\"10000.0 SICER\",\"11000.0 SICER\",\"12000.0 SICER\",\"13000.0 SICER\",\"14000.0 SICER\",\"15000.0 SICER\"],\"marker\":{\"color\":\"#d62728\"},\"mode\":\"lines+markers\",\"name\":\"SICER\",\"opacity\":0.8,\"showlegend\":false,\"x\":[0.847,0.8415,0.8393333333333334,0.82875,0.8146,0.8006666666666666,0.7867142857142857,0.771,0.7508888888888889,0.7278,0.7044545454545454,0.67775,0.65,0.6234285714285714,0.5966666666666667],\"y\":[0.06063274050595762,0.11386981276046253,0.16663731877677995,0.2160004695662382,0.26213535246815756,0.3060984915184598,0.34929858543170744,0.38885954099900216,0.42407700886306277,0.45542055526207664,0.48335974643423135,0.5063097963256442,0.5251511416329165,0.5416446557492516,0.5548512061982743],\"type\":\"scatter\"},{\"hovertext\":[\"1000.0 SPAN\",\"2000.0 SPAN\",\"3000.0 SPAN\",\"4000.0 SPAN\",\"5000.0 SPAN\",\"6000.0 SPAN\",\"7000.0 SPAN\",\"8000.0 SPAN\",\"9000.0 SPAN\",\"10000.0 SPAN\",\"11000.0 SPAN\",\"12000.0 SPAN\",\"13000.0 SPAN\",\"14000.0 SPAN\",\"15000.0 SPAN\"],\"marker\":{\"color\":\"#2ca02c\"},\"mode\":\"lines+markers\",\"name\":\"SPAN\",\"opacity\":0.8,\"showlegend\":false,\"x\":[0.83,0.8425,0.848,0.84775,0.8406,0.8273333333333334,0.8098571428571428,0.795,0.775,0.7447,0.7150909090909091,0.6856666666666666,0.6523846153846153,0.6217142857142857,0.5930666666666666],\"y\":[0.05482185830838763,0.10841110524153313,0.1607677407994365,0.21183306920232436,0.2611962199917826,0.3070963197746082,0.34894641075306687,0.3897399776956037,0.42613136115513295,0.4537770734284205,0.477901038915302,0.49867934495509775,0.5133532898984563,0.5258554909901978,0.5368316018078301],\"type\":\"scatter\"},{\"hovertext\":[\"1000.0 MACS2\",\"2000.0 MACS2\",\"3000.0 MACS2\",\"4000.0 MACS2\",\"5000.0 MACS2\",\"6000.0 MACS2\",\"7000.0 MACS2\",\"8000.0 MACS2\",\"9000.0 MACS2\",\"10000.0 MACS2\",\"11000.0 MACS2\",\"12000.0 MACS2\",\"13000.0 MACS2\",\"14000.0 MACS2\",\"15000.0 MACS2\"],\"marker\":{\"color\":\"#1f77b4\"},\"mode\":\"lines+markers\",\"name\":\"MACS2\",\"opacity\":0.8,\"showlegend\":false,\"x\":[0.813,0.8045,0.7963333333333333,0.78925,0.774,0.7665,0.7555714285714286,0.746625,0.7354444444444445,0.7249,0.7132727272727273,0.7004166666666667,0.6846923076923077,0.6706428571428571,0.655],\"y\":[0.06071215733015495,0.11710369487485102,0.16910011918951132,0.21848927294398093,0.26162097735399287,0.3063170441001192,0.3455750893921335,0.38244934445768775,0.41634386174016685,0.4463647199046484,0.4754916567342074,0.5006704410011918,0.5203367103694875,0.53888557806913,0.5556466030989273],\"type\":\"scatter\"},{\"hovertext\":[\"1000.0 MACS2 broad\",\"2000.0 MACS2 broad\",\"3000.0 MACS2 broad\",\"4000.0 MACS2 broad\",\"5000.0 MACS2 broad\",\"6000.0 MACS2 broad\",\"7000.0 MACS2 broad\",\"8000.0 MACS2 broad\",\"9000.0 MACS2 broad\",\"10000.0 MACS2 broad\",\"11000.0 MACS2 broad\",\"12000.0 MACS2 broad\",\"13000.0 MACS2 broad\",\"14000.0 MACS2 broad\",\"15000.0 MACS2 broad\"],\"marker\":{\"color\":\"#ff7f0e\"},\"mode\":\"lines+markers\",\"name\":\"MACS2 broad\",\"opacity\":0.8,\"showlegend\":false,\"x\":[0.896,0.8725,0.859,0.85075,0.8358,0.8213333333333334,0.8061428571428572,0.7875,0.765,0.7346,0.7003636363636364,0.6644166666666667,0.6274615384615385,0.5945714285714285,0.5627333333333333],\"y\":[0.0697258641239571,0.1355035756853397,0.20023837902264602,0.2643772348033373,0.32412097735399287,0.38244934445768775,0.438095947556615,0.48890047675804527,0.5340435041716329,0.5693533969010727,0.5963945172824792,0.616507747318236,0.6302890345649583,0.6427294398092968,0.6515196662693683],\"type\":\"scatter\"},{\"hovertext\":[\"1000.0 SICER\",\"2000.0 SICER\",\"3000.0 SICER\",\"4000.0 SICER\",\"5000.0 SICER\",\"6000.0 SICER\",\"7000.0 SICER\",\"8000.0 SICER\",\"9000.0 SICER\",\"10000.0 SICER\",\"11000.0 SICER\",\"12000.0 SICER\",\"13000.0 SICER\",\"14000.0 SICER\",\"15000.0 SICER\"],\"marker\":{\"color\":\"#d62728\"},\"mode\":\"lines+markers\",\"name\":\"SICER\",\"opacity\":0.8,\"showlegend\":false,\"x\":[0.636,0.638,0.629,0.6155,0.5948,0.5848333333333333,0.569,0.55525,0.54,0.5263,0.5136363636363637,0.4995,0.48746153846153845,0.4725,0.45893333333333336],\"y\":[0.05572109654350417,0.10823897497020263,0.15785160905840287,0.20329261025029796,0.24329558998808104,0.2850864123957092,0.32151370679380215,0.3570470798569726,0.38885578069129917,0.4196215733015495,0.449046483909416,0.4754916567342074,0.5014153754469607,0.5224970202622169,0.5427592371871275],\"type\":\"scatter\"},{\"hovertext\":[\"1000.0 SPAN\",\"2000.0 SPAN\",\"3000.0 SPAN\",\"4000.0 SPAN\",\"5000.0 SPAN\",\"6000.0 SPAN\",\"7000.0 SPAN\",\"8000.0 SPAN\",\"9000.0 SPAN\",\"10000.0 SPAN\",\"11000.0 SPAN\",\"12000.0 SPAN\",\"13000.0 SPAN\",\"14000.0 SPAN\",\"15000.0 SPAN\"],\"marker\":{\"color\":\"#2ca02c\"},\"mode\":\"lines+markers\",\"name\":\"SPAN\",\"opacity\":0.8,\"showlegend\":false,\"x\":[0.897,0.886,0.8793333333333333,0.86575,0.857,0.8471666666666666,0.8351428571428572,0.816,0.7933333333333333,0.7616,0.7243636363636363,0.6821666666666667,0.6417692307692308,0.6042857142857143,0.5700666666666667],\"y\":[0.07583432657926102,0.14608164481525626,0.21379618593563765,0.2771156138259833,0.34080750893921335,0.40166865315852207,0.45962455303933253,0.5113230035756854,0.5569874851013111,0.592222884386174,0.6182210965435042,0.634088200238379,0.6455601907032181,0.6530840286054828,0.6591179976162098],\"type\":\"scatter\"},{\"hovertext\":[\"1000.0 MACS2\",\"2000.0 MACS2\",\"3000.0 MACS2\",\"4000.0 MACS2\",\"5000.0 MACS2\",\"6000.0 MACS2\",\"7000.0 MACS2\",\"8000.0 MACS2\",\"9000.0 MACS2\",\"10000.0 MACS2\",\"11000.0 MACS2\",\"12000.0 MACS2\",\"13000.0 MACS2\",\"14000.0 MACS2\",\"15000.0 MACS2\"],\"marker\":{\"color\":\"#1f77b4\"},\"mode\":\"lines+markers\",\"name\":\"MACS2\",\"opacity\":0.8,\"showlegend\":false,\"x\":[0.846,0.835,0.8206666666666667,0.8075,0.7942,0.7728333333333334,0.7584285714285715,0.7465,0.731,0.7147,0.6980909090909091,0.6795,0.663,0.6457142857142857,0.6261333333333333],\"y\":[0.06497324187834476,0.12542398432200197,0.1814276023215497,0.2338132207733474,0.28408833948895756,0.327353584080802,0.3697143287857089,0.4105675736790533,0.4454661943167257,0.4741840657269918,0.501168312353961,0.5223486847064144,0.5426245571719304,0.562146679731665,0.5757895530263059],\"type\":\"scatter\"},{\"hovertext\":[\"1000.0 MACS2 broad\",\"2000.0 MACS2 broad\",\"3000.0 MACS2 broad\",\"4000.0 MACS2 broad\",\"5000.0 MACS2 broad\",\"6000.0 MACS2 broad\",\"7000.0 MACS2 broad\",\"8000.0 MACS2 broad\",\"9000.0 MACS2 broad\",\"10000.0 MACS2 broad\",\"11000.0 MACS2 broad\",\"12000.0 MACS2 broad\",\"13000.0 MACS2 broad\",\"14000.0 MACS2 broad\",\"15000.0 MACS2 broad\"],\"marker\":{\"color\":\"#ff7f0e\"},\"mode\":\"lines+markers\",\"name\":\"MACS2 broad\",\"opacity\":0.8,\"showlegend\":false,\"x\":[0.874,0.8615,0.846,0.83575,0.8238,0.809,0.7925714285714286,0.773875,0.7485555555555555,0.7202,0.6891818181818182,0.6535833333333333,0.6186153846153846,0.5858571428571429,0.5548666666666666],\"y\":[0.06904349136956357,0.13612723298409588,0.1998191000226125,0.26268184216476975,0.3238863345142082,0.3812467023441622,0.4358935705133037,0.48624406421949196,0.5286048089243989,0.564558679430165,0.5938795507650562,0.6140046732494159,0.6294565463179317,0.6416672947915881,0.6509384186326976],\"type\":\"scatter\"},{\"hovertext\":[\"1000.0 SICER\",\"2000.0 SICER\",\"3000.0 SICER\",\"4000.0 SICER\",\"5000.0 SICER\",\"6000.0 SICER\",\"7000.0 SICER\",\"8000.0 SICER\",\"9000.0 SICER\",\"10000.0 SICER\",\"11000.0 SICER\",\"12000.0 SICER\",\"13000.0 SICER\",\"14000.0 SICER\",\"15000.0 SICER\"],\"marker\":{\"color\":\"#d62728\"},\"mode\":\"lines+markers\",\"name\":\"SICER\",\"opacity\":0.8,\"showlegend\":false,\"x\":[0.62,0.6075,0.609,0.59525,0.576,0.5628333333333333,0.5507142857142857,0.53525,0.5191111111111111,0.5063,0.4908181818181818,0.47983333333333333,0.463,0.4495,0.43706666666666666],\"y\":[0.054948368131453984,0.10529886183764227,0.1548956056380493,0.19906535011683124,0.23878797015150374,0.277756840280395,0.31574583553177055,0.3486847064144117,0.3794377025702872,0.4099645737544283,0.4358935705133037,0.4639330670083666,0.4839828145021482,0.5051631868546016,0.5253636843295395],\"type\":\"scatter\"},{\"hovertext\":[\"1000.0 SPAN\",\"2000.0 SPAN\",\"3000.0 SPAN\",\"4000.0 SPAN\",\"5000.0 SPAN\",\"6000.0 SPAN\",\"7000.0 SPAN\",\"8000.0 SPAN\",\"9000.0 SPAN\",\"10000.0 SPAN\",\"11000.0 SPAN\",\"12000.0 SPAN\",\"13000.0 SPAN\",\"14000.0 SPAN\",\"15000.0 SPAN\"],\"marker\":{\"color\":\"#2ca02c\"},\"mode\":\"lines+markers\",\"name\":\"SPAN\",\"opacity\":0.8,\"showlegend\":false,\"x\":[0.891,0.893,0.8826666666666667,0.87025,0.8548,0.8431666666666666,0.8291428571428572,0.809375,0.7834444444444445,0.7507,0.711,0.6708333333333333,0.6326153846153846,0.5974285714285714,0.5653333333333334],\"y\":[0.07695786538026683,0.1477349815331273,0.21557247305344088,0.28054571493178565,0.341674832290646,0.4019748247531469,0.4590336926207884,0.5100625612421799,0.5539308057586493,0.5879249265093842,0.6114419235697596,0.6280244214969473,0.6404612949423382,0.6504107936986507,0.6589281676339791],\"type\":\"scatter\"},{\"hovertext\":[\"1000.0 MACS2\",\"2000.0 MACS2\",\"3000.0 MACS2\",\"4000.0 MACS2\",\"5000.0 MACS2\",\"6000.0 MACS2\",\"7000.0 MACS2\",\"8000.0 MACS2\",\"9000.0 MACS2\",\"10000.0 MACS2\",\"11000.0 MACS2\",\"12000.0 MACS2\",\"13000.0 MACS2\",\"14000.0 MACS2\",\"15000.0 MACS2\"],\"marker\":{\"color\":\"#1f77b4\"},\"mode\":\"lines+markers\",\"name\":\"MACS2\",\"opacity\":0.8,\"showlegend\":false,\"x\":[0.854,0.853,0.8453333333333334,0.8325,0.8282,0.8138333333333333,0.7998571428571428,0.790125,0.7766666666666666,0.7617,0.7448181818181818,0.729,0.710076923076923,0.6886428571428571,0.6667333333333333],\"y\":[0.052542882937105025,0.10400240746313572,0.15365633463737585,0.20072223894071622,0.24851038218477278,0.29003912127595544,0.32904002407463134,0.3678001805597352,0.4019259705085766,0.4322600060186578,0.4586819139331929,0.481974119771291,0.5011134517002709,0.5153776707794162,0.5286789046042732],\"type\":\"scatter\"},{\"hovertext\":[\"1000.0 MACS2 broad\",\"2000.0 MACS2 broad\",\"3000.0 MACS2 broad\",\"4000.0 MACS2 broad\",\"5000.0 MACS2 broad\",\"6000.0 MACS2 broad\",\"7000.0 MACS2 broad\",\"8000.0 MACS2 broad\",\"9000.0 MACS2 broad\",\"10000.0 MACS2 broad\",\"11000.0 MACS2 broad\",\"12000.0 MACS2 broad\",\"13000.0 MACS2 broad\",\"14000.0 MACS2 broad\",\"15000.0 MACS2 broad\"],\"marker\":{\"color\":\"#ff7f0e\"},\"mode\":\"lines+markers\",\"name\":\"MACS2 broad\",\"opacity\":0.8,\"showlegend\":false,\"x\":[0.89,0.878,0.8773333333333333,0.86825,0.8606,0.8515,0.8415714285714285,0.82775,0.8132222222222222,0.7905,0.7615454545454545,0.728,0.6916923076923077,0.6559285714285714,0.6224666666666666],\"y\":[0.05561239843514896,0.1091784532049353,0.16442973216972614,0.2176948540475474,0.26999699067108035,0.32049352994282276,0.3702076436954559,0.4169124285284382,0.4599458320794463,0.49665964489918746,0.5261510683117665,0.5482395425820042,0.563888052964189,0.5756244357508276,0.5849533554017454],\"type\":\"scatter\"},{\"hovertext\":[\"1000.0 SICER\",\"2000.0 SICER\",\"3000.0 SICER\",\"4000.0 SICER\",\"5000.0 SICER\",\"6000.0 SICER\",\"7000.0 SICER\",\"8000.0 SICER\",\"9000.0 SICER\",\"10000.0 SICER\",\"11000.0 SICER\",\"12000.0 SICER\",\"13000.0 SICER\",\"14000.0 SICER\",\"15000.0 SICER\"],\"marker\":{\"color\":\"#d62728\"},\"mode\":\"lines+markers\",\"name\":\"SICER\",\"opacity\":0.8,\"showlegend\":false,\"x\":[0.475,0.446,0.43066666666666664,0.4145,0.4054,0.3968333333333333,0.38957142857142857,0.384625,0.379,0.3735,0.3679090909090909,0.3626666666666667,0.3575384615384615,0.35478571428571426,0.3519333333333333],\"y\":[0.03424616310562745,0.061992175744808906,0.08907613602166717,0.11284983448690943,0.1361420403250075,0.15889256695756845,0.18080048149262715,0.20282876918447187,0.22377369846524225,0.24381582907011737,0.26343665362624136,0.2826361721336142,0.30129401143544987,0.321215768883539,0.34047547396930483],\"type\":\"scatter\"},{\"hovertext\":[\"1000.0 SPAN\",\"2000.0 SPAN\",\"3000.0 SPAN\",\"4000.0 SPAN\",\"5000.0 SPAN\",\"6000.0 SPAN\",\"7000.0 SPAN\",\"8000.0 SPAN\",\"9000.0 SPAN\",\"10000.0 SPAN\",\"11000.0 SPAN\",\"12000.0 SPAN\",\"13000.0 SPAN\",\"14000.0 SPAN\",\"15000.0 SPAN\"],\"marker\":{\"color\":\"#2ca02c\"},\"mode\":\"lines+markers\",\"name\":\"SPAN\",\"opacity\":0.8,\"showlegend\":false,\"x\":[0.891,0.883,0.8783333333333333,0.876,0.869,0.86,0.8478571428571429,0.8365,0.8195555555555556,0.7963,0.7666363636363637,0.7343333333333333,0.6977692307692308,0.6592142857142858,0.6231333333333333],\"y\":[0.0606680710201625,0.1170628949744207,0.1714715618417093,0.22563948239542583,0.2773397532350286,0.3271140535660548,0.37460126391814624,0.4207643695455913,0.46181161600962983,0.4975624435750828,0.5251278964790852,0.5476978633764671,0.5630454408666867,0.5723743605176046,0.5793560036111947],\"type\":\"scatter\"},{\"hovertext\":[\"1000.0 MACS2\",\"2000.0 MACS2\",\"3000.0 MACS2\",\"4000.0 MACS2\",\"5000.0 MACS2\",\"6000.0 MACS2\",\"7000.0 MACS2\",\"8000.0 MACS2\",\"9000.0 MACS2\",\"10000.0 MACS2\",\"11000.0 MACS2\",\"12000.0 MACS2\",\"13000.0 MACS2\",\"14000.0 MACS2\",\"15000.0 MACS2\"],\"marker\":{\"color\":\"#1f77b4\"},\"mode\":\"lines+markers\",\"name\":\"MACS2\",\"opacity\":0.8,\"showlegend\":false,\"x\":[0.826,0.8135,0.8006666666666666,0.7905,0.7832,0.7726666666666666,0.7627142857142857,0.75625,0.7447777777777778,0.7328,0.7198181818181818,0.7093333333333334,0.696923076923077,0.6849285714285714,0.67],\"y\":[0.051038218477279566,0.09816430935901294,0.1429431236834186,0.1846524225097803,0.22485705687631657,0.2613301233824857,0.29611796569365034,0.32946133012338247,0.3587120072223894,0.38513391513692447,0.40842612097502257,0.4305145952452603,0.45043635269334936,0.46861269936804095,0.4840204634366536],\"type\":\"scatter\"},{\"hovertext\":[\"1000.0 MACS2 broad\",\"2000.0 MACS2 broad\",\"3000.0 MACS2 broad\",\"4000.0 MACS2 broad\",\"5000.0 MACS2 broad\",\"6000.0 MACS2 broad\",\"7000.0 MACS2 broad\",\"8000.0 MACS2 broad\",\"9000.0 MACS2 broad\",\"10000.0 MACS2 broad\",\"11000.0 MACS2 broad\",\"12000.0 MACS2 broad\",\"13000.0 MACS2 broad\",\"14000.0 MACS2 broad\",\"15000.0 MACS2 broad\"],\"marker\":{\"color\":\"#ff7f0e\"},\"mode\":\"lines+markers\",\"name\":\"MACS2 broad\",\"opacity\":0.8,\"showlegend\":false,\"x\":[0.886,0.8675,0.8646666666666667,0.8575,0.849,0.835,0.8215714285714286,0.805875,0.7871111111111111,0.7638,0.7355454545454545,0.70275,0.673,0.6413571428571428,0.6085333333333334],\"y\":[0.05579295817032802,0.108215467950647,0.16220282876918446,0.2146855251278965,0.26542281071321094,0.31266927475173034,0.3584712609088173,0.4016852241950045,0.44176948540475475,0.47589527535359616,0.5033403551008125,0.524285284381583,0.5436653626241348,0.5575684622329221,0.5664158892566957],\"type\":\"scatter\"},{\"hovertext\":[\"1000.0 SICER\",\"2000.0 SICER\",\"3000.0 SICER\",\"4000.0 SICER\",\"5000.0 SICER\",\"6000.0 SICER\",\"7000.0 SICER\",\"8000.0 SICER\",\"9000.0 SICER\",\"10000.0 SICER\",\"11000.0 SICER\",\"12000.0 SICER\",\"13000.0 SICER\",\"14000.0 SICER\",\"15000.0 SICER\"],\"marker\":{\"color\":\"#d62728\"},\"mode\":\"lines+markers\",\"name\":\"SICER\",\"opacity\":0.8,\"showlegend\":false,\"x\":[0.71,0.6755,0.6566666666666666,0.645,0.627,0.609,0.593,0.579,0.5621111111111111,0.5473,0.532,0.51775,0.5064615384615384,0.4953571428571429,0.48106666666666664],\"y\":[0.05043635269334938,0.09268733072524828,0.1327715919349985,0.1711104423713512,0.20625940415287392,0.23876015648510382,0.2701173638278664,0.2997893469756244,0.32572976226301537,0.35167017755040625,0.3747818236533253,0.39729160397231417,0.4199819440264821,0.4416491122479687,0.45916340656033705],\"type\":\"scatter\"},{\"hovertext\":[\"1000.0 SPAN\",\"2000.0 SPAN\",\"3000.0 SPAN\",\"4000.0 SPAN\",\"5000.0 SPAN\",\"6000.0 SPAN\",\"7000.0 SPAN\",\"8000.0 SPAN\",\"9000.0 SPAN\",\"10000.0 SPAN\",\"11000.0 SPAN\",\"12000.0 SPAN\",\"13000.0 SPAN\",\"14000.0 SPAN\",\"15000.0 SPAN\"],\"marker\":{\"color\":\"#2ca02c\"},\"mode\":\"lines+markers\",\"name\":\"SPAN\",\"opacity\":0.8,\"showlegend\":false,\"x\":[0.894,0.888,0.8826666666666667,0.87375,0.8648,0.853,0.8427142857142857,0.82775,0.8076666666666666,0.7844,0.7542727272727273,0.72175,0.6885384615384615,0.6551428571428571,0.6235333333333334],\"y\":[0.060246764971411376,0.11634065603370448,0.17068913632260005,0.22335239241649113,0.27451098405055674,0.3233824857056876,0.37153174842010234,0.4157086969605778,0.45495034607282575,0.48931688233523923,0.5165212157688835,0.5378874510984051,0.5547396930484502,0.567318687932591,0.5776707794161902],\"type\":\"scatter\"},{\"hovertext\":[\"1000.0 MACS2\",\"2000.0 MACS2\",\"3000.0 MACS2\",\"4000.0 MACS2\",\"5000.0 MACS2\",\"6000.0 MACS2\",\"7000.0 MACS2\",\"8000.0 MACS2\",\"9000.0 MACS2\",\"10000.0 MACS2\",\"11000.0 MACS2\",\"12000.0 MACS2\",\"13000.0 MACS2\",\"14000.0 MACS2\",\"15000.0 MACS2\"],\"marker\":{\"color\":\"#1f77b4\"},\"mode\":\"lines+markers\",\"name\":\"MACS2\",\"opacity\":0.8,\"showlegend\":false,\"x\":[0.888,0.881,0.8713333333333333,0.86225,0.8606,0.8536666666666667,0.8475714285714285,0.8365,0.8271111111111111,0.816,0.8036363636363636,0.7885,0.7713846153846153,0.7519285714285714,0.7304],\"y\":[0.058014583599846486,0.11481386721248561,0.1695023666368172,0.22182422924395548,0.27472176026608675,0.32518869131380324,0.3728412434437764,0.4158244850965844,0.45772035307662784,0.4941153895356275,0.5266726365613407,0.5540488678521172,0.5765638991940643,0.595688883203275,0.6102085198925419],\"type\":\"scatter\"},{\"hovertext\":[\"1000.0 MACS2 broad\",\"2000.0 MACS2 broad\",\"3000.0 MACS2 broad\",\"4000.0 MACS2 broad\",\"5000.0 MACS2 broad\",\"6000.0 MACS2 broad\",\"7000.0 MACS2 broad\",\"8000.0 MACS2 broad\",\"9000.0 MACS2 broad\",\"10000.0 MACS2 broad\",\"11000.0 MACS2 broad\",\"12000.0 MACS2 broad\",\"13000.0 MACS2 broad\",\"14000.0 MACS2 broad\",\"15000.0 MACS2 broad\"],\"marker\":{\"color\":\"#ff7f0e\"},\"mode\":\"lines+markers\",\"name\":\"MACS2 broad\",\"opacity\":0.8,\"showlegend\":false,\"x\":[0.899,0.9025,0.895,0.8845,0.885,0.8813333333333333,0.8748571428571429,0.861875,0.8476666666666667,0.828,0.7999090909090909,0.76925,0.7344615384615385,0.696,0.662],\"y\":[0.059037994115389535,0.11948317768965076,0.1771139823461686,0.23397722911602917,0.29288729691697585,0.350709991045158,0.4066777536139184,0.4582320583343994,0.50754765255213,0.550978636305488,0.584943072790073,0.6132147882819496,0.6336190354355891,0.6466035563515415,0.6587565562236152],\"type\":\"scatter\"},{\"hovertext\":[\"1000.0 SICER\",\"2000.0 SICER\",\"3000.0 SICER\",\"4000.0 SICER\",\"5000.0 SICER\",\"6000.0 SICER\",\"7000.0 SICER\",\"8000.0 SICER\",\"9000.0 SICER\",\"10000.0 SICER\",\"11000.0 SICER\",\"12000.0 SICER\",\"13000.0 SICER\",\"14000.0 SICER\",\"15000.0 SICER\"],\"marker\":{\"color\":\"#d62728\"},\"mode\":\"lines+markers\",\"name\":\"SICER\",\"opacity\":0.8,\"showlegend\":false,\"x\":[0.789,0.775,0.7706666666666667,0.7565,0.7444,0.7295,0.7151428571428572,0.700625,0.6842222222222222,0.667,0.648,0.632,0.616,0.5977857142857143,0.5836],\"y\":[0.060317257259818347,0.11302289881028528,0.1647690930024306,0.21344505564794677,0.2603940130484841,0.3042727389023922,0.3459767174107714,0.38512216963029294,0.42132531661762823,0.45503390047332737,0.4849686580529615,0.5151592682614814,0.5427913521811437,0.5664577203530766,0.5914033516694384],\"type\":\"scatter\"},{\"hovertext\":[\"1000.0 SPAN\",\"2000.0 SPAN\",\"3000.0 SPAN\",\"4000.0 SPAN\",\"5000.0 SPAN\",\"6000.0 SPAN\",\"7000.0 SPAN\",\"8000.0 SPAN\",\"9000.0 SPAN\",\"10000.0 SPAN\",\"11000.0 SPAN\",\"12000.0 SPAN\",\"13000.0 SPAN\",\"14000.0 SPAN\",\"15000.0 SPAN\"],\"marker\":{\"color\":\"#2ca02c\"},\"mode\":\"lines+markers\",\"name\":\"SPAN\",\"opacity\":0.8,\"showlegend\":false,\"x\":[0.917,0.908,0.9006666666666666,0.89525,0.8904,0.8855,0.8761428571428571,0.8685,0.8577777777777778,0.8415,0.8173636363636364,0.7843333333333333,0.7481538461538462,0.7085714285714285,0.6706666666666666],\"y\":[0.06652168351029807,0.12722271971344506,0.18664449277216325,0.24491492900089548,0.3019061020851989,0.35889727516950237,0.41211462197774085,0.4652040424715364,0.5151592682614814,0.5601893309453755,0.5975438147626967,0.6245362671101445,0.6445567353204554,0.6571574772930792,0.665984392989638],\"type\":\"scatter\"}],                        {\"template\":{\"data\":{\"barpolar\":[{\"marker\":{\"line\":{\"color\":\"white\",\"width\":0.5},\"pattern\":{\"fillmode\":\"overlay\",\"size\":10,\"solidity\":0.2}},\"type\":\"barpolar\"}],\"bar\":[{\"error_x\":{\"color\":\"#2a3f5f\"},\"error_y\":{\"color\":\"#2a3f5f\"},\"marker\":{\"line\":{\"color\":\"white\",\"width\":0.5},\"pattern\":{\"fillmode\":\"overlay\",\"size\":10,\"solidity\":0.2}},\"type\":\"bar\"}],\"carpet\":[{\"aaxis\":{\"endlinecolor\":\"#2a3f5f\",\"gridcolor\":\"#C8D4E3\",\"linecolor\":\"#C8D4E3\",\"minorgridcolor\":\"#C8D4E3\",\"startlinecolor\":\"#2a3f5f\"},\"baxis\":{\"endlinecolor\":\"#2a3f5f\",\"gridcolor\":\"#C8D4E3\",\"linecolor\":\"#C8D4E3\",\"minorgridcolor\":\"#C8D4E3\",\"startlinecolor\":\"#2a3f5f\"},\"type\":\"carpet\"}],\"choropleth\":[{\"colorbar\":{\"outlinewidth\":0,\"ticks\":\"\"},\"type\":\"choropleth\"}],\"contourcarpet\":[{\"colorbar\":{\"outlinewidth\":0,\"ticks\":\"\"},\"type\":\"contourcarpet\"}],\"contour\":[{\"colorbar\":{\"outlinewidth\":0,\"ticks\":\"\"},\"colorscale\":[[0.0,\"#0d0887\"],[0.1111111111111111,\"#46039f\"],[0.2222222222222222,\"#7201a8\"],[0.3333333333333333,\"#9c179e\"],[0.4444444444444444,\"#bd3786\"],[0.5555555555555556,\"#d8576b\"],[0.6666666666666666,\"#ed7953\"],[0.7777777777777778,\"#fb9f3a\"],[0.8888888888888888,\"#fdca26\"],[1.0,\"#f0f921\"]],\"type\":\"contour\"}],\"heatmapgl\":[{\"colorbar\":{\"outlinewidth\":0,\"ticks\":\"\"},\"colorscale\":[[0.0,\"#0d0887\"],[0.1111111111111111,\"#46039f\"],[0.2222222222222222,\"#7201a8\"],[0.3333333333333333,\"#9c179e\"],[0.4444444444444444,\"#bd3786\"],[0.5555555555555556,\"#d8576b\"],[0.6666666666666666,\"#ed7953\"],[0.7777777777777778,\"#fb9f3a\"],[0.8888888888888888,\"#fdca26\"],[1.0,\"#f0f921\"]],\"type\":\"heatmapgl\"}],\"heatmap\":[{\"colorbar\":{\"outlinewidth\":0,\"ticks\":\"\"},\"colorscale\":[[0.0,\"#0d0887\"],[0.1111111111111111,\"#46039f\"],[0.2222222222222222,\"#7201a8\"],[0.3333333333333333,\"#9c179e\"],[0.4444444444444444,\"#bd3786\"],[0.5555555555555556,\"#d8576b\"],[0.6666666666666666,\"#ed7953\"],[0.7777777777777778,\"#fb9f3a\"],[0.8888888888888888,\"#fdca26\"],[1.0,\"#f0f921\"]],\"type\":\"heatmap\"}],\"histogram2dcontour\":[{\"colorbar\":{\"outlinewidth\":0,\"ticks\":\"\"},\"colorscale\":[[0.0,\"#0d0887\"],[0.1111111111111111,\"#46039f\"],[0.2222222222222222,\"#7201a8\"],[0.3333333333333333,\"#9c179e\"],[0.4444444444444444,\"#bd3786\"],[0.5555555555555556,\"#d8576b\"],[0.6666666666666666,\"#ed7953\"],[0.7777777777777778,\"#fb9f3a\"],[0.8888888888888888,\"#fdca26\"],[1.0,\"#f0f921\"]],\"type\":\"histogram2dcontour\"}],\"histogram2d\":[{\"colorbar\":{\"outlinewidth\":0,\"ticks\":\"\"},\"colorscale\":[[0.0,\"#0d0887\"],[0.1111111111111111,\"#46039f\"],[0.2222222222222222,\"#7201a8\"],[0.3333333333333333,\"#9c179e\"],[0.4444444444444444,\"#bd3786\"],[0.5555555555555556,\"#d8576b\"],[0.6666666666666666,\"#ed7953\"],[0.7777777777777778,\"#fb9f3a\"],[0.8888888888888888,\"#fdca26\"],[1.0,\"#f0f921\"]],\"type\":\"histogram2d\"}],\"histogram\":[{\"marker\":{\"pattern\":{\"fillmode\":\"overlay\",\"size\":10,\"solidity\":0.2}},\"type\":\"histogram\"}],\"mesh3d\":[{\"colorbar\":{\"outlinewidth\":0,\"ticks\":\"\"},\"type\":\"mesh3d\"}],\"parcoords\":[{\"line\":{\"colorbar\":{\"outlinewidth\":0,\"ticks\":\"\"}},\"type\":\"parcoords\"}],\"pie\":[{\"automargin\":true,\"type\":\"pie\"}],\"scatter3d\":[{\"line\":{\"colorbar\":{\"outlinewidth\":0,\"ticks\":\"\"}},\"marker\":{\"colorbar\":{\"outlinewidth\":0,\"ticks\":\"\"}},\"type\":\"scatter3d\"}],\"scattercarpet\":[{\"marker\":{\"colorbar\":{\"outlinewidth\":0,\"ticks\":\"\"}},\"type\":\"scattercarpet\"}],\"scattergeo\":[{\"marker\":{\"colorbar\":{\"outlinewidth\":0,\"ticks\":\"\"}},\"type\":\"scattergeo\"}],\"scattergl\":[{\"marker\":{\"colorbar\":{\"outlinewidth\":0,\"ticks\":\"\"}},\"type\":\"scattergl\"}],\"scattermapbox\":[{\"marker\":{\"colorbar\":{\"outlinewidth\":0,\"ticks\":\"\"}},\"type\":\"scattermapbox\"}],\"scatterpolargl\":[{\"marker\":{\"colorbar\":{\"outlinewidth\":0,\"ticks\":\"\"}},\"type\":\"scatterpolargl\"}],\"scatterpolar\":[{\"marker\":{\"colorbar\":{\"outlinewidth\":0,\"ticks\":\"\"}},\"type\":\"scatterpolar\"}],\"scatter\":[{\"fillpattern\":{\"fillmode\":\"overlay\",\"size\":10,\"solidity\":0.2},\"type\":\"scatter\"}],\"scatterternary\":[{\"marker\":{\"colorbar\":{\"outlinewidth\":0,\"ticks\":\"\"}},\"type\":\"scatterternary\"}],\"surface\":[{\"colorbar\":{\"outlinewidth\":0,\"ticks\":\"\"},\"colorscale\":[[0.0,\"#0d0887\"],[0.1111111111111111,\"#46039f\"],[0.2222222222222222,\"#7201a8\"],[0.3333333333333333,\"#9c179e\"],[0.4444444444444444,\"#bd3786\"],[0.5555555555555556,\"#d8576b\"],[0.6666666666666666,\"#ed7953\"],[0.7777777777777778,\"#fb9f3a\"],[0.8888888888888888,\"#fdca26\"],[1.0,\"#f0f921\"]],\"type\":\"surface\"}],\"table\":[{\"cells\":{\"fill\":{\"color\":\"#EBF0F8\"},\"line\":{\"color\":\"white\"}},\"header\":{\"fill\":{\"color\":\"#C8D4E3\"},\"line\":{\"color\":\"white\"}},\"type\":\"table\"}]},\"layout\":{\"annotationdefaults\":{\"arrowcolor\":\"#2a3f5f\",\"arrowhead\":0,\"arrowwidth\":1},\"autotypenumbers\":\"strict\",\"coloraxis\":{\"colorbar\":{\"outlinewidth\":0,\"ticks\":\"\"}},\"colorscale\":{\"diverging\":[[0,\"#8e0152\"],[0.1,\"#c51b7d\"],[0.2,\"#de77ae\"],[0.3,\"#f1b6da\"],[0.4,\"#fde0ef\"],[0.5,\"#f7f7f7\"],[0.6,\"#e6f5d0\"],[0.7,\"#b8e186\"],[0.8,\"#7fbc41\"],[0.9,\"#4d9221\"],[1,\"#276419\"]],\"sequential\":[[0.0,\"#0d0887\"],[0.1111111111111111,\"#46039f\"],[0.2222222222222222,\"#7201a8\"],[0.3333333333333333,\"#9c179e\"],[0.4444444444444444,\"#bd3786\"],[0.5555555555555556,\"#d8576b\"],[0.6666666666666666,\"#ed7953\"],[0.7777777777777778,\"#fb9f3a\"],[0.8888888888888888,\"#fdca26\"],[1.0,\"#f0f921\"]],\"sequentialminus\":[[0.0,\"#0d0887\"],[0.1111111111111111,\"#46039f\"],[0.2222222222222222,\"#7201a8\"],[0.3333333333333333,\"#9c179e\"],[0.4444444444444444,\"#bd3786\"],[0.5555555555555556,\"#d8576b\"],[0.6666666666666666,\"#ed7953\"],[0.7777777777777778,\"#fb9f3a\"],[0.8888888888888888,\"#fdca26\"],[1.0,\"#f0f921\"]]},\"colorway\":[\"#636efa\",\"#EF553B\",\"#00cc96\",\"#ab63fa\",\"#FFA15A\",\"#19d3f3\",\"#FF6692\",\"#B6E880\",\"#FF97FF\",\"#FECB52\"],\"font\":{\"color\":\"#2a3f5f\"},\"geo\":{\"bgcolor\":\"white\",\"lakecolor\":\"white\",\"landcolor\":\"white\",\"showlakes\":true,\"showland\":true,\"subunitcolor\":\"#C8D4E3\"},\"hoverlabel\":{\"align\":\"left\"},\"hovermode\":\"closest\",\"mapbox\":{\"style\":\"light\"},\"paper_bgcolor\":\"white\",\"plot_bgcolor\":\"white\",\"polar\":{\"angularaxis\":{\"gridcolor\":\"#EBF0F8\",\"linecolor\":\"#EBF0F8\",\"ticks\":\"\"},\"bgcolor\":\"white\",\"radialaxis\":{\"gridcolor\":\"#EBF0F8\",\"linecolor\":\"#EBF0F8\",\"ticks\":\"\"}},\"scene\":{\"xaxis\":{\"backgroundcolor\":\"white\",\"gridcolor\":\"#DFE8F3\",\"gridwidth\":2,\"linecolor\":\"#EBF0F8\",\"showbackground\":true,\"ticks\":\"\",\"zerolinecolor\":\"#EBF0F8\"},\"yaxis\":{\"backgroundcolor\":\"white\",\"gridcolor\":\"#DFE8F3\",\"gridwidth\":2,\"linecolor\":\"#EBF0F8\",\"showbackground\":true,\"ticks\":\"\",\"zerolinecolor\":\"#EBF0F8\"},\"zaxis\":{\"backgroundcolor\":\"white\",\"gridcolor\":\"#DFE8F3\",\"gridwidth\":2,\"linecolor\":\"#EBF0F8\",\"showbackground\":true,\"ticks\":\"\",\"zerolinecolor\":\"#EBF0F8\"}},\"shapedefaults\":{\"line\":{\"color\":\"#2a3f5f\"}},\"ternary\":{\"aaxis\":{\"gridcolor\":\"#DFE8F3\",\"linecolor\":\"#A2B1C6\",\"ticks\":\"\"},\"baxis\":{\"gridcolor\":\"#DFE8F3\",\"linecolor\":\"#A2B1C6\",\"ticks\":\"\"},\"bgcolor\":\"white\",\"caxis\":{\"gridcolor\":\"#DFE8F3\",\"linecolor\":\"#A2B1C6\",\"ticks\":\"\"}},\"title\":{\"x\":0.05},\"xaxis\":{\"automargin\":true,\"gridcolor\":\"#EBF0F8\",\"linecolor\":\"#EBF0F8\",\"ticks\":\"\",\"title\":{\"standoff\":15},\"zerolinecolor\":\"#EBF0F8\",\"zerolinewidth\":2},\"yaxis\":{\"automargin\":true,\"gridcolor\":\"#EBF0F8\",\"linecolor\":\"#EBF0F8\",\"ticks\":\"\",\"title\":{\"standoff\":15},\"zerolinecolor\":\"#EBF0F8\",\"zerolinewidth\":2}}},\"xaxis\":{\"range\":[-0.1,1.1],\"title\":{\"text\":\"Correct promoter fraction (sensitivity)\"}},\"yaxis\":{\"range\":[-0.1,1.1],\"title\":{\"text\":\"Recovered promoter fraction (precision)\"}},\"autosize\":false,\"width\":700,\"height\":600},                        {\"responsive\": true}                    ).then(function(){\n                            \nvar gd = document.getElementById('ed00f6f7-cd92-4df3-b6fb-1a901f992c2b');\nvar x = new MutationObserver(function (mutations, observer) {{\n        var display = window.getComputedStyle(gd).display;\n        if (!display || display === 'none') {{\n            console.log([gd, 'removed!']);\n            Plotly.purge(gd);\n            observer.disconnect();\n        }}\n}});\n\n// Listen for the removal of the full notebook cells\nvar notebookContainer = gd.closest('#notebook-container');\nif (notebookContainer) {{\n    x.observe(notebookContainer, {childList: true});\n}}\n\n// Listen for the clearing of the current output cell\nvar outputEl = gd.closest('.output');\nif (outputEl) {{\n    x.observe(outputEl, {childList: true});\n}}\n\n                        })                };                });            </script>        </div>"
     },
     "metadata": {},
     "output_type": "display_data"
    }
   ],
   "source": [
    "print('ENCODE')\n",
    "plot_top(encode_cpf_df)"
   ],
   "metadata": {
    "collapsed": false,
    "ExecuteTime": {
     "end_time": "2023-12-06T12:59:53.522037Z",
     "start_time": "2023-12-06T12:59:53.401923Z"
    }
   }
  },
  {
   "cell_type": "code",
   "execution_count": 107,
   "outputs": [
    {
     "name": "stdout",
     "output_type": "stream",
     "text": [
      "Roadmap\n"
     ]
    },
    {
     "data": {
      "application/vnd.plotly.v1+json": {
       "data": [
        {
         "hovertext": [
          "1000.0 MACS2",
          "2000.0 MACS2",
          "3000.0 MACS2",
          "4000.0 MACS2",
          "5000.0 MACS2",
          "6000.0 MACS2",
          "7000.0 MACS2",
          "8000.0 MACS2",
          "9000.0 MACS2",
          "10000.0 MACS2",
          "11000.0 MACS2",
          "12000.0 MACS2",
          "13000.0 MACS2",
          "14000.0 MACS2",
          "15000.0 MACS2"
         ],
         "marker": {
          "color": "#1f77b4"
         },
         "mode": "lines+markers",
         "name": "MACS2",
         "opacity": 0.8,
         "showlegend": true,
         "x": [
          0.895,
          0.89,
          0.8856666666666667,
          0.8765,
          0.8732,
          0.8638333333333333,
          0.8505714285714285,
          0.839625,
          0.8247777777777778,
          0.8089,
          0.7925454545454546,
          0.7725,
          0.7531538461538462,
          0.7304285714285714,
          0.7090666666666666
         ],
         "y": [
          0.0513613519633291,
          0.10178384050367262,
          0.15176451096261115,
          0.19931518197382228,
          0.2473076710664384,
          0.2909372066051803,
          0.3317501518749655,
          0.37029877947755013,
          0.4049814988678412,
          0.4362401281272436,
          0.46363284917435243,
          0.48550284420389905,
          0.5042248854034351,
          0.5198542000331363,
          0.532777378914232
         ],
         "type": "scatter"
        },
        {
         "hovertext": [
          "1000.0 MACS2 broad",
          "2000.0 MACS2 broad",
          "3000.0 MACS2 broad",
          "4000.0 MACS2 broad",
          "5000.0 MACS2 broad",
          "6000.0 MACS2 broad",
          "7000.0 MACS2 broad",
          "8000.0 MACS2 broad",
          "9000.0 MACS2 broad",
          "10000.0 MACS2 broad",
          "11000.0 MACS2 broad",
          "12000.0 MACS2 broad",
          "13000.0 MACS2 broad",
          "14000.0 MACS2 broad",
          "15000.0 MACS2 broad"
         ],
         "marker": {
          "color": "#ff7f0e"
         },
         "mode": "lines+markers",
         "name": "MACS2 broad",
         "opacity": 0.8,
         "showlegend": true,
         "x": [
          0.908,
          0.903,
          0.8913333333333333,
          0.885,
          0.8752,
          0.8646666666666667,
          0.8528571428571429,
          0.843625,
          0.8263333333333334,
          0.8065,
          0.7858181818181819,
          0.7653333333333333,
          0.7395384615384616,
          0.7140714285714286,
          0.6873333333333334
         ],
         "y": [
          0.052576351687192796,
          0.10404815817087314,
          0.15347655602805546,
          0.20191086320207655,
          0.24890926161153146,
          0.2947478875572983,
          0.3378803777544596,
          0.38001877726845973,
          0.41541945104103384,
          0.4481692163251781,
          0.4758933009333407,
          0.5005246589716684,
          0.5186392003092727,
          0.5352626056221351,
          0.5479648754625283
         ],
         "type": "scatter"
        },
        {
         "hovertext": [
          "1000.0 SICER",
          "2000.0 SICER",
          "3000.0 SICER",
          "4000.0 SICER",
          "5000.0 SICER",
          "6000.0 SICER",
          "7000.0 SICER",
          "8000.0 SICER",
          "9000.0 SICER",
          "10000.0 SICER",
          "11000.0 SICER",
          "12000.0 SICER",
          "13000.0 SICER",
          "14000.0 SICER",
          "15000.0 SICER"
         ],
         "marker": {
          "color": "#d62728"
         },
         "mode": "lines+markers",
         "name": "SICER",
         "opacity": 0.8,
         "showlegend": true,
         "x": [
          0.702,
          0.7025,
          0.7066666666666667,
          0.703,
          0.702,
          0.6958333333333333,
          0.6871428571428572,
          0.681625,
          0.6736666666666666,
          0.6668,
          0.6582727272727272,
          0.6505,
          0.6396923076923077,
          0.6277142857142857,
          0.6116666666666667
         ],
         "y": [
          0.046169989506820566,
          0.08952338874468438,
          0.1319379245595626,
          0.17247473352846965,
          0.21306676975755232,
          0.25139448831943445,
          0.2877892527751698,
          0.3242944717512564,
          0.35919810018224996,
          0.3933837742309604,
          0.4257469486938753,
          0.45750262329485836,
          0.4860551168056553,
          0.5126194289501298,
          0.5341580604186227
         ],
         "type": "scatter"
        },
        {
         "hovertext": [
          "1000.0 SPAN",
          "2000.0 SPAN",
          "3000.0 SPAN",
          "4000.0 SPAN",
          "5000.0 SPAN",
          "6000.0 SPAN",
          "7000.0 SPAN",
          "8000.0 SPAN",
          "9000.0 SPAN",
          "10000.0 SPAN",
          "11000.0 SPAN",
          "12000.0 SPAN",
          "13000.0 SPAN",
          "14000.0 SPAN",
          "15000.0 SPAN"
         ],
         "marker": {
          "color": "#2ca02c"
         },
         "mode": "lines+markers",
         "name": "SPAN",
         "opacity": 0.8,
         "showlegend": true,
         "x": [
          0.896,
          0.903,
          0.9026666666666666,
          0.89375,
          0.884,
          0.8761666666666666,
          0.8662857142857143,
          0.85525,
          0.8424444444444444,
          0.8222,
          0.7938181818181819,
          0.76275,
          0.7308461538461538,
          0.699,
          0.6656
         ],
         "y": [
          0.05633180537913514,
          0.10896338432650356,
          0.1608770088915889,
          0.20997404318771745,
          0.2576903959794555,
          0.3048544761694372,
          0.35025128403379907,
          0.39399127409289225,
          0.43563262826531174,
          0.470867620257359,
          0.498536477605346,
          0.5214005633180538,
          0.5396807864361849,
          0.5544816921632518,
          0.5638703263931076
         ],
         "type": "scatter"
        },
        {
         "hovertext": [
          "1000.0 MACS2",
          "2000.0 MACS2",
          "3000.0 MACS2",
          "4000.0 MACS2",
          "5000.0 MACS2",
          "6000.0 MACS2",
          "7000.0 MACS2",
          "8000.0 MACS2",
          "9000.0 MACS2",
          "10000.0 MACS2",
          "11000.0 MACS2",
          "12000.0 MACS2",
          "13000.0 MACS2",
          "14000.0 MACS2",
          "15000.0 MACS2"
         ],
         "marker": {
          "color": "#1f77b4"
         },
         "mode": "lines+markers",
         "name": "MACS2",
         "opacity": 0.8,
         "showlegend": false,
         "x": [
          0.877,
          0.869,
          0.8673333333333333,
          0.8625,
          0.8544,
          0.8438333333333333,
          0.8322857142857143,
          0.8215,
          0.8078888888888889,
          0.7931,
          0.7803636363636364,
          0.7630833333333333,
          0.745,
          0.7261428571428571,
          0.7028
         ],
         "y": [
          0.05691812213551344,
          0.1112349808001982,
          0.16573764399851357,
          0.21838226186052273,
          0.2679920723398984,
          0.31549609810479373,
          0.35922209835253316,
          0.4004087699739874,
          0.43645484949832775,
          0.4679177505264462,
          0.4975845410628019,
          0.5222965440356745,
          0.5427969775795862,
          0.560200668896321,
          0.5725257029604855
         ],
         "type": "scatter"
        },
        {
         "hovertext": [
          "1000.0 MACS2 broad",
          "2000.0 MACS2 broad",
          "3000.0 MACS2 broad",
          "4000.0 MACS2 broad",
          "5000.0 MACS2 broad",
          "6000.0 MACS2 broad",
          "7000.0 MACS2 broad",
          "8000.0 MACS2 broad",
          "9000.0 MACS2 broad",
          "10000.0 MACS2 broad",
          "11000.0 MACS2 broad",
          "12000.0 MACS2 broad",
          "13000.0 MACS2 broad",
          "14000.0 MACS2 broad",
          "15000.0 MACS2 broad"
         ],
         "marker": {
          "color": "#ff7f0e"
         },
         "mode": "lines+markers",
         "name": "MACS2 broad",
         "opacity": 0.8,
         "showlegend": false,
         "x": [
          0.878,
          0.8765,
          0.8736666666666667,
          0.86575,
          0.8578,
          0.8478333333333333,
          0.8387142857142857,
          0.822875,
          0.8078888888888889,
          0.794,
          0.7769090909090909,
          0.7550833333333333,
          0.7303846153846154,
          0.7057142857142857,
          0.6804
         ],
         "y": [
          0.056856187290969896,
          0.11290722160287378,
          0.16784342871299393,
          0.22092159048680787,
          0.2724513811470333,
          0.3211321689582559,
          0.36845039018952064,
          0.4101944754118667,
          0.44847020933977455,
          0.4848878979313762,
          0.5158553202031463,
          0.5417440852223461,
          0.5609438870308435,
          0.5774185556794252,
          0.5899913291217639
         ],
         "type": "scatter"
        },
        {
         "hovertext": [
          "1000.0 SICER",
          "2000.0 SICER",
          "3000.0 SICER",
          "4000.0 SICER",
          "5000.0 SICER",
          "6000.0 SICER",
          "7000.0 SICER",
          "8000.0 SICER",
          "9000.0 SICER",
          "10000.0 SICER",
          "11000.0 SICER",
          "12000.0 SICER",
          "13000.0 SICER",
          "14000.0 SICER",
          "15000.0 SICER"
         ],
         "marker": {
          "color": "#d62728"
         },
         "mode": "lines+markers",
         "name": "SICER",
         "opacity": 0.8,
         "showlegend": false,
         "x": [
          0.782,
          0.7655,
          0.7696666666666667,
          0.7605,
          0.7518,
          0.7416666666666667,
          0.7295714285714285,
          0.7205,
          0.7083333333333334,
          0.6899,
          0.6749090909090909,
          0.6553333333333333,
          0.6370769230769231,
          0.6167142857142857,
          0.5978666666666667
         ],
         "y": [
          0.058342623560014864,
          0.10906726124117429,
          0.15966802923324663,
          0.20686238077542426,
          0.2530657748049052,
          0.29716338411990584,
          0.33890746934225197,
          0.38040381518642385,
          0.41905115818159294,
          0.4525579090796482,
          0.48569305091044224,
          0.5133159915768611,
          0.5393905611296915,
          0.561687105165366,
          0.582559147776539
         ],
         "type": "scatter"
        },
        {
         "hovertext": [
          "1000.0 SPAN",
          "2000.0 SPAN",
          "3000.0 SPAN",
          "4000.0 SPAN",
          "5000.0 SPAN",
          "6000.0 SPAN",
          "7000.0 SPAN",
          "8000.0 SPAN",
          "9000.0 SPAN",
          "10000.0 SPAN",
          "11000.0 SPAN",
          "12000.0 SPAN",
          "13000.0 SPAN",
          "14000.0 SPAN",
          "15000.0 SPAN"
         ],
         "marker": {
          "color": "#2ca02c"
         },
         "mode": "lines+markers",
         "name": "SPAN",
         "opacity": 0.8,
         "showlegend": false,
         "x": [
          0.882,
          0.894,
          0.889,
          0.88225,
          0.8758,
          0.868,
          0.8575714285714285,
          0.847375,
          0.8311111111111111,
          0.8102,
          0.7844545454545454,
          0.7525,
          0.7178461538461538,
          0.6809285714285714,
          0.6480666666666667
         ],
         "y": [
          0.06267806267806268,
          0.1218877740616871,
          0.17923944010900533,
          0.2340517775300384,
          0.28768735290474423,
          0.3399603616994921,
          0.3901275857797597,
          0.4388083735909823,
          0.48222469961600395,
          0.5204384986993683,
          0.5522730087947479,
          0.5759940542549238,
          0.5929642016598539,
          0.6045460175894959,
          0.6150130063173541
         ],
         "type": "scatter"
        },
        {
         "hovertext": [
          "1000.0 MACS2",
          "2000.0 MACS2",
          "3000.0 MACS2",
          "4000.0 MACS2",
          "5000.0 MACS2",
          "6000.0 MACS2",
          "7000.0 MACS2",
          "8000.0 MACS2",
          "9000.0 MACS2",
          "10000.0 MACS2",
          "11000.0 MACS2",
          "12000.0 MACS2",
          "13000.0 MACS2",
          "14000.0 MACS2",
          "15000.0 MACS2"
         ],
         "marker": {
          "color": "#1f77b4"
         },
         "mode": "lines+markers",
         "name": "MACS2",
         "opacity": 0.8,
         "showlegend": false,
         "x": [
          0.894,
          0.8835,
          0.8783333333333333,
          0.873,
          0.8674,
          0.8625,
          0.8522857142857143,
          0.839875,
          0.8267777777777777,
          0.8104,
          0.7923636363636364,
          0.7726666666666666,
          0.7549230769230769,
          0.7345714285714285,
          0.7127333333333333
         ],
         "y": [
          0.05018193667517515,
          0.09965785043176018,
          0.14886221691196438,
          0.1963829902786075,
          0.24238309889751805,
          0.2872427089556292,
          0.3281920382338565,
          0.3655026340085809,
          0.3996632813772878,
          0.42996795742138705,
          0.4552761635800793,
          0.47754304024330635,
          0.4979090859718677,
          0.5131700429044697,
          0.5268017161787867
         ],
         "type": "scatter"
        },
        {
         "hovertext": [
          "1000.0 MACS2 broad",
          "2000.0 MACS2 broad",
          "3000.0 MACS2 broad",
          "4000.0 MACS2 broad",
          "5000.0 MACS2 broad",
          "6000.0 MACS2 broad",
          "7000.0 MACS2 broad",
          "8000.0 MACS2 broad",
          "9000.0 MACS2 broad",
          "10000.0 MACS2 broad",
          "11000.0 MACS2 broad",
          "12000.0 MACS2 broad",
          "13000.0 MACS2 broad",
          "14000.0 MACS2 broad",
          "15000.0 MACS2 broad"
         ],
         "marker": {
          "color": "#ff7f0e"
         },
         "mode": "lines+markers",
         "name": "MACS2 broad",
         "opacity": 0.8,
         "showlegend": false,
         "x": [
          0.912,
          0.8995,
          0.8893333333333333,
          0.87675,
          0.8712,
          0.8606666666666667,
          0.8501428571428571,
          0.837,
          0.825,
          0.8062,
          0.7863636363636364,
          0.7675,
          0.7417692307692307,
          0.716,
          0.6893333333333334
         ],
         "y": [
          0.051811220333460056,
          0.10193884755335904,
          0.15098028566773475,
          0.1981752023027209,
          0.24542442839298323,
          0.2899038722641612,
          0.33291696084288275,
          0.37283441047086296,
          0.41090533861945366,
          0.4416987997610384,
          0.46917938413077714,
          0.4948677564764025,
          0.5138217563677836,
          0.5300059740400804,
          0.5419540542008363
         ],
         "type": "scatter"
        },
        {
         "hovertext": [
          "1000.0 SICER",
          "2000.0 SICER",
          "3000.0 SICER",
          "4000.0 SICER",
          "5000.0 SICER",
          "6000.0 SICER",
          "7000.0 SICER",
          "8000.0 SICER",
          "9000.0 SICER",
          "10000.0 SICER",
          "11000.0 SICER",
          "12000.0 SICER",
          "13000.0 SICER",
          "14000.0 SICER",
          "15000.0 SICER"
         ],
         "marker": {
          "color": "#d62728"
         },
         "mode": "lines+markers",
         "name": "SICER",
         "opacity": 0.8,
         "showlegend": false,
         "x": [
          0.698,
          0.7045,
          0.717,
          0.7165,
          0.7054,
          0.6986666666666667,
          0.6872857142857143,
          0.679,
          0.6711111111111111,
          0.6577,
          0.6446363636363637,
          0.6330833333333333,
          0.6183846153846154,
          0.6061428571428571,
          0.5918666666666667
         ],
         "y": [
          0.04507684787921577,
          0.08895888774235594,
          0.13191766686580134,
          0.17302992450985716,
          0.21077499592679086,
          0.24824852006734371,
          0.2833324281757454,
          0.3179818606419378,
          0.3521425080106447,
          0.38217563677836314,
          0.4106337913430728,
          0.4387660891761256,
          0.46304241568457066,
          0.48786183674577743,
          0.5093683810351383
         ],
         "type": "scatter"
        },
        {
         "hovertext": [
          "1000.0 SPAN",
          "2000.0 SPAN",
          "3000.0 SPAN",
          "4000.0 SPAN",
          "5000.0 SPAN",
          "6000.0 SPAN",
          "7000.0 SPAN",
          "8000.0 SPAN",
          "9000.0 SPAN",
          "10000.0 SPAN",
          "11000.0 SPAN",
          "12000.0 SPAN",
          "13000.0 SPAN",
          "14000.0 SPAN",
          "15000.0 SPAN"
         ],
         "marker": {
          "color": "#2ca02c"
         },
         "mode": "lines+markers",
         "name": "SPAN",
         "opacity": 0.8,
         "showlegend": false,
         "x": [
          0.89,
          0.9025,
          0.9006666666666666,
          0.89125,
          0.8836,
          0.8746666666666667,
          0.864,
          0.854125,
          0.84,
          0.8206,
          0.7964545454545454,
          0.7673333333333333,
          0.7345384615384616,
          0.7014285714285714,
          0.6706
         ],
         "y": [
          0.056210286210829304,
          0.10889045782870797,
          0.15945256069081626,
          0.20854830826046813,
          0.2560690816271113,
          0.3026122847987835,
          0.3468744908488568,
          0.3902677456145115,
          0.430293814153044,
          0.4658665073589312,
          0.49589963612664967,
          0.5196328680823331,
          0.5377722261445718,
          0.5516211372399935,
          0.5641123119535111
         ],
         "type": "scatter"
        }
       ],
       "layout": {
        "template": {
         "data": {
          "barpolar": [
           {
            "marker": {
             "line": {
              "color": "white",
              "width": 0.5
             },
             "pattern": {
              "fillmode": "overlay",
              "size": 10,
              "solidity": 0.2
             }
            },
            "type": "barpolar"
           }
          ],
          "bar": [
           {
            "error_x": {
             "color": "#2a3f5f"
            },
            "error_y": {
             "color": "#2a3f5f"
            },
            "marker": {
             "line": {
              "color": "white",
              "width": 0.5
             },
             "pattern": {
              "fillmode": "overlay",
              "size": 10,
              "solidity": 0.2
             }
            },
            "type": "bar"
           }
          ],
          "carpet": [
           {
            "aaxis": {
             "endlinecolor": "#2a3f5f",
             "gridcolor": "#C8D4E3",
             "linecolor": "#C8D4E3",
             "minorgridcolor": "#C8D4E3",
             "startlinecolor": "#2a3f5f"
            },
            "baxis": {
             "endlinecolor": "#2a3f5f",
             "gridcolor": "#C8D4E3",
             "linecolor": "#C8D4E3",
             "minorgridcolor": "#C8D4E3",
             "startlinecolor": "#2a3f5f"
            },
            "type": "carpet"
           }
          ],
          "choropleth": [
           {
            "colorbar": {
             "outlinewidth": 0,
             "ticks": ""
            },
            "type": "choropleth"
           }
          ],
          "contourcarpet": [
           {
            "colorbar": {
             "outlinewidth": 0,
             "ticks": ""
            },
            "type": "contourcarpet"
           }
          ],
          "contour": [
           {
            "colorbar": {
             "outlinewidth": 0,
             "ticks": ""
            },
            "colorscale": [
             [
              0.0,
              "#0d0887"
             ],
             [
              0.1111111111111111,
              "#46039f"
             ],
             [
              0.2222222222222222,
              "#7201a8"
             ],
             [
              0.3333333333333333,
              "#9c179e"
             ],
             [
              0.4444444444444444,
              "#bd3786"
             ],
             [
              0.5555555555555556,
              "#d8576b"
             ],
             [
              0.6666666666666666,
              "#ed7953"
             ],
             [
              0.7777777777777778,
              "#fb9f3a"
             ],
             [
              0.8888888888888888,
              "#fdca26"
             ],
             [
              1.0,
              "#f0f921"
             ]
            ],
            "type": "contour"
           }
          ],
          "heatmapgl": [
           {
            "colorbar": {
             "outlinewidth": 0,
             "ticks": ""
            },
            "colorscale": [
             [
              0.0,
              "#0d0887"
             ],
             [
              0.1111111111111111,
              "#46039f"
             ],
             [
              0.2222222222222222,
              "#7201a8"
             ],
             [
              0.3333333333333333,
              "#9c179e"
             ],
             [
              0.4444444444444444,
              "#bd3786"
             ],
             [
              0.5555555555555556,
              "#d8576b"
             ],
             [
              0.6666666666666666,
              "#ed7953"
             ],
             [
              0.7777777777777778,
              "#fb9f3a"
             ],
             [
              0.8888888888888888,
              "#fdca26"
             ],
             [
              1.0,
              "#f0f921"
             ]
            ],
            "type": "heatmapgl"
           }
          ],
          "heatmap": [
           {
            "colorbar": {
             "outlinewidth": 0,
             "ticks": ""
            },
            "colorscale": [
             [
              0.0,
              "#0d0887"
             ],
             [
              0.1111111111111111,
              "#46039f"
             ],
             [
              0.2222222222222222,
              "#7201a8"
             ],
             [
              0.3333333333333333,
              "#9c179e"
             ],
             [
              0.4444444444444444,
              "#bd3786"
             ],
             [
              0.5555555555555556,
              "#d8576b"
             ],
             [
              0.6666666666666666,
              "#ed7953"
             ],
             [
              0.7777777777777778,
              "#fb9f3a"
             ],
             [
              0.8888888888888888,
              "#fdca26"
             ],
             [
              1.0,
              "#f0f921"
             ]
            ],
            "type": "heatmap"
           }
          ],
          "histogram2dcontour": [
           {
            "colorbar": {
             "outlinewidth": 0,
             "ticks": ""
            },
            "colorscale": [
             [
              0.0,
              "#0d0887"
             ],
             [
              0.1111111111111111,
              "#46039f"
             ],
             [
              0.2222222222222222,
              "#7201a8"
             ],
             [
              0.3333333333333333,
              "#9c179e"
             ],
             [
              0.4444444444444444,
              "#bd3786"
             ],
             [
              0.5555555555555556,
              "#d8576b"
             ],
             [
              0.6666666666666666,
              "#ed7953"
             ],
             [
              0.7777777777777778,
              "#fb9f3a"
             ],
             [
              0.8888888888888888,
              "#fdca26"
             ],
             [
              1.0,
              "#f0f921"
             ]
            ],
            "type": "histogram2dcontour"
           }
          ],
          "histogram2d": [
           {
            "colorbar": {
             "outlinewidth": 0,
             "ticks": ""
            },
            "colorscale": [
             [
              0.0,
              "#0d0887"
             ],
             [
              0.1111111111111111,
              "#46039f"
             ],
             [
              0.2222222222222222,
              "#7201a8"
             ],
             [
              0.3333333333333333,
              "#9c179e"
             ],
             [
              0.4444444444444444,
              "#bd3786"
             ],
             [
              0.5555555555555556,
              "#d8576b"
             ],
             [
              0.6666666666666666,
              "#ed7953"
             ],
             [
              0.7777777777777778,
              "#fb9f3a"
             ],
             [
              0.8888888888888888,
              "#fdca26"
             ],
             [
              1.0,
              "#f0f921"
             ]
            ],
            "type": "histogram2d"
           }
          ],
          "histogram": [
           {
            "marker": {
             "pattern": {
              "fillmode": "overlay",
              "size": 10,
              "solidity": 0.2
             }
            },
            "type": "histogram"
           }
          ],
          "mesh3d": [
           {
            "colorbar": {
             "outlinewidth": 0,
             "ticks": ""
            },
            "type": "mesh3d"
           }
          ],
          "parcoords": [
           {
            "line": {
             "colorbar": {
              "outlinewidth": 0,
              "ticks": ""
             }
            },
            "type": "parcoords"
           }
          ],
          "pie": [
           {
            "automargin": true,
            "type": "pie"
           }
          ],
          "scatter3d": [
           {
            "line": {
             "colorbar": {
              "outlinewidth": 0,
              "ticks": ""
             }
            },
            "marker": {
             "colorbar": {
              "outlinewidth": 0,
              "ticks": ""
             }
            },
            "type": "scatter3d"
           }
          ],
          "scattercarpet": [
           {
            "marker": {
             "colorbar": {
              "outlinewidth": 0,
              "ticks": ""
             }
            },
            "type": "scattercarpet"
           }
          ],
          "scattergeo": [
           {
            "marker": {
             "colorbar": {
              "outlinewidth": 0,
              "ticks": ""
             }
            },
            "type": "scattergeo"
           }
          ],
          "scattergl": [
           {
            "marker": {
             "colorbar": {
              "outlinewidth": 0,
              "ticks": ""
             }
            },
            "type": "scattergl"
           }
          ],
          "scattermapbox": [
           {
            "marker": {
             "colorbar": {
              "outlinewidth": 0,
              "ticks": ""
             }
            },
            "type": "scattermapbox"
           }
          ],
          "scatterpolargl": [
           {
            "marker": {
             "colorbar": {
              "outlinewidth": 0,
              "ticks": ""
             }
            },
            "type": "scatterpolargl"
           }
          ],
          "scatterpolar": [
           {
            "marker": {
             "colorbar": {
              "outlinewidth": 0,
              "ticks": ""
             }
            },
            "type": "scatterpolar"
           }
          ],
          "scatter": [
           {
            "fillpattern": {
             "fillmode": "overlay",
             "size": 10,
             "solidity": 0.2
            },
            "type": "scatter"
           }
          ],
          "scatterternary": [
           {
            "marker": {
             "colorbar": {
              "outlinewidth": 0,
              "ticks": ""
             }
            },
            "type": "scatterternary"
           }
          ],
          "surface": [
           {
            "colorbar": {
             "outlinewidth": 0,
             "ticks": ""
            },
            "colorscale": [
             [
              0.0,
              "#0d0887"
             ],
             [
              0.1111111111111111,
              "#46039f"
             ],
             [
              0.2222222222222222,
              "#7201a8"
             ],
             [
              0.3333333333333333,
              "#9c179e"
             ],
             [
              0.4444444444444444,
              "#bd3786"
             ],
             [
              0.5555555555555556,
              "#d8576b"
             ],
             [
              0.6666666666666666,
              "#ed7953"
             ],
             [
              0.7777777777777778,
              "#fb9f3a"
             ],
             [
              0.8888888888888888,
              "#fdca26"
             ],
             [
              1.0,
              "#f0f921"
             ]
            ],
            "type": "surface"
           }
          ],
          "table": [
           {
            "cells": {
             "fill": {
              "color": "#EBF0F8"
             },
             "line": {
              "color": "white"
             }
            },
            "header": {
             "fill": {
              "color": "#C8D4E3"
             },
             "line": {
              "color": "white"
             }
            },
            "type": "table"
           }
          ]
         },
         "layout": {
          "annotationdefaults": {
           "arrowcolor": "#2a3f5f",
           "arrowhead": 0,
           "arrowwidth": 1
          },
          "autotypenumbers": "strict",
          "coloraxis": {
           "colorbar": {
            "outlinewidth": 0,
            "ticks": ""
           }
          },
          "colorscale": {
           "diverging": [
            [
             0,
             "#8e0152"
            ],
            [
             0.1,
             "#c51b7d"
            ],
            [
             0.2,
             "#de77ae"
            ],
            [
             0.3,
             "#f1b6da"
            ],
            [
             0.4,
             "#fde0ef"
            ],
            [
             0.5,
             "#f7f7f7"
            ],
            [
             0.6,
             "#e6f5d0"
            ],
            [
             0.7,
             "#b8e186"
            ],
            [
             0.8,
             "#7fbc41"
            ],
            [
             0.9,
             "#4d9221"
            ],
            [
             1,
             "#276419"
            ]
           ],
           "sequential": [
            [
             0.0,
             "#0d0887"
            ],
            [
             0.1111111111111111,
             "#46039f"
            ],
            [
             0.2222222222222222,
             "#7201a8"
            ],
            [
             0.3333333333333333,
             "#9c179e"
            ],
            [
             0.4444444444444444,
             "#bd3786"
            ],
            [
             0.5555555555555556,
             "#d8576b"
            ],
            [
             0.6666666666666666,
             "#ed7953"
            ],
            [
             0.7777777777777778,
             "#fb9f3a"
            ],
            [
             0.8888888888888888,
             "#fdca26"
            ],
            [
             1.0,
             "#f0f921"
            ]
           ],
           "sequentialminus": [
            [
             0.0,
             "#0d0887"
            ],
            [
             0.1111111111111111,
             "#46039f"
            ],
            [
             0.2222222222222222,
             "#7201a8"
            ],
            [
             0.3333333333333333,
             "#9c179e"
            ],
            [
             0.4444444444444444,
             "#bd3786"
            ],
            [
             0.5555555555555556,
             "#d8576b"
            ],
            [
             0.6666666666666666,
             "#ed7953"
            ],
            [
             0.7777777777777778,
             "#fb9f3a"
            ],
            [
             0.8888888888888888,
             "#fdca26"
            ],
            [
             1.0,
             "#f0f921"
            ]
           ]
          },
          "colorway": [
           "#636efa",
           "#EF553B",
           "#00cc96",
           "#ab63fa",
           "#FFA15A",
           "#19d3f3",
           "#FF6692",
           "#B6E880",
           "#FF97FF",
           "#FECB52"
          ],
          "font": {
           "color": "#2a3f5f"
          },
          "geo": {
           "bgcolor": "white",
           "lakecolor": "white",
           "landcolor": "white",
           "showlakes": true,
           "showland": true,
           "subunitcolor": "#C8D4E3"
          },
          "hoverlabel": {
           "align": "left"
          },
          "hovermode": "closest",
          "mapbox": {
           "style": "light"
          },
          "paper_bgcolor": "white",
          "plot_bgcolor": "white",
          "polar": {
           "angularaxis": {
            "gridcolor": "#EBF0F8",
            "linecolor": "#EBF0F8",
            "ticks": ""
           },
           "bgcolor": "white",
           "radialaxis": {
            "gridcolor": "#EBF0F8",
            "linecolor": "#EBF0F8",
            "ticks": ""
           }
          },
          "scene": {
           "xaxis": {
            "backgroundcolor": "white",
            "gridcolor": "#DFE8F3",
            "gridwidth": 2,
            "linecolor": "#EBF0F8",
            "showbackground": true,
            "ticks": "",
            "zerolinecolor": "#EBF0F8"
           },
           "yaxis": {
            "backgroundcolor": "white",
            "gridcolor": "#DFE8F3",
            "gridwidth": 2,
            "linecolor": "#EBF0F8",
            "showbackground": true,
            "ticks": "",
            "zerolinecolor": "#EBF0F8"
           },
           "zaxis": {
            "backgroundcolor": "white",
            "gridcolor": "#DFE8F3",
            "gridwidth": 2,
            "linecolor": "#EBF0F8",
            "showbackground": true,
            "ticks": "",
            "zerolinecolor": "#EBF0F8"
           }
          },
          "shapedefaults": {
           "line": {
            "color": "#2a3f5f"
           }
          },
          "ternary": {
           "aaxis": {
            "gridcolor": "#DFE8F3",
            "linecolor": "#A2B1C6",
            "ticks": ""
           },
           "baxis": {
            "gridcolor": "#DFE8F3",
            "linecolor": "#A2B1C6",
            "ticks": ""
           },
           "bgcolor": "white",
           "caxis": {
            "gridcolor": "#DFE8F3",
            "linecolor": "#A2B1C6",
            "ticks": ""
           }
          },
          "title": {
           "x": 0.05
          },
          "xaxis": {
           "automargin": true,
           "gridcolor": "#EBF0F8",
           "linecolor": "#EBF0F8",
           "ticks": "",
           "title": {
            "standoff": 15
           },
           "zerolinecolor": "#EBF0F8",
           "zerolinewidth": 2
          },
          "yaxis": {
           "automargin": true,
           "gridcolor": "#EBF0F8",
           "linecolor": "#EBF0F8",
           "ticks": "",
           "title": {
            "standoff": 15
           },
           "zerolinecolor": "#EBF0F8",
           "zerolinewidth": 2
          }
         }
        },
        "xaxis": {
         "range": [
          -0.1,
          1.1
         ],
         "title": {
          "text": "Correct promoter fraction (sensitivity)"
         }
        },
        "yaxis": {
         "range": [
          -0.1,
          1.1
         ],
         "title": {
          "text": "Recovered promoter fraction (precision)"
         }
        },
        "autosize": false,
        "width": 700,
        "height": 600
       },
       "config": {
        "plotlyServerURL": "https://plot.ly"
       }
      },
      "text/html": "<div>                            <div id=\"f7774ac7-cb38-41a3-a16c-989964f6363d\" class=\"plotly-graph-div\" style=\"height:600px; width:700px;\"></div>            <script type=\"text/javascript\">                require([\"plotly\"], function(Plotly) {                    window.PLOTLYENV=window.PLOTLYENV || {};                                    if (document.getElementById(\"f7774ac7-cb38-41a3-a16c-989964f6363d\")) {                    Plotly.newPlot(                        \"f7774ac7-cb38-41a3-a16c-989964f6363d\",                        [{\"hovertext\":[\"1000.0 MACS2\",\"2000.0 MACS2\",\"3000.0 MACS2\",\"4000.0 MACS2\",\"5000.0 MACS2\",\"6000.0 MACS2\",\"7000.0 MACS2\",\"8000.0 MACS2\",\"9000.0 MACS2\",\"10000.0 MACS2\",\"11000.0 MACS2\",\"12000.0 MACS2\",\"13000.0 MACS2\",\"14000.0 MACS2\",\"15000.0 MACS2\"],\"marker\":{\"color\":\"#1f77b4\"},\"mode\":\"lines+markers\",\"name\":\"MACS2\",\"opacity\":0.8,\"showlegend\":true,\"x\":[0.895,0.89,0.8856666666666667,0.8765,0.8732,0.8638333333333333,0.8505714285714285,0.839625,0.8247777777777778,0.8089,0.7925454545454546,0.7725,0.7531538461538462,0.7304285714285714,0.7090666666666666],\"y\":[0.0513613519633291,0.10178384050367262,0.15176451096261115,0.19931518197382228,0.2473076710664384,0.2909372066051803,0.3317501518749655,0.37029877947755013,0.4049814988678412,0.4362401281272436,0.46363284917435243,0.48550284420389905,0.5042248854034351,0.5198542000331363,0.532777378914232],\"type\":\"scatter\"},{\"hovertext\":[\"1000.0 MACS2 broad\",\"2000.0 MACS2 broad\",\"3000.0 MACS2 broad\",\"4000.0 MACS2 broad\",\"5000.0 MACS2 broad\",\"6000.0 MACS2 broad\",\"7000.0 MACS2 broad\",\"8000.0 MACS2 broad\",\"9000.0 MACS2 broad\",\"10000.0 MACS2 broad\",\"11000.0 MACS2 broad\",\"12000.0 MACS2 broad\",\"13000.0 MACS2 broad\",\"14000.0 MACS2 broad\",\"15000.0 MACS2 broad\"],\"marker\":{\"color\":\"#ff7f0e\"},\"mode\":\"lines+markers\",\"name\":\"MACS2 broad\",\"opacity\":0.8,\"showlegend\":true,\"x\":[0.908,0.903,0.8913333333333333,0.885,0.8752,0.8646666666666667,0.8528571428571429,0.843625,0.8263333333333334,0.8065,0.7858181818181819,0.7653333333333333,0.7395384615384616,0.7140714285714286,0.6873333333333334],\"y\":[0.052576351687192796,0.10404815817087314,0.15347655602805546,0.20191086320207655,0.24890926161153146,0.2947478875572983,0.3378803777544596,0.38001877726845973,0.41541945104103384,0.4481692163251781,0.4758933009333407,0.5005246589716684,0.5186392003092727,0.5352626056221351,0.5479648754625283],\"type\":\"scatter\"},{\"hovertext\":[\"1000.0 SICER\",\"2000.0 SICER\",\"3000.0 SICER\",\"4000.0 SICER\",\"5000.0 SICER\",\"6000.0 SICER\",\"7000.0 SICER\",\"8000.0 SICER\",\"9000.0 SICER\",\"10000.0 SICER\",\"11000.0 SICER\",\"12000.0 SICER\",\"13000.0 SICER\",\"14000.0 SICER\",\"15000.0 SICER\"],\"marker\":{\"color\":\"#d62728\"},\"mode\":\"lines+markers\",\"name\":\"SICER\",\"opacity\":0.8,\"showlegend\":true,\"x\":[0.702,0.7025,0.7066666666666667,0.703,0.702,0.6958333333333333,0.6871428571428572,0.681625,0.6736666666666666,0.6668,0.6582727272727272,0.6505,0.6396923076923077,0.6277142857142857,0.6116666666666667],\"y\":[0.046169989506820566,0.08952338874468438,0.1319379245595626,0.17247473352846965,0.21306676975755232,0.25139448831943445,0.2877892527751698,0.3242944717512564,0.35919810018224996,0.3933837742309604,0.4257469486938753,0.45750262329485836,0.4860551168056553,0.5126194289501298,0.5341580604186227],\"type\":\"scatter\"},{\"hovertext\":[\"1000.0 SPAN\",\"2000.0 SPAN\",\"3000.0 SPAN\",\"4000.0 SPAN\",\"5000.0 SPAN\",\"6000.0 SPAN\",\"7000.0 SPAN\",\"8000.0 SPAN\",\"9000.0 SPAN\",\"10000.0 SPAN\",\"11000.0 SPAN\",\"12000.0 SPAN\",\"13000.0 SPAN\",\"14000.0 SPAN\",\"15000.0 SPAN\"],\"marker\":{\"color\":\"#2ca02c\"},\"mode\":\"lines+markers\",\"name\":\"SPAN\",\"opacity\":0.8,\"showlegend\":true,\"x\":[0.896,0.903,0.9026666666666666,0.89375,0.884,0.8761666666666666,0.8662857142857143,0.85525,0.8424444444444444,0.8222,0.7938181818181819,0.76275,0.7308461538461538,0.699,0.6656],\"y\":[0.05633180537913514,0.10896338432650356,0.1608770088915889,0.20997404318771745,0.2576903959794555,0.3048544761694372,0.35025128403379907,0.39399127409289225,0.43563262826531174,0.470867620257359,0.498536477605346,0.5214005633180538,0.5396807864361849,0.5544816921632518,0.5638703263931076],\"type\":\"scatter\"},{\"hovertext\":[\"1000.0 MACS2\",\"2000.0 MACS2\",\"3000.0 MACS2\",\"4000.0 MACS2\",\"5000.0 MACS2\",\"6000.0 MACS2\",\"7000.0 MACS2\",\"8000.0 MACS2\",\"9000.0 MACS2\",\"10000.0 MACS2\",\"11000.0 MACS2\",\"12000.0 MACS2\",\"13000.0 MACS2\",\"14000.0 MACS2\",\"15000.0 MACS2\"],\"marker\":{\"color\":\"#1f77b4\"},\"mode\":\"lines+markers\",\"name\":\"MACS2\",\"opacity\":0.8,\"showlegend\":false,\"x\":[0.877,0.869,0.8673333333333333,0.8625,0.8544,0.8438333333333333,0.8322857142857143,0.8215,0.8078888888888889,0.7931,0.7803636363636364,0.7630833333333333,0.745,0.7261428571428571,0.7028],\"y\":[0.05691812213551344,0.1112349808001982,0.16573764399851357,0.21838226186052273,0.2679920723398984,0.31549609810479373,0.35922209835253316,0.4004087699739874,0.43645484949832775,0.4679177505264462,0.4975845410628019,0.5222965440356745,0.5427969775795862,0.560200668896321,0.5725257029604855],\"type\":\"scatter\"},{\"hovertext\":[\"1000.0 MACS2 broad\",\"2000.0 MACS2 broad\",\"3000.0 MACS2 broad\",\"4000.0 MACS2 broad\",\"5000.0 MACS2 broad\",\"6000.0 MACS2 broad\",\"7000.0 MACS2 broad\",\"8000.0 MACS2 broad\",\"9000.0 MACS2 broad\",\"10000.0 MACS2 broad\",\"11000.0 MACS2 broad\",\"12000.0 MACS2 broad\",\"13000.0 MACS2 broad\",\"14000.0 MACS2 broad\",\"15000.0 MACS2 broad\"],\"marker\":{\"color\":\"#ff7f0e\"},\"mode\":\"lines+markers\",\"name\":\"MACS2 broad\",\"opacity\":0.8,\"showlegend\":false,\"x\":[0.878,0.8765,0.8736666666666667,0.86575,0.8578,0.8478333333333333,0.8387142857142857,0.822875,0.8078888888888889,0.794,0.7769090909090909,0.7550833333333333,0.7303846153846154,0.7057142857142857,0.6804],\"y\":[0.056856187290969896,0.11290722160287378,0.16784342871299393,0.22092159048680787,0.2724513811470333,0.3211321689582559,0.36845039018952064,0.4101944754118667,0.44847020933977455,0.4848878979313762,0.5158553202031463,0.5417440852223461,0.5609438870308435,0.5774185556794252,0.5899913291217639],\"type\":\"scatter\"},{\"hovertext\":[\"1000.0 SICER\",\"2000.0 SICER\",\"3000.0 SICER\",\"4000.0 SICER\",\"5000.0 SICER\",\"6000.0 SICER\",\"7000.0 SICER\",\"8000.0 SICER\",\"9000.0 SICER\",\"10000.0 SICER\",\"11000.0 SICER\",\"12000.0 SICER\",\"13000.0 SICER\",\"14000.0 SICER\",\"15000.0 SICER\"],\"marker\":{\"color\":\"#d62728\"},\"mode\":\"lines+markers\",\"name\":\"SICER\",\"opacity\":0.8,\"showlegend\":false,\"x\":[0.782,0.7655,0.7696666666666667,0.7605,0.7518,0.7416666666666667,0.7295714285714285,0.7205,0.7083333333333334,0.6899,0.6749090909090909,0.6553333333333333,0.6370769230769231,0.6167142857142857,0.5978666666666667],\"y\":[0.058342623560014864,0.10906726124117429,0.15966802923324663,0.20686238077542426,0.2530657748049052,0.29716338411990584,0.33890746934225197,0.38040381518642385,0.41905115818159294,0.4525579090796482,0.48569305091044224,0.5133159915768611,0.5393905611296915,0.561687105165366,0.582559147776539],\"type\":\"scatter\"},{\"hovertext\":[\"1000.0 SPAN\",\"2000.0 SPAN\",\"3000.0 SPAN\",\"4000.0 SPAN\",\"5000.0 SPAN\",\"6000.0 SPAN\",\"7000.0 SPAN\",\"8000.0 SPAN\",\"9000.0 SPAN\",\"10000.0 SPAN\",\"11000.0 SPAN\",\"12000.0 SPAN\",\"13000.0 SPAN\",\"14000.0 SPAN\",\"15000.0 SPAN\"],\"marker\":{\"color\":\"#2ca02c\"},\"mode\":\"lines+markers\",\"name\":\"SPAN\",\"opacity\":0.8,\"showlegend\":false,\"x\":[0.882,0.894,0.889,0.88225,0.8758,0.868,0.8575714285714285,0.847375,0.8311111111111111,0.8102,0.7844545454545454,0.7525,0.7178461538461538,0.6809285714285714,0.6480666666666667],\"y\":[0.06267806267806268,0.1218877740616871,0.17923944010900533,0.2340517775300384,0.28768735290474423,0.3399603616994921,0.3901275857797597,0.4388083735909823,0.48222469961600395,0.5204384986993683,0.5522730087947479,0.5759940542549238,0.5929642016598539,0.6045460175894959,0.6150130063173541],\"type\":\"scatter\"},{\"hovertext\":[\"1000.0 MACS2\",\"2000.0 MACS2\",\"3000.0 MACS2\",\"4000.0 MACS2\",\"5000.0 MACS2\",\"6000.0 MACS2\",\"7000.0 MACS2\",\"8000.0 MACS2\",\"9000.0 MACS2\",\"10000.0 MACS2\",\"11000.0 MACS2\",\"12000.0 MACS2\",\"13000.0 MACS2\",\"14000.0 MACS2\",\"15000.0 MACS2\"],\"marker\":{\"color\":\"#1f77b4\"},\"mode\":\"lines+markers\",\"name\":\"MACS2\",\"opacity\":0.8,\"showlegend\":false,\"x\":[0.894,0.8835,0.8783333333333333,0.873,0.8674,0.8625,0.8522857142857143,0.839875,0.8267777777777777,0.8104,0.7923636363636364,0.7726666666666666,0.7549230769230769,0.7345714285714285,0.7127333333333333],\"y\":[0.05018193667517515,0.09965785043176018,0.14886221691196438,0.1963829902786075,0.24238309889751805,0.2872427089556292,0.3281920382338565,0.3655026340085809,0.3996632813772878,0.42996795742138705,0.4552761635800793,0.47754304024330635,0.4979090859718677,0.5131700429044697,0.5268017161787867],\"type\":\"scatter\"},{\"hovertext\":[\"1000.0 MACS2 broad\",\"2000.0 MACS2 broad\",\"3000.0 MACS2 broad\",\"4000.0 MACS2 broad\",\"5000.0 MACS2 broad\",\"6000.0 MACS2 broad\",\"7000.0 MACS2 broad\",\"8000.0 MACS2 broad\",\"9000.0 MACS2 broad\",\"10000.0 MACS2 broad\",\"11000.0 MACS2 broad\",\"12000.0 MACS2 broad\",\"13000.0 MACS2 broad\",\"14000.0 MACS2 broad\",\"15000.0 MACS2 broad\"],\"marker\":{\"color\":\"#ff7f0e\"},\"mode\":\"lines+markers\",\"name\":\"MACS2 broad\",\"opacity\":0.8,\"showlegend\":false,\"x\":[0.912,0.8995,0.8893333333333333,0.87675,0.8712,0.8606666666666667,0.8501428571428571,0.837,0.825,0.8062,0.7863636363636364,0.7675,0.7417692307692307,0.716,0.6893333333333334],\"y\":[0.051811220333460056,0.10193884755335904,0.15098028566773475,0.1981752023027209,0.24542442839298323,0.2899038722641612,0.33291696084288275,0.37283441047086296,0.41090533861945366,0.4416987997610384,0.46917938413077714,0.4948677564764025,0.5138217563677836,0.5300059740400804,0.5419540542008363],\"type\":\"scatter\"},{\"hovertext\":[\"1000.0 SICER\",\"2000.0 SICER\",\"3000.0 SICER\",\"4000.0 SICER\",\"5000.0 SICER\",\"6000.0 SICER\",\"7000.0 SICER\",\"8000.0 SICER\",\"9000.0 SICER\",\"10000.0 SICER\",\"11000.0 SICER\",\"12000.0 SICER\",\"13000.0 SICER\",\"14000.0 SICER\",\"15000.0 SICER\"],\"marker\":{\"color\":\"#d62728\"},\"mode\":\"lines+markers\",\"name\":\"SICER\",\"opacity\":0.8,\"showlegend\":false,\"x\":[0.698,0.7045,0.717,0.7165,0.7054,0.6986666666666667,0.6872857142857143,0.679,0.6711111111111111,0.6577,0.6446363636363637,0.6330833333333333,0.6183846153846154,0.6061428571428571,0.5918666666666667],\"y\":[0.04507684787921577,0.08895888774235594,0.13191766686580134,0.17302992450985716,0.21077499592679086,0.24824852006734371,0.2833324281757454,0.3179818606419378,0.3521425080106447,0.38217563677836314,0.4106337913430728,0.4387660891761256,0.46304241568457066,0.48786183674577743,0.5093683810351383],\"type\":\"scatter\"},{\"hovertext\":[\"1000.0 SPAN\",\"2000.0 SPAN\",\"3000.0 SPAN\",\"4000.0 SPAN\",\"5000.0 SPAN\",\"6000.0 SPAN\",\"7000.0 SPAN\",\"8000.0 SPAN\",\"9000.0 SPAN\",\"10000.0 SPAN\",\"11000.0 SPAN\",\"12000.0 SPAN\",\"13000.0 SPAN\",\"14000.0 SPAN\",\"15000.0 SPAN\"],\"marker\":{\"color\":\"#2ca02c\"},\"mode\":\"lines+markers\",\"name\":\"SPAN\",\"opacity\":0.8,\"showlegend\":false,\"x\":[0.89,0.9025,0.9006666666666666,0.89125,0.8836,0.8746666666666667,0.864,0.854125,0.84,0.8206,0.7964545454545454,0.7673333333333333,0.7345384615384616,0.7014285714285714,0.6706],\"y\":[0.056210286210829304,0.10889045782870797,0.15945256069081626,0.20854830826046813,0.2560690816271113,0.3026122847987835,0.3468744908488568,0.3902677456145115,0.430293814153044,0.4658665073589312,0.49589963612664967,0.5196328680823331,0.5377722261445718,0.5516211372399935,0.5641123119535111],\"type\":\"scatter\"}],                        {\"template\":{\"data\":{\"barpolar\":[{\"marker\":{\"line\":{\"color\":\"white\",\"width\":0.5},\"pattern\":{\"fillmode\":\"overlay\",\"size\":10,\"solidity\":0.2}},\"type\":\"barpolar\"}],\"bar\":[{\"error_x\":{\"color\":\"#2a3f5f\"},\"error_y\":{\"color\":\"#2a3f5f\"},\"marker\":{\"line\":{\"color\":\"white\",\"width\":0.5},\"pattern\":{\"fillmode\":\"overlay\",\"size\":10,\"solidity\":0.2}},\"type\":\"bar\"}],\"carpet\":[{\"aaxis\":{\"endlinecolor\":\"#2a3f5f\",\"gridcolor\":\"#C8D4E3\",\"linecolor\":\"#C8D4E3\",\"minorgridcolor\":\"#C8D4E3\",\"startlinecolor\":\"#2a3f5f\"},\"baxis\":{\"endlinecolor\":\"#2a3f5f\",\"gridcolor\":\"#C8D4E3\",\"linecolor\":\"#C8D4E3\",\"minorgridcolor\":\"#C8D4E3\",\"startlinecolor\":\"#2a3f5f\"},\"type\":\"carpet\"}],\"choropleth\":[{\"colorbar\":{\"outlinewidth\":0,\"ticks\":\"\"},\"type\":\"choropleth\"}],\"contourcarpet\":[{\"colorbar\":{\"outlinewidth\":0,\"ticks\":\"\"},\"type\":\"contourcarpet\"}],\"contour\":[{\"colorbar\":{\"outlinewidth\":0,\"ticks\":\"\"},\"colorscale\":[[0.0,\"#0d0887\"],[0.1111111111111111,\"#46039f\"],[0.2222222222222222,\"#7201a8\"],[0.3333333333333333,\"#9c179e\"],[0.4444444444444444,\"#bd3786\"],[0.5555555555555556,\"#d8576b\"],[0.6666666666666666,\"#ed7953\"],[0.7777777777777778,\"#fb9f3a\"],[0.8888888888888888,\"#fdca26\"],[1.0,\"#f0f921\"]],\"type\":\"contour\"}],\"heatmapgl\":[{\"colorbar\":{\"outlinewidth\":0,\"ticks\":\"\"},\"colorscale\":[[0.0,\"#0d0887\"],[0.1111111111111111,\"#46039f\"],[0.2222222222222222,\"#7201a8\"],[0.3333333333333333,\"#9c179e\"],[0.4444444444444444,\"#bd3786\"],[0.5555555555555556,\"#d8576b\"],[0.6666666666666666,\"#ed7953\"],[0.7777777777777778,\"#fb9f3a\"],[0.8888888888888888,\"#fdca26\"],[1.0,\"#f0f921\"]],\"type\":\"heatmapgl\"}],\"heatmap\":[{\"colorbar\":{\"outlinewidth\":0,\"ticks\":\"\"},\"colorscale\":[[0.0,\"#0d0887\"],[0.1111111111111111,\"#46039f\"],[0.2222222222222222,\"#7201a8\"],[0.3333333333333333,\"#9c179e\"],[0.4444444444444444,\"#bd3786\"],[0.5555555555555556,\"#d8576b\"],[0.6666666666666666,\"#ed7953\"],[0.7777777777777778,\"#fb9f3a\"],[0.8888888888888888,\"#fdca26\"],[1.0,\"#f0f921\"]],\"type\":\"heatmap\"}],\"histogram2dcontour\":[{\"colorbar\":{\"outlinewidth\":0,\"ticks\":\"\"},\"colorscale\":[[0.0,\"#0d0887\"],[0.1111111111111111,\"#46039f\"],[0.2222222222222222,\"#7201a8\"],[0.3333333333333333,\"#9c179e\"],[0.4444444444444444,\"#bd3786\"],[0.5555555555555556,\"#d8576b\"],[0.6666666666666666,\"#ed7953\"],[0.7777777777777778,\"#fb9f3a\"],[0.8888888888888888,\"#fdca26\"],[1.0,\"#f0f921\"]],\"type\":\"histogram2dcontour\"}],\"histogram2d\":[{\"colorbar\":{\"outlinewidth\":0,\"ticks\":\"\"},\"colorscale\":[[0.0,\"#0d0887\"],[0.1111111111111111,\"#46039f\"],[0.2222222222222222,\"#7201a8\"],[0.3333333333333333,\"#9c179e\"],[0.4444444444444444,\"#bd3786\"],[0.5555555555555556,\"#d8576b\"],[0.6666666666666666,\"#ed7953\"],[0.7777777777777778,\"#fb9f3a\"],[0.8888888888888888,\"#fdca26\"],[1.0,\"#f0f921\"]],\"type\":\"histogram2d\"}],\"histogram\":[{\"marker\":{\"pattern\":{\"fillmode\":\"overlay\",\"size\":10,\"solidity\":0.2}},\"type\":\"histogram\"}],\"mesh3d\":[{\"colorbar\":{\"outlinewidth\":0,\"ticks\":\"\"},\"type\":\"mesh3d\"}],\"parcoords\":[{\"line\":{\"colorbar\":{\"outlinewidth\":0,\"ticks\":\"\"}},\"type\":\"parcoords\"}],\"pie\":[{\"automargin\":true,\"type\":\"pie\"}],\"scatter3d\":[{\"line\":{\"colorbar\":{\"outlinewidth\":0,\"ticks\":\"\"}},\"marker\":{\"colorbar\":{\"outlinewidth\":0,\"ticks\":\"\"}},\"type\":\"scatter3d\"}],\"scattercarpet\":[{\"marker\":{\"colorbar\":{\"outlinewidth\":0,\"ticks\":\"\"}},\"type\":\"scattercarpet\"}],\"scattergeo\":[{\"marker\":{\"colorbar\":{\"outlinewidth\":0,\"ticks\":\"\"}},\"type\":\"scattergeo\"}],\"scattergl\":[{\"marker\":{\"colorbar\":{\"outlinewidth\":0,\"ticks\":\"\"}},\"type\":\"scattergl\"}],\"scattermapbox\":[{\"marker\":{\"colorbar\":{\"outlinewidth\":0,\"ticks\":\"\"}},\"type\":\"scattermapbox\"}],\"scatterpolargl\":[{\"marker\":{\"colorbar\":{\"outlinewidth\":0,\"ticks\":\"\"}},\"type\":\"scatterpolargl\"}],\"scatterpolar\":[{\"marker\":{\"colorbar\":{\"outlinewidth\":0,\"ticks\":\"\"}},\"type\":\"scatterpolar\"}],\"scatter\":[{\"fillpattern\":{\"fillmode\":\"overlay\",\"size\":10,\"solidity\":0.2},\"type\":\"scatter\"}],\"scatterternary\":[{\"marker\":{\"colorbar\":{\"outlinewidth\":0,\"ticks\":\"\"}},\"type\":\"scatterternary\"}],\"surface\":[{\"colorbar\":{\"outlinewidth\":0,\"ticks\":\"\"},\"colorscale\":[[0.0,\"#0d0887\"],[0.1111111111111111,\"#46039f\"],[0.2222222222222222,\"#7201a8\"],[0.3333333333333333,\"#9c179e\"],[0.4444444444444444,\"#bd3786\"],[0.5555555555555556,\"#d8576b\"],[0.6666666666666666,\"#ed7953\"],[0.7777777777777778,\"#fb9f3a\"],[0.8888888888888888,\"#fdca26\"],[1.0,\"#f0f921\"]],\"type\":\"surface\"}],\"table\":[{\"cells\":{\"fill\":{\"color\":\"#EBF0F8\"},\"line\":{\"color\":\"white\"}},\"header\":{\"fill\":{\"color\":\"#C8D4E3\"},\"line\":{\"color\":\"white\"}},\"type\":\"table\"}]},\"layout\":{\"annotationdefaults\":{\"arrowcolor\":\"#2a3f5f\",\"arrowhead\":0,\"arrowwidth\":1},\"autotypenumbers\":\"strict\",\"coloraxis\":{\"colorbar\":{\"outlinewidth\":0,\"ticks\":\"\"}},\"colorscale\":{\"diverging\":[[0,\"#8e0152\"],[0.1,\"#c51b7d\"],[0.2,\"#de77ae\"],[0.3,\"#f1b6da\"],[0.4,\"#fde0ef\"],[0.5,\"#f7f7f7\"],[0.6,\"#e6f5d0\"],[0.7,\"#b8e186\"],[0.8,\"#7fbc41\"],[0.9,\"#4d9221\"],[1,\"#276419\"]],\"sequential\":[[0.0,\"#0d0887\"],[0.1111111111111111,\"#46039f\"],[0.2222222222222222,\"#7201a8\"],[0.3333333333333333,\"#9c179e\"],[0.4444444444444444,\"#bd3786\"],[0.5555555555555556,\"#d8576b\"],[0.6666666666666666,\"#ed7953\"],[0.7777777777777778,\"#fb9f3a\"],[0.8888888888888888,\"#fdca26\"],[1.0,\"#f0f921\"]],\"sequentialminus\":[[0.0,\"#0d0887\"],[0.1111111111111111,\"#46039f\"],[0.2222222222222222,\"#7201a8\"],[0.3333333333333333,\"#9c179e\"],[0.4444444444444444,\"#bd3786\"],[0.5555555555555556,\"#d8576b\"],[0.6666666666666666,\"#ed7953\"],[0.7777777777777778,\"#fb9f3a\"],[0.8888888888888888,\"#fdca26\"],[1.0,\"#f0f921\"]]},\"colorway\":[\"#636efa\",\"#EF553B\",\"#00cc96\",\"#ab63fa\",\"#FFA15A\",\"#19d3f3\",\"#FF6692\",\"#B6E880\",\"#FF97FF\",\"#FECB52\"],\"font\":{\"color\":\"#2a3f5f\"},\"geo\":{\"bgcolor\":\"white\",\"lakecolor\":\"white\",\"landcolor\":\"white\",\"showlakes\":true,\"showland\":true,\"subunitcolor\":\"#C8D4E3\"},\"hoverlabel\":{\"align\":\"left\"},\"hovermode\":\"closest\",\"mapbox\":{\"style\":\"light\"},\"paper_bgcolor\":\"white\",\"plot_bgcolor\":\"white\",\"polar\":{\"angularaxis\":{\"gridcolor\":\"#EBF0F8\",\"linecolor\":\"#EBF0F8\",\"ticks\":\"\"},\"bgcolor\":\"white\",\"radialaxis\":{\"gridcolor\":\"#EBF0F8\",\"linecolor\":\"#EBF0F8\",\"ticks\":\"\"}},\"scene\":{\"xaxis\":{\"backgroundcolor\":\"white\",\"gridcolor\":\"#DFE8F3\",\"gridwidth\":2,\"linecolor\":\"#EBF0F8\",\"showbackground\":true,\"ticks\":\"\",\"zerolinecolor\":\"#EBF0F8\"},\"yaxis\":{\"backgroundcolor\":\"white\",\"gridcolor\":\"#DFE8F3\",\"gridwidth\":2,\"linecolor\":\"#EBF0F8\",\"showbackground\":true,\"ticks\":\"\",\"zerolinecolor\":\"#EBF0F8\"},\"zaxis\":{\"backgroundcolor\":\"white\",\"gridcolor\":\"#DFE8F3\",\"gridwidth\":2,\"linecolor\":\"#EBF0F8\",\"showbackground\":true,\"ticks\":\"\",\"zerolinecolor\":\"#EBF0F8\"}},\"shapedefaults\":{\"line\":{\"color\":\"#2a3f5f\"}},\"ternary\":{\"aaxis\":{\"gridcolor\":\"#DFE8F3\",\"linecolor\":\"#A2B1C6\",\"ticks\":\"\"},\"baxis\":{\"gridcolor\":\"#DFE8F3\",\"linecolor\":\"#A2B1C6\",\"ticks\":\"\"},\"bgcolor\":\"white\",\"caxis\":{\"gridcolor\":\"#DFE8F3\",\"linecolor\":\"#A2B1C6\",\"ticks\":\"\"}},\"title\":{\"x\":0.05},\"xaxis\":{\"automargin\":true,\"gridcolor\":\"#EBF0F8\",\"linecolor\":\"#EBF0F8\",\"ticks\":\"\",\"title\":{\"standoff\":15},\"zerolinecolor\":\"#EBF0F8\",\"zerolinewidth\":2},\"yaxis\":{\"automargin\":true,\"gridcolor\":\"#EBF0F8\",\"linecolor\":\"#EBF0F8\",\"ticks\":\"\",\"title\":{\"standoff\":15},\"zerolinecolor\":\"#EBF0F8\",\"zerolinewidth\":2}}},\"xaxis\":{\"range\":[-0.1,1.1],\"title\":{\"text\":\"Correct promoter fraction (sensitivity)\"}},\"yaxis\":{\"range\":[-0.1,1.1],\"title\":{\"text\":\"Recovered promoter fraction (precision)\"}},\"autosize\":false,\"width\":700,\"height\":600},                        {\"responsive\": true}                    ).then(function(){\n                            \nvar gd = document.getElementById('f7774ac7-cb38-41a3-a16c-989964f6363d');\nvar x = new MutationObserver(function (mutations, observer) {{\n        var display = window.getComputedStyle(gd).display;\n        if (!display || display === 'none') {{\n            console.log([gd, 'removed!']);\n            Plotly.purge(gd);\n            observer.disconnect();\n        }}\n}});\n\n// Listen for the removal of the full notebook cells\nvar notebookContainer = gd.closest('#notebook-container');\nif (notebookContainer) {{\n    x.observe(notebookContainer, {childList: true});\n}}\n\n// Listen for the clearing of the current output cell\nvar outputEl = gd.closest('.output');\nif (outputEl) {{\n    x.observe(outputEl, {childList: true});\n}}\n\n                        })                };                });            </script>        </div>"
     },
     "metadata": {},
     "output_type": "display_data"
    }
   ],
   "source": [
    "print('Roadmap')\n",
    "plot_top(immune_cpf_df)"
   ],
   "metadata": {
    "collapsed": false,
    "ExecuteTime": {
     "end_time": "2023-12-06T12:59:55.861869Z",
     "start_time": "2023-12-06T12:59:55.842670Z"
    }
   }
  },
  {
   "cell_type": "code",
   "execution_count": 100,
   "outputs": [],
   "source": [
    "# plt.figure(figsize=(4, 4))\n",
    "# for t in ['MACS2', 'MACS2 broad', 'SPAN', 'SICER']:\n",
    "#     tt = encode_cpf_df[(encode_cpf_df['cell'] == 'GM12878') &\n",
    "#                        (encode_cpf_df['replicate'] == 'rep1') &\n",
    "#                        (encode_cpf_df['tool'] == t)]\n",
    "#     plt.plot(tt['precision'], tt['sensitivity'], marker='o', label=t)\n",
    "# plt.title('Peaks vs active gene promoters')\n",
    "# plt.xlabel('Promoter fraction (sensitivity)')\n",
    "# plt.ylabel('Peaks fraction (precision)')\n",
    "# plt.tight_layout()\n",
    "# plt.show()"
   ],
   "metadata": {
    "collapsed": false,
    "ExecuteTime": {
     "end_time": "2023-12-06T12:49:56.095171Z",
     "start_time": "2023-12-06T12:49:56.087889Z"
    }
   }
  },
  {
   "cell_type": "markdown",
   "source": [
    "## Average precision\n",
    "\n",
    "AP summarizes a precision-recall curve as the weighted mean of precisions achieved at each threshold, with the increase in recall from the previous threshold used as the weight:\n",
    "\n",
    "AP = ∑(Rn−Rn−1)*Pn, where  Pn and Rn are the precision and recall at the nth threshold.\n",
    "\n",
    "This implementation is not interpolated and is different from computing the area under the precision-recall curve with the trapezoidal rule, which uses linear interpolation and can be too optimistic."
   ],
   "metadata": {
    "collapsed": false
   }
  },
  {
   "cell_type": "code",
   "execution_count": 101,
   "outputs": [
    {
     "data": {
      "text/plain": "       cell replicate   tool       auc\n40    Huvec      rep2  MACS2  0.248936\n6   GM12878      rep2  SICER  0.327011\n14       H1      rep2  SICER  0.279632",
      "text/html": "<div>\n<style scoped>\n    .dataframe tbody tr th:only-of-type {\n        vertical-align: middle;\n    }\n\n    .dataframe tbody tr th {\n        vertical-align: top;\n    }\n\n    .dataframe thead th {\n        text-align: right;\n    }\n</style>\n<table border=\"1\" class=\"dataframe\">\n  <thead>\n    <tr style=\"text-align: right;\">\n      <th></th>\n      <th>cell</th>\n      <th>replicate</th>\n      <th>tool</th>\n      <th>auc</th>\n    </tr>\n  </thead>\n  <tbody>\n    <tr>\n      <th>40</th>\n      <td>Huvec</td>\n      <td>rep2</td>\n      <td>MACS2</td>\n      <td>0.248936</td>\n    </tr>\n    <tr>\n      <th>6</th>\n      <td>GM12878</td>\n      <td>rep2</td>\n      <td>SICER</td>\n      <td>0.327011</td>\n    </tr>\n    <tr>\n      <th>14</th>\n      <td>H1</td>\n      <td>rep2</td>\n      <td>SICER</td>\n      <td>0.279632</td>\n    </tr>\n  </tbody>\n</table>\n</div>"
     },
     "execution_count": 101,
     "metadata": {},
     "output_type": "execute_result"
    }
   ],
   "source": [
    "rows = []\n",
    "for (c, r, t), dft in encode_cpf_df.groupby(['cell', 'replicate', 'tool']):\n",
    "    ap = 0\n",
    "    sprev, pprev = 0, 0\n",
    "    for _, row in dft.iterrows():\n",
    "        ap += (row['sensitivity'] - sprev) * (row['precision'] + pprev) / 2\n",
    "        sprev, pprev = row['sensitivity'], row['precision']\n",
    "    rows.append((c, r, t, ap))\n",
    "encode_aps_df = pd.DataFrame(rows, columns=['cell', 'replicate', 'tool', 'auc'])\n",
    "del rows\n",
    "encode_aps_df.sample(3)"
   ],
   "metadata": {
    "collapsed": false,
    "ExecuteTime": {
     "end_time": "2023-12-06T12:49:56.156260Z",
     "start_time": "2023-12-06T12:49:56.090617Z"
    }
   }
  },
  {
   "cell_type": "code",
   "execution_count": 102,
   "outputs": [
    {
     "name": "stdout",
     "output_type": "stream",
     "text": [
      "ENCODE\n"
     ]
    },
    {
     "data": {
      "text/plain": "<Figure size 216x288 with 1 Axes>",
      "image/png": "[encoded data removed]"
     },
     "metadata": {
      "image/png": {
       "width": 208,
       "height": 280
      }
     },
     "output_type": "display_data"
    }
   ],
   "source": [
    "print('ENCODE')\n",
    "plt.figure(figsize=(3, 4))\n",
    "ax = plt.axes()\n",
    "ax.title.set_text('Peaks vs promoters AUC')\n",
    "g_results = sns.barplot(data=encode_aps_df, x='tool', y='auc',\n",
    "                        ax=ax,\n",
    "                        capsize=.2, errwidth=2,\n",
    "                        order=['MACS2', 'MACS2 broad', 'SPAN', 'SICER']\n",
    "                        )\n",
    "ax.xaxis.set_tick_params(rotation=90)\n",
    "ax.set_ylabel('AUC')\n",
    "plt.tight_layout()\n",
    "plt.show()"
   ],
   "metadata": {
    "collapsed": false,
    "ExecuteTime": {
     "end_time": "2023-12-06T12:49:56.311902Z",
     "start_time": "2023-12-06T12:49:56.163754Z"
    }
   }
  },
  {
   "cell_type": "code",
   "execution_count": 103,
   "outputs": [
    {
     "data": {
      "text/plain": "       cell replicate   tool       auc\n4  Monocyte            MACS2  0.452883\n6  Monocyte            SICER  0.401190\n8     TCell            MACS2  0.424634",
      "text/html": "<div>\n<style scoped>\n    .dataframe tbody tr th:only-of-type {\n        vertical-align: middle;\n    }\n\n    .dataframe tbody tr th {\n        vertical-align: top;\n    }\n\n    .dataframe thead th {\n        text-align: right;\n    }\n</style>\n<table border=\"1\" class=\"dataframe\">\n  <thead>\n    <tr style=\"text-align: right;\">\n      <th></th>\n      <th>cell</th>\n      <th>replicate</th>\n      <th>tool</th>\n      <th>auc</th>\n    </tr>\n  </thead>\n  <tbody>\n    <tr>\n      <th>4</th>\n      <td>Monocyte</td>\n      <td></td>\n      <td>MACS2</td>\n      <td>0.452883</td>\n    </tr>\n    <tr>\n      <th>6</th>\n      <td>Monocyte</td>\n      <td></td>\n      <td>SICER</td>\n      <td>0.401190</td>\n    </tr>\n    <tr>\n      <th>8</th>\n      <td>TCell</td>\n      <td></td>\n      <td>MACS2</td>\n      <td>0.424634</td>\n    </tr>\n  </tbody>\n</table>\n</div>"
     },
     "execution_count": 103,
     "metadata": {},
     "output_type": "execute_result"
    }
   ],
   "source": [
    "rows = []\n",
    "for (c, r, t), dft in immune_cpf_df.groupby(['cell', 'replicate', 'tool']):\n",
    "    ap = 0\n",
    "    sprev, pprev = 0, 0\n",
    "    for _, row in dft.iterrows():\n",
    "        ap += (row['sensitivity'] - sprev) * (row['precision'] + pprev) / 2\n",
    "        sprev, pprev = row['sensitivity'], row['precision']\n",
    "    rows.append((c, r, t, ap))\n",
    "immune_aps_df = pd.DataFrame(rows, columns=['cell', 'replicate', 'tool', 'auc'])\n",
    "del rows\n",
    "immune_aps_df.sample(3)"
   ],
   "metadata": {
    "collapsed": false,
    "ExecuteTime": {
     "end_time": "2023-12-06T12:49:56.327231Z",
     "start_time": "2023-12-06T12:49:56.321051Z"
    }
   }
  },
  {
   "cell_type": "code",
   "execution_count": 104,
   "outputs": [
    {
     "name": "stdout",
     "output_type": "stream",
     "text": [
      "Roadmap\n"
     ]
    },
    {
     "data": {
      "text/plain": "<Figure size 216x288 with 1 Axes>",
      "image/png": "[encoded data removed]"
     },
     "metadata": {
      "image/png": {
       "width": 208,
       "height": 280
      }
     },
     "output_type": "display_data"
    }
   ],
   "source": [
    "print('Roadmap')\n",
    "plt.figure(figsize=(3, 4))\n",
    "ax = plt.axes()\n",
    "ax.title.set_text('Peaks vs promoters AUC')\n",
    "g_results = sns.barplot(data=immune_aps_df, x='tool', y='auc',\n",
    "                        ax=ax,\n",
    "                        capsize=.2, errwidth=2,\n",
    "                        order=['MACS2', 'MACS2 broad', 'SPAN', 'SICER']\n",
    "                        )\n",
    "ax.xaxis.set_tick_params(rotation=90)\n",
    "ax.set_ylabel('AUC')\n",
    "plt.tight_layout()\n",
    "plt.show()"
   ],
   "metadata": {
    "collapsed": false,
    "ExecuteTime": {
     "end_time": "2023-12-06T12:49:56.500286Z",
     "start_time": "2023-12-06T12:49:56.325083Z"
    }
   }
  },
  {
   "cell_type": "code",
   "execution_count": null,
   "outputs": [],
   "source": [],
   "metadata": {
    "collapsed": false
   }
  }
 ],
 "metadata": {
  "anaconda-cloud": {},
  "kernelspec": {
   "display_name": "Python 3",
   "language": "python",
   "name": "python3"
  },
  "language_info": {
   "codemirror_mode": {
    "name": "ipython",
    "version": 3
   },
   "file_extension": ".py",
   "mimetype": "text/x-python",
   "name": "python",
   "nbconvert_exporter": "python",
   "pygments_lexer": "ipython3",
   "version": "3.8.5"
  },
  "toc": {
   "nav_menu": {},
   "number_sections": true,
   "sideBar": true,
   "skip_h1_title": false,
   "toc_cell": false,
   "toc_position": {},
   "toc_section_display": "block",
   "toc_window_display": false
  }
 },
 "nbformat": 4,
 "nbformat_minor": 2
}
