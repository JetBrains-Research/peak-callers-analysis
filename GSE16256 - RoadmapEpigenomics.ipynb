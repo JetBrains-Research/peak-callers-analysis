{
 "cells": [
  {
   "cell_type": "markdown",
   "metadata": {
    "heading_collapsed": true,
    "pycharm": {
     "name": "#%% md\n"
    }
   },
   "source": [
    "# RoadmapEpigenomics"
   ]
  },
  {
   "cell_type": "code",
   "execution_count": null,
   "metadata": {
    "ExecuteTime": {
     "end_time": "2019-03-07T11:38:12.254230Z",
     "start_time": "2019-03-07T11:38:04.952806Z"
    },
    "hidden": true,
    "pycharm": {
     "name": "#%%\n"
    }
   },
   "outputs": [],
   "source": [
    "%matplotlib inline\n",
    "%config InlineBackend.figure_format='retina'\n",
    "\n",
    "from IPython.display import display\n",
    "import pandas as pd\n",
    "\n",
    "import seaborn as sns\n",
    "sns.set_style(\"whitegrid\")\n",
    "import matplotlib.pyplot as plt\n",
    "from matplotlib.backends.backend_pdf import PdfPages\n",
    "import numpy as np\n",
    "import scipy as sp\n",
    "import os, re\n",
    "import glob\n",
    "from tqdm.auto import tqdm\n",
    "import subprocess, tempfile\n",
    "\n",
    "import plotly.graph_objects as go\n",
    "import plotly.express as px"
   ]
  },
  {
   "cell_type": "code",
   "execution_count": null,
   "metadata": {
    "pycharm": {
     "name": "#%%\n"
    }
   },
   "outputs": [],
   "source": [
    "# Single track per modification per cell\n",
    "CELLS = [\n",
    "    'IMR90', \n",
    "    'H1_Derived_Neuronal_Progenitor_Cultured_Cells', \n",
    "    'iPS_DF_6.9',\n",
    "    'Small_Intestine',\n",
    "    'H1',\n",
    "    'Pancreas',\n",
    "    'iPS_DF_19.11',\n",
    "    'Esophagus',\n",
    "    'H1_Derived_Mesenchymal_Stem_Cells',\n",
    "    'Sigmoid_Colon',\n",
    "    'Spleen',\n",
    "]\n",
    "\n",
    "MODIFICATIONS = ['H3K27me3', 'H3K27ac', 'H3K4me3', 'H3K4me1', 'H3K36me3', 'H3K9me3']\n"
   ]
  },
  {
   "cell_type": "markdown",
   "metadata": {
    "pycharm": {
     "name": "#%% md\n"
    }
   },
   "source": [
    "# Overlapping"
   ]
  },
  {
   "cell_type": "code",
   "execution_count": null,
   "metadata": {
    "pycharm": {
     "name": "#%%\n"
    }
   },
   "outputs": [],
   "source": [
    "from pathlib import Path\n",
    "import bed_metrics as bm\n",
    "\n",
    "def overlap_with_name_level(overlaps, m, l):\n",
    "    dfo = overlaps[(m, l)].melt(value_name='overlap')\n",
    "    dfo['modification'] = m\n",
    "    dfo['level'] = l\n",
    "    return dfo\n",
    "\n",
    "def show_overlap(df):\n",
    "    levels = sorted(set(df['level']))\n",
    "    overlaps = {}\n",
    "    for m in set(df['modification']):\n",
    "        for l in levels:\n",
    "            print('Processing', m, l)\n",
    "            files = df.loc[np.logical_and(df['modification'] == m, df['level'] == l)]['file']\n",
    "            paths = [Path(f) for f in files]\n",
    "            df_path = f'/tmp/overlap_{m}_{l}.tsv'\n",
    "            overlaps[(m, l)] = bm.load_or_build_metrics_table(paths, paths, Path(df_path), jaccard=False)\n",
    "\n",
    "    dfo = pd.concat([overlap_with_name_level(overlaps, m, l) for (m, l) in overlaps])        \n",
    "    dfo_mean = dfo.groupby(['modification', 'level'])['overlap'].mean().reset_index().sort_values(\n",
    "        by=['modification'])\n",
    "    dfo_std = dfo.groupby(['modification', 'level'])['overlap'].std().reset_index().fillna(0).sort_values(\n",
    "        by=['modification']) \n",
    "    fig = go.Figure(layout=go.Layout(title=go.layout.Title(text=\"Overlap\")))\n",
    "    for l in levels:\n",
    "        fig.add_trace(go.Scatter(x=dfo_mean.loc[dfo_mean['level']==l]['modification'], \n",
    "                                 y=dfo_mean.loc[dfo_mean['level']==l]['overlap'], \n",
    "                                 name=f\"{l} mean\", line_shape='linear'))\n",
    "        fig.add_trace(go.Scatter(x=dfo_std.loc[dfo_std['level']==l]['modification'], \n",
    "                                 y=dfo_std.loc[dfo_std['level']==l]['overlap'], \n",
    "                                 name=f\"{l} std\", line_shape='linear', \n",
    "                                 line=dict(dash='dot')))\n",
    "    fig.show()"
   ]
  },
  {
   "cell_type": "markdown",
   "metadata": {
    "pycharm": {
     "name": "#%% md\n"
    }
   },
   "source": [
    "# MACS2"
   ]
  },
  {
   "cell_type": "code",
   "execution_count": null,
   "metadata": {
    "ExecuteTime": {
     "end_time": "2019-03-07T11:38:48.419134Z",
     "start_time": "2019-03-07T11:38:12.260987Z"
    },
    "scrolled": true,
    "pycharm": {
     "name": "#%%\n"
    }
   },
   "outputs": [],
   "source": [
    "MACS2_FOLDER1='~/data/2020_roadmapepigenomics/bed_macs2_q0.05'\n",
    "MACS2_FOLDER2='~/data/2020_roadmapepigenomics/bed_macs2_broad_0.1'\n",
    "MACS2_LEVELS = ['q0.05', 'broad_0.1']\n",
    "\n",
    "dfm = pd.DataFrame(columns=['gsm', 'cell', 'modification', 'level', 'file', 'peaks', 'length'])\n",
    "for file in tqdm(glob.glob(MACS2_FOLDER1 + '/*.narrowPeak') + glob.glob(MACS2_FOLDER2 + '/*.broadPeak')):\n",
    "    level = next((l for l in MACS2_LEVELS if f'_{l}' in file), None)\n",
    "    modification = next((m for m in MODIFICATIONS if f'.{m}.' in file), None)\n",
    "    cell = next((c for c in CELLS if f'.{c}.' in file), None)\n",
    "    if level and modification and cell:\n",
    "        gsm = re.sub('_.*', '', os.path.basename(file))\n",
    "        out = ! awk '{{N+=1;L+=($$3-$$2)}} END{{print(N,L)}}' {file}\n",
    "        if out[0].strip() != '':\n",
    "            peaks, length = out[0].split(' ') \n",
    "        else:\n",
    "            peaks, length = 0, 0\n",
    "        dfm.loc[len(dfm)] = (gsm, cell, modification, f'macs2 {level}', file, peaks, length)\n",
    "        \n",
    "# Fix types\n",
    "dfm['peaks'] = dfm['peaks'].astype(int)\n",
    "dfm['length'] = dfm['length'].astype(int)"
   ]
  },
  {
   "cell_type": "code",
   "execution_count": null,
   "metadata": {
    "scrolled": true,
    "pycharm": {
     "name": "#%%\n"
    }
   },
   "outputs": [],
   "source": [
    "len(dfm)"
   ]
  },
  {
   "cell_type": "code",
   "execution_count": null,
   "metadata": {
    "scrolled": false,
    "pycharm": {
     "name": "#%%\n"
    }
   },
   "outputs": [],
   "source": [
    "dfm['f'] = dfm['modification']\n",
    "dfm_mean = dfm.groupby(['f', 'level'])['peaks'].mean().reset_index().sort_values(by=['f', 'level'])\n",
    "dfm_std = dfm.groupby(['f', 'level'])['peaks'].std().reset_index().fillna(0).sort_values(by=['f', 'level'])\n",
    "\n",
    "fig = go.Figure(layout=go.Layout(title=go.layout.Title(text=\"Peaks\")))\n",
    "for l in sorted(set(dfm_mean['level'])):\n",
    "    fig.add_trace(go.Scatter(x=dfm_mean.loc[dfm_mean['level']==l]['f'], \n",
    "                             y=dfm_mean.loc[dfm_mean['level']==l]['peaks'], \n",
    "                             name=f\"{l} mean\", line_shape='linear'))\n",
    "    fig.add_trace(go.Scatter(x=dfm_std.loc[dfm_std['level']==l]['f'], \n",
    "                             y=dfm_std.loc[dfm_std['level']==l]['peaks'], \n",
    "                             name=f\"{l} std\", line_shape='linear', \n",
    "                             line=dict(dash='dot')))\n",
    "fig.show()"
   ]
  },
  {
   "cell_type": "code",
   "execution_count": null,
   "metadata": {
    "pycharm": {
     "name": "#%%\n"
    }
   },
   "outputs": [],
   "source": [
    "# Show me overlaps   \n",
    "macs2levels2process = set(['macs2 broad_0.1', 'macs2 q0.05'])\n",
    "show_overlap(dfm.loc[[l in macs2levels2process for l in dfm['level']]])"
   ]
  },
  {
   "cell_type": "markdown",
   "metadata": {
    "pycharm": {
     "name": "#%% md\n"
    }
   },
   "source": [
    "# SICER"
   ]
  },
  {
   "cell_type": "code",
   "execution_count": null,
   "metadata": {
    "pycharm": {
     "name": "#%%\n"
    }
   },
   "outputs": [],
   "source": [
    "SICER_FOLDER='~/data/2020_roadmapepigenomics/bams_sicer'\n",
    "SICER_LEVELS = ['FDR0.01']\n",
    "\n",
    "dfsc = pd.DataFrame(columns=['gsm', 'cell', 'modification', 'level', 'file', 'peaks', 'length'])\n",
    "for file in tqdm(glob.glob(SICER_FOLDER + '/*-island.bed')):\n",
    "    level = next((l for l in SICER_LEVELS if f'{l}' in file), None)\n",
    "    modification = next((m for m in MODIFICATIONS if f'.{m}.' in file), None)\n",
    "    cell = next((c for c in CELLS if f'.{c}.' in file), None)\n",
    "    if level and modification and cell:\n",
    "        gsm = re.sub('_.*', '', os.path.basename(file))\n",
    "        out = ! awk '{{N+=1;L+=($$3-$$2)}} END{{print(N,L)}}' {file}\n",
    "        if out[0].strip() != '':\n",
    "            peaks, length = out[0].split(' ') \n",
    "        else:\n",
    "            peaks, length = 0, 0\n",
    "        dfsc.loc[len(dfsc)] = (gsm, cell, modification, f'sicer {level}', file, peaks, length)\n",
    "\n",
    "# Fix types\n",
    "dfsc['peaks'] = dfsc['peaks'].astype(int)\n",
    "dfsc['length'] = dfsc['length'].astype(int)"
   ]
  },
  {
   "cell_type": "code",
   "execution_count": null,
   "metadata": {
    "scrolled": true,
    "pycharm": {
     "name": "#%%\n"
    }
   },
   "outputs": [],
   "source": [
    "len(dfsc)"
   ]
  },
  {
   "cell_type": "code",
   "execution_count": null,
   "metadata": {
    "pycharm": {
     "name": "#%%\n"
    }
   },
   "outputs": [],
   "source": [
    "dfsc['f'] = dfsc['modification']\n",
    "dfsc_mean = dfsc.groupby(['f', 'level'])['peaks'].mean().reset_index().sort_values(by=['f', 'level'])\n",
    "dfsc_std = dfsc.groupby(['f', 'level'])['peaks'].std().reset_index().fillna(0).sort_values(by=['f', 'level'])\n",
    "\n",
    "fig = go.Figure(layout=go.Layout(title=go.layout.Title(text=\"Peaks\")))\n",
    "for l in sorted(set(dfsc_mean['level'])):\n",
    "    fig.add_trace(go.Scatter(x=dfsc_mean.loc[dfsc_mean['level']==l]['f'], \n",
    "                             y=dfsc_mean.loc[dfsc_mean['level']==l]['peaks'], \n",
    "                             name=f\"{l} mean\", line_shape='linear'))\n",
    "    fig.add_trace(go.Scatter(x=dfsc_std.loc[dfsc_std['level']==l]['f'], \n",
    "                             y=dfsc_std.loc[dfsc_std['level']==l]['peaks'], \n",
    "                             name=f\"{l} std\", line_shape='linear', \n",
    "                             line=dict(dash='dot')))\n",
    "fig.show()"
   ]
  },
  {
   "cell_type": "code",
   "execution_count": null,
   "metadata": {
    "pycharm": {
     "name": "#%%\n"
    }
   },
   "outputs": [],
   "source": [
    "# Show me overlaps   \n",
    "sicerlevels2process = set(['sicer FDR0.01', 'sicer FDR0.1'])\n",
    "show_overlap(dfsc.loc[[l in sicerlevels2process for l in dfsc['level']]])"
   ]
  },
  {
   "cell_type": "markdown",
   "metadata": {
    "pycharm": {
     "name": "#%% md\n"
    }
   },
   "source": [
    "# SPAN"
   ]
  },
  {
   "cell_type": "code",
   "execution_count": null,
   "metadata": {
    "pycharm": {
     "name": "#%%\n"
    }
   },
   "outputs": [],
   "source": [
    "SPAN_FOLDER='~/data/2020_roadmapepigenomics/bed_span'\n",
    "GAPS = [0, 5, 10]\n",
    "FDRS = ['0.1', '0.05', '0.01', '0.001', '0.0001', '1e-05', '1e-06', '1e-07', '1e-08', '1e-10', '1e-15', '1e-20']\n",
    "# SPAN_LEVELS = ['200_1E-6_5', '200_0.01_5']\n",
    "SPAN_LEVELS = []\n",
    "for gap in GAPS:\n",
    "    for fdr in FDRS:\n",
    "        SPAN_LEVELS.append(f'200_{fdr}_{gap}')\n",
    "\n",
    "dfs = pd.DataFrame(columns=['gsm', 'cell', 'modification', 'level', 'file', 'peaks', 'length'])\n",
    "for file in tqdm(glob.glob(SPAN_FOLDER + '/*.peak')):\n",
    "    if 'Input' in file:\n",
    "        continue\n",
    "    level = next((l for l in SPAN_LEVELS if f'{l}' in file), None)\n",
    "    modification = next((m for m in MODIFICATIONS if f'.{m}.' in file), None)\n",
    "    cell = next((c for c in CELLS if f'.{c}.' in file), None)\n",
    "    if level and modification and cell:\n",
    "        gsm = re.sub('_.*', '', os.path.basename(file))\n",
    "        out = ! awk '{{N+=1;L+=($$3-$$2)}} END{{print(N,L)}}' {file}\n",
    "        if out[0].strip() != '':\n",
    "            peaks, length = out[0].split(' ') \n",
    "        else:\n",
    "            peaks, length = 0, 0\n",
    "        dfs.loc[len(dfs)] = (gsm, cell, modification, f'span {level}', file, peaks, length)\n",
    "        \n",
    "# Fix types\n",
    "dfs['peaks'] = dfs['peaks'].astype(int)\n",
    "dfs['length'] = dfs['length'].astype(int)"
   ]
  },
  {
   "cell_type": "code",
   "execution_count": null,
   "metadata": {
    "scrolled": true,
    "pycharm": {
     "name": "#%%\n"
    }
   },
   "outputs": [],
   "source": [
    "len(dfs)"
   ]
  },
  {
   "cell_type": "code",
   "execution_count": null,
   "metadata": {
    "pycharm": {
     "name": "#%%\n"
    }
   },
   "outputs": [],
   "source": [
    "import re\n",
    "dfs['fdr'] = [float(re.sub('span 200_|_(0|5|10)', '', l)) for l in dfs['level']]\n",
    "dfs['gap'] = [int(re.sub('.*_', '', l)) for l in dfs['level']]\n",
    "dfs.sort_values(by=['fdr', 'gap'], inplace=True)\n",
    "dfs.head()"
   ]
  },
  {
   "cell_type": "code",
   "execution_count": null,
   "metadata": {
    "pycharm": {
     "name": "#%%\n"
    }
   },
   "outputs": [],
   "source": [
    "# dfs['f'] = dfs['modification']\n",
    "# dfs_mean = dfs.groupby(['f', 'level'])['peaks'].mean().reset_index().sort_values(by=['f', 'level'])\n",
    "# dfs_std = dfs.groupby(['f', 'level'])['peaks'].std().reset_index().fillna(0).sort_values(by=['f', 'level'])\n",
    "\n",
    "# fig = go.Figure(layout=go.Layout(title=go.layout.Title(text=\"Peaks\")))\n",
    "# for l in sorted(set(dfs_mean['level'])):\n",
    "#     fig.add_trace(go.Scatter(x=dfs_mean.loc[dfs_mean['level']==l]['f'], \n",
    "#                              y=dfs_mean.loc[dfs_mean['level']==l]['peaks'], \n",
    "#                              name=f\"{l} mean\", line_shape='linear'))\n",
    "#     fig.add_trace(go.Scatter(x=dfs_std.loc[dfs_std['level']==l]['f'], \n",
    "#                              y=dfs_std.loc[dfs_std['level']==l]['peaks'], \n",
    "#                              name=f\"{l} std\", line_shape='linear', \n",
    "#                              line=dict(dash='dot')))\n",
    "# fig.show()"
   ]
  },
  {
   "cell_type": "code",
   "execution_count": null,
   "metadata": {
    "scrolled": true,
    "pycharm": {
     "name": "#%%\n"
    }
   },
   "outputs": [],
   "source": [
    "# Plot peaks number versus FDR for different modifications and GAPs\n",
    "for m in sorted(set(dfs['modification'])):\n",
    "    t = dfs.loc[dfs['modification'] == m]\n",
    "    for gap in sorted(set(dfs['gap'])):\n",
    "        t2 = t.loc[t['gap']==gap]\n",
    "        fig = go.Figure()\n",
    "        for cell in set(t2['cell']):\n",
    "            t3 = t2.loc[t2['cell'] == cell]\n",
    "            fig.add_trace(go.Scatter(x=np.log10(t3[\"fdr\"]), y=t3[\"peaks\"], \n",
    "                                     mode='lines+markers',\n",
    "                                     name=cell))\n",
    "        fig.update_xaxes(title='log10 fdr')\n",
    "        fig.update_yaxes(title=f'{m} gap {gap} peaks')\n",
    "        fig.show()"
   ]
  },
  {
   "cell_type": "code",
   "execution_count": null,
   "metadata": {
    "pycharm": {
     "name": "#%%\n"
    }
   },
   "outputs": [],
   "source": [
    "# Plot estimated signal to noise ratio for cells and modifications\n",
    "sndf = pd.read_csv('~/data/2020_roadmapepigenomics/bed_span/sn.tsv', sep='\\t',\n",
    "                   names=['file', 'gsm', 'cell', 'modification', 'sn'])\n",
    "sndf.head()"
   ]
  },
  {
   "cell_type": "code",
   "execution_count": null,
   "metadata": {
    "pycharm": {
     "name": "#%%\n"
    }
   },
   "outputs": [],
   "source": [
    "fig = go.Figure()\n",
    "for m in sorted(set(sndf['modification'])):\n",
    "    t = sndf.loc[sndf['modification'] == m].copy()\n",
    "    t.sort_values(by=['cell'], inplace=True)\n",
    "    fig.add_trace(go.Scatter(x=t['cell'], y=np.log10(t['sn']), \n",
    "                             mode='lines+markers',\n",
    "                             name=m))\n",
    "fig.update_xaxes(title='cell')\n",
    "fig.update_yaxes(title=f'Signal to noise estimation log10')\n",
    "fig.show()"
   ]
  },
  {
   "cell_type": "markdown",
   "metadata": {
    "pycharm": {
     "name": "#%% md\n"
    }
   },
   "source": [
    "# Coverage analysis"
   ]
  },
  {
   "cell_type": "code",
   "execution_count": null,
   "metadata": {
    "pycharm": {
     "name": "#%%\n"
    }
   },
   "outputs": [],
   "source": [
    "from io import StringIO\n",
    "\n",
    "ts = []\n",
    "for info in tqdm(glob.glob('/mnt/stripe/bio/experiments/span_peak_calling_contrast/*.info')):\n",
    "    name = os.path.basename(info)\n",
    "    gsm = re.findall('(GSM[0-9]+)', name)[0]\n",
    "    with open(info) as t:\n",
    "        info = ''.join(t.readlines())\n",
    "        if 'Error' in info:\n",
    "            continue\n",
    "#         print(info)\n",
    "        sn = float(re.findall('Signal to noise: ([0-9\\.]+)', info)[0])\n",
    "#         print('SN', sn)\n",
    "        totalscore = int(re.findall('Total Score: ([0-9]+)', info)[0])\n",
    "#         print('TS', totalscore)\n",
    "        dft = re.sub('(.|\\n)+Total Score:[^\\n]+\\n', '', info)\n",
    "        t = pd.read_csv(StringIO(dft), sep='\\t')\n",
    "        t['GSM'] = gsm\n",
    "        t['SNR'] = sn\n",
    "        t['TOTAL_SCORE'] = totalscore\n",
    "        ts.append(t)\n",
    "t = pd.concat(ts)\n",
    "\n",
    "t['PEAKS_RPKM'] = t['PEAKS_SCORE'] / (t['PEAKS_LENGTH'] / 1000) / (t['TOTAL_SCORE'] / 1000000)\n",
    "t['SHORES_RPKM'] = t['SHORES_SCORE'] / (t['SHORES_LENGTH'] / 1000) / (t['TOTAL_SCORE'] / 1000000)\n",
    "t['CONTRAST'] = t['PEAKS_RPKM'] / t['SHORES_RPKM']\n",
    "infodf = t\n",
    "infodf.head()"
   ]
  },
  {
   "cell_type": "code",
   "execution_count": null,
   "metadata": {
    "pycharm": {
     "name": "#%%\n"
    }
   },
   "outputs": [],
   "source": [
    "t = pd.merge(left=infodf, left_on='GSM', right=dfs[['gsm', 'cell', 'modification']].drop_duplicates(), right_on='gsm')\n",
    "# Cleanup outliers\n",
    "t = t.loc[np.logical_not(t['cell'].isin(['iPS_DF_6.9', 'iPS_DF_19.11', 'Spleen', 'IMR90']))]\n",
    "infodf = t\n",
    "infodf.head()"
   ]
  },
  {
   "cell_type": "code",
   "execution_count": null,
   "metadata": {
    "pycharm": {
     "name": "#%%\n"
    }
   },
   "outputs": [],
   "source": [
    "import matplotlib\n",
    "\n",
    "def rgb2hex(r, g, b):\n",
    "    r, g, b = r * 255, g * 255, b * 255\n",
    "    return \"#{0:02x}{1:02x}{2:02x}\".format(int(r), int(g), int(b))\n",
    "\n",
    "cells = list(set(infodf['cell']))\n",
    "cmap = matplotlib.cm.get_cmap('tab20', len(cells))\n",
    "cell_colors = dict(zip(cells, [rgb2hex(*cmap(i)[:3]) for i in range(len(cells))]))\n",
    "cell_colors"
   ]
  },
  {
   "cell_type": "code",
   "execution_count": null,
   "metadata": {
    "scrolled": false,
    "pycharm": {
     "name": "#%%\n"
    }
   },
   "outputs": [],
   "source": [
    "# Peaks number vs FDR\n",
    "for m in set(infodf['modification']):\n",
    "    tm = infodf.loc[infodf['modification'] == m]\n",
    "    fig = go.Figure()\n",
    "    \n",
    "    for g in sorted(set(tm['GAP'])):\n",
    "        tmg = tm.loc[tm['GAP'] == g]\n",
    "        for c in sorted(set(tmg['cell'])):\n",
    "            tmgc = tmg.loc[tmg['cell']==c].copy()\n",
    "            tmgc.sort_values(by=['FDR'], inplace=True)\n",
    "            if g == 0:\n",
    "                fig.add_trace(go.Scatter(x=np.log10(tmgc['FDR']), y=tmgc['PEAKS_NUMBER'], \n",
    "                         mode='lines',\n",
    "                         name=f'{c} {g}',\n",
    "                         line = dict(color=cell_colors[c], width=2, dash='dash')))\n",
    "            elif g == 5:\n",
    "                fig.add_trace(go.Scatter(x=np.log10(tmgc['FDR']), y=tmgc['PEAKS_NUMBER'], \n",
    "                         mode='lines',\n",
    "                         name=f'{c} {g}',\n",
    "                         line = dict(color=cell_colors[c], width=2)))\n",
    "            elif g == 10:\n",
    "                fig.add_trace(go.Scatter(x=np.log10(tmgc['FDR']), y=tmgc['PEAKS_NUMBER'], \n",
    "                         mode='lines',\n",
    "                         name=f'{c} {g}',\n",
    "                         line = dict(color=cell_colors[c], width=2, dash='dot')))\n",
    "\n",
    "    fig.update_xaxes(title=f'{m} Log10 FDR')\n",
    "    fig.update_yaxes(title=f'{m} Peaks')\n",
    "    fig.show()"
   ]
  },
  {
   "cell_type": "code",
   "execution_count": null,
   "metadata": {
    "scrolled": false,
    "pycharm": {
     "name": "#%%\n"
    }
   },
   "outputs": [],
   "source": [
    "infodf['PEAKS_AVG_LENGTH'] = infodf['PEAKS_LENGTH'] / infodf['PEAKS_NUMBER']\n",
    "# Peaks number vs Peaks average length\n",
    "for m in set(infodf['modification']):\n",
    "    tm = infodf.loc[infodf['modification'] == m]\n",
    "    fig = go.Figure()\n",
    "    \n",
    "    for g in sorted(set(tm['GAP'])):\n",
    "        tmg = tm.loc[tm['GAP'] == g]\n",
    "        for c in sorted(set(tmg['cell'])):\n",
    "            tmgc = tmg.loc[tmg['cell']==c].copy()\n",
    "            tmgc.sort_values(by=['FDR'], inplace=True)\n",
    "            if g == 0:\n",
    "                fig.add_trace(go.Scatter(x=tmgc['PEAKS_NUMBER'], y=tmgc['PEAKS_AVG_LENGTH'], \n",
    "                         mode='lines',\n",
    "                         name=f'{c} {g}',\n",
    "                         line = dict(color=cell_colors[c], width=2, dash='dash')))\n",
    "            elif g == 5:\n",
    "                fig.add_trace(go.Scatter(x=tmgc['PEAKS_NUMBER'], y=tmgc['PEAKS_AVG_LENGTH'], \n",
    "                         mode='lines',\n",
    "                         name=f'{c} {g}',\n",
    "                         line = dict(color=cell_colors[c], width=2)))\n",
    "            elif g == 10:\n",
    "                fig.add_trace(go.Scatter(x=tmgc['PEAKS_NUMBER'], y=tmgc['PEAKS_AVG_LENGTH'], \n",
    "                         mode='lines',\n",
    "                         name=f'{c} {g}',\n",
    "                         line = dict(color=cell_colors[c], width=2, dash='dot')))\n",
    "\n",
    "    fig.update_xaxes(title=f'{m} Peaks number')\n",
    "    fig.update_yaxes(title=f'{m} Peaks average length')\n",
    "    fig.show()"
   ]
  },
  {
   "cell_type": "code",
   "execution_count": null,
   "metadata": {
    "scrolled": false,
    "pycharm": {
     "name": "#%%\n"
    }
   },
   "outputs": [],
   "source": [
    "# # Contrast vs FDR\n",
    "# for m in set(infodf['modification']):\n",
    "#     tm = infodf.loc[infodf['modification'] == m]\n",
    "#     for g in sorted(set(tm['GAP'])):\n",
    "#         tmg = tm.loc[tm['GAP'] == g]\n",
    "#         fig = go.Figure()\n",
    "#         for c in sorted(set(tmg['cell'])):\n",
    "#             tmgc = tmg.loc[tmg['cell']==c].copy()\n",
    "#             tmgc.sort_values(by=['FDR'], inplace=True)\n",
    "#             fig.add_trace(go.Scatter(x=np.log10(tmgc['FDR']), y=tmgc['CONTRAST'], \n",
    "#                                      mode='lines+markers',\n",
    "#                                      name=c))\n",
    "#         fig.update_xaxes(title=f'{m} Log10 FDR')\n",
    "#         fig.update_yaxes(title=f'{m} gap {g} Contrast')\n",
    "#         fig.show()"
   ]
  },
  {
   "cell_type": "code",
   "execution_count": null,
   "metadata": {
    "scrolled": false,
    "pycharm": {
     "name": "#%%\n"
    }
   },
   "outputs": [],
   "source": [
    "# Contrast vs Peaks RPKM\n",
    "for m in set(infodf['modification']):\n",
    "    tm = infodf.loc[infodf['modification'] == m]\n",
    "    display(tm.loc[np.logical_and(t['GAP']==5, t['FDR'].isin([0.1, 1e-6]))][\n",
    "        ['modification', 'cell', 'GAP', 'FDR', 'SNR', 'PEAKS_NUMBER', 'PEAKS_RPKM', 'CONTRAST']\n",
    "    ].sort_values(by=['cell']))\n",
    "    for g in sorted(set(tm['GAP'])):\n",
    "        tmg = tm.loc[tm['GAP'] == g]\n",
    "        fig = go.Figure()\n",
    "        for c in sorted(set(tmg['cell'])):\n",
    "            tmgc = tmg.loc[tmg['cell']==c].copy()\n",
    "            tmgc.sort_values(by=['FDR'], inplace=True)\n",
    "            fig.add_trace(go.Scatter(x=np.log10(tmgc['PEAKS_RPKM']), y=tmgc['CONTRAST'], \n",
    "                                     mode='lines+markers',\n",
    "                                     name=c))\n",
    "        fig.update_xaxes(title=f'{m} Peaks log10 RPKM')\n",
    "        fig.update_yaxes(title=f'{m} gap {g} Contrast')\n",
    "        fig.show()"
   ]
  },
  {
   "cell_type": "code",
   "execution_count": null,
   "metadata": {
    "scrolled": false,
    "pycharm": {
     "name": "#%%\n"
    }
   },
   "outputs": [],
   "source": [
    "# Contrast vs Peaks RPKM\n",
    "for m in set(infodf['modification']):\n",
    "    tm = infodf.loc[infodf['modification'] == m]\n",
    "    fig = go.Figure()\n",
    "    display(tm.loc[np.logical_and(t['GAP']==5, t['FDR'].isin([0.1, 1e-6]))][\n",
    "        ['modification', 'cell', 'GAP', 'FDR', 'SNR', 'PEAKS_NUMBER', 'PEAKS_RPKM', 'CONTRAST']\n",
    "    ].sort_values(by=['cell']))\n",
    "    \n",
    "    for g in sorted(set(tm['GAP'])):\n",
    "        tmg = tm.loc[tm['GAP'] == g]\n",
    "        for c in sorted(set(tmg['cell'])):\n",
    "            tmgc = tmg.loc[tmg['cell']==c].copy()\n",
    "            tmgc.sort_values(by=['FDR'], inplace=True)\n",
    "            if g == 0:\n",
    "                fig.add_trace(go.Scatter(x=np.log10(tmgc['PEAKS_RPKM']), y=tmgc['CONTRAST'], \n",
    "                         mode='lines',\n",
    "                         name=f'{c} {g}',\n",
    "                         line = dict(color=cell_colors[c], width=2, dash='dash')))\n",
    "            elif g == 5:\n",
    "                fig.add_trace(go.Scatter(x=np.log10(tmgc['PEAKS_RPKM']), y=tmgc['CONTRAST'], \n",
    "                         mode='lines',\n",
    "                         name=f'{c} {g}',\n",
    "                         line = dict(color=cell_colors[c], width=2)))\n",
    "            elif g == 10:\n",
    "                fig.add_trace(go.Scatter(x=np.log10(tmgc['PEAKS_RPKM']), y=tmgc['CONTRAST'], \n",
    "                         mode='lines',\n",
    "                         name=f'{c} {g}',\n",
    "                         line = dict(color=cell_colors[c], width=2, dash='dot')))\n",
    "\n",
    "    fig.update_xaxes(title=f'{m} Peaks log10 RPKM')\n",
    "    fig.update_yaxes(title=f'{m} Contrast')\n",
    "    fig.show()"
   ]
  },
  {
   "cell_type": "code",
   "execution_count": null,
   "metadata": {
    "scrolled": false,
    "pycharm": {
     "name": "#%%\n"
    }
   },
   "outputs": [],
   "source": [
    "# # Contrast vs Peaks number\n",
    "# for m in set(infodf['modification']):\n",
    "#     tm = infodf.loc[infodf['modification'] == m]\n",
    "#     display(tm.loc[np.logical_and(t['GAP']==5, t['FDR']==0.1)][\n",
    "#         ['modification', 'cell', 'SNR', 'PEAKS_NUMBER', 'PEAKS_RPKM', 'CONTRAST']\n",
    "#     ].sort_values(by=['cell']))\n",
    "#     for g in sorted(set(tm['GAP'])):\n",
    "#         tmg = tm.loc[tm['GAP'] == g]\n",
    "#         fig = go.Figure()\n",
    "#         for c in sorted(set(tmg['cell'])):\n",
    "#             tmgc = tmg.loc[tmg['cell']==c].copy()\n",
    "#             tmgc.sort_values(by=['FDR'], inplace=True)\n",
    "#             fig.add_trace(go.Scatter(x=np.log10(tmgc['PEAKS_NUMBER']), y=tmgc['CONTRAST'], \n",
    "#                                      mode='lines+markers',\n",
    "#                                      name=c))\n",
    "#         fig.update_xaxes(title=f'{m} Peaks log10 number')\n",
    "#         fig.update_yaxes(title=f'{m} gap {g} Contrast')\n",
    "#         fig.show()"
   ]
  },
  {
   "cell_type": "code",
   "execution_count": null,
   "metadata": {
    "scrolled": true,
    "pycharm": {
     "name": "#%%\n"
    }
   },
   "outputs": [],
   "source": [
    "# Model signal to noise vs number of peaks\n",
    "import plotly.express as px\n",
    "for level in ['span 200_0.01_0', 'span 200_0.01_5', 'span 200_0.01_10', \n",
    "              'span 200_1e-06_0', 'span 200_1e-06_5', 'span 200_1e-06_10',\n",
    "              'span 200_1e-10_0', 'span 200_1e-10_5', 'span 200_1e-10_10',\n",
    "             'span 200_0.0001_10']:\n",
    "    t = dfs.loc[dfs['level']==level]\n",
    "    t = pd.merge(left=t, right=sndf, left_on='gsm', right_on='gsm')\n",
    "    t = t.loc[t['modification_x']!='H3K9me3']\n",
    "    fig = px.scatter(t, x='sn', y='peaks', color='modification_x')\n",
    "#     fig.update_xaxes(title='cell')\n",
    "    fig.update_yaxes(title=f'peaks {level}')\n",
    "    fig.show()"
   ]
  },
  {
   "cell_type": "code",
   "execution_count": null,
   "metadata": {
    "pycharm": {
     "name": "#%%\n"
    }
   },
   "outputs": [],
   "source": [
    "# Real signal-to-noise ratio\n",
    "infodf['REAL_SNR'] = (infodf['PEAKS_SCORE'] / infodf['PEAKS_LENGTH']) / (infodf['TOTAL_SCORE'] - infodf['PEAKS_SCORE']) * (3*10e9 - infodf['PEAKS_LENGTH'])\n",
    "infodf.head()"
   ]
  },
  {
   "cell_type": "code",
   "execution_count": null,
   "metadata": {
    "scrolled": false,
    "pycharm": {
     "name": "#%%\n"
    }
   },
   "outputs": [],
   "source": [
    "# FDR vs REAL signal to noise\n",
    "for m in set(infodf['modification']):\n",
    "    tm = infodf.loc[infodf['modification'] == m]\n",
    "    fig = go.Figure()\n",
    "    \n",
    "    for g in sorted(set(tm['GAP'])):\n",
    "        tmg = tm.loc[tm['GAP'] == g]\n",
    "        for c in sorted(set(tmg['cell'])):\n",
    "            tmgc = tmg.loc[tmg['cell']==c].copy()\n",
    "            tmgc.sort_values(by=['FDR'], inplace=True)\n",
    "            if g == 0:\n",
    "                fig.add_trace(go.Scatter(x=np.log10(tmgc['FDR']), y=np.log10(tmgc['REAL_SNR']), \n",
    "                         mode='lines+markers',\n",
    "                         name=f'{c} {g}',\n",
    "                         line = dict(color=cell_colors[c], width=1, dash='dash')))\n",
    "            elif g == 5:\n",
    "                fig.add_trace(go.Scatter(x=np.log10(tmgc['FDR']), y=np.log10(tmgc['REAL_SNR']), \n",
    "                                         mode='lines+markers',\n",
    "                                         name=f'{c} {g}',\n",
    "                                         line = dict(color=cell_colors[c], width=1)))\n",
    "            elif g == 10:\n",
    "                fig.add_trace(go.Scatter(x=np.log10(tmgc['FDR']), y=np.log10(tmgc['REAL_SNR']), \n",
    "                         mode='lines+markers',\n",
    "                         name=f'{c} {g}',\n",
    "                         line = dict(color=cell_colors[c], width=1, dash='dot')))\n",
    "\n",
    "    fig.update_xaxes(title='Log10 FDR')\n",
    "    fig.update_yaxes(title=f'{m} gap {g} Log10 SNR')\n",
    "    fig.show()"
   ]
  },
  {
   "cell_type": "code",
   "execution_count": null,
   "metadata": {
    "scrolled": true,
    "pycharm": {
     "name": "#%%\n"
    }
   },
   "outputs": [],
   "source": [
    "# PEAKS NUMBER vs REAL signal to noise\n",
    "for m in set(infodf['modification']):\n",
    "    tm = infodf.loc[infodf['modification'] == m]\n",
    "    fig = go.Figure()\n",
    "    \n",
    "    for g in sorted(set(tm['GAP'])):\n",
    "        tmg = tm.loc[tm['GAP'] == g]\n",
    "        for c in sorted(set(tmg['cell'])):\n",
    "            tmgc = tmg.loc[tmg['cell']==c].copy()\n",
    "            tmgc.sort_values(by=['FDR'], inplace=True)\n",
    "            if g == 0:\n",
    "                fig.add_trace(go.Scatter(x=np.log10(tmgc['PEAKS_NUMBER']), y=np.log10(tmgc['REAL_SNR']), \n",
    "                         mode='lines+markers',\n",
    "                         name=f'{c} {g}',\n",
    "                         line = dict(color=cell_colors[c], width=1, dash='dash')))\n",
    "            elif g == 5:\n",
    "                fig.add_trace(go.Scatter(x=np.log10(tmgc['PEAKS_NUMBER']), y=np.log10(tmgc['REAL_SNR']), \n",
    "                                         mode='lines+markers',\n",
    "                                         name=f'{c} {g}',\n",
    "                                         line = dict(color=cell_colors[c], width=1)))\n",
    "            elif g == 10:\n",
    "                fig.add_trace(go.Scatter(x=np.log10(tmgc['PEAKS_NUMBER']), y=np.log10(tmgc['REAL_SNR']), \n",
    "                         mode='lines+markers',\n",
    "                         name=f'{c} {g}',\n",
    "                         line = dict(color=cell_colors[c], width=1, dash='dot')))\n",
    "\n",
    "    fig.update_xaxes(title='Log10 Peaks number')\n",
    "    fig.update_yaxes(title=f'{m} gap {g} Log10 SNR')\n",
    "    fig.show()"
   ]
  },
  {
   "cell_type": "code",
   "execution_count": null,
   "metadata": {
    "scrolled": false,
    "pycharm": {
     "name": "#%%\n"
    }
   },
   "outputs": [],
   "source": [
    "# Show me overlaps   \n",
    "spanlevels2process = set(['span tuned', 'span 200_1E-6_5', 'span 200_0.01_5'])\n",
    "show_overlap(dfs.loc[[l in spanlevels2process for l in dfs['level']]])"
   ]
  },
  {
   "cell_type": "markdown",
   "metadata": {
    "pycharm": {
     "name": "#%% md\n"
    }
   },
   "source": [
    "# Summary"
   ]
  },
  {
   "cell_type": "code",
   "execution_count": null,
   "metadata": {
    "pycharm": {
     "name": "#%%\n"
    }
   },
   "outputs": [],
   "source": [
    "dfa = pd.concat([dfm.loc[[l in macs2levels2process for l in dfm['level']]],\n",
    "                 dfsc.loc[[l in sicerlevels2process for l in dfsc['level']]],\n",
    "                 dfs.loc[[l in spanlevels2process for l in dfs['level']]]])"
   ]
  },
  {
   "cell_type": "code",
   "execution_count": null,
   "metadata": {
    "pycharm": {
     "name": "#%%\n"
    }
   },
   "outputs": [],
   "source": [
    "dfa['f'] = dfa['modification']\n",
    "dfa_mean = dfa.groupby(['f', 'level'])['peaks'].mean().reset_index().sort_values(by=['f', 'level'])\n",
    "dfa_std = dfa.groupby(['f', 'level'])['peaks'].std().reset_index().fillna(0).sort_values(by=['f', 'level'])\n",
    "\n",
    "fig = go.Figure(layout=go.Layout(title=go.layout.Title(text=\"Peaks\")))\n",
    "for l in sorted(set(dfa_mean['level'])):\n",
    "    fig.add_trace(go.Scatter(x=dfa_mean.loc[dfa_mean['level']==l]['f'], \n",
    "                             y=dfa_mean.loc[dfa_mean['level']==l]['peaks'], \n",
    "                             name=f\"{l} mean\", line_shape='linear'))\n",
    "    fig.add_trace(go.Scatter(x=dfa_std.loc[dfa_std['level']==l]['f'], \n",
    "                             y=dfa_std.loc[dfa_std['level']==l]['peaks'], \n",
    "                             name=f\"{l} std\", line_shape='linear', \n",
    "                             line=dict(dash='dot')))\n",
    "fig.show()"
   ]
  },
  {
   "cell_type": "code",
   "execution_count": null,
   "metadata": {
    "pycharm": {
     "name": "#%%\n"
    }
   },
   "outputs": [],
   "source": [
    "dfa['avg_length'] = dfa['length'] / dfa['peaks']\n",
    "dfa.loc[~np.isfinite(dfa[\"avg_length\"]), \"avg_length\"] = 0.0"
   ]
  },
  {
   "cell_type": "code",
   "execution_count": null,
   "metadata": {
    "scrolled": false,
    "pycharm": {
     "name": "#%%\n"
    }
   },
   "outputs": [],
   "source": [
    "# # List file to create session\n",
    "# for m in MODIFICATIONS:\n",
    "#     for c in CELLS:\n",
    "#         bw = glob.glob(f'~/data/2020_roadmapepigenomics/bams_bws/*{c}.{m}.*.bw')[0]\n",
    "#         print(bw)\n",
    "#         dfcm = dfa.loc[np.logical_and(dfa['cell']==c, dfa['modification']==m)]\n",
    "#         for l in sorted(set(dfa['level'])):\n",
    "#             peaks = list(dfcm.loc[dfcm['level'] == l]['file'])\n",
    "#             if peaks:\n",
    "#                 peaks = peaks[0]\n",
    "#                 print(f'{os.path.dirname(peaks)}/bb/{os.path.basename(peaks)}.bb')"
   ]
  },
  {
   "cell_type": "markdown",
   "metadata": {
    "pycharm": {
     "name": "#%% md\n"
    }
   },
   "source": [
    "# Groups analysis"
   ]
  },
  {
   "cell_type": "code",
   "execution_count": null,
   "metadata": {
    "pycharm": {
     "name": "#%%\n"
    }
   },
   "outputs": [],
   "source": [
    "def plot_data_cells(df, cid, value, description):\n",
    "    cids = sorted(set(df[cid]))\n",
    "    axs = {}\n",
    "    total = len(cids) * 3\n",
    "    fig = plt.figure(figsize=(int(total * .75), 4))\n",
    "    offset = 0\n",
    "    for m in MODIFICATIONS:\n",
    "        data = df.loc[df['modification'] == m].sort_values(by=[cid])\n",
    "        xlabels = []\n",
    "        for c in data[cid]:\n",
    "            if c not in xlabels:\n",
    "                xlabels.append(c)\n",
    "        w = len(cids)\n",
    "        ax = plt.subplot2grid((1, total), (0, offset), colspan=w)\n",
    "\n",
    "        sns.barplot(data=data, \n",
    "                     x=cid, y=value,\n",
    "                     ci=\"sd\", capsize=.2, errwidth=2,\n",
    "                     edgecolor=\"black\",\n",
    "                     ax = ax)\n",
    "\n",
    "        sns.swarmplot(data=data,\n",
    "                      x=cid, y=value,\n",
    "                      size=1,\n",
    "                      color=\"black\",\n",
    "                      alpha=0.5,\n",
    "                      ax = ax)\n",
    "        ax.legend().set_visible(False)\n",
    "        axs[ax] = plt.ylim()\n",
    "        if offset > 0:\n",
    "            ax.get_yaxis().set_ticklabels([])\n",
    "            ax.set_ylabel('')\n",
    "        else:\n",
    "            ax.set_ylabel(description)\n",
    "        \n",
    "        offset += w\n",
    "        ax.set_xlabel('')\n",
    "        ax.set_title(m)\n",
    "        plt.xticks(range(0, len(xlabels)), xlabels, rotation=45)\n",
    "            \n",
    "    ymin = np.min([v[0] for v in axs.values()])\n",
    "    ymax = np.max([v[1] for v in axs.values()])\n",
    " \n",
    "    for ax in axs.keys():\n",
    "        ax.set_ylim(bottom = ymin, top = ymax)\n",
    "    plt.tight_layout()"
   ]
  },
  {
   "cell_type": "code",
   "execution_count": null,
   "metadata": {
    "pycharm": {
     "name": "#%%\n"
    }
   },
   "outputs": [],
   "source": [
    "plot_data_cells(dfa, 'level', 'peaks', 'Peaks')\n",
    "plt.show()\n",
    "plot_data_cells(dfa, 'level', 'avg_length', 'Average peak length')\n",
    "plt.show()"
   ]
  },
  {
   "cell_type": "code",
   "execution_count": null,
   "metadata": {
    "pycharm": {
     "name": "#%%\n"
    }
   },
   "outputs": [],
   "source": [
    "dfa['f'] = dfa['level']\n",
    "plot_data_cells(dfa, 'f', 'peaks', 'Peaks')\n",
    "plt.show()\n",
    "plot_data_cells(dfa, 'f', 'avg_length', 'Average peak length')\n",
    "plt.show()"
   ]
  },
  {
   "cell_type": "markdown",
   "metadata": {
    "pycharm": {
     "name": "#%% md\n"
    }
   },
   "source": [
    "# Overlap"
   ]
  },
  {
   "cell_type": "code",
   "execution_count": null,
   "metadata": {
    "scrolled": true,
    "pycharm": {
     "name": "#%%\n"
    }
   },
   "outputs": [],
   "source": [
    "def compute_overlap(df):\n",
    "    # Compute overlaps\n",
    "    dft = pd.DataFrame(columns=['id', 'modification', 'level', 'overlap'])\n",
    "    levels = sorted(set(df['level']))\n",
    "    for m in ['K27ac', 'K4me1', 'K4me3']:\n",
    "        for l in levels:\n",
    "            paths = [Path(f) for f in df.loc[np.logical_and(df['modification']==m, df['level']==l)]['file']]\n",
    "            df_path = f'/tmp/overlap_{m}_{l}.tsv'\n",
    "            mt = bm.load_or_build_metrics_table(paths, paths, Path(df_path),\n",
    "                                                jaccard=False,\n",
    "                                                threads=30)\n",
    "            for row in mt.index:\n",
    "                for col in mt.columns:\n",
    "                    overlap = mt.loc[row][col]\n",
    "                    dft.loc[len(dft)] = (f'{row}@{col}', m, l, overlap)\n",
    "    return dft"
   ]
  },
  {
   "cell_type": "code",
   "execution_count": null,
   "metadata": {
    "scrolled": true,
    "pycharm": {
     "name": "#%%\n"
    }
   },
   "outputs": [],
   "source": [
    "df_overlap = compute_overlap(dfa)\n",
    "plot_data_cells(df_overlap, 'level', 'overlap', 'Overlaps')"
   ]
  },
  {
   "cell_type": "code",
   "execution_count": null,
   "metadata": {
    "pycharm": {
     "name": "#%%\n"
    }
   },
   "outputs": [],
   "source": [
    "library_sizes = pd.read_csv(\n",
    "    '~/data/2020_GSE104284_replicated_k27ac_k4me1_k4me3/samples-filtered.tsv', sep='\\t'\n",
    ")\n",
    "library_sizes"
   ]
  },
  {
   "cell_type": "code",
   "execution_count": null,
   "metadata": {
    "pycharm": {
     "name": "#%%\n"
    }
   },
   "outputs": [],
   "source": [
    "mseqs = np.zeros(len(dfa))\n",
    "for i, gsm in enumerate(tqdm(dfa['gsm'])):\n",
    "    value = library_sizes.loc[[gsm in sn for sn in library_sizes['Sample Name']]]['M Total seqs']\n",
    "    if len(value) == 0:\n",
    "        print(f'Nothing found for {gsm}')\n",
    "        value = 0\n",
    "    mseqs[i] = value"
   ]
  },
  {
   "cell_type": "code",
   "execution_count": null,
   "metadata": {
    "pycharm": {
     "name": "#%%\n"
    }
   },
   "outputs": [],
   "source": [
    "t = dfa[['level', 'peaks', 'modification']].copy()\n",
    "t['mseqs'] = mseqs\n",
    "t = t.loc[t['level'].isin(['span tuned', 'macs2 broad_0.1', 'sicer FDR0.01'])]\n",
    "t"
   ]
  },
  {
   "cell_type": "code",
   "execution_count": null,
   "metadata": {
    "scrolled": false,
    "pycharm": {
     "name": "#%%\n"
    }
   },
   "outputs": [],
   "source": [
    "for m in set(t['modification']):\n",
    "    plt.figure(figsize=(10, 10))\n",
    "    sns.scatterplot(x='mseqs', y='peaks', hue='level', data=t.loc[t['modification'] == m], s=100)\n",
    "    plt.suptitle(m)\n",
    "    plt.show()"
   ]
  },
  {
   "cell_type": "code",
   "execution_count": null,
   "metadata": {
    "scrolled": false,
    "pycharm": {
     "name": "#%%\n"
    }
   },
   "outputs": [],
   "source": [
    "from matplotlib.patches import Patch\n",
    "\n",
    "cmaps = ['Reds', 'Blues', 'Greens']\n",
    "legend_elements = [Patch(facecolor=c[:-1], label=m) \n",
    "                   for c, m in zip(cmaps, sorted(set(t['modification'])))]\n",
    "for l in sorted(set(t['level'])):\n",
    "    plt.figure(figsize=(5, 5))\n",
    "    tl = t.loc[t['level']==l]\n",
    "    for i, m in enumerate(sorted(set(tl['modification']))):\n",
    "        tlm = tl.loc[tl['modification']==m]\n",
    "        sns.kdeplot(tlm['mseqs'], tlm['peaks'], cmap=cmaps[i], shade=True, shade_lowest=False, alpha=0.4)\n",
    "    axes = plt.gca()\n",
    "    axes.set_xlim([-5 ,50])\n",
    "    axes.set_ylim([-10000, 70000])\n",
    "    plt.suptitle(l)\n",
    "    plt.legend(handles=legend_elements)\n",
    "    plt.show()"
   ]
  },
  {
   "cell_type": "code",
   "execution_count": null,
   "metadata": {
    "pycharm": {
     "name": "#%%\n"
    }
   },
   "outputs": [],
   "source": [
    "cmaps = ['Reds', 'Blues', 'Greens']\n",
    "legend_elements = [Patch(facecolor=c[:-1], label=l) \n",
    "                   for c, l in zip(cmaps, sorted(set(t['level'])))]\n",
    "for m in sorted(set(t['modification'])):\n",
    "    plt.figure(figsize=(5, 5))\n",
    "    tm = t.loc[t['modification']==m]\n",
    "    for i, l in enumerate(sorted(set(tm['level']))):\n",
    "        tml = tm.loc[tm['level']==l]\n",
    "        sns.kdeplot(tml['mseqs'], tml['peaks'], cmap=cmaps[i], shade=True, shade_lowest=False, alpha=0.3)\n",
    "    axes = plt.gca()\n",
    "    axes.set_xlim([-5 ,50])\n",
    "    axes.set_ylim([-10000, 70000])\n",
    "    plt.suptitle(m)\n",
    "    plt.legend(handles=legend_elements)\n",
    "    plt.show()"
   ]
  },
  {
   "cell_type": "code",
   "execution_count": null,
   "metadata": {
    "pycharm": {
     "name": "#%%\n"
    }
   },
   "outputs": [],
   "source": []
  }
 ],
 "metadata": {
  "kernelspec": {
   "display_name": "Python 3",
   "language": "python",
   "name": "python3"
  },
  "language_info": {
   "codemirror_mode": {
    "name": "ipython",
    "version": 3
   },
   "file_extension": ".py",
   "mimetype": "text/x-python",
   "name": "python",
   "nbconvert_exporter": "python",
   "pygments_lexer": "ipython3",
   "version": "3.6.10"
  },
  "toc": {
   "nav_menu": {},
   "number_sections": true,
   "sideBar": true,
   "skip_h1_title": false,
   "toc_cell": false,
   "toc_position": {},
   "toc_section_display": "block",
   "toc_window_display": true
  }
 },
 "nbformat": 4,
 "nbformat_minor": 2
}
