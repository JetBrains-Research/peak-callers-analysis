{
 "cells": [
  {
   "cell_type": "markdown",
   "metadata": {
    "heading_collapsed": true
   },
   "source": [
    "# Immgen PRJNA392905 - ATAC-Seq SPAN, MACS2 replicates consistency\n",
    "\n",
    "Logbook: https://docs.google.com/document/d/1WxzLWUX0PV2TpD0VfwStHczN6YSQ35Uu6DDR-8WX-io/edit#heading=h.xg4nq1px6lhh"
   ]
  },
  {
   "cell_type": "code",
   "execution_count": null,
   "metadata": {
    "ExecuteTime": {
     "end_time": "2019-03-07T11:38:12.254230Z",
     "start_time": "2019-03-07T11:38:04.952806Z"
    },
    "hidden": true
   },
   "outputs": [],
   "source": [
    "%matplotlib inline\n",
    "%config InlineBackend.figure_format='retina'\n",
    "\n",
    "from IPython.display import display\n",
    "import pandas as pd\n",
    "\n",
    "import seaborn as sns\n",
    "sns.set_style(\"whitegrid\")\n",
    "import matplotlib.pyplot as plt\n",
    "from matplotlib.backends.backend_pdf import PdfPages\n",
    "import numpy as np\n",
    "import scipy as sp\n",
    "import os\n",
    "import glob\n",
    "import re\n",
    "from pybedtools import BedTool\n",
    "from tqdm.auto import tqdm"
   ]
  },
  {
   "cell_type": "code",
   "execution_count": null,
   "metadata": {},
   "outputs": [],
   "source": [
    "PATH = '/mnt/stripe/shpynov/2021_Immgen_atacseq'\n",
    "\n",
    "def file_to_name(file):\n",
    "    return re.sub('(.*GSM[0-9]+_)|(_ATAC_seq.*)', '', file)"
   ]
  },
  {
   "cell_type": "code",
   "execution_count": null,
   "metadata": {},
   "outputs": [],
   "source": [
    "def bedl(file):\n",
    "    try:\n",
    "        tf = pd.read_csv(file, sep='\\t', header=None)\n",
    "        return tf[2] - tf[1]\n",
    "    except:\n",
    "        return np.zeros(0) # Empty file\n",
    "\n",
    "def lines(file):\n",
    "    try:\n",
    "        tf = pd.read_csv(file, sep='\\t', header=None)\n",
    "        return len(tf)\n",
    "    except:\n",
    "        return 0 # Empty file"
   ]
  },
  {
   "cell_type": "markdown",
   "metadata": {},
   "source": [
    "# Macs2"
   ]
  },
  {
   "cell_type": "code",
   "execution_count": null,
   "metadata": {
    "ExecuteTime": {
     "end_time": "2019-03-07T11:38:48.419134Z",
     "start_time": "2019-03-07T11:38:12.260987Z"
    },
    "scrolled": true
   },
   "outputs": [],
   "source": [
    "MACS2_FOLDER='/mnt/stripe/shpynov/2021_Immgen_atacseq/macs2'\n",
    "LEVELS = ['q0.05']\n",
    "\n",
    "dfm = pd.DataFrame(columns=['name', 'level', 'file', 'peaks', 'length'], dtype=object)\n",
    "\n",
    "for file in tqdm(glob.glob(MACS2_FOLDER + '/*.narrowPeak')):\n",
    "    level = next((l for l in LEVELS if f'_{l}_' in file), None)\n",
    "    if level:\n",
    "        name = file_to_name(file)\n",
    "        dfm.loc[len(dfm)] = (name, f'macs2 {level}', file, lines(file), bedl(file).sum())\n",
    "\n",
    "dfm['peaks'] = dfm['peaks'].astype(int)\n",
    "dfm['length'] = dfm['length'].astype(int)"
   ]
  },
  {
   "cell_type": "code",
   "execution_count": null,
   "metadata": {},
   "outputs": [],
   "source": [
    "print('Dataset size')\n",
    "t = (dfm.groupby(['name'])['file'].count() / len(LEVELS)).astype(int)\n",
    "plt.figure(figsize=(8, 4))\n",
    "sns.barplot(data=pd.DataFrame(dict(name=t.index, replicates=t)), x='name', y='replicates')\n",
    "plt.xticks(rotation=90)\n",
    "plt.show()"
   ]
  },
  {
   "cell_type": "code",
   "execution_count": null,
   "metadata": {},
   "outputs": [],
   "source": [
    "display((dfm.groupby(['name'])['file'].count() / len(LEVELS)).astype(int))"
   ]
  },
  {
   "cell_type": "code",
   "execution_count": null,
   "metadata": {
    "ExecuteTime": {
     "end_time": "2019-03-07T11:38:48.431935Z",
     "start_time": "2019-03-07T11:38:48.421064Z"
    },
    "scrolled": false
   },
   "outputs": [],
   "source": [
    "print('Mean peaks')\n",
    "display(dfm.groupby(['name', 'level'])['peaks'].mean())\n",
    "print('Std peaks')\n",
    "display(dfm.groupby(['name', 'level'])['peaks'].std())"
   ]
  },
  {
   "cell_type": "code",
   "execution_count": null,
   "metadata": {},
   "outputs": [],
   "source": [
    "dfm['av_length'] = [l / p if p != 0 else 0 for p, l in zip(dfm['peaks'], dfm['length'])]       \n",
    "print('Mean average length')\n",
    "display(dfm.groupby(['name', 'level'])['av_length'].mean())\n",
    "print('Std average length')\n",
    "display(dfm.groupby(['name', 'level'])['av_length'].std())"
   ]
  },
  {
   "cell_type": "markdown",
   "metadata": {},
   "source": [
    "# Visualization"
   ]
  },
  {
   "cell_type": "code",
   "execution_count": null,
   "metadata": {},
   "outputs": [],
   "source": [
    "def plotdf(df, levels, title):\n",
    "    # Create a copy for inplace modifications\n",
    "    dfw = df.copy()\n",
    "\n",
    "    # Column to identify all the possibilities\n",
    "    dfw['ln'] = dfw['name'] + \" \" + dfw['level']\n",
    "    lns = len(set(dfw['ln']))\n",
    "    axs = {}\n",
    "\n",
    "    fig = plt.figure(figsize=(lns / 4, 6))\n",
    "    offset = 0\n",
    "    for l in levels:\n",
    "        data = dfw.loc[dfw['level'] == l].sort_values(by=['name'])\n",
    "        xlabels = []\n",
    "        for n in data['name']:\n",
    "            if n not in xlabels:\n",
    "                xlabels.append(n)\n",
    "        lnd = len(set(data['ln']))\n",
    "        ax = plt.subplot2grid((1, lns), (0, offset), colspan=lnd)\n",
    "        sns.barplot(data=data, \n",
    "                 x=\"name\", y=title,\n",
    "                 ci=\"sd\", capsize=.2, errwidth=2,\n",
    "                 edgecolor=\"black\",\n",
    "                 ax = ax)\n",
    "\n",
    "        sns.swarmplot(data=data,\n",
    "              x=\"name\", y=title,\n",
    "              size=2,\n",
    "              color='darkgrey',\n",
    "              ax = ax)\n",
    "        ax.legend().set_visible(False)\n",
    "        axs[ax] = plt.ylim()\n",
    "        if offset > 0:\n",
    "            ax.get_yaxis().set_ticklabels([])\n",
    "            ax.set_ylabel('')\n",
    "        else:\n",
    "            ax.set_ylabel(title)\n",
    "\n",
    "        offset += lnd\n",
    "        ax.set_xlabel('')\n",
    "        ax.set_title(l)\n",
    "        plt.xticks(range(0, len(xlabels)), xlabels, rotation=90)\n",
    "\n",
    "    ymin = np.min([v[0] for v in axs.values()])\n",
    "    ymax = np.max([v[1] for v in axs.values()])\n",
    "\n",
    "    for ax in axs.keys():\n",
    "        ax.set_ylim(bottom = ymin, top = ymax)\n",
    "    plt.tight_layout()"
   ]
  },
  {
   "cell_type": "code",
   "execution_count": null,
   "metadata": {},
   "outputs": [],
   "source": [
    "plotdf(dfm, ['macs2 q0.05'], 'peaks')\n",
    "plt.show()"
   ]
  },
  {
   "cell_type": "markdown",
   "metadata": {},
   "source": [
    "# SPAN"
   ]
  },
  {
   "cell_type": "code",
   "execution_count": null,
   "metadata": {
    "ExecuteTime": {
     "end_time": "2019-03-07T11:40:40.502994Z",
     "start_time": "2019-03-07T11:38:50.554250Z"
    },
    "scrolled": true
   },
   "outputs": [],
   "source": [
    "import subprocess\n",
    "import re\n",
    "from pybedtools import BedTool\n",
    "\n",
    "SPAN_FOLDER='/mnt/stripe/shpynov/2021_Immgen_atacseq/span-islands'\n",
    "FDRS = [0.05]\n",
    "\n",
    "dfs = pd.DataFrame(columns=['name', 'level', 'file', 'peaks', 'length'], dtype=object)\n",
    "\n",
    "for file in tqdm(glob.glob(SPAN_FOLDER + '/*300*.islands')):\n",
    "    fdr = next((f for f in FDRS if f'_{f}_' in file), None)\n",
    "    if fdr:\n",
    "        name = file_to_name(file)\n",
    "        dfs.loc[len(dfs)] = (name, f'span {fdr}', file, lines(file), bedl(file).sum())\n",
    "\n",
    "dfs['peaks'] = dfs['peaks'].astype(int)\n",
    "dfs['length'] = dfs['length'].astype(int)"
   ]
  },
  {
   "cell_type": "code",
   "execution_count": null,
   "metadata": {},
   "outputs": [],
   "source": [
    "display((dfs.groupby(['name'])['file'].count() / len(LEVELS)).astype(int))"
   ]
  },
  {
   "cell_type": "code",
   "execution_count": null,
   "metadata": {
    "ExecuteTime": {
     "end_time": "2019-03-07T11:40:40.517707Z",
     "start_time": "2019-03-07T11:40:40.504887Z"
    }
   },
   "outputs": [],
   "source": [
    "print('Mean peaks')\n",
    "display(dfs.groupby(['name', 'level'])['peaks'].mean())\n",
    "print('Std peaks')\n",
    "display(dfs.groupby(['name', 'level'])['peaks'].std())"
   ]
  },
  {
   "cell_type": "code",
   "execution_count": null,
   "metadata": {},
   "outputs": [],
   "source": [
    "dfs['av_length'] = [l / p if p != 0 else 0 for p, l in zip(dfs['peaks'], dfs['length'])]       \n",
    "print('Mean average length')\n",
    "display(dfs.groupby(['name', 'level'])['av_length'].mean())\n",
    "print('Std average length')\n",
    "display(dfs.groupby(['name', 'level'])['av_length'].std())"
   ]
  },
  {
   "cell_type": "code",
   "execution_count": null,
   "metadata": {},
   "outputs": [],
   "source": [
    "plotdf(dfs, ['span 0.05'], 'peaks')\n",
    "plt.show()"
   ]
  },
  {
   "cell_type": "code",
   "execution_count": null,
   "metadata": {},
   "outputs": [],
   "source": [
    "print('Summary peaks')\n",
    "dfa = pd.concat([dfm, dfs])\n",
    "# plt.figure(figsize=(12, 7))\n",
    "# sns.boxplot(data=dfa, x='name', y='peaks', hue='level')            \n",
    "# plt.xticks(rotation=90)\n",
    "# plt.tight_layout()\n",
    "# plt.show()\n",
    "\n",
    "\n",
    "plt.figure(figsize=(12, 7))\n",
    "sns.barplot(data=dfa, x='name', y='peaks', hue='level',\n",
    "            ci='sd', capsize=.2, errwidth=2, alpha=0.8)            \n",
    "plt.xticks(rotation=90)\n",
    "plt.tight_layout()\n",
    "plt.show()"
   ]
  },
  {
   "cell_type": "code",
   "execution_count": null,
   "metadata": {},
   "outputs": [],
   "source": [
    "print('Peaks length distribution')\n",
    "dfa['av_length'].clip(upper=5000, inplace=True) # For visualization\n",
    "plt.figure(figsize=(12, 7))\n",
    "sns.boxplot(data=dfa, x='name', y='av_length', hue='level')            \n",
    "plt.xticks(rotation=90)\n",
    "plt.tight_layout()\n",
    "plt.show()"
   ]
  },
  {
   "cell_type": "markdown",
   "metadata": {},
   "source": [
    "# Overlaps"
   ]
  },
  {
   "cell_type": "code",
   "execution_count": null,
   "metadata": {},
   "outputs": [],
   "source": [
    "from itertools import product\n",
    "\n",
    "def compute_overlaps(df, tool):\n",
    "    dfoverlap = pd.DataFrame(columns=['tool', 'name', 'level', 'file1', 'file2', 'overlap'], dtype=object)\n",
    "    for n in sorted(set(df['name'])):\n",
    "        for l in sorted(set(df['level'])):\n",
    "            dfnl = df.loc[(df['name'] == n) &  (df['level'] == l)]\n",
    "            print('Processing', n, l, len(dfnl))\n",
    "            files = list(dfnl['file'])\n",
    "            for (f1, f2) in tqdm(product(files, files)):\n",
    "                if f1 != f2:\n",
    "                    tf = f'{PATH}/overlaps_{tool}_{n}_{l}_overlaps.bed'.replace(' ', '_')\n",
    "                    !bedtools intersect -a {f1} -b {f2} -wa -u > {tf}\n",
    "                    overlap = lines(tf)\n",
    "                    dfoverlap.loc[len(dfoverlap)] = (tool, n, l, f1, f2, overlap)\n",
    "    return dfoverlap"
   ]
  },
  {
   "cell_type": "markdown",
   "metadata": {},
   "source": [
    "## MACS2 overlaps"
   ]
  },
  {
   "cell_type": "code",
   "execution_count": null,
   "metadata": {
    "scrolled": true
   },
   "outputs": [],
   "source": [
    "dfm_overlap = compute_overlaps(dfm, 'macs2')\n",
    "dfm_overlapf = []\n",
    "for i, row in tqdm(dfm_overlap.iterrows()):\n",
    "    o, n, l, f = row['overlap'], row['name'], row['level'], row['file1']\n",
    "    p = dfm[(dfm['name'] == n) & (dfm['level'] == l) & (dfm['file'] == f)]['peaks'].values[0]\n",
    "    dfm_overlapf.append(o / p if p > 0 else 0)\n",
    "dfm_overlap['overlapf'] = dfm_overlapf\n",
    "\n",
    "print('Mean overlap')\n",
    "display(dfm_overlap.groupby(['name', 'level'])['overlapf'].mean())\n",
    "print('Std overlap')\n",
    "display(dfm_overlap.groupby(['name', 'level'])['overlapf'].std())"
   ]
  },
  {
   "cell_type": "code",
   "execution_count": null,
   "metadata": {},
   "outputs": [],
   "source": [
    "plotdf(dfm_overlap, ['macs2 q0.05'], 'overlapf')\n",
    "plt.show()"
   ]
  },
  {
   "cell_type": "markdown",
   "metadata": {},
   "source": [
    "## SPAN overlaps"
   ]
  },
  {
   "cell_type": "code",
   "execution_count": null,
   "metadata": {
    "ExecuteTime": {
     "end_time": "2019-03-07T11:41:29.786456Z",
     "start_time": "2019-03-07T11:40:42.300976Z"
    },
    "scrolled": true
   },
   "outputs": [],
   "source": [
    "dfs_overlap = compute_overlaps(dfs, 'span')\n",
    "dfs_overlapf = []\n",
    "for i, row in tqdm(dfs_overlap.iterrows()):\n",
    "    o, n, l, f = row['overlap'], row['name'], row['level'], row['file1']\n",
    "    p = dfs[(dfs['name'] == n) & (dfs['level'] == l) & (dfs['file'] == f)]['peaks'].values[0]\n",
    "    dfs_overlapf.append(o / p if p > 0 else 0)\n",
    "dfs_overlap['overlapf'] = dfs_overlapf\n",
    "\n",
    "print('Mean overlap')\n",
    "display(dfs_overlap.groupby(['name', 'level'])['overlapf'].mean())\n",
    "print('Std overlap')\n",
    "display(dfs_overlap.groupby(['name', 'level'])['overlapf'].std())"
   ]
  },
  {
   "cell_type": "code",
   "execution_count": null,
   "metadata": {
    "ExecuteTime": {
     "end_time": "2019-03-07T11:42:33.956296Z",
     "start_time": "2019-03-07T11:42:33.330851Z"
    }
   },
   "outputs": [],
   "source": [
    "plotdf(dfs_overlap, ['span 0.05'], 'overlapf')\n",
    "plt.show()"
   ]
  },
  {
   "cell_type": "code",
   "execution_count": null,
   "metadata": {},
   "outputs": [],
   "source": [
    "print('Summary overlap')\n",
    "dfao = pd.concat([dfm_overlap, dfs_overlap])\n",
    "# plt.figure(figsize=(12, 7))\n",
    "# sns.boxplot(data=dfao[dfao['level'].isin(['macs2 q0.05', 'span 0.05'])], x='name', y='overlapf', hue='level')            \n",
    "# plt.xticks(rotation=90)\n",
    "# plt.tight_layout()\n",
    "# plt.show()\n",
    "\n",
    "plt.figure(figsize=(12, 7))\n",
    "sns.barplot(data=dfao[dfao['level'].isin(['macs2 q0.05', 'span 0.05'])], x='name', y='overlapf', hue='level',\n",
    "            ci='sd', capsize=.2, errwidth=2, alpha=0.8)            \n",
    "plt.xticks(rotation=90)\n",
    "plt.tight_layout()\n",
    "plt.show()"
   ]
  },
  {
   "cell_type": "markdown",
   "metadata": {},
   "source": [
    "# Overlap with DHS"
   ]
  },
  {
   "cell_type": "code",
   "execution_count": null,
   "metadata": {},
   "outputs": [],
   "source": [
    "from itertools import product\n",
    "\n",
    "DHS_PATH = f'{PATH}/mm10_dhs.bed'\n",
    "DHS_PEAKS = lines(DHS_PATH)\n",
    "\n",
    "def compute_dhs_overlaps(df, tool):\n",
    "    dfoverlap = pd.DataFrame(columns=['tool', 'name', 'level', 'file', 'way', 'peaks', 'overlap'], dtype=object)\n",
    "    for n in sorted(set(df['name'])):\n",
    "        for l in sorted(set(df['level'])):\n",
    "            dfnl = df.loc[(df['name'] == n) &  (df['level'] == l)]\n",
    "            print('Processing', n, l, len(dfnl))\n",
    "            for _, row in tqdm(dfnl.iterrows()):\n",
    "                file, peaks = row['file'], row['peaks']\n",
    "                tf = f'{PATH}/overlaps_{tool}_{n}_{l}_vs_dhs.bed'.replace(' ', '_')\n",
    "                !bedtools intersect -a {file} -b {DHS_PATH} -wa -u > {tf}\n",
    "                owd = lines(tf)\n",
    "                dfoverlap.loc[len(dfoverlap)] = (tool, n, l, file, 'with_dhs', peaks, owd)\n",
    "                tf = f'{PATH}/overlaps_{tool}_{n}_{l}_dhs_vs.bed'.replace(' ', '_')\n",
    "                !bedtools intersect -b {file} -a {DHS_PATH} -wa -u > {tf}\n",
    "                odw = lines(tf)\n",
    "                dfoverlap.loc[len(dfoverlap)] = (tool, n, l, file, 'dhs_with', DHS_PEAKS, odw)\n",
    "    return dfoverlap"
   ]
  },
  {
   "cell_type": "code",
   "execution_count": null,
   "metadata": {
    "scrolled": true
   },
   "outputs": [],
   "source": [
    "dfm_dhs_overlap = compute_dhs_overlaps(dfm, 'macs2')"
   ]
  },
  {
   "cell_type": "code",
   "execution_count": null,
   "metadata": {},
   "outputs": [],
   "source": [
    "dfm_dhs_overlap['overlapf'] = [o / p if p > 0 else 0 \n",
    "                               for o, p in zip(dfm_dhs_overlap['overlap'], dfm_dhs_overlap['peaks'])]\n",
    "plt.figure(figsize=(12, 7))\n",
    "sns.barplot(data=dfm_dhs_overlap, x='name', y='overlapf', hue='way', \n",
    "            ci='sd', capsize=.2, errwidth=2, alpha=0.8)            \n",
    "plt.xticks(rotation=90)\n",
    "plt.title('Two way overlaps with mm10 DHS')\n",
    "plt.tight_layout()\n",
    "plt.show()"
   ]
  },
  {
   "cell_type": "code",
   "execution_count": null,
   "metadata": {
    "scrolled": true
   },
   "outputs": [],
   "source": [
    "dfs_dhs_overlap = compute_dhs_overlaps(dfs, 'span')"
   ]
  },
  {
   "cell_type": "code",
   "execution_count": null,
   "metadata": {},
   "outputs": [],
   "source": [
    "dfs_dhs_overlap['overlapf'] = [o / p if p > 0 else 0 \n",
    "                               for o, p in zip(dfs_dhs_overlap['overlap'], dfs_dhs_overlap['peaks'])]\n",
    "\n",
    "plt.figure(figsize=(12, 7))\n",
    "sns.barplot(data=dfs_dhs_overlap, x='name', y='overlapf', hue='way',\n",
    "            ci='sd', capsize=.2, errwidth=2, alpha=0.8)            \n",
    "plt.xticks(rotation=90)\n",
    "plt.title('Two way overlaps with mm10 DHS')\n",
    "plt.tight_layout()\n",
    "plt.show()"
   ]
  },
  {
   "cell_type": "code",
   "execution_count": null,
   "metadata": {},
   "outputs": [],
   "source": [
    "dhs_overlap = pd.concat([dfm_dhs_overlap, dfs_dhs_overlap])"
   ]
  },
  {
   "cell_type": "code",
   "execution_count": null,
   "metadata": {},
   "outputs": [],
   "source": [
    "plt.figure(figsize=(20, 7))\n",
    "# Plot \n",
    "ax = plt.subplot(1, 2, 1)\n",
    "ax.title.set_text('Overlap with DHS')\n",
    "sns.barplot(data=dhs_overlap[dhs_overlap['way']=='with_dhs'], x='name', y='overlapf', hue='level',\n",
    "            ci='sd', capsize=.2, errwidth=2, alpha=0.8, ax=ax)  \n",
    "ax.xaxis.set_tick_params(rotation=90)\n",
    "ax.set_ylabel('Cell')\n",
    "ax.set_ylabel('Overlap')\n",
    "\n",
    "ax = plt.subplot(1, 2, 2)\n",
    "ax.title.set_text('Overlap DHS with')\n",
    "t = dhs_overlap[dhs_overlap['way']=='dhs_with'].copy()\n",
    "t['overlap'].clip(upper=0.15, inplace=True)\n",
    "sns.barplot(data=t, x='name', y='overlapf', hue='level',\n",
    "            ci='sd', capsize=.2, errwidth=2, alpha=0.8, ax=ax)  \n",
    "ax.xaxis.set_tick_params(rotation=90)\n",
    "ax.set_ylabel('Cell')\n",
    "ax.set_ylabel('Overlap')\n",
    "\n",
    "plt.tight_layout()\n",
    "plt.show()"
   ]
  },
  {
   "cell_type": "markdown",
   "metadata": {},
   "source": [
    "### Venn diagram of DHS vs ATAC-seq peaks averaged by cell"
   ]
  },
  {
   "cell_type": "code",
   "execution_count": null,
   "metadata": {},
   "outputs": [],
   "source": [
    "import math\n",
    "for l in ['macs2 q0.05', 'span 0.05']:\n",
    "    log2rt = []\n",
    "    for i, row in dhs_overlap[dhs_overlap['level'] == l].iterrows():\n",
    "        if i % 2 == 0:\n",
    "            o = row['overlap']\n",
    "        else:\n",
    "            log2rt.append(math.log2(o / row['overlap']))\n",
    "    print(l, np.mean(log2rt))"
   ]
  },
  {
   "cell_type": "code",
   "execution_count": null,
   "metadata": {},
   "outputs": [],
   "source": [
    "2 ** 0.14"
   ]
  },
  {
   "cell_type": "code",
   "execution_count": null,
   "metadata": {},
   "outputs": [],
   "source": [
    "2 ** -0.22"
   ]
  },
  {
   "cell_type": "code",
   "execution_count": null,
   "metadata": {},
   "outputs": [],
   "source": []
  }
 ],
 "metadata": {
  "kernelspec": {
   "display_name": "Python 3",
   "language": "python",
   "name": "python3"
  },
  "language_info": {
   "codemirror_mode": {
    "name": "ipython",
    "version": 3
   },
   "file_extension": ".py",
   "mimetype": "text/x-python",
   "name": "python",
   "nbconvert_exporter": "python",
   "pygments_lexer": "ipython3",
   "version": "3.8.5"
  },
  "toc": {
   "nav_menu": {},
   "number_sections": true,
   "sideBar": true,
   "skip_h1_title": false,
   "toc_cell": false,
   "toc_position": {},
   "toc_section_display": "block",
   "toc_window_display": true
  }
 },
 "nbformat": 4,
 "nbformat_minor": 2
}
