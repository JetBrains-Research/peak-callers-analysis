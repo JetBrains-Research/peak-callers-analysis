{
 "cells": [
  {
   "cell_type": "markdown",
   "metadata": {
    "pycharm": {
     "name": "#%% md\n"
    }
   },
   "source": [
    "# Analysis of ChIP-seq simulation"
   ]
  },
  {
   "cell_type": "code",
   "execution_count": null,
   "metadata": {
    "pycharm": {
     "name": "#%%\n"
    }
   },
   "outputs": [],
   "source": [
    "%matplotlib inline\n",
    "%config InlineBackend.figure_format='retina'\n",
    "\n",
    "from IPython.display import display\n",
    "import pandas as pd\n",
    "import os\n",
    "import seaborn as sns\n",
    "sns.set_style(\"whitegrid\")\n",
    "import matplotlib.pyplot as plt\n",
    "from matplotlib.backends.backend_pdf import PdfPages\n",
    "import numpy as np\n",
    "from collections import OrderedDict, Counter\n",
    "from tqdm.auto import tqdm\n",
    "import subprocess, tempfile"
   ]
  },
  {
   "cell_type": "code",
   "execution_count": null,
   "metadata": {
    "pycharm": {
     "name": "#%%\n"
    }
   },
   "outputs": [],
   "source": [
    "WORK_DIR = os.path.expanduser('~/data/2022_chips')\n",
    "# WORK_DIR = os.path.expanduser('~/data/2022_chips_noinput')\n",
    "FIGURES_DIR = f'{WORK_DIR}/figures'\n",
    "EXT = 'png'\n",
    "! mkdir -p {FIGURES_DIR}\n",
    "! rm {FIGURES_DIR}/*"
   ]
  },
  {
   "cell_type": "markdown",
   "metadata": {
    "pycharm": {
     "name": "#%% md\n"
    }
   },
   "source": [
    "# Chips models analysis"
   ]
  },
  {
   "cell_type": "code",
   "execution_count": null,
   "metadata": {
    "pycharm": {
     "name": "#%%\n"
    }
   },
   "outputs": [],
   "source": [
    "import json\n",
    "\n",
    "models_df = pd.DataFrame(columns=['Modification', 'Model', 'k', 'theta', 'prc_rate', 'f', 's'],\n",
    "                         dtype=object)\n",
    "for modification in ['H3K27ac', 'H3K27me3', 'H3K36me3', 'H3K4me1', 'H3K4me3']:\n",
    "    path = os.path.join(WORK_DIR, 'models', f'{modification}.json')\n",
    "    with open(path) as f:\n",
    "        m = json.load(f)\n",
    "        k, theta, prc_rate, f, s = m['frag']['k'], m['frag']['theta'], m['pcr_rate'], \\\n",
    "            m['pulldown']['f'], m['pulldown']['s']\n",
    "        models_df.loc[len(models_df)] = (modification, path, k, theta, prc_rate, f, s)\n",
    "models_df.to_csv(os.path.join(WORK_DIR, 'models.tsv'), sep='\\t', index=None)\n",
    "models_df"
   ]
  },
  {
   "cell_type": "code",
   "execution_count": null,
   "metadata": {
    "pycharm": {
     "name": "#%%\n"
    }
   },
   "outputs": [],
   "source": [
    "fig = plt.figure(figsize=(3, 3))\n",
    "sns.scatterplot(data=models_df, x='k', y='theta', hue='Modification', markers=True)\n",
    "plt.title(f'Fragment lengths gamma distribution')\n",
    "plt.tight_layout()\n",
    "plt.savefig(os.path.join(FIGURES_DIR, f'models_fragments_gamma.{EXT}'), bbox_inches='tight', dpi=300)\n",
    "plt.show()"
   ]
  },
  {
   "cell_type": "code",
   "execution_count": null,
   "metadata": {
    "pycharm": {
     "name": "#%%\n"
    }
   },
   "outputs": [],
   "source": [
    "fig = plt.figure(figsize=(3, 3))\n",
    "sns.scatterplot(data=models_df, x='s', y='f', hue='Modification', markers=True)\n",
    "plt.title(f'Fraction of Reads in Peaks vs Bound Genome Fraction')\n",
    "plt.xlabel('Fraction of Reads in Peaks')\n",
    "plt.ylabel('Bound Genome Fraction')\n",
    "plt.tight_layout()\n",
    "plt.savefig(os.path.join(FIGURES_DIR, f'models_frip_vs_bound_genome.{EXT}'), bbox_inches='tight', dpi=300)\n",
    "plt.show()"
   ]
  },
  {
   "cell_type": "markdown",
   "metadata": {
    "pycharm": {
     "name": "#%% md\n"
    }
   },
   "source": [
    "# Report analysis"
   ]
  },
  {
   "cell_type": "code",
   "execution_count": null,
   "metadata": {
    "pycharm": {
     "name": "#%%\n"
    }
   },
   "outputs": [],
   "source": [
    "df = pd.read_csv(os.path.join(WORK_DIR, 'report.tsv'), sep='\\t', comment='#')\n",
    "\n",
    "# Focus on specific tools only\n",
    "df = df.loc[df['Tool'].isin({'Macs2', 'Macs2Broad', 'SICER', 'SPAN'})]\n",
    "df['Fdr'] = df['Fdr'].astype(float)\n",
    "df['Library'] = '1mln'\n",
    "\n",
    "# Without mixed model\n",
    "# df = df.loc[df['Modification'] != 'mixed']\n",
    "\n",
    "# Rename\n",
    "# df.loc[df['Tool']=='Macs2Broad', 'Tool'] = 'Macs2 broad'\n",
    "\n",
    "# Remove relaxed FDR setting to avoid explosion in #peaks\n",
    "# df = df.loc[df['Fdr'] <= 0.05]\n",
    "df.head()"
   ]
  },
  {
   "cell_type": "code",
   "execution_count": null,
   "metadata": {
    "pycharm": {
     "name": "#%%\n"
    }
   },
   "outputs": [],
   "source": [
    "df.sort_values(by=['Modification', 'Mult', 'Library', 'Tool', 'Fdr'], inplace=True)"
   ]
  },
  {
   "cell_type": "code",
   "execution_count": null,
   "metadata": {
    "pycharm": {
     "name": "#%%\n"
    }
   },
   "outputs": [],
   "source": [
    "df['TrueAverageLength'] = df['TrueLength'] / df['TruePeaks']\n",
    "df['AverageLength'] = df['Length'] / df['Peaks']\n",
    "df.fillna(0, inplace=True)"
   ]
  },
  {
   "cell_type": "code",
   "execution_count": null,
   "metadata": {
    "pycharm": {
     "name": "#%%\n"
    }
   },
   "outputs": [],
   "source": [
    "df['LogFdr'] = np.log10(df['Fdr'])\n",
    "df.loc[df['Fdr']==0.05, 'LogFdr'] = -1.3"
   ]
  },
  {
   "cell_type": "code",
   "execution_count": null,
   "metadata": {
    "pycharm": {
     "name": "#%%\n"
    }
   },
   "outputs": [],
   "source": [
    "df['Precision'] = df['PrecisionP'] / df['Peaks']\n",
    "df['Recall'] = df['RecallP'] / df['TruePeaks']\n",
    "df['PrecisionL'] = df['Intersection'] / df['Length']\n",
    "df['RecallL'] = df['Intersection'] / df['TrueLength']\n",
    "df.fillna(1, inplace=True)\n",
    "\n",
    "df['Jaccard'] = df['Intersection'] / (df['Length'] + df['TrueLength'] - df['Intersection'])\n",
    "df.fillna(0, inplace=True)"
   ]
  },
  {
   "cell_type": "code",
   "execution_count": null,
   "metadata": {
    "pycharm": {
     "name": "#%%\n"
    }
   },
   "outputs": [],
   "source": [
    "# print('Limit peaks number for visual representation')\n",
    "# df.loc[df['Peaks'] > 2000, 'Peaks'] = 2000\n",
    "# print('Limit average length for visual representation')\n",
    "# df.loc[df['AverageLength'] > 15000, 'AverageLength'] = 15000"
   ]
  },
  {
   "cell_type": "code",
   "execution_count": null,
   "metadata": {
    "pycharm": {
     "name": "#%%\n"
    }
   },
   "outputs": [],
   "source": [
    "print('Computing F1-score')\n",
    "df['F1'] = [2 / (1 / p + 1 / r) if min(p, r) > 0 else 0 for p, r in zip(df['Precision'], df['Recall'])]\n",
    "df['F1l'] = [2 / (1 / p + 1 / r) if min(p, r) > 0 else 0 for p, r in zip(df['PrecisionL'], df['RecallL'])]\n",
    "df.head()"
   ]
  },
  {
   "cell_type": "markdown",
   "metadata": {
    "pycharm": {
     "name": "#%% md\n"
    }
   },
   "source": [
    "# Summary number of peaks"
   ]
  },
  {
   "cell_type": "code",
   "execution_count": null,
   "metadata": {
    "pycharm": {
     "name": "#%%\n"
    }
   },
   "outputs": [],
   "source": [
    "print('Ground truth average number of peaks')\n",
    "fig = plt.figure(figsize=(6, 5))\n",
    "sns.barplot(data=df, x=\"Modification\", y=\"TruePeaks\",\n",
    "           capsize=.1, errwidth=2, edgecolor=\"black\")\n",
    "plt.xticks(rotation=45, ha='right')\n",
    "plt.ylim(-20, df['TruePeaks'].max() * 1.2)\n",
    "plt.tight_layout()\n",
    "plt.savefig(os.path.join(FIGURES_DIR, f'true_peaks_number.{EXT}'), bbox_inches='tight', dpi=300)\n",
    "plt.show()        "
   ]
  },
  {
   "cell_type": "code",
   "execution_count": null,
   "metadata": {
    "pycharm": {
     "name": "#%%\n"
    }
   },
   "outputs": [],
   "source": [
    "print('Ground truth average length of peaks')\n",
    "fig = plt.figure(figsize=(6, 5))\n",
    "# sns.barplot(data=df, x=\"Modification\", y=\"TrueAverageLength\", \n",
    "#            capsize=.2, errwidth=2, edgecolor=\"black\")\n",
    "sns.violinplot(data=df, x=\"Modification\", y=\"TrueAverageLength\")\n",
    "plt.xticks(rotation=45, ha='right')\n",
    "plt.ylim(-20, df['TrueAverageLength'].max() * 1.2)\n",
    "plt.tight_layout()\n",
    "plt.savefig(os.path.join(FIGURES_DIR, f'true_peaks_lengths.{EXT}'), bbox_inches='tight', dpi=300)\n",
    "plt.show()"
   ]
  },
  {
   "cell_type": "code",
   "execution_count": null,
   "metadata": {
    "pycharm": {
     "name": "#%%\n"
    }
   },
   "outputs": [],
   "source": [
    "cmap = plt.cm.get_cmap('Pastel1', len(set(df['Tool'])))\n",
    "palette = {t: cmap(i) for i, t in enumerate(sorted(set(df['Tool'])))}"
   ]
  },
  {
   "cell_type": "code",
   "execution_count": null,
   "metadata": {
    "scrolled": false,
    "pycharm": {
     "name": "#%%\n"
    }
   },
   "outputs": [],
   "source": [
    "def summary_peaks_lengths(df, name):\n",
    "    for m in sorted(set(df['Modification'])):\n",
    "        t = df.loc[df['Modification'] == m].copy()\n",
    "        t.sort_values(by=['Tool', 'Fdr'], inplace=True)\n",
    "\n",
    "        fig = plt.figure(figsize=(15, 5))\n",
    "        ax = plt.subplot(1, 2, 1)\n",
    "        print('Peaks', m)\n",
    "        print(f\"True peaks {set(t['TruePeaks'])}\")\n",
    "        sns.boxplot(data=t, x=\"Fdr\", y=\"Peaks\", hue=\"Tool\", palette=palette)\n",
    "        plt.title(f'{m} {name}')\n",
    "        plt.xticks(rotation=45, ha='right')\n",
    "        plt.legend(loc='upper left')\n",
    "        plt.ylim(-20, t['Peaks'].max() * 1.2)\n",
    "\n",
    "        ax = plt.subplot(1, 2, 2)            \n",
    "        print('Length', m)\n",
    "        print(f\"True average length {set(t['TrueAverageLength'])}\")        \n",
    "        sns.boxplot(data=t, x=\"Fdr\", y=\"AverageLength\", hue=\"Tool\", palette=palette)\n",
    "        plt.title(f'{m} {name}')\n",
    "        plt.xticks(rotation=45, ha='right')\n",
    "        plt.legend(loc='upper left')\n",
    "        plt.ylim(-20, t['AverageLength'].max() * 1.2)\n",
    "\n",
    "        plt.tight_layout()\n",
    "        plt.savefig(os.path.join(FIGURES_DIR, f'summary_peaks_length_{name}_{m}.{EXT}'), bbox_inches='tight', dpi=300)\n",
    "        plt.show()        "
   ]
  },
  {
   "cell_type": "code",
   "execution_count": null,
   "outputs": [],
   "source": [
    "from itertools import product\n",
    "\n",
    "CONDITIONS = [('1mln', 1.0), ('1mln', 0.5),  ('1mln', 0.2), ('1mln', 0.1)]\n",
    "\n",
    "def good(df):\n",
    "    return df['Mult'] == 1.0\n",
    "\n",
    "def average(df):\n",
    "    return df['Mult'] == 0.5\n",
    "\n",
    "def bad(df):\n",
    "    return df['Mult'] == 0.2\n",
    "\n",
    "def ugly(df):\n",
    "    return df['Mult'] == 0.1\n",
    "\n",
    "def with_quality(df, add_all=False):\n",
    "    ts = []\n",
    "\n",
    "    t = df.loc[good(df)].copy()\n",
    "    t['Quality'] = 'Good'\n",
    "    ts.append(t)\n",
    "\n",
    "    t = df.loc[average(df)].copy()\n",
    "    t['Quality'] = 'Average'\n",
    "    ts.append(t)\n",
    "\n",
    "    t = df.loc[bad(df)].copy()\n",
    "    t['Quality'] = 'Bad'\n",
    "    ts.append(t)\n",
    "\n",
    "    t = df.loc[ugly(df)].copy()\n",
    "    t['Quality'] = 'Ugly'\n",
    "    ts.append(t)\n",
    "\n",
    "    if add_all:\n",
    "        t = df.copy()\n",
    "        t['Quality'] = 'All'\n",
    "        ts.append(t)\n",
    "    return pd.concat(ts)"
   ],
   "metadata": {
    "collapsed": false,
    "pycharm": {
     "name": "#%%\n"
    }
   }
  },
  {
   "cell_type": "code",
   "execution_count": null,
   "metadata": {
    "scrolled": true,
    "pycharm": {
     "name": "#%%\n"
    }
   },
   "outputs": [],
   "source": [
    "# # Supplementary\n",
    "# print('Summary number of peaks and length good quality')\n",
    "# summary_peaks_lengths(df.loc[good(df)], 'good')"
   ]
  },
  {
   "cell_type": "code",
   "execution_count": null,
   "metadata": {
    "scrolled": true,
    "pycharm": {
     "name": "#%%\n"
    }
   },
   "outputs": [],
   "source": [
    "# # Supplementary\n",
    "# print('Summary number of peaks and length on average quality')\n",
    "# summary_peaks_lengths(df.loc[average(df)], 'average')"
   ]
  },
  {
   "cell_type": "code",
   "execution_count": null,
   "metadata": {
    "pycharm": {
     "name": "#%%\n"
    }
   },
   "outputs": [],
   "source": [
    "# # Supplementary\n",
    "# print('Summary number of peaks and length on bad quality')\n",
    "# summary_peaks_lengths(df.loc[bad(df)], 'bad')"
   ]
  },
  {
   "cell_type": "markdown",
   "metadata": {
    "pycharm": {
     "name": "#%% md\n"
    }
   },
   "source": [
    "## Aggregated results"
   ]
  },
  {
   "cell_type": "code",
   "execution_count": null,
   "metadata": {
    "pycharm": {
     "name": "#%%\n"
    }
   },
   "outputs": [],
   "source": [
    "def aggregated_info_fdr(df, fdr=None):\n",
    "    if fdr is not None:\n",
    "        df = df.loc[df['Fdr'] == fdr]\n",
    "    df = with_quality(df)\n",
    "    \n",
    "    for q in sorted(set(df['Quality'])):\n",
    "        t = df.loc[df['Quality'] == q].copy()\n",
    "        t.sort_values(by=['Modification', 'Tool', 'Fdr'], inplace=True)\n",
    "\n",
    "        print('Peaks', q)\n",
    "        fig = plt.figure(figsize=(6, 4))\n",
    "        print(f\"True peaks {set(t['TruePeaks'])}\")\n",
    "        sns.barplot(data=t, x=\"Modification\", y=\"Peaks\", hue=\"Tool\", palette=palette, \n",
    "                    capsize=.1, errwidth=2, edgecolor=\"black\")\n",
    "        plt.title(f'Number of peaks {q} fdr={fdr}')\n",
    "        plt.xticks(rotation=45, ha='right')\n",
    "        plt.legend(loc='upper left')\n",
    "        plt.ylim(-20, t['Peaks'].max() * 1.2)\n",
    "        plt.tight_layout()\n",
    "        plt.savefig(os.path.join(FIGURES_DIR, f'aggregated_peaks_{q}_fdr{fdr}.{EXT}'), bbox_inches='tight', dpi=300)\n",
    "        plt.show() \n",
    "\n",
    "        print('Length', q)\n",
    "        fig = plt.figure(figsize=(6, 4))\n",
    "        print(f\"True average length {set(t['TrueAverageLength'])}\")        \n",
    "        sns.barplot(data=t, x=\"Modification\", y=\"AverageLength\", hue=\"Tool\", palette=palette,\n",
    "                   capsize=.1, errwidth=2, edgecolor=\"black\")\n",
    "        plt.title(f'Average length {q} fdr={fdr}')\n",
    "        plt.xticks(rotation=45, ha='right')\n",
    "        plt.legend(loc='lower left')\n",
    "        plt.ylim(-20, t['AverageLength'].max() * 1.2)\n",
    "        plt.tight_layout()\n",
    "        plt.savefig(os.path.join(FIGURES_DIR, f'aggregated_lengths_{q}_fdr{fdr}.{EXT}'), bbox_inches='tight', dpi=300)\n",
    "        plt.show()         \n",
    "\n",
    "        print('Jaccard', q)\n",
    "        fig = plt.figure(figsize=(6, 4))\n",
    "        sns.barplot(data=t, x=\"Modification\", y=\"Jaccard\", hue=\"Tool\", palette=palette,\n",
    "                   capsize=.1, errwidth=2, edgecolor=\"black\")\n",
    "        plt.title(f'Jaccard {q} fdr={fdr}')\n",
    "        plt.xticks(rotation=45, ha='right')\n",
    "        plt.legend(loc='lower left')\n",
    "        plt.ylim(-0.1, t['Jaccard'].max() * 1.2)\n",
    "        plt.tight_layout()\n",
    "        plt.savefig(os.path.join(FIGURES_DIR, f'jaccard_{q}_fdr{fdr}.{EXT}'), bbox_inches='tight', dpi=300)\n",
    "        plt.show()        \n",
    "\n",
    "        # print('Precision', q)\n",
    "        # fig = plt.figure(figsize=(6, 4))\n",
    "        # sns.barplot(data=t, x=\"Modification\", y=\"Precision\", hue=\"Tool\", palette=palette,\n",
    "        #            capsize=.1, errwidth=2, edgecolor=\"black\")\n",
    "        # plt.title(f'Precision {q} fdr={fdr}')\n",
    "        # plt.xticks(rotation=45, ha='right')\n",
    "        # plt.legend(loc='lower left')\n",
    "        # plt.ylim(-0.1, t['Precision'].max() * 1.2)\n",
    "        # plt.tight_layout()\n",
    "        # plt.savefig(os.path.join(FIGURES_DIR, f'precision_{q}_fdr{fdr}.{EXT}'), bbox_inches='tight', dpi=300)\n",
    "        # plt.show()\n",
    "        #\n",
    "        # print('Recall', q)\n",
    "        # fig = plt.figure(figsize=(6, 4))\n",
    "        # sns.barplot(data=t, x=\"Modification\", y=\"Recall\", hue=\"Tool\", palette=palette,\n",
    "        #            capsize=.1, errwidth=2, edgecolor=\"black\")\n",
    "        # plt.title(f'Recall {q} fdr={fdr}')\n",
    "        # plt.xticks(rotation=45, ha='right')\n",
    "        # plt.legend(loc='lower left')\n",
    "        # plt.ylim(-0.1, t['Recall'].max() * 1.2)\n",
    "        # plt.tight_layout()\n",
    "        # plt.savefig(os.path.join(FIGURES_DIR, f'recall_{q}_fdr{fdr}.{EXT}'), bbox_inches='tight', dpi=300)\n",
    "        # plt.show()\n",
    "        #\n",
    "        # print('F1', q)\n",
    "        # fig = plt.figure(figsize=(6, 4))\n",
    "        # sns.barplot(data=t, x=\"Modification\", y=\"F1\", hue=\"Tool\", palette=palette,\n",
    "        #            capsize=.1, errwidth=2, edgecolor=\"black\")\n",
    "        # plt.title(f'F1 {q} fdr={fdr}')\n",
    "        # plt.xticks(rotation=45, ha='right')\n",
    "        # plt.legend(loc='lower left')\n",
    "        # plt.ylim(-0.1, t['F1'].max() * 1.2)\n",
    "        # plt.tight_layout()\n",
    "        # plt.savefig(os.path.join(FIGURES_DIR, f'f1_{q}_fdr{fdr}.{EXT}'), bbox_inches='tight', dpi=300)\n",
    "        # plt.show()\n",
    "        #\n",
    "        #\n",
    "        print('PrecisionL', q)\n",
    "        fig = plt.figure(figsize=(6, 4))\n",
    "        sns.barplot(data=t, x=\"Modification\", y=\"PrecisionL\", hue=\"Tool\", palette=palette,\n",
    "                   capsize=.1, errwidth=2, edgecolor=\"black\")\n",
    "        plt.title(f'Precision {q} fdr={fdr}')\n",
    "        plt.xticks(rotation=45, ha='right')\n",
    "        plt.legend(loc='lower left')\n",
    "        plt.ylim(-0.1, t['Precision'].max() * 1.2)\n",
    "        plt.tight_layout()\n",
    "        plt.savefig(os.path.join(FIGURES_DIR, f'precisionl_{q}_fdr{fdr}.{EXT}'), bbox_inches='tight', dpi=300)\n",
    "        plt.show()        \n",
    "        \n",
    "        print('RecallL', q)\n",
    "        fig = plt.figure(figsize=(6, 4))\n",
    "        sns.barplot(data=t, x=\"Modification\", y=\"RecallL\", hue=\"Tool\", palette=palette,\n",
    "                   capsize=.1, errwidth=2, edgecolor=\"black\")\n",
    "        plt.title(f'Recall {q} fdr={fdr}')\n",
    "        plt.xticks(rotation=45, ha='right')\n",
    "        plt.legend(loc='lower left')\n",
    "        plt.ylim(-0.1, t['Recall'].max() * 1.2)\n",
    "        plt.tight_layout()\n",
    "        plt.savefig(os.path.join(FIGURES_DIR, f'recalll_{q}_fdr{fdr}.{EXT}'), bbox_inches='tight', dpi=300)\n",
    "        plt.show()                \n",
    "\n",
    "        print('F1l', q)\n",
    "        fig = plt.figure(figsize=(6, 4))\n",
    "        sns.barplot(data=t, x=\"Modification\", y=\"F1l\", hue=\"Tool\", palette=palette,\n",
    "                   capsize=.1, errwidth=2, edgecolor=\"black\")\n",
    "        plt.title(f'F1l {q} fdr={fdr}')\n",
    "        plt.xticks(rotation=45, ha='right')\n",
    "        plt.legend(loc='lower left')\n",
    "        plt.ylim(-0.1, t['F1'].max() * 1.2)\n",
    "        plt.tight_layout()\n",
    "        plt.savefig(os.path.join(FIGURES_DIR, f'f1l_{q}_fdr{fdr}.{EXT}'), bbox_inches='tight', dpi=300)\n",
    "        plt.show()"
   ]
  },
  {
   "cell_type": "code",
   "execution_count": null,
   "metadata": {
    "scrolled": true,
    "pycharm": {
     "name": "#%%\n"
    }
   },
   "outputs": [],
   "source": [
    "# aggregated_info_fdr(df[good(df)])"
   ]
  },
  {
   "cell_type": "code",
   "execution_count": null,
   "metadata": {
    "scrolled": true,
    "pycharm": {
     "name": "#%%\n"
    }
   },
   "outputs": [],
   "source": [
    "# aggregated_info_fdr(df[average(df)])"
   ]
  },
  {
   "cell_type": "code",
   "execution_count": null,
   "metadata": {
    "scrolled": true,
    "pycharm": {
     "name": "#%%\n"
    }
   },
   "outputs": [],
   "source": [
    "# aggregated_info_fdr(df[bad(df)])"
   ]
  },
  {
   "cell_type": "markdown",
   "source": [
    "# Grouped by quality"
   ],
   "metadata": {
    "collapsed": false,
    "pycharm": {
     "name": "#%% md\n"
    }
   }
  },
  {
   "cell_type": "code",
   "execution_count": null,
   "outputs": [],
   "source": [
    "def aggregated_info_fdr_value(df, value, title, fdr=None):\n",
    "    if fdr is not None:\n",
    "        df = df.loc[df['Fdr'] == fdr]\n",
    "    df = with_quality(df)\n",
    "    df.sort_values(by=['Modification', 'Tool', 'Fdr'], inplace=True)\n",
    "    qs = ['Good', 'Average', 'Bad', 'Ugly']\n",
    "    print(title)\n",
    "    plt.figure(figsize=(6 * len(qs), 4))\n",
    "    for i, q in enumerate(qs):\n",
    "        t = df.loc[df['Quality'] == q].copy()\n",
    "        ax = plt.subplot(1, len(qs), i + 1)\n",
    "        sns.barplot(data=t, x=\"Modification\", y=value, hue=\"Tool\", palette=palette,\n",
    "                    capsize=.1, errwidth=2, edgecolor=\"black\", ax=ax)\n",
    "        if i == 0:\n",
    "            ax.legend(loc='upper left')\n",
    "        else:\n",
    "            ax.get_legend().remove()\n",
    "        ax.title.set_text(f'{title} q={q} fdr={fdr}')\n",
    "        ax.xaxis.set_tick_params(rotation=45)\n",
    "        ax.set_ylabel(title)\n",
    "        v_min, v_max = df[value].min(), df[value].max()\n",
    "        ax.set_ylim(bottom = v_min - 0.1 * (v_max - v_min) , top = v_max + 0.1 * (v_max - v_min))\n",
    "    plt.tight_layout()\n",
    "    plt.savefig(os.path.join(FIGURES_DIR, f'aggregated_{title}_fdr{fdr}.{EXT}'), bbox_inches='tight', dpi=300)\n",
    "    plt.show()\n",
    "\n",
    "    # print('Jaccard', q)\n",
    "    # fig = plt.figure(figsize=(6, 4))\n",
    "    # sns.barplot(data=t, x=\"Modification\", y=\"Jaccard\", hue=\"Tool\", palette=palette,\n",
    "    #            capsize=.1, errwidth=2, edgecolor=\"black\")\n",
    "    # plt.title(f'Jaccard {q} fdr={fdr}')\n",
    "    # plt.xticks(rotation=45, ha='right')\n",
    "    # plt.legend(loc='lower left')\n",
    "    # plt.ylim(-0.1, t['Jaccard'].max() * 1.2)\n",
    "    # plt.tight_layout()\n",
    "    # plt.savefig(os.path.join(FIGURES_DIR, f'jaccard_{q}_fdr{fdr}.{EXT}'), bbox_inches='tight', dpi=300)\n",
    "    # plt.show()\n",
    "    #\n",
    "    # print('Precision', q)\n",
    "    # fig = plt.figure(figsize=(6, 4))\n",
    "    # sns.barplot(data=t, x=\"Modification\", y=\"Precision\", hue=\"Tool\", palette=palette,\n",
    "    #            capsize=.1, errwidth=2, edgecolor=\"black\")\n",
    "    # plt.title(f'Precision {q} fdr={fdr}')\n",
    "    # plt.xticks(rotation=45, ha='right')\n",
    "    # plt.legend(loc='lower left')\n",
    "    # plt.ylim(-0.1, t['Precision'].max() * 1.2)\n",
    "    # plt.tight_layout()\n",
    "    # plt.savefig(os.path.join(FIGURES_DIR, f'precision_{q}_fdr{fdr}.{EXT}'), bbox_inches='tight', dpi=300)\n",
    "    # plt.show()\n",
    "    #\n",
    "    # print('Recall', q)\n",
    "    # fig = plt.figure(figsize=(6, 4))\n",
    "    # sns.barplot(data=t, x=\"Modification\", y=\"Recall\", hue=\"Tool\", palette=palette,\n",
    "    #            capsize=.1, errwidth=2, edgecolor=\"black\")\n",
    "    # plt.title(f'Recall {q} fdr={fdr}')\n",
    "    # plt.xticks(rotation=45, ha='right')\n",
    "    # plt.legend(loc='lower left')\n",
    "    # plt.ylim(-0.1, t['Recall'].max() * 1.2)\n",
    "    # plt.tight_layout()\n",
    "    # plt.savefig(os.path.join(FIGURES_DIR, f'recall_{q}_fdr{fdr}.{EXT}'), bbox_inches='tight', dpi=300)\n",
    "    # plt.show()\n",
    "    #\n",
    "    # print('F1', q)\n",
    "    # fig = plt.figure(figsize=(6, 4))\n",
    "    # sns.barplot(data=t, x=\"Modification\", y=\"F1\", hue=\"Tool\", palette=palette,\n",
    "    #            capsize=.1, errwidth=2, edgecolor=\"black\")\n",
    "    # plt.title(f'F1 {q} fdr={fdr}')\n",
    "    # plt.xticks(rotation=45, ha='right')\n",
    "    # plt.legend(loc='lower left')\n",
    "    # plt.ylim(-0.1, t['F1'].max() * 1.2)\n",
    "    # plt.tight_layout()\n",
    "    # plt.savefig(os.path.join(FIGURES_DIR, f'f1_{q}_fdr{fdr}.{EXT}'), bbox_inches='tight', dpi=300)\n",
    "    # plt.show()\n",
    "    #\n",
    "    #\n",
    "    # print('PrecisionL', q)\n",
    "    # fig = plt.figure(figsize=(6, 4))\n",
    "    # sns.barplot(data=t, x=\"Modification\", y=\"PrecisionL\", hue=\"Tool\", palette=palette,\n",
    "    #            capsize=.1, errwidth=2, edgecolor=\"black\")\n",
    "    # plt.title(f'Precision {q} fdr={fdr}')\n",
    "    # plt.xticks(rotation=45, ha='right')\n",
    "    # plt.legend(loc='lower left')\n",
    "    # plt.ylim(-0.1, t['Precision'].max() * 1.2)\n",
    "    # plt.tight_layout()\n",
    "    # plt.savefig(os.path.join(FIGURES_DIR, f'precisionl_{q}_fdr{fdr}.{EXT}'), bbox_inches='tight', dpi=300)\n",
    "    # plt.show()\n",
    "    #\n",
    "    # print('RecallL', q)\n",
    "    # fig = plt.figure(figsize=(6, 4))\n",
    "    # sns.barplot(data=t, x=\"Modification\", y=\"RecallL\", hue=\"Tool\", palette=palette,\n",
    "    #            capsize=.1, errwidth=2, edgecolor=\"black\")\n",
    "    # plt.title(f'Recall {q} fdr={fdr}')\n",
    "    # plt.xticks(rotation=45, ha='right')\n",
    "    # plt.legend(loc='lower left')\n",
    "    # plt.ylim(-0.1, t['Recall'].max() * 1.2)\n",
    "    # plt.tight_layout()\n",
    "    # plt.savefig(os.path.join(FIGURES_DIR, f'recalll_{q}_fdr{fdr}.{EXT}'), bbox_inches='tight', dpi=300)\n",
    "    # plt.show()\n",
    "    #\n",
    "    # print('F1l', q)\n",
    "    # fig = plt.figure(figsize=(6, 4))\n",
    "    # sns.barplot(data=t, x=\"Modification\", y=\"F1l\", hue=\"Tool\", palette=palette,\n",
    "    #            capsize=.1, errwidth=2, edgecolor=\"black\")\n",
    "    # plt.title(f'F1l {q} fdr={fdr}')\n",
    "    # plt.xticks(rotation=45, ha='right')\n",
    "    # plt.legend(loc='lower left')\n",
    "    # plt.ylim(-0.1, t['F1'].max() * 1.2)\n",
    "    # plt.tight_layout()\n",
    "    # plt.savefig(os.path.join(FIGURES_DIR, f'f1l_{q}_fdr{fdr}.{EXT}'), bbox_inches='tight', dpi=300)\n",
    "    # plt.show()"
   ],
   "metadata": {
    "collapsed": false,
    "pycharm": {
     "name": "#%%\n"
    }
   }
  },
  {
   "cell_type": "code",
   "execution_count": null,
   "outputs": [],
   "source": [
    "aggregated_info_fdr_value(df, 'Peaks', 'Peaks')\n",
    "aggregated_info_fdr_value(df, 'AverageLength', 'Length')\n",
    "aggregated_info_fdr_value(df, 'Jaccard', 'Jaccard')\n",
    "aggregated_info_fdr_value(df, 'Precision', 'Precision')\n",
    "aggregated_info_fdr_value(df, 'Recall', 'Recall')\n",
    "aggregated_info_fdr_value(df, 'F1', 'F1')\n",
    "aggregated_info_fdr_value(df, 'PrecisionL', 'Precisionl')\n",
    "aggregated_info_fdr_value(df, 'RecallL', 'Recalll')\n",
    "aggregated_info_fdr_value(df, 'F1l', 'F1l')"
   ],
   "metadata": {
    "collapsed": false,
    "pycharm": {
     "name": "#%%\n"
    }
   }
  },
  {
   "cell_type": "code",
   "execution_count": null,
   "metadata": {
    "pycharm": {
     "name": "#%%\n"
    }
   },
   "outputs": [],
   "source": [
    "def aggregated_peaks_lengths(df):\n",
    "    df = with_quality(df)\n",
    "    \n",
    "    for q in sorted(set(df['Quality'])):\n",
    "        t = df.loc[df['Quality'] == q].copy()\n",
    "        t.sort_values(by=['Modification', 'Tool', 'Fdr'], inplace=True)\n",
    "\n",
    "        fig = plt.figure(figsize=(12, 4))\n",
    "        print('Peaks', q)\n",
    "        print(f\"True peaks {set(t['TruePeaks'])}\")\n",
    "        # Aesthetics\n",
    "        t[\"Peaks\"].clip(upper=1000, inplace=True)\n",
    "        sns.catplot(data=t, x=\"Tool\", y=\"Peaks\", hue=\"Fdr\", col=\"Modification\", \n",
    "                    kind=\"box\", aspect=.6, palette='mako')\n",
    "        plt.ylim(bottom=0)\n",
    "        plt.savefig(os.path.join(FIGURES_DIR, f'aggregated_peaks_{q}.{EXT}'))\n",
    "        plt.show() \n",
    "\n",
    "        fig = plt.figure(figsize=(12, 4))\n",
    "        print('Length', q)\n",
    "        print(f\"True average length {set(t['TrueAverageLength'])}\")        \n",
    "        sns.catplot(data=t, x=\"Tool\", y=\"AverageLength\", hue=\"Fdr\", col=\"Modification\", \n",
    "                    kind=\"box\", aspect=.6, palette='mako')\n",
    "\n",
    "        plt.savefig(os.path.join(FIGURES_DIR, f'aggregated_length_{q}.{EXT}'))\n",
    "        plt.show()        "
   ]
  },
  {
   "cell_type": "code",
   "execution_count": null,
   "metadata": {
    "scrolled": true,
    "pycharm": {
     "name": "#%%\n"
    }
   },
   "outputs": [],
   "source": [
    "# Supplementary\n",
    "# aggregated_peaks_lengths(df)"
   ]
  },
  {
   "cell_type": "markdown",
   "metadata": {
    "pycharm": {
     "name": "#%% md\n"
    }
   },
   "source": [
    "## Peaks vs Average length"
   ]
  },
  {
   "cell_type": "code",
   "execution_count": null,
   "metadata": {
    "pycharm": {
     "name": "#%%\n"
    }
   },
   "outputs": [],
   "source": [
    "def summary_vs(df, name, v1, v2):\n",
    "    for m in sorted(set(df['Modification'])):\n",
    "        print(m)\n",
    "        t = df.loc[df['Modification'] == m]\n",
    "        fig = plt.figure(figsize=(12, 6))\n",
    "        for (lib, mult) in CONDITIONS:\n",
    "            for i in set(t['I']):\n",
    "                for tool in set(t['Tool']):\n",
    "                    tt = t.loc[(df['Mult'] == mult) & (t['Library'] == lib) & (t['I'] == i)].copy()\n",
    "                    tt.sort_values(by=['Tool', 'Fdr'], inplace=True)\n",
    "                    sns.lineplot(data=tt, x=v1, y=v2, hue='Tool', \n",
    "                                 markers=True, style='I', palette=palette, alpha=0.8)\n",
    "#             plt.ylim(-20, t['AverageLength'].max() * 1.2)\n",
    "        # Single legend\n",
    "        handles, labels = plt.axes().get_legend_handles_labels()\n",
    "        plt.legend(handles=handles[:len(set(t['Tool'])) + 1], \n",
    "                   labels=labels[:len(set(t['Tool'])) + 1],\n",
    "                  loc='lower left')\n",
    "        plt.title(f'{m} {name}')\n",
    "        plt.tight_layout()\n",
    "        plt.savefig(os.path.join(FIGURES_DIR, f'summary_{v1}_vs_{v2}_{m}_{name}.{EXT}'), bbox_inches='tight', dpi=300)\n",
    "        plt.show()"
   ]
  },
  {
   "cell_type": "code",
   "execution_count": null,
   "metadata": {
    "scrolled": true,
    "pycharm": {
     "name": "#%%\n"
    }
   },
   "outputs": [],
   "source": [
    "# Supplementary\n",
    "# print('Peaks vs Average Length')\n",
    "# summary_vs(df.loc[good(df)], 'good_quality', 'Peaks', 'AverageLength')"
   ]
  },
  {
   "cell_type": "code",
   "execution_count": null,
   "metadata": {
    "scrolled": false,
    "pycharm": {
     "name": "#%%\n"
    }
   },
   "outputs": [],
   "source": [
    "from math import ceil, floor\n",
    "\n",
    "def peaks_lengths(df):\n",
    "    for m in sorted(set(df['Modification'])):\n",
    "        print('Peaks', m)\n",
    "        print(f\"True peaks {set(df[df['Modification'] == m]['TruePeaks'])}\")\n",
    "        nrows = int(floor(len(CONDITIONS) / 3))\n",
    "        ncols = int(ceil(len(CONDITIONS) / nrows))\n",
    "        fig = plt.figure(figsize=(5 * ncols, 5 * nrows))        \n",
    "        for i, (lib, mult) in enumerate(CONDITIONS):\n",
    "            t = df.loc[(df['Modification'] == m) & (df['Mult'] == mult) & (df['Library'] == lib)]\n",
    "            ax = plt.subplot(nrows, ncols, i + 1)\n",
    "            sns.boxplot(data=t, x=\"Fdr\", y=\"Peaks\", hue=\"Tool\", palette=palette)\n",
    "            plt.title(f'{m} {lib} {mult}')\n",
    "            plt.xticks(rotation=45, ha='right')\n",
    "            plt.ylim(-20, t['Peaks'].max() * 1.2)\n",
    "            if i % nrows == 0:\n",
    "                ax.legend(loc='upper left')\n",
    "            else:\n",
    "                ax.get_legend().remove()    \n",
    "\n",
    "        plt.tight_layout()\n",
    "        plt.savefig(os.path.join(FIGURES_DIR, f'peaks_{m}.{EXT}'), bbox_inches='tight', dpi=300)\n",
    "        plt.show()\n",
    "\n",
    "        print('Length', m)\n",
    "        print(f\"True average length {set(df[df['Modification'] == m]['TrueAverageLength'])}\")        \n",
    "        nrows = int(floor(len(CONDITIONS) / 3))\n",
    "        ncols = int(ceil(len(CONDITIONS) / nrows))\n",
    "        fig = plt.figure(figsize=(5 * ncols, 5 * nrows))        \n",
    "        for i, (lib, mult) in enumerate(CONDITIONS):\n",
    "            t = df.loc[(df['Modification'] == m) & (df['Mult'] == mult) & (df['Library'] == lib)]\n",
    "            ax = plt.subplot(nrows, ncols, i + 1)\n",
    "            sns.boxplot(data=t, x=\"Fdr\", y=\"AverageLength\", hue=\"Tool\", palette=palette)\n",
    "            plt.title(f'{m} {lib} {mult}')\n",
    "            plt.xticks(rotation=45, ha='right')\n",
    "            plt.ylim(-20, t['AverageLength'].max() * 1.2)\n",
    "            if i % nrows == 0:\n",
    "                ax.legend(loc='upper left')\n",
    "            else:\n",
    "                ax.get_legend().remove()    \n",
    "\n",
    "        plt.tight_layout()\n",
    "        plt.savefig(os.path.join(FIGURES_DIR, f'length_{m}.{EXT}'), bbox_inches='tight', dpi=300)\n",
    "        plt.show()        "
   ]
  },
  {
   "cell_type": "code",
   "execution_count": null,
   "metadata": {
    "scrolled": true,
    "pycharm": {
     "name": "#%%\n"
    }
   },
   "outputs": [],
   "source": [
    "# Supplementary\n",
    "print('Summary number of peaks and length')\n",
    "# peaks_lengths(df)"
   ]
  },
  {
   "cell_type": "markdown",
   "metadata": {
    "pycharm": {
     "name": "#%% md\n"
    }
   },
   "source": [
    "## Precision / Recall"
   ]
  },
  {
   "cell_type": "code",
   "execution_count": null,
   "metadata": {
    "scrolled": true,
    "pycharm": {
     "name": "#%%\n"
    }
   },
   "outputs": [],
   "source": [
    "def precision_recall_detailed(df):\n",
    "    for m in sorted(set(df['Modification'])):\n",
    "        print(m)\n",
    "        nrows = int(floor(len(CONDITIONS) / 3))\n",
    "        ncols = int(ceil(len(CONDITIONS) / nrows))\n",
    "        fig = plt.figure(figsize=(5 * ncols, 5 * nrows))        \n",
    "        for i, (lib, mult) in enumerate(CONDITIONS):\n",
    "            t = df.loc[(df['Modification'] == m) & (df['Mult'] == mult) & (df['Library'] == lib)]\n",
    "            ax = plt.subplot(nrows, ncols, i + 1)\n",
    "            for I in set(t['I']):\n",
    "                tt = t.loc[t['I'] == I].copy()\n",
    "                tt.sort_values(by=['Tool', 'Recall', 'Precision'], inplace=True)\n",
    "                sns.lineplot(data=tt, x='Recall', y='Precision', hue='Tool', \n",
    "                             markers=True, style='I', alpha=0.8)\n",
    "            if i % nrows == 0:\n",
    "                # Single legend\n",
    "                handles, labels = ax.get_legend_handles_labels()\n",
    "                ax.legend(handles=handles[:len(set(tt['Tool'])) + 1], \n",
    "                          labels=labels[:len(set(tt['Tool'])) + 1],\n",
    "                         loc='lower left')\n",
    "            else:\n",
    "                ax.get_legend().remove()\n",
    "\n",
    "            plt.xlim(-0.1, 1.1)\n",
    "            plt.ylim(-0.1, 1.1)\n",
    "            plt.title(f'{m} {lib} {mult}')\n",
    "        plt.tight_layout()\n",
    "        plt.savefig(os.path.join(FIGURES_DIR, f'prc_plot_{m}.{EXT}'), bbox_inches='tight', dpi=300)\n",
    "        plt.show()"
   ]
  },
  {
   "cell_type": "code",
   "execution_count": null,
   "metadata": {
    "scrolled": false,
    "pycharm": {
     "name": "#%%\n"
    }
   },
   "outputs": [],
   "source": [
    "# # Supplementary\n",
    "# print('Detailed Precision / Recall plot')\n",
    "# precision_recall_detailed(df)"
   ]
  },
  {
   "cell_type": "code",
   "execution_count": null,
   "metadata": {
    "pycharm": {
     "name": "#%%\n"
    }
   },
   "outputs": [],
   "source": [
    "def precision_recall_length_detailed(df):\n",
    "    for m in sorted(set(df['Modification'])):\n",
    "        print(m)\n",
    "        nrows = int(floor(len(CONDITIONS) / 3))\n",
    "        ncols = int(ceil(len(CONDITIONS) / nrows))\n",
    "        fig = plt.figure(figsize=(5 * ncols, 5 * nrows))        \n",
    "        for i, (lib, mult) in enumerate(CONDITIONS):\n",
    "            t = df.loc[(df['Modification'] == m) & (df['Mult'] == mult) & (df['Library'] == lib)]\n",
    "            ax = plt.subplot(nrows, ncols, i + 1)\n",
    "            for I in set(t['I']):\n",
    "                tt = t.loc[t['I'] == I].copy()\n",
    "                tt.sort_values(by=['Tool', 'RecallL', 'PrecisionL'], inplace=True)\n",
    "                sns.lineplot(data=tt, x='RecallL', y='PrecisionL', hue='Tool', \n",
    "                             markers=True, style='I', alpha=0.8)\n",
    "            if i % nrows == 0:\n",
    "                # Single legend\n",
    "                handles, labels = ax.get_legend_handles_labels()\n",
    "                ax.legend(handles=handles[:len(set(tt['Tool'])) + 1], \n",
    "                          labels=labels[:len(set(tt['Tool'])) + 1],\n",
    "                         loc='lower left')\n",
    "            else:\n",
    "                ax.get_legend().remove()\n",
    "\n",
    "            plt.xlim(-0.1, 1.1)\n",
    "            plt.ylim(-0.1, 1.1)\n",
    "            plt.title(f'{m} {lib} {mult}')\n",
    "        plt.tight_layout()\n",
    "        plt.savefig(os.path.join(FIGURES_DIR, f'prc_plot_{m}.{EXT}'), bbox_inches='tight', dpi=300)\n",
    "        plt.show()"
   ]
  },
  {
   "cell_type": "code",
   "execution_count": null,
   "metadata": {
    "scrolled": false,
    "pycharm": {
     "name": "#%%\n"
    }
   },
   "outputs": [],
   "source": [
    "# Supplementary\n",
    "print('Detailed Precision / Recall plot')\n",
    "precision_recall_length_detailed(df)"
   ]
  },
  {
   "cell_type": "markdown",
   "metadata": {
    "pycharm": {
     "name": "#%% md\n"
    }
   },
   "source": [
    "## Aggregated precision / recall"
   ]
  },
  {
   "cell_type": "code",
   "execution_count": null,
   "metadata": {
    "pycharm": {
     "name": "#%%\n"
    }
   },
   "outputs": [],
   "source": [
    "def aggregated_precision_recall(df, name):\n",
    "    print('Peaks', name)\n",
    "    fig = plt.figure(figsize=(18, 3))\n",
    "    for i, m in enumerate(sorted(set(df['Modification']))):\n",
    "        ax = plt.subplot(1, len(set(df['Modification'])), i+1)\n",
    "        tt = df.loc[df['Modification'] == m]\n",
    "        for (lib, mult) in CONDITIONS:\n",
    "            for I in set(tt['I']):\n",
    "                for tool in set(tt['Tool']):\n",
    "                    ttt = tt.loc[(tt['Mult'] == mult) & (tt['Library'] == lib) & (tt['I'] == I)].copy()\n",
    "                    ttt.sort_values(by=['Tool', 'Recall', 'Precision'], inplace=True)\n",
    "                    sns.lineplot(data=ttt, x='Recall', y='Precision', hue='Tool', \n",
    "                                 markers=True, style='I', alpha=0.5)\n",
    "\n",
    "        if i == 0:\n",
    "            # Single legend\n",
    "            handles, labels = ax.get_legend_handles_labels()\n",
    "            ax.legend(handles=handles[:len(set(tt['Tool'])) + 1], \n",
    "                      labels=labels[:len(set(tt['Tool'])) + 1],\n",
    "                      loc='lower left')\n",
    "        else:\n",
    "            ax.get_legend().remove()\n",
    "        plt.xlim(-0.1, 1.1)\n",
    "        plt.ylim(-0.1, 1.1)\n",
    "        plt.title(m)\n",
    "    plt.tight_layout()\n",
    "    plt.savefig(os.path.join(FIGURES_DIR, f'aggregated_precision_recall_{name}.{EXT}'), bbox_inches='tight', dpi=300)\n",
    "    plt.show()"
   ]
  },
  {
   "cell_type": "code",
   "execution_count": null,
   "metadata": {
    "pycharm": {
     "name": "#%%\n"
    }
   },
   "outputs": [],
   "source": [
    "print('Precision / Recall good')\n",
    "aggregated_precision_recall(df.loc[good(df)], 'good')"
   ]
  },
  {
   "cell_type": "code",
   "execution_count": null,
   "metadata": {
    "pycharm": {
     "name": "#%%\n"
    }
   },
   "outputs": [],
   "source": [
    "print('Precision / Recall average')\n",
    "aggregated_precision_recall(df.loc[average(df)], 'average')"
   ]
  },
  {
   "cell_type": "code",
   "execution_count": null,
   "metadata": {
    "pycharm": {
     "name": "#%%\n"
    }
   },
   "outputs": [],
   "source": [
    "print('Precision / Recall bad')\n",
    "aggregated_precision_recall(df.loc[bad(df)], 'bad')"
   ]
  },
  {
   "cell_type": "code",
   "execution_count": null,
   "metadata": {
    "pycharm": {
     "name": "#%%\n"
    }
   },
   "outputs": [],
   "source": [
    "def aggregated_precision_recall_length(df, name):\n",
    "    print('Peaks', name)\n",
    "    fig = plt.figure(figsize=(18, 3))\n",
    "    for i, m in enumerate(sorted(set(df['Modification']))):\n",
    "        ax = plt.subplot(1, len(set(df['Modification'])), i+1)\n",
    "        tt = df.loc[df['Modification'] == m]\n",
    "        for (lib, mult) in CONDITIONS:\n",
    "            for I in set(tt['I']):\n",
    "                for tool in set(tt['Tool']):\n",
    "                    ttt = tt.loc[(tt['Mult'] == mult) & (tt['Library'] == lib) & (tt['I'] == I)].copy()\n",
    "                    ttt.sort_values(by=['Tool', 'RecallL', 'PrecisionL'], inplace=True)\n",
    "                    sns.lineplot(data=ttt, x='RecallL', y='PrecisionL', hue='Tool', \n",
    "                                 markers=True, style='I', alpha=0.5)\n",
    "\n",
    "        if i == 0:\n",
    "            # Single legend\n",
    "            handles, labels = ax.get_legend_handles_labels()\n",
    "            ax.legend(handles=handles[:len(set(tt['Tool'])) + 1], \n",
    "                      labels=labels[:len(set(tt['Tool'])) + 1],\n",
    "                      loc='lower left')\n",
    "        else:\n",
    "            ax.get_legend().remove()\n",
    "        plt.xlim(-0.1, 1.1)\n",
    "        plt.ylim(-0.1, 1.1)\n",
    "        plt.title(m)\n",
    "    plt.tight_layout()\n",
    "    plt.savefig(os.path.join(FIGURES_DIR, f'aggregated_precision_recall_length_{name}.{EXT}'), bbox_inches='tight', dpi=300)\n",
    "    plt.show()"
   ]
  },
  {
   "cell_type": "code",
   "execution_count": null,
   "metadata": {
    "pycharm": {
     "name": "#%%\n"
    }
   },
   "outputs": [],
   "source": [
    "print('Precision / Recall length good')\n",
    "aggregated_precision_recall_length(df.loc[good(df)], 'good')"
   ]
  },
  {
   "cell_type": "code",
   "execution_count": null,
   "metadata": {
    "pycharm": {
     "name": "#%%\n"
    }
   },
   "outputs": [],
   "source": [
    "print('Precision / Recall length average')\n",
    "aggregated_precision_recall_length(df.loc[average(df)], 'average')"
   ]
  },
  {
   "cell_type": "code",
   "execution_count": null,
   "metadata": {
    "pycharm": {
     "name": "#%%\n"
    }
   },
   "outputs": [],
   "source": [
    "print('Precision / Recall length bad')\n",
    "aggregated_precision_recall_length(df.loc[bad(df)], 'bad')"
   ]
  },
  {
   "cell_type": "markdown",
   "metadata": {
    "pycharm": {
     "name": "#%% md\n"
    }
   },
   "source": [
    "# Average precision\n",
    "\n",
    "AP summarizes a precision-recall curve as the weighted mean of precisions achieved at each threshold, with the increase in recall from the previous threshold used as the weight:\n",
    "\n",
    "AP = ∑(Rn−Rn−1)*Pn, where  Pn and Rn are the precision and recall at the nth threshold.\n",
    "\n",
    "This implementation is not interpolated and is different from computing the area under the precision-recall curve with the trapezoidal rule, which uses linear interpolation and can be too optimistic."
   ]
  },
  {
   "cell_type": "code",
   "execution_count": null,
   "metadata": {
    "pycharm": {
     "name": "#%%\n"
    }
   },
   "outputs": [],
   "source": [
    "dfap = pd.DataFrame(columns=['Modification', 'Library', 'Mult', 'I', 'Tool', 'AP', 'APL'], dtype=object)\n",
    "for m in sorted(set(df['Modification'])):\n",
    "    print(m)\n",
    "    for (lib, mult) in CONDITIONS:\n",
    "        t = df.loc[(df['Modification'] == m) & (df['Mult'] == mult) & (df['Library'] == lib)]\n",
    "        for tool in sorted(set(t['Tool'])):\n",
    "            for i in sorted(set(t['I'])):\n",
    "                tt = t.loc[(t['Tool']==tool) & (t['I'] == i)].copy()\n",
    "#                 tt.sort_values(by=['Recall', 'Precision'], inplace=True)\n",
    "                ap = 0\n",
    "                apl = 0\n",
    "                rprev = 0\n",
    "                rprevl = 0\n",
    "                for _, row in tt.iterrows():\n",
    "                    ap += (row['Recall'] - rprev)*row['Precision']\n",
    "                    rprev = row['Recall']\n",
    "                    apl += (row['RecallL'] - rprevl)*row['PrecisionL']\n",
    "                    rprevl = row['RecallL']\n",
    "                dfap.loc[len(dfap)] = [m, lib, mult, i, tool, ap, apl]\n"
   ]
  },
  {
   "cell_type": "markdown",
   "metadata": {
    "pycharm": {
     "name": "#%% md\n"
    }
   },
   "source": [
    "# Aggregated AP score"
   ]
  },
  {
   "cell_type": "code",
   "execution_count": null,
   "metadata": {
    "pycharm": {
     "name": "#%%\n"
    }
   },
   "outputs": [],
   "source": [
    "def plot_aggregated_ap(dfap):\n",
    "    dfap = with_quality(dfap, True)\n",
    "\n",
    "    for q in sorted(set(dfap['Quality'])):\n",
    "        print(q)\n",
    "        fig = plt.figure(figsize=(12, 4))\n",
    "        tt = dfap.loc[(dfap['Quality'] == q)].copy()\n",
    "        tt.sort_values(by=['Modification', 'Tool'], inplace=True)\n",
    "        sns.barplot(x='Modification', y='AP', hue='Tool', data=tt, palette=palette,\n",
    "                   capsize=.1, errwidth=2, edgecolor=\"black\")\n",
    "#         plt.title(f'{m} {name}')\n",
    "#         ax.legend(loc='lower left')\n",
    "        plt.ylim(-0.1, 1.1)\n",
    "        plt.tight_layout()\n",
    "        plt.savefig(os.path.join(FIGURES_DIR, f'aggregated_ap_{q}.{EXT}'), bbox_inches='tight', dpi=300)\n",
    "        plt.show()\n"
   ]
  },
  {
   "cell_type": "code",
   "execution_count": null,
   "metadata": {
    "scrolled": false,
    "pycharm": {
     "name": "#%%\n"
    }
   },
   "outputs": [],
   "source": [
    "plot_aggregated_ap(dfap)"
   ]
  },
  {
   "cell_type": "code",
   "execution_count": null,
   "metadata": {
    "pycharm": {
     "name": "#%%\n"
    }
   },
   "outputs": [],
   "source": [
    "def plot_aggregated_apl(dfap):\n",
    "    dfap = with_quality(dfap, True)\n",
    "\n",
    "    for q in sorted(set(dfap['Quality'])):\n",
    "        print(q)\n",
    "        fig = plt.figure(figsize=(12, 4))\n",
    "        tt = dfap.loc[(dfap['Quality'] == q)].copy()\n",
    "        tt.sort_values(by=['Modification', 'Tool'], inplace=True)\n",
    "        sns.barplot(x='Modification', y='APL', hue='Tool', data=tt, palette=palette,\n",
    "                    capsize=.1, errwidth=2, edgecolor=\"black\")\n",
    "#         plt.title(f'{m} {name}')\n",
    "#         ax.legend(loc='lower left')\n",
    "        plt.ylim(-0.1, 1.1)\n",
    "        plt.tight_layout()\n",
    "        plt.savefig(os.path.join(FIGURES_DIR, f'aggregated_apl_{q}.{EXT}'), bbox_inches='tight', dpi=300)\n",
    "        plt.show()\n",
    "\n"
   ]
  },
  {
   "cell_type": "code",
   "execution_count": null,
   "metadata": {
    "scrolled": false,
    "pycharm": {
     "name": "#%%\n"
    }
   },
   "outputs": [],
   "source": [
    "plot_aggregated_apl(dfap)"
   ]
  },
  {
   "cell_type": "markdown",
   "metadata": {
    "pycharm": {
     "name": "#%% md\n"
    }
   },
   "source": [
    "# Average precision score detailed"
   ]
  },
  {
   "cell_type": "code",
   "execution_count": null,
   "metadata": {
    "scrolled": true,
    "pycharm": {
     "name": "#%%\n"
    }
   },
   "outputs": [],
   "source": [
    "def avp_detailed(dfap):\n",
    "    for m in sorted(set(dfap['Modification'])):\n",
    "        print(m)\n",
    "        fig = plt.figure(figsize=(5 * 3, 5 * 3))\n",
    "        i = 1\n",
    "        for (lib, mult) in CONDITIONS:\n",
    "            tt = dfap.loc[(dfap['Modification'] == m) & \n",
    "                          (dfap['Mult'] == mult) & (dfap['Library'] == lib)].copy()\n",
    "            ax = plt.subplot(3, 3, i)\n",
    "            tt.sort_values(by=['Tool'], inplace=True)\n",
    "            sns.barplot(x= 'Tool', y='AP', data=tt, palette=palette,\n",
    "                       capsize=.1, errwidth=2, edgecolor=\"black\")\n",
    "            plt.title(f'{m} {lib} {mult}')\n",
    "            if i == 1:\n",
    "                ax.legend(loc='lower left')\n",
    "            else:\n",
    "                pass\n",
    "#                 ax.get_legend().remove()\n",
    "            i += 1\n",
    "            plt.ylim(-0.1, 1.1)\n",
    "        plt.tight_layout()\n",
    "        plt.savefig(os.path.join(FIGURES_DIR, f'ap_{m}.{EXT}'), bbox_inches='tight', dpi=300)\n",
    "        plt.show()"
   ]
  },
  {
   "cell_type": "code",
   "execution_count": null,
   "metadata": {
    "scrolled": true,
    "pycharm": {
     "name": "#%%\n"
    }
   },
   "outputs": [],
   "source": [
    "# Supplementary\n",
    "print('AP for various conditions')\n",
    "avp_detailed(dfap)"
   ]
  },
  {
   "cell_type": "code",
   "execution_count": null,
   "metadata": {
    "pycharm": {
     "name": "#%%\n"
    }
   },
   "outputs": [],
   "source": [
    "def avpl_detailed(dfap):\n",
    "    for m in sorted(set(dfap['Modification'])):\n",
    "        print(m)\n",
    "        fig = plt.figure(figsize=(5 * 3, 5 * 3))\n",
    "        i = 1\n",
    "        for (lib, mult) in CONDITIONS:\n",
    "            tt = dfap.loc[(dfap['Modification'] == m) & \n",
    "                          (dfap['Mult'] == mult) & (dfap['Library'] == lib)].copy()\n",
    "            ax = plt.subplot(3, 3, i)\n",
    "            tt.sort_values(by=['Tool'], inplace=True)\n",
    "            sns.barplot(x= 'Tool', y='APL', data=tt, palette=palette,\n",
    "                        capsize=.1, errwidth=2, edgecolor=\"black\")\n",
    "            plt.title(f'{m} {lib} {mult}')\n",
    "            if i == 1:\n",
    "                ax.legend(loc='lower left')\n",
    "            else:\n",
    "                pass\n",
    "#                 ax.get_legend().remove()\n",
    "            i += 1\n",
    "            plt.ylim(-0.1, 1.1)\n",
    "        plt.tight_layout()\n",
    "        plt.savefig(os.path.join(FIGURES_DIR, f'apl_{m}.{EXT}'), bbox_inches='tight', dpi=300)\n",
    "        plt.show()"
   ]
  },
  {
   "cell_type": "code",
   "execution_count": null,
   "metadata": {
    "scrolled": true,
    "pycharm": {
     "name": "#%%\n"
    }
   },
   "outputs": [],
   "source": [
    "# Supplementary\n",
    "print('APL for various conditions')\n",
    "avpl_detailed(dfap)"
   ]
  },
  {
   "cell_type": "code",
   "execution_count": null,
   "outputs": [],
   "source": [],
   "metadata": {
    "collapsed": false,
    "pycharm": {
     "name": "#%%\n"
    }
   }
  }
 ],
 "metadata": {
  "kernelspec": {
   "display_name": "Python 3",
   "language": "python",
   "name": "python3"
  },
  "language_info": {
   "codemirror_mode": {
    "name": "ipython",
    "version": 3
   },
   "file_extension": ".py",
   "mimetype": "text/x-python",
   "name": "python",
   "nbconvert_exporter": "python",
   "pygments_lexer": "ipython3",
   "version": "3.8.5"
  }
 },
 "nbformat": 4,
 "nbformat_minor": 5
}