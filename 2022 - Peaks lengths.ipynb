{
 "cells": [
  {
   "cell_type": "markdown",
   "source": [
    "# Peaks length"
   ],
   "metadata": {
    "collapsed": false
   }
  },
  {
   "cell_type": "code",
   "execution_count": null,
   "outputs": [],
   "source": [
    "%matplotlib inline\n",
    "%config InlineBackend.figure_format='retina'\n",
    "\n",
    "import pandas as pd\n",
    "import seaborn as sns\n",
    "from IPython.display import display\n",
    "\n",
    "# sns.set_style(\"whitegrid\")\n",
    "sns.set_style(\"white\")\n",
    "import matplotlib.pyplot as plt\n",
    "import numpy as np\n",
    "import os\n",
    "from tqdm.auto import tqdm"
   ],
   "metadata": {
    "collapsed": false,
    "ExecuteTime": {
     "start_time": "2023-05-17T09:53:42.686083Z",
     "end_time": "2023-05-17T09:53:42.690972Z"
    }
   }
  },
  {
   "cell_type": "code",
   "execution_count": null,
   "outputs": [],
   "source": [
    "def bedl(file):\n",
    "    try:\n",
    "        tf = pd.read_csv(file, sep='\\t', header=None)\n",
    "        return tf[2] - tf[1]\n",
    "    except:\n",
    "        return np.zeros(0)  # Empty file\n",
    "\n",
    "\n",
    "def lines(file):\n",
    "    try:\n",
    "        tf = pd.read_csv(file, sep='\\t', header=None)\n",
    "        return len(tf)\n",
    "    except:\n",
    "        return 0  # Empty file\n",
    "\n",
    "\n",
    "def scores(file):\n",
    "    try:\n",
    "        tf = pd.read_csv(file, sep='\\t', header=None)\n",
    "        return tf[4]\n",
    "    except:\n",
    "        return np.zeros(0)  # Empty file\n",
    "\n",
    "def positions(file):\n",
    "    try:\n",
    "        tf = pd.read_csv(file, sep='\\t', header=None)\n",
    "        return tf[0], tf[1], tf[2]\n",
    "    except:\n",
    "        return [], [], []  # Empty file"
   ],
   "metadata": {
    "collapsed": false,
    "ExecuteTime": {
     "start_time": "2023-05-17T09:53:42.927779Z",
     "end_time": "2023-05-17T09:53:42.941780Z"
    }
   }
  },
  {
   "cell_type": "code",
   "execution_count": null,
   "outputs": [],
   "source": [
    "def find_peak_files(path, suffix, cells, modifications, replicates, fdrs):\n",
    "    df = pd.DataFrame(\n",
    "        columns=['modification', 'cell', 'replicate', 'fdr', 'file'],\n",
    "        dtype=object\n",
    "    )\n",
    "    for f in tqdm(os.listdir(path)):\n",
    "        if suffix not in f:\n",
    "            continue\n",
    "        mod = next((m for m in modifications if m in f), None)\n",
    "        cell = next((cc for cc in cells if cc in f), None)\n",
    "        rep = next((r for r in replicates if r in f), None)\n",
    "        fdr = next((fdr for fdr in fdrs if fdr in f), None)\n",
    "        if mod:\n",
    "            df.loc[len(df)] = (mod, cell, rep, fdr, os.path.join(path, f))\n",
    "    return df"
   ],
   "metadata": {
    "collapsed": false,
    "ExecuteTime": {
     "start_time": "2023-05-17T09:53:43.039845Z",
     "end_time": "2023-05-17T09:53:43.129387Z"
    }
   }
  },
  {
   "cell_type": "code",
   "execution_count": null,
   "outputs": [],
   "source": [
    "def load_peaks(df, lowq=.01, highq=.99):\n",
    "    dfs = []\n",
    "    for _, (m, t, file) in tqdm(df[['modification', 'tool', 'file']].iterrows()):\n",
    "        peaks_info = []\n",
    "        chromosomes, starts, ends = positions(file)\n",
    "        peaks_info.extend((m, t, file, chr, start, end, score, length)\n",
    "                          for chr, start, end, score, length in zip(chromosomes, starts, ends, scores(file), bedl(file)))\n",
    "        t = pd.DataFrame(\n",
    "            peaks_info,\n",
    "            columns=['modification', 'tool', 'file', 'chromosome', 'start', 'end', 'score', 'length']\n",
    "        )\n",
    "        t['length'] = t['length'].astype(int)\n",
    "        t['score'] = t['score'].astype(int)\n",
    "        t = t.sample(min(len(t), 10_000))\n",
    "        # Ignore extreme peaks\n",
    "        t = t[(t['length'].quantile(lowq) <= t['length']) &\n",
    "              (t['length'] <= t['length'].quantile(highq))].copy()\n",
    "        dfs.append(t)\n",
    "    return pd.concat(dfs, ignore_index=True)"
   ],
   "metadata": {
    "collapsed": false,
    "ExecuteTime": {
     "start_time": "2023-05-17T09:53:43.247692Z",
     "end_time": "2023-05-17T09:53:43.289102Z"
    }
   }
  },
  {
   "cell_type": "code",
   "execution_count": null,
   "outputs": [],
   "source": [
    "def plot_boxes(df, value, title, hue='modification', violin=True, log=False, figx=None, figy=None,\n",
    "               minx=50, maxx=1e4, order=None):\n",
    "    plt.figure(figsize=(figx or 8, figy or int(2 + 0.15 * len(set(df[hue])))))\n",
    "    ax = plt.axes()\n",
    "    if violin:\n",
    "        g_results = sns.violinplot(data=df, y=hue, x=value, ax=ax, scale='width', order=order)\n",
    "    else:\n",
    "        g_results = sns.boxplot(data=df, y=hue, x=value, ax=ax, order=order, showfliers=False)\n",
    "    sample_count = list(\n",
    "        filter(lambda x: minx <= x <= maxx,\n",
    "               [10, 100,  1000, 10_000, 100_000, 1_000_000])\n",
    "    )\n",
    "    if log:\n",
    "        g_results.set(xscale='log')\n",
    "        g_results.set(xticks=sample_count)\n",
    "        g_results.set(xticklabels=sample_count)\n",
    "    ax.set_xlim(minx, maxx)\n",
    "    ax.title.set_text(title)\n",
    "    plt.tight_layout()"
   ],
   "metadata": {
    "collapsed": false,
    "ExecuteTime": {
     "start_time": "2023-05-17T09:53:43.774840Z",
     "end_time": "2023-05-17T09:53:43.811198Z"
    }
   }
  },
  {
   "cell_type": "code",
   "execution_count": null,
   "outputs": [],
   "source": [
    "def plot_kde(te, value, title, hue='modification', order=None, figx=8, figy=3, minx=1, maxx=1e5, maxy=2.5):\n",
    "    plt.figure(figsize=(figx, figy))\n",
    "    ax = plt.axes()\n",
    "    g_results = sns.kdeplot(data=te, x=value, hue=hue,\n",
    "                            common_norm=False,\n",
    "                            log_scale=True,\n",
    "                            hue_order=order)\n",
    "    g_results.set(xscale='log')\n",
    "    g_results.set_ylim(0, maxy)\n",
    "    g_results.set_xlim(minx, maxx)\n",
    "    ax.title.set_text(title)\n",
    "    plt.tight_layout()"
   ],
   "metadata": {
    "collapsed": false,
    "ExecuteTime": {
     "start_time": "2023-05-17T09:53:44.152597Z",
     "end_time": "2023-05-17T09:53:44.214875Z"
    }
   }
  },
  {
   "cell_type": "markdown",
   "source": [
    "# hg38 genes length and distance between genes"
   ],
   "metadata": {
    "collapsed": false
   }
  },
  {
   "cell_type": "code",
   "execution_count": null,
   "outputs": [],
   "source": [
    "GSE26320_PATH = os.path.expanduser('~/data/2023_GSE26320')\n",
    "\n",
    "GTF = os.path.expanduser(\n",
    "    '~/data/2023_Immune/gencode.GRCh38.p13.v41.annotation.gtf')\n",
    "gtf_df = pd.read_csv(os.path.join(GSE26320_PATH, GTF), sep='\\t', comment='#',\n",
    "                     names=['chromosome', 'db', 'type', 'start', 'end', 'point1', 'strand', 'point2', 'aux'])\n",
    "print('Parse GTF aux data')\n",
    "auxes = {}\n",
    "for i, aux in enumerate(tqdm(gtf_df['aux'])):\n",
    "    for pair in aux.split(';'):\n",
    "        kv = pair.strip().split(' ')\n",
    "        if len(kv) != 2:\n",
    "            continue\n",
    "        k, v = kv\n",
    "        if k not in auxes:\n",
    "            auxes[k] = vs = []\n",
    "        else:\n",
    "            vs = auxes[k]\n",
    "        vs.append(v.strip('\"'))\n",
    "\n",
    "for k, vs in auxes.items():\n",
    "    if len(vs) == len(gtf_df):\n",
    "        gtf_df[k] = vs\n",
    "    else:\n",
    "        print(f'Ignoring {k}')\n",
    "del auxes\n",
    "gtf_df.drop('aux', axis=1, inplace=True)\n",
    "gtf_df.sample(3)"
   ],
   "metadata": {
    "collapsed": false,
    "ExecuteTime": {
     "start_time": "2023-05-17T09:53:44.870994Z",
     "end_time": "2023-05-17T09:54:26.831513Z"
    }
   }
  },
  {
   "cell_type": "code",
   "execution_count": null,
   "outputs": [],
   "source": [
    "gtf_df['length'] = gtf_df['end'] - gtf_df['start']\n",
    "gtf_df[gtf_df['type'] == 'gene'].sample(5)\n",
    "print('GTF all genes lengths')\n",
    "gtf_genes_df = gtf_df[gtf_df['type'] == 'gene'].copy()\n",
    "plot_boxes(gtf_genes_df, 'length', 'Length of genes',\n",
    "           hue='gene_type',\n",
    "           log=True, violin=False, minx=5, maxx=2_000_000)\n",
    "plt.show()"
   ],
   "metadata": {
    "collapsed": false,
    "ExecuteTime": {
     "start_time": "2023-05-17T09:54:26.785879Z",
     "end_time": "2023-05-17T09:54:28.162662Z"
    }
   }
  },
  {
   "cell_type": "code",
   "execution_count": null,
   "outputs": [],
   "source": [
    "print('GTF all genes lengths')\n",
    "plot_kde(gtf_genes_df, 'length', 'Length of genes', hue='gene_type', figx=15, figy=10, minx=5, maxx=2e6, maxy=23)\n",
    "plt.show()"
   ],
   "metadata": {
    "collapsed": false,
    "ExecuteTime": {
     "start_time": "2023-05-17T09:54:28.161092Z",
     "end_time": "2023-05-17T09:54:29.561596Z"
    }
   }
  },
  {
   "cell_type": "code",
   "execution_count": null,
   "outputs": [],
   "source": [
    "GENES_TYPES = ['protein_coding', 'pseudogene']\n",
    "# GENES_TYPES = ['protein_coding']\n",
    "print('GTF genes lengths')\n",
    "gtf_genes_df2 = gtf_genes_df[gtf_genes_df['gene_type'].isin(GENES_TYPES)].copy()\n",
    "plot_boxes(gtf_genes_df2, 'length', 'Length of genes', hue='gene_type',\n",
    "           log=True, violin=False, minx=10, maxx=2_000_000,\n",
    "           order=['protein_coding', 'pseudogene'])\n",
    "gtf_genes_df2['file'] = 'gtf'\n",
    "gtf_genes_df2['tool'] = 'gtf'\n",
    "plt.show()"
   ],
   "metadata": {
    "collapsed": false,
    "ExecuteTime": {
     "start_time": "2023-05-17T09:54:29.560564Z",
     "end_time": "2023-05-17T09:54:29.912355Z"
    }
   }
  },
  {
   "cell_type": "code",
   "execution_count": null,
   "outputs": [],
   "source": [
    "print('GTF all genes lengths')\n",
    "plot_kde(gtf_genes_df2, 'length', 'Length of genes', hue='gene_type', order=GENES_TYPES,\n",
    "         minx=10, maxx=2e6, maxy=2)\n",
    "plt.show()"
   ],
   "metadata": {
    "collapsed": false,
    "ExecuteTime": {
     "start_time": "2023-05-17T09:54:29.913769Z",
     "end_time": "2023-05-17T09:54:30.498227Z"
    }
   }
  },
  {
   "cell_type": "markdown",
   "source": [
    "# Encodeproject.org ATAC/TFs/ChIPseq"
   ],
   "metadata": {
    "collapsed": false
   }
  },
  {
   "cell_type": "markdown",
   "source": [
    "`xargs -L 1 curl -O -J -L < files.txt` and rename using `metadata.csv`\n",
    "```\n",
    "cd ~/data/2022_atacseq\n",
    "for F in *.bed; do echo $F; mv $F $(grep \"^${F/.bed/}\" metadata.tsv | awk  -v FS='\\t' '{printf(\"%s_%s_%s\", $1, $11, \"ATAC\")}'  | sed 's# #_#g').bed; done\n",
    "\n",
    "cd ~/data/2022_chipseq_narrow\n",
    "for F in *.bed; do echo $F; mv $F $(grep \"^${F/.bed/}\" metadata.tsv | awk  -v FS='\\t' '{printf(\"%s_%s_%s\", $1, $11, $23)}'  | sed -E 's#[^a-zA-Z0-9]+#_#g').bed; done\n",
    "\n",
    "cd ~/data/2022_chipseq_broad\n",
    "for F in *.bed; do echo $F; mv $F $(grep \"^${F/.bed/}\" metadata.tsv | awk  -v FS='\\t' '{printf(\"%s_%s_%s\", $1, $11, $23)}'  | sed -E 's#[^a-zA-Z0-9]+#_#g').bed; done\n",
    "\n",
    "# Simple analysis\n",
    "for F in *.bed; do echo $(cat $F | awk '{N+=1;L+=$3-$2} END {printf(\"%d\\n\", L/N)}') $F; done | sort -k1,1n\n",
    "```"
   ],
   "metadata": {
    "collapsed": false
   }
  },
  {
   "cell_type": "code",
   "execution_count": null,
   "outputs": [],
   "source": [
    "ENCODE_REPROCESSED_PATH = os.path.expanduser('~/data/2022_atac_chipseq_encode')\n",
    "\n",
    "!mkdir -p {ENCODE_REPROCESSED_PATH}/pics"
   ],
   "metadata": {
    "collapsed": false,
    "ExecuteTime": {
     "start_time": "2023-05-17T09:54:30.542296Z",
     "end_time": "2023-05-17T09:54:30.764476Z"
    }
   }
  },
  {
   "cell_type": "code",
   "execution_count": null,
   "outputs": [],
   "source": [
    "def plot_length_per_file(df, value):\n",
    "    for t, m in product(set(df['tool']), set(df['modification'])):\n",
    "        ts = df[(df['tool'] == t) & (df['modification'] == m)]\n",
    "        if len(ts) == 0:\n",
    "            continue\n",
    "        print(t, m, len(set(ts['file'])))\n",
    "        plt.figure(figsize=(12, 8))\n",
    "        # Plot\n",
    "        ax = plt.axes()\n",
    "        sns.violinplot(data=ts, x='file', y=value, ax=ax, scale='width')\n",
    "        ax.title.set_text(f'{m} {t}')\n",
    "        plt.xticks(rotation=90, fontsize=7)\n",
    "        plt.xlabel('file')\n",
    "        plt.tight_layout()\n",
    "        plt.show()"
   ],
   "metadata": {
    "collapsed": false,
    "ExecuteTime": {
     "start_time": "2023-05-17T09:54:30.776702Z",
     "end_time": "2023-05-17T09:54:30.781297Z"
    }
   }
  },
  {
   "cell_type": "markdown",
   "source": [
    "# Reprocessed with MACS2"
   ],
   "metadata": {
    "collapsed": false
   }
  },
  {
   "cell_type": "code",
   "execution_count": null,
   "outputs": [],
   "source": [
    "ENCODE_REPROCESSED_CELLS = ['']\n",
    "ENCODE_REPROCESSED_MODIFICATIONS = [\n",
    "    'ATAC', 'CTCF', 'H2AFZ', 'H3K27ac', 'H3K4me3', 'H3K4me1', 'H3K27me3', 'H3K36me3'\n",
    "]\n",
    "# Joint MACS2 for narrow and MACS2 broad for broad peaks\n",
    "FDRS = ['']\n",
    "df_encodeprojectorg_reprocessed = pd.concat(\n",
    "    [\n",
    "        find_peak_files(\n",
    "            ENCODE_REPROCESSED_PATH + '/macs2', '.narrowPeak', ENCODE_REPROCESSED_CELLS, ENCODE_REPROCESSED_MODIFICATIONS,\n",
    "            ['rep1', 'rep2'], FDRS\n",
    "        ),\n",
    "        find_peak_files(\n",
    "\n",
    "            ENCODE_REPROCESSED_PATH + '/macs2', '.broadPeak', ENCODE_REPROCESSED_CELLS, ENCODE_REPROCESSED_MODIFICATIONS,\n",
    "            ['rep1', 'rep2'], FDRS\n",
    "        )]\n",
    ")\n",
    "df_encodeprojectorg_reprocessed['tool'] = 'Macs2'\n",
    "# df_encode_reprocessed.sample(3)"
   ],
   "metadata": {
    "collapsed": false,
    "ExecuteTime": {
     "start_time": "2023-05-17T09:54:30.781373Z",
     "end_time": "2023-05-17T09:54:30.842667Z"
    }
   }
  },
  {
   "cell_type": "code",
   "execution_count": null,
   "outputs": [],
   "source": [
    "df_encodeprojectorg_reprocessed_peaks = load_peaks(df_encodeprojectorg_reprocessed)\n",
    "display(df_encodeprojectorg_reprocessed_peaks.sample(5))"
   ],
   "metadata": {
    "collapsed": false,
    "ExecuteTime": {
     "start_time": "2023-05-17T09:54:30.853673Z",
     "end_time": "2023-05-17T09:54:32.928557Z"
    }
   }
  },
  {
   "cell_type": "code",
   "execution_count": null,
   "outputs": [],
   "source": [
    "t = gtf_genes_df2[gtf_genes_df2['gene_type']=='protein_coding'].copy().rename(\n",
    "    {'gene_type': 'modification'}, axis=1\n",
    ")\n",
    "t['modification'] = 'Gene'\n",
    "print('Encodeproject.org ATAC/TFs/ChIPseq SELECTED REPROCESSED MACS2')\n",
    "plot_boxes(pd.concat([df_encodeprojectorg_reprocessed_peaks, t]).reset_index(),\n",
    "           'length', 'MACS2 Length by modification',\n",
    "           violin=False, log=True, figx=8, figy=3, minx=30, maxx=2e5,\n",
    "           order=['CTCF', 'ATAC', 'H2AFZ', 'H3K4me3', 'H3K4me1', 'H3K27ac', 'H3K36me3', 'H3K27me3', 'Gene'])\n",
    "plt.savefig(f'{ENCODE_REPROCESSED_PATH}/pics/lengthsMACS2_1.pdf', bbox_inches='tight', dpi=300)\n",
    "plt.show()"
   ],
   "metadata": {
    "collapsed": false,
    "ExecuteTime": {
     "start_time": "2023-05-17T10:00:17.887665Z",
     "end_time": "2023-05-17T10:00:18.664499Z"
    }
   }
  },
  {
   "cell_type": "code",
   "execution_count": null,
   "outputs": [],
   "source": [
    "plot_kde(df_encodeprojectorg_reprocessed_peaks, 'length', 'MACS2 Length by modification', minx=50, maxx=1e5, maxy=5)\n",
    "plt.savefig(f'{ENCODE_REPROCESSED_PATH}/pics/lengthsMACS2_2.pdf', bbox_inches='tight', dpi=300)\n",
    "plt.show()"
   ],
   "metadata": {
    "collapsed": false,
    "ExecuteTime": {
     "start_time": "2023-05-17T09:54:33.804777Z",
     "end_time": "2023-05-17T09:54:34.742810Z"
    }
   }
  },
  {
   "cell_type": "markdown",
   "source": [
    "# Encode reprocessed with SPAN"
   ],
   "metadata": {
    "collapsed": false
   }
  },
  {
   "cell_type": "code",
   "execution_count": null,
   "outputs": [],
   "source": [
    "df_encodeprojectorg_reprocessed_span = find_peak_files(\n",
    "    ENCODE_REPROCESSED_PATH + '/span', '.peak', ENCODE_REPROCESSED_CELLS, ENCODE_REPROCESSED_MODIFICATIONS,\n",
    "    ['rep1', 'rep2'],\n",
    "    FDRS\n",
    ")\n",
    "df_encodeprojectorg_reprocessed_span['tool'] = 'Span'\n",
    "df_encodeprojectorg_reprocessed_span.sample(3)"
   ],
   "metadata": {
    "collapsed": false,
    "ExecuteTime": {
     "start_time": "2023-05-17T09:54:34.742339Z",
     "end_time": "2023-05-17T09:54:34.803032Z"
    }
   }
  },
  {
   "cell_type": "code",
   "execution_count": null,
   "outputs": [],
   "source": [
    "df_encodeprojectorg_reprocessed_span_peaks = load_peaks(df_encodeprojectorg_reprocessed_span)\n",
    "display(df_encodeprojectorg_reprocessed_span_peaks.sample(5))"
   ],
   "metadata": {
    "collapsed": false,
    "ExecuteTime": {
     "start_time": "2023-05-17T09:54:34.787546Z",
     "end_time": "2023-05-17T09:54:36.772003Z"
    }
   }
  },
  {
   "cell_type": "code",
   "execution_count": null,
   "outputs": [],
   "source": [
    "t = gtf_genes_df2[gtf_genes_df2['gene_type']=='protein_coding'].copy().rename(\n",
    "    {'gene_type': 'modification'}, axis=1\n",
    ")\n",
    "t['modification'] = 'Gene'\n",
    "\n",
    "print('Encodeproject.org ATAC/TFs/ChIPseq SELECTED REPROCESSED SPAN')\n",
    "plot_boxes(pd.concat([df_encodeprojectorg_reprocessed_span_peaks, t]).reset_index(),\n",
    "           'length', 'SPAN Length by modification',\n",
    "           violin=False, log=True, figx=8, figy=3, minx=30, maxx=2e5,\n",
    "           order=['CTCF', 'ATAC', 'H2AFZ', 'H3K4me3', 'H3K4me1', 'H3K27ac', 'H3K36me3', 'H3K27me3', 'Gene'])\n",
    "plt.savefig(f'{ENCODE_REPROCESSED_PATH}/pics/lengthsSPAN_1.pdf', bbox_inches='tight', dpi=300)\n",
    "plt.show()"
   ],
   "metadata": {
    "collapsed": false,
    "ExecuteTime": {
     "start_time": "2023-05-17T09:54:36.771204Z",
     "end_time": "2023-05-17T09:54:37.554238Z"
    }
   }
  },
  {
   "cell_type": "code",
   "execution_count": null,
   "outputs": [],
   "source": [
    "plot_kde(df_encodeprojectorg_reprocessed_span_peaks, 'length', 'SPAN Length by modification', minx=0, maxx=1e5, maxy=2)\n",
    "plt.savefig(f'{ENCODE_REPROCESSED_PATH}/pics/lengthsSPAN_2.pdf', bbox_inches='tight', dpi=300)\n",
    "plt.show()"
   ],
   "metadata": {
    "collapsed": false,
    "ExecuteTime": {
     "start_time": "2023-05-17T09:54:37.558765Z",
     "end_time": "2023-05-17T09:54:38.586137Z"
    }
   }
  },
  {
   "cell_type": "markdown",
   "source": [
    "# GSE26320_RAW reprocessed"
   ],
   "metadata": {
    "collapsed": false
   }
  },
  {
   "cell_type": "code",
   "execution_count": null,
   "outputs": [],
   "source": [
    "GSE26320_CELLS = ['GM12878', 'HMEC', 'HSMM', 'K562', 'NHEK', 'NHLF', 'H1', 'Huvec', 'HepG2']\n",
    "GSE26320_MODIFICATIONS = ['CTCF', 'H3K27ac', 'H3K27me3', 'H3K36me3', 'H3K4me1', 'H3K4me3']\n",
    "GSE26320_REPS = ['rep1', 'rep2']"
   ],
   "metadata": {
    "collapsed": false,
    "ExecuteTime": {
     "start_time": "2023-05-18T18:26:05.726948Z",
     "end_time": "2023-05-18T18:26:05.756419Z"
    }
   }
  },
  {
   "cell_type": "code",
   "execution_count": null,
   "outputs": [],
   "source": [
    "GSE26320_MACS2_DIR = os.path.join(GSE26320_PATH, os.path.expanduser('macs2'))\n",
    "\n",
    "MACS2_FDRS = ['0.05']\n",
    "df_gse26320_macs2 = find_peak_files(\n",
    "    GSE26320_MACS2_DIR, '.narrowPeak', GSE26320_CELLS, GSE26320_MODIFICATIONS, GSE26320_REPS, MACS2_FDRS\n",
    ")\n",
    "df_gse26320_macs2['tool'] = 'MACS2'\n",
    "\n",
    "df_gse26320_macs2broad = find_peak_files(\n",
    "    GSE26320_MACS2_DIR, '.broadPeak', GSE26320_CELLS, GSE26320_MODIFICATIONS, GSE26320_REPS, MACS2_FDRS\n",
    ")\n",
    "df_gse26320_macs2broad['tool'] = 'MACS2 broad'\n",
    "\n",
    "GSE26320_SICER_DIR = os.path.join(GSE26320_PATH, os.path.expanduser('sicer'))\n",
    "GSE26320_SICER_FDRS = ['0.01']\n",
    "df_gse26320_sicer = find_peak_files(\n",
    "    GSE26320_SICER_DIR, 'summary-FDR', GSE26320_CELLS, GSE26320_MODIFICATIONS,\n",
    "    GSE26320_REPS, GSE26320_SICER_FDRS\n",
    ")\n",
    "df_gse26320_sicer['tool'] = 'SICER'\n",
    "\n",
    "GSE26320_SPAN_DIR = os.path.join(GSE26320_PATH, os.path.expanduser('span'))\n",
    "GSE26320_SPAN_FDRS = ['0.05']\n",
    "df_gse26320_span = find_peak_files(\n",
    "    GSE26320_SPAN_DIR, '.peak', GSE26320_CELLS, GSE26320_MODIFICATIONS, GSE26320_REPS, GSE26320_SPAN_FDRS\n",
    ")\n",
    "df_gse26320_span['tool'] = 'SPAN'\n",
    "\n",
    "df_gse26320 = pd.concat(\n",
    "    [df_gse26320_macs2, df_gse26320_macs2broad, df_gse26320_sicer, df_gse26320_span]\n",
    ").reset_index(drop=True)\n",
    "df_gse26320.sample(10)"
   ],
   "metadata": {
    "collapsed": false,
    "ExecuteTime": {
     "start_time": "2023-05-18T18:26:06.035208Z",
     "end_time": "2023-05-18T18:26:06.568993Z"
    }
   }
  },
  {
   "cell_type": "code",
   "execution_count": null,
   "outputs": [],
   "source": [
    "df_gse26320_peaks = load_peaks(df_gse26320)\n",
    "df_gse26320_peaks"
   ],
   "metadata": {
    "collapsed": false,
    "ExecuteTime": {
     "start_time": "2023-05-18T18:26:06.519777Z",
     "end_time": "2023-05-18T18:26:53.073860Z"
    }
   }
  },
  {
   "cell_type": "code",
   "execution_count": null,
   "outputs": [],
   "source": [
    "print('GSE26320 REPROCESSED  Length of peaks')\n",
    "plot_kde(df_gse26320_peaks, 'length', 'Peaks length',\n",
    "         order=['CTCF', 'H3K27ac', 'H3K4me3', 'H3K4me1', 'H3K36me3', 'H3K27me3'],\n",
    "         minx=5e1, maxx=1e5)\n",
    "plt.savefig(f'{GSE26320_PATH}/pics/modifications_lengths.pdf', bbox_inches='tight', dpi=300)\n",
    "plt.show()"
   ],
   "metadata": {
    "collapsed": false,
    "ExecuteTime": {
     "start_time": "2023-05-18T18:26:53.076868Z",
     "end_time": "2023-05-18T18:27:02.425193Z"
    }
   }
  },
  {
   "cell_type": "code",
   "execution_count": null,
   "outputs": [],
   "source": [
    "for tool in ['MACS2', 'MACS2 broad', 'SPAN', 'SICER']:\n",
    "    print(tool)\n",
    "    plot_kde(df_gse26320_peaks[df_gse26320_peaks['tool'] == tool], 'length', f'{tool} Peaks length',\n",
    "             order=['H3K27ac', 'H3K4me3', 'H3K4me1', 'H3K36me3', 'H3K27me3'],\n",
    "             minx=5e1, maxx=1e5)\n",
    "    plt.savefig(f'{GSE26320_PATH}/pics/modifications_{tool}_lengths.pdf', bbox_inches='tight', dpi=300)\n",
    "    plt.show()"
   ],
   "metadata": {
    "collapsed": false,
    "ExecuteTime": {
     "start_time": "2023-05-18T18:28:20.689088Z",
     "end_time": "2023-05-18T18:28:32.131044Z"
    }
   }
  },
  {
   "cell_type": "code",
   "execution_count": null,
   "outputs": [],
   "source": [
    "print('GSE26320 REPROCESSED Length of peaks')\n",
    "plot_boxes(df_gse26320_peaks, 'length', 'Length by modification',\n",
    "           log=True, violin=False, minx=5e1, maxx=5e4,\n",
    "           order=['H3K27ac', 'H3K4me3', 'H3K4me1', 'H3K36me3', 'H3K27me3'],\n",
    "           )\n",
    "plt.show()"
   ],
   "metadata": {
    "collapsed": false,
    "ExecuteTime": {
     "start_time": "2023-05-18T18:28:32.141797Z",
     "end_time": "2023-05-18T18:28:33.078989Z"
    }
   }
  },
  {
   "cell_type": "code",
   "execution_count": null,
   "outputs": [],
   "source": [
    "print('GSE26320 REPROCESSED Length of peaks')\n",
    "for tool in ['MACS2', 'MACS2 broad', 'SPAN', 'SICER']:\n",
    "    print(tool)\n",
    "    plot_boxes(df_gse26320_peaks[df_gse26320_peaks['tool'] == tool], 'length', f'{tool} Peaks length',\n",
    "               log=True, violin=False, minx=5e1, maxx=5e4,\n",
    "               order=['H3K27ac', 'H3K4me3', 'H3K4me1', 'H3K36me3', 'H3K27me3'])\n",
    "    plt.savefig(f'{GSE26320_PATH}/pics/modifications_{tool}_lengths2.pdf', bbox_inches='tight', dpi=300)\n",
    "    plt.show()"
   ],
   "metadata": {
    "collapsed": false,
    "ExecuteTime": {
     "start_time": "2023-05-18T18:28:33.158791Z",
     "end_time": "2023-05-18T18:28:36.623968Z"
    }
   }
  },
  {
   "cell_type": "code",
   "execution_count": null,
   "outputs": [],
   "source": [
    "from math import floor\n",
    "\n",
    "def compute_length_percentiles(ts, steps = 10):\n",
    "    percentiles = []\n",
    "    for m in set(ts['modification']):\n",
    "        tm = ts[ts['modification'] == m].copy()\n",
    "        tm.sort_values(by=['length'], inplace=True)\n",
    "        tmn = int(floor(len(tm) / steps))\n",
    "        for i in range(steps):\n",
    "            p = int(100 / steps * (i + 1))\n",
    "            percentiles.extend((m, p, v) for v in tm['length'].values[i * tmn: (i + 1) * tmn])\n",
    "\n",
    "    return pd.DataFrame(columns=['modification', 'percentile', 'length'], data=percentiles)\n",
    "\n",
    "def plot_percentiles(df, title, miny=5e1, maxy=1e5):\n",
    "    percentiles_df = compute_length_percentiles(df)\n",
    "    plt.figure(figsize=(8, 6))\n",
    "    ax = plt.axes()\n",
    "    g_results = sns.boxplot(data=percentiles_df, x=\"percentile\", y=\"length\", hue=\"modification\",\n",
    "                            hue_order=['CTCF', 'H3K27ac', 'H3K4me3', 'H3K4me1', 'H3K36me3', 'H3K27me3'])\n",
    "    sample_count = list(\n",
    "        filter(lambda y: miny <= y <= maxy,\n",
    "               [10, 20, 50, 100, 200, 500, 1000, 2000, 5000,\n",
    "                10_000, 20_000, 50_000, 100_000, 200_000, 500_000, 1_000_000])\n",
    "    )\n",
    "    g_results.set(yscale='log')\n",
    "    g_results.set(yticks=sample_count)\n",
    "    g_results.set(yticklabels=sample_count)\n",
    "    ax.set_ylim(miny, maxy)\n",
    "    ax.title.set_text(title)"
   ],
   "metadata": {
    "collapsed": false,
    "ExecuteTime": {
     "start_time": "2023-05-18T18:28:36.792273Z",
     "end_time": "2023-05-18T18:28:36.797153Z"
    }
   }
  },
  {
   "cell_type": "code",
   "execution_count": null,
   "outputs": [],
   "source": [
    "plot_percentiles(df_gse26320_peaks[df_gse26320_peaks['tool'] == 'MACS2'], 'MACS2 percentile average lengths')\n",
    "plt.show()"
   ],
   "metadata": {
    "collapsed": false,
    "ExecuteTime": {
     "start_time": "2023-05-18T18:28:36.820474Z",
     "end_time": "2023-05-18T18:28:38.555699Z"
    }
   }
  },
  {
   "cell_type": "code",
   "execution_count": null,
   "outputs": [],
   "source": [
    "plot_percentiles(df_gse26320_peaks[df_gse26320_peaks['tool'] == 'MACS2 broad'], 'MACS2 broad percentile average lengths')\n",
    "plt.show()"
   ],
   "metadata": {
    "collapsed": false,
    "ExecuteTime": {
     "start_time": "2023-05-18T18:28:38.555269Z",
     "end_time": "2023-05-18T18:28:40.296294Z"
    }
   }
  },
  {
   "cell_type": "code",
   "execution_count": null,
   "outputs": [],
   "source": [
    "plot_percentiles(df_gse26320_peaks[df_gse26320_peaks['tool'] == 'SICER'], 'SICER percentile average lengths')\n",
    "plt.show()"
   ],
   "metadata": {
    "collapsed": false,
    "ExecuteTime": {
     "start_time": "2023-05-18T18:28:40.323956Z",
     "end_time": "2023-05-18T18:28:42.117240Z"
    }
   }
  },
  {
   "cell_type": "code",
   "execution_count": null,
   "outputs": [],
   "source": [
    "plot_percentiles(df_gse26320_peaks[df_gse26320_peaks['tool'] == 'SPAN'], 'SPAN percentile average lengths')\n",
    "plt.show()"
   ],
   "metadata": {
    "collapsed": false,
    "ExecuteTime": {
     "start_time": "2023-05-18T18:28:42.155342Z",
     "end_time": "2023-05-18T18:28:44.104087Z"
    }
   }
  },
  {
   "cell_type": "markdown",
   "source": [
    "# Distance between peaks"
   ],
   "metadata": {
    "collapsed": false
   }
  },
  {
   "cell_type": "code",
   "execution_count": null,
   "outputs": [],
   "source": [
    "from itertools import product\n",
    "\n",
    "def distance_between_peaks(df, hue='modification'):\n",
    "    distances = []\n",
    "    for (m, t, f), dft in tqdm(df.groupby([hue, 'tool', 'file'])):\n",
    "        for chr in sorted(set(dft['chromosome'])):\n",
    "            dftc = dft[dft['chromosome'] == chr].copy().sort_values(by=['start'])\n",
    "            starts = dftc['start']\n",
    "            ends = dftc['end']\n",
    "            ends = np.roll(ends, 1)\n",
    "            ds = starts - ends\n",
    "            # Ignore first and last\n",
    "            distances.extend((m, t, f, chr, d) for d in ds[1: ds.size - 1])\n",
    "    return pd.DataFrame(columns=[hue, 'tool', 'file', 'chr', 'distance'], data=distances)"
   ],
   "metadata": {
    "collapsed": false,
    "ExecuteTime": {
     "start_time": "2023-05-18T18:28:44.103717Z",
     "end_time": "2023-05-18T18:28:44.104214Z"
    }
   }
  },
  {
   "cell_type": "code",
   "execution_count": null,
   "outputs": [],
   "source": [
    "df_gse26320_distances = distance_between_peaks(df_gse26320_peaks)\n",
    "df_gse26320_distances"
   ],
   "metadata": {
    "collapsed": false,
    "ExecuteTime": {
     "start_time": "2023-05-18T18:28:44.103757Z",
     "end_time": "2023-05-18T18:29:00.222733Z"
    }
   }
  },
  {
   "cell_type": "code",
   "execution_count": null,
   "outputs": [],
   "source": [
    "print('GSE26320 REPROCESSED Length of peaks')\n",
    "for tool in ['MACS2', 'MACS2 broad', 'SPAN', 'SICER']:\n",
    "    print(tool)\n",
    "    plot_boxes(df_gse26320_distances[df_gse26320_distances['tool'] == tool],\n",
    "               'distance', 'Distance between peaks by modification',\n",
    "               log=True, violin=False, minx=10, maxx=1e6,\n",
    "               order=['H3K27ac', 'H3K4me3', 'H3K4me1', 'H3K36me3', 'H3K27me3'])\n",
    "    plt.show()"
   ],
   "metadata": {
    "collapsed": false,
    "ExecuteTime": {
     "start_time": "2023-05-18T18:29:00.324519Z",
     "end_time": "2023-05-18T18:29:02.910473Z"
    }
   }
  },
  {
   "cell_type": "code",
   "execution_count": null,
   "outputs": [],
   "source": [
    "print('GSE26320 REPROCESSED Length of peaks')\n",
    "for tool in ['MACS2', 'MACS2 broad', 'SPAN', 'SICER']:\n",
    "    print(tool)\n",
    "    plot_kde(df_gse26320_distances[df_gse26320_distances['tool'] == tool],\n",
    "             'distance', f'{tool} distance between peaks',\n",
    "             order=['H3K27ac', 'H3K4me3', 'H3K4me1', 'H3K36me3', 'H3K27me3'],\n",
    "             minx=50, maxx=2e6, maxy=0.75)\n",
    "    plt.savefig(f'{GSE26320_PATH}/pics/distance_{tool}.pdf', bbox_inches='tight', dpi=300)\n",
    "    plt.show()"
   ],
   "metadata": {
    "collapsed": false,
    "ExecuteTime": {
     "start_time": "2023-05-18T18:29:02.977850Z",
     "end_time": "2023-05-18T18:29:14.882554Z"
    }
   }
  },
  {
   "cell_type": "markdown",
   "source": [
    "# hg38 genes length and distance between genes"
   ],
   "metadata": {
    "collapsed": false
   }
  },
  {
   "cell_type": "code",
   "execution_count": null,
   "outputs": [],
   "source": [
    "GTF = os.path.expanduser(\n",
    "    '~/data/2023_Immune/gencode.GRCh38.p13.v41.annotation.gtf')\n",
    "gtf_df = pd.read_csv(os.path.join(GSE26320_PATH, GTF), sep='\\t', comment='#',\n",
    "                     names=['chromosome', 'db', 'type', 'start', 'end', 'point1', 'strand', 'point2', 'aux'])\n",
    "gtf_df.sample(10)"
   ],
   "metadata": {
    "collapsed": false,
    "ExecuteTime": {
     "start_time": "2023-05-17T09:56:09.205259Z",
     "end_time": "2023-05-17T09:56:18.614583Z"
    }
   }
  },
  {
   "cell_type": "code",
   "execution_count": null,
   "outputs": [],
   "source": [
    "print('Parse GTF aux data')\n",
    "auxes = {}\n",
    "for i, aux in enumerate(tqdm(gtf_df['aux'])):\n",
    "    for pair in aux.split(';'):\n",
    "        kv = pair.strip().split(' ')\n",
    "        if len(kv) != 2:\n",
    "            continue\n",
    "        k, v = kv\n",
    "        if k not in auxes:\n",
    "            auxes[k] = vs = []\n",
    "        else:\n",
    "            vs = auxes[k]\n",
    "        vs.append(v.strip('\"'))\n",
    "\n",
    "for k, vs in auxes.items():\n",
    "    if len(vs) == len(gtf_df):\n",
    "        gtf_df[k] = vs\n",
    "    else:\n",
    "        print(f'Ignoring {k}')\n",
    "del auxes\n",
    "gtf_df.drop('aux', axis=1, inplace=True)\n",
    "gtf_df.sample(3)"
   ],
   "metadata": {
    "collapsed": false,
    "ExecuteTime": {
     "start_time": "2023-05-17T09:56:18.612621Z",
     "end_time": "2023-05-17T09:56:50.595619Z"
    }
   }
  },
  {
   "cell_type": "code",
   "execution_count": null,
   "outputs": [],
   "source": [
    "gtf_df['length'] = gtf_df['end'] - gtf_df['start']\n",
    "gtf_df[gtf_df['type'] == 'gene'].sample(5)"
   ],
   "metadata": {
    "collapsed": false,
    "ExecuteTime": {
     "start_time": "2023-05-17T09:56:50.596046Z",
     "end_time": "2023-05-17T09:56:50.793579Z"
    }
   }
  },
  {
   "cell_type": "code",
   "execution_count": null,
   "outputs": [],
   "source": [
    "print('GTF all genes lengths')\n",
    "gtf_genes_df = gtf_df[gtf_df['type'] == 'gene'].copy()\n",
    "plot_boxes(gtf_genes_df, 'length', 'Length of genes',\n",
    "           hue='gene_type',\n",
    "           log=True, violin=False, minx=5, maxx=2_000_000)\n",
    "plt.show()"
   ],
   "metadata": {
    "collapsed": false,
    "ExecuteTime": {
     "start_time": "2023-05-17T09:56:50.918540Z",
     "end_time": "2023-05-17T09:56:51.953705Z"
    }
   }
  },
  {
   "cell_type": "code",
   "execution_count": null,
   "outputs": [],
   "source": [
    "print('GTF all genes lengths')\n",
    "plot_kde(gtf_genes_df, 'length', 'Length of genes', hue='gene_type', figx=15, figy=10, minx=5, maxx=2e6, maxy=23)\n",
    "plt.show()"
   ],
   "metadata": {
    "collapsed": false,
    "ExecuteTime": {
     "start_time": "2023-05-17T09:56:51.952714Z",
     "end_time": "2023-05-17T09:56:53.233549Z"
    }
   }
  },
  {
   "cell_type": "code",
   "execution_count": null,
   "outputs": [],
   "source": [
    "GENES_TYPES = ['protein_coding', 'pseudogene']\n",
    "# GENES_TYPES = ['protein_coding']\n",
    "print('GTF genes lengths')\n",
    "gtf_genes_df2 = gtf_genes_df[gtf_genes_df['gene_type'].isin(GENES_TYPES)].copy()\n",
    "plot_boxes(gtf_genes_df2, 'length', 'Length of genes', hue='gene_type',\n",
    "           log=True, violin=False, minx=10, maxx=2_000_000,\n",
    "           order=['protein_coding', 'pseudogene'])\n",
    "gtf_genes_df2['file'] = 'gtf'\n",
    "gtf_genes_df2['tool'] = 'gtf'\n",
    "plt.show()"
   ],
   "metadata": {
    "collapsed": false,
    "ExecuteTime": {
     "start_time": "2023-05-17T09:56:53.232577Z",
     "end_time": "2023-05-17T09:56:53.601931Z"
    }
   }
  },
  {
   "cell_type": "code",
   "execution_count": null,
   "outputs": [],
   "source": [
    "print('GTF all genes lengths')\n",
    "plot_kde(gtf_genes_df2, 'length', 'Length of genes', hue='gene_type', order=GENES_TYPES,\n",
    "         minx=10, maxx=2e6, maxy=2)\n",
    "plt.show()"
   ],
   "metadata": {
    "collapsed": false,
    "ExecuteTime": {
     "start_time": "2023-05-17T09:56:53.603866Z",
     "end_time": "2023-05-17T09:56:54.169943Z"
    }
   }
  },
  {
   "cell_type": "code",
   "execution_count": null,
   "outputs": [],
   "source": [
    "print('GSE26320 Lengths of peaks and genes')\n",
    "for tool in ['MACS2', 'MACS2 broad', 'SPAN', 'SICER']:\n",
    "    print(tool)\n",
    "    ts = df_gse26320_peaks[df_gse26320_peaks['tool'] == tool]\n",
    "    tss = pd.concat([ts, gtf_genes_df2.rename({'gene_type': 'modification'}, axis=1)]).reset_index()\n",
    "    plot_kde(tss,\n",
    "             'length', f'{tool} peaks lengths',\n",
    "             order=['CTCF', 'H3K27ac', 'H3K4me3', 'H3K4me1', 'H3K36me3', 'H3K27me3'] + GENES_TYPES,\n",
    "             minx=100, maxx=2e6, maxy=2)\n",
    "    plt.savefig(f'{GSE26320_PATH}/pics/modifications_genes_{tool}_lengths.pdf', bbox_inches='tight', dpi=300)\n",
    "    plt.show()"
   ],
   "metadata": {
    "collapsed": false,
    "ExecuteTime": {
     "start_time": "2023-05-18T18:27:53.566949Z",
     "end_time": "2023-05-18T18:28:07.368935Z"
    }
   }
  },
  {
   "cell_type": "code",
   "execution_count": null,
   "outputs": [],
   "source": [
    "gtf_genes_df_distances = distance_between_peaks(gtf_genes_df2, hue='gene_type')\n",
    "gtf_genes_df_distances"
   ],
   "metadata": {
    "collapsed": false,
    "ExecuteTime": {
     "start_time": "2023-05-18T18:28:07.356109Z",
     "end_time": "2023-05-18T18:28:07.375204Z"
    }
   }
  },
  {
   "cell_type": "code",
   "execution_count": null,
   "outputs": [],
   "source": [
    "print('Distance between genes')\n",
    "plot_boxes(gtf_genes_df_distances, 'distance', 'Distance between genes', hue='gene_type',\n",
    "           log=True, violin=False, minx=1, maxx=5e6,\n",
    "           order=GENES_TYPES)\n",
    "plt.show()"
   ],
   "metadata": {
    "collapsed": false,
    "ExecuteTime": {
     "start_time": "2023-05-18T18:28:07.389995Z",
     "end_time": "2023-05-18T18:28:07.832373Z"
    }
   }
  },
  {
   "cell_type": "code",
   "execution_count": null,
   "outputs": [],
   "source": [
    "print('Distance between genes')\n",
    "plot_kde(gtf_genes_df_distances[gtf_genes_df_distances['distance'] > 10],\n",
    "         'distance', 'Distance between genes', hue='gene_type',\n",
    "         order=GENES_TYPES,\n",
    "         minx=10, maxx=5e6, maxy=0.6)\n",
    "plt.show()"
   ],
   "metadata": {
    "collapsed": false,
    "ExecuteTime": {
     "start_time": "2023-05-17T09:57:06.500086Z",
     "end_time": "2023-05-17T09:57:07.059691Z"
    }
   }
  },
  {
   "cell_type": "code",
   "execution_count": null,
   "outputs": [],
   "source": [
    "print('GSE26320 Distances between peaks and genes')\n",
    "for tool in ['MACS2', 'MACS2 broad', 'SPAN', 'SICER']:\n",
    "    print(tool)\n",
    "    ts = df_gse26320_distances[df_gse26320_distances['tool'] == tool]\n",
    "    tss = pd.concat([ts, gtf_genes_df_distances.rename({'gene_type': 'modification'}, axis=1)]).reset_index()\n",
    "    tss = tss[tss['distance'] > 10]\n",
    "    plot_kde(tss,\n",
    "             'distance', f'{tool} distance',\n",
    "             order=['CTCF', 'H3K27ac', 'H3K4me3', 'H3K4me1', 'H3K36me3', 'H3K27me3'] + GENES_TYPES,\n",
    "             minx=50, maxx=2e6, maxy=0.8)\n",
    "    plt.savefig(f'{GSE26320_PATH}/pics/distances_genes_{tool}.pdf', bbox_inches='tight', dpi=300)\n",
    "    plt.show()"
   ],
   "metadata": {
    "collapsed": false,
    "ExecuteTime": {
     "start_time": "2023-05-18T18:28:07.929818Z",
     "end_time": "2023-05-18T18:28:20.686306Z"
    }
   }
  },
  {
   "cell_type": "markdown",
   "source": [
    "# Immgen ATAC-seq reprocessed"
   ],
   "metadata": {
    "collapsed": false
   }
  },
  {
   "cell_type": "code",
   "execution_count": null,
   "outputs": [],
   "source": [
    "IMMGEN_PATH = os.path.expanduser('~/data/2022_Immgen')\n",
    "IMMGEN_CELLS = ['Monocyte']\n",
    "IMMGEN_MODIFICATIONS = ['ATAC']\n",
    "\n",
    "IMMGEN_MACS2_DIR = os.path.join(IMMGEN_PATH, os.path.expanduser('macs2'))\n",
    "# MACS2_FDRS = ['0.1', '0.01', '0.05', '1e-3', '1-e4', '1e-6', '1e-8', '1e-10']\n",
    "MACS2_FDRS = ['0.05']\n",
    "df_immgen = find_peak_files(IMMGEN_MACS2_DIR, '.narrowPeak', IMMGEN_CELLS, IMMGEN_MODIFICATIONS, [''], MACS2_FDRS)\n",
    "df_immgen['tool'] = 'Macs2'\n",
    "df_immgen['dir'] = IMMGEN_MACS2_DIR\n",
    "df_immgen.sample(3)"
   ],
   "metadata": {
    "collapsed": false,
    "ExecuteTime": {
     "start_time": "2023-05-17T09:57:18.077333Z",
     "end_time": "2023-05-17T09:57:18.146229Z"
    }
   }
  },
  {
   "cell_type": "code",
   "execution_count": null,
   "outputs": [],
   "source": [
    "ts = load_peaks(df_immgen)\n",
    "ts"
   ],
   "metadata": {
    "collapsed": false,
    "ExecuteTime": {
     "start_time": "2023-05-17T09:57:18.110672Z",
     "end_time": "2023-05-17T09:57:18.578789Z"
    }
   }
  },
  {
   "cell_type": "code",
   "execution_count": null,
   "outputs": [],
   "source": [
    "print('Immgen MACS2 REPROCESSED Length of peaks')\n",
    "plot_boxes(ts, 'length', 'Length by modification',\n",
    "           log=True, violin=False, minx=5e1, maxx=3e3)\n",
    "plt.show()"
   ],
   "metadata": {
    "collapsed": false,
    "ExecuteTime": {
     "start_time": "2023-05-17T09:57:18.581723Z",
     "end_time": "2023-05-17T09:57:18.845290Z"
    }
   }
  },
  {
   "cell_type": "code",
   "execution_count": null,
   "outputs": [],
   "source": [
    "print('Immgen MACS2 REPROCESSED Length of peaks')\n",
    "plot_kde(ts, 'length', 'MACS2 Peaks lengths', minx=5e1, maxx=3e3, maxy=3.2)\n",
    "plt.show()"
   ],
   "metadata": {
    "collapsed": false,
    "ExecuteTime": {
     "start_time": "2023-05-17T09:57:18.833330Z",
     "end_time": "2023-05-17T09:57:19.208092Z"
    }
   }
  },
  {
   "cell_type": "code",
   "execution_count": null,
   "outputs": [],
   "source": [
    "IMMGEN_SPAN_DIR = os.path.join(IMMGEN_PATH, 'span')\n",
    "# MACS2_FDRS = ['0.1', '0.01', '0.05', '1e-3', '1-e4', '1e-6', '1e-8', '1e-10']\n",
    "df_immgen_span = find_peak_files(IMMGEN_SPAN_DIR, '.peak', IMMGEN_CELLS, IMMGEN_MODIFICATIONS, [''], MACS2_FDRS)\n",
    "df_immgen_span['tool'] = 'SPAN'\n",
    "df_immgen_span['dir'] = IMMGEN_SPAN_DIR\n",
    "df_immgen_span"
   ],
   "metadata": {
    "collapsed": false,
    "ExecuteTime": {
     "start_time": "2023-05-17T09:57:19.207922Z",
     "end_time": "2023-05-17T09:57:19.249722Z"
    }
   }
  },
  {
   "cell_type": "code",
   "execution_count": null,
   "outputs": [],
   "source": [
    "ts = load_peaks(df_immgen_span)\n",
    "ts"
   ],
   "metadata": {
    "collapsed": false,
    "ExecuteTime": {
     "start_time": "2023-05-17T09:57:19.252263Z",
     "end_time": "2023-05-17T09:57:19.717235Z"
    }
   }
  },
  {
   "cell_type": "code",
   "execution_count": null,
   "outputs": [],
   "source": [
    "print('Immgen SPAN REPROCESSED Length of peaks')\n",
    "plot_boxes(ts, 'length', 'Length by modification',\n",
    "           log=True, violin=False, minx=5e1, maxx=3e3)\n",
    "plt.show()"
   ],
   "metadata": {
    "collapsed": false,
    "ExecuteTime": {
     "start_time": "2023-05-17T09:57:19.724156Z",
     "end_time": "2023-05-17T09:57:19.973547Z"
    }
   }
  },
  {
   "cell_type": "code",
   "execution_count": null,
   "outputs": [],
   "source": [
    "print('Immgen SPAN REPROCESSED Length of peaks')\n",
    "plot_kde(ts, 'length', 'SPAN Peaks lengths', minx=5e1, maxx=3e3, maxy=3.2)\n",
    "plt.show()"
   ],
   "metadata": {
    "collapsed": false,
    "ExecuteTime": {
     "start_time": "2023-05-17T09:57:19.975316Z",
     "end_time": "2023-05-17T09:57:20.419720Z"
    }
   }
  },
  {
   "cell_type": "markdown",
   "source": [
    "# Theoretical peaks length"
   ],
   "metadata": {
    "collapsed": false
   }
  },
  {
   "cell_type": "code",
   "execution_count": null,
   "outputs": [],
   "source": [
    "data = {\n",
    "    'TF': np.random.negative_binomial(2000, 0.8, size=300) + 200,\n",
    "    'ATAC-seq': np.random.negative_binomial(1000, 0.6, size=250) + 500,\n",
    "    'H3K27ac / H3K4me3':  np.random.negative_binomial(100, 0.2, size=200) + 2000,\n",
    "    'H3K36me3 / H3K27me3': np.random.negative_binomial(5000, 0.4, size=2000)  * 50 - 350000,\n",
    "}\n",
    "t = pd.concat([\n",
    "    pd.DataFrame(data=dict(name=[name] * len(vals), length=vals))\n",
    "    for name, vals in data.items()\n",
    "]).reset_index(drop=True)\n",
    "\n",
    "plt.figure(figsize=(8, 3))\n",
    "ax = plt.axes()\n",
    "sns.kdeplot(data=t, x='length', hue='name',\n",
    "            common_norm=True,\n",
    "            log_scale=True,\n",
    "            ax=ax\n",
    "            )\n",
    "\n",
    "# g_results.set(xscale='log')\n",
    "# g_results.set_ylim(0, 3)\n",
    "# g_results.set_xlim(1e2, 2e4)\n",
    "plt.title('Peaks length')\n",
    "# Put a legend to the right of the current axis\n",
    "# ax.legend(loc='center left', bbox_to_anchor=(0.62, 0.82))\n",
    "\n",
    "plt.tight_layout()\n",
    "# ax.legend(loc='upper right')\n",
    "plt.savefig(f'{GSE26320_PATH}/pics/theoretical_lengths.pdf', bbox_inches='tight', dpi=300)\n",
    "plt.show()"
   ],
   "metadata": {
    "collapsed": false,
    "ExecuteTime": {
     "start_time": "2023-05-17T09:57:20.421603Z",
     "end_time": "2023-05-17T09:57:21.033327Z"
    }
   }
  },
  {
   "cell_type": "markdown",
   "source": [
    "# Peaks length for RoadmapEpigenomics"
   ],
   "metadata": {
    "collapsed": false
   }
  },
  {
   "cell_type": "code",
   "execution_count": null,
   "outputs": [],
   "source": [
    "PATH = os.path.expanduser('~/data/2023_Immune')\n",
    "\n",
    "IMMUNE_CELLS = ['BCell', 'TCell', 'Monocyte']\n",
    "MODIFICATIONS = ['H3K27ac', 'H3K4me3', 'H3K4me1', 'H3K36me3', 'H3K27me3']\n"
   ],
   "metadata": {
    "collapsed": false,
    "ExecuteTime": {
     "start_time": "2023-05-18T18:24:13.633778Z",
     "end_time": "2023-05-18T18:24:13.661675Z"
    }
   }
  },
  {
   "cell_type": "code",
   "execution_count": null,
   "outputs": [],
   "source": [
    "df_roadmap_macs2 = find_peak_files(\n",
    "    os.path.join(PATH, 'macs2'), '.narrowPeak', IMMUNE_CELLS, MODIFICATIONS, [''], ['0.05']\n",
    ")\n",
    "df_roadmap_macs2['tool'] = 'MACS2'\n",
    "print('MACS2', len(df_roadmap_macs2))\n",
    "\n",
    "df_roadmap_macs2broad = find_peak_files(\n",
    "    os.path.join(PATH, 'macs2'), '.broadPeak', IMMUNE_CELLS, MODIFICATIONS,  [''], ['0.1']\n",
    ")\n",
    "df_roadmap_macs2broad['tool'] = 'MACS2 broad'\n",
    "print('MACS2 broad', len(df_roadmap_macs2broad))\n",
    "\n",
    "df_roadmap_sicer = find_peak_files(\n",
    "    os.path.join(PATH, 'sicer'), 'summary-FDR', IMMUNE_CELLS, MODIFICATIONS, [''], ['0.01']\n",
    ")\n",
    "df_roadmap_sicer['tool'] = 'SICER'\n",
    "print('SICER', len(df_roadmap_sicer))\n",
    "\n",
    "df_roadmap_span = find_peak_files(\n",
    "    os.path.join(PATH, 'span'), '.peak', IMMUNE_CELLS, MODIFICATIONS, [''], ['0.05']\n",
    ")\n",
    "df_roadmap_span['tool'] = 'SPAN'\n",
    "print('SPAN', len(df_roadmap_span))\n",
    "\n",
    "df_roadmap = pd.concat(\n",
    "    [df_roadmap_macs2, df_roadmap_macs2broad, df_roadmap_sicer, df_roadmap_span]\n",
    ").reset_index(drop=True)\n",
    "df_roadmap.sample(5)"
   ],
   "metadata": {
    "collapsed": false,
    "ExecuteTime": {
     "start_time": "2023-05-18T18:24:14.250340Z",
     "end_time": "2023-05-18T18:24:14.416572Z"
    }
   }
  },
  {
   "cell_type": "code",
   "execution_count": null,
   "outputs": [],
   "source": [
    "df_roadmap_peaks = load_peaks(df_roadmap)\n",
    "df_roadmap_peaks"
   ],
   "metadata": {
    "collapsed": false,
    "ExecuteTime": {
     "start_time": "2023-05-18T18:24:15.601417Z",
     "end_time": "2023-05-18T18:24:32.394369Z"
    }
   }
  },
  {
   "cell_type": "code",
   "execution_count": null,
   "outputs": [],
   "source": [
    "print('RoadmapEpigenomics REPROCESSED  Length of peaks')\n",
    "plot_kde(df_roadmap_peaks, 'length', 'Peaks length',\n",
    "         order=['H3K27ac', 'H3K4me3', 'H3K4me1', 'H3K36me3', 'H3K27me3'],\n",
    "         minx=1e2, maxx=1e5)\n",
    "plt.savefig(f'{PATH}/pics/modifications_lengths.pdf', bbox_inches='tight', dpi=300)\n",
    "plt.show()"
   ],
   "metadata": {
    "collapsed": false,
    "ExecuteTime": {
     "start_time": "2023-05-18T18:24:32.395795Z",
     "end_time": "2023-05-18T18:24:34.489174Z"
    }
   }
  },
  {
   "cell_type": "code",
   "execution_count": null,
   "outputs": [],
   "source": [
    "for tool in ['MACS2', 'MACS2 broad', 'SPAN', 'SICER']:\n",
    "    print(tool)\n",
    "    plot_kde(df_roadmap_peaks[df_roadmap_peaks['tool'] == tool], 'length', f'{tool} Peaks length',\n",
    "             order=['H3K27ac', 'H3K4me3', 'H3K4me1', 'H3K36me3', 'H3K27me3'],\n",
    "             minx=1e2, maxx=1e5)\n",
    "    plt.savefig(f'{PATH}/pics/modifications_{tool}_lengths.pdf', bbox_inches='tight', dpi=300)\n",
    "    plt.show()"
   ],
   "metadata": {
    "collapsed": false,
    "ExecuteTime": {
     "start_time": "2023-05-18T18:24:48.099490Z",
     "end_time": "2023-05-18T18:24:52.453785Z"
    }
   }
  },
  {
   "cell_type": "code",
   "execution_count": null,
   "outputs": [],
   "source": [
    "for tool in ['MACS2', 'MACS2 broad', 'SPAN', 'SICER']:\n",
    "    print(tool)\n",
    "    plot_boxes(df_roadmap_peaks[df_roadmap_peaks['tool'] == tool], 'length', f'{tool} Peaks length',\n",
    "               log=True, violin=False, minx=5e1, maxx=5e4,\n",
    "               order=['H3K27ac', 'H3K4me3', 'H3K4me1', 'H3K36me3', 'H3K27me3'])\n",
    "    plt.savefig(f'{PATH}/pics/modifications_{tool}_lengths2.pdf', bbox_inches='tight', dpi=300)\n",
    "    plt.show()"
   ],
   "metadata": {
    "collapsed": false,
    "ExecuteTime": {
     "start_time": "2023-05-18T18:25:06.666405Z",
     "end_time": "2023-05-18T18:25:09.237878Z"
    }
   }
  },
  {
   "cell_type": "code",
   "execution_count": null,
   "outputs": [],
   "source": [
    "df_roadmap_distances = distance_between_peaks(df_roadmap_peaks)\n",
    "df_roadmap_distances"
   ],
   "metadata": {
    "collapsed": false,
    "ExecuteTime": {
     "start_time": "2023-05-17T09:57:40.138009Z",
     "end_time": "2023-05-17T09:57:42.188167Z"
    }
   }
  },
  {
   "cell_type": "code",
   "execution_count": null,
   "outputs": [],
   "source": [
    "print('RoadmapEpigenomics REPROCESSED Length of peaks')\n",
    "for tool in ['MACS2', 'MACS2 broad', 'SPAN', 'SICER']:\n",
    "    print(tool)\n",
    "    plot_kde(df_roadmap_distances[df_roadmap_distances['tool'] == tool],\n",
    "             'distance', f'{tool} distance between peaks',\n",
    "             order=['H3K27ac', 'H3K4me3', 'H3K4me1', 'H3K36me3', 'H3K27me3'],\n",
    "             minx=50, maxx=2e6, maxy=0.75)\n",
    "\n",
    "    plt.savefig(f'{PATH}/pics/distance_{tool}.pdf', bbox_inches='tight', dpi=300)\n",
    "    plt.show()"
   ],
   "metadata": {
    "collapsed": false,
    "ExecuteTime": {
     "start_time": "2023-05-18T18:25:15.059434Z",
     "end_time": "2023-05-18T18:25:20.056578Z"
    }
   }
  },
  {
   "cell_type": "markdown",
   "source": [
    "# END"
   ],
   "metadata": {
    "collapsed": false
   }
  },
  {
   "cell_type": "code",
   "execution_count": null,
   "outputs": [],
   "source": [],
   "metadata": {
    "collapsed": false,
    "ExecuteTime": {
     "start_time": "2023-05-11T14:13:10.260209Z",
     "end_time": "2023-05-11T14:13:10.260773Z"
    }
   }
  }
 ],
 "metadata": {
  "kernelspec": {
   "display_name": "Python 3",
   "language": "python",
   "name": "python3"
  },
  "language_info": {
   "codemirror_mode": {
    "name": "ipython",
    "version": 2
   },
   "file_extension": ".py",
   "mimetype": "text/x-python",
   "name": "python",
   "nbconvert_exporter": "python",
   "pygments_lexer": "ipython2",
   "version": "2.7.6"
  }
 },
 "nbformat": 4,
 "nbformat_minor": 0
}
