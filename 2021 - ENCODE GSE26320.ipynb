{
 "cells": [
  {
   "cell_type": "markdown",
   "metadata": {
    "heading_collapsed": true,
    "pycharm": {
     "name": "#%% md\n"
    }
   },
   "source": [
    "# 2020_GSE26320_ENCODE"
   ]
  },
  {
   "cell_type": "code",
   "execution_count": null,
   "metadata": {
    "ExecuteTime": {
     "end_time": "2019-03-07T11:38:12.254230Z",
     "start_time": "2019-03-07T11:38:04.952806Z"
    },
    "hidden": true,
    "pycharm": {
     "name": "#%%\n"
    }
   },
   "outputs": [],
   "source": [
    "%matplotlib inline\n",
    "%config InlineBackend.figure_format='retina'\n",
    "\n",
    "import pandas as pd\n",
    "import seaborn as sns\n",
    "from IPython.display import display\n",
    "\n",
    "sns.set_style(\"whitegrid\")\n",
    "import matplotlib.pyplot as plt\n",
    "import numpy as np\n",
    "import os, re\n",
    "import glob\n",
    "from tqdm.auto import tqdm\n",
    "\n",
    "import plotly.graph_objects as go"
   ]
  },
  {
   "cell_type": "code",
   "execution_count": null,
   "metadata": {
    "pycharm": {
     "name": "#%%\n"
    }
   },
   "outputs": [],
   "source": [
    "PATH = os.path.expanduser('~/data/2022_GSE26320')\n",
    "# Don't have H1 H3K27ac rep2\n",
    "# Don't have Huvec H3K4me3 rep1\n",
    "# Don't have HepG2 H3K4me1 rep2\n",
    "# CELLS = ['GM12878', 'HMEC', 'HSMM', 'K562', 'NHEK', 'NHLF']  # Ignore H1, Huvec, HepG2\n",
    "CELLS = ['GM12878']\n",
    "MODIFICATIONS = ['H3K27ac', 'H3K27me3', 'H3K36me3', 'H3K4me1', 'H3K4me3']\n",
    "REPS = ['rep1']"
   ]
  },
  {
   "cell_type": "markdown",
   "metadata": {
    "pycharm": {
     "name": "#%% md\n"
    }
   },
   "source": [
    "# MACS2"
   ]
  },
  {
   "cell_type": "code",
   "execution_count": null,
   "metadata": {
    "ExecuteTime": {
     "end_time": "2019-03-07T11:38:48.419134Z",
     "start_time": "2019-03-07T11:38:12.260987Z"
    },
    "scrolled": true,
    "pycharm": {
     "name": "#%%\n"
    }
   },
   "outputs": [],
   "source": [
    "MACS2_FOLDER=f'{PATH}/macs2'\n",
    "MACS2_LEVELS = ['q0.05', 'broad0.1']\n",
    "\n",
    "dfm = pd.DataFrame(columns=['gsm', 'cell', 'modification', 'level', 'file', 'peaks', 'length'], dtype=object)\n",
    "for file in tqdm(glob.glob(MACS2_FOLDER + '/*.*Peak')):\n",
    "    if 'gapped' in file:\n",
    "        continue\n",
    "    level = next((l for l in MACS2_LEVELS if f'_{l}' in file), None)\n",
    "    modification = next((m for m in MODIFICATIONS if f'_{m}' in file), None)\n",
    "    cell = next((c for c in CELLS if f'_{c}' in file), None)\n",
    "#     print(file, level, modification, cell)\n",
    "    if level and modification and cell:\n",
    "        gsm = re.sub('_.*', '', os.path.basename(file))\n",
    "        out = ! awk '{{N+=1;L+=($$3-$$2)}} END{{print(N,L)}}' {file}\n",
    "        if out[0].strip() != '':\n",
    "            peaks, length = out[0].split(' ') \n",
    "        else:\n",
    "            peaks, length = 0, 0\n",
    "        dfm.loc[len(dfm)] = (gsm, cell, modification, f'macs2 {level}', file, peaks, length)\n",
    "        \n",
    "# Fix types\n",
    "dfm['peaks'] = dfm['peaks'].astype(int)\n",
    "dfm['length'] = dfm['length'].astype(int)"
   ]
  },
  {
   "cell_type": "code",
   "execution_count": null,
   "metadata": {
    "scrolled": true,
    "pycharm": {
     "name": "#%%\n"
    }
   },
   "outputs": [],
   "source": [
    "len(dfm)"
   ]
  },
  {
   "cell_type": "code",
   "execution_count": null,
   "metadata": {
    "scrolled": false,
    "pycharm": {
     "name": "#%%\n"
    }
   },
   "outputs": [],
   "source": [
    "dfm['f'] = dfm['modification']\n",
    "dfm_mean = dfm.groupby(['f', 'level'])['peaks'].mean().reset_index().sort_values(by=['f', 'level'])\n",
    "dfm_std = dfm.groupby(['f', 'level'])['peaks'].std().reset_index().fillna(0).sort_values(by=['f', 'level'])\n",
    "\n",
    "# fig = go.Figure(layout=go.Layout(title=go.layout.Title(text=\"Peaks\")))\n",
    "# for l in sorted(set(dfm_mean['level'])):\n",
    "#     fig.add_trace(go.Scatter(x=dfm_mean.loc[dfm_mean['level']==l]['f'], \n",
    "#                              y=dfm_mean.loc[dfm_mean['level']==l]['peaks'], \n",
    "#                              name=f\"{l} mean\", line_shape='linear'))\n",
    "#     fig.add_trace(go.Scatter(x=dfm_std.loc[dfm_std['level']==l]['f'], \n",
    "#                              y=dfm_std.loc[dfm_std['level']==l]['peaks'], \n",
    "#                              name=f\"{l} std\", line_shape='linear', \n",
    "#                              line=dict(dash='dot')))\n",
    "# fig.show()"
   ]
  },
  {
   "cell_type": "code",
   "execution_count": null,
   "metadata": {
    "pycharm": {
     "name": "#%%\n"
    }
   },
   "outputs": [],
   "source": [
    "macs2levels2process = set(['macs2 q0.05', 'macs2 broad0.1'])"
   ]
  },
  {
   "cell_type": "markdown",
   "metadata": {
    "pycharm": {
     "name": "#%% md\n"
    }
   },
   "source": [
    "# SICER"
   ]
  },
  {
   "cell_type": "code",
   "execution_count": null,
   "metadata": {
    "pycharm": {
     "name": "#%%\n"
    }
   },
   "outputs": [],
   "source": [
    "SICER_FOLDER=f'{PATH}/sicer'\n",
    "SICER_LEVELS = ['FDR0.01']\n",
    "\n",
    "dfsc = pd.DataFrame(columns=['gsm', 'cell', 'modification', 'level', 'file', 'peaks', 'length'], dtype=object)\n",
    "for file in tqdm(glob.glob(SICER_FOLDER + '/*islands-summary*')):\n",
    "    level = next((l for l in SICER_LEVELS if f'-{l}' in file), None)\n",
    "    modification = next((m for m in MODIFICATIONS if f'_{m}' in file), None)\n",
    "    cell = next((c for c in CELLS if f'_{c}' in file), None)\n",
    "#     print(file, level, modification, cell)\n",
    "    if level and modification and cell:\n",
    "        gsm = re.sub('_.*', '', os.path.basename(file))\n",
    "        out = ! awk '{{N+=1;L+=($$3-$$2)}} END{{print(N,L)}}' {file}\n",
    "        if out[0].strip() != '':\n",
    "            peaks, length = out[0].split(' ') \n",
    "        else:\n",
    "            peaks, length = 0, 0\n",
    "        dfsc.loc[len(dfsc)] = (gsm, cell, modification, f'sicer {level}', file, peaks, length)\n",
    "\n",
    "# Fix types\n",
    "dfsc['peaks'] = dfsc['peaks'].astype(int)\n",
    "dfsc['length'] = dfsc['length'].astype(int)"
   ]
  },
  {
   "cell_type": "code",
   "execution_count": null,
   "metadata": {
    "scrolled": true,
    "pycharm": {
     "name": "#%%\n"
    }
   },
   "outputs": [],
   "source": [
    "display(dfsc)\n",
    "len(dfsc)"
   ]
  },
  {
   "cell_type": "code",
   "execution_count": null,
   "metadata": {
    "pycharm": {
     "name": "#%%\n"
    }
   },
   "outputs": [],
   "source": [
    "dfsc['f'] = dfsc['modification']\n",
    "dfsc_mean = dfsc.groupby(['f', 'level'])['peaks'].mean().reset_index().sort_values(by=['f', 'level'])\n",
    "dfsc_std = dfsc.groupby(['f', 'level'])['peaks'].std().reset_index().fillna(0).sort_values(by=['f', 'level'])\n",
    "\n",
    "# fig = go.Figure(layout=go.Layout(title=go.layout.Title(text=\"Peaks\")))\n",
    "# for l in sorted(set(dfsc_mean['level'])):\n",
    "#     fig.add_trace(go.Scatter(x=dfsc_mean.loc[dfsc_mean['level']==l]['f'], \n",
    "#                              y=dfsc_mean.loc[dfsc_mean['level']==l]['peaks'], \n",
    "#                              name=f\"{l} mean\", line_shape='linear'))\n",
    "#     fig.add_trace(go.Scatter(x=dfsc_std.loc[dfsc_std['level']==l]['f'], \n",
    "#                              y=dfsc_std.loc[dfsc_std['level']==l]['peaks'], \n",
    "#                              name=f\"{l} std\", line_shape='linear', \n",
    "#                              line=dict(dash='dot')))\n",
    "# fig.show()"
   ]
  },
  {
   "cell_type": "code",
   "execution_count": null,
   "metadata": {
    "pycharm": {
     "name": "#%%\n"
    }
   },
   "outputs": [],
   "source": [
    "sicerlevels2process = set(['sicer FDR0.01'])"
   ]
  },
  {
   "cell_type": "markdown",
   "metadata": {
    "pycharm": {
     "name": "#%% md\n"
    }
   },
   "source": [
    "# SPAN"
   ]
  },
  {
   "cell_type": "code",
   "execution_count": null,
   "metadata": {
    "pycharm": {
     "name": "#%%\n"
    }
   },
   "outputs": [],
   "source": [
    "from itertools import product\n",
    "SPAN_FOLDER=f'{PATH}/span'\n",
    "GAPS = [3]\n",
    "FDRS = ['0.05']\n",
    "# SPAN_LEVELS = ['200_1E-6_5', '200_0.01_5']\n",
    "SPAN_LEVELS = [f'100_{fdr}_{gap}' for fdr, gap in product(FDRS, GAPS)]\n",
    "\n",
    "dfs = pd.DataFrame(columns=['gsm', 'cell', 'modification', 'level', 'file', 'peaks', 'length'], dtype=object)\n",
    "for file in tqdm(glob.glob(SPAN_FOLDER + '/*.peak')):\n",
    "    if 'Input' in file:\n",
    "        continue\n",
    "    level = next((l for l in SPAN_LEVELS if f'_{l}' in file), None)\n",
    "    modification = next((m for m in MODIFICATIONS if f'_{m}' in file), None)\n",
    "    cell = next((c for c in CELLS if f'_{c}' in file), None)\n",
    "#     print(file, level, modification, cell)\n",
    "    if level and modification and cell:\n",
    "        gsm = re.sub('_.*', '', os.path.basename(file))\n",
    "        out = ! awk '{{N+=1;L+=($$3-$$2)}} END{{print(N,L)}}' {file}\n",
    "        if out[0].strip() != '':\n",
    "            peaks, length = out[0].split(' ') \n",
    "        else:\n",
    "            peaks, length = 0, 0\n",
    "        dfs.loc[len(dfs)] = (gsm, cell, modification, f'span {level}', file, peaks, length)\n",
    "        \n",
    "# Fix types\n",
    "dfs['peaks'] = dfs['peaks'].astype(int)\n",
    "dfs['length'] = dfs['length'].astype(int)"
   ]
  },
  {
   "cell_type": "code",
   "execution_count": null,
   "metadata": {
    "scrolled": true,
    "pycharm": {
     "name": "#%%\n"
    }
   },
   "outputs": [],
   "source": [
    "display(dfs)\n",
    "len(dfs)"
   ]
  },
  {
   "cell_type": "code",
   "execution_count": null,
   "metadata": {
    "pycharm": {
     "name": "#%%\n"
    }
   },
   "outputs": [],
   "source": [
    "import re\n",
    "dfs['fdr'] = [float(re.sub('span 100_|_(0|5|10)', '', l)) for l in dfs['level']]\n",
    "dfs['gap'] = [int(re.sub('.*_', '', l)) for l in dfs['level']]\n",
    "dfs.sort_values(by=['fdr', 'gap'], inplace=True)\n",
    "dfs.head()"
   ]
  },
  {
   "cell_type": "code",
   "execution_count": null,
   "metadata": {
    "pycharm": {
     "name": "#%%\n"
    }
   },
   "outputs": [],
   "source": [
    "dfs['f'] = dfs['modification']\n",
    "dfs_mean = dfs.groupby(['f', 'level'])['peaks'].mean().reset_index().sort_values(by=['f', 'level'])\n",
    "dfs_std = dfs.groupby(['f', 'level'])['peaks'].std().reset_index().fillna(0).sort_values(by=['f', 'level'])\n",
    "\n",
    "# fig = go.Figure(layout=go.Layout(title=go.layout.Title(text=\"Peaks\")))\n",
    "# for l in sorted(set(dfs_mean['level'])):\n",
    "#     fig.add_trace(go.Scatter(x=dfs_mean.loc[dfs_mean['level']==l]['f'], \n",
    "#                              y=dfs_mean.loc[dfs_mean['level']==l]['peaks'], \n",
    "#                              name=f\"{l} mean\", line_shape='linear'))\n",
    "#     fig.add_trace(go.Scatter(x=dfs_std.loc[dfs_std['level']==l]['f'], \n",
    "#                              y=dfs_std.loc[dfs_std['level']==l]['peaks'], \n",
    "#                              name=f\"{l} std\", line_shape='linear', \n",
    "#                              line=dict(dash='dot')))\n",
    "# fig.show()"
   ]
  },
  {
   "cell_type": "code",
   "execution_count": null,
   "metadata": {
    "scrolled": true,
    "pycharm": {
     "name": "#%%\n"
    }
   },
   "outputs": [],
   "source": [
    "# Plot peaks number versus FDR for different modifications and GAPs\n",
    "for m in sorted(set(dfs['modification'])):\n",
    "    t = dfs.loc[dfs['modification'] == m]\n",
    "    for gap in sorted(set(dfs['gap'])):\n",
    "        t2 = t.loc[t['gap']==gap]\n",
    "        fig = go.Figure()\n",
    "        for cell in set(t2['cell']):\n",
    "            t3 = t2.loc[t2['cell'] == cell]\n",
    "            fig.add_trace(go.Scatter(x=np.log10(t3[\"fdr\"]), y=t3[\"peaks\"], \n",
    "                                     mode='lines+markers',\n",
    "                                     name=cell))\n",
    "        fig.update_xaxes(title='log10 fdr')\n",
    "        fig.update_yaxes(title=f'{m} gap {gap} peaks')\n",
    "        fig.show()"
   ]
  },
  {
   "cell_type": "code",
   "execution_count": null,
   "metadata": {
    "pycharm": {
     "name": "#%%\n"
    }
   },
   "outputs": [],
   "source": [
    "spanlevels2process = set(['span 100_0.05_3'])"
   ]
  },
  {
   "cell_type": "markdown",
   "metadata": {
    "pycharm": {
     "name": "#%% md\n"
    }
   },
   "source": [
    "# Summary"
   ]
  },
  {
   "cell_type": "code",
   "execution_count": null,
   "metadata": {
    "pycharm": {
     "name": "#%%\n"
    }
   },
   "outputs": [],
   "source": [
    "dfa = pd.concat([dfm.loc[[l in macs2levels2process for l in dfm['level']]],\n",
    "                 dfsc.loc[[l in sicerlevels2process for l in dfsc['level']]],\n",
    "                 dfs.loc[[l in spanlevels2process for l in dfs['level']]]])"
   ]
  },
  {
   "cell_type": "code",
   "execution_count": null,
   "metadata": {
    "pycharm": {
     "name": "#%%\n"
    }
   },
   "outputs": [],
   "source": [
    "dfa['f'] = dfa['modification']\n",
    "dfa_mean = dfa.groupby(['f', 'level'])['peaks'].mean().reset_index().sort_values(by=['f', 'level'])\n",
    "dfa_std = dfa.groupby(['f', 'level'])['peaks'].std().reset_index().fillna(0).sort_values(by=['f', 'level'])\n",
    "\n",
    "fig = go.Figure(layout=go.Layout(title=go.layout.Title(text=\"Peaks\")))\n",
    "for l in sorted(set(dfa_mean['level'])):\n",
    "    fig.add_trace(go.Scatter(x=dfa_mean.loc[dfa_mean['level']==l]['f'], \n",
    "                             y=dfa_mean.loc[dfa_mean['level']==l]['peaks'], \n",
    "                             name=f\"{l} mean\", line_shape='linear'))\n",
    "    fig.add_trace(go.Scatter(x=dfa_std.loc[dfa_std['level']==l]['f'], \n",
    "                             y=dfa_std.loc[dfa_std['level']==l]['peaks'], \n",
    "                             name=f\"{l} std\", line_shape='linear', \n",
    "                             line=dict(dash='dot')))\n",
    "fig.show()"
   ]
  },
  {
   "cell_type": "code",
   "execution_count": null,
   "metadata": {
    "pycharm": {
     "name": "#%%\n"
    }
   },
   "outputs": [],
   "source": [
    "dfa['avg_length'] = dfa['length'] / dfa['peaks']\n",
    "dfa.loc[~np.isfinite(dfa[\"avg_length\"]), \"avg_length\"] = 0.0"
   ]
  },
  {
   "cell_type": "code",
   "execution_count": null,
   "metadata": {
    "pycharm": {
     "name": "#%%\n"
    }
   },
   "outputs": [],
   "source": [
    "# # List file to create session\n",
    "# for m in MODIFICATIONS:\n",
    "#     for c in CELLS:\n",
    "#         bw = glob.glob(f'/mnt/stripe/shpynov/2020_roadmapepigenomics/bams_bws/*{c}.{m}.*.bw')[0]\n",
    "#         print(bw)\n",
    "#         dfcm = dfa.loc[np.logical_and(dfa['cell']==c, dfa['modification']==m)]\n",
    "#         for l in sorted(set(dfa['level'])):\n",
    "#             peaks = list(dfcm.loc[dfcm['level'] == l]['file'])\n",
    "#             if peaks:\n",
    "#                 peaks = peaks[0]\n",
    "#                 print(f'{os.path.dirname(peaks)}/bb/{os.path.basename(peaks)}.bb')"
   ]
  },
  {
   "cell_type": "markdown",
   "metadata": {
    "pycharm": {
     "name": "#%% md\n"
    }
   },
   "source": [
    "# Group analysis"
   ]
  },
  {
   "cell_type": "code",
   "execution_count": null,
   "metadata": {
    "pycharm": {
     "name": "#%%\n"
    }
   },
   "outputs": [],
   "source": [
    "def plot_data_cells(df, cid, value, description):\n",
    "    cids = sorted(set(df[cid]))\n",
    "    axs = {}\n",
    "    total = len(cids) * 5\n",
    "    fig = plt.figure(figsize=(int(total * .75), 4))\n",
    "    offset = 0\n",
    "    for m in MODIFICATIONS:\n",
    "        data = df.loc[df['modification'] == m].sort_values(by=[cid])\n",
    "        xlabels = []\n",
    "        for c in data[cid]:\n",
    "            if c not in xlabels:\n",
    "                xlabels.append(c)\n",
    "        w = len(cids)\n",
    "        ax = plt.subplot2grid((1, total), (0, offset), colspan=w)\n",
    "\n",
    "        sns.barplot(data=data, \n",
    "                     x=cid, y=value,\n",
    "                     capsize=.2, errwidth=2,\n",
    "                     edgecolor=\"black\",\n",
    "                     ax = ax)\n",
    "\n",
    "        sns.swarmplot(data=data,\n",
    "                      x=cid, y=value,\n",
    "                      size=1,\n",
    "                      color=\"black\",\n",
    "                      alpha=0.5,\n",
    "                      ax = ax)\n",
    "        ax.legend().set_visible(False)\n",
    "        axs[ax] = plt.ylim()\n",
    "        if offset > 0:\n",
    "            ax.get_yaxis().set_ticklabels([])\n",
    "            ax.set_ylabel('')\n",
    "        else:\n",
    "            ax.set_ylabel(description)\n",
    "        \n",
    "        offset += w\n",
    "        ax.set_xlabel('')\n",
    "        ax.set_title(m)\n",
    "        plt.xticks(range(0, len(xlabels)), xlabels, rotation=45)\n",
    "            \n",
    "    ymin = np.min([v[0] for v in axs.values()])\n",
    "    ymax = np.max([v[1] for v in axs.values()])\n",
    " \n",
    "    for ax in axs.keys():\n",
    "        ax.set_ylim(bottom = ymin, top = ymax)\n",
    "    plt.tight_layout()"
   ]
  },
  {
   "cell_type": "code",
   "execution_count": null,
   "metadata": {
    "pycharm": {
     "name": "#%%\n"
    }
   },
   "outputs": [],
   "source": [
    "plot_data_cells(dfa, 'level', 'peaks', 'Peaks')\n",
    "plt.show()\n",
    "plot_data_cells(dfa, 'level', 'avg_length', 'Average peak length')\n",
    "plt.show()"
   ]
  },
  {
   "cell_type": "code",
   "execution_count": null,
   "metadata": {
    "pycharm": {
     "name": "#%%\n"
    }
   },
   "outputs": [],
   "source": [
    "dfa['f'] = dfa['level']\n",
    "plot_data_cells(dfa, 'f', 'peaks', 'Peaks')\n",
    "plt.show()\n",
    "plot_data_cells(dfa, 'f', 'avg_length', 'Average peak length')\n",
    "plt.show()"
   ]
  },
  {
   "cell_type": "markdown",
   "metadata": {
    "pycharm": {
     "name": "#%% md\n"
    }
   },
   "source": [
    "# Consistency analysis"
   ]
  },
  {
   "cell_type": "code",
   "execution_count": null,
   "metadata": {
    "pycharm": {
     "name": "#%%\n"
    }
   },
   "outputs": [],
   "source": [
    "def bedl(file):\n",
    "    try:\n",
    "        tf = pd.read_csv(file, sep='\\t', header=None)\n",
    "        return tf[2] - tf[1]\n",
    "    except:\n",
    "        return [] # Empty file\n",
    "\n",
    "def lines(file):\n",
    "    try:\n",
    "        tf = pd.read_csv(file, sep='\\t', header=None)\n",
    "        return len(tf)\n",
    "    except:\n",
    "        return 0 # Empty file\n",
    "\n",
    "def join(file):\n",
    "    try:\n",
    "        tf = pd.read_csv(file, sep='\\t', header=None)\n",
    "        return ','.join(f'{c}:{s}-{e}' for c, s, e in zip(tf[0], tf[1], tf[2]))\n",
    "    except:\n",
    "        return '' # Empty file\n",
    "\n",
    "def rank_correlation(file):\n",
    "    try:\n",
    "        tf = pd.read_csv(file, sep='\\t', header=None)\n",
    "        return spearmanr(tf[3], tf[7])[0]\n",
    "    except:\n",
    "        return 0 # Empty file\n",
    "    \n",
    "def d(a, b):\n",
    "    return a / b if b != 0 else 0\n"
   ]
  },
  {
   "cell_type": "code",
   "execution_count": null,
   "metadata": {
    "pycharm": {
     "name": "#%%\n"
    }
   },
   "outputs": [],
   "source": [
    "import tempfile\n",
    "from scipy.stats import spearmanr\n",
    "\n",
    "BED4_PATH = f'{PATH}/bed4'\n",
    "! mkdir -p {BED4_PATH}\n",
    "  \n",
    "tools_comparison = pd.DataFrame(columns=['gsm', 'modification', \n",
    "                                         'tool1', 'tool2', \n",
    "                                         'file1', 'file2',\n",
    "                                         'peaks1', 'peaks2', \n",
    "                                         'length1', 'length2',\n",
    "                                         'intersect', 'intersectl',\n",
    "                                         'union', 'unionl',\n",
    "                                         'overlap1', 'overlap1l', 'overlap2', 'overlap2l',                                       \n",
    "                                         'diff1', 'diff1l', 'diff2', 'diff2l', \n",
    "                                         'diff1_significant', 'diff2_significant',\n",
    "                                         'ranks_corr', 'n'], dtype=object)\n",
    "                                      \n",
    "tf_union = tempfile.mktemp()\n",
    "with open(tf_union, 'w') as f:\n",
    "    f.write(\"\"\"\n",
    "        cat $1 > $3.tmp\n",
    "        cat $2 >> $3.tmp\n",
    "        cat $3.tmp | awk -v OFS='\\t' '{print $1,$2,$3}' | sort -k1,1 -k2,2n > $3\n",
    "        rm $3.tmp\n",
    "    \"\"\")\n",
    "\n",
    "tf_diff_significant = tempfile.mktemp()\n",
    "with open(tf_diff_significant, 'w') as f:\n",
    "    f.write(\"\"\"\n",
    "        bedtools intersect -a $1 -b $2 -wa -v > $3.tmp\n",
    "        if [ -s $3.tmp ]; then\n",
    "            cat $3.tmp | sort -k4,4nr > $3.tmp2;\n",
    "            head -n 10 $3.tmp2 > $3;\n",
    "        else\n",
    "            > $3;\n",
    "        fi;\n",
    "        rm $3.tmp*;\n",
    "    \"\"\")\n",
    "\n",
    "to_bed4 = tempfile.mktemp()\n",
    "with open(to_bed4, 'w') as f:\n",
    "    f.write(\"\"\"\n",
    "        cat $1 | awk -v OFS='\\t' '{print $1,$2,$3,$5}' | sort -k1,1 -k2,2n > $2;\n",
    "    \"\"\")\n",
    "\n",
    "to_bed4_top = tempfile.mktemp()\n",
    "with open(to_bed4_top, 'w') as f:\n",
    "    f.write(\"\"\"\n",
    "        echo \"INPUT $1\"\n",
    "        echo \"OUTPUT $2\"\n",
    "        echo \"N $3\"\n",
    "        echo \"COL $4\"\n",
    "        echo \"SORT $5\"\n",
    "        cat $1 | awk -v OFS='\\t' -v N=$4 -v SORT=$5 '{print $1,$2,$3,$N*SORT}' | sort -k4,4nr > $1.tmp;\n",
    "        head -n $3 $1.tmp | sort -k1,1 -k2,2n > $2;\n",
    "        rm $1.tmp;\n",
    "    \"\"\")\n",
    "\n",
    "\n",
    "def prepare_bed4(file, top=None):\n",
    "    name = os.path.basename(file)\n",
    "    file_bed4 = f'{BED4_PATH}/{name}'.replace(' ', '_')\n",
    "    \n",
    "    if n is not None:\n",
    "        file_bed4 += f'_{n}.bed4'\n",
    "    else:\n",
    "        file_bed4 += '.bed4'\n",
    "    \n",
    "    if not os.path.exists(file_bed4):\n",
    "        if top is not None:\n",
    "            score_col, sort = 5, 5\n",
    "            print(f'bash {to_bed4_top} {file} {file_bed4} {n} {score_col} {sort}')\n",
    "            !bash {to_bed4_top} {file} {file_bed4} {top} {score_col} {sort}\n",
    "        else:\n",
    "            print(f'bash {to_bed4} {file} {file_bed4}')\n",
    "            !bash {to_bed4} {file} {file_bed4}\n",
    "    return file_bed4\n",
    "\n",
    "    \n",
    "tools = list(sorted(set(dfa['level'])))\n",
    "for gsm in tqdm(sorted(set(dfa['gsm']))):\n",
    "    for i in range(len(tools)):\n",
    "        for j in range(i + 1, len(tools)):\n",
    "            tool1, tool2 = tools[i], tools[j]\n",
    "            t1 = dfa.loc[(dfa['gsm'] == gsm) & (dfa['level'] == tool1)]\n",
    "            t2 = dfa.loc[(dfa['gsm'] == gsm) & (dfa['level'] == tool2)]\n",
    "            m = t1['modification'].values[0]\n",
    "            print(gsm, m, tool1, tool2)\n",
    "\n",
    "            tf = tempfile.mktemp()\n",
    "            tf2 = tempfile.mktemp()\n",
    "            for n in [None, 10000, 1000]:\n",
    "                print(n)\n",
    "                file1 = t1['file'].values[0]\n",
    "                file2 = t2['file'].values[0]\n",
    "\n",
    "                file1, file2 = prepare_bed4(file1, n), prepare_bed4(file2, n)\n",
    "                peaks1, length1 = lines(file1), sum(bedl(file1))\n",
    "                peaks2, length2 = lines(file2), sum(bedl(file2))\n",
    "\n",
    "                !bedtools intersect -b {file1} -a {file2} > {tf}\n",
    "                intersect, intersectl = lines(tf), sum(bedl(tf))\n",
    "\n",
    "\n",
    "                !bash {tf_union} {file1} {file2} {tf}\n",
    "                union, unionl = lines(tf), sum(bedl(tf))\n",
    "\n",
    "                !bedtools intersect -a {file1} -b {file2} -wa -u > {tf}\n",
    "                overlap1, overlap1l = lines(tf), sum(bedl(tf))\n",
    "                !bedtools intersect -b {file1} -a {file2} -wa -u > {tf}\n",
    "                overlap2, overlap2l = lines(tf), sum(bedl(tf))\n",
    "\n",
    "                !bedtools intersect -a {file1} -b {file2} -v > {tf}\n",
    "                diff1, diff1l = lines(tf), sum(bedl(tf))\n",
    "                !bedtools intersect -b {file1} -a {file2} -v > {tf}\n",
    "                diff2, diff2l = lines(tf), sum(bedl(tf))\n",
    "\n",
    "                !bash {tf_diff_significant} {file1} {file2} {tf}\n",
    "                diff1_significant = join(tf)            \n",
    "                !bash {tf_diff_significant} {file2} {file1} {tf}\n",
    "                diff2_significant = join(tf)       \n",
    "                \n",
    "                !bedtools intersect -a {file1} -b {file2} -wa -wb > {tf}\n",
    "                rank_corr = rank_correlation(tf)    \n",
    "                \n",
    "                tools_comparison.loc[len(tools_comparison)] = \\\n",
    "                    (gsm, m, \n",
    "                     tool1, tool2, \n",
    "                     file1, file2, \n",
    "                     peaks1, peaks2, \n",
    "                     length1, length2, \n",
    "                     intersect, intersectl,\n",
    "                     union, unionl,\n",
    "                     overlap1, overlap1l, overlap2, overlap2l,\n",
    "                     diff1, diff1l, diff2, diff2l, \n",
    "                     diff1_significant, diff2_significant,\n",
    "                     rank_corr, n)\n",
    "\n",
    "print('Done')"
   ]
  },
  {
   "cell_type": "code",
   "execution_count": null,
   "metadata": {
    "pycharm": {
     "name": "#%%\n"
    }
   },
   "outputs": [],
   "source": [
    "tools_comparison['jaccard'] = [d(i, u) for i, u in zip(tools_comparison['intersect'], tools_comparison['union'])]\n",
    "tools_comparison['jaccardl'] = [d(i, u) for i, u in zip(tools_comparison['intersectl'], tools_comparison['unionl'])]\n",
    "tools_comparison['overlap1p'] = [d(o, p) for o, p in zip(tools_comparison['overlap1'], tools_comparison['peaks1'])]\n",
    "tools_comparison['overlap2p'] = [d(o, p) for o, p in zip(tools_comparison['overlap2'], tools_comparison['peaks2'])]\n",
    "\n",
    "tools_comparison.head()"
   ]
  },
  {
   "cell_type": "code",
   "execution_count": null,
   "metadata": {
    "pycharm": {
     "name": "#%%\n"
    }
   },
   "outputs": [],
   "source": [
    "tools_comparison.to_csv(f'{PATH}/tools_comparison.tsv', sep='\\t', index=False)"
   ]
  },
  {
   "cell_type": "code",
   "execution_count": null,
   "metadata": {
    "pycharm": {
     "name": "#%%\n"
    }
   },
   "outputs": [],
   "source": [
    "# tools_comparison[tools_comparison['gsm']=='GSM646316']"
   ]
  },
  {
   "cell_type": "markdown",
   "source": [
    "## Overlap analysis"
   ],
   "metadata": {
    "collapsed": false,
    "pycharm": {
     "name": "#%% md\n"
    }
   }
  },
  {
   "cell_type": "code",
   "execution_count": null,
   "metadata": {
    "scrolled": true,
    "pycharm": {
     "name": "#%%\n"
    }
   },
   "outputs": [],
   "source": [
    "# Overlap\n",
    "for m in sorted(set(tools_comparison['modification'])):\n",
    "    print(m)\n",
    "    tm = tools_comparison[tools_comparison['modification'] == m].copy()\n",
    "    tm.sort_values(by=['modification', 'gsm', 'tool1', 'tool2'], inplace=True)\n",
    "    tm.fillna(1000000, inplace=True)\n",
    "    to = pd.DataFrame(columns=['GSM', 'N', 'Comparison', 'Overlap'], dtype=object)\n",
    "    for _, row in tm.iterrows():\n",
    "        gsm = row['gsm']\n",
    "        n = row['n']\n",
    "        t1 = row['tool1']\n",
    "        t2 = row['tool2']\n",
    "        to.loc[len(to)] = (gsm, n, f'{t1} vs {t2}', row['overlap1p'])\n",
    "        to.loc[len(to)] = (gsm, n, f'{t2} vs {t1}', row['overlap2p'])\n",
    "\n",
    "    plt.figure(figsize=(18, 5))\n",
    "    sns.barplot(data=to, \n",
    "                x='N', y='Overlap', hue='Comparison', capsize=.1, errwidth=2, edgecolor=\"black\")\n",
    "    plt.show()"
   ]
  },
  {
   "cell_type": "code",
   "execution_count": null,
   "metadata": {
    "scrolled": true,
    "pycharm": {
     "name": "#%%\n"
    }
   },
   "outputs": [],
   "source": [
    "# Jaccard\n",
    "for m in sorted(set(tools_comparison['modification'])):\n",
    "    print(m)\n",
    "    tm = tools_comparison[tools_comparison['modification'] == m].copy()\n",
    "    tm.sort_values(by=['modification', 'gsm', 'tool1', 'tool2'], inplace=True)\n",
    "    tm.fillna(1000000, inplace=True)\n",
    "    to = pd.DataFrame(columns=['GSM', 'N', 'Comparison', 'Jaccard'], dtype=object)\n",
    "    for _, row in tm.iterrows():\n",
    "        gsm = row['gsm']\n",
    "        n = row['n']\n",
    "        t1 = row['tool1']\n",
    "        t2 = row['tool2']\n",
    "        to.loc[len(to)] = (gsm, n, f'{t1} vs {t2}', row['jaccard'])\n",
    "\n",
    "    plt.figure(figsize=(18, 5))\n",
    "    sns.barplot(data=to, \n",
    "                x='N', y='Jaccard', hue='Comparison', capsize=.1, errwidth=2, edgecolor=\"black\")\n",
    "    plt.show()"
   ]
  },
  {
   "cell_type": "code",
   "execution_count": null,
   "metadata": {
    "scrolled": false,
    "pycharm": {
     "name": "#%%\n"
    }
   },
   "outputs": [],
   "source": [
    "# Jaccard heatmaps\n",
    "for m in sorted(set(tools_comparison['modification'])):\n",
    "    print(m)\n",
    "    tm = tools_comparison[tools_comparison['modification'] == m].copy()\n",
    "\n",
    "    tm.sort_values(by=['modification', 'gsm', 'tool1', 'tool2'], inplace=True)\n",
    "    tm.fillna(1000000, inplace=True)\n",
    "\n",
    "    fig = plt.figure(figsize=(18, 3))\n",
    "    for i, n in enumerate(sorted(set(tm['n']))):\n",
    "        ax  = plt.subplot(1, 4, i + 1)\n",
    "        tmn = tm[tm['n'] == n]\n",
    "        ts = []\n",
    "        for gsm in sorted(set(tmn['gsm'])):\n",
    "            tmng = tmn[tmn['gsm'] == gsm][['tool1', 'tool2', 'jaccard']].copy()\n",
    "#             print(gsm)\n",
    "#             display(tmng)            \n",
    "            tmngp = tmng.pivot(index='tool1', columns='tool2', values='jaccard')\n",
    "            ts.append(tmngp)\n",
    "        ts = pd.concat(ts)\n",
    "        ts = ts.groupby(ts.index).mean()\n",
    "#         display(ts)\n",
    "        sns.heatmap(ts, ax=ax, vmin=0, vmax=1, annot=True, fmt='.2f', \n",
    "                    yticklabels=i==0,\n",
    "                    cbar=i==3)\n",
    "        ax.set_xlabel(str(n))\n",
    "\n",
    "    plt.show()       "
   ]
  },
  {
   "cell_type": "code",
   "execution_count": null,
   "metadata": {
    "pycharm": {
     "name": "#%%\n"
    }
   },
   "outputs": [],
   "source": [
    "# Overlap heatmaps\n",
    "for m in sorted(set(tools_comparison['modification'])):\n",
    "    print(m)\n",
    "    tm = tools_comparison[tools_comparison['modification'] == m].copy()\n",
    "\n",
    "    tm.sort_values(by=['modification', 'gsm', 'tool1', 'tool2'], inplace=True)\n",
    "    tm.fillna(1000000, inplace=True)\n",
    "\n",
    "    fig = plt.figure(figsize=(18, 3))\n",
    "    for i, n in enumerate(sorted(set(tm['n']))):\n",
    "        ax  = plt.subplot(1, 4, i + 1)\n",
    "        tmn = tm[tm['n'] == n]\n",
    "        ts = []\n",
    "        for gsm in sorted(set(tmn['gsm'])):\n",
    "            tmng1 = tmn[tmn['gsm'] == gsm][['tool1', 'tool2', 'overlap1p']].copy()\n",
    "            tmng1.rename(dict(overlap1p='overlap'), axis=1, inplace=True)\n",
    "            tmng2 = tmn[tmn['gsm'] == gsm][['tool1', 'tool2', 'overlap2p']].copy()\n",
    "            tmng2.rename(dict(overlap2p='overlap', tool1='tool2', tool2='tool1'), axis=1, inplace=True)\n",
    "            tmng = pd.concat([tmng1, tmng2])\n",
    "#             print(gsm)\n",
    "#             display(tmng)            \n",
    "            tmngp = tmng.pivot(index='tool1', columns='tool2', values='overlap')\n",
    "            tmngp.fillna(1., inplace=True)\n",
    "            ts.append(tmngp)\n",
    "        ts = pd.concat(ts)\n",
    "        ts = ts.groupby(ts.index).mean()\n",
    "#         display(ts)\n",
    "        sns.heatmap(ts, ax=ax, vmin=0, vmax=1, annot=True, fmt='.2f', \n",
    "                    yticklabels=i==0,\n",
    "                    cbar=i==3)\n",
    "        ax.set_xlabel(str(n))\n",
    "\n",
    "    plt.show()       "
   ]
  },
  {
   "cell_type": "code",
   "execution_count": null,
   "metadata": {
    "pycharm": {
     "name": "#%%\n"
    }
   },
   "outputs": [],
   "source": [
    "__BREAK__"
   ]
  },
  {
   "cell_type": "markdown",
   "metadata": {
    "pycharm": {
     "name": "#%% md\n"
    }
   },
   "source": [
    "# Coverage analysis\n",
    "```\n",
    "# Experimental signal-to-noise ratio and peak calling contrast\n",
    "for M in $(ls {PATH}/span/fit/*.span); do echo $M; java -cp experiments/build/libs/experiments-dev.jar -Dconfig.path=/home/user/.epigenome/config.properties org.jetbrains.bio.experiments.SPANPeakCallingContrastExperiment $M; done\n",
    "```"
   ]
  },
  {
   "cell_type": "code",
   "execution_count": null,
   "metadata": {
    "pycharm": {
     "name": "#%%\n"
    }
   },
   "outputs": [],
   "source": [
    "from io import StringIO\n",
    "\n",
    "ts = []\n",
    "for info in tqdm(glob.glob('/mnt/stripe/bio/experiments/span_peak_calling_contrast/*.info')):\n",
    "    name = os.path.basename(info)\n",
    "    gsm = re.findall('(GSM[0-9]+)', name)[0]\n",
    "    with open(info) as t:\n",
    "        info = ''.join(t.readlines())\n",
    "        if 'Error' in info:\n",
    "            continue\n",
    "#         print(info)\n",
    "        sn = float(re.findall('Signal to noise: ([0-9\\.]+)', info)[0])\n",
    "#         print('SN', sn)\n",
    "        totalscore = int(re.findall('Total Score: ([0-9]+)', info)[0])\n",
    "#         print('TS', totalscore)\n",
    "        dft = re.sub('(.|\\n)+Total Score:[^\\n]+\\n', '', info)\n",
    "        t = pd.read_csv(StringIO(dft), sep='\\t')\n",
    "        t['GSM'] = gsm\n",
    "        t['SNR'] = sn\n",
    "        t['TOTAL_SCORE'] = totalscore\n",
    "        ts.append(t)\n",
    "t = pd.concat(ts)\n",
    "\n",
    "t['PEAKS_RPKM'] = t['PEAKS_SCORE'] / (t['PEAKS_LENGTH'] / 1000) / (t['TOTAL_SCORE'] / 1000000)\n",
    "t['SHORES_RPKM'] = t['SHORES_SCORE'] / (t['SHORES_LENGTH'] / 1000) / (t['TOTAL_SCORE'] / 1000000)\n",
    "t['CONTRAST'] = t['PEAKS_RPKM'] / t['SHORES_RPKM']\n",
    "infodf = t\n",
    "infodf = infodf.loc[infodf['FDR'].astype(float)>=1e-10]\n",
    "infodf.head()"
   ]
  },
  {
   "cell_type": "code",
   "execution_count": null,
   "metadata": {
    "pycharm": {
     "name": "#%%\n"
    }
   },
   "outputs": [],
   "source": [
    "t = pd.merge(left=infodf, left_on='GSM', right=dfs[['gsm', 'cell', 'modification']].drop_duplicates(), right_on='gsm')\n",
    "infodf = t\n",
    "infodf.head()"
   ]
  },
  {
   "cell_type": "code",
   "execution_count": null,
   "metadata": {
    "pycharm": {
     "name": "#%%\n"
    }
   },
   "outputs": [],
   "source": [
    "import matplotlib\n",
    "\n",
    "def rgb2hex(r, g, b):\n",
    "    r, g, b = r * 255, g * 255, b * 255\n",
    "    return \"#{0:02x}{1:02x}{2:02x}\".format(int(r), int(g), int(b))\n",
    "\n",
    "cells = list(set(infodf['cell']))\n",
    "cmap = matplotlib.cm.get_cmap('tab20', len(cells))\n",
    "cell_colors = dict(zip(cells, [rgb2hex(*cmap(i)[:3]) for i in range(len(cells))]))\n",
    "cell_colors"
   ]
  },
  {
   "cell_type": "code",
   "execution_count": null,
   "metadata": {
    "scrolled": false,
    "pycharm": {
     "name": "#%%\n"
    }
   },
   "outputs": [],
   "source": [
    "# Peaks number vs FDR\n",
    "for m in set(infodf['modification']):\n",
    "    tm = infodf.loc[infodf['modification'] == m]\n",
    "    fig = go.Figure()\n",
    "    \n",
    "    for g in sorted(set(tm['GAP'])):\n",
    "        tmg = tm.loc[tm['GAP'] == g]\n",
    "        for c in sorted(set(tmg['cell'])):\n",
    "            tmgc = tmg.loc[tmg['cell']==c].copy()\n",
    "            tmgc.sort_values(by=['FDR'], inplace=True)\n",
    "            if g == 0:\n",
    "                fig.add_trace(go.Scatter(x=np.log10(tmgc['FDR']), y=tmgc['PEAKS_NUMBER'], \n",
    "                         mode='lines',\n",
    "                         name=f'{c} {g}',\n",
    "                         line = dict(color=cell_colors[c], width=2, dash='dash')))\n",
    "            elif g == 5:\n",
    "                fig.add_trace(go.Scatter(x=np.log10(tmgc['FDR']), y=tmgc['PEAKS_NUMBER'], \n",
    "                         mode='lines',\n",
    "                         name=f'{c} {g}',\n",
    "                         line = dict(color=cell_colors[c], width=2)))\n",
    "            elif g == 10:\n",
    "                fig.add_trace(go.Scatter(x=np.log10(tmgc['FDR']), y=tmgc['PEAKS_NUMBER'], \n",
    "                         mode='lines',\n",
    "                         name=f'{c} {g}',\n",
    "                         line = dict(color=cell_colors[c], width=2, dash='dot')))\n",
    "\n",
    "    fig.update_xaxes(title=f'{m} Log10 FDR')\n",
    "    fig.update_yaxes(title=f'{m} Peaks')\n",
    "    fig.show()"
   ]
  },
  {
   "cell_type": "code",
   "execution_count": null,
   "metadata": {
    "scrolled": true,
    "pycharm": {
     "name": "#%%\n"
    }
   },
   "outputs": [],
   "source": [
    "infodf['PEAKS_AVG_LENGTH'] = infodf['PEAKS_LENGTH'] / infodf['PEAKS_NUMBER']\n",
    "# Peaks number vs Peaks average length\n",
    "for m in set(infodf['modification']):\n",
    "    tm = infodf.loc[infodf['modification'] == m]\n",
    "    fig = go.Figure()\n",
    "    \n",
    "    for g in sorted(set(tm['GAP'])):\n",
    "        tmg = tm.loc[tm['GAP'] == g]\n",
    "        for c in sorted(set(tmg['cell'])):\n",
    "            tmgc = tmg.loc[tmg['cell']==c].copy()\n",
    "            tmgc.sort_values(by=['FDR'], inplace=True)\n",
    "            if g == 0:\n",
    "                fig.add_trace(go.Scatter(x=tmgc['PEAKS_NUMBER'], y=tmgc['PEAKS_AVG_LENGTH'], \n",
    "                         mode='lines',\n",
    "                         name=f'{c} {g}',\n",
    "                         line = dict(color=cell_colors[c], width=2, dash='dash')))\n",
    "            elif g == 5:\n",
    "                fig.add_trace(go.Scatter(x=tmgc['PEAKS_NUMBER'], y=tmgc['PEAKS_AVG_LENGTH'], \n",
    "                         mode='lines',\n",
    "                         name=f'{c} {g}',\n",
    "                         line = dict(color=cell_colors[c], width=2)))\n",
    "            elif g == 10:\n",
    "                fig.add_trace(go.Scatter(x=tmgc['PEAKS_NUMBER'], y=tmgc['PEAKS_AVG_LENGTH'], \n",
    "                         mode='lines',\n",
    "                         name=f'{c} {g}',\n",
    "                         line = dict(color=cell_colors[c], width=2, dash='dot')))\n",
    "\n",
    "    fig.update_xaxes(title=f'{m} Peaks number')\n",
    "    fig.update_yaxes(title=f'{m} Peaks average length')\n",
    "    fig.show()"
   ]
  },
  {
   "cell_type": "code",
   "execution_count": null,
   "metadata": {
    "scrolled": false,
    "pycharm": {
     "name": "#%%\n"
    }
   },
   "outputs": [],
   "source": [
    "# # Contrast vs FDR\n",
    "# for m in set(infodf['modification']):\n",
    "#     tm = infodf.loc[infodf['modification'] == m]\n",
    "#     for g in sorted(set(tm['GAP'])):\n",
    "#         tmg = tm.loc[tm['GAP'] == g]\n",
    "#         fig = go.Figure()\n",
    "#         for c in sorted(set(tmg['cell'])):\n",
    "#             tmgc = tmg.loc[tmg['cell']==c].copy()\n",
    "#             tmgc.sort_values(by=['FDR'], inplace=True)\n",
    "#             fig.add_trace(go.Scatter(x=np.log10(tmgc['FDR']), y=tmgc['CONTRAST'], \n",
    "#                                      mode='lines+markers',\n",
    "#                                      name=c))\n",
    "#         fig.update_xaxes(title=f'{m} Log10 FDR')\n",
    "#         fig.update_yaxes(title=f'{m} gap {g} Contrast')\n",
    "#         fig.show()"
   ]
  },
  {
   "cell_type": "code",
   "execution_count": null,
   "metadata": {
    "scrolled": false,
    "pycharm": {
     "name": "#%%\n"
    }
   },
   "outputs": [],
   "source": [
    "# Contrast vs Peaks RPKM\n",
    "for m in set(infodf['modification']):\n",
    "    tm = infodf.loc[infodf['modification'] == m]\n",
    "    display(tm.loc[np.logical_and(t['GAP']==5, t['FDR'].isin([0.1, 1e-6]))][\n",
    "        ['modification', 'cell', 'GAP', 'FDR', 'SNR', 'PEAKS_NUMBER', 'PEAKS_RPKM', 'CONTRAST']\n",
    "    ].sort_values(by=['cell']))\n",
    "    for g in sorted(set(tm['GAP'])):\n",
    "        tmg = tm.loc[tm['GAP'] == g]\n",
    "        fig = go.Figure()\n",
    "        for c in sorted(set(tmg['cell'])):\n",
    "            tmgc = tmg.loc[tmg['cell']==c].copy()\n",
    "            tmgc.sort_values(by=['FDR'], inplace=True)\n",
    "            fig.add_trace(go.Scatter(x=np.log10(tmgc['PEAKS_RPKM']), y=tmgc['CONTRAST'], \n",
    "                                     mode='lines+markers',\n",
    "                                     name=c))\n",
    "        fig.update_xaxes(title=f'{m} Peaks log10 RPKM')\n",
    "        fig.update_yaxes(title=f'{m} gap {g} Contrast')\n",
    "        fig.show()"
   ]
  },
  {
   "cell_type": "code",
   "execution_count": null,
   "metadata": {
    "scrolled": false,
    "pycharm": {
     "name": "#%%\n"
    }
   },
   "outputs": [],
   "source": [
    "# Contrast vs Peaks RPKM\n",
    "for m in set(infodf['modification']):\n",
    "    tm = infodf.loc[infodf['modification'] == m]\n",
    "    fig = go.Figure()\n",
    "    display(tm.loc[np.logical_and(t['GAP']==5, t['FDR'].isin([0.1, 1e-6]))][\n",
    "        ['modification', 'cell', 'GAP', 'FDR', 'SNR', 'PEAKS_NUMBER', 'PEAKS_RPKM', 'CONTRAST']\n",
    "    ].sort_values(by=['cell']))\n",
    "    \n",
    "    for g in sorted(set(tm['GAP'])):\n",
    "        tmg = tm.loc[tm['GAP'] == g]\n",
    "        for c in sorted(set(tmg['cell'])):\n",
    "            tmgc = tmg.loc[tmg['cell']==c].copy()\n",
    "            tmgc.sort_values(by=['FDR'], inplace=True)\n",
    "            if g == 0:\n",
    "                fig.add_trace(go.Scatter(x=np.log10(tmgc['PEAKS_RPKM']), y=tmgc['CONTRAST'], \n",
    "                         mode='lines',\n",
    "                         name=f'{c} {g}',\n",
    "                         line = dict(color=cell_colors[c], width=2, dash='dash')))\n",
    "            elif g == 5:\n",
    "                fig.add_trace(go.Scatter(x=np.log10(tmgc['PEAKS_RPKM']), y=tmgc['CONTRAST'], \n",
    "                         mode='lines',\n",
    "                         name=f'{c} {g}',\n",
    "                         line = dict(color=cell_colors[c], width=2)))\n",
    "            elif g == 10:\n",
    "                fig.add_trace(go.Scatter(x=np.log10(tmgc['PEAKS_RPKM']), y=tmgc['CONTRAST'], \n",
    "                         mode='lines',\n",
    "                         name=f'{c} {g}',\n",
    "                         line = dict(color=cell_colors[c], width=2, dash='dot')))\n",
    "\n",
    "    fig.update_xaxes(title=f'{m} Peaks log10 RPKM')\n",
    "    fig.update_yaxes(title=f'{m} Contrast')\n",
    "    fig.show()"
   ]
  },
  {
   "cell_type": "code",
   "execution_count": null,
   "metadata": {
    "scrolled": false,
    "pycharm": {
     "name": "#%%\n"
    }
   },
   "outputs": [],
   "source": [
    "# # Contrast vs Peaks number\n",
    "# for m in set(infodf['modification']):\n",
    "#     tm = infodf.loc[infodf['modification'] == m]\n",
    "#     display(tm.loc[np.logical_and(t['GAP']==5, t['FDR']==0.1)][\n",
    "#         ['modification', 'cell', 'SNR', 'PEAKS_NUMBER', 'PEAKS_RPKM', 'CONTRAST']\n",
    "#     ].sort_values(by=['cell']))\n",
    "#     for g in sorted(set(tm['GAP'])):\n",
    "#         tmg = tm.loc[tm['GAP'] == g]\n",
    "#         fig = go.Figure()\n",
    "#         for c in sorted(set(tmg['cell'])):\n",
    "#             tmgc = tmg.loc[tmg['cell']==c].copy()\n",
    "#             tmgc.sort_values(by=['FDR'], inplace=True)\n",
    "#             fig.add_trace(go.Scatter(x=np.log10(tmgc['PEAKS_NUMBER']), y=tmgc['CONTRAST'], \n",
    "#                                      mode='lines+markers',\n",
    "#                                      name=c))\n",
    "#         fig.update_xaxes(title=f'{m} Peaks log10 number')\n",
    "#         fig.update_yaxes(title=f'{m} gap {g} Contrast')\n",
    "#         fig.show()"
   ]
  },
  {
   "cell_type": "code",
   "execution_count": null,
   "metadata": {
    "pycharm": {
     "name": "#%%\n"
    }
   },
   "outputs": [],
   "source": [
    "# Real signal-to-noise ratio\n",
    "infodf['REAL_SNR'] = (infodf['PEAKS_SCORE'] / infodf['PEAKS_LENGTH']) / (infodf['TOTAL_SCORE'] - infodf['PEAKS_SCORE']) * (3*10e9 - infodf['PEAKS_LENGTH'])\n",
    "infodf.head()"
   ]
  },
  {
   "cell_type": "code",
   "execution_count": null,
   "metadata": {
    "scrolled": false,
    "pycharm": {
     "name": "#%%\n"
    }
   },
   "outputs": [],
   "source": [
    "# FDR vs REAL signal to noise\n",
    "for m in set(infodf['modification']):\n",
    "    tm = infodf.loc[infodf['modification'] == m]\n",
    "    fig = go.Figure()\n",
    "    \n",
    "    for g in sorted(set(tm['GAP'])):\n",
    "        tmg = tm.loc[tm['GAP'] == g]\n",
    "        for c in sorted(set(tmg['cell'])):\n",
    "            tmgc = tmg.loc[tmg['cell']==c].copy()\n",
    "            tmgc.sort_values(by=['FDR'], inplace=True)\n",
    "            if g == 0:\n",
    "                fig.add_trace(go.Scatter(x=np.log10(tmgc['FDR']), y=np.log10(tmgc['REAL_SNR']), \n",
    "                         mode='lines+markers',\n",
    "                         name=f'{c} {g}',\n",
    "                         line = dict(color=cell_colors[c], width=1, dash='dash')))\n",
    "            elif g == 5:\n",
    "                fig.add_trace(go.Scatter(x=np.log10(tmgc['FDR']), y=np.log10(tmgc['REAL_SNR']), \n",
    "                                         mode='lines+markers',\n",
    "                                         name=f'{c} {g}',\n",
    "                                         line = dict(color=cell_colors[c], width=1)))\n",
    "            elif g == 10:\n",
    "                fig.add_trace(go.Scatter(x=np.log10(tmgc['FDR']), y=np.log10(tmgc['REAL_SNR']), \n",
    "                         mode='lines+markers',\n",
    "                         name=f'{c} {g}',\n",
    "                         line = dict(color=cell_colors[c], width=1, dash='dot')))\n",
    "\n",
    "    fig.update_xaxes(title='Log10 FDR')\n",
    "    fig.update_yaxes(title=f'{m} gap {g} Log10 SNR')\n",
    "    fig.show()"
   ]
  },
  {
   "cell_type": "code",
   "execution_count": null,
   "metadata": {
    "scrolled": false,
    "pycharm": {
     "name": "#%%\n"
    }
   },
   "outputs": [],
   "source": [
    "# PEAKS NUMBER vs REAL signal to noise\n",
    "for m in set(infodf['modification']):\n",
    "    tm = infodf.loc[infodf['modification'] == m]\n",
    "    fig = go.Figure()\n",
    "    \n",
    "    for g in sorted(set(tm['GAP'])):\n",
    "        tmg = tm.loc[tm['GAP'] == g]\n",
    "        for c in sorted(set(tmg['cell'])):\n",
    "            tmgc = tmg.loc[tmg['cell']==c].copy()\n",
    "            tmgc.sort_values(by=['FDR'], inplace=True)\n",
    "            if g == 0:\n",
    "                fig.add_trace(go.Scatter(x=np.log10(tmgc['PEAKS_NUMBER']), y=np.log10(tmgc['REAL_SNR']), \n",
    "                         mode='lines+markers',\n",
    "                         name=f'{c} {g}',\n",
    "                         line = dict(color=cell_colors[c], width=1, dash='dash')))\n",
    "            elif g == 5:\n",
    "                fig.add_trace(go.Scatter(x=np.log10(tmgc['PEAKS_NUMBER']), y=np.log10(tmgc['REAL_SNR']), \n",
    "                                         mode='lines+markers',\n",
    "                                         name=f'{c} {g}',\n",
    "                                         line = dict(color=cell_colors[c], width=1)))\n",
    "            elif g == 10:\n",
    "                fig.add_trace(go.Scatter(x=np.log10(tmgc['PEAKS_NUMBER']), y=np.log10(tmgc['REAL_SNR']), \n",
    "                         mode='lines+markers',\n",
    "                         name=f'{c} {g}',\n",
    "                         line = dict(color=cell_colors[c], width=1, dash='dot')))\n",
    "\n",
    "    fig.update_xaxes(title='Log10 Peaks number')\n",
    "    fig.update_yaxes(title=f'{m} gap {g} Log10 SNR')\n",
    "    fig.show()"
   ]
  },
  {
   "cell_type": "code",
   "execution_count": null,
   "metadata": {
    "pycharm": {
     "name": "#%%\n"
    }
   },
   "outputs": [],
   "source": []
  }
 ],
 "metadata": {
  "kernelspec": {
   "display_name": "Python 3",
   "language": "python",
   "name": "python3"
  },
  "language_info": {
   "codemirror_mode": {
    "name": "ipython",
    "version": 3
   },
   "file_extension": ".py",
   "mimetype": "text/x-python",
   "name": "python",
   "nbconvert_exporter": "python",
   "pygments_lexer": "ipython3",
   "version": "3.8.5"
  },
  "toc": {
   "nav_menu": {},
   "number_sections": true,
   "sideBar": true,
   "skip_h1_title": false,
   "toc_cell": false,
   "toc_position": {},
   "toc_section_display": "block",
   "toc_window_display": true
  }
 },
 "nbformat": 4,
 "nbformat_minor": 2
}