{
 "cells": [
  {
   "cell_type": "markdown",
   "metadata": {},
   "source": [
    "# SPAN Benchmarks H3K36me3 vs RNA-seq\n",
    "\n",
    "See https://pubmed.ncbi.nlm.nih.gov/27169896/\n"
   ]
  },
  {
   "cell_type": "code",
   "execution_count": null,
   "metadata": {
    "ExecuteTime": {
     "start_time": "2023-05-19T09:30:35.404936Z",
     "end_time": "2023-05-19T09:30:35.421072Z"
    }
   },
   "outputs": [],
   "source": [
    "%matplotlib inline\n",
    "%config InlineBackend.figure_format='retina'\n",
    "\n",
    "import pandas as pd\n",
    "import seaborn as sns\n",
    "from IPython.display import display\n",
    "\n",
    "sns.set_style(\"whitegrid\")\n",
    "import matplotlib.pyplot as plt\n",
    "import numpy as np\n",
    "import os\n",
    "from tqdm.auto import tqdm\n",
    "from itertools import product\n",
    "import tempfile"
   ]
  },
  {
   "cell_type": "code",
   "execution_count": null,
   "outputs": [],
   "source": [
    "def bedl(file):\n",
    "    try:\n",
    "        tf = pd.read_csv(file, sep='\\t', header=None)\n",
    "        return tf[2] - tf[1]\n",
    "    except:\n",
    "        return np.zeros(0)  # Empty file\n",
    "\n",
    "\n",
    "def lines(file):\n",
    "    try:\n",
    "        tf = pd.read_csv(file, sep='\\t', header=None)\n",
    "        return len(tf)\n",
    "    except:\n",
    "        return 0  # Empty file\n",
    "\n",
    "\n",
    "def last_col(file):\n",
    "    try:\n",
    "        cols = len(pd.read_csv(file, sep='\\t', nrows=1, header=None).columns)\n",
    "        return pd.read_csv(file, sep='\\t', header=None, usecols=[cols - 1])[cols - 1]\n",
    "    except:\n",
    "        return np.zeros(0)  # Empty file\n",
    "\n",
    "\n",
    "def d(a, b):\n",
    "    return a / b if b != 0 else 0\n",
    "\n",
    "\n",
    "def sorted_file(file):\n",
    "    ts = tempfile.mktemp()\n",
    "    !cat {file} | sort -k1,1 -k2,2n > {ts}\n",
    "    return ts"
   ],
   "metadata": {
    "collapsed": false,
    "ExecuteTime": {
     "start_time": "2023-05-19T09:30:35.425821Z",
     "end_time": "2023-05-19T09:30:35.438543Z"
    }
   }
  },
  {
   "cell_type": "markdown",
   "source": [
    "# Hg38 H3K36me3 vs RNA-seq quanitified"
   ],
   "metadata": {
    "collapsed": false
   }
  },
  {
   "cell_type": "markdown",
   "source": [
    "## Hg38 Load GTF file"
   ],
   "metadata": {
    "collapsed": false
   }
  },
  {
   "cell_type": "code",
   "execution_count": null,
   "outputs": [],
   "source": [
    "gtf_df = pd.read_csv(os.path.expanduser(\n",
    "    '~/data/2023_Immune/gencode.GRCh38.p13.v41.annotation.gtf'),\n",
    "    sep='\\t', comment='#',\n",
    "    names=['chromosome', 'db', 'type', 'start', 'end', 'point1', 'strand', 'point2', 'aux'])\n",
    "gtf_df.sample(10)"
   ],
   "metadata": {
    "collapsed": false
   }
  },
  {
   "cell_type": "code",
   "execution_count": null,
   "outputs": [],
   "source": [
    "import re\n",
    "\n",
    "print('Parse GTF aux data')\n",
    "auxes = {}\n",
    "for i, aux in enumerate(tqdm(gtf_df['aux'])):\n",
    "    for pair in aux.split(';'):\n",
    "        kv = pair.strip().split(' ')\n",
    "        if len(kv) != 2:\n",
    "            continue\n",
    "        k, v = kv\n",
    "        if k not in auxes:\n",
    "            auxes[k] = vs = []\n",
    "        else:\n",
    "            vs = auxes[k]\n",
    "        vs.append(v.strip('\"'))\n",
    "\n",
    "for k, vs in auxes.items():\n",
    "    if len(vs) == len(gtf_df):\n",
    "        gtf_df[k] = vs\n",
    "    else:\n",
    "        print(f'Ignoring {k}')\n",
    "del auxes\n",
    "gtf_df.drop('aux', axis=1, inplace=True)\n",
    "\n",
    "# Fix . in gene_id\n",
    "gtf_df['gene_id'] = [re.sub('\\..*', '', id) for id in gtf_df['gene_id']]"
   ],
   "metadata": {
    "collapsed": false
   }
  },
  {
   "cell_type": "code",
   "execution_count": null,
   "outputs": [],
   "source": [
    "print(f'Total hg38 records {len(gtf_df)}')\n",
    "print(f'Total hg38 genes {sum(gtf_df[\"type\"] == \"gene\")}')\n",
    "print(f'Total hg38 protein_coding genes {sum((gtf_df[\"type\"] == \"gene\") & (gtf_df[\"gene_type\"] == \"protein_coding\"))}')\n",
    "\n",
    "gtf_genes_df = gtf_df[gtf_df['type'] == 'gene']\n",
    "gtf_genes_df.sample(5)"
   ],
   "metadata": {
    "collapsed": false
   }
  },
  {
   "cell_type": "markdown",
   "source": [
    "## Annotate quanitified RNA-seq with positions"
   ],
   "metadata": {
    "collapsed": false
   }
  },
  {
   "cell_type": "code",
   "execution_count": null,
   "outputs": [],
   "source": [
    "def merge_genes(full_df):\n",
    "    print('Merging overlapping regions', len(full_df))\n",
    "    ts = []\n",
    "    for chr in full_df['chromosome'].unique():\n",
    "        t = full_df[full_df['chromosome'] == chr].sort_values(by=['start', 'end']).copy()\n",
    "        cols = t.columns.difference(['start', 'end'])\n",
    "        grps = t['start'].sub(t['end'].shift()).gt(1).cumsum()\n",
    "        gpby = t.groupby(grps)\n",
    "        t = gpby.agg(dict(start='min', end='max')).join(gpby[cols].mean())\n",
    "        t['chromosome'] = chr\n",
    "        t['gene_id'] = 'merged'\n",
    "        t['strand'] = '.'\n",
    "        t = t[['chromosome', 'start', 'end', 'gene_id', 'strand', 'TPM', 'LTPM']]\n",
    "        ts.append(t)\n",
    "    ts = pd.concat(ts).reset_index(drop=True)\n",
    "    print('Reduced to', len(ts))\n",
    "    return ts"
   ],
   "metadata": {
    "collapsed": false
   }
  },
  {
   "cell_type": "code",
   "execution_count": null,
   "outputs": [],
   "source": [
    "import re\n",
    "\n",
    "GSE26320_RNASEQ_PATH = os.path.expanduser('~/data/2023_GSE26320_rnaseq')\n",
    "\n",
    "EXPRESSION_TSV = {\n",
    "    ('GM12878', 'rep1'): 'GM12878_rep1_RNAseq_hg38_ENCFF723ICA.tsv',\n",
    "    ('GM12878', 'rep2'): 'GM12878_rep2_RNAseq_hg38_ENCFF418FIT.tsv',\n",
    "    ('H1', 'rep1'): 'H1_rep1_RNAseq_hg38_ENCFF093NEQ.tsv',\n",
    "    ('H1', 'rep2'): 'H1_rep1_RNAseq_hg38_ENCFF093NEQ.tsv',\n",
    "    ('HMEC', 'rep1'): 'HMEC_rep1_RNAseq_hg38_ENCFF292FVY.tsv',\n",
    "    ('HMEC', 'rep2'): 'HMEC_rep2_RNAseq_hg38_ENCFF219EZH.tsv',\n",
    "    ('HSMM', 'rep1'): 'HSMM_rep1_RNAseq_hg38_ENCFF551YKI.tsv',\n",
    "    ('HSMM', 'rep2'): 'HSMM_rep2_RNAseq_hg38_ENCFF497BUG.tsv',\n",
    "    ('HepG2', 'rep1'): 'HepG2_rep1_RNAseq_hg38_ENCFF773JNC.tsv',\n",
    "    ('HepG2', 'rep2'): 'HepG2_rep2_RNAseq_hg38_ENCFF570ZOT.tsv',\n",
    "    ('Huvec', 'rep1'): 'Huvec_rep1_RNAseq_hg38_ENCFF454MTF.tsv',\n",
    "    ('Huvec', 'rep2'): 'Huvec_rep2_RNAseq_hg38_ENCFF134FYP.tsv',\n",
    "    ('K562', 'rep1'): 'K562_rep1_RNAseq_hg38_ENCFF139IXQ.tsv',\n",
    "    ('K562', 'rep2'): 'K562_rep2_RNAseq_hg38_ENCFF088RDE.tsv',\n",
    "    ('NHEK', 'rep1'): 'NHEK_rep1_RNAseq_hg38_ENCFF004JWA.tsv',\n",
    "    ('NHEK', 'rep2'): 'NHEK_rep1_RNAseq_hg38_ENCFF004JWA.tsv',\n",
    "    ('NHLF', 'rep1'): 'NHLF_rep1_RNAseq_hg38_ENCFF577DEC.tsv',\n",
    "    ('NHLF', 'rep2'): 'NHLF_rep2_RNAseq_hg38_ENCFF412KNK.tsv'\n",
    "}\n",
    "\n",
    "EXPRESSION_BED = {}\n",
    "EXPRESSED_GENES = {}\n",
    "THRESHOLD = 0.1\n",
    "\n",
    "for (cell, rep), path in tqdm(EXPRESSION_TSV.items()):\n",
    "    print(cell, rep, path)\n",
    "    t = pd.read_csv(GSE26320_RNASEQ_PATH + '/' + path, sep='\\t')\n",
    "    # Fix . in gene_id\n",
    "    t['gene_id'] = [re.sub('\\..*', '', id) for id in t['gene_id']]\n",
    "    t['LTPM'] = np.log1p(t['TPM'])\n",
    "\n",
    "    # # Plot expression\n",
    "    # plt.figure(figsize=(10, 2))\n",
    "    # ax = plt.axes()\n",
    "    # g_results = sns.histplot(data=t, x='LTPM', ax=ax,\n",
    "    #                          stat='density',\n",
    "    #                          bins=500, kde=True, alpha=0.4)\n",
    "    # ax.axvline(x=THRESHOLD, color='green')\n",
    "    # ax.title.set_text(f'{cell} expression')\n",
    "    # plt.show()\n",
    "\n",
    "    # Save expressed genes\n",
    "    full_df = pd.merge(left=t, right=gtf_genes_df, left_on='gene_id', right_on='gene_id')\n",
    "    full_df = full_df[['chromosome', 'start', 'end', 'gene_id', 'strand', 'TPM', 'LTPM']]\n",
    "\n",
    "    print(f'Total genes with positions {len(full_df)}')\n",
    "    full_df = full_df[full_df['LTPM'] > THRESHOLD]\n",
    "    print(f'Genes logTPM > {THRESHOLD} {len(full_df)}')\n",
    "    EXPRESSED_GENES[(cell, rep)] = len(full_df)\n",
    "\n",
    "    # Plot expressed genes lengths\n",
    "    # plt.figure(figsize=(4, 2))\n",
    "    # ax = plt.axes()\n",
    "    # g_results = sns.histplot(x=full_df['end']-full_df['start'], ax=ax,\n",
    "    #                          stat='density',\n",
    "    #                          bins=100, log_scale=True, kde=True, alpha=0.4)\n",
    "    # g_results.set(xscale='log')\n",
    "    # ax.title.set_text(f'{cell} genes lengths')\n",
    "    # plt.show()\n",
    "\n",
    "    expr_path = GSE26320_RNASEQ_PATH + '/' + path.replace('.tsv', f'_tpm{THRESHOLD}.bed')\n",
    "    full_df.sort_values(by=['chromosome', 'start'], inplace=True)\n",
    "    full_df = merge_genes(full_df)\n",
    "    full_df.to_csv(expr_path, sep='\\t', index=False, header=None)\n",
    "    print(f'Saved expressed genes fom {cell} to {expr_path}')\n",
    "    EXPRESSION_BED[(cell, rep)] = expr_path\n"
   ],
   "metadata": {
    "collapsed": false
   }
  },
  {
   "cell_type": "markdown",
   "source": [
    "## Hg38 load peaks"
   ],
   "metadata": {
    "collapsed": false
   }
  },
  {
   "cell_type": "code",
   "execution_count": null,
   "outputs": [],
   "source": [
    "GSE26320_PATH_HG38 = os.path.expanduser('~/data/2023_GSE26320')\n",
    "GSE26320_CELLS = ['GM12878', 'HMEC', 'HSMM', 'K562', 'NHEK', 'NHLF', 'H1', 'Huvec', 'HepG2']\n",
    "# GSE26320_CELLS = ['H1', 'GM12878', 'K562']\n",
    "# Ignore\n",
    "# HMEC rep1 - bad quality overlap for all tools\n",
    "# HSMM - bad rep1\n",
    "# H1 and NHLF produce < 100 peaks by MACS2\n",
    "# Huvec - bad quality track rep1\n",
    "\n",
    "# GSE26320_CELLS = ['GM12878',  'K562', 'H1']\n",
    "# GSE26320_MODIFICATIONS = ['CTCF', 'H3K27ac', 'H3K27me3', 'H3K36me3', 'H3K4me1', 'H3K4me2', 'H3K4me3', 'H3K9ac', 'H4K20me1']\n",
    "GSE26320_MODIFICATIONS = ['H3K36me3']\n",
    "GSE26320_REPS = ['rep1', 'rep2']\n",
    "\n",
    "\n",
    "! mkdir -p {GSE26320_PATH_HG38}/pics"
   ],
   "metadata": {
    "collapsed": false,
    "ExecuteTime": {
     "start_time": "2023-05-19T09:30:44.198001Z",
     "end_time": "2023-05-19T09:30:44.311459Z"
    }
   }
  },
  {
   "cell_type": "code",
   "execution_count": null,
   "outputs": [],
   "source": [
    "def load_peaks_fdr(path, suffix, fdrs):\n",
    "    df_fdr = pd.DataFrame(columns=['file', 'modification', 'cell', 'replicate', 'fdr', 'peaks', 'avlength'],\n",
    "                          dtype=object)\n",
    "    for f in tqdm(os.listdir(path)):\n",
    "        if suffix not in f:\n",
    "            continue\n",
    "        fdr = next((fdr for fdr in fdrs if fdr in f), None)\n",
    "        cell = next((cc for cc in GSE26320_CELLS if cc in f), None)\n",
    "        mod = next((m for m in GSE26320_MODIFICATIONS if m in f), None)\n",
    "        rep = next((r for r in GSE26320_REPS if r in f), None)\n",
    "        if fdr and cell and rep and mod:\n",
    "            peaks_path = os.path.join(path, f)\n",
    "            ps, ls = lines(peaks_path), bedl(peaks_path)\n",
    "            avls = 0 if ps == 0 else sum(ls) / ps\n",
    "            df_fdr.loc[len(df_fdr)] = (f, mod, cell, rep, fdr, ps, avls)\n",
    "    return df_fdr"
   ],
   "metadata": {
    "collapsed": false,
    "ExecuteTime": {
     "start_time": "2023-05-19T09:30:44.796232Z",
     "end_time": "2023-05-19T09:30:44.811164Z"
    }
   }
  },
  {
   "cell_type": "code",
   "execution_count": null,
   "outputs": [],
   "source": [
    "df_fdr_macs2 = load_peaks_fdr(os.path.join(GSE26320_PATH_HG38, 'macs2'), '.narrowPeak', ['0.05'])\n",
    "df_fdr_macs2['file'] = [f'{GSE26320_PATH_HG38}/macs2/{f}' for f in df_fdr_macs2['file']]\n",
    "df_fdr_macs2['tool'] = 'MACS2'\n",
    "print('MACS2', len(df_fdr_macs2))\n",
    "\n",
    "df_fdr_macs2broad = load_peaks_fdr(os.path.join(GSE26320_PATH_HG38, 'macs2'), '.broadPeak', ['0.1'])\n",
    "df_fdr_macs2broad['file'] = [f'{GSE26320_PATH_HG38}/macs2/{f}' for f in df_fdr_macs2broad['file']]\n",
    "df_fdr_macs2broad['tool'] = 'MACS2 broad'\n",
    "print('MACS2 broad', len(df_fdr_macs2broad))\n",
    "\n",
    "df_fdr_sicer = load_peaks_fdr(os.path.join(GSE26320_PATH_HG38, 'sicer'), 'summary-FDR', ['0.01'])\n",
    "df_fdr_sicer['file'] = [f'{GSE26320_PATH_HG38}/sicer/{f}' for f in df_fdr_sicer['file']]\n",
    "df_fdr_sicer['tool'] = 'SICER'\n",
    "print('SICER', len(df_fdr_sicer))\n",
    "\n",
    "df_fdr_span = load_peaks_fdr(os.path.join(GSE26320_PATH_HG38, 'span'), '.peak', ['0.05'])\n",
    "df_fdr_span['file'] = [f'{GSE26320_PATH_HG38}/span/{f}' for f in df_fdr_span['file']]\n",
    "df_fdr_span['tool'] = 'SPAN'\n",
    "print('SPAN', len(df_fdr_span))\n",
    "\n",
    "df_fdr_peaks = pd.concat([df_fdr_macs2, df_fdr_macs2broad, df_fdr_sicer, df_fdr_span])\n",
    "df_fdr_peaks.sample(5)"
   ],
   "metadata": {
    "collapsed": false,
    "ExecuteTime": {
     "start_time": "2023-05-19T09:30:45.363792Z",
     "end_time": "2023-05-19T09:30:49.253959Z"
    }
   }
  },
  {
   "cell_type": "code",
   "execution_count": null,
   "outputs": [],
   "source": [
    "df_fdr_peaks[df_fdr_peaks['peaks'] < 1000]"
   ],
   "metadata": {
    "collapsed": false,
    "ExecuteTime": {
     "start_time": "2023-05-19T09:30:49.259490Z",
     "end_time": "2023-05-19T09:30:49.261664Z"
    }
   }
  },
  {
   "cell_type": "markdown",
   "source": [
    "## Consistency analysis between replicates"
   ],
   "metadata": {
    "collapsed": false
   }
  },
  {
   "cell_type": "code",
   "execution_count": null,
   "outputs": [],
   "source": [
    "reps_overlap = pd.DataFrame(columns=['modification', 'cell', 'tool', 'rep1', 'rep2',\n",
    "                                     'peaks1', 'peaks1_len', 'peaks2', 'peaks2_len',\n",
    "                                     'peaks1_overlap', 'peaks1_overlap_len',\n",
    "                                     'peaks2_overlap', 'peaks2_overlap_len'], dtype=object)\n",
    "\n",
    "tf = tempfile.mktemp()\n",
    "\n",
    "tools = list(sorted(set(df_fdr_peaks['tool'])))\n",
    "for c, m in tqdm(product(GSE26320_CELLS, GSE26320_MODIFICATIONS)):\n",
    "    print(c, m)\n",
    "    tm = df_fdr_peaks[(df_fdr_peaks['cell'] == c) & (df_fdr_peaks['modification'] == m)]\n",
    "    reps = list(sorted(set(tm['replicate'])))\n",
    "    for tool in tools:\n",
    "        for i in range(len(reps)):\n",
    "            for j in range(i + 1, len(reps)):\n",
    "                rep1, rep2 = reps[i], reps[j]\n",
    "                t1 = tm[(tm['tool'] == tool) & (tm['replicate'] == rep1)]\n",
    "                t2 = tm[(tm['tool'] == tool) & (tm['replicate'] == rep2)]\n",
    "                if len(t1) == 0 or len(t2) == 0:\n",
    "                    continue\n",
    "                file1 = sorted_file(t1['file'].values[0])\n",
    "                file2 = sorted_file(t2['file'].values[0])\n",
    "                peaks1 = t1['peaks'].values[0]\n",
    "                peaks1_len = int(bedl(file1).sum())\n",
    "                peaks2 = t2['peaks'].values[0]\n",
    "                peaks2_len = int(bedl(file2).sum())\n",
    "                !bedtools intersect -a {file1} -b {file2} -wa -u > {tf}\n",
    "                overlap1 = lines(tf)\n",
    "                !bedtools intersect -b {file1} -a {file2} -wa -u > {tf}\n",
    "                overlap2 = lines(tf)\n",
    "                !bedtools intersect -a {file1} -b {file2} -wo > {tf}\n",
    "                overlap1_len = overlap2_len = int(last_col(tf).sum())\n",
    "\n",
    "                reps_overlap.loc[len(reps_overlap)] = \\\n",
    "                    (m, c, tool, rep1, rep2, peaks1, peaks1_len, peaks2, peaks2_len,\n",
    "                     overlap1, overlap1_len, overlap2, overlap2_len)\n",
    "reps_overlap.sample(2)"
   ],
   "metadata": {
    "collapsed": false,
    "ExecuteTime": {
     "start_time": "2023-05-16T22:19:36.592818Z",
     "end_time": "2023-05-16T22:20:34.042053Z"
    }
   }
  },
  {
   "cell_type": "code",
   "execution_count": null,
   "outputs": [],
   "source": [
    "# TOOLS_PALETTE = {'MACS2': 'blue', 'MACS2 broad': 'orange', 'SICER': 'green', 'SPAN': 'red', 'Genes': 'brown'}\n",
    "TOOLS = ['MACS2', 'MACS2 broad', 'SPAN', 'SICER', 'Genes']\n",
    "palette = plt.cm.get_cmap('tab10')\n",
    "TOOLS_PALETTE = {t: palette(i) for i, t in enumerate(TOOLS)}"
   ],
   "metadata": {
    "collapsed": false,
    "ExecuteTime": {
     "start_time": "2023-05-19T09:40:19.888029Z",
     "end_time": "2023-05-19T09:40:19.925829Z"
    }
   }
  },
  {
   "cell_type": "code",
   "execution_count": null,
   "outputs": [],
   "source": [
    "reps_overlap['jaccard'] = [\n",
    "    d(lo, l1 + l2 - lo)\n",
    "    for l1, l2, lo in zip(reps_overlap['peaks1_len'], reps_overlap['peaks2_len'], reps_overlap['peaks1_overlap_len'])\n",
    "]\n",
    "\n",
    "plt.figure(figsize=(6, 2))\n",
    "\n",
    "g_result = sns.boxplot(data=reps_overlap, y='tool', x='jaccard', palette=TOOLS_PALETTE, showfliers=False,\n",
    "                       order=['MACS2', 'MACS2 broad', 'SPAN', 'SICER'])\n",
    "ax = g_result.axes\n",
    "ax.set_title('Jaccard between H3K36me3 replicates')\n",
    "ax.set_xlabel('Jaccard')\n",
    "ax.set_ylabel('Tool')\n",
    "\n",
    "plt.tight_layout()\n",
    "plt.savefig(f'{GSE26320_PATH_HG38}/pics/H3K36me3_replicates.pdf', bbox_inches='tight', dpi=300)\n",
    "plt.show()"
   ],
   "metadata": {
    "collapsed": false,
    "ExecuteTime": {
     "start_time": "2023-05-16T22:29:26.248684Z",
     "end_time": "2023-05-16T22:29:26.741065Z"
    }
   }
  },
  {
   "cell_type": "code",
   "execution_count": null,
   "outputs": [],
   "source": [
    "reps_overlap['peak1_overlap_fraction'] = [d(x, y) for x, y in\n",
    "                                          zip(reps_overlap['peaks1_overlap'], reps_overlap['peaks1'])]\n",
    "reps_overlap['peak2_overlap_fraction'] = [d(x, y) for x, y in\n",
    "                                          zip(reps_overlap['peaks2_overlap'], reps_overlap['peaks2'])]\n",
    "\n",
    "reps_overlap['peak1_overlap_fraction_len'] = [\n",
    "    d(x, y) for x, y in zip(reps_overlap['peaks1_overlap_len'], reps_overlap['peaks1_len'])\n",
    "]\n",
    "reps_overlap['peak2_overlap_fraction_len'] = [\n",
    "    d(x, y) for x, y in zip(reps_overlap['peaks2_overlap_len'], reps_overlap['peaks2_len'])\n",
    "]\n",
    "\n",
    "reps_overlap.sample(2)"
   ],
   "metadata": {
    "collapsed": false,
    "ExecuteTime": {
     "start_time": "2023-05-16T22:29:26.949339Z",
     "end_time": "2023-05-16T22:29:26.980933Z"
    }
   }
  },
  {
   "cell_type": "code",
   "execution_count": null,
   "outputs": [],
   "source": [
    "t = pd.concat([\n",
    "    reps_overlap[\n",
    "        ['modification', 'cell', 'tool', 'peak1_overlap_fraction', 'peak1_overlap_fraction_len']\n",
    "    ].copy().rename(dict(peak1_overlap_fraction='overlap', peak1_overlap_fraction_len='overlap_len'), axis=1),\n",
    "    reps_overlap[\n",
    "        ['modification', 'cell', 'tool', 'peak2_overlap_fraction', 'peak2_overlap_fraction_len']\n",
    "    ].copy().rename(dict(peak2_overlap_fraction='overlap', peak2_overlap_fraction_len='overlap_len'), axis=1)\n",
    "]).reset_index(drop=True)\n",
    "# t"
   ],
   "metadata": {
    "collapsed": false,
    "ExecuteTime": {
     "start_time": "2023-05-16T22:29:52.986835Z",
     "end_time": "2023-05-16T22:29:53.006432Z"
    }
   }
  },
  {
   "cell_type": "code",
   "execution_count": null,
   "outputs": [],
   "source": [
    "plt.figure(figsize=(6, 4))\n",
    "axs = [plt.subplot(2, 1, i + 1) for i in range(2)]\n",
    "\n",
    "g_result = sns.boxplot(data=t, y='tool', x='overlap', ax=axs[0], palette=TOOLS_PALETTE,\n",
    "                       order=['MACS2', 'MACS2 broad', 'SPAN', 'SICER'])\n",
    "ax = g_result.axes\n",
    "ax.set_title('Overlap between H3K36me3 replicates (peaks)')\n",
    "ax.set_xlabel('Fraction')\n",
    "ax.set_ylabel('Tool')\n",
    "\n",
    "g_result = sns.boxplot(data=t, y='tool', x='overlap_len', ax=axs[1], palette=TOOLS_PALETTE,\n",
    "                       order=['MACS2', 'MACS2 broad', 'SPAN', 'SICER'])\n",
    "ax = g_result.axes\n",
    "ax.set_title('Overlap between H3K36me3 replicates (length)')\n",
    "ax.set_xlabel('Fraction')\n",
    "ax.set_ylabel('Tool')\n",
    "\n",
    "plt.tight_layout()\n",
    "plt.show()"
   ],
   "metadata": {
    "collapsed": false,
    "ExecuteTime": {
     "start_time": "2023-05-16T22:29:53.579712Z",
     "end_time": "2023-05-16T22:29:54.116198Z"
    }
   }
  },
  {
   "cell_type": "markdown",
   "source": [
    "## Peaks number and lengths"
   ],
   "metadata": {
    "collapsed": false
   }
  },
  {
   "cell_type": "code",
   "execution_count": null,
   "outputs": [],
   "source": [
    "plt.figure(figsize=(4, 4))\n",
    "ax = plt.axes()\n",
    "g_results = sns.barplot(data=df_fdr_peaks, x='tool', y='peaks', ax=ax,\n",
    "                        capsize=.2, errwidth=2, edgecolor=\"black\",\n",
    "                        palette=TOOLS_PALETTE,\n",
    "                        order=['MACS2', 'MACS2 broad', 'SPAN', 'SICER'])\n",
    "ax.xaxis.set_tick_params(rotation=90)\n",
    "ax.title.set_text('H3K36me3 peaks number')\n",
    "plt.show()"
   ],
   "metadata": {
    "collapsed": false,
    "ExecuteTime": {
     "start_time": "2023-05-16T22:29:57.838207Z",
     "end_time": "2023-05-16T22:29:58.200050Z"
    }
   }
  },
  {
   "cell_type": "code",
   "execution_count": null,
   "outputs": [],
   "source": [
    "genes_lengths = []\n",
    "for (cell, rep), path in tqdm(EXPRESSION_BED.items()):\n",
    "    t = pd.read_csv(\n",
    "        path, sep='\\t', names=['chromosome', 'start', 'end', 'gene_id', 'strand', 'TPM', 'logTPM']\n",
    "    )\n",
    "    genes_lengths.extend(t['end'] - t['start'])"
   ],
   "metadata": {
    "collapsed": false,
    "ExecuteTime": {
     "start_time": "2023-05-16T22:29:58.463365Z",
     "end_time": "2023-05-16T22:29:58.931407Z"
    }
   }
  },
  {
   "cell_type": "code",
   "execution_count": null,
   "outputs": [],
   "source": [
    "ts = []\n",
    "ts.append(pd.DataFrame(dict(name=['Genes'] * len(genes_lengths), length=genes_lengths)))\n",
    "for file, tool in tqdm(zip(df_fdr_peaks['file'], df_fdr_peaks['tool'])):\n",
    "    lengths = bedl(file)\n",
    "    t = pd.DataFrame(dict(name=[tool] * len(lengths), length=lengths))\n",
    "    ts.append(t.sample(min(len(t), 10_000)))\n",
    "t = pd.concat(ts).reset_index(drop=True)\n",
    "del ts\n",
    "t.sample(10)"
   ],
   "metadata": {
    "collapsed": false,
    "ExecuteTime": {
     "start_time": "2023-05-16T22:30:04.701479Z",
     "end_time": "2023-05-16T22:30:08.699070Z"
    }
   }
  },
  {
   "cell_type": "code",
   "execution_count": null,
   "outputs": [],
   "source": [
    "plt.figure(figsize=(6, 2))\n",
    "ax = plt.axes()\n",
    "g_results = sns.boxplot(data=t, x='length', y='name', ax=ax,\n",
    "                        palette=TOOLS_PALETTE,\n",
    "                        order=['Genes', 'MACS2', 'MACS2 broad', 'SPAN', 'SICER'])\n",
    "g_results.set(xscale='log')\n",
    "ax.title.set_text('H3K36me3 peaks length vs expressed genes lengths')\n",
    "plt.tight_layout()\n",
    "plt.savefig(f'{GSE26320_PATH_HG38}/pics/H3K36me3_lengths.pdf', bbox_inches='tight', dpi=300)\n",
    "plt.show()"
   ],
   "metadata": {
    "collapsed": false,
    "ExecuteTime": {
     "start_time": "2023-05-16T22:30:08.698904Z",
     "end_time": "2023-05-16T22:30:12.436277Z"
    }
   }
  },
  {
   "cell_type": "code",
   "execution_count": null,
   "outputs": [],
   "source": [
    "plt.figure(figsize=(4, 3))\n",
    "ax = plt.axes()\n",
    "g_results = sns.histplot(data=t, x='length', hue='name', ax=ax,\n",
    "                         stat='density', common_bins=False, common_norm=False,\n",
    "                         bins=50, kde=True, log_scale=True, alpha=0.3,\n",
    "                         palette=TOOLS_PALETTE,\n",
    "                         hue_order=['MACS2', 'MACS2 broad', 'SPAN', 'SICER', 'Genes'])\n",
    "g_results.set(xscale='log')\n",
    "g_results.set_ylim(0, 4)\n",
    "g_results.set_xlim(1e2, 2e6)\n",
    "ax.title.set_text('Peaks length vs expressed genes')\n",
    "plt.tight_layout()\n",
    "plt.savefig(f'{GSE26320_PATH_HG38}/pics/H3K36me3_lengths2.pdf', bbox_inches='tight', dpi=300)\n",
    "plt.show()"
   ],
   "metadata": {
    "collapsed": false,
    "ExecuteTime": {
     "start_time": "2023-05-16T22:30:12.434805Z",
     "end_time": "2023-05-16T22:30:18.231045Z"
    }
   }
  },
  {
   "cell_type": "code",
   "execution_count": null,
   "outputs": [],
   "source": [
    "t = []\n",
    "for file, tool in tqdm(zip(df_fdr_peaks['file'], df_fdr_peaks['tool'])):\n",
    "    coverage = bedl(file).sum()\n",
    "    t.append((tool, coverage))\n",
    "t = pd.DataFrame(data=t, columns=['tool', 'coverage'])\n",
    "t.sample(3)"
   ],
   "metadata": {
    "collapsed": false,
    "ExecuteTime": {
     "start_time": "2023-05-16T22:30:18.214991Z",
     "end_time": "2023-05-16T22:30:20.783632Z"
    }
   }
  },
  {
   "cell_type": "code",
   "execution_count": null,
   "outputs": [],
   "source": [
    "plt.figure(figsize=(3, 4))\n",
    "ax = plt.axes()\n",
    "g_results = sns.barplot(data=t, x='tool', y='coverage', ax=ax,\n",
    "                        capsize=.2, errwidth=2, edgecolor=\"black\",\n",
    "                        palette=TOOLS_PALETTE,\n",
    "                        order=['MACS2', 'MACS2 broad', 'SPAN', 'SICER'])\n",
    "ax.xaxis.set_tick_params(rotation=90)\n",
    "ax.title.set_text('Peaks footprint')\n",
    "ax.set_ylabel('Basepairs')\n",
    "plt.tight_layout()\n",
    "plt.savefig(f'{GSE26320_PATH_HG38}/pics/H3K36me3_sumlength.pdf', bbox_inches='tight', dpi=300)\n",
    "plt.show()"
   ],
   "metadata": {
    "collapsed": false,
    "ExecuteTime": {
     "start_time": "2023-05-16T22:30:20.779486Z",
     "end_time": "2023-05-16T22:30:21.352196Z"
    }
   }
  },
  {
   "cell_type": "markdown",
   "source": [
    "## Overlap H3K36me3 vs expressed genes"
   ],
   "metadata": {
    "collapsed": false
   }
  },
  {
   "cell_type": "code",
   "execution_count": null,
   "outputs": [],
   "source": [
    "import tempfile\n",
    "from itertools import product\n",
    "\n",
    "tf = tempfile.mktemp()\n",
    "\n",
    "bench_df = pd.DataFrame(\n",
    "    columns=['cell', 'replicate', 'name',\n",
    "             'peaks', 'peaks_len', 'genes', 'genes_len',\n",
    "             'peaks_overlap', 'peaks_overlap_len', 'genes_overlap', 'genes_overlap_len'],\n",
    "    dtype=object\n",
    ")\n",
    "\n",
    "for c, r in tqdm(product(GSE26320_CELLS, GSE26320_REPS)):\n",
    "    print(c, r)\n",
    "    if (c, r) not in EXPRESSION_BED:\n",
    "        continue\n",
    "    expr_file = sorted_file(EXPRESSION_BED[c, r])\n",
    "    genes = lines(expr_file)\n",
    "    genes_len = int(bedl(expr_file).sum())\n",
    "    for tool in set(df_fdr_peaks['tool']):\n",
    "        t = df_fdr_peaks[(df_fdr_peaks['tool'] == tool) & (df_fdr_peaks['modification'] == 'H3K36me3') &\n",
    "                         (df_fdr_peaks['cell'] == c) & (df_fdr_peaks['replicate'] == r)]\n",
    "        if len(t) == 0:\n",
    "            continue\n",
    "        peaks_file = sorted_file(t['file'].values[0])\n",
    "        peaks = lines(peaks_file)\n",
    "        peaks_len = int(bedl(peaks_file).sum())\n",
    "        !bedtools intersect -a {peaks_file} -b {expr_file} -wa -u > {tf}\n",
    "        peaks_overlap = lines(tf)\n",
    "        !bedtools intersect -b {peaks_file} -a {expr_file} -wa -u > {tf}\n",
    "        genes_overlap = lines(tf)\n",
    "        !bedtools intersect -a {peaks_file} -b {expr_file} -wo > {tf}\n",
    "        peaks_overlap_len = genes_overlap_len = int(last_col(tf).sum())\n",
    "\n",
    "        bench_df.loc[len(bench_df)] = (c, r, tool, peaks, peaks_len, genes, genes_len,\n",
    "                                       peaks_overlap, peaks_overlap_len, genes_overlap, genes_overlap_len)\n",
    "# bench_df"
   ],
   "metadata": {
    "collapsed": false,
    "ExecuteTime": {
     "start_time": "2023-05-16T22:30:21.351752Z",
     "end_time": "2023-05-16T22:32:30.645347Z"
    }
   }
  },
  {
   "cell_type": "code",
   "execution_count": null,
   "outputs": [],
   "source": [
    "bench_df['precision'] = [d(a, b) for a, b in zip(bench_df['peaks_overlap'], bench_df['peaks'])]\n",
    "bench_df['sensitivity'] = [d(a, b) for a, b in zip(bench_df['genes_overlap'], bench_df['genes'])]\n",
    "bench_df['f1'] = [d(2, d(1, s + 1e-10) + d(1, p + 1e-10))\n",
    "                  for s, p in zip(bench_df['sensitivity'], bench_df['precision'])]\n",
    "\n",
    "bench_df['precision_len'] = [d(a, b) for a, b in zip(bench_df['peaks_overlap_len'], bench_df['peaks_len'])]\n",
    "bench_df['sensitivity_len'] = [d(a, b) for a, b in zip(bench_df['genes_overlap_len'], bench_df['genes_len'])]\n",
    "bench_df['f1_len'] = [d(2, d(1, s + 1e-10) + d(1, p + 1e-10))\n",
    "                      for s, p in zip(bench_df['sensitivity_len'], bench_df['precision_len'])]\n",
    "\n",
    "bench_df['jaccard'] = [\n",
    "    d(o, p + g - o)\n",
    "    for p, g, o in zip(bench_df['peaks_len'], bench_df['genes_len'], bench_df['genes_overlap_len'])\n",
    "]"
   ],
   "metadata": {
    "collapsed": false,
    "ExecuteTime": {
     "start_time": "2023-05-16T22:32:30.645107Z",
     "end_time": "2023-05-16T22:32:30.649075Z"
    }
   }
  },
  {
   "cell_type": "code",
   "execution_count": null,
   "outputs": [],
   "source": [
    "import seaborn as sns\n",
    "\n",
    "plt.figure(figsize=(8, 3))\n",
    "axs = [plt.subplot(1, 2, i + 1) for i in range(2)]\n",
    "\n",
    "ax = axs[0]\n",
    "g_results = sns.scatterplot(data=bench_df, x='precision', y='sensitivity', hue='name',\n",
    "                            palette=TOOLS_PALETTE, ax=ax)\n",
    "g_results.axes.set_xlabel('Peaks vs expressed genes (peaks)')\n",
    "g_results.axes.set_ylabel('Expressed genes vs peaks (peaks)')\n",
    "g_results.axes.set_xlim([-0.1, 1.1])\n",
    "g_results.axes.set_ylim([-0.1, 1.1])\n",
    "ax.legend().set_visible(False)\n",
    "\n",
    "ax = axs[1]\n",
    "g_results = sns.scatterplot(data=bench_df, x='precision_len', y='sensitivity_len', hue='name',\n",
    "                            palette=TOOLS_PALETTE, ax=ax)\n",
    "g_results.axes.set_xlabel('Peaks vs expressed genes (length)')\n",
    "g_results.axes.set_ylabel('Expressed genes vs peaks (length)')\n",
    "g_results.axes.set_xlim([-0.1, 1.1])\n",
    "g_results.axes.set_ylim([-0.1, 1.1])\n",
    "# Put a legend to the right of the current axis\n",
    "g_results.axes.legend(loc='center left', bbox_to_anchor=(1, 0.5))\n",
    "\n",
    "plt.tight_layout()\n",
    "plt.show()"
   ],
   "metadata": {
    "collapsed": false,
    "ExecuteTime": {
     "start_time": "2023-05-16T22:32:30.648677Z",
     "end_time": "2023-05-16T22:32:31.074600Z"
    }
   }
  },
  {
   "cell_type": "code",
   "execution_count": null,
   "outputs": [],
   "source": [
    "ts = []\n",
    "for name in bench_df['name'].unique():\n",
    "    tn = bench_df[bench_df['name'] == name]\n",
    "    for variable in ['sensitivity', 'precision', 'f1']:\n",
    "        ts.append(pd.DataFrame(dict(name=[name] * len(tn), type=[variable] * len(tn),\n",
    "                                    benchmark=['peak'] * len(tn),\n",
    "                                    value=tn[variable])))\n",
    "        ts.append(pd.DataFrame(dict(name=[name] * len(tn), type=[variable] * len(tn),\n",
    "                                    benchmark=['length'] * len(tn),\n",
    "                                    value=tn[f'{variable}_len'])))\n",
    "\n",
    "t = pd.concat(ts).reset_index(drop=True)\n",
    "del ts"
   ],
   "metadata": {
    "collapsed": false,
    "ExecuteTime": {
     "start_time": "2023-05-16T22:32:31.073675Z",
     "end_time": "2023-05-16T22:32:31.074781Z"
    }
   }
  },
  {
   "cell_type": "code",
   "execution_count": null,
   "outputs": [],
   "source": [
    "plt.figure(figsize=(8, 3))\n",
    "axs = [plt.subplot(1, 2, i + 1) for i in range(2)]\n",
    "for i, benchmark in enumerate(['peak', 'length']):\n",
    "    g_results = sns.boxplot(data=t[t['benchmark'] == benchmark], x='type', y='value', hue='name',\n",
    "                            palette=TOOLS_PALETTE,\n",
    "                            ax=axs[i])\n",
    "    ax = g_results.axes\n",
    "    ax.set_title(f'Peaks vs expressed genes ({benchmark})')\n",
    "    # Put a legend to the right of the current axis\n",
    "    if i == 1:\n",
    "        ax.legend(loc='center left', bbox_to_anchor=(1, 0.5))\n",
    "    else:\n",
    "        ax.legend().set_visible(False)\n",
    "    ax.set_ylim([-0.1, 1.1])\n",
    "\n",
    "plt.tight_layout()\n",
    "plt.show()"
   ],
   "metadata": {
    "collapsed": false,
    "ExecuteTime": {
     "start_time": "2023-05-16T22:32:31.074027Z",
     "end_time": "2023-05-16T22:32:31.372960Z"
    }
   }
  },
  {
   "cell_type": "markdown",
   "source": [
    "## Overlap H3K36me3 diff vs expressed genes"
   ],
   "metadata": {
    "collapsed": false
   }
  },
  {
   "cell_type": "code",
   "execution_count": null,
   "outputs": [],
   "source": [
    "TOOLS = list(sorted(set(bench_df['name'])))\n",
    "\n",
    "diff_bench_df = pd.DataFrame(\n",
    "    columns=['cell', 'replicate', 'name',\n",
    "             'peaks', 'peaks_len',\n",
    "             'genes', 'genes_len',\n",
    "             'peaks_overlap', 'peaks_overlap_len',\n",
    "             'genes_overlap', 'genes_overlap_len'],\n",
    "    dtype=object\n",
    ")\n",
    "\n",
    "tf = tempfile.mktemp()\n",
    "tf2 = tempfile.mktemp()\n",
    "\n",
    "for c, r in tqdm(product(GSE26320_CELLS, GSE26320_REPS)):\n",
    "    if (c, r) not in EXPRESSION_BED:\n",
    "        continue\n",
    "    print(c, r)\n",
    "    expr_file = sorted_file(EXPRESSION_BED[(c, r)])\n",
    "    t = df_fdr_peaks[(df_fdr_peaks['tool'] == 'SPAN') & (df_fdr_peaks['modification'] == 'H3K36me3') &\n",
    "                     (df_fdr_peaks['cell'] == c) & (df_fdr_peaks['replicate'] == r)]\n",
    "    if len(t) == 0:\n",
    "        continue\n",
    "    span_file = sorted_file(t['file'].values[0])\n",
    "    genes = lines(expr_file)\n",
    "    genes_len = int(bedl(expr_file).sum())\n",
    "    # Processing single tools information\n",
    "    for tool in TOOLS:\n",
    "        if tool == 'SPAN':\n",
    "            continue\n",
    "        t = df_fdr_peaks[(df_fdr_peaks['tool'] == tool) & (df_fdr_peaks['modification'] == 'H3K36me3') &\n",
    "                         (df_fdr_peaks['cell'] == c) & (df_fdr_peaks['replicate'] == r)]\n",
    "        if len(t) == 0:\n",
    "            continue\n",
    "        peaks_file = sorted_file(t['file'].values[0])\n",
    "        for name, args in [\n",
    "            (f'SPAN - {tool}', f' -a {span_file} -b {peaks_file} '),\n",
    "            (f'{tool} - SPAN', f' -b {span_file} -a {peaks_file} ')\n",
    "        ]:\n",
    "            !bedtools intersect {args} -wa -v > {tf}\n",
    "            peaks = lines(tf)\n",
    "            peaks_len = int(bedl(tf).sum())\n",
    "            !bedtools intersect -a {tf} -b {expr_file} -wa -u > {tf2}\n",
    "            peaks_overlap = lines(tf2)\n",
    "            !bedtools intersect -b {tf} -a {expr_file} -wa -u > {tf2}\n",
    "            genes_overlap = lines(tf2)\n",
    "            !bedtools intersect -a {tf} -b {expr_file} -wo > {tf2}\n",
    "            peaks_overlap_len = genes_overlap_len = int(last_col(tf2).sum())\n",
    "\n",
    "            diff_bench_df.loc[len(diff_bench_df)] = \\\n",
    "                (c, r, name,\n",
    "                 peaks, peaks_len,\n",
    "                 genes, genes_len,\n",
    "                 peaks_overlap, peaks_overlap_len,\n",
    "                 genes_overlap, genes_overlap_len)\n",
    "\n",
    "display(diff_bench_df.sample())"
   ],
   "metadata": {
    "collapsed": false,
    "ExecuteTime": {
     "start_time": "2023-05-16T22:32:31.372607Z",
     "end_time": "2023-05-16T22:35:28.195963Z"
    }
   }
  },
  {
   "cell_type": "code",
   "execution_count": null,
   "outputs": [],
   "source": [
    "diff_bench_df['precision'] = [d(a, b) for a, b in zip(diff_bench_df['peaks_overlap'], diff_bench_df['peaks'])]\n",
    "diff_bench_df['sensitivity'] = [d(a, b) for a, b in zip(diff_bench_df['genes_overlap'], diff_bench_df['genes'])]\n",
    "diff_bench_df['f1'] = [d(2, d(1, s + 1e-10) + d(1, p + 1e-10))\n",
    "                       for s, p in zip(diff_bench_df['sensitivity'], diff_bench_df['precision'])]\n",
    "\n",
    "diff_bench_df['precision_len'] = [d(a, b) for a, b in\n",
    "                                  zip(diff_bench_df['peaks_overlap_len'], diff_bench_df['peaks_len'])]\n",
    "diff_bench_df['sensitivity_len'] = [d(a, b) for a, b in\n",
    "                                    zip(diff_bench_df['genes_overlap_len'], diff_bench_df['genes_len'])]\n",
    "diff_bench_df['f1_len'] = [d(2, d(1, s + 1e-10) + d(1, p + 1e-10))\n",
    "                           for s, p in zip(diff_bench_df['sensitivity_len'], diff_bench_df['precision_len'])]\n",
    "\n",
    "diff_bench_df['jaccard'] = [d(o, p + g - o)\n",
    "                            for p, g, o in zip(diff_bench_df['peaks_len'], diff_bench_df['genes_len'],\n",
    "                                               diff_bench_df['genes_overlap_len'])\n",
    "                            ]"
   ],
   "metadata": {
    "collapsed": false,
    "ExecuteTime": {
     "start_time": "2023-05-16T22:35:28.195336Z",
     "end_time": "2023-05-16T22:35:28.216043Z"
    }
   }
  },
  {
   "cell_type": "code",
   "execution_count": null,
   "outputs": [],
   "source": [
    "full_bench_df = pd.concat([bench_df, diff_bench_df]).reset_index(drop=True)\n",
    "full_bench_df.sample(5)"
   ],
   "metadata": {
    "collapsed": false,
    "ExecuteTime": {
     "start_time": "2023-05-16T22:35:28.216194Z",
     "end_time": "2023-05-16T22:35:28.290626Z"
    }
   }
  },
  {
   "cell_type": "code",
   "execution_count": null,
   "outputs": [],
   "source": [
    "plt.figure(figsize=(4, 4))\n",
    "ax = plt.axes()\n",
    "ax.title.set_text('Peaks number')\n",
    "g_results = sns.barplot(data=full_bench_df, x='name', y='peaks',\n",
    "                        ax=ax,\n",
    "                        capsize=.2, errwidth=2,\n",
    "                        order=['MACS2', 'MACS2 broad', 'SPAN', 'SICER',\n",
    "                               'SPAN - MACS2', 'SPAN - MACS2 broad', 'SPAN - SICER',\n",
    "                               'MACS2 - SPAN', 'MACS2 broad - SPAN', 'SICER - SPAN',\n",
    "                               ]\n",
    "                        )\n",
    "ax.xaxis.set_tick_params(rotation=90)\n",
    "ax.set_ylabel('Peaks number')\n",
    "plt.tight_layout()\n",
    "plt.show()"
   ],
   "metadata": {
    "collapsed": false,
    "ExecuteTime": {
     "start_time": "2023-05-16T22:35:28.256842Z",
     "end_time": "2023-05-16T22:35:28.977485Z"
    }
   }
  },
  {
   "cell_type": "code",
   "execution_count": null,
   "outputs": [],
   "source": [
    "import math\n",
    "experiments = [(c, r) for c, r in product(GSE26320_CELLS, GSE26320_REPS)\n",
    "               if sum((full_bench_df['cell'] == c) & (full_bench_df['replicate'] == r)) > 0]\n",
    "\n",
    "nrows = int(math.ceil(math.sqrt(len(experiments))))\n",
    "ncols = int(math.ceil(len(experiments) / nrows))\n",
    "plt.figure(figsize=(3 * ncols, 3 * nrows))\n",
    "axs = [plt.subplot(nrows, ncols, i + 1) for i in range(len(experiments))]\n",
    "for i, (c, r) in enumerate(experiments):\n",
    "    ax = axs[i]\n",
    "    ax.title.set_text(f'Peaks {c} {r}')\n",
    "    g_results = sns.barplot(data=full_bench_df[(full_bench_df['cell'] == c) & (full_bench_df['replicate']==r)],\n",
    "                        x='name', y='peaks',\n",
    "                        ax=ax,\n",
    "                        capsize=.2, errwidth=2,\n",
    "                        order=['MACS2', 'MACS2 broad', 'SPAN', 'SICER',\n",
    "                               'SPAN - MACS2', 'SPAN - MACS2 broad', 'SPAN - SICER',\n",
    "                               'MACS2 - SPAN', 'MACS2 broad - SPAN', 'SICER - SPAN',\n",
    "                               ]\n",
    "                        )\n",
    "    ax.xaxis.set_tick_params(rotation=90)\n",
    "    ax.set_ylabel('Peaks number')\n",
    "plt.tight_layout()\n",
    "plt.show()"
   ],
   "metadata": {
    "collapsed": false,
    "ExecuteTime": {
     "start_time": "2023-05-16T22:35:28.976991Z",
     "end_time": "2023-05-16T22:35:31.493731Z"
    }
   }
  },
  {
   "cell_type": "code",
   "execution_count": null,
   "outputs": [],
   "source": [
    "t = full_bench_df[['cell', 'replicate', 'name', 'peaks']].copy()\n",
    "for cell, rep in EXPRESSED_GENES.keys():\n",
    "    t.loc[len(t)] = (cell, rep, 'Expressed genes', EXPRESSED_GENES[(cell, rep)])\n",
    "\n",
    "\n",
    "palette = plt.cm.get_cmap('tab10')\n",
    "\n",
    "TOOLS_GENES_PALETTE = {t: palette(i) for i, t in enumerate(\n",
    "    ['MACS2', 'MACS2 broad', 'SPAN', 'SICER',\n",
    "     'SPAN - MACS2', 'SPAN - MACS2 broad', 'SPAN - SICER',\n",
    "     'MACS2 - SPAN', 'MACS2 broad - SPAN', 'SICER - SPAN']\n",
    ")}\n",
    "TOOLS_GENES_PALETTE['Expressed genes'] = (0.7, 0.7, 0.7, 1.0)\n",
    "\n",
    "plt.figure(figsize=(4, 4))\n",
    "ax = plt.axes()\n",
    "ax.title.set_text('Peaks number')\n",
    "ax.xaxis.set_tick_params(rotation=90)\n",
    "g_results = sns.barplot(data=t,\n",
    "                        x='name', y='peaks',\n",
    "                        ax=ax,\n",
    "                        capsize=.2, errwidth=2,\n",
    "                        order=['MACS2', 'MACS2 broad', 'SPAN', 'SICER',\n",
    "                               'SPAN - MACS2', 'SPAN - MACS2 broad', 'SPAN - SICER',\n",
    "                               'MACS2 - SPAN', 'MACS2 broad - SPAN', 'SICER - SPAN',\n",
    "                               'Expressed genes'\n",
    "                               ],\n",
    "                        palette=TOOLS_GENES_PALETTE\n",
    "                        )\n",
    "ax.set_ylabel('Peaks')\n",
    "plt.tight_layout()\n",
    "plt.savefig(f'{GSE26320_PATH_HG38}/pics/H3K36me3_peaks.pdf', bbox_inches='tight', dpi=300)\n",
    "plt.show()"
   ],
   "metadata": {
    "collapsed": false,
    "ExecuteTime": {
     "start_time": "2023-05-16T22:35:31.491541Z",
     "end_time": "2023-05-16T22:35:31.610966Z"
    }
   }
  },
  {
   "cell_type": "code",
   "execution_count": null,
   "outputs": [],
   "source": [
    "plt.figure(figsize=(4, 4))\n",
    "ax = plt.axes()\n",
    "ax.title.set_text('NHEK rep2 Peaks number')\n",
    "g_results = sns.barplot(data=t[(t['cell']=='NHEK') & (t['replicate'] == 'rep2')],\n",
    "                        x='name', y='peaks',\n",
    "                        ax=ax,\n",
    "                        capsize=.2, errwidth=2,\n",
    "                        order=['MACS2', 'MACS2 broad', 'SPAN', 'SICER',\n",
    "                               'SPAN - MACS2', 'SPAN - MACS2 broad', 'SPAN - SICER',\n",
    "                               'MACS2 - SPAN', 'MACS2 broad - SPAN', 'SICER - SPAN',\n",
    "                               'Expressed genes'\n",
    "                               ],\n",
    "                        palette=TOOLS_GENES_PALETTE\n",
    "                        )\n",
    "ax.xaxis.set_tick_params(rotation=90)\n",
    "ax.set_ylabel('Peaks')\n",
    "plt.tight_layout()\n",
    "plt.show()"
   ],
   "metadata": {
    "collapsed": false,
    "ExecuteTime": {
     "start_time": "2023-05-16T22:35:31.602730Z",
     "end_time": "2023-05-16T22:35:31.779119Z"
    }
   }
  },
  {
   "cell_type": "code",
   "execution_count": null,
   "outputs": [],
   "source": [
    "plt.figure(figsize=(3, 4))\n",
    "ax = plt.axes()\n",
    "ax.title.set_text('Jaccard vs expressed genes')\n",
    "g_results = sns.barplot(data=full_bench_df, x='name', y='jaccard',\n",
    "                        ax=ax,\n",
    "                        capsize=.2, errwidth=2,\n",
    "                        order=['MACS2', 'MACS2 broad', 'SPAN', 'SICER']\n",
    "                        )\n",
    "ax.xaxis.set_tick_params(rotation=90)\n",
    "ax.set_ylabel('Jaccard')\n",
    "plt.tight_layout()\n",
    "plt.savefig(f'{GSE26320_PATH_HG38}/pics/H3K36me3_jaccard_vs_genes.pdf', bbox_inches='tight', dpi=300)\n",
    "plt.show()"
   ],
   "metadata": {
    "collapsed": false,
    "ExecuteTime": {
     "start_time": "2023-05-16T22:35:31.778864Z",
     "end_time": "2023-05-16T22:35:32.011234Z"
    }
   }
  },
  {
   "cell_type": "code",
   "execution_count": null,
   "outputs": [],
   "source": [
    "import math\n",
    "experiments = [(c, r) for c, r in product(GSE26320_CELLS, GSE26320_REPS)\n",
    "               if sum((full_bench_df['cell'] == c) & (full_bench_df['replicate'] == r)) > 0]\n",
    "\n",
    "nrows = int(math.ceil(math.sqrt(len(experiments))))\n",
    "ncols = int(math.ceil(len(experiments) / nrows))\n",
    "plt.figure(figsize=(3 * ncols, 3 * nrows))\n",
    "axs = [plt.subplot(nrows, ncols, i + 1) for i in range(len(experiments))]\n",
    "for i, (c, r) in enumerate(experiments):\n",
    "    ax = axs[i]\n",
    "    ax.title.set_text(f'Jaccard {c} {r}')\n",
    "    g_results = sns.barplot(data=full_bench_df[(full_bench_df['cell'] == c) & (full_bench_df['replicate']==r)],\n",
    "                            x='name', y='jaccard',\n",
    "                            ax=ax,\n",
    "                            capsize=.2, errwidth=2,\n",
    "                            order=['MACS2', 'MACS2 broad', 'SPAN', 'SICER',\n",
    "                                   'SPAN - MACS2', 'SPAN - MACS2 broad', 'SPAN - SICER',\n",
    "                                   'MACS2 - SPAN', 'MACS2 broad - SPAN', 'SICER - SPAN',\n",
    "                                   ]\n",
    "                            )\n",
    "    ax.xaxis.set_tick_params(rotation=90)\n",
    "    ax.set_ylabel('Jaccard')\n",
    "plt.tight_layout()\n",
    "plt.show()"
   ],
   "metadata": {
    "collapsed": false,
    "ExecuteTime": {
     "start_time": "2023-05-16T22:35:32.011004Z",
     "end_time": "2023-05-16T22:35:34.798202Z"
    }
   }
  },
  {
   "cell_type": "code",
   "execution_count": null,
   "outputs": [],
   "source": [
    "ts = []\n",
    "for name in full_bench_df['name'].unique():\n",
    "    tn = full_bench_df[full_bench_df['name'] == name]\n",
    "    for variable in ['sensitivity', 'precision', 'f1']:\n",
    "        ts.append(pd.DataFrame(dict(name=[name] * len(tn), type=[variable] * len(tn),\n",
    "                                    benchmark=['peaks'] * len(tn),\n",
    "                                    value=tn[variable],\n",
    "                                    cell=tn['cell'],\n",
    "                                    replicate=tn['replicate'])))\n",
    "        ts.append(pd.DataFrame(dict(name=[name] * len(tn), type=[variable] * len(tn),\n",
    "                                    benchmark=['length'] * len(tn),\n",
    "                                    value=tn[f'{variable}_len'],\n",
    "                                    cell=tn['cell'],\n",
    "                                    replicate=tn['replicate'])))\n",
    "t = pd.concat(ts).reset_index(drop=True)\n",
    "del ts"
   ],
   "metadata": {
    "collapsed": false,
    "ExecuteTime": {
     "start_time": "2023-05-16T22:35:34.775539Z",
     "end_time": "2023-05-16T22:35:34.798301Z"
    }
   }
  },
  {
   "cell_type": "code",
   "execution_count": null,
   "outputs": [],
   "source": [
    "plt.figure(figsize=(12, 8))\n",
    "axs = [plt.subplot(2, 3, i + 1) for i in range(6)]\n",
    "for i, (benchmark, type) in enumerate(product(['peaks', 'length'], ['precision', 'sensitivity', 'f1'])):\n",
    "    ax = axs[i]\n",
    "    if type == 'precision':\n",
    "        ax.title.set_text(f'Peaks in expressed genes ({benchmark})')\n",
    "    elif type == 'sensitivity':\n",
    "        ax.title.set_text(f'Expressed genes in peaks ({benchmark})')\n",
    "    else:\n",
    "        ax.title.set_text(f'F1 precision and sensitivity ({benchmark})')\n",
    "    sns.barplot(data=t[(t['benchmark'] == benchmark) & (t['type'] == type)], x='name', y='value',\n",
    "                capsize=.2, errwidth=2, ax=ax,\n",
    "                order=['MACS2', 'MACS2 broad', 'SPAN', 'SICER',\n",
    "                       'SPAN - MACS2', 'SPAN - MACS2 broad', 'SPAN - SICER',\n",
    "                       'MACS2 - SPAN', 'MACS2 broad - SPAN', 'SICER - SPAN',\n",
    "                       ])\n",
    "    ax.xaxis.set_tick_params(rotation=90)\n",
    "    ax.set_ylabel('Fraction')\n",
    "plt.tight_layout()\n",
    "plt.show()"
   ],
   "metadata": {
    "collapsed": false,
    "ExecuteTime": {
     "start_time": "2023-05-16T22:35:34.776040Z",
     "end_time": "2023-05-16T22:35:36.441614Z"
    }
   }
  },
  {
   "cell_type": "code",
   "execution_count": null,
   "outputs": [],
   "source": [
    "plt.figure(figsize=(4, 4))\n",
    "ax = plt.axes()\n",
    "ax.title.set_text('Peaks in expressed genes')\n",
    "sns.barplot(data=t[(t['benchmark'] == 'peaks') & (t['type'] == 'precision')], x='name', y='value',\n",
    "            capsize=.2, errwidth=2, ax=ax,\n",
    "            order=['MACS2', 'MACS2 broad', 'SPAN', 'SICER',\n",
    "                   'SPAN - MACS2', 'SPAN - MACS2 broad', 'SPAN - SICER',\n",
    "                   'MACS2 - SPAN', 'MACS2 broad - SPAN', 'SICER - SPAN',\n",
    "                   ])\n",
    "ax.xaxis.set_tick_params(rotation=90)\n",
    "ax.set_ylabel('Fraction')\n",
    "plt.tight_layout()\n",
    "plt.savefig(f'{GSE26320_PATH_HG38}/pics/H3K36me3_peaks_in_genes.pdf', bbox_inches='tight', dpi=300)\n",
    "plt.show()"
   ],
   "metadata": {
    "collapsed": false,
    "ExecuteTime": {
     "start_time": "2023-05-16T22:35:36.439434Z",
     "end_time": "2023-05-16T22:35:36.747544Z"
    }
   }
  },
  {
   "cell_type": "code",
   "execution_count": null,
   "outputs": [],
   "source": [
    "t = t[(t['cell'] == 'NHEK') & (t['replicate'] == 'rep2')]\n",
    "plt.figure(figsize=(12, 8))\n",
    "axs = [plt.subplot(2, 3, i + 1) for i in range(6)]\n",
    "for i, (benchmark, type) in enumerate(product(['peaks', 'length'], ['precision', 'sensitivity', 'f1'])):\n",
    "    ax = axs[i]\n",
    "    if type == 'precision':\n",
    "        ax.title.set_text(f'Peaks in expressed genes ({benchmark})')\n",
    "    elif type == 'sensitivity':\n",
    "        ax.title.set_text(f'Expressed genes in peaks ({benchmark})')\n",
    "    else:\n",
    "        ax.title.set_text(f'F1 precision and sensitivity ({benchmark})')\n",
    "    sns.barplot(data=t[(t['benchmark'] == benchmark) & (t['type'] == type)], x='name', y='value',\n",
    "                capsize=.2, errwidth=2, ax=ax,\n",
    "                order=['MACS2', 'MACS2 broad', 'SPAN', 'SICER',\n",
    "                       'SPAN - MACS2', 'SPAN - MACS2 broad', 'SPAN - SICER',\n",
    "                       'MACS2 - SPAN', 'MACS2 broad - SPAN', 'SICER - SPAN',\n",
    "                       ])\n",
    "    ax.xaxis.set_tick_params(rotation=90)\n",
    "    ax.set_ylabel('Fraction')\n",
    "plt.tight_layout()\n",
    "plt.show()"
   ],
   "metadata": {
    "collapsed": false,
    "ExecuteTime": {
     "start_time": "2023-05-16T22:35:36.747065Z",
     "end_time": "2023-05-16T22:35:37.723111Z"
    }
   }
  },
  {
   "cell_type": "markdown",
   "source": [
    "# Venn diagram analysis"
   ],
   "metadata": {
    "collapsed": false
   }
  },
  {
   "cell_type": "code",
   "execution_count": null,
   "outputs": [],
   "source": [
    "from matplotlib_venn import venn2, venn2_circles, venn3, venn3_circles\n",
    "\n",
    "\n",
    "def num_format(x, engineer):\n",
    "    if x <= 0:\n",
    "        return ''\n",
    "    elif engineer:\n",
    "        return f'{x:.0e}'\n",
    "    else:\n",
    "        return str(x)\n",
    "\n",
    "\n",
    "num_format(1.3e10, True)\n",
    "\n",
    "VENN2_SUBSETS = ['1', '2', '1,2']\n",
    "VENN2_LABELS = ['10', '01', '11']\n",
    "\n",
    "\n",
    "def venn2_overlap(ax, peaks1, peaks2, overlap12, overlap21, name1, name2,\n",
    "                  show_names=True, show_numbers=True, engineer=False, add_proportion=False,\n",
    "                  set_font=15, subset_font=10):\n",
    "    max_peaks = max(peaks1, peaks2)\n",
    "    avg_overlap = (overlap12 + overlap21) / 2\n",
    "    # Tweak subsets to avoid empty areas\n",
    "    if show_numbers:\n",
    "        subsets = (\n",
    "            max(0.1 * max_peaks, min(0.9 * max_peaks, peaks1 - overlap12)) if peaks1 > overlap12 else 0,\n",
    "            max(0.1 * max_peaks, min(0.9 * max_peaks, peaks2 - overlap21)) if peaks2 > overlap21 else 0,\n",
    "            max(0.1 * max_peaks, min(0.9 * max_peaks, avg_overlap))\n",
    "        )\n",
    "    else:\n",
    "        subsets = (peaks1 - overlap12, peaks2 - overlap21, avg_overlap)\n",
    "    v = venn2(subsets=subsets, set_labels=(name1, name2), alpha=0.3, ax=ax)\n",
    "    venn2_circles(subsets=subsets, color='grey', linewidth=1.0, ax=ax)\n",
    "\n",
    "    if overlap12 != 0 and overlap21 != 0:\n",
    "        if overlap12 > overlap21:\n",
    "            prop = f'{overlap12 / overlap21:.1f} : 1'\n",
    "        else:\n",
    "            prop = f'1 : {overlap21 / overlap12:.1f}'\n",
    "        prop = prop.replace('.0', '')  # Cosmetics\n",
    "    else:\n",
    "        prop = ''\n",
    "\n",
    "    if show_numbers:\n",
    "        v.get_label_by_id('10').set_text(num_format(peaks1 - overlap12, engineer))\n",
    "        v.get_label_by_id('01').set_text(num_format(peaks2 - overlap21, engineer))\n",
    "        if add_proportion:\n",
    "            v.get_label_by_id('11').set_text(f'{overlap12} : {overlap21}\\n{prop}')\n",
    "        else:\n",
    "            v.get_label_by_id('11').set_text(num_format(avg_overlap, engineer))\n",
    "    print(f'{name1}: {peaks1 - overlap12}')\n",
    "    print(f'{name2}: {peaks2 - overlap21}')\n",
    "    print(f'overlap: {overlap12} : {overlap21}, {prop}')\n",
    "    for label in v.set_labels:\n",
    "        if label is not None:\n",
    "            if show_names:\n",
    "                label.set_fontsize(set_font)\n",
    "            else:\n",
    "                label.set_text('')\n",
    "    for label in v.subset_labels:\n",
    "        if label is not None:\n",
    "            label.set_fontsize(subset_font)\n",
    "    if not show_numbers:\n",
    "        for l in VENN2_LABELS:\n",
    "            label = v.get_label_by_id(l)\n",
    "            if label is not None:\n",
    "                label.set_text('')\n",
    "\n",
    "\n",
    "VENN3_SUBSETS = ['1', '2', '1,2', '3', '1,3', '2,3', '1,2,3']\n",
    "VENN3_LABELS = ['100', '010', '110', '001', '101', '011', '111']\n",
    "\n",
    "\n",
    "def venn3_overlap(ax, v1, v2, v12, v3, v13, v23, v123, name1, name2, name3,\n",
    "                  show_names=True, show_numbers=True, engineer=False,\n",
    "                  set_font=15, subset_font=10):\n",
    "    subsets = (v1, v2, v12, v3, v13, v23, v123)\n",
    "    t = {l: s for l, s in zip(VENN3_LABELS, subsets)}\n",
    "    v = venn3(subsets=subsets,\n",
    "              set_labels=(name1, name2, name3),\n",
    "              alpha=0.3,\n",
    "              ax=ax)\n",
    "    venn3_circles(subsets=subsets, color='grey', linewidth=1.0, ax=ax)\n",
    "    for label in v.set_labels:\n",
    "        if label is not None:\n",
    "            if show_names:\n",
    "                label.set_fontsize(set_font)\n",
    "            else:\n",
    "                label.set_text('')\n",
    "    for label in v.subset_labels:\n",
    "        if label is not None:\n",
    "            label.set_fontsize(subset_font)\n",
    "    for l in VENN3_LABELS:\n",
    "        label = v.get_label_by_id(l)\n",
    "        if label is not None:\n",
    "            if not show_numbers:\n",
    "                label.set_text('')\n",
    "            else:\n",
    "                label.set_text(num_format(t[l], engineer))"
   ],
   "metadata": {
    "collapsed": false,
    "ExecuteTime": {
     "start_time": "2023-05-16T22:35:37.741672Z",
     "end_time": "2023-05-16T22:35:37.742060Z"
    }
   }
  },
  {
   "cell_type": "code",
   "execution_count": null,
   "outputs": [],
   "source": [
    "other_tools = list(sorted(filter(lambda t: t != 'SPAN', bench_df['name'].unique())))\n",
    "\n",
    "tf = tempfile.mktemp()\n",
    "tf2 = tempfile.mktemp()\n",
    "\n",
    "for c, r in tqdm(product(['NHEK'], ['rep2'])):\n",
    "    # for c, r in tqdm(product(GSE26320_CELLS, GSE26320_REPS)):\n",
    "    if (c, r) not in EXPRESSION_BED:\n",
    "        continue\n",
    "    print(c, r)\n",
    "    expr_file = sorted_file(EXPRESSION_BED[(c, r)])\n",
    "    expr_genes = lines(expr_file)\n",
    "    t = df_fdr_peaks[(df_fdr_peaks['tool'] == 'SPAN') & (df_fdr_peaks['modification'] == 'H3K36me3') &\n",
    "                     (df_fdr_peaks['cell'] == c) & (df_fdr_peaks['replicate'] == r)]\n",
    "    if len(t) == 0:\n",
    "        continue\n",
    "    span_file = sorted_file(t['file'].values[0])\n",
    "    span_peaks = lines(span_file)\n",
    "    span_len = int(bedl(span_file).sum())\n",
    "    genes = lines(expr_file)\n",
    "    genes_len = int(bedl(expr_file).sum())\n",
    "\n",
    "    print(f'{c} {r} Venn diagrams of SPAN vs other tools (peaks)')\n",
    "    plt.figure(figsize=(3 * len(other_tools), 3))\n",
    "    axs = [plt.subplot(1, len(other_tools), i + 1) for i in range(len(other_tools))]\n",
    "    for i, tool in enumerate(other_tools):\n",
    "        t = df_fdr_peaks[(df_fdr_peaks['tool'] == tool) & (df_fdr_peaks['modification'] == 'H3K36me3') &\n",
    "                         (df_fdr_peaks['cell'] == c) & (df_fdr_peaks['replicate'] == r)]\n",
    "        if len(t) == 0:\n",
    "            continue\n",
    "        peaks_file = sorted_file(t['file'].values[0])\n",
    "        peaks_number = lines(peaks_file)\n",
    "        !bedtools intersect -a {span_file} -b {peaks_file} -wa -u > {tf}\n",
    "        span_overlap = lines(tf)\n",
    "        !bedtools intersect -b {span_file} -a {peaks_file} -wa -u > {tf}\n",
    "        other_overlap = lines(tf)\n",
    "        venn2_overlap(axs[i], span_peaks, peaks_number, span_overlap, other_overlap, 'SPAN', tool,\n",
    "                      show_names=False, show_numbers=False, add_proportion=True)\n",
    "    plt.tight_layout()\n",
    "    # plt.savefig(f'{GSE26320_PATH}/analyze/venn_{m}.png', bbox_inches='tight', dpi=300)\n",
    "    plt.show()\n",
    "\n",
    "    print(f'{c} {r} Venn diagrams of Expressed genes vs tools (peaks)')\n",
    "    plt.figure(figsize=(4 * (len(other_tools) + 1), 4))\n",
    "    axs = [plt.subplot(1, len(other_tools) + 1, i + 1) for i in range(len(other_tools) + 1)]\n",
    "    for i, tool in enumerate(other_tools + ['SPAN']):\n",
    "        t = df_fdr_peaks[(df_fdr_peaks['tool'] == tool) & (df_fdr_peaks['modification'] == 'H3K36me3') &\n",
    "                         (df_fdr_peaks['cell'] == c) & (df_fdr_peaks['replicate'] == r)]\n",
    "        if len(t) == 0:\n",
    "            continue\n",
    "        peaks_file = sorted_file(t['file'].values[0])\n",
    "        peaks_number = lines(peaks_file)\n",
    "        !bedtools intersect -a {expr_file} -b {peaks_file} -wa -u > {tf}\n",
    "        expr_overlap = lines(tf)\n",
    "        !bedtools intersect -b {expr_file} -a {peaks_file} -wa -u > {tf}\n",
    "        peaks_overlap = lines(tf)\n",
    "        venn2_overlap(axs[i], expr_genes, peaks_number, expr_overlap, peaks_overlap, 'Expressed genes', tool,\n",
    "                      show_names=False, show_numbers=False, add_proportion=True)\n",
    "    plt.tight_layout()\n",
    "    # plt.savefig(f'{GSE26320_PATH}/analyze/venn_{m}.png', bbox_inches='tight', dpi=300)\n",
    "    plt.show()\n",
    "\n",
    "    print(f'{c} {r} Venn diagram of SPAN vs other tools and expressed genes (length)')\n",
    "    plt.figure(figsize=(3 * len(other_tools), 3))\n",
    "    axs = [plt.subplot(1, len(other_tools), i + 1) for i in range(len(other_tools))]\n",
    "    for i, tool in enumerate(other_tools):\n",
    "        t = df_fdr_peaks[(df_fdr_peaks['tool'] == tool) & (df_fdr_peaks['modification'] == 'H3K36me3') &\n",
    "                         (df_fdr_peaks['cell'] == c) & (df_fdr_peaks['replicate'] == r)]\n",
    "        if len(t) == 0:\n",
    "            continue\n",
    "        peaks_file = sorted_file(t['file'].values[0])\n",
    "        peaks_number = lines(peaks_file)\n",
    "        peaks_len = int(bedl(peaks_file).sum())\n",
    "        ! bedtools multiinter -i {span_file} {peaks_file} {expr_file} > {tf}\n",
    "        t = pd.read_csv(tf, sep='\\t', names=['chr', 'start', 'end',\n",
    "                                             'overlap_number', 'overlap_details',\n",
    "                                             'overlap1', 'overlap2', 'overlap3'])\n",
    "        venn3_overlap(axs[i], *[\n",
    "            (t[t['overlap_details'] == o]['end'] - t[t['overlap_details'] == o]['start']).sum()\n",
    "            for o in VENN3_SUBSETS\n",
    "        ], 'SPAN', tool, 'Expressed genes', show_names=False, show_numbers=False, engineer=True)\n",
    "\n",
    "    plt.tight_layout()\n",
    "    plt.show()"
   ],
   "metadata": {
    "collapsed": false,
    "ExecuteTime": {
     "start_time": "2023-05-16T22:35:37.741838Z",
     "end_time": "2023-05-16T22:35:49.877073Z"
    }
   }
  },
  {
   "cell_type": "markdown",
   "source": [
    "# Hg38 Compare peaks to express genes ratios"
   ],
   "metadata": {
    "collapsed": false
   }
  },
  {
   "cell_type": "code",
   "execution_count": null,
   "outputs": [],
   "source": [
    "import tempfile\n",
    "from itertools import product\n",
    "\n",
    "tf = tempfile.mktemp()\n",
    "\n",
    "ratio_df = pd.DataFrame(columns=['cell', 'replicate', 'tool', 'genes', 'peaks'], dtype=object)\n",
    "\n",
    "for c, r in tqdm(product(GSE26320_CELLS, GSE26320_REPS)):\n",
    "    print(c, r)\n",
    "    if (c, r) not in EXPRESSION_BED:\n",
    "        continue\n",
    "    expr_file = sorted_file(EXPRESSION_BED[c, r])\n",
    "    for tool in set(df_fdr_peaks['tool']):\n",
    "        t = df_fdr_peaks[(df_fdr_peaks['tool'] == tool) &\n",
    "                         (df_fdr_peaks['modification'] == 'H3K36me3') &\n",
    "                         (df_fdr_peaks['cell'] == c)]\n",
    "        if len(t) == 0:\n",
    "            continue\n",
    "        peaks_file = sorted_file(t['file'].values[0])\n",
    "        expr_cols = len(pd.read_csv(expr_file, sep='\\t', header=None, nrows=1).columns)\n",
    "        !bedtools intersect -a {expr_file} -b {peaks_file} -wa -wb > {tf}\n",
    "        try:\n",
    "            tf_expression = pd.read_csv(tf, sep='\\t', header=None)\n",
    "            genes = len(tf_expression.groupby([0, 1, 2]).count())\n",
    "            peaks = len(tf_expression.groupby([expr_cols, expr_cols + 1, expr_cols + 2]).count())\n",
    "            ratio_df.loc[len(ratio_df)] = (c, r, tool, genes, peaks)\n",
    "        except:\n",
    "            pass\n",
    "\n",
    "ratio_df"
   ],
   "metadata": {
    "collapsed": false,
    "ExecuteTime": {
     "start_time": "2023-05-16T22:35:49.876617Z",
     "end_time": "2023-05-16T22:36:42.935043Z"
    }
   }
  },
  {
   "cell_type": "code",
   "execution_count": null,
   "outputs": [],
   "source": [
    "ratio_df['peaks_to_genes'] = ratio_df['peaks'] / ratio_df['genes']\n",
    "ratio_df.sort_values(by=['tool'], inplace=True)"
   ],
   "metadata": {
    "collapsed": false,
    "ExecuteTime": {
     "start_time": "2023-05-16T22:36:42.929599Z",
     "end_time": "2023-05-16T22:36:42.935364Z"
    }
   }
  },
  {
   "cell_type": "code",
   "execution_count": null,
   "outputs": [],
   "source": [
    "plt.figure(figsize=(5, 2))\n",
    "ax = plt.axes()\n",
    "g_results = sns.boxplot(data=ratio_df[ratio_df['peaks_to_genes'] < 10], x='peaks_to_genes', y='tool', ax=ax,\n",
    "                        palette=TOOLS_PALETTE,\n",
    "                        order=['MACS2', 'MACS2 broad', 'SPAN', 'SICER'])\n",
    "ax.title.set_text('Ratio of peaks to genes')\n",
    "plt.tight_layout()\n",
    "plt.savefig(f'{GSE26320_PATH_HG38}/pics/H3K36me3_ratios.pdf', bbox_inches='tight', dpi=300)\n",
    "plt.show()"
   ],
   "metadata": {
    "collapsed": false,
    "ExecuteTime": {
     "start_time": "2023-05-16T22:36:42.929693Z",
     "end_time": "2023-05-16T22:36:43.378810Z"
    }
   }
  },
  {
   "cell_type": "markdown",
   "source": [
    "# Hg38 H3K36me3 TPM benchmark\n",
    "\n",
    "Benchmark according to the paper https://doi.org/10.1093/bib/bbw035\n",
    "Features that define the best ChIP-seq peak calling algorithms\n",
    "\n",
    "We considered a peak as positive if it overlaps an active gene (defined varying RPKM from 0 to 2)\n",
    "and compared methods based on sensitivity, precision and F-score."
   ],
   "metadata": {
    "collapsed": false
   }
  },
  {
   "cell_type": "code",
   "execution_count": null,
   "outputs": [],
   "source": [
    "import tempfile\n",
    "from itertools import product\n",
    "\n",
    "tf = tempfile.mktemp()\n",
    "expr_file = tempfile.mktemp()\n",
    "\n",
    "benchmark_tpm_df = pd.DataFrame(\n",
    "    columns=['cell', 'replicate', 'tpm', 'genes', 'peaks_file', 'peaks', 'pg', 'gp', 'overlap', 'tool'],\n",
    "    dtype=object\n",
    ")\n",
    "\n",
    "for c, r in tqdm(product(GSE26320_CELLS, GSE26320_REPS)):\n",
    "    print(c, r)\n",
    "    if (c, r) not in EXPRESSION_TSV:\n",
    "        continue\n",
    "\n",
    "    t = pd.read_csv(GSE26320_RNASEQ_PATH + '/' + EXPRESSION_TSV[c, r], sep='\\t')\n",
    "    # Fix . in gene_id\n",
    "    t['gene_id'] = [re.sub('\\..*', '', id) for id in t['gene_id']]\n",
    "    t['LTPM'] = np.log1p(t['TPM'])\n",
    "    full_df = pd.merge(left=t, right=gtf_genes_df, left_on='gene_id', right_on='gene_id')\n",
    "    full_df = full_df[['chromosome', 'start', 'end', 'gene_id', 'strand', 'TPM', 'LTPM']]\n",
    "    full_df.sort_values(by=['chromosome', 'start'], inplace=True)\n",
    "    full_df = merge_genes(full_df)\n",
    "\n",
    "    for tpm in np.linspace(0, 0.5, 6):\n",
    "        print('Processing TMP', tpm)\n",
    "        full_df[full_df['LTPM'] > tpm].to_csv(expr_file, sep='\\t', index=False, header=None)\n",
    "        expr_file = sorted_file(expr_file)\n",
    "        genes = lines(expr_file)\n",
    "        for tool in df_fdr_peaks['tool'].unique():\n",
    "            t = df_fdr_peaks[(df_fdr_peaks['tool'] == tool) & (df_fdr_peaks['modification'] == 'H3K36me3') &\n",
    "                             (df_fdr_peaks['cell'] == c) & (df_fdr_peaks['replicate'] == r)]\n",
    "            if len(t) == 0:\n",
    "                continue\n",
    "            peaks_file = sorted_file(t['file'].values[0])\n",
    "            peaks = lines(peaks_file)\n",
    "            for overlap, overlap_param in [\n",
    "                ('1bp', ''),\n",
    "                ('50%', ' -f 0.5 ')\n",
    "            ]:\n",
    "                !bedtools intersect -a {peaks_file} -b {expr_file} -wa -u {overlap_param} > {tf}\n",
    "                peaks_overlap = lines(tf)\n",
    "                !bedtools intersect -b {peaks_file} -a {expr_file} -wa -u {overlap_param} > {tf}\n",
    "                genes_overlap = lines(tf)\n",
    "                benchmark_tpm_df.loc[len(benchmark_tpm_df)] = \\\n",
    "                    (c, r, tpm, genes, peaks_file, peaks, peaks_overlap, genes_overlap, overlap, tool)\n",
    "\n",
    "benchmark_tpm_df"
   ],
   "metadata": {
    "collapsed": false,
    "ExecuteTime": {
     "start_time": "2023-05-16T22:36:43.599025Z",
     "end_time": "2023-05-16T22:51:05.088982Z"
    }
   }
  },
  {
   "cell_type": "code",
   "execution_count": null,
   "outputs": [],
   "source": [
    "benchmark_tpm_df['p'] = (benchmark_tpm_df['pg'] + benchmark_tpm_df['gp']) / 2\n",
    "benchmark_tpm_df['precision'] = [d(x, y) for x, y in zip(benchmark_tpm_df['pg'], benchmark_tpm_df['peaks'])]\n",
    "benchmark_tpm_df['sensitivity'] = [d(x, y) for x, y in zip(benchmark_tpm_df['gp'], benchmark_tpm_df['genes'])]\n",
    "benchmark_tpm_df['f1'] = [2 / (d(1, s + 1e-10) + d(1, p + 1e-10)) for s, p in\n",
    "                          zip(benchmark_tpm_df['sensitivity'], benchmark_tpm_df['precision'])]\n",
    "benchmark_tpm_df"
   ],
   "metadata": {
    "collapsed": false,
    "ExecuteTime": {
     "start_time": "2023-05-16T22:51:05.105542Z",
     "end_time": "2023-05-16T22:51:05.142001Z"
    }
   }
  },
  {
   "cell_type": "code",
   "execution_count": null,
   "outputs": [],
   "source": [
    "def rgb2hex(color):\n",
    "    r, g, b, _ = color\n",
    "    return \"#{0:02x}{1:02x}{2:02x}\".format(int(r * 255), int(g * 255), int(b * 255))\n",
    "\n",
    "\n",
    "PLOTLY_TOOLS_PALETTE = {k: rgb2hex(v) for k, v in TOOLS_PALETTE.items()}"
   ],
   "metadata": {
    "collapsed": false,
    "ExecuteTime": {
     "start_time": "2023-05-16T22:51:05.113889Z",
     "end_time": "2023-05-16T22:51:05.161348Z"
    }
   }
  },
  {
   "cell_type": "code",
   "execution_count": null,
   "outputs": [],
   "source": [
    "import plotly.graph_objects as go\n",
    "import plotly.express as px\n",
    "\n",
    "def plot_tpm(benchmark_tpm_df):\n",
    "    tools_legend_shown = set()\n",
    "    fig = go.Figure()\n",
    "    for overlap in benchmark_tpm_df['overlap'].unique():\n",
    "        marker = 'square' if overlap == '1bp' else 'circle' if overlap == '50%' else 'diamond'\n",
    "        for c, r, t in product(GSE26320_CELLS, GSE26320_REPS, df_fdr_peaks['tool'].unique()):\n",
    "            dft = benchmark_tpm_df[(benchmark_tpm_df['cell'] == c) & (benchmark_tpm_df['replicate'] == r) &\n",
    "                                   (benchmark_tpm_df['overlap'] == overlap) & (benchmark_tpm_df['tool'] == t)]\n",
    "            if len(dft) == 0:\n",
    "                continue\n",
    "            fig.add_trace(go.Scatter(\n",
    "                x=dft[\"precision\"], y=dft[\"sensitivity\"], mode='lines+markers', name=t,\n",
    "                hovertext=dft['tpm'].astype(str) + ' ' + t, marker_symbol=[marker] * len(dft),\n",
    "                showlegend=t not in tools_legend_shown,\n",
    "                marker_color=PLOTLY_TOOLS_PALETTE[t],\n",
    "                opacity=0.5,\n",
    "            ))\n",
    "            tools_legend_shown.add(t)\n",
    "\n",
    "    for overlap in set(benchmark_tpm_df['overlap']):\n",
    "        marker = 'square' if overlap == '1bp' else 'circle' if overlap == '50%' else 'diamond'\n",
    "        for c, r, t in product(GSE26320_CELLS, GSE26320_REPS, df_fdr_peaks['tool'].unique()):\n",
    "            dft = benchmark_tpm_df[(benchmark_tpm_df['cell'] == c) & (benchmark_tpm_df['replicate'] == r) &\n",
    "                                   (benchmark_tpm_df['overlap'] == overlap) & (benchmark_tpm_df['tool'] == t) &\n",
    "                                   (benchmark_tpm_df['tpm'] == 0.1)]\n",
    "            if len(dft) == 0:\n",
    "                continue\n",
    "            fig.add_trace(\n",
    "                go.Scatter(\n",
    "                    mode='markers',\n",
    "                    x=dft[\"precision\"], y=dft[\"sensitivity\"],\n",
    "                    name=t,\n",
    "                    marker=dict(color='white', size=5, line=dict(width=1), symbol=marker),\n",
    "                    showlegend=False,\n",
    "                    hovertext=dft['tpm'].astype(str) + ' ' + t\n",
    "                )\n",
    "            )\n",
    "\n",
    "    fig.update_xaxes(range=[-0.1, 1.1], title='Peaks in active genes (precision)')\n",
    "    fig.update_yaxes(range=[-0.1, 1.1], title='Active genes in peaks (sensitivity)')\n",
    "    # fig.update_xaxes(title='Peaks overlapping active genes (precision)')\n",
    "    # fig.update_yaxes(title='Active genes overlapping peaks (sensitivity)')\n",
    "\n",
    "    fig.layout.template = 'plotly_white'\n",
    "    fig.update_layout(\n",
    "        autosize=False,\n",
    "        width=800,\n",
    "        height=600, )\n",
    "    fig.show()\n"
   ],
   "metadata": {
    "collapsed": false,
    "ExecuteTime": {
     "start_time": "2023-05-16T22:51:05.142836Z",
     "end_time": "2023-05-16T22:51:05.198033Z"
    }
   }
  },
  {
   "cell_type": "code",
   "execution_count": null,
   "outputs": [],
   "source": [
    "plot_tpm(benchmark_tpm_df[(benchmark_tpm_df['overlap'] == '1bp') &\n",
    "                          (benchmark_tpm_df['cell'] == 'K562') &\n",
    "                          (benchmark_tpm_df['replicate'] == 'rep1')])"
   ],
   "metadata": {
    "collapsed": false,
    "ExecuteTime": {
     "start_time": "2023-05-16T22:51:05.152584Z",
     "end_time": "2023-05-16T22:51:05.443994Z"
    }
   }
  },
  {
   "cell_type": "code",
   "execution_count": null,
   "outputs": [],
   "source": [
    "plot_tpm(benchmark_tpm_df[benchmark_tpm_df['overlap'] == '1bp'])"
   ],
   "metadata": {
    "collapsed": false,
    "ExecuteTime": {
     "start_time": "2023-05-16T22:51:05.443748Z",
     "end_time": "2023-05-16T22:51:05.867312Z"
    }
   }
  },
  {
   "cell_type": "code",
   "execution_count": null,
   "outputs": [],
   "source": [
    "plot_tpm(benchmark_tpm_df[benchmark_tpm_df['overlap'] == '50%'])"
   ],
   "metadata": {
    "collapsed": false,
    "ExecuteTime": {
     "start_time": "2023-05-16T22:51:05.867110Z",
     "end_time": "2023-05-16T22:51:06.110549Z"
    }
   }
  },
  {
   "cell_type": "markdown",
   "source": [
    "# Coverage"
   ],
   "metadata": {
    "collapsed": false
   }
  },
  {
   "cell_type": "code",
   "execution_count": null,
   "outputs": [],
   "source": [
    "GSE26320_HG38_PATH_BW = GSE26320_PATH_HG38 + '/bw'\n",
    "\n",
    "\n",
    "def load_bws(path, m):\n",
    "    df_bws = pd.DataFrame(columns=['file', 'modification', 'cell', 'replicate'], dtype=object)\n",
    "    for f in tqdm(os.listdir(path)):\n",
    "        if '.bw' not in f:\n",
    "            continue\n",
    "        cell = next((cc for cc in GSE26320_CELLS if cc in f), None)\n",
    "        rep = 'rep1' if 'rep1' in f else 'rep2'\n",
    "        if cell and rep and m in f:\n",
    "            df_bws.loc[len(df_bws)] = ((os.path.join(path, f)), m, cell, rep)\n",
    "    return df_bws"
   ],
   "metadata": {
    "collapsed": false,
    "ExecuteTime": {
     "start_time": "2023-05-19T09:31:03.226178Z",
     "end_time": "2023-05-19T09:31:03.271886Z"
    }
   }
  },
  {
   "cell_type": "code",
   "execution_count": null,
   "outputs": [],
   "source": [
    "bws_df = load_bws(GSE26320_HG38_PATH_BW, 'H3K36me3')\n",
    "bws_df.sample(5)"
   ],
   "metadata": {
    "collapsed": false,
    "ExecuteTime": {
     "start_time": "2023-05-19T09:31:03.899111Z",
     "end_time": "2023-05-19T09:31:03.957559Z"
    }
   }
  },
  {
   "cell_type": "code",
   "execution_count": null,
   "outputs": [],
   "source": [
    "bws_control_df = load_bws(GSE26320_HG38_PATH_BW, 'Input')\n",
    "bws_control_df.sample(5)"
   ],
   "metadata": {
    "collapsed": false,
    "ExecuteTime": {
     "start_time": "2023-05-19T09:31:04.694873Z",
     "end_time": "2023-05-19T09:31:04.737782Z"
    }
   }
  },
  {
   "cell_type": "code",
   "execution_count": null,
   "outputs": [],
   "source": [
    "CHROM_SIZES = {\n",
    "    c: s for _, (c, s) in pd.read_csv(os.path.join(GSE26320_PATH_HG38, 'hg38.chrom.sizes'),\n",
    "                                      sep='\\t', names=['chr', 'size']).iterrows() if '_' not in c\n",
    "}\n",
    "CHROM_SIZES"
   ],
   "metadata": {
    "collapsed": false,
    "ExecuteTime": {
     "start_time": "2023-05-19T09:31:07.400517Z",
     "end_time": "2023-05-19T09:31:07.456163Z"
    }
   }
  },
  {
   "cell_type": "markdown",
   "source": [
    "## FRIP"
   ],
   "metadata": {
    "collapsed": false
   }
  },
  {
   "cell_type": "code",
   "execution_count": null,
   "outputs": [],
   "source": [
    "import pyBigWig\n",
    "\n",
    "tf = tempfile.mktemp()\n",
    "\n",
    "frip_df = pd.DataFrame(\n",
    "    columns=['cell', 'replicate', 'bw_file', 'tool', 'peaks_file', 'peaks', 'length',\n",
    "             'reads_in_peaks', 'all_reads', 'control_reads_in_peaks', 'control_all_reads'],\n",
    "    dtype=object\n",
    ")\n",
    "\n",
    "for c, r in tqdm(product(GSE26320_CELLS, GSE26320_REPS)):\n",
    "    # for c, r in tqdm(product(['GM12878'], ['rep1'])):\n",
    "    print(c, r)\n",
    "    for tool in set(df_fdr_peaks['tool']):\n",
    "        t = df_fdr_peaks[(df_fdr_peaks['tool'] == tool) & (df_fdr_peaks['modification'] == 'H3K36me3') &\n",
    "                         (df_fdr_peaks['cell'] == c) & (df_fdr_peaks['replicate'] == r)]\n",
    "        if len(t) == 0:\n",
    "            continue\n",
    "        peaks_file = sorted_file(t['file'].values[0])\n",
    "        peaks = lines(peaks_file)\n",
    "        if peaks == 0:\n",
    "            continue\n",
    "        peaks_len = int(bedl(peaks_file).sum())\n",
    "        t = bws_df[(bws_df['modification'] == 'H3K36me3') &\n",
    "                   (bws_df['cell'] == c) & (bws_df['replicate'] == r)]\n",
    "        if len(t) == 0:\n",
    "            continue\n",
    "        bw_file = t['file'].values[0]\n",
    "        t = bws_control_df[(bws_control_df['cell'] == c) & (bws_control_df['replicate'] == r)]\n",
    "        if len(t) == 0:\n",
    "            continue\n",
    "        bw_control_file = t['file'].values[0]\n",
    "\n",
    "        print(tool, peaks_file, bw_file, bw_control_file)\n",
    "        t = pd.read_csv(peaks_file, sep='\\t', header=None)\n",
    "        with pyBigWig.open(bw_file) as bw:\n",
    "            total_coverage = sum(bw.stats(chr, type='sum', exact=True)[0] for chr in t[0].unique())\n",
    "            peaks_coverage = sum(bw.stats(chr, start, end, type='sum', exact=True)[0]\n",
    "                                 for chr, start, end in zip(t[0], t[1], t[2]))\n",
    "        with pyBigWig.open(bw_control_file) as bwc:\n",
    "            control_total_coverage = sum(\n",
    "                bwc.stats(chr, type='sum', exact=True)[0] for chr in t[0].unique() if chr in CHROM_SIZES)\n",
    "            control_peaks_coverage = sum(bwc.stats(chr, start, end, type='sum', exact=True)[0]\n",
    "                                         for chr, start, end in zip(t[0], t[1], t[2]) if chr in CHROM_SIZES)\n",
    "        frip_df.loc[len(frip_df)] = (c, r, bw_file, tool, peaks_file, peaks, peaks_len,\n",
    "                                     peaks_coverage, total_coverage, control_peaks_coverage, control_total_coverage)\n",
    "\n",
    "frip_df"
   ],
   "metadata": {
    "collapsed": false,
    "ExecuteTime": {
     "start_time": "2023-05-19T09:31:08.130736Z",
     "end_time": "2023-05-19T09:39:04.193363Z"
    }
   }
  },
  {
   "cell_type": "code",
   "execution_count": null,
   "outputs": [],
   "source": [
    "frip_df['frip'] = [d(x, y) for x, y in zip(frip_df['reads_in_peaks'], frip_df['all_reads'])]\n",
    "frip_df['peaks_rpkm'] = [(x / ((z + 1e-10) / 1e3)) / ((y + 1e-10) / 1e6) for x, y, z in\n",
    "                         zip(frip_df['reads_in_peaks'], frip_df['all_reads'], frip_df['length'])]\n",
    "frip_df['peaks_background_log2fc'] = [\n",
    "    np.log2((x / (z + 1e-10)) / ((y - x) / (sum(CHROM_SIZES.values()) - z + 1e-10)))\n",
    "    for x, y, z in zip(frip_df['reads_in_peaks'], frip_df['all_reads'], frip_df['length'])\n",
    "]\n",
    "frip_df['peaks_control_log2fc'] = [\n",
    "    np.log2(d(x / ((y + 1e-10) / 1e6), z / ((u + 1e-10) / 1e6) + 1e-10))\n",
    "    for x, y, z, u in zip(frip_df['reads_in_peaks'], frip_df['all_reads'],\n",
    "                          frip_df['control_reads_in_peaks'], frip_df['control_all_reads'])\n",
    "]"
   ],
   "metadata": {
    "collapsed": false,
    "ExecuteTime": {
     "start_time": "2023-05-19T10:51:50.604000Z",
     "end_time": "2023-05-19T10:51:50.606561Z"
    }
   }
  },
  {
   "cell_type": "code",
   "execution_count": null,
   "outputs": [],
   "source": [
    "# Ignore outliers\n",
    "t = frip_df[frip_df['peaks'] > 100]"
   ],
   "metadata": {
    "collapsed": false,
    "ExecuteTime": {
     "start_time": "2023-05-19T10:51:50.930198Z",
     "end_time": "2023-05-19T10:51:50.938033Z"
    }
   }
  },
  {
   "cell_type": "code",
   "execution_count": null,
   "outputs": [],
   "source": [
    "import seaborn as sns\n",
    "\n",
    "plt.figure(figsize=(13, 6))\n",
    "axs = [plt.subplot(2, 4, i + 1) for i in range(8)]\n",
    "ax = axs[0]\n",
    "g_results = sns.scatterplot(data=t, x='all_reads', y='peaks', hue='tool',\n",
    "                            palette=TOOLS_PALETTE, ax=ax)\n",
    "g_results.axes.legend().set_visible(False)\n",
    "\n",
    "ax = axs[1]\n",
    "g_results = sns.scatterplot(data=t, x='reads_in_peaks', y='peaks', hue='tool',\n",
    "                            palette=TOOLS_PALETTE, ax=ax)\n",
    "g_results.axes.legend().set_visible(False)\n",
    "\n",
    "ax = axs[2]\n",
    "g_results = sns.scatterplot(data=t, x='peaks_rpkm', y='peaks', hue='tool',\n",
    "                            palette=TOOLS_PALETTE, ax=ax)\n",
    "g_results.axes.legend().set_visible(False)\n",
    "\n",
    "ax = axs[3]\n",
    "g_results = sns.scatterplot(data=t, x='frip', y='peaks', hue='tool',\n",
    "                            palette=TOOLS_PALETTE, ax=ax)\n",
    "g_results.axes.legend().set_visible(False)\n",
    "\n",
    "ax = axs[4]\n",
    "g_results = sns.scatterplot(data=t, x='peaks_background_log2fc', y='peaks', hue='tool',\n",
    "                            palette=TOOLS_PALETTE, ax=ax)\n",
    "g_results.axes.legend().set_visible(False)\n",
    "\n",
    "ax = axs[5]\n",
    "g_results = sns.scatterplot(data=t, x='peaks_control_log2fc', y='peaks', hue='tool',\n",
    "                            palette=TOOLS_PALETTE, ax=ax)\n",
    "g_results.axes.legend().set_visible(False)\n",
    "\n",
    "ax = axs[6]\n",
    "g_results = sns.barplot(x=t['cell'] + ' ' + t['replicate'], y=t['all_reads'],\n",
    "                        color='Blue',\n",
    "                        # order=['MACS2', 'MACS2 broad', 'SPAN', 'SICER'],\n",
    "                        ax=ax)\n",
    "ax.xaxis.set_tick_params(rotation=90)\n",
    "# g_results.axes.legend().set_visible(False)\n",
    "\n",
    "\n",
    "ax = axs[7]\n",
    "g_results = sns.boxplot(data=t, x='tool', y='frip',\n",
    "                        palette=TOOLS_PALETTE,\n",
    "                        order=['MACS2', 'MACS2 broad', 'SPAN', 'SICER'],\n",
    "                        showfliers=False,\n",
    "                        ax=ax)\n",
    "ax.xaxis.set_tick_params(rotation=90)\n",
    "# g_results.axes.legend().set_visible(False)\n",
    "# Put a legend to the right of the current axis\n",
    "# g_results.axes.legend(loc='center left', bbox_to_anchor=(1, 0.5))\n",
    "plt.tight_layout()\n",
    "\n",
    "plt.savefig(f'{GSE26320_PATH_HG38}/pics/H3K36me3_reads.pdf', bbox_inches='tight', dpi=300)\n",
    "plt.show()"
   ],
   "metadata": {
    "collapsed": false,
    "ExecuteTime": {
     "start_time": "2023-05-19T10:51:51.620618Z",
     "end_time": "2023-05-19T10:51:53.812722Z"
    }
   }
  },
  {
   "cell_type": "markdown",
   "source": [
    "## Compute BAM reads"
   ],
   "metadata": {
    "collapsed": false
   }
  },
  {
   "cell_type": "code",
   "execution_count": null,
   "outputs": [],
   "source": [
    "def load_bams(path, m):\n",
    "    df_bams = pd.DataFrame(columns=['bam_file', 'modification', 'cell', 'replicate', 'mapped_reads'], dtype=object)\n",
    "    for f in tqdm(os.listdir(path)):\n",
    "        if not f.endswith('.bam'):\n",
    "            continue\n",
    "        cell = next((cc for cc in GSE26320_CELLS if cc in f), None)\n",
    "        rep = 'rep1' if 'rep1' in f else 'rep2'\n",
    "        if cell and rep and m in f:\n",
    "            file = os.path.join(path, f)\n",
    "            reads = ! samtools view -F 0x04 -c {file}\n",
    "            reads = int(reads[0])\n",
    "            df_bams.loc[len(df_bams)] = (file, m, cell, rep, reads)\n",
    "    return df_bams\n",
    "\n",
    "bams_df = load_bams(GSE26320_PATH_HG38 + '/bams', 'H3K36me3')\n",
    "bams_df"
   ],
   "metadata": {
    "collapsed": false,
    "ExecuteTime": {
     "start_time": "2023-05-19T09:40:58.548001Z",
     "end_time": "2023-05-19T09:41:40.721988Z"
    }
   }
  },
  {
   "cell_type": "code",
   "execution_count": null,
   "outputs": [],
   "source": [
    "t = pd.merge(frip_df, bams_df, left_on=['cell', 'replicate'], right_on=['cell', 'replicate'])"
   ],
   "metadata": {
    "collapsed": false,
    "ExecuteTime": {
     "start_time": "2023-05-19T09:41:40.724043Z",
     "end_time": "2023-05-19T09:41:40.734376Z"
    }
   }
  },
  {
   "cell_type": "code",
   "execution_count": null,
   "outputs": [],
   "source": [
    "t['dataset'] = 'Encode'\n",
    "t.to_csv('/tmp/encode.tsv', sep='\\t', index=False)"
   ],
   "metadata": {
    "collapsed": false,
    "ExecuteTime": {
     "start_time": "2023-05-19T09:41:40.724212Z",
     "end_time": "2023-05-19T09:41:40.775849Z"
    }
   }
  },
  {
   "cell_type": "code",
   "execution_count": null,
   "outputs": [],
   "source": [
    "t = pd.concat([\n",
    "    pd.read_csv('/tmp/encode.tsv', sep='\\t'),\n",
    "    pd.read_csv('/tmp/immune.tsv', sep='\\t'),\n",
    "]).reset_index(drop=True)\n",
    "t.sample(5)"
   ],
   "metadata": {
    "collapsed": false,
    "ExecuteTime": {
     "start_time": "2023-05-19T09:50:14.714070Z",
     "end_time": "2023-05-19T09:50:14.738964Z"
    }
   }
  },
  {
   "cell_type": "code",
   "execution_count": null,
   "outputs": [],
   "source": [
    "plt.figure(figsize=(3, 3))\n",
    "ax = plt.axes()\n",
    "g_results = sns.barplot(data=t[t['tool']=='MACS2'], x='dataset', y='mapped_reads', ax=ax)\n",
    "plt.tight_layout()\n",
    "plt.show()"
   ],
   "metadata": {
    "collapsed": false,
    "ExecuteTime": {
     "start_time": "2023-05-19T09:50:14.993484Z",
     "end_time": "2023-05-19T09:50:15.094510Z"
    }
   }
  },
  {
   "cell_type": "code",
   "execution_count": null,
   "outputs": [],
   "source": [
    "# Ignore outliers\n",
    "t = t[t['peaks_rpkm'] < 10000]\n",
    "t = t[t['peaks_control_log2fc'] < 10]"
   ],
   "metadata": {
    "collapsed": false,
    "ExecuteTime": {
     "start_time": "2023-05-19T09:50:15.972104Z",
     "end_time": "2023-05-19T09:50:15.992943Z"
    }
   }
  },
  {
   "cell_type": "code",
   "execution_count": null,
   "outputs": [],
   "source": [
    "import seaborn as sns\n",
    "\n",
    "plt.figure(figsize=(15, 6))\n",
    "axs = [plt.subplot(2, 4, i + 1) for i in range(8)]\n",
    "ax = axs[0]\n",
    "g_results = sns.scatterplot(data=t, x='all_reads', y='mapped_reads', hue='dataset', ax=ax)\n",
    "g_results.axes.legend().set_visible(False)\n",
    "\n",
    "ax = axs[1]\n",
    "g_results = sns.scatterplot(data=t, x='mapped_reads', y='peaks', hue='tool', style='dataset',\n",
    "                            palette=TOOLS_PALETTE, ax=ax)\n",
    "g_results.axes.legend().set_visible(False)\n",
    "\n",
    "ax = axs[2]\n",
    "g_results = sns.scatterplot(data=t, x='all_reads', y='peaks', hue='tool', style='dataset',\n",
    "                            palette=TOOLS_PALETTE, ax=ax)\n",
    "g_results.axes.legend().set_visible(False)\n",
    "\n",
    "ax = axs[3]\n",
    "g_results = sns.scatterplot(data=t, x='reads_in_peaks', y='peaks', hue='tool', style='dataset',\n",
    "                            palette=TOOLS_PALETTE, ax=ax)\n",
    "g_results.axes.legend().set_visible(False)\n",
    "\n",
    "ax = axs[4]\n",
    "g_results = sns.scatterplot(data=t, x='peaks_rpkm', y='peaks', hue='tool', style='dataset',\n",
    "                            palette=TOOLS_PALETTE, ax=ax)\n",
    "g_results.axes.legend().set_visible(False)\n",
    "\n",
    "ax = axs[5]\n",
    "g_results = sns.scatterplot(data=t, x='frip', y='peaks', hue='tool', style='dataset',\n",
    "                            palette=TOOLS_PALETTE, ax=ax)\n",
    "g_results.axes.legend().set_visible(False)\n",
    "\n",
    "ax = axs[6]\n",
    "g_results = sns.scatterplot(data=t, x='peaks_background_log2fc', y='peaks', hue='tool', style='dataset',\n",
    "                            palette=TOOLS_PALETTE, ax=ax)\n",
    "g_results.axes.legend().set_visible(False)\n",
    "\n",
    "ax = axs[7]\n",
    "g_results = sns.scatterplot(data=t, x='peaks_control_log2fc', y='peaks', hue='tool', style='dataset',\n",
    "                            palette=TOOLS_PALETTE, ax=ax)\n",
    "# Put a legend to the right of the current axis\n",
    "g_results.axes.legend(loc='center left', bbox_to_anchor=(1, 0.5))\n",
    "\n",
    "\n",
    "plt.tight_layout()\n",
    "plt.show()"
   ],
   "metadata": {
    "collapsed": false,
    "ExecuteTime": {
     "start_time": "2023-05-19T09:50:16.385944Z",
     "end_time": "2023-05-19T09:50:17.643233Z"
    }
   }
  },
  {
   "cell_type": "code",
   "execution_count": null,
   "outputs": [],
   "source": [
    "plt.figure(figsize=(5, 3))\n",
    "ax = plt.axes()\n",
    "g_results = sns.scatterplot(data=t[t['tool']=='MACS2'], x='mapped_reads', y='peaks', hue='tool', style='dataset',\n",
    "                            palette=TOOLS_PALETTE, ax=ax)\n",
    "# Put a legend to the right of the current axis\n",
    "g_results.axes.legend(loc='center left', bbox_to_anchor=(1, 0.5))\n",
    "plt.tight_layout()\n",
    "plt.show()"
   ],
   "metadata": {
    "collapsed": false,
    "ExecuteTime": {
     "start_time": "2023-05-19T09:50:17.643056Z",
     "end_time": "2023-05-19T09:50:17.752808Z"
    }
   }
  },
  {
   "cell_type": "code",
   "execution_count": null,
   "outputs": [],
   "source": [
    "plt.figure(figsize=(3, 4))\n",
    "ax = plt.axes()\n",
    "g_results = sns.boxplot(data=t[t['tool']=='MACS2'], y='mapped_reads', x='dataset', ax=ax)\n",
    "plt.tight_layout()\n",
    "plt.show()"
   ],
   "metadata": {
    "collapsed": false,
    "ExecuteTime": {
     "start_time": "2023-05-19T09:50:18.097577Z",
     "end_time": "2023-05-19T09:50:18.193486Z"
    }
   }
  },
  {
   "cell_type": "code",
   "execution_count": null,
   "outputs": [],
   "source": [
    "from sklearn.decomposition import PCA\n",
    "from sklearn.preprocessing import StandardScaler\n",
    "import plotly.graph_objects as go\n",
    "import plotly.express as px\n",
    "\n",
    "# t = t[(t['tool'].isin(['MACS2', 'MACS2 broad']))]\n",
    "\n",
    "# Remove peaks and length features\n",
    "features = [c for c in t.columns\n",
    "            if c not in ['cell', 'replicate', 'bw_file', 'bw_control_file', 'tool', 'peaks_file', 'bam_file', 'modification', 'dataset',\n",
    "                         'peaks', 'length']]\n",
    "\n",
    "n_components = 3\n",
    "pca = PCA(n_components=n_components)\n",
    "ts = StandardScaler().fit_transform(t[features])  # (n_samples x n_features)\n",
    "result_pca = pca.fit_transform(ts)\n",
    "\n",
    "td = pd.DataFrame({'pc1': result_pca[:, 0], 'pc2': result_pca[:, 1],\n",
    "                   'dataset': t['dataset'], 'tool': t['tool']})\n",
    "\n",
    "fig = px.scatter(td, x='pc1', y='pc2', color='dataset',\n",
    "                 hover_data=['dataset', 'tool'])\n",
    "fig.layout.template = 'plotly_white'\n",
    "fig.update_layout(\n",
    "    autosize=False,\n",
    "    width=800,\n",
    "    height=600, )\n",
    "fig.show()\n",
    "\n",
    "print('Explained variation', int(np.sum(pca.explained_variance_ratio_) * 100), '%')\n",
    "plt.figure(figsize=(5, 2))\n",
    "g = sns.barplot(x=list(range(n_components)), y=pca.explained_variance_ratio_, color='gray')\n",
    "g.set_xticklabels(g.get_xticklabels(), rotation=90)\n",
    "plt.show()\n",
    "\n",
    "fig = go.Figure(data=go.Heatmap(\n",
    "    z=pca.components_,\n",
    "    y=[f'Component {i + 1}' for i in range(n_components)],\n",
    "    x=features,\n",
    "    colorscale='RdBu'\n",
    "))\n",
    "fig.layout.template = 'plotly_white'\n",
    "fig.update_layout(\n",
    "    autosize=False,\n",
    "    width=600,\n",
    "    height=600, )\n",
    "fig.show()"
   ],
   "metadata": {
    "collapsed": false,
    "ExecuteTime": {
     "start_time": "2023-05-19T10:21:54.533610Z",
     "end_time": "2023-05-19T10:21:54.634765Z"
    }
   }
  },
  {
   "cell_type": "markdown",
   "source": [
    "# ChromHMM"
   ],
   "metadata": {
    "collapsed": false
   }
  },
  {
   "cell_type": "code",
   "execution_count": null,
   "outputs": [],
   "source": [
    "CHROMHMM_MAP = {\n",
    "    'GM12878': GSE26320_PATH_HG38 + '/chromhmm/GM12878_chromhmm_hg38_ENCFF338RIC.bed',\n",
    "    'H1': GSE26320_PATH_HG38 + '/chromhmm/H1_chromhmm_hg38_ENCFF323HNB.bed',\n",
    "    'HepG2': GSE26320_PATH_HG38 + '/chromhmm/HepG2_chromhmm_hg38_ENCFF808IZE.bed',\n",
    "    'K562': GSE26320_PATH_HG38 + '/chromhmm/K562_chromhmm_hg38_ENCFF649FCE.bed',\n",
    "}\n",
    "\n",
    "print('Split chromHMM into separate files')\n",
    "CHROMM_STATES = set()\n",
    "for c, chromhmm in CHROMHMM_MAP.items():\n",
    "    print(c)\n",
    "    t = pd.read_csv(chromhmm, sep='\\t', header=None, usecols=[3])[3]\n",
    "    for state in t.unique():\n",
    "        # print(state)\n",
    "        state = state.replace('/', '_')\n",
    "        CHROMM_STATES.add(state)\n",
    "        f = chromhmm.replace('.bed', f'_{state}.bed')\n",
    "        ! cat {chromhmm} | grep {state} > {f}\n",
    "CHROMM_STATES = list(sorted(CHROMM_STATES))\n",
    "print(CHROMM_STATES)"
   ],
   "metadata": {
    "collapsed": false,
    "ExecuteTime": {
     "start_time": "2023-05-16T23:03:19.374296Z",
     "end_time": "2023-05-16T23:03:45.978618Z"
    }
   }
  },
  {
   "cell_type": "code",
   "execution_count": null,
   "outputs": [],
   "source": [
    "import tempfile\n",
    "from itertools import product\n",
    "\n",
    "tf = tempfile.mktemp()\n",
    "tf2 = tempfile.mktemp()\n",
    "\n",
    "data = []\n",
    "\n",
    "for c, r in tqdm(product(GSE26320_CELLS, GSE26320_REPS)):\n",
    "    print(c, r)\n",
    "    if c not in CHROMHMM_MAP:\n",
    "        continue\n",
    "    chromhmm = CHROMHMM_MAP[c]\n",
    "    for tool in set(df_fdr_peaks['tool']):\n",
    "        t = df_fdr_peaks[(df_fdr_peaks['tool'] == tool) &\n",
    "                         (df_fdr_peaks['modification'] == 'H3K36me3') &\n",
    "                         (df_fdr_peaks['cell'] == c) &\n",
    "                         (df_fdr_peaks['replicate'] == r)]\n",
    "        if len(t) == 0:\n",
    "            continue\n",
    "        peaks_file = sorted_file(t['file'].values[0])\n",
    "        peaks = lines(peaks_file)\n",
    "        row = [c, r, tool, peaks]\n",
    "        for state in CHROMM_STATES:\n",
    "            state_file = sorted_file(chromhmm.replace('.bed', f'_{state}.bed'))\n",
    "            !bedtools intersect -a {peaks_file} -b {state_file} -wa -u > {tf}\n",
    "            state_peaks = lines(tf)\n",
    "            row.append(state_peaks)\n",
    "        data.append(row)\n",
    "\n",
    "        if tool == 'SPAN':\n",
    "            span_file = peaks_file\n",
    "\n",
    "    # Processing single tools information\n",
    "    for tool in TOOLS:\n",
    "        if tool == 'SPAN':\n",
    "            continue\n",
    "        t = df_fdr_peaks[(df_fdr_peaks['tool'] == tool) &\n",
    "                         (df_fdr_peaks['modification'] == 'H3K36me3') &\n",
    "                         (df_fdr_peaks['cell'] == c) &\n",
    "                         (df_fdr_peaks['replicate'] == r)]\n",
    "        if len(t) == 0:\n",
    "            continue\n",
    "        peaks_file = sorted_file(t['file'].values[0])\n",
    "        for name, args in [\n",
    "            (f'SPAN - {tool}', f' -a {span_file} -b {peaks_file} '),\n",
    "            (f'{tool} - SPAN', f' -b {span_file} -a {peaks_file} ')\n",
    "        ]:\n",
    "            !bedtools intersect {args} -wa -v > {tf}\n",
    "            peaks = lines(tf)\n",
    "            row = [c, r, name, peaks]\n",
    "            for state in CHROMM_STATES:\n",
    "                state_file = sorted_file(chromhmm.replace('.bed', f'_{state}.bed'))\n",
    "                !bedtools intersect -a {tf} -b {state_file} -wa -u > {tf2}\n",
    "                state_peaks = lines(tf2)\n",
    "                row.append(state_peaks)\n",
    "            data.append(row)\n",
    "\n",
    "chromhmm_df = pd.DataFrame(data, columns=['cell', 'replicate', 'name', 'peaks'] + CHROMM_STATES)\n",
    "chromhmm_df"
   ],
   "metadata": {
    "collapsed": false,
    "ExecuteTime": {
     "start_time": "2023-05-16T23:03:45.976578Z",
     "end_time": "2023-05-16T23:21:59.538471Z"
    }
   }
  },
  {
   "cell_type": "code",
   "execution_count": null,
   "outputs": [],
   "source": [
    "chromhmm_df_mean = chromhmm_df[['name'] + CHROMM_STATES].groupby('name').mean()\n",
    "chromhmm_df_mean = chromhmm_df_mean.loc[['MACS2', 'MACS2 broad', 'SPAN', 'SICER',\n",
    "                                         'SPAN - MACS2', 'SPAN - MACS2 broad', 'SPAN - SICER',\n",
    "                                         'MACS2 - SPAN', 'MACS2 broad - SPAN', 'SICER - SPAN',\n",
    "                                         ]]\n",
    "chromhmm_df_mean"
   ],
   "metadata": {
    "collapsed": false,
    "ExecuteTime": {
     "start_time": "2023-05-16T23:21:59.537227Z",
     "end_time": "2023-05-16T23:21:59.573355Z"
    }
   }
  },
  {
   "cell_type": "code",
   "execution_count": null,
   "outputs": [],
   "source": [
    "plt.figure(figsize=(6, 3))\n",
    "sns.heatmap(chromhmm_df_mean, cmap='coolwarm')\n",
    "plt.title('Peaks number in ChromHMM states')\n",
    "plt.tight_layout()\n",
    "plt.savefig(f'{GSE26320_PATH_HG38}/pics/H3K36me3_chromhmm.pdf', bbox_inches='tight', dpi=300)\n",
    "plt.show()"
   ],
   "metadata": {
    "collapsed": false,
    "ExecuteTime": {
     "start_time": "2023-05-16T23:21:59.552206Z",
     "end_time": "2023-05-16T23:22:00.245123Z"
    }
   }
  },
  {
   "cell_type": "code",
   "execution_count": null,
   "outputs": [],
   "source": [
    "chromhmm_rel_df = chromhmm_df[['name']].copy()\n",
    "for state in CHROMM_STATES:\n",
    "    chromhmm_rel_df[state] = [d(ov, p) for ov, p in zip(chromhmm_df[state], chromhmm_df['peaks'])]\n",
    "chromhmm_rel_df_mean = chromhmm_rel_df[['name'] + CHROMM_STATES].groupby('name').mean()\n",
    "chromhmm_rel_df_mean = chromhmm_rel_df_mean.loc[['MACS2', 'MACS2 broad', 'SPAN', 'SICER',\n",
    "                                                 'SPAN - MACS2', 'SPAN - MACS2 broad', 'SPAN - SICER',\n",
    "                                                 'MACS2 - SPAN', 'MACS2 broad - SPAN', 'SICER - SPAN',\n",
    "                                                 ]]\n",
    "chromhmm_rel_df_mean"
   ],
   "metadata": {
    "collapsed": false,
    "ExecuteTime": {
     "start_time": "2023-05-16T23:22:00.244936Z",
     "end_time": "2023-05-16T23:22:00.267717Z"
    }
   }
  },
  {
   "cell_type": "code",
   "execution_count": null,
   "outputs": [],
   "source": [
    "plt.figure(figsize=(6, 3))\n",
    "sns.heatmap(chromhmm_rel_df_mean, cmap='coolwarm')\n",
    "plt.title('Peaks fraction in ChromHMM states')\n",
    "plt.tight_layout()\n",
    "plt.savefig(f'{GSE26320_PATH_HG38}/pics/H3K36me3_chromhmm_rel.pdf', bbox_inches='tight', dpi=300)\n",
    "plt.show()"
   ],
   "metadata": {
    "collapsed": false,
    "ExecuteTime": {
     "start_time": "2023-05-16T23:22:00.267517Z",
     "end_time": "2023-05-16T23:22:00.986062Z"
    }
   }
  },
  {
   "cell_type": "code",
   "execution_count": null,
   "outputs": [],
   "source": [],
   "metadata": {
    "collapsed": false
   }
  }
 ],
 "metadata": {
  "anaconda-cloud": {},
  "kernelspec": {
   "display_name": "Python 3",
   "language": "python",
   "name": "python3"
  },
  "language_info": {
   "codemirror_mode": {
    "name": "ipython",
    "version": 3
   },
   "file_extension": ".py",
   "mimetype": "text/x-python",
   "name": "python",
   "nbconvert_exporter": "python",
   "pygments_lexer": "ipython3",
   "version": "3.8.5"
  },
  "toc": {
   "nav_menu": {},
   "number_sections": true,
   "sideBar": true,
   "skip_h1_title": false,
   "toc_cell": false,
   "toc_position": {},
   "toc_section_display": "block",
   "toc_window_display": false
  }
 },
 "nbformat": 4,
 "nbformat_minor": 2
}
