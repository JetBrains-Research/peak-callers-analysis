{
 "cells": [
  {
   "cell_type": "markdown",
   "metadata": {},
   "source": [
    "# RNA-seq comparison vs H3K4me3 and H3K36me3"
   ]
  },
  {
   "cell_type": "code",
   "metadata": {},
   "source": [
    "%matplotlib inline\n",
    "%config InlineBackend.figure_format='retina'\n",
    "\n",
    "import pandas as pd\n",
    "import seaborn as sns\n",
    "from tqdm.auto import tqdm\n",
    "\n",
    "sns.set_style(\"whitegrid\")\n",
    "import matplotlib.pyplot as plt\n",
    "import numpy as np\n",
    "import os"
   ],
   "outputs": [],
   "execution_count": null
  },
  {
   "cell_type": "code",
   "source": [
    "def bedl(file):\n",
    "    try:\n",
    "        tf = pd.read_csv(file, sep='\\t', header=None)\n",
    "        return tf[2] - tf[1]\n",
    "    except:\n",
    "        return np.zeros(0)  # Empty file\n",
    "\n",
    "\n",
    "def lines(file):\n",
    "    try:\n",
    "        tf = pd.read_csv(file, sep='\\t', header=None)\n",
    "        return len(tf)\n",
    "    except:\n",
    "        return 0  # Empty file\n",
    "\n",
    "\n",
    "def d(a, b):\n",
    "    return a / b if b != 0 else 0\n",
    "\n",
    "\n",
    "def last_col(file):\n",
    "    try:\n",
    "        cols = len(pd.read_csv(file, sep='\\t', nrows=1, header=None).columns)\n",
    "        return pd.read_csv(file, sep='\\t', header=None, usecols=[cols - 1])[cols - 1]\n",
    "    except:\n",
    "        return np.zeros(0)  # Empty file\n",
    "\n",
    "\n",
    "def sorted_file(file):\n",
    "    ts = tempfile.mktemp()\n",
    "    ! cat {file} | sort -k1,1 -k2,2n -k3,3n > {ts}\n",
    "    return ts"
   ],
   "metadata": {
    "collapsed": false
   },
   "outputs": [],
   "execution_count": null
  },
  {
   "cell_type": "markdown",
   "source": [
    "# Load hg38 peaks\n"
   ],
   "metadata": {
    "collapsed": false
   }
  },
  {
   "cell_type": "code",
   "source": [
    "GSE26320_PATH = os.path.expanduser('~/data/2023_GSE26320')\n",
    "GSE26320_CELLS = ['GM12878', 'HMEC', 'HSMM', 'K562', 'NHEK', 'NHLF', 'H1', 'Huvec', 'HepG2']\n",
    "MODIFICATIONS = ['H3K4me3', 'H3K36me3']\n",
    "GSE26320_REPS = ['rep1', 'rep2']\n",
    "\n",
    "IMMUNE_PATH = os.path.expanduser('~/data/2023_Immune')\n",
    "IMMUNE_CELLS = ['CD4ABT', 'TCellBB', 'BCell', 'TCell', 'Monocyte', 'PBMC', 'NK', 'CD34', 'CD4', ]  ## Longest first\n",
    "IMMUNE_REPS = ['rep1', 'rep2', 'rep3', '']\n",
    "\n",
    "! mkdir -p {GSE26320_PATH}/pics\n",
    "! mkdir -p {IMMUNE_PATH}/pics"
   ],
   "metadata": {
    "collapsed": false
   },
   "outputs": [],
   "execution_count": null
  },
  {
   "cell_type": "code",
   "source": [
    "TOOLS = ['MACS2', 'MACS2 broad', 'SPAN', 'SICER']\n",
    "palette = plt.get_cmap('tab10')\n",
    "TOOLS_PALETTE = {t: palette(i) for i, t in enumerate(TOOLS)}"
   ],
   "metadata": {
    "collapsed": false
   },
   "outputs": [],
   "execution_count": null
  },
  {
   "cell_type": "code",
   "source": [
    "def load_peaks(path, suffix, modifications, cells, replicates):\n",
    "    df = pd.DataFrame(columns=['file', 'modification', 'cell', 'replicate', 'peaks'],\n",
    "                      dtype=object)\n",
    "    for f in tqdm(os.listdir(path)):\n",
    "        if not f.endswith(suffix):\n",
    "            continue\n",
    "        cell = next((c for c in cells if c in f), None)\n",
    "        mod = next((m for m in modifications if m in f), None)\n",
    "        rep = next((r for r in replicates if r in f), None)\n",
    "        if cell and mod and rep is not None:\n",
    "            peaks_path = os.path.join(path, f)\n",
    "            ps = lines(peaks_path)\n",
    "            df.loc[len(df)] = (peaks_path, mod, cell, rep, ps)\n",
    "    return df"
   ],
   "metadata": {
    "collapsed": false
   },
   "outputs": [],
   "execution_count": null
  },
  {
   "cell_type": "code",
   "source": [
    "def load_peaks_path(path, modifications, cells, replicates):\n",
    "    df_macs2 = load_peaks(os.path.join(path, 'macs2'), '.narrowPeak', modifications, cells, replicates)\n",
    "    df_macs2['tool'] = 'MACS2'\n",
    "    print('MACS2', len(df_macs2))\n",
    "\n",
    "    df_macs2broad = load_peaks(os.path.join(path, 'macs2'), '.broadPeak', modifications, cells, replicates)\n",
    "    df_macs2broad['tool'] = 'MACS2 broad'\n",
    "    print('MACS2 broad', len(df_macs2broad))\n",
    "\n",
    "    df_sicer = load_peaks(os.path.join(path, 'sicer'), 'summary-FDR0.01', modifications, cells, replicates)\n",
    "    df_sicer['tool'] = 'SICER'\n",
    "    print('SICER', len(df_sicer))\n",
    "\n",
    "    df_span = load_peaks(os.path.join(path, 'span'), '.peak', modifications, cells, replicates)\n",
    "    # df_span = df_span[['_200_' in f for f in df_span['file']]]\n",
    "    df_span['tool'] = 'SPAN'\n",
    "    print('SPAN', len(df_span))\n",
    "\n",
    "    return pd.concat([df_macs2, df_macs2broad, df_sicer, df_span]).reset_index(drop=True)"
   ],
   "metadata": {
    "collapsed": false
   },
   "outputs": [],
   "execution_count": null
  },
  {
   "cell_type": "code",
   "source": [
    "df_encode_peaks = load_peaks_path(GSE26320_PATH, MODIFICATIONS, GSE26320_CELLS, GSE26320_REPS)\n",
    "df_encode_peaks['dataset'] = 'ENCODE'\n",
    "df_encode_peaks.sample(5)"
   ],
   "metadata": {
    "collapsed": false
   },
   "outputs": [],
   "execution_count": null
  },
  {
   "cell_type": "code",
   "source": [
    "df_immune_peaks = load_peaks_path(IMMUNE_PATH, MODIFICATIONS, IMMUNE_CELLS, IMMUNE_REPS)\n",
    "df_immune_peaks['dataset'] = 'Roadmap'\n",
    "df_immune_peaks.sample(5)"
   ],
   "metadata": {
    "collapsed": false
   },
   "outputs": [],
   "execution_count": null
  },
  {
   "cell_type": "code",
   "source": "df_peaks_full = pd.concat([df_encode_peaks, df_immune_peaks]).reset_index(drop=True)",
   "metadata": {
    "collapsed": false
   },
   "outputs": [],
   "execution_count": null
  },
  {
   "cell_type": "code",
   "source": [
    "# Remove outliers, see 2023 - figures.ipynb\n",
    "# Remove outliers\n",
    "OUTLIERS = [\n",
    "    ('H3K4me3', 'NK', ''),\n",
    "    ('H3K27ac', 'CD34', 'rep2'),\n",
    "    ('H3K4me1', 'NK', ''),\n",
    "    ('H3K27me3', 'BCell', ''),\n",
    "    ('H3K27me3', 'TCell', ''),\n",
    "]\n",
    "df_peaks = df_peaks_full.loc[[(m, c, r) not in OUTLIERS\n",
    "                              for _, (m, c, r) in df_peaks_full[['modification', 'cell', 'replicate']].iterrows()]].copy()"
   ],
   "metadata": {
    "collapsed": false
   },
   "outputs": [],
   "execution_count": null
  },
  {
   "cell_type": "code",
   "source": [
    "plt.figure(figsize=(6, 3))\n",
    "axs = [plt.subplot(1, 2, i + 1) for i in range(2)]\n",
    "for i, m in enumerate(MODIFICATIONS):\n",
    "    ax = axs[i]\n",
    "    sns.barplot(data=df_peaks[df_peaks['modification'] == m], x='tool', y='peaks', hue='dataset',\n",
    "                capsize=.2, err_kws={'linewidth': 2}, edgecolor=\"black\",\n",
    "                # palette=TOOLS_PALETTE,\n",
    "                order=['MACS2', 'MACS2 broad', 'SPAN', 'SICER'],\n",
    "                ax=ax)\n",
    "    sns.swarmplot(data=df_peaks[df_peaks['modification'] == m], x='tool', y='peaks',  hue='dataset',\n",
    "                  dodge=True, size=3, color=\"black\", alpha=0.5,\n",
    "                  order=['MACS2', 'MACS2 broad', 'SPAN', 'SICER'],\n",
    "                  ax=ax)\n",
    "    ax.xaxis.set_tick_params(rotation=90)\n",
    "    ax.title.set_text(m)\n",
    "    if i > 0:\n",
    "        ax.set_ylabel(None)\n",
    "    else:\n",
    "        ax.set_ylabel('peaks')\n",
    "    if i < 1:\n",
    "        ax.legend().set_visible(False)\n",
    "    else:\n",
    "        # Put a legend to the right of the current axis\n",
    "        ax.legend(loc='center left', bbox_to_anchor=(1, 0.5))\n",
    "\n",
    "    # ax.set_ylim(0, 1.9e7)\n",
    "plt.tight_layout()\n",
    "# plt.savefig(GSE26320_PATH_HG38 + f'/pics/library_mapped_detailed_all.pdf', bbox_inches='tight', dpi=300)\n",
    "plt.show()"
   ],
   "metadata": {
    "collapsed": false
   },
   "outputs": [],
   "execution_count": null
  },
  {
   "cell_type": "markdown",
   "source": [
    "# RNA-seq vs\n",
    "\n",
    "Benchmark according to the paper https://doi.org/10.1093/bib/bbw035\n",
    "Features that define the best ChIP-seq peak calling algorithms\n",
    "\n",
    "We considered a peak as positive if it overlaps the promoter of an expressed gene (RPKM > 0.5).\n",
    "The top 15 000 peak calls from the different methods are ranked by their significance or by their fold enrichment for the thresholding method. We plotted the correct peak fraction (fraction of the top 1000xn peaks that overlap with active promoters) detected as a function of the correct promoter fraction (fraction of the active promoters that overlap with the top 1000xn peaks)."
   ],
   "metadata": {
    "collapsed": false
   }
  },
  {
   "metadata": {},
   "cell_type": "code",
   "source": [
    "# V29 was used with RSEM for genes quantification in ENCODE pipeline\n",
    "\n",
    "print('Parse GTF data')\n",
    "gtf_df = pd.read_csv(os.path.expanduser('~/data/gencode.v29.annotation.gtf'),\n",
    "    sep='\\t', comment='#',\n",
    "    names=['chromosome', 'db', 'type', 'start', 'end', 'point1', 'strand', 'point2', 'aux'])\n",
    "print(len(gtf_df))\n",
    "gtf_df.head(5)"
   ],
   "outputs": [],
   "execution_count": null
  },
  {
   "cell_type": "code",
   "source": [
    "import re\n",
    "print('Parse GTF aux data')\n",
    "auxes = {}\n",
    "for i, aux in enumerate(tqdm(gtf_df['aux'])):\n",
    "    for pair in aux.split(';'):\n",
    "        kv = pair.strip().split(' ')\n",
    "        if len(kv) != 2:\n",
    "            continue\n",
    "        k, v = kv\n",
    "        if k not in auxes:\n",
    "            auxes[k] = vs = []\n",
    "        else:\n",
    "            vs = auxes[k]\n",
    "        vs.append(v.strip('\"'))\n",
    "\n",
    "for k, vs in auxes.items():\n",
    "    if len(vs) == len(gtf_df):\n",
    "        gtf_df[k] = vs\n",
    "    else:\n",
    "        print(f'Ignoring {k}')\n",
    "del auxes\n",
    "gtf_df.drop('aux', axis=1, inplace=True)\n",
    "\n",
    "print(len(gtf_df))\n",
    "# Fix . suffix in gene_id\n",
    "gtf_df['gene_id'] = [re.sub('\\\\..*', '', gid) for gid in gtf_df['gene_id']]\n",
    "\n",
    "gtf_df.head(5)"
   ],
   "metadata": {
    "collapsed": false
   },
   "outputs": [],
   "execution_count": null
  },
  {
   "cell_type": "code",
   "source": [
    "print(f'Total hg38 records {len(gtf_df)}')\n",
    "print(f'Total hg38 transcript {sum((gtf_df[\"type\"] == \"transcript\"))}')\n",
    "print(f'Total hg38 genes {sum((gtf_df[\"type\"] == \"gene\"))}')\n",
    "print(f'Total hg38 protein coding transcripts {sum((gtf_df[\"type\"] == \"gene\") & (gtf_df[\"gene_type\"] == \"protein_coding\"))}')\n",
    "gtf_genes_df = gtf_df[(gtf_df[\"type\"] == \"gene\")]\n",
    "print(len(gtf_genes_df))\n",
    "gtf_genes_df.head(5)"
   ],
   "metadata": {
    "collapsed": false
   },
   "outputs": [],
   "execution_count": null
  },
  {
   "cell_type": "markdown",
   "source": "## Annotate quanitified RNA-seq with positions",
   "metadata": {
    "collapsed": false
   }
  },
  {
   "cell_type": "code",
   "source": [
    "import re\n",
    "\n",
    "GSE26320_RNASEQ_PATH = os.path.expanduser('~/data/2023_GSE26320_rnaseq')\n",
    "\n",
    "GSE26320_EXPRESSION_TSV = {\n",
    "    ('GM12878', 'rep1') : GSE26320_RNASEQ_PATH + '/GM12878_rep1_RNAseq_hg38_ENCFF723ICA.tsv',\n",
    "    ('GM12878', 'rep2'): GSE26320_RNASEQ_PATH + '/GM12878_rep2_RNAseq_hg38_ENCFF418FIT.tsv',\n",
    "    ('H1', 'rep1') : GSE26320_RNASEQ_PATH + '/H1_rep1_RNAseq_hg38_ENCFF093NEQ.tsv',\n",
    "    ('H1', 'rep2') : GSE26320_RNASEQ_PATH + '/H1_rep1_RNAseq_hg38_ENCFF093NEQ.tsv',\n",
    "    ('HMEC', 'rep1') : GSE26320_RNASEQ_PATH + '/HMEC_rep1_RNAseq_hg38_ENCFF292FVY.tsv',\n",
    "    ('HMEC', 'rep2') : GSE26320_RNASEQ_PATH + '/HMEC_rep2_RNAseq_hg38_ENCFF219EZH.tsv',\n",
    "    ('HSMM', 'rep1') : GSE26320_RNASEQ_PATH + '/HSMM_rep1_RNAseq_hg38_ENCFF551YKI.tsv',\n",
    "    ('HSMM', 'rep2') : GSE26320_RNASEQ_PATH + '/HSMM_rep2_RNAseq_hg38_ENCFF497BUG.tsv',\n",
    "    ('HepG2', 'rep1') : GSE26320_RNASEQ_PATH + '/HepG2_rep1_RNAseq_hg38_ENCFF773JNC.tsv',\n",
    "    ('HepG2', 'rep2') : GSE26320_RNASEQ_PATH + '/HepG2_rep2_RNAseq_hg38_ENCFF570ZOT.tsv',\n",
    "    ('Huvec', 'rep1') : GSE26320_RNASEQ_PATH + '/Huvec_rep1_RNAseq_hg38_ENCFF454MTF.tsv',\n",
    "    ('Huvec', 'rep2') : GSE26320_RNASEQ_PATH + '/Huvec_rep2_RNAseq_hg38_ENCFF134FYP.tsv',\n",
    "    ('K562', 'rep1') : GSE26320_RNASEQ_PATH + '/K562_rep1_RNAseq_hg38_ENCFF139IXQ.tsv',\n",
    "    ('K562', 'rep2') : GSE26320_RNASEQ_PATH + '/K562_rep2_RNAseq_hg38_ENCFF088RDE.tsv',\n",
    "    ('NHEK', 'rep1') : GSE26320_RNASEQ_PATH + '/NHEK_rep1_RNAseq_hg38_ENCFF004JWA.tsv',\n",
    "    ('NHEK', 'rep2') : GSE26320_RNASEQ_PATH + '/NHEK_rep1_RNAseq_hg38_ENCFF004JWA.tsv',\n",
    "    ('NHLF', 'rep1') : GSE26320_RNASEQ_PATH + '/NHLF_rep1_RNAseq_hg38_ENCFF577DEC.tsv',\n",
    "    ('NHLF', 'rep2') : GSE26320_RNASEQ_PATH + '/NHLF_rep2_RNAseq_hg38_ENCFF412KNK.tsv'\n",
    "}"
   ],
   "metadata": {
    "collapsed": false
   },
   "outputs": [],
   "execution_count": null
  },
  {
   "cell_type": "code",
   "source": [
    "IMMUNE_EXPRESSION_TSV = {\n",
    "    ('BCell', ''): IMMUNE_PATH + '/expression/BCell_RNAseq_hg38_ENCFF947SKG.tsv',\n",
    "    ('TCell', ''): IMMUNE_PATH + '/expression/TCell_RNAseq_hg38_ENCFF502AZI.tsv',\n",
    "    ('Monocyte', ''): IMMUNE_PATH + '/expression/Monocyte_RNAseq_hg38_ENCFF408GAO.tsv',\n",
    "}"
   ],
   "metadata": {
    "collapsed": false
   },
   "outputs": [],
   "execution_count": null
  },
  {
   "cell_type": "markdown",
   "source": "## Prepare track with TSS / Bodies of expressed genes",
   "metadata": {
    "collapsed": false
   }
  },
  {
   "metadata": {
    "collapsed": false
   },
   "cell_type": "code",
   "source": [
    "def merge_genes(full_df):\n",
    "    print('Merging overlapping regions', len(full_df))\n",
    "    ts = []\n",
    "    for chr in full_df['chromosome'].unique():\n",
    "        t = full_df[full_df['chromosome'] == chr].sort_values(by=['start', 'end']).copy()\n",
    "        cols = t.columns.difference(['start', 'end', 'chromosome', 'gene_id', 'strand'])\n",
    "        grps = t['start'].sub(t['end'].shift()).gt(1).cumsum()\n",
    "        gpby = t.groupby(grps)\n",
    "        t = gpby.agg(dict(start='min', end='max')).join(gpby[cols].mean())\n",
    "        t['chromosome'] = chr\n",
    "        t['gene_id'] = 'merged'\n",
    "        t['strand'] = '.'\n",
    "        t = t[['chromosome', 'start', 'end', 'gene_id', 'strand', 'TPM']]\n",
    "        ts.append(t)\n",
    "    ts = pd.concat(ts).reset_index(drop=True)\n",
    "    print('Reduced to', len(ts))\n",
    "    return ts"
   ],
   "outputs": [],
   "execution_count": null
  },
  {
   "metadata": {
    "collapsed": false
   },
   "cell_type": "code",
   "source": [
    "TSS = 500  # TSS width\n",
    "EXPRESSED = 15_000  # Top expressed protein coding genes\n",
    "\n",
    "def prepare_expressed(expression_tsv):\n",
    "    result_tss = {}\n",
    "    result_gene = {}\n",
    "    for (cell, rep), path in tqdm(expression_tsv.items()):\n",
    "        t = pd.read_csv(path, sep='\\t')\n",
    "        # Fix . suffix in gene_id\n",
    "        t['gene_id'] = [re.sub('\\\\..*', '', gid) for gid in t['gene_id']]\n",
    "        t['name'] = f'{cell} {rep}'\n",
    "        print(cell, rep, path, len(t))\n",
    "\n",
    "        full_df = pd.merge(left=t, right=gtf_genes_df, left_on='gene_id', right_on='gene_id')\n",
    "        print(f'Total genes with positions {len(full_df)}')\n",
    "\n",
    "        # Compute expression threshold\n",
    "        tpms = list(full_df['TPM'])\n",
    "        if len(tpms) <= EXPRESSED:\n",
    "            print('Not enough genes with locations to proceed')\n",
    "        tpms.sort(reverse=True)\n",
    "        threshold = tpms[min(EXPRESSED, len(tpms) - 1)]\n",
    "        print(f'TOP {EXPRESSED} threshold {threshold}')\n",
    "\n",
    "        # Save expressed genes\n",
    "        full_df = full_df[full_df['TPM'] > threshold].copy()\n",
    "        full_df.sort_values(by=['chromosome', 'start'], inplace=True)\n",
    "\n",
    "        gene_path = path.replace('.tsv', f'_expr_bodies.bed')\n",
    "        full_df[['chromosome', 'start', 'end', 'gene_id', 'strand', 'TPM']].to_csv(\n",
    "            gene_path, sep='\\t', index=False, header=None)\n",
    "        print(f'Saved body expressed genes fom {cell} to {gene_path}')\n",
    "        result_gene[(cell, rep)] = gene_path\n",
    "\n",
    "        starts = [\n",
    "            max(1, start - TSS if strand == '+' else end - TSS)\n",
    "            for start, end, strand in zip(full_df['start'], full_df['end'], full_df['strand'])\n",
    "        ]\n",
    "        ends = [\n",
    "            start + TSS if strand == '+' else end + TSS\n",
    "            for start, end, strand in zip(full_df['start'], full_df['end'], full_df['strand'])\n",
    "        ]\n",
    "        full_df['start'] = starts\n",
    "        full_df['end'] = ends\n",
    "        full_df = full_df[['chromosome', 'start', 'end', 'gene_id', 'strand', 'TPM']]\n",
    "        full_df.sort_values(by=['chromosome', 'start', 'end'], inplace=True)\n",
    "        full_df = merge_genes(full_df)\n",
    "\n",
    "        tss_path = path.replace('.tsv', f'_expr_tss{TSS}.bed')\n",
    "        full_df.to_csv(tss_path, sep='\\t', index=False, header=None)\n",
    "        print(f'Saved TSS expressed genes fom {cell} to {tss_path}')\n",
    "        result_tss[(cell, rep)] = tss_path\n",
    "\n",
    "        # print('Plot expression')\n",
    "        # plt.figure(figsize=(7, 2))\n",
    "        # ax = plt.axes()\n",
    "        # sns.histplot(data=pd.concat(ts).reset_index(drop=True),\n",
    "        #              x='TPM', stat='density', bins=500, kde=True, alpha=0.4,\n",
    "        #              ax=ax)\n",
    "        # ax.axvline(x=threshold, color='green')\n",
    "        # ax.title.set_text('Expression')\n",
    "        # ax.set_xlim(0, 3)\n",
    "        # ax.set(xscale='log')\n",
    "        # plt.tight_layout()\n",
    "        # plt.show()\n",
    "    return result_gene, result_tss"
   ],
   "outputs": [],
   "execution_count": null
  },
  {
   "cell_type": "code",
   "source": [
    "encode_expression, encode_tss_expression = prepare_expressed(GSE26320_EXPRESSION_TSV)"
   ],
   "metadata": {
    "collapsed": false
   },
   "outputs": [],
   "execution_count": null
  },
  {
   "cell_type": "code",
   "source": [
    "immune_expression, immune_tss_expression = prepare_expressed(IMMUNE_EXPRESSION_TSV)\n",
    "# Hg38 Recovered promoter fraction / Correct peak fraction\n",
    "\n",
    "def promote_fraction(df_peaks, expression_tss):\n",
    "    PyRanges()\n",
    "    rows = []\n",
    "    for _, (c, r, tool, file) in tqdm(list(df_peaks[df_peaks['modification'] == 'H3K4me3']\n",
    "                                      [['cell', 'replicate', 'tool', 'file']].iterrows())):\n",
    "        # print(c, r, tool, file)\n",
    "        if (c, r) not in expression_tss:\n",
    "            continue\n",
    "        tss_file = pr.read_bed(sorted_file(expression_tss[c, r]))\n",
    "        tss = len(tss_file)\n",
    "        if lines(file) == 0:\n",
    "            for top in np.linspace(1000, 15000, 15):\n",
    "                rows.append((c, r, top, tss, file, 0, 0, 0, tool))\n",
    "            continue\n",
    "        peaks_file = pr.read_bed(sorted_file(file), as_df=True)\n",
    "        peaks_file.sort_values(\n",
    "            by=peaks_file.columns[8] if len(peaks_file.columns) >= 9 else peaks_file.columns[4],\n",
    "            ascending=False, inplace=True\n",
    "        )\n",
    "        for top in np.linspace(1000, 15000, 15):\n",
    "            t = PyRanges(peaks_file.head(int(top)).sort_values(by=['Chromosome', 'Start']))\n",
    "            peaks = len(t)\n",
    "            peaks_overlap = len(t.overlap(tss_file))\n",
    "            tss_overlap = len(tss_file.overlap(t))\n",
    "            rows.append((c, r, top, tss, file, peaks, peaks_overlap, tss_overlap, tool))\n",
    "\n",
    "    df = pd.DataFrame(\n",
    "        rows,\n",
    "        columns=['cell', 'replicate', 'top', 'genes', 'peaks_file', 'peaks', 'pg', 'gp', 'tool'],\n",
    "        dtype=object\n",
    "    )\n",
    "    df['p'] = (df['pg'] + df['gp']) / 2\n",
    "    df['precision'] = [d(x, y) for x, y in zip(df['pg'], df['peaks'])]\n",
    "    df['sensitivity'] = [d(x, y) for x, y in zip(df['gp'], df['genes'])]\n",
    "    df['f1'] = [\n",
    "        2 / (d(1, s + 1e-10) + d(1, p + 1e-10))\n",
    "        for s, p in zip(df['sensitivity'], df['precision'])]\n",
    "    return df"
   ],
   "metadata": {
    "collapsed": false
   },
   "outputs": [],
   "execution_count": null
  },
  {
   "cell_type": "code",
   "source": [
    "encode_cpf_df = promote_fraction(df_encode_peaks, encode_tss_expression)\n",
    "encode_cpf_df.sample(3)"
   ],
   "metadata": {
    "collapsed": false
   },
   "outputs": [],
   "execution_count": null
  },
  {
   "cell_type": "code",
   "source": [
    "immune_cpf_df = promote_fraction(df_immune_peaks, immune_tss_expression)\n",
    "immune_cpf_df.sample(3)"
   ],
   "metadata": {
    "collapsed": false
   },
   "outputs": [],
   "execution_count": null
  },
  {
   "cell_type": "code",
   "source": [
    "print('ENCODE')\n",
    "plt.figure(figsize=(4, 4))\n",
    "for (c, r, t), dft in encode_cpf_df.groupby(['cell', 'replicate', 'tool']):    \n",
    "    plt.plot(dft['precision'], dft['sensitivity'], marker='.', color=TOOLS_PALETTE[t], alpha=0.8)\n",
    "plt.title('Peaks vs active gene promoters')\n",
    "plt.xlabel('Peaks fraction (precision)')\n",
    "plt.ylabel('Promoter fraction (sensitivity)')\n",
    "plt.tight_layout()\n",
    "plt.show()"
   ],
   "metadata": {
    "collapsed": false
   },
   "outputs": [],
   "execution_count": null
  },
  {
   "metadata": {},
   "cell_type": "code",
   "source": "encode_cpf_df[encode_cpf_df['precision'] < 0.3]",
   "outputs": [],
   "execution_count": null
  },
  {
   "cell_type": "code",
   "source": [
    "print('ENCODE')\n",
    "plt.figure(figsize=(4, 4))\n",
    "cr = encode_cpf_df[(encode_cpf_df['cell'] == 'K562') & (encode_cpf_df['replicate'] == 'rep1')]\n",
    "for (c, r, t), dft in cr.groupby(['cell', 'replicate', 'tool']):\n",
    "    plt.plot(dft['precision'], dft['sensitivity'], marker='o', color=TOOLS_PALETTE[t], alpha=1)\n",
    "plt.title('Peaks vs active gene promoters')\n",
    "plt.xlabel('Peaks fraction (precision)')\n",
    "plt.ylabel('Promoter fraction (sensitivity)')\n",
    "plt.tight_layout()\n",
    "plt.show()"
   ],
   "metadata": {
    "collapsed": false
   },
   "outputs": [],
   "execution_count": null
  },
  {
   "cell_type": "code",
   "source": [
    "print('Roadmap')\n",
    "plt.figure(figsize=(4, 4))\n",
    "for (c, r, t), dft in immune_cpf_df.groupby(['cell', 'replicate', 'tool']):\n",
    "    plt.plot(dft['precision'], dft['sensitivity'], marker='.', color=TOOLS_PALETTE[t], alpha=0.8)\n",
    "plt.title('Peaks vs active gene promoters')\n",
    "plt.xlabel('Peaks fraction (precision)')\n",
    "plt.ylabel('Promoter fraction (sensitivity)')\n",
    "plt.tight_layout()\n",
    "plt.show()"
   ],
   "metadata": {
    "collapsed": false
   },
   "outputs": [],
   "execution_count": null
  },
  {
   "cell_type": "code",
   "source": [
    "print('Immune')\n",
    "plt.figure(figsize=(4, 4))\n",
    "cr = immune_cpf_df[immune_cpf_df['cell'] == 'TCell']\n",
    "for (c, r, t), dft in cr.groupby(['cell', 'replicate', 'tool']):\n",
    "    plt.plot(dft['precision'], dft['sensitivity'], marker='o', color=TOOLS_PALETTE[t], alpha=1)\n",
    "plt.title('Peaks vs active gene promoters')\n",
    "plt.xlabel('Peaks fraction (precision)')\n",
    "plt.ylabel('Promoter fraction (sensitivity)')\n",
    "plt.tight_layout()\n",
    "plt.show()"
   ],
   "metadata": {
    "collapsed": false
   },
   "outputs": [],
   "execution_count": null
  },
  {
   "metadata": {},
   "cell_type": "code",
   "source": [
    "print('ENCODE + Roadmap')\n",
    "plt.figure(figsize=(5, 3.5))\n",
    "t1 = encode_cpf_df[(encode_cpf_df['cell'] == 'K562') & (encode_cpf_df['replicate'] == 'rep1')].copy()\n",
    "t1['dataset'] = 'ENCODE'\n",
    "t2 = immune_cpf_df[immune_cpf_df['cell'] == 'TCell'].copy()\n",
    "t2['dataset'] = 'Roadmap'\n",
    "cr = pd.concat([t1, t2]).reset_index(drop=True)\n",
    "ax = plt.axes()\n",
    "sns.lineplot(\n",
    "    data=cr,\n",
    "    x='precision', y='sensitivity', style='dataset',\n",
    "    hue='tool',\n",
    "    markers=True, sort=False,\n",
    "    palette=TOOLS_PALETTE,\n",
    "    ax=ax\n",
    ")\n",
    "\n",
    "# Put a legend to the right of the current axis\n",
    "ax.legend(loc='center left', bbox_to_anchor=(1, 0.5))\n",
    "\n",
    "plt.title('Peaks vs active gene promoters')\n",
    "plt.xlabel('Peaks fraction (precision)')\n",
    "plt.ylabel('Promoter fraction (sensitivity)')\n",
    "plt.tight_layout()\n",
    "plt.show()"
   ],
   "outputs": [],
   "execution_count": null
  },
  {
   "metadata": {},
   "cell_type": "code",
   "source": [
    "g = sns.FacetGrid(cr, hue=\"tool\", row=\"dataset\", height=1.8, aspect=1.5, palette=TOOLS_PALETTE, \n",
    "                  hue_order=['MACS2', 'MACS2 broad', 'SPAN', 'SICER'], sharex=False)\n",
    "g.map(sns.lineplot, \"precision\", \"sensitivity\", sort=False)\n",
    "g.add_legend()\n",
    "plt.show()"
   ],
   "outputs": [],
   "execution_count": null
  },
  {
   "cell_type": "markdown",
   "source": [
    "## Average precision\n",
    "\n",
    "AP summarizes a precision-recall curve as the weighted mean of precisions achieved at each threshold, with the increase in recall from the previous threshold used as the weight:\n",
    "\n",
    "AP = ∑(Rn−Rn−1)*Pn, where  Pn and Rn are the precision and recall at the nth threshold.\n",
    "\n",
    "This implementation is not interpolated and is different from computing the area under the precision-recall curve with the trapezoidal rule, which uses linear interpolation and can be too optimistic."
   ],
   "metadata": {
    "collapsed": false
   }
  },
  {
   "cell_type": "code",
   "source": [
    "rows = []\n",
    "for (c, r, t), dft in encode_cpf_df.groupby(['cell', 'replicate', 'tool']):\n",
    "    ap = 0\n",
    "    sprev, pprev = 0, 0\n",
    "    for _, row in dft.iterrows():\n",
    "        ap += (row['sensitivity'] - sprev) * (row['precision'] + pprev) / 2\n",
    "        sprev, pprev = row['sensitivity'], row['precision']\n",
    "    rows.append((c, r, t, ap))\n",
    "encode_aps_df = pd.DataFrame(rows, columns=['cell', 'replicate', 'tool', 'auc'])\n",
    "del rows\n",
    "encode_aps_df.sample(3)"
   ],
   "metadata": {
    "collapsed": false
   },
   "outputs": [],
   "execution_count": null
  },
  {
   "cell_type": "code",
   "source": [
    "print('ENCODE')\n",
    "plt.figure(figsize=(3, 4))\n",
    "ax = plt.axes()\n",
    "ax.title.set_text('Peaks vs promoters AUC')\n",
    "sns.barplot(data=encode_aps_df, x='tool', y='auc',\n",
    "            capsize=.2, err_kws={'linewidth': 2},\n",
    "            hue='tool', legend=False, palette=TOOLS_PALETTE,\n",
    "            order=['MACS2', 'MACS2 broad', 'SPAN', 'SICER'],\n",
    "            ax=ax)\n",
    "sns.swarmplot(data=encode_aps_df, x='tool', y='auc',\n",
    "              dodge=True, size=3, color=\"black\", alpha=0.5,\n",
    "              order=['MACS2', 'MACS2 broad', 'SPAN', 'SICER'],\n",
    "              ax=ax)\n",
    "\n",
    "ax.xaxis.set_tick_params(rotation=90)\n",
    "ax.set_ylabel('AUC')\n",
    "plt.tight_layout()\n",
    "plt.show()"
   ],
   "metadata": {
    "collapsed": false
   },
   "outputs": [],
   "execution_count": null
  },
  {
   "cell_type": "code",
   "source": [
    "rows = []\n",
    "for (c, r, t), dft in immune_cpf_df.groupby(['cell', 'replicate', 'tool']):\n",
    "    ap = 0\n",
    "    sprev, pprev = 0, 0\n",
    "    for _, row in dft.iterrows():\n",
    "        ap += (row['sensitivity'] - sprev) * (row['precision'] + pprev) / 2\n",
    "        sprev, pprev = row['sensitivity'], row['precision']\n",
    "    rows.append((c, r, t, ap))\n",
    "immune_aps_df = pd.DataFrame(rows, columns=['cell', 'replicate', 'tool', 'auc'])\n",
    "del rows\n",
    "immune_aps_df.sample(3)"
   ],
   "metadata": {
    "collapsed": false
   },
   "outputs": [],
   "execution_count": null
  },
  {
   "cell_type": "code",
   "source": [
    "print('Roadmap')\n",
    "plt.figure(figsize=(3, 4))\n",
    "ax = plt.axes()\n",
    "ax.title.set_text('Peaks vs promoters AUC')\n",
    "sns.barplot(data=immune_aps_df, x='tool', y='auc',\n",
    "            capsize=.2, err_kws={'linewidth': 2},\n",
    "            hue='tool', legend=False, palette=TOOLS_PALETTE,\n",
    "            order=['MACS2', 'MACS2 broad', 'SPAN', 'SICER'],\n",
    "            ax=ax)\n",
    "sns.swarmplot(data=encode_aps_df, x='tool', y='auc',\n",
    "              dodge=True, size=3, color=\"black\", alpha=0.5,\n",
    "              order=['MACS2', 'MACS2 broad', 'SPAN', 'SICER'],\n",
    "              ax=ax)\n",
    "ax.xaxis.set_tick_params(rotation=90)\n",
    "ax.set_ylabel('AUC')\n",
    "plt.tight_layout()\n",
    "plt.show()"
   ],
   "metadata": {
    "collapsed": false
   },
   "outputs": [],
   "execution_count": null
  },
  {
   "metadata": {},
   "cell_type": "code",
   "source": [
    "print('Roadmap + ENCODE')\n",
    "encode_aps_df['dataset'] = 'ENCODE'\n",
    "immune_aps_df['dataset'] = 'Roadmap'\n",
    "t = pd.concat([encode_aps_df, immune_aps_df]).reset_index(drop=True)\n",
    "plt.figure(figsize=(5, 4))\n",
    "ax = plt.axes()\n",
    "ax.title.set_text('Peaks vs promoters AUC')\n",
    "sns.barplot(data=t, x='dataset', y='auc', hue='tool',\n",
    "            capsize=.2, err_kws={'linewidth': 2},\n",
    "            palette=TOOLS_PALETTE,\n",
    "            hue_order=['MACS2', 'MACS2 broad', 'SPAN', 'SICER'],\n",
    "            ax=ax)\n",
    "sns.swarmplot(data=t, x='dataset', y='auc', hue='tool',\n",
    "              dodge=True, size=3, color=\"black\", alpha=0.5, palette='dark:black',\n",
    "              hue_order=['MACS2', 'MACS2 broad', 'SPAN', 'SICER'], \n",
    "              legend=False,\n",
    "              ax=ax)\n",
    "ax.xaxis.set_tick_params(rotation=90)\n",
    "# Put a legend to the right of the current axis\n",
    "ax.legend(loc='center left', bbox_to_anchor=(1, 0.5))\n",
    "ax.set_ylabel('AUC')\n",
    "plt.tight_layout()\n",
    "plt.show()"
   ],
   "outputs": [],
   "execution_count": null
  },
  {
   "cell_type": "markdown",
   "source": [
    "# Jaccard H3K36me3 vs expressed genes bodies"
   ],
   "metadata": {
    "collapsed": false
   }
  },
  {
   "cell_type": "code",
   "source": [
    "\n",
    "\n",
    "def genes_overlap(df_peaks, expression):\n",
    "    rows = []\n",
    "    for _, (c, r, tool, file) in tqdm(list(df_peaks[df_peaks['modification'] == 'H3K36me3']\n",
    "                                      [['cell', 'replicate', 'tool', 'file']].iterrows())):\n",
    "        # print(c, r, tool, file)\n",
    "        if (c, r) not in expression:\n",
    "            continue\n",
    "        genes_file = pr.read_bed(sorted_file(expression[c, r]))\n",
    "        genes = len(genes_file)\n",
    "        genes_len = genes_file.lengths().sum()\n",
    "        peaks = lines(file)\n",
    "        if peaks == 0:\n",
    "            rows.append((c, r, tool, 0, 0, genes, genes_len, 0, 0, 0))\n",
    "            continue\n",
    "        peaks_file = pr.read_bed(sorted_file(file))\n",
    "        peaks_len = bedl(peaks_file).sum()\n",
    "        peaks_overlap = len(peaks_file.overlap(genes_file)) \n",
    "        genes_overlap = len(genes_file.overlap(peaks_file))\n",
    "        overlap_len = peaks_file.intersect(genes_file).lengths().sum()\n",
    "        rows.append((c, r, tool, \n",
    "                     peaks, peaks_len, genes, genes_len,\n",
    "                     peaks_overlap, genes_overlap, overlap_len))\n",
    "\n",
    "    df = pd.DataFrame(\n",
    "        rows,\n",
    "        columns=['cell', 'replicate', 'tool',\n",
    "                 'peaks', 'peaks_len', 'genes', 'genes_len',\n",
    "                 'peaks_overlap', 'genes_overlap', 'overlap_len'],\n",
    "        dtype=object\n",
    "    )\n",
    "    df['precision'] = [d(a, b) for a, b in zip(df['peaks_overlap'], df['peaks'])]\n",
    "    df['sensitivity'] = [d(a, b) for a, b in zip(df['genes_overlap'], df['genes'])]\n",
    "    df['f1'] = [d(2, d(1, s + 1e-10) + d(1, p + 1e-10))\n",
    "                      for s, p in zip(df['sensitivity'], df['precision'])]\n",
    "\n",
    "    df['jaccard'] = [\n",
    "        d(o, p + g -o)\n",
    "        for p, g, o in zip(df['peaks_len'], df['genes_len'], df['overlap_len'])\n",
    "    ]\n",
    "    return df"
   ],
   "metadata": {
    "collapsed": false
   },
   "outputs": [],
   "execution_count": null
  },
  {
   "cell_type": "code",
   "source": [
    "encode_genes_df = genes_overlap(df_encode_peaks, encode_expression)\n",
    "encode_genes_df.sample(3)"
   ],
   "metadata": {
    "collapsed": false
   },
   "outputs": [],
   "execution_count": null
  },
  {
   "cell_type": "code",
   "source": [
    "print('ENCODE')\n",
    "plt.figure(figsize=(3, 4))\n",
    "ax = plt.axes()\n",
    "ax.title.set_text('Jaccard vs expressed genes')\n",
    "sns.barplot(data=encode_genes_df, x='tool', y='jaccard',\n",
    "            capsize=.2, err_kws={'linewidth': 2},\n",
    "            hue='tool', legend=False, palette=TOOLS_PALETTE,\n",
    "            order=['MACS2', 'MACS2 broad', 'SPAN', 'SICER'],\n",
    "            ax=ax,)\n",
    "sns.swarmplot(data=encode_genes_df, x='tool', y='jaccard',\n",
    "              dodge=True, size=3, color=\"black\", alpha=0.5,\n",
    "              order=['MACS2', 'MACS2 broad', 'SPAN', 'SICER'],\n",
    "              ax=ax)\n",
    "ax.xaxis.set_tick_params(rotation=90)\n",
    "ax.set_ylabel('Jaccard')\n",
    "plt.tight_layout()\n",
    "plt.show()"
   ],
   "metadata": {
    "collapsed": false
   },
   "outputs": [],
   "execution_count": null
  },
  {
   "cell_type": "code",
   "source": [
    "immune_genes_df = genes_overlap(df_immune_peaks, immune_expression)\n",
    "immune_genes_df.sample(3)"
   ],
   "metadata": {
    "collapsed": false
   },
   "outputs": [],
   "execution_count": null
  },
  {
   "cell_type": "code",
   "source": [
    "print('Roadmap')\n",
    "plt.figure(figsize=(3, 4))\n",
    "ax = plt.axes()\n",
    "ax.title.set_text('Jaccard vs expressed genes')\n",
    "sns.barplot(data=immune_genes_df, x='tool', y='jaccard',\n",
    "            capsize=.2, err_kws={'linewidth': 2},\n",
    "            hue='tool', legend=False, palette=TOOLS_PALETTE,\n",
    "            order=['MACS2', 'MACS2 broad', 'SPAN', 'SICER'],\n",
    "            ax=ax)\n",
    "sns.swarmplot(data=immune_genes_df, x='tool', y='jaccard',\n",
    "              dodge=True, size=3, color=\"black\", alpha=0.5,\n",
    "              order=['MACS2', 'MACS2 broad', 'SPAN', 'SICER'],\n",
    "              ax=ax)\n",
    "ax.xaxis.set_tick_params(rotation=90)\n",
    "ax.set_ylabel('Jaccard')\n",
    "plt.tight_layout()\n",
    "plt.show()"
   ],
   "metadata": {
    "collapsed": false
   },
   "outputs": [],
   "execution_count": null
  },
  {
   "metadata": {},
   "cell_type": "code",
   "source": [
    "encode_genes_df['dataset'] = 'ENCODE'\n",
    "immune_genes_df['dataset'] = 'Roadmap'\n",
    "t = pd.concat([encode_genes_df, immune_genes_df]).reset_index(drop=True)\n",
    "plt.figure(figsize=(5, 4))\n",
    "ax = plt.axes()\n",
    "ax.title.set_text('Jaccard vs expressed genes')\n",
    "sns.barplot(data=t, x='dataset', y='jaccard', hue='tool',\n",
    "            capsize=0.2, err_kws={'linewidth': 2},\n",
    "            palette=TOOLS_PALETTE,\n",
    "            hue_order=['MACS2', 'MACS2 broad', 'SPAN', 'SICER'],\n",
    "            ax=ax)\n",
    "sns.swarmplot(data=t, x='dataset', y='jaccard', hue='tool',\n",
    "              dodge=True, size=3, color=\"black\", alpha=0.5, palette='dark:black',\n",
    "              hue_order=['MACS2', 'MACS2 broad', 'SPAN', 'SICER'], legend=False,\n",
    "              ax=ax)\n",
    "ax.xaxis.set_tick_params(rotation=90)\n",
    "ax.set_ylabel('Jaccard')\n",
    "# Put a legend to the right of the current axis\n",
    "ax.legend(loc='center left', bbox_to_anchor=(1, 0.5))\n",
    "plt.tight_layout()\n",
    "plt.show()"
   ],
   "outputs": [],
   "execution_count": null
  },
  {
   "cell_type": "markdown",
   "source": [
    "## Compare ratio of peaks to genes"
   ],
   "metadata": {
    "collapsed": false
   }
  },
  {
   "cell_type": "code",
   "source": [
    "import tempfile\n",
    "\n",
    "def genes_peaks_ratio(df_peaks, expression):\n",
    "    tf = tempfile.mktemp()\n",
    "\n",
    "    rows = []\n",
    "    for _, (c, r, tool, file) in tqdm(list(df_peaks[df_peaks['modification'] == 'H3K36me3']\n",
    "                                      [['cell', 'replicate', 'tool', 'file']].iterrows())):\n",
    "        # print(c, r, tool, file)\n",
    "        if (c, r) not in expression:\n",
    "            continue\n",
    "        genes_file = sorted_file(expression[c, r])\n",
    "        peaks_file = sorted_file(file)\n",
    "        ! echo \"\" > {tf}\n",
    "        ! bedtools intersect -a {genes_file} -b {peaks_file} -wa -wb > {tf}\n",
    "        expr_cols = len(pd.read_csv(genes_file, sep='\\t', header=None, nrows=1).columns)\n",
    "        try:\n",
    "            tf_expression = pd.read_csv(tf, sep='\\t', header=None)\n",
    "            genes = len(tf_expression.groupby([0, 1, 2]).count())\n",
    "            peaks = len(tf_expression.groupby([expr_cols, expr_cols + 1, expr_cols + 2]).count())\n",
    "            rows.append((c, r, tool, genes, peaks))\n",
    "        except:\n",
    "            pass\n",
    "\n",
    "    df = pd.DataFrame(\n",
    "        rows,\n",
    "        columns=['cell', 'replicate', 'tool', 'genes', 'peaks'],\n",
    "        dtype=object\n",
    "    )\n",
    "    df['peaks_to_genes'] = df['peaks'] / df['genes']\n",
    "    return df"
   ],
   "metadata": {
    "collapsed": false
   },
   "outputs": [],
   "execution_count": null
  },
  {
   "cell_type": "code",
   "source": [
    "encode_genes_ratios = genes_peaks_ratio(df_encode_peaks, encode_expression)\n",
    "encode_genes_ratios.sample(3)"
   ],
   "metadata": {
    "collapsed": false
   },
   "outputs": [],
   "execution_count": null
  },
  {
   "cell_type": "code",
   "source": [
    "print('ENCODE')\n",
    "plt.figure(figsize=(3, 4))\n",
    "ax = plt.axes()\n",
    "sns.barplot(data=encode_genes_ratios, y='peaks_to_genes', x='tool', \n",
    "            capsize=.2, err_kws={'linewidth': 2},\n",
    "            hue='tool', legend=False, palette=TOOLS_PALETTE,\n",
    "            order=['MACS2', 'MACS2 broad', 'SPAN', 'SICER'],\n",
    "            ax=ax)\n",
    "sns.swarmplot(data=encode_genes_ratios, y='peaks_to_genes', x='tool',\n",
    "              dodge=True, size=3, color=\"black\", alpha=0.5,\n",
    "              order=['MACS2', 'MACS2 broad', 'SPAN', 'SICER'],\n",
    "              ax=ax)\n",
    "ax.set_ylabel('Peaks per gene')\n",
    "ax.title.set_text('Ratio of peaks to genes')\n",
    "ax.xaxis.set_tick_params(rotation=90)\n",
    "plt.tight_layout()\n",
    "plt.show()"
   ],
   "metadata": {
    "collapsed": false
   },
   "outputs": [],
   "execution_count": null
  },
  {
   "cell_type": "code",
   "source": [
    "immune_genes_ratios = genes_peaks_ratio(df_immune_peaks, immune_expression)\n",
    "immune_genes_ratios.sample(3)"
   ],
   "metadata": {
    "collapsed": false
   },
   "outputs": [],
   "execution_count": null
  },
  {
   "cell_type": "code",
   "source": [
    "print('Immune')\n",
    "plt.figure(figsize=(3, 4))\n",
    "ax = plt.axes()\n",
    "sns.barplot(data=immune_genes_ratios, y='peaks_to_genes', x='tool',\n",
    "            capsize=.2, err_kws={'linewidth': 2},\n",
    "            hue='tool', legend=False, palette=TOOLS_PALETTE,\n",
    "            order=['MACS2', 'MACS2 broad', 'SPAN', 'SICER'],\n",
    "            ax=ax)\n",
    "sns.swarmplot(data=immune_genes_ratios, y='peaks_to_genes', x='tool',\n",
    "              dodge=True, size=3, color=\"black\", alpha=0.5,\n",
    "              order=['MACS2', 'MACS2 broad', 'SPAN', 'SICER'],\n",
    "              ax=ax)\n",
    "ax.set_ylabel('Peaks per gene')\n",
    "ax.title.set_text('Ratio of peaks to genes')\n",
    "ax.xaxis.set_tick_params(rotation=90)\n",
    "plt.tight_layout()\n",
    "plt.show()"
   ],
   "metadata": {
    "collapsed": false
   },
   "outputs": [],
   "execution_count": null
  },
  {
   "metadata": {},
   "cell_type": "code",
   "source": [
    "encode_genes_ratios['dataset'] = 'ENCODE'\n",
    "immune_genes_ratios['dataset'] = 'Roadmap'\n",
    "t = pd.concat([encode_genes_ratios, immune_genes_ratios]).reset_index(drop=True)\n",
    "plt.figure(figsize=(5, 4))\n",
    "ax = plt.axes()\n",
    "sns.barplot(data=t, y='peaks_to_genes', x='dataset', hue='tool',\n",
    "            capsize=.2, err_kws={'linewidth': 2},\n",
    "            palette=TOOLS_PALETTE,\n",
    "            hue_order=['MACS2', 'MACS2 broad', 'SPAN', 'SICER'],\n",
    "            ax=ax)\n",
    "sns.swarmplot(data=t, y='peaks_to_genes', x='dataset', hue='tool',\n",
    "              dodge=True, size=3, color=\"black\", alpha=0.5, palette='dark:black',\n",
    "              hue_order=['MACS2', 'MACS2 broad', 'SPAN', 'SICER'], legend=False,\n",
    "              ax=ax)\n",
    "ax.set_ylabel('Peaks per gene')\n",
    "ax.title.set_text('Ratio of peaks to genes')\n",
    "ax.xaxis.set_tick_params(rotation=90)\n",
    "# Put a legend to the right of the current axis\n",
    "ax.legend(loc='center left', bbox_to_anchor=(1, 0.5))\n",
    "plt.tight_layout()\n",
    "plt.show()"
   ],
   "outputs": [],
   "execution_count": null
  },
  {
   "cell_type": "markdown",
   "source": [
    "# H3K36me3 overlap vs genes benchmark"
   ],
   "metadata": {
    "collapsed": false
   }
  },
  {
   "cell_type": "code",
   "source": [
    "import pyranges as pr\n",
    "from pyranges import PyRanges\n",
    "\n",
    "\n",
    "def genes_overlap(df_peaks, expression_genes):\n",
    "\n",
    "    rows = []\n",
    "    for _, (c, r, tool, file) in tqdm(list(df_peaks[df_peaks['modification'] == 'H3K36me3']\n",
    "                                           [['cell', 'replicate', 'tool', 'file']].iterrows())):\n",
    "        # print(c, r, tool, file)\n",
    "        if (c, r) not in expression_genes:\n",
    "            continue\n",
    "        genes_file = pr.read_bed(sorted_file(expression_genes[c, r]))\n",
    "        genes = len(genes_file)\n",
    "        if lines(file) == 0:\n",
    "            for top in np.linspace(1000, 15000, 15):\n",
    "                rows.append((c, r, top, genes, file, 0, 0, 0, tool))\n",
    "            continue\n",
    "        peaks_file = pr.read_bed(sorted_file(file), as_df=True)\n",
    "        peaks_file.sort_values(\n",
    "            by=peaks_file.columns[8] if len(peaks_file.columns) >= 9 else peaks_file.columns[4],\n",
    "            ascending=False, inplace=True\n",
    "        )\n",
    "        for top in np.linspace(1000, 15000, 15):\n",
    "            t = PyRanges(peaks_file.head(int(top)).sort_values(by=['Chromosome', 'Start']))\n",
    "            peaks = len(t)\n",
    "            peaks_overlap = len(t.overlap(genes_file))\n",
    "            tss_overlap = len(genes_file.overlap(t))\n",
    "            rows.append((c, r, top, genes, file, peaks, peaks_overlap, tss_overlap, tool))\n",
    "\n",
    "    df = pd.DataFrame(\n",
    "        rows,\n",
    "        columns=['cell', 'replicate', 'top', 'genes', 'peaks_file', 'peaks', 'pg', 'gp', 'tool'],\n",
    "        dtype=object\n",
    "    )\n",
    "    df['p'] = (df['pg'] + df['gp']) / 2\n",
    "    df['precision'] = [d(x, y) for x, y in zip(df['pg'], df['peaks'])]\n",
    "    df['sensitivity'] = [d(x, y) for x, y in zip(df['gp'], df['genes'])]\n",
    "    df['f1'] = [\n",
    "        2 / (d(1, s + 1e-10) + d(1, p + 1e-10))\n",
    "        for s, p in zip(df['sensitivity'], df['precision'])]\n",
    "    return df"
   ],
   "metadata": {
    "collapsed": false
   },
   "outputs": [],
   "execution_count": null
  },
  {
   "cell_type": "code",
   "source": [
    "encode_genes_ovlp_df = genes_overlap(df_encode_peaks, encode_expression)\n",
    "encode_genes_ovlp_df.sample(3)"
   ],
   "metadata": {
    "collapsed": false
   },
   "outputs": [],
   "execution_count": null
  },
  {
   "cell_type": "code",
   "source": [
    "print('ENCODE')\n",
    "plt.figure(figsize=(4, 4))\n",
    "for (c, r, t), dft in encode_genes_ovlp_df.groupby(['cell', 'replicate', 'tool']):\n",
    "    plt.plot(dft['precision'], dft['sensitivity'], marker='.', color=TOOLS_PALETTE[t], alpha=0.8)\n",
    "plt.title('Peaks vs active genes')\n",
    "plt.xlabel('Peaks fraction (precision)')\n",
    "plt.ylabel('Genes fraction (sensitivity)')\n",
    "plt.tight_layout()\n",
    "plt.show()"
   ],
   "metadata": {
    "collapsed": false
   },
   "outputs": [],
   "execution_count": null
  },
  {
   "cell_type": "code",
   "source": [
    "encode_genes_ovlp_df[(encode_genes_ovlp_df['sensitivity'] > 0.7) & \n",
    "                     (encode_genes_ovlp_df['precision'] < 0.99)]"
   ],
   "metadata": {
    "collapsed": false
   },
   "outputs": [],
   "execution_count": null
  },
  {
   "cell_type": "code",
   "source": [
    "print('ENCODE')\n",
    "plt.figure(figsize=(4, 4))\n",
    "cr = encode_genes_ovlp_df[(encode_genes_ovlp_df['cell'] == 'H1') &\n",
    "                          (encode_genes_ovlp_df['replicate'] == 'rep1')]\n",
    "for (c, r, t), dft in cr.groupby(['cell', 'replicate', 'tool']):\n",
    "    plt.plot(dft['precision'], dft['sensitivity'], marker='o', color=TOOLS_PALETTE[t], alpha=1.0)\n",
    "plt.title('Peaks vs active genes')\n",
    "plt.xlabel('Peaks fraction (precision)')\n",
    "plt.ylabel('Genes fraction (sensitivity)')\n",
    "plt.tight_layout()\n",
    "plt.show()"
   ],
   "metadata": {
    "collapsed": false
   },
   "outputs": [],
   "execution_count": null
  },
  {
   "cell_type": "code",
   "source": [
    "rows = []\n",
    "for (c, r, t), dft in encode_genes_ovlp_df.groupby(['cell', 'replicate', 'tool']):\n",
    "    ap = 0\n",
    "    sprev, pprev = 0, 0\n",
    "    for _, row in dft.iterrows():\n",
    "        ap += (row['sensitivity'] - sprev) * (row['precision'] + pprev) / 2\n",
    "        sprev, pprev = row['sensitivity'], row['precision']\n",
    "    rows.append((c, r, t, ap))\n",
    "encode_genes_aps_df = pd.DataFrame(rows, columns=['cell', 'replicate', 'tool', 'auc'])\n",
    "del rows\n",
    "encode_genes_aps_df.sample(3)"
   ],
   "metadata": {
    "collapsed": false
   },
   "outputs": [],
   "execution_count": null
  },
  {
   "cell_type": "code",
   "source": [
    "print('ENCODE')\n",
    "plt.figure(figsize=(3, 4))\n",
    "ax = plt.axes()\n",
    "ax.title.set_text('Peaks vs genes AUC')\n",
    "g_results = sns.barplot(data=encode_genes_aps_df, x='tool', y='auc',\n",
    "                        capsize=.2, err_kws={'linewidth': 2},\n",
    "                        hue='tool', legend=False, palette=TOOLS_PALETTE,\n",
    "                        order=['MACS2', 'MACS2 broad', 'SPAN', 'SICER'],\n",
    "                        ax=ax)\n",
    "sns.swarmplot(data=encode_genes_aps_df, x='tool', y='auc',\n",
    "              dodge=True, size=3, color=\"black\", alpha=0.5,\n",
    "              order=['MACS2', 'MACS2 broad', 'SPAN', 'SICER'],\n",
    "              ax=ax)\n",
    "\n",
    "ax.xaxis.set_tick_params(rotation=90)\n",
    "ax.set_ylabel('AUC')\n",
    "plt.tight_layout()\n",
    "plt.show()"
   ],
   "metadata": {
    "collapsed": false
   },
   "outputs": [],
   "execution_count": null
  },
  {
   "cell_type": "code",
   "source": [
    "immune_genes_ovlp_df = genes_overlap(df_immune_peaks, immune_expression)\n",
    "immune_genes_ovlp_df.sample(3)"
   ],
   "metadata": {
    "collapsed": false
   },
   "outputs": [],
   "execution_count": null
  },
  {
   "cell_type": "code",
   "source": [
    "print('Immune')\n",
    "plt.figure(figsize=(4, 4))\n",
    "for (c, r, t), dft in immune_genes_ovlp_df.groupby(['cell', 'replicate', 'tool']):\n",
    "    plt.plot(dft['precision'], dft['sensitivity'], marker='.', color=TOOLS_PALETTE[t], alpha=0.8)\n",
    "plt.title('Peaks vs active genes')\n",
    "plt.xlabel('Peaks fraction (precision)')\n",
    "plt.ylabel('Genes fraction (sensitivity)')\n",
    "plt.tight_layout()\n",
    "plt.show()"
   ],
   "metadata": {
    "collapsed": false
   },
   "outputs": [],
   "execution_count": null
  },
  {
   "cell_type": "code",
   "source": [
    "print('Immune')\n",
    "plt.figure(figsize=(4, 4))\n",
    "cr = immune_genes_ovlp_df[immune_genes_ovlp_df['cell'] == 'TCell']\n",
    "for (c, r, t), dft in cr.groupby(['cell', 'replicate', 'tool']):\n",
    "    plt.plot(dft['precision'], dft['sensitivity'], marker='o', color=TOOLS_PALETTE[t], alpha=1.0)\n",
    "plt.title('Peaks vs active genes')\n",
    "plt.xlabel('Peaks fraction (precision)')\n",
    "plt.ylabel('Genes fraction (sensitivity)')\n",
    "plt.tight_layout()\n",
    "plt.show()"
   ],
   "metadata": {
    "collapsed": false
   },
   "outputs": [],
   "execution_count": null
  },
  {
   "cell_type": "code",
   "source": [
    "rows = []\n",
    "for (c, r, t), dft in immune_genes_ovlp_df.groupby(['cell', 'replicate', 'tool']):\n",
    "    ap = 0\n",
    "    sprev, pprev = 0, 0\n",
    "    for _, row in dft.iterrows():\n",
    "        ap += (row['sensitivity'] - sprev) * (row['precision'] + pprev) / 2\n",
    "        sprev, pprev = row['sensitivity'], row['precision']\n",
    "    rows.append((c, r, t, ap))\n",
    "immune_genes_aps_df = pd.DataFrame(rows, columns=['cell', 'replicate', 'tool', 'auc'])\n",
    "del rows\n",
    "immune_genes_aps_df.sample(3)"
   ],
   "metadata": {
    "collapsed": false
   },
   "outputs": [],
   "execution_count": null
  },
  {
   "cell_type": "code",
   "source": [
    "print('Immune')\n",
    "plt.figure(figsize=(3, 4))\n",
    "ax = plt.axes()\n",
    "ax.title.set_text('Peaks vs genes AUC')\n",
    "g_results = sns.barplot(data=immune_genes_aps_df, x='tool', y='auc',\n",
    "                        capsize=.2, err_kws={'linewidth': 2},\n",
    "                        hue='tool', legend=False, palette=TOOLS_PALETTE,\n",
    "                        order=['MACS2', 'MACS2 broad', 'SPAN', 'SICER'],\n",
    "                        ax=ax)\n",
    "sns.swarmplot(data=immune_genes_aps_df, x='tool', y='auc',\n",
    "              dodge=True, size=3, color=\"black\", alpha=0.5,\n",
    "              order=['MACS2', 'MACS2 broad', 'SPAN', 'SICER'],\n",
    "              ax=ax)\n",
    "ax.xaxis.set_tick_params(rotation=90)\n",
    "ax.set_ylabel('AUC')\n",
    "plt.tight_layout()\n",
    "plt.show()"
   ],
   "metadata": {
    "collapsed": false
   },
   "outputs": [],
   "execution_count": null
  },
  {
   "metadata": {},
   "cell_type": "code",
   "source": [
    "immune_genes_ovlp_df[(immune_genes_ovlp_df['cell'] == 'TCell') &\n",
    "                          (immune_genes_ovlp_df['replicate'] == '')]"
   ],
   "outputs": [],
   "execution_count": null
  },
  {
   "cell_type": "code",
   "source": [
    "t1 = encode_genes_ovlp_df[(encode_genes_ovlp_df['cell'] == 'H1') &\n",
    "                          (encode_genes_ovlp_df['replicate'] == 'rep1')].copy()\n",
    "t1['dataset'] = 'ENCODE'\n",
    "t2 = immune_genes_ovlp_df[(immune_genes_ovlp_df['cell'] == 'TCell') &\n",
    "                          (immune_genes_ovlp_df['replicate'] == '')].copy()\n",
    "t2['dataset'] = 'Roadmap'\n",
    "covlp_df = pd.concat([t1, t2]).reset_index(drop=True)\n",
    "g = sns.FacetGrid(covlp_df, hue=\"tool\", row=\"dataset\", height=1.8, aspect=1.5, sharex=False,\n",
    "                  palette=TOOLS_PALETTE, hue_order=['MACS2', 'MACS2 broad', 'SPAN', 'SICER'])\n",
    "g.map(sns.lineplot, \"precision\", \"sensitivity\", markers=True, sort=False)\n",
    "g.add_legend()\n",
    "plt.show()\n"
   ],
   "metadata": {
    "collapsed": false
   },
   "outputs": [],
   "execution_count": null
  },
  {
   "metadata": {},
   "cell_type": "code",
   "source": [
    "print('Roadmap + ENCODE')\n",
    "encode_genes_aps_df['dataset'] = 'ENCODE'\n",
    "immune_genes_aps_df['dataset'] = 'Roadmap'\n",
    "t = pd.concat([encode_aps_df, immune_genes_aps_df]).reset_index(drop=True)\n",
    "plt.figure(figsize=(5, 4))\n",
    "ax = plt.axes()\n",
    "ax.title.set_text('Peaks vs genes AUC')\n",
    "sns.barplot(data=t, x='dataset', y='auc', hue='tool',\n",
    "            capsize=.2, err_kws={'linewidth': 2},\n",
    "            palette=TOOLS_PALETTE,\n",
    "            hue_order=['MACS2', 'MACS2 broad', 'SPAN', 'SICER'],\n",
    "            ax=ax)\n",
    "sns.swarmplot(data=t, x='dataset', y='auc', hue='tool',\n",
    "              dodge=True, size=3, color=\"black\", alpha=0.5, palette='dark:black',\n",
    "              hue_order=['MACS2', 'MACS2 broad', 'SPAN', 'SICER'],\n",
    "              legend=False,\n",
    "              ax=ax)\n",
    "ax.xaxis.set_tick_params(rotation=90)\n",
    "# Put a legend to the right of the current axis\n",
    "ax.legend(loc='center left', bbox_to_anchor=(1, 0.5))\n",
    "ax.set_ylabel('AUC')\n",
    "plt.tight_layout()\n",
    "plt.show()"
   ],
   "outputs": [],
   "execution_count": null
  },
  {
   "metadata": {},
   "cell_type": "code",
   "source": "",
   "outputs": [],
   "execution_count": null
  }
 ],
 "metadata": {
  "anaconda-cloud": {},
  "kernelspec": {
   "display_name": "Python 3",
   "language": "python",
   "name": "python3"
  },
  "language_info": {
   "codemirror_mode": {
    "name": "ipython",
    "version": 3
   },
   "file_extension": ".py",
   "mimetype": "text/x-python",
   "name": "python",
   "nbconvert_exporter": "python",
   "pygments_lexer": "ipython3",
   "version": "3.8.5"
  },
  "toc": {
   "nav_menu": {},
   "number_sections": true,
   "sideBar": true,
   "skip_h1_title": false,
   "toc_cell": false,
   "toc_position": {},
   "toc_section_display": "block",
   "toc_window_display": false
  }
 },
 "nbformat": 4,
 "nbformat_minor": 2
}
