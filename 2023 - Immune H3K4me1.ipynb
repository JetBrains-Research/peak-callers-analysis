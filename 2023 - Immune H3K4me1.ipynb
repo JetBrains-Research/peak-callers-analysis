{
 "cells": [
  {
   "cell_type": "markdown",
   "metadata": {},
   "source": [
    "# 2023 Immune dataset H3K4me1\n",
    "\n",
    "Data:\n",
    "https://www.encodeproject.org/immune-cells/?type=Experiment&replicates.library.biosample.donor.organism.scientific_name=Homo+sapiens&biosample_ontology.cell_slims=hematopoietic+cell&biosample_ontology.classification=primary+cell&control_type!=*&status!=replaced&status!=revoked&status!=archived&biosample_ontology.system_slims=immune+system&biosample_ontology.system_slims=circulatory+system&config=immune"
   ]
  },
  {
   "cell_type": "code",
   "execution_count": null,
   "metadata": {},
   "outputs": [],
   "source": [
    "%matplotlib inline\n",
    "%config InlineBackend.figure_format='retina'\n",
    "\n",
    "import pandas as pd\n",
    "import seaborn as sns\n",
    "from IPython.display import display\n",
    "from tqdm.auto import tqdm\n",
    "\n",
    "sns.set_style(\"whitegrid\")\n",
    "import matplotlib.pyplot as plt\n",
    "import numpy as np\n",
    "import os\n",
    "import tempfile"
   ]
  },
  {
   "cell_type": "code",
   "execution_count": null,
   "outputs": [],
   "source": [
    "def bedl(file):\n",
    "    try:\n",
    "        tf = pd.read_csv(file, sep='\\t', header=None)\n",
    "        return tf[2] - tf[1]\n",
    "    except:\n",
    "        return np.zeros(0)  # Empty file\n",
    "\n",
    "\n",
    "def lines(file):\n",
    "    try:\n",
    "        tf = pd.read_csv(file, sep='\\t', header=None)\n",
    "        return len(tf)\n",
    "    except:\n",
    "        return 0  # Empty file\n",
    "\n",
    "def d(a, b):\n",
    "    return a / b if b != 0 else 0\n",
    "\n",
    "def sorted_file(file):\n",
    "    ts = tempfile.mktemp()\n",
    "    !cat {file} | sort -k1,1 -k2,2n > {ts}\n",
    "    return ts\n"
   ],
   "metadata": {
    "collapsed": false
   }
  },
  {
   "cell_type": "markdown",
   "source": [
    "## Load peaks"
   ],
   "metadata": {
    "collapsed": false
   }
  },
  {
   "cell_type": "code",
   "execution_count": null,
   "outputs": [],
   "source": [
    "# PATH = os.path.expanduser('~/data/2023_Immune')\n",
    "PATH = os.path.expanduser('~/data/2023_Immune_no_control')\n",
    "\n",
    "IMMUNE_CELLS = ['BCell', 'TCell', 'Monocyte']\n",
    "MODIFICATIONS = ['H3K4me1']\n",
    "\n",
    "! mkdir -p {PATH}/pics"
   ],
   "metadata": {
    "collapsed": false
   }
  },
  {
   "cell_type": "code",
   "execution_count": null,
   "outputs": [],
   "source": [
    "def load_peaks_fdr(path, suffix, fdrs):\n",
    "    df_fdr = pd.DataFrame(columns=['file', 'modification', 'cell', 'fdr', 'peaks', 'avlength'],\n",
    "                          dtype=object)\n",
    "    for f in tqdm(os.listdir(path)):\n",
    "        if suffix not in f:\n",
    "            continue\n",
    "        fdr = next((fdr for fdr in fdrs if fdr in f), None)\n",
    "        cell = next((cc for cc in IMMUNE_CELLS if cc in f), None)\n",
    "        mod = next((m for m in MODIFICATIONS if m in f), None)\n",
    "        # print(f, fdr, cell, mod)\n",
    "        if fdr and cell and mod:\n",
    "            peaks_path = os.path.join(path, f)\n",
    "            ps, ls = lines(peaks_path), bedl(peaks_path)\n",
    "            avls = 0 if ps == 0 else sum(ls) / ps\n",
    "            df_fdr.loc[len(df_fdr)] = (peaks_path, mod, cell, fdr, ps, avls)\n",
    "    return df_fdr"
   ],
   "metadata": {
    "collapsed": false
   }
  },
  {
   "cell_type": "code",
   "execution_count": null,
   "outputs": [],
   "source": [
    "df_fdr_macs2 = load_peaks_fdr(os.path.join(PATH, 'macs2'), '.narrowPeak', ['0.05'])\n",
    "df_fdr_macs2['tool'] = 'MACS2'\n",
    "print('MACS2', len(df_fdr_macs2))\n",
    "\n",
    "df_fdr_macs2broad = load_peaks_fdr(os.path.join(PATH, 'macs2'), '.broadPeak', ['0.1'])\n",
    "df_fdr_macs2broad['tool'] = 'MACS2 broad'\n",
    "print('MACS2 broad', len(df_fdr_macs2broad))\n",
    "\n",
    "# df_fdr_sicer = load_peaks_fdr(os.path.join(PATH, 'sicer'), 'summary-FDR', ['0.01'])\n",
    "df_fdr_sicer = load_peaks_fdr(os.path.join(PATH, 'sicer'), 'scoreisland', ['0.01'])\n",
    "df_fdr_sicer['tool'] = 'SICER'\n",
    "print('SICER', len(df_fdr_sicer))\n",
    "\n",
    "df_fdr_span = load_peaks_fdr(os.path.join(PATH, 'span'), 'peak', ['0.05'])\n",
    "df_fdr_span['tool'] = 'SPAN'\n",
    "print('SPAN', len(df_fdr_span))\n",
    "\n",
    "df_fdr_peaks = pd.concat([df_fdr_macs2, df_fdr_macs2broad, df_fdr_sicer, df_fdr_span])\n",
    "df_fdr_peaks.sample(5)"
   ],
   "metadata": {
    "collapsed": false
   }
  },
  {
   "cell_type": "code",
   "execution_count": null,
   "outputs": [],
   "source": [
    "TOOLS = ['MACS2', 'MACS2 broad', 'SPAN', 'SICER']\n",
    "palette = plt.cm.get_cmap('tab10')\n",
    "TOOLS_PALETTE = {t: palette(i) for i, t in enumerate(TOOLS)}"
   ],
   "metadata": {
    "collapsed": false
   }
  },
  {
   "cell_type": "markdown",
   "source": [
    "## Peaks number and lengths"
   ],
   "metadata": {
    "collapsed": false
   }
  },
  {
   "cell_type": "code",
   "execution_count": null,
   "outputs": [],
   "source": [
    "plt.figure(figsize=(4, 4))\n",
    "ax = plt.axes()\n",
    "g_results = sns.barplot(data=df_fdr_peaks, x='tool', y='peaks', ax=ax,\n",
    "                        capsize=.2, errwidth=2, edgecolor=\"black\",\n",
    "                        palette=TOOLS_PALETTE,\n",
    "                        order=TOOLS)\n",
    "ax.xaxis.set_tick_params(rotation=90)\n",
    "ax.title.set_text('H3K4me1 peaks number')\n",
    "plt.show()"
   ],
   "metadata": {
    "collapsed": false
   }
  },
  {
   "cell_type": "code",
   "execution_count": null,
   "outputs": [],
   "source": [
    "ts = []\n",
    "for file, tool in tqdm(zip(df_fdr_peaks['file'], df_fdr_peaks['tool'])):\n",
    "    lengths = bedl(file)\n",
    "    t = pd.DataFrame(dict(name=[tool] * len(lengths), length=lengths))\n",
    "    ts.append(t.sample(min(len(t), 10_000)))\n",
    "t = pd.concat(ts).reset_index(drop=True)\n",
    "del ts\n",
    "t.sample(10)"
   ],
   "metadata": {
    "collapsed": false
   }
  },
  {
   "cell_type": "code",
   "execution_count": null,
   "outputs": [],
   "source": [
    "plt.figure(figsize=(4, 4))\n",
    "ax = plt.axes()\n",
    "g_results = sns.boxplot(data=t, x='name', y='length', ax=ax,\n",
    "                        palette=TOOLS_PALETTE,\n",
    "                        order=['MACS2', 'MACS2 broad', 'SPAN', 'SICER'],\n",
    "                        showfliers=False)\n",
    "ax.title.set_text('Peaks length')\n",
    "ax.xaxis.set_tick_params(rotation=90)\n",
    "ax.set_ylim([0, 8_000])\n",
    "plt.show()"
   ],
   "metadata": {
    "collapsed": false
   }
  },
  {
   "cell_type": "code",
   "execution_count": null,
   "outputs": [],
   "source": [
    "plt.figure(figsize=(4, 3))\n",
    "ax = plt.axes()\n",
    "g_results = sns.histplot(data=t, x='length', hue='name', ax=ax,\n",
    "                         stat='density', common_bins=False, common_norm=False,\n",
    "                         bins=50, kde=True, log_scale=True, alpha=0.2,\n",
    "                         palette=TOOLS_PALETTE,\n",
    "                         hue_order=TOOLS)\n",
    "g_results.set(xscale='log')\n",
    "g_results.set_ylim(0, 3)\n",
    "g_results.set_xlim(1e2, 2e4)\n",
    "ax.title.set_text('Peaks length')\n",
    "plt.tight_layout()\n",
    "plt.savefig(f'{PATH}/pics/H3K4me1_lengths.pdf', bbox_inches='tight', dpi=300)\n",
    "plt.show()"
   ],
   "metadata": {
    "collapsed": false
   }
  },
  {
   "cell_type": "code",
   "execution_count": null,
   "outputs": [],
   "source": [
    "# # Randomly tweak SPAN, SICER lengths for visualization purposes\n",
    "# tsicer = t['name'] == 'SICER'\n",
    "# t.loc[tsicer, 'length'] += np.random.normal(0, 100, size=sum(tsicer))\n",
    "# tspan = t['name'] == 'SPAN'\n",
    "# t.loc[tspan, 'length'] += np.random.normal(0, 100, size=sum(tspan))"
   ],
   "metadata": {
    "collapsed": false
   }
  },
  {
   "cell_type": "code",
   "execution_count": null,
   "outputs": [],
   "source": [
    "# plt.figure(figsize=(8, 5))\n",
    "# ax = plt.axes()\n",
    "# g_results = sns.histplot(data=t, x='length', hue='name', ax=ax,\n",
    "#                          stat='density', common_bins=False, common_norm=False,\n",
    "#                          bins=200, kde=True, log_scale=True, alpha=0.2,\n",
    "#                          palette=TOOLS_PALETTE)\n",
    "# g_results.set(xscale='log')\n",
    "# g_results.set_ylim(0, 3)\n",
    "# g_results.set_xlim(1e2, 2e4)\n",
    "# ax.title.set_text('H3K4me1 peaks length')\n",
    "# plt.show()"
   ],
   "metadata": {
    "collapsed": false
   }
  },
  {
   "cell_type": "code",
   "execution_count": null,
   "outputs": [],
   "source": [
    "t = []\n",
    "for file, tool in tqdm(zip(df_fdr_peaks['file'], df_fdr_peaks['tool'])):\n",
    "    coverage = bedl(file).sum()\n",
    "    t.append((tool, coverage))\n",
    "t = pd.DataFrame(data=t, columns=['tool', 'coverage'])\n",
    "t.sample(10)"
   ],
   "metadata": {
    "collapsed": false
   }
  },
  {
   "cell_type": "code",
   "execution_count": null,
   "outputs": [],
   "source": [
    "plt.figure(figsize=(3, 4))\n",
    "ax = plt.axes()\n",
    "g_results = sns.barplot(data=t, x='tool', y='coverage', ax=ax,\n",
    "                        capsize=.2, errwidth=2, edgecolor=\"black\",\n",
    "                        palette=TOOLS_PALETTE,\n",
    "                        order=['MACS2', 'MACS2 broad', 'SPAN', 'SICER'])\n",
    "ax.xaxis.set_tick_params(rotation=90)\n",
    "ax.title.set_text('Peaks footprint')\n",
    "ax.set_ylabel('Basepairs')\n",
    "plt.tight_layout()\n",
    "plt.savefig(f'{PATH}/pics/H3K4me1_sumlength.pdf', bbox_inches='tight', dpi=300)\n",
    "plt.show()"
   ],
   "metadata": {
    "collapsed": false
   }
  },
  {
   "cell_type": "markdown",
   "source": [
    "## Difference"
   ],
   "metadata": {
    "collapsed": false
   }
  },
  {
   "cell_type": "code",
   "execution_count": null,
   "outputs": [],
   "source": [
    "tf = tempfile.mktemp()\n",
    "\n",
    "bench_df = pd.DataFrame(\n",
    "    columns=['cell', 'name', 'peaks'],\n",
    "    dtype=object\n",
    ")\n",
    "\n",
    "for c in tqdm(IMMUNE_CELLS):\n",
    "    for tool in df_fdr_peaks['tool'].unique():\n",
    "        t = df_fdr_peaks[(df_fdr_peaks['tool'] == tool) & (df_fdr_peaks['modification'] == 'H3K4me1') &\n",
    "                         (df_fdr_peaks['cell'] == c)]\n",
    "        if len(t) == 0:\n",
    "            continue\n",
    "        peaks_file = t['file'].values[0]\n",
    "        peaks = lines(peaks_file)\n",
    "        bench_df.loc[len(bench_df)] = (c, tool, peaks)"
   ],
   "metadata": {
    "collapsed": false
   }
  },
  {
   "cell_type": "code",
   "execution_count": null,
   "outputs": [],
   "source": [
    "diff_bench_df = pd.DataFrame(\n",
    "    columns=['cell', 'name', 'peaks'],\n",
    "    dtype=object\n",
    ")\n",
    "\n",
    "tf = tempfile.mktemp()\n",
    "\n",
    "for c in tqdm(IMMUNE_CELLS):\n",
    "    print(c)\n",
    "    t = df_fdr_peaks[(df_fdr_peaks['tool'] == 'SPAN') &\n",
    "                     (df_fdr_peaks['modification'] == 'H3K4me1') &\n",
    "                     (df_fdr_peaks['cell'] == c)]\n",
    "    if len(t) == 0:\n",
    "        continue\n",
    "    span_file = sorted_file(t['file'].values[0])\n",
    "    # Processing single tools information\n",
    "    for tool in df_fdr_peaks['tool'].unique():\n",
    "        if tool == 'SPAN':\n",
    "            continue\n",
    "        t = df_fdr_peaks[(df_fdr_peaks['tool'] == tool) &\n",
    "                         (df_fdr_peaks['modification'] == 'H3K4me1') &\n",
    "                         (df_fdr_peaks['cell'] == c)]\n",
    "        if len(t) == 0:\n",
    "            continue\n",
    "        peaks_file = sorted_file(t['file'].values[0])\n",
    "        for name, args in [\n",
    "            (f'SPAN - {tool}', f' -a {span_file} -b {peaks_file} '),\n",
    "            (f'{tool} - SPAN', f' -b {span_file} -a {peaks_file} ')]:\n",
    "            !echo '' > {tf}\n",
    "            !bedtools intersect {args} -wa -v > {tf}\n",
    "            peaks = lines(tf)\n",
    "            diff_bench_df.loc[len(diff_bench_df)] = (c, name, peaks)\n",
    "diff_bench_df"
   ],
   "metadata": {
    "collapsed": false
   }
  },
  {
   "cell_type": "code",
   "execution_count": null,
   "outputs": [],
   "source": [
    "full_diff_bench_df = pd.concat([bench_df[['cell', 'name', 'peaks']],\n",
    "                                diff_bench_df[['cell', 'name', 'peaks']]]).reset_index(drop=True)\n",
    "full_diff_bench_df"
   ],
   "metadata": {
    "collapsed": false
   }
  },
  {
   "cell_type": "code",
   "execution_count": null,
   "outputs": [],
   "source": [
    "plt.figure(figsize=(4, 4))\n",
    "ax = plt.axes()\n",
    "ax.title.set_text('Peaks number')\n",
    "g_results = sns.barplot(data=full_diff_bench_df, x='name', y='peaks',\n",
    "                        capsize=.2, errwidth=2, ax=ax,\n",
    "                        order=['MACS2', 'MACS2 broad', 'SPAN', 'SICER',\n",
    "                               'SPAN - MACS2', 'SPAN - MACS2 broad', 'SPAN - SICER',\n",
    "                               'MACS2 - SPAN', 'MACS2 broad - SPAN', 'SICER - SPAN',\n",
    "                               ])\n",
    "ax.xaxis.set_tick_params(rotation=90)\n",
    "# ax.set_ylim(top=1e5)  # Limit for visual aesthetics\n",
    "ax.set_ylabel('Number')\n",
    "plt.tight_layout()\n",
    "plt.savefig(f'{PATH}/pics/H3K4me1_peaks.pdf', bbox_inches='tight', dpi=300)\n",
    "plt.show()"
   ],
   "metadata": {
    "collapsed": false
   }
  },
  {
   "cell_type": "markdown",
   "source": [
    "# Functional annotation"
   ],
   "metadata": {
    "collapsed": false
   }
  },
  {
   "cell_type": "code",
   "execution_count": null,
   "outputs": [],
   "source": [
    "import tempfile\n",
    "\n",
    "tf = tempfile.mktemp()\n",
    "\n",
    "! rm -r {PATH}/summary_H3K4me1\n",
    "! mkdir -p {PATH}/summary_H3K4me1\n",
    "\n",
    "TOOLS = list(sorted(set(bench_df['name'])))\n",
    "\n",
    "for c in tqdm(IMMUNE_CELLS):\n",
    "    print(c)\n",
    "    for tool in set(df_fdr_peaks['tool']):\n",
    "        t = df_fdr_peaks[(df_fdr_peaks['tool'] == tool) &\n",
    "                         (df_fdr_peaks['modification'] == 'H3K4me1') &\n",
    "                         (df_fdr_peaks['cell'] == c)]\n",
    "        if len(t) == 0:\n",
    "            continue\n",
    "        peaks_file = sorted_file(t['file'].values[0])\n",
    "        filename = tool.replace(' ', '_')\n",
    "        ! cat {peaks_file} >> \"{PATH}/summary_H3K4me1/{filename}.bed_\"\n",
    "        if tool == 'SPAN':\n",
    "            span_file = peaks_file\n",
    "\n",
    "    # Processing single tools information\n",
    "    for tool in TOOLS:\n",
    "        if tool == 'SPAN':\n",
    "            continue\n",
    "        t = df_fdr_peaks[(df_fdr_peaks['tool'] == tool) &\n",
    "                         (df_fdr_peaks['modification'] == 'H3K4me1') &\n",
    "                         (df_fdr_peaks['cell'] == c)]\n",
    "        if len(t) == 0:\n",
    "            continue\n",
    "        peaks_file = sorted_file(t['file'].values[0])\n",
    "        for name, args in [\n",
    "            (f'SPAN - {tool}', f' -a {span_file} -b {peaks_file} '),\n",
    "            (f'{tool} - SPAN', f' -b {span_file} -a {peaks_file} ')\n",
    "        ]:\n",
    "            !bedtools intersect {args} -wa -v > {tf}\n",
    "            filename = name.replace(' ', '_')\n",
    "            !cat {tf} >> \"{PATH}/summary_H3K4me1/{filename}.bed_\"\n",
    "\n",
    "for f in os.listdir(PATH + '/summary_H3K4me1'):\n",
    "    f_sorted = f[:len(f) - 1]\n",
    "    ! sort -k1,1 -k2,2n -k3,3n \"{PATH}/summary_H3K4me1/{f}\" | cut -f1-3 > \"{PATH}/summary_H3K4me1/{f_sorted}\"\n",
    "    ! rm \"{PATH}/summary_H3K4me1/{f}\""
   ],
   "metadata": {
    "collapsed": false
   }
  },
  {
   "cell_type": "markdown",
   "source": [
    "# Coverage"
   ],
   "metadata": {
    "collapsed": false
   }
  },
  {
   "cell_type": "code",
   "execution_count": null,
   "outputs": [],
   "source": [
    "# Fraction of reads in peaks\n",
    "IMMUNE_HG38_PATH_BW = PATH + '/bw'\n",
    "\n",
    "\n",
    "def load_bws(path, m):\n",
    "    df_bws = pd.DataFrame(columns=['file', 'modification', 'cell'], dtype=object)\n",
    "    for f in tqdm(os.listdir(path)):\n",
    "        if '.bw' not in f:\n",
    "            continue\n",
    "        cell = next((cc for cc in IMMUNE_CELLS if cc in f), None)\n",
    "        if cell and m in f:\n",
    "            df_bws.loc[len(df_bws)] = ((os.path.join(path, f)), m, cell)\n",
    "    return df_bws"
   ],
   "metadata": {
    "collapsed": false
   }
  },
  {
   "cell_type": "code",
   "execution_count": null,
   "outputs": [],
   "source": [
    "bws_df = load_bws(IMMUNE_HG38_PATH_BW, 'H3K4me1')\n",
    "display(bws_df.sample(3))\n",
    "bws_control_df = load_bws(IMMUNE_HG38_PATH_BW, 'Control')\n",
    "display(bws_control_df.sample(3))"
   ],
   "metadata": {
    "collapsed": false
   }
  },
  {
   "cell_type": "code",
   "execution_count": null,
   "outputs": [],
   "source": [
    "CHROM_SIZES = {\n",
    "    c: s for _, (c, s) in pd.read_csv(os.path.join(PATH, 'hg38.chrom.sizes'),\n",
    "                                      sep='\\t', names=['chr', 'size']).iterrows() if '_' not in c\n",
    "}\n",
    "CHROM_SIZES"
   ],
   "metadata": {
    "collapsed": false
   }
  },
  {
   "cell_type": "markdown",
   "source": [
    "# FRIP"
   ],
   "metadata": {
    "collapsed": false
   }
  },
  {
   "cell_type": "code",
   "execution_count": null,
   "outputs": [],
   "source": [
    "import tempfile\n",
    "import pyBigWig\n",
    "\n",
    "tf = tempfile.mktemp()\n",
    "\n",
    "frip_df = pd.DataFrame(\n",
    "    columns=['cell', 'bw_file', 'tool', 'peaks_file', 'peaks', 'length',\n",
    "             'reads_in_peaks', 'all_reads', 'control_reads_in_peaks', 'control_all_reads'],\n",
    "    dtype=object\n",
    ")\n",
    "\n",
    "for c in tqdm(IMMUNE_CELLS):\n",
    "    print(c)\n",
    "    for tool in set(df_fdr_peaks['tool']):\n",
    "        t = df_fdr_peaks[(df_fdr_peaks['tool'] == tool) & (df_fdr_peaks['modification'] == 'H3K4me1') &\n",
    "                         (df_fdr_peaks['cell'] == c)]\n",
    "        if len(t) == 0:\n",
    "            continue\n",
    "        peaks_file = sorted_file(t['file'].values[0])\n",
    "        peaks = lines(peaks_file)\n",
    "        if peaks == 0:\n",
    "            continue\n",
    "        peaks_len = int(bedl(peaks_file).sum())\n",
    "        t = bws_df[(bws_df['modification'] == 'H3K4me1') &\n",
    "                   (bws_df['cell'] == c)]\n",
    "        if len(t) == 0:\n",
    "            continue\n",
    "        bw_file = t['file'].values[0]\n",
    "        t = bws_control_df[bws_control_df['cell'] == c]\n",
    "        if len(t) == 0:\n",
    "            continue\n",
    "        bw_control_file = t['file'].values[0]\n",
    "\n",
    "        print(tool, peaks_file, bw_file, bw_control_file)\n",
    "        t = pd.read_csv(peaks_file, sep='\\t', header=None)\n",
    "        with pyBigWig.open(bw_file) as bw:\n",
    "            total_coverage = sum(\n",
    "                bw.stats(chr, type='sum', exact=True)[0] for chr in t[0].unique() if chr in CHROM_SIZES)\n",
    "            peaks_coverage = sum(bw.stats(chr, start, end, type='sum', exact=True)[0]\n",
    "                                 for chr, start, end in zip(t[0], t[1], t[2]) if chr in CHROM_SIZES)\n",
    "        with pyBigWig.open(bw_control_file) as bwc:\n",
    "            control_total_coverage = sum(bwc.stats(chr, type='sum', exact=True)[0] for chr in t[0].unique())\n",
    "            control_peaks_coverage = sum(bwc.stats(chr, start, end, type='sum', exact=True)[0]\n",
    "                                         for chr, start, end in zip(t[0], t[1], t[2]))\n",
    "        frip_df.loc[len(frip_df)] = (c, bw_file, tool, peaks_file, peaks, peaks_len,\n",
    "                                     peaks_coverage, total_coverage, control_peaks_coverage, control_total_coverage)\n",
    "frip_df"
   ],
   "metadata": {
    "collapsed": false
   }
  },
  {
   "cell_type": "code",
   "execution_count": null,
   "outputs": [],
   "source": [
    "frip_df['frip'] = [d(x, y) for x, y in zip(frip_df['reads_in_peaks'], frip_df['all_reads'])]\n",
    "frip_df['peaks_rpkm'] = [(x / (z / 1e3)) / (y / 1e6) for x, y, z in zip(frip_df['reads_in_peaks'], frip_df['all_reads'], frip_df['length'])]\n",
    "frip_df['peaks_background_log2fc'] = [\n",
    "    np.log2((x / z) / ((y - x) / (sum(CHROM_SIZES.values()) - z)))\n",
    "    for x, y, z in zip(frip_df['reads_in_peaks'], frip_df['all_reads'], frip_df['length'])\n",
    "]\n",
    "frip_df['peaks_control_log2fc'] = [\n",
    "    np.log2(d(x / (y / 1e6), z / (u / 1e6)))\n",
    "    for x, y, z, u in zip(frip_df['reads_in_peaks'], frip_df['all_reads'],\n",
    "                          frip_df['control_reads_in_peaks'], frip_df['control_all_reads'])\n",
    "]"
   ],
   "metadata": {
    "collapsed": false
   }
  },
  {
   "cell_type": "code",
   "execution_count": null,
   "outputs": [],
   "source": [
    "import seaborn as sns\n",
    "\n",
    "t = frip_df\n",
    "plt.figure(figsize=(12, 6))\n",
    "axs = [plt.subplot(2, 4, i + 1) for i in range(8)]\n",
    "ax = axs[0]\n",
    "ax.set_title('H3K4me1')\n",
    "g_results = sns.scatterplot(data=t, x='all_reads', y='peaks', hue='tool',\n",
    "                            palette=TOOLS_PALETTE, ax=ax)\n",
    "g_results.axes.legend().set_visible(False)\n",
    "\n",
    "ax = axs[1]\n",
    "g_results = sns.scatterplot(data=t, x='reads_in_peaks', y='peaks', hue='tool',\n",
    "                            palette=TOOLS_PALETTE, ax=ax)\n",
    "g_results.axes.legend().set_visible(False)\n",
    "\n",
    "ax = axs[2]\n",
    "g_results = sns.scatterplot(data=t, x='peaks_rpkm', y='peaks', hue='tool',\n",
    "                            palette=TOOLS_PALETTE, ax=ax)\n",
    "g_results.axes.legend().set_visible(False)\n",
    "\n",
    "ax = axs[3]\n",
    "g_results = sns.scatterplot(data=t, x='frip', y='peaks', hue='tool',\n",
    "                            palette=TOOLS_PALETTE, ax=ax)\n",
    "g_results.axes.legend().set_visible(False)\n",
    "\n",
    "ax = axs[4]\n",
    "g_results = sns.scatterplot(data=t, x='peaks_background_log2fc', y='peaks', hue='tool',\n",
    "                            palette=TOOLS_PALETTE, ax=ax)\n",
    "g_results.axes.legend().set_visible(False)\n",
    "\n",
    "ax = axs[5]\n",
    "g_results = sns.scatterplot(data=t, x='peaks_control_log2fc', y='peaks', hue='tool',\n",
    "                            palette=TOOLS_PALETTE, ax=ax)\n",
    "g_results.axes.legend().set_visible(False)\n",
    "\n",
    "ax = axs[6]\n",
    "tt = t[t['tool'] == 'SPAN']\n",
    "g_results = sns.barplot(x=tt['cell'], y=tt['all_reads'],\n",
    "                        color='Blue',\n",
    "                        # order=['MACS2', 'MACS2 broad', 'SPAN', 'SICER'],\n",
    "                        ax=ax)\n",
    "ax.xaxis.set_tick_params(rotation=90)\n",
    "# g_results.axes.legend().set_visible(False)\n",
    "\n",
    "\n",
    "ax = axs[7]\n",
    "g_results = sns.boxplot(data=t, x='tool', y='frip',\n",
    "                        palette=TOOLS_PALETTE,\n",
    "                        order=['MACS2', 'MACS2 broad', 'SPAN', 'SICER'],\n",
    "                        showfliers=False,\n",
    "                        ax=ax)\n",
    "ax.xaxis.set_tick_params(rotation=90)\n",
    "# g_results.axes.legend().set_visible(False)\n",
    "# Put a legend to the right of the current axis\n",
    "# g_results.axes.legend(loc='center left', bbox_to_anchor=(1, 0.5))\n",
    "plt.tight_layout()\n",
    "\n",
    "plt.savefig(f'{PATH}/pics/H3K4me1_reads.pdf', bbox_inches='tight', dpi=300)\n",
    "plt.show()"
   ],
   "metadata": {
    "collapsed": false
   }
  },
  {
   "cell_type": "markdown",
   "source": [
    "## Peaks Density"
   ],
   "metadata": {
    "collapsed": false
   }
  },
  {
   "cell_type": "code",
   "execution_count": null,
   "outputs": [],
   "source": [
    "import pyBigWig\n",
    "import tempfile\n",
    "\n",
    "tf = tempfile.mktemp()\n",
    "\n",
    "coverage_data = []\n",
    "\n",
    "for c in tqdm(IMMUNE_CELLS):\n",
    "    print(c)\n",
    "    t = bws_df[(bws_df['modification'] == 'H3K4me1') &\n",
    "               (bws_df['cell'] == c)]\n",
    "    if len(t) == 0:\n",
    "        continue\n",
    "    bw_file = t['file'].values[0]\n",
    "    t = bws_control_df[bws_control_df['cell'] == c]\n",
    "    if len(t) == 0:\n",
    "        continue\n",
    "    bw_control_file = t['file'].values[0]\n",
    "    for tool in set(df_fdr_peaks['tool']):\n",
    "        t = df_fdr_peaks[(df_fdr_peaks['tool'] == tool) &\n",
    "                         (df_fdr_peaks['modification'] == 'H3K4me1') &\n",
    "                         (df_fdr_peaks['cell'] == c)]\n",
    "        if len(t) == 0:\n",
    "            continue\n",
    "        peaks_file = sorted_file(t['file'].values[0])\n",
    "        if lines(peaks_file) > 0:\n",
    "            t = pd.read_csv(peaks_file, sep='\\t', header=None)\n",
    "            positions = [f'{chr}:{start}-{end}' for chr, start, end in zip(t[0], t[1], t[2]) if chr in CHROM_SIZES]\n",
    "            lengths = [end - start for chr, start, end in zip(t[0], t[1], t[2]) if chr in CHROM_SIZES]\n",
    "            with pyBigWig.open(bw_file) as bw:\n",
    "                total_coverage = sum(bw.stats(chr, type='sum', exact=True)[0] for chr in t[0].unique() if chr in CHROM_SIZES)\n",
    "                peaks_coverage = [bw.stats(chr, start, end, type='sum', exact=True)[0]\n",
    "                                  for chr, start, end in zip(t[0], t[1], t[2]) if chr in CHROM_SIZES]\n",
    "            for pos, length, peak_coverage in zip(positions, lengths, peaks_coverage):\n",
    "                coverage_data.append(('H3K4me1', c, tool, pos, length, 'treatment', peak_coverage, total_coverage))\n",
    "            with pyBigWig.open(bw_control_file) as bwc:\n",
    "                total_coverage = sum(bwc.stats(chr, type='sum', exact=True)[0] for chr in t[0].unique())\n",
    "                peaks_coverage = [bwc.stats(chr, start, end, type='sum', exact=True)[0]\n",
    "                                  for chr, start, end in zip(t[0], t[1], t[2])]\n",
    "            for pos, length, peak_coverage in zip(positions, lengths, peaks_coverage):\n",
    "                coverage_data.append(('H3K4me1', c, tool, pos, length, 'control', peak_coverage, total_coverage))\n",
    "        if tool == 'SPAN':\n",
    "            span_file = peaks_file\n",
    "\n",
    "    # Processing single tools information\n",
    "    for tool in TOOLS:\n",
    "        if tool == 'SPAN':\n",
    "            continue\n",
    "        t = df_fdr_peaks[(df_fdr_peaks['tool'] == tool) &\n",
    "                         (df_fdr_peaks['modification'] == 'H3K4me1') &\n",
    "                         (df_fdr_peaks['cell'] == c)]\n",
    "        if len(t) == 0:\n",
    "            continue\n",
    "        peaks_file = sorted_file(t['file'].values[0])\n",
    "        for name, args in [\n",
    "            (f'SPAN - {tool}', f' -a {span_file} -b {peaks_file} '),\n",
    "            (f'{tool} - SPAN', f' -b {span_file} -a {peaks_file} ')\n",
    "        ]:\n",
    "            !bedtools intersect {args} -wa -v > {tf}\n",
    "            if lines(tf) > 0:\n",
    "                t = pd.read_csv(tf, sep='\\t', header=None)\n",
    "                positions = [f'{chr}:{start}-{end}' for chr, start, end in zip(t[0], t[1], t[2]) if chr in CHROM_SIZES]\n",
    "                lengths = [end - start for chr, start, end in zip(t[0], t[1], t[2]) if chr in CHROM_SIZES]\n",
    "                with pyBigWig.open(bw_file) as bw:\n",
    "                    total_coverage = sum(bw.stats(chr, type='sum', exact=True)[0] for chr in t[0].unique() if chr in CHROM_SIZES)\n",
    "                    peaks_coverage = [bw.stats(chr, start, end, type='sum', exact=True)[0]\n",
    "                                      for chr, start, end in zip(t[0], t[1], t[2]) if chr in CHROM_SIZES]\n",
    "                for pos, length, peak_coverage in zip(positions, lengths, peaks_coverage):\n",
    "                    coverage_data.append(('H3K4me1', c, name, pos, length, 'treatment', peak_coverage, total_coverage))\n",
    "                with pyBigWig.open(bw_control_file) as bwc:\n",
    "                    total_coverage = sum(bwc.stats(chr, type='sum', exact=True)[0] for chr in t[0].unique())\n",
    "                    peaks_coverage = [bwc.stats(chr, start, end, type='sum', exact=True)[0]\n",
    "                                      for chr, start, end in zip(t[0], t[1], t[2])]\n",
    "                for pos, length, peak_coverage in zip(positions, lengths, peaks_coverage):\n",
    "                    coverage_data.append(('H3K4me1', c, name, pos, length, 'control', peak_coverage, total_coverage))\n",
    "\n",
    "df_coverage = pd.DataFrame(\n",
    "    coverage_data,\n",
    "    columns=['modification', 'cell', 'name', 'position', 'length', 'type', 'coverage', 'total_coverage']\n",
    ")\n",
    "del coverage_data\n",
    "df_coverage.sample(5)"
   ],
   "metadata": {
    "collapsed": false
   }
  },
  {
   "cell_type": "code",
   "execution_count": null,
   "outputs": [],
   "source": [
    "df_coverage['rpm'] = df_coverage['coverage'] / (df_coverage['total_coverage'] / 1e6)\n",
    "df_coverage['rpkm'] = df_coverage['rpm'] / (df_coverage['length'] / 1e3)\n",
    "\n",
    "plt.figure(figsize=(4.5, 4))\n",
    "g_results = sns.boxplot(data=df_coverage, x='name', y='rpkm', hue='type',\n",
    "                        order=['MACS2', 'MACS2 broad', 'SPAN', 'SICER',\n",
    "                               'SPAN - MACS2', 'SPAN - MACS2 broad', 'SPAN - SICER',\n",
    "                               'MACS2 - SPAN', 'MACS2 broad - SPAN', 'SICER - SPAN',\n",
    "                               ],\n",
    "                        showfliers=False)\n",
    "ax = g_results.axes\n",
    "ax.xaxis.set_tick_params(rotation=90)\n",
    "ax.set_ylabel('RPKM')\n",
    "ax.set_ylim(-0.8, 8)\n",
    "# Put a legend to the right of the current axis\n",
    "ax.legend(loc='center left', bbox_to_anchor=(0.62, 0.82))\n",
    "plt.title('Peaks coverage')\n",
    "plt.tight_layout()\n",
    "plt.savefig(f'{PATH}/pics/H3K4me1_coverage.pdf', bbox_inches='tight', dpi=300)\n",
    "plt.show()"
   ],
   "metadata": {
    "collapsed": false
   }
  },
  {
   "cell_type": "markdown",
   "source": [
    "# ChromHMM"
   ],
   "metadata": {
    "collapsed": false
   }
  },
  {
   "cell_type": "code",
   "execution_count": null,
   "outputs": [],
   "source": [
    "CHROMHMM_MAP = {\n",
    "    'BCell': PATH + '/chromhmm/BCell_Chromhmm_hg38_ENCFF885QXH.bed',\n",
    "    'TCell': PATH + '/chromhmm/TCell_Chromhmm_hg38_ENCFF037LJR.bed',\n",
    "    'Monocyte': PATH + '/chromhmm/Monocyte_Chromhmm_hg38_ENCFF560DUU.bed',\n",
    "}\n",
    "\n",
    "print('Split chromHMM into separate files')\n",
    "CHROMM_STATES = set()\n",
    "for c, chromhmm in CHROMHMM_MAP.items():\n",
    "    print(c)\n",
    "    t = pd.read_csv(chromhmm, sep='\\t', header=None, usecols=[3])[3]\n",
    "    for state in t.unique():\n",
    "        # print(state)\n",
    "        state = state.replace('/', '_')\n",
    "        CHROMM_STATES.add(state)\n",
    "        f = chromhmm.replace('.bed', f'_{state}.bed')\n",
    "        ! cat {chromhmm} | grep {state} > {f}\n",
    "\n",
    "CHROMM_STATES = list(sorted(CHROMM_STATES))\n",
    "print(CHROMM_STATES)"
   ],
   "metadata": {
    "collapsed": false
   }
  },
  {
   "cell_type": "code",
   "execution_count": null,
   "outputs": [],
   "source": [
    "import tempfile\n",
    "\n",
    "tf = tempfile.mktemp()\n",
    "tf2 = tempfile.mktemp()\n",
    "\n",
    "data = []\n",
    "\n",
    "for c in tqdm(IMMUNE_CELLS):\n",
    "    print(c)\n",
    "    if c not in CHROMHMM_MAP:\n",
    "        continue\n",
    "    chromhmm = CHROMHMM_MAP[c]\n",
    "    for tool in set(df_fdr_peaks['tool']):\n",
    "        t = df_fdr_peaks[(df_fdr_peaks['tool'] == tool) &\n",
    "                         (df_fdr_peaks['modification'] == 'H3K4me1') &\n",
    "                         (df_fdr_peaks['cell'] == c)]\n",
    "        if len(t) == 0:\n",
    "            continue\n",
    "        peaks_file = sorted_file(t['file'].values[0])\n",
    "        peaks = lines(peaks_file)\n",
    "        row = [c, tool, peaks]\n",
    "        for state in CHROMM_STATES:\n",
    "            state_file = sorted_file(chromhmm.replace('.bed', f'_{state}.bed'))\n",
    "            !bedtools intersect -a {peaks_file} -b {state_file} -wa -u > {tf}\n",
    "            state_peaks = lines(tf)\n",
    "            row.append(state_peaks)\n",
    "        data.append(row)\n",
    "\n",
    "        if tool == 'SPAN':\n",
    "            span_file = peaks_file\n",
    "\n",
    "    # Processing single tools information\n",
    "    for tool in TOOLS:\n",
    "        if tool == 'SPAN':\n",
    "            continue\n",
    "        t = df_fdr_peaks[(df_fdr_peaks['tool'] == tool) &\n",
    "                         (df_fdr_peaks['modification'] == 'H3K4me1') &\n",
    "                         (df_fdr_peaks['cell'] == c)]\n",
    "        if len(t) == 0:\n",
    "            continue\n",
    "        peaks_file = sorted_file(t['file'].values[0])\n",
    "        for name, args in [\n",
    "            (f'SPAN - {tool}', f' -a {span_file} -b {peaks_file} '),\n",
    "            (f'{tool} - SPAN', f' -b {span_file} -a {peaks_file} ')\n",
    "        ]:\n",
    "            ! bedtools intersect {args} -wa -v > {tf}\n",
    "            peaks = lines(tf)\n",
    "            row = [c, name, peaks]\n",
    "            for state in CHROMM_STATES:\n",
    "                state_file = sorted_file(chromhmm.replace('.bed', f'_{state}.bed'))\n",
    "                !bedtools intersect -a {tf} -b {state_file} -wa -u > {tf2}\n",
    "                state_peaks = lines(tf2)\n",
    "                row.append(state_peaks)\n",
    "            data.append(row)\n",
    "\n",
    "chromhmm_df = pd.DataFrame(data, columns=['cell', 'name', 'peaks'] + CHROMM_STATES)\n",
    "chromhmm_df"
   ],
   "metadata": {
    "collapsed": false
   }
  },
  {
   "cell_type": "code",
   "execution_count": null,
   "outputs": [],
   "source": [
    "chrommm_df_mean = chromhmm_df[['name'] + CHROMM_STATES].groupby('name').mean()\n",
    "chrommm_df_mean = chrommm_df_mean.loc[['MACS2', 'MACS2 broad', 'SPAN', 'SICER',\n",
    "                                       'SPAN - MACS2', 'SPAN - MACS2 broad', 'SPAN - SICER',\n",
    "                                       'MACS2 - SPAN', 'MACS2 broad - SPAN', 'SICER - SPAN',\n",
    "                                       ]]\n",
    "chrommm_df_mean"
   ],
   "metadata": {
    "collapsed": false
   }
  },
  {
   "cell_type": "code",
   "execution_count": null,
   "outputs": [],
   "source": [
    "plt.figure(figsize=(6, 3))\n",
    "sns.heatmap(chrommm_df_mean, cmap='coolwarm')\n",
    "plt.title('Peaks number in ChromHMM states')\n",
    "plt.tight_layout()\n",
    "plt.savefig(f'{PATH}/pics/H3K4me1_chromhmm.pdf', bbox_inches='tight', dpi=300)\n",
    "plt.show()"
   ],
   "metadata": {
    "collapsed": false
   }
  },
  {
   "cell_type": "code",
   "execution_count": null,
   "outputs": [],
   "source": [
    "chromhmm_rel_df = chromhmm_df[['name']].copy()\n",
    "for state in CHROMM_STATES:\n",
    "    chromhmm_rel_df[state] = [d(ov, p) for ov, p in zip(chromhmm_df[state], chromhmm_df['peaks'])]\n",
    "chromhmm_rel_df_mean = chromhmm_rel_df[['name'] + CHROMM_STATES].groupby('name').mean()\n",
    "chromhmm_rel_df_mean = chromhmm_rel_df_mean.loc[['MACS2', 'MACS2 broad', 'SPAN', 'SICER',\n",
    "                                                 'SPAN - MACS2', 'SPAN - MACS2 broad', 'SPAN - SICER',\n",
    "                                                 'MACS2 - SPAN', 'MACS2 broad - SPAN', 'SICER - SPAN',\n",
    "                                                 ]]\n",
    "chromhmm_rel_df_mean"
   ],
   "metadata": {
    "collapsed": false
   }
  },
  {
   "cell_type": "code",
   "execution_count": null,
   "outputs": [],
   "source": [
    "plt.figure(figsize=(6, 3))\n",
    "sns.heatmap(chromhmm_rel_df_mean, cmap='coolwarm')\n",
    "plt.title('Peaks fraction in ChromHMM states')\n",
    "plt.tight_layout()\n",
    "plt.savefig(f'{PATH}/pics/H3K4me1_chromhmm_rel.pdf', bbox_inches='tight', dpi=300)\n",
    "plt.show()"
   ],
   "metadata": {
    "collapsed": false
   }
  },
  {
   "cell_type": "code",
   "execution_count": null,
   "outputs": [],
   "source": [],
   "metadata": {
    "collapsed": false
   }
  }
 ],
 "metadata": {
  "anaconda-cloud": {},
  "kernelspec": {
   "display_name": "Python 3",
   "language": "python",
   "name": "python3"
  },
  "language_info": {
   "codemirror_mode": {
    "name": "ipython",
    "version": 3
   },
   "file_extension": ".py",
   "mimetype": "text/x-python",
   "name": "python",
   "nbconvert_exporter": "python",
   "pygments_lexer": "ipython3",
   "version": "3.8.5"
  },
  "toc": {
   "nav_menu": {},
   "number_sections": true,
   "sideBar": true,
   "skip_h1_title": false,
   "toc_cell": false,
   "toc_position": {},
   "toc_section_display": "block",
   "toc_window_display": false
  }
 },
 "nbformat": 4,
 "nbformat_minor": 2
}
