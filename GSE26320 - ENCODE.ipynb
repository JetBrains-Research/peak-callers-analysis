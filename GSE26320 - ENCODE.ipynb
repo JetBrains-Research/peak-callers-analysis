{
 "cells": [
  {
   "cell_type": "markdown",
   "metadata": {
    "heading_collapsed": true
   },
   "source": [
    "# 2020_GSE26320_ENCODE"
   ]
  },
  {
   "cell_type": "code",
   "execution_count": null,
   "metadata": {
    "ExecuteTime": {
     "end_time": "2019-03-07T11:38:12.254230Z",
     "start_time": "2019-03-07T11:38:04.952806Z"
    },
    "hidden": true
   },
   "outputs": [],
   "source": [
    "%matplotlib inline\n",
    "%config InlineBackend.figure_format='retina'\n",
    "\n",
    "from IPython.display import display\n",
    "import pandas as pd\n",
    "\n",
    "import seaborn as sns\n",
    "sns.set_style(\"whitegrid\")\n",
    "import matplotlib.pyplot as plt\n",
    "from matplotlib.backends.backend_pdf import PdfPages\n",
    "import numpy as np\n",
    "import scipy as sp\n",
    "import os, re\n",
    "import glob\n",
    "from tqdm.auto import tqdm\n",
    "import subprocess, tempfile\n",
    "\n",
    "import plotly.graph_objects as go\n",
    "import plotly.express as px"
   ]
  },
  {
   "cell_type": "code",
   "execution_count": null,
   "metadata": {},
   "outputs": [],
   "source": [
    "# Single track per modification per cell\n",
    "CELLS = [\n",
    "    'GM12878',\n",
    "    'H1',\n",
    "    'HepG2',\n",
    "    'HMEC',\n",
    "    'HSMM',\n",
    "    'Huvec',\n",
    "    'K562',\n",
    "    'NHEK',\n",
    "    'NHLF',\n",
    "]\n",
    "\n",
    "MODIFICATIONS = ['H3K27me3', 'H3K27ac', 'H3K4me3', 'H3K4me1', 'H3K36me3']"
   ]
  },
  {
   "cell_type": "markdown",
   "metadata": {},
   "source": [
    "# MACS2"
   ]
  },
  {
   "cell_type": "code",
   "execution_count": null,
   "metadata": {
    "ExecuteTime": {
     "end_time": "2019-03-07T11:38:48.419134Z",
     "start_time": "2019-03-07T11:38:12.260987Z"
    },
    "scrolled": true
   },
   "outputs": [],
   "source": [
    "MACS2_FOLDER='/mnt/stripe/shpynov/2020_GSE26320/macs2'\n",
    "MACS2_LEVELS = ['q0.05', 'broad0.05']\n",
    "\n",
    "dfm = pd.DataFrame(columns=['gsm', 'cell', 'modification', 'level', 'file', 'peaks', 'length'], dtype=object)\n",
    "for file in tqdm(glob.glob(MACS2_FOLDER + '/*.*Peak')):\n",
    "    if 'gapped' in file:\n",
    "        continue\n",
    "    level = next((l for l in MACS2_LEVELS if f'_{l}' in file), None)\n",
    "    modification = next((m for m in MODIFICATIONS if f'_{m}' in file), None)\n",
    "    cell = next((c for c in CELLS if f'_{c}' in file), None)\n",
    "#     print(file, level, modification, cell)\n",
    "    if level and modification and cell:\n",
    "        gsm = re.sub('_.*', '', os.path.basename(file))\n",
    "        out = ! awk '{{N+=1;L+=($$3-$$2)}} END{{print(N,L)}}' {file}\n",
    "        if out[0].strip() != '':\n",
    "            peaks, length = out[0].split(' ') \n",
    "        else:\n",
    "            peaks, length = 0, 0\n",
    "        dfm.loc[len(dfm)] = (gsm, cell, modification, f'macs2 {level}', file, peaks, length)\n",
    "        \n",
    "# Fix types\n",
    "dfm['peaks'] = dfm['peaks'].astype(int)\n",
    "dfm['length'] = dfm['length'].astype(int)"
   ]
  },
  {
   "cell_type": "code",
   "execution_count": null,
   "metadata": {
    "scrolled": true
   },
   "outputs": [],
   "source": [
    "len(dfm)"
   ]
  },
  {
   "cell_type": "code",
   "execution_count": null,
   "metadata": {
    "scrolled": false
   },
   "outputs": [],
   "source": [
    "dfm['f'] = dfm['modification']\n",
    "dfm_mean = dfm.groupby(['f', 'level'])['peaks'].mean().reset_index().sort_values(by=['f', 'level'])\n",
    "dfm_std = dfm.groupby(['f', 'level'])['peaks'].std().reset_index().fillna(0).sort_values(by=['f', 'level'])\n",
    "\n",
    "fig = go.Figure(layout=go.Layout(title=go.layout.Title(text=\"Peaks\")))\n",
    "for l in sorted(set(dfm_mean['level'])):\n",
    "    fig.add_trace(go.Scatter(x=dfm_mean.loc[dfm_mean['level']==l]['f'], \n",
    "                             y=dfm_mean.loc[dfm_mean['level']==l]['peaks'], \n",
    "                             name=f\"{l} mean\", line_shape='linear'))\n",
    "    fig.add_trace(go.Scatter(x=dfm_std.loc[dfm_std['level']==l]['f'], \n",
    "                             y=dfm_std.loc[dfm_std['level']==l]['peaks'], \n",
    "                             name=f\"{l} std\", line_shape='linear', \n",
    "                             line=dict(dash='dot')))\n",
    "fig.show()"
   ]
  },
  {
   "cell_type": "code",
   "execution_count": null,
   "metadata": {},
   "outputs": [],
   "source": [
    "macs2levels2process = set(['macs2 q0.05', 'macs2 broad0.05'])"
   ]
  },
  {
   "cell_type": "markdown",
   "metadata": {},
   "source": [
    "# SICER"
   ]
  },
  {
   "cell_type": "code",
   "execution_count": null,
   "metadata": {},
   "outputs": [],
   "source": [
    "SICER_FOLDER='/mnt/stripe/shpynov/2020_GSE26320/sicer'\n",
    "SICER_LEVELS = ['FDR0.05']\n",
    "\n",
    "dfsc = pd.DataFrame(columns=['gsm', 'cell', 'modification', 'level', 'file', 'peaks', 'length'], dtype=object)\n",
    "for file in tqdm(glob.glob(SICER_FOLDER + '/*islands-summary*')):\n",
    "    level = next((l for l in SICER_LEVELS if f'-{l}' in file), None)\n",
    "    modification = next((m for m in MODIFICATIONS if f'_{m}' in file), None)\n",
    "    cell = next((c for c in CELLS if f'_{c}' in file), None)\n",
    "#     print(file, level, modification, cell)\n",
    "    if level and modification and cell:\n",
    "        gsm = re.sub('_.*', '', os.path.basename(file))\n",
    "        out = ! awk '{{N+=1;L+=($$3-$$2)}} END{{print(N,L)}}' {file}\n",
    "        if out[0].strip() != '':\n",
    "            peaks, length = out[0].split(' ') \n",
    "        else:\n",
    "            peaks, length = 0, 0\n",
    "        dfsc.loc[len(dfsc)] = (gsm, cell, modification, f'sicer {level}', file, peaks, length)\n",
    "\n",
    "# Fix types\n",
    "dfsc['peaks'] = dfsc['peaks'].astype(int)\n",
    "dfsc['length'] = dfsc['length'].astype(int)"
   ]
  },
  {
   "cell_type": "code",
   "execution_count": null,
   "metadata": {
    "scrolled": true
   },
   "outputs": [],
   "source": [
    "len(dfsc)"
   ]
  },
  {
   "cell_type": "code",
   "execution_count": null,
   "metadata": {},
   "outputs": [],
   "source": [
    "dfsc['f'] = dfsc['modification']\n",
    "dfsc_mean = dfsc.groupby(['f', 'level'])['peaks'].mean().reset_index().sort_values(by=['f', 'level'])\n",
    "dfsc_std = dfsc.groupby(['f', 'level'])['peaks'].std().reset_index().fillna(0).sort_values(by=['f', 'level'])\n",
    "\n",
    "fig = go.Figure(layout=go.Layout(title=go.layout.Title(text=\"Peaks\")))\n",
    "for l in sorted(set(dfsc_mean['level'])):\n",
    "    fig.add_trace(go.Scatter(x=dfsc_mean.loc[dfsc_mean['level']==l]['f'], \n",
    "                             y=dfsc_mean.loc[dfsc_mean['level']==l]['peaks'], \n",
    "                             name=f\"{l} mean\", line_shape='linear'))\n",
    "    fig.add_trace(go.Scatter(x=dfsc_std.loc[dfsc_std['level']==l]['f'], \n",
    "                             y=dfsc_std.loc[dfsc_std['level']==l]['peaks'], \n",
    "                             name=f\"{l} std\", line_shape='linear', \n",
    "                             line=dict(dash='dot')))\n",
    "fig.show()"
   ]
  },
  {
   "cell_type": "code",
   "execution_count": null,
   "metadata": {},
   "outputs": [],
   "source": [
    "sicerlevels2process = set(['sicer FDR0.05'])"
   ]
  },
  {
   "cell_type": "markdown",
   "metadata": {},
   "source": [
    "# SPAN"
   ]
  },
  {
   "cell_type": "code",
   "execution_count": null,
   "metadata": {},
   "outputs": [],
   "source": [
    "SPAN_FOLDER='/mnt/stripe/shpynov/2020_GSE26320/span'\n",
    "GAPS = [5]\n",
    "FDRS = ['0.05']\n",
    "# SPAN_LEVELS = ['200_1E-6_5', '200_0.01_5']\n",
    "SPAN_LEVELS = []\n",
    "for gap in GAPS:\n",
    "    for fdr in FDRS:\n",
    "        SPAN_LEVELS.append(f'200_{fdr}_{gap}')\n",
    "\n",
    "dfs = pd.DataFrame(columns=['gsm', 'cell', 'modification', 'level', 'file', 'peaks', 'length'], dtype=object)\n",
    "for file in tqdm(glob.glob(SPAN_FOLDER + '/*.peak')):\n",
    "    if 'Input' in file:\n",
    "        continue\n",
    "    level = next((l for l in SPAN_LEVELS if f'_{l}' in file), None)\n",
    "    modification = next((m for m in MODIFICATIONS if f'_{m}' in file), None)\n",
    "    cell = next((c for c in CELLS if f'_{c}' in file), None)\n",
    "#     print(file, level, modification, cell)\n",
    "    if level and modification and cell:\n",
    "        gsm = re.sub('_.*', '', os.path.basename(file))\n",
    "        out = ! awk '{{N+=1;L+=($$3-$$2)}} END{{print(N,L)}}' {file}\n",
    "        if out[0].strip() != '':\n",
    "            peaks, length = out[0].split(' ') \n",
    "        else:\n",
    "            peaks, length = 0, 0\n",
    "        dfs.loc[len(dfs)] = (gsm, cell, modification, f'span {level}', file, peaks, length)\n",
    "        \n",
    "# Fix types\n",
    "dfs['peaks'] = dfs['peaks'].astype(int)\n",
    "dfs['length'] = dfs['length'].astype(int)"
   ]
  },
  {
   "cell_type": "code",
   "execution_count": null,
   "metadata": {
    "scrolled": true
   },
   "outputs": [],
   "source": [
    "len(dfs)"
   ]
  },
  {
   "cell_type": "code",
   "execution_count": null,
   "metadata": {},
   "outputs": [],
   "source": [
    "import re\n",
    "dfs['fdr'] = [float(re.sub('span 200_|_(0|5|10)', '', l)) for l in dfs['level']]\n",
    "dfs['gap'] = [int(re.sub('.*_', '', l)) for l in dfs['level']]\n",
    "dfs.sort_values(by=['fdr', 'gap'], inplace=True)\n",
    "dfs.head()"
   ]
  },
  {
   "cell_type": "code",
   "execution_count": null,
   "metadata": {},
   "outputs": [],
   "source": [
    "dfs['f'] = dfs['modification']\n",
    "dfs_mean = dfs.groupby(['f', 'level'])['peaks'].mean().reset_index().sort_values(by=['f', 'level'])\n",
    "dfs_std = dfs.groupby(['f', 'level'])['peaks'].std().reset_index().fillna(0).sort_values(by=['f', 'level'])\n",
    "\n",
    "fig = go.Figure(layout=go.Layout(title=go.layout.Title(text=\"Peaks\")))\n",
    "for l in sorted(set(dfs_mean['level'])):\n",
    "    fig.add_trace(go.Scatter(x=dfs_mean.loc[dfs_mean['level']==l]['f'], \n",
    "                             y=dfs_mean.loc[dfs_mean['level']==l]['peaks'], \n",
    "                             name=f\"{l} mean\", line_shape='linear'))\n",
    "    fig.add_trace(go.Scatter(x=dfs_std.loc[dfs_std['level']==l]['f'], \n",
    "                             y=dfs_std.loc[dfs_std['level']==l]['peaks'], \n",
    "                             name=f\"{l} std\", line_shape='linear', \n",
    "                             line=dict(dash='dot')))\n",
    "fig.show()"
   ]
  },
  {
   "cell_type": "code",
   "execution_count": null,
   "metadata": {
    "scrolled": true
   },
   "outputs": [],
   "source": [
    "# Plot peaks number versus FDR for different modifications and GAPs\n",
    "for m in sorted(set(dfs['modification'])):\n",
    "    t = dfs.loc[dfs['modification'] == m]\n",
    "    for gap in sorted(set(dfs['gap'])):\n",
    "        t2 = t.loc[t['gap']==gap]\n",
    "        fig = go.Figure()\n",
    "        for cell in set(t2['cell']):\n",
    "            t3 = t2.loc[t2['cell'] == cell]\n",
    "            fig.add_trace(go.Scatter(x=np.log10(t3[\"fdr\"]), y=t3[\"peaks\"], \n",
    "                                     mode='lines+markers',\n",
    "                                     name=cell))\n",
    "        fig.update_xaxes(title='log10 fdr')\n",
    "        fig.update_yaxes(title=f'{m} gap {gap} peaks')\n",
    "        fig.show()"
   ]
  },
  {
   "cell_type": "code",
   "execution_count": null,
   "metadata": {},
   "outputs": [],
   "source": [
    "spanlevels2process = set(['span 200_0.05_5'])"
   ]
  },
  {
   "cell_type": "markdown",
   "metadata": {},
   "source": [
    "# Summary"
   ]
  },
  {
   "cell_type": "code",
   "execution_count": null,
   "metadata": {},
   "outputs": [],
   "source": [
    "dfa = pd.concat([dfm.loc[[l in macs2levels2process for l in dfm['level']]],\n",
    "                 dfsc.loc[[l in sicerlevels2process for l in dfsc['level']]],\n",
    "                 dfs.loc[[l in spanlevels2process for l in dfs['level']]]])"
   ]
  },
  {
   "cell_type": "code",
   "execution_count": null,
   "metadata": {},
   "outputs": [],
   "source": [
    "dfa['f'] = dfa['modification']\n",
    "dfa_mean = dfa.groupby(['f', 'level'])['peaks'].mean().reset_index().sort_values(by=['f', 'level'])\n",
    "dfa_std = dfa.groupby(['f', 'level'])['peaks'].std().reset_index().fillna(0).sort_values(by=['f', 'level'])\n",
    "\n",
    "fig = go.Figure(layout=go.Layout(title=go.layout.Title(text=\"Peaks\")))\n",
    "for l in sorted(set(dfa_mean['level'])):\n",
    "    fig.add_trace(go.Scatter(x=dfa_mean.loc[dfa_mean['level']==l]['f'], \n",
    "                             y=dfa_mean.loc[dfa_mean['level']==l]['peaks'], \n",
    "                             name=f\"{l} mean\", line_shape='linear'))\n",
    "    fig.add_trace(go.Scatter(x=dfa_std.loc[dfa_std['level']==l]['f'], \n",
    "                             y=dfa_std.loc[dfa_std['level']==l]['peaks'], \n",
    "                             name=f\"{l} std\", line_shape='linear', \n",
    "                             line=dict(dash='dot')))\n",
    "fig.show()"
   ]
  },
  {
   "cell_type": "code",
   "execution_count": null,
   "metadata": {},
   "outputs": [],
   "source": [
    "dfa['avg_length'] = dfa['length'] / dfa['peaks']\n",
    "dfa.loc[~np.isfinite(dfa[\"avg_length\"]), \"avg_length\"] = 0.0"
   ]
  },
  {
   "cell_type": "code",
   "execution_count": null,
   "metadata": {},
   "outputs": [],
   "source": [
    "# # List file to create session\n",
    "# for m in MODIFICATIONS:\n",
    "#     for c in CELLS:\n",
    "#         bw = glob.glob(f'/mnt/stripe/shpynov/2020_roadmapepigenomics/bams_bws/*{c}.{m}.*.bw')[0]\n",
    "#         print(bw)\n",
    "#         dfcm = dfa.loc[np.logical_and(dfa['cell']==c, dfa['modification']==m)]\n",
    "#         for l in sorted(set(dfa['level'])):\n",
    "#             peaks = list(dfcm.loc[dfcm['level'] == l]['file'])\n",
    "#             if peaks:\n",
    "#                 peaks = peaks[0]\n",
    "#                 print(f'{os.path.dirname(peaks)}/bb/{os.path.basename(peaks)}.bb')"
   ]
  },
  {
   "cell_type": "markdown",
   "metadata": {},
   "source": [
    "# Group analysis"
   ]
  },
  {
   "cell_type": "code",
   "execution_count": null,
   "metadata": {},
   "outputs": [],
   "source": [
    "def plot_data_cells(df, cid, value, description):\n",
    "    cids = sorted(set(df[cid]))\n",
    "    axs = {}\n",
    "    total = len(cids) * 5\n",
    "    fig = plt.figure(figsize=(int(total * .75), 4))\n",
    "    offset = 0\n",
    "    for m in MODIFICATIONS:\n",
    "        data = df.loc[df['modification'] == m].sort_values(by=[cid])\n",
    "        xlabels = []\n",
    "        for c in data[cid]:\n",
    "            if c not in xlabels:\n",
    "                xlabels.append(c)\n",
    "        w = len(cids)\n",
    "        ax = plt.subplot2grid((1, total), (0, offset), colspan=w)\n",
    "\n",
    "        sns.barplot(data=data, \n",
    "                     x=cid, y=value,\n",
    "                     capsize=.2, errwidth=2,\n",
    "                     edgecolor=\"black\",\n",
    "                     ax = ax)\n",
    "\n",
    "        sns.swarmplot(data=data,\n",
    "                      x=cid, y=value,\n",
    "                      size=1,\n",
    "                      color=\"black\",\n",
    "                      alpha=0.5,\n",
    "                      ax = ax)\n",
    "        ax.legend().set_visible(False)\n",
    "        axs[ax] = plt.ylim()\n",
    "        if offset > 0:\n",
    "            ax.get_yaxis().set_ticklabels([])\n",
    "            ax.set_ylabel('')\n",
    "        else:\n",
    "            ax.set_ylabel(description)\n",
    "        \n",
    "        offset += w\n",
    "        ax.set_xlabel('')\n",
    "        ax.set_title(m)\n",
    "        plt.xticks(range(0, len(xlabels)), xlabels, rotation=45)\n",
    "            \n",
    "    ymin = np.min([v[0] for v in axs.values()])\n",
    "    ymax = np.max([v[1] for v in axs.values()])\n",
    " \n",
    "    for ax in axs.keys():\n",
    "        ax.set_ylim(bottom = ymin, top = ymax)\n",
    "    plt.tight_layout()"
   ]
  },
  {
   "cell_type": "code",
   "execution_count": null,
   "metadata": {},
   "outputs": [],
   "source": [
    "plot_data_cells(dfa, 'level', 'peaks', 'Peaks')\n",
    "plt.show()\n",
    "plot_data_cells(dfa, 'level', 'avg_length', 'Average peak length')\n",
    "plt.show()"
   ]
  },
  {
   "cell_type": "code",
   "execution_count": null,
   "metadata": {},
   "outputs": [],
   "source": [
    "dfa['f'] = dfa['level']\n",
    "plot_data_cells(dfa, 'f', 'peaks', 'Peaks')\n",
    "plt.show()\n",
    "plot_data_cells(dfa, 'f', 'avg_length', 'Average peak length')\n",
    "plt.show()"
   ]
  },
  {
   "cell_type": "markdown",
   "metadata": {},
   "source": [
    "# Consistency analysis"
   ]
  },
  {
   "cell_type": "code",
   "execution_count": null,
   "metadata": {},
   "outputs": [],
   "source": [
    "import tempfile\n",
    "\n",
    "def bedl(file):\n",
    "    try:\n",
    "        tf = pd.read_csv(file, sep='\\t', header=None)\n",
    "        return (tf[2] - tf[1]).sum()\n",
    "    except:\n",
    "        return 0. # Empty file\n",
    "\n",
    "tools_comparison = pd.DataFrame(columns=['gsm', 'modification', 'tool1', 'tool2', \n",
    "                                         'peaks1', 'peaks2', 'length1', 'length2', \n",
    "                                         'overlap1', 'overlap2', 'intersect'], dtype=object)\n",
    "\n",
    "tools = list(sorted(set(dfa['level'])))\n",
    "for gsm in tqdm(sorted(set(dfa['gsm']))):\n",
    "    for i in range(len(tools)):\n",
    "        for j in range(i + 1, len(tools)):\n",
    "            t1 = dfa.loc[(dfa['gsm'] == gsm) & (dfa['level'] == tools[i])]\n",
    "            t2 = dfa.loc[(dfa['gsm'] == gsm) & (dfa['level'] == tools[j])]\n",
    "            m = t1['modification'].values[0]\n",
    "            file1 = t1['file'].values[0]\n",
    "            peaks1 = t1['peaks'].values[0]\n",
    "            length1 = bedl(file1)\n",
    "            file2 = t2['file'].values[0]\n",
    "            peaks2 = t2['peaks'].values[0]\n",
    "            length2 = bedl(file2)\n",
    "            overlap1 = !bedtools intersect -a {file1} -b {file2} -wa -u | wc -l\n",
    "            overlap1 = int(overlap1[0])\n",
    "            overlap2 = !bedtools intersect -b {file1} -a {file2} -wa -u | wc -l            \n",
    "            overlap2 = int(overlap2[0])            \n",
    "            tf = tempfile.mktemp() \n",
    "            !bedtools intersect -b {file1} -a {file2} > {tf}\n",
    "            intersectionl = bedl(tf)\n",
    "            tools_comparison.loc[len(tools_comparison)] = \\\n",
    "                (gsm, m, tools[i], tools[j], peaks1, peaks2, length1, length2, \n",
    "                 overlap1, overlap2, intersectionl)\n",
    "            \n",
    "tools_comparison"
   ]
  },
  {
   "cell_type": "code",
   "execution_count": null,
   "metadata": {},
   "outputs": [],
   "source": [
    "to = pd.DataFrame(columns=['Modification', 'GSM', 'Comparison', 'Overlap'], dtype=object)\n",
    "for _, row in tools_comparison.iterrows():\n",
    "    m = row['modification']\n",
    "    gsm = row['gsm']\n",
    "    t1 = row['tool1']\n",
    "    t2 = row['tool2']\n",
    "    peaks1 = row['peaks1']\n",
    "    peaks2 = row['peaks2']\n",
    "    overlap1 = row['overlap1']\n",
    "    overlap2 = row['overlap2']    \n",
    "    to.loc[len(to)] = (m, gsm, f'Comparison {t1} vs {t2}', overlap1 / peaks1 if peaks1 !=0 else 0)\n",
    "    to.loc[len(to)] = (m, gsm, f'Comparison {t2} vs {t1}', overlap2 / peaks2 if peaks2 !=0 else 0)\n",
    "\n",
    "display(to) \n",
    "\n",
    "plt.figure(figsize=(18, 4))\n",
    "sns.barplot(data=to.loc[['span' in c for c in to['Comparison']]], \n",
    "            x='Modification', y='Overlap', hue='Comparison', capsize=.1, errwidth=2, edgecolor=\"black\")\n",
    "plt.show()"
   ]
  },
  {
   "cell_type": "code",
   "execution_count": null,
   "metadata": {},
   "outputs": [],
   "source": [
    "tj = pd.DataFrame(columns=['Modification', 'GSM', 'Comparison', 'Jaccard'], dtype=object)\n",
    "for _, row in tools_comparison.iterrows():\n",
    "    m = row['modification']\n",
    "    gsm = row['gsm']\n",
    "    t1 = row['tool1']\n",
    "    t2 = row['tool2']\n",
    "    length1 = row['length1']\n",
    "    length2 = row['length2']\n",
    "    intersection = row['intersect']\n",
    "    try:\n",
    "        jaccard = intersection / (length1 + length2 - intersection)\n",
    "    except:\n",
    "        jaccard = 0\n",
    "    tj.loc[len(tj)] = (m, gsm, f'Comparison {t1} vs {t2}', jaccard)\n",
    "\n",
    "display(tj) \n",
    "\n",
    "plt.figure(figsize=(18, 4))\n",
    "sns.barplot(data=tj.loc[['span' in c for c in tj['Comparison']]], \n",
    "            x='Modification', y='Jaccard', hue='Comparison', capsize=.1, errwidth=2, edgecolor=\"black\")\n",
    "plt.show()"
   ]
  },
  {
   "cell_type": "markdown",
   "metadata": {},
   "source": [
    "# Coverage analysis\n",
    "```\n",
    "# Experimental signal-to-noise ratio and peak calling contrast\n",
    "for M in $(ls /mnt/stripe/shpynov/2020_GSE26320/span/fit/*.span); do echo $M; java -cp experiments/build/libs/experiments-dev.jar -Dconfig.path=/home/user/.epigenome/config.properties org.jetbrains.bio.experiments.SPANPeakCallingContrastExperiment $M; done\n",
    "```"
   ]
  },
  {
   "cell_type": "code",
   "execution_count": null,
   "metadata": {},
   "outputs": [],
   "source": [
    "from io import StringIO\n",
    "\n",
    "ts = []\n",
    "for info in tqdm(glob.glob('/mnt/stripe/bio/experiments/span_peak_calling_contrast/*.info')):\n",
    "    name = os.path.basename(info)\n",
    "    gsm = re.findall('(GSM[0-9]+)', name)[0]\n",
    "    with open(info) as t:\n",
    "        info = ''.join(t.readlines())\n",
    "        if 'Error' in info:\n",
    "            continue\n",
    "#         print(info)\n",
    "        sn = float(re.findall('Signal to noise: ([0-9\\.]+)', info)[0])\n",
    "#         print('SN', sn)\n",
    "        totalscore = int(re.findall('Total Score: ([0-9]+)', info)[0])\n",
    "#         print('TS', totalscore)\n",
    "        dft = re.sub('(.|\\n)+Total Score:[^\\n]+\\n', '', info)\n",
    "        t = pd.read_csv(StringIO(dft), sep='\\t')\n",
    "        t['GSM'] = gsm\n",
    "        t['SNR'] = sn\n",
    "        t['TOTAL_SCORE'] = totalscore\n",
    "        ts.append(t)\n",
    "t = pd.concat(ts)\n",
    "\n",
    "t['PEAKS_RPKM'] = t['PEAKS_SCORE'] / (t['PEAKS_LENGTH'] / 1000) / (t['TOTAL_SCORE'] / 1000000)\n",
    "t['SHORES_RPKM'] = t['SHORES_SCORE'] / (t['SHORES_LENGTH'] / 1000) / (t['TOTAL_SCORE'] / 1000000)\n",
    "t['CONTRAST'] = t['PEAKS_RPKM'] / t['SHORES_RPKM']\n",
    "infodf = t\n",
    "infodf = infodf.loc[infodf['FDR'].astype(float)>=1e-10]\n",
    "infodf.head()"
   ]
  },
  {
   "cell_type": "code",
   "execution_count": null,
   "metadata": {},
   "outputs": [],
   "source": [
    "t = pd.merge(left=infodf, left_on='GSM', right=dfs[['gsm', 'cell', 'modification']].drop_duplicates(), right_on='gsm')\n",
    "infodf = t\n",
    "infodf.head()"
   ]
  },
  {
   "cell_type": "code",
   "execution_count": null,
   "metadata": {},
   "outputs": [],
   "source": [
    "import matplotlib\n",
    "\n",
    "def rgb2hex(r, g, b):\n",
    "    r, g, b = r * 255, g * 255, b * 255\n",
    "    return \"#{0:02x}{1:02x}{2:02x}\".format(int(r), int(g), int(b))\n",
    "\n",
    "cells = list(set(infodf['cell']))\n",
    "cmap = matplotlib.cm.get_cmap('tab20', len(cells))\n",
    "cell_colors = dict(zip(cells, [rgb2hex(*cmap(i)[:3]) for i in range(len(cells))]))\n",
    "cell_colors"
   ]
  },
  {
   "cell_type": "code",
   "execution_count": null,
   "metadata": {
    "scrolled": false
   },
   "outputs": [],
   "source": [
    "# Peaks number vs FDR\n",
    "for m in set(infodf['modification']):\n",
    "    tm = infodf.loc[infodf['modification'] == m]\n",
    "    fig = go.Figure()\n",
    "    \n",
    "    for g in sorted(set(tm['GAP'])):\n",
    "        tmg = tm.loc[tm['GAP'] == g]\n",
    "        for c in sorted(set(tmg['cell'])):\n",
    "            tmgc = tmg.loc[tmg['cell']==c].copy()\n",
    "            tmgc.sort_values(by=['FDR'], inplace=True)\n",
    "            if g == 0:\n",
    "                fig.add_trace(go.Scatter(x=np.log10(tmgc['FDR']), y=tmgc['PEAKS_NUMBER'], \n",
    "                         mode='lines',\n",
    "                         name=f'{c} {g}',\n",
    "                         line = dict(color=cell_colors[c], width=2, dash='dash')))\n",
    "            elif g == 5:\n",
    "                fig.add_trace(go.Scatter(x=np.log10(tmgc['FDR']), y=tmgc['PEAKS_NUMBER'], \n",
    "                         mode='lines',\n",
    "                         name=f'{c} {g}',\n",
    "                         line = dict(color=cell_colors[c], width=2)))\n",
    "            elif g == 10:\n",
    "                fig.add_trace(go.Scatter(x=np.log10(tmgc['FDR']), y=tmgc['PEAKS_NUMBER'], \n",
    "                         mode='lines',\n",
    "                         name=f'{c} {g}',\n",
    "                         line = dict(color=cell_colors[c], width=2, dash='dot')))\n",
    "\n",
    "    fig.update_xaxes(title=f'{m} Log10 FDR')\n",
    "    fig.update_yaxes(title=f'{m} Peaks')\n",
    "    fig.show()"
   ]
  },
  {
   "cell_type": "code",
   "execution_count": null,
   "metadata": {
    "scrolled": true
   },
   "outputs": [],
   "source": [
    "infodf['PEAKS_AVG_LENGTH'] = infodf['PEAKS_LENGTH'] / infodf['PEAKS_NUMBER']\n",
    "# Peaks number vs Peaks average length\n",
    "for m in set(infodf['modification']):\n",
    "    tm = infodf.loc[infodf['modification'] == m]\n",
    "    fig = go.Figure()\n",
    "    \n",
    "    for g in sorted(set(tm['GAP'])):\n",
    "        tmg = tm.loc[tm['GAP'] == g]\n",
    "        for c in sorted(set(tmg['cell'])):\n",
    "            tmgc = tmg.loc[tmg['cell']==c].copy()\n",
    "            tmgc.sort_values(by=['FDR'], inplace=True)\n",
    "            if g == 0:\n",
    "                fig.add_trace(go.Scatter(x=tmgc['PEAKS_NUMBER'], y=tmgc['PEAKS_AVG_LENGTH'], \n",
    "                         mode='lines',\n",
    "                         name=f'{c} {g}',\n",
    "                         line = dict(color=cell_colors[c], width=2, dash='dash')))\n",
    "            elif g == 5:\n",
    "                fig.add_trace(go.Scatter(x=tmgc['PEAKS_NUMBER'], y=tmgc['PEAKS_AVG_LENGTH'], \n",
    "                         mode='lines',\n",
    "                         name=f'{c} {g}',\n",
    "                         line = dict(color=cell_colors[c], width=2)))\n",
    "            elif g == 10:\n",
    "                fig.add_trace(go.Scatter(x=tmgc['PEAKS_NUMBER'], y=tmgc['PEAKS_AVG_LENGTH'], \n",
    "                         mode='lines',\n",
    "                         name=f'{c} {g}',\n",
    "                         line = dict(color=cell_colors[c], width=2, dash='dot')))\n",
    "\n",
    "    fig.update_xaxes(title=f'{m} Peaks number')\n",
    "    fig.update_yaxes(title=f'{m} Peaks average length')\n",
    "    fig.show()"
   ]
  },
  {
   "cell_type": "code",
   "execution_count": null,
   "metadata": {
    "scrolled": false
   },
   "outputs": [],
   "source": [
    "# # Contrast vs FDR\n",
    "# for m in set(infodf['modification']):\n",
    "#     tm = infodf.loc[infodf['modification'] == m]\n",
    "#     for g in sorted(set(tm['GAP'])):\n",
    "#         tmg = tm.loc[tm['GAP'] == g]\n",
    "#         fig = go.Figure()\n",
    "#         for c in sorted(set(tmg['cell'])):\n",
    "#             tmgc = tmg.loc[tmg['cell']==c].copy()\n",
    "#             tmgc.sort_values(by=['FDR'], inplace=True)\n",
    "#             fig.add_trace(go.Scatter(x=np.log10(tmgc['FDR']), y=tmgc['CONTRAST'], \n",
    "#                                      mode='lines+markers',\n",
    "#                                      name=c))\n",
    "#         fig.update_xaxes(title=f'{m} Log10 FDR')\n",
    "#         fig.update_yaxes(title=f'{m} gap {g} Contrast')\n",
    "#         fig.show()"
   ]
  },
  {
   "cell_type": "code",
   "execution_count": null,
   "metadata": {
    "scrolled": false
   },
   "outputs": [],
   "source": [
    "# Contrast vs Peaks RPKM\n",
    "for m in set(infodf['modification']):\n",
    "    tm = infodf.loc[infodf['modification'] == m]\n",
    "    display(tm.loc[np.logical_and(t['GAP']==5, t['FDR'].isin([0.1, 1e-6]))][\n",
    "        ['modification', 'cell', 'GAP', 'FDR', 'SNR', 'PEAKS_NUMBER', 'PEAKS_RPKM', 'CONTRAST']\n",
    "    ].sort_values(by=['cell']))\n",
    "    for g in sorted(set(tm['GAP'])):\n",
    "        tmg = tm.loc[tm['GAP'] == g]\n",
    "        fig = go.Figure()\n",
    "        for c in sorted(set(tmg['cell'])):\n",
    "            tmgc = tmg.loc[tmg['cell']==c].copy()\n",
    "            tmgc.sort_values(by=['FDR'], inplace=True)\n",
    "            fig.add_trace(go.Scatter(x=np.log10(tmgc['PEAKS_RPKM']), y=tmgc['CONTRAST'], \n",
    "                                     mode='lines+markers',\n",
    "                                     name=c))\n",
    "        fig.update_xaxes(title=f'{m} Peaks log10 RPKM')\n",
    "        fig.update_yaxes(title=f'{m} gap {g} Contrast')\n",
    "        fig.show()"
   ]
  },
  {
   "cell_type": "code",
   "execution_count": null,
   "metadata": {
    "scrolled": false
   },
   "outputs": [],
   "source": [
    "# Contrast vs Peaks RPKM\n",
    "for m in set(infodf['modification']):\n",
    "    tm = infodf.loc[infodf['modification'] == m]\n",
    "    fig = go.Figure()\n",
    "    display(tm.loc[np.logical_and(t['GAP']==5, t['FDR'].isin([0.1, 1e-6]))][\n",
    "        ['modification', 'cell', 'GAP', 'FDR', 'SNR', 'PEAKS_NUMBER', 'PEAKS_RPKM', 'CONTRAST']\n",
    "    ].sort_values(by=['cell']))\n",
    "    \n",
    "    for g in sorted(set(tm['GAP'])):\n",
    "        tmg = tm.loc[tm['GAP'] == g]\n",
    "        for c in sorted(set(tmg['cell'])):\n",
    "            tmgc = tmg.loc[tmg['cell']==c].copy()\n",
    "            tmgc.sort_values(by=['FDR'], inplace=True)\n",
    "            if g == 0:\n",
    "                fig.add_trace(go.Scatter(x=np.log10(tmgc['PEAKS_RPKM']), y=tmgc['CONTRAST'], \n",
    "                         mode='lines',\n",
    "                         name=f'{c} {g}',\n",
    "                         line = dict(color=cell_colors[c], width=2, dash='dash')))\n",
    "            elif g == 5:\n",
    "                fig.add_trace(go.Scatter(x=np.log10(tmgc['PEAKS_RPKM']), y=tmgc['CONTRAST'], \n",
    "                         mode='lines',\n",
    "                         name=f'{c} {g}',\n",
    "                         line = dict(color=cell_colors[c], width=2)))\n",
    "            elif g == 10:\n",
    "                fig.add_trace(go.Scatter(x=np.log10(tmgc['PEAKS_RPKM']), y=tmgc['CONTRAST'], \n",
    "                         mode='lines',\n",
    "                         name=f'{c} {g}',\n",
    "                         line = dict(color=cell_colors[c], width=2, dash='dot')))\n",
    "\n",
    "    fig.update_xaxes(title=f'{m} Peaks log10 RPKM')\n",
    "    fig.update_yaxes(title=f'{m} Contrast')\n",
    "    fig.show()"
   ]
  },
  {
   "cell_type": "code",
   "execution_count": null,
   "metadata": {
    "scrolled": false
   },
   "outputs": [],
   "source": [
    "# # Contrast vs Peaks number\n",
    "# for m in set(infodf['modification']):\n",
    "#     tm = infodf.loc[infodf['modification'] == m]\n",
    "#     display(tm.loc[np.logical_and(t['GAP']==5, t['FDR']==0.1)][\n",
    "#         ['modification', 'cell', 'SNR', 'PEAKS_NUMBER', 'PEAKS_RPKM', 'CONTRAST']\n",
    "#     ].sort_values(by=['cell']))\n",
    "#     for g in sorted(set(tm['GAP'])):\n",
    "#         tmg = tm.loc[tm['GAP'] == g]\n",
    "#         fig = go.Figure()\n",
    "#         for c in sorted(set(tmg['cell'])):\n",
    "#             tmgc = tmg.loc[tmg['cell']==c].copy()\n",
    "#             tmgc.sort_values(by=['FDR'], inplace=True)\n",
    "#             fig.add_trace(go.Scatter(x=np.log10(tmgc['PEAKS_NUMBER']), y=tmgc['CONTRAST'], \n",
    "#                                      mode='lines+markers',\n",
    "#                                      name=c))\n",
    "#         fig.update_xaxes(title=f'{m} Peaks log10 number')\n",
    "#         fig.update_yaxes(title=f'{m} gap {g} Contrast')\n",
    "#         fig.show()"
   ]
  },
  {
   "cell_type": "code",
   "execution_count": null,
   "metadata": {},
   "outputs": [],
   "source": [
    "# Real signal-to-noise ratio\n",
    "infodf['REAL_SNR'] = (infodf['PEAKS_SCORE'] / infodf['PEAKS_LENGTH']) / (infodf['TOTAL_SCORE'] - infodf['PEAKS_SCORE']) * (3*10e9 - infodf['PEAKS_LENGTH'])\n",
    "infodf.head()"
   ]
  },
  {
   "cell_type": "code",
   "execution_count": null,
   "metadata": {
    "scrolled": false
   },
   "outputs": [],
   "source": [
    "# FDR vs REAL signal to noise\n",
    "for m in set(infodf['modification']):\n",
    "    tm = infodf.loc[infodf['modification'] == m]\n",
    "    fig = go.Figure()\n",
    "    \n",
    "    for g in sorted(set(tm['GAP'])):\n",
    "        tmg = tm.loc[tm['GAP'] == g]\n",
    "        for c in sorted(set(tmg['cell'])):\n",
    "            tmgc = tmg.loc[tmg['cell']==c].copy()\n",
    "            tmgc.sort_values(by=['FDR'], inplace=True)\n",
    "            if g == 0:\n",
    "                fig.add_trace(go.Scatter(x=np.log10(tmgc['FDR']), y=np.log10(tmgc['REAL_SNR']), \n",
    "                         mode='lines+markers',\n",
    "                         name=f'{c} {g}',\n",
    "                         line = dict(color=cell_colors[c], width=1, dash='dash')))\n",
    "            elif g == 5:\n",
    "                fig.add_trace(go.Scatter(x=np.log10(tmgc['FDR']), y=np.log10(tmgc['REAL_SNR']), \n",
    "                                         mode='lines+markers',\n",
    "                                         name=f'{c} {g}',\n",
    "                                         line = dict(color=cell_colors[c], width=1)))\n",
    "            elif g == 10:\n",
    "                fig.add_trace(go.Scatter(x=np.log10(tmgc['FDR']), y=np.log10(tmgc['REAL_SNR']), \n",
    "                         mode='lines+markers',\n",
    "                         name=f'{c} {g}',\n",
    "                         line = dict(color=cell_colors[c], width=1, dash='dot')))\n",
    "\n",
    "    fig.update_xaxes(title='Log10 FDR')\n",
    "    fig.update_yaxes(title=f'{m} gap {g} Log10 SNR')\n",
    "    fig.show()"
   ]
  },
  {
   "cell_type": "code",
   "execution_count": null,
   "metadata": {
    "scrolled": false
   },
   "outputs": [],
   "source": [
    "# PEAKS NUMBER vs REAL signal to noise\n",
    "for m in set(infodf['modification']):\n",
    "    tm = infodf.loc[infodf['modification'] == m]\n",
    "    fig = go.Figure()\n",
    "    \n",
    "    for g in sorted(set(tm['GAP'])):\n",
    "        tmg = tm.loc[tm['GAP'] == g]\n",
    "        for c in sorted(set(tmg['cell'])):\n",
    "            tmgc = tmg.loc[tmg['cell']==c].copy()\n",
    "            tmgc.sort_values(by=['FDR'], inplace=True)\n",
    "            if g == 0:\n",
    "                fig.add_trace(go.Scatter(x=np.log10(tmgc['PEAKS_NUMBER']), y=np.log10(tmgc['REAL_SNR']), \n",
    "                         mode='lines+markers',\n",
    "                         name=f'{c} {g}',\n",
    "                         line = dict(color=cell_colors[c], width=1, dash='dash')))\n",
    "            elif g == 5:\n",
    "                fig.add_trace(go.Scatter(x=np.log10(tmgc['PEAKS_NUMBER']), y=np.log10(tmgc['REAL_SNR']), \n",
    "                                         mode='lines+markers',\n",
    "                                         name=f'{c} {g}',\n",
    "                                         line = dict(color=cell_colors[c], width=1)))\n",
    "            elif g == 10:\n",
    "                fig.add_trace(go.Scatter(x=np.log10(tmgc['PEAKS_NUMBER']), y=np.log10(tmgc['REAL_SNR']), \n",
    "                         mode='lines+markers',\n",
    "                         name=f'{c} {g}',\n",
    "                         line = dict(color=cell_colors[c], width=1, dash='dot')))\n",
    "\n",
    "    fig.update_xaxes(title='Log10 Peaks number')\n",
    "    fig.update_yaxes(title=f'{m} gap {g} Log10 SNR')\n",
    "    fig.show()"
   ]
  },
  {
   "cell_type": "code",
   "execution_count": null,
   "metadata": {},
   "outputs": [],
   "source": []
  }
 ],
 "metadata": {
  "kernelspec": {
   "display_name": "Python 3",
   "language": "python",
   "name": "python3"
  },
  "language_info": {
   "codemirror_mode": {
    "name": "ipython",
    "version": 3
   },
   "file_extension": ".py",
   "mimetype": "text/x-python",
   "name": "python",
   "nbconvert_exporter": "python",
   "pygments_lexer": "ipython3",
   "version": "3.8.5"
  },
  "toc": {
   "nav_menu": {},
   "number_sections": true,
   "sideBar": true,
   "skip_h1_title": false,
   "toc_cell": false,
   "toc_position": {},
   "toc_section_display": "block",
   "toc_window_display": true
  }
 },
 "nbformat": 4,
 "nbformat_minor": 2
}