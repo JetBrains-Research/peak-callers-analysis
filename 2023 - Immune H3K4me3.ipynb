{
 "cells": [
  {
   "cell_type": "markdown",
   "metadata": {},
   "source": [
    "# 2023 Immune dataset H3K4me3 vs RNA-seq\n",
    "\n",
    "Benchmark according to the paper https://doi.org/10.1093/bib/bbw035\n",
    "Features that define the best ChIP-seq peak calling algorithms\n",
    "\n",
    "We considered a peak as positive if it overlaps an active gene (defined varying RPKM from 0 to 2)\n",
    "and compared methods based on sensitivity, precision and F-score.\n",
    "\n",
    "Data:\n",
    "https://www.encodeproject.org/immune-cells/?type=Experiment&replicates.library.biosample.donor.organism.scientific_name=Homo+sapiens&biosample_ontology.cell_slims=hematopoietic+cell&biosample_ontology.classification=primary+cell&control_type!=*&status!=replaced&status!=revoked&status!=archived&biosample_ontology.system_slims=immune+system&biosample_ontology.system_slims=circulatory+system&config=immune"
   ]
  },
  {
   "cell_type": "code",
   "execution_count": null,
   "metadata": {
    "ExecuteTime": {
     "end_time": "2019-01-24T09:42:05.555231Z",
     "start_time": "2019-01-24T09:42:03.994631Z"
    }
   },
   "outputs": [],
   "source": [
    "%matplotlib inline\n",
    "%config InlineBackend.figure_format='retina'\n",
    "\n",
    "from IPython.display import display\n",
    "import pandas as pd\n",
    "from tqdm.auto import tqdm\n",
    "import seaborn as sns\n",
    "\n",
    "sns.set_style(\"whitegrid\")\n",
    "import matplotlib.pyplot as plt\n",
    "from matplotlib.backends.backend_pdf import PdfPages\n",
    "import numpy as np\n",
    "import scipy as sp\n",
    "import os"
   ]
  },
  {
   "cell_type": "code",
   "execution_count": null,
   "outputs": [],
   "source": [
    "def bedl(file):\n",
    "    try:\n",
    "        tf = pd.read_csv(file, sep='\\t', header=None)\n",
    "        return tf[2] - tf[1]\n",
    "    except:\n",
    "        return np.zeros(0)  # Empty file\n",
    "\n",
    "\n",
    "def lines(file):\n",
    "    try:\n",
    "        tf = pd.read_csv(file, sep='\\t', header=None)\n",
    "        return len(tf)\n",
    "    except:\n",
    "        return 0  # Empty file\n",
    "\n",
    "def d(a, b):\n",
    "    return a / b if b != 0 else 0\n",
    "\n",
    "def detect_tool(file):\n",
    "    if '.narrowPeak' in file:\n",
    "        return 'MACS2'\n",
    "    elif '.broadPeak' in file:\n",
    "        return 'MACS2 broad'\n",
    "    elif '.peak' in file:\n",
    "        return 'SPAN'\n",
    "    else:\n",
    "        return 'SICER'"
   ],
   "metadata": {
    "collapsed": false
   }
  },
  {
   "cell_type": "markdown",
   "source": [
    "## Load hg38 gtf file"
   ],
   "metadata": {
    "collapsed": false
   }
  },
  {
   "cell_type": "code",
   "execution_count": null,
   "outputs": [],
   "source": [
    "gtf_df = pd.read_csv(os.path.expanduser(\n",
    "    '~/data/2023_Immune/gencode.GRCh38.p13.v41.annotation.gtf'),\n",
    "    sep='\\t', comment='#',\n",
    "    names=['chromosome', 'db', 'type', 'start', 'end', 'point1', 'strand', 'point2', 'aux'])\n",
    "gtf_df.sample(10)"
   ],
   "metadata": {
    "collapsed": false
   }
  },
  {
   "cell_type": "code",
   "execution_count": null,
   "outputs": [],
   "source": [
    "import re\n",
    "\n",
    "print('Parse GTF aux data')\n",
    "auxes = {}\n",
    "for i, aux in enumerate(tqdm(gtf_df['aux'])):\n",
    "    for pair in aux.split(';'):\n",
    "        kv = pair.strip().split(' ')\n",
    "        if len(kv) != 2:\n",
    "            continue\n",
    "        k, v = kv\n",
    "        if k not in auxes:\n",
    "            auxes[k] = vs = []\n",
    "        else:\n",
    "            vs = auxes[k]\n",
    "        vs.append(v.strip('\"'))\n",
    "\n",
    "for k, vs in auxes.items():\n",
    "    if len(vs) == len(gtf_df):\n",
    "        gtf_df[k] = vs\n",
    "    else:\n",
    "        print(f'Ignoring {k}')\n",
    "del auxes\n",
    "gtf_df.drop('aux', axis=1, inplace=True)\n",
    "\n",
    "# Fix . in gene_id\n",
    "gtf_df['gene_id'] = [re.sub('\\..*', '', id) for id in gtf_df['gene_id']]"
   ],
   "metadata": {
    "collapsed": false
   }
  },
  {
   "cell_type": "code",
   "execution_count": null,
   "outputs": [],
   "source": [
    "print(f'Total hg38 records {len(gtf_df)}')\n",
    "print(f'Total hg38 genes {sum(gtf_df[\"type\"] == \"gene\")}')\n",
    "print(f'Total hg38 protein_coding genes {sum((gtf_df[\"type\"] == \"gene\") & (gtf_df[\"gene_type\"] == \"protein_coding\"))}')\n",
    "\n",
    "gtf_genes_df = gtf_df[gtf_df['type'] == 'gene']\n",
    "gtf_genes_df.sample(5)"
   ],
   "metadata": {
    "collapsed": false
   }
  },
  {
   "cell_type": "markdown",
   "source": [
    "## Annotatate RNA-seq tables with TSS positions"
   ],
   "metadata": {
    "collapsed": false
   }
  },
  {
   "cell_type": "code",
   "execution_count": null,
   "outputs": [],
   "source": [
    "import re\n",
    "\n",
    "PATH = os.path.expanduser('~/data/2023_Immune')\n",
    "\n",
    "EXPRESSION_TSV = {\n",
    "    'BCell': PATH + '/expression/BCell_RNAseq_hg38_ENCFF947SKG.tsv',\n",
    "    'TCell': PATH + '/expression/TCell_RNAseq_hg38_ENCFF502AZI.tsv',\n",
    "    'Monocyte': PATH + '/expression/Monocyte_RNAseq_hg38_ENCFF408GAO.tsv',\n",
    "}\n",
    "\n",
    "EXPRESSION_TSS_BED = {}\n",
    "THRESHOLD = 0.1\n",
    "TSS=5000\n",
    "\n",
    "for cell, path in EXPRESSION_TSV.items():\n",
    "    print(cell, path)\n",
    "    t = pd.read_csv(path, sep='\\t')\n",
    "    # Fix . in gene_id\n",
    "    t['gene_id'] = [re.sub('\\..*', '', id) for id in t['gene_id']]\n",
    "    t['LTPM'] = np.log1p(t['TPM'])\n",
    "\n",
    "    # Plot expression\n",
    "    plt.figure(figsize=(10, 1))\n",
    "    ax = plt.axes()\n",
    "    g_results = sns.histplot(data=t, x='LTPM', ax=ax,\n",
    "                             stat='density',\n",
    "                             bins=50, kde=True, alpha=0.4)\n",
    "    ax.title.set_text(f'{cell} expression')\n",
    "    plt.show()\n",
    "\n",
    "    # Save expressed genes\n",
    "    full_df = pd.merge(left=t, right=gtf_genes_df, left_on='gene_id', right_on='gene_id')\n",
    "    print(f'Total genes with positions {len(full_df)}')\n",
    "    full_df = full_df[full_df['LTPM'] > THRESHOLD]\n",
    "    print(f'Genes logTPM > {THRESHOLD} {len(full_df)}')\n",
    "\n",
    "    starts = [\n",
    "        max(1, start - TSS if strand == '+' else end - TSS)\n",
    "        for start, end, strand in zip(full_df['start'], full_df['end'], full_df['strand'])\n",
    "    ]\n",
    "    ends = [\n",
    "        start + TSS if strand == '+' else end + TSS\n",
    "        for start, end, strand in zip(full_df['start'], full_df['end'], full_df['strand'])\n",
    "    ]\n",
    "    full_df['start'] = starts\n",
    "    full_df['end'] = ends\n",
    "    full_df = full_df[['chromosome', 'start', 'end', 'gene_id', 'strand', 'TPM', 'LTPM']]\n",
    "    full_df.sort_values(by=['chromosome', 'start'], inplace=True)\n",
    "\n",
    "    expr_path = path.replace('.tsv', f'_tpm{THRESHOLD}_tss{TSS}.bed')\n",
    "    full_df.to_csv(expr_path, sep='\\t', index=False, header=None)\n",
    "    print(f'Saved expressed genes fom {cell} to {expr_path}')\n",
    "    EXPRESSION_TSS_BED[cell] = expr_path\n"
   ],
   "metadata": {
    "collapsed": false
   }
  },
  {
   "cell_type": "markdown",
   "source": [
    "## Load peaks"
   ],
   "metadata": {
    "collapsed": false
   }
  },
  {
   "cell_type": "code",
   "execution_count": null,
   "outputs": [],
   "source": [
    "IMMUNE_CELLS = ['BCell', 'TCell', 'Monocyte']\n",
    "MODIFICATIONS = ['H3K4me3']\n",
    "\n",
    "def load_peaks_fdr(path, suffix, fdrs):\n",
    "    df_fdr = pd.DataFrame(columns=['file', 'modification', 'cell', 'fdr', 'peaks', 'avlength'],\n",
    "                          dtype=object)\n",
    "    for f in tqdm(os.listdir(path)):\n",
    "        if suffix not in f:\n",
    "            continue\n",
    "        fdr = next((fdr for fdr in fdrs if fdr in f), None)\n",
    "        cell = next((cc for cc in IMMUNE_CELLS if cc in f), None)\n",
    "        mod = next((m for m in MODIFICATIONS if m in f), None)\n",
    "        # print(f, fdr, cell, mod)\n",
    "        if fdr and cell and mod:\n",
    "            peaks_path = os.path.join(path, f)\n",
    "            ps, ls = lines(peaks_path), bedl(peaks_path)\n",
    "            avls = 0 if ps == 0 else sum(ls) / ps\n",
    "            df_fdr.loc[len(df_fdr)] = (f, mod, cell, fdr, ps, avls)\n",
    "    return df_fdr"
   ],
   "metadata": {
    "collapsed": false
   }
  },
  {
   "cell_type": "code",
   "execution_count": null,
   "outputs": [],
   "source": [
    "df_fdr_macs2 = load_peaks_fdr(os.path.join(PATH, 'macs2'), '.narrowPeak', ['0.05'])\n",
    "df_fdr_macs2['file'] = [f'{PATH}/macs2/{f}' for f in df_fdr_macs2['file']]\n",
    "df_fdr_macs2['tool'] = 'MACS2'\n",
    "print('MACS2', len(df_fdr_macs2))\n",
    "\n",
    "df_fdr_macs2broad = load_peaks_fdr(os.path.join(PATH, 'macs2'), '.broadPeak', ['0.1'])\n",
    "df_fdr_macs2broad['file'] = [f'{PATH}/macs2/{f}' for f in df_fdr_macs2broad['file']]\n",
    "df_fdr_macs2broad['tool'] = 'MACS2 broad'\n",
    "print('MACS2 broad', len(df_fdr_macs2broad))\n",
    "\n",
    "df_fdr_sicer = load_peaks_fdr(os.path.join(PATH, 'sicer'), 'summary-FDR', ['0.01'])\n",
    "df_fdr_sicer['file'] = [f'{PATH}/sicer/{f}' for f in df_fdr_sicer['file']]\n",
    "df_fdr_sicer['tool'] = 'SICER'\n",
    "print('SICER', len(df_fdr_sicer))\n",
    "\n",
    "df_fdr_span = load_peaks_fdr(os.path.join(PATH, 'span'), '.peak', ['0.05'])\n",
    "df_fdr_span['file'] = [f'{PATH}/span/{f}' for f in df_fdr_span['file']]\n",
    "df_fdr_span['tool'] = 'SPAN'\n",
    "print('SPAN', len(df_fdr_span))\n",
    "\n",
    "df_fdr_peaks = pd.concat([df_fdr_macs2, df_fdr_macs2broad, df_fdr_sicer, df_fdr_span])\n",
    "df_fdr_peaks.sample(5)"
   ],
   "metadata": {
    "collapsed": false
   }
  },
  {
   "cell_type": "code",
   "execution_count": null,
   "outputs": [],
   "source": [
    "TOOLS = ['MACS2', 'MACS2 broad', 'SICER', 'SPAN', 'Genes']\n",
    "palette = plt.cm.get_cmap('tab10')\n",
    "TOOLS_PALETTE = {t: palette(i) for i, t in enumerate(TOOLS)}"
   ],
   "metadata": {
    "collapsed": false
   }
  },
  {
   "cell_type": "markdown",
   "source": [
    "## Peaks number and lengths"
   ],
   "metadata": {
    "collapsed": false
   }
  },
  {
   "cell_type": "code",
   "execution_count": null,
   "outputs": [],
   "source": [
    "plt.figure(figsize=(4, 4))\n",
    "ax = plt.axes()\n",
    "g_results = sns.barplot(data=df_fdr_peaks, x='tool', y='peaks', ax=ax,\n",
    "                        capsize=.2, errwidth=2, edgecolor=\"black\",\n",
    "                        palette=TOOLS_PALETTE)\n",
    "ax.xaxis.set_tick_params(rotation=90)\n",
    "ax.title.set_text('H3K4me3 peaks number')\n",
    "plt.show()"
   ],
   "metadata": {
    "collapsed": false
   }
  },
  {
   "cell_type": "code",
   "execution_count": null,
   "outputs": [],
   "source": [
    "ts = []\n",
    "for file, tool in tqdm(zip(df_fdr_peaks['file'], df_fdr_peaks['tool'])):\n",
    "    lengths = bedl(file)\n",
    "    t = pd.DataFrame(dict(name=[tool] * len(lengths), length=lengths))\n",
    "    ts.append(t.sample(min(len(t), 10_000)))\n",
    "t = pd.concat(ts).reset_index(drop=True)\n",
    "del ts\n",
    "t.sample(10)"
   ],
   "metadata": {
    "collapsed": false
   }
  },
  {
   "cell_type": "code",
   "execution_count": null,
   "outputs": [],
   "source": [
    "plt.figure(figsize=(4, 4))\n",
    "ax = plt.axes()\n",
    "g_results = sns.boxplot(data=t, x='name', y='length', ax=ax, palette=TOOLS_PALETTE)\n",
    "ax.title.set_text('H3K4me3 peaks length')\n",
    "ax.xaxis.set_tick_params(rotation=90)\n",
    "ax.set_ylim([0, 10_000])\n",
    "plt.show()"
   ],
   "metadata": {
    "collapsed": false
   }
  },
  {
   "cell_type": "code",
   "execution_count": null,
   "outputs": [],
   "source": [
    "plt.figure(figsize=(8, 5))\n",
    "ax = plt.axes()\n",
    "g_results = sns.histplot(data=t, x='length', hue='name', ax=ax,\n",
    "                         stat='density', common_bins=False, common_norm=False,\n",
    "                         kde=True, log_scale=True, alpha=0.2,\n",
    "                         palette=TOOLS_PALETTE)\n",
    "g_results.set(xscale='log')\n",
    "g_results.set_ylim(0, 3)\n",
    "g_results.set_xlim(1e2, 1e4)\n",
    "ax.title.set_text('H3K4me3 peaks length')\n",
    "plt.show()"
   ],
   "metadata": {
    "collapsed": false
   }
  },
  {
   "cell_type": "code",
   "execution_count": null,
   "outputs": [],
   "source": [
    "plt.figure(figsize=(8, 5))\n",
    "ax = plt.axes()\n",
    "g_results = sns.histplot(data=t, x='length', hue='name', ax=ax,\n",
    "                         stat='density', common_bins=False, common_norm=False,\n",
    "                         bins=50, kde=True, log_scale=True, alpha=0.2,\n",
    "                         palette=TOOLS_PALETTE)\n",
    "g_results.set(xscale='log')\n",
    "g_results.set_ylim(0, 3)\n",
    "g_results.set_xlim(1e2, 1e4)\n",
    "ax.title.set_text('H3K4me3 peaks length')\n",
    "plt.show()"
   ],
   "metadata": {
    "collapsed": false
   }
  },
  {
   "cell_type": "code",
   "execution_count": null,
   "outputs": [],
   "source": [
    "# Randomly tweak SPAN, SICER lengths for visualization purposes\n",
    "tsicer = t['name'] == 'SICER'\n",
    "t.loc[tsicer, 'length'] += np.random.normal(0, 100, size=sum(tsicer))\n",
    "tspan = t['name'] == 'SPAN'\n",
    "t.loc[tspan, 'length'] += np.random.normal(0, 100, size=sum(tspan))"
   ],
   "metadata": {
    "collapsed": false
   }
  },
  {
   "cell_type": "code",
   "execution_count": null,
   "outputs": [],
   "source": [
    "plt.figure(figsize=(8, 5))\n",
    "ax = plt.axes()\n",
    "g_results = sns.histplot(data=t, x='length', hue='name', ax=ax,\n",
    "                         stat='density', common_bins=False, common_norm=False,\n",
    "                         bins=200, kde=True, log_scale=True, alpha=0.2,\n",
    "                         palette=TOOLS_PALETTE)\n",
    "g_results.set(xscale='log')\n",
    "g_results.set_ylim(0, 3)\n",
    "g_results.set_xlim(1e2, 1e4)\n",
    "ax.title.set_text('H3K4me3 peaks length')\n",
    "plt.show()"
   ],
   "metadata": {
    "collapsed": false
   }
  },
  {
   "cell_type": "markdown",
   "source": [
    "## Overlap H3K4me3 vs genes TSS"
   ],
   "metadata": {
    "collapsed": false
   }
  },
  {
   "cell_type": "code",
   "execution_count": null,
   "outputs": [],
   "source": [
    "import tempfile\n",
    "\n",
    "\n",
    "def overlap_by_length(file1, file2, min_overlap):\n",
    "    tf = tempfile.mktemp()\n",
    "    !bedtools intersect -a {file1} -b {file2} -wo > {tf}\n",
    "    try:\n",
    "        peaks1 = pd.read_csv(file1, sep='\\t', header=None, nrows=1)\n",
    "        ncol1 = len(peaks1.columns)\n",
    "    except:\n",
    "        # Empty file\n",
    "        ncol1 = None\n",
    "    try:\n",
    "        peaks2 = pd.read_csv(file2, sep='\\t', header=None, nrows=1)\n",
    "        ncol2 = len(peaks2.columns)\n",
    "    except:\n",
    "        # Empty file\n",
    "        ncol2 = None\n",
    "\n",
    "    # print(f'Peaks1 {npeaks1} length {length1} columns {ncol1}')\n",
    "    # print(f'Peaks2 {npeaks2} length {length2} columns {ncol2}')\n",
    "    if ncol1 is not None and ncol2 is not None:\n",
    "        try:\n",
    "            overlap = pd.read_csv(tf, sep='\\t', header=None)\n",
    "        except:\n",
    "            return 0, 0, 0\n",
    "        # print(len(overlap))\n",
    "        # print(sum(overlap[ncol1 + ncol2] > min_overlap))\n",
    "        overlap = overlap[overlap[ncol1 + ncol2] > min_overlap]\n",
    "        overlap1 = overlap[[0, 1, 2, ncol1 + ncol2]].groupby([0, 1, 2]).aggregate(sum).reset_index()\n",
    "        # print(f'Overlap1 {len(overlap1)} length  {overlap1[ncol1 + ncol2].sum()}')\n",
    "        overlap2 = overlap[[ncol1, ncol1 + 1, ncol1 + 2, ncol1 + ncol2]]. \\\n",
    "            groupby([ncol1, ncol1 + 1, ncol1 + 2]).aggregate(sum).reset_index()\n",
    "        # print(f'Overlap2 {len(overlap2)} length  {overlap2[ncol1 + ncol2].sum()}')\n",
    "        return len(overlap1), len(overlap2), overlap2[ncol1 + ncol2].sum()\n",
    "    else:\n",
    "        return 0, 0, 0"
   ],
   "metadata": {
    "collapsed": false
   }
  },
  {
   "cell_type": "code",
   "execution_count": null,
   "outputs": [],
   "source": [
    "tf = tempfile.mktemp()\n",
    "\n",
    "bench_df = pd.DataFrame(\n",
    "    columns=['cell', 'name', 'overlap', 'peaks', 'genes', 'peaks_overlap', 'genes_overlap'],\n",
    "    dtype=object\n",
    ")\n",
    "\n",
    "for c in tqdm(IMMUNE_CELLS):\n",
    "    expr_file = EXPRESSION_TSS_BED[c]\n",
    "    genes = lines(expr_file)\n",
    "    print(f'Cell {c} genes {genes}')\n",
    "    for tool in set(df_fdr_peaks['tool']):\n",
    "        t = df_fdr_peaks[(df_fdr_peaks['tool'] == tool) & (df_fdr_peaks['modification'] == 'H3K4me3') &\n",
    "                         (df_fdr_peaks['cell'] == c)]\n",
    "        if len(t) == 0:\n",
    "            continue\n",
    "        peaks_file = t['file'].values[0]\n",
    "        peaks = lines(peaks_file)\n",
    "        peaks_overlap, genes_overlap, _ = overlap_by_length(peaks_file, expr_file, 100)\n",
    "        bench_df.loc[len(bench_df)] = (c, tool, '100bp', peaks, genes, peaks_overlap, genes_overlap)\n",
    "        for overlap, overlap_param in [\n",
    "            ('1bp', ''),\n",
    "            ('50%', ' -f 0.5 '),\n",
    "        ]:\n",
    "            !bedtools intersect -a {peaks_file} -b {expr_file} -wa -u {overlap_param} > {tf}\n",
    "            peaks_overlap = lines(tf)\n",
    "            !bedtools intersect -b {peaks_file} -a {expr_file} -wa -u {overlap_param} > {tf}\n",
    "            genes_overlap = lines(tf)\n",
    "            bench_df.loc[len(bench_df)] = (c, tool, overlap, peaks, genes, peaks_overlap, genes_overlap)\n",
    "bench_df"
   ],
   "metadata": {
    "collapsed": false
   }
  },
  {
   "cell_type": "code",
   "execution_count": null,
   "outputs": [],
   "source": [
    "bench_df['precision'] = [d(a, b) for a, b in zip(bench_df['peaks_overlap'], bench_df['peaks'])]\n",
    "bench_df['sensitivity'] = [d(a, b) for a, b in zip(bench_df['genes_overlap'], bench_df['genes'])]\n",
    "bench_df['f1'] = [d(2, d(1, s + 1e-10) + d(1, p + 1e-10))\n",
    "                  for s, p in zip(bench_df['sensitivity'], bench_df['precision'])]"
   ],
   "metadata": {
    "collapsed": false
   }
  },
  {
   "cell_type": "code",
   "execution_count": null,
   "outputs": [],
   "source": [
    "# print('Ignore outliers')\n",
    "# print(len(bench_df[bench_df['precision'] < 0.1]))\n",
    "# bench_df = bench_df[bench_df['precision'] >= 0.1]"
   ],
   "metadata": {
    "collapsed": false
   }
  },
  {
   "cell_type": "code",
   "execution_count": null,
   "outputs": [],
   "source": [
    "import seaborn as sns\n",
    "\n",
    "plt.figure(figsize=(6, 4))\n",
    "g_results = sns.scatterplot(data=bench_df, x='precision', y='sensitivity', hue='name', style='overlap',\n",
    "                            palette=TOOLS_PALETTE)\n",
    "# Put a legend to the right of the current axis\n",
    "g_results.axes.legend(loc='center left', bbox_to_anchor=(1, 0.5))\n",
    "g_results.axes.set_xlabel('Peaks overlapping with genes (precision)')\n",
    "g_results.axes.set_ylabel('Genes overlapping with peaks (sensitivity)')\n",
    "plt.tight_layout()\n",
    "plt.show()"
   ],
   "metadata": {
    "collapsed": false
   }
  },
  {
   "cell_type": "code",
   "execution_count": null,
   "outputs": [],
   "source": [
    "plt.figure(figsize=(4, 4))\n",
    "g_results = sns.boxplot(data=bench_df, x='overlap', y='sensitivity', hue='name',\n",
    "                        palette=TOOLS_PALETTE)\n",
    "g_results.axes.set_ylabel('Genes overlapping with peaks (sensitivity)')\n",
    "plt.show()"
   ],
   "metadata": {
    "collapsed": false
   }
  },
  {
   "cell_type": "code",
   "execution_count": null,
   "outputs": [],
   "source": [
    "plt.figure(figsize=(4, 4))\n",
    "g_results = sns.boxplot(data=bench_df, x='overlap', y='precision', hue='name',\n",
    "                        palette=TOOLS_PALETTE)\n",
    "g_results.axes.set_ylabel('Peaks overlapping with genes (precision)')\n",
    "plt.show()"
   ],
   "metadata": {
    "collapsed": false
   }
  },
  {
   "cell_type": "code",
   "execution_count": null,
   "outputs": [],
   "source": [
    "plt.figure(figsize=(4, 4))\n",
    "sns.boxplot(data=bench_df, x='overlap', y='f1', hue='name',\n",
    "            palette=TOOLS_PALETTE)\n",
    "plt.show()"
   ],
   "metadata": {
    "collapsed": false
   }
  },
  {
   "cell_type": "markdown",
   "source": [
    "## Compare H3K4me3 difference of SPAN with other tools with expressed genes TSS"
   ],
   "metadata": {
    "collapsed": false
   }
  },
  {
   "cell_type": "code",
   "execution_count": null,
   "outputs": [],
   "source": [
    "TOOLS = list(sorted(set(bench_df['name'])))\n",
    "\n",
    "diff_bench_df = pd.DataFrame(\n",
    "    columns=['cell', 'name', 'overlap', 'peaks', 'peaks_overlap', 'genes', 'genes_overlap'],\n",
    "    dtype=object\n",
    ")\n",
    "\n",
    "tf = tempfile.mktemp()\n",
    "tf2 = tempfile.mktemp()\n",
    "\n",
    "\n",
    "for c in tqdm(IMMUNE_CELLS):\n",
    "    print(c)\n",
    "    expr_file = EXPRESSION_TSS_BED[c]\n",
    "    t = df_fdr_peaks[(df_fdr_peaks['tool'] == 'SPAN') & (df_fdr_peaks['modification'] == 'H3K4me3') &\n",
    "                     (df_fdr_peaks['cell'] == c)]\n",
    "    if len(t) == 0:\n",
    "        continue\n",
    "    span_file = t['file'].values[0]\n",
    "    genes = lines(expr_file)\n",
    "    # Processing single tools information\n",
    "    for tool in TOOLS:\n",
    "        if tool == 'SPAN':\n",
    "            continue\n",
    "        t = df_fdr_peaks[(df_fdr_peaks['tool'] == tool) &\n",
    "                         (df_fdr_peaks['modification'] == 'H3K4me3') &\n",
    "                         (df_fdr_peaks['cell'] == c)]\n",
    "        if len(t) == 0:\n",
    "            continue\n",
    "        peaks_file = t['file'].values[0]\n",
    "        for name, args in [\n",
    "            (f'SPAN - {tool}', f' -a {span_file} -b {peaks_file} '),\n",
    "            (f'{tool} - SPAN', f' -b {span_file} -a {peaks_file} ')]:\n",
    "            !bedtools intersect {args} -wa -v > {tf}\n",
    "            peaks = lines(tf)\n",
    "            peaks_overlap, genes_overlap, _ = overlap_by_length(tf, expr_file, 100)\n",
    "            diff_bench_df.loc[len(bench_df)] = (c, name, '100bp', peaks, genes, peaks_overlap, genes_overlap)\n",
    "            for overlap, overlap_param in [\n",
    "                ('1bp', ''),\n",
    "                ('50%', '-f 0.5'),\n",
    "            ]:\n",
    "                !bedtools intersect -a {tf} -b {expr_file} -wa -u {overlap_param} > {tf2}\n",
    "                peaks_overlap = lines(tf2)\n",
    "                !bedtools intersect -b {tf} -a {expr_file} -wa -u {overlap_param} > {tf2}\n",
    "                genes_overlap = lines(tf2)\n",
    "                diff_bench_df.loc[len(diff_bench_df)] = \\\n",
    "                    (c, name, overlap, peaks, peaks_overlap, genes, genes_overlap)\n",
    "\n",
    "display(diff_bench_df.head())"
   ],
   "metadata": {
    "collapsed": false
   }
  },
  {
   "cell_type": "code",
   "execution_count": null,
   "outputs": [],
   "source": [
    "diff_bench_df['precision'] = [d(a, b) for a, b in zip(diff_bench_df['peaks_overlap'], diff_bench_df['peaks'])]\n",
    "diff_bench_df['sensitivity'] = [d(a, b) for a, b in zip(diff_bench_df['genes_overlap'], diff_bench_df['genes'])]\n",
    "diff_bench_df['f1'] = [d(2, d(1, s + 1e-10) + d(1, p + 1e-10))\n",
    "                  for s, p in zip(diff_bench_df['sensitivity'], diff_bench_df['precision'])]"
   ],
   "metadata": {
    "collapsed": false
   }
  },
  {
   "cell_type": "code",
   "execution_count": null,
   "outputs": [],
   "source": [
    "full_diff_bench_df = pd.concat([bench_df[['cell', 'name', 'peaks', 'overlap', 'precision', 'sensitivity']],\n",
    "                                diff_bench_df[['cell', 'name', 'peaks', 'overlap', 'precision', 'sensitivity']]]).reset_index(drop=True)\n",
    "full_diff_bench_df"
   ],
   "metadata": {
    "collapsed": false
   }
  },
  {
   "cell_type": "code",
   "execution_count": null,
   "outputs": [],
   "source": [
    "plt.figure(figsize=(4, 4))\n",
    "ax = plt.axes()\n",
    "ax.title.set_text('Number of peaks')\n",
    "g_results = sns.barplot(data=full_diff_bench_df[full_diff_bench_df['overlap'] == '1bp'], x='name', y='peaks',\n",
    "                        capsize=.2, errwidth=2, ax=ax,\n",
    "                        order=['MACS2', 'MACS2 broad', 'SICER', 'SPAN',\n",
    "                               'SPAN - MACS2', 'SPAN - MACS2 broad', 'SPAN - SICER',\n",
    "                               'MACS2 - SPAN', 'MACS2 broad - SPAN', 'SICER - SPAN',\n",
    "                               ])\n",
    "ax.xaxis.set_tick_params(rotation=90)\n",
    "ax.set_ylim(top=33_000)  # Limit for visual aesthetics\n",
    "ax.set_ylabel('Number')\n",
    "plt.tight_layout()\n",
    "plt.show()"
   ],
   "metadata": {
    "collapsed": false
   }
  },
  {
   "cell_type": "code",
   "execution_count": null,
   "outputs": [],
   "source": [
    "plt.figure(figsize=(6, 4))\n",
    "ax = plt.axes()\n",
    "ax.title.set_text('Peaks overlapping with genes (precision)')\n",
    "g_results = sns.barplot(data=full_diff_bench_df, x='name', y='precision',\n",
    "                        hue='overlap',\n",
    "                        capsize=.2, errwidth=2, ax=ax,\n",
    "                        order=['MACS2', 'MACS2 broad', 'SICER', 'SPAN',\n",
    "                               'SPAN - MACS2', 'SPAN - MACS2 broad', 'SPAN - SICER',\n",
    "                               'MACS2 - SPAN', 'MACS2 broad - SPAN', 'SICER - SPAN',\n",
    "                               ])\n",
    "ax.xaxis.set_tick_params(rotation=90)\n",
    "ax.set_ylabel('Fraction')\n",
    "# Put a legend to the right of the current axis\n",
    "ax.legend(loc='center left', bbox_to_anchor=(1, 0.5))\n",
    "plt.tight_layout()\n",
    "plt.show()"
   ],
   "metadata": {
    "collapsed": false
   }
  },
  {
   "cell_type": "code",
   "execution_count": null,
   "outputs": [],
   "source": [
    "plt.figure(figsize=(6, 4))\n",
    "ax = plt.axes()\n",
    "ax.title.set_text('Genes overlapping with peaks (sensitivity)')\n",
    "g_results = sns.barplot(data=full_diff_bench_df, x='name', y='sensitivity',\n",
    "                        hue='overlap',\n",
    "                        capsize=.2, errwidth=2, ax=ax,\n",
    "                        order=['MACS2', 'MACS2 broad', 'SICER', 'SPAN',\n",
    "                               'SPAN - MACS2', 'SPAN - MACS2 broad', 'SPAN - SICER',\n",
    "                               'MACS2 - SPAN', 'MACS2 broad - SPAN', 'SICER - SPAN',\n",
    "                               ])\n",
    "ax.xaxis.set_tick_params(rotation=90)\n",
    "ax.set_ylabel('Fraction')\n",
    "# Put a legend to the right of the current axis\n",
    "ax.legend(loc='center left', bbox_to_anchor=(1, 0.5))\n",
    "plt.tight_layout()\n",
    "plt.show()"
   ],
   "metadata": {
    "collapsed": false
   }
  },
  {
   "cell_type": "code",
   "execution_count": null,
   "outputs": [],
   "source": [
    "plt.figure(figsize=(4, 4))\n",
    "ax = plt.axes()\n",
    "ax.title.set_text('Peaks overlapping with genes')\n",
    "g_results = sns.barplot(data=full_diff_bench_df[full_diff_bench_df['overlap'] == '1bp'], x='name', y='precision',\n",
    "                        capsize=.2, errwidth=2, ax=ax,\n",
    "                        order=['MACS2', 'MACS2 broad', 'SICER', 'SPAN',\n",
    "                               'SPAN - MACS2', 'SPAN - MACS2 broad', 'SPAN - SICER',\n",
    "                               'MACS2 - SPAN', 'MACS2 broad - SPAN', 'SICER - SPAN',\n",
    "                               ])\n",
    "ax.xaxis.set_tick_params(rotation=90)\n",
    "ax.set_ylabel('Fraction')\n",
    "plt.tight_layout()\n",
    "plt.show()"
   ],
   "metadata": {
    "collapsed": false
   }
  },
  {
   "cell_type": "code",
   "execution_count": null,
   "outputs": [],
   "source": [
    "plt.figure(figsize=(4, 4))\n",
    "ax = plt.axes()\n",
    "ax.title.set_text('Genes overlapping with peaks')\n",
    "g_results = sns.barplot(data=full_diff_bench_df[full_diff_bench_df['overlap'] == '1bp'], x='name', y='sensitivity',\n",
    "                        capsize=.2, errwidth=2, ax=ax,\n",
    "                        order=['MACS2', 'MACS2 broad', 'SICER', 'SPAN',\n",
    "                               'SPAN - MACS2', 'SPAN - MACS2 broad', 'SPAN - SICER',\n",
    "                               'MACS2 - SPAN', 'MACS2 broad - SPAN', 'SICER - SPAN',\n",
    "                               ])\n",
    "ax.xaxis.set_tick_params(rotation=90)\n",
    "ax.set_ylabel('Fraction')\n",
    "plt.tight_layout()\n",
    "plt.show()"
   ],
   "metadata": {
    "collapsed": false
   }
  },
  {
   "cell_type": "markdown",
   "source": [
    "## Hg38 Recovered promoter fraction / Correct peak fraction"
   ],
   "metadata": {
    "collapsed": false
   }
  },
  {
   "cell_type": "code",
   "execution_count": null,
   "outputs": [],
   "source": [
    "import tempfile\n",
    "from itertools import product\n",
    "\n",
    "tf = tempfile.mktemp()\n",
    "tf2 = tempfile.mktemp()\n",
    "\n",
    "benchmark_cpf_df = pd.DataFrame(\n",
    "    columns=['cell', 'top', 'genes', 'peaks_file', 'peaks', 'pg', 'gp', 'tool'],\n",
    "    dtype=object\n",
    ")\n",
    "\n",
    "for c in tqdm(IMMUNE_CELLS):\n",
    "    print(c)\n",
    "    if c not in EXPRESSION_TSS_BED:\n",
    "        continue\n",
    "    expr_file = EXPRESSION_TSS_BED[c]\n",
    "    genes = lines(expr_file)\n",
    "    for tool in set(df_fdr_peaks['tool']):\n",
    "        t = df_fdr_peaks[(df_fdr_peaks['tool'] == tool) & (df_fdr_peaks['modification'] == 'H3K4me3') &\n",
    "                         (df_fdr_peaks['cell'] == c)]\n",
    "        if len(t) == 0:\n",
    "            continue\n",
    "        peaks_file = t['file'].values[0]\n",
    "        peaks = lines(peaks_file)\n",
    "        t = pd.read_csv(peaks_file, sep='\\t', header=None)\n",
    "        t.sort_values(by=[8] if len(t.columns) >= 9 else [4], ascending=False, inplace=True)\n",
    "        for top in np.linspace(1000, 15000, 15):\n",
    "            t.head(int(top)).sort_values(by=[0, 1]).to_csv(tf, sep='\\t', index=False, header=None)\n",
    "            peaks = lines(tf)\n",
    "            ! bedtools intersect -a {tf} -b {expr_file} -wa -u > {tf2}\n",
    "            peaks_overlap = lines(tf2)\n",
    "            ! bedtools intersect -b {tf} -a {expr_file} -wa -u > {tf2}\n",
    "            genes_overlap = lines(tf2)\n",
    "            benchmark_cpf_df.loc[len(benchmark_cpf_df)] = \\\n",
    "                (c, top, genes, peaks_file, peaks, peaks_overlap, genes_overlap, tool)\n",
    "\n",
    "benchmark_cpf_df"
   ],
   "metadata": {
    "collapsed": false
   }
  },
  {
   "cell_type": "code",
   "execution_count": null,
   "outputs": [],
   "source": [
    "benchmark_cpf_df['p'] = (benchmark_cpf_df['pg'] + benchmark_cpf_df['gp']) / 2\n",
    "benchmark_cpf_df['precision'] = [d(x, y) for x, y in zip(benchmark_cpf_df['pg'], benchmark_cpf_df['peaks'])]\n",
    "benchmark_cpf_df['sensitivity'] = [d(x, y) for x, y in zip(benchmark_cpf_df['gp'], benchmark_cpf_df['genes'])]\n",
    "benchmark_cpf_df['f1'] = [2 / (d(1, s + 1e-10) + d(1, p + 1e-10)) for s, p in zip(benchmark_cpf_df['sensitivity'], benchmark_cpf_df['precision'])]\n",
    "benchmark_cpf_df"
   ],
   "metadata": {
    "collapsed": false
   }
  },
  {
   "cell_type": "code",
   "execution_count": null,
   "outputs": [],
   "source": [
    "def rgb2hex(color):\n",
    "    r, g, b, _ = color\n",
    "    return \"#{0:02x}{1:02x}{2:02x}\".format(int(r * 255), int(g * 255), int(b * 255))\n",
    "\n",
    "PLOTLY_TOOLS_PALETTE = {k: rgb2hex(v) for k, v in TOOLS_PALETTE.items()}"
   ],
   "metadata": {
    "collapsed": false
   }
  },
  {
   "cell_type": "code",
   "execution_count": null,
   "outputs": [],
   "source": [
    "import plotly.graph_objects as go\n",
    "\n",
    "def plot_top(benchmark_cpf_df):\n",
    "    tools_legend_shown = set()\n",
    "    fig = go.Figure()\n",
    "\n",
    "    for c, t in product(IMMUNE_CELLS, df_fdr_peaks['tool'].unique()):\n",
    "        dft = benchmark_cpf_df[(benchmark_cpf_df['cell'] == c) &\n",
    "                           (benchmark_cpf_df['tool'] == t)]\n",
    "        if len(dft) == 0:\n",
    "            continue\n",
    "        fig.add_trace(go.Scatter(\n",
    "            x=dft[\"precision\"], y=dft[\"sensitivity\"], mode='lines+markers', name=t,\n",
    "            hovertext=dft['top'].astype(str) + ' ' + t,\n",
    "            showlegend=t not in tools_legend_shown,\n",
    "            marker_color=PLOTLY_TOOLS_PALETTE[t],\n",
    "            opacity=0.3,\n",
    "        ))\n",
    "        tools_legend_shown.add(t)\n",
    "\n",
    "    # fig.update_xaxes(range=[-0.1, 1.1], title='Correct promoter fraction (sensitivity)')\n",
    "    # fig.update_yaxes(range=[-0.1, 1.1], title='Recovered promoter fraction (precision)')\n",
    "    fig.update_xaxes(title='Correct promoter fraction (sensitivity)')\n",
    "    fig.update_yaxes(title='Recovered promoter fraction (precision)')\n",
    "\n",
    "    fig.layout.template = 'plotly_white'\n",
    "    fig.update_layout(\n",
    "        autosize=False,\n",
    "        width=800,\n",
    "        height=600,)\n",
    "    fig.show()\n"
   ],
   "metadata": {
    "collapsed": false
   }
  },
  {
   "cell_type": "code",
   "execution_count": null,
   "outputs": [],
   "source": [
    "plot_top(benchmark_cpf_df)"
   ],
   "metadata": {
    "collapsed": false
   }
  },
  {
   "cell_type": "code",
   "execution_count": null,
   "outputs": [],
   "source": [
    "plot_top(benchmark_cpf_df[benchmark_cpf_df['cell'] == 'Monocyte'])"
   ],
   "metadata": {
    "collapsed": false
   }
  },
  {
   "cell_type": "code",
   "execution_count": null,
   "outputs": [],
   "source": [],
   "metadata": {
    "collapsed": false
   }
  }
 ],
 "metadata": {
  "anaconda-cloud": {},
  "kernelspec": {
   "display_name": "Python 3",
   "language": "python",
   "name": "python3"
  },
  "language_info": {
   "codemirror_mode": {
    "name": "ipython",
    "version": 3
   },
   "file_extension": ".py",
   "mimetype": "text/x-python",
   "name": "python",
   "nbconvert_exporter": "python",
   "pygments_lexer": "ipython3",
   "version": "3.8.5"
  },
  "toc": {
   "nav_menu": {},
   "number_sections": true,
   "sideBar": true,
   "skip_h1_title": false,
   "toc_cell": false,
   "toc_position": {},
   "toc_section_display": "block",
   "toc_window_display": false
  }
 },
 "nbformat": 4,
 "nbformat_minor": 2
}
