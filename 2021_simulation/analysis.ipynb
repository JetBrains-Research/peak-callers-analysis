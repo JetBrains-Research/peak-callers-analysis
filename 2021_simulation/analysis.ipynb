{
 "cells": [
  {
   "cell_type": "markdown",
   "id": "97aeba00",
   "metadata": {},
   "source": [
    "# Analysis of ChIP-seq simulation"
   ]
  },
  {
   "cell_type": "code",
   "execution_count": null,
   "id": "3095893d",
   "metadata": {},
   "outputs": [],
   "source": [
    "%matplotlib inline\n",
    "%config InlineBackend.figure_format='retina'\n",
    "\n",
    "from IPython.display import display\n",
    "import pandas as pd\n",
    "\n",
    "import seaborn as sns\n",
    "sns.set_style(\"whitegrid\")\n",
    "import matplotlib.pyplot as plt\n",
    "from matplotlib.backends.backend_pdf import PdfPages\n",
    "import numpy as np\n",
    "from collections import OrderedDict, Counter"
   ]
  },
  {
   "cell_type": "code",
   "execution_count": null,
   "id": "dbf7e253",
   "metadata": {},
   "outputs": [],
   "source": [
    "df = pd.read_csv('/mnt/stripe/shpynov/2021_chips/report.tsv', sep='\\t', comment='#')\n",
    "df = df.loc[df['PeaksSource'].isin(set(['macs2', 'sicer']))]\n",
    "df = df.loc[df['Tool'] != 'SPAN-GAP0']\n",
    "df['Fdr'] = df['Fdr'].astype(float)\n",
    "df.sample(10)"
   ]
  },
  {
   "cell_type": "code",
   "execution_count": null,
   "id": "02e2c94f",
   "metadata": {},
   "outputs": [],
   "source": [
    "df.sort_values(by=['Modification', 'PeaksSource', 'Mult', 'Library', 'Tool', 'Fdr'], inplace=True)"
   ]
  },
  {
   "cell_type": "code",
   "execution_count": null,
   "id": "13af7dcb",
   "metadata": {},
   "outputs": [],
   "source": [
    "df['TrueAverageLength'] = df['TrueLength'] / df['TruePeaks']\n",
    "df['AverageLength'] = df['Length'] / df['Peaks']\n",
    "df.fillna(0, inplace=True)\n",
    "df.sample(10)"
   ]
  },
  {
   "cell_type": "code",
   "execution_count": null,
   "id": "9134f532",
   "metadata": {},
   "outputs": [],
   "source": [
    "df['LogFdr'] = np.log10(df['Fdr'])\n",
    "df.loc[df['Fdr']==0.05, 'LogFdr'] = -1.3"
   ]
  },
  {
   "cell_type": "markdown",
   "id": "23e79861",
   "metadata": {},
   "source": [
    "# Summary number of peaks"
   ]
  },
  {
   "cell_type": "code",
   "execution_count": null,
   "id": "3d80b0aa",
   "metadata": {},
   "outputs": [],
   "source": [
    "cmap = plt.cm.get_cmap('jet', len(set(df['Tool'])))\n",
    "palette = {t: cmap(i) for i, t in enumerate(sorted(set(df['Tool'])))}"
   ]
  },
  {
   "cell_type": "code",
   "execution_count": null,
   "id": "ec5b652c",
   "metadata": {
    "scrolled": true
   },
   "outputs": [],
   "source": [
    "# print('Single launch only')\n",
    "\n",
    "# sources = len(set(df['PeaksSource']))\n",
    "# for lib in ['1mln', '500k', '100k']:\n",
    "#     for mult in ['_1.0', '_0.5', '_0.1']:\n",
    "#         print(mult, lib)\n",
    "#         t = df.loc[np.logical_and(df['Mult'] == mult, df['Library'] == lib)]\n",
    "#         for m in sorted(set(df['Modification'])):\n",
    "#             for I in [1]: #sorted(set(df['I'])):\n",
    "#                 fig = plt.figure(figsize=(8 * sources, 8))\n",
    "#                 tt = t.loc[np.logical_and(t['Modification']==m, t['I']==I)]\n",
    "#                 print(I)\n",
    "#                 for i, ps in enumerate(sorted(set(df['PeaksSource']))):\n",
    "#                     ax = plt.subplot(1, sources, i + 1)\n",
    "#                     ttt = tt.loc[tt['PeaksSource'] == ps]\n",
    "#                     sns.lineplot(data=ttt, x=\"LogFdr\", y=\"Peaks\", hue=\"Tool\", palette=palette)\n",
    "#                     plt.title(f'{m} {ps} {t[\"TruePeaks\"].values[0]}')\n",
    "#                     if len(ttt):\n",
    "#                         plt.ylim(0, ttt['Peaks'].max())\n",
    "#                         if i == 0:\n",
    "#                             ax.legend(loc='lower left')\n",
    "#                         else:\n",
    "#                             ax.get_legend().remove()    \n",
    "#                 plt.show()"
   ]
  },
  {
   "cell_type": "code",
   "execution_count": null,
   "id": "71396f25",
   "metadata": {
    "scrolled": true
   },
   "outputs": [],
   "source": [
    "print('Limit peaks number')\n",
    "df.loc[df['Peaks'] > 2000, 'Peaks'] = 2000\n",
    "print('Limit average length')\n",
    "df.loc[df['AverageLength'] > 10000, 'AverageLength'] = 10000\n",
    "\n",
    "\n",
    "\n",
    "print('Summary number of peaks and length')\n",
    "for ps in sorted(set(df['PeaksSource'])):\n",
    "    for m in sorted(set(df['Modification'])):\n",
    "        print('Peaks', ps, m)\n",
    "        print(f\"True peaks {set(df[(df['PeaksSource'] == ps) & (df['Modification'] == m)]['TruePeaks'])}\")\n",
    "        fig = plt.figure(figsize=(10, 5))\n",
    "        t = df.loc[(df['PeaksSource'] == ps) & (df['Modification'] == m)]\n",
    "        sns.boxplot(data=t, x=\"Fdr\", y=\"Peaks\", hue=\"Tool\", palette=palette)\n",
    "        plt.title(f'{m} {ps}')\n",
    "        plt.xticks(rotation=45, ha='right')\n",
    "        plt.legend(loc='upper left')\n",
    "        plt.savefig(f'/mnt/stripe/shpynov/2021_chips/summary_peaks_{m}_{ps}.png')\n",
    "        plt.show()\n",
    "\n",
    "        print('Length', ps, m)\n",
    "        print(f\"True average length {set(df[(df['PeaksSource'] == ps) & (df['Modification'] == m)]['TrueAverageLength'])}\")        \n",
    "        fig = plt.figure(figsize=(10, 5))\n",
    "        t = df.loc[(df['PeaksSource'] == ps) & (df['Modification'] == m)]\n",
    "        sns.boxplot(data=t, x=\"Fdr\", y=\"Length\", hue=\"Tool\", palette=palette)\n",
    "        plt.title(f'{m} {ps}')\n",
    "        plt.xticks(rotation=45, ha='right')\n",
    "        plt.legend(loc='upper left')\n",
    "        plt.savefig(f'/mnt/stripe/shpynov/2021_chips/summary_length_{m}_{ps}.png')\n",
    "        plt.show()        "
   ]
  },
  {
   "cell_type": "code",
   "execution_count": null,
   "id": "adc78184",
   "metadata": {
    "scrolled": true
   },
   "outputs": [],
   "source": [
    "print('Limit peaks number')\n",
    "df.loc[df['Peaks'] > 2000, 'Peaks'] = 2000\n",
    "print('Limit average length')\n",
    "df.loc[df['AverageLength'] > 10000, 'AverageLength'] = 10000\n",
    "\n",
    "\n",
    "\n",
    "print('Summary number of peaks and length')\n",
    "for ps in sorted(set(df['PeaksSource'])):\n",
    "    for m in sorted(set(df['Modification'])):\n",
    "        print('Peaks', ps, m)\n",
    "        print(f\"True peaks {set(df[(df['PeaksSource'] == ps) & (df['Modification'] == m)]['TruePeaks'])}\")\n",
    "        fig = plt.figure(figsize=(5 * 3, 5 * 3))\n",
    "        i = 1\n",
    "        for lib in ['1mln', '500k', '200k']:\n",
    "            for mult in ['_1.0', '_0.5', '_0.2']:\n",
    "                t = df.loc[(df['PeaksSource'] == ps) & (df['Modification'] == m) & \n",
    "                       (df['Mult'] == mult) & (df['Library'] == lib)]\n",
    "                ax = plt.subplot(3, 3, i)\n",
    "                sns.boxplot(data=t, x=\"Fdr\", y=\"Peaks\", hue=\"Tool\", palette=palette)\n",
    "                plt.title(f'{m} {ps} {lib} {mult}')\n",
    "                plt.xticks(rotation=45, ha='right')\n",
    "                plt.ylim(-20, t['Peaks'].max() * 1.2)\n",
    "                if i == 1:\n",
    "                    ax.legend(loc='upper left')\n",
    "                else:\n",
    "                    ax.get_legend().remove()    \n",
    "                i += 1\n",
    "        plt.savefig(f'/mnt/stripe/shpynov/2021_chips/peaks_{m}_{ps}.png')\n",
    "        plt.show()\n",
    "\n",
    "        print('Length', ps, m)\n",
    "        print(f\"True average length {set(df[(df['PeaksSource'] == ps) & (df['Modification'] == m)]['TrueAverageLength'])}\")        \n",
    "        fig = plt.figure(figsize=(5 * 3, 5 * 3))\n",
    "        i = 1\n",
    "        for lib in ['1mln', '500k', '200k']:\n",
    "            for mult in ['_1.0', '_0.5', '_0.2']:\n",
    "                t = df.loc[(df['PeaksSource'] == ps) & (df['Modification'] == m) &\n",
    "                       (df['Mult'] == mult) & (df['Library'] == lib)]\n",
    "                ax = plt.subplot(3, 3, i)\n",
    "                sns.boxplot(data=t, x=\"Fdr\", y=\"Length\", hue=\"Tool\", palette=palette)\n",
    "                plt.title(f'{m} {ps} {lib} {mult}')\n",
    "                plt.xticks(rotation=45, ha='right')\n",
    "                plt.ylim(-20, t['Length'].max() * 1.2)\n",
    "                if i == 1:\n",
    "                    ax.legend(loc='upper left')\n",
    "                else:\n",
    "                    ax.get_legend().remove()    \n",
    "                i += 1\n",
    "        plt.savefig(f'/mnt/stripe/shpynov/2021_chips/length_{m}_{ps}.png')\n",
    "        plt.show()        "
   ]
  },
  {
   "cell_type": "markdown",
   "id": "9b817b40",
   "metadata": {},
   "source": [
    "## Precision / Recall"
   ]
  },
  {
   "cell_type": "code",
   "execution_count": null,
   "id": "eb48665f",
   "metadata": {},
   "outputs": [],
   "source": [
    "df['PrecisionF'] = df['Precision'] / df['TruePeaks']\n",
    "df['RecallF'] = df['Recall'] / df['Peaks']\n",
    "df.sort_values(by=['RecallF', 'PrecisionF'], ascending=[True, False], inplace=True)\n",
    "df.fillna(1, inplace=True)\n",
    "df"
   ]
  },
  {
   "cell_type": "code",
   "execution_count": null,
   "id": "fb2d6082",
   "metadata": {
    "scrolled": true
   },
   "outputs": [],
   "source": [
    "# Precision / Recall plot\n",
    "\n",
    "for ps in sorted(set(df['PeaksSource'])):\n",
    "    for m in sorted(set(df['Modification'])):\n",
    "        print(ps, m)\n",
    "        fig = plt.figure(figsize=(5 * 3, 5 * 3))\n",
    "        i = 1\n",
    "        for lib in ['1mln', '500k', '200k']:\n",
    "            for mult in ['_1.0', '_0.5', '_0.2']:\n",
    "                t = df.loc[(df['PeaksSource'] == ps) & (df['Modification'] == m) &\n",
    "                       (df['Mult'] == mult) & (df['Library'] == lib)]\n",
    "                ax = plt.subplot(3, 3, i)\n",
    "                for I in set(t['I']):\n",
    "                    tttt = t.loc[t['I'] == I].copy()\n",
    "                    tttt.sort_values(by=['Tool', 'PrecisionF', 'RecallF'], inplace=True)\n",
    "                    sns.lineplot(data=tttt, x=\"PrecisionF\", y=\"RecallF\", hue='Tool', palette=palette, alpha=0.2)\n",
    "                if i == 1:\n",
    "                    ax.legend(loc='lower left')\n",
    "                    # Single legend\n",
    "                    handles, labels = ax.get_legend_handles_labels()\n",
    "                    ax.legend(handles=handles[:len(set(tttt['Tool']))], labels=labels[:len(set(tttt['Tool']))])\n",
    "                else:\n",
    "                    ax.get_legend().remove()\n",
    "\n",
    "                i += 1\n",
    "                plt.xlim(-0.1, 1.1)\n",
    "                plt.ylim(-0.1, 1.1)\n",
    "                plt.title(f'{m} {ps} {lib} {mult}')\n",
    "        plt.savefig(f'/mnt/stripe/shpynov/2021_chips/prc_plot_{m}_{ps}.png')\n",
    "        plt.show()"
   ]
  },
  {
   "cell_type": "code",
   "execution_count": null,
   "id": "bb100a9f",
   "metadata": {},
   "outputs": [],
   "source": [
    "# Investigate bad sampling\n",
    "df.loc[((df['PrecisionF'] > 0) & (df['PrecisionF'] < 0.2) & (df['RecallF'] > 0) & (df['RecallF'] < 0.2))]"
   ]
  },
  {
   "cell_type": "code",
   "execution_count": null,
   "id": "d63c5247",
   "metadata": {
    "scrolled": false
   },
   "outputs": [],
   "source": [
    "# for lib in set(df['Library']):\n",
    "#     print(lib)\n",
    "#     t = df.loc[df['Library'] == lib].copy()\n",
    "#     for m in sorted(set(df['Modification'])):\n",
    "#         fig = plt.figure(figsize=(8 * sources, 8))\n",
    "#         tt = t.loc[t['Modification']==m].copy()\n",
    "#         for i, ps in enumerate(sorted(set(df['PeaksSource']))):\n",
    "#             ax = plt.subplot(1, sources, i + 1)\n",
    "#             ttt = tt.loc[tt['PeaksSource'] == ps].copy()\n",
    "#             ttt.sort_values(by=['Tool'], inplace=True)\n",
    "#             sns.scatterplot(data=ttt, x='PrecisionF', y='RecallF', hue='Tool', alpha=0.2, palette=palette)\n",
    "#             plt.title(f'{m} {ps} {tt[\"TruePeaks\"].values[0]}')\n",
    "#             if i == 0:\n",
    "#                 ax.legend(loc='lower left')\n",
    "#             else:\n",
    "#                 ax.get_legend().remove()\n",
    "#         plt.show()"
   ]
  },
  {
   "cell_type": "markdown",
   "id": "15a64723",
   "metadata": {},
   "source": [
    "# Average precision\n",
    "\n",
    "AP summarizes a precision-recall curve as the weighted mean of precisions achieved at each threshold, with the increase in recall from the previous threshold used as the weight:\n",
    "\n",
    "AP = ∑(Rn−Rn−1)*Pn, where  Pn and Rn are the precision and recall at the nth threshold.\n",
    "\n",
    "This implementation is not interpolated and is different from computing the area under the precision-recall curve with the trapezoidal rule, which uses linear interpolation and can be too optimistic."
   ]
  },
  {
   "cell_type": "code",
   "execution_count": null,
   "id": "4b42cc57",
   "metadata": {},
   "outputs": [],
   "source": [
    "dfap = pd.DataFrame(columns=['Modification', 'PeaksSource', 'Library', 'Mult', 'I', 'Tool', 'AP'])\n",
    "for ps in sorted(set(df['PeaksSource'])):\n",
    "    for m in sorted(set(df['Modification'])):\n",
    "        print(ps, m)\n",
    "        for lib in ['1mln', '500k', '200k']:\n",
    "            for mult in ['_1.0', '_0.5', '_0.2']:\n",
    "                t = df.loc[(df['PeaksSource'] == ps) & (df['Modification'] == m) &\n",
    "                       (df['Mult'] == mult) & (df['Library'] == lib)]\n",
    "                for tool in sorted(set(t['Tool'])):\n",
    "                    for i in sorted(set(t['I'])):\n",
    "                        tt = t.loc[(t['Tool']==tool) & (t['I'] == i)].copy()\n",
    "                        tt.sort_values(by=['RecallF', 'PrecisionF'], inplace=True)\n",
    "                        ap = 0\n",
    "                        rprev = 0\n",
    "                        for _, row in tt.iterrows():\n",
    "                            ap += (row['RecallF'] - rprev)*row['PrecisionF']\n",
    "                            rprev = row['RecallF']\n",
    "#                         display(tt)\n",
    "#                         print(ap)\n",
    "#                         raise Exception(\"STOP\")\n",
    "                        dfap.loc[len(dfap)] = (m, ps, lib, mult, i, tool, ap)                \n"
   ]
  },
  {
   "cell_type": "code",
   "execution_count": null,
   "id": "6422f664",
   "metadata": {},
   "outputs": [],
   "source": [
    "dfap"
   ]
  },
  {
   "cell_type": "code",
   "execution_count": null,
   "id": "ad695252",
   "metadata": {
    "scrolled": true
   },
   "outputs": [],
   "source": [
    "for m in sorted(set(dfap['Modification'])):\n",
    "    print(m)\n",
    "    fig = plt.figure(figsize=(10, 5))\n",
    "    tt = dfap.loc[(dfap['Modification'] == m)].copy()\n",
    "    tt.sort_values(by=['Tool'], inplace=True)\n",
    "    sns.boxplot(x='PeaksSource', y='AP', hue='Tool', data=tt, palette=palette)\n",
    "    plt.title(f'{m}')\n",
    "    ax.legend(loc='lower left')\n",
    "    plt.savefig(f'/mnt/stripe/shpynov/2021_chips/summary_ap_{m}.png')    \n",
    "    plt.show()"
   ]
  },
  {
   "cell_type": "code",
   "execution_count": null,
   "id": "c10bbb58",
   "metadata": {
    "scrolled": true
   },
   "outputs": [],
   "source": [
    "for m in sorted(set(dfap['Modification'])):\n",
    "    print(m)\n",
    "    fig = plt.figure(figsize=(5 * 3, 5 * 3))\n",
    "    i = 1\n",
    "    for lib in ['1mln', '500k', '200k']:\n",
    "        for mult in ['_1.0', '_0.5', '_0.2']:\n",
    "            tt = dfap.loc[(dfap['Modification'] == m) & \n",
    "                          (dfap['Mult'] == mult) & (dfap['Library'] == lib)].copy()\n",
    "            ax = plt.subplot(3, 3, i)\n",
    "            tt.sort_values(by=['Tool'], inplace=True)\n",
    "            sns.boxplot(x='PeaksSource', y='AP', hue='Tool', data=tt, palette=palette)\n",
    "            plt.title(f'{m} {lib} {mult}')\n",
    "            if i == 1:\n",
    "                ax.legend(loc='lower left')\n",
    "            else:\n",
    "                ax.get_legend().remove()\n",
    "            i += 1\n",
    "            plt.ylim(-0.1, 1.1)\n",
    "    plt.savefig(f'/mnt/stripe/shpynov/2021_chips/ap_{m}.png')            \n",
    "    plt.show()"
   ]
  },
  {
   "cell_type": "code",
   "execution_count": null,
   "id": "dda2b1d6",
   "metadata": {},
   "outputs": [],
   "source": []
  }
 ],
 "metadata": {
  "kernelspec": {
   "display_name": "Python 3",
   "language": "python",
   "name": "python3"
  },
  "language_info": {
   "codemirror_mode": {
    "name": "ipython",
    "version": 3
   },
   "file_extension": ".py",
   "mimetype": "text/x-python",
   "name": "python",
   "nbconvert_exporter": "python",
   "pygments_lexer": "ipython3",
   "version": "3.7.10"
  }
 },
 "nbformat": 4,
 "nbformat_minor": 5
}
