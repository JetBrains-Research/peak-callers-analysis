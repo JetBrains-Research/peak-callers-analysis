{
 "cells": [
  {
   "cell_type": "markdown",
   "metadata": {
    "pycharm": {
     "name": "#%% md\n"
    }
   },
   "source": [
    "# GSE112622 transcription TMP vs H3K36me3\n",
    "\n",
    "See `GSE112622Experiment` in `epigenome` project.\n",
    "This experiment provides information per gene.\n",
    "For each gene:\n",
    "* _PEAKS - number of peaks intersecting with gene body for TOOL\n",
    "* _COVERAGE - information about percentage of gene body length covered by peaks for TOOL\n",
    "* _RPM / _RPKM - normalized reads coverage in gene body\n",
    "* _TPM / _FPKM - transcript per million reads provided by RSEM"
   ]
  },
  {
   "cell_type": "code",
   "execution_count": null,
   "metadata": {
    "ExecuteTime": {
     "end_time": "2019-01-24T09:42:05.555231Z",
     "start_time": "2019-01-24T09:42:03.994631Z"
    },
    "pycharm": {
     "name": "#%%\n"
    }
   },
   "outputs": [],
   "source": [
    "%matplotlib inline\n",
    "%config InlineBackend.figure_format='retina'\n",
    "\n",
    "from IPython.display import display\n",
    "import pandas as pd\n",
    "\n",
    "import seaborn as sns\n",
    "sns.set_style(\"whitegrid\")\n",
    "import matplotlib.pyplot as plt\n",
    "from matplotlib.backends.backend_pdf import PdfPages\n",
    "import numpy as np\n",
    "import scipy as sp\n",
    "import os"
   ]
  },
  {
   "cell_type": "code",
   "execution_count": null,
   "metadata": {
    "pycharm": {
     "name": "#%%\n"
    }
   },
   "outputs": [],
   "source": [
    "FOLDER='/mnt/stripe/bio/experiments/gse112622'\n",
    "\n",
    "df = pd.read_csv(os.path.join(FOLDER, 'data.tsv'), sep='\\t', comment='#')\n",
    "# Filter out only protein coding genes\n",
    "df = df.loc[df['coding'] == 1]\n",
    "print(f'Number of protein coding genes {len(df)}')"
   ]
  },
  {
   "cell_type": "code",
   "execution_count": null,
   "metadata": {
    "pycharm": {
     "name": "#%%\n"
    }
   },
   "outputs": [],
   "source": [
    "df['loc'] = df['chr'] + ':' + df['start'].astype(str) + '-' + df['end'].astype(str)\n",
    "df['len'] = df['end'] - df['start']\n",
    "df.sort_values(by=['len'], ascending=False, inplace=True)\n",
    "print('Longest genes')\n",
    "display(df[['gene_symbol', 'loc', 'len']].reset_index(drop=True).iloc[:200,:])\n",
    "print('Gene lengths')\n",
    "print(df['len'].describe())"
   ]
  },
  {
   "cell_type": "code",
   "execution_count": null,
   "metadata": {
    "pycharm": {
     "name": "#%%\n"
    }
   },
   "outputs": [],
   "source": [
    "# Ignore extemely long genes\n",
    "df = df.iloc[200:, :]"
   ]
  },
  {
   "cell_type": "markdown",
   "metadata": {
    "pycharm": {
     "name": "#%% md\n"
    }
   },
   "source": [
    "# Peaks statistics"
   ]
  },
  {
   "cell_type": "code",
   "execution_count": null,
   "metadata": {
    "scrolled": false,
    "pycharm": {
     "name": "#%%\n"
    }
   },
   "outputs": [],
   "source": [
    "import glob\n",
    "MACS_PEAKS = glob.glob('/mnt/stripe/shpynov/2020_GSE112622_k36me3_vs_rnaseq/chipseq/macs2/*.broadPeak')\n",
    "SICER_PEAKS = glob.glob('/mnt/stripe/shpynov/2020_GSE112622_k36me3_vs_rnaseq/chipseq/sicer/*.scoreisland')\n",
    "SPAN_PEAKS = glob.glob('/mnt/stripe/shpynov/2020_GSE112622_k36me3_vs_rnaseq/chipseq/span_tuned/*.peak')\n",
    "\n",
    "ts = []\n",
    "for peaksfile in MACS_PEAKS + SICER_PEAKS + SPAN_PEAKS:\n",
    "    name = os.path.basename(peaksfile)\n",
    "    if 'broadPeak' in name:\n",
    "        caller = 'MACS2'\n",
    "    elif 'scoreisland' in name:\n",
    "        caller = 'SICER'\n",
    "    else:\n",
    "        caller = 'SPAN'\n",
    "    t = pd.read_csv(peaksfile, sep='\\t', header=None)\n",
    "    t = t.iloc[:, :3]\n",
    "    t.columns = ['chr', 'start', 'end']\n",
    "    t['len'] = t['end'] - t['start']\n",
    "    rpms = pd.read_csv(f'{peaksfile}.rpm', header=None)\n",
    "    t['rpm'] = rpms.loc[:, 0]\n",
    "    t['rpkm'] = t['rpm'] / (t['len'] / 1000)\n",
    "    t['name'] = name\n",
    "    t['caller'] = caller\n",
    "    t.sort_values(by=['len'], ascending=False, inplace=True)\n",
    "    t['loc'] = t['chr'] + ':' + t['start'].astype(str) + '-' + t['end'].astype(str)\n",
    "    print(peaksfile)\n",
    "    print(t['rpkm'].describe())\n",
    "    print(f'Longest peaks {name}')\n",
    "    display(t[['loc', 'len']].reset_index(drop=True).iloc[:5,:])\n",
    "    ts.append(t)\n",
    "t = pd.concat(ts)\n",
    "\n",
    "plt.figure(figsize=(10, 3))\n",
    "# plt.xlim(0, 500)\n",
    "plt.ylim(0, 0.18)\n",
    "for name in set(t['name']):\n",
    "    tc = t.loc[t['name'] == name].copy()\n",
    "    # For visualization\n",
    "    tc['rpkm'].clip(upper=100, inplace=True)\n",
    "    sns.kdeplot(tc['rpkm'], shade=True, label=name)\n",
    "plt.suptitle(f'RPKMs per file')\n",
    "plt.show()"
   ]
  },
  {
   "cell_type": "code",
   "execution_count": null,
   "metadata": {
    "pycharm": {
     "name": "#%%\n"
    }
   },
   "outputs": [],
   "source": [
    "# Top SICER RPKM peak\n",
    "display(t.loc[t['caller'] == 'SICER'].sort_values(by=['rpkm'], ascending=False)[['loc', 'rpkm']].iloc[:10, ])\n",
    "\n",
    "plt.figure(figsize=(10, 3))\n",
    "plt.xlim(0, 100)\n",
    "# plt.ylim(0, 0.08)\n",
    "for caller in set(t['caller']):\n",
    "    tc = t.loc[t['caller'] == caller]\n",
    "    sns.kdeplot(tc['rpkm'], shade=True, label=caller)\n",
    "plt.suptitle(f'RPKMs')\n",
    "plt.show()"
   ]
  },
  {
   "cell_type": "code",
   "execution_count": null,
   "metadata": {
    "pycharm": {
     "name": "#%%\n"
    }
   },
   "outputs": [],
   "source": [
    "# Ignore mitochondrial chromosome\n",
    "df = df.loc[df['chr']!='chrM']"
   ]
  },
  {
   "cell_type": "code",
   "execution_count": null,
   "metadata": {
    "pycharm": {
     "name": "#%%\n"
    }
   },
   "outputs": [],
   "source": [
    "# Lenghts distribution\n",
    "plt.figure(figsize=(10, 4))\n",
    "for caller in ['SICER', 'SPAN']:\n",
    "    tc = t.loc[t['caller'] == caller]\n",
    "    print(caller)\n",
    "    print(tc['len'].describe())\n",
    "    sns.kdeplot(tc['len'], shade=True, label=caller)\n",
    "\n",
    "sns.kdeplot(df['len'], shade=True, label='Gene length')\n",
    "plt.xlim(0, 100000)\n",
    "plt.suptitle(f'Lenghts')\n",
    "plt.show()"
   ]
  },
  {
   "cell_type": "markdown",
   "metadata": {
    "pycharm": {
     "name": "#%% md\n"
    }
   },
   "source": [
    "# H3K36me3 correspondence between conditions"
   ]
  },
  {
   "cell_type": "code",
   "execution_count": null,
   "metadata": {
    "pycharm": {
     "name": "#%%\n"
    }
   },
   "outputs": [],
   "source": [
    "print('Compute correlation between intersection of peak and gene between 2 replicates')\n",
    "TOOLS = [\"MACS2\", \"SICER\", \"SPAN\"]\n",
    "for tool in TOOLS:\n",
    "    for sample in [0, 1]:\n",
    "        df['k36me3_{}_intersect_{}'.format(tool, sample)] = df['k36me3_{}_PEAKS_{}'.format(tool, sample)] > 0\n",
    "    print(tool + '\\t' + str(sp.stats.pearsonr(\n",
    "        df['k36me3_{}_intersect_0'.format(tool)],\n",
    "        df['k36me3_{}_intersect_1'.format(tool)])[0]))"
   ]
  },
  {
   "cell_type": "code",
   "execution_count": null,
   "metadata": {
    "ExecuteTime": {
     "end_time": "2019-01-24T09:43:15.464555Z",
     "start_time": "2019-01-24T09:42:05.559587Z"
    },
    "scrolled": false,
    "pycharm": {
     "name": "#%%\n"
    }
   },
   "outputs": [],
   "source": [
    "from scipy import stats\n",
    "def r2(x, y):\n",
    "    return stats.pearsonr(x, y)[0] ** 2\n",
    "\n",
    "print('Processing RPKM')\n",
    "with PdfPages(os.path.join(FOLDER, 'gse112622_rpkm_all.pdf')) as pdf:        \n",
    "    plt.figure(figsize=(10, 10))\n",
    "    sns.jointplot(df['k36me3_RPKM_0'], \n",
    "                  df['k36me3_RPKM_1'], kind=\"reg\", stat_func=r2,\n",
    "                  joint_kws = {'scatter_kws': dict(alpha=0.1, s=0.5)})\n",
    "    plt.suptitle('Per gene H3K36me3 RPKMs')    \n",
    "    pdf.savefig()\n",
    "\n",
    "print('Processing RPKM without outliers')\n",
    "rpkm_filter = np.logical_and(df['k36me3_RPKM_0'] < 300, \n",
    "                             df['k36me3_RPKM_1'] < 300)\n",
    "display(df.loc[np.logical_not(rpkm_filter)])\n",
    "\n",
    "print('Filter dataframe by RPKM')\n",
    "df = df.loc[rpkm_filter]\n",
    "\n",
    "with PdfPages(os.path.join(FOLDER, 'gse112622_rpkm.pdf')) as pdf:        \n",
    "    plt.figure(figsize=(5, 5))\n",
    "    sns.jointplot(df['k36me3_RPKM_0'], \n",
    "                  df['k36me3_RPKM_1'], kind=\"reg\", stat_func=r2,\n",
    "                 joint_kws = {'scatter_kws':dict(alpha=0.2, s=0.5)})\n",
    "    plt.suptitle('Per gene H3K36me3 RPKMs limited')\n",
    "    pdf.savefig()"
   ]
  },
  {
   "cell_type": "markdown",
   "metadata": {
    "pycharm": {
     "name": "#%% md\n"
    }
   },
   "source": [
    "# H3K36me3 peaks and coverage correspondence"
   ]
  },
  {
   "cell_type": "code",
   "execution_count": null,
   "metadata": {
    "scrolled": false,
    "pycharm": {
     "name": "#%%\n"
    }
   },
   "outputs": [],
   "source": [
    "TOOLS = [\"MACS2\", \"SICER\", \"SPAN\"]\n",
    "for tool in TOOLS:\n",
    "    print('Processing', tool)\n",
    "    with PdfPages(os.path.join(FOLDER, 'gse112622_{}_coverage.pdf'.format(tool))) as pdf:\n",
    "        plt.figure(figsize=(5, 5))\n",
    "        sns.jointplot(df['k36me3_{}_COVERAGE_0'.format(tool)], \n",
    "                      df['k36me3_{}_COVERAGE_1'.format(tool)], kind=\"reg\", stat_func=r2,\n",
    "                      joint_kws = {'scatter_kws': dict(alpha=0.2, s=0.5)})\n",
    "        plt.suptitle('Per gene coverage by peaks')\n",
    "        pdf.savefig()\n",
    "        print('Done gse112622_{}_coverage.pdf'.format(tool))\n",
    "    with PdfPages(os.path.join(FOLDER, 'gse112622_{}_peaks.pdf'.format(tool))) as pdf:        \n",
    "        plt.figure(figsize=(5, 5))\n",
    "        sns.jointplot(df['k36me3_{}_PEAKS_0'.format(tool)], \n",
    "                      df['k36me3_{}_PEAKS_1'.format(tool)], kind=\"reg\", stat_func=r2,\n",
    "                     joint_kws = {'scatter_kws':dict(alpha=0.2, s=0.5)})\n",
    "        plt.suptitle('Per gene number of intersecting by peaks')\n",
    "        pdf.savefig()\n",
    "        print('Done, gse112622_{}_peaks.pdf'.format(tool))"
   ]
  },
  {
   "cell_type": "markdown",
   "metadata": {
    "pycharm": {
     "name": "#%% md\n"
    }
   },
   "source": [
    "# RNA-Seq correspondence between conditions and replicates"
   ]
  },
  {
   "cell_type": "code",
   "execution_count": null,
   "metadata": {
    "ExecuteTime": {
     "end_time": "2019-01-24T09:44:11.916189Z",
     "start_time": "2019-01-24T09:43:15.467443Z"
    },
    "scrolled": false,
    "pycharm": {
     "name": "#%%\n"
    }
   },
   "outputs": [],
   "source": [
    "# # Quantile normalization\n",
    "# def quantile(df):\n",
    "#     dfq = df.copy()\n",
    "#     #compute rank\n",
    "#     dic = {}\n",
    "#     for col in dfq:\n",
    "#         dic.update({col : sorted(dfq[col])})\n",
    "#     sorted_df = pd.DataFrame(dic)\n",
    "#     rank = sorted_df.mean(axis = 1).tolist()\n",
    "#     #sort\n",
    "#     for col in dfq:\n",
    "#         t = np.searchsorted(np.sort(dfq[col]), dfq[col])\n",
    "#         dfq[col] = [rank[i] for i in t]\n",
    "#     return dfq\n",
    "\n",
    "dfq = df[['gene_id', 'FPKM_0_0', 'FPKM_0_1', 'FPKM_1_0', 'FPKM_1_1']]\n",
    "\n",
    "# Log2 normalize \n",
    "for c in ['TPM_0_0', 'TPM_0_1', 'TPM_1_0', 'TPM_1_1']:\n",
    "    dfq[c] = np.log1p(df[c])\n",
    "\n",
    "# Quantile normalize\n",
    "# dfq = quantile(dfq)\n",
    "\n",
    "with PdfPages(os.path.join(FOLDER, 'gse112622_tpm.pdf')) as pdf:\n",
    "    plt.figure(figsize=(5, 5))\n",
    "    sns.pairplot(dfq[['TPM_0_0', 'TPM_0_1', 'TPM_1_0', 'TPM_1_1']])\n",
    "    plt.tight_layout()\n",
    "    plt.suptitle('TPM correspondence')\n",
    "    pdf.savefig()\n",
    "\n",
    "with PdfPages(os.path.join(FOLDER, 'gse112622_fpkm.pdf')) as pdf:\n",
    "    plt.figure(figsize=(5, 5))\n",
    "    sns.pairplot(dfq[['FPKM_0_0', 'FPKM_0_1', 'FPKM_1_0', 'FPKM_1_1']])\n",
    "    plt.tight_layout()\n",
    "    plt.suptitle('FPKM correspondence')\n",
    "    pdf.savefig()    "
   ]
  },
  {
   "cell_type": "markdown",
   "metadata": {
    "pycharm": {
     "name": "#%% md\n"
    }
   },
   "source": [
    "# Average expression / K36me3 values for condition"
   ]
  },
  {
   "cell_type": "code",
   "execution_count": null,
   "metadata": {
    "ExecuteTime": {
     "end_time": "2019-01-24T09:44:12.567717Z",
     "start_time": "2019-01-24T09:44:11.918865Z"
    },
    "scrolled": false,
    "pycharm": {
     "name": "#%%\n"
    }
   },
   "outputs": [],
   "source": [
    "dfq['TPM_0'] = (dfq['TPM_0_0'] + dfq['TPM_0_1']) / 2\n",
    "dfq['TPM_1'] = (dfq['TPM_1_0'] + dfq['TPM_1_1']) / 2\n",
    "dfq['TPM'] = (dfq['TPM_0'] + dfq['TPM_1']) / 2\n",
    "\n",
    "dfq['FPKM_0'] = (dfq['FPKM_0_0'] + dfq['FPKM_0_1']) / 2\n",
    "dfq['FPKM_1'] = (dfq['FPKM_1_0'] + dfq['FPKM_1_1']) / 2\n",
    "dfq['FPKM'] = (dfq['FPKM_0'] + dfq['FPKM_1']) / 2\n",
    "\n",
    "# Top expressed genes and not expressed genes\n",
    "print('Top expressed genes')\n",
    "print('\\t'.join(dfq.sort_values(by=['TPM'], ascending=False)[:20]['gene_id']))\n",
    "\n",
    "print('Top not expressed genes')\n",
    "print('\\t'.join(dfq.sort_values(by=['TPM'])[:20]['gene_id']))\n",
    "\n",
    "dff = df.copy()\n",
    "dff[dfq.columns] = dfq"
   ]
  },
  {
   "cell_type": "code",
   "execution_count": null,
   "metadata": {
    "pycharm": {
     "name": "#%%\n"
    }
   },
   "outputs": [],
   "source": [
    "ORANGE = (243/256, 135/256, 47/256)\n",
    "BLUE = (35/256, 110/256, 150/256)\n",
    "\n",
    "plt.figure(figsize=(10, 6))\n",
    "expressed = dff.loc[dff['TPM'] > 1]['TPM']\n",
    "plt.hist(expessed, bins=120, density=True, color=ORANGE, edgecolor=ORANGE, linewidth=2, \n",
    "         label=f'Expressed TPM>1 ({len(expressed)})')\n",
    "\n",
    "nexpressed = dff.loc[dff['TPM'] <= 1]['TPM']\n",
    "plt.hist(nexpressed, bins=20, density=True, color=BLUE, edgecolor=BLUE, linewidth=2,\n",
    "         label=f'Not expressed TPM<=1 ({len(nexpressed)})')\n",
    "plt.gca().set(title='Frequency histogram of TPM', ylabel='Frequency')\n",
    "plt.legend()\n",
    "\n",
    "plt.show()"
   ]
  },
  {
   "cell_type": "code",
   "execution_count": null,
   "metadata": {
    "pycharm": {
     "name": "#%%\n"
    }
   },
   "outputs": [],
   "source": [
    "print('Compute average coverage/peaks')\n",
    "dff['k36me3_RPM'.format(tool)] = (dff['k36me3_RPM_0'] + dff['k36me3_RPM_1']) / 2    \n",
    "dff['k36me3_RPKM'.format(tool)] = (dff['k36me3_RPKM_0'] + dff['k36me3_RPKM_1']) / 2    \n",
    "\n",
    "for tool in TOOLS:\n",
    "    dff['k36me3_{}_COVERAGE'.format(tool)] =\\\n",
    "        (dff['k36me3_{}_COVERAGE_0'.format(tool)] + dff['k36me3_{}_COVERAGE_1'.format(tool)]) / 2\n",
    "    dff['k36me3_{}_PEAKS'.format(tool)] =\\\n",
    "        (dff['k36me3_{}_PEAKS_0'.format(tool)] + dff['k36me3_{}_PEAKS_1'.format(tool)]) / 2"
   ]
  },
  {
   "cell_type": "code",
   "execution_count": null,
   "metadata": {
    "scrolled": false,
    "pycharm": {
     "name": "#%%\n"
    }
   },
   "outputs": [],
   "source": [
    "TOOLS = [\"MACS2\", \"SICER\", \"SPAN\"]\n",
    "for tool in TOOLS:\n",
    "    print('Processing', tool)\n",
    "    with PdfPages(os.path.join(FOLDER, 'gse112622_{}_coverage_average.pdf'.format(tool))) as pdf:\n",
    "        plt.figure(figsize=(5, 5))\n",
    "        g = sns.jointplot(dff['k36me3_RPKM'], \n",
    "                          dff['k36me3_{}_COVERAGE'.format(tool)], kind=\"reg\", stat_func=r2,\n",
    "                          joint_kws = {'scatter_kws':dict(alpha=0.2, s=0.5)})\n",
    "        g.ax_marg_x.set_xlim(0, 250)\n",
    "        g.ax_marg_y.set_ylim(0, 1)\n",
    "        plt.suptitle('Per gene coverage by peaks')\n",
    "        pdf.savefig()"
   ]
  },
  {
   "cell_type": "markdown",
   "metadata": {
    "pycharm": {
     "name": "#%% md\n"
    }
   },
   "source": [
    "# RNA-Seq TPM vs k36me3 RPKM"
   ]
  },
  {
   "cell_type": "code",
   "execution_count": null,
   "metadata": {
    "ExecuteTime": {
     "end_time": "2019-01-24T09:44:17.101696Z",
     "start_time": "2019-01-24T09:44:12.570947Z"
    },
    "scrolled": false,
    "pycharm": {
     "name": "#%%\n"
    }
   },
   "outputs": [],
   "source": [
    "from scipy import stats\n",
    "def r2(x, y):\n",
    "    return stats.pearsonr(x, y)[0] ** 2\n",
    "\n",
    "# print('TPM vs H3K36me3 RPKM')\n",
    "# for s in [0, 1]:\n",
    "#     plt.figure(figsize=(5, 5))\n",
    "#     sns.jointplot(dff['TPM_{}'.format(s)], dff['k36me3_RPKM_{}'.format(s)], kind=\"reg\", stat_func=r2,\n",
    "#                   joint_kws = {'scatter_kws':dict(alpha=0.1, s=0.5)})\n",
    "#     plt.suptitle('TPM vs K36me3 RPKM {}'.format(s))\n",
    "#     plt.show()\n",
    "\n",
    "\n",
    "plt.figure(figsize=(5, 5))\n",
    "colors = [ORANGE if tpm > 1 else BLUE for tpm in dff['TPM']]\n",
    "g = sns.jointplot(dff['TPM'], dff['k36me3_RPKM'], kind=\"reg\", stat_func=r2,\n",
    "                  joint_kws = {'scatter_kws':dict(alpha=0.2, s=0.5, color=colors)})\n",
    "g.ax_marg_x.set_xlim(0, 10)\n",
    "g.ax_marg_y.set_ylim(0, 300)\n",
    "plt.suptitle('TPM vs K36me3 RPKM')\n",
    "plt.show()    "
   ]
  },
  {
   "cell_type": "markdown",
   "metadata": {
    "pycharm": {
     "name": "#%% md\n"
    }
   },
   "source": [
    "# Intersection ChIP-Seq vs Expressed RNA-Seq"
   ]
  },
  {
   "cell_type": "code",
   "execution_count": null,
   "metadata": {
    "ExecuteTime": {
     "end_time": "2019-01-24T09:44:17.300634Z",
     "start_time": "2019-01-24T09:44:17.103935Z"
    },
    "scrolled": false,
    "pycharm": {
     "name": "#%%\n"
    }
   },
   "outputs": [],
   "source": [
    "print('tool\\treplicate\\t(TPM>1)&intsct\\t(TPM>1)&Nintsct\\t(TPM<=1)&intsct\\t(TPM<=1)&Nintsct')\n",
    "for t in TOOLS:\n",
    "    for s in [0, 1]:\n",
    "        dff['expressed_{}'.format(s)] = dff['TPM_{}'.format(s)] > 1\n",
    "        \n",
    "        expr_intersect_filter = np.logical_and(\n",
    "            dff['expressed_{}'.format(s)], \n",
    "            dff['k36me3_{}_intersect_{}'.format(t, s)])\n",
    "        expr_intersect = sum(expr_intersect_filter)\n",
    "#         print('\\t'.join(dff.loc[expr_intersect_filter][:10]['gene_id']))\n",
    "\n",
    "        expr_nintersect_filter = np.logical_and(\n",
    "            dff['expressed_{}'.format(s)], \n",
    "            np.logical_not(dff['k36me3_{}_intersect_{}'.format(t, s)]))\n",
    "        expr_nintersect = sum(expr_nintersect_filter)\n",
    "#         print('\\t'.join(dff.loc[expr_nintersect_filter][:10]['gene_id']))\n",
    "\n",
    "        nexpr_intersect_filter = np.logical_and(\n",
    "            np.logical_not(dff['expressed_{}'.format(s)]), \n",
    "            dff['k36me3_{}_intersect_{}'.format(t, s)])\n",
    "        nexpr_intersect = sum(nexpr_intersect_filter)\n",
    "#         print('\\t'.join(dff.loc[nexpr_intersect_filter][:10]['gene_id']))\n",
    "\n",
    "        nexpr_nintersect_filter = np.logical_and(\n",
    "            np.logical_not(dff['expressed_{}'.format(s)]), \n",
    "            np.logical_not(dff['k36me3_{}_intersect_{}'.format(t, s)]))\n",
    "        nexpr_nintersect = sum(nexpr_nintersect_filter)\n",
    "#         print('\\t'.join(dff.loc[nexpr_nintersect_filter][:10]['gene_id']))\n",
    "        print(f'{t}\\t{s}\\t{expr_intersect}\\t{expr_nintersect}\\t{nexpr_intersect}\\t{nexpr_nintersect}')"
   ]
  },
  {
   "cell_type": "code",
   "execution_count": null,
   "metadata": {
    "ExecuteTime": {
     "end_time": "2019-01-24T09:44:38.654651Z",
     "start_time": "2019-01-24T09:44:17.302863Z"
    },
    "scrolled": false,
    "pycharm": {
     "name": "#%%\n"
    }
   },
   "outputs": [],
   "source": [
    "print(\"Transcription vs TOOLS coverage/peaks\")\n",
    "colors = [ORANGE if tpm > 1 else BLUE for tpm in dff['TPM']]\n",
    "for tool in TOOLS:\n",
    "    with PdfPages(os.path.join(FOLDER, 'gse112622_transcription_vs_{}_coverage.pdf'.format(tool))) as pdf:\n",
    "        plt.figure(figsize=(5, 5))\n",
    "        g = sns.jointplot(dff['TPM'], dff['k36me3_{}_COVERAGE'.format(tool)], kind=\"reg\", stat_func=r2,\n",
    "                  joint_kws = {'scatter_kws':dict(alpha=0.2, s=0.5, color=colors)})\n",
    "        g.ax_marg_x.set_xlim(0, 10)\n",
    "        g.ax_marg_y.set_ylim(0, 1)\n",
    "        plt.suptitle(f'TPM vs K36me3 gene fraction covered by {tool}')        \n",
    "        plt.tight_layout()\n",
    "        pdf.savefig()\n",
    "\n",
    "    with PdfPages(os.path.join(FOLDER, 'gse112622_transcription_vs_{}_peaks.pdf'.format(tool))) as pdf:\n",
    "        plt.figure(figsize=(5, 5))\n",
    "        g = sns.jointplot(dff['TPM'], dff['k36me3_{}_PEAKS'.format(tool)], kind=\"reg\", stat_func=r2,\n",
    "                  joint_kws = {'scatter_kws':dict(alpha=0.2, s=0.5, color=colors)})\n",
    "        plt.tight_layout()\n",
    "        plt.suptitle(f'TPM vs K36me3 # of peaks {tool} intersecting')                \n",
    "        pdf.savefig()"
   ]
  },
  {
   "cell_type": "markdown",
   "metadata": {
    "pycharm": {
     "name": "#%% md\n"
    }
   },
   "source": [
    "# RNA-Seq expressed / not expressed vs ChIP-Seq Coverage"
   ]
  },
  {
   "cell_type": "code",
   "execution_count": null,
   "metadata": {
    "ExecuteTime": {
     "end_time": "2019-01-24T09:44:41.443706Z",
     "start_time": "2019-01-24T09:44:38.658548Z"
    },
    "scrolled": false,
    "pycharm": {
     "name": "#%%\n"
    }
   },
   "outputs": [],
   "source": [
    "def mod(x):\n",
    "    if \"expr\" in x:\n",
    "        return \"Expression\"\n",
    "    if \"RPKM\" in x:\n",
    "        return \"RPKM\"\n",
    "    if \"MACS2\" in x:\n",
    "        return \"MACS2\"\n",
    "    if \"SICER\" in x:\n",
    "        return \"SICER\"\n",
    "    if \"SPAN\" in x: \n",
    "        return \"SPAN\"\n",
    "    return \"NA\"\n",
    "\n",
    "# print('Processing per sample')    \n",
    "# for sample in [0, 1]:\n",
    "#     # Split expressed and not expressed genes\n",
    "#     dff['expressed_{}'.format(sample)] = dff['TPM_{}'.format(sample)] > 1\n",
    "#     with PdfPages(os.path.join(FOLDER, 'gse112622_transcription_vs_coverage_{}.pdf'.format(sample))) as pdf:\n",
    "#         plt.figure(figsize=(10, 5))\n",
    "#         dfm = pd.melt(dff, id_vars=['expressed_{}'.format(sample)], \n",
    "#                 value_vars=['k36me3_MACS2_COVERAGE_{}'.format(sample), \n",
    "#                             'k36me3_SICER_COVERAGE_{}'.format(sample),\n",
    "#                             'k36me3_SPAN_COVERAGE_{}'.format(sample)])\n",
    "#         dfm['type'] = [mod(x) for x in dfm['variable']]\n",
    "#         sns.violinplot(x='type', y='value', hue='expressed_{}'.format(sample), data=dfm)\n",
    "#         plt.suptitle('RNA-Seq expressed (TPM>1) / non-expressed vs COVERAGE {}'.format(sample))\n",
    "#         pdf.savefig()\n",
    "\n",
    "\n",
    "print('Processing average values')\n",
    "with PdfPages(os.path.join(FOLDER, 'gse112622_summary_transcription_vs_coverage.pdf')) as pdf:\n",
    "    plt.figure(figsize=(10, 5))\n",
    "    # Split expressed and not expressed genes\n",
    "    dff['expressed'] = dff['TPM'] > 1\n",
    "    dfm = pd.melt(dff, id_vars=['expressed'], \n",
    "            value_vars=['k36me3_MACS2_COVERAGE', \n",
    "                        'k36me3_SICER_COVERAGE',\n",
    "                        'k36me3_SPAN_COVERAGE'])\n",
    "    dfm['type'] = [mod(x) for x in dfm[\"variable\"]]\n",
    "    sns.violinplot(x='type', y='value', hue='expressed', data=dfm)\n",
    "    plt.suptitle('RNA-Seq expressed (TPM>1) / non-expressed vs COVERAGE')\n",
    "    pdf.savefig()"
   ]
  },
  {
   "cell_type": "markdown",
   "metadata": {
    "pycharm": {
     "name": "#%% md\n"
    }
   },
   "source": [
    "# Difference in k36me3 intersect => RNA-Seq?"
   ]
  },
  {
   "cell_type": "code",
   "execution_count": null,
   "metadata": {
    "ExecuteTime": {
     "end_time": "2019-01-24T09:44:43.609375Z",
     "start_time": "2019-01-24T09:44:41.449851Z"
    },
    "scrolled": false,
    "pycharm": {
     "name": "#%%\n"
    }
   },
   "outputs": [],
   "source": [
    "##########################################################\n",
    "# Work only with genes, expressed in at least one sample #\n",
    "##########################################################\n",
    "dft = dff.loc[np.logical_or(dff['TPM_0'] > 1, dff['TPM_1'] > 1)]\n",
    "\n",
    "for tool in TOOLS:\n",
    "    print('Processing', tool)\n",
    "    with PdfPages(os.path.join(FOLDER, 'gse112622_{}_t_1.pdf'.format(tool))) as pdf:\n",
    "        plt.figure(figsize=(2, 5))\n",
    "        diff = dft.loc[np.logical_and(dft['k36me3_{}_intersect_0'.format(tool)],\n",
    "                                      np.logical_not(dft['k36me3_{}_intersect_1'.format(tool)]))]\n",
    "        if len(diff) > 0:\n",
    "            g = sns.boxplot(x=\"variable\", y=\"value\", data=pd.melt(diff, value_vars=['TPM_0', 'TPM_1']))\n",
    "            g.set_ylim([0, 8])\n",
    "            plt.suptitle('Transcription for genes with k36me3_{}_intersect 0 and not 1'.format(tool))\n",
    "            pdf.savefig()\n",
    "        else:\n",
    "            print('NOTHING 0 < 1')\n",
    "        \n",
    "    with PdfPages(os.path.join(FOLDER, 'gse112622_{}_t_0.pdf'.format(tool))) as pdf:\n",
    "        plt.figure(figsize=(2, 5))\n",
    "        diff = dft.loc[np.logical_and(dft['k36me3_{}_intersect_1'.format(tool)],\n",
    "                                      np.logical_not(dft['k36me3_{}_intersect_0'.format(tool)]))]\n",
    "        if len(diff) > 0:\n",
    "            g = sns.boxplot(x=\"variable\", y=\"value\", data=pd.melt(diff, value_vars=['TPM_0', 'TPM_1']))\n",
    "            g.set_ylim([0, 8])\n",
    "            plt.suptitle('Transcription for genes with k36me3_{}_intersect 1 and not 0'.format(tool))\n",
    "            pdf.savefig()\n",
    "        else:\n",
    "            print('NOTHING 0 > 1')"
   ]
  },
  {
   "cell_type": "markdown",
   "metadata": {
    "collapsed": true,
    "heading_collapsed": true,
    "pycharm": {
     "name": "#%% md\n"
    }
   },
   "source": [
    "# Hierarchical clustering"
   ]
  },
  {
   "cell_type": "code",
   "execution_count": null,
   "metadata": {
    "ExecuteTime": {
     "end_time": "2019-01-24T09:47:25.886810Z",
     "start_time": "2019-01-24T09:44:43.614215Z"
    },
    "hidden": true,
    "scrolled": false,
    "pycharm": {
     "name": "#%%\n"
    }
   },
   "outputs": [],
   "source": [
    "dff['k36me3_RPKM'] = (dff['k36me3_RPKM_0'] + dff['k36me3_RPKM_1']) / 2\n",
    "dff['k36me3_RPM'] = (dff['k36me3_RPM_0'] + dff['k36me3_RPM_1']) / 2\n",
    "\n",
    "# dfc = dff[['k36me3_RPKM_0', 'k36me3_RPKM_1', 'k36me3_RPKM',\n",
    "#            'k36me3_RPM_0', 'k36me3_RPM_1', 'k36me3_RPM',\n",
    "#            'TPM_0', 'TPM_1', 'TPM', \n",
    "#            'FPKM_0', 'FPKM_1', 'FPKM',\n",
    "#            'k36me3_MACS2_COVERAGE_0','k36me3_MACS2_COVERAGE_1', 'k36me3_MACS2_COVERAGE', \n",
    "#            'k36me3_SICER_COVERAGE_0', 'k36me3_SICER_COVERAGE_1', 'k36me3_SICER_COVERAGE',\n",
    "#            'k36me3_SPAN_COVERAGE_0', 'k36me3_SPAN_COVERAGE_1', 'k36me3_SPAN_COVERAGE']]\n",
    "\n",
    "dfc = dff[['TPM','k36me3_RPKM', 'k36me3_MACS2_COVERAGE', 'k36me3_SICER_COVERAGE', 'k36me3_SPAN_COVERAGE']].copy()\n",
    "dfc.sort_values(by=['k36me3_RPKM'], inplace=True)\n",
    "with PdfPages(os.path.join(FOLDER, 'gse112622_clustering.pdf')) as pdf:\n",
    "    sns.clustermap(dfc, figsize=(4, 7), standard_scale=1, col_cluster=False, row_cluster=False)\n",
    "    pdf.savefig()"
   ]
  },
  {
   "cell_type": "code",
   "execution_count": null,
   "metadata": {
    "pycharm": {
     "name": "#%%\n"
    }
   },
   "outputs": [],
   "source": [
    "dfc.reset_index(inplace=True, drop=True)\n",
    "dfc"
   ]
  },
  {
   "cell_type": "code",
   "execution_count": null,
   "metadata": {
    "pycharm": {
     "name": "#%%\n"
    }
   },
   "outputs": [],
   "source": [
    "plt.figure(figsize=(10, 5))\n",
    "dfc['gene_rank'] = list(dfc.index)\n",
    "sns.regplot(x='gene_rank', y='k36me3_MACS2_COVERAGE', color=\"black\", label=\"MACS2\", data=dfc, lowess=True,\n",
    "           scatter_kws=dict(alpha=0.2, s=0.5))\n",
    "sns.regplot(x='gene_rank', y='k36me3_SICER_COVERAGE', color=\"blue\", label=\"SICER\", data=dfc, lowess=True,\n",
    "           scatter_kws=dict(alpha=0.2, s=0.5))\n",
    "sns.regplot(x='gene_rank', y='k36me3_SPAN_COVERAGE', color=\"green\", label=\"SPAN\", data=dfc, lowess=True,\n",
    "           scatter_kws=dict(alpha=0.2, s=0.5))\n",
    "plt.suptitle('Fraction of gene body covered by peaks')\n",
    "plt.show()"
   ]
  },
  {
   "cell_type": "markdown",
   "metadata": {
    "pycharm": {
     "name": "#%% md\n"
    }
   },
   "source": [
    "# RSEM DE vs intersection / coverage\n",
    "\n",
    "\n",
    "```\n",
    "library(DESeq2)\n",
    "\n",
    "tableFiles <- list.files(\"/mnt/stripe/shpynov/2020_GSE112622_k36me3_vs_rnaseq/rnaseq/fastq_bams_rsem\", pattern = \"*.genes.results\", recursive = F)\n",
    "geneTables <- lapply(tableFiles, function(x) read.table(paste(\"/mnt/stripe/shpynov/2020_GSE112622_k36me3_vs_rnaseq/rnaseq/fastq_bams_rsem\", x, sep = \"/\"), sep=\"\\t\", header=1, row.names=1))\n",
    "countsTable <- do.call(cbind, lapply(geneTables, function(x) x[, \"expected_count\", drop=F]))\n",
    "colnames(countsTable) <- tableFiles\n",
    "countsPure <- as.matrix(countsTable)\n",
    "countsPure <- floor(countsPure)\n",
    "expressedGenes <- rowSums(countsPure) > 0\n",
    "countsPure <- countsPure[expressedGenes, ]\n",
    "\n",
    "write.table(file = '/mnt/stripe/shpynov/2020_GSE112622_k36me3_vs_rnaseq/rnaseq/fastq_bams_rsem/counts.tsv', x = countsPure, sep='\\t')\n",
    "\n",
    "colData <- data.frame(\n",
    "    cellType = c(\"C57BL_6J\", \"C57BL_6J\", \"CAST_EiJ\", \"CAST_EiJ\"),\n",
    "    row.names = colnames(countsPure)\n",
    ")\n",
    "\n",
    "dds <- DESeqDataSetFromMatrix(countData = countsPure,\n",
    "                              colData = colData,\n",
    "                              design = ~cellType)\n",
    "\n",
    "dds <- DESeq(dds)\n",
    "res <- results(dds, name=\"cellType_CAST_EiJ_vs_C57BL_6J\")\n",
    "res <- res[order(res$stat), ]\n",
    "res <- lfcShrink(dds, coef=\"cellType_CAST_EiJ_vs_C57BL_6J\", type=\"apeglm\")\n",
    "write.table(file = '/mnt/stripe/shpynov/2020_GSE112622_k36me3_vs_rnaseq/rnaseq/fastq_bams_rsem/diff.tsv', x = res, sep='\\t')\n",
    "```"
   ]
  },
  {
   "cell_type": "code",
   "execution_count": null,
   "metadata": {
    "ExecuteTime": {
     "end_time": "2019-01-24T09:47:25.958695Z",
     "start_time": "2019-01-24T09:47:25.889414Z"
    },
    "pycharm": {
     "name": "#%%\n"
    }
   },
   "outputs": [],
   "source": [
    "de = pd.read_csv('/mnt/stripe/shpynov/2020_GSE112622_k36me3_vs_rnaseq/rnaseq/fastq_bams_rsem/diff.tsv', \n",
    "                 sep='\\t', comment='#').dropna()\n",
    "de.index.name = 'gene_id'\n",
    "display(de.head())"
   ]
  },
  {
   "cell_type": "markdown",
   "metadata": {
    "pycharm": {
     "name": "#%% md\n"
    }
   },
   "source": [
    "# Top DE genes"
   ]
  },
  {
   "cell_type": "code",
   "execution_count": null,
   "metadata": {
    "ExecuteTime": {
     "end_time": "2019-01-24T09:58:46.218335Z",
     "start_time": "2019-01-24T09:58:45.856887Z"
    },
    "pycharm": {
     "name": "#%%\n"
    }
   },
   "outputs": [],
   "source": [
    "top_genes_0 = de.loc[de['log2FoldChange'] > 0].sort_values(by=['padj'])[:500]\n",
    "display(top_genes_0.head(1))\n",
    "top_genes_1 = de.loc[de['log2FoldChange'] < 0].sort_values(by=['padj'])[:500]\n",
    "display(top_genes_1.head(1))\n",
    "\n",
    "de0 = set(list(top_genes_0.index))\n",
    "dfde0 = dff.loc[[g in de0 for g in dff['gene_id']]] \n",
    "dfde0['de'] = 0\n",
    "\n",
    "de1 = set(list(top_genes_1.index))\n",
    "dfde1 = dff.loc[[g in de1 for g in dff['gene_id']]] \n",
    "dfde1['de'] = 1\n",
    "\n",
    "dfde = pd.concat([dfde0, dfde1])\n",
    "display(dfde.head(3))"
   ]
  },
  {
   "cell_type": "markdown",
   "metadata": {
    "pycharm": {
     "name": "#%% md\n"
    }
   },
   "source": [
    "# Top DE genes vs k36me3 peaks intersection"
   ]
  },
  {
   "cell_type": "code",
   "execution_count": null,
   "metadata": {
    "ExecuteTime": {
     "end_time": "2019-01-24T09:58:47.370105Z",
     "start_time": "2019-01-24T09:58:47.302137Z"
    },
    "pycharm": {
     "name": "#%%\n"
    }
   },
   "outputs": [],
   "source": [
    "for t in TOOLS:\n",
    "    print('Processing {}'.format(t))\n",
    "    for detype in [0, 1]:\n",
    "        print('DE {}'.format(detype))\n",
    "        dfdet = dfde.loc[dfde['de'] == detype]\n",
    "        \n",
    "        itt_filter = np.logical_and(\n",
    "            dfdet['k36me3_{}_intersect_0'.format(t)], \n",
    "            dfdet['k36me3_{}_intersect_1'.format(t)])\n",
    "        print('Intersection TRUE TRUE {}'.format(sum(itt_filter)))\n",
    "#         print('\\t'.join(dfdet.loc[itt_filter][:20]['gene_id']))\n",
    "\n",
    "        itf_filter = np.logical_and(\n",
    "            dfdet['k36me3_{}_intersect_0'.format(t)], \n",
    "            np.logical_not(dfdet['k36me3_{}_intersect_1'.format(t)]))\n",
    "        print('Intersection TRUE FALSE {}'.format(sum(itf_filter)))\n",
    "#         print('\\t'.join(dfdet.loc[itf_filter][:20]['gene_id']))\n",
    "\n",
    "        ift_filter = np.logical_and(\n",
    "            np.logical_not(dfdet['k36me3_{}_intersect_0'.format(t)]), \n",
    "            dfdet['k36me3_{}_intersect_1'.format(t)])\n",
    "        print('Intersection FALSE TRUE {}'.format(sum(ift_filter)))\n",
    "#         print('\\t'.join(dfdet.loc[ift_filter][:20]['gene_id']))\n",
    "\n",
    "        iff_filter = np.logical_and(\n",
    "            np.logical_not(dfdet['k36me3_{}_intersect_0'.format(t)]), \n",
    "            np.logical_not(dfdet['k36me3_{}_intersect_1'.format(t)]))\n",
    "        print('Intersection FALSE FALSE {}'.format(sum(iff_filter)))\n",
    "#         print('\\t'.join(dfdet.loc[iff_filter][:20]['gene_id'])"
   ]
  },
  {
   "cell_type": "markdown",
   "metadata": {
    "pycharm": {
     "name": "#%% md\n"
    }
   },
   "source": [
    "# Top DE genes vs k36me3 peaks coverage"
   ]
  },
  {
   "cell_type": "code",
   "execution_count": null,
   "metadata": {
    "ExecuteTime": {
     "end_time": "2019-01-24T09:58:50.432523Z",
     "start_time": "2019-01-24T09:58:48.694998Z"
    },
    "scrolled": false,
    "pycharm": {
     "name": "#%%\n"
    }
   },
   "outputs": [],
   "source": [
    "for t in TOOLS:\n",
    "    with PdfPages(os.path.join(FOLDER, 'gse112622_de_vs_coverage_{}.pdf'.format(t))) as pdf:\n",
    "        plt.figure(figsize=(4, 5))\n",
    "        dfdem = pd.melt(dfde, id_vars=['de'], \n",
    "                value_vars=['k36me3_{}_COVERAGE_0'.format(t), 'k36me3_{}_COVERAGE_1'.format(t)])\n",
    "        sns.violinplot(x='de', y='value', hue='variable', data=dfdem)\n",
    "#         display(dfdem.head(20))\n",
    "        plt.suptitle('DE RNA-Seq vs COVERAGE {}'.format(t))\n",
    "        pdf.savefig()"
   ]
  },
  {
   "cell_type": "code",
   "execution_count": null,
   "metadata": {
    "pycharm": {
     "name": "#%%\n"
    }
   },
   "outputs": [],
   "source": []
  }
 ],
 "metadata": {
  "anaconda-cloud": {},
  "kernelspec": {
   "display_name": "Python 3",
   "language": "python",
   "name": "python3"
  },
  "language_info": {
   "codemirror_mode": {
    "name": "ipython",
    "version": 3
   },
   "file_extension": ".py",
   "mimetype": "text/x-python",
   "name": "python",
   "nbconvert_exporter": "python",
   "pygments_lexer": "ipython3",
   "version": "3.8.5"
  },
  "toc": {
   "nav_menu": {},
   "number_sections": true,
   "sideBar": true,
   "skip_h1_title": false,
   "toc_cell": false,
   "toc_position": {},
   "toc_section_display": "block",
   "toc_window_display": false
  }
 },
 "nbformat": 4,
 "nbformat_minor": 2
}