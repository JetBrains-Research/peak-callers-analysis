{
 "cells": [
  {
   "cell_type": "markdown",
   "metadata": {},
   "source": [
    "# Analysis of ChIP-seq simulation"
   ]
  },
  {
   "cell_type": "code",
   "execution_count": null,
   "metadata": {},
   "outputs": [],
   "source": [
    "%matplotlib inline\n",
    "%config InlineBackend.figure_format='retina'\n",
    "\n",
    "from IPython.display import display\n",
    "import pandas as pd\n",
    "import os\n",
    "import seaborn as sns\n",
    "sns.set_style(\"whitegrid\")\n",
    "import matplotlib.pyplot as plt\n",
    "from matplotlib.backends.backend_pdf import PdfPages\n",
    "import numpy as np\n",
    "from collections import OrderedDict, Counter\n",
    "from tqdm.auto import tqdm\n",
    "import subprocess, tempfile"
   ]
  },
  {
   "cell_type": "code",
   "execution_count": null,
   "metadata": {},
   "outputs": [],
   "source": [
    "WORK_DIR = '/mnt/stripe/shpynov/2021_chips'\n",
    "\n",
    "FIGURES_DIR = '/mnt/stripe/shpynov/2021_chips/figures'\n",
    "EXT = 'png'\n",
    "! mkdir -p {FIGURES_DIR}\n",
    "! rm {FIGURES_DIR}/*"
   ]
  },
  {
   "cell_type": "markdown",
   "metadata": {},
   "source": [
    "# Chips models analysis"
   ]
  },
  {
   "cell_type": "code",
   "execution_count": null,
   "metadata": {},
   "outputs": [],
   "source": [
    "import json\n",
    "\n",
    "models_df = pd.DataFrame(columns=['Modification', 'Model', 'k', 'theta', 'prc_rate', 'f', 's'],\n",
    "                         dtype=object)\n",
    "for modification in ['H3K27ac', 'H3K27me3', 'H3K36me3', 'H3K4me1', 'H3K4me3']:\n",
    "    path = os.path.join(WORK_DIR, 'peaks', f'{modification}.json')\n",
    "    with open(path) as f:\n",
    "        m = json.load(f)\n",
    "        k, theta, prc_rate, f, s = m['frag']['k'], m['frag']['theta'], m['pcr_rate'], \\\n",
    "            m['pulldown']['f'], m['pulldown']['s']\n",
    "        models_df.loc[len(models_df)] = (modification, path, k, theta, prc_rate, f, s)\n",
    "models_df.to_csv(os.path.join(WORK_DIR, 'models.tsv'), sep='\\t', index=None)\n",
    "models_df"
   ]
  },
  {
   "cell_type": "code",
   "execution_count": null,
   "metadata": {},
   "outputs": [],
   "source": [
    "fig = plt.figure(figsize=(6, 6))\n",
    "sns.scatterplot(data=models_df, x='k', y='theta', hue='Modification', markers=True)\n",
    "plt.title(f'Fragment lengths gamma distribution')\n",
    "plt.savefig(os.path.join(FIGURES_DIR, f'models_fragments_gamma.{EXT}'))\n",
    "plt.show()"
   ]
  },
  {
   "cell_type": "code",
   "execution_count": null,
   "metadata": {},
   "outputs": [],
   "source": [
    "fig = plt.figure(figsize=(6, 6))\n",
    "sns.scatterplot(data=models_df, x='s', y='f', hue='Modification', markers=True)\n",
    "plt.title(f'Fraction of Reads in Peaks vs Bound Genome Fraction')\n",
    "plt.xlabel('Fraction of Reads in Peaks')\n",
    "plt.ylabel('Bound Genome Fraction')\n",
    "plt.savefig(os.path.join(FIGURES_DIR, f'models_frip_vs_bound_genome.{EXT}'))\n",
    "plt.show()"
   ]
  },
  {
   "cell_type": "markdown",
   "metadata": {},
   "source": [
    "# Report analysis"
   ]
  },
  {
   "cell_type": "code",
   "execution_count": null,
   "metadata": {},
   "outputs": [],
   "source": [
    "df = pd.read_csv(os.path.join(WORK_DIR, 'report.tsv'), sep='\\t', comment='#')\n",
    "\n",
    "# Focus on specific tools only\n",
    "df = df.loc[df['Tool'].isin(set(['Macs2', 'Macs2Broad', 'SICER', 'SPAN-GAP5', 'SPAN-NZ2']))]\n",
    "\n",
    "# Without modified model\n",
    "df = df.loc[df['Tool'] != 'SPAN-NZ2']\n",
    "\n",
    "# Without mixed model\n",
    "df = df.loc[df['Modification'] != 'mixed']\n",
    "\n",
    "# Rename\n",
    "df.loc[df['Tool']=='Macs2Broad', 'Tool'] = 'Macs2 broad'\n",
    "df.loc[df['Tool']=='SPAN-GAP5', 'Tool'] = 'SPAN'\n",
    "\n",
    "# Fix SPAN default naming to avoid duplicate record\n",
    "df = df.loc[['_1E-6_' not in pf for pf in df['PeaksFile']]]\n",
    "df['Fdr'] = df['Fdr'].astype(float)\n",
    "\n",
    "# Remove relaxed FDR setting to avoid explosure in #peaks\n",
    "# df = df.loc[df['Fdr'] <= 0.05]\n",
    "df"
   ]
  },
  {
   "cell_type": "code",
   "execution_count": null,
   "metadata": {},
   "outputs": [],
   "source": [
    "df.sort_values(by=['Modification', 'Mult', 'Library', 'Tool', 'Fdr'], inplace=True)"
   ]
  },
  {
   "cell_type": "code",
   "execution_count": null,
   "metadata": {},
   "outputs": [],
   "source": [
    "df['TrueAverageLength'] = df['TrueLength'] / df['TruePeaks']\n",
    "df['AverageLength'] = df['Length'] / df['Peaks']\n",
    "df.fillna(0, inplace=True)"
   ]
  },
  {
   "cell_type": "code",
   "execution_count": null,
   "metadata": {},
   "outputs": [],
   "source": [
    "df['LogFdr'] = np.log10(df['Fdr'])\n",
    "df.loc[df['Fdr']==0.05, 'LogFdr'] = -1.3"
   ]
  },
  {
   "cell_type": "code",
   "execution_count": null,
   "metadata": {},
   "outputs": [],
   "source": [
    "df['Precision'] = df['PrecisionP'] / df['TruePeaks']\n",
    "df['Recall'] = df['RecallP'] / df['Peaks']\n",
    "df['PrecisionL'] = df['Intersection'] / df['TrueLength']\n",
    "df['RecallL'] = df['Intersection'] / df['Length']\n",
    "df.fillna(1, inplace=True)\n",
    "\n",
    "df['Jaccard'] = df['Intersection'] / (df['Length'] + df['TrueLength'] - df['Intersection'])\n",
    "df.fillna(0, inplace=True)"
   ]
  },
  {
   "cell_type": "code",
   "execution_count": null,
   "metadata": {},
   "outputs": [],
   "source": [
    "print('Limit peaks number for visual representation')\n",
    "df.loc[df['Peaks'] > 2000, 'Peaks'] = 2000\n",
    "print('Limit average length for visual representation')\n",
    "df.loc[df['AverageLength'] > 15000, 'AverageLength'] = 15000"
   ]
  },
  {
   "cell_type": "code",
   "execution_count": null,
   "metadata": {},
   "outputs": [],
   "source": [
    "print('Computing F1-score')\n",
    "df['F1'] = [2 / (1 / p + 1 / r) if min(p, r) > 0 else 0 for p, r in zip(df['Precision'], df['Recall'])]\n",
    "df['F1l'] = [2 / (1 / p + 1 / r) if min(p, r) > 0 else 0 for p, r in zip(df['PrecisionL'], df['RecallL'])]\n",
    "df.head()"
   ]
  },
  {
   "cell_type": "markdown",
   "metadata": {},
   "source": [
    "# Summary number of peaks"
   ]
  },
  {
   "cell_type": "code",
   "execution_count": null,
   "metadata": {},
   "outputs": [],
   "source": [
    "print('Ground truth average number of peaks')\n",
    "fig = plt.figure(figsize=(6, 5))\n",
    "sns.boxplot(data=df, x=\"Modification\", y=\"TruePeaks\")\n",
    "plt.xticks(rotation=45, ha='right')\n",
    "plt.ylim(-20, df['TruePeaks'].max() * 1.2)\n",
    "plt.savefig(os.path.join(FIGURES_DIR, f'true_peaks_number.{EXT}'))\n",
    "plt.show()        "
   ]
  },
  {
   "cell_type": "code",
   "execution_count": null,
   "metadata": {},
   "outputs": [],
   "source": [
    "print('Ground truth average length of peaks')\n",
    "fig = plt.figure(figsize=(6, 5))\n",
    "sns.boxplot(data=df, x=\"Modification\", y=\"TrueAverageLength\")\n",
    "plt.xticks(rotation=45, ha='right')\n",
    "plt.ylim(-20, df['TrueAverageLength'].max() * 1.2)\n",
    "plt.savefig(os.path.join(FIGURES_DIR, f'true_peaks_lengths.{EXT}'))\n",
    "plt.show()        "
   ]
  },
  {
   "cell_type": "code",
   "execution_count": null,
   "metadata": {},
   "outputs": [],
   "source": [
    "cmap = plt.cm.get_cmap('jet', len(set(df['Tool'])))\n",
    "palette = {t: cmap(i) for i, t in enumerate(sorted(set(df['Tool'])))}"
   ]
  },
  {
   "cell_type": "code",
   "execution_count": null,
   "metadata": {
    "scrolled": false
   },
   "outputs": [],
   "source": [
    "def summary_peaks_lengths(df, name):\n",
    "    for m in sorted(set(df['Modification'])):\n",
    "        t = df.loc[df['Modification'] == m].copy()\n",
    "        t.sort_values(by=['Tool', 'Fdr'], inplace=True)\n",
    "\n",
    "        fig = plt.figure(figsize=(15, 5))\n",
    "\n",
    "        ax = plt.subplot(1, 2, 1)\n",
    "        print('Peaks', m)\n",
    "        print(f\"True peaks {set(t['TruePeaks'])}\")\n",
    "        sns.boxplot(data=t, x=\"Fdr\", y=\"Peaks\", hue=\"Tool\", palette=palette)\n",
    "        plt.title(f'{m} {name}')\n",
    "        plt.xticks(rotation=45, ha='right')\n",
    "        plt.legend(loc='upper left')\n",
    "#             plt.ylim(-20, t['Peaks'].max() * 1.2)\n",
    "\n",
    "        ax = plt.subplot(1, 2, 2)            \n",
    "        print('Length', m)\n",
    "        print(f\"True average length {set(t['TrueAverageLength'])}\")        \n",
    "        sns.boxplot(data=t, x=\"Fdr\", y=\"AverageLength\", hue=\"Tool\", palette=palette)\n",
    "        plt.title(f'{m} {name}')\n",
    "        plt.xticks(rotation=45, ha='right')\n",
    "        plt.legend(loc='upper left')\n",
    "#             plt.ylim(-20, t['AverageLength'].max() * 1.2)\n",
    "\n",
    "        plt.savefig(os.path.join(FIGURES_DIR, f'summary_peaks_length_{name}_{m}.{EXT}'))\n",
    "        plt.show()        "
   ]
  },
  {
   "cell_type": "code",
   "execution_count": null,
   "metadata": {},
   "outputs": [],
   "source": [
    "def good(df):\n",
    "    return (df['Library'] == '1mln') & (df['Mult'] == 1.0)\n",
    "\n",
    "def low_frip(df):\n",
    "    # Avoid to big coverage - related outliers\n",
    "    return (df['Library'] == '500k') & (df['Mult'] == 0.2)\n",
    "\n",
    "def low_cov(df):\n",
    "    return df['Library'] == '200k'\n",
    "\n",
    "def with_quality(df, add_all=False):\n",
    "    ts = []\n",
    "    t = df.loc[good(df)].copy()\n",
    "    t['Quality'] = 'Good'\n",
    "    ts.append(t)\n",
    "    t = df.loc[low_frip(df)].copy()\n",
    "    t['Quality'] = 'Low FRIP'\n",
    "    ts.append(t)    \n",
    "    t = df.loc[low_cov(df)].copy()\n",
    "    t['Quality'] = 'Low Coverage'\n",
    "    ts.append(t)\n",
    "    if add_all:\n",
    "        t = df.copy()\n",
    "        t['Quality'] = 'All'\n",
    "        ts.append(t)\n",
    "    return pd.concat(ts)"
   ]
  },
  {
   "cell_type": "code",
   "execution_count": null,
   "metadata": {
    "scrolled": true
   },
   "outputs": [],
   "source": [
    "# Supplementary\n",
    "# print('Summary number of peaks and length good quality')\n",
    "# summary_peaks_lengths(df.loc[good(df)], 'good_quality')"
   ]
  },
  {
   "cell_type": "code",
   "execution_count": null,
   "metadata": {
    "scrolled": true
   },
   "outputs": [],
   "source": [
    "# Supplementary\n",
    "# print('Summary number of peaks and length on low coverage')\n",
    "# summary_peaks_lengths(df.loc[low_cov(df)], 'low_coverage')"
   ]
  },
  {
   "cell_type": "code",
   "execution_count": null,
   "metadata": {
    "scrolled": true
   },
   "outputs": [],
   "source": [
    "# Supplementary\n",
    "# print('Summary number of peaks and length on low frip')\n",
    "# summary_peaks_lengths(df.loc[low_frip(df)], 'low_frip')"
   ]
  },
  {
   "cell_type": "code",
   "execution_count": null,
   "metadata": {
    "scrolled": true
   },
   "outputs": [],
   "source": [
    "# Supplementary\n",
    "# print('Summary number of peaks and length')\n",
    "# summary_peaks_lengths(df, 'all')"
   ]
  },
  {
   "cell_type": "markdown",
   "metadata": {},
   "source": [
    "## Aggregated results"
   ]
  },
  {
   "cell_type": "code",
   "execution_count": null,
   "metadata": {},
   "outputs": [],
   "source": [
    "def aggregated_info_fdr(df, fdr):\n",
    "    df = df.loc[df['Fdr'] == fdr]\n",
    "    df = with_quality(df)\n",
    "    \n",
    "    for q in sorted(set(df['Quality'])):\n",
    "        t = df.loc[df['Quality'] == q].copy()\n",
    "        t.sort_values(by=['Modification', 'Tool', 'Fdr'], inplace=True)\n",
    "\n",
    "        fig = plt.figure(figsize=(8, 4))\n",
    "        print('Peaks', q)\n",
    "        print(f\"True peaks {set(t['TruePeaks'])}\")\n",
    "        sns.boxplot(data=t, x=\"Modification\", y=\"Peaks\", hue=\"Tool\", palette=palette)\n",
    "        plt.title(f'Number of peaks {q} fdr={fdr}')\n",
    "        plt.xticks(rotation=45, ha='right')\n",
    "        plt.legend(loc='lower left')\n",
    "        plt.ylim(-20, t['Peaks'].max() * 1.2)\n",
    "        plt.savefig(os.path.join(FIGURES_DIR, f'aggregated_peaks_{q}_fdr{fdr}.{EXT}'))\n",
    "        plt.show() \n",
    "\n",
    "        fig = plt.figure(figsize=(8, 4))\n",
    "        print('Length', q)\n",
    "        print(f\"True average length {set(t['TrueAverageLength'])}\")        \n",
    "        sns.boxplot(data=t, x=\"Modification\", y=\"AverageLength\", hue=\"Tool\", palette=palette)\n",
    "        plt.title(f'Average length {q} fdr={fdr}')\n",
    "        plt.xticks(rotation=45, ha='right')\n",
    "        plt.legend(loc='lower left')\n",
    "        plt.ylim(-20, t['AverageLength'].max() * 1.2)\n",
    "        plt.savefig(os.path.join(FIGURES_DIR, f'aggregated_lengths_{q}_fdr{fdr}.{EXT}'))\n",
    "        plt.show()         \n",
    "\n",
    "        fig = plt.figure(figsize=(8, 4))\n",
    "        print('Jaccard', q)\n",
    "        sns.boxplot(data=t, x=\"Modification\", y=\"Jaccard\", hue=\"Tool\", palette=palette)\n",
    "        plt.title(f'Average jaccard {q} fdr={fdr}')\n",
    "        plt.xticks(rotation=45, ha='right')\n",
    "        plt.legend(loc='lower left')\n",
    "        plt.ylim(-0.1, t['Jaccard'].max() * 1.2)\n",
    "        plt.savefig(os.path.join(FIGURES_DIR, f'jaccard_{q}_fdr{fdr}.{EXT}'))\n",
    "        plt.show()        \n",
    "\n",
    "\n",
    "        fig = plt.figure(figsize=(8, 4))\n",
    "        print('Precision', q)\n",
    "        sns.boxplot(data=t, x=\"Modification\", y=\"Precision\", hue=\"Tool\", palette=palette)\n",
    "        plt.title(f'Average precision {q} fdr={fdr}')\n",
    "        plt.xticks(rotation=45, ha='right')\n",
    "        plt.legend(loc='lower left')\n",
    "        plt.ylim(-0.1, t['Precision'].max() * 1.2)\n",
    "        plt.savefig(os.path.join(FIGURES_DIR, f'precision_{q}_fdr{fdr}.{EXT}'))\n",
    "        plt.show()        \n",
    "        \n",
    "        fig = plt.figure(figsize=(8, 4))\n",
    "        print('Recall', q)\n",
    "        sns.boxplot(data=t, x=\"Modification\", y=\"Recall\", hue=\"Tool\", palette=palette)\n",
    "        plt.title(f'Average recall {q} fdr={fdr}')\n",
    "        plt.xticks(rotation=45, ha='right')\n",
    "        plt.legend(loc='lower left')\n",
    "        plt.ylim(-0.1, t['Recall'].max() * 1.2)\n",
    "        plt.savefig(os.path.join(FIGURES_DIR, f'recall_{q}_fdr{fdr}.{EXT}'))\n",
    "        plt.show()                \n",
    "        \n",
    "        fig = plt.figure(figsize=(8, 4))\n",
    "        print('F1', q)\n",
    "        sns.boxplot(data=t, x=\"Modification\", y=\"F1\", hue=\"Tool\", palette=palette)\n",
    "        plt.title(f'Average f1 {q} fdr={fdr}')\n",
    "        plt.xticks(rotation=45, ha='right')\n",
    "        plt.legend(loc='lower left')\n",
    "        plt.ylim(-0.1, t['F1'].max() * 1.2)\n",
    "        plt.savefig(os.path.join(FIGURES_DIR, f'f1_{q}_fdr{fdr}.{EXT}'))\n",
    "        plt.show()                \n",
    "\n",
    "\n",
    "        fig = plt.figure(figsize=(8, 4))\n",
    "        print('PrecisionL', q)\n",
    "        sns.boxplot(data=t, x=\"Modification\", y=\"PrecisionL\", hue=\"Tool\", palette=palette)\n",
    "        plt.title(f'Average precision {q} fdr={fdr}')\n",
    "        plt.xticks(rotation=45, ha='right')\n",
    "        plt.legend(loc='lower left')\n",
    "        plt.ylim(-0.1, t['Precision'].max() * 1.2)\n",
    "        plt.savefig(os.path.join(FIGURES_DIR, f'precisionl_{q}_fdr{fdr}.{EXT}'))\n",
    "        plt.show()        \n",
    "        \n",
    "        fig = plt.figure(figsize=(8, 4))\n",
    "        print('RecallL', q)\n",
    "        sns.boxplot(data=t, x=\"Modification\", y=\"RecallL\", hue=\"Tool\", palette=palette)\n",
    "        plt.title(f'Average recall {q} fdr={fdr}')\n",
    "        plt.xticks(rotation=45, ha='right')\n",
    "        plt.legend(loc='lower left')\n",
    "        plt.ylim(-0.1, t['Recall'].max() * 1.2)\n",
    "        plt.savefig(os.path.join(FIGURES_DIR, f'recalll_{q}_fdr{fdr}.{EXT}'))\n",
    "        plt.show()                \n",
    "\n",
    "        fig = plt.figure(figsize=(8, 4))\n",
    "        print('F1l', q)\n",
    "        sns.boxplot(data=t, x=\"Modification\", y=\"F1l\", hue=\"Tool\", palette=palette)\n",
    "        plt.title(f'Average f1l {q} fdr={fdr}')\n",
    "        plt.xticks(rotation=45, ha='right')\n",
    "        plt.legend(loc='lower left')\n",
    "        plt.ylim(-0.1, t['F1'].max() * 1.2)\n",
    "        plt.savefig(os.path.join(FIGURES_DIR, f'f1l_{q}_fdr{fdr}.{EXT}'))\n",
    "        plt.show()                 "
   ]
  },
  {
   "cell_type": "code",
   "execution_count": null,
   "metadata": {
    "scrolled": false
   },
   "outputs": [],
   "source": [
    "aggregated_info_fdr(df, 0.05)"
   ]
  },
  {
   "cell_type": "code",
   "execution_count": null,
   "metadata": {},
   "outputs": [],
   "source": [
    "df.loc[(df['Modification'] == 'H3K4me3') & (df['Peaks'] > 1000) & (df['Tool'] == 'SPAN') & (df['Fdr'] == 0.05)]"
   ]
  },
  {
   "cell_type": "code",
   "execution_count": null,
   "metadata": {},
   "outputs": [],
   "source": [
    "def aggregated_peaks_lengths(df):\n",
    "    df = with_quality(df)\n",
    "    \n",
    "    for q in sorted(set(df['Quality'])):\n",
    "        t = df.loc[df['Quality'] == q].copy()\n",
    "        t.sort_values(by=['Modification', 'Tool', 'Fdr'], inplace=True)\n",
    "\n",
    "        fig = plt.figure(figsize=(12, 4))\n",
    "        print('Peaks', q)\n",
    "        print(f\"True peaks {set(t['TruePeaks'])}\")\n",
    "        sns.catplot(data=t, x=\"Tool\", y=\"Peaks\", hue=\"Fdr\", col=\"Modification\", \n",
    "                    kind=\"box\", aspect=.6, palette='mako')\n",
    "        plt.savefig(os.path.join(FIGURES_DIR, f'aggregated_peaks_{q}.{EXT}'))\n",
    "        plt.show() \n",
    "\n",
    "        fig = plt.figure(figsize=(12, 4))\n",
    "        print('Length', q)\n",
    "        print(f\"True average length {set(t['TrueAverageLength'])}\")        \n",
    "        sns.catplot(data=t, x=\"Tool\", y=\"AverageLength\", hue=\"Fdr\", col=\"Modification\", \n",
    "                    kind=\"box\", aspect=.6, palette='mako')\n",
    "\n",
    "        plt.savefig(os.path.join(FIGURES_DIR, f'aggregated_length_{q}.{EXT}'))\n",
    "        plt.show()        "
   ]
  },
  {
   "cell_type": "code",
   "execution_count": null,
   "metadata": {
    "scrolled": true
   },
   "outputs": [],
   "source": [
    "# Supplementary\n",
    "# aggregated_peaks_lengths(df)"
   ]
  },
  {
   "cell_type": "markdown",
   "metadata": {},
   "source": [
    "## Peaks vs Average length"
   ]
  },
  {
   "cell_type": "code",
   "execution_count": null,
   "metadata": {},
   "outputs": [],
   "source": [
    "def summary_vs(df, name, v1, v2):\n",
    "    for m in sorted(set(df['Modification'])):\n",
    "        print(m)\n",
    "        t = df.loc[df['Modification'] == m]\n",
    "        fig = plt.figure(figsize=(12, 6))\n",
    "        for lib in ['1mln', '500k', '200k']:\n",
    "            for mult in [1.0, 0.5, 0.2]:\n",
    "                for i in set(t['I']):\n",
    "                    for tool in set(t['Tool']):\n",
    "                        tt = t.loc[(df['Mult'] == mult) & (t['Library'] == lib) & (t['I'] == i)].copy()\n",
    "                        tt.sort_values(by=['Tool', 'Fdr'], inplace=True)\n",
    "                        sns.lineplot(data=tt, x=v1, y=v2, hue='Tool', \n",
    "                                     markers=True, style='I', palette=palette, alpha=0.2)\n",
    "#             plt.ylim(-20, t['AverageLength'].max() * 1.2)\n",
    "        # Single legend\n",
    "        handles, labels = plt.axes().get_legend_handles_labels()\n",
    "        plt.legend(handles=handles[:len(set(t['Tool'])) + 1], \n",
    "                   labels=labels[:len(set(t['Tool'])) + 1],\n",
    "                  loc='lower left')\n",
    "        plt.title(f'{m} {name}')\n",
    "        plt.savefig(os.path.join(FIGURES_DIR, f'summary_{v1}_vs_{v2}_{m}_{name}.{EXT}'))\n",
    "        plt.show()"
   ]
  },
  {
   "cell_type": "code",
   "execution_count": null,
   "metadata": {
    "scrolled": true
   },
   "outputs": [],
   "source": [
    "# Supplementary\n",
    "# print('Peaks vs Average Length')\n",
    "# summary_vs(df.loc[good(df)], 'good_quality', 'Peaks', 'AverageLength')"
   ]
  },
  {
   "cell_type": "code",
   "execution_count": null,
   "metadata": {
    "scrolled": false
   },
   "outputs": [],
   "source": [
    "def peaks_lengths(df):\n",
    "    for m in sorted(set(df['Modification'])):\n",
    "        print('Peaks', m)\n",
    "        print(f\"True peaks {set(df[df['Modification'] == m]['TruePeaks'])}\")\n",
    "        fig = plt.figure(figsize=(5 * 3, 5 * 3))\n",
    "        i = 1\n",
    "        for lib in ['1mln', '500k', '200k']:\n",
    "            for mult in [1.0, 0.5, 0.2]:\n",
    "                t = df.loc[(df['Modification'] == m) & (df['Mult'] == mult) & (df['Library'] == lib)]\n",
    "                ax = plt.subplot(3, 3, i)\n",
    "                sns.boxplot(data=t, x=\"Fdr\", y=\"Peaks\", hue=\"Tool\", palette=palette)\n",
    "                plt.title(f'{m} {lib} {mult}')\n",
    "                plt.xticks(rotation=45, ha='right')\n",
    "                plt.ylim(-20, t['Peaks'].max() * 1.2)\n",
    "                if i == 1:\n",
    "                    ax.legend(loc='upper left')\n",
    "                else:\n",
    "                    ax.get_legend().remove()    \n",
    "                i += 1\n",
    "        plt.savefig(os.path.join(FIGURES_DIR, f'peaks_{m}.{EXT}'))\n",
    "        plt.show()\n",
    "\n",
    "        print('Length', m)\n",
    "        print(f\"True average length {set(df[df['Modification'] == m]['TrueAverageLength'])}\")        \n",
    "        fig = plt.figure(figsize=(5 * 3, 5 * 3))\n",
    "        i = 1\n",
    "        for lib in ['1mln', '500k', '200k']:\n",
    "            for mult in [1.0, 0.5, 0.2]:\n",
    "                t = df.loc[(df['Modification'] == m) & (df['Mult'] == mult) & (df['Library'] == lib)]\n",
    "                ax = plt.subplot(3, 3, i)\n",
    "                sns.boxplot(data=t, x=\"Fdr\", y=\"AverageLength\", hue=\"Tool\", palette=palette)\n",
    "                plt.title(f'{m} {lib} {mult}')\n",
    "                plt.xticks(rotation=45, ha='right')\n",
    "                plt.ylim(-20, t['AverageLength'].max() * 1.2)\n",
    "                if i == 1:\n",
    "                    ax.legend(loc='upper left')\n",
    "                else:\n",
    "                    ax.get_legend().remove()    \n",
    "                i += 1\n",
    "        plt.savefig(os.path.join(FIGURES_DIR, f'length_{m}.{EXT}'))\n",
    "        plt.show()        "
   ]
  },
  {
   "cell_type": "code",
   "execution_count": null,
   "metadata": {
    "scrolled": true
   },
   "outputs": [],
   "source": [
    "# Supplementary\n",
    "# print('Summary number of peaks and length')\n",
    "# peaks_lengths(df)"
   ]
  },
  {
   "cell_type": "markdown",
   "metadata": {},
   "source": [
    "## Precision / Recall"
   ]
  },
  {
   "cell_type": "code",
   "execution_count": null,
   "metadata": {
    "scrolled": true
   },
   "outputs": [],
   "source": [
    "def precision_recall_detailed(df):\n",
    "    for m in sorted(set(df['Modification'])):\n",
    "        print(m)\n",
    "        fig = plt.figure(figsize=(5 * 3, 5 * 3))\n",
    "        i = 1\n",
    "        for lib in ['1mln', '500k', '200k']:\n",
    "            for mult in [1.0, 0.5, 0.2]:\n",
    "                t = df.loc[(df['Modification'] == m) & (df['Mult'] == mult) & (df['Library'] == lib)]\n",
    "                ax = plt.subplot(3, 3, i)\n",
    "                for I in set(t['I']):\n",
    "                    tt = t.loc[t['I'] == I].copy()\n",
    "                    tt.sort_values(by=['Tool', 'Recall', 'Precision'], inplace=True)\n",
    "                    sns.lineplot(data=tt, x='Recall', y='Precision', hue='Tool', \n",
    "                                 markers=True, style='I', palette=palette, alpha=0.5)\n",
    "                if i == 1:\n",
    "                    # Single legend\n",
    "                    handles, labels = ax.get_legend_handles_labels()\n",
    "                    ax.legend(handles=handles[:len(set(tt['Tool'])) + 1], \n",
    "                              labels=labels[:len(set(tt['Tool'])) + 1],\n",
    "                             loc='lower left')\n",
    "                else:\n",
    "                    ax.get_legend().remove()\n",
    "\n",
    "                i += 1\n",
    "                plt.xlim(-0.1, 1.1)\n",
    "                plt.ylim(-0.1, 1.1)\n",
    "                plt.title(f'{m} {lib} {mult}')\n",
    "        plt.savefig(os.path.join(FIGURES_DIR, f'prc_plot_{m}.{EXT}'))\n",
    "        plt.show()"
   ]
  },
  {
   "cell_type": "code",
   "execution_count": null,
   "metadata": {},
   "outputs": [],
   "source": [
    "# Supplementary\n",
    "# print('Detailed Precision / Recall plot')\n",
    "# precision_recall_detailed()"
   ]
  },
  {
   "cell_type": "code",
   "execution_count": null,
   "metadata": {},
   "outputs": [],
   "source": [
    "def precision_recall(df, name):\n",
    "    for m in sorted(set(df['Modification'])):\n",
    "        print('Peaks', name, m)\n",
    "        t = df.loc[df['Modification'] == m]\n",
    "        fig = plt.figure(figsize=(6, 6))\n",
    "        for lib in ['1mln', '500k', '200k']:\n",
    "            for mult in [1.0, 0.5, 0.2]:\n",
    "                for i in set(t['I']):\n",
    "                    for tool in set(t['Tool']):\n",
    "                        tt = t.loc[(df['Mult'] == mult) & (t['Library'] == lib) & (t['I'] == i)].copy()\n",
    "                        tt.sort_values(by=['Tool', 'Recall', 'Precision'], inplace=True)\n",
    "                        sns.lineplot(data=tt, x='Recall', y='Precision', hue='Tool', \n",
    "                                     markers=True, style='I', palette=palette, alpha=0.2)\n",
    "\n",
    "        # Single legend\n",
    "        handles, labels = ax.get_legend_handles_labels()\n",
    "        plt.legend(handles=handles[:len(set(t['Tool'])) + 1], \n",
    "                  labels=labels[:len(set(t['Tool'])) + 1],\n",
    "                  loc='lower left')\n",
    "        plt.xlim(min(0.6, t['Recall'].min()), 1.1)\n",
    "        plt.ylim(min(0.6, t['Precision'].min()), 1.1)\n",
    "        plt.title(f'{m} {name}')\n",
    "        plt.savefig(os.path.join(FIGURES_DIR, f'precision_recall_{name}_{m}_{name}.{EXT}'))\n",
    "        plt.show()"
   ]
  },
  {
   "cell_type": "code",
   "execution_count": null,
   "metadata": {
    "scrolled": true
   },
   "outputs": [],
   "source": [
    "# Supplementary\n",
    "# print('Precision / Recall')\n",
    "# precision_recall(df.loc[good(df)], 'good_quality')"
   ]
  },
  {
   "cell_type": "code",
   "execution_count": null,
   "metadata": {
    "scrolled": true
   },
   "outputs": [],
   "source": [
    "# Supplementary\n",
    "# print('Precision / Recall low coverage')\n",
    "# precision_recall(df.loc[low_cov(df)], 'low_coverage')"
   ]
  },
  {
   "cell_type": "code",
   "execution_count": null,
   "metadata": {
    "scrolled": true
   },
   "outputs": [],
   "source": [
    "# Supplementary\n",
    "# print('Precision / Recall low frip')\n",
    "# precision_recall(df[low_frip(df)], 'low_frip')"
   ]
  },
  {
   "cell_type": "markdown",
   "metadata": {},
   "source": [
    "## Aggregated precision / recall"
   ]
  },
  {
   "cell_type": "code",
   "execution_count": null,
   "metadata": {},
   "outputs": [],
   "source": [
    "def aggregated_precision_recall(df, name):\n",
    "    print('Peaks', name)\n",
    "    fig = plt.figure(figsize=(18, 3))\n",
    "    for i, m in enumerate(sorted(set(df['Modification']))):\n",
    "        ax = plt.subplot(1, len(set(df['Modification'])), i+1)\n",
    "        tt = df.loc[df['Modification'] == m]\n",
    "        for lib in ['1mln', '500k', '200k']:\n",
    "            for mult in [1.0, 0.5, 0.2]:\n",
    "                for I in set(tt['I']):\n",
    "                    for tool in set(tt['Tool']):\n",
    "                        ttt = tt.loc[(tt['Mult'] == mult) & (tt['Library'] == lib) & (tt['I'] == I)].copy()\n",
    "                        ttt.sort_values(by=['Tool', 'Recall', 'Precision'], inplace=True)\n",
    "                        sns.lineplot(data=ttt, x='Recall', y='Precision', hue='Tool', \n",
    "                                     markers=True, style='I', palette=palette, alpha=0.1)\n",
    "\n",
    "        if i == 0:\n",
    "            # Single legend\n",
    "            handles, labels = ax.get_legend_handles_labels()\n",
    "            ax.legend(handles=handles[:len(set(tt['Tool'])) + 1], \n",
    "                      labels=labels[:len(set(tt['Tool'])) + 1],\n",
    "                      loc='lower left')\n",
    "        else:\n",
    "            ax.get_legend().remove()\n",
    "        plt.xlim(-0.1, 1.1)\n",
    "        plt.ylim(-0.1, 1.1)\n",
    "        plt.title(m)\n",
    "    plt.savefig(os.path.join(FIGURES_DIR, f'aggregated_precision_recall_{name}.{EXT}'))\n",
    "    plt.show()"
   ]
  },
  {
   "cell_type": "code",
   "execution_count": null,
   "metadata": {},
   "outputs": [],
   "source": [
    "print('Precision / Recall')\n",
    "aggregated_precision_recall(df.loc[good(df)], 'good_quality')"
   ]
  },
  {
   "cell_type": "code",
   "execution_count": null,
   "metadata": {},
   "outputs": [],
   "source": [
    "print('Precision / Recall low coverage')\n",
    "aggregated_precision_recall(df.loc[low_cov(df)], 'low_coverage')"
   ]
  },
  {
   "cell_type": "code",
   "execution_count": null,
   "metadata": {},
   "outputs": [],
   "source": [
    "print('Precision / Recall low frip')\n",
    "aggregated_precision_recall(df.loc[low_frip(df)], 'low_frip')"
   ]
  },
  {
   "cell_type": "code",
   "execution_count": null,
   "metadata": {},
   "outputs": [],
   "source": [
    "# aggregated_precision_recall(df, 'All') "
   ]
  },
  {
   "cell_type": "code",
   "execution_count": null,
   "metadata": {},
   "outputs": [],
   "source": [
    "def aggregated_precision_recall_length(df, name):\n",
    "    print('Peaks', name)\n",
    "    fig = plt.figure(figsize=(18, 3))\n",
    "    for i, m in enumerate(sorted(set(df['Modification']))):\n",
    "        ax = plt.subplot(1, len(set(df['Modification'])), i+1)\n",
    "        tt = df.loc[df['Modification'] == m]\n",
    "        for lib in ['1mln', '500k', '200k']:\n",
    "            for mult in [1.0, 0.5, 0.2]:\n",
    "                for I in set(tt['I']):\n",
    "                    for tool in set(tt['Tool']):\n",
    "                        ttt = tt.loc[(tt['Mult'] == mult) & (tt['Library'] == lib) & (tt['I'] == I)].copy()\n",
    "                        ttt.sort_values(by=['Tool', 'RecallL', 'PrecisionL'], inplace=True)\n",
    "                        sns.lineplot(data=ttt, x='RecallL', y='PrecisionL', hue='Tool', \n",
    "                                     markers=True, style='I', palette=palette, alpha=0.1)\n",
    "\n",
    "        if i == 0:\n",
    "            # Single legend\n",
    "            handles, labels = ax.get_legend_handles_labels()\n",
    "            ax.legend(handles=handles[:len(set(tt['Tool'])) + 1], \n",
    "                      labels=labels[:len(set(tt['Tool'])) + 1],\n",
    "                      loc='lower left')\n",
    "        else:\n",
    "            ax.get_legend().remove()\n",
    "        plt.xlim(-0.1, 1.1)\n",
    "        plt.ylim(-0.1, 1.1)\n",
    "        plt.title(m)\n",
    "    plt.savefig(os.path.join(FIGURES_DIR, f'aggregated_precision_recall_length_{name}.{EXT}'))\n",
    "    plt.show()"
   ]
  },
  {
   "cell_type": "code",
   "execution_count": null,
   "metadata": {},
   "outputs": [],
   "source": [
    "print('Precision / Recall length')\n",
    "aggregated_precision_recall_length(df.loc[good(df)], 'good_quality')"
   ]
  },
  {
   "cell_type": "code",
   "execution_count": null,
   "metadata": {},
   "outputs": [],
   "source": [
    "print('Precision / Recall low coverage length')\n",
    "aggregated_precision_recall_length(df.loc[low_cov(df)], 'low_coverage')"
   ]
  },
  {
   "cell_type": "code",
   "execution_count": null,
   "metadata": {},
   "outputs": [],
   "source": [
    "print('Precision / Recall low frip length')\n",
    "aggregated_precision_recall_length(df.loc[low_frip(df)], 'low_frip')"
   ]
  },
  {
   "cell_type": "markdown",
   "metadata": {},
   "source": [
    "# Average precision\n",
    "\n",
    "AP summarizes a precision-recall curve as the weighted mean of precisions achieved at each threshold, with the increase in recall from the previous threshold used as the weight:\n",
    "\n",
    "AP = ∑(Rn−Rn−1)*Pn, where  Pn and Rn are the precision and recall at the nth threshold.\n",
    "\n",
    "This implementation is not interpolated and is different from computing the area under the precision-recall curve with the trapezoidal rule, which uses linear interpolation and can be too optimistic."
   ]
  },
  {
   "cell_type": "code",
   "execution_count": null,
   "metadata": {},
   "outputs": [],
   "source": [
    "dfap = pd.DataFrame(columns=['Modification', 'Library', 'Mult', 'I', 'Tool', 'AP', 'APL'], dtype=object)\n",
    "for m in sorted(set(df['Modification'])):\n",
    "    print(m)\n",
    "    for lib in ['1mln', '500k', '200k']:\n",
    "        for mult in [1.0, 0.5, 0.2]:\n",
    "            t = df.loc[(df['Modification'] == m) & (df['Mult'] == mult) & (df['Library'] == lib)]\n",
    "            for tool in sorted(set(t['Tool'])):\n",
    "                for i in sorted(set(t['I'])):\n",
    "                    tt = t.loc[(t['Tool']==tool) & (t['I'] == i)].copy()\n",
    "                    tt.sort_values(by=['Recall', 'Precision'], inplace=True)\n",
    "                    ap = 0\n",
    "                    apl = 0\n",
    "                    rprev = 0\n",
    "                    rprevl = 0\n",
    "                    for _, row in tt.iterrows():\n",
    "                        ap += (row['Recall'] - rprev)*row['Precision']\n",
    "                        rprev = row['Recall']\n",
    "                        apl += (row['RecallL'] - rprevl)*row['PrecisionL']\n",
    "                        rprevl = row['RecallL']\n",
    "                    dfap.loc[len(dfap)] = [m, lib, mult, i, tool, ap, apl]\n"
   ]
  },
  {
   "cell_type": "markdown",
   "metadata": {},
   "source": [
    "# Aggregated AP score"
   ]
  },
  {
   "cell_type": "code",
   "execution_count": null,
   "metadata": {},
   "outputs": [],
   "source": [
    "def plot_aggregated_ap(dfap):\n",
    "    dfap = with_quality(dfap, True)\n",
    "\n",
    "    for q in sorted(set(dfap['Quality'])):\n",
    "        print(q)\n",
    "        fig = plt.figure(figsize=(12, 4))\n",
    "        tt = dfap.loc[(dfap['Quality'] == q)].copy()\n",
    "        tt.sort_values(by=['Modification', 'Tool'], inplace=True)\n",
    "        sns.boxplot(x='Modification', y='AP', hue='Tool', data=tt)\n",
    "#         plt.title(f'{m} {name}')\n",
    "#         ax.legend(loc='lower left')\n",
    "        plt.ylim(-0.1, 1.1)\n",
    "        plt.savefig(os.path.join(FIGURES_DIR, f'aggregated_ap_{q}.{EXT}'))\n",
    "        plt.show()\n"
   ]
  },
  {
   "cell_type": "code",
   "execution_count": null,
   "metadata": {
    "scrolled": true
   },
   "outputs": [],
   "source": [
    "plot_aggregated_ap(dfap)"
   ]
  },
  {
   "cell_type": "code",
   "execution_count": null,
   "metadata": {},
   "outputs": [],
   "source": [
    "def plot_aggregated_apl(dfap):\n",
    "    dfap = with_quality(dfap, True)\n",
    "\n",
    "    for q in sorted(set(dfap['Quality'])):\n",
    "        print(q)\n",
    "        fig = plt.figure(figsize=(12, 4))\n",
    "        tt = dfap.loc[(dfap['Quality'] == q)].copy()\n",
    "        tt.sort_values(by=['Modification', 'Tool'], inplace=True)\n",
    "        sns.boxplot(x='Modification', y='APL', hue='Tool', data=tt)\n",
    "#         plt.title(f'{m} {name}')\n",
    "#         ax.legend(loc='lower left')\n",
    "        plt.ylim(-0.1, 1.1)\n",
    "        plt.savefig(os.path.join(FIGURES_DIR, f'aggregated_apl_{q}.{EXT}'))\n",
    "        plt.show()\n",
    "\n"
   ]
  },
  {
   "cell_type": "code",
   "execution_count": null,
   "metadata": {
    "scrolled": true
   },
   "outputs": [],
   "source": [
    "plot_aggregated_apl(dfap)"
   ]
  },
  {
   "cell_type": "markdown",
   "metadata": {},
   "source": [
    "# Average precision score detailed"
   ]
  },
  {
   "cell_type": "code",
   "execution_count": null,
   "metadata": {
    "scrolled": true
   },
   "outputs": [],
   "source": [
    "def avp_detailed(dfap):\n",
    "    for m in sorted(set(dfap['Modification'])):\n",
    "        print(m)\n",
    "        fig = plt.figure(figsize=(5 * 3, 5 * 3))\n",
    "        i = 1\n",
    "        for lib in ['1mln', '500k', '200k']:\n",
    "            for mult in [1.0, 0.5, 0.2]:\n",
    "                tt = dfap.loc[(dfap['Modification'] == m) & \n",
    "                              (dfap['Mult'] == mult) & (dfap['Library'] == lib)].copy()\n",
    "                ax = plt.subplot(3, 3, i)\n",
    "                tt.sort_values(by=['Tool'], inplace=True)\n",
    "                sns.boxplot(x= 'Tool', y='AP', data=tt, palette=palette)\n",
    "                plt.title(f'{m} {lib} {mult}')\n",
    "                if i == 1:\n",
    "                    ax.legend(loc='lower left')\n",
    "                else:\n",
    "                    pass\n",
    "    #                 ax.get_legend().remove()\n",
    "                i += 1\n",
    "                plt.ylim(-0.1, 1.1)\n",
    "        plt.savefig(os.path.join(FIGURES_DIR, f'ap_{m}.{EXT}'))\n",
    "        plt.show()"
   ]
  },
  {
   "cell_type": "code",
   "execution_count": null,
   "metadata": {},
   "outputs": [],
   "source": [
    "# Supplementary\n",
    "# print('AP for various conditions')\n",
    "# avp_detailed()"
   ]
  },
  {
   "cell_type": "code",
   "execution_count": null,
   "metadata": {},
   "outputs": [],
   "source": [
    "def avpl_detailed(dfap):\n",
    "    for m in sorted(set(dfap['Modification'])):\n",
    "        print(m)\n",
    "        fig = plt.figure(figsize=(5 * 3, 5 * 3))\n",
    "        i = 1\n",
    "        for lib in ['1mln', '500k', '200k']:\n",
    "            for mult in [1.0, 0.5, 0.2]:\n",
    "                tt = dfap.loc[(dfap['Modification'] == m) & \n",
    "                              (dfap['Mult'] == mult) & (dfap['Library'] == lib)].copy()\n",
    "                ax = plt.subplot(3, 3, i)\n",
    "                tt.sort_values(by=['Tool'], inplace=True)\n",
    "                sns.boxplot(x= 'Tool', y='APL', data=tt, palette=palette)\n",
    "                plt.title(f'{m} {lib} {mult}')\n",
    "                if i == 1:\n",
    "                    ax.legend(loc='lower left')\n",
    "                else:\n",
    "                    pass\n",
    "    #                 ax.get_legend().remove()\n",
    "                i += 1\n",
    "                plt.ylim(-0.1, 1.1)\n",
    "        plt.savefig(os.path.join(FIGURES_DIR, f'apl_{m}.{EXT}'))\n",
    "        plt.show()"
   ]
  },
  {
   "cell_type": "code",
   "execution_count": null,
   "metadata": {},
   "outputs": [],
   "source": [
    "# Supplementary\n",
    "# print('APL for various conditions')\n",
    "# avpl_detailed()"
   ]
  },
  {
   "cell_type": "markdown",
   "metadata": {},
   "source": [
    "# Coverage of peaks analysis H3K4me3\n",
    "\n",
    "```\n",
    " ~= 290\n",
    "# BED to tags\n",
    "cd /mnt/stripe/shpynov/2021_chips_H3K4me3\n",
    "SHIFT=145\n",
    "for PILEUP_BED in *.bed; do\n",
    "   echo ${PILEUP_BED};\n",
    "   cat ${PILEUP_BED} |\\\n",
    "      awk -v OFS='\\t' -v S=${SHIFT} \\\n",
    "      '{if ($6 != \"-\") {print($1, $2+S, $2+S+1)} else {if ($3-S>=1) {print($1, $3-S, $3-S+1)}}}' |\\\n",
    "      sort -u -k1,1 -k3,3n -k2,2n > ${PILEUP_BED/.bed/.tags}\n",
    "done\n",
    "\n",
    "# Add coverage information to peaks\n",
    "cd /mnt/stripe/shpynov/2021_chips_H3K4me3/peaks\n",
    "for F in *; do echo $F; cat $F | awk -v OFS='\\t' '{print $1,$2,$3,$4}' > $F.bed4; done\n",
    "\n",
    "for F in *.narrowPeak.bed4; do echo $F; BF=/mnt/stripe/shpynov/2021_chips_H3K4me3/${F/_q0.05*/.tags}; echo $BF; \n",
    "   bedtools intersect -a $F -b $BF -wa -c > ${F}t; \n",
    "   bedtools intersect -a ${F}t -b /mnt/stripe/shpynov/2021_chips_H3K4me3/input_H3K4me3_chr15.tags -wa -c > ${F}tc; \n",
    "   rm ${F}t; \n",
    "done\n",
    "for F in *.broadPeak.bed4; do echo $F; BF=/mnt/stripe/shpynov/2021_chips_H3K4me3/${F/_broad0.05*/.tags}; echo $BF; \n",
    "   bedtools intersect -a $F -b $BF -wa -c > ${F}t; \n",
    "   bedtools intersect -a ${F}t -b /mnt/stripe/shpynov/2021_chips_H3K4me3/input_H3K4me3_chr15.tags -wa -c > ${F}tc; \n",
    "   rm ${F}t; \n",
    "done\n",
    "\n",
    "for F in *.peak.bed4; do echo $F; BF=/mnt/stripe/shpynov/2021_chips_H3K4me3/${F/_200_0.05*/.tags}; echo $BF; \n",
    "   bedtools intersect -a $F -b $BF -wa -c > ${F}t; \n",
    "   bedtools intersect -a ${F}t -b /mnt/stripe/shpynov/2021_chips_H3K4me3/input_H3K4me3_chr15.tags -wa -c > ${F}tc; \n",
    "   rm ${F}t; \n",
    "done\n",
    "\n",
    "for F in *FDR0.05.bed4; do echo $F; BF=/mnt/stripe/shpynov/2021_chips_H3K4me3/${F/-W200*/.tags}; echo $BF; \n",
    "   bedtools intersect -a $F -b $BF -wa -c > ${F}t; \n",
    "   bedtools intersect -a ${F}t -b /mnt/stripe/shpynov/2021_chips_H3K4me3/input_H3K4me3_chr15.tags -wa -c > ${F}tc; \n",
    "   rm ${F}t; \n",
    "done\n",
    "\n",
    "TRUE_PEAKS=/mnt/stripe/shpynov/2021_chips/fastq/H3K4me3_chr15_1.bed\n",
    "cat $TRUE_PEAKS | awk -v OFS='\\t' '{print $1,$2,$3,$4}' > tp.bed4;\n",
    "for Q in 1.0_1mln 1.0_200k 0.2_1mln 0.2_200k; do\n",
    "   echo $Q; BF=/mnt/stripe/shpynov/2021_chips_H3K4me3/H3K4me3_chr15_1_${Q}.tags;\n",
    "   bedtools intersect -a tp.bed4 -b $BF -wa -c > tp_${Q}.bed4t; \n",
    "   bedtools intersect -a tp_${Q}.bed4t -b /mnt/stripe/shpynov/2021_chips_H3K4me3/input_H3K4me3_chr15.tags -wa -c > tp_${Q}.bed4tc; \n",
    "   rm tp_${Q}.bed4t;\n",
    "done\n",
    "\n",
    "\n",
    "cd /mnt/stripe/shpynov/2021_chips_H3K4me3/\n",
    "bedtools bamtobed -i /mnt/stripe/shpynov/2021_chips/original_bams/H3K4me3.bam > orig_H3K4me3.bed\n",
    "bedtools bamtobed -i /mnt/stripe/shpynov/2021_chips/original_bams/input_K4me3_K27me3.bam > orig_input_H3K4me3.bed\n",
    "\n",
    "SHIFT=145\n",
    "for PILEUP_BED in orig_H3K4me3.bed orig_input_H3K4me3.bed do\n",
    "   cat ${PILEUP_BED} |\\\n",
    "      awk -v OFS='\\t' -v S=${SHIFT} \\\n",
    "      '{if ($6 != \"-\") {print($1, $2+S, $2+S+1)} else {if ($3-S>=1) {print($1, $3-S, $3-S+1)}}}' |\\\n",
    "      sort -u -k1,1 -k3,3n -k2,2n > ${PILEUP_BED/.bed/.tags}\n",
    "done\n",
    "\n",
    "cat /mnt/stripe/shpynov/2021_chips/peaks/H3K4me3_q0.05_peaks.narrowPeak | awk -v OFS='\\t' '{print $1,$2,$3,$4}' > orig_H3K4me3_peaks.bed4\n",
    "bedtools intersect -a orig_H3K4me3_peaks.bed4 -b ../orig_H3K4me3.tags -wa -c > orig_H3K4me3_peaks.bed4t\n",
    "bedtools intersect -a orig_H3K4me3_peaks.bed4t -b ../orig_input_H3K4me3.tags -wa -c > orig_H3K4me3_peaks.bed4tc\n",
    "rm orig_H3K4me3_peaks.bed4t\n",
    "```"
   ]
  },
  {
   "cell_type": "code",
   "execution_count": null,
   "metadata": {},
   "outputs": [],
   "source": [
    "PATH2 = '/mnt/stripe/shpynov/2021_chips_H3K4me3'\n",
    "TRUE_PEAKS = '/mnt/stripe/shpynov/2021_chips/fastq/H3K4me3_chr15_1.bed'\n",
    "ORIG_PEAKS = '/mnt/stripe/shpynov/2021_chips_H3K4me3/peaks/orig_H3K4me3_peaks.bed4tc'\n",
    "QS = ['1.0_1mln', '1.0_200k', '0.2_1mln', '0.2_200k']\n",
    "\n",
    "ts = []\n",
    "for q in QS:\n",
    "    k4me3df = pd.DataFrame(dict(tool=['MACS2', 'MACS2 broad', 'SICER', 'SPAN'], file=[\n",
    "        f'{PATH2}/peaks/H3K4me3_chr15_1_{q}_q0.05_peaks.narrowPeak.bed4tc',\n",
    "        f'{PATH2}/peaks/H3K4me3_chr15_1_{q}_broad0.05_peaks.broadPeak.bed4tc',\n",
    "        f'{PATH2}/peaks/H3K4me3_chr15_1_{q}-W200-G600-islands-summary-FDR0.05.bed4tc',\n",
    "        f'{PATH2}/peaks/H3K4me3_chr15_1_{q}_200_0.05_5.peak.bed4tc'\n",
    "    ]))\n",
    "    k4me3df['q'] = q \n",
    "    ts.append(k4me3df)\n",
    "\n",
    "k4me3df = pd.concat(ts)\n",
    "k4me3df"
   ]
  },
  {
   "cell_type": "code",
   "execution_count": null,
   "metadata": {
    "scrolled": false
   },
   "outputs": [],
   "source": [
    "def bedl(file):\n",
    "    try:\n",
    "        tf = pd.read_csv(file, sep='\\t', header=None)\n",
    "        return tf[2] - tf[1]\n",
    "    except:\n",
    "        return [] # Empty file\n",
    "\n",
    "def lines(file):\n",
    "    try:\n",
    "        tf = pd.read_csv(file, sep='\\t', header=None)\n",
    "        return len(tf)\n",
    "    except:\n",
    "        return 0 # Empty file\n",
    "    \n",
    "def d(a, b):\n",
    "    return a / b if b != 0 else 0\n",
    "\n",
    "\n",
    "def coverage_t(file):\n",
    "    try:\n",
    "        tf = pd.read_csv(file, sep='\\t', header=None)\n",
    "        return tf[4]\n",
    "    except:\n",
    "        return [] # Empty file\n",
    "\n",
    "def coverage_c(file):\n",
    "    try:\n",
    "        tf = pd.read_csv(file, sep='\\t', header=None)\n",
    "        return tf[5]\n",
    "    except:\n",
    "        return [] # Empty file\n",
    "\n",
    "coverage_chr15c = lines(f'{PATH2}/input_H3K4me3_chr15.tags')\n",
    "\n",
    "coverage_origt = lines(f'{PATH2}/orig_H3K4me3.tags')\n",
    "coverage_origc = lines(f'{PATH2}/orig_input_H3K4me3.tags')\n",
    "\n",
    "def coverage_a(file):\n",
    "    try:\n",
    "        tf = pd.read_csv(file, sep='\\t', header=None)\n",
    "        if 'orig' in file:\n",
    "            coveraget, coveragec = coverage_origt, coverage_origc\n",
    "        else:\n",
    "            coveraget = 10000000 if '1mln' in file else 200000\n",
    "            coveragec = coverage_chr15c\n",
    "        return (tf[4] - tf[5] * min(1, coveraget / coveragec)).clip(lower=0)\n",
    "    except:\n",
    "        return [] # Empty file\n",
    "\n",
    "def zip3(cname, ctype, cov):\n",
    "    return zip([cname] * len(cov), [ctype] * len(cov), cov)\n",
    "\n",
    "k4me3_comparison = pd.DataFrame(columns=['q', 'tool1', 'tool2', \n",
    "                                             'peaks1', 'peaks2', 'length1', 'length2',\n",
    "                                             'overlap1', 'overlap2', 'overlap1l', 'overlap2l', \n",
    "                                             'diff1', 'diff2', 'diff1l', 'diff2l',\n",
    "                                             'cov1t', 'cov1c', 'cov1a', \n",
    "                                             'cov2t', 'cov2c', 'cov2a',\n",
    "                                             'overlap1t', 'overlap1c', 'overlap1a',\n",
    "                                             'overlap2t', 'overlap2c', 'overlap2a',                                      \n",
    "                                             'diff1t', 'diff1c', 'diff1a',\n",
    "                                             'diff2t', 'diff2c', 'diff2a'], dtype=object)\n",
    "tools = list(sorted(set(k4me3df['tool'])))\n",
    "\n",
    "tp_length = bedl(TRUE_PEAKS)\n",
    "orig_length = bedl(ORIG_PEAKS)\n",
    "orig_covt, orig_covc, orig_cova = coverage_t(ORIG_PEAKS), coverage_c(ORIG_PEAKS), coverage_a(ORIG_PEAKS)\n",
    "\n",
    "for q in QS:\n",
    "    print(q)\n",
    "    tp_coverage_file = f'{PATH2}/peaks/tp_{q}.bed4tc'\n",
    "    tpcovt, tpcovc, tpcova = coverage_t(tp_coverage_file), coverage_c(tp_coverage_file), coverage_a(tp_coverage_file)\n",
    "    \n",
    "    for i in tqdm(range(len(tools))):\n",
    "        for j in range(i + 1, len(tools)):\n",
    "            tool1, tool2 = tools[i], tools[j]\n",
    "            t1 = k4me3df.loc[(k4me3df['q']==q) & (k4me3df['tool']==tool1)]\n",
    "            t2 = k4me3df.loc[(k4me3df['q']==q) & (k4me3df['tool']==tool2)]\n",
    "\n",
    "            file1 = t1['file'].values[0]\n",
    "            file2 = t2['file'].values[0]\n",
    "            ts = []\n",
    "            \n",
    "            ts.extend(zip3(f'Original Peaks', 'length', orig_length))\n",
    "            ts.extend(zip3(f'Original Peaks', 'coverage', orig_covt))\n",
    "            ts.extend(zip3(f'Original Peaks', 'control', orig_covc))\n",
    "            ts.extend(zip3(f'Original Peaks', 'aggregated', orig_cova))\n",
    "            ts.extend(zip3(f'Original Peaks', 'pbp coverage', [d(c, l) for c, l in zip(orig_covt, orig_length)]))\n",
    "            ts.extend(zip3(f'Original Peaks', 'pbp control', [d(c, l) for c, l in zip(orig_covc, orig_length)]))\n",
    "            ts.extend(zip3(f'Original Peaks', 'pbp aggregated', [d(c, l) for c, l in zip(orig_cova, orig_length)]))\n",
    "            \n",
    "            ts.extend(zip3(f'True Peaks (500)', 'length', tp_length))\n",
    "            ts.extend(zip3(f'True Peaks (500)', 'coverage', tpcovt))\n",
    "            ts.extend(zip3(f'True Peaks (500)', 'control', tpcovc))\n",
    "            ts.extend(zip3(f'True Peaks (500)', 'aggregated', tpcova))\n",
    "            ts.extend(zip3(f'True Peaks (500)', 'pbp coverage', [d(c, l) for c, l in zip(tpcovt, tp_length)]))\n",
    "            ts.extend(zip3(f'True Peaks (500)', 'pbp control', [d(c, l) for c, l in zip(tpcovc, tp_length)]))\n",
    "            ts.extend(zip3(f'True Peaks (500)', 'pbp aggregated', [d(c, l) for c, l in zip(tpcova, tp_length)]))\n",
    "\n",
    "            peaks1, length1 = lines(file1), bedl(file1)\n",
    "            ts.extend(zip3(f'{tool1} ({peaks1})', 'length', length1))            \n",
    "            cov1t, cov1c, cov1a = coverage_t(file1), coverage_c(file1), coverage_a(file1)\n",
    "            ts.extend(zip3(f'{tool1} ({peaks1})', 'coverage', cov1t))\n",
    "            ts.extend(zip3(f'{tool1} ({peaks1})', 'control', cov1c))\n",
    "            ts.extend(zip3(f'{tool1} ({peaks1})', 'aggregated', cov1a))\n",
    "            ts.extend(zip3(f'{tool1} ({peaks1})', 'pbp coverage', [d(c, l) for c, l in zip(cov1t, length1)]))\n",
    "            ts.extend(zip3(f'{tool1} ({peaks1})', 'pbp control', [d(c, l) for c, l in zip(cov1c, length1)]))\n",
    "            ts.extend(zip3(f'{tool1} ({peaks1})', 'pbp aggregated', [d(c, l) for c, l in zip(cov1a, length1)]))\n",
    "\n",
    "\n",
    "            peaks2, length2 = lines(file2), bedl(file2)\n",
    "            ts.extend(zip3(f'{tool2} ({peaks2})', 'length', length2))\n",
    "            cov2t, cov2c, cov2a = coverage_t(file2), coverage_c(file2), coverage_a(file2)\n",
    "            ts.extend(zip3(f'{tool2} ({peaks2})', 'coverage', cov2t))\n",
    "            ts.extend(zip3(f'{tool2} ({peaks2})', 'control', cov2c))\n",
    "            ts.extend(zip3(f'{tool2} ({peaks2})', 'aggregated', cov2a))\n",
    "            ts.extend(zip3(f'{tool2} ({peaks2})', 'pbp coverage', [d(c, l) for c, l in zip(cov2t, length2)]))\n",
    "            ts.extend(zip3(f'{tool2} ({peaks2})', 'pbp control', [d(c, l) for c, l in zip(cov2c, length2)]))\n",
    "            ts.extend(zip3(f'{tool2} ({peaks2})', 'pbp aggregated', [d(c, l) for c, l in zip(cov2a, length2)]))\n",
    "\n",
    "            tf = f'{PATH2}/{q}_overlap_{tool1}_vs_TP.bed'.replace(' ', '_')\n",
    "            !bedtools intersect -a {file1} -b {TRUE_PEAKS} -wa -u > {tf}\n",
    "            overlap1, overlap1l = lines(tf), bedl(tf)\n",
    "            ts.extend(zip3(f'overlap {tool1} vs TP ({overlap1})', 'length', overlap1l))            \n",
    "            overlap1t, overlap1c, overlap1a = coverage_t(tf), coverage_c(tf), coverage_a(tf)\n",
    "            ts.extend(zip3(f'overlap {tool1} vs TP ({overlap1})', 'coverage', overlap1t))\n",
    "            ts.extend(zip3(f'overlap {tool1} vs TP ({overlap1})', 'control', overlap1c))\n",
    "            ts.extend(zip3(f'overlap {tool1} vs TP ({overlap1})', 'aggregated', overlap1a))\n",
    "            ts.extend(zip3(f'overlap {tool1} vs TP ({overlap1})', 'pbp coverage', [d(c, l) for c, l in zip(overlap1t, overlap1l)]))\n",
    "            ts.extend(zip3(f'overlap {tool1} vs TP ({overlap1})', 'pbp control', [d(c, l) for c, l in zip(overlap1c, overlap1l)]))\n",
    "            ts.extend(zip3(f'overlap {tool1} vs TP ({overlap1})', 'pbp aggregated', [d(c, l) for c, l in zip(overlap1a, overlap1l)]))\n",
    "\n",
    "\n",
    "            tf = f'{PATH2}/{q}_overlap_{tool2}_vs_TP.bed'.replace(' ', '_')\n",
    "            !bedtools intersect -b {TRUE_PEAKS} -a {file2} -wa -u > {tf}\n",
    "            overlap2, overlap2l = lines(tf), bedl(tf)\n",
    "            ts.extend(zip3(f'overlap {tool2} vs TP ({overlap2})', 'length', overlap2l))                        \n",
    "            overlap2t, overlap2c, overlap2a = coverage_t(tf), coverage_c(tf), coverage_a(tf)\n",
    "            ts.extend(zip3(f'overlap {tool2} vs TP ({overlap2})', 'coverage', overlap2t))\n",
    "            ts.extend(zip3(f'overlap {tool2} vs TP ({overlap2})', 'control', overlap2c))\n",
    "            ts.extend(zip3(f'overlap {tool2} vs TP ({overlap2})', 'aggregated', overlap2a))\n",
    "            ts.extend(zip3(f'overlap {tool2} vs TP ({overlap2})', 'pbp coverage', [d(c, l) for c, l in zip(overlap2t, overlap2l)]))\n",
    "            ts.extend(zip3(f'overlap {tool2} vs TP ({overlap2})', 'pbp control', [d(c, l) for c, l in zip(overlap2c, overlap2l)]))\n",
    "            ts.extend(zip3(f'overlap {tool2} vs TP ({overlap2})', 'pbp aggregated', [d(c, l) for c, l in zip(overlap2a, overlap2l)]))\n",
    "            \n",
    "\n",
    "            tf = f'{PATH2}/{q}_overlap_{tool1}_vs_{tool2}.bed'.replace(' ', '_')\n",
    "            !bedtools intersect -a {file1} -b {file2} -wa -u > {tf}\n",
    "            overlap1, overlap1l = lines(tf), bedl(tf)\n",
    "            ts.extend(zip3(f'overlap {tool1} vs {tool2} ({overlap1})', 'length', overlap1l))            \n",
    "            overlap1t, overlap1c, overlap1a = coverage_t(tf), coverage_c(tf), coverage_a(tf)\n",
    "            ts.extend(zip3(f'overlap {tool1} vs {tool2} ({overlap1})', 'coverage', overlap1t))\n",
    "            ts.extend(zip3(f'overlap {tool1} vs {tool2} ({overlap1})', 'control', overlap1c))\n",
    "            ts.extend(zip3(f'overlap {tool1} vs {tool2} ({overlap1})', 'aggregated', overlap1a))\n",
    "            ts.extend(zip3(f'overlap {tool1} vs {tool2} ({overlap1})', 'pbp coverage', [d(c, l) for c, l in zip(overlap1t, overlap1l)]))\n",
    "            ts.extend(zip3(f'overlap {tool1} vs {tool2} ({overlap1})', 'pbp control', [d(c, l) for c, l in zip(overlap1c, overlap1l)]))\n",
    "            ts.extend(zip3(f'overlap {tool1} vs {tool2} ({overlap1})', 'pbp aggregated', [d(c, l) for c, l in zip(overlap1a, overlap1l)]))\n",
    "\n",
    "\n",
    "            tf = f'{PATH2}/{q}_overlap_{tool2}_vs_{tool1}.bed'.replace(' ', '_')\n",
    "            !bedtools intersect -b {file1} -a {file2} -wa -u > {tf}\n",
    "            overlap2, overlap2l = lines(tf), bedl(tf)\n",
    "            ts.extend(zip3(f'overlap {tool2} vs {tool1} ({overlap2})', 'length', overlap2l))                        \n",
    "            overlap2t, overlap2c, overlap2a = coverage_t(tf), coverage_c(tf), coverage_a(tf)\n",
    "            ts.extend(zip3(f'overlap {tool2} vs {tool1} ({overlap2})', 'coverage', overlap2t))\n",
    "            ts.extend(zip3(f'overlap {tool2} vs {tool1} ({overlap2})', 'control', overlap2c))\n",
    "            ts.extend(zip3(f'overlap {tool2} vs {tool1} ({overlap2})', 'aggregated', overlap2a))\n",
    "            ts.extend(zip3(f'overlap {tool2} vs {tool1} ({overlap2})', 'pbp coverage', [d(c, l) for c, l in zip(overlap2t, overlap2l)]))\n",
    "            ts.extend(zip3(f'overlap {tool2} vs {tool1} ({overlap2})', 'pbp control', [d(c, l) for c, l in zip(overlap2c, overlap2l)]))\n",
    "            ts.extend(zip3(f'overlap {tool2} vs {tool1} ({overlap2})', 'pbp aggregated', [d(c, l) for c, l in zip(overlap2a, overlap2l)]))\n",
    "\n",
    "\n",
    "            tf = f'{PATH2}/{q}_diff_{tool1}_vs_TP.bed'.replace(' ', '_')\n",
    "            !bedtools intersect -a {file1} -b {TRUE_PEAKS} -v > {tf}\n",
    "            diff1, diff1l = lines(tf), bedl(tf)\n",
    "            ts.extend(zip3(f'diff {tool1} - TP ({diff1})', 'length', diff1l))                        \n",
    "            diff1t, diff1c, diff1a = coverage_t(tf), coverage_c(tf), coverage_a(tf)\n",
    "            ts.extend(zip3(f'diff {tool1} - TP ({diff1})', 'coverage', diff1t))\n",
    "            ts.extend(zip3(f'diff {tool1} - TP ({diff1})', 'control', diff1c))\n",
    "            ts.extend(zip3(f'diff {tool1} - TP ({diff1})', 'aggregated', diff1a))\n",
    "            ts.extend(zip3(f'diff {tool1} - TP ({diff1})', 'pbp coverage', [d(c, l) for c, l in zip(diff1t, diff1l)]))\n",
    "            ts.extend(zip3(f'diff {tool1} - TP ({diff1})', 'pbp control', [d(c, l) for c, l in zip(diff1c, diff1l)]))\n",
    "            ts.extend(zip3(f'diff {tool1} - TP ({diff1})', 'pbp aggregated', [d(c, l) for c, l in zip(diff1a, diff1l)]))\n",
    "\n",
    "            tf = f'{PATH2}/{q}_diff_{tool2}_vs_TP.bed'.replace(' ', '_')        \n",
    "            !bedtools intersect -b {TRUE_PEAKS} -a {file2} -v > {tf}\n",
    "            diff2, diff2l = lines(tf), bedl(tf)\n",
    "            ts.extend(zip3(f'diff {tool2} - TP ({diff2})', 'length', diff2l))            \n",
    "            diff2t, diff2c, diff2a = coverage_t(tf), coverage_c(tf), coverage_a(tf)\n",
    "            ts.extend(zip3(f'diff {tool2} - TP ({diff2})', 'coverage', diff2t))\n",
    "            ts.extend(zip3(f'diff {tool2} - TP ({diff2})', 'control', diff2c))\n",
    "            ts.extend(zip3(f'diff {tool2} - TP ({diff2})', 'aggregated', diff2a))\n",
    "            ts.extend(zip3(f'diff {tool2} - TP ({diff2})', 'pbp coverage', [d(c, l) for c, l in zip(diff2t, diff2l)]))\n",
    "            ts.extend(zip3(f'diff {tool2} - TP ({diff2})', 'pbp control', [d(c, l) for c, l in zip(diff2c, diff2l)]))\n",
    "            ts.extend(zip3(f'diff {tool2} - TP ({diff2})', 'pbp aggregated', [d(c, l) for c, l in zip(diff2a, diff2l)]))\n",
    "\n",
    "\n",
    "            tf = f'{PATH2}/{q}_diff_{tool1}_vs_{tool2}.bed'.replace(' ', '_')\n",
    "            !bedtools intersect -a {file1} -b {file2} -v > {tf}\n",
    "            diff1, diff1l = lines(tf), bedl(tf)\n",
    "            ts.extend(zip3(f'diff {tool1} - {tool2} ({diff1})', 'length', diff1l))                        \n",
    "            diff1t, diff1c, diff1a = coverage_t(tf), coverage_c(tf), coverage_a(tf)\n",
    "            ts.extend(zip3(f'diff {tool1} - {tool2} ({diff1})', 'coverage', diff1t))\n",
    "            ts.extend(zip3(f'diff {tool1} - {tool2} ({diff1})', 'control', diff1c))\n",
    "            ts.extend(zip3(f'diff {tool1} - {tool2} ({diff1})', 'aggregated', diff1a))\n",
    "            ts.extend(zip3(f'diff {tool1} - {tool2} ({diff1})', 'pbp coverage', [d(c, l) for c, l in zip(diff1t, diff1l)]))\n",
    "            ts.extend(zip3(f'diff {tool1} - {tool2} ({diff1})', 'pbp control', [d(c, l) for c, l in zip(diff1c, diff1l)]))\n",
    "            ts.extend(zip3(f'diff {tool1} - {tool2} ({diff1})', 'pbp aggregated', [d(c, l) for c, l in zip(diff1a, diff1l)]))\n",
    "\n",
    "            tf = f'{PATH2}/{q}_diff_{tool2}_vs_{tool1}.bed'.replace(' ', '_')        \n",
    "            !bedtools intersect -b {file1} -a {file2} -v > {tf}\n",
    "            diff2, diff2l = lines(tf), bedl(tf)\n",
    "            ts.extend(zip3(f'diff {tool2} - {tool1} ({diff2})', 'length', diff2l))            \n",
    "            diff2t, diff2c, diff2a = coverage_t(tf), coverage_c(tf), coverage_a(tf)\n",
    "            ts.extend(zip3(f'diff {tool2} - {tool1} ({diff2})', 'coverage', diff2t))\n",
    "            ts.extend(zip3(f'diff {tool2} - {tool1} ({diff2})', 'control', diff2c))\n",
    "            ts.extend(zip3(f'diff {tool2} - {tool1} ({diff2})', 'aggregated', diff2a))\n",
    "            ts.extend(zip3(f'diff {tool2} - {tool1} ({diff2})', 'pbp coverage', [d(c, l) for c, l in zip(diff2t, diff2l)]))\n",
    "            ts.extend(zip3(f'diff {tool2} - {tool1} ({diff2})', 'pbp control', [d(c, l) for c, l in zip(diff2c, diff2l)]))\n",
    "            ts.extend(zip3(f'diff {tool2} - {tool1} ({diff2})', 'pbp aggregated', [d(c, l) for c, l in zip(diff2a, diff2l)]))\n",
    "\n",
    "            ts = pd.DataFrame(ts, columns=['name', 'type', 'coverage'])\n",
    "\n",
    "            # Plot\n",
    "            plt.figure(figsize=(18, 5))\n",
    "            t = ts.loc[ts['type'] == 'length'][['name', 'coverage']].copy()\n",
    "            t.columns = ['name', 'length']\n",
    "            t['length'].clip(upper=20000, inplace=True)\n",
    "            ax = plt.subplot(1, 3, 1)\n",
    "            sns.boxplot(data=t, x='name', y='length', ax=ax)\n",
    "            ax.set_xticklabels(ax.get_xticklabels(),rotation = 90)\n",
    "            plt.title(f'Q={q} Peaks lengths')\n",
    "\n",
    "            t = ts.loc[[ty != 'length' and 'pbp' not in ty for ty in ts['type']]].copy()\n",
    "            t['coverage'].clip(upper=2000, inplace=True)\n",
    "            ax = plt.subplot(1, 3, 2)\n",
    "            sns.boxplot(data=t, x='name', hue='type', y='coverage', ax=ax)\n",
    "            ax.set_xticklabels(ax.get_xticklabels(),rotation = 90)\n",
    "            plt.title(f'Q={q} Coverage in peaks')\n",
    "\n",
    "            t = ts.loc[[ty != 'length' and 'pbp' in ty for ty in ts['type']]].copy()  \n",
    "            t['coverage'].clip(upper=2.0, inplace=True)        \n",
    "            ax = plt.subplot(1, 3, 3)\n",
    "            sns.boxplot(data=t, x='name', hue='type', y='coverage', ax=ax)\n",
    "            ax.set_xticklabels(ax.get_xticklabels(),rotation = 90)\n",
    "            plt.title(f'Q={q} Coverage per basepair in peaks')\n",
    "            \n",
    "            plt.savefig(f'{PATH2}/figures/{q}_{tool1}_vs_{tool2}.png', bbox_inches='tight', dpi=300)        \n",
    "            plt.show()\n",
    "\n",
    "\n",
    "\n",
    "            k4me3_comparison.loc[len(k4me3_comparison)] = (\n",
    "                n, tool1, tool2, \n",
    "                peaks1, peaks2, sum(length1), sum(length2), \n",
    "                overlap1, overlap2, sum(overlap1l), sum(overlap2l),\n",
    "                diff1, diff2, sum(diff1l), sum(diff2l),\n",
    "                sum(cov1t), sum(cov1c), sum(cov1a), \n",
    "                sum(cov2t), sum(cov2c), sum(cov2a), \n",
    "                sum(overlap1t), sum(overlap1c), sum(overlap1a),\n",
    "                sum(overlap2t), sum(overlap2c), sum(overlap2a),\n",
    "                sum(diff1t), sum(diff1c), sum(diff1a),\n",
    "                sum(diff2t), sum(diff2c), sum(diff2a)\n",
    "            )\n",
    "\n",
    "display(k4me3_comparison)\n",
    "k4me3_comparison.to_csv(f'{PATH2}/k4me3_comparison.csv', index=False)"
   ]
  },
  {
   "cell_type": "code",
   "execution_count": null,
   "metadata": {},
   "outputs": [],
   "source": []
  }
 ],
 "metadata": {
  "kernelspec": {
   "display_name": "Python 3",
   "language": "python",
   "name": "python3"
  },
  "language_info": {
   "codemirror_mode": {
    "name": "ipython",
    "version": 3
   },
   "file_extension": ".py",
   "mimetype": "text/x-python",
   "name": "python",
   "nbconvert_exporter": "python",
   "pygments_lexer": "ipython3",
   "version": "3.8.5"
  }
 },
 "nbformat": 4,
 "nbformat_minor": 5
}
