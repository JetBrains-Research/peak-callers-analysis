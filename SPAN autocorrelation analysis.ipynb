{
 "cells": [
  {
   "cell_type": "markdown",
   "metadata": {
    "pycharm": {
     "name": "#%% md\n"
    }
   },
   "source": [
    "# SPAN autocorrelation analysis\n",
    "\n",
    "Please use `--ext` parameter to save scores."
   ]
  },
  {
   "cell_type": "code",
   "execution_count": null,
   "metadata": {
    "ExecuteTime": {
     "end_time": "2019-04-12T10:09:42.651555Z",
     "start_time": "2019-04-12T10:09:42.620746Z"
    },
    "pycharm": {
     "name": "#%%\n"
    }
   },
   "outputs": [],
   "source": [
    "% matplotlib inline\n",
    "% config InlineBackend.figure_format='retina'\n",
    "import glob\n",
    "import os.path\n",
    "\n",
    "import numpy as np\n",
    "# Just load seaborn & set theme and the chart looks better:\n",
    "import seaborn as sns\n",
    "from bokeh.io import output_notebook, show\n",
    "from bokeh.layouts import gridplot\n",
    "from bokeh.plotting import figure\n",
    "\n",
    "sns.set_theme()\n",
    "\n",
    "output_notebook()"
   ]
  },
  {
   "cell_type": "code",
   "execution_count": null,
   "outputs": [],
   "source": [
    "FOLDER = '/Users/Oleg.Shpynov/data/2022_GSE26320/span'\n",
    "NAMES = ['GSM646316_GM12878_H3K27ac_rep1', 'GSM646320_GM12878_H3K36me3_rep1', 'GSM646326_GM12878_H3K4me3_rep1',\n",
    "         'GSM646318_GM12878_H3K27me3_rep1', 'GSM646322_GM12878_H3K4me1_rep1']\n"
   ],
   "metadata": {
    "collapsed": false,
    "pycharm": {
     "name": "#%%\n"
    }
   }
  },
  {
   "cell_type": "code",
   "execution_count": null,
   "outputs": [],
   "source": [
    "coverages = {n: glob.glob(FOLDER + '/cache/*' + n + '*.npz')[0] for n in NAMES}\n",
    "print('Coverages', coverages)\n",
    "models = {}\n",
    "for n in NAMES:\n",
    "    for f in glob.glob(FOLDER + '/fit/*.span'):\n",
    "        if '_200' in f and all(p in f for p in n.split('_')):\n",
    "            models[n] = f\n",
    "            break\n",
    "print('Models', models)"
   ],
   "metadata": {
    "collapsed": false,
    "pycharm": {
     "name": "#%%\n"
    }
   }
  },
  {
   "cell_type": "code",
   "execution_count": null,
   "metadata": {
    "ExecuteTime": {
     "end_time": "2019-04-12T17:12:38.610303Z",
     "start_time": "2019-04-12T17:12:38.297361Z"
    },
    "pycharm": {
     "name": "#%%\n"
    }
   },
   "outputs": [],
   "source": [
    "import tempfile\n",
    "from scipy.stats import nbinom as nb\n",
    "import os\n",
    "from collections import Counter\n",
    "import json\n",
    "\n",
    "\n",
    "def plot_coverage(name, bin=200, n=20):\n",
    "    model_path = models[name]\n",
    "    print('Loading model', model_path)\n",
    "    with tempfile.TemporaryDirectory() as tmp:\n",
    "        ! tar -xf {model_path} --directory {tmp}\n",
    "        with open(os.path.join(tmp, 'model.json')) as mi:\n",
    "            model = json.load(mi)\n",
    "        with open(os.path.join(tmp, 'information.json')) as fi:\n",
    "            chrom_sizes = json.load(fi)['chromosomes_sizes']\n",
    "    meanLow, fsLow = model['neg_bin_emission_schemes'][0]['mean'], model['neg_bin_emission_schemes'][0]['failures']\n",
    "    meanHigh, fsHigh = model['neg_bin_emission_schemes'][1]['mean'], model['neg_bin_emission_schemes'][1]['failures']\n",
    "\n",
    "    nbLow = nb(fsLow, fsLow / (meanLow + fsLow))\n",
    "    # print('Low', meanLow, fsLow, nbLow.mean())\n",
    "\n",
    "    nbHigh = nb(fsHigh, fsHigh / (meanHigh + fsHigh))\n",
    "    # print('High', meanHigh, fsHigh, nbHigh.mean())\n",
    "    # print('\\n')\n",
    "\n",
    "    coverage_path = coverages[name]\n",
    "    print('Loading coverage', coverage_path)\n",
    "    raw_coverage = np.load(coverage_path)\n",
    "    coverage = Counter()\n",
    "    for chr in chrom_sizes.keys():\n",
    "        if f'{chr}/+' in raw_coverage:\n",
    "            for p in raw_coverage[f'{chr}/+']:\n",
    "                coverage[int(p / bin)] += 1\n",
    "            for p in raw_coverage[f'{chr}/-']:\n",
    "                coverage[int(p / bin)] += 1\n",
    "    cvalues = coverage.values()\n",
    "    print('Summary coverage', sum(cvalues))\n",
    "    notnull = [x for x in cvalues if x > 0]\n",
    "    print('Summary notnull bins', len(notnull))\n",
    "    print('Max coverage', max(notnull))\n",
    "\n",
    "    hist, edges = np.histogram([x for x in notnull if x <= n], density=True, bins=(n))\n",
    "    xs = np.linspace(1, n, n)\n",
    "    low = [nbLow.pmf(x) for x in xs]\n",
    "    high = [nbHigh.pmf(x) for x in xs]\n",
    "\n",
    "    p = figure(title=name + ' bin' + str(bin) + ' >0', tools='', background_fill_color=\"#fafafa\")\n",
    "    p.quad(top=hist, bottom=0, left=edges[:-1], right=edges[1:],\n",
    "           fill_color=\"navy\", line_color=\"white\", alpha=0.5)\n",
    "\n",
    "    p.line(xs, low, line_color=\"orange\", line_width=5, alpha=0.7, legend_label=\"Low\")\n",
    "    p.line(xs, high, line_color=\"green\", line_width=5, alpha=0.7, legend_label=\"High\")\n",
    "\n",
    "    # p.y_range.start = 0\n",
    "    # p.y_range.end = 1\n",
    "    # p.y_scale = LogScale()\n",
    "    p.x_range.start = 1\n",
    "    p.x_range.end = n\n",
    "    p.xaxis.axis_label = 'x'\n",
    "    p.yaxis.axis_label = 'Pr(x)'\n",
    "    p.grid.grid_line_color = \"white\"\n",
    "\n",
    "    return p\n",
    "\n",
    "\n",
    "show(plot_coverage('GSM646320_GM12878_H3K36me3_rep1'))"
   ]
  },
  {
   "cell_type": "code",
   "execution_count": null,
   "metadata": {
    "ExecuteTime": {
     "end_time": "2019-04-12T17:14:17.801315Z",
     "start_time": "2019-04-12T17:12:39.186288Z"
    },
    "scrolled": false,
    "pycharm": {
     "name": "#%%\n"
    }
   },
   "outputs": [],
   "source": [
    "show(gridplot([plot_coverage(n) for n in NAMES], ncols=1,\n",
    "              width=500, height=300, toolbar_location=None))"
   ]
  },
  {
   "cell_type": "markdown",
   "metadata": {
    "pycharm": {
     "name": "#%% md\n"
    }
   },
   "source": [
    "# Autocorrelation"
   ]
  },
  {
   "cell_type": "code",
   "execution_count": null,
   "outputs": [],
   "source": [
    "from math import ceil\n",
    "from scipy.stats import pearsonr\n",
    "import matplotlib.pyplot as plt\n",
    "\n",
    "def get_binned_coverage(raw_coverage, chrom_sizes, bin):\n",
    "    coverage = np.zeros(sum(int(ceil(v / bin)) for k, v in chrom_sizes.items()))\n",
    "    offset = 0\n",
    "    for chr in chrom_sizes.keys():\n",
    "        for p in raw_coverage[f'{chr}/+']:\n",
    "            coverage[offset + int(p / bin)] += 1\n",
    "        for p in raw_coverage[f'{chr}/-']:\n",
    "            coverage[offset + int(p / bin)] += 1\n",
    "        offset += int(ceil(chrom_sizes[chr] / bin))\n",
    "    return coverage\n",
    "\n",
    "def autocorr_full(\n",
    "        name,\n",
    "        bin=200,\n",
    "        min_dist=0,\n",
    "        max_dist=20,\n",
    "        ignore_zero=True,\n",
    "        xticks=None,\n",
    "        ylim=None,\n",
    "):\n",
    "    model_path = models[name]\n",
    "    print('Loading model', model_path)\n",
    "    with tempfile.TemporaryDirectory() as tmp:\n",
    "        ! tar -xf {model_path} --directory {tmp}\n",
    "        with open(os.path.join(tmp, 'information.json')) as fi:\n",
    "            chrom_sizes = json.load(fi)['chromosomes_sizes']\n",
    "    coverage_path = coverages[name]\n",
    "    print('Loading coverage', coverage_path)\n",
    "    raw_coverage = np.load(coverage_path)\n",
    "    coverage = get_binned_coverage(raw_coverage, chrom_sizes, bin)\n",
    "    if ignore_zero:\n",
    "        coverage = coverage[coverage > 0]\n",
    "    print('Total coverage size', len(coverage))\n",
    "    print('Max coverage', max(coverage))\n",
    "\n",
    "    print('Computing correlations')\n",
    "    correlations = []\n",
    "    for d in range(min_dist, max_dist):\n",
    "        corr, pval = pearsonr(coverage, np.roll(coverage, d))\n",
    "        correlations.append(corr)\n",
    "\n",
    "    plt.plot(range(min_dist, max_dist), correlations)\n",
    "    if ylim is not None:\n",
    "        plt.ylim(ylim)\n",
    "    if xticks is not None:\n",
    "        plt.xticks(xticks)\n",
    "    plt.xlabel(\"Distance\")\n",
    "    plt.ylabel(\"Correlation\")\n",
    "    plt.title(name)\n",
    "    plt.show()\n",
    "\n",
    "# autocorr_full('GSM646320_GM12878_H3K36me3_rep1')"
   ],
   "metadata": {
    "collapsed": false,
    "pycharm": {
     "name": "#%%\n"
    }
   }
  },
  {
   "cell_type": "code",
   "execution_count": null,
   "outputs": [],
   "source": [
    "for n in NAMES:\n",
    "    autocorr_full(n, ylim=(0, 1), max_dist=100)\n",
    "    autocorr_full(n, ylim=(0, 1), max_dist=20, xticks=range(0, 20))"
   ],
   "metadata": {
    "collapsed": false,
    "pycharm": {
     "name": "#%%\n"
    }
   }
  },
  {
   "cell_type": "markdown",
   "source": [
    "## Autocorrelation between peaks state"
   ],
   "metadata": {
    "collapsed": false,
    "pycharm": {
     "name": "#%% md\n"
    }
   }
  },
  {
   "cell_type": "code",
   "execution_count": null,
   "outputs": [],
   "source": [
    "import itertools\n",
    "\n",
    "def autocorr_peaks(\n",
    "        name,\n",
    "        bin=200,\n",
    "        min_dist=0,\n",
    "        max_dist=20,\n",
    "        ignore_zero=True,\n",
    "        xticks=None,\n",
    "        ylim=None,\n",
    "):\n",
    "    model_path = models[name]\n",
    "    print('Loading model', model_path)\n",
    "    with tempfile.TemporaryDirectory() as tmp:\n",
    "        ! tar -xf {model_path} --directory {tmp}\n",
    "        with open(os.path.join(tmp, 'information.json')) as fi:\n",
    "            chrom_sizes = json.load(fi)['chromosomes_sizes']\n",
    "            # print(chrom_sizes)\n",
    "        states = np.load(os.path.join(tmp, 'states.npz'))['state']\n",
    "\n",
    "    coverage_path = coverages[name]\n",
    "    print('Loading coverage', coverage_path)\n",
    "    offset = 0\n",
    "    chr_peaks = {}\n",
    "    print('States len', len(states))\n",
    "    # print('Per chr bins', sum(int(ceil(chr_size / bin)) for chr_size in chrom_sizes.values()))\n",
    "    for chr, chr_size in chrom_sizes.items():\n",
    "        chr_peaks[chr] = []\n",
    "        bins = int(ceil(chr_size / bin))\n",
    "        peak_start = None\n",
    "        # print('Chromosome', chr, 'Offset', offset)\n",
    "        for i in range(bins):\n",
    "            if states[offset + i] == b'H':\n",
    "                if peak_start is None:\n",
    "                    peak_start = i\n",
    "            else:\n",
    "                if peak_start is not None:\n",
    "                    chr_peaks[chr].append((offset + peak_start, offset + i))\n",
    "                    peak_start = None\n",
    "        if peak_start is not None:\n",
    "            chr_peaks[chr].append((offset + peak_start, offset + bins))\n",
    "        offset += bins\n",
    "\n",
    "    h_peaks = len(list(itertools.chain(*chr_peaks.values())))\n",
    "    print('Total model H states', h_peaks)\n",
    "    h_len = sum(e - s for (s, e) in list(itertools.chain(*chr_peaks.values())))\n",
    "    print('Total model H states length', h_len)\n",
    "\n",
    "    coverage_path = coverages[name]\n",
    "    print('Loading coverage', coverage_path)\n",
    "    raw_coverage = np.load(coverage_path)\n",
    "    coverage = get_binned_coverage(raw_coverage, chrom_sizes, bin)\n",
    "\n",
    "    print('Computing correlations')\n",
    "    correlations = []\n",
    "    for d in range(min_dist, max_dist):\n",
    "        c1 = np.zeros(max_dist * (h_peaks + 1) + h_len)\n",
    "        c2 = np.zeros(len(c1))\n",
    "        for i, (s, e) in enumerate(itertools.chain(*chr_peaks.values())):\n",
    "            for x in range(e - s - d):\n",
    "                c1[(i + 1) * max_dist + x] = coverage[s + x]\n",
    "                c2[(i + 1) * max_dist + x] = coverage[s + x + d]\n",
    "        corr, pval = pearsonr(c1, c2)\n",
    "        correlations.append(corr)\n",
    "\n",
    "    plt.plot(range(min_dist, max_dist), correlations)\n",
    "    if ylim is not None:\n",
    "        plt.ylim(ylim)\n",
    "    if xticks is not None:\n",
    "        plt.xticks(xticks)\n",
    "    plt.xlabel(\"Distance\")\n",
    "    plt.ylabel(\"Correlation\")\n",
    "    plt.title(name)\n",
    "    plt.show()\n",
    "\n",
    "\n",
    "# autocorr_peaks('GSM646320_GM12878_H3K36me3_rep1')"
   ],
   "metadata": {
    "collapsed": false,
    "pycharm": {
     "name": "#%%\n"
    }
   }
  },
  {
   "cell_type": "code",
   "execution_count": null,
   "outputs": [],
   "source": [
    "for n in NAMES:\n",
    "    autocorr_peaks(n, ylim=(0, 1), max_dist=100)\n",
    "    autocorr_peaks(n, ylim=(0, 1), max_dist=20, xticks=range(0, 20))"
   ],
   "metadata": {
    "collapsed": false,
    "pycharm": {
     "name": "#%%\n"
    }
   }
  },
  {
   "cell_type": "code",
   "execution_count": null,
   "outputs": [],
   "source": [
    "# Test how additional 0 in vector affects correlation\n",
    "a = [1, 2, 3]\n",
    "b = [-2, 3, -4]\n",
    "print(pearsonr(a, b)[0])\n",
    "print(pearsonr(a + [0] * 100, b + [0] * 100)[0])"
   ],
   "metadata": {
    "collapsed": false,
    "pycharm": {
     "name": "#%%\n"
    }
   }
  },
  {
   "cell_type": "code",
   "execution_count": null,
   "outputs": [],
   "source": [],
   "metadata": {
    "collapsed": false,
    "pycharm": {
     "name": "#%%\n"
    }
   }
  }
 ],
 "metadata": {
  "kernelspec": {
   "display_name": "Python 3",
   "language": "python",
   "name": "python3"
  },
  "language_info": {
   "codemirror_mode": {
    "name": "ipython",
    "version": 3
   },
   "file_extension": ".py",
   "mimetype": "text/x-python",
   "name": "python",
   "nbconvert_exporter": "python",
   "pygments_lexer": "ipython3",
   "version": "3.5.6"
  },
  "toc": {
   "nav_menu": {},
   "number_sections": true,
   "sideBar": true,
   "skip_h1_title": false,
   "toc_cell": false,
   "toc_position": {},
   "toc_section_display": "block",
   "toc_window_display": false
  }
 },
 "nbformat": 4,
 "nbformat_minor": 2
}