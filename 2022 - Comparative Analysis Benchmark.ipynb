{
 "cells": [
  {
   "cell_type": "markdown",
   "metadata": {
    "heading_collapsed": true
   },
   "source": "# 2022 Comparative analysis benchmark\n"
  },
  {
   "cell_type": "code",
   "metadata": {
    "hidden": true
   },
   "source": [
    "%matplotlib inline\n",
    "%config InlineBackend.figure_format='retina'\n",
    "\n",
    "import pandas as pd\n",
    "import seaborn as sns\n",
    "from IPython.display import display\n",
    "\n",
    "sns.set_style(\"whitegrid\")\n",
    "import matplotlib.pyplot as plt\n",
    "import numpy as np\n",
    "import os, re\n",
    "import glob\n",
    "from tqdm.auto import tqdm\n",
    "import tempfile\n",
    "from itertools import product\n"
   ],
   "outputs": [],
   "execution_count": null
  },
  {
   "cell_type": "code",
   "metadata": {},
   "source": [
    "# MODIFICATIONS = [\n",
    "#     'H3K4me2', 'H3K4me3', 'H3K9ac' 'H3K27ac', # narrow\n",
    "#     'H3K4me1', 'H3K9me3', 'H3K27me3', 'H3K36me3', 'H3K79me2', # broad\n",
    "#     'H3K4ac', 'H3K56ac', 'H3K79me1' # mixed\n",
    "# ]\n",
    "\n",
    "# Core histone marks\n",
    "MODIFICATIONS = [\n",
    "    'H3K4me3', 'H3K4me1', 'H3K27me3', 'H3K36me3'\n",
    "]\n",
    "\n",
    "PATH = os.path.expanduser('~/data/2022_comparative_analysis')\n",
    "FIGURES_DIR = os.path.join(PATH, 'pics')\n",
    "EXT = 'pdf'\n",
    "! mkdir -p {FIGURES_DIR}"
   ],
   "outputs": [],
   "execution_count": null
  },
  {
   "cell_type": "code",
   "metadata": {},
   "source": [
    "def bedl(file):\n",
    "    try:\n",
    "        tf = pd.read_csv(file, sep='\\t', header=None)\n",
    "        return tf[2] - tf[1]\n",
    "    except:\n",
    "        return np.zeros(0)  # Empty file\n",
    "\n",
    "\n",
    "def lines(file):\n",
    "    try:\n",
    "        tf = pd.read_csv(file, sep='\\t', header=None)\n",
    "        return len(tf)\n",
    "    except:\n",
    "        return 0  # Empty file\n",
    "\n",
    "\n",
    "def d(a, b):\n",
    "    return a / b if b != 0 else 0\n",
    "\n",
    "\n",
    "def last_col(file):\n",
    "    try:\n",
    "        cols = len(pd.read_csv(file, sep='\\t', nrows=1, header=None).columns)\n",
    "        return pd.read_csv(file, sep='\\t', header=None, usecols=[cols - 1])[cols - 1]\n",
    "    except:\n",
    "        return np.zeros(0)  # Empty file\n",
    "\n",
    "\n",
    "def sorted_file(file):\n",
    "    ts = tempfile.mktemp()\n",
    "    !cat {file} | sort -k1,1 -k2,2n > {ts}\n",
    "    return ts"
   ],
   "outputs": [],
   "execution_count": null
  },
  {
   "cell_type": "markdown",
   "metadata": {},
   "source": [
    "## MACS2"
   ]
  },
  {
   "cell_type": "code",
   "metadata": {
    "scrolled": true
   },
   "source": [
    "MACS2_FOLDER = f'{PATH}/macs2'\n",
    "MACS2_LEVELS = ['q0.05', 'broad0.1']\n",
    "\n",
    "dfm = pd.DataFrame(columns=['modification', 'replicate', 'level', 'file', 'peaks'], dtype=object)\n",
    "for file in tqdm(glob.glob(MACS2_FOLDER + '/*.*Peak')):\n",
    "    if 'gapped' in file:\n",
    "        continue\n",
    "    level = next((l for l in MACS2_LEVELS if f'_{l}' in file), None)\n",
    "    modification = next((m for m in MODIFICATIONS if f'_{m}' in file), None)\n",
    "    if level and modification:\n",
    "        replicate = os.path.basename(file).replace(f'H1_{modification}_', '')[:3]\n",
    "        peaks = lines(file)\n",
    "        dfm.loc[len(dfm)] = (modification, replicate, f'macs2 {level}', file, peaks)"
   ],
   "outputs": [],
   "execution_count": null
  },
  {
   "cell_type": "code",
   "metadata": {
    "scrolled": false
   },
   "source": [
    "t = (dfm.groupby(['modification'])['file'].count() / len(MACS2_LEVELS)).astype(int)\n",
    "plt.figure(figsize=(2, 3))\n",
    "sns.barplot(data=pd.DataFrame(dict(modification=t.index, replicates=t)), x='modification', y='replicates',\n",
    "            order=MODIFICATIONS)\n",
    "plt.xticks(rotation=90)\n",
    "plt.title('Replicates')\n",
    "plt.tight_layout()\n",
    "plt.savefig(os.path.join(FIGURES_DIR, f'replicates_macs2.{EXT}'), bbox_inches='tight', dpi=300)\n",
    "plt.show()"
   ],
   "outputs": [],
   "execution_count": null
  },
  {
   "cell_type": "code",
   "metadata": {},
   "source": [
    "macs2levels2process = {'macs2 q0.05', 'macs2 broad0.1'}"
   ],
   "outputs": [],
   "execution_count": null
  },
  {
   "cell_type": "markdown",
   "metadata": {},
   "source": [
    "## SICER"
   ]
  },
  {
   "cell_type": "code",
   "metadata": {},
   "source": [
    "SICER_FOLDER = f'{PATH}/sicer'\n",
    "SICER_LEVELS = ['FDR0.01']\n",
    "\n",
    "dfsc = pd.DataFrame(columns=['modification', 'replicate', 'level', 'file', 'peaks'], dtype=object)\n",
    "for file in tqdm(glob.glob(SICER_FOLDER + '/*islands-summary*')):\n",
    "    level = next((l for l in SICER_LEVELS if f'-{l}' in file), None)\n",
    "    modification = next((m for m in MODIFICATIONS if f'_{m}' in file), None)\n",
    "    if level and modification:\n",
    "        replicate = os.path.basename(file).replace(f'H1_{modification}_', '')[:3]\n",
    "        peaks = lines(file)\n",
    "        dfsc.loc[len(dfsc)] = (modification, replicate, f'sicer {level}', file, peaks)"
   ],
   "outputs": [],
   "execution_count": null
  },
  {
   "cell_type": "code",
   "metadata": {},
   "source": [
    "sicerlevels2process = {'sicer FDR0.01'}"
   ],
   "outputs": [],
   "execution_count": null
  },
  {
   "cell_type": "markdown",
   "metadata": {},
   "source": [
    "## SPAN"
   ]
  },
  {
   "cell_type": "code",
   "metadata": {},
   "source": [
    "SPAN_FOLDER = f'{PATH}/span'\n",
    "FDRS = ['0.05']\n",
    "\n",
    "dfs = pd.DataFrame(columns=['modification', 'replicate', 'level', 'fdr', 'file', 'peaks'], dtype=object)\n",
    "for file in tqdm(glob.glob(SPAN_FOLDER + '/*.peak')):\n",
    "    if 'Input' in file:\n",
    "        continue\n",
    "\n",
    "    modification = next((m for m in MODIFICATIONS if f'_{m}' in file), None)\n",
    "    fdr = next((f for f in FDRS if f'_{f}' in file), None)\n",
    "    if modification and fdr is not None:\n",
    "        level = f'span 100_{fdr}'\n",
    "        replicate = os.path.basename(file).replace(f'H1_{modification}_', '')[:3]\n",
    "        peaks = lines(file)\n",
    "        dfs.loc[len(dfs)] = (modification, replicate, level, fdr, file, peaks)"
   ],
   "outputs": [],
   "execution_count": null
  },
  {
   "cell_type": "code",
   "metadata": {},
   "source": "spanlevels2process = {'span 100_0.05'}",
   "outputs": [],
   "execution_count": null
  },
  {
   "cell_type": "markdown",
   "metadata": {},
   "source": [
    "## Summary"
   ]
  },
  {
   "cell_type": "code",
   "metadata": {},
   "source": [
    "dfa = pd.concat([\n",
    "    dfm.loc[[l in macs2levels2process for l in dfm['level']]],\n",
    "    dfs.loc[[l in spanlevels2process for l in dfs['level']]],\n",
    "    dfsc.loc[[l in sicerlevels2process for l in dfsc['level']]],\n",
    "    dfs.loc[[l in spanlevels2process for l in dfs['level']]]\n",
    "]).reset_index(drop=True)\n",
    "display(dfa['level'].unique())\n",
    "\n",
    "dfa['name'] = ''\n",
    "dfa.loc[dfa['level'] == 'macs2 q0.05', 'name'] = 'MACS2'\n",
    "dfa.loc[dfa['level'] == 'macs2 broad0.1', 'name'] = 'MACS2 broad'\n",
    "dfa.loc[dfa['level'] == 'sicer FDR0.01', 'name'] = 'SICER'\n",
    "dfa.loc[dfa['level'] == 'span 100_0.05', 'name'] = 'SPAN'\n",
    "dfa.sample(5)"
   ],
   "outputs": [],
   "execution_count": null
  },
  {
   "cell_type": "markdown",
   "metadata": {},
   "source": [
    "# Group analysis"
   ]
  },
  {
   "cell_type": "code",
   "metadata": {},
   "source": [
    "def plot_data_cells(\n",
    "        df, cid, value, description, bar=True, swarm=True, order=None, lower=None, upper=None, figx=None, figy=None\n",
    "):\n",
    "    cids = list(set(df[cid]))\n",
    "    axs = {}\n",
    "    total = len(cids) * len(MODIFICATIONS)\n",
    "    plt.figure(figsize=(figx or int(total / 3), figy or 4))\n",
    "    offset = 0\n",
    "    for m in MODIFICATIONS:\n",
    "        data = df.loc[df['modification'] == m].sort_values(by=[cid])\n",
    "        w = len(cids)\n",
    "        ax = plt.subplot2grid((1, total), (0, offset), colspan=w)\n",
    "\n",
    "        if bar:\n",
    "            sns.barplot(data=data,\n",
    "                        x=cid, y=value,\n",
    "                        capsize=.2,\n",
    "                        err_kws={'linewidth': 2},\n",
    "                        ax=ax,\n",
    "                        order=order)\n",
    "        else:\n",
    "            sns.boxplot(data=data, x=cid, y=value, showfliers=False, ax=ax,\n",
    "                        order=order)\n",
    "        if swarm:\n",
    "            sns.stripplot(data=data,\n",
    "                          x=cid, y=value,\n",
    "                          size=4,\n",
    "                          color=\"black\",\n",
    "                          alpha=0.8,\n",
    "                          ax=ax,\n",
    "                          order=order)\n",
    "\n",
    "            # ax.legend().remove()\n",
    "        axs[ax] = plt.ylim()\n",
    "        if offset > 0:\n",
    "            ax.get_yaxis().set_ticklabels([])\n",
    "            ax.set_ylabel('')\n",
    "        else:\n",
    "            ax.set_ylabel(description)\n",
    "\n",
    "        offset += w\n",
    "        ax.set_xlabel('')\n",
    "        ax.set_title(m)\n",
    "        ax.xaxis.set_tick_params(rotation=90)\n",
    "\n",
    "    ymin = np.min([v[0] for v in axs.values()])\n",
    "    if lower is not None:\n",
    "        ymin = max(ymin, lower)\n",
    "    ymax = np.max([v[1] for v in axs.values()])\n",
    "    if upper is not None:\n",
    "        ymax = min(ymax, upper)\n",
    "\n",
    "    for ax in axs.keys():\n",
    "        ax.set_ylim(bottom=ymin, top=ymax)\n",
    "    plt.tight_layout()\n",
    "    plt.savefig(os.path.join(FIGURES_DIR, f'{value}.{EXT}'), bbox_inches='tight', dpi=300)\n",
    "    plt.show()\n"
   ],
   "outputs": [],
   "execution_count": null
  },
  {
   "cell_type": "code",
   "metadata": {},
   "source": [
    "plot_data_cells(dfa, 'name', 'peaks', 'Peaks', figx=10, figy=4,\n",
    "                order=['MACS2', 'MACS2 broad', 'SPAN', 'SICER'])"
   ],
   "outputs": [],
   "execution_count": null
  },
  {
   "cell_type": "code",
   "source": [
    "dfa[(dfa['modification'] == 'H3K4me1') & (dfa['peaks'] < 10000)]\n",
    "\n",
    "# Filter out bad quality and super high quality data\n",
    "dfa = dfa[~((dfa['modification'] == 'H3K4me1') & ((dfa['replicate'] == '1_1') |\n",
    "                                                  (dfa['replicate'] == '1_2')))]\n",
    "dfa = dfa[~((dfa['modification'] == 'H3K27me3') & (dfa['replicate'] == '1_1'))]\n",
    "dfa = dfa[~((dfa['modification'] == 'H3K36me3') & ((dfa['replicate'] == '1_1') |\n",
    "                                                   (dfa['replicate'] == '2_1')))]\n",
    "\n",
    "dfa"
   ],
   "metadata": {
    "collapsed": false
   },
   "outputs": [],
   "execution_count": null
  },
  {
   "cell_type": "code",
   "source": [
    "plot_data_cells(dfa, 'name', 'peaks', 'Peaks', figx=10, figy=4,\n",
    "                order=['MACS2', 'MACS2 broad', 'SPAN', 'SICER'])"
   ],
   "metadata": {
    "collapsed": false
   },
   "outputs": [],
   "execution_count": null
  },
  {
   "cell_type": "code",
   "source": [
    "ts = []\n",
    "for modification, name, file in tqdm(zip(dfa['modification'], dfa['name'], dfa['file'])):\n",
    "    lengths = bedl(file)\n",
    "    t = pd.DataFrame(dict(length=lengths))\n",
    "    t['modification'] = modification\n",
    "    t['name'] = name\n",
    "    ts.append(t.sample(min(len(t), 20_000)))\n",
    "t = pd.concat(ts).reset_index(drop=True)\n",
    "del ts\n",
    "t.sample(10)"
   ],
   "metadata": {
    "collapsed": false
   },
   "outputs": [],
   "execution_count": null
  },
  {
   "cell_type": "code",
   "source": [
    "plot_data_cells(t, 'name', 'length', 'Average peak length', bar=False, swarm=False,\n",
    "                lower=-100, figx=10, figy=4,\n",
    "                order=['MACS2', 'MACS2 broad', 'SPAN', 'SICER'])"
   ],
   "metadata": {
    "collapsed": false
   },
   "outputs": [],
   "execution_count": null
  },
  {
   "cell_type": "markdown",
   "source": [
    "# Difference between tools"
   ],
   "metadata": {
    "collapsed": false
   }
  },
  {
   "cell_type": "code",
   "source": [
    "diff_df = pd.DataFrame(\n",
    "    columns=['modification', 'replicate', 'name', 'peaks'],\n",
    "    dtype=object\n",
    ")\n",
    "\n",
    "tf = tempfile.mktemp()\n",
    "tf2 = tempfile.mktemp()\n",
    "\n",
    "tools = list(sorted(set(dfa['name'])))\n",
    "for m in tqdm(MODIFICATIONS):\n",
    "    print(m)\n",
    "    tm = dfa.loc[dfa['modification'] == m]\n",
    "    reps = list(sorted(set(tm['replicate'])))\n",
    "    for rep in reps:\n",
    "        for i in range(len(tools)):\n",
    "            for j in range(len(tools)):\n",
    "                if i == j:\n",
    "                    continue\n",
    "                tool1, tool2 = tools[i], tools[j]\n",
    "                if tool1 != 'SPAN' and tool2 != 'SPAN':\n",
    "                    continue\n",
    "                t1 = tm.loc[(tm['name'] == tool1) & (tm['replicate'] == rep)]\n",
    "                t2 = tm.loc[(tm['name'] == tool2) & (tm['replicate'] == rep)]\n",
    "                if len(t1) == 0 or len(t2) == 0:\n",
    "                    continue\n",
    "                name = f'{tool1} - {tool2}'\n",
    "                file1 = sorted_file(t1['file'].values[0])\n",
    "                file2 = sorted_file(t2['file'].values[0])\n",
    "                tf = tempfile.mktemp()\n",
    "                ! bedtools intersect -a {file1} -b {file2} -wa -v > {tf}\n",
    "                peaks = lines(tf)\n",
    "                diff_df.loc[len(diff_df)] = \\\n",
    "                    (m, rep, name, peaks)\n",
    "diff_df.sample(5)"
   ],
   "metadata": {
    "collapsed": false
   },
   "outputs": [],
   "execution_count": null
  },
  {
   "cell_type": "code",
   "source": [
    "diff_dfa = pd.concat([diff_df, dfa[['modification', 'replicate', 'name', 'peaks']]]).reset_index(drop=True)\n",
    "diff_dfa.sample(5)"
   ],
   "metadata": {
    "collapsed": false
   },
   "outputs": [],
   "execution_count": null
  },
  {
   "cell_type": "code",
   "source": [
    "plot_data_cells(diff_dfa, 'name', 'peaks', 'Peaks', swarm=True, figx=10, figy=4,\n",
    "                order=['MACS2', 'MACS2 broad', 'SPAN', 'SICER',\n",
    "                       'SPAN - MACS2', 'SPAN - MACS2 broad', 'SPAN - SICER',\n",
    "                       'MACS2 - SPAN', 'MACS2 broad - SPAN', 'SICER - SPAN',\n",
    "                       ])"
   ],
   "metadata": {
    "collapsed": false
   },
   "outputs": [],
   "execution_count": null
  },
  {
   "cell_type": "markdown",
   "metadata": {},
   "source": [
    "# Jaccard between replicates"
   ]
  },
  {
   "cell_type": "code",
   "source": [
    "\n",
    "import pyranges as pr\n",
    "\n",
    "def compute_reps_overlap(df_peaks, modifications):\n",
    "    reps_overlap = pd.DataFrame(columns=['modification', 'tool', 'rep1', 'rep2',\n",
    "                                         'peaks1', 'peaks1_len', 'peaks2', 'peaks2_len',\n",
    "                                         'peaks1_overlap', 'peaks2_overlap', 'peaks_overlap_len'], dtype=object)\n",
    "\n",
    "    tools = df_peaks['level'].unique()\n",
    "    for m in tqdm(modifications):\n",
    "        print(m)\n",
    "        tm = df_peaks[df_peaks['modification'] == m]\n",
    "        reps = list(sorted(set(tm['replicate'])))\n",
    "        for tool in tools:\n",
    "            files = [None] * len(reps)\n",
    "            peaks = [-1] * len(reps)\n",
    "            peaks_lens = [-1] * len(reps)\n",
    "            # print('Load')\n",
    "            for i in range(len(reps)):\n",
    "                t1 = tm[(tm['level'] == tool) & (tm['replicate'] == reps[i])]\n",
    "                if len(t1) == 0:\n",
    "                    continue\n",
    "                file = t1['file'].values[0]\n",
    "                peaks[i] = lines(file)\n",
    "                if peaks[i] == 0:\n",
    "                    peaks_lens[i] = 0\n",
    "                    continue\n",
    "                files[i] = pr.read_bed(sorted_file(file))\n",
    "                peaks_lens[i] = files[i].lengths().sum()\n",
    "            # print('Intersect')\n",
    "            for i, j in product(range(len(reps)), range(len(reps))):\n",
    "                if i >= j:\n",
    "                    continue\n",
    "                rep1, rep2 = reps[i], reps[j]\n",
    "                file1, file2 = files[i], files[j]\n",
    "                peaks1, peaks2 = peaks[i], peaks[j]\n",
    "                peaks1_len, peaks2_len = peaks_lens[i], peaks_lens[j]\n",
    "                if peaks1 <= 0 or peaks2 <= 0:\n",
    "                    reps_overlap.loc[len(reps_overlap)] = \\\n",
    "                        (m, tool, rep1, rep2, peaks1, peaks1_len, peaks2, peaks2_len,\n",
    "                         0, 0, 0)\n",
    "                    continue\n",
    "                overlap1 = len(file1.overlap(file2))\n",
    "                overlap2 = len(file2.overlap(file1))\n",
    "                overlap_len = file1.intersect(file2).lengths().sum()\n",
    "                # assert file2.intersect(file1).lengths().sum() == overlap_len\n",
    "                reps_overlap.loc[len(reps_overlap)] = \\\n",
    "                    (m, tool, rep1, rep2, peaks1, peaks1_len, peaks2, peaks2_len,\n",
    "                     overlap1, overlap2, overlap_len)\n",
    "\n",
    "    reps_overlap['jaccard'] = [\n",
    "        d(lo, l1 + l2 - lo)\n",
    "        for l1, l2, lo in zip(reps_overlap['peaks1_len'], reps_overlap['peaks2_len'], reps_overlap['peaks_overlap_len'])\n",
    "    ]\n",
    "    return reps_overlap"
   ],
   "metadata": {
    "collapsed": false
   },
   "outputs": [],
   "execution_count": null
  },
  {
   "cell_type": "code",
   "source": [
    "reps_overlap = compute_reps_overlap(dfa, MODIFICATIONS)\n",
    "reps_overlap.sample(5)"
   ],
   "metadata": {
    "collapsed": false
   },
   "outputs": [],
   "execution_count": null
  },
  {
   "cell_type": "code",
   "metadata": {},
   "source": [
    "# TODO use melt() here!\n",
    "ro = pd.DataFrame(columns=['Modification', 'Replicate', 'Tool', 'Overlap'], dtype=object)\n",
    "for _, row in reps_overlap.iterrows():\n",
    "    m = row['modification']\n",
    "    tool = row['tool']\n",
    "    rep1 = row['rep1']\n",
    "    rep2 = row['rep2']\n",
    "    peaks1 = row['peaks1']\n",
    "    peaks2 = row['peaks2']\n",
    "    overlap1 = row['peaks1_overlap']\n",
    "    overlap2 = row['peaks1_overlap']\n",
    "    ro.loc[len(ro)] = (m, f'{rep1} vs {rep2}', tool, d(overlap1, peaks1))\n",
    "    ro.loc[len(ro)] = (m, f'{rep2} vs {rep1}', tool, d(overlap2, peaks2))\n",
    "ro.sample(5)"
   ],
   "outputs": [],
   "execution_count": null
  },
  {
   "cell_type": "code",
   "source": [
    "plt.figure(figsize=(8, 3))\n",
    "ax = plt.axes()\n",
    "plt.title(f'Overlap between replicates')\n",
    "sns.boxplot(data=ro, x='Modification', y='Overlap', hue='Tool',\n",
    "            order=MODIFICATIONS,\n",
    "            # hue_order=['MACS2', 'MACS2 broad', 'SPAN', 'SICER'],\n",
    "            showfliers=False,\n",
    "            ax=ax)\n",
    "sns.stripplot(data=ro, x='Modification', y='Overlap', hue='Tool',\n",
    "              dodge=True, size=2, color=\"black\", alpha=0.8,\n",
    "              order=MODIFICATIONS,\n",
    "              # hue_order=['MACS2', 'MACS2 broad', 'SPAN', 'SICER'],\n",
    "              legend=False,\n",
    "              ax=ax)\n",
    "# Put a legend to the right of the current axis\n",
    "ax.legend(loc='center left', bbox_to_anchor=(1, 0.5))\n",
    "plt.tight_layout()\n",
    "plt.savefig(os.path.join(FIGURES_DIR, f'overlap.{EXT}'), bbox_inches='tight', dpi=300)\n",
    "plt.show()"
   ],
   "metadata": {
    "collapsed": false
   },
   "outputs": [],
   "execution_count": null
  },
  {
   "cell_type": "code",
   "source": [
    "plt.figure(figsize=(4, 4))\n",
    "ax = plt.axes()\n",
    "plt.title(f'Average overlap between replicates')\n",
    "sns.boxplot(data=ro, x='Tool', y='Overlap', showfliers=False,\n",
    "            # order=['MACS2', 'MACS2 broad', 'SPAN', 'SICER'],\n",
    "            ax=ax)\n",
    "sns.stripplot(data=ro, x='Tool', y='Overlap',\n",
    "              dodge=True, size=2, color=\"black\", alpha=0.5,\n",
    "              # order=['MACS2', 'MACS2 broad', 'SPAN', 'SICER'],\n",
    "              ax=ax)\n",
    "ax.xaxis.set_tick_params(rotation=90)\n",
    "# Put a legend to the right of the current axis\n",
    "# g_results.axes.legend(loc='center left', bbox_to_anchor=(1, 0.5))\n",
    "plt.tight_layout()\n",
    "plt.savefig(os.path.join(FIGURES_DIR, f'overlap.{EXT}'), bbox_inches='tight', dpi=300)\n",
    "plt.show()"
   ],
   "metadata": {
    "collapsed": false
   },
   "outputs": [],
   "execution_count": null
  },
  {
   "cell_type": "code",
   "metadata": {},
   "source": [
    "rj = pd.DataFrame(columns=['Modification', 'Replicate', 'Tool', 'Jaccard'], dtype=object)\n",
    "for _, row in reps_overlap.iterrows():\n",
    "    m = row['modification']\n",
    "    tool = row['tool']\n",
    "    rep1 = row['rep1']\n",
    "    rep2 = row['rep2']\n",
    "    length1 = row['peaks1_len']\n",
    "    length2 = row['peaks2_len']\n",
    "    intersection = row['peaks_overlap_len']\n",
    "    jaccard = d(intersection, length1 + length2 - intersection)\n",
    "    rj.loc[len(rj)] = (m, f'{rep1} vs {rep2}', tool, jaccard)\n",
    "rj.sample(5)"
   ],
   "outputs": [],
   "execution_count": null
  },
  {
   "cell_type": "code",
   "source": [
    "plt.figure(figsize=(8, 3))\n",
    "ax = plt.axes()\n",
    "# plt.figure(figsize=(6, 4))\n",
    "plt.title('Jaccard between replicates')\n",
    "sns.barplot(data=rj, x='Modification', y='Jaccard', hue='Tool',\n",
    "            order=MODIFICATIONS,\n",
    "            # hue_order=['MACS2', 'MACS2 broad', 'SPAN', 'SICER'],\n",
    "            # showfliers=False,\n",
    "            capsize=.05, edgecolor=\"black\",\n",
    "            err_kws={'linewidth': 2},\n",
    "            ax=ax)\n",
    "sns.stripplot(data=rj, x='Modification', y='Jaccard', hue='Tool',\n",
    "              dodge=True, size=2, color=\"black\", alpha=0.5,\n",
    "              order=MODIFICATIONS,\n",
    "              legend=False,\n",
    "              ax=ax)\n",
    "# sns.boxplot(data=rj, x='Modification', y='Jaccard', hue='Tool')\n",
    "# Put a legend to the right of the current axis\n",
    "ax.legend(loc='center left', bbox_to_anchor=(1, 0.5))\n",
    "# ax.xaxis.set_tick_params(rotation=45)\n",
    "plt.tight_layout()\n",
    "plt.savefig(os.path.join(FIGURES_DIR, f'jaccard.{EXT}'), bbox_inches='tight', dpi=300)\n",
    "plt.show()"
   ],
   "metadata": {
    "collapsed": false
   },
   "outputs": [],
   "execution_count": null
  },
  {
   "cell_type": "code",
   "source": [
    "rows = []\n",
    "for _, (modification, tool, p1, p2, l1, l2, ol) in reps_overlap[\n",
    "    ['modification', 'tool', 'peaks1', 'peaks2', 'peaks1_len', 'peaks2_len', 'peaks_overlap_len']].iterrows():\n",
    "    jaccard = d(ol, l1 + l2 - ol)\n",
    "    rows.append((modification, tool, jaccard, d(l1, p1)))\n",
    "    rows.append((modification, tool, jaccard, d(l2, p2)))\n",
    "df_jaccard_avg_len = pd.DataFrame(rows, columns=['modification', 'tool', 'jaccard', 'average_len'])\n",
    "del rows"
   ],
   "metadata": {
    "collapsed": false
   },
   "outputs": [],
   "execution_count": null
  },
  {
   "cell_type": "code",
   "source": [
    "plt.figure(figsize=(12, 3))\n",
    "axs = [plt.subplot(1, 4, i + 1) for i in range(4)]\n",
    "for i, m in enumerate(MODIFICATIONS):\n",
    "    ax = axs[i]\n",
    "    sns.kdeplot(\n",
    "        df_jaccard_avg_len[df_jaccard_avg_len['modification'] == m],\n",
    "        # hue_order=['MACS2', 'MACS2 broad', 'SPAN', 'SICER'],\n",
    "        x='jaccard', y='average_len', hue='tool', alpha=0.3,\n",
    "        common_norm=False, common_grid=False,\n",
    "        thresh=.01,\n",
    "        fill=True,\n",
    "        ax = ax,\n",
    "    )\n",
    "    sns.scatterplot(\n",
    "        df_jaccard_avg_len[df_jaccard_avg_len['modification'] == m],\n",
    "        # palette=TOOLS_PALETTE,\n",
    "        # hue_order=['MACS2', 'MACS2 broad', 'SPAN', 'SICER'],\n",
    "        x='jaccard', y='average_len', hue='tool', alpha=0.8,\n",
    "        ax=ax,\n",
    "    )\n",
    "    ax.set_title(m)\n",
    "    ax.set_xlim(-0.1, 1.1)\n",
    "    ax.set_title(m)\n",
    "    if i > 0:\n",
    "        ax.set_ylabel(None)\n",
    "    else:\n",
    "        ax.set_ylabel('average length')\n",
    "    if i < len(axs) - 1:\n",
    "        ax.legend().set_visible(False)\n",
    "    else:\n",
    "        #     Put a legend to the right of the current axis\n",
    "        ax.legend(loc='center left', bbox_to_anchor=(1, 0.5))\n",
    "plt.tight_layout()\n",
    "plt.show()"
   ],
   "metadata": {
    "collapsed": false
   },
   "outputs": [],
   "execution_count": null
  },
  {
   "cell_type": "code",
   "source": [
    "plt.figure(figsize=(4, 4))\n",
    "ax = plt.axes()\n",
    "plt.title(f'Average jaccard between replicates')\n",
    "sns.boxplot(data=rj, x='Tool', y='Jaccard', showfliers=False,\n",
    "            # order=['MACS2', 'MACS2 broad', 'SPAN', 'SICER'],\n",
    "            ax=ax)\n",
    "sns.stripplot(data=rj, x='Tool', y='Jaccard',\n",
    "              dodge=True, size=2, color=\"black\", alpha=0.5,\n",
    "              # order=['MACS2', 'MACS2 broad', 'SPAN', 'SICER'],\n",
    "              ax=ax)\n",
    "ax.xaxis.set_tick_params(rotation=90)\n",
    "plt.tight_layout()\n",
    "plt.savefig(os.path.join(FIGURES_DIR, f'overlap.{EXT}'), bbox_inches='tight', dpi=300)\n",
    "plt.show()"
   ],
   "metadata": {
    "collapsed": false
   },
   "outputs": [],
   "execution_count": null
  },
  {
   "cell_type": "code",
   "source": [
    "STOP"
   ],
   "metadata": {
    "collapsed": false
   },
   "outputs": [],
   "execution_count": null
  },
  {
   "cell_type": "markdown",
   "source": [
    "# IDR between replicates"
   ],
   "metadata": {
    "collapsed": false
   }
  },
  {
   "cell_type": "code",
   "source": [
    "def compute_reps_idr(df_peaks, modifications, rank):\n",
    "    reps_idr = pd.DataFrame(columns=['modification', 'tool', 'rep1', 'rep2', 'peaks1', 'peaks2',\n",
    "                                     'idr_loaded_peaks1', 'idr_loaded_peaks2', 'idr_peaks', 'idr_loaded_peaks',\n",
    "                                     'idr_percentage'\n",
    "                                     ], dtype=object)\n",
    "\n",
    "    tf = tempfile.mktemp()\n",
    "    tf1 = tempfile.mktemp()\n",
    "    tf2 = tempfile.mktemp()\n",
    "\n",
    "    tools = df_peaks['name'].unique()\n",
    "    for m in tqdm(modifications):\n",
    "        print(m)\n",
    "        tm = df_peaks[(df_peaks['modification'] == m)]\n",
    "        reps = list(sorted(set(tm['replicate'])))\n",
    "        for tool in tools:\n",
    "            for i in range(len(reps)):\n",
    "                for j in range(i + 1, len(reps)):\n",
    "                    rep1, rep2 = reps[i], reps[j]\n",
    "                    t1 = tm[(tm['name'] == tool) & (tm['replicate'] == rep1)]\n",
    "                    t2 = tm[(tm['name'] == tool) & (tm['replicate'] == rep2)]\n",
    "                    if len(t1) == 0 or len(t2) == 0:\n",
    "                        continue\n",
    "                    try:\n",
    "                        file1 = t1['file'].values[0]\n",
    "                        file2 = t2['file'].values[0]\n",
    "                        print(tool, file1, file2)\n",
    "                        peaks1 = t1['peaks'].values[0]\n",
    "                        peaks2 = t2['peaks'].values[0]\n",
    "                        # Process SICER peaks, add missing 8th column, as -log10 qvalue\n",
    "                        if tool == 'SICER':\n",
    "                            sf1 = pd.read_csv(file1, sep='\\t', header=None)\n",
    "                            sf1[8] = -np.log10(sf1[7])\n",
    "                            sf1.to_csv(tf1, sep='\\t', index=None, header=False)\n",
    "                            file1 = tf1\n",
    "                            sf2 = pd.read_csv(file2, sep='\\t', header=None)\n",
    "                            sf2[8] = -np.log10(sf2[7])\n",
    "                            sf2.to_csv(tf2, sep='\\t', index=None, header=False)\n",
    "                            file2 = tf2\n",
    "                        ! idr --input-file-type bed --rank {rank} --samples {file1} {file2} 2>&1 | tee {tf}\n",
    "                        with open(tf) as f:\n",
    "                            idr_out = f.read()\n",
    "                        # print('IDR OUT', tf, idr_out)\n",
    "                        lp1, lp2 = re.findall('Number of reported peaks - (\\\\d+)/(\\\\d+)', idr_out)[0]\n",
    "                        lp1, lp2 = int(lp1), int(lp2)\n",
    "                        ip, ilp, iperc = \\\n",
    "                            re.findall('Number of peaks passing IDR cutoff of 0.05 - (\\\\d+)/(\\\\d+) \\\\(([\\\\d\\\\.]+)',\n",
    "                                       idr_out)[0]\n",
    "                        ip, ilp, iperc = int(ip), int(ilp), float(iperc)\n",
    "                        print(m, tool, rep1, rep2, peaks1, peaks2, lp1, lp2, ip, ilp, iperc)\n",
    "                        reps_idr.loc[len(reps_idr)] = \\\n",
    "                            (m, tool, rep1, rep2, peaks1, peaks2, lp1, lp2, ip, ilp, iperc)\n",
    "                    except Exception as e:\n",
    "                        # raise e\n",
    "                        # print(e)\n",
    "                        pass  # Ignore errors for now\n",
    "    return reps_idr"
   ],
   "metadata": {
    "collapsed": false
   },
   "outputs": [],
   "execution_count": null
  },
  {
   "cell_type": "code",
   "source": [
    "reps_idr = compute_reps_idr(dfa, MODIFICATIONS, 8)\n",
    "reps_idr.sample(5)"
   ],
   "metadata": {
    "collapsed": false
   },
   "outputs": [],
   "execution_count": null
  },
  {
   "cell_type": "code",
   "source": [
    "plt.figure(figsize=(8, 3))\n",
    "g_result = sns.boxplot(data=reps_idr, x='modification', hue='tool', y='idr_percentage',\n",
    "                       hue_order=['MACS2', 'MACS2 broad', 'SPAN', 'SICER'],\n",
    "                       )\n",
    "ax = g_result.axes\n",
    "ax.set_title('IDR between replicates')\n",
    "ax.set_ylabel('IDR %')\n",
    "ax.set_xlabel('Modification')\n",
    "sns.move_legend(ax, loc='center left', bbox_to_anchor=(1, 0.5))\n",
    "plt.tight_layout()\n",
    "plt.show()"
   ],
   "metadata": {
    "collapsed": false
   },
   "outputs": [],
   "execution_count": null
  },
  {
   "cell_type": "code",
   "source": [
    "plt.figure(figsize=(8, 3))\n",
    "g_result = sns.boxplot(data=reps_idr, x='modification', hue='tool', y='idr_peaks',\n",
    "                       hue_order=['MACS2', 'MACS2 broad', 'SPAN', 'SICER'],\n",
    "                       showfliers=False\n",
    "                       )\n",
    "ax = g_result.axes\n",
    "ax.set_title('IDR between replicates')\n",
    "ax.set_ylabel('IDR peaks')\n",
    "ax.set_xlabel('Modification')\n",
    "sns.move_legend(ax, loc='center left', bbox_to_anchor=(1, 0.5))\n",
    "plt.tight_layout()\n",
    "plt.show()"
   ],
   "metadata": {
    "collapsed": false
   },
   "outputs": [],
   "execution_count": null
  },
  {
   "cell_type": "code",
   "source": [
    "plt.figure(figsize=(8, 3))\n",
    "g_result = sns.boxplot(data=reps_idr, x='modification', hue='tool', y='idr_loaded_peaks',\n",
    "                       hue_order=['MACS2', 'MACS2 broad', 'SPAN', 'SICER'],\n",
    "                       )\n",
    "ax = g_result.axes\n",
    "ax.set_title('IDR between replicates')\n",
    "ax.set_ylabel('IDR loaded peaks')\n",
    "ax.set_xlabel('Modification')\n",
    "sns.move_legend(ax, loc='center left', bbox_to_anchor=(1, 0.5))\n",
    "plt.tight_layout()\n",
    "plt.show()"
   ],
   "metadata": {
    "collapsed": false
   },
   "outputs": [],
   "execution_count": null
  },
  {
   "cell_type": "code",
   "source": [
    "plt.figure(figsize=(8, 2))\n",
    "axs = [plt.subplot(1, 4, i + 1) for i in range(4)]\n",
    "for i, m in enumerate(MODIFICATIONS):\n",
    "    ax = axs[i]\n",
    "    t = reps_idr[reps_idr['modification'] == m]\n",
    "    g_results = sns.scatterplot(data=t,\n",
    "                                x='idr_peaks', y='idr_percentage',\n",
    "                                hue='tool',\n",
    "                                alpha=0.8,\n",
    "                                ax=ax,\n",
    "                                )\n",
    "    ax.title.set_text(m)\n",
    "    if i != 0:\n",
    "        ax.set_ylabel(None)\n",
    "    if i != 3:\n",
    "        ax.legend().set_visible(False)\n",
    "    else:\n",
    "        # Put a legend to the right of the current axis\n",
    "        g_results.axes.legend(loc='center left', bbox_to_anchor=(1, 0.5))\n",
    "\n",
    "plt.tight_layout()\n",
    "plt.show()"
   ],
   "metadata": {
    "collapsed": false
   },
   "outputs": [],
   "execution_count": null
  },
  {
   "cell_type": "markdown",
   "metadata": {},
   "source": [
    "# Consistency analysis between different tools"
   ]
  },
  {
   "cell_type": "code",
   "metadata": {},
   "source": [
    "import tempfile\n",
    "\n",
    "tools_overlap = pd.DataFrame(columns=['modification', 'rep', 'tool1', 'tool2',\n",
    "                                      'peaks1', 'peaks2', 'length1', 'length2',\n",
    "                                      'overlap1', 'overlap2', 'intersect'], dtype=object)\n",
    "\n",
    "tools = list(sorted(set(dfa['name'])))\n",
    "for m in tqdm(MODIFICATIONS):\n",
    "    print(m)\n",
    "    tm = dfa.loc[dfa['modification'] == m]\n",
    "    reps = list(sorted(set(tm['replicate'])))\n",
    "    for rep in reps:\n",
    "        for i in range(len(tools)):\n",
    "            for j in range(i + 1, len(tools)):\n",
    "                tool1, tool2 = tools[i], tools[j]\n",
    "                t1 = tm.loc[(tm['name'] == tool1) & (tm['replicate'] == rep)]\n",
    "                t2 = tm.loc[(tm['name'] == tool2) & (tm['replicate'] == rep)]\n",
    "                if len(t1) == 0 or len(t2) == 0:\n",
    "                    continue\n",
    "                m = t1['modification'].values[0]\n",
    "                file1 = sorted_file(t1['file'].values[0])\n",
    "                peaks1 = t1['peaks'].values[0]\n",
    "                length1 = bedl(file1).sum()\n",
    "                file2 = sorted_file(t2['file'].values[0])\n",
    "                peaks2 = t2['peaks'].values[0]\n",
    "                length2 = bedl(file2).sum()\n",
    "                tf = tempfile.mktemp()\n",
    "                ! bedtools intersect -a {file1} -b {file2} -wa -u > {tf}\n",
    "                overlap1 = lines(tf)\n",
    "                ! bedtools intersect -b {file1} -a {file2} -wa -u > {tf}\n",
    "                overlap2 = lines(tf)\n",
    "                ! bedtools intersect -a {file1} -b {file2} -wo > {tf}\n",
    "                intersection_length = int(last_col(tf).sum())\n",
    "                tools_overlap.loc[len(tools_overlap)] = \\\n",
    "                    (m, rep, tool1, tool2, peaks1, peaks2, length1, length2,\n",
    "                     overlap1, overlap2, intersection_length)"
   ],
   "outputs": [],
   "execution_count": null
  },
  {
   "cell_type": "markdown",
   "source": [
    "## Overlap between tools"
   ],
   "metadata": {
    "collapsed": false
   }
  },
  {
   "cell_type": "code",
   "metadata": {},
   "source": [
    "to = pd.DataFrame(columns=['modification', 'replicate', 'tool1', 'tool2', 'overlap'], dtype=object)\n",
    "for _, row in tools_overlap.iterrows():\n",
    "    m = row['modification']\n",
    "    rep = row['rep']\n",
    "    tool1 = row['tool1']\n",
    "    tool2 = row['tool2']\n",
    "    peaks1 = row['peaks1']\n",
    "    peaks2 = row['peaks2']\n",
    "    overlap1 = row['overlap1']\n",
    "    overlap2 = row['overlap2']\n",
    "    to.loc[len(to)] = (m, rep, tool1, tool2, d(overlap1, peaks1))\n",
    "    to.loc[len(to)] = (m, rep, tool2, tool1, d(overlap2, peaks2))\n",
    "to"
   ],
   "outputs": [],
   "execution_count": null
  },
  {
   "cell_type": "code",
   "metadata": {},
   "source": [
    "from math import ceil\n",
    "\n",
    "#Heatmaps\n",
    "fig = plt.figure(figsize=(5, 8))\n",
    "for i, m in enumerate(MODIFICATIONS):\n",
    "    print(m)\n",
    "    tom = to[to['modification'] == m].groupby(['tool1', 'tool2'])['overlap'].mean().reset_index().copy()\n",
    "    tomp = tom.pivot(index='tool1', columns='tool2', values='overlap').fillna(1.0)\n",
    "    ax = plt.subplot(3, int(ceil(len(MODIFICATIONS) / 3)), i + 1)\n",
    "    sns.heatmap(tomp, ax=ax, vmin=0, vmax=1, annot=True, fmt='.2f',\n",
    "                yticklabels=(i == 0 or i == 2), cbar=False, cmap='Blues')\n",
    "    ax.set_ylabel(None)\n",
    "    ax.set_xlabel(None)\n",
    "    ax.set_title(m)\n",
    "\n",
    "plt.tight_layout()\n",
    "plt.savefig(os.path.join(FIGURES_DIR, f'overlap_tools.{EXT}'), bbox_inches='tight', dpi=300)\n",
    "plt.show()"
   ],
   "outputs": [],
   "execution_count": null
  },
  {
   "cell_type": "markdown",
   "source": [
    "## Jaccard between tools"
   ],
   "metadata": {
    "collapsed": false
   }
  },
  {
   "cell_type": "code",
   "metadata": {},
   "source": [
    "tj = pd.DataFrame(columns=['modification', 'replicate', 'tool1', 'tool2', 'jaccard'], dtype=object)\n",
    "for _, row in tools_overlap.iterrows():\n",
    "    m = row['modification']\n",
    "    rep = row['rep']\n",
    "    tool1 = row['tool1']\n",
    "    tool2 = row['tool2']\n",
    "    length1 = row['length1']\n",
    "    length2 = row['length2']\n",
    "    intersection = row['intersect']\n",
    "    jaccard = d(intersection, length1 + length2 - intersection)\n",
    "    tj.loc[len(tj)] = (m, rep, tool1, tool2, jaccard)"
   ],
   "outputs": [],
   "execution_count": null
  },
  {
   "cell_type": "code",
   "metadata": {},
   "source": [
    "#Heatmaps\n",
    "fig = plt.figure(figsize=(5, 8))\n",
    "\n",
    "for i, m in enumerate(MODIFICATIONS):\n",
    "    print(m)\n",
    "    tjm = tj[tj['modification'] == m].copy()\n",
    "    for t in tools:\n",
    "        tjm.loc[len(tjm)] = (m, 'rep', t, t, 1.0)\n",
    "    tjm = tjm.groupby(['tool1', 'tool2'])['jaccard'].mean().reset_index().copy()\n",
    "    tjmp = tjm.pivot(index='tool1', columns='tool2', values='jaccard')\n",
    "    ax = plt.subplot(3, int(ceil(len(MODIFICATIONS) / 3)), i + 1)\n",
    "    sns.heatmap(tjmp, ax=ax, vmin=0, vmax=1, annot=True, fmt='.2f',\n",
    "                yticklabels=(i == 0 or i == 2), cbar=False, cmap='Blues')\n",
    "    ax.set_ylabel(None)\n",
    "    ax.set_xlabel(None)\n",
    "    ax.set_title(m)\n",
    "\n",
    "plt.tight_layout()\n",
    "plt.savefig(os.path.join(FIGURES_DIR, f'jaccard_tools.{EXT}'), bbox_inches='tight', dpi=300)\n",
    "plt.show()"
   ],
   "outputs": [],
   "execution_count": null
  },
  {
   "cell_type": "code",
   "metadata": {},
   "source": [],
   "outputs": [],
   "execution_count": null
  }
 ],
 "metadata": {
  "kernelspec": {
   "display_name": "Python 3",
   "language": "python",
   "name": "python3"
  },
  "language_info": {
   "codemirror_mode": {
    "name": "ipython",
    "version": 3
   },
   "file_extension": ".py",
   "mimetype": "text/x-python",
   "name": "python",
   "nbconvert_exporter": "python",
   "pygments_lexer": "ipython3",
   "version": "3.8.5"
  },
  "toc": {
   "nav_menu": {},
   "number_sections": true,
   "sideBar": true,
   "skip_h1_title": false,
   "toc_cell": false,
   "toc_position": {},
   "toc_section_display": "block",
   "toc_window_display": true
  }
 },
 "nbformat": 4,
 "nbformat_minor": 2
}
