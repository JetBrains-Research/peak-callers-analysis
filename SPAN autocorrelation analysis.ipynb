{
 "cells": [
  {
   "cell_type": "markdown",
   "metadata": {
    "pycharm": {
     "name": "#%% md\n"
    }
   },
   "source": [
    "# SPAN autocorrelation analysis\n",
    "\n",
    "Please use `--ext` parameter to save scores."
   ]
  },
  {
   "cell_type": "code",
   "execution_count": null,
   "metadata": {
    "ExecuteTime": {
     "end_time": "2019-04-12T10:09:42.651555Z",
     "start_time": "2019-04-12T10:09:42.620746Z"
    },
    "pycharm": {
     "name": "#%%\n"
    }
   },
   "outputs": [],
   "source": [
    "%matplotlib inline\n",
    "%config InlineBackend.figure_format='retina'\n",
    "import glob\n",
    "import os.path\n",
    "\n",
    "import numpy as np\n",
    "from bokeh.io import output_notebook, show\n",
    "from bokeh.layouts import gridplot\n",
    "from bokeh.plotting import figure\n",
    "\n",
    "output_notebook()"
   ]
  },
  {
   "cell_type": "code",
   "execution_count": null,
   "metadata": {
    "ExecuteTime": {
     "end_time": "2019-04-12T17:10:17.797638Z",
     "start_time": "2019-04-12T17:10:17.783687Z"
    },
    "pycharm": {
     "name": "#%%\n"
    }
   },
   "outputs": [],
   "source": [
    "FOLDER = '/Users/Oleg.Shpynov/data/2022_GSE26320/span'\n",
    "NAMES = ['GSM646316_GM12878_H3K27ac_rep1', 'GSM646320_GM12878_H3K36me3_rep1', 'GSM646326_GM12878_H3K4me3_rep1',\n",
    "         'GSM646318_GM12878_H3K27me3_rep1', 'GSM646322_GM12878_H3K4me1_rep1']\n",
    "\n",
    "CHROMOSOMES = [str(i) for i in range(1, 22)] + ['X', 'Y', 'M']"
   ]
  },
  {
   "cell_type": "code",
   "execution_count": null,
   "outputs": [],
   "source": [
    "coverages = {n: glob.glob(FOLDER + '/cache/*' + n + '*.npz')[0] for n in NAMES}\n",
    "print('Coverages', coverages)\n",
    "models = {}\n",
    "for n in NAMES:\n",
    "    for f in glob.glob(FOLDER + '/fit/*.span'):\n",
    "        if '_200' in f and all(p in f for p in n.split('_')):\n",
    "            models[n] = f\n",
    "            break\n",
    "print('Models', models)"
   ],
   "metadata": {
    "collapsed": false,
    "pycharm": {
     "name": "#%%\n"
    }
   }
  },
  {
   "cell_type": "code",
   "execution_count": null,
   "metadata": {
    "ExecuteTime": {
     "end_time": "2019-04-12T17:12:38.610303Z",
     "start_time": "2019-04-12T17:12:38.297361Z"
    },
    "pycharm": {
     "name": "#%%\n"
    }
   },
   "outputs": [],
   "source": [
    "import tempfile\n",
    "from scipy.stats import nbinom as nb\n",
    "import os\n",
    "from collections import Counter\n",
    "import json\n",
    "\n",
    "\n",
    "def plot_coverage(name, bin=200, n=20):\n",
    "    coverage_path = coverages[name]\n",
    "    model_path = models[name]\n",
    "    print('Loading coverage', coverage_path)\n",
    "    npz = np.load(coverage_path)\n",
    "    coverage = Counter()\n",
    "    for chr in CHROMOSOMES:\n",
    "        for p in npz[f'chr{chr}/+']:\n",
    "            coverage[int(p / bin)] += 1\n",
    "        for p in npz[f'chr{chr}/-']:\n",
    "            coverage[int(p / bin)] += 1\n",
    "    cvalues = coverage.values()\n",
    "    print('Summary coverage', sum(cvalues))\n",
    "    notnull = [x for x in cvalues if x > 0]\n",
    "    print('Summary notnull bins', len(notnull))\n",
    "    print('Max coverage', max(notnull))\n",
    "\n",
    "    print('Loading model', model_path)\n",
    "    with tempfile.TemporaryDirectory() as tmp:\n",
    "        ! tar -xf {model_path} --directory {tmp}\n",
    "        with open(os.path.join(tmp, 'model.json')) as fm:\n",
    "            model = json.load(fm)\n",
    "        # print(model)\n",
    "        with open(os.path.join(tmp, 'information.json')) as fi:\n",
    "            fitinfo = json.load(fi)\n",
    "        # print(fitinfo)\n",
    "\n",
    "    hist, edges = np.histogram([x for x in notnull if x <= n], density=True, bins=(n))\n",
    "\n",
    "    meanLow, fsLow = model['neg_bin_emission_schemes'][0]['mean'], model['neg_bin_emission_schemes'][0]['failures']\n",
    "    meanHigh, fsHigh = model['neg_bin_emission_schemes'][1]['mean'], model['neg_bin_emission_schemes'][1]['failures']\n",
    "\n",
    "    nbLow = nb(fsLow, fsLow / (meanLow + fsLow))\n",
    "    # print('Low', meanLow, fsLow, nbLow.mean())\n",
    "\n",
    "    nbHigh = nb(fsHigh, fsHigh / (meanHigh + fsHigh))\n",
    "    # print('High', meanHigh, fsHigh, nbHigh.mean())\n",
    "    # print('\\n')\n",
    "    xs = np.linspace(1, n, n)\n",
    "    low = [nbLow.pmf(x) for x in xs]\n",
    "    high = [nbHigh.pmf(x) for x in xs]\n",
    "\n",
    "    p = figure(title=name + ' bin' + str(bin) + ' >0', tools='', background_fill_color=\"#fafafa\")\n",
    "    p.quad(top=hist, bottom=0, left=edges[:-1], right=edges[1:],\n",
    "           fill_color=\"navy\", line_color=\"white\", alpha=0.5)\n",
    "\n",
    "    p.line(xs, low, line_color=\"orange\", line_width=5, alpha=0.7, legend_label=\"Low\")\n",
    "    p.line(xs, high, line_color=\"green\", line_width=5, alpha=0.7, legend_label=\"High\")\n",
    "\n",
    "    # p.y_range.start = 0\n",
    "    # p.y_range.end = 1\n",
    "    # p.y_scale = LogScale()\n",
    "    p.x_range.start = 1\n",
    "    p.x_range.end = n\n",
    "    p.xaxis.axis_label = 'x'\n",
    "    p.yaxis.axis_label = 'Pr(x)'\n",
    "    p.grid.grid_line_color = \"white\"\n",
    "\n",
    "    return p\n",
    "\n",
    "show(plot_coverage('GSM646320_GM12878_H3K36me3_rep1'))"
   ]
  },
  {
   "cell_type": "code",
   "execution_count": null,
   "metadata": {
    "ExecuteTime": {
     "end_time": "2019-04-12T17:14:17.801315Z",
     "start_time": "2019-04-12T17:12:39.186288Z"
    },
    "scrolled": false,
    "pycharm": {
     "name": "#%%\n"
    }
   },
   "outputs": [],
   "source": [
    "show(gridplot([plot_coverage(n) for n in NAMES], ncols=1,\n",
    "              width=500, height=300, toolbar_location=None))"
   ]
  },
  {
   "cell_type": "markdown",
   "metadata": {
    "pycharm": {
     "name": "#%% md\n"
    }
   },
   "source": [
    "# Autocorrelation"
   ]
  },
  {
   "cell_type": "code",
   "execution_count": null,
   "outputs": [],
   "source": [
    "from math import ceil\n",
    "from scipy.stats import pearsonr\n",
    "import matplotlib.pyplot as plt\n",
    "\n",
    "\n",
    "def autocorr_full(\n",
    "        name,\n",
    "        bin=200,\n",
    "        min_dist=1, max_dist=20,\n",
    "        chr_filter=None, # 1, MT, X, Y, hs37d5\n",
    "        ignore_zero=True,\n",
    "        ylim = None\n",
    "):\n",
    "    coverage_path = coverages[name]\n",
    "    print('Loading coverage', coverage_path)\n",
    "    npz = np.load(coverage_path)\n",
    "    chr_sizes = {}\n",
    "    for chr in CHROMOSOMES:\n",
    "        if chr_filter is not None and chr not in chr_filter:\n",
    "            continue\n",
    "        chr_sizes[chr] = int(ceil(max(max(npz[f'chr{chr}/+']), max(npz[f'chr{chr}/-'])) / bin))\n",
    "\n",
    "    coverage = np.zeros(sum(chr_sizes.values()))\n",
    "    offset = 0\n",
    "    for chr in CHROMOSOMES:\n",
    "        if chr_filter is not None and chr not in chr_filter:\n",
    "            continue\n",
    "        for p in npz['chr{}/+'.format(chr)]:\n",
    "            coverage[offset + int(p / bin)] += 1\n",
    "        for p in npz['chr{}/-'.format(chr)]:\n",
    "            coverage[offset + int(p / bin)] += 1\n",
    "        offset += chr_sizes[chr]\n",
    "    if ignore_zero:\n",
    "        coverage = coverage[coverage > 0]\n",
    "    print('Total coverage size', len(coverage))\n",
    "    print('Max coverage', max(coverage))\n",
    "    correlations = []\n",
    "    for d in range(min_dist, max_dist):\n",
    "        corr, pval = pearsonr(coverage, np.roll(coverage, d))\n",
    "        correlations.append(corr)\n",
    "\n",
    "    plt.plot(range(min_dist, max_dist), correlations)\n",
    "    if ylim is not None:\n",
    "        plt.ylim(ylim)\n",
    "    plt.xlabel(\"Delta dist (bp)\")\n",
    "    plt.ylabel(\"Correlation\")\n",
    "    plt.title(name)\n",
    "    plt.show()\n",
    "\n",
    "autocorr_full('GSM646320_GM12878_H3K36me3_rep1')"
   ],
   "metadata": {
    "collapsed": false,
    "pycharm": {
     "name": "#%%\n"
    }
   }
  },
  {
   "cell_type": "code",
   "execution_count": null,
   "outputs": [],
   "source": [
    "for n in NAMES:\n",
    "    autocorr_full(n, ylim=(0, 1))"
   ],
   "metadata": {
    "collapsed": false,
    "pycharm": {
     "name": "#%%\n"
    }
   }
  }
 ],
 "metadata": {
  "kernelspec": {
   "display_name": "Python 3",
   "language": "python",
   "name": "python3"
  },
  "language_info": {
   "codemirror_mode": {
    "name": "ipython",
    "version": 3
   },
   "file_extension": ".py",
   "mimetype": "text/x-python",
   "name": "python",
   "nbconvert_exporter": "python",
   "pygments_lexer": "ipython3",
   "version": "3.5.6"
  },
  "toc": {
   "nav_menu": {},
   "number_sections": true,
   "sideBar": true,
   "skip_h1_title": false,
   "toc_cell": false,
   "toc_position": {},
   "toc_section_display": "block",
   "toc_window_display": false
  }
 },
 "nbformat": 4,
 "nbformat_minor": 2
}