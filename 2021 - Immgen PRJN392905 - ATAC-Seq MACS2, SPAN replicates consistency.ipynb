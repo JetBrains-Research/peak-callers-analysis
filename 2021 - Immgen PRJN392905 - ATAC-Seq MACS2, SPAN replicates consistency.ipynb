{
 "cells": [
  {
   "cell_type": "markdown",
   "metadata": {
    "heading_collapsed": true
   },
   "source": [
    "# Immgen PRJNA392905 - ATAC-Seq SPAN, MACS2 replicates consistency\n",
    "\n",
    "Logbook: https://docs.google.com/document/d/1WxzLWUX0PV2TpD0VfwStHczN6YSQ35Uu6DDR-8WX-io/edit#heading=h.xg4nq1px6lhh"
   ]
  },
  {
   "cell_type": "code",
   "execution_count": null,
   "metadata": {
    "hidden": true
   },
   "outputs": [],
   "source": [
    "%matplotlib inline\n",
    "%config InlineBackend.figure_format='retina'\n",
    "\n",
    "import pandas as pd\n",
    "import seaborn as sns\n",
    "from IPython.display import display\n",
    "\n",
    "sns.set_style(\"whitegrid\")\n",
    "import matplotlib.pyplot as plt\n",
    "import numpy as np\n",
    "import os\n",
    "import glob\n",
    "from tqdm.auto import tqdm\n",
    "import tempfile"
   ]
  },
  {
   "cell_type": "code",
   "execution_count": null,
   "metadata": {},
   "outputs": [],
   "source": [
    "PATH = os.path.expanduser('~/data/2022_Immgen')\n",
    "\n",
    "def file_to_name(file):\n",
    "    return re.sub('(.*SRR[0-9]+_)|(_ATAC_seq.*)', '', os.path.basename(file))"
   ]
  },
  {
   "cell_type": "code",
   "execution_count": null,
   "metadata": {},
   "outputs": [],
   "source": [
    "def bedl(file):\n",
    "    try:\n",
    "        tf = pd.read_csv(file, sep='\\t', header=None)\n",
    "        return tf[2] - tf[1]\n",
    "    except:\n",
    "        return np.zeros(0) # Empty file\n",
    "\n",
    "def lines(file):\n",
    "    try:\n",
    "        tf = pd.read_csv(file, sep='\\t', header=None)\n",
    "        return len(tf)\n",
    "    except:\n",
    "        return 0 # Empty file\n",
    "\n",
    "def d(a, b):\n",
    "    return a / b if b != 0 else 0\n",
    "\n",
    "def sorted_file(file):\n",
    "    ts = tempfile.mktemp()\n",
    "    !cat {file} | sort -k1,1 -k2,2n > {ts}\n",
    "    return ts\n",
    "\n",
    "def last_col(file):\n",
    "    try:\n",
    "        cols = len(pd.read_csv(file, sep='\\t', nrows=1, header=None).columns)\n",
    "        return pd.read_csv(file, sep='\\t', header=None, usecols=[cols - 1])[cols - 1]\n",
    "    except:\n",
    "        return np.zeros(0)  # Empty file"
   ]
  },
  {
   "cell_type": "markdown",
   "metadata": {},
   "source": [
    "# Macs2"
   ]
  },
  {
   "cell_type": "code",
   "execution_count": null,
   "outputs": [],
   "source": [
    "MACS2_FOLDER = PATH + '/macs2atac'\n",
    "LEVELS = ['q0.05']\n",
    "\n",
    "dfma = pd.DataFrame(columns=['name', 'tool', 'file', 'peaks'], dtype=object)\n",
    "\n",
    "for file in tqdm(glob.glob(MACS2_FOLDER + '/*.narrowPeak')):\n",
    "    tool = next((l for l in LEVELS if f'_{l}_' in file), None)\n",
    "    if tool:\n",
    "        name = file_to_name(file)\n",
    "        dfma.loc[len(dfma)] = (name, f'MACS2 ATAC {tool}', file, lines(file))\n",
    "\n",
    "dfma['peaks'] = dfma['peaks'].astype(int)"
   ],
   "metadata": {
    "collapsed": false
   }
  },
  {
   "cell_type": "code",
   "execution_count": null,
   "outputs": [],
   "source": [
    "MACS2_FOLDER = PATH + '/macs2'\n",
    "LEVELS = ['q0.05']\n",
    "\n",
    "dfm = pd.DataFrame(columns=['name', 'tool', 'file', 'peaks'], dtype=object)\n",
    "\n",
    "for file in tqdm(glob.glob(MACS2_FOLDER + '/*.narrowPeak')):\n",
    "    tool = next((l for l in LEVELS if f'_{l}_' in file), None)\n",
    "    if tool:\n",
    "        name = file_to_name(file)\n",
    "        dfm.loc[len(dfm)] = (name, f'MACS2 {tool}', file, lines(file))\n",
    "\n",
    "dfm['peaks'] = dfm['peaks'].astype(int)"
   ],
   "metadata": {
    "collapsed": false
   }
  },
  {
   "cell_type": "markdown",
   "metadata": {},
   "source": [
    "# SPAN"
   ]
  },
  {
   "cell_type": "code",
   "execution_count": null,
   "metadata": {
    "scrolled": true
   },
   "outputs": [],
   "source": [
    "SPAN_FOLDER=PATH + '/span'\n",
    "FDRS = [0.05]\n",
    "\n",
    "dfs = pd.DataFrame(columns=['name', 'tool', 'file', 'peaks'], dtype=object)\n",
    "\n",
    "for file in tqdm(glob.glob(SPAN_FOLDER + '/*00*.peak')):\n",
    "    fdr = next((f for f in FDRS if f'_q{f}' in file), None)\n",
    "    if fdr:\n",
    "        name = file_to_name(file)\n",
    "        dfs.loc[len(dfs)] = (name, f'SPAN {fdr}', file, lines(file))\n",
    "\n",
    "dfs['peaks'] = dfs['peaks'].astype(int)"
   ]
  },
  {
   "cell_type": "code",
   "execution_count": null,
   "outputs": [],
   "source": [
    "SPAN_FOLDER=PATH + '/span_atac'\n",
    "FDRS = [0.05]\n",
    "\n",
    "dfsa = pd.DataFrame(columns=['name', 'tool', 'file', 'peaks'], dtype=object)\n",
    "\n",
    "for file in tqdm(glob.glob(SPAN_FOLDER + '/*00*.peak')):\n",
    "    fdr = next((f for f in FDRS if f'_q{f}' in file), None)\n",
    "    if fdr:\n",
    "        name = file_to_name(file)\n",
    "        dfsa.loc[len(dfsa)] = (name, f'SPAN ATAC {fdr}', file, lines(file))\n",
    "\n",
    "dfsa['peaks'] = dfsa['peaks'].astype(int)"
   ],
   "metadata": {
    "collapsed": false
   }
  },
  {
   "cell_type": "code",
   "execution_count": null,
   "metadata": {},
   "outputs": [],
   "source": [
    "dfa = pd.concat([dfma, dfm, dfs, dfsa])\n",
    "plt.figure(figsize=(3, 4))\n",
    "sns.barplot(data=dfa, x='name', y='peaks', hue='tool',\n",
    "            ci='sd', capsize=.05, errwidth=2)\n",
    "plt.xticks(rotation=90)\n",
    "plt.title('Peaks number')\n",
    "plt.tight_layout()\n",
    "plt.show()"
   ]
  },
  {
   "cell_type": "code",
   "execution_count": null,
   "outputs": [],
   "source": [
    "t = (dfm.groupby(['name'])['file'].count() / len(LEVELS)).astype(int)\n",
    "plt.figure(figsize=(1, 3))\n",
    "sns.barplot(data=pd.DataFrame(dict(name=t.index, replicates=t)), x='name', y='replicates')\n",
    "plt.xticks(rotation=90)\n",
    "plt.title('Dataset size')\n",
    "plt.tight_layout()\n",
    "plt.show()"
   ],
   "metadata": {
    "collapsed": false
   }
  },
  {
   "cell_type": "code",
   "execution_count": null,
   "outputs": [],
   "source": [
    "ts = []\n",
    "for name, tool, file in tqdm(zip(dfa['name'], dfa['tool'], dfa['file'])):\n",
    "    lengths = bedl(file)\n",
    "    t = pd.DataFrame(dict(name=[name] * len(lengths), tool=[tool] * len(lengths), length=lengths))\n",
    "    ts.append(t.sample(min(len(t), 10_000)))\n",
    "t = pd.concat(ts).reset_index(drop=True)\n",
    "del ts\n",
    "t.sample(10)"
   ],
   "metadata": {
    "collapsed": false
   }
  },
  {
   "cell_type": "code",
   "execution_count": null,
   "metadata": {},
   "outputs": [],
   "source": [
    "plt.figure(figsize=(3, 4))\n",
    "sns.boxplot(data=t, x='name', y='length', hue='tool', showfliers=False)\n",
    "plt.xticks(rotation=90)\n",
    "plt.title('Peaks length')\n",
    "plt.tight_layout()\n",
    "plt.show()"
   ]
  },
  {
   "cell_type": "markdown",
   "metadata": {},
   "source": [
    "# Overlaps"
   ]
  },
  {
   "cell_type": "code",
   "execution_count": null,
   "metadata": {},
   "outputs": [],
   "source": [
    "def compute_overlaps(df):\n",
    "    dfoverlap = pd.DataFrame(columns=['name', 'tool', 'file1', 'file2',\n",
    "                                      'peaks1', 'peaks2', 'overlap12', 'overlap21',\n",
    "                                      'peaks1_len', 'peaks2_len', 'overlap_len'], dtype=object)\n",
    "    for n in sorted(set(df['name'])):\n",
    "        for tool in sorted(set(df['tool'])):\n",
    "            dfnl = df.loc[(df['name'] == n) &  (df['tool'] == tool)]\n",
    "            print('Processing', n, tool, len(dfnl))\n",
    "            files = list(dfnl['file'])\n",
    "            for i1, i2 in tqdm(product(range(len(files)), range(len(files)))):\n",
    "                if i1 >= i2:\n",
    "                    continue\n",
    "                f1, f2 = files[i1], files[i2]\n",
    "                peaks1, peaks1_len = lines(f1), bedl(f1).sum()\n",
    "                peaks2, peaks2_len = lines(f2), bedl(f2).sum()\n",
    "                f1s, f2s = sorted_file(f1), sorted_file(f2)\n",
    "                tf = f'{PATH}/overlaps_{tool}_{n}_{tool}_overlaps.bed'.replace(' ', '_')\n",
    "                !bedtools intersect -a {f1s} -b {f2s} -wa -u > {tf}\n",
    "                overlap12 = lines(tf)\n",
    "                !bedtools intersect -b {f1s} -a {f2s} -wa -u > {tf}\n",
    "                overlap21 = lines(tf)\n",
    "                !bedtools intersect -a {f1s} -b {f2s} -wo > {tf}\n",
    "                overlap_len = int(last_col(tf).sum())\n",
    "                dfoverlap.loc[len(dfoverlap)] = (n, tool, f1, f2,\n",
    "                                                 peaks1, peaks2, overlap12, overlap21,\n",
    "                                                 peaks1_len, peaks2_len, overlap_len)\n",
    "    return dfoverlap"
   ]
  },
  {
   "cell_type": "markdown",
   "metadata": {},
   "source": [
    "## MACS2 overlaps"
   ]
  },
  {
   "cell_type": "code",
   "execution_count": null,
   "outputs": [],
   "source": [
    "dfma_overlap = compute_overlaps(dfma)"
   ],
   "metadata": {
    "collapsed": false
   }
  },
  {
   "cell_type": "code",
   "execution_count": null,
   "outputs": [],
   "source": [
    "dfm_overlap = compute_overlaps(dfm)"
   ],
   "metadata": {
    "collapsed": false
   }
  },
  {
   "cell_type": "markdown",
   "source": [
    "## SPAN overlaps"
   ],
   "metadata": {
    "collapsed": false
   }
  },
  {
   "cell_type": "code",
   "execution_count": null,
   "metadata": {
    "scrolled": true
   },
   "outputs": [],
   "source": [
    "dfs_overlap = compute_overlaps(dfs)"
   ]
  },
  {
   "cell_type": "code",
   "execution_count": null,
   "outputs": [],
   "source": [
    "dfsa_overlap = compute_overlaps(dfsa)"
   ],
   "metadata": {
    "collapsed": false
   }
  },
  {
   "cell_type": "code",
   "execution_count": null,
   "outputs": [],
   "source": [
    "dfao = pd.concat([dfma_overlap, dfm_overlap, dfs_overlap, dfsa_overlap])\n",
    "dfao['jaccard'] = [\n",
    "    d(lo, l1 + l2 - lo)\n",
    "    for l1, l2, lo in zip(dfao['peaks1_len'], dfao['peaks2_len'], dfao['overlap_len'])\n",
    "]"
   ],
   "metadata": {
    "collapsed": false
   }
  },
  {
   "cell_type": "code",
   "execution_count": null,
   "metadata": {},
   "outputs": [],
   "source": [
    "print('Jaccard')\n",
    "\n",
    "plt.figure(figsize=(3, 4))\n",
    "sns.barplot(data=dfao,\n",
    "            x='name', y='jaccard', hue='tool',\n",
    "            ci='sd', capsize=.05, errwidth=2)\n",
    "plt.xticks(rotation=90)\n",
    "plt.title('Jaccard for cell type')\n",
    "plt.tight_layout()\n",
    "plt.show()"
   ]
  },
  {
   "cell_type": "markdown",
   "metadata": {},
   "source": [
    "# Overlap with DHS"
   ]
  },
  {
   "cell_type": "code",
   "execution_count": null,
   "metadata": {},
   "outputs": [],
   "source": [
    "from itertools import product\n",
    "\n",
    "DHS_PATH = f'{PATH}/ENCFF754WCT_mm10_dhs_representative_sites.bed'\n",
    "DHS_PEAKS = lines(DHS_PATH)\n",
    "\n",
    "def compute_dhs_overlaps(df):\n",
    "    dfoverlap = pd.DataFrame(columns=['name', 'tool', 'file', 'way', 'peaks', 'overlap'], dtype=object)\n",
    "    for n in sorted(set(df['name'])):\n",
    "        for tool in sorted(set(df['tool'])):\n",
    "            dfnl = df.loc[(df['name'] == n) &  (df['tool'] == tool)]\n",
    "            print('Processing', n, tool, len(dfnl))\n",
    "            for _, row in tqdm(dfnl.iterrows()):\n",
    "                file, peaks = row['file'], row['peaks']\n",
    "                tf = f'{PATH}/overlaps_{tool}_{n}_{tool}_vs_dhs.bed'.replace(' ', '_')\n",
    "                !bedtools intersect -a {file} -b {DHS_PATH} -wa -u > {tf}\n",
    "                owd = lines(tf)\n",
    "                dfoverlap.loc[len(dfoverlap)] = (n, tool, file, 'with_dhs', peaks, owd)\n",
    "                tf = f'{PATH}/overlaps_{tool}_{n}_{tool}_dhs_vs.bed'.replace(' ', '_')\n",
    "                !bedtools intersect -b {file} -a {DHS_PATH} -wa -u > {tf}\n",
    "                odw = lines(tf)\n",
    "                dfoverlap.loc[len(dfoverlap)] = (n, tool, file, 'dhs_with', DHS_PEAKS, odw)\n",
    "    return dfoverlap"
   ]
  },
  {
   "cell_type": "code",
   "execution_count": null,
   "outputs": [],
   "source": [
    "dfma_dhs_overlap = compute_dhs_overlaps(dfma)"
   ],
   "metadata": {
    "collapsed": false
   }
  },
  {
   "cell_type": "code",
   "execution_count": null,
   "outputs": [],
   "source": [
    "dfm_dhs_overlap = compute_dhs_overlaps(dfm)"
   ],
   "metadata": {
    "collapsed": false
   }
  },
  {
   "cell_type": "code",
   "execution_count": null,
   "metadata": {
    "scrolled": true
   },
   "outputs": [],
   "source": [
    "dfs_dhs_overlap = compute_dhs_overlaps(dfs)"
   ]
  },
  {
   "cell_type": "code",
   "execution_count": null,
   "outputs": [],
   "source": [
    "dfsa_dhs_overlap = compute_dhs_overlaps(dfsa)"
   ],
   "metadata": {
    "collapsed": false
   }
  },
  {
   "cell_type": "code",
   "execution_count": null,
   "metadata": {},
   "outputs": [],
   "source": [
    "dhs_overlap = pd.concat([dfma_dhs_overlap, dfm_dhs_overlap, dfs_dhs_overlap, dfsa_dhs_overlap])\n",
    "dhs_overlap['overlap'] = [o / p if p > 0 else 0 for o, p in zip(dhs_overlap['overlap'], dhs_overlap['peaks'])]"
   ]
  },
  {
   "cell_type": "code",
   "execution_count": null,
   "metadata": {},
   "outputs": [],
   "source": [
    "plt.figure(figsize=(6, 4))\n",
    "# Plot \n",
    "ax = plt.subplot(1, 2, 1)\n",
    "ax.title.set_text('Overlap with DHS')\n",
    "sns.barplot(data=dhs_overlap[dhs_overlap['way']=='with_dhs'], x='name', y='overlap', hue='tool',\n",
    "            ci='sd', capsize=.05, errwidth=2, ax=ax)\n",
    "ax.xaxis.set_tick_params(rotation=90)\n",
    "ax.set_xlabel('Cell')\n",
    "ax.set_ylabel('Fraction')\n",
    "ax.legend(loc='lower left', title='tool')\n",
    "\n",
    "ax = plt.subplot(1, 2, 2)\n",
    "ax.title.set_text('Overlap DHS with')\n",
    "t = dhs_overlap[dhs_overlap['way']=='dhs_with'].copy()\n",
    "t['overlap'].clip(upper=0.15, inplace=True)\n",
    "sns.barplot(data=t, x='name', y='overlap', hue='tool',\n",
    "            ci='sd', capsize=.05, errwidth=2, ax=ax)\n",
    "ax.xaxis.set_tick_params(rotation=90)\n",
    "ax.set_xlabel('Cell')\n",
    "ax.set_ylabel('Fraction')\n",
    "ax.legend(loc='lower left', title='tool')\n",
    "\n",
    "plt.tight_layout()\n",
    "plt.show()"
   ]
  },
  {
   "cell_type": "code",
   "execution_count": null,
   "metadata": {},
   "outputs": [],
   "source": []
  }
 ],
 "metadata": {
  "kernelspec": {
   "display_name": "Python 3",
   "language": "python",
   "name": "python3"
  },
  "language_info": {
   "codemirror_mode": {
    "name": "ipython",
    "version": 3
   },
   "file_extension": ".py",
   "mimetype": "text/x-python",
   "name": "python",
   "nbconvert_exporter": "python",
   "pygments_lexer": "ipython3",
   "version": "3.8.5"
  },
  "toc": {
   "nav_menu": {},
   "number_sections": true,
   "sideBar": true,
   "skip_h1_title": false,
   "toc_cell": false,
   "toc_position": {},
   "toc_section_display": "block",
   "toc_window_display": true
  }
 },
 "nbformat": 4,
 "nbformat_minor": 2
}
