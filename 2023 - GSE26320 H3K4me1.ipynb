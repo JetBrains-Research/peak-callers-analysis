{
 "cells": [
  {
   "cell_type": "markdown",
   "metadata": {},
   "source": [
    "# SPAN Benchmarks H3K4me1"
   ]
  },
  {
   "cell_type": "code",
   "execution_count": null,
   "metadata": {
    "ExecuteTime": {
     "end_time": "2019-01-24T09:42:05.555231Z",
     "start_time": "2019-01-24T09:42:03.994631Z"
    }
   },
   "outputs": [],
   "source": [
    "%matplotlib inline\n",
    "%config InlineBackend.figure_format='retina'\n",
    "\n",
    "from IPython.display import display\n",
    "import pandas as pd\n",
    "from tqdm.auto import tqdm\n",
    "import seaborn as sns\n",
    "\n",
    "sns.set_style(\"whitegrid\")\n",
    "import matplotlib.pyplot as plt\n",
    "from matplotlib.backends.backend_pdf import PdfPages\n",
    "import numpy as np\n",
    "import scipy as sp\n",
    "import os"
   ]
  },
  {
   "cell_type": "code",
   "execution_count": null,
   "outputs": [],
   "source": [
    "def bedl(file):\n",
    "    try:\n",
    "        tf = pd.read_csv(file, sep='\\t', header=None)\n",
    "        return tf[2] - tf[1]\n",
    "    except:\n",
    "        return np.zeros(0)  # Empty file\n",
    "\n",
    "\n",
    "def lines(file):\n",
    "    try:\n",
    "        tf = pd.read_csv(file, sep='\\t', header=None)\n",
    "        return len(tf)\n",
    "    except:\n",
    "        return 0  # Empty file\n",
    "\n",
    "def d(a, b):\n",
    "    return a / b if b != 0 else 0\n",
    "\n",
    "def last_col(file):\n",
    "    try:\n",
    "        cols = len(pd.read_csv(file, sep='\\t', nrows=1, header=None).columns)\n",
    "        return pd.read_csv(file, sep='\\t', header=None, usecols=[cols - 1])[cols - 1]\n",
    "    except:\n",
    "        return np.zeros(0)  # Empty file\n",
    "\n",
    "def sorted_file(file):\n",
    "    ts = tempfile.mktemp()\n",
    "    !cat {file} | sort -k1,1 -k2,2n > {ts}\n",
    "    return ts\n"
   ],
   "metadata": {
    "collapsed": false
   }
  },
  {
   "cell_type": "markdown",
   "source": [
    "# Hg38 load peaks"
   ],
   "metadata": {
    "collapsed": false
   }
  },
  {
   "cell_type": "code",
   "execution_count": null,
   "outputs": [],
   "source": [
    "GSE26320_PATH_HG38 = os.path.expanduser('~/data/2023_GSE26320')\n",
    "GSE26320_CELLS = ['GM12878', 'HMEC', 'HSMM', 'K562', 'NHEK', 'NHLF', 'H1', 'Huvec', 'HepG2']\n",
    "# GSE26320_CELLS = ['GM12878',  'K562', 'H1']\n",
    "# GSE26320_MODIFICATIONS = ['CTCF', 'H3K27ac', 'H3K27me3', 'H3K36me3', 'H3K4me1', 'H3K4me2', 'H3K4me3', 'H3K9ac', 'H4K20me1']\n",
    "GSE26320_MODIFICATIONS = ['H3K4me1']\n",
    "GSE26320_REPS = ['rep1', 'rep2']"
   ],
   "metadata": {
    "collapsed": false
   }
  },
  {
   "cell_type": "code",
   "execution_count": null,
   "outputs": [],
   "source": [
    "def load_peaks_fdr(path, suffix, fdrs):\n",
    "    df_fdr = pd.DataFrame(columns=['file', 'modification', 'cell', 'replicate', 'fdr', 'peaks', 'avlength'],\n",
    "                          dtype=object)\n",
    "    for f in tqdm(os.listdir(path)):\n",
    "        if suffix not in f:\n",
    "            continue\n",
    "        fdr = next((fdr for fdr in fdrs if fdr in f), None)\n",
    "        cell = next((cc for cc in GSE26320_CELLS if cc in f), None)\n",
    "        mod = next((m for m in GSE26320_MODIFICATIONS if m in f), None)\n",
    "        rep = 'rep1' if 'rep1' in f else 'rep2'\n",
    "        if fdr and cell and rep and mod:\n",
    "            peaks_path = os.path.join(path, f)\n",
    "            ps, ls = lines(peaks_path), bedl(peaks_path)\n",
    "            avls = 0 if ps == 0 else sum(ls) / ps\n",
    "            df_fdr.loc[len(df_fdr)] = (f, mod, cell, rep, fdr, ps, avls)\n",
    "    return df_fdr"
   ],
   "metadata": {
    "collapsed": false
   }
  },
  {
   "cell_type": "code",
   "execution_count": null,
   "outputs": [],
   "source": [
    "df_fdr_macs2 = load_peaks_fdr(os.path.join(GSE26320_PATH_HG38, 'macs2'), '.narrowPeak', ['0.05'])\n",
    "df_fdr_macs2['file'] = [f'{GSE26320_PATH_HG38}/macs2/{f}' for f in df_fdr_macs2['file']]\n",
    "df_fdr_macs2['tool'] = 'MACS2'\n",
    "print('MACS2', len(df_fdr_macs2))\n",
    "\n",
    "df_fdr_macs2broad = load_peaks_fdr(os.path.join(GSE26320_PATH_HG38, 'macs2'), '.broadPeak', ['0.1'])\n",
    "df_fdr_macs2broad['file'] = [f'{GSE26320_PATH_HG38}/macs2/{f}' for f in df_fdr_macs2broad['file']]\n",
    "df_fdr_macs2broad['tool'] = 'MACS2 broad'\n",
    "print('MACS2 broad', len(df_fdr_macs2broad))\n",
    "\n",
    "df_fdr_sicer = load_peaks_fdr(os.path.join(GSE26320_PATH_HG38, 'sicer'), 'summary-FDR', ['0.01'])\n",
    "df_fdr_sicer['file'] = [f'{GSE26320_PATH_HG38}/sicer/{f}' for f in df_fdr_sicer['file']]\n",
    "df_fdr_sicer['tool'] = 'SICER'\n",
    "print('SICER', len(df_fdr_sicer))\n",
    "\n",
    "df_fdr_span = load_peaks_fdr(os.path.join(GSE26320_PATH_HG38, 'span'), '.peak', ['0.05'])\n",
    "df_fdr_span['file'] = [f'{GSE26320_PATH_HG38}/span/{f}' for f in df_fdr_span['file']]\n",
    "df_fdr_span['tool'] = 'SPAN'\n",
    "print('SPAN', len(df_fdr_span))\n",
    "\n",
    "df_fdr_peaks = pd.concat([df_fdr_macs2, df_fdr_macs2broad, df_fdr_sicer, df_fdr_span])\n",
    "df_fdr_peaks.sample(5)"
   ],
   "metadata": {
    "collapsed": false
   }
  },
  {
   "cell_type": "code",
   "execution_count": null,
   "outputs": [],
   "source": [
    "# TOOLS_PALETTE = {'MACS2': 'blue', 'MACS2 broad': 'orange', 'SICER': 'green', 'SPAN': 'red', 'Genes': 'brown'}\n",
    "TOOLS = ['MACS2', 'MACS2 broad', 'SICER', 'SPAN', 'Genes']\n",
    "palette = plt.cm.get_cmap('tab10')\n",
    "TOOLS_PALETTE = {t: palette(i) for i, t in enumerate(TOOLS)}"
   ],
   "metadata": {
    "collapsed": false
   }
  },
  {
   "cell_type": "code",
   "execution_count": null,
   "outputs": [],
   "source": [
    "plt.figure(figsize=(4, 4))\n",
    "ax = plt.axes()\n",
    "g_results = sns.barplot(data=df_fdr_peaks, x='tool', y='peaks', ax=ax,\n",
    "                        capsize=.2, errwidth=2, edgecolor=\"black\",\n",
    "                        palette=TOOLS_PALETTE)\n",
    "ax.xaxis.set_tick_params(rotation=90)\n",
    "ax.title.set_text('H3K4me1 peaks number')\n",
    "plt.show()"
   ],
   "metadata": {
    "collapsed": false
   }
  },
  {
   "cell_type": "code",
   "execution_count": null,
   "outputs": [],
   "source": [
    "print('Load lengths')\n",
    "ts = []\n",
    "for file, tool in tqdm(zip(df_fdr_peaks['file'], df_fdr_peaks['tool'])):\n",
    "    lengths = bedl(file)\n",
    "    t = pd.DataFrame(dict(tool=[tool] * len(lengths), length=lengths))\n",
    "    ts.append(t.sample(min(len(t), 10_000)))\n",
    "t = pd.concat(ts).reset_index(drop=True)\n",
    "del ts\n",
    "t.sample(10)"
   ],
   "metadata": {
    "collapsed": false
   }
  },
  {
   "cell_type": "code",
   "execution_count": null,
   "outputs": [],
   "source": [
    "plt.figure(figsize=(4, 4))\n",
    "ax = plt.axes()\n",
    "g_results = sns.boxplot(data=t, x='tool', y='length', ax=ax)\n",
    "ax.title.set_text('H3K4me1 peaks length')\n",
    "ax.xaxis.set_tick_params(rotation=90)\n",
    "ax.set_ylim([0, 10_000])\n",
    "plt.show()"
   ],
   "metadata": {
    "collapsed": false
   }
  },
  {
   "cell_type": "code",
   "execution_count": null,
   "outputs": [],
   "source": [
    "plt.figure(figsize=(8, 5))\n",
    "ax = plt.axes()\n",
    "g_results = sns.histplot(data=t, x='length', hue='tool', ax=ax,\n",
    "                         stat='density', common_bins=False, common_norm=False,\n",
    "                         bins=50, kde=True, log_scale=True, alpha=0.2,\n",
    "                         palette=TOOLS_PALETTE)\n",
    "g_results.set(xscale='log')\n",
    "g_results.set_ylim(0, 3)\n",
    "g_results.set_xlim(1e2, 2e4)\n",
    "ax.title.set_text('H3K4me1 peaks length')\n",
    "plt.show()"
   ],
   "metadata": {
    "collapsed": false
   }
  },
  {
   "cell_type": "code",
   "execution_count": null,
   "outputs": [],
   "source": [
    "# Randomly tweak SPAN,SICER lengths for visualization purposes\n",
    "tspan = t['tool'] == 'SPAN'\n",
    "t.loc[tspan, 'length'] += np.random.normal(0, 100, size=sum(tspan))\n",
    "tsicer = t['tool'] == 'SICER'\n",
    "t.loc[tsicer, 'length'] += np.random.normal(0, 100, size=sum(tsicer))"
   ],
   "metadata": {
    "collapsed": false
   }
  },
  {
   "cell_type": "code",
   "execution_count": null,
   "outputs": [],
   "source": [
    "plt.figure(figsize=(8, 5))\n",
    "ax = plt.axes()\n",
    "g_results = sns.histplot(data=t, x='length', hue='tool', ax=ax,\n",
    "                         stat='density', common_bins=False, common_norm=False,\n",
    "                         kde=True, log_scale=True, alpha=0.2,\n",
    "                         palette=TOOLS_PALETTE)\n",
    "g_results.set(xscale='log')\n",
    "g_results.set_ylim(0, 3)\n",
    "g_results.set_xlim(1e2, 2e4)\n",
    "ax.title.set_text('H3K4me1 peaks length')\n",
    "plt.show()"
   ],
   "metadata": {
    "collapsed": false
   }
  },
  {
   "cell_type": "markdown",
   "source": [
    "## Consistency analysis between replicates"
   ],
   "metadata": {
    "collapsed": false
   }
  },
  {
   "cell_type": "code",
   "execution_count": null,
   "outputs": [],
   "source": [
    "reps_overlap = pd.DataFrame(columns=['modification', 'cell', 'tool', 'rep1', 'rep2',\n",
    "                                     'peaks1', 'peaks1_len', 'peaks2', 'peaks2_len',\n",
    "                                     'peaks1_overlap', 'peaks1_overlap_len',\n",
    "                                     'peaks2_overlap', 'peaks2_overlap_len'], dtype=object)\n",
    "\n",
    "tf = tempfile.mktemp()\n",
    "\n",
    "tools = list(sorted(set(df_fdr_peaks['tool'])))\n",
    "for c, m in tqdm(product(GSE26320_CELLS, GSE26320_MODIFICATIONS)):\n",
    "    print(c, m)\n",
    "    tm = df_fdr_peaks[(df_fdr_peaks['cell'] == c) & (df_fdr_peaks['modification'] == m)]\n",
    "    reps = list(sorted(set(tm['replicate'])))\n",
    "    for tool in tools:\n",
    "        for i in range(len(reps)):\n",
    "            for j in range(i + 1, len(reps)):\n",
    "                rep1, rep2 = reps[i], reps[j]\n",
    "                t1 = tm[(tm['tool'] == tool) & (tm['replicate'] == rep1)]\n",
    "                t2 = tm[(tm['tool'] == tool) & (tm['replicate'] == rep2)]\n",
    "                file1 = sorted_file(t1['file'].values[0])\n",
    "                file2 = sorted_file(t2['file'].values[0])\n",
    "                peaks1 = t1['peaks'].values[0]\n",
    "                peaks1_len = int(bedl(file1).sum())\n",
    "                peaks2 = t2['peaks'].values[0]\n",
    "                peaks2_len = int(bedl(file2).sum())\n",
    "                !bedtools intersect -a {file1} -b {file2} -wa -u > {tf}\n",
    "                overlap1 = lines(tf)\n",
    "                !bedtools intersect -b {file1} -a {file2} -wa -u > {tf}\n",
    "                overlap2 = lines(tf)\n",
    "                !bedtools intersect -a {file1} -b {file2} -wo > {tf}\n",
    "                overlap1_len = overlap2_len = int(last_col(tf).sum())\n",
    "\n",
    "                reps_overlap.loc[len(reps_overlap)] = \\\n",
    "                    (m, c, tool, rep1, rep2, peaks1, peaks1_len, peaks2, peaks2_len,\n",
    "                     overlap1, overlap1_len, overlap2, overlap2_len)\n",
    "reps_overlap.sample(5)"
   ],
   "metadata": {
    "collapsed": false
   }
  },
  {
   "cell_type": "code",
   "execution_count": null,
   "outputs": [],
   "source": [
    "reps_overlap['jaccard'] = [\n",
    "    d(lo, l1 + l2 - lo)\n",
    "    for l1, l2, lo in zip(reps_overlap['peaks1_len'], reps_overlap['peaks2_len'], reps_overlap['peaks1_overlap_len'])\n",
    "]\n",
    "\n",
    "plt.figure(figsize=(6, 2))\n",
    "\n",
    "g_result = sns.boxplot(data=reps_overlap, y='tool', x='jaccard', palette=TOOLS_PALETTE)\n",
    "ax = g_result.axes\n",
    "ax.set_title('Jaccard between H3K4me1 replicates (length)')\n",
    "ax.set_xlabel('Jaccard')\n",
    "ax.set_ylabel('Tool')\n",
    "\n",
    "\n",
    "plt.tight_layout()\n",
    "plt.show()"
   ],
   "metadata": {
    "collapsed": false
   }
  },
  {
   "cell_type": "code",
   "execution_count": null,
   "outputs": [],
   "source": [
    "reps_overlap['peak1_overlap_fraction'] = [d(x, y) for x, y in zip(reps_overlap['peaks1_overlap'], reps_overlap['peaks1'])]\n",
    "reps_overlap['peak2_overlap_fraction'] = [d(x, y) for x, y in zip(reps_overlap['peaks2_overlap'], reps_overlap['peaks2'])]\n",
    "\n",
    "reps_overlap['peak1_overlap_fraction_len'] = [\n",
    "    d(x, y) for x, y in zip(reps_overlap['peaks1_overlap_len'], reps_overlap['peaks1_len'])\n",
    "]\n",
    "reps_overlap['peak2_overlap_fraction_len'] = [\n",
    "    d(x, y) for x, y in zip(reps_overlap['peaks2_overlap_len'], reps_overlap['peaks2_len'])\n",
    "]\n",
    "reps_overlap.sample(5)"
   ],
   "metadata": {
    "collapsed": false
   }
  },
  {
   "cell_type": "code",
   "execution_count": null,
   "outputs": [],
   "source": [
    "t = pd.concat([\n",
    "    reps_overlap[\n",
    "        ['modification', 'cell', 'tool', 'peak1_overlap_fraction', 'peak1_overlap_fraction_len']\n",
    "    ].copy().rename(dict(peak1_overlap_fraction='overlap', peak1_overlap_fraction_len='overlap_len'), axis=1),\n",
    "    reps_overlap[\n",
    "        ['modification', 'cell', 'tool', 'peak2_overlap_fraction', 'peak2_overlap_fraction_len']\n",
    "    ].copy().rename(dict(peak2_overlap_fraction='overlap', peak2_overlap_fraction_len='overlap_len'), axis=1)\n",
    "]).reset_index(drop=True)\n",
    "# t"
   ],
   "metadata": {
    "collapsed": false
   }
  },
  {
   "cell_type": "code",
   "execution_count": null,
   "outputs": [],
   "source": [
    "plt.figure(figsize=(6, 4))\n",
    "axs = [plt.subplot(2, 1, i + 1) for i in range(2)]\n",
    "\n",
    "g_result = sns.boxplot(data=t, y='tool', x='overlap', ax=axs[0], palette=TOOLS_PALETTE)\n",
    "ax = g_result.axes\n",
    "ax.set_title('Overlap between H3K4me1 replicates (peaks)')\n",
    "ax.set_xlabel('Fraction')\n",
    "ax.set_ylabel('Tool')\n",
    "\n",
    "g_result = sns.boxplot(data=t, y='tool', x='overlap_len', ax=axs[1], palette=TOOLS_PALETTE)\n",
    "ax = g_result.axes\n",
    "ax.set_title('Overlap between H3K4me1 replicates (length)')\n",
    "ax.set_xlabel('Fraction')\n",
    "ax.set_ylabel('Tool')\n",
    "\n",
    "plt.tight_layout()\n",
    "plt.show()"
   ],
   "metadata": {
    "collapsed": false
   }
  },
  {
   "cell_type": "markdown",
   "source": [
    "## Analyze peaks and diffs"
   ],
   "metadata": {
    "collapsed": false
   }
  },
  {
   "cell_type": "code",
   "execution_count": null,
   "outputs": [],
   "source": [
    "import tempfile\n",
    "from itertools import product\n",
    "\n",
    "tf = tempfile.mktemp()\n",
    "\n",
    "bench_df = pd.DataFrame(\n",
    "    columns=['cell', 'replicate', 'name', 'peaks'],\n",
    "    dtype=object\n",
    ")\n",
    "\n",
    "for c, r in tqdm(product(GSE26320_CELLS, GSE26320_REPS)):\n",
    "    print(c, r)\n",
    "    for tool in set(df_fdr_peaks['tool']):\n",
    "        t = df_fdr_peaks[(df_fdr_peaks['tool'] == tool) & (df_fdr_peaks['modification'] == 'H3K4me1') &\n",
    "                         (df_fdr_peaks['cell'] == c) & (df_fdr_peaks['replicate'] == r)]\n",
    "        if len(t) == 0:\n",
    "            continue\n",
    "        peaks_file = t['file'].values[0]\n",
    "        peaks = lines(peaks_file)\n",
    "        bench_df.loc[len(bench_df)] = (c, r, tool, peaks)\n",
    "# bench_df"
   ],
   "metadata": {
    "collapsed": false
   }
  },
  {
   "cell_type": "code",
   "execution_count": null,
   "outputs": [],
   "source": [
    "TOOLS = list(sorted(set(bench_df['name'])))\n",
    "\n",
    "diff_bench_df = pd.DataFrame(\n",
    "    columns=['cell', 'replicate', 'name', 'peaks'],\n",
    "    dtype=object\n",
    ")\n",
    "\n",
    "tf = tempfile.mktemp()\n",
    "tf2 = tempfile.mktemp()\n",
    "\n",
    "for c, r in tqdm(product(GSE26320_CELLS, GSE26320_REPS)):\n",
    "    print(c, r)\n",
    "    t = df_fdr_peaks[(df_fdr_peaks['tool'] == 'SPAN') & (df_fdr_peaks['modification'] == 'H3K4me1') &\n",
    "                     (df_fdr_peaks['cell'] == c) & (df_fdr_peaks['replicate'] == r)]\n",
    "    if len(t) == 0:\n",
    "        continue\n",
    "    span_file = sorted_file(t['file'].values[0])\n",
    "    # Processing single tools information\n",
    "    for tool in TOOLS:\n",
    "        if tool == 'SPAN':\n",
    "            continue\n",
    "        t = df_fdr_peaks[(df_fdr_peaks['tool'] == tool) & (df_fdr_peaks['modification'] == 'H3K4me1') &\n",
    "                         (df_fdr_peaks['cell'] == c) & (df_fdr_peaks['replicate'] == r)]\n",
    "        if len(t) == 0:\n",
    "            continue\n",
    "        peaks_file = sorted_file(t['file'].values[0])\n",
    "        for name, args in [\n",
    "            (f'SPAN - {tool}', f' -a {span_file} -b {peaks_file} '),\n",
    "            (f'{tool} - SPAN', f' -b {span_file} -a {peaks_file} ')]:\n",
    "            !bedtools intersect {args} -wa -v > {tf}\n",
    "            peaks = lines(tf)\n",
    "            diff_bench_df.loc[len(diff_bench_df)] = (c, r, name, peaks)\n",
    "\n",
    "# display(diff_bench_df.head())"
   ],
   "metadata": {
    "collapsed": false
   }
  },
  {
   "cell_type": "code",
   "execution_count": null,
   "outputs": [],
   "source": [
    "full_bench_df = pd.concat([\n",
    "    bench_df[['cell', 'replicate', 'name', 'peaks']],\n",
    "    diff_bench_df[['cell', 'replicate', 'name', 'peaks']]]).reset_index(drop=True)\n",
    "full_bench_df.sample(10)"
   ],
   "metadata": {
    "collapsed": false
   }
  },
  {
   "cell_type": "code",
   "execution_count": null,
   "outputs": [],
   "source": [
    "plt.figure(figsize=(4, 4))\n",
    "ax = plt.axes()\n",
    "ax.title.set_text('Peaks number')\n",
    "g_results = sns.barplot(data=full_bench_df, x='name', y='peaks',\n",
    "                        ax=ax,\n",
    "                        capsize=.2, errwidth=2,\n",
    "                        order=['MACS2', 'MACS2 broad', 'SICER', 'SPAN',\n",
    "                               'SPAN - MACS2', 'SPAN - MACS2 broad', 'SPAN - SICER',\n",
    "                               'MACS2 - SPAN', 'MACS2 broad - SPAN', 'SICER - SPAN',\n",
    "                               ]\n",
    "                        )\n",
    "ax.xaxis.set_tick_params(rotation=90)\n",
    "ax.set_ylabel('Peaks number')\n",
    "plt.tight_layout()\n",
    "plt.show()"
   ],
   "metadata": {
    "collapsed": false
   }
  },
  {
   "cell_type": "code",
   "execution_count": null,
   "outputs": [],
   "source": [],
   "metadata": {
    "collapsed": false
   }
  }
 ],
 "metadata": {
  "anaconda-cloud": {},
  "kernelspec": {
   "display_name": "Python 3",
   "language": "python",
   "name": "python3"
  },
  "language_info": {
   "codemirror_mode": {
    "name": "ipython",
    "version": 3
   },
   "file_extension": ".py",
   "mimetype": "text/x-python",
   "name": "python",
   "nbconvert_exporter": "python",
   "pygments_lexer": "ipython3",
   "version": "3.8.5"
  },
  "toc": {
   "nav_menu": {},
   "number_sections": true,
   "sideBar": true,
   "skip_h1_title": false,
   "toc_cell": false,
   "toc_position": {},
   "toc_section_display": "block",
   "toc_window_display": false
  }
 },
 "nbformat": 4,
 "nbformat_minor": 2
}
