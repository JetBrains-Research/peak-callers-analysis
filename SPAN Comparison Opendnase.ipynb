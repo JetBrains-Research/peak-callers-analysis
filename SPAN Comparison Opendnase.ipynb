{
 "cells": [
  {
   "cell_type": "markdown",
   "metadata": {},
   "source": [
    "# Comparison of span vs other peak calling tools\n",
    "\n",
    "## Сomparison method\n",
    "\n",
    "Method based on F score described in original paper:\n",
    "Koohy H, Down TA, Spivakov M, Hubbard T (2014) \n",
    "A Comparison of Peak Callers Used for DNase-Seq Data. \n",
    "PLoS ONE 9(5): e96303. doi:10.1371/journal.pone.0096303\n",
    "\n",
    "http://journals.plos.org/plosone/article?id=10.1371/journal.pone.0096303\n",
    "\n",
    "## Requirements\n",
    "\n",
    "* span-0.11.*.jar\n",
    "* java8\n",
    "* bedtools\n",
    "* wget\n",
    "* awk\n",
    "* ~20G free space to download all the required bed and bam files"
   ]
  },
  {
   "cell_type": "code",
   "execution_count": null,
   "metadata": {
    "collapsed": true
   },
   "outputs": [],
   "source": [
    "import os\n",
    "import sys\n",
    "from os import listdir\n",
    "def run(cmd):\n",
    "    print(cmd)\n",
    "    if os.system(cmd) != 0:\n",
    "        sys.exit(1)"
   ]
  },
  {
   "cell_type": "markdown",
   "metadata": {},
   "source": [
    "Lets download all the \"Reference peaks set\" mentioned in http://journals.plos.org/plosone/article?id=10.1371/journal.pone.0096303\n",
    "\n"
   ]
  },
  {
   "cell_type": "code",
   "execution_count": null,
   "metadata": {
    "collapsed": false
   },
   "outputs": [],
   "source": [
    "run('wget \"http://journals.plos.org/plosone/article/asset?unique&id=info:doi/10.1371/journal.pone.0096303.s007\" \\\n",
    "-O supplementary.zip')\n",
    "run('unzip -x supplementary.zip')"
   ]
  },
  {
   "cell_type": "markdown",
   "metadata": {},
   "source": [
    "Now that we have Supplemetary_Data/GM12878.txt, etc, we can download all the peaks automatically.\n",
    "Files are available here: http://journals.plos.org/plosone/article/asset?unique&id=info:doi/10.1371/journal.pone.0096303.s007"
   ]
  },
  {
   "cell_type": "code",
   "execution_count": null,
   "metadata": {
    "collapsed": false
   },
   "outputs": [],
   "source": [
    "import pandas as pd\n",
    "RESOURCE = 'http://hgdownload.cse.ucsc.edu/goldenPath/hg19/encodeDCC/wgEncodeSydhTfbs'\n",
    "CELLS = ['GM12878', 'HelaS3', 'K562']\n",
    "for cell in CELLS:\n",
    "    print \"Processing {0}\".format(cell)\n",
    "    os.mkdir(cell)\n",
    "    df = pd.read_csv('Supplementary_Data/{0}.txt'.format(cell), sep=' ', header=None)\n",
    "    df.columns = ['file', 'checksum']\n",
    "    for f in df['file']:\n",
    "        run('wget {0}/{1} -P {2}'.format(RESOURCE, f, cell))"
   ]
  },
  {
   "cell_type": "markdown",
   "metadata": {},
   "source": [
    "Now we should all the refernce peaks using Bedops as described in the article, however Bedops FAILS with segfault.\n",
    "\n",
    "Bedtools for the rescue!"
   ]
  },
  {
   "cell_type": "code",
   "execution_count": null,
   "metadata": {
    "collapsed": false
   },
   "outputs": [],
   "source": [
    "# Lets merge them and filter chr22 to get reference peaks\n",
    "CELLS = ['GM12878', 'HelaS3', 'K562']\n",
    "run('mkdir peaks')\n",
    "for cell in CELLS:\n",
    "    run('cat {0}/*.gz > {0}_all.bed'.format(cell))\n",
    "    run('bedtools sort -i {0}_all.bed > {0}_sorted.bed'.format(cell))\n",
    "    run('bedtools merge -i {0}_sorted.bed > {0}_peaks.bed'.format(cell))\n",
    "    run('awk \\'$1==\"chr22\" {{print}}\\' {0}_peaks.bed > peaks/{0}_peaks_chr22.bed'.format(cell))\n",
    "run('rm *_all.bed *_sorted.bed *_peaks.bed')"
   ]
  },
  {
   "cell_type": "markdown",
   "metadata": {},
   "source": [
    "Download and convert reads."
   ]
  },
  {
   "cell_type": "code",
   "execution_count": null,
   "metadata": {
    "collapsed": false
   },
   "outputs": [],
   "source": [
    "run('wget http://hgdownload.cse.ucsc.edu/goldenPath/hg19/encodeDCC/wgEncodeUwDnase/\\\n",
    "wgEncodeUwDnaseK562AlnRep1.bam -O K562.bam')\n",
    "run('wget http://hgdownload.cse.ucsc.edu/goldenPath/hg19/encodeDCC/wgEncodeUwDnase/\\\n",
    "wgEncodeUwDnaseGm12878AlnRep1.bam -O GM12878.bam')\n",
    "run('wget http://hgdownload.cse.ucsc.edu/goldenPath/hg19/encodeDCC/wgEncodeUwDnase/\\\n",
    "wgEncodeUwDnaseHelas3AlnRep1.bam -O HelaS3.bam')\n",
    "\n",
    "# Lets convert downloaded bam files to bed\n",
    "for bam in [f for f in listdir('.') if f.endswith(\".bam\")]:\n",
    "    run('bamToBed -bed12 -i {0} > {0}.bed'.format(bam))"
   ]
  },
  {
   "cell_type": "markdown",
   "metadata": {},
   "source": [
    "Now we can launch span to get enrichment for obtained bed tracks."
   ]
  },
  {
   "cell_type": "code",
   "execution_count": null,
   "metadata": {
    "collapsed": false
   },
   "outputs": [],
   "source": [
    "run ('wget http://hgdownload.soe.ucsc.edu/goldenPath/hg19/bigZips/hg19.2bit')\n",
    "run('mkdir span')\n",
    "FDRS = [0.001, 0.005, 0.01, 0.02, 0.03, 0.04, 0.05, 0.06, 0.07, 0.08, 0.09, 0.1, 0.2, 0.3]\n",
    "for reads in [f for f in listdir('.') if f.endswith(\".bam.bed\")]:\n",
    "    for fdr in FDRS: \n",
    "        print 'Processing {0} FDR={1}'.format(reads, fdr)\n",
    "        run('java -jar span-0.11.jar analyze -r ./hg19.2bit \\\n",
    "-i {0} --bed span/{0}_{1}_span_chr22.bed --fdr {1} --only chr22'.format(reads, fdr))"
   ]
  },
  {
   "cell_type": "markdown",
   "metadata": {},
   "source": [
    "Let us perform intersection of reference peaks with span ones."
   ]
  },
  {
   "cell_type": "code",
   "execution_count": null,
   "metadata": {
    "collapsed": false
   },
   "outputs": [],
   "source": [
    "import pandas as pd\n",
    "\n",
    "def bed_length(cell_file):\n",
    "    run('awk \\'{{SUM += $3-$2}} END {{print SUM}}\\' {0} > length_file.txt'.format(cell_file))\n",
    "    l = pd.read_csv('length_file.txt', header=None)[0][0]\n",
    "    run('rm length_file.txt')\n",
    "    return l\n",
    "    \n",
    "from pandas import DataFrame\n",
    "results = DataFrame(columns=['cell', 'fdr', 'ref_length', 'span_length', 'intersection_length'])\n",
    "for cell in CELLS:\n",
    "    cell_file = 'peaks/{0}_peaks_chr22.bed'.format(cell)\n",
    "    cell_peaks_length = bed_length(cell_file)    \n",
    "    \n",
    "    for reads in [f for f in listdir('.') if f.endswith(\".bam.bed\")]:\n",
    "        for fdr in FDRS: \n",
    "            file = 'span/{0}_{1}_span_chr22.bed'.format(reads, fdr)\n",
    "            if (cell not in file):\n",
    "                continue\n",
    "            span_length = bed_length(file)\n",
    "            intersection_file = 'peaks/intersection_{0}_{1}.bed'.format(cell, fdr)\n",
    "            run('bedtools intersect -a {0} -b {1} > {2}'.format(cell_file, file, intersection_file))\n",
    "            intersection_length = bed_length(intersection_file)\n",
    "            results.loc[len(results)] = [cell, fdr, cell_peaks_length, span_length, intersection_length]"
   ]
  },
  {
   "cell_type": "markdown",
   "metadata": {},
   "source": [
    "Now that we have both reference peaks, span output and their intersection length, we can compute `TP`, `FP` and `FN` values."
   ]
  },
  {
   "cell_type": "code",
   "execution_count": null,
   "metadata": {
    "collapsed": false
   },
   "outputs": [],
   "source": [
    "results['TP'] = results['intersection_length']\n",
    "results['FP'] = results['span_length'] - results['intersection_length']\n",
    "results['FN'] = results['ref_length'] - results['intersection_length']\n",
    "results['Spec'] = results['TP'] / (results['TP'] + results['FP'])\n",
    "results['Sen'] = results['TP'] / (results['TP'] + results['FN'])\n",
    "results.head(1)"
   ]
  },
  {
   "cell_type": "code",
   "execution_count": 10,
   "metadata": {
    "collapsed": false
   },
   "outputs": [
    {
     "data": {
      "image/png": "[encoded data removed]",
      "text/plain": [
       "<matplotlib.figure.Figure at 0x7ff44afdbd90>"
      ]
     },
     "metadata": {},
     "output_type": "display_data"
    }
   ],
   "source": [
    "CELLS = ['GM12878', 'HelaS3', 'K562']\n",
    "def Fb(b, spec, sen):\n",
    "    return (1 + b*b) * spec * sen / (b * b * spec + sen)\n",
    "\n",
    "Beta = 0.5\n",
    "%matplotlib inline\n",
    "import matplotlib.pyplot as plt\n",
    "colors = {'GM12878': 'red', 'K562': 'blue', 'HelaS3':'violet'}\n",
    "plt.title('SPAN')\n",
    "plt.xlabel('threshold')\n",
    "plt.ylabel('F_0.5')\n",
    "for cell in CELLS:\n",
    "    r = results[results['cell'] == cell]\n",
    "    plt.plot(r['fdr'], Fb(Beta, r['Spec'], r['Sen']), linewidth=3.0, c=colors[cell], label=cell)\n",
    "plt.axvline(x=0.05, linewidth=3.0, c='grey', linestyle='--')\n",
    "plt.legend()\n",
    "plt.show()"
   ]
  },
  {
   "cell_type": "markdown",
   "metadata": {},
   "source": [
    "### Now we are ready to compare performance score F\n",
    "<img src=\"http://journals.plos.org/plosone/article/figure/image?size=large&id=info:doi/10.1371/journal.pone.0096303.g006\">"
   ]
  },
  {
   "cell_type": "markdown",
   "metadata": {},
   "source": []
  }
 ],
 "metadata": {
  "kernelspec": {
   "display_name": "Python 2",
   "language": "python",
   "name": "python2"
  },
  "language_info": {
   "codemirror_mode": {
    "name": "ipython",
    "version": 2
   },
   "file_extension": ".py",
   "mimetype": "text/x-python",
   "name": "python",
   "nbconvert_exporter": "python",
   "pygments_lexer": "ipython2",
   "version": "2.7.6"
  },
  "pycharm": {
   "stem_cell": {
    "cell_type": "raw",
    "source": [],
    "metadata": {
     "collapsed": false
    }
   }
  }
 },
 "nbformat": 4,
 "nbformat_minor": 0
}