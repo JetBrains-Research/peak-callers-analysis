{
 "cells": [
  {
   "cell_type": "markdown",
   "metadata": {},
   "source": [
    "# SPAN Benchmarks H3K27ac vs DHS"
   ]
  },
  {
   "cell_type": "code",
   "execution_count": null,
   "metadata": {
    "ExecuteTime": {
     "start_time": "2023-05-16T22:57:16.711379Z",
     "end_time": "2023-05-16T22:57:17.356198Z"
    }
   },
   "outputs": [],
   "source": [
    "%matplotlib inline\n",
    "%config InlineBackend.figure_format='retina'\n",
    "\n",
    "import pandas as pd\n",
    "import seaborn as sns\n",
    "from IPython.display import display\n",
    "from tqdm.auto import tqdm\n",
    "\n",
    "sns.set_style(\"whitegrid\")\n",
    "import matplotlib.pyplot as plt\n",
    "import numpy as np\n",
    "import statsmodels as statsmodels\n",
    "import os"
   ]
  },
  {
   "cell_type": "code",
   "execution_count": null,
   "outputs": [],
   "source": [
    "def bedl(file):\n",
    "    try:\n",
    "        tf = pd.read_csv(file, sep='\\t', header=None)\n",
    "        return tf[2] - tf[1]\n",
    "    except:\n",
    "        return np.zeros(0)  # Empty file\n",
    "\n",
    "\n",
    "def lines(file):\n",
    "    try:\n",
    "        tf = pd.read_csv(file, sep='\\t', header=None)\n",
    "        return len(tf)\n",
    "    except:\n",
    "        return 0  # Empty file\n",
    "\n",
    "\n",
    "def d(a, b):\n",
    "    return a / b if b != 0 else 0\n",
    "\n",
    "def last_col(file):\n",
    "    try:\n",
    "        cols = len(pd.read_csv(file, sep='\\t', nrows=1, header=None).columns)\n",
    "        return pd.read_csv(file, sep='\\t', header=None, usecols=[cols - 1])[cols - 1]\n",
    "    except:\n",
    "        return np.zeros(0)  # Empty file\n",
    "\n",
    "def sorted_file(file):\n",
    "    ts = tempfile.mktemp()\n",
    "    !cat {file} | sort -k1,1 -k2,2n > {ts}\n",
    "    return ts"
   ],
   "metadata": {
    "collapsed": false,
    "ExecuteTime": {
     "start_time": "2023-05-16T22:57:16.746543Z",
     "end_time": "2023-05-16T22:57:17.356435Z"
    }
   }
  },
  {
   "cell_type": "markdown",
   "source": [
    "# Load hg38 peaks\n"
   ],
   "metadata": {
    "collapsed": false
   }
  },
  {
   "cell_type": "code",
   "execution_count": null,
   "outputs": [],
   "source": [
    "GSE26320_PATH_HG38 = os.path.expanduser('~/data/2023_GSE26320')\n",
    "GSE26320_CELLS = ['GM12878', 'HMEC', 'HSMM', 'K562', 'NHEK', 'NHLF', 'H1', 'Huvec', 'HepG2']\n",
    "# GSE26320_CELLS = ['GM12878',  'K562', 'H1']\n",
    "# GSE26320_MODIFICATIONS = ['CTCF', 'H3K27ac', 'H3K27me3', 'H3K36me3', 'H3K4me1', 'H3K4me2', 'H3K4me3', 'H3K9ac', 'H4K20me1']\n",
    "GSE26320_MODIFICATIONS = ['H3K27ac']\n",
    "GSE26320_REPS = ['rep1', 'rep2']\n",
    "\n",
    "! mkdir -p {GSE26320_PATH_HG38}/pics"
   ],
   "metadata": {
    "collapsed": false,
    "ExecuteTime": {
     "start_time": "2023-05-16T22:57:16.749834Z",
     "end_time": "2023-05-16T22:57:17.734136Z"
    }
   }
  },
  {
   "cell_type": "code",
   "execution_count": null,
   "outputs": [],
   "source": [
    "def load_peaks_fdr(path, suffix, fdrs):\n",
    "    df_fdr = pd.DataFrame(columns=['file', 'modification', 'cell', 'replicate', 'fdr', 'peaks', 'avlength'],\n",
    "                          dtype=object)\n",
    "    for f in tqdm(os.listdir(path)):\n",
    "        if suffix not in f:\n",
    "            continue\n",
    "        fdr = next((fdr for fdr in fdrs if fdr in f), None)\n",
    "        cell = next((cc for cc in GSE26320_CELLS if cc in f), None)\n",
    "        mod = next((m for m in GSE26320_MODIFICATIONS if m in f), None)\n",
    "        rep = next((r for r in GSE26320_REPS if r in f), None)\n",
    "        if fdr and cell and rep and mod:\n",
    "            peaks_path = os.path.join(path, f)\n",
    "            ps, ls = lines(peaks_path), bedl(peaks_path)\n",
    "            avls = 0 if ps == 0 else sum(ls) / ps\n",
    "            df_fdr.loc[len(df_fdr)] = (f, mod, cell, rep, fdr, ps, avls)\n",
    "    return df_fdr"
   ],
   "metadata": {
    "collapsed": false,
    "ExecuteTime": {
     "start_time": "2023-05-16T22:57:16.930350Z",
     "end_time": "2023-05-16T22:57:17.734254Z"
    }
   }
  },
  {
   "cell_type": "code",
   "execution_count": null,
   "outputs": [],
   "source": [
    "df_fdr_macs2 = load_peaks_fdr(os.path.join(GSE26320_PATH_HG38, 'macs2'), '.narrowPeak', ['0.05'])\n",
    "df_fdr_macs2['file'] = [f'{GSE26320_PATH_HG38}/macs2/{f}' for f in df_fdr_macs2['file']]\n",
    "df_fdr_macs2['tool'] = 'MACS2'\n",
    "print('MACS2', len(df_fdr_macs2))\n",
    "\n",
    "df_fdr_macs2broad = load_peaks_fdr(os.path.join(GSE26320_PATH_HG38, 'macs2'), '.broadPeak', ['0.1'])\n",
    "df_fdr_macs2broad['file'] = [f'{GSE26320_PATH_HG38}/macs2/{f}' for f in df_fdr_macs2broad['file']]\n",
    "df_fdr_macs2broad['tool'] = 'MACS2 broad'\n",
    "print('MACS2 broad', len(df_fdr_macs2broad))\n",
    "\n",
    "df_fdr_sicer = load_peaks_fdr(os.path.join(GSE26320_PATH_HG38, 'sicer'), 'summary-FDR', ['0.01'])\n",
    "df_fdr_sicer['file'] = [f'{GSE26320_PATH_HG38}/sicer/{f}' for f in df_fdr_sicer['file']]\n",
    "df_fdr_sicer['tool'] = 'SICER'\n",
    "print('SICER', len(df_fdr_sicer))\n",
    "\n",
    "df_fdr_span = load_peaks_fdr(os.path.join(GSE26320_PATH_HG38, 'span'), '.peak', ['0.05'])\n",
    "df_fdr_span['file'] = [f'{GSE26320_PATH_HG38}/span/{f}' for f in df_fdr_span['file']]\n",
    "df_fdr_span['tool'] = 'SPAN'\n",
    "print('SPAN', len(df_fdr_span))\n",
    "\n",
    "TOOLS = ['MACS2', 'MACS2 broad', 'SICER', 'SPAN']\n",
    "df_fdr_peaks = pd.concat([df_fdr_macs2, df_fdr_macs2broad, df_fdr_sicer, df_fdr_span])\n",
    "df_fdr_peaks.sample(5)"
   ],
   "metadata": {
    "collapsed": false,
    "ExecuteTime": {
     "start_time": "2023-05-16T22:57:16.935884Z",
     "end_time": "2023-05-16T22:57:25.030350Z"
    }
   }
  },
  {
   "cell_type": "code",
   "execution_count": null,
   "outputs": [],
   "source": [
    "TOOLS = ['MACS2', 'MACS2 broad', 'SPAN', 'SICER', 'DNAse']\n",
    "palette = plt.cm.get_cmap('tab10')\n",
    "TOOLS_PALETTE = {t: palette(i) for i, t in enumerate(TOOLS)}"
   ],
   "metadata": {
    "collapsed": false,
    "ExecuteTime": {
     "start_time": "2023-05-16T22:57:25.029242Z",
     "end_time": "2023-05-16T22:57:25.030418Z"
    }
   }
  },
  {
   "cell_type": "code",
   "execution_count": null,
   "outputs": [],
   "source": [
    "plt.figure(figsize=(3, 4))\n",
    "ax = plt.axes()\n",
    "g_results = sns.barplot(data=df_fdr_peaks, x='tool', y='peaks', ax=ax,\n",
    "                        capsize=.2, errwidth=2, edgecolor=\"black\",\n",
    "                        palette=TOOLS_PALETTE,\n",
    "                        order=['MACS2', 'MACS2 broad', 'SPAN', 'SICER'])\n",
    "ax.xaxis.set_tick_params(rotation=90)\n",
    "ax.title.set_text('H3K27ac peaks number')\n",
    "plt.show()"
   ],
   "metadata": {
    "collapsed": false,
    "ExecuteTime": {
     "start_time": "2023-05-16T22:57:25.029279Z",
     "end_time": "2023-05-16T22:57:25.478779Z"
    }
   }
  },
  {
   "cell_type": "code",
   "execution_count": null,
   "outputs": [],
   "source": [
    "DNASE = {\n",
    "    ('GM12878', 'rep1') : GSE26320_PATH_HG38 + '/dnaseq/GM12878_rep1_DNAseq_hg38_ENCFF759OLD.bed',\n",
    "    ('GM12878', 'rep2'): GSE26320_PATH_HG38 + '/dnaseq/GM12878_rep2_DNAseq_hg38_ENCFF338SAU.bed',\n",
    "    ('H1', 'rep1') : GSE26320_PATH_HG38 + '/dnaseq/H1_rep1_DNAseq_hg38_ENCFF983UCL.bed',\n",
    "    ('HMEC', 'rep1') : GSE26320_PATH_HG38 + '/dnaseq/HMEC_rep1_DNAseq_hg38_ENCFF687TIG.bed',\n",
    "    ('HSMM', 'rep1') : GSE26320_PATH_HG38 + '/dnaseq/HSMM_rep1_DNAseq_hg38_ENCFF647RNC.bed',\n",
    "    ('HSMM', 'rep2') : GSE26320_PATH_HG38 + '/dnaseq/HSMM_rep2_DNAseq_hg38_ENCFF711DSC.bed',\n",
    "    ('HepG2', 'rep1') : GSE26320_PATH_HG38 + '/dnaseq/HepG2_rep1_DNAseq_hg38_ENCFF453AEP.bed',\n",
    "    ('HepG2', 'rep2') : GSE26320_PATH_HG38 + '/dnaseq/HepG2_rep2_DNAseq_hg38_ENCFF897NME.bed',\n",
    "    ('Huvec', 'rep1') : GSE26320_PATH_HG38 + '/dnaseq/Huvec_rep1_DNAseq_hg38_ENCFF080VVT.bed',\n",
    "    ('Huvec', 'rep2') : GSE26320_PATH_HG38 + '/dnaseq/Huvec_rep2_DNAseq_hg38_ENCFF887HZL.bed',\n",
    "    ('NHEK', 'rep1') : GSE26320_PATH_HG38 + '/dnaseq/NHEK_rep1_DNAseq_hg38_ENCFF011WVC.bed',\n",
    "    ('NHEK', 'rep2') : GSE26320_PATH_HG38 + '/dnaseq/NHEK_rep2_DNAseq_hg38_ENCFF358VOS.bed',\n",
    "    ('NHLF', 'rep1') : GSE26320_PATH_HG38 + '/dnaseq/NHLF_rep1_DNAseq_hg38_ENCFF645AAM.bed',\n",
    "    ('NHLF', 'rep2') : GSE26320_PATH_HG38 + '/dnaseq/NHLF_rep2_DNAseq_hg38_ENCFF641BGM.bed'\n",
    "}\n",
    "\n",
    "for (cell, rep), dnase_file in DNASE.items():\n",
    "    print(cell, rep, lines(dnase_file))"
   ],
   "metadata": {
    "collapsed": false,
    "ExecuteTime": {
     "start_time": "2023-05-16T22:57:25.474744Z",
     "end_time": "2023-05-16T22:57:27.032973Z"
    }
   }
  },
  {
   "cell_type": "code",
   "execution_count": null,
   "outputs": [],
   "source": [
    "print('Load lengths')\n",
    "ts = []\n",
    "for dnase_file in DNASE.values():\n",
    "    t = pd.read_csv(dnase_file, sep='\\t', header=None)\n",
    "    ts.append(pd.DataFrame(dict(tool=['DNAse'] * len(t), length=t[2]-t[1])))\n",
    "for file, tool in tqdm(zip(df_fdr_peaks['file'], df_fdr_peaks['tool'])):\n",
    "    lengths = bedl(file)\n",
    "    t = pd.DataFrame(dict(tool=[tool] * len(lengths), length=lengths))\n",
    "    ts.append(t.sample(min(len(t), 10_000)))\n",
    "t = pd.concat(ts).reset_index(drop=True)\n",
    "del ts\n",
    "t.sample(10)"
   ],
   "metadata": {
    "collapsed": false,
    "ExecuteTime": {
     "start_time": "2023-05-16T22:57:27.031469Z",
     "end_time": "2023-05-16T22:57:33.762841Z"
    }
   }
  },
  {
   "cell_type": "code",
   "execution_count": null,
   "outputs": [],
   "source": [
    "plt.figure(figsize=(4, 4))\n",
    "ax = plt.axes()\n",
    "g_results = sns.boxplot(data=t, x='tool', y='length', ax=ax,\n",
    "                        palette=TOOLS_PALETTE,\n",
    "                        order=TOOLS,\n",
    "                        showfliers=False)\n",
    "ax.title.set_text('H3K27ac peaks length')\n",
    "ax.xaxis.set_tick_params(rotation=90)\n",
    "ax.set_ylim([0, 8000])\n",
    "plt.show()"
   ],
   "metadata": {
    "collapsed": false,
    "ExecuteTime": {
     "start_time": "2023-05-16T22:57:33.754931Z",
     "end_time": "2023-05-16T22:57:34.930428Z"
    }
   }
  },
  {
   "cell_type": "code",
   "execution_count": null,
   "outputs": [],
   "source": [
    "plt.figure(figsize=(4, 3))\n",
    "ax = plt.axes()\n",
    "g_results = sns.histplot(data=t, x='length', hue='tool', ax=ax,\n",
    "                         stat='density', common_bins=False, common_norm=False,\n",
    "                         bins=35, kde=True, log_scale=True, alpha=0.2,\n",
    "                         palette=TOOLS_PALETTE,\n",
    "                         hue_order=TOOLS)\n",
    "g_results.set(xscale='log')\n",
    "g_results.set_ylim(0, 5)\n",
    "g_results.set_xlim(1e2, 2e4)\n",
    "ax.title.set_text('Peaks length')\n",
    "plt.tight_layout()\n",
    "plt.savefig(f'{GSE26320_PATH_HG38}/pics/H3K27ac_lengths.pdf', bbox_inches='tight', dpi=300)\n",
    "plt.show()"
   ],
   "metadata": {
    "collapsed": false,
    "ExecuteTime": {
     "start_time": "2023-05-16T22:57:34.893249Z",
     "end_time": "2023-05-16T22:57:51.453721Z"
    }
   }
  },
  {
   "cell_type": "code",
   "execution_count": null,
   "outputs": [],
   "source": [
    "t = []\n",
    "for file, tool in tqdm(zip(df_fdr_peaks['file'], df_fdr_peaks['tool'])):\n",
    "    coverage = bedl(file).sum()\n",
    "    t.append((tool, coverage))\n",
    "t = pd.DataFrame(data=t, columns=['tool', 'coverage'])\n",
    "t.sample(3)"
   ],
   "metadata": {
    "collapsed": false,
    "ExecuteTime": {
     "start_time": "2023-05-16T22:57:51.452451Z",
     "end_time": "2023-05-16T22:57:53.728649Z"
    }
   }
  },
  {
   "cell_type": "code",
   "execution_count": null,
   "outputs": [],
   "source": [
    "plt.figure(figsize=(3, 4))\n",
    "ax = plt.axes()\n",
    "g_results = sns.barplot(data=t, x='tool', y='coverage', ax=ax,\n",
    "                        capsize=.2, errwidth=2, edgecolor=\"black\",\n",
    "                        palette=TOOLS_PALETTE,\n",
    "                        order=['MACS2', 'MACS2 broad', 'SPAN', 'SICER'])\n",
    "ax.xaxis.set_tick_params(rotation=90)\n",
    "ax.title.set_text('Peaks footprint')\n",
    "ax.set_ylabel('Basepairs')\n",
    "plt.tight_layout()\n",
    "plt.savefig(f'{GSE26320_PATH_HG38}/pics/H3K27ac_sumlength.pdf', bbox_inches='tight', dpi=300)\n",
    "plt.show()"
   ],
   "metadata": {
    "collapsed": false,
    "ExecuteTime": {
     "start_time": "2023-05-16T22:57:53.729576Z",
     "end_time": "2023-05-16T22:57:54.019627Z"
    }
   }
  },
  {
   "cell_type": "markdown",
   "source": [
    "# Consistency analysis between replicates"
   ],
   "metadata": {
    "collapsed": false
   }
  },
  {
   "cell_type": "code",
   "execution_count": null,
   "outputs": [],
   "source": [
    "import tempfile\n",
    "from itertools import product\n",
    "\n",
    "reps_overlap = pd.DataFrame(columns=['modification', 'cell', 'tool', 'rep1', 'rep2',\n",
    "                                     'peaks1', 'peaks1_len', 'peaks2', 'peaks2_len',\n",
    "                                     'peaks1_overlap', 'peaks1_overlap_len',\n",
    "                                     'peaks2_overlap', 'peaks2_overlap_len'], dtype=object)\n",
    "\n",
    "tf = tempfile.mktemp()\n",
    "\n",
    "tools = list(sorted(set(df_fdr_peaks['tool'])))\n",
    "for c, m in tqdm(product(GSE26320_CELLS, GSE26320_MODIFICATIONS)):\n",
    "    print(c, m)\n",
    "    tm = df_fdr_peaks[(df_fdr_peaks['cell'] == c) & (df_fdr_peaks['modification'] == m)]\n",
    "    reps = list(sorted(set(tm['replicate'])))\n",
    "    for tool in tools:\n",
    "        for i in range(len(reps)):\n",
    "            for j in range(i + 1, len(reps)):\n",
    "                rep1, rep2 = reps[i], reps[j]\n",
    "                t1 = tm[(tm['tool'] == tool) & (tm['replicate'] == rep1)]\n",
    "                t2 = tm[(tm['tool'] == tool) & (tm['replicate'] == rep2)]\n",
    "                file1 = sorted_file(t1['file'].values[0])\n",
    "                file2 = sorted_file(t2['file'].values[0])\n",
    "                peaks1 = t1['peaks'].values[0]\n",
    "                peaks1_len = int(bedl(file1).sum())\n",
    "                peaks2 = t2['peaks'].values[0]\n",
    "                peaks2_len = int(bedl(file2).sum())\n",
    "                !bedtools intersect -a {file1} -b {file2} -wa -u > {tf}\n",
    "                overlap1 = lines(tf)\n",
    "                !bedtools intersect -b {file1} -a {file2} -wa -u > {tf}\n",
    "                overlap2 = lines(tf)\n",
    "                !bedtools intersect -a {file1} -b {file2} -wo > {tf}\n",
    "                overlap1_len = overlap2_len = int(last_col(tf).sum())\n",
    "\n",
    "                reps_overlap.loc[len(reps_overlap)] = \\\n",
    "                    (m, c, tool, rep1, rep2, peaks1, peaks1_len, peaks2, peaks2_len,\n",
    "                     overlap1, overlap1_len, overlap2, overlap2_len)\n",
    "reps_overlap.sample(5)"
   ],
   "metadata": {
    "collapsed": false,
    "ExecuteTime": {
     "start_time": "2023-05-16T22:57:53.988309Z",
     "end_time": "2023-05-16T22:58:54.031946Z"
    }
   }
  },
  {
   "cell_type": "code",
   "execution_count": null,
   "outputs": [],
   "source": [
    "reps_overlap['jaccard'] = [\n",
    "    d(lo, l1 + l2 - lo)\n",
    "    for l1, l2, lo in zip(reps_overlap['peaks1_len'], reps_overlap['peaks2_len'], reps_overlap['peaks1_overlap_len'])\n",
    "]\n",
    "\n",
    "plt.figure(figsize=(6, 2))\n",
    "\n",
    "g_result = sns.boxplot(data=reps_overlap, y='tool', x='jaccard',\n",
    "                       palette=TOOLS_PALETTE,\n",
    "                       order=['MACS2', 'MACS2 broad', 'SPAN', 'SICER'],\n",
    "                       showfliers=False)\n",
    "ax = g_result.axes\n",
    "ax.set_title('Jaccard between H3K27ac replicates')\n",
    "ax.set_xlabel('Jaccard')\n",
    "ax.set_ylabel('Tool')\n",
    "plt.tight_layout()\n",
    "plt.savefig(f'{GSE26320_PATH_HG38}/pics/H3K27ac_replicates.pdf', bbox_inches='tight', dpi=300)\n",
    "plt.show()"
   ],
   "metadata": {
    "collapsed": false,
    "ExecuteTime": {
     "start_time": "2023-05-16T22:58:54.033884Z",
     "end_time": "2023-05-16T22:58:54.495160Z"
    }
   }
  },
  {
   "cell_type": "code",
   "execution_count": null,
   "outputs": [],
   "source": [
    "from scipy.stats import wilcoxon\n",
    "from scipy.stats import mannwhitneyu\n",
    "\n",
    "jaccard_macs2 = reps_overlap[reps_overlap['tool'] == 'MACS2']['jaccard'].values\n",
    "jaccard_macs2broad = reps_overlap[reps_overlap['tool'] == 'MACS2 broad']['jaccard'].values\n",
    "jaccard_sicer = reps_overlap[reps_overlap['tool'] == 'SICER']['jaccard'].values\n",
    "jaccard_span = reps_overlap[reps_overlap['tool'] == 'SPAN']['jaccard'].values\n",
    "\n",
    "print(wilcoxon(jaccard_span, jaccard_macs2))\n",
    "print(wilcoxon(jaccard_span, jaccard_macs2broad))\n",
    "print(wilcoxon(jaccard_span, jaccard_sicer))\n",
    "\n",
    "print(mannwhitneyu(jaccard_span, jaccard_macs2))\n",
    "print(mannwhitneyu(jaccard_span, jaccard_macs2broad))\n",
    "print(mannwhitneyu(jaccard_span, jaccard_sicer))"
   ],
   "metadata": {
    "collapsed": false,
    "ExecuteTime": {
     "start_time": "2023-05-16T22:58:54.494851Z",
     "end_time": "2023-05-16T22:58:54.495282Z"
    }
   }
  },
  {
   "cell_type": "code",
   "execution_count": null,
   "outputs": [],
   "source": [
    "reps_overlap['peak1_overlap_fraction'] = [d(x, y) for x, y in zip(reps_overlap['peaks1_overlap'], reps_overlap['peaks1'])]\n",
    "reps_overlap['peak2_overlap_fraction'] = [d(x, y) for x, y in zip(reps_overlap['peaks2_overlap'], reps_overlap['peaks2'])]\n",
    "\n",
    "reps_overlap['peak1_overlap_fraction_len'] = [\n",
    "    d(x, y) for x, y in zip(reps_overlap['peaks1_overlap_len'], reps_overlap['peaks1_len'])\n",
    "]\n",
    "reps_overlap['peak2_overlap_fraction_len'] = [\n",
    "    d(x, y) for x, y in zip(reps_overlap['peaks2_overlap_len'], reps_overlap['peaks2_len'])\n",
    "]\n",
    "reps_overlap.sample(5)"
   ],
   "metadata": {
    "collapsed": false,
    "ExecuteTime": {
     "start_time": "2023-05-16T22:58:54.494901Z",
     "end_time": "2023-05-16T22:58:54.497086Z"
    }
   }
  },
  {
   "cell_type": "code",
   "execution_count": null,
   "outputs": [],
   "source": [
    "t = pd.concat([\n",
    "    reps_overlap[\n",
    "        ['modification', 'cell', 'tool', 'peak1_overlap_fraction', 'peak1_overlap_fraction_len']\n",
    "    ].copy().rename(dict(peak1_overlap_fraction='overlap', peak1_overlap_fraction_len='overlap_len'), axis=1),\n",
    "    reps_overlap[\n",
    "        ['modification', 'cell', 'tool', 'peak2_overlap_fraction', 'peak2_overlap_fraction_len']\n",
    "    ].copy().rename(dict(peak2_overlap_fraction='overlap', peak2_overlap_fraction_len='overlap_len'), axis=1)\n",
    "]).reset_index(drop=True)\n",
    "# t"
   ],
   "metadata": {
    "collapsed": false,
    "ExecuteTime": {
     "start_time": "2023-05-16T22:58:54.496919Z",
     "end_time": "2023-05-16T22:58:54.538733Z"
    }
   }
  },
  {
   "cell_type": "code",
   "execution_count": null,
   "outputs": [],
   "source": [
    "plt.figure(figsize=(6, 4))\n",
    "axs = [plt.subplot(2, 1, i + 1) for i in range(2)]\n",
    "\n",
    "g_result = sns.boxplot(data=t, y='tool', x='overlap', ax=axs[0],\n",
    "                       order=['MACS2', 'MACS2 broad', 'SPAN', 'SICER'],\n",
    "                       palette=TOOLS_PALETTE)\n",
    "ax = g_result.axes\n",
    "ax.set_title('Overlap between H3K27ac replicates (peaks)')\n",
    "ax.set_xlabel('Fraction')\n",
    "ax.set_ylabel('Tool')\n",
    "\n",
    "g_result = sns.boxplot(data=t, y='tool', x='overlap_len', ax=axs[1],\n",
    "                       order=['MACS2', 'MACS2 broad', 'SPAN', 'SICER'],\n",
    "                       palette=TOOLS_PALETTE)\n",
    "ax = g_result.axes\n",
    "ax.set_title('Overlap between H3K27ac replicates (length)')\n",
    "ax.set_xlabel('Fraction')\n",
    "ax.set_ylabel('Tool')\n",
    "\n",
    "plt.tight_layout()\n",
    "plt.show()"
   ],
   "metadata": {
    "collapsed": false,
    "ExecuteTime": {
     "start_time": "2023-05-16T22:58:54.541450Z",
     "end_time": "2023-05-16T22:58:55.118054Z"
    }
   }
  },
  {
   "cell_type": "markdown",
   "source": [
    "# Overlap H3K27ac vs DHS"
   ],
   "metadata": {
    "collapsed": false
   }
  },
  {
   "cell_type": "code",
   "execution_count": null,
   "outputs": [],
   "source": [
    "import tempfile\n",
    "from itertools import product\n",
    "\n",
    "tf = tempfile.mktemp()\n",
    "\n",
    "bench_df = pd.DataFrame(\n",
    "    columns=['cell', 'replicate', 'name',\n",
    "             'peaks', 'peaks_len', 'dnase', 'dnase_len',\n",
    "             'peaks_overlap', 'peaks_overlap_len', 'dnase_overlap', 'dnase_overlap_len'],\n",
    "    dtype=object\n",
    ")\n",
    "\n",
    "for c, r in tqdm(product(GSE26320_CELLS, GSE26320_REPS)):\n",
    "    print(c, r)\n",
    "    if (c, r) not in DNASE:\n",
    "        continue\n",
    "    dnase_file = sorted_file(DNASE[c, r])\n",
    "    dnase_peaks = lines(dnase_file)\n",
    "    dnase_len = int(bedl(dnase_file).sum())\n",
    "    print(f'Cell {c} dnase {dnase_peaks}')\n",
    "    for tool in set(df_fdr_peaks['tool']):\n",
    "        t = df_fdr_peaks[(df_fdr_peaks['tool'] == tool) &\n",
    "                         (df_fdr_peaks['modification'] == 'H3K27ac') &\n",
    "                         (df_fdr_peaks['cell'] == c) &\n",
    "                         (df_fdr_peaks['replicate'] == r)]\n",
    "        if len(t) == 0:\n",
    "            continue\n",
    "        peaks_file = sorted_file(t['file'].values[0])\n",
    "        peaks = lines(peaks_file)\n",
    "        peaks_len = int(bedl(peaks_file).sum())\n",
    "        !bedtools intersect -a {peaks_file} -b {dnase_file} -wa -u > {tf}\n",
    "        peaks_overlap = lines(tf)\n",
    "        !bedtools intersect -b {peaks_file} -a {dnase_file} -wa -u > {tf}\n",
    "        dnase_overlap = lines(tf)\n",
    "        !bedtools intersect -a {peaks_file} -b {dnase_file} -wo > {tf}\n",
    "        peaks_overlap_len = dnase_overlap_len = int(last_col(tf).sum())\n",
    "\n",
    "        bench_df.loc[len(bench_df)] = (c, r, tool,\n",
    "                                       peaks, peaks_len,\n",
    "                                       dnase_peaks, dnase_len,\n",
    "                                       peaks_overlap, peaks_overlap_len,\n",
    "                                       dnase_overlap, dnase_overlap_len)\n",
    "bench_df"
   ],
   "metadata": {
    "collapsed": false,
    "ExecuteTime": {
     "start_time": "2023-05-16T22:58:55.116617Z",
     "end_time": "2023-05-16T23:00:36.931260Z"
    }
   }
  },
  {
   "cell_type": "code",
   "execution_count": null,
   "outputs": [],
   "source": [
    "bench_df['precision'] = [d(a, b) for a, b in zip(bench_df['peaks_overlap'], bench_df['peaks'])]\n",
    "bench_df['sensitivity'] = [d(a, b) for a, b in zip(bench_df['dnase_overlap'], bench_df['dnase'])]\n",
    "bench_df['f1'] = [d(2, d(1, s + 1e-10) + d(1, p + 1e-10))\n",
    "                  for s, p in zip(bench_df['sensitivity'], bench_df['precision'])]\n",
    "\n",
    "bench_df['precision_len'] = [d(a, b) for a, b in zip(bench_df['peaks_overlap_len'], bench_df['peaks_len'])]\n",
    "bench_df['sensitivity_len'] = [d(a, b) for a, b in zip(bench_df['dnase_overlap_len'], bench_df['dnase_len'])]\n",
    "bench_df['f1_len'] = [d(2, d(1, s + 1e-10) + d(1, p + 1e-10))\n",
    "                      for s, p in zip(bench_df['sensitivity_len'], bench_df['precision_len'])]\n",
    "\n",
    "bench_df['jaccard'] = [\n",
    "    d(o, p + g - o)\n",
    "    for p, g, o in zip(bench_df['peaks_len'], bench_df['dnase_len'], bench_df['dnase_overlap_len'])\n",
    "]"
   ],
   "metadata": {
    "collapsed": false,
    "ExecuteTime": {
     "start_time": "2023-05-16T23:00:36.930699Z",
     "end_time": "2023-05-16T23:00:36.931428Z"
    }
   }
  },
  {
   "cell_type": "code",
   "execution_count": null,
   "outputs": [],
   "source": [
    "import seaborn as sns\n",
    "\n",
    "plt.figure(figsize=(8, 3))\n",
    "axs = [plt.subplot(1, 2, i + 1) for i in range(2)]\n",
    "\n",
    "ax = axs[0]\n",
    "g_results = sns.scatterplot(data=bench_df, x='precision', y='sensitivity', hue='name',\n",
    "                            palette=TOOLS_PALETTE, ax=ax)\n",
    "g_results.axes.set_xlabel('Peaks vs DNAse (peaks)')\n",
    "g_results.axes.set_ylabel('DNAse vs peaks (peaks)')\n",
    "g_results.axes.set_xlim([-0.1, 1.1])\n",
    "g_results.axes.set_ylim([-0.1, 1.1])\n",
    "ax.legend().set_visible(False)\n",
    "\n",
    "ax = axs[1]\n",
    "g_results = sns.scatterplot(data=bench_df, x='precision_len', y='sensitivity_len', hue='name',\n",
    "                            palette=TOOLS_PALETTE, ax=ax,\n",
    "                            hue_order=['MACS2', 'MACS2 broad', 'SICER', 'SPAN'])\n",
    "g_results.axes.set_xlabel('Peaks vs DNAse (length)')\n",
    "g_results.axes.set_ylabel('DNAse vs peaks (length)')\n",
    "g_results.axes.set_xlim([-0.1, 1.1])\n",
    "g_results.axes.set_ylim([-0.1, 1.1])\n",
    "# Put a legend to the right of the current axis\n",
    "g_results.axes.legend(loc='center left', bbox_to_anchor=(1, 0.5))\n",
    "\n",
    "plt.tight_layout()\n",
    "plt.show()"
   ],
   "metadata": {
    "collapsed": false,
    "ExecuteTime": {
     "start_time": "2023-05-16T23:00:36.930797Z",
     "end_time": "2023-05-16T23:00:37.324528Z"
    }
   }
  },
  {
   "cell_type": "code",
   "execution_count": null,
   "outputs": [],
   "source": [
    "ts = []\n",
    "for name in bench_df['name'].unique():\n",
    "    tn = bench_df[bench_df['name'] == name]\n",
    "    for variable in ['sensitivity', 'precision', 'f1']:\n",
    "        ts.append(pd.DataFrame(dict(name=[name] * len(tn), type=[variable] * len(tn),\n",
    "                                    benchmark=['peak'] * len(tn),\n",
    "                                    value=tn[variable])))\n",
    "        ts.append(pd.DataFrame(dict(name=[name] * len(tn), type=[variable] * len(tn),\n",
    "                                    benchmark=['length'] * len(tn),\n",
    "                                    value=tn[f'{variable}_len'])))\n",
    "\n",
    "t = pd.concat(ts).reset_index(drop=True)\n",
    "del ts"
   ],
   "metadata": {
    "collapsed": false,
    "ExecuteTime": {
     "start_time": "2023-05-16T23:00:37.324360Z",
     "end_time": "2023-05-16T23:00:37.324591Z"
    }
   }
  },
  {
   "cell_type": "code",
   "execution_count": null,
   "outputs": [],
   "source": [
    "plt.figure(figsize=(8, 3))\n",
    "axs = [plt.subplot(1, 2, i + 1) for i in range(2)]\n",
    "for i, benchmark in enumerate(['peak', 'length']):\n",
    "    g_results = sns.boxplot(data=t[t['benchmark'] == benchmark], x='type', y='value', hue='name',\n",
    "                            ax=axs[i],\n",
    "                            palette=TOOLS_PALETTE,\n",
    "                            hue_order=['MACS2', 'MACS2 broad', 'SPAN', 'SICER'])\n",
    "    ax = g_results.axes\n",
    "    ax.set_title(f'Peaks vs DNAse ({benchmark})')\n",
    "    # Put a legend to the right of the current axis\n",
    "    if i == 1:\n",
    "        ax.legend(loc='center left', bbox_to_anchor=(1, 0.5))\n",
    "    else:\n",
    "        ax.legend().set_visible(False)\n",
    "    ax.set_ylim([-0.1, 1.1])\n",
    "\n",
    "plt.tight_layout()\n",
    "plt.show()"
   ],
   "metadata": {
    "collapsed": false,
    "ExecuteTime": {
     "start_time": "2023-05-16T23:00:37.324411Z",
     "end_time": "2023-05-16T23:00:37.600400Z"
    }
   }
  },
  {
   "cell_type": "markdown",
   "source": [
    "# Overlap H3K27ac diff vs DHS"
   ],
   "metadata": {
    "collapsed": false
   }
  },
  {
   "cell_type": "code",
   "execution_count": null,
   "outputs": [],
   "source": [
    "TOOLS = list(sorted(set(bench_df['name'])))\n",
    "\n",
    "diff_bench_df = pd.DataFrame(\n",
    "    columns=['cell', 'name',\n",
    "             'peaks', 'peaks_len', 'dnase', 'dnase_len',\n",
    "             'peaks_overlap', 'peaks_overlap_len', 'dnase_overlap', 'dnase_overlap_len'],\n",
    "    dtype=object\n",
    ")\n",
    "\n",
    "tf = tempfile.mktemp()\n",
    "tf2 = tempfile.mktemp()\n",
    "\n",
    "for c, r in tqdm(product(GSE26320_CELLS, GSE26320_REPS)):\n",
    "    print(c, r)\n",
    "    if (c, r) not in DNASE:\n",
    "        continue\n",
    "    dnase_file = sorted_file(DNASE[c, r])\n",
    "    dnase_peaks = lines(dnase_file)\n",
    "    dnase_len = int(bedl(dnase_file).sum())\n",
    "    t = df_fdr_peaks[(df_fdr_peaks['tool'] == 'SPAN') &\n",
    "                     (df_fdr_peaks['modification'] == 'H3K27ac') &\n",
    "                     (df_fdr_peaks['cell'] == c) &\n",
    "                     (df_fdr_peaks['replicate'] == r)]\n",
    "    if len(t) == 0:\n",
    "        continue\n",
    "    span_file = sorted_file(t['file'].values[0])\n",
    "    # Processing single tools information\n",
    "    for tool in TOOLS:\n",
    "        if tool == 'SPAN':\n",
    "            continue\n",
    "        t = df_fdr_peaks[(df_fdr_peaks['tool'] == tool) &\n",
    "                         (df_fdr_peaks['modification'] == 'H3K27ac') &\n",
    "                         (df_fdr_peaks['cell'] == c) &\n",
    "                         (df_fdr_peaks['replicate'] == r)]\n",
    "        if len(t) == 0:\n",
    "            continue\n",
    "        peaks_file = sorted_file(t['file'].values[0])\n",
    "        for name, args in [\n",
    "            (f'SPAN - {tool}', f' -a {span_file} -b {peaks_file} '),\n",
    "            (f'{tool} - SPAN', f' -b {span_file} -a {peaks_file} ')\n",
    "        ]:\n",
    "            !bedtools intersect {args} -wa -v > {tf}\n",
    "            peaks = lines(tf)\n",
    "            peaks_len = int(bedl(tf).sum())\n",
    "            !bedtools intersect -a {tf} -b {dnase_file} -wa -u > {tf2}\n",
    "            peaks_overlap = lines(tf2)\n",
    "            !bedtools intersect -b {tf} -a {dnase_file} -wa -u > {tf2}\n",
    "            dnase_overlap = lines(tf2)\n",
    "            !bedtools intersect -a {tf} -b {dnase_file} -wo > {tf2}\n",
    "            peaks_overlap_len = dnase_overlap_len = int(last_col(tf2).sum())\n",
    "            diff_bench_df.loc[len(diff_bench_df)] = (c, name, peaks, peaks_len,\n",
    "                                                     dnase_peaks, dnase_len,\n",
    "                                                     peaks_overlap, peaks_overlap_len,\n",
    "                                                     dnase_overlap, dnase_overlap_len)\n",
    "\n",
    "display(diff_bench_df.sample(5))"
   ],
   "metadata": {
    "collapsed": false,
    "ExecuteTime": {
     "start_time": "2023-05-16T23:00:37.600288Z",
     "end_time": "2023-05-16T23:02:58.326116Z"
    }
   }
  },
  {
   "cell_type": "code",
   "execution_count": null,
   "outputs": [],
   "source": [
    "diff_bench_df['precision'] = [d(a, b) for a, b in zip(diff_bench_df['peaks_overlap'], diff_bench_df['peaks'])]\n",
    "diff_bench_df['sensitivity'] = [d(a, b) for a, b in zip(diff_bench_df['dnase_overlap'], diff_bench_df['dnase'])]\n",
    "diff_bench_df['f1'] = [d(2, d(1, s + 1e-10) + d(1, p + 1e-10))\n",
    "                       for s, p in zip(diff_bench_df['sensitivity'], diff_bench_df['precision'])]\n",
    "\n",
    "diff_bench_df['precision_len'] = [\n",
    "    d(a, b) for a, b in zip(diff_bench_df['peaks_overlap_len'], diff_bench_df['peaks_len'])\n",
    "]\n",
    "diff_bench_df['sensitivity_len'] = [\n",
    "    d(a, b) for a, b in zip(diff_bench_df['dnase_overlap_len'], diff_bench_df['dnase_len'])\n",
    "]\n",
    "diff_bench_df['f1_len'] = [\n",
    "    d(2, d(1, s + 1e-10) + d(1, p + 1e-10))\n",
    "    for s, p in zip(diff_bench_df['sensitivity_len'], diff_bench_df['precision_len'])\n",
    "]\n",
    "\n",
    "diff_bench_df['jaccard'] = [\n",
    "    d(o, p + g - o)\n",
    "    for p, g, o\n",
    "    in zip(diff_bench_df['peaks_len'], diff_bench_df['dnase_len'], diff_bench_df['dnase_overlap_len'])\n",
    "]"
   ],
   "metadata": {
    "collapsed": false,
    "ExecuteTime": {
     "start_time": "2023-05-16T23:02:58.316806Z",
     "end_time": "2023-05-16T23:02:58.326186Z"
    }
   }
  },
  {
   "cell_type": "code",
   "execution_count": null,
   "outputs": [],
   "source": [
    "full_bench_df = pd.concat([bench_df, diff_bench_df]).reset_index(drop=True)\n",
    "full_bench_df.sample(5)"
   ],
   "metadata": {
    "collapsed": false,
    "ExecuteTime": {
     "start_time": "2023-05-16T23:02:58.322390Z",
     "end_time": "2023-05-16T23:02:58.352339Z"
    }
   }
  },
  {
   "cell_type": "code",
   "execution_count": null,
   "outputs": [],
   "source": [
    "plt.figure(figsize=(4, 4))\n",
    "ax = plt.axes()\n",
    "ax.title.set_text('Peaks number')\n",
    "g_results = sns.barplot(data=full_bench_df, x='name', y='peaks',\n",
    "                        capsize=.2, errwidth=2, ax=ax,\n",
    "                        order=['MACS2', 'MACS2 broad', 'SPAN', 'SICER',\n",
    "                               'SPAN - MACS2', 'SPAN - MACS2 broad', 'SPAN - SICER',\n",
    "                               'MACS2 - SPAN', 'MACS2 broad - SPAN', 'SICER - SPAN',\n",
    "                               ])\n",
    "ax.xaxis.set_tick_params(rotation=90)\n",
    "ax.set_ylim(top=60_000)  # Limit for visual aesthetics\n",
    "ax.set_ylabel('Number')\n",
    "plt.tight_layout()\n",
    "plt.savefig(f'{GSE26320_PATH_HG38}/pics/H3K27ac_peaks.pdf', bbox_inches='tight', dpi=300)\n",
    "plt.show()"
   ],
   "metadata": {
    "collapsed": false,
    "ExecuteTime": {
     "start_time": "2023-05-16T23:02:58.342276Z",
     "end_time": "2023-05-16T23:02:58.961753Z"
    }
   }
  },
  {
   "cell_type": "code",
   "execution_count": null,
   "outputs": [],
   "source": [
    "plt.figure(figsize=(3, 4))\n",
    "ax = plt.axes()\n",
    "ax.title.set_text('Jaccard vs DNAse')\n",
    "g_results = sns.barplot(data=full_bench_df, x='name', y='jaccard',\n",
    "                        ax=ax,\n",
    "                        capsize=.2, errwidth=2,\n",
    "                        order=['MACS2', 'MACS2 broad', 'SPAN', 'SICER']\n",
    "                        )\n",
    "ax.xaxis.set_tick_params(rotation=90)\n",
    "ax.set_ylabel('Jaccard')\n",
    "plt.tight_layout()\n",
    "plt.savefig(f'{GSE26320_PATH_HG38}/pics/H3K27ac_jaccard.pdf', bbox_inches='tight', dpi=300)\n",
    "plt.show()"
   ],
   "metadata": {
    "collapsed": false,
    "ExecuteTime": {
     "start_time": "2023-05-16T23:02:58.960920Z",
     "end_time": "2023-05-16T23:02:59.095672Z"
    }
   }
  },
  {
   "cell_type": "code",
   "execution_count": null,
   "outputs": [],
   "source": [
    "ts = []\n",
    "for name in full_bench_df['name'].unique():\n",
    "    tn = full_bench_df[full_bench_df['name'] == name]\n",
    "    for variable in ['sensitivity', 'precision', 'f1']:\n",
    "        ts.append(pd.DataFrame(dict(name=[name] * len(tn), type=[variable] * len(tn),\n",
    "                                    benchmark=['peak'] * len(tn),\n",
    "                                    value=tn[variable])))\n",
    "        ts.append(pd.DataFrame(dict(name=[name] * len(tn), type=[variable] * len(tn),\n",
    "                                    benchmark=['length'] * len(tn),\n",
    "                                    value=tn[f'{variable}_len'])))\n",
    "t = pd.concat(ts).reset_index(drop=True)\n",
    "del ts"
   ],
   "metadata": {
    "collapsed": false,
    "ExecuteTime": {
     "start_time": "2023-05-16T23:02:59.096370Z",
     "end_time": "2023-05-16T23:02:59.097034Z"
    }
   }
  },
  {
   "cell_type": "code",
   "execution_count": null,
   "outputs": [],
   "source": [
    "plt.figure(figsize=(10, 8))\n",
    "axs = [plt.subplot(2, 3, i + 1) for i in range(6)]\n",
    "for i, (benchmark, type) in enumerate(product(['peak', 'length'], ['precision', 'sensitivity', 'f1'])):\n",
    "    ax = axs[i]\n",
    "    if type == 'precision':\n",
    "        ax.title.set_text(f'Peaks in DNAse ({benchmark})')\n",
    "    elif type == 'sensitivity':\n",
    "        ax.title.set_text(f'DNAse in peaks ({benchmark})')\n",
    "    else:\n",
    "        ax.title.set_text(f'F1 precision and sensitivity ({benchmark})')\n",
    "    sns.barplot(data=t[(t['benchmark'] == benchmark) & (t['type'] == type)], x='name', y='value',\n",
    "                capsize=.2, errwidth=2, ax=ax,\n",
    "                order=['MACS2', 'MACS2 broad', 'SICER', 'SPAN',\n",
    "                       'SPAN - MACS2', 'SPAN - MACS2 broad', 'SPAN - SICER',\n",
    "                       'MACS2 - SPAN', 'MACS2 broad - SPAN', 'SICER - SPAN',\n",
    "                       ])\n",
    "    ax.xaxis.set_tick_params(rotation=90)\n",
    "    ax.set_ylabel('Fraction')\n",
    "plt.tight_layout()\n",
    "plt.show()"
   ],
   "metadata": {
    "collapsed": false,
    "ExecuteTime": {
     "start_time": "2023-05-16T23:02:59.096430Z",
     "end_time": "2023-05-16T23:03:01.254748Z"
    }
   }
  },
  {
   "cell_type": "markdown",
   "source": [
    "# Compare peaks to DNAse ratio"
   ],
   "metadata": {
    "collapsed": false
   }
  },
  {
   "cell_type": "code",
   "execution_count": null,
   "outputs": [],
   "source": [
    "import tempfile\n",
    "from itertools import product\n",
    "\n",
    "tf = tempfile.mktemp()\n",
    "\n",
    "ratio_df = pd.DataFrame(columns=['cell', 'tool', 'dnase', 'peaks'], dtype=object)\n",
    "\n",
    "for c, r in tqdm(product(GSE26320_CELLS, GSE26320_REPS)):\n",
    "    print(c, r)\n",
    "    if (c, r) not in DNASE:\n",
    "        continue\n",
    "    dnase_file = sorted_file(DNASE[c, r])\n",
    "    dnase_peaks = lines(dnase_file)\n",
    "    for tool in set(df_fdr_peaks['tool']):\n",
    "        t = df_fdr_peaks[(df_fdr_peaks['tool'] == tool) &\n",
    "                         (df_fdr_peaks['modification'] == 'H3K27ac') &\n",
    "                         (df_fdr_peaks['cell'] == c) &\n",
    "                         (df_fdr_peaks['replicate'] == r)]\n",
    "        if len(t) == 0:\n",
    "            continue\n",
    "        peaks_file = sorted_file(t['file'].values[0])\n",
    "        dnase_cols = len(pd.read_csv(dnase_file, sep='\\t', header=None, nrows=1).columns)\n",
    "        !bedtools intersect -a {dnase_file} -b {peaks_file} -wa -wb > {tf}\n",
    "        try:\n",
    "            tf_overlap = pd.read_csv(tf, sep='\\t', header=None)\n",
    "            dnase_peaks = len(tf_overlap.groupby([0, 1, 2]).count())\n",
    "            peaks = len(tf_overlap.groupby([dnase_cols, dnase_cols + 1, dnase_cols + 2]).count())\n",
    "            ratio_df.loc[len(ratio_df)] = (c, tool, dnase_peaks, peaks)\n",
    "        except:\n",
    "            pass\n",
    "ratio_df"
   ],
   "metadata": {
    "collapsed": false,
    "ExecuteTime": {
     "start_time": "2023-05-16T23:03:01.246620Z",
     "end_time": "2023-05-16T23:03:55.691189Z"
    }
   }
  },
  {
   "cell_type": "code",
   "execution_count": null,
   "outputs": [],
   "source": [
    "ratio_df['dnase_to_peaks'] = ratio_df['dnase'] / ratio_df['peaks']\n",
    "ratio_df.sort_values(by=['tool'], inplace=True)"
   ],
   "metadata": {
    "collapsed": false,
    "ExecuteTime": {
     "start_time": "2023-05-16T23:03:55.684107Z",
     "end_time": "2023-05-16T23:03:55.691280Z"
    }
   }
  },
  {
   "cell_type": "code",
   "execution_count": null,
   "outputs": [],
   "source": [
    "plt.figure(figsize=(5, 2))\n",
    "ax = plt.axes()\n",
    "g_results = sns.boxplot(data=ratio_df, x='dnase_to_peaks', y='tool', ax=ax,\n",
    "                        order=['MACS2', 'MACS2 broad', 'SPAN', 'SICER'],\n",
    "                        palette=TOOLS_PALETTE,\n",
    "                        showfliers=False)\n",
    "ax.title.set_text('Ratio of DNAse to peaks')\n",
    "plt.tight_layout()\n",
    "plt.savefig(f'{GSE26320_PATH_HG38}/pics/H3K27ac_ratios.pdf', bbox_inches='tight', dpi=300)\n",
    "plt.show()"
   ],
   "metadata": {
    "collapsed": false,
    "ExecuteTime": {
     "start_time": "2023-05-16T23:03:55.687022Z",
     "end_time": "2023-05-16T23:03:56.081537Z"
    }
   }
  },
  {
   "cell_type": "markdown",
   "source": [
    "# Hg38 Top peaks overlap with DHS"
   ],
   "metadata": {
    "collapsed": false
   }
  },
  {
   "cell_type": "code",
   "execution_count": null,
   "outputs": [],
   "source": [
    "import tempfile\n",
    "from itertools import product\n",
    "\n",
    "tf = tempfile.mktemp()\n",
    "tf2 = tempfile.mktemp()\n",
    "\n",
    "benchmark_top_df = pd.DataFrame(\n",
    "    columns=['cell', 'replicate', 'top', 'dnase', 'peaks_file', 'peaks', 'pg', 'gp', 'tool'],\n",
    "    dtype=object\n",
    ")\n",
    "\n",
    "for c, r in tqdm(product(GSE26320_CELLS, GSE26320_REPS)):\n",
    "    print(c, r)\n",
    "    if (c, r) not in DNASE:\n",
    "        continue\n",
    "    dnase_file = sorted_file(DNASE[c, r])\n",
    "    dnase_peaks = lines(dnase_file)\n",
    "    for tool in set(df_fdr_peaks['tool']):\n",
    "        t = df_fdr_peaks[(df_fdr_peaks['tool'] == tool) &\n",
    "                         (df_fdr_peaks['modification'] == 'H3K27ac') &\n",
    "                         (df_fdr_peaks['cell'] == c) &\n",
    "                         (df_fdr_peaks['replicate'] == r)]\n",
    "        if len(t) == 0:\n",
    "            continue\n",
    "        peaks_file = sorted_file(t['file'].values[0])\n",
    "        peaks = lines(peaks_file)\n",
    "        t = pd.read_csv(peaks_file, sep='\\t', header=None)\n",
    "        t.sort_values(by=[8] if len(t.columns) >= 9 else [4], ascending=False, inplace=True)\n",
    "        for top in np.linspace(1000, 15_000, 15):\n",
    "            t.head(int(top)).sort_values(by=[0, 1]).to_csv(tf, sep='\\t', index=False, header=None)\n",
    "            tf = sorted_file(tf)\n",
    "            peaks = lines(tf)\n",
    "            ! bedtools intersect -a {tf} -b {dnase_file} -wa -u > {tf2}\n",
    "            peaks_overlap = lines(tf2)\n",
    "            ! bedtools intersect -b {tf} -a {dnase_file} -wa -u > {tf2}\n",
    "            dnase_overlap = lines(tf2)\n",
    "            benchmark_top_df.loc[len(benchmark_top_df)] = \\\n",
    "                (c, r, top, dnase_peaks, peaks_file, peaks, peaks_overlap, dnase_overlap, tool)\n",
    "\n",
    "benchmark_top_df"
   ],
   "metadata": {
    "collapsed": false,
    "ExecuteTime": {
     "start_time": "2023-05-16T23:03:56.057463Z",
     "end_time": "2023-05-16T23:17:27.526065Z"
    }
   }
  },
  {
   "cell_type": "code",
   "execution_count": null,
   "outputs": [],
   "source": [
    "benchmark_top_df['p'] = (benchmark_top_df['pg'] + benchmark_top_df['gp']) / 2\n",
    "benchmark_top_df['precision'] = [d(x, y) for x, y in zip(benchmark_top_df['pg'], benchmark_top_df['peaks'])]\n",
    "benchmark_top_df['sensitivity'] = [d(x, y) for x, y in zip(benchmark_top_df['gp'], benchmark_top_df['dnase'])]\n",
    "benchmark_top_df['f1'] = [2 / (d(1, s + 1e-10) + d(1, p + 1e-10)) for s, p in zip(benchmark_top_df['sensitivity'], benchmark_top_df['precision'])]\n",
    "benchmark_top_df"
   ],
   "metadata": {
    "collapsed": false,
    "ExecuteTime": {
     "start_time": "2023-05-16T23:17:27.527502Z",
     "end_time": "2023-05-16T23:17:27.812707Z"
    }
   }
  },
  {
   "cell_type": "code",
   "execution_count": null,
   "outputs": [],
   "source": [
    "def rgb2hex(color):\n",
    "    r, g, b, _ = color\n",
    "    return \"#{0:02x}{1:02x}{2:02x}\".format(int(r * 255), int(g * 255), int(b * 255))\n",
    "\n",
    "PLOTLY_TOOLS_PALETTE = {k: rgb2hex(v) for k, v in TOOLS_PALETTE.items()}"
   ],
   "metadata": {
    "collapsed": false,
    "ExecuteTime": {
     "start_time": "2023-05-16T23:17:27.571546Z",
     "end_time": "2023-05-16T23:17:27.812779Z"
    }
   }
  },
  {
   "cell_type": "code",
   "execution_count": null,
   "outputs": [],
   "source": [
    "import plotly.graph_objects as go\n",
    "\n",
    "def plot_top(benchmark_top_df):\n",
    "    tools_legend_shown = set()\n",
    "    fig = go.Figure()\n",
    "\n",
    "    for c, r, t in product(GSE26320_CELLS, GSE26320_REPS, df_fdr_peaks['tool'].unique()):\n",
    "        dft = benchmark_top_df[(benchmark_top_df['cell'] == c) &\n",
    "                               (benchmark_top_df['replicate'] == r) &\n",
    "                               (benchmark_top_df['tool'] == t)]\n",
    "        if len(dft) == 0:\n",
    "            continue\n",
    "        fig.add_trace(go.Scatter(\n",
    "            x=dft[\"precision\"], y=dft[\"sensitivity\"], mode='lines+markers', name=t,\n",
    "            hovertext=dft['cell'].astype(str) + ' ' + dft['replicate'].astype(str) + \\\n",
    "                      ' ' + dft['top'].astype(str) + ' ' + t,\n",
    "            showlegend=t not in tools_legend_shown,\n",
    "            marker_color=PLOTLY_TOOLS_PALETTE[t],\n",
    "            opacity=0.5,\n",
    "        ))\n",
    "        tools_legend_shown.add(t)\n",
    "\n",
    "\n",
    "    fig.update_xaxes(range=[-0.1, 1.1], title='Peaks overlapping dnase (sensitivity)')\n",
    "    fig.update_yaxes(range=[-0.1, 1.1], title='Dnase overlapping peaks (precision)')\n",
    "\n",
    "    fig.layout.template = 'plotly_white'\n",
    "    fig.update_layout(\n",
    "        autosize=False,\n",
    "        width=800,\n",
    "        height=600,)\n",
    "    fig.show()\n"
   ],
   "metadata": {
    "collapsed": false,
    "ExecuteTime": {
     "start_time": "2023-05-16T23:17:27.581845Z",
     "end_time": "2023-05-16T23:17:27.812806Z"
    }
   }
  },
  {
   "cell_type": "code",
   "execution_count": null,
   "outputs": [],
   "source": [
    "plot_top(benchmark_top_df[(benchmark_top_df['cell'] == 'HepG2') & (benchmark_top_df['replicate'] == 'rep1')])"
   ],
   "metadata": {
    "collapsed": false,
    "ExecuteTime": {
     "start_time": "2023-05-16T23:17:27.597937Z",
     "end_time": "2023-05-16T23:17:27.813164Z"
    }
   }
  },
  {
   "cell_type": "code",
   "execution_count": null,
   "outputs": [],
   "source": [
    "plot_top(benchmark_top_df)"
   ],
   "metadata": {
    "collapsed": false,
    "ExecuteTime": {
     "start_time": "2023-05-16T23:17:27.753342Z",
     "end_time": "2023-05-16T23:17:28.171309Z"
    }
   }
  },
  {
   "cell_type": "code",
   "execution_count": null,
   "outputs": [],
   "source": [
    "plt.figure(figsize=(4, 4))\n",
    "for t in ['MACS2', 'MACS2 broad', 'SPAN', 'SICER']:\n",
    "    tt = benchmark_top_df[(benchmark_top_df['cell'] == 'HepG2') &\n",
    "                          (benchmark_top_df['replicate'] == 'rep1') &\n",
    "                          (benchmark_top_df['tool'] == t)]\n",
    "    plt.plot(tt['precision'], tt['sensitivity'], marker='o', label=t)\n",
    "plt.title('Peaks vs DNAse')\n",
    "plt.xlabel('DNAse fraction (sensitivity)')\n",
    "plt.ylabel('Peaks fraction (precision)')\n",
    "plt.tight_layout()\n",
    "plt.savefig(f'{GSE26320_PATH_HG38}/pics/H3K27ac_dnase.pdf', bbox_inches='tight', dpi=300)\n",
    "plt.show()"
   ],
   "metadata": {
    "collapsed": false,
    "ExecuteTime": {
     "start_time": "2023-05-16T23:17:28.166234Z",
     "end_time": "2023-05-16T23:17:28.761511Z"
    }
   }
  },
  {
   "cell_type": "markdown",
   "source": [
    "# Average precision\n",
    "\n",
    "AP summarizes a precision-recall curve as the weighted mean of precisions achieved at each threshold, with the increase in recall from the previous threshold used as the weight:\n",
    "\n",
    "AP = ∑(Rn−Rn−1)*Pn, where  Pn and Rn are the precision and recall at the nth threshold.\n",
    "\n",
    "This implementation is not interpolated and is different from computing the area under the precision-recall curve with the trapezoidal rule, which uses linear interpolation and can be too optimistic."
   ],
   "metadata": {
    "collapsed": false
   }
  },
  {
   "cell_type": "code",
   "execution_count": null,
   "outputs": [],
   "source": [
    "cells = []\n",
    "reps = []\n",
    "tools = []\n",
    "aps = []\n",
    "for c, r, t in tqdm(product(GSE26320_CELLS, GSE26320_REPS, set(df_fdr_peaks['tool']))):\n",
    "    dft = benchmark_top_df[(benchmark_top_df['cell'] == c) &\n",
    "                           (benchmark_top_df['replicate'] == r) &\n",
    "                           (benchmark_top_df['tool'] == t)].copy()\n",
    "    if len(dft) == 0:\n",
    "        continue\n",
    "    ap = 0\n",
    "    rprev = 0\n",
    "    for _, row in dft.iterrows():\n",
    "        ap += (row['sensitivity'] - rprev)*row['precision']\n",
    "        rprev = row['sensitivity']\n",
    "    cells.append(c)\n",
    "    reps.append(r)\n",
    "    tools.append(t)\n",
    "    aps.append(ap)\n",
    "aps_df = pd.DataFrame(dict(cell=cells, replicate=reps, tool=tools, ap=aps))"
   ],
   "metadata": {
    "collapsed": false,
    "ExecuteTime": {
     "start_time": "2023-05-16T23:17:28.745675Z",
     "end_time": "2023-05-16T23:17:28.818492Z"
    }
   }
  },
  {
   "cell_type": "code",
   "execution_count": null,
   "outputs": [],
   "source": [
    "plt.figure(figsize=(3, 4))\n",
    "ax = plt.axes()\n",
    "ax.title.set_text('Peaks vs DNAse AUC')\n",
    "g_results = sns.barplot(data=aps_df, x='tool', y='ap',\n",
    "                        ax=ax,\n",
    "                        capsize=.2, errwidth=2,\n",
    "                        order=['MACS2', 'MACS2 broad', 'SPAN', 'SICER']\n",
    "                        )\n",
    "ax.xaxis.set_tick_params(rotation=90)\n",
    "ax.set_ylabel('AUC')\n",
    "plt.tight_layout()\n",
    "plt.savefig(f'{GSE26320_PATH_HG38}/pics/H3K27ac_auc.pdf', bbox_inches='tight', dpi=300)\n",
    "plt.show()"
   ],
   "metadata": {
    "collapsed": false,
    "ExecuteTime": {
     "start_time": "2023-05-16T23:17:28.811330Z",
     "end_time": "2023-05-16T23:17:29.356537Z"
    }
   }
  },
  {
   "cell_type": "markdown",
   "source": [
    "# Functional annotation"
   ],
   "metadata": {
    "collapsed": false
   }
  },
  {
   "cell_type": "code",
   "execution_count": null,
   "outputs": [],
   "source": [
    "import tempfile\n",
    "from itertools import product\n",
    "\n",
    "tf = tempfile.mktemp()\n",
    "\n",
    "! rm -r {GSE26320_PATH_HG38}/summary_H3K27ac\n",
    "! mkdir -p {GSE26320_PATH_HG38}/summary_H3K27ac\n",
    "\n",
    "for c, r in tqdm(product(GSE26320_CELLS, GSE26320_REPS)):\n",
    "    print(c, r)\n",
    "    for tool in set(df_fdr_peaks['tool']):\n",
    "        t = df_fdr_peaks[(df_fdr_peaks['tool'] == tool) &\n",
    "                         (df_fdr_peaks['modification'] == 'H3K27ac') &\n",
    "                         (df_fdr_peaks['cell'] == c) &\n",
    "                         (df_fdr_peaks['replicate'] == r)]\n",
    "        if len(t) == 0:\n",
    "            continue\n",
    "        peaks_file = sorted_file(t['file'].values[0])\n",
    "        filename = tool.replace(' ', '_')\n",
    "        ! cat {peaks_file} >> \"{GSE26320_PATH_HG38}/summary_H3K27ac/{filename}.bed_\"\n",
    "        if tool == 'SPAN':\n",
    "            span_file = peaks_file\n",
    "\n",
    "    # Processing single tools information\n",
    "    for tool in TOOLS:\n",
    "        if tool == 'SPAN':\n",
    "            continue\n",
    "        t = df_fdr_peaks[(df_fdr_peaks['tool'] == tool) &\n",
    "                         (df_fdr_peaks['modification'] == 'H3K27ac') &\n",
    "                         (df_fdr_peaks['cell'] == c) &\n",
    "                         (df_fdr_peaks['replicate'] == r)]\n",
    "        if len(t) == 0:\n",
    "            continue\n",
    "        peaks_file = sorted_file(t['file'].values[0])\n",
    "        for name, args in [\n",
    "            (f'SPAN - {tool}', f' -a {span_file} -b {peaks_file} '),\n",
    "            (f'{tool} - SPAN', f' -b {span_file} -a {peaks_file} ')\n",
    "        ]:\n",
    "            !bedtools intersect {args} -wa -v > {tf}\n",
    "            filename = name.replace(' ', '_')\n",
    "            ! cat {tf} >> \"{GSE26320_PATH_HG38}/summary_H3K27ac/{filename}.bed_\"\n",
    "\n",
    "for f in os.listdir(GSE26320_PATH_HG38 + '/summary_H3K27ac'):\n",
    "    f_sorted = f[:len(f) - 1]\n",
    "    ! sort -k1,1 -k2,2n -k3,3n \"{GSE26320_PATH_HG38}/summary_H3K27ac/{f}\" | cut -f1-3> \"{GSE26320_PATH_HG38}/summary_H3K27ac/{f_sorted}\"\n",
    "    ! rm \"{GSE26320_PATH_HG38}/summary_H3K27ac/{f}\""
   ],
   "metadata": {
    "collapsed": false,
    "ExecuteTime": {
     "start_time": "2023-05-16T23:17:29.329870Z",
     "end_time": "2023-05-16T23:20:15.613405Z"
    }
   }
  },
  {
   "cell_type": "markdown",
   "source": [
    "# Coverage"
   ],
   "metadata": {
    "collapsed": false
   }
  },
  {
   "cell_type": "code",
   "execution_count": null,
   "outputs": [],
   "source": [
    "# Fraction of reads in peaks\n",
    "GSE26320_PATH_HG38_BW = GSE26320_PATH_HG38 + '/bw'\n",
    "\n",
    "\n",
    "def load_bws(path, m):\n",
    "    df_bws = pd.DataFrame(columns=['file', 'modification', 'cell', 'replicate'], dtype=object)\n",
    "    for f in tqdm(os.listdir(path)):\n",
    "        if '.bw' not in f:\n",
    "            continue\n",
    "        cell = next((cc for cc in GSE26320_CELLS if cc in f), None)\n",
    "        rep = next((r for r in GSE26320_REPS if r in f), None)\n",
    "        if cell and rep and m in f:\n",
    "            df_bws.loc[len(df_bws)] = ((os.path.join(path, f)), m, cell, rep)\n",
    "    return df_bws"
   ],
   "metadata": {
    "collapsed": false,
    "ExecuteTime": {
     "start_time": "2023-05-16T23:20:15.612717Z",
     "end_time": "2023-05-16T23:20:15.613832Z"
    }
   }
  },
  {
   "cell_type": "code",
   "execution_count": null,
   "outputs": [],
   "source": [
    "bws_df = load_bws(GSE26320_PATH_HG38_BW, 'H3K27ac')\n",
    "display(bws_df.sample(3))\n",
    "bws_control_df = load_bws(GSE26320_PATH_HG38_BW, 'Input')\n",
    "display(bws_control_df.sample(3))"
   ],
   "metadata": {
    "collapsed": false,
    "ExecuteTime": {
     "start_time": "2023-05-16T23:20:15.612807Z",
     "end_time": "2023-05-16T23:20:15.986742Z"
    }
   }
  },
  {
   "cell_type": "code",
   "execution_count": null,
   "outputs": [],
   "source": [
    "CHROM_SIZES = {\n",
    "    c: s for _, (c, s) in pd.read_csv(os.path.join(GSE26320_PATH_HG38, 'hg38.chrom.sizes'),\n",
    "                                      sep='\\t', names=['chr', 'size']).iterrows() if '_' not in c\n",
    "}\n",
    "CHROM_SIZES"
   ],
   "metadata": {
    "collapsed": false,
    "ExecuteTime": {
     "start_time": "2023-05-16T23:20:15.737471Z",
     "end_time": "2023-05-16T23:20:15.989233Z"
    }
   }
  },
  {
   "cell_type": "code",
   "execution_count": null,
   "outputs": [],
   "source": [
    "import pyBigWig\n",
    "import tempfile\n",
    "from itertools import product\n",
    "\n",
    "tf = tempfile.mktemp()\n",
    "\n",
    "coverage_data = []\n",
    "\n",
    "for c, r in tqdm(product(GSE26320_CELLS, GSE26320_REPS)):\n",
    "    print(c, r)\n",
    "    t = bws_df[(bws_df['modification'] == 'H3K27ac') &\n",
    "               (bws_df['cell'] == c) &\n",
    "               (bws_df['replicate'] == r)]\n",
    "    if len(t) == 0:\n",
    "        continue\n",
    "    bw_file = t['file'].values[0]\n",
    "    t = bws_control_df[(bws_control_df['cell'] == c) & (bws_control_df['replicate'] == r)]\n",
    "    if len(t) == 0:\n",
    "        continue\n",
    "    bw_control_file = t['file'].values[0]\n",
    "    for tool in set(df_fdr_peaks['tool']):\n",
    "        t = df_fdr_peaks[(df_fdr_peaks['tool'] == tool) &\n",
    "                         (df_fdr_peaks['modification'] == 'H3K27ac') &\n",
    "                         (df_fdr_peaks['cell'] == c) &\n",
    "                         (df_fdr_peaks['replicate'] == r)]\n",
    "        if len(t) == 0:\n",
    "            continue\n",
    "        peaks_file = sorted_file(t['file'].values[0])\n",
    "        if lines(peaks_file) > 0:\n",
    "            t = pd.read_csv(peaks_file, sep='\\t', header=None)\n",
    "            positions = [f'{chr}:{start}-{end}' for chr, start, end in zip(t[0], t[1], t[2]) if chr in CHROM_SIZES]\n",
    "            lengths = [end - start for chr, start, end in zip(t[0], t[1], t[2]) if chr in CHROM_SIZES]\n",
    "            with pyBigWig.open(bw_file) as bw:\n",
    "                total_coverage = sum(bw.stats(chr, type='sum', exact=True)[0] for chr in t[0].unique() if chr in CHROM_SIZES)\n",
    "                peaks_coverage = [bw.stats(chr, start, end, type='sum', exact=True)[0]\n",
    "                                  for chr, start, end in zip(t[0], t[1], t[2]) if chr in CHROM_SIZES]\n",
    "            for pos, length, peak_coverage in zip(positions, lengths, peaks_coverage):\n",
    "                coverage_data.append(('H3K27ac', c, r, tool, pos, length, 'treatment', peak_coverage, total_coverage))\n",
    "            with pyBigWig.open(bw_control_file) as bwc:\n",
    "                total_coverage = sum(bwc.stats(chr, type='sum', exact=True)[0] for chr in t[0].unique())\n",
    "                peaks_coverage = [bwc.stats(chr, start, end, type='sum', exact=True)[0]\n",
    "                                  for chr, start, end in zip(t[0], t[1], t[2])]\n",
    "            for pos, length, peak_coverage in zip(positions, lengths, peaks_coverage):\n",
    "                coverage_data.append(('H3K27ac', c, r, tool, pos, length, 'control', peak_coverage, total_coverage))\n",
    "        if tool == 'SPAN':\n",
    "            span_file = peaks_file\n",
    "\n",
    "    # Processing single tools information\n",
    "    for tool in TOOLS:\n",
    "        if tool == 'SPAN':\n",
    "            continue\n",
    "        t = df_fdr_peaks[(df_fdr_peaks['tool'] == tool) &\n",
    "                         (df_fdr_peaks['modification'] == 'H3K27ac') &\n",
    "                         (df_fdr_peaks['cell'] == c) &\n",
    "                         (df_fdr_peaks['replicate'] == r)]\n",
    "        if len(t) == 0:\n",
    "            continue\n",
    "        peaks_file = sorted_file(t['file'].values[0])\n",
    "        for name, args in [\n",
    "            (f'SPAN - {tool}', f' -a {span_file} -b {peaks_file} '),\n",
    "            (f'{tool} - SPAN', f' -b {span_file} -a {peaks_file} ')\n",
    "        ]:\n",
    "            !bedtools intersect {args} -wa -v > {tf}\n",
    "            if lines(tf) > 0:\n",
    "                t = pd.read_csv(tf, sep='\\t', header=None)\n",
    "                positions = [f'{chr}:{start}-{end}' for chr, start, end in zip(t[0], t[1], t[2]) if chr in CHROM_SIZES]\n",
    "                lengths = [end - start for chr, start, end in zip(t[0], t[1], t[2]) if chr in CHROM_SIZES]\n",
    "                with pyBigWig.open(bw_file) as bw:\n",
    "                    total_coverage = sum(bw.stats(chr, type='sum', exact=True)[0] for chr in t[0].unique() if chr in CHROM_SIZES)\n",
    "                    peaks_coverage = [bw.stats(chr, start, end, type='sum', exact=True)[0]\n",
    "                                      for chr, start, end in zip(t[0], t[1], t[2]) if chr in CHROM_SIZES]\n",
    "                for pos, length, peak_coverage in zip(positions, lengths, peaks_coverage):\n",
    "                    coverage_data.append(('H3K27ac', c, r, name, pos, length, 'treatment', peak_coverage, total_coverage))\n",
    "                with pyBigWig.open(bw_control_file) as bwc:\n",
    "                    total_coverage = sum(bwc.stats(chr, type='sum', exact=True)[0] for chr in t[0].unique())\n",
    "                    peaks_coverage = [bwc.stats(chr, start, end, type='sum', exact=True)[0]\n",
    "                                      for chr, start, end in zip(t[0], t[1], t[2])]\n",
    "                for pos, length, peak_coverage in zip(positions, lengths, peaks_coverage):\n",
    "                    coverage_data.append(('H3K27ac', c, r, name, pos, length, 'control', peak_coverage, total_coverage))\n",
    "\n",
    "df_coverage = pd.DataFrame(\n",
    "    coverage_data,\n",
    "    columns=['modification', 'cell', 'replicate', 'name', 'position', 'length', 'type', 'coverage', 'total_coverage']\n",
    ")\n",
    "del coverage_data\n",
    "df_coverage.sample(5)"
   ],
   "metadata": {
    "collapsed": false,
    "ExecuteTime": {
     "start_time": "2023-05-16T23:20:15.793299Z",
     "end_time": "2023-05-16T23:36:27.575967Z"
    }
   }
  },
  {
   "cell_type": "code",
   "execution_count": null,
   "outputs": [],
   "source": [
    "df_coverage['rpm'] = df_coverage['coverage'] / (df_coverage['total_coverage'] / 1e6)\n",
    "df_coverage['rpkm'] = df_coverage['rpm'] / (df_coverage['length'] / 1e3)\n",
    "\n",
    "plt.figure(figsize=(4.5, 4))\n",
    "g_results = sns.boxplot(data=df_coverage, x='name', y='rpkm', hue='type',\n",
    "                        order=['MACS2', 'MACS2 broad',  'SPAN', 'SICER',\n",
    "                               'SPAN - MACS2', 'SPAN - MACS2 broad', 'SPAN - SICER',\n",
    "                               'MACS2 - SPAN', 'MACS2 broad - SPAN', 'SICER - SPAN',\n",
    "                               ],\n",
    "                        showfliers=False)\n",
    "ax = g_results.axes\n",
    "ax.xaxis.set_tick_params(rotation=90)\n",
    "ax.set_ylabel('RPKM')\n",
    "ax.set_ylim(-1, 22)\n",
    "# Put a legend to the right of the current axis\n",
    "ax.legend(loc='center left', bbox_to_anchor=(0.62, 0.82))\n",
    "plt.title('Peaks coverage')\n",
    "plt.tight_layout()\n",
    "plt.savefig(f'{GSE26320_PATH_HG38}/pics/H3K27ac_coverage.pdf', bbox_inches='tight', dpi=300)\n",
    "plt.show()"
   ],
   "metadata": {
    "collapsed": false,
    "ExecuteTime": {
     "start_time": "2023-05-16T23:36:27.569110Z",
     "end_time": "2023-05-16T23:36:33.158430Z"
    }
   }
  },
  {
   "cell_type": "markdown",
   "source": [
    "# ChromHMM"
   ],
   "metadata": {
    "collapsed": false
   }
  },
  {
   "cell_type": "code",
   "execution_count": null,
   "outputs": [],
   "source": [
    "CHROMHMM_MAP = {\n",
    "    'GM12878': GSE26320_PATH_HG38 + '/chromhmm/GM12878_chromhmm_hg38_ENCFF338RIC.bed',\n",
    "    'H1': GSE26320_PATH_HG38 + '/chromhmm/H1_chromhmm_hg38_ENCFF323HNB.bed',\n",
    "    'HepG2': GSE26320_PATH_HG38 + '/chromhmm/HepG2_chromhmm_hg38_ENCFF808IZE.bed',\n",
    "    'K562': GSE26320_PATH_HG38 + '/chromhmm/K562_chromhmm_hg38_ENCFF649FCE.bed',\n",
    "}\n",
    "\n",
    "print('Split chromHMM into separate files')\n",
    "CHROMM_STATES = set()\n",
    "for c, chromhmm in CHROMHMM_MAP.items():\n",
    "    print(c)\n",
    "    t = pd.read_csv(chromhmm, sep='\\t', header=None, usecols=[3])[3]\n",
    "    for state in t.unique():\n",
    "        # print(state)\n",
    "        state = state.replace('/', '_')\n",
    "        CHROMM_STATES.add(state)\n",
    "        f = chromhmm.replace('.bed', f'_{state}.bed')\n",
    "        ! cat {chromhmm} | grep {state} > {f}\n",
    "CHROMM_STATES = list(sorted(CHROMM_STATES))\n",
    "print(CHROMM_STATES)"
   ],
   "metadata": {
    "collapsed": false,
    "ExecuteTime": {
     "start_time": "2023-05-16T23:36:33.157100Z",
     "end_time": "2023-05-16T23:36:49.473659Z"
    }
   }
  },
  {
   "cell_type": "code",
   "execution_count": null,
   "outputs": [],
   "source": [
    "import tempfile\n",
    "from itertools import product\n",
    "\n",
    "tf = tempfile.mktemp()\n",
    "tf2 = tempfile.mktemp()\n",
    "\n",
    "data = []\n",
    "\n",
    "for c, r in tqdm(product(GSE26320_CELLS, GSE26320_REPS)):\n",
    "    print(c, r)\n",
    "    if c not in CHROMHMM_MAP:\n",
    "        continue\n",
    "    chromhmm = CHROMHMM_MAP[c]\n",
    "    for tool in set(df_fdr_peaks['tool']):\n",
    "        t = df_fdr_peaks[(df_fdr_peaks['tool'] == tool) &\n",
    "                         (df_fdr_peaks['modification'] == 'H3K27ac') &\n",
    "                         (df_fdr_peaks['cell'] == c) &\n",
    "                         (df_fdr_peaks['replicate'] == r)]\n",
    "        if len(t) == 0:\n",
    "            continue\n",
    "        peaks_file = sorted_file(t['file'].values[0])\n",
    "        peaks = lines(peaks_file)\n",
    "        row = [c, r, tool, peaks]\n",
    "        for state in CHROMM_STATES:\n",
    "            state_file = sorted_file(chromhmm.replace('.bed', f'_{state}.bed'))\n",
    "            !bedtools intersect -a {peaks_file} -b {state_file} -wa -u > {tf}\n",
    "            state_peaks = lines(tf)\n",
    "            row.append(state_peaks)\n",
    "        data.append(row)\n",
    "\n",
    "        if tool == 'SPAN':\n",
    "            span_file = peaks_file\n",
    "\n",
    "    # Processing single tools information\n",
    "    for tool in TOOLS:\n",
    "        if tool == 'SPAN':\n",
    "            continue\n",
    "        t = df_fdr_peaks[(df_fdr_peaks['tool'] == tool) &\n",
    "                         (df_fdr_peaks['modification'] == 'H3K27ac') &\n",
    "                         (df_fdr_peaks['cell'] == c) &\n",
    "                         (df_fdr_peaks['replicate'] == r)]\n",
    "        if len(t) == 0:\n",
    "            continue\n",
    "        peaks_file = sorted_file(t['file'].values[0])\n",
    "        for name, args in [\n",
    "            (f'SPAN - {tool}', f' -a {span_file} -b {peaks_file} '),\n",
    "            (f'{tool} - SPAN', f' -b {span_file} -a {peaks_file} ')\n",
    "        ]:\n",
    "            !bedtools intersect {args} -wa -v > {tf}\n",
    "            peaks = lines(tf)\n",
    "            row = [c, r, name, peaks]\n",
    "            for state in CHROMM_STATES:\n",
    "                state_file = sorted_file(chromhmm.replace('.bed', f'_{state}.bed'))\n",
    "                !bedtools intersect -a {tf} -b {state_file} -wa -u > {tf2}\n",
    "                state_peaks = lines(tf2)\n",
    "                row.append(state_peaks)\n",
    "            data.append(row)\n",
    "\n",
    "chromhmm_df = pd.DataFrame(data, columns=['cell', 'replicate', 'name', 'peaks'] + CHROMM_STATES)\n",
    "chromhmm_df"
   ],
   "metadata": {
    "collapsed": false,
    "ExecuteTime": {
     "start_time": "2023-05-16T23:36:49.472260Z",
     "end_time": "2023-05-16T23:46:21.977344Z"
    }
   }
  },
  {
   "cell_type": "code",
   "execution_count": null,
   "outputs": [],
   "source": [
    "chromhmm_df_mean = chromhmm_df[['name'] + CHROMM_STATES].groupby('name').mean()\n",
    "chromhmm_df_mean = chromhmm_df_mean.loc[['MACS2', 'MACS2 broad', 'SPAN', 'SICER',\n",
    "                                         'SPAN - MACS2', 'SPAN - MACS2 broad', 'SPAN - SICER',\n",
    "                                         'MACS2 - SPAN', 'MACS2 broad - SPAN', 'SICER - SPAN',\n",
    "                                         ]]\n",
    "chromhmm_df_mean"
   ],
   "metadata": {
    "collapsed": false,
    "ExecuteTime": {
     "start_time": "2023-05-16T23:46:21.975070Z",
     "end_time": "2023-05-16T23:46:22.210615Z"
    }
   }
  },
  {
   "cell_type": "code",
   "execution_count": null,
   "outputs": [],
   "source": [
    "plt.figure(figsize=(6, 3))\n",
    "sns.heatmap(chromhmm_df_mean, cmap='coolwarm')\n",
    "plt.title('Peaks number in ChromHMM states')\n",
    "plt.tight_layout()\n",
    "plt.savefig(f'{GSE26320_PATH_HG38}/pics/H3K27ac_chromhmm.pdf', bbox_inches='tight', dpi=300)\n",
    "plt.show()"
   ],
   "metadata": {
    "collapsed": false,
    "ExecuteTime": {
     "start_time": "2023-05-16T23:46:22.033147Z",
     "end_time": "2023-05-16T23:46:23.251485Z"
    }
   }
  },
  {
   "cell_type": "code",
   "execution_count": null,
   "outputs": [],
   "source": [
    "chromhmm_rel_df = chromhmm_df[['name']].copy()\n",
    "for state in CHROMM_STATES:\n",
    "    chromhmm_rel_df[state] = [d(ov, p) for ov, p in zip(chromhmm_df[state], chromhmm_df['peaks'])]\n",
    "chromhmm_rel_df_mean = chromhmm_rel_df[['name'] + CHROMM_STATES].groupby('name').mean()\n",
    "chromhmm_rel_df_mean = chromhmm_rel_df_mean.loc[['MACS2', 'MACS2 broad', 'SPAN', 'SICER',\n",
    "                                                 'SPAN - MACS2', 'SPAN - MACS2 broad', 'SPAN - SICER',\n",
    "                                                 'MACS2 - SPAN', 'MACS2 broad - SPAN', 'SICER - SPAN',\n",
    "                                                 ]]\n",
    "chromhmm_rel_df_mean"
   ],
   "metadata": {
    "collapsed": false,
    "ExecuteTime": {
     "start_time": "2023-05-16T23:46:22.934073Z",
     "end_time": "2023-05-16T23:46:23.251739Z"
    }
   }
  },
  {
   "cell_type": "code",
   "execution_count": null,
   "outputs": [],
   "source": [
    "plt.figure(figsize=(6, 3))\n",
    "sns.heatmap(chromhmm_rel_df_mean, cmap='coolwarm')\n",
    "plt.title('Peaks fraction in ChromHMM states')\n",
    "plt.tight_layout()\n",
    "plt.savefig(f'{GSE26320_PATH_HG38}/pics/H3K27ac_chromhmm_rel.pdf', bbox_inches='tight', dpi=300)\n",
    "plt.show()"
   ],
   "metadata": {
    "collapsed": false,
    "ExecuteTime": {
     "start_time": "2023-05-16T23:46:22.935949Z",
     "end_time": "2023-05-16T23:46:25.019621Z"
    }
   }
  },
  {
   "cell_type": "code",
   "execution_count": null,
   "outputs": [],
   "source": [],
   "metadata": {
    "collapsed": false,
    "ExecuteTime": {
     "start_time": "2023-05-16T23:46:23.769831Z",
     "end_time": "2023-05-16T23:46:25.020880Z"
    }
   }
  }
 ],
 "metadata": {
  "anaconda-cloud": {},
  "kernelspec": {
   "display_name": "Python 3",
   "language": "python",
   "name": "python3"
  },
  "language_info": {
   "codemirror_mode": {
    "name": "ipython",
    "version": 3
   },
   "file_extension": ".py",
   "mimetype": "text/x-python",
   "name": "python",
   "nbconvert_exporter": "python",
   "pygments_lexer": "ipython3",
   "version": "3.8.5"
  },
  "toc": {
   "nav_menu": {},
   "number_sections": true,
   "sideBar": true,
   "skip_h1_title": false,
   "toc_cell": false,
   "toc_position": {},
   "toc_section_display": "block",
   "toc_window_display": false
  }
 },
 "nbformat": 4,
 "nbformat_minor": 2
}
