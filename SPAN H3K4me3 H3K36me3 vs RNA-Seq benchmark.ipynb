{
 "cells": [
  {
   "cell_type": "markdown",
   "metadata": {},
   "source": [
    "# SPAN Benchmark H3K4me3 H3K36me3 vs RNA-Seq\n",
    "\n",
    "See `SPANBenchmarkH3K4me3H3K36me3Experiment` in `epigenome` project.\n",
    "This experiment provides information per gene.\n",
    "For each gene:\n",
    "* _TPM / _FPKM - transcript per million reads provided by RSEM"
   ]
  },
  {
   "cell_type": "code",
   "execution_count": null,
   "metadata": {
    "ExecuteTime": {
     "end_time": "2019-01-24T09:42:05.555231Z",
     "start_time": "2019-01-24T09:42:03.994631Z"
    }
   },
   "outputs": [],
   "source": [
    "%matplotlib inline\n",
    "%config InlineBackend.figure_format='retina'\n",
    "\n",
    "from IPython.display import display\n",
    "import pandas as pd\n",
    "from tqdm.auto import tqdm\n",
    "import seaborn as sns\n",
    "sns.set_style(\"whitegrid\")\n",
    "import matplotlib.pyplot as plt\n",
    "from matplotlib.backends.backend_pdf import PdfPages\n",
    "import numpy as np\n",
    "import scipy as sp\n",
    "import os"
   ]
  },
  {
   "cell_type": "code",
   "execution_count": null,
   "metadata": {},
   "outputs": [],
   "source": [
    "PATH='/mnt/stripe/bio/experiments/span_benchmark_h3k36me3_h3K4me3/data.tsv'\n",
    "\n",
    "df = pd.read_csv(PATH, sep='\\t', comment='#')\n",
    "# Fix strand records\n",
    "df['strand'] = ['+' if s == 1 else '-' for s in df['strand']]\n",
    "# Filter out only protein coding genes\n",
    "df = df.loc[df['coding'] == 1]\n",
    "print(f'Number of protein coding genes {len(df)}')\n",
    "df"
   ]
  },
  {
   "cell_type": "code",
   "execution_count": null,
   "metadata": {},
   "outputs": [],
   "source": [
    "df['loc'] = df['chr'] + ':' + df['start'].astype(str) + '-' + df['end'].astype(str)\n",
    "df['len'] = df['end'] - df['start']\n",
    "df.sort_values(by=['len'], ascending=False, inplace=True)\n",
    "print('Longest genes')\n",
    "display(df[['gene_symbol', 'loc', 'len']].reset_index(drop=True).iloc[:200,:])\n",
    "print('Gene lengths')\n",
    "print(df['len'].describe())"
   ]
  },
  {
   "cell_type": "markdown",
   "metadata": {},
   "source": [
    "# Peaks statistics\n",
    "\n",
    "```\n",
    "for GAP in 0 5 10; do echo $GAP; for FDR in 0.1 0.01 1E-3 1E-6 1E-10 1E-15 1E-20; do echo $FDR; java -jar ../span-0.12.0.5096.jar analyze -m fit/wgEncodeBroadHistoneGm12878H3k4me3StdAlnRep1_wgEncodeBroadHistoneGm12878ControlStdAlnRep1_200#32f4e.span -cs /mnt/stripe/bio/genomes/hg19/hg19.chrom.sizes --fdr $FDR --gap $GAP --peaks wgEncodeBroadHistoneGm12878H3k4me3StdAlnRep1_${FDR}_${GAP}.peak | tee wgEncodeBroadHistoneGm12878H3k4me3StdAlnRep1_${FDR}_${GAP}.out;  done; done;\n",
    "```"
   ]
  },
  {
   "cell_type": "code",
   "execution_count": null,
   "metadata": {
    "scrolled": false
   },
   "outputs": [],
   "source": [
    "import glob\n",
    "import re\n",
    "\n",
    "DIR = '/mnt/stripe/shpynov/BenchmarkChIPseqPeakCallers_Code/H3K4me3DataFiltered'\n",
    "MACS_PEAKS = DIR + \"/H3K4me3_Rep2_EncodeAlign_TF_Calls/Test_peaks.narrowPeak\"\n",
    "SICER_PEAKS = DIR + \"/wgEncodeBroadHistoneGm12878H3k4me3StdAlnRep1Filtered-W200-G600-islands-summary-FDR0.01\"\n",
    "\n",
    "ts = []\n",
    "for peaksfile in [SICER_PEAKS] + \\\n",
    "    glob.glob(DIR + \"/H3K4me3_Rep2_EncodeAlign_TF_Calls*/*.narrowPeak\") + \\\n",
    "    glob.glob(DIR + \"/H3K4me3_Rep2_EncodeAlign_TF_Calls*/*.broadPeak\") +  \\\n",
    "    glob.glob(DIR + \"/*.peak\"):\n",
    "    name = os.path.basename(peaksfile)\n",
    "    dirname = os.path.basename(os.path.dirname(peaksfile))\n",
    "    tf = pd.read_csv(peaksfile, sep='\\t', header=None)\n",
    "    if 'narrowPeak' in name:\n",
    "        caller = 'MACS2_q0.01'#+ re.sub('H3K4me3_Rep2_EncodeAlign_TF_Calls_', '', dirname)\n",
    "        significance = tf[8] # Minus log10 q\n",
    "    if 'broadPeak' in name:\n",
    "        caller = 'MACS2_q0.01'# + re.sub('H3K4me3_Rep2_EncodeAlign_TF_Calls_', '', dirname)\n",
    "        significance = tf[8] # Minus log10 q\n",
    "    elif 'islands-summary' in name:\n",
    "        caller = 'SICER'\n",
    "        significance = -np.log10(tf[7]) # Minus log10 p adj\n",
    "    elif '.peak' in name:\n",
    "        significance = tf[8] # Minus log10 q      \n",
    "        caller = 'SPAN_' + re.sub('.*Rep1Filtered_|\\.peak', '', name)\n",
    "\n",
    "    t = tf.iloc[:, :3].copy()\n",
    "    t.columns = ['chr', 'start', 'end']\n",
    "    t['len'] = t['end'] - t['start']\n",
    "    t['name'] = name\n",
    "    t['caller'] = caller\n",
    "    t['significance'] = significance\n",
    "    t.sort_values(by=['len'], ascending=False, inplace=True)\n",
    "    t['loc'] = t['chr'] + ':' + t['start'].astype(str) + '-' + t['end'].astype(str)\n",
    "    print(f'Longest peak {name} {caller}\\t' + str(t[['loc', 'len']].reset_index(drop=True).iloc[0, 1]))\n",
    "    tf = pd.read_csv(f'{peaksfile}.rpm', header=None)\n",
    "    tf.columns = ['rpm']\n",
    "    t['rpm'] = tf['rpm']\n",
    "    ts.append(t)\n",
    "dfcallers = pd.concat(ts)\n",
    "dfcallers.head()"
   ]
  },
  {
   "cell_type": "code",
   "execution_count": null,
   "metadata": {
    "scrolled": false
   },
   "outputs": [],
   "source": [
    "# Lenghts distribution\n",
    "for gap in [0, 5, 10]:\n",
    "    plt.figure(figsize=(10, 6))\n",
    "    for caller in sorted(set(dfcallers['caller'])):\n",
    "        if 'SPAN' in caller and not re.match(f'SPAN.*_{gap}$', caller):\n",
    "            continue\n",
    "        tc = dfcallers.loc[dfcallers['caller'] == caller]\n",
    "    #     print(caller)\n",
    "    #     print(tc['len'].describe())\n",
    "        sns.kdeplot(tc['len'], shade=True, label=caller)\n",
    "    plt.xlim(0, 6000)\n",
    "    plt.suptitle(f'Peak lenghts')\n",
    "    plt.show()"
   ]
  },
  {
   "cell_type": "markdown",
   "metadata": {},
   "source": [
    "# Top peaks precision / recall vs expressed genes"
   ]
  },
  {
   "cell_type": "code",
   "execution_count": null,
   "metadata": {},
   "outputs": [],
   "source": [
    "df['tss_start'] = [start-1000 if strand == '+' else end-1000 for (start, end, strand) in \n",
    "                   zip(df['start'], df['end'], df['strand'])] \n",
    "df['tss_end'] = [start+1000 if strand == '+' else end+1000 for (start, end, strand) in \n",
    "                   zip(df['start'], df['end'], df['strand'])] \n",
    "\n",
    "expressed = df.loc[df['TPM'] > 0.5]\n",
    "print(f'Expressed {len(expressed)} out of {len(df)} protein coding')\n",
    "\n",
    "expressed.sort_values(by=['chr', 'start', 'end'], inplace=True)\n",
    "expressed[['chr', 'tss_start', 'tss_end']].to_csv('/tmp/expressed_tss.bed', sep='\\t', index=None, header=None)\n",
    "expressed"
   ]
  },
  {
   "cell_type": "code",
   "execution_count": null,
   "metadata": {},
   "outputs": [],
   "source": [
    "for i in tqdm(range(1, 16)):\n",
    "    for caller in sorted(set(dfcallers['caller'])):\n",
    "        topn = dfcallers.loc[dfcallers['caller']==caller].sort_values(\n",
    "            by='significance', ascending=False\n",
    "        ).head(1000*i).sort_values(by=['chr', 'start', 'end'])\n",
    "        topn[['chr', 'start', 'end']].to_csv(f'/tmp/{caller}_{1000*i}.bed', sep='\\t', index=None, header=None)"
   ]
  },
  {
   "cell_type": "code",
   "execution_count": null,
   "metadata": {},
   "outputs": [],
   "source": [
    "overlapdf = pd.DataFrame(columns=['caller', 'xn', 'recovered_promoter_fraction', 'correct_peak_fraction'],\n",
    "                        dtype=object)\n",
    "for i in tqdm(range(1, 16)):\n",
    "    for caller in sorted(set(dfcallers['caller'])):\n",
    "        overlap = ! bedtools intersect -u -a /tmp/expressed_tss.bed -b /tmp/{caller}_{1000*i}.bed | wc -l\n",
    "        overlap = int(overlap[0].strip())\n",
    "        recovered_promoter_fraction = overlap / len(expressed)\n",
    "        overlap = ! bedtools intersect -u -b /tmp/expressed_tss.bed -a /tmp/{caller}_{1000*i}.bed | wc -l\n",
    "        overlap = int(overlap[0].strip())\n",
    "        correct_peak_fraction = overlap / (1000 * i)\n",
    "        overlapdf.loc[len(overlapdf)] = (caller, 1000*i, recovered_promoter_fraction, correct_peak_fraction)\n",
    "overlapdf"
   ]
  },
  {
   "cell_type": "code",
   "execution_count": null,
   "metadata": {},
   "outputs": [],
   "source": [
    "import plotly.express as px\n",
    "\n",
    "fig = px.line(overlapdf, x=\"recovered_promoter_fraction\", y=\"correct_peak_fraction\", \n",
    "              color=\"caller\", hover_name=\"xn\")\n",
    "fig.update_xaxes(range=[0, 1], row=1, col=1)\n",
    "fig.update_yaxes(range=[0, 1], row=1, col=1)\n",
    "fig.show()"
   ]
  },
  {
   "cell_type": "code",
   "execution_count": null,
   "metadata": {
    "ExecuteTime": {
     "end_time": "2019-01-24T09:43:15.464555Z",
     "start_time": "2019-01-24T09:42:05.559587Z"
    },
    "scrolled": false
   },
   "outputs": [],
   "source": [
    "import plotly.graph_objects as go\n",
    "import plotly.express as px\n",
    "\n",
    "for gap in [0, 5, 10]:\n",
    "    fig = go.Figure()\n",
    "    for caller in sorted(set(overlapdf['caller'])):\n",
    "        if 'SPAN' in caller and not re.match(f'SPAN.*_{gap}$', caller):\n",
    "            continue    \n",
    "        t = overlapdf.loc[overlapdf['caller']==caller]\n",
    "        fig.add_trace(go.Scatter(x=t[\"recovered_promoter_fraction\"], y=t[\"correct_peak_fraction\"], \n",
    "                                 mode='lines+markers',\n",
    "                                 name=caller))\n",
    "    fig.update_xaxes(range=[0, 1], title='recovered_promoter_fraction')\n",
    "    fig.update_yaxes(range=[0, 1], title='correct_peak_fraction')\n",
    "    fig.show()"
   ]
  },
  {
   "cell_type": "markdown",
   "metadata": {},
   "source": [
    "# FRIP vs FDR"
   ]
  },
  {
   "cell_type": "code",
   "execution_count": null,
   "metadata": {},
   "outputs": [],
   "source": [
    "fripdf = pd.DataFrame(columns=['fdr', 'gap', 'frip', 'peaks'], dtype=object)\n",
    "for gap in [0, 5, 10]:\n",
    "    for fdr in ['0.1', '0.01', '0.05', '1E-3', '1E-4', '1E-5', '1E-6', \n",
    "                '1E-7', '1E-8', '1E-9', '1E-10', '1E-15', '1E-20', '1E-25', '1E-30', '1E-40']:\n",
    "        frip = ! cat {DIR}/wgEncodeBroadHistoneGm12878H3k4me3StdAlnRep1Filtered_{fdr}_{gap}.peak.frip\n",
    "        frip = float(frip[0].strip())\n",
    "        peaks = ! cat {DIR}/wgEncodeBroadHistoneGm12878H3k4me3StdAlnRep1Filtered_{fdr}_{gap}.peak | wc -l\n",
    "        peaks = int(peaks[0].strip())\n",
    "        fripdf.loc[len(fripdf)] = (float(fdr), gap, frip, peaks)\n",
    "# fripdf"
   ]
  },
  {
   "cell_type": "code",
   "execution_count": null,
   "metadata": {},
   "outputs": [],
   "source": [
    "import plotly.graph_objects as go\n",
    "import plotly.express as px\n",
    "\n",
    "fripmacs2 = ! cat {MACS_PEAKS}.frip\n",
    "fripmacs2 = float(fripmacs2[0].strip())\n",
    "print(f'FRIP MACS2 {fripmacs2}')\n",
    "\n",
    "fripsicer = ! cat {SICER_PEAKS}.frip\n",
    "fripsicer = float(fripsicer[0].strip())\n",
    "print(f'FRIP SICER {fripsicer}')\n",
    "\n",
    "fig = go.Figure()\n",
    "for gap in sorted(set(fripdf['gap'])):\n",
    "    t = fripdf.loc[fripdf['gap']==gap]\n",
    "    fig.add_trace(go.Scatter(x=np.log10(t[\"fdr\"]), y=t[\"frip\"], \n",
    "                             mode='lines+markers',\n",
    "                             name=gap))\n",
    "\n",
    "fig.add_shape(type=\"line\", x0=-40, y0=fripmacs2, x1=0, y1=fripmacs2, line=dict(\n",
    "                color=\"Black\",\n",
    "                width=1,\n",
    "                dash=\"dot\"))\n",
    "fig.add_shape(type=\"line\", x0=-40, y0=fripsicer, x1=0, y1=fripsicer, line=dict(\n",
    "                color=\"Black\",\n",
    "                width=1,\n",
    "                dash=\"dot\"))\n",
    "\n",
    "fig.update_xaxes(title='log10 fdr')\n",
    "fig.update_yaxes(title='frip')\n",
    "fig.show()"
   ]
  },
  {
   "cell_type": "code",
   "execution_count": null,
   "metadata": {},
   "outputs": [],
   "source": [
    "peaksmacs2 = ! cat {MACS_PEAKS} | wc -l\n",
    "peaksmacs2 = int(peaksmacs2[0].strip())\n",
    "print(f'Peaks MACS2 {peaksmacs2}')\n",
    "\n",
    "peakssicer = ! cat {SICER_PEAKS} | wc -l\n",
    "peakssicer = int(peakssicer[0].strip())\n",
    "print(f'Peaks SICER {peakssicer}')\n",
    "\n",
    "fig = go.Figure()\n",
    "for gap in sorted(set(fripdf['gap'])):\n",
    "    t = fripdf.loc[fripdf['gap']==gap]\n",
    "    fig.add_trace(go.Scatter(x=np.log10(t[\"fdr\"]), y=t[\"peaks\"], \n",
    "                             mode='lines+markers',\n",
    "                             name=gap))\n",
    "\n",
    "fig.add_shape(type=\"line\", x0=-40, y0=peaksmacs2, x1=0, y1=peaksmacs2, line=dict(\n",
    "                color=\"Black\",\n",
    "                width=1,\n",
    "                dash=\"dot\"))\n",
    "fig.add_shape(type=\"line\", x0=-40, y0=peakssicer, x1=0, y1=peakssicer, line=dict(\n",
    "                color=\"Black\",\n",
    "                width=1,\n",
    "                dash=\"dot\"))\n",
    "\n",
    "fig.update_xaxes(title='log10 fdr')\n",
    "fig.update_yaxes(title='peaks')\n",
    "fig.show()"
   ]
  },
  {
   "cell_type": "markdown",
   "metadata": {},
   "source": [
    "# Plot RPKM distribution vs Fdr and Gap"
   ]
  },
  {
   "cell_type": "code",
   "execution_count": null,
   "metadata": {},
   "outputs": [],
   "source": [
    "dfcallers['rpkm'] = dfcallers['rpm'] / (dfcallers['len']/1000)\n",
    "dfcallers.head()"
   ]
  },
  {
   "cell_type": "code",
   "execution_count": null,
   "metadata": {},
   "outputs": [],
   "source": [
    "for gap in [0, 5, 10]:\n",
    "    plt.figure(figsize=(10, 5))\n",
    "    for caller in sorted(set(dfcallers['caller'])):\n",
    "        if 'SPAN' in caller and not re.match(f'SPAN.*_{gap}$', caller):\n",
    "            continue    \n",
    "        t = dfcallers.loc[dfcallers['caller']==caller]\n",
    "        plt.xlim(0, 150)\n",
    "#         plt.ylim(0, 0.08)\n",
    "        sns.kdeplot(t['rpkm'], shade=True, label=caller)\n",
    "    plt.suptitle(f'RPKMs')\n",
    "    plt.show()"
   ]
  },
  {
   "cell_type": "code",
   "execution_count": null,
   "metadata": {},
   "outputs": [],
   "source": [
    "print(list(set(dfcallers['caller'])))"
   ]
  },
  {
   "cell_type": "code",
   "execution_count": null,
   "metadata": {},
   "outputs": [],
   "source": [
    "t = dfcallers.loc[['SPAN' in c for c in dfcallers['caller']]].copy()\n",
    "t['log10fdr'] = [np.log10(float(re.sub('SPAN_|_(0|5|10)$', '', c))) for c in t['caller']]\n",
    "t['gap'] = [re.sub('.*_', '', c) for c in t['caller']]\n",
    "t2 = dfcallers.loc[dfcallers['caller'] == 'MACS2_q0.01'].copy()\n",
    "t2['log10fdr'] = 5\n",
    "t2['gap'] = 'MACS2'\n",
    "t3 = dfcallers.loc[dfcallers['caller'] == 'SICER'].copy()\n",
    "t3['log10fdr'] = 10\n",
    "t3['gap'] = 'SICER'"
   ]
  },
  {
   "cell_type": "code",
   "execution_count": null,
   "metadata": {},
   "outputs": [],
   "source": [
    "# import plotly.express as px\n",
    "# fig = px.box(pd.concat([t, t2, t3]), x=\"log10fdr\", y=\"rpkm\", color=\"gap\")\n",
    "# # fig.update_traces(quartilemethod=\"exclusive\") # or \"inclusive\", or \"linear\" by default\n",
    "# fig.show()"
   ]
  },
  {
   "cell_type": "code",
   "execution_count": null,
   "metadata": {},
   "outputs": [],
   "source": [
    "plt.figure(figsize=(12, 10))\n",
    "sns.violinplot(data=pd.concat([t, t2, t3]), x=\"log10fdr\", y=\"rpkm\", hue=\"gap\")\n",
    "plt.show()"
   ]
  },
  {
   "cell_type": "code",
   "execution_count": null,
   "metadata": {
    "scrolled": false
   },
   "outputs": [],
   "source": [
    "# SPAN RPKM outliers\n",
    "display(t.loc[t['caller'] == 'SPAN_1E-20_0'].sort_values(by=['rpkm'], ascending=False).head(10)[['loc', 'rpkm']])"
   ]
  },
  {
   "cell_type": "code",
   "execution_count": null,
   "metadata": {},
   "outputs": [],
   "source": [
    "# MACS2 RPKM outliers\n",
    "display(t2.sort_values(by=['rpkm'], ascending=False).head(10)[['loc', 'rpkm']])"
   ]
  },
  {
   "cell_type": "code",
   "execution_count": null,
   "metadata": {},
   "outputs": [],
   "source": [
    "# SICER SPAN outliers\n",
    "display(t3.sort_values(by=['rpkm'], ascending=False).head(10)[['loc', 'rpkm']])"
   ]
  },
  {
   "cell_type": "markdown",
   "metadata": {},
   "source": [
    "# H3K36me3\n",
    "```\n",
    "for GAP in 0 5 10; do echo $GAP; for FDR in 0.1 0.01 1E-3 1E-6 1E-10 1E-15 1E-20; do echo $FDR; java -jar ../span-0.12.0.5096.jar analyze -m fit/wgEncodeBroadHistoneGm12878H3k4me3StdAlnRep1_wgEncodeBroadHistoneGm12878ControlStdAlnRep1_200#32f4e.span -cs /mnt/stripe/bio/genomes/hg19/hg19.chrom.sizes --fdr $FDR --gap $GAP --peaks wgEncodeBroadHistoneGm12878H3k4me3StdAlnRep1_${FDR}_${GAP}.peak | tee wgEncodeBroadHistoneGm12878H3k4me3StdAlnRep1_${FDR}_${GAP}.out;  done; done;\n",
    "```"
   ]
  },
  {
   "cell_type": "code",
   "execution_count": null,
   "metadata": {},
   "outputs": [],
   "source": [
    "DIR = '/mnt/stripe/shpynov/BenchmarkChIPseqPeakCallers_Code/H3K36me3DataFiltered'\n",
    "MACS_PEAKS = DIR + \"/H3K36me3_Rep1_EncodeAlign_TF_Calls/Test_peaks.broadPeak\"\n",
    "SICER_PEAKS = DIR + \"/wgEncodeBroadHistoneGm12878H3k36me3StdAlnRep1Filtered-W200-G600-islands-summary-FDR0.01\"\n",
    "\n",
    "ts = []\n",
    "for peaksfile in [SICER_PEAKS] + \\\n",
    "    glob.glob(DIR + \"/**/*.broadPeak\") +  \\\n",
    "    glob.glob(DIR + \"/*.peak\"):\n",
    "    name = os.path.basename(peaksfile)\n",
    "    dirname = os.path.basename(os.path.dirname(peaksfile))\n",
    "    try:\n",
    "        tf = pd.read_csv(peaksfile, sep='\\t', header=None)\n",
    "    except:\n",
    "        tf = pd.DataFrame(columns=range(10), dtype=object)\n",
    "\n",
    "    if 'narrowPeak' in name:\n",
    "        caller = 'MACS2_q0.01'#+ re.sub('H3K4me3_Rep2_EncodeAlign_TF_Calls_', '', dirname)\n",
    "        significance = tf[8] # Minus log10 q\n",
    "    if 'broadPeak' in name:\n",
    "        caller = 'MACS2_q0.01broad'# + re.sub('H3K4me3_Rep2_EncodeAlign_TF_Calls_', '', dirname)\n",
    "        significance = tf[8] # Minus log10 q\n",
    "    elif 'islands-summary' in name:\n",
    "        caller = 'SICER'\n",
    "#         display(tf.sort_values(by=[7]).head(10))\n",
    "        significance = -np.log10(tf[7] + 10e-99) # Minus log10 p adj\n",
    "    elif '.peak' in name:\n",
    "        significance = tf[8] # Minus log10 q      \n",
    "        caller = 'SPAN_' + re.sub('.*Rep1Filtered_|\\.peak', '', name)\n",
    "\n",
    "    t = tf.iloc[:, :3].copy()\n",
    "    t.columns = ['chr', 'start', 'end']\n",
    "    t['len'] = t['end'] - t['start']\n",
    "    t['name'] = name\n",
    "    t['caller'] = caller\n",
    "    t['significance'] = significance\n",
    "    t.sort_values(by=['len'], ascending=False, inplace=True)\n",
    "    t['loc'] = t['chr'] + ':' + t['start'].astype(str) + '-' + t['end'].astype(str)\n",
    "    if len(t) > 0:\n",
    "        print(f'Longest peak {name} {caller}\\t' + str(t[['loc', 'len']].reset_index(drop=True).iloc[0, 1]))\n",
    "        tf = pd.read_csv(f'{peaksfile}.rpm', header=None)\n",
    "        tf.columns = ['rpm']\n",
    "        t['rpm'] = tf['rpm']\n",
    "    else:\n",
    "        print(f'Longest peak {name} {caller}\\t0')        \n",
    "        t['rpm'] = []\n",
    "    ts.append(t)\n",
    "dfcallers = pd.concat(ts)\n",
    "dfcallers['significance'] = dfcallers['significance'].astype(float)\n",
    "\n",
    "dfcallers['rpkm'] = dfcallers['rpm'] / ((dfcallers['len'] + 1)/1000)\n",
    "dfcallers['rpkm'] = dfcallers['rpkm'].astype(float)\n",
    "dfcallers.head()"
   ]
  },
  {
   "cell_type": "code",
   "execution_count": null,
   "metadata": {},
   "outputs": [],
   "source": [
    "# Lenghts distribution\n",
    "for gap in [0, 5, 10]:\n",
    "    plt.figure(figsize=(10, 6))\n",
    "    for caller in sorted(set(dfcallers['caller'])):\n",
    "        if 'SPAN' in caller and not re.match(f'SPAN.*_{gap}$', caller):\n",
    "            continue\n",
    "        tc = dfcallers.loc[dfcallers['caller'] == caller]\n",
    "    #     print(caller)\n",
    "    #     print(tc['len'].describe())\n",
    "        sns.kdeplot(tc['len'], shade=True, label=caller)\n",
    "    plt.xlim(0, 6000)\n",
    "    plt.suptitle(f'Peak lenghts')\n",
    "    plt.show()"
   ]
  },
  {
   "cell_type": "code",
   "execution_count": null,
   "metadata": {},
   "outputs": [],
   "source": [
    "fripdf = pd.DataFrame(columns=['fdr', 'gap', 'frip', 'peaks'], dtype=object)\n",
    "for gap in [0, 5, 10]:\n",
    "    for fdr in ['0.1', '0.01', '0.05', '1E-3', '1E-4', '1E-5', '1E-6', \n",
    "                '1E-7', '1E-8', '1E-9', '1E-10', '1E-15', '1E-20']:\n",
    "        frip = ! cat {DIR}/wgEncodeBroadHistoneGm12878H3k36me3StdAlnRep1Filtered_{fdr}_{gap}.peak.frip\n",
    "        frip = float(frip[0].strip())\n",
    "        peaks = ! cat {DIR}/wgEncodeBroadHistoneGm12878H3k36me3StdAlnRep1Filtered_{fdr}_{gap}.peak | wc -l\n",
    "        peaks = int(peaks[0].strip())\n",
    "        fripdf.loc[len(fripdf)] = (float(fdr), gap, frip, peaks)\n",
    "# fripdf"
   ]
  },
  {
   "cell_type": "code",
   "execution_count": null,
   "metadata": {},
   "outputs": [],
   "source": [
    "for gap in [0, 5, 10]:\n",
    "    plt.figure(figsize=(10, 5))\n",
    "    for caller in sorted(set(dfcallers['caller'])):\n",
    "        if 'SPAN' in caller and not re.match(f'SPAN.*_{gap}$', caller):\n",
    "            continue    \n",
    "        t = dfcallers.loc[dfcallers['caller']==caller]\n",
    "        plt.xlim(0, 150)\n",
    "#         plt.ylim(0, 0.08)\n",
    "        sns.kdeplot(t['rpkm'], shade=True, label=caller)\n",
    "    plt.suptitle(f'RPKMs')\n",
    "    plt.show()"
   ]
  },
  {
   "cell_type": "code",
   "execution_count": null,
   "metadata": {},
   "outputs": [],
   "source": [
    "import plotly.graph_objects as go\n",
    "import plotly.express as px\n",
    "\n",
    "fripmacs2 = ! cat {MACS_PEAKS}.frip\n",
    "fripmacs2 = float(fripmacs2[0].strip())\n",
    "print(f'FRIP MACS2 {fripmacs2}')\n",
    "\n",
    "fripsicer = ! cat {SICER_PEAKS}.frip\n",
    "fripsicer = float(fripsicer[0].strip())\n",
    "print(f'FRIP SICER {fripsicer}')\n",
    "\n",
    "fig = go.Figure()\n",
    "for gap in sorted(set(fripdf['gap'])):\n",
    "    t = fripdf.loc[fripdf['gap']==gap]\n",
    "    fig.add_trace(go.Scatter(x=np.log10(t[\"fdr\"]), y=t[\"frip\"], \n",
    "                             mode='lines+markers',\n",
    "                             name=gap))\n",
    "\n",
    "fig.add_shape(type=\"line\", x0=-20, y0=fripmacs2, x1=0, y1=fripmacs2, line=dict(\n",
    "                color=\"Black\",\n",
    "                width=1,\n",
    "                dash=\"dot\"))\n",
    "fig.add_shape(type=\"line\", x0=-20, y0=fripsicer, x1=0, y1=fripsicer, line=dict(\n",
    "                color=\"Black\",\n",
    "                width=1,\n",
    "                dash=\"dot\"))\n",
    "\n",
    "fig.update_xaxes(title='log10 fdr')\n",
    "fig.update_yaxes(title='frip')\n",
    "fig.show()"
   ]
  },
  {
   "cell_type": "code",
   "execution_count": null,
   "metadata": {},
   "outputs": [],
   "source": [
    "peaksmacs2 = ! cat {MACS_PEAKS} | wc -l\n",
    "peaksmacs2 = int(peaksmacs2[0].strip())\n",
    "print(f'Peaks MACS2 {peaksmacs2}')\n",
    "\n",
    "peakssicer = ! cat {SICER_PEAKS} | wc -l\n",
    "peakssicer = int(peakssicer[0].strip())\n",
    "print(f'Peaks SICER {peakssicer}')\n",
    "\n",
    "fig = go.Figure()\n",
    "for gap in sorted(set(fripdf['gap'])):\n",
    "    t = fripdf.loc[fripdf['gap']==gap]\n",
    "    fig.add_trace(go.Scatter(x=np.log10(t[\"fdr\"]), y=t[\"peaks\"], \n",
    "                             mode='lines+markers',\n",
    "                             name=gap))\n",
    "\n",
    "fig.add_shape(type=\"line\", x0=-20, y0=peaksmacs2, x1=0, y1=peaksmacs2, line=dict(\n",
    "                color=\"Black\",\n",
    "                width=1,\n",
    "                dash=\"dot\"))\n",
    "fig.add_shape(type=\"line\", x0=-20, y0=peakssicer, x1=0, y1=peakssicer, line=dict(\n",
    "                color=\"Black\",\n",
    "                width=1,\n",
    "                dash=\"dot\"))\n",
    "\n",
    "fig.update_xaxes(title='log10 fdr')\n",
    "fig.update_yaxes(title='peaks')\n",
    "fig.show()"
   ]
  },
  {
   "cell_type": "code",
   "execution_count": null,
   "metadata": {},
   "outputs": [],
   "source": [
    "t = dfcallers.loc[['SPAN' in c for c in dfcallers['caller']]].copy()\n",
    "t['log10fdr'] = [np.log10(float(re.sub('SPAN_|_(0|5|10)$', '', c))) for c in t['caller']]\n",
    "t['gap'] = [re.sub('.*_', '', c) for c in t['caller']]\n",
    "t2 = dfcallers.loc[dfcallers['caller'] == 'MACS2_q0.01broad'].copy()\n",
    "t2['log10fdr'] = 5\n",
    "t2['gap'] = 'MACS2'\n",
    "t3 = dfcallers.loc[dfcallers['caller'] == 'SICER'].copy()\n",
    "t3['log10fdr'] = 10\n",
    "t3['gap'] = 'SICER'"
   ]
  },
  {
   "cell_type": "code",
   "execution_count": null,
   "metadata": {},
   "outputs": [],
   "source": [
    "plt.figure(figsize=(12, 10))\n",
    "sns.violinplot(data=pd.concat([t, t2, t3]), x=\"log10fdr\", y=\"rpkm\", hue=\"gap\")\n",
    "plt.show()"
   ]
  },
  {
   "cell_type": "code",
   "execution_count": null,
   "metadata": {},
   "outputs": [],
   "source": []
  }
 ],
 "metadata": {
  "anaconda-cloud": {},
  "kernelspec": {
   "display_name": "Python 3",
   "language": "python",
   "name": "python3"
  },
  "language_info": {
   "codemirror_mode": {
    "name": "ipython",
    "version": 3
   },
   "file_extension": ".py",
   "mimetype": "text/x-python",
   "name": "python",
   "nbconvert_exporter": "python",
   "pygments_lexer": "ipython3",
   "version": "3.8.5"
  },
  "toc": {
   "nav_menu": {},
   "number_sections": true,
   "sideBar": true,
   "skip_h1_title": false,
   "toc_cell": false,
   "toc_position": {},
   "toc_section_display": "block",
   "toc_window_display": false
  }
 },
 "nbformat": 4,
 "nbformat_minor": 2
}
